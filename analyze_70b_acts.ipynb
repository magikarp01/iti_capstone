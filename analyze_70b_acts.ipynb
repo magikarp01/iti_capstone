{
 "cells": [
  {
   "cell_type": "code",
   "execution_count": 2,
   "metadata": {},
   "outputs": [
    {
     "name": "stderr",
     "output_type": "stream",
     "text": [
      "/tmp/ipykernel_105379/82016879.py:8: DeprecationWarning:\n",
      "\n",
      "`magic(...)` is deprecated since IPython 0.13 (warning added in 8.1), use run_line_magic(magic_name, parameter_s).\n",
      "\n",
      "/tmp/ipykernel_105379/82016879.py:9: DeprecationWarning:\n",
      "\n",
      "`magic(...)` is deprecated since IPython 0.13 (warning added in 8.1), use run_line_magic(magic_name, parameter_s).\n",
      "\n"
     ]
    }
   ],
   "source": [
    "# Replicate ITI results, make sure ITI utils and probing utils work right\n",
    "\n",
    "#%%\n",
    "from IPython import get_ipython\n",
    "\n",
    "ipython = get_ipython()\n",
    "# Code to automatically update the TransformerLens code as its edited without restarting the kernel\n",
    "ipython.magic(\"load_ext autoreload\")\n",
    "ipython.magic(\"autoreload 2\")\n",
    "    \n",
    "import plotly.io as pio\n",
    "# pio.renderers.default = \"png\"\n",
    "# Import stuff\n",
    "\n",
    "import torch\n",
    "import torch.nn as nn\n",
    "import torch.nn.functional as F\n",
    "import torch.optim as optim\n",
    "import numpy as np\n",
    "import einops\n",
    "from fancy_einsum import einsum\n",
    "import tqdm.notebook as tqdm\n",
    "import random\n",
    "from pathlib import Path\n",
    "import plotly.express as px\n",
    "from torch.utils.data import DataLoader\n",
    "\n",
    "from jaxtyping import Float, Int\n",
    "from typing import List, Union, Optional\n",
    "from functools import partial\n",
    "import copy\n",
    "\n",
    "import itertools\n",
    "from transformers import AutoModelForCausalLM, AutoConfig, AutoTokenizer\n",
    "import dataclasses\n",
    "import datasets\n",
    "from IPython.display import HTML\n",
    "\n",
    "from tqdm import tqdm\n",
    "# from utils.probing_utils import ModelActs\n",
    "from utils.dataset_utils import CounterFact_Dataset, TQA_MC_Dataset, EZ_Dataset\n",
    "\n",
    "import transformer_lens\n",
    "import transformer_lens.utils as utils\n",
    "from transformer_lens.hook_points import (\n",
    "    HookedRootModule,\n",
    "    HookPoint,\n",
    ")  # Hooking utilities\n",
    "from transformer_lens import HookedTransformer, HookedTransformerConfig, FactoredMatrix, ActivationCache\n",
    "\n",
    "from utils.iti_utils import patch_iti\n",
    "\n",
    "from utils.analytics_utils import plot_probe_accuracies, plot_norm_diffs, plot_cosine_sims\n",
    "import os\n",
    "from torch import Tensor"
   ]
  },
  {
   "cell_type": "markdown",
   "metadata": {},
   "source": [
    "## Format raw activations\n",
    "\n",
    "Format unformatted activation files with each prompt being a single file, into formatted activations of each component's collated acts.\n",
    "\n",
    "Only has to be done once."
   ]
  },
  {
   "cell_type": "code",
   "execution_count": 3,
   "metadata": {},
   "outputs": [],
   "source": [
    "run_id = 5\n",
    "# N = 2550 #upper bound the global (level 0) index\n",
    "d_head = 128\n",
    "n_layers = 80\n",
    "n_heads = 64\n",
    "# num_params = \"70b\"\n",
    "\n",
    "# reformat_acts_for_probing_fully_batched(run_id, N, d_head, n_layers, n_heads, \"honest\")\n",
    "# reformat_acts_for_probing_fully_batched(run_id, N, d_head, n_layers, n_heads, \"liar\")\n",
    "# reformat_acts_for_probing_fully_batched(run_id, N, d_head, n_layers, n_heads, \"neutral\")\n"
   ]
  },
  {
   "cell_type": "markdown",
   "metadata": {},
   "source": [
    "## Initialize ModelActs objects. \n",
    "\n",
    "ModelActsLargeSimple is if we want to store all activations in memory at once (memory inefficient but faster transfer accuracy). \n",
    "\n",
    "ChunkedModelActs is if we don't want to keep activations in memory, instead load in activations in batches of layers and train probes iteratively, then unload activations. Transfer accuracy is much slower."
   ]
  },
  {
   "cell_type": "code",
   "execution_count": 4,
   "metadata": {},
   "outputs": [],
   "source": [
    "from utils.new_probing_utils import ModelActsLargeSimple, ChunkedModelActs\n",
    "\n",
    "elem_acts_honest = ModelActsLargeSimple()\n",
    "elem_acts_neutral = ModelActsLargeSimple()\n",
    "elem_acts_liar = ModelActsLargeSimple()\n",
    "# elem_acts_honest = ChunkedModelActs()\n",
    "# elem_acts_neutral = ChunkedModelActs()\n",
    "# elem_acts_liar = ChunkedModelActs()\n",
    "\n",
    "\n",
    "modes = [\"honest\", \"neutral\", \"liar\"]\n",
    "elem_acts = {\"honest\": elem_acts_honest, \"neutral\": elem_acts_neutral, \"liar\": elem_acts_liar}\n",
    "\n",
    "# modes = [\"honest\", \"liar\"]\n",
    "# elem_acts = {\"honest\": elem_acts_honest, \"liar\": elem_acts_liar}"
   ]
  },
  {
   "cell_type": "code",
   "execution_count": 47,
   "metadata": {},
   "outputs": [
    {
     "ename": "FileNotFoundError",
     "evalue": "[Errno 2] No such file or directory: 'activations/formatted/labels_5_honest_-1_resid_post_azaria_mitchell_facts.pt'",
     "output_type": "error",
     "traceback": [
      "\u001b[0;31m---------------------------------------------------------------------------\u001b[0m",
      "\u001b[0;31mFileNotFoundError\u001b[0m                         Traceback (most recent call last)",
      "Cell \u001b[0;32mIn[47], line 17\u001b[0m\n\u001b[1;32m     14\u001b[0m \u001b[39mif\u001b[39;00m dataset_name \u001b[39mis\u001b[39;00m \u001b[39mnot\u001b[39;00m \u001b[39mNone\u001b[39;00m:\n\u001b[1;32m     15\u001b[0m     file_prefix \u001b[39m+\u001b[39m\u001b[39m=\u001b[39m \u001b[39mf\u001b[39m\u001b[39m\"\u001b[39m\u001b[39m_\u001b[39m\u001b[39m{\u001b[39;00mdataset_name\u001b[39m}\u001b[39;00m\u001b[39m\"\u001b[39m\n\u001b[0;32m---> 17\u001b[0m \u001b[39mwith\u001b[39;00m \u001b[39mopen\u001b[39;49m(\u001b[39mf\u001b[39;49m\u001b[39m\"\u001b[39;49m\u001b[39mactivations/formatted/labels_\u001b[39;49m\u001b[39m{\u001b[39;49;00mrun_id\u001b[39m}\u001b[39;49;00m\u001b[39m_\u001b[39;49m\u001b[39m{\u001b[39;49;00mlabel\u001b[39m}\u001b[39;49;00m\u001b[39m_\u001b[39;49m\u001b[39m{\u001b[39;49;00mseq_pos\u001b[39m}\u001b[39;49;00m\u001b[39m_\u001b[39;49m\u001b[39m{\u001b[39;49;00mact_type\u001b[39m}\u001b[39;49;00m\u001b[39m_\u001b[39;49m\u001b[39m{\u001b[39;49;00mdataset_name\u001b[39m}\u001b[39;49;00m\u001b[39m.pt\u001b[39;49m\u001b[39m\"\u001b[39;49m, \u001b[39m\"\u001b[39;49m\u001b[39mrb\u001b[39;49m\u001b[39m\"\u001b[39;49m) \u001b[39mas\u001b[39;00m handle:\n\u001b[1;32m     18\u001b[0m     labels \u001b[39m=\u001b[39m torch\u001b[39m.\u001b[39mload(handle)\n\u001b[1;32m     19\u001b[0m \u001b[39m# print(labels)\u001b[39;00m\n",
      "File \u001b[0;32m/mnt/ssd-2/phillipguo2/iti_capstone/iti_cap/lib/python3.8/site-packages/IPython/core/interactiveshell.py:284\u001b[0m, in \u001b[0;36m_modified_open\u001b[0;34m(file, *args, **kwargs)\u001b[0m\n\u001b[1;32m    277\u001b[0m \u001b[39mif\u001b[39;00m file \u001b[39min\u001b[39;00m {\u001b[39m0\u001b[39m, \u001b[39m1\u001b[39m, \u001b[39m2\u001b[39m}:\n\u001b[1;32m    278\u001b[0m     \u001b[39mraise\u001b[39;00m \u001b[39mValueError\u001b[39;00m(\n\u001b[1;32m    279\u001b[0m         \u001b[39mf\u001b[39m\u001b[39m\"\u001b[39m\u001b[39mIPython won\u001b[39m\u001b[39m'\u001b[39m\u001b[39mt let you open fd=\u001b[39m\u001b[39m{\u001b[39;00mfile\u001b[39m}\u001b[39;00m\u001b[39m by default \u001b[39m\u001b[39m\"\u001b[39m\n\u001b[1;32m    280\u001b[0m         \u001b[39m\"\u001b[39m\u001b[39mas it is likely to crash IPython. If you know what you are doing, \u001b[39m\u001b[39m\"\u001b[39m\n\u001b[1;32m    281\u001b[0m         \u001b[39m\"\u001b[39m\u001b[39myou can use builtins\u001b[39m\u001b[39m'\u001b[39m\u001b[39m open.\u001b[39m\u001b[39m\"\u001b[39m\n\u001b[1;32m    282\u001b[0m     )\n\u001b[0;32m--> 284\u001b[0m \u001b[39mreturn\u001b[39;00m io_open(file, \u001b[39m*\u001b[39;49margs, \u001b[39m*\u001b[39;49m\u001b[39m*\u001b[39;49mkwargs)\n",
      "\u001b[0;31mFileNotFoundError\u001b[0m: [Errno 2] No such file or directory: 'activations/formatted/labels_5_honest_-1_resid_post_azaria_mitchell_facts.pt'"
     ]
    }
   ],
   "source": [
    "seq_pos = -1\n",
    "act_type = \"z\"\n",
    "act_types = [\"z\", \"mlp_out\", \"resid_mid\"]\n",
    "dataset_name = \"azaria_mitchell_facts\"\n",
    "dont_include = None\n",
    "\n",
    "for label in modes:\n",
    "    \n",
    "    for act_type in act_types:\n",
    "        file_prefix = f\"activations/formatted/run_{run_id}_{label}\"\n",
    "        if seq_pos is not None:\n",
    "            file_prefix += f\"_{seq_pos}\"\n",
    "        file_prefix += f\"_{act_type}\"\n",
    "        if dataset_name is not None:\n",
    "            file_prefix += f\"_{dataset_name}\"\n",
    "\n",
    "        with open(f\"activations/formatted/labels_{run_id}_{label}_{seq_pos}_{act_type}_{dataset_name}.pt\", \"rb\") as handle:\n",
    "            labels = torch.load(handle)\n",
    "        # print(labels)\n",
    "\n",
    "        elem_acts[label].load_acts(file_prefix, n_layers, n_heads=n_heads, labels=labels, exclude_points=dont_include, act_type=act_type)\n",
    "        elem_acts[label].train_probes(act_type, verbose=True, max_iter=10000)\n",
    "    # elem_acts[label].load_acts_per_layer(f\"data/large_run_1/activations/formatted/large_run_1_{label}\", n_layers, n_heads, labels, exclude_points=dont_include)\n"
   ]
  },
  {
   "cell_type": "code",
   "execution_count": 18,
   "metadata": {},
   "outputs": [
    {
     "name": "stdout",
     "output_type": "stream",
     "text": [
      "(599, 8192)\n",
      "(599, 8192)\n",
      "(599, 128)\n",
      "torch.Size([599])\n"
     ]
    }
   ],
   "source": [
    "print(elem_acts[\"honest\"].activations[\"mlp_out\"][1].shape)\n",
    "print(elem_acts[\"honest\"].activations[\"resid_mid\"][1].shape)\n",
    "print(elem_acts[\"honest\"].activations[\"z\"][(1,1)].shape)\n",
    "print(elem_acts[\"honest\"].labels.shape)"
   ]
  },
  {
   "cell_type": "code",
   "execution_count": 29,
   "metadata": {},
   "outputs": [],
   "source": [
    "def acc_tensor_from_dict(probe_accs_dict, n_layers, n_heads=None):\n",
    "    if n_heads is not None:\n",
    "        probe_accs = np.zeros(shape=(n_layers, n_heads))\n",
    "        for layer in range(n_layers):\n",
    "            for head in range(n_heads):\n",
    "                probe_accs[layer, head] = probe_accs_dict[(layer, head)]\n",
    "\n",
    "    else:\n",
    "        probe_accs = np.zeros(shape=(n_layers,))\n",
    "        for layer in range(n_layers):\n",
    "            probe_accs[layer] = probe_accs_dict[layer]\n",
    "    return probe_accs"
   ]
  },
  {
   "cell_type": "code",
   "execution_count": 32,
   "metadata": {},
   "outputs": [
    {
     "name": "stdout",
     "output_type": "stream",
     "text": [
      "0.6919986979166667\n",
      "0.6549397786458333\n",
      "0.6023046875\n"
     ]
    },
    {
     "data": {
      "application/vnd.plotly.v1+json": {
       "config": {
        "plotlyServerURL": "https://plot.ly"
       },
       "data": [
        {
         "hovertemplate": "variable=0<br>index=%{x}<br>value=%{y}<extra></extra>",
         "legendgroup": "0",
         "line": {
          "color": "#636efa",
          "dash": "dot"
         },
         "marker": {
          "color": "blue",
          "size": 3,
          "symbol": "circle"
         },
         "mode": "lines",
         "name": "0",
         "orientation": "v",
         "showlegend": true,
         "type": "scatter",
         "x": [
          0,
          1,
          2,
          3,
          4,
          5,
          6,
          7,
          8,
          9,
          10,
          11,
          12,
          13,
          14,
          15,
          16,
          17,
          18,
          19,
          20,
          21,
          22,
          23,
          24,
          25,
          26,
          27,
          28,
          29,
          30,
          31,
          32,
          33,
          34,
          35,
          36,
          37,
          38,
          39,
          40,
          41,
          42,
          43,
          44,
          45,
          46,
          47,
          48,
          49,
          50,
          51,
          52,
          53,
          54,
          55,
          56,
          57,
          58,
          59,
          60,
          61,
          62,
          63,
          64,
          65,
          66,
          67,
          68,
          69,
          70,
          71,
          72,
          73,
          74,
          75,
          76,
          77,
          78,
          79
         ],
         "xaxis": "x",
         "y": [
          0.48333333333333334,
          0.48333333333333334,
          0.5666666666666667,
          0.5833333333333334,
          0.6083333333333333,
          0.5833333333333334,
          0.5916666666666667,
          0.6166666666666667,
          0.6166666666666667,
          0.7,
          0.7166666666666667,
          0.725,
          0.725,
          0.7666666666666667,
          0.8416666666666667,
          0.85,
          0.8416666666666667,
          0.8166666666666667,
          0.8333333333333334,
          0.9083333333333333,
          0.9083333333333333,
          0.9083333333333333,
          0.9166666666666666,
          0.9333333333333333,
          0.9166666666666666,
          0.9166666666666666,
          0.9166666666666666,
          0.9083333333333333,
          0.925,
          0.925,
          0.9333333333333333,
          0.9333333333333333,
          0.9333333333333333,
          0.9416666666666667,
          0.9416666666666667,
          0.9333333333333333,
          0.9416666666666667,
          0.9333333333333333,
          0.9416666666666667,
          0.925,
          0.9333333333333333,
          0.9333333333333333,
          0.9333333333333333,
          0.9416666666666667,
          0.9333333333333333,
          0.9333333333333333,
          0.9416666666666667,
          0.925,
          0.925,
          0.9166666666666666,
          0.9083333333333333,
          0.9333333333333333,
          0.9333333333333333,
          0.925,
          0.9416666666666667,
          0.9333333333333333,
          0.95,
          0.9333333333333333,
          0.9333333333333333,
          0.925,
          0.9166666666666666,
          0.9166666666666666,
          0.9166666666666666,
          0.9333333333333333,
          0.9333333333333333,
          0.9333333333333333,
          0.9333333333333333,
          0.9333333333333333,
          0.925,
          0.9333333333333333,
          0.925,
          0.925,
          0.925,
          0.9333333333333333,
          0.9333333333333333,
          0.9166666666666666,
          0.9083333333333333,
          0.9166666666666666,
          0.9333333333333333,
          0.9083333333333333
         ],
         "yaxis": "y"
        },
        {
         "hovertemplate": "variable=0<br>index=%{x}<br>value=%{y}<extra></extra>",
         "legendgroup": "0",
         "line": {
          "color": "#636efa",
          "dash": "dot"
         },
         "marker": {
          "color": "blue",
          "size": 3,
          "symbol": "circle"
         },
         "mode": "lines",
         "name": "0",
         "orientation": "v",
         "showlegend": true,
         "type": "scatter",
         "x": [
          0,
          1,
          2,
          3,
          4,
          5,
          6,
          7,
          8,
          9,
          10,
          11,
          12,
          13,
          14,
          15,
          16,
          17,
          18,
          19,
          20,
          21,
          22,
          23,
          24,
          25,
          26,
          27,
          28,
          29,
          30,
          31,
          32,
          33,
          34,
          35,
          36,
          37,
          38,
          39,
          40,
          41,
          42,
          43,
          44,
          45,
          46,
          47,
          48,
          49,
          50,
          51,
          52,
          53,
          54,
          55,
          56,
          57,
          58,
          59,
          60,
          61,
          62,
          63,
          64,
          65,
          66,
          67,
          68,
          69,
          70,
          71,
          72,
          73,
          74,
          75,
          76,
          77,
          78,
          79
         ],
         "xaxis": "x2",
         "y": [
          0.525,
          0.5833333333333334,
          0.5666666666666667,
          0.5333333333333333,
          0.5583333333333333,
          0.6666666666666666,
          0.6333333333333333,
          0.6833333333333333,
          0.7083333333333334,
          0.725,
          0.7333333333333333,
          0.7916666666666666,
          0.8416666666666667,
          0.8666666666666667,
          0.8833333333333333,
          0.8583333333333333,
          0.9,
          0.8833333333333333,
          0.925,
          0.9166666666666666,
          0.9166666666666666,
          0.95,
          0.9416666666666667,
          0.9333333333333333,
          0.95,
          0.9333333333333333,
          0.9333333333333333,
          0.9166666666666666,
          0.9333333333333333,
          0.925,
          0.95,
          0.9333333333333333,
          0.9416666666666667,
          0.95,
          0.95,
          0.925,
          0.95,
          0.9333333333333333,
          0.9333333333333333,
          0.9416666666666667,
          0.925,
          0.9166666666666666,
          0.925,
          0.9166666666666666,
          0.9333333333333333,
          0.925,
          0.9333333333333333,
          0.9083333333333333,
          0.925,
          0.9166666666666666,
          0.9166666666666666,
          0.9,
          0.875,
          0.8666666666666667,
          0.875,
          0.8916666666666667,
          0.8916666666666667,
          0.8583333333333333,
          0.8583333333333333,
          0.8583333333333333,
          0.8583333333333333,
          0.85,
          0.85,
          0.8583333333333333,
          0.8916666666666667,
          0.9083333333333333,
          0.9,
          0.875,
          0.8583333333333333,
          0.875,
          0.8666666666666667,
          0.875,
          0.8666666666666667,
          0.8666666666666667,
          0.9,
          0.9083333333333333,
          0.9083333333333333,
          0.9166666666666666,
          0.8666666666666667,
          0.8916666666666667
         ],
         "yaxis": "y2"
        },
        {
         "hovertemplate": "variable=0<br>index=%{x}<br>value=%{y}<extra></extra>",
         "legendgroup": "0",
         "line": {
          "color": "#636efa",
          "dash": "dot"
         },
         "marker": {
          "color": "blue",
          "size": 3,
          "symbol": "circle"
         },
         "mode": "lines",
         "name": "0",
         "orientation": "v",
         "showlegend": true,
         "type": "scatter",
         "x": [
          0,
          1,
          2,
          3,
          4,
          5,
          6,
          7,
          8,
          9,
          10,
          11,
          12,
          13,
          14,
          15,
          16,
          17,
          18,
          19,
          20,
          21,
          22,
          23,
          24,
          25,
          26,
          27,
          28,
          29,
          30,
          31,
          32,
          33,
          34,
          35,
          36,
          37,
          38,
          39,
          40,
          41,
          42,
          43,
          44,
          45,
          46,
          47,
          48,
          49,
          50,
          51,
          52,
          53,
          54,
          55,
          56,
          57,
          58,
          59,
          60,
          61,
          62,
          63,
          64,
          65,
          66,
          67,
          68,
          69,
          70,
          71,
          72,
          73,
          74,
          75,
          76,
          77,
          78,
          79
         ],
         "xaxis": "x3",
         "y": [
          0.43333333333333335,
          0.43333333333333335,
          0.49166666666666664,
          0.5833333333333334,
          0.5583333333333333,
          0.5833333333333334,
          0.6,
          0.6416666666666667,
          0.6416666666666667,
          0.6916666666666667,
          0.7,
          0.7333333333333333,
          0.725,
          0.7833333333333333,
          0.8166666666666667,
          0.8166666666666667,
          0.8,
          0.8083333333333333,
          0.85,
          0.8416666666666667,
          0.8583333333333333,
          0.8666666666666667,
          0.8583333333333333,
          0.8666666666666667,
          0.8666666666666667,
          0.8666666666666667,
          0.8666666666666667,
          0.8833333333333333,
          0.925,
          0.925,
          0.9166666666666666,
          0.9166666666666666,
          0.9,
          0.9083333333333333,
          0.9,
          0.9,
          0.925,
          0.9,
          0.9333333333333333,
          0.925,
          0.9166666666666666,
          0.9333333333333333,
          0.925,
          0.925,
          0.9083333333333333,
          0.9083333333333333,
          0.9166666666666666,
          0.925,
          0.925,
          0.9166666666666666,
          0.925,
          0.9166666666666666,
          0.925,
          0.9333333333333333,
          0.9333333333333333,
          0.925,
          0.925,
          0.925,
          0.9166666666666666,
          0.925,
          0.9,
          0.9166666666666666,
          0.9166666666666666,
          0.925,
          0.925,
          0.9166666666666666,
          0.9083333333333333,
          0.9,
          0.9083333333333333,
          0.9166666666666666,
          0.8916666666666667,
          0.9083333333333333,
          0.9083333333333333,
          0.9166666666666666,
          0.9083333333333333,
          0.9083333333333333,
          0.9083333333333333,
          0.9083333333333333,
          0.9,
          0.9083333333333333
         ],
         "yaxis": "y3"
        }
       ],
       "layout": {
        "showlegend": false,
        "template": {
         "data": {
          "bar": [
           {
            "error_x": {
             "color": "#2a3f5f"
            },
            "error_y": {
             "color": "#2a3f5f"
            },
            "marker": {
             "line": {
              "color": "#E5ECF6",
              "width": 0.5
             },
             "pattern": {
              "fillmode": "overlay",
              "size": 10,
              "solidity": 0.2
             }
            },
            "type": "bar"
           }
          ],
          "barpolar": [
           {
            "marker": {
             "line": {
              "color": "#E5ECF6",
              "width": 0.5
             },
             "pattern": {
              "fillmode": "overlay",
              "size": 10,
              "solidity": 0.2
             }
            },
            "type": "barpolar"
           }
          ],
          "carpet": [
           {
            "aaxis": {
             "endlinecolor": "#2a3f5f",
             "gridcolor": "white",
             "linecolor": "white",
             "minorgridcolor": "white",
             "startlinecolor": "#2a3f5f"
            },
            "baxis": {
             "endlinecolor": "#2a3f5f",
             "gridcolor": "white",
             "linecolor": "white",
             "minorgridcolor": "white",
             "startlinecolor": "#2a3f5f"
            },
            "type": "carpet"
           }
          ],
          "choropleth": [
           {
            "colorbar": {
             "outlinewidth": 0,
             "ticks": ""
            },
            "type": "choropleth"
           }
          ],
          "contour": [
           {
            "colorbar": {
             "outlinewidth": 0,
             "ticks": ""
            },
            "colorscale": [
             [
              0,
              "#0d0887"
             ],
             [
              0.1111111111111111,
              "#46039f"
             ],
             [
              0.2222222222222222,
              "#7201a8"
             ],
             [
              0.3333333333333333,
              "#9c179e"
             ],
             [
              0.4444444444444444,
              "#bd3786"
             ],
             [
              0.5555555555555556,
              "#d8576b"
             ],
             [
              0.6666666666666666,
              "#ed7953"
             ],
             [
              0.7777777777777778,
              "#fb9f3a"
             ],
             [
              0.8888888888888888,
              "#fdca26"
             ],
             [
              1,
              "#f0f921"
             ]
            ],
            "type": "contour"
           }
          ],
          "contourcarpet": [
           {
            "colorbar": {
             "outlinewidth": 0,
             "ticks": ""
            },
            "type": "contourcarpet"
           }
          ],
          "heatmap": [
           {
            "colorbar": {
             "outlinewidth": 0,
             "ticks": ""
            },
            "colorscale": [
             [
              0,
              "#0d0887"
             ],
             [
              0.1111111111111111,
              "#46039f"
             ],
             [
              0.2222222222222222,
              "#7201a8"
             ],
             [
              0.3333333333333333,
              "#9c179e"
             ],
             [
              0.4444444444444444,
              "#bd3786"
             ],
             [
              0.5555555555555556,
              "#d8576b"
             ],
             [
              0.6666666666666666,
              "#ed7953"
             ],
             [
              0.7777777777777778,
              "#fb9f3a"
             ],
             [
              0.8888888888888888,
              "#fdca26"
             ],
             [
              1,
              "#f0f921"
             ]
            ],
            "type": "heatmap"
           }
          ],
          "heatmapgl": [
           {
            "colorbar": {
             "outlinewidth": 0,
             "ticks": ""
            },
            "colorscale": [
             [
              0,
              "#0d0887"
             ],
             [
              0.1111111111111111,
              "#46039f"
             ],
             [
              0.2222222222222222,
              "#7201a8"
             ],
             [
              0.3333333333333333,
              "#9c179e"
             ],
             [
              0.4444444444444444,
              "#bd3786"
             ],
             [
              0.5555555555555556,
              "#d8576b"
             ],
             [
              0.6666666666666666,
              "#ed7953"
             ],
             [
              0.7777777777777778,
              "#fb9f3a"
             ],
             [
              0.8888888888888888,
              "#fdca26"
             ],
             [
              1,
              "#f0f921"
             ]
            ],
            "type": "heatmapgl"
           }
          ],
          "histogram": [
           {
            "marker": {
             "pattern": {
              "fillmode": "overlay",
              "size": 10,
              "solidity": 0.2
             }
            },
            "type": "histogram"
           }
          ],
          "histogram2d": [
           {
            "colorbar": {
             "outlinewidth": 0,
             "ticks": ""
            },
            "colorscale": [
             [
              0,
              "#0d0887"
             ],
             [
              0.1111111111111111,
              "#46039f"
             ],
             [
              0.2222222222222222,
              "#7201a8"
             ],
             [
              0.3333333333333333,
              "#9c179e"
             ],
             [
              0.4444444444444444,
              "#bd3786"
             ],
             [
              0.5555555555555556,
              "#d8576b"
             ],
             [
              0.6666666666666666,
              "#ed7953"
             ],
             [
              0.7777777777777778,
              "#fb9f3a"
             ],
             [
              0.8888888888888888,
              "#fdca26"
             ],
             [
              1,
              "#f0f921"
             ]
            ],
            "type": "histogram2d"
           }
          ],
          "histogram2dcontour": [
           {
            "colorbar": {
             "outlinewidth": 0,
             "ticks": ""
            },
            "colorscale": [
             [
              0,
              "#0d0887"
             ],
             [
              0.1111111111111111,
              "#46039f"
             ],
             [
              0.2222222222222222,
              "#7201a8"
             ],
             [
              0.3333333333333333,
              "#9c179e"
             ],
             [
              0.4444444444444444,
              "#bd3786"
             ],
             [
              0.5555555555555556,
              "#d8576b"
             ],
             [
              0.6666666666666666,
              "#ed7953"
             ],
             [
              0.7777777777777778,
              "#fb9f3a"
             ],
             [
              0.8888888888888888,
              "#fdca26"
             ],
             [
              1,
              "#f0f921"
             ]
            ],
            "type": "histogram2dcontour"
           }
          ],
          "mesh3d": [
           {
            "colorbar": {
             "outlinewidth": 0,
             "ticks": ""
            },
            "type": "mesh3d"
           }
          ],
          "parcoords": [
           {
            "line": {
             "colorbar": {
              "outlinewidth": 0,
              "ticks": ""
             }
            },
            "type": "parcoords"
           }
          ],
          "pie": [
           {
            "automargin": true,
            "type": "pie"
           }
          ],
          "scatter": [
           {
            "fillpattern": {
             "fillmode": "overlay",
             "size": 10,
             "solidity": 0.2
            },
            "type": "scatter"
           }
          ],
          "scatter3d": [
           {
            "line": {
             "colorbar": {
              "outlinewidth": 0,
              "ticks": ""
             }
            },
            "marker": {
             "colorbar": {
              "outlinewidth": 0,
              "ticks": ""
             }
            },
            "type": "scatter3d"
           }
          ],
          "scattercarpet": [
           {
            "marker": {
             "colorbar": {
              "outlinewidth": 0,
              "ticks": ""
             }
            },
            "type": "scattercarpet"
           }
          ],
          "scattergeo": [
           {
            "marker": {
             "colorbar": {
              "outlinewidth": 0,
              "ticks": ""
             }
            },
            "type": "scattergeo"
           }
          ],
          "scattergl": [
           {
            "marker": {
             "colorbar": {
              "outlinewidth": 0,
              "ticks": ""
             }
            },
            "type": "scattergl"
           }
          ],
          "scattermapbox": [
           {
            "marker": {
             "colorbar": {
              "outlinewidth": 0,
              "ticks": ""
             }
            },
            "type": "scattermapbox"
           }
          ],
          "scatterpolar": [
           {
            "marker": {
             "colorbar": {
              "outlinewidth": 0,
              "ticks": ""
             }
            },
            "type": "scatterpolar"
           }
          ],
          "scatterpolargl": [
           {
            "marker": {
             "colorbar": {
              "outlinewidth": 0,
              "ticks": ""
             }
            },
            "type": "scatterpolargl"
           }
          ],
          "scatterternary": [
           {
            "marker": {
             "colorbar": {
              "outlinewidth": 0,
              "ticks": ""
             }
            },
            "type": "scatterternary"
           }
          ],
          "surface": [
           {
            "colorbar": {
             "outlinewidth": 0,
             "ticks": ""
            },
            "colorscale": [
             [
              0,
              "#0d0887"
             ],
             [
              0.1111111111111111,
              "#46039f"
             ],
             [
              0.2222222222222222,
              "#7201a8"
             ],
             [
              0.3333333333333333,
              "#9c179e"
             ],
             [
              0.4444444444444444,
              "#bd3786"
             ],
             [
              0.5555555555555556,
              "#d8576b"
             ],
             [
              0.6666666666666666,
              "#ed7953"
             ],
             [
              0.7777777777777778,
              "#fb9f3a"
             ],
             [
              0.8888888888888888,
              "#fdca26"
             ],
             [
              1,
              "#f0f921"
             ]
            ],
            "type": "surface"
           }
          ],
          "table": [
           {
            "cells": {
             "fill": {
              "color": "#EBF0F8"
             },
             "line": {
              "color": "white"
             }
            },
            "header": {
             "fill": {
              "color": "#C8D4E3"
             },
             "line": {
              "color": "white"
             }
            },
            "type": "table"
           }
          ]
         },
         "layout": {
          "annotationdefaults": {
           "arrowcolor": "#2a3f5f",
           "arrowhead": 0,
           "arrowwidth": 1
          },
          "autotypenumbers": "strict",
          "coloraxis": {
           "colorbar": {
            "outlinewidth": 0,
            "ticks": ""
           }
          },
          "colorscale": {
           "diverging": [
            [
             0,
             "#8e0152"
            ],
            [
             0.1,
             "#c51b7d"
            ],
            [
             0.2,
             "#de77ae"
            ],
            [
             0.3,
             "#f1b6da"
            ],
            [
             0.4,
             "#fde0ef"
            ],
            [
             0.5,
             "#f7f7f7"
            ],
            [
             0.6,
             "#e6f5d0"
            ],
            [
             0.7,
             "#b8e186"
            ],
            [
             0.8,
             "#7fbc41"
            ],
            [
             0.9,
             "#4d9221"
            ],
            [
             1,
             "#276419"
            ]
           ],
           "sequential": [
            [
             0,
             "#0d0887"
            ],
            [
             0.1111111111111111,
             "#46039f"
            ],
            [
             0.2222222222222222,
             "#7201a8"
            ],
            [
             0.3333333333333333,
             "#9c179e"
            ],
            [
             0.4444444444444444,
             "#bd3786"
            ],
            [
             0.5555555555555556,
             "#d8576b"
            ],
            [
             0.6666666666666666,
             "#ed7953"
            ],
            [
             0.7777777777777778,
             "#fb9f3a"
            ],
            [
             0.8888888888888888,
             "#fdca26"
            ],
            [
             1,
             "#f0f921"
            ]
           ],
           "sequentialminus": [
            [
             0,
             "#0d0887"
            ],
            [
             0.1111111111111111,
             "#46039f"
            ],
            [
             0.2222222222222222,
             "#7201a8"
            ],
            [
             0.3333333333333333,
             "#9c179e"
            ],
            [
             0.4444444444444444,
             "#bd3786"
            ],
            [
             0.5555555555555556,
             "#d8576b"
            ],
            [
             0.6666666666666666,
             "#ed7953"
            ],
            [
             0.7777777777777778,
             "#fb9f3a"
            ],
            [
             0.8888888888888888,
             "#fdca26"
            ],
            [
             1,
             "#f0f921"
            ]
           ]
          },
          "colorway": [
           "#636efa",
           "#EF553B",
           "#00cc96",
           "#ab63fa",
           "#FFA15A",
           "#19d3f3",
           "#FF6692",
           "#B6E880",
           "#FF97FF",
           "#FECB52"
          ],
          "font": {
           "color": "#2a3f5f"
          },
          "geo": {
           "bgcolor": "white",
           "lakecolor": "white",
           "landcolor": "#E5ECF6",
           "showlakes": true,
           "showland": true,
           "subunitcolor": "white"
          },
          "hoverlabel": {
           "align": "left"
          },
          "hovermode": "closest",
          "mapbox": {
           "style": "light"
          },
          "paper_bgcolor": "white",
          "plot_bgcolor": "#E5ECF6",
          "polar": {
           "angularaxis": {
            "gridcolor": "white",
            "linecolor": "white",
            "ticks": ""
           },
           "bgcolor": "#E5ECF6",
           "radialaxis": {
            "gridcolor": "white",
            "linecolor": "white",
            "ticks": ""
           }
          },
          "scene": {
           "xaxis": {
            "backgroundcolor": "#E5ECF6",
            "gridcolor": "white",
            "gridwidth": 2,
            "linecolor": "white",
            "showbackground": true,
            "ticks": "",
            "zerolinecolor": "white"
           },
           "yaxis": {
            "backgroundcolor": "#E5ECF6",
            "gridcolor": "white",
            "gridwidth": 2,
            "linecolor": "white",
            "showbackground": true,
            "ticks": "",
            "zerolinecolor": "white"
           },
           "zaxis": {
            "backgroundcolor": "#E5ECF6",
            "gridcolor": "white",
            "gridwidth": 2,
            "linecolor": "white",
            "showbackground": true,
            "ticks": "",
            "zerolinecolor": "white"
           }
          },
          "shapedefaults": {
           "line": {
            "color": "#2a3f5f"
           }
          },
          "ternary": {
           "aaxis": {
            "gridcolor": "white",
            "linecolor": "white",
            "ticks": ""
           },
           "baxis": {
            "gridcolor": "white",
            "linecolor": "white",
            "ticks": ""
           },
           "bgcolor": "#E5ECF6",
           "caxis": {
            "gridcolor": "white",
            "linecolor": "white",
            "ticks": ""
           }
          },
          "title": {
           "x": 0.05
          },
          "xaxis": {
           "automargin": true,
           "gridcolor": "white",
           "linecolor": "white",
           "ticks": "",
           "title": {
            "standoff": 15
           },
           "zerolinecolor": "white",
           "zerolinewidth": 2
          },
          "yaxis": {
           "automargin": true,
           "gridcolor": "white",
           "linecolor": "white",
           "ticks": "",
           "title": {
            "standoff": 15
           },
           "zerolinecolor": "white",
           "zerolinewidth": 2
          }
         }
        },
        "title": {
         "text": "mlp_out Probe Accuracies, Dataset azaria_mitchell_facts"
        },
        "xaxis": {
         "anchor": "y",
         "domain": [
          0,
          0.2888888888888889
         ],
         "title": {
          "text": "Layer (honest)"
         }
        },
        "xaxis2": {
         "anchor": "y2",
         "domain": [
          0.35555555555555557,
          0.6444444444444445
         ],
         "title": {
          "text": "Layer (neutral)"
         }
        },
        "xaxis3": {
         "anchor": "y3",
         "domain": [
          0.7111111111111111,
          1
         ],
         "title": {
          "text": "Layer (liar)"
         }
        },
        "yaxis": {
         "anchor": "x",
         "domain": [
          0,
          1
         ],
         "title": {
          "text": "Accuracy"
         }
        },
        "yaxis2": {
         "anchor": "x2",
         "domain": [
          0,
          1
         ],
         "title": {
          "text": "Accuracy"
         }
        },
        "yaxis3": {
         "anchor": "x3",
         "domain": [
          0,
          1
         ],
         "title": {
          "text": "Accuracy"
         }
        }
       }
      },
      "text/html": [
       "<div>                            <div id=\"c56391ee-ad46-4639-b310-0f83884db3fc\" class=\"plotly-graph-div\" style=\"height:525px; width:100%;\"></div>            <script type=\"text/javascript\">                require([\"plotly\"], function(Plotly) {                    window.PLOTLYENV=window.PLOTLYENV || {};                                    if (document.getElementById(\"c56391ee-ad46-4639-b310-0f83884db3fc\")) {                    Plotly.newPlot(                        \"c56391ee-ad46-4639-b310-0f83884db3fc\",                        [{\"hovertemplate\":\"variable=0\\u003cbr\\u003eindex=%{x}\\u003cbr\\u003evalue=%{y}\\u003cextra\\u003e\\u003c\\u002fextra\\u003e\",\"legendgroup\":\"0\",\"line\":{\"color\":\"#636efa\",\"dash\":\"dot\"},\"marker\":{\"color\":\"blue\",\"size\":3,\"symbol\":\"circle\"},\"mode\":\"lines\",\"name\":\"0\",\"orientation\":\"v\",\"showlegend\":true,\"x\":[0,1,2,3,4,5,6,7,8,9,10,11,12,13,14,15,16,17,18,19,20,21,22,23,24,25,26,27,28,29,30,31,32,33,34,35,36,37,38,39,40,41,42,43,44,45,46,47,48,49,50,51,52,53,54,55,56,57,58,59,60,61,62,63,64,65,66,67,68,69,70,71,72,73,74,75,76,77,78,79],\"xaxis\":\"x\",\"y\":[0.48333333333333334,0.48333333333333334,0.5666666666666667,0.5833333333333334,0.6083333333333333,0.5833333333333334,0.5916666666666667,0.6166666666666667,0.6166666666666667,0.7,0.7166666666666667,0.725,0.725,0.7666666666666667,0.8416666666666667,0.85,0.8416666666666667,0.8166666666666667,0.8333333333333334,0.9083333333333333,0.9083333333333333,0.9083333333333333,0.9166666666666666,0.9333333333333333,0.9166666666666666,0.9166666666666666,0.9166666666666666,0.9083333333333333,0.925,0.925,0.9333333333333333,0.9333333333333333,0.9333333333333333,0.9416666666666667,0.9416666666666667,0.9333333333333333,0.9416666666666667,0.9333333333333333,0.9416666666666667,0.925,0.9333333333333333,0.9333333333333333,0.9333333333333333,0.9416666666666667,0.9333333333333333,0.9333333333333333,0.9416666666666667,0.925,0.925,0.9166666666666666,0.9083333333333333,0.9333333333333333,0.9333333333333333,0.925,0.9416666666666667,0.9333333333333333,0.95,0.9333333333333333,0.9333333333333333,0.925,0.9166666666666666,0.9166666666666666,0.9166666666666666,0.9333333333333333,0.9333333333333333,0.9333333333333333,0.9333333333333333,0.9333333333333333,0.925,0.9333333333333333,0.925,0.925,0.925,0.9333333333333333,0.9333333333333333,0.9166666666666666,0.9083333333333333,0.9166666666666666,0.9333333333333333,0.9083333333333333],\"yaxis\":\"y\",\"type\":\"scatter\"},{\"hovertemplate\":\"variable=0\\u003cbr\\u003eindex=%{x}\\u003cbr\\u003evalue=%{y}\\u003cextra\\u003e\\u003c\\u002fextra\\u003e\",\"legendgroup\":\"0\",\"line\":{\"color\":\"#636efa\",\"dash\":\"dot\"},\"marker\":{\"color\":\"blue\",\"size\":3,\"symbol\":\"circle\"},\"mode\":\"lines\",\"name\":\"0\",\"orientation\":\"v\",\"showlegend\":true,\"x\":[0,1,2,3,4,5,6,7,8,9,10,11,12,13,14,15,16,17,18,19,20,21,22,23,24,25,26,27,28,29,30,31,32,33,34,35,36,37,38,39,40,41,42,43,44,45,46,47,48,49,50,51,52,53,54,55,56,57,58,59,60,61,62,63,64,65,66,67,68,69,70,71,72,73,74,75,76,77,78,79],\"xaxis\":\"x2\",\"y\":[0.525,0.5833333333333334,0.5666666666666667,0.5333333333333333,0.5583333333333333,0.6666666666666666,0.6333333333333333,0.6833333333333333,0.7083333333333334,0.725,0.7333333333333333,0.7916666666666666,0.8416666666666667,0.8666666666666667,0.8833333333333333,0.8583333333333333,0.9,0.8833333333333333,0.925,0.9166666666666666,0.9166666666666666,0.95,0.9416666666666667,0.9333333333333333,0.95,0.9333333333333333,0.9333333333333333,0.9166666666666666,0.9333333333333333,0.925,0.95,0.9333333333333333,0.9416666666666667,0.95,0.95,0.925,0.95,0.9333333333333333,0.9333333333333333,0.9416666666666667,0.925,0.9166666666666666,0.925,0.9166666666666666,0.9333333333333333,0.925,0.9333333333333333,0.9083333333333333,0.925,0.9166666666666666,0.9166666666666666,0.9,0.875,0.8666666666666667,0.875,0.8916666666666667,0.8916666666666667,0.8583333333333333,0.8583333333333333,0.8583333333333333,0.8583333333333333,0.85,0.85,0.8583333333333333,0.8916666666666667,0.9083333333333333,0.9,0.875,0.8583333333333333,0.875,0.8666666666666667,0.875,0.8666666666666667,0.8666666666666667,0.9,0.9083333333333333,0.9083333333333333,0.9166666666666666,0.8666666666666667,0.8916666666666667],\"yaxis\":\"y2\",\"type\":\"scatter\"},{\"hovertemplate\":\"variable=0\\u003cbr\\u003eindex=%{x}\\u003cbr\\u003evalue=%{y}\\u003cextra\\u003e\\u003c\\u002fextra\\u003e\",\"legendgroup\":\"0\",\"line\":{\"color\":\"#636efa\",\"dash\":\"dot\"},\"marker\":{\"color\":\"blue\",\"size\":3,\"symbol\":\"circle\"},\"mode\":\"lines\",\"name\":\"0\",\"orientation\":\"v\",\"showlegend\":true,\"x\":[0,1,2,3,4,5,6,7,8,9,10,11,12,13,14,15,16,17,18,19,20,21,22,23,24,25,26,27,28,29,30,31,32,33,34,35,36,37,38,39,40,41,42,43,44,45,46,47,48,49,50,51,52,53,54,55,56,57,58,59,60,61,62,63,64,65,66,67,68,69,70,71,72,73,74,75,76,77,78,79],\"xaxis\":\"x3\",\"y\":[0.43333333333333335,0.43333333333333335,0.49166666666666664,0.5833333333333334,0.5583333333333333,0.5833333333333334,0.6,0.6416666666666667,0.6416666666666667,0.6916666666666667,0.7,0.7333333333333333,0.725,0.7833333333333333,0.8166666666666667,0.8166666666666667,0.8,0.8083333333333333,0.85,0.8416666666666667,0.8583333333333333,0.8666666666666667,0.8583333333333333,0.8666666666666667,0.8666666666666667,0.8666666666666667,0.8666666666666667,0.8833333333333333,0.925,0.925,0.9166666666666666,0.9166666666666666,0.9,0.9083333333333333,0.9,0.9,0.925,0.9,0.9333333333333333,0.925,0.9166666666666666,0.9333333333333333,0.925,0.925,0.9083333333333333,0.9083333333333333,0.9166666666666666,0.925,0.925,0.9166666666666666,0.925,0.9166666666666666,0.925,0.9333333333333333,0.9333333333333333,0.925,0.925,0.925,0.9166666666666666,0.925,0.9,0.9166666666666666,0.9166666666666666,0.925,0.925,0.9166666666666666,0.9083333333333333,0.9,0.9083333333333333,0.9166666666666666,0.8916666666666667,0.9083333333333333,0.9083333333333333,0.9166666666666666,0.9083333333333333,0.9083333333333333,0.9083333333333333,0.9083333333333333,0.9,0.9083333333333333],\"yaxis\":\"y3\",\"type\":\"scatter\"}],                        {\"template\":{\"data\":{\"histogram2dcontour\":[{\"type\":\"histogram2dcontour\",\"colorbar\":{\"outlinewidth\":0,\"ticks\":\"\"},\"colorscale\":[[0.0,\"#0d0887\"],[0.1111111111111111,\"#46039f\"],[0.2222222222222222,\"#7201a8\"],[0.3333333333333333,\"#9c179e\"],[0.4444444444444444,\"#bd3786\"],[0.5555555555555556,\"#d8576b\"],[0.6666666666666666,\"#ed7953\"],[0.7777777777777778,\"#fb9f3a\"],[0.8888888888888888,\"#fdca26\"],[1.0,\"#f0f921\"]]}],\"choropleth\":[{\"type\":\"choropleth\",\"colorbar\":{\"outlinewidth\":0,\"ticks\":\"\"}}],\"histogram2d\":[{\"type\":\"histogram2d\",\"colorbar\":{\"outlinewidth\":0,\"ticks\":\"\"},\"colorscale\":[[0.0,\"#0d0887\"],[0.1111111111111111,\"#46039f\"],[0.2222222222222222,\"#7201a8\"],[0.3333333333333333,\"#9c179e\"],[0.4444444444444444,\"#bd3786\"],[0.5555555555555556,\"#d8576b\"],[0.6666666666666666,\"#ed7953\"],[0.7777777777777778,\"#fb9f3a\"],[0.8888888888888888,\"#fdca26\"],[1.0,\"#f0f921\"]]}],\"heatmap\":[{\"type\":\"heatmap\",\"colorbar\":{\"outlinewidth\":0,\"ticks\":\"\"},\"colorscale\":[[0.0,\"#0d0887\"],[0.1111111111111111,\"#46039f\"],[0.2222222222222222,\"#7201a8\"],[0.3333333333333333,\"#9c179e\"],[0.4444444444444444,\"#bd3786\"],[0.5555555555555556,\"#d8576b\"],[0.6666666666666666,\"#ed7953\"],[0.7777777777777778,\"#fb9f3a\"],[0.8888888888888888,\"#fdca26\"],[1.0,\"#f0f921\"]]}],\"heatmapgl\":[{\"type\":\"heatmapgl\",\"colorbar\":{\"outlinewidth\":0,\"ticks\":\"\"},\"colorscale\":[[0.0,\"#0d0887\"],[0.1111111111111111,\"#46039f\"],[0.2222222222222222,\"#7201a8\"],[0.3333333333333333,\"#9c179e\"],[0.4444444444444444,\"#bd3786\"],[0.5555555555555556,\"#d8576b\"],[0.6666666666666666,\"#ed7953\"],[0.7777777777777778,\"#fb9f3a\"],[0.8888888888888888,\"#fdca26\"],[1.0,\"#f0f921\"]]}],\"contourcarpet\":[{\"type\":\"contourcarpet\",\"colorbar\":{\"outlinewidth\":0,\"ticks\":\"\"}}],\"contour\":[{\"type\":\"contour\",\"colorbar\":{\"outlinewidth\":0,\"ticks\":\"\"},\"colorscale\":[[0.0,\"#0d0887\"],[0.1111111111111111,\"#46039f\"],[0.2222222222222222,\"#7201a8\"],[0.3333333333333333,\"#9c179e\"],[0.4444444444444444,\"#bd3786\"],[0.5555555555555556,\"#d8576b\"],[0.6666666666666666,\"#ed7953\"],[0.7777777777777778,\"#fb9f3a\"],[0.8888888888888888,\"#fdca26\"],[1.0,\"#f0f921\"]]}],\"surface\":[{\"type\":\"surface\",\"colorbar\":{\"outlinewidth\":0,\"ticks\":\"\"},\"colorscale\":[[0.0,\"#0d0887\"],[0.1111111111111111,\"#46039f\"],[0.2222222222222222,\"#7201a8\"],[0.3333333333333333,\"#9c179e\"],[0.4444444444444444,\"#bd3786\"],[0.5555555555555556,\"#d8576b\"],[0.6666666666666666,\"#ed7953\"],[0.7777777777777778,\"#fb9f3a\"],[0.8888888888888888,\"#fdca26\"],[1.0,\"#f0f921\"]]}],\"mesh3d\":[{\"type\":\"mesh3d\",\"colorbar\":{\"outlinewidth\":0,\"ticks\":\"\"}}],\"scatter\":[{\"fillpattern\":{\"fillmode\":\"overlay\",\"size\":10,\"solidity\":0.2},\"type\":\"scatter\"}],\"parcoords\":[{\"type\":\"parcoords\",\"line\":{\"colorbar\":{\"outlinewidth\":0,\"ticks\":\"\"}}}],\"scatterpolargl\":[{\"type\":\"scatterpolargl\",\"marker\":{\"colorbar\":{\"outlinewidth\":0,\"ticks\":\"\"}}}],\"bar\":[{\"error_x\":{\"color\":\"#2a3f5f\"},\"error_y\":{\"color\":\"#2a3f5f\"},\"marker\":{\"line\":{\"color\":\"#E5ECF6\",\"width\":0.5},\"pattern\":{\"fillmode\":\"overlay\",\"size\":10,\"solidity\":0.2}},\"type\":\"bar\"}],\"scattergeo\":[{\"type\":\"scattergeo\",\"marker\":{\"colorbar\":{\"outlinewidth\":0,\"ticks\":\"\"}}}],\"scatterpolar\":[{\"type\":\"scatterpolar\",\"marker\":{\"colorbar\":{\"outlinewidth\":0,\"ticks\":\"\"}}}],\"histogram\":[{\"marker\":{\"pattern\":{\"fillmode\":\"overlay\",\"size\":10,\"solidity\":0.2}},\"type\":\"histogram\"}],\"scattergl\":[{\"type\":\"scattergl\",\"marker\":{\"colorbar\":{\"outlinewidth\":0,\"ticks\":\"\"}}}],\"scatter3d\":[{\"type\":\"scatter3d\",\"line\":{\"colorbar\":{\"outlinewidth\":0,\"ticks\":\"\"}},\"marker\":{\"colorbar\":{\"outlinewidth\":0,\"ticks\":\"\"}}}],\"scattermapbox\":[{\"type\":\"scattermapbox\",\"marker\":{\"colorbar\":{\"outlinewidth\":0,\"ticks\":\"\"}}}],\"scatterternary\":[{\"type\":\"scatterternary\",\"marker\":{\"colorbar\":{\"outlinewidth\":0,\"ticks\":\"\"}}}],\"scattercarpet\":[{\"type\":\"scattercarpet\",\"marker\":{\"colorbar\":{\"outlinewidth\":0,\"ticks\":\"\"}}}],\"carpet\":[{\"aaxis\":{\"endlinecolor\":\"#2a3f5f\",\"gridcolor\":\"white\",\"linecolor\":\"white\",\"minorgridcolor\":\"white\",\"startlinecolor\":\"#2a3f5f\"},\"baxis\":{\"endlinecolor\":\"#2a3f5f\",\"gridcolor\":\"white\",\"linecolor\":\"white\",\"minorgridcolor\":\"white\",\"startlinecolor\":\"#2a3f5f\"},\"type\":\"carpet\"}],\"table\":[{\"cells\":{\"fill\":{\"color\":\"#EBF0F8\"},\"line\":{\"color\":\"white\"}},\"header\":{\"fill\":{\"color\":\"#C8D4E3\"},\"line\":{\"color\":\"white\"}},\"type\":\"table\"}],\"barpolar\":[{\"marker\":{\"line\":{\"color\":\"#E5ECF6\",\"width\":0.5},\"pattern\":{\"fillmode\":\"overlay\",\"size\":10,\"solidity\":0.2}},\"type\":\"barpolar\"}],\"pie\":[{\"automargin\":true,\"type\":\"pie\"}]},\"layout\":{\"autotypenumbers\":\"strict\",\"colorway\":[\"#636efa\",\"#EF553B\",\"#00cc96\",\"#ab63fa\",\"#FFA15A\",\"#19d3f3\",\"#FF6692\",\"#B6E880\",\"#FF97FF\",\"#FECB52\"],\"font\":{\"color\":\"#2a3f5f\"},\"hovermode\":\"closest\",\"hoverlabel\":{\"align\":\"left\"},\"paper_bgcolor\":\"white\",\"plot_bgcolor\":\"#E5ECF6\",\"polar\":{\"bgcolor\":\"#E5ECF6\",\"angularaxis\":{\"gridcolor\":\"white\",\"linecolor\":\"white\",\"ticks\":\"\"},\"radialaxis\":{\"gridcolor\":\"white\",\"linecolor\":\"white\",\"ticks\":\"\"}},\"ternary\":{\"bgcolor\":\"#E5ECF6\",\"aaxis\":{\"gridcolor\":\"white\",\"linecolor\":\"white\",\"ticks\":\"\"},\"baxis\":{\"gridcolor\":\"white\",\"linecolor\":\"white\",\"ticks\":\"\"},\"caxis\":{\"gridcolor\":\"white\",\"linecolor\":\"white\",\"ticks\":\"\"}},\"coloraxis\":{\"colorbar\":{\"outlinewidth\":0,\"ticks\":\"\"}},\"colorscale\":{\"sequential\":[[0.0,\"#0d0887\"],[0.1111111111111111,\"#46039f\"],[0.2222222222222222,\"#7201a8\"],[0.3333333333333333,\"#9c179e\"],[0.4444444444444444,\"#bd3786\"],[0.5555555555555556,\"#d8576b\"],[0.6666666666666666,\"#ed7953\"],[0.7777777777777778,\"#fb9f3a\"],[0.8888888888888888,\"#fdca26\"],[1.0,\"#f0f921\"]],\"sequentialminus\":[[0.0,\"#0d0887\"],[0.1111111111111111,\"#46039f\"],[0.2222222222222222,\"#7201a8\"],[0.3333333333333333,\"#9c179e\"],[0.4444444444444444,\"#bd3786\"],[0.5555555555555556,\"#d8576b\"],[0.6666666666666666,\"#ed7953\"],[0.7777777777777778,\"#fb9f3a\"],[0.8888888888888888,\"#fdca26\"],[1.0,\"#f0f921\"]],\"diverging\":[[0,\"#8e0152\"],[0.1,\"#c51b7d\"],[0.2,\"#de77ae\"],[0.3,\"#f1b6da\"],[0.4,\"#fde0ef\"],[0.5,\"#f7f7f7\"],[0.6,\"#e6f5d0\"],[0.7,\"#b8e186\"],[0.8,\"#7fbc41\"],[0.9,\"#4d9221\"],[1,\"#276419\"]]},\"xaxis\":{\"gridcolor\":\"white\",\"linecolor\":\"white\",\"ticks\":\"\",\"title\":{\"standoff\":15},\"zerolinecolor\":\"white\",\"automargin\":true,\"zerolinewidth\":2},\"yaxis\":{\"gridcolor\":\"white\",\"linecolor\":\"white\",\"ticks\":\"\",\"title\":{\"standoff\":15},\"zerolinecolor\":\"white\",\"automargin\":true,\"zerolinewidth\":2},\"scene\":{\"xaxis\":{\"backgroundcolor\":\"#E5ECF6\",\"gridcolor\":\"white\",\"linecolor\":\"white\",\"showbackground\":true,\"ticks\":\"\",\"zerolinecolor\":\"white\",\"gridwidth\":2},\"yaxis\":{\"backgroundcolor\":\"#E5ECF6\",\"gridcolor\":\"white\",\"linecolor\":\"white\",\"showbackground\":true,\"ticks\":\"\",\"zerolinecolor\":\"white\",\"gridwidth\":2},\"zaxis\":{\"backgroundcolor\":\"#E5ECF6\",\"gridcolor\":\"white\",\"linecolor\":\"white\",\"showbackground\":true,\"ticks\":\"\",\"zerolinecolor\":\"white\",\"gridwidth\":2}},\"shapedefaults\":{\"line\":{\"color\":\"#2a3f5f\"}},\"annotationdefaults\":{\"arrowcolor\":\"#2a3f5f\",\"arrowhead\":0,\"arrowwidth\":1},\"geo\":{\"bgcolor\":\"white\",\"landcolor\":\"#E5ECF6\",\"subunitcolor\":\"white\",\"showland\":true,\"showlakes\":true,\"lakecolor\":\"white\"},\"title\":{\"x\":0.05},\"mapbox\":{\"style\":\"light\"}}},\"xaxis\":{\"anchor\":\"y\",\"domain\":[0.0,0.2888888888888889],\"title\":{\"text\":\"Layer (honest)\"}},\"yaxis\":{\"anchor\":\"x\",\"domain\":[0.0,1.0],\"title\":{\"text\":\"Accuracy\"}},\"xaxis2\":{\"anchor\":\"y2\",\"domain\":[0.35555555555555557,0.6444444444444445],\"title\":{\"text\":\"Layer (neutral)\"}},\"yaxis2\":{\"anchor\":\"x2\",\"domain\":[0.0,1.0],\"title\":{\"text\":\"Accuracy\"}},\"xaxis3\":{\"anchor\":\"y3\",\"domain\":[0.7111111111111111,1.0],\"title\":{\"text\":\"Layer (liar)\"}},\"yaxis3\":{\"anchor\":\"x3\",\"domain\":[0.0,1.0],\"title\":{\"text\":\"Accuracy\"}},\"title\":{\"text\":\"mlp_out Probe Accuracies, Dataset azaria_mitchell_facts\"},\"showlegend\":false},                        {\"responsive\": true}                    ).then(function(){\n",
       "                            \n",
       "var gd = document.getElementById('c56391ee-ad46-4639-b310-0f83884db3fc');\n",
       "var x = new MutationObserver(function (mutations, observer) {{\n",
       "        var display = window.getComputedStyle(gd).display;\n",
       "        if (!display || display === 'none') {{\n",
       "            console.log([gd, 'removed!']);\n",
       "            Plotly.purge(gd);\n",
       "            observer.disconnect();\n",
       "        }}\n",
       "}});\n",
       "\n",
       "// Listen for the removal of the full notebook cells\n",
       "var notebookContainer = gd.closest('#notebook-container');\n",
       "if (notebookContainer) {{\n",
       "    x.observe(notebookContainer, {childList: true});\n",
       "}}\n",
       "\n",
       "// Listen for the clearing of the current output cell\n",
       "var outputEl = gd.closest('.output');\n",
       "if (outputEl) {{\n",
       "    x.observe(outputEl, {childList: true});\n",
       "}}\n",
       "\n",
       "                        })                };                });            </script>        </div>"
      ]
     },
     "metadata": {},
     "output_type": "display_data"
    }
   ],
   "source": [
    "act_type = \"mlp_out\"\n",
    "\n",
    "from plotly.subplots import make_subplots\n",
    "fig = make_subplots(rows=1, cols=3)\n",
    "\n",
    "from utils.analytics_utils import plot_z_probe_accuracies, plot_resid_probe_accuracies\n",
    "\n",
    "for i, label in enumerate(modes):\n",
    "    if act_type == \"z\":\n",
    "        px_fig = plot_z_probe_accuracies(elem_acts[label].probe_accs[act_type], n_layers, n_heads, title = f\"{label} {act_type} Probe Accuracies\")\n",
    "    else:\n",
    "        px_fig = plot_resid_probe_accuracies(elem_acts[label].probe_accs[act_type], n_layers, title = f\"{label} {act_type} Probe Accuracies\")\n",
    "    fig.add_trace(\n",
    "        px_fig['data'][0],  # add the trace from plotly express figure\n",
    "        row=1,\n",
    "        col=i+1\n",
    "    )\n",
    "\n",
    "    if act_type == \"z\":\n",
    "        fig.update_xaxes(title_text=f\"Heads ({label})\", row=1, col=i+1)\n",
    "        fig.update_yaxes(title_text=px_fig.layout.yaxis.title.text, row=1, col=i+1)\n",
    "    else:\n",
    "        fig.update_xaxes(title_text=f\"Layer ({label})\", row=1, col=i+1)\n",
    "        fig.update_yaxes(title_text=px_fig.layout.yaxis.title.text, row=1, col=i+1)\n",
    "\n",
    "    print(acc_tensor_from_dict(elem_acts[label].probe_accs[\"z\"], n_layers, n_heads).mean())\n",
    "\n",
    "fig.update_layout(title_text=f\"{act_type} Probe Accuracies, Dataset {dataset_name}\", showlegend=False)\n",
    "fig.show()"
   ]
  },
  {
   "cell_type": "code",
   "execution_count": 45,
   "metadata": {},
   "outputs": [
    {
     "name": "stderr",
     "output_type": "stream",
     "text": [
      "  0%|          | 0/80 [00:00<?, ?it/s]"
     ]
    },
    {
     "name": "stderr",
     "output_type": "stream",
     "text": [
      "100%|██████████| 80/80 [00:01<00:00, 54.39it/s]\n",
      "100%|██████████| 80/80 [00:01<00:00, 56.02it/s]\n",
      "100%|██████████| 80/80 [00:01<00:00, 62.47it/s]\n",
      "100%|██████████| 80/80 [00:01<00:00, 67.92it/s]\n",
      "100%|██████████| 80/80 [00:01<00:00, 66.89it/s]\n",
      "100%|██████████| 80/80 [00:01<00:00, 66.32it/s]\n",
      "100%|██████████| 80/80 [00:01<00:00, 67.59it/s]\n",
      "100%|██████████| 80/80 [00:01<00:00, 68.77it/s]\n",
      "100%|██████████| 80/80 [00:01<00:00, 67.76it/s]\n"
     ]
    }
   ],
   "source": [
    "act_type = \"resid_mid\"\n",
    "if act_type == \"z\":\n",
    "    transfer_acc_tensors = np.zeros(shape=(len(modes),len(modes), n_layers, n_heads))\n",
    "else:\n",
    "    transfer_acc_tensors = np.zeros(shape=(len(modes), len(modes), n_layers))\n",
    "\n",
    "fig = make_subplots(rows=3, cols=3)\n",
    "\n",
    "for idx1, mode in enumerate(modes, start=1):\n",
    "    for idx2, other_mode in enumerate(modes, start=1):\n",
    "        transfer_accs = {}\n",
    "        for probe_index in tqdm(elem_acts[\"honest\"].probes[act_type]):\n",
    "            transfer_accs[probe_index] = elem_acts[mode].get_probe_transfer_acc(act_type, probe_index, elem_acts[other_mode])\n",
    "        \n",
    "        if act_type == \"z\":\n",
    "            px_fig = plot_z_probe_accuracies(transfer_accs, n_layers, n_heads, title = f\"Transfer Probe Accuracies, {act_type} Probes from {mode} tested on {other_mode}\")\n",
    "        else:\n",
    "            px_fig = plot_resid_probe_accuracies(transfer_accs, n_layers, title = f\"Transfer Probe Accuracies, {act_type} Probes from {mode} tested on {other_mode}\")\n",
    "\n",
    "        fig.add_trace(\n",
    "            px_fig['data'][0],  # add the trace from plotly express figure\n",
    "            row=idx1,\n",
    "            col=idx2\n",
    "        )\n",
    "        if act_type == \"z\":\n",
    "            transfer_acc_tensors[idx1-1, idx2-1] = acc_tensor_from_dict(transfer_accs, n_layers, n_heads)\n",
    "        else:\n",
    "            transfer_acc_tensors[idx1-1, idx2-1] = acc_tensor_from_dict(transfer_accs, n_layers)"
   ]
  },
  {
   "cell_type": "code",
   "execution_count": 43,
   "metadata": {},
   "outputs": [
    {
     "name": "stdout",
     "output_type": "stream",
     "text": [
      "For probes trained on honest, sum of transfer accuracies is 151.86644407345577\n",
      "For probes trained on neutral, sum of transfer accuracies is 159.30717863105176\n",
      "For probes trained on liar, sum of transfer accuracies is 148.77462437395658\n"
     ]
    }
   ],
   "source": [
    "for idx1, mode in enumerate(modes, start=0):\n",
    "    print(f\"For probes trained on {mode}, sum of transfer accuracies is {transfer_acc_tensors[idx1].sum()}\")"
   ]
  },
  {
   "cell_type": "code",
   "execution_count": 46,
   "metadata": {},
   "outputs": [
    {
     "data": {
      "application/vnd.plotly.v1+json": {
       "config": {
        "plotlyServerURL": "https://plot.ly"
       },
       "data": [
        {
         "hovertemplate": "variable=0<br>index=%{x}<br>value=%{y}<extra></extra>",
         "legendgroup": "0",
         "line": {
          "color": "#636efa",
          "dash": "dot"
         },
         "marker": {
          "color": "blue",
          "size": 3,
          "symbol": "circle"
         },
         "mode": "lines",
         "name": "0",
         "orientation": "v",
         "showlegend": true,
         "type": "scatter",
         "x": [
          0,
          1,
          2,
          3,
          4,
          5,
          6,
          7,
          8,
          9,
          10,
          11,
          12,
          13,
          14,
          15,
          16,
          17,
          18,
          19,
          20,
          21,
          22,
          23,
          24,
          25,
          26,
          27,
          28,
          29,
          30,
          31,
          32,
          33,
          34,
          35,
          36,
          37,
          38,
          39,
          40,
          41,
          42,
          43,
          44,
          45,
          46,
          47,
          48,
          49,
          50,
          51,
          52,
          53,
          54,
          55,
          56,
          57,
          58,
          59,
          60,
          61,
          62,
          63,
          64,
          65,
          66,
          67,
          68,
          69,
          70,
          71,
          72,
          73,
          74,
          75,
          76,
          77,
          78,
          79
         ],
         "xaxis": "x",
         "y": [
          0.5058430717863105,
          0.5575959933222037,
          0.5843071786310517,
          0.6143572621035058,
          0.6277128547579299,
          0.654424040066778,
          0.671118530884808,
          0.7128547579298832,
          0.7429048414023373,
          0.7746243739565943,
          0.8196994991652755,
          0.8230383973288815,
          0.8230383973288815,
          0.8547579298831386,
          0.8831385642737897,
          0.8931552587646077,
          0.8914858096828047,
          0.9098497495826378,
          0.9248747913188647,
          0.9565943238731218,
          0.9666110183639399,
          0.9682804674457429,
          0.9682804674457429,
          0.9716193656093489,
          0.9716193656093489,
          0.9732888146911519,
          0.9732888146911519,
          0.9782971619365609,
          0.9816360601001669,
          0.9833055091819699,
          0.9833055091819699,
          0.9849749582637729,
          0.9849749582637729,
          0.9849749582637729,
          0.9849749582637729,
          0.9849749582637729,
          0.986644407345576,
          0.988313856427379,
          0.986644407345576,
          0.986644407345576,
          0.9849749582637729,
          0.9833055091819699,
          0.9833055091819699,
          0.9849749582637729,
          0.9849749582637729,
          0.9833055091819699,
          0.9833055091819699,
          0.9849749582637729,
          0.9849749582637729,
          0.9849749582637729,
          0.9833055091819699,
          0.9833055091819699,
          0.9849749582637729,
          0.9833055091819699,
          0.9849749582637729,
          0.9849749582637729,
          0.9849749582637729,
          0.9849749582637729,
          0.9849749582637729,
          0.9849749582637729,
          0.9849749582637729,
          0.9849749582637729,
          0.9849749582637729,
          0.9849749582637729,
          0.9849749582637729,
          0.9849749582637729,
          0.9849749582637729,
          0.9849749582637729,
          0.9849749582637729,
          0.9849749582637729,
          0.9849749582637729,
          0.9833055091819699,
          0.9816360601001669,
          0.9816360601001669,
          0.9816360601001669,
          0.9833055091819699,
          0.9816360601001669,
          0.9816360601001669,
          0.9816360601001669,
          0.9816360601001669
         ],
         "yaxis": "y"
        },
        {
         "hovertemplate": "variable=0<br>index=%{x}<br>value=%{y}<extra></extra>",
         "legendgroup": "0",
         "line": {
          "color": "#636efa",
          "dash": "dot"
         },
         "marker": {
          "color": "blue",
          "size": 3,
          "symbol": "circle"
         },
         "mode": "lines",
         "name": "0",
         "orientation": "v",
         "showlegend": true,
         "type": "scatter",
         "x": [
          0,
          1,
          2,
          3,
          4,
          5,
          6,
          7,
          8,
          9,
          10,
          11,
          12,
          13,
          14,
          15,
          16,
          17,
          18,
          19,
          20,
          21,
          22,
          23,
          24,
          25,
          26,
          27,
          28,
          29,
          30,
          31,
          32,
          33,
          34,
          35,
          36,
          37,
          38,
          39,
          40,
          41,
          42,
          43,
          44,
          45,
          46,
          47,
          48,
          49,
          50,
          51,
          52,
          53,
          54,
          55,
          56,
          57,
          58,
          59,
          60,
          61,
          62,
          63,
          64,
          65,
          66,
          67,
          68,
          69,
          70,
          71,
          72,
          73,
          74,
          75,
          76,
          77,
          78,
          79
         ],
         "xaxis": "x2",
         "y": [
          0.4974958263772955,
          0.4974958263772955,
          0.4974958263772955,
          0.5108514190317195,
          0.5425709515859767,
          0.5792988313856428,
          0.5058430717863105,
          0.5876460767946577,
          0.5191986644407346,
          0.5025041736227045,
          0.5659432387312187,
          0.5642737896494157,
          0.5242070116861436,
          0.5091819699499165,
          0.5342237061769616,
          0.48914858096828046,
          0.5959933222036727,
          0.6477462437395659,
          0.5943238731218697,
          0.6310517529215359,
          0.7662771285475793,
          0.656093489148581,
          0.5208681135225376,
          0.4674457429048414,
          0.4657762938230384,
          0.4257095158597663,
          0.4724540901502504,
          0.5692821368948247,
          0.5058430717863105,
          0.5459098497495827,
          0.6527545909849749,
          0.7529215358931552,
          0.6944908180300501,
          0.6477462437395659,
          0.4974958263772955,
          0.4974958263772955,
          0.5125208681135225,
          0.671118530884808,
          0.6944908180300501,
          0.6510851419031719,
          0.6510851419031719,
          0.6527545909849749,
          0.6410684474123539,
          0.664440734557596,
          0.6310517529215359,
          0.6444073455759599,
          0.6360601001669449,
          0.6343906510851419,
          0.5692821368948247,
          0.5759599332220368,
          0.5859766277128547,
          0.5876460767946577,
          0.5843071786310517,
          0.5642737896494157,
          0.5726210350584308,
          0.5692821368948247,
          0.5792988313856428,
          0.5909849749582637,
          0.5926544240400667,
          0.5525876460767947,
          0.5575959933222037,
          0.5659432387312187,
          0.5759599332220368,
          0.5659432387312187,
          0.5709515859766278,
          0.5692821368948247,
          0.5776293823038398,
          0.5792988313856428,
          0.5726210350584308,
          0.5592654424040067,
          0.5859766277128547,
          0.5692821368948247,
          0.5926544240400667,
          0.5893155258764607,
          0.5976627712854758,
          0.5642737896494157,
          0.5509181969949917,
          0.5091819699499165,
          0.5008347245409015,
          0.4974958263772955
         ],
         "yaxis": "y2"
        },
        {
         "hovertemplate": "variable=0<br>index=%{x}<br>value=%{y}<extra></extra>",
         "legendgroup": "0",
         "line": {
          "color": "#636efa",
          "dash": "dot"
         },
         "marker": {
          "color": "blue",
          "size": 3,
          "symbol": "circle"
         },
         "mode": "lines",
         "name": "0",
         "orientation": "v",
         "showlegend": true,
         "type": "scatter",
         "x": [
          0,
          1,
          2,
          3,
          4,
          5,
          6,
          7,
          8,
          9,
          10,
          11,
          12,
          13,
          14,
          15,
          16,
          17,
          18,
          19,
          20,
          21,
          22,
          23,
          24,
          25,
          26,
          27,
          28,
          29,
          30,
          31,
          32,
          33,
          34,
          35,
          36,
          37,
          38,
          39,
          40,
          41,
          42,
          43,
          44,
          45,
          46,
          47,
          48,
          49,
          50,
          51,
          52,
          53,
          54,
          55,
          56,
          57,
          58,
          59,
          60,
          61,
          62,
          63,
          64,
          65,
          66,
          67,
          68,
          69,
          70,
          71,
          72,
          73,
          74,
          75,
          76,
          77,
          78,
          79
         ],
         "xaxis": "x3",
         "y": [
          0.5025041736227045,
          0.5258764607679466,
          0.5575959933222037,
          0.5459098497495827,
          0.6143572621035058,
          0.656093489148581,
          0.5509181969949917,
          0.5175292153589316,
          0.5108514190317195,
          0.5843071786310517,
          0.5676126878130217,
          0.7028380634390651,
          0.6126878130217028,
          0.8380634390651085,
          0.7762938230383973,
          0.8664440734557596,
          0.7395659432387313,
          0.7312186978297162,
          0.5325542570951586,
          0.9148580968280468,
          0.5025041736227045,
          0.5041736227045075,
          0.5075125208681135,
          0.7195325542570952,
          0.6961602671118531,
          0.5525876460767947,
          0.8797996661101837,
          0.6110183639398998,
          0.8631051752921536,
          0.4974958263772955,
          0.679465776293823,
          0.7395659432387313,
          0.5876460767946577,
          0.4991652754590985,
          0.4974958263772955,
          0.4974958263772955,
          0.4974958263772955,
          0.4974958263772955,
          0.4991652754590985,
          0.5008347245409015,
          0.31886477462437396,
          0.4524207011686144,
          0.48747913188647746,
          0.49081803005008345,
          0.4958263772954925,
          0.4974958263772955,
          0.4707846410684474,
          0.4958263772954925,
          0.48747913188647746,
          0.4590984974958264,
          0.41235392320534225,
          0.4507512520868113,
          0.4240400667779633,
          0.2704507512520868,
          0.2654424040066778,
          0.24707846410684475,
          0.2621035058430718,
          0.2838063439065108,
          0.27879799666110183,
          0.2687813021702838,
          0.2921535893155259,
          0.2921535893155259,
          0.27378964941569284,
          0.24874791318864775,
          0.3105175292153589,
          0.31552587646076796,
          0.2637729549248748,
          0.2637729549248748,
          0.25375626043405675,
          0.27712854757929883,
          0.35225375626043404,
          0.4040066777963272,
          0.4540901502504174,
          0.4373956594323873,
          0.4290484140233723,
          0.4791318864774624,
          0.41235392320534225,
          0.41235392320534225,
          0.48914858096828046,
          0.4958263772954925
         ],
         "yaxis": "y3"
        },
        {
         "hovertemplate": "variable=0<br>index=%{x}<br>value=%{y}<extra></extra>",
         "legendgroup": "0",
         "line": {
          "color": "#636efa",
          "dash": "dot"
         },
         "marker": {
          "color": "blue",
          "size": 3,
          "symbol": "circle"
         },
         "mode": "lines",
         "name": "0",
         "orientation": "v",
         "showlegend": true,
         "type": "scatter",
         "x": [
          0,
          1,
          2,
          3,
          4,
          5,
          6,
          7,
          8,
          9,
          10,
          11,
          12,
          13,
          14,
          15,
          16,
          17,
          18,
          19,
          20,
          21,
          22,
          23,
          24,
          25,
          26,
          27,
          28,
          29,
          30,
          31,
          32,
          33,
          34,
          35,
          36,
          37,
          38,
          39,
          40,
          41,
          42,
          43,
          44,
          45,
          46,
          47,
          48,
          49,
          50,
          51,
          52,
          53,
          54,
          55,
          56,
          57,
          58,
          59,
          60,
          61,
          62,
          63,
          64,
          65,
          66,
          67,
          68,
          69,
          70,
          71,
          72,
          73,
          74,
          75,
          76,
          77,
          78,
          79
         ],
         "xaxis": "x4",
         "y": [
          0.4974958263772955,
          0.4974958263772955,
          0.5025041736227045,
          0.5025041736227045,
          0.4991652754590985,
          0.5025041736227045,
          0.5025041736227045,
          0.5025041736227045,
          0.5025041736227045,
          0.5025041736227045,
          0.5025041736227045,
          0.5025041736227045,
          0.5025041736227045,
          0.5025041736227045,
          0.5025041736227045,
          0.5025041736227045,
          0.5025041736227045,
          0.5025041736227045,
          0.5025041736227045,
          0.5025041736227045,
          0.5025041736227045,
          0.5025041736227045,
          0.5025041736227045,
          0.5025041736227045,
          0.5025041736227045,
          0.5025041736227045,
          0.5025041736227045,
          0.5025041736227045,
          0.5025041736227045,
          0.5025041736227045,
          0.5025041736227045,
          0.5025041736227045,
          0.5025041736227045,
          0.5025041736227045,
          0.5025041736227045,
          0.5025041736227045,
          0.5025041736227045,
          0.5025041736227045,
          0.5025041736227045,
          0.5025041736227045,
          0.5025041736227045,
          0.5025041736227045,
          0.5025041736227045,
          0.5025041736227045,
          0.5025041736227045,
          0.5025041736227045,
          0.5025041736227045,
          0.5025041736227045,
          0.5025041736227045,
          0.5025041736227045,
          0.5025041736227045,
          0.5025041736227045,
          0.5025041736227045,
          0.5025041736227045,
          0.5025041736227045,
          0.5025041736227045,
          0.5025041736227045,
          0.5025041736227045,
          0.5025041736227045,
          0.5025041736227045,
          0.5025041736227045,
          0.5025041736227045,
          0.5025041736227045,
          0.5025041736227045,
          0.5025041736227045,
          0.5025041736227045,
          0.5025041736227045,
          0.5025041736227045,
          0.5025041736227045,
          0.5025041736227045,
          0.5025041736227045,
          0.5025041736227045,
          0.5025041736227045,
          0.5308848080133556,
          0.5826377295492488,
          0.6861435726210351,
          0.6844741235392321,
          0.5158597662771286,
          0.5025041736227045,
          0.5025041736227045
         ],
         "yaxis": "y4"
        },
        {
         "hovertemplate": "variable=0<br>index=%{x}<br>value=%{y}<extra></extra>",
         "legendgroup": "0",
         "line": {
          "color": "#636efa",
          "dash": "dot"
         },
         "marker": {
          "color": "blue",
          "size": 3,
          "symbol": "circle"
         },
         "mode": "lines",
         "name": "0",
         "orientation": "v",
         "showlegend": true,
         "type": "scatter",
         "x": [
          0,
          1,
          2,
          3,
          4,
          5,
          6,
          7,
          8,
          9,
          10,
          11,
          12,
          13,
          14,
          15,
          16,
          17,
          18,
          19,
          20,
          21,
          22,
          23,
          24,
          25,
          26,
          27,
          28,
          29,
          30,
          31,
          32,
          33,
          34,
          35,
          36,
          37,
          38,
          39,
          40,
          41,
          42,
          43,
          44,
          45,
          46,
          47,
          48,
          49,
          50,
          51,
          52,
          53,
          54,
          55,
          56,
          57,
          58,
          59,
          60,
          61,
          62,
          63,
          64,
          65,
          66,
          67,
          68,
          69,
          70,
          71,
          72,
          73,
          74,
          75,
          76,
          77,
          78,
          79
         ],
         "xaxis": "x5",
         "y": [
          0.6327212020033389,
          0.6944908180300501,
          0.7829716193656093,
          0.8397328881469115,
          0.8831385642737897,
          0.9115191986644408,
          0.9282136894824707,
          0.9348914858096828,
          0.9398998330550918,
          0.9449081803005008,
          0.9482470784641068,
          0.9532554257095158,
          0.9666110183639399,
          0.9766277128547579,
          0.9766277128547579,
          0.9799666110183639,
          0.9816360601001669,
          0.9799666110183639,
          0.9816360601001669,
          0.9849749582637729,
          0.986644407345576,
          0.988313856427379,
          0.989983305509182,
          0.988313856427379,
          0.989983305509182,
          0.989983305509182,
          0.988313856427379,
          0.988313856427379,
          0.986644407345576,
          0.986644407345576,
          0.988313856427379,
          0.988313856427379,
          0.988313856427379,
          0.988313856427379,
          0.988313856427379,
          0.988313856427379,
          0.986644407345576,
          0.986644407345576,
          0.988313856427379,
          0.989983305509182,
          0.989983305509182,
          0.989983305509182,
          0.988313856427379,
          0.988313856427379,
          0.988313856427379,
          0.989983305509182,
          0.989983305509182,
          0.988313856427379,
          0.988313856427379,
          0.989983305509182,
          0.989983305509182,
          0.988313856427379,
          0.986644407345576,
          0.9833055091819699,
          0.9849749582637729,
          0.9833055091819699,
          0.986644407345576,
          0.986644407345576,
          0.9849749582637729,
          0.9849749582637729,
          0.9849749582637729,
          0.9849749582637729,
          0.9849749582637729,
          0.986644407345576,
          0.9849749582637729,
          0.9833055091819699,
          0.9849749582637729,
          0.9849749582637729,
          0.9833055091819699,
          0.9833055091819699,
          0.9833055091819699,
          0.9833055091819699,
          0.9833055091819699,
          0.9833055091819699,
          0.9833055091819699,
          0.9833055091819699,
          0.9833055091819699,
          0.988313856427379,
          0.9849749582637729,
          0.9849749582637729
         ],
         "yaxis": "y5"
        },
        {
         "hovertemplate": "variable=0<br>index=%{x}<br>value=%{y}<extra></extra>",
         "legendgroup": "0",
         "line": {
          "color": "#636efa",
          "dash": "dot"
         },
         "marker": {
          "color": "blue",
          "size": 3,
          "symbol": "circle"
         },
         "mode": "lines",
         "name": "0",
         "orientation": "v",
         "showlegend": true,
         "type": "scatter",
         "x": [
          0,
          1,
          2,
          3,
          4,
          5,
          6,
          7,
          8,
          9,
          10,
          11,
          12,
          13,
          14,
          15,
          16,
          17,
          18,
          19,
          20,
          21,
          22,
          23,
          24,
          25,
          26,
          27,
          28,
          29,
          30,
          31,
          32,
          33,
          34,
          35,
          36,
          37,
          38,
          39,
          40,
          41,
          42,
          43,
          44,
          45,
          46,
          47,
          48,
          49,
          50,
          51,
          52,
          53,
          54,
          55,
          56,
          57,
          58,
          59,
          60,
          61,
          62,
          63,
          64,
          65,
          66,
          67,
          68,
          69,
          70,
          71,
          72,
          73,
          74,
          75,
          76,
          77,
          78,
          79
         ],
         "xaxis": "x6",
         "y": [
          0.4974958263772955,
          0.4974958263772955,
          0.5025041736227045,
          0.5025041736227045,
          0.5008347245409015,
          0.5025041736227045,
          0.5025041736227045,
          0.5025041736227045,
          0.5025041736227045,
          0.5025041736227045,
          0.5025041736227045,
          0.5025041736227045,
          0.5025041736227045,
          0.5025041736227045,
          0.5025041736227045,
          0.5025041736227045,
          0.5025041736227045,
          0.5025041736227045,
          0.5025041736227045,
          0.5025041736227045,
          0.5025041736227045,
          0.5025041736227045,
          0.5025041736227045,
          0.5025041736227045,
          0.5025041736227045,
          0.5025041736227045,
          0.5025041736227045,
          0.5025041736227045,
          0.5025041736227045,
          0.5025041736227045,
          0.5025041736227045,
          0.5025041736227045,
          0.5025041736227045,
          0.5025041736227045,
          0.5025041736227045,
          0.5025041736227045,
          0.5025041736227045,
          0.5025041736227045,
          0.5025041736227045,
          0.5025041736227045,
          0.5025041736227045,
          0.5025041736227045,
          0.5025041736227045,
          0.5025041736227045,
          0.5025041736227045,
          0.5025041736227045,
          0.5025041736227045,
          0.5025041736227045,
          0.5025041736227045,
          0.5025041736227045,
          0.5025041736227045,
          0.5025041736227045,
          0.5025041736227045,
          0.5025041736227045,
          0.5025041736227045,
          0.5025041736227045,
          0.5025041736227045,
          0.5025041736227045,
          0.5025041736227045,
          0.5025041736227045,
          0.5025041736227045,
          0.5025041736227045,
          0.5025041736227045,
          0.5025041736227045,
          0.5025041736227045,
          0.5025041736227045,
          0.5025041736227045,
          0.5025041736227045,
          0.5025041736227045,
          0.5025041736227045,
          0.5025041736227045,
          0.5025041736227045,
          0.5025041736227045,
          0.5025041736227045,
          0.5025041736227045,
          0.5025041736227045,
          0.5025041736227045,
          0.5025041736227045,
          0.4974958263772955,
          0.5025041736227045
         ],
         "yaxis": "y6"
        },
        {
         "hovertemplate": "variable=0<br>index=%{x}<br>value=%{y}<extra></extra>",
         "legendgroup": "0",
         "line": {
          "color": "#636efa",
          "dash": "dot"
         },
         "marker": {
          "color": "blue",
          "size": 3,
          "symbol": "circle"
         },
         "mode": "lines",
         "name": "0",
         "orientation": "v",
         "showlegend": true,
         "type": "scatter",
         "x": [
          0,
          1,
          2,
          3,
          4,
          5,
          6,
          7,
          8,
          9,
          10,
          11,
          12,
          13,
          14,
          15,
          16,
          17,
          18,
          19,
          20,
          21,
          22,
          23,
          24,
          25,
          26,
          27,
          28,
          29,
          30,
          31,
          32,
          33,
          34,
          35,
          36,
          37,
          38,
          39,
          40,
          41,
          42,
          43,
          44,
          45,
          46,
          47,
          48,
          49,
          50,
          51,
          52,
          53,
          54,
          55,
          56,
          57,
          58,
          59,
          60,
          61,
          62,
          63,
          64,
          65,
          66,
          67,
          68,
          69,
          70,
          71,
          72,
          73,
          74,
          75,
          76,
          77,
          78,
          79
         ],
         "xaxis": "x7",
         "y": [
          0.4974958263772955,
          0.4974958263772955,
          0.4974958263772955,
          0.5008347245409015,
          0.5242070116861436,
          0.5459098497495827,
          0.4974958263772955,
          0.4974958263772955,
          0.4974958263772955,
          0.4991652754590985,
          0.5058430717863105,
          0.67779632721202,
          0.7295492487479132,
          0.7545909849749582,
          0.8597662771285476,
          0.5592654424040067,
          0.4974958263772955,
          0.4974958263772955,
          0.5342237061769616,
          0.5025041736227045,
          0.5175292153589316,
          0.5475792988313857,
          0.5025041736227045,
          0.4991652754590985,
          0.5075125208681135,
          0.8113522537562604,
          0.5609348914858097,
          0.7479131886477463,
          0.5008347245409015,
          0.5175292153589316,
          0.44240400667779634,
          0.4991652754590985,
          0.4791318864774624,
          0.5091819699499165,
          0.5692821368948247,
          0.6343906510851419,
          0.7545909849749582,
          0.6076794657762938,
          0.5859766277128547,
          0.5592654424040067,
          0.39065108514190316,
          0.3005008347245409,
          0.24707846410684475,
          0.21702838063439064,
          0.19031719532554256,
          0.17362270450751252,
          0.16193656093489148,
          0.14691151919866444,
          0.14858096828046743,
          0.14357262103505844,
          0.14858096828046743,
          0.1419031719532554,
          0.15191986644407346,
          0.1419031719532554,
          0.14524207011686144,
          0.1419031719532554,
          0.14023372287145242,
          0.14023372287145242,
          0.14357262103505844,
          0.13856427378964942,
          0.14691151919866444,
          0.14357262103505844,
          0.15191986644407346,
          0.14357262103505844,
          0.15191986644407346,
          0.1636060100166945,
          0.14691151919866444,
          0.15692821368948248,
          0.19031719532554256,
          0.21035058430717862,
          0.21535893155258765,
          0.19699499165275458,
          0.19198664440734559,
          0.19365609348914858,
          0.21702838063439064,
          0.32387312186978295,
          0.4257095158597663,
          0.4056761268781302,
          0.3756260434056761,
          0.3756260434056761
         ],
         "yaxis": "y7"
        },
        {
         "hovertemplate": "variable=0<br>index=%{x}<br>value=%{y}<extra></extra>",
         "legendgroup": "0",
         "line": {
          "color": "#636efa",
          "dash": "dot"
         },
         "marker": {
          "color": "blue",
          "size": 3,
          "symbol": "circle"
         },
         "mode": "lines",
         "name": "0",
         "orientation": "v",
         "showlegend": true,
         "type": "scatter",
         "x": [
          0,
          1,
          2,
          3,
          4,
          5,
          6,
          7,
          8,
          9,
          10,
          11,
          12,
          13,
          14,
          15,
          16,
          17,
          18,
          19,
          20,
          21,
          22,
          23,
          24,
          25,
          26,
          27,
          28,
          29,
          30,
          31,
          32,
          33,
          34,
          35,
          36,
          37,
          38,
          39,
          40,
          41,
          42,
          43,
          44,
          45,
          46,
          47,
          48,
          49,
          50,
          51,
          52,
          53,
          54,
          55,
          56,
          57,
          58,
          59,
          60,
          61,
          62,
          63,
          64,
          65,
          66,
          67,
          68,
          69,
          70,
          71,
          72,
          73,
          74,
          75,
          76,
          77,
          78,
          79
         ],
         "xaxis": "x8",
         "y": [
          0.4974958263772955,
          0.4974958263772955,
          0.4974958263772955,
          0.4974958263772955,
          0.5742904841402338,
          0.5626043405676127,
          0.5292153589315526,
          0.5041736227045075,
          0.6026711185308848,
          0.5292153589315526,
          0.5659432387312187,
          0.5025041736227045,
          0.5091819699499165,
          0.5191986644407346,
          0.5141903171953256,
          0.4991652754590985,
          0.4974958263772955,
          0.4974958263772955,
          0.5075125208681135,
          0.4991652754590985,
          0.5191986644407346,
          0.654424040066778,
          0.6343906510851419,
          0.4991652754590985,
          0.4974958263772955,
          0.5726210350584308,
          0.5459098497495827,
          0.5325542570951586,
          0.4974958263772955,
          0.5292153589315526,
          0.5375626043405676,
          0.5041736227045075,
          0.6460767946577629,
          0.5108514190317195,
          0.5859766277128547,
          0.6210350584307178,
          0.667779632721202,
          0.7662771285475793,
          0.7028380634390651,
          0.6393989983305509,
          0.6477462437395659,
          0.5459098497495827,
          0.5425709515859767,
          0.5943238731218697,
          0.5659432387312187,
          0.5492487479131887,
          0.5776293823038398,
          0.5792988313856428,
          0.5676126878130217,
          0.5409015025041736,
          0.5308848080133556,
          0.5442404006677797,
          0.5659432387312187,
          0.5559265442404007,
          0.5525876460767947,
          0.5409015025041736,
          0.5475792988313857,
          0.5475792988313857,
          0.5292153589315526,
          0.5375626043405676,
          0.5459098497495827,
          0.5442404006677797,
          0.5358931552587646,
          0.5208681135225376,
          0.5358931552587646,
          0.5342237061769616,
          0.5292153589315526,
          0.5358931552587646,
          0.5459098497495827,
          0.5308848080133556,
          0.5358931552587646,
          0.5375626043405676,
          0.5442404006677797,
          0.5258764607679466,
          0.5191986644407346,
          0.5141903171953256,
          0.5075125208681135,
          0.5041736227045075,
          0.5058430717863105,
          0.48414023372287146
         ],
         "yaxis": "y8"
        },
        {
         "hovertemplate": "variable=0<br>index=%{x}<br>value=%{y}<extra></extra>",
         "legendgroup": "0",
         "line": {
          "color": "#636efa",
          "dash": "dot"
         },
         "marker": {
          "color": "blue",
          "size": 3,
          "symbol": "circle"
         },
         "mode": "lines",
         "name": "0",
         "orientation": "v",
         "showlegend": true,
         "type": "scatter",
         "x": [
          0,
          1,
          2,
          3,
          4,
          5,
          6,
          7,
          8,
          9,
          10,
          11,
          12,
          13,
          14,
          15,
          16,
          17,
          18,
          19,
          20,
          21,
          22,
          23,
          24,
          25,
          26,
          27,
          28,
          29,
          30,
          31,
          32,
          33,
          34,
          35,
          36,
          37,
          38,
          39,
          40,
          41,
          42,
          43,
          44,
          45,
          46,
          47,
          48,
          49,
          50,
          51,
          52,
          53,
          54,
          55,
          56,
          57,
          58,
          59,
          60,
          61,
          62,
          63,
          64,
          65,
          66,
          67,
          68,
          69,
          70,
          71,
          72,
          73,
          74,
          75,
          76,
          77,
          78,
          79
         ],
         "xaxis": "x9",
         "y": [
          0.4974958263772955,
          0.5325542570951586,
          0.5943238731218697,
          0.6193656093489148,
          0.6160267111853088,
          0.657762938230384,
          0.679465776293823,
          0.7111853088480802,
          0.7495826377295493,
          0.7879799666110183,
          0.8196994991652755,
          0.8313856427378965,
          0.8363939899833055,
          0.8597662771285476,
          0.8814691151919867,
          0.9065108514190318,
          0.9165275459098498,
          0.9315525876460768,
          0.9432387312186978,
          0.9582637729549248,
          0.9599332220367279,
          0.9632721202003339,
          0.9649415692821369,
          0.9632721202003339,
          0.9649415692821369,
          0.9649415692821369,
          0.9682804674457429,
          0.9666110183639399,
          0.9799666110183639,
          0.9816360601001669,
          0.9833055091819699,
          0.9833055091819699,
          0.9833055091819699,
          0.9833055091819699,
          0.9849749582637729,
          0.9849749582637729,
          0.9849749582637729,
          0.9849749582637729,
          0.9849749582637729,
          0.9849749582637729,
          0.9816360601001669,
          0.9816360601001669,
          0.9799666110183639,
          0.9799666110183639,
          0.9799666110183639,
          0.9782971619365609,
          0.9799666110183639,
          0.9816360601001669,
          0.9816360601001669,
          0.9816360601001669,
          0.9799666110183639,
          0.9766277128547579,
          0.9782971619365609,
          0.9799666110183639,
          0.9799666110183639,
          0.9799666110183639,
          0.9799666110183639,
          0.9816360601001669,
          0.9816360601001669,
          0.9816360601001669,
          0.9816360601001669,
          0.9799666110183639,
          0.9799666110183639,
          0.9816360601001669,
          0.9799666110183639,
          0.9799666110183639,
          0.9816360601001669,
          0.9799666110183639,
          0.9799666110183639,
          0.9799666110183639,
          0.9816360601001669,
          0.9816360601001669,
          0.9816360601001669,
          0.9816360601001669,
          0.9816360601001669,
          0.9799666110183639,
          0.9799666110183639,
          0.9816360601001669,
          0.9799666110183639,
          0.9799666110183639
         ],
         "yaxis": "y9"
        }
       ],
       "layout": {
        "height": 1000,
        "template": {
         "data": {
          "bar": [
           {
            "error_x": {
             "color": "#2a3f5f"
            },
            "error_y": {
             "color": "#2a3f5f"
            },
            "marker": {
             "line": {
              "color": "#E5ECF6",
              "width": 0.5
             },
             "pattern": {
              "fillmode": "overlay",
              "size": 10,
              "solidity": 0.2
             }
            },
            "type": "bar"
           }
          ],
          "barpolar": [
           {
            "marker": {
             "line": {
              "color": "#E5ECF6",
              "width": 0.5
             },
             "pattern": {
              "fillmode": "overlay",
              "size": 10,
              "solidity": 0.2
             }
            },
            "type": "barpolar"
           }
          ],
          "carpet": [
           {
            "aaxis": {
             "endlinecolor": "#2a3f5f",
             "gridcolor": "white",
             "linecolor": "white",
             "minorgridcolor": "white",
             "startlinecolor": "#2a3f5f"
            },
            "baxis": {
             "endlinecolor": "#2a3f5f",
             "gridcolor": "white",
             "linecolor": "white",
             "minorgridcolor": "white",
             "startlinecolor": "#2a3f5f"
            },
            "type": "carpet"
           }
          ],
          "choropleth": [
           {
            "colorbar": {
             "outlinewidth": 0,
             "ticks": ""
            },
            "type": "choropleth"
           }
          ],
          "contour": [
           {
            "colorbar": {
             "outlinewidth": 0,
             "ticks": ""
            },
            "colorscale": [
             [
              0,
              "#0d0887"
             ],
             [
              0.1111111111111111,
              "#46039f"
             ],
             [
              0.2222222222222222,
              "#7201a8"
             ],
             [
              0.3333333333333333,
              "#9c179e"
             ],
             [
              0.4444444444444444,
              "#bd3786"
             ],
             [
              0.5555555555555556,
              "#d8576b"
             ],
             [
              0.6666666666666666,
              "#ed7953"
             ],
             [
              0.7777777777777778,
              "#fb9f3a"
             ],
             [
              0.8888888888888888,
              "#fdca26"
             ],
             [
              1,
              "#f0f921"
             ]
            ],
            "type": "contour"
           }
          ],
          "contourcarpet": [
           {
            "colorbar": {
             "outlinewidth": 0,
             "ticks": ""
            },
            "type": "contourcarpet"
           }
          ],
          "heatmap": [
           {
            "colorbar": {
             "outlinewidth": 0,
             "ticks": ""
            },
            "colorscale": [
             [
              0,
              "#0d0887"
             ],
             [
              0.1111111111111111,
              "#46039f"
             ],
             [
              0.2222222222222222,
              "#7201a8"
             ],
             [
              0.3333333333333333,
              "#9c179e"
             ],
             [
              0.4444444444444444,
              "#bd3786"
             ],
             [
              0.5555555555555556,
              "#d8576b"
             ],
             [
              0.6666666666666666,
              "#ed7953"
             ],
             [
              0.7777777777777778,
              "#fb9f3a"
             ],
             [
              0.8888888888888888,
              "#fdca26"
             ],
             [
              1,
              "#f0f921"
             ]
            ],
            "type": "heatmap"
           }
          ],
          "heatmapgl": [
           {
            "colorbar": {
             "outlinewidth": 0,
             "ticks": ""
            },
            "colorscale": [
             [
              0,
              "#0d0887"
             ],
             [
              0.1111111111111111,
              "#46039f"
             ],
             [
              0.2222222222222222,
              "#7201a8"
             ],
             [
              0.3333333333333333,
              "#9c179e"
             ],
             [
              0.4444444444444444,
              "#bd3786"
             ],
             [
              0.5555555555555556,
              "#d8576b"
             ],
             [
              0.6666666666666666,
              "#ed7953"
             ],
             [
              0.7777777777777778,
              "#fb9f3a"
             ],
             [
              0.8888888888888888,
              "#fdca26"
             ],
             [
              1,
              "#f0f921"
             ]
            ],
            "type": "heatmapgl"
           }
          ],
          "histogram": [
           {
            "marker": {
             "pattern": {
              "fillmode": "overlay",
              "size": 10,
              "solidity": 0.2
             }
            },
            "type": "histogram"
           }
          ],
          "histogram2d": [
           {
            "colorbar": {
             "outlinewidth": 0,
             "ticks": ""
            },
            "colorscale": [
             [
              0,
              "#0d0887"
             ],
             [
              0.1111111111111111,
              "#46039f"
             ],
             [
              0.2222222222222222,
              "#7201a8"
             ],
             [
              0.3333333333333333,
              "#9c179e"
             ],
             [
              0.4444444444444444,
              "#bd3786"
             ],
             [
              0.5555555555555556,
              "#d8576b"
             ],
             [
              0.6666666666666666,
              "#ed7953"
             ],
             [
              0.7777777777777778,
              "#fb9f3a"
             ],
             [
              0.8888888888888888,
              "#fdca26"
             ],
             [
              1,
              "#f0f921"
             ]
            ],
            "type": "histogram2d"
           }
          ],
          "histogram2dcontour": [
           {
            "colorbar": {
             "outlinewidth": 0,
             "ticks": ""
            },
            "colorscale": [
             [
              0,
              "#0d0887"
             ],
             [
              0.1111111111111111,
              "#46039f"
             ],
             [
              0.2222222222222222,
              "#7201a8"
             ],
             [
              0.3333333333333333,
              "#9c179e"
             ],
             [
              0.4444444444444444,
              "#bd3786"
             ],
             [
              0.5555555555555556,
              "#d8576b"
             ],
             [
              0.6666666666666666,
              "#ed7953"
             ],
             [
              0.7777777777777778,
              "#fb9f3a"
             ],
             [
              0.8888888888888888,
              "#fdca26"
             ],
             [
              1,
              "#f0f921"
             ]
            ],
            "type": "histogram2dcontour"
           }
          ],
          "mesh3d": [
           {
            "colorbar": {
             "outlinewidth": 0,
             "ticks": ""
            },
            "type": "mesh3d"
           }
          ],
          "parcoords": [
           {
            "line": {
             "colorbar": {
              "outlinewidth": 0,
              "ticks": ""
             }
            },
            "type": "parcoords"
           }
          ],
          "pie": [
           {
            "automargin": true,
            "type": "pie"
           }
          ],
          "scatter": [
           {
            "fillpattern": {
             "fillmode": "overlay",
             "size": 10,
             "solidity": 0.2
            },
            "type": "scatter"
           }
          ],
          "scatter3d": [
           {
            "line": {
             "colorbar": {
              "outlinewidth": 0,
              "ticks": ""
             }
            },
            "marker": {
             "colorbar": {
              "outlinewidth": 0,
              "ticks": ""
             }
            },
            "type": "scatter3d"
           }
          ],
          "scattercarpet": [
           {
            "marker": {
             "colorbar": {
              "outlinewidth": 0,
              "ticks": ""
             }
            },
            "type": "scattercarpet"
           }
          ],
          "scattergeo": [
           {
            "marker": {
             "colorbar": {
              "outlinewidth": 0,
              "ticks": ""
             }
            },
            "type": "scattergeo"
           }
          ],
          "scattergl": [
           {
            "marker": {
             "colorbar": {
              "outlinewidth": 0,
              "ticks": ""
             }
            },
            "type": "scattergl"
           }
          ],
          "scattermapbox": [
           {
            "marker": {
             "colorbar": {
              "outlinewidth": 0,
              "ticks": ""
             }
            },
            "type": "scattermapbox"
           }
          ],
          "scatterpolar": [
           {
            "marker": {
             "colorbar": {
              "outlinewidth": 0,
              "ticks": ""
             }
            },
            "type": "scatterpolar"
           }
          ],
          "scatterpolargl": [
           {
            "marker": {
             "colorbar": {
              "outlinewidth": 0,
              "ticks": ""
             }
            },
            "type": "scatterpolargl"
           }
          ],
          "scatterternary": [
           {
            "marker": {
             "colorbar": {
              "outlinewidth": 0,
              "ticks": ""
             }
            },
            "type": "scatterternary"
           }
          ],
          "surface": [
           {
            "colorbar": {
             "outlinewidth": 0,
             "ticks": ""
            },
            "colorscale": [
             [
              0,
              "#0d0887"
             ],
             [
              0.1111111111111111,
              "#46039f"
             ],
             [
              0.2222222222222222,
              "#7201a8"
             ],
             [
              0.3333333333333333,
              "#9c179e"
             ],
             [
              0.4444444444444444,
              "#bd3786"
             ],
             [
              0.5555555555555556,
              "#d8576b"
             ],
             [
              0.6666666666666666,
              "#ed7953"
             ],
             [
              0.7777777777777778,
              "#fb9f3a"
             ],
             [
              0.8888888888888888,
              "#fdca26"
             ],
             [
              1,
              "#f0f921"
             ]
            ],
            "type": "surface"
           }
          ],
          "table": [
           {
            "cells": {
             "fill": {
              "color": "#EBF0F8"
             },
             "line": {
              "color": "white"
             }
            },
            "header": {
             "fill": {
              "color": "#C8D4E3"
             },
             "line": {
              "color": "white"
             }
            },
            "type": "table"
           }
          ]
         },
         "layout": {
          "annotationdefaults": {
           "arrowcolor": "#2a3f5f",
           "arrowhead": 0,
           "arrowwidth": 1
          },
          "autotypenumbers": "strict",
          "coloraxis": {
           "colorbar": {
            "outlinewidth": 0,
            "ticks": ""
           }
          },
          "colorscale": {
           "diverging": [
            [
             0,
             "#8e0152"
            ],
            [
             0.1,
             "#c51b7d"
            ],
            [
             0.2,
             "#de77ae"
            ],
            [
             0.3,
             "#f1b6da"
            ],
            [
             0.4,
             "#fde0ef"
            ],
            [
             0.5,
             "#f7f7f7"
            ],
            [
             0.6,
             "#e6f5d0"
            ],
            [
             0.7,
             "#b8e186"
            ],
            [
             0.8,
             "#7fbc41"
            ],
            [
             0.9,
             "#4d9221"
            ],
            [
             1,
             "#276419"
            ]
           ],
           "sequential": [
            [
             0,
             "#0d0887"
            ],
            [
             0.1111111111111111,
             "#46039f"
            ],
            [
             0.2222222222222222,
             "#7201a8"
            ],
            [
             0.3333333333333333,
             "#9c179e"
            ],
            [
             0.4444444444444444,
             "#bd3786"
            ],
            [
             0.5555555555555556,
             "#d8576b"
            ],
            [
             0.6666666666666666,
             "#ed7953"
            ],
            [
             0.7777777777777778,
             "#fb9f3a"
            ],
            [
             0.8888888888888888,
             "#fdca26"
            ],
            [
             1,
             "#f0f921"
            ]
           ],
           "sequentialminus": [
            [
             0,
             "#0d0887"
            ],
            [
             0.1111111111111111,
             "#46039f"
            ],
            [
             0.2222222222222222,
             "#7201a8"
            ],
            [
             0.3333333333333333,
             "#9c179e"
            ],
            [
             0.4444444444444444,
             "#bd3786"
            ],
            [
             0.5555555555555556,
             "#d8576b"
            ],
            [
             0.6666666666666666,
             "#ed7953"
            ],
            [
             0.7777777777777778,
             "#fb9f3a"
            ],
            [
             0.8888888888888888,
             "#fdca26"
            ],
            [
             1,
             "#f0f921"
            ]
           ]
          },
          "colorway": [
           "#636efa",
           "#EF553B",
           "#00cc96",
           "#ab63fa",
           "#FFA15A",
           "#19d3f3",
           "#FF6692",
           "#B6E880",
           "#FF97FF",
           "#FECB52"
          ],
          "font": {
           "color": "#2a3f5f"
          },
          "geo": {
           "bgcolor": "white",
           "lakecolor": "white",
           "landcolor": "#E5ECF6",
           "showlakes": true,
           "showland": true,
           "subunitcolor": "white"
          },
          "hoverlabel": {
           "align": "left"
          },
          "hovermode": "closest",
          "mapbox": {
           "style": "light"
          },
          "paper_bgcolor": "white",
          "plot_bgcolor": "#E5ECF6",
          "polar": {
           "angularaxis": {
            "gridcolor": "white",
            "linecolor": "white",
            "ticks": ""
           },
           "bgcolor": "#E5ECF6",
           "radialaxis": {
            "gridcolor": "white",
            "linecolor": "white",
            "ticks": ""
           }
          },
          "scene": {
           "xaxis": {
            "backgroundcolor": "#E5ECF6",
            "gridcolor": "white",
            "gridwidth": 2,
            "linecolor": "white",
            "showbackground": true,
            "ticks": "",
            "zerolinecolor": "white"
           },
           "yaxis": {
            "backgroundcolor": "#E5ECF6",
            "gridcolor": "white",
            "gridwidth": 2,
            "linecolor": "white",
            "showbackground": true,
            "ticks": "",
            "zerolinecolor": "white"
           },
           "zaxis": {
            "backgroundcolor": "#E5ECF6",
            "gridcolor": "white",
            "gridwidth": 2,
            "linecolor": "white",
            "showbackground": true,
            "ticks": "",
            "zerolinecolor": "white"
           }
          },
          "shapedefaults": {
           "line": {
            "color": "#2a3f5f"
           }
          },
          "ternary": {
           "aaxis": {
            "gridcolor": "white",
            "linecolor": "white",
            "ticks": ""
           },
           "baxis": {
            "gridcolor": "white",
            "linecolor": "white",
            "ticks": ""
           },
           "bgcolor": "#E5ECF6",
           "caxis": {
            "gridcolor": "white",
            "linecolor": "white",
            "ticks": ""
           }
          },
          "title": {
           "x": 0.05
          },
          "xaxis": {
           "automargin": true,
           "gridcolor": "white",
           "linecolor": "white",
           "ticks": "",
           "title": {
            "standoff": 15
           },
           "zerolinecolor": "white",
           "zerolinewidth": 2
          },
          "yaxis": {
           "automargin": true,
           "gridcolor": "white",
           "linecolor": "white",
           "ticks": "",
           "title": {
            "standoff": 15
           },
           "zerolinecolor": "white",
           "zerolinewidth": 2
          }
         }
        },
        "title": {
         "text": "Transfer resid_mid Probe Accuracies, trained on row and tested on column, Dataset azaria_mitchell_facts"
        },
        "xaxis": {
         "anchor": "y",
         "domain": [
          0,
          0.2888888888888889
         ]
        },
        "xaxis2": {
         "anchor": "y2",
         "domain": [
          0.35555555555555557,
          0.6444444444444445
         ]
        },
        "xaxis3": {
         "anchor": "y3",
         "domain": [
          0.7111111111111111,
          1
         ]
        },
        "xaxis4": {
         "anchor": "y4",
         "domain": [
          0,
          0.2888888888888889
         ]
        },
        "xaxis5": {
         "anchor": "y5",
         "domain": [
          0.35555555555555557,
          0.6444444444444445
         ]
        },
        "xaxis6": {
         "anchor": "y6",
         "domain": [
          0.7111111111111111,
          1
         ]
        },
        "xaxis7": {
         "anchor": "y7",
         "domain": [
          0,
          0.2888888888888889
         ],
         "title": {
          "text": "Tested on honest"
         }
        },
        "xaxis8": {
         "anchor": "y8",
         "domain": [
          0.35555555555555557,
          0.6444444444444445
         ],
         "title": {
          "text": "Tested on neutral"
         }
        },
        "xaxis9": {
         "anchor": "y9",
         "domain": [
          0.7111111111111111,
          1
         ],
         "title": {
          "text": "Tested on liar"
         }
        },
        "yaxis": {
         "anchor": "x",
         "domain": [
          0.7333333333333333,
          1
         ],
         "title": {
          "text": "Trained on honest"
         }
        },
        "yaxis2": {
         "anchor": "x2",
         "domain": [
          0.7333333333333333,
          1
         ]
        },
        "yaxis3": {
         "anchor": "x3",
         "domain": [
          0.7333333333333333,
          1
         ]
        },
        "yaxis4": {
         "anchor": "x4",
         "domain": [
          0.36666666666666664,
          0.6333333333333333
         ],
         "title": {
          "text": "Trained on neutral"
         }
        },
        "yaxis5": {
         "anchor": "x5",
         "domain": [
          0.36666666666666664,
          0.6333333333333333
         ]
        },
        "yaxis6": {
         "anchor": "x6",
         "domain": [
          0.36666666666666664,
          0.6333333333333333
         ]
        },
        "yaxis7": {
         "anchor": "x7",
         "domain": [
          0,
          0.26666666666666666
         ],
         "title": {
          "text": "Trained on liar"
         }
        },
        "yaxis8": {
         "anchor": "x8",
         "domain": [
          0,
          0.26666666666666666
         ]
        },
        "yaxis9": {
         "anchor": "x9",
         "domain": [
          0,
          0.26666666666666666
         ]
        }
       }
      },
      "text/html": [
       "<div>                            <div id=\"0c74132d-c53a-4325-a978-17c20b45a2da\" class=\"plotly-graph-div\" style=\"height:1000px; width:100%;\"></div>            <script type=\"text/javascript\">                require([\"plotly\"], function(Plotly) {                    window.PLOTLYENV=window.PLOTLYENV || {};                                    if (document.getElementById(\"0c74132d-c53a-4325-a978-17c20b45a2da\")) {                    Plotly.newPlot(                        \"0c74132d-c53a-4325-a978-17c20b45a2da\",                        [{\"hovertemplate\":\"variable=0\\u003cbr\\u003eindex=%{x}\\u003cbr\\u003evalue=%{y}\\u003cextra\\u003e\\u003c\\u002fextra\\u003e\",\"legendgroup\":\"0\",\"line\":{\"color\":\"#636efa\",\"dash\":\"dot\"},\"marker\":{\"color\":\"blue\",\"size\":3,\"symbol\":\"circle\"},\"mode\":\"lines\",\"name\":\"0\",\"orientation\":\"v\",\"showlegend\":true,\"x\":[0,1,2,3,4,5,6,7,8,9,10,11,12,13,14,15,16,17,18,19,20,21,22,23,24,25,26,27,28,29,30,31,32,33,34,35,36,37,38,39,40,41,42,43,44,45,46,47,48,49,50,51,52,53,54,55,56,57,58,59,60,61,62,63,64,65,66,67,68,69,70,71,72,73,74,75,76,77,78,79],\"xaxis\":\"x\",\"y\":[0.5058430717863105,0.5575959933222037,0.5843071786310517,0.6143572621035058,0.6277128547579299,0.654424040066778,0.671118530884808,0.7128547579298832,0.7429048414023373,0.7746243739565943,0.8196994991652755,0.8230383973288815,0.8230383973288815,0.8547579298831386,0.8831385642737897,0.8931552587646077,0.8914858096828047,0.9098497495826378,0.9248747913188647,0.9565943238731218,0.9666110183639399,0.9682804674457429,0.9682804674457429,0.9716193656093489,0.9716193656093489,0.9732888146911519,0.9732888146911519,0.9782971619365609,0.9816360601001669,0.9833055091819699,0.9833055091819699,0.9849749582637729,0.9849749582637729,0.9849749582637729,0.9849749582637729,0.9849749582637729,0.986644407345576,0.988313856427379,0.986644407345576,0.986644407345576,0.9849749582637729,0.9833055091819699,0.9833055091819699,0.9849749582637729,0.9849749582637729,0.9833055091819699,0.9833055091819699,0.9849749582637729,0.9849749582637729,0.9849749582637729,0.9833055091819699,0.9833055091819699,0.9849749582637729,0.9833055091819699,0.9849749582637729,0.9849749582637729,0.9849749582637729,0.9849749582637729,0.9849749582637729,0.9849749582637729,0.9849749582637729,0.9849749582637729,0.9849749582637729,0.9849749582637729,0.9849749582637729,0.9849749582637729,0.9849749582637729,0.9849749582637729,0.9849749582637729,0.9849749582637729,0.9849749582637729,0.9833055091819699,0.9816360601001669,0.9816360601001669,0.9816360601001669,0.9833055091819699,0.9816360601001669,0.9816360601001669,0.9816360601001669,0.9816360601001669],\"yaxis\":\"y\",\"type\":\"scatter\"},{\"hovertemplate\":\"variable=0\\u003cbr\\u003eindex=%{x}\\u003cbr\\u003evalue=%{y}\\u003cextra\\u003e\\u003c\\u002fextra\\u003e\",\"legendgroup\":\"0\",\"line\":{\"color\":\"#636efa\",\"dash\":\"dot\"},\"marker\":{\"color\":\"blue\",\"size\":3,\"symbol\":\"circle\"},\"mode\":\"lines\",\"name\":\"0\",\"orientation\":\"v\",\"showlegend\":true,\"x\":[0,1,2,3,4,5,6,7,8,9,10,11,12,13,14,15,16,17,18,19,20,21,22,23,24,25,26,27,28,29,30,31,32,33,34,35,36,37,38,39,40,41,42,43,44,45,46,47,48,49,50,51,52,53,54,55,56,57,58,59,60,61,62,63,64,65,66,67,68,69,70,71,72,73,74,75,76,77,78,79],\"xaxis\":\"x2\",\"y\":[0.4974958263772955,0.4974958263772955,0.4974958263772955,0.5108514190317195,0.5425709515859767,0.5792988313856428,0.5058430717863105,0.5876460767946577,0.5191986644407346,0.5025041736227045,0.5659432387312187,0.5642737896494157,0.5242070116861436,0.5091819699499165,0.5342237061769616,0.48914858096828046,0.5959933222036727,0.6477462437395659,0.5943238731218697,0.6310517529215359,0.7662771285475793,0.656093489148581,0.5208681135225376,0.4674457429048414,0.4657762938230384,0.4257095158597663,0.4724540901502504,0.5692821368948247,0.5058430717863105,0.5459098497495827,0.6527545909849749,0.7529215358931552,0.6944908180300501,0.6477462437395659,0.4974958263772955,0.4974958263772955,0.5125208681135225,0.671118530884808,0.6944908180300501,0.6510851419031719,0.6510851419031719,0.6527545909849749,0.6410684474123539,0.664440734557596,0.6310517529215359,0.6444073455759599,0.6360601001669449,0.6343906510851419,0.5692821368948247,0.5759599332220368,0.5859766277128547,0.5876460767946577,0.5843071786310517,0.5642737896494157,0.5726210350584308,0.5692821368948247,0.5792988313856428,0.5909849749582637,0.5926544240400667,0.5525876460767947,0.5575959933222037,0.5659432387312187,0.5759599332220368,0.5659432387312187,0.5709515859766278,0.5692821368948247,0.5776293823038398,0.5792988313856428,0.5726210350584308,0.5592654424040067,0.5859766277128547,0.5692821368948247,0.5926544240400667,0.5893155258764607,0.5976627712854758,0.5642737896494157,0.5509181969949917,0.5091819699499165,0.5008347245409015,0.4974958263772955],\"yaxis\":\"y2\",\"type\":\"scatter\"},{\"hovertemplate\":\"variable=0\\u003cbr\\u003eindex=%{x}\\u003cbr\\u003evalue=%{y}\\u003cextra\\u003e\\u003c\\u002fextra\\u003e\",\"legendgroup\":\"0\",\"line\":{\"color\":\"#636efa\",\"dash\":\"dot\"},\"marker\":{\"color\":\"blue\",\"size\":3,\"symbol\":\"circle\"},\"mode\":\"lines\",\"name\":\"0\",\"orientation\":\"v\",\"showlegend\":true,\"x\":[0,1,2,3,4,5,6,7,8,9,10,11,12,13,14,15,16,17,18,19,20,21,22,23,24,25,26,27,28,29,30,31,32,33,34,35,36,37,38,39,40,41,42,43,44,45,46,47,48,49,50,51,52,53,54,55,56,57,58,59,60,61,62,63,64,65,66,67,68,69,70,71,72,73,74,75,76,77,78,79],\"xaxis\":\"x3\",\"y\":[0.5025041736227045,0.5258764607679466,0.5575959933222037,0.5459098497495827,0.6143572621035058,0.656093489148581,0.5509181969949917,0.5175292153589316,0.5108514190317195,0.5843071786310517,0.5676126878130217,0.7028380634390651,0.6126878130217028,0.8380634390651085,0.7762938230383973,0.8664440734557596,0.7395659432387313,0.7312186978297162,0.5325542570951586,0.9148580968280468,0.5025041736227045,0.5041736227045075,0.5075125208681135,0.7195325542570952,0.6961602671118531,0.5525876460767947,0.8797996661101837,0.6110183639398998,0.8631051752921536,0.4974958263772955,0.679465776293823,0.7395659432387313,0.5876460767946577,0.4991652754590985,0.4974958263772955,0.4974958263772955,0.4974958263772955,0.4974958263772955,0.4991652754590985,0.5008347245409015,0.31886477462437396,0.4524207011686144,0.48747913188647746,0.49081803005008345,0.4958263772954925,0.4974958263772955,0.4707846410684474,0.4958263772954925,0.48747913188647746,0.4590984974958264,0.41235392320534225,0.4507512520868113,0.4240400667779633,0.2704507512520868,0.2654424040066778,0.24707846410684475,0.2621035058430718,0.2838063439065108,0.27879799666110183,0.2687813021702838,0.2921535893155259,0.2921535893155259,0.27378964941569284,0.24874791318864775,0.3105175292153589,0.31552587646076796,0.2637729549248748,0.2637729549248748,0.25375626043405675,0.27712854757929883,0.35225375626043404,0.4040066777963272,0.4540901502504174,0.4373956594323873,0.4290484140233723,0.4791318864774624,0.41235392320534225,0.41235392320534225,0.48914858096828046,0.4958263772954925],\"yaxis\":\"y3\",\"type\":\"scatter\"},{\"hovertemplate\":\"variable=0\\u003cbr\\u003eindex=%{x}\\u003cbr\\u003evalue=%{y}\\u003cextra\\u003e\\u003c\\u002fextra\\u003e\",\"legendgroup\":\"0\",\"line\":{\"color\":\"#636efa\",\"dash\":\"dot\"},\"marker\":{\"color\":\"blue\",\"size\":3,\"symbol\":\"circle\"},\"mode\":\"lines\",\"name\":\"0\",\"orientation\":\"v\",\"showlegend\":true,\"x\":[0,1,2,3,4,5,6,7,8,9,10,11,12,13,14,15,16,17,18,19,20,21,22,23,24,25,26,27,28,29,30,31,32,33,34,35,36,37,38,39,40,41,42,43,44,45,46,47,48,49,50,51,52,53,54,55,56,57,58,59,60,61,62,63,64,65,66,67,68,69,70,71,72,73,74,75,76,77,78,79],\"xaxis\":\"x4\",\"y\":[0.4974958263772955,0.4974958263772955,0.5025041736227045,0.5025041736227045,0.4991652754590985,0.5025041736227045,0.5025041736227045,0.5025041736227045,0.5025041736227045,0.5025041736227045,0.5025041736227045,0.5025041736227045,0.5025041736227045,0.5025041736227045,0.5025041736227045,0.5025041736227045,0.5025041736227045,0.5025041736227045,0.5025041736227045,0.5025041736227045,0.5025041736227045,0.5025041736227045,0.5025041736227045,0.5025041736227045,0.5025041736227045,0.5025041736227045,0.5025041736227045,0.5025041736227045,0.5025041736227045,0.5025041736227045,0.5025041736227045,0.5025041736227045,0.5025041736227045,0.5025041736227045,0.5025041736227045,0.5025041736227045,0.5025041736227045,0.5025041736227045,0.5025041736227045,0.5025041736227045,0.5025041736227045,0.5025041736227045,0.5025041736227045,0.5025041736227045,0.5025041736227045,0.5025041736227045,0.5025041736227045,0.5025041736227045,0.5025041736227045,0.5025041736227045,0.5025041736227045,0.5025041736227045,0.5025041736227045,0.5025041736227045,0.5025041736227045,0.5025041736227045,0.5025041736227045,0.5025041736227045,0.5025041736227045,0.5025041736227045,0.5025041736227045,0.5025041736227045,0.5025041736227045,0.5025041736227045,0.5025041736227045,0.5025041736227045,0.5025041736227045,0.5025041736227045,0.5025041736227045,0.5025041736227045,0.5025041736227045,0.5025041736227045,0.5025041736227045,0.5308848080133556,0.5826377295492488,0.6861435726210351,0.6844741235392321,0.5158597662771286,0.5025041736227045,0.5025041736227045],\"yaxis\":\"y4\",\"type\":\"scatter\"},{\"hovertemplate\":\"variable=0\\u003cbr\\u003eindex=%{x}\\u003cbr\\u003evalue=%{y}\\u003cextra\\u003e\\u003c\\u002fextra\\u003e\",\"legendgroup\":\"0\",\"line\":{\"color\":\"#636efa\",\"dash\":\"dot\"},\"marker\":{\"color\":\"blue\",\"size\":3,\"symbol\":\"circle\"},\"mode\":\"lines\",\"name\":\"0\",\"orientation\":\"v\",\"showlegend\":true,\"x\":[0,1,2,3,4,5,6,7,8,9,10,11,12,13,14,15,16,17,18,19,20,21,22,23,24,25,26,27,28,29,30,31,32,33,34,35,36,37,38,39,40,41,42,43,44,45,46,47,48,49,50,51,52,53,54,55,56,57,58,59,60,61,62,63,64,65,66,67,68,69,70,71,72,73,74,75,76,77,78,79],\"xaxis\":\"x5\",\"y\":[0.6327212020033389,0.6944908180300501,0.7829716193656093,0.8397328881469115,0.8831385642737897,0.9115191986644408,0.9282136894824707,0.9348914858096828,0.9398998330550918,0.9449081803005008,0.9482470784641068,0.9532554257095158,0.9666110183639399,0.9766277128547579,0.9766277128547579,0.9799666110183639,0.9816360601001669,0.9799666110183639,0.9816360601001669,0.9849749582637729,0.986644407345576,0.988313856427379,0.989983305509182,0.988313856427379,0.989983305509182,0.989983305509182,0.988313856427379,0.988313856427379,0.986644407345576,0.986644407345576,0.988313856427379,0.988313856427379,0.988313856427379,0.988313856427379,0.988313856427379,0.988313856427379,0.986644407345576,0.986644407345576,0.988313856427379,0.989983305509182,0.989983305509182,0.989983305509182,0.988313856427379,0.988313856427379,0.988313856427379,0.989983305509182,0.989983305509182,0.988313856427379,0.988313856427379,0.989983305509182,0.989983305509182,0.988313856427379,0.986644407345576,0.9833055091819699,0.9849749582637729,0.9833055091819699,0.986644407345576,0.986644407345576,0.9849749582637729,0.9849749582637729,0.9849749582637729,0.9849749582637729,0.9849749582637729,0.986644407345576,0.9849749582637729,0.9833055091819699,0.9849749582637729,0.9849749582637729,0.9833055091819699,0.9833055091819699,0.9833055091819699,0.9833055091819699,0.9833055091819699,0.9833055091819699,0.9833055091819699,0.9833055091819699,0.9833055091819699,0.988313856427379,0.9849749582637729,0.9849749582637729],\"yaxis\":\"y5\",\"type\":\"scatter\"},{\"hovertemplate\":\"variable=0\\u003cbr\\u003eindex=%{x}\\u003cbr\\u003evalue=%{y}\\u003cextra\\u003e\\u003c\\u002fextra\\u003e\",\"legendgroup\":\"0\",\"line\":{\"color\":\"#636efa\",\"dash\":\"dot\"},\"marker\":{\"color\":\"blue\",\"size\":3,\"symbol\":\"circle\"},\"mode\":\"lines\",\"name\":\"0\",\"orientation\":\"v\",\"showlegend\":true,\"x\":[0,1,2,3,4,5,6,7,8,9,10,11,12,13,14,15,16,17,18,19,20,21,22,23,24,25,26,27,28,29,30,31,32,33,34,35,36,37,38,39,40,41,42,43,44,45,46,47,48,49,50,51,52,53,54,55,56,57,58,59,60,61,62,63,64,65,66,67,68,69,70,71,72,73,74,75,76,77,78,79],\"xaxis\":\"x6\",\"y\":[0.4974958263772955,0.4974958263772955,0.5025041736227045,0.5025041736227045,0.5008347245409015,0.5025041736227045,0.5025041736227045,0.5025041736227045,0.5025041736227045,0.5025041736227045,0.5025041736227045,0.5025041736227045,0.5025041736227045,0.5025041736227045,0.5025041736227045,0.5025041736227045,0.5025041736227045,0.5025041736227045,0.5025041736227045,0.5025041736227045,0.5025041736227045,0.5025041736227045,0.5025041736227045,0.5025041736227045,0.5025041736227045,0.5025041736227045,0.5025041736227045,0.5025041736227045,0.5025041736227045,0.5025041736227045,0.5025041736227045,0.5025041736227045,0.5025041736227045,0.5025041736227045,0.5025041736227045,0.5025041736227045,0.5025041736227045,0.5025041736227045,0.5025041736227045,0.5025041736227045,0.5025041736227045,0.5025041736227045,0.5025041736227045,0.5025041736227045,0.5025041736227045,0.5025041736227045,0.5025041736227045,0.5025041736227045,0.5025041736227045,0.5025041736227045,0.5025041736227045,0.5025041736227045,0.5025041736227045,0.5025041736227045,0.5025041736227045,0.5025041736227045,0.5025041736227045,0.5025041736227045,0.5025041736227045,0.5025041736227045,0.5025041736227045,0.5025041736227045,0.5025041736227045,0.5025041736227045,0.5025041736227045,0.5025041736227045,0.5025041736227045,0.5025041736227045,0.5025041736227045,0.5025041736227045,0.5025041736227045,0.5025041736227045,0.5025041736227045,0.5025041736227045,0.5025041736227045,0.5025041736227045,0.5025041736227045,0.5025041736227045,0.4974958263772955,0.5025041736227045],\"yaxis\":\"y6\",\"type\":\"scatter\"},{\"hovertemplate\":\"variable=0\\u003cbr\\u003eindex=%{x}\\u003cbr\\u003evalue=%{y}\\u003cextra\\u003e\\u003c\\u002fextra\\u003e\",\"legendgroup\":\"0\",\"line\":{\"color\":\"#636efa\",\"dash\":\"dot\"},\"marker\":{\"color\":\"blue\",\"size\":3,\"symbol\":\"circle\"},\"mode\":\"lines\",\"name\":\"0\",\"orientation\":\"v\",\"showlegend\":true,\"x\":[0,1,2,3,4,5,6,7,8,9,10,11,12,13,14,15,16,17,18,19,20,21,22,23,24,25,26,27,28,29,30,31,32,33,34,35,36,37,38,39,40,41,42,43,44,45,46,47,48,49,50,51,52,53,54,55,56,57,58,59,60,61,62,63,64,65,66,67,68,69,70,71,72,73,74,75,76,77,78,79],\"xaxis\":\"x7\",\"y\":[0.4974958263772955,0.4974958263772955,0.4974958263772955,0.5008347245409015,0.5242070116861436,0.5459098497495827,0.4974958263772955,0.4974958263772955,0.4974958263772955,0.4991652754590985,0.5058430717863105,0.67779632721202,0.7295492487479132,0.7545909849749582,0.8597662771285476,0.5592654424040067,0.4974958263772955,0.4974958263772955,0.5342237061769616,0.5025041736227045,0.5175292153589316,0.5475792988313857,0.5025041736227045,0.4991652754590985,0.5075125208681135,0.8113522537562604,0.5609348914858097,0.7479131886477463,0.5008347245409015,0.5175292153589316,0.44240400667779634,0.4991652754590985,0.4791318864774624,0.5091819699499165,0.5692821368948247,0.6343906510851419,0.7545909849749582,0.6076794657762938,0.5859766277128547,0.5592654424040067,0.39065108514190316,0.3005008347245409,0.24707846410684475,0.21702838063439064,0.19031719532554256,0.17362270450751252,0.16193656093489148,0.14691151919866444,0.14858096828046743,0.14357262103505844,0.14858096828046743,0.1419031719532554,0.15191986644407346,0.1419031719532554,0.14524207011686144,0.1419031719532554,0.14023372287145242,0.14023372287145242,0.14357262103505844,0.13856427378964942,0.14691151919866444,0.14357262103505844,0.15191986644407346,0.14357262103505844,0.15191986644407346,0.1636060100166945,0.14691151919866444,0.15692821368948248,0.19031719532554256,0.21035058430717862,0.21535893155258765,0.19699499165275458,0.19198664440734559,0.19365609348914858,0.21702838063439064,0.32387312186978295,0.4257095158597663,0.4056761268781302,0.3756260434056761,0.3756260434056761],\"yaxis\":\"y7\",\"type\":\"scatter\"},{\"hovertemplate\":\"variable=0\\u003cbr\\u003eindex=%{x}\\u003cbr\\u003evalue=%{y}\\u003cextra\\u003e\\u003c\\u002fextra\\u003e\",\"legendgroup\":\"0\",\"line\":{\"color\":\"#636efa\",\"dash\":\"dot\"},\"marker\":{\"color\":\"blue\",\"size\":3,\"symbol\":\"circle\"},\"mode\":\"lines\",\"name\":\"0\",\"orientation\":\"v\",\"showlegend\":true,\"x\":[0,1,2,3,4,5,6,7,8,9,10,11,12,13,14,15,16,17,18,19,20,21,22,23,24,25,26,27,28,29,30,31,32,33,34,35,36,37,38,39,40,41,42,43,44,45,46,47,48,49,50,51,52,53,54,55,56,57,58,59,60,61,62,63,64,65,66,67,68,69,70,71,72,73,74,75,76,77,78,79],\"xaxis\":\"x8\",\"y\":[0.4974958263772955,0.4974958263772955,0.4974958263772955,0.4974958263772955,0.5742904841402338,0.5626043405676127,0.5292153589315526,0.5041736227045075,0.6026711185308848,0.5292153589315526,0.5659432387312187,0.5025041736227045,0.5091819699499165,0.5191986644407346,0.5141903171953256,0.4991652754590985,0.4974958263772955,0.4974958263772955,0.5075125208681135,0.4991652754590985,0.5191986644407346,0.654424040066778,0.6343906510851419,0.4991652754590985,0.4974958263772955,0.5726210350584308,0.5459098497495827,0.5325542570951586,0.4974958263772955,0.5292153589315526,0.5375626043405676,0.5041736227045075,0.6460767946577629,0.5108514190317195,0.5859766277128547,0.6210350584307178,0.667779632721202,0.7662771285475793,0.7028380634390651,0.6393989983305509,0.6477462437395659,0.5459098497495827,0.5425709515859767,0.5943238731218697,0.5659432387312187,0.5492487479131887,0.5776293823038398,0.5792988313856428,0.5676126878130217,0.5409015025041736,0.5308848080133556,0.5442404006677797,0.5659432387312187,0.5559265442404007,0.5525876460767947,0.5409015025041736,0.5475792988313857,0.5475792988313857,0.5292153589315526,0.5375626043405676,0.5459098497495827,0.5442404006677797,0.5358931552587646,0.5208681135225376,0.5358931552587646,0.5342237061769616,0.5292153589315526,0.5358931552587646,0.5459098497495827,0.5308848080133556,0.5358931552587646,0.5375626043405676,0.5442404006677797,0.5258764607679466,0.5191986644407346,0.5141903171953256,0.5075125208681135,0.5041736227045075,0.5058430717863105,0.48414023372287146],\"yaxis\":\"y8\",\"type\":\"scatter\"},{\"hovertemplate\":\"variable=0\\u003cbr\\u003eindex=%{x}\\u003cbr\\u003evalue=%{y}\\u003cextra\\u003e\\u003c\\u002fextra\\u003e\",\"legendgroup\":\"0\",\"line\":{\"color\":\"#636efa\",\"dash\":\"dot\"},\"marker\":{\"color\":\"blue\",\"size\":3,\"symbol\":\"circle\"},\"mode\":\"lines\",\"name\":\"0\",\"orientation\":\"v\",\"showlegend\":true,\"x\":[0,1,2,3,4,5,6,7,8,9,10,11,12,13,14,15,16,17,18,19,20,21,22,23,24,25,26,27,28,29,30,31,32,33,34,35,36,37,38,39,40,41,42,43,44,45,46,47,48,49,50,51,52,53,54,55,56,57,58,59,60,61,62,63,64,65,66,67,68,69,70,71,72,73,74,75,76,77,78,79],\"xaxis\":\"x9\",\"y\":[0.4974958263772955,0.5325542570951586,0.5943238731218697,0.6193656093489148,0.6160267111853088,0.657762938230384,0.679465776293823,0.7111853088480802,0.7495826377295493,0.7879799666110183,0.8196994991652755,0.8313856427378965,0.8363939899833055,0.8597662771285476,0.8814691151919867,0.9065108514190318,0.9165275459098498,0.9315525876460768,0.9432387312186978,0.9582637729549248,0.9599332220367279,0.9632721202003339,0.9649415692821369,0.9632721202003339,0.9649415692821369,0.9649415692821369,0.9682804674457429,0.9666110183639399,0.9799666110183639,0.9816360601001669,0.9833055091819699,0.9833055091819699,0.9833055091819699,0.9833055091819699,0.9849749582637729,0.9849749582637729,0.9849749582637729,0.9849749582637729,0.9849749582637729,0.9849749582637729,0.9816360601001669,0.9816360601001669,0.9799666110183639,0.9799666110183639,0.9799666110183639,0.9782971619365609,0.9799666110183639,0.9816360601001669,0.9816360601001669,0.9816360601001669,0.9799666110183639,0.9766277128547579,0.9782971619365609,0.9799666110183639,0.9799666110183639,0.9799666110183639,0.9799666110183639,0.9816360601001669,0.9816360601001669,0.9816360601001669,0.9816360601001669,0.9799666110183639,0.9799666110183639,0.9816360601001669,0.9799666110183639,0.9799666110183639,0.9816360601001669,0.9799666110183639,0.9799666110183639,0.9799666110183639,0.9816360601001669,0.9816360601001669,0.9816360601001669,0.9816360601001669,0.9816360601001669,0.9799666110183639,0.9799666110183639,0.9816360601001669,0.9799666110183639,0.9799666110183639],\"yaxis\":\"y9\",\"type\":\"scatter\"}],                        {\"template\":{\"data\":{\"histogram2dcontour\":[{\"type\":\"histogram2dcontour\",\"colorbar\":{\"outlinewidth\":0,\"ticks\":\"\"},\"colorscale\":[[0.0,\"#0d0887\"],[0.1111111111111111,\"#46039f\"],[0.2222222222222222,\"#7201a8\"],[0.3333333333333333,\"#9c179e\"],[0.4444444444444444,\"#bd3786\"],[0.5555555555555556,\"#d8576b\"],[0.6666666666666666,\"#ed7953\"],[0.7777777777777778,\"#fb9f3a\"],[0.8888888888888888,\"#fdca26\"],[1.0,\"#f0f921\"]]}],\"choropleth\":[{\"type\":\"choropleth\",\"colorbar\":{\"outlinewidth\":0,\"ticks\":\"\"}}],\"histogram2d\":[{\"type\":\"histogram2d\",\"colorbar\":{\"outlinewidth\":0,\"ticks\":\"\"},\"colorscale\":[[0.0,\"#0d0887\"],[0.1111111111111111,\"#46039f\"],[0.2222222222222222,\"#7201a8\"],[0.3333333333333333,\"#9c179e\"],[0.4444444444444444,\"#bd3786\"],[0.5555555555555556,\"#d8576b\"],[0.6666666666666666,\"#ed7953\"],[0.7777777777777778,\"#fb9f3a\"],[0.8888888888888888,\"#fdca26\"],[1.0,\"#f0f921\"]]}],\"heatmap\":[{\"type\":\"heatmap\",\"colorbar\":{\"outlinewidth\":0,\"ticks\":\"\"},\"colorscale\":[[0.0,\"#0d0887\"],[0.1111111111111111,\"#46039f\"],[0.2222222222222222,\"#7201a8\"],[0.3333333333333333,\"#9c179e\"],[0.4444444444444444,\"#bd3786\"],[0.5555555555555556,\"#d8576b\"],[0.6666666666666666,\"#ed7953\"],[0.7777777777777778,\"#fb9f3a\"],[0.8888888888888888,\"#fdca26\"],[1.0,\"#f0f921\"]]}],\"heatmapgl\":[{\"type\":\"heatmapgl\",\"colorbar\":{\"outlinewidth\":0,\"ticks\":\"\"},\"colorscale\":[[0.0,\"#0d0887\"],[0.1111111111111111,\"#46039f\"],[0.2222222222222222,\"#7201a8\"],[0.3333333333333333,\"#9c179e\"],[0.4444444444444444,\"#bd3786\"],[0.5555555555555556,\"#d8576b\"],[0.6666666666666666,\"#ed7953\"],[0.7777777777777778,\"#fb9f3a\"],[0.8888888888888888,\"#fdca26\"],[1.0,\"#f0f921\"]]}],\"contourcarpet\":[{\"type\":\"contourcarpet\",\"colorbar\":{\"outlinewidth\":0,\"ticks\":\"\"}}],\"contour\":[{\"type\":\"contour\",\"colorbar\":{\"outlinewidth\":0,\"ticks\":\"\"},\"colorscale\":[[0.0,\"#0d0887\"],[0.1111111111111111,\"#46039f\"],[0.2222222222222222,\"#7201a8\"],[0.3333333333333333,\"#9c179e\"],[0.4444444444444444,\"#bd3786\"],[0.5555555555555556,\"#d8576b\"],[0.6666666666666666,\"#ed7953\"],[0.7777777777777778,\"#fb9f3a\"],[0.8888888888888888,\"#fdca26\"],[1.0,\"#f0f921\"]]}],\"surface\":[{\"type\":\"surface\",\"colorbar\":{\"outlinewidth\":0,\"ticks\":\"\"},\"colorscale\":[[0.0,\"#0d0887\"],[0.1111111111111111,\"#46039f\"],[0.2222222222222222,\"#7201a8\"],[0.3333333333333333,\"#9c179e\"],[0.4444444444444444,\"#bd3786\"],[0.5555555555555556,\"#d8576b\"],[0.6666666666666666,\"#ed7953\"],[0.7777777777777778,\"#fb9f3a\"],[0.8888888888888888,\"#fdca26\"],[1.0,\"#f0f921\"]]}],\"mesh3d\":[{\"type\":\"mesh3d\",\"colorbar\":{\"outlinewidth\":0,\"ticks\":\"\"}}],\"scatter\":[{\"fillpattern\":{\"fillmode\":\"overlay\",\"size\":10,\"solidity\":0.2},\"type\":\"scatter\"}],\"parcoords\":[{\"type\":\"parcoords\",\"line\":{\"colorbar\":{\"outlinewidth\":0,\"ticks\":\"\"}}}],\"scatterpolargl\":[{\"type\":\"scatterpolargl\",\"marker\":{\"colorbar\":{\"outlinewidth\":0,\"ticks\":\"\"}}}],\"bar\":[{\"error_x\":{\"color\":\"#2a3f5f\"},\"error_y\":{\"color\":\"#2a3f5f\"},\"marker\":{\"line\":{\"color\":\"#E5ECF6\",\"width\":0.5},\"pattern\":{\"fillmode\":\"overlay\",\"size\":10,\"solidity\":0.2}},\"type\":\"bar\"}],\"scattergeo\":[{\"type\":\"scattergeo\",\"marker\":{\"colorbar\":{\"outlinewidth\":0,\"ticks\":\"\"}}}],\"scatterpolar\":[{\"type\":\"scatterpolar\",\"marker\":{\"colorbar\":{\"outlinewidth\":0,\"ticks\":\"\"}}}],\"histogram\":[{\"marker\":{\"pattern\":{\"fillmode\":\"overlay\",\"size\":10,\"solidity\":0.2}},\"type\":\"histogram\"}],\"scattergl\":[{\"type\":\"scattergl\",\"marker\":{\"colorbar\":{\"outlinewidth\":0,\"ticks\":\"\"}}}],\"scatter3d\":[{\"type\":\"scatter3d\",\"line\":{\"colorbar\":{\"outlinewidth\":0,\"ticks\":\"\"}},\"marker\":{\"colorbar\":{\"outlinewidth\":0,\"ticks\":\"\"}}}],\"scattermapbox\":[{\"type\":\"scattermapbox\",\"marker\":{\"colorbar\":{\"outlinewidth\":0,\"ticks\":\"\"}}}],\"scatterternary\":[{\"type\":\"scatterternary\",\"marker\":{\"colorbar\":{\"outlinewidth\":0,\"ticks\":\"\"}}}],\"scattercarpet\":[{\"type\":\"scattercarpet\",\"marker\":{\"colorbar\":{\"outlinewidth\":0,\"ticks\":\"\"}}}],\"carpet\":[{\"aaxis\":{\"endlinecolor\":\"#2a3f5f\",\"gridcolor\":\"white\",\"linecolor\":\"white\",\"minorgridcolor\":\"white\",\"startlinecolor\":\"#2a3f5f\"},\"baxis\":{\"endlinecolor\":\"#2a3f5f\",\"gridcolor\":\"white\",\"linecolor\":\"white\",\"minorgridcolor\":\"white\",\"startlinecolor\":\"#2a3f5f\"},\"type\":\"carpet\"}],\"table\":[{\"cells\":{\"fill\":{\"color\":\"#EBF0F8\"},\"line\":{\"color\":\"white\"}},\"header\":{\"fill\":{\"color\":\"#C8D4E3\"},\"line\":{\"color\":\"white\"}},\"type\":\"table\"}],\"barpolar\":[{\"marker\":{\"line\":{\"color\":\"#E5ECF6\",\"width\":0.5},\"pattern\":{\"fillmode\":\"overlay\",\"size\":10,\"solidity\":0.2}},\"type\":\"barpolar\"}],\"pie\":[{\"automargin\":true,\"type\":\"pie\"}]},\"layout\":{\"autotypenumbers\":\"strict\",\"colorway\":[\"#636efa\",\"#EF553B\",\"#00cc96\",\"#ab63fa\",\"#FFA15A\",\"#19d3f3\",\"#FF6692\",\"#B6E880\",\"#FF97FF\",\"#FECB52\"],\"font\":{\"color\":\"#2a3f5f\"},\"hovermode\":\"closest\",\"hoverlabel\":{\"align\":\"left\"},\"paper_bgcolor\":\"white\",\"plot_bgcolor\":\"#E5ECF6\",\"polar\":{\"bgcolor\":\"#E5ECF6\",\"angularaxis\":{\"gridcolor\":\"white\",\"linecolor\":\"white\",\"ticks\":\"\"},\"radialaxis\":{\"gridcolor\":\"white\",\"linecolor\":\"white\",\"ticks\":\"\"}},\"ternary\":{\"bgcolor\":\"#E5ECF6\",\"aaxis\":{\"gridcolor\":\"white\",\"linecolor\":\"white\",\"ticks\":\"\"},\"baxis\":{\"gridcolor\":\"white\",\"linecolor\":\"white\",\"ticks\":\"\"},\"caxis\":{\"gridcolor\":\"white\",\"linecolor\":\"white\",\"ticks\":\"\"}},\"coloraxis\":{\"colorbar\":{\"outlinewidth\":0,\"ticks\":\"\"}},\"colorscale\":{\"sequential\":[[0.0,\"#0d0887\"],[0.1111111111111111,\"#46039f\"],[0.2222222222222222,\"#7201a8\"],[0.3333333333333333,\"#9c179e\"],[0.4444444444444444,\"#bd3786\"],[0.5555555555555556,\"#d8576b\"],[0.6666666666666666,\"#ed7953\"],[0.7777777777777778,\"#fb9f3a\"],[0.8888888888888888,\"#fdca26\"],[1.0,\"#f0f921\"]],\"sequentialminus\":[[0.0,\"#0d0887\"],[0.1111111111111111,\"#46039f\"],[0.2222222222222222,\"#7201a8\"],[0.3333333333333333,\"#9c179e\"],[0.4444444444444444,\"#bd3786\"],[0.5555555555555556,\"#d8576b\"],[0.6666666666666666,\"#ed7953\"],[0.7777777777777778,\"#fb9f3a\"],[0.8888888888888888,\"#fdca26\"],[1.0,\"#f0f921\"]],\"diverging\":[[0,\"#8e0152\"],[0.1,\"#c51b7d\"],[0.2,\"#de77ae\"],[0.3,\"#f1b6da\"],[0.4,\"#fde0ef\"],[0.5,\"#f7f7f7\"],[0.6,\"#e6f5d0\"],[0.7,\"#b8e186\"],[0.8,\"#7fbc41\"],[0.9,\"#4d9221\"],[1,\"#276419\"]]},\"xaxis\":{\"gridcolor\":\"white\",\"linecolor\":\"white\",\"ticks\":\"\",\"title\":{\"standoff\":15},\"zerolinecolor\":\"white\",\"automargin\":true,\"zerolinewidth\":2},\"yaxis\":{\"gridcolor\":\"white\",\"linecolor\":\"white\",\"ticks\":\"\",\"title\":{\"standoff\":15},\"zerolinecolor\":\"white\",\"automargin\":true,\"zerolinewidth\":2},\"scene\":{\"xaxis\":{\"backgroundcolor\":\"#E5ECF6\",\"gridcolor\":\"white\",\"linecolor\":\"white\",\"showbackground\":true,\"ticks\":\"\",\"zerolinecolor\":\"white\",\"gridwidth\":2},\"yaxis\":{\"backgroundcolor\":\"#E5ECF6\",\"gridcolor\":\"white\",\"linecolor\":\"white\",\"showbackground\":true,\"ticks\":\"\",\"zerolinecolor\":\"white\",\"gridwidth\":2},\"zaxis\":{\"backgroundcolor\":\"#E5ECF6\",\"gridcolor\":\"white\",\"linecolor\":\"white\",\"showbackground\":true,\"ticks\":\"\",\"zerolinecolor\":\"white\",\"gridwidth\":2}},\"shapedefaults\":{\"line\":{\"color\":\"#2a3f5f\"}},\"annotationdefaults\":{\"arrowcolor\":\"#2a3f5f\",\"arrowhead\":0,\"arrowwidth\":1},\"geo\":{\"bgcolor\":\"white\",\"landcolor\":\"#E5ECF6\",\"subunitcolor\":\"white\",\"showland\":true,\"showlakes\":true,\"lakecolor\":\"white\"},\"title\":{\"x\":0.05},\"mapbox\":{\"style\":\"light\"}}},\"xaxis\":{\"anchor\":\"y\",\"domain\":[0.0,0.2888888888888889]},\"yaxis\":{\"anchor\":\"x\",\"domain\":[0.7333333333333333,1.0],\"title\":{\"text\":\"Trained on honest\"}},\"xaxis2\":{\"anchor\":\"y2\",\"domain\":[0.35555555555555557,0.6444444444444445]},\"yaxis2\":{\"anchor\":\"x2\",\"domain\":[0.7333333333333333,1.0]},\"xaxis3\":{\"anchor\":\"y3\",\"domain\":[0.7111111111111111,1.0]},\"yaxis3\":{\"anchor\":\"x3\",\"domain\":[0.7333333333333333,1.0]},\"xaxis4\":{\"anchor\":\"y4\",\"domain\":[0.0,0.2888888888888889]},\"yaxis4\":{\"anchor\":\"x4\",\"domain\":[0.36666666666666664,0.6333333333333333],\"title\":{\"text\":\"Trained on neutral\"}},\"xaxis5\":{\"anchor\":\"y5\",\"domain\":[0.35555555555555557,0.6444444444444445]},\"yaxis5\":{\"anchor\":\"x5\",\"domain\":[0.36666666666666664,0.6333333333333333]},\"xaxis6\":{\"anchor\":\"y6\",\"domain\":[0.7111111111111111,1.0]},\"yaxis6\":{\"anchor\":\"x6\",\"domain\":[0.36666666666666664,0.6333333333333333]},\"xaxis7\":{\"anchor\":\"y7\",\"domain\":[0.0,0.2888888888888889],\"title\":{\"text\":\"Tested on honest\"}},\"yaxis7\":{\"anchor\":\"x7\",\"domain\":[0.0,0.26666666666666666],\"title\":{\"text\":\"Trained on liar\"}},\"xaxis8\":{\"anchor\":\"y8\",\"domain\":[0.35555555555555557,0.6444444444444445],\"title\":{\"text\":\"Tested on neutral\"}},\"yaxis8\":{\"anchor\":\"x8\",\"domain\":[0.0,0.26666666666666666]},\"xaxis9\":{\"anchor\":\"y9\",\"domain\":[0.7111111111111111,1.0],\"title\":{\"text\":\"Tested on liar\"}},\"yaxis9\":{\"anchor\":\"x9\",\"domain\":[0.0,0.26666666666666666]},\"title\":{\"text\":\"Transfer resid_mid Probe Accuracies, trained on row and tested on column, Dataset azaria_mitchell_facts\"},\"height\":1000},                        {\"responsive\": true}                    ).then(function(){\n",
       "                            \n",
       "var gd = document.getElementById('0c74132d-c53a-4325-a978-17c20b45a2da');\n",
       "var x = new MutationObserver(function (mutations, observer) {{\n",
       "        var display = window.getComputedStyle(gd).display;\n",
       "        if (!display || display === 'none') {{\n",
       "            console.log([gd, 'removed!']);\n",
       "            Plotly.purge(gd);\n",
       "            observer.disconnect();\n",
       "        }}\n",
       "}});\n",
       "\n",
       "// Listen for the removal of the full notebook cells\n",
       "var notebookContainer = gd.closest('#notebook-container');\n",
       "if (notebookContainer) {{\n",
       "    x.observe(notebookContainer, {childList: true});\n",
       "}}\n",
       "\n",
       "// Listen for the clearing of the current output cell\n",
       "var outputEl = gd.closest('.output');\n",
       "if (outputEl) {{\n",
       "    x.observe(outputEl, {childList: true});\n",
       "}}\n",
       "\n",
       "                        })                };                });            </script>        </div>"
      ]
     },
     "metadata": {},
     "output_type": "display_data"
    }
   ],
   "source": [
    "for idx1 in range(1, 4):\n",
    "    fig.update_xaxes(title_text=f\"Tested on {modes[idx1-1]}\", row=3, col=idx1)\n",
    "\n",
    "for idx2 in range(1, 4):\n",
    "    fig.update_yaxes(title_text=f\"Trained on {modes[idx2-1]}\", row=idx2, col=1)\n",
    "\n",
    "fig.update_layout(title_text=f\"Transfer {act_type} Probe Accuracies, trained on row and tested on column, Dataset {dataset_name}\", height=1000)\n",
    "fig.show()"
   ]
  },
  {
   "cell_type": "code",
   "execution_count": 11,
   "metadata": {},
   "outputs": [
    {
     "data": {
      "image/png": "[encoded data removed]",
      "text/plain": [
       "<Figure size 1500x1500 with 1 Axes>"
      ]
     },
     "metadata": {},
     "output_type": "display_data"
    }
   ],
   "source": [
    "import matplotlib.pyplot as plt\n",
    "\n",
    "percentiles = [99.8, 99, 95, 50]\n",
    "\n",
    "def get_probe_percentiles(accs, percentiles):\n",
    "    acc_percentiles = []\n",
    "    for percentile in percentiles:\n",
    "        acc_percentiles.append(np.percentile(accs, percentile))\n",
    "    return acc_percentiles\n",
    "\n",
    "# Set the figure size\n",
    "plt.figure(figsize=(15, 15))\n",
    "\n",
    "# Define the bar width\n",
    "bar_width = 0.05\n",
    "\n",
    "# Create lists to hold plot data\n",
    "bar_positions = []\n",
    "bar_heights = []\n",
    "bar_labels = []\n",
    "bar_colors = ['r', 'g', 'b', 'y']  # colors for different percentiles\n",
    "\n",
    "for idx1, mode in enumerate(modes, start=1):\n",
    "    for idx2, other_mode in enumerate(modes, start=1):\n",
    "        acc_tensor = transfer_acc_tensors[idx1-1, idx2-1]\n",
    "        probe_percentiles = get_probe_percentiles(acc_tensor, percentiles)\n",
    "        \n",
    "                # For each percentile, add a new bar\n",
    "        for i, percentile in enumerate(probe_percentiles):\n",
    "            bar_positions.append(idx1 + idx2/3.5 + i/20)  # increment position for each percentile\n",
    "            bar_heights.append(percentile)\n",
    "            bar_labels.append(f'{mode}-{other_mode}')\n",
    "            \n",
    "# Plot horizontal bar chart\n",
    "plt.barh(bar_positions, bar_heights, color=bar_colors, height=bar_width)\n",
    "\n",
    "# Set labels for y-ticks\n",
    "# plt.yticks(bar_positions, bar_labels)\n",
    "plt.yticks([idx1 + idx2/3.5 + 0.015*len(percentiles) for idx1, mode in enumerate(modes, start=1) for idx2, other_mode in enumerate(modes, start=1)], bar_labels[::len(percentiles)])\n",
    "\n",
    "legends = {percentiles[i]: bar_colors[i] for i in range(len(percentiles))}\n",
    "handles = [plt.Rectangle((0,0),1,1, color=legends[p]) for p in percentiles]\n",
    "plt.legend(handles, [f'{p}th Percentile' for p in percentiles])\n",
    "\n",
    "plt.title(\"Percentiles for Transfer Probe Accuracies\")\n",
    "plt.xlabel(\"Accuracy\")\n",
    "plt.show()"
   ]
  },
  {
   "cell_type": "markdown",
   "metadata": {},
   "source": [
    "# Cosine Similarities of probe weights between ModelActs"
   ]
  },
  {
   "cell_type": "code",
   "execution_count": 58,
   "metadata": {},
   "outputs": [
    {
     "name": "stderr",
     "output_type": "stream",
     "text": [
      "100%|██████████| 80/80 [00:00<00:00, 51550.83it/s]\n",
      "100%|██████████| 80/80 [00:00<00:00, 46129.27it/s]"
     ]
    },
    {
     "name": "stderr",
     "output_type": "stream",
     "text": [
      "\n",
      "100%|██████████| 80/80 [00:00<00:00, 48231.18it/s]\n",
      "100%|██████████| 80/80 [00:00<00:00, 52535.51it/s]\n",
      "100%|██████████| 80/80 [00:00<00:00, 62357.24it/s]\n",
      "100%|██████████| 80/80 [00:00<00:00, 53730.08it/s]\n",
      "100%|██████████| 80/80 [00:00<00:00, 54207.48it/s]\n",
      "100%|██████████| 80/80 [00:00<00:00, 57133.38it/s]\n",
      "100%|██████████| 80/80 [00:00<00:00, 61658.27it/s]\n"
     ]
    },
    {
     "data": {
      "application/vnd.plotly.v1+json": {
       "config": {
        "plotlyServerURL": "https://plot.ly"
       },
       "data": [
        {
         "coloraxis": "coloraxis",
         "hovertemplate": "x: %{x}<br>Layers: %{y}<br>color: %{z}<extra></extra>",
         "name": "0",
         "type": "heatmap",
         "xaxis": "x",
         "yaxis": "y",
         "z": [
          [
           1
          ],
          [
           1.0000000000000002
          ],
          [
           1.0000000000000002
          ],
          [
           1.0000000000000002
          ],
          [
           1
          ],
          [
           1.0000000000000002
          ],
          [
           1
          ],
          [
           1
          ],
          [
           1.0000000000000002
          ],
          [
           0.9999999999999998
          ],
          [
           1
          ],
          [
           1
          ],
          [
           1
          ],
          [
           0.9999999999999998
          ],
          [
           1
          ],
          [
           1
          ],
          [
           1
          ],
          [
           1
          ],
          [
           1
          ],
          [
           1
          ],
          [
           1
          ],
          [
           0.9999999999999998
          ],
          [
           1.0000000000000002
          ],
          [
           1.0000000000000002
          ],
          [
           1.0000000000000002
          ],
          [
           1
          ],
          [
           1
          ],
          [
           1
          ],
          [
           1.0000000000000002
          ],
          [
           1
          ],
          [
           0.9999999999999999
          ],
          [
           1
          ],
          [
           0.9999999999999999
          ],
          [
           1
          ],
          [
           0.9999999999999999
          ],
          [
           1
          ],
          [
           1
          ],
          [
           1.0000000000000002
          ],
          [
           0.9999999999999999
          ],
          [
           0.9999999999999999
          ],
          [
           0.9999999999999999
          ],
          [
           1
          ],
          [
           1.0000000000000002
          ],
          [
           1
          ],
          [
           0.9999999999999999
          ],
          [
           0.9999999999999999
          ],
          [
           1
          ],
          [
           1
          ],
          [
           1.0000000000000002
          ],
          [
           1
          ],
          [
           1
          ],
          [
           1.0000000000000002
          ],
          [
           1
          ],
          [
           1.0000000000000002
          ],
          [
           1.0000000000000002
          ],
          [
           1
          ],
          [
           1
          ],
          [
           1
          ],
          [
           0.9999999999999998
          ],
          [
           1.0000000000000002
          ],
          [
           1
          ],
          [
           1.0000000000000002
          ],
          [
           1
          ],
          [
           1
          ],
          [
           1.0000000000000002
          ],
          [
           0.9999999999999999
          ],
          [
           0.9999999999999999
          ],
          [
           1.0000000000000002
          ],
          [
           1.0000000000000002
          ],
          [
           1.0000000000000002
          ],
          [
           0.9999999999999999
          ],
          [
           1.0000000000000002
          ],
          [
           1
          ],
          [
           1.0000000000000002
          ],
          [
           1
          ],
          [
           0.9999999999999998
          ],
          [
           1.0000000000000002
          ],
          [
           1
          ],
          [
           1
          ],
          [
           1.0000000000000002
          ]
         ]
        },
        {
         "coloraxis": "coloraxis",
         "hovertemplate": "x: %{x}<br>Layers: %{y}<br>color: %{z}<extra></extra>",
         "name": "0",
         "type": "heatmap",
         "xaxis": "x2",
         "yaxis": "y2",
         "z": [
          [
           -0.036860475892208956
          ],
          [
           0.049911203174531356
          ],
          [
           0.007513396681645874
          ],
          [
           0.04022222601793796
          ],
          [
           -0.01746385088234267
          ],
          [
           -0.005338724085105681
          ],
          [
           0.026418160579402807
          ],
          [
           -0.007525929876635019
          ],
          [
           0.01579707643440808
          ],
          [
           0.02347162429914278
          ],
          [
           0.023504635766230877
          ],
          [
           0.001392376636955755
          ],
          [
           0.02733684579794444
          ],
          [
           -0.008581658912249542
          ],
          [
           -0.015323150866913843
          ],
          [
           -0.01640194584274678
          ],
          [
           -0.012830178250598226
          ],
          [
           0.027791281769926356
          ],
          [
           0.039769854743771746
          ],
          [
           0.053793886175743946
          ],
          [
           0.021289161666561966
          ],
          [
           0.010116606187498716
          ],
          [
           0.007766019073035329
          ],
          [
           0.012102428334622004
          ],
          [
           0.0019296107334634877
          ],
          [
           0.028389718390294614
          ],
          [
           0.011902204426337232
          ],
          [
           0.04547190496528359
          ],
          [
           0.02846359014412491
          ],
          [
           0.02339530503025233
          ],
          [
           0.04392352283240324
          ],
          [
           0.003977074232732484
          ],
          [
           -0.004493631776068115
          ],
          [
           -0.00009203676827804299
          ],
          [
           -0.00557300987696086
          ],
          [
           0.009726308101100636
          ],
          [
           -0.007995770061899986
          ],
          [
           0.008241560044227192
          ],
          [
           0.0187015011854397
          ],
          [
           0.003067160221881306
          ],
          [
           0.0036291579454786633
          ],
          [
           -0.013571606822821852
          ],
          [
           0.033738462883676434
          ],
          [
           0.03851468493293395
          ],
          [
           0.02014884892155311
          ],
          [
           0.00046778651690463393
          ],
          [
           -0.0014763603780240534
          ],
          [
           0.04548462486539763
          ],
          [
           -0.013963906053828327
          ],
          [
           0.02119692523992837
          ],
          [
           0.010868237132614532
          ],
          [
           0.00450554095869854
          ],
          [
           0.008339525409488556
          ],
          [
           0.006117688744991507
          ],
          [
           0.04527968446678048
          ],
          [
           0.022353565562429983
          ],
          [
           -0.0008235217333547305
          ],
          [
           0.02537594353718252
          ],
          [
           0.005301021437003549
          ],
          [
           0.013930330275199956
          ],
          [
           0.017882782664220144
          ],
          [
           0.009387193817597577
          ],
          [
           0.0384331604986004
          ],
          [
           0.0056500753104828
          ],
          [
           -0.002381748758369085
          ],
          [
           -0.0005117539857162797
          ],
          [
           -0.008233569430411761
          ],
          [
           0.006104213981831026
          ],
          [
           0.021700389162557555
          ],
          [
           0.013392941324801415
          ],
          [
           0.020640642518189846
          ],
          [
           0.017091809525424582
          ],
          [
           0.030244940512170124
          ],
          [
           -0.012391276776755417
          ],
          [
           -0.008664845252262698
          ],
          [
           -0.0014041123858932786
          ],
          [
           0.017895785128288804
          ],
          [
           0.007652883184542533
          ],
          [
           -0.004712017560122812
          ],
          [
           0.00608710931160484
          ]
         ]
        },
        {
         "coloraxis": "coloraxis",
         "hovertemplate": "x: %{x}<br>Layers: %{y}<br>color: %{z}<extra></extra>",
         "name": "0",
         "type": "heatmap",
         "xaxis": "x3",
         "yaxis": "y3",
         "z": [
          [
           0.8661891424366812
          ],
          [
           0.7390454330968765
          ],
          [
           0.6573936678455803
          ],
          [
           0.8499300015314405
          ],
          [
           0.8382829890923941
          ],
          [
           0.8211192695945184
          ],
          [
           0.7744731559320461
          ],
          [
           0.8159765770422387
          ],
          [
           0.7733043240113768
          ],
          [
           0.7753314183736557
          ],
          [
           0.7884075834238875
          ],
          [
           0.7458100301997239
          ],
          [
           0.6987896767001209
          ],
          [
           0.6755438047767498
          ],
          [
           0.6899784158631563
          ],
          [
           0.5529224625190448
          ],
          [
           0.5114613769131617
          ],
          [
           0.542827784116408
          ],
          [
           0.5304952848341519
          ],
          [
           0.3290542077708074
          ],
          [
           0.3097065652285362
          ],
          [
           0.30105801439568675
          ],
          [
           0.2611791752231648
          ],
          [
           0.20210604534438104
          ],
          [
           0.17892718698316507
          ],
          [
           0.18524897241810453
          ],
          [
           0.25838275278747247
          ],
          [
           0.2057682790249217
          ],
          [
           0.2899430270468071
          ],
          [
           0.2044531420495148
          ],
          [
           0.19028633590026778
          ],
          [
           0.0955272488762183
          ],
          [
           0.13414243628934244
          ],
          [
           0.175869176907957
          ],
          [
           0.16364158509627832
          ],
          [
           0.1550925830612254
          ],
          [
           0.1622450361774617
          ],
          [
           0.2080767535102494
          ],
          [
           0.14839225701708178
          ],
          [
           0.1545838261824362
          ],
          [
           0.1487539063718175
          ],
          [
           0.17825758092232777
          ],
          [
           0.16648798344969876
          ],
          [
           0.20178088073845987
          ],
          [
           0.17961581219782294
          ],
          [
           0.16588487579698968
          ],
          [
           0.1718910630121003
          ],
          [
           0.17608486104817123
          ],
          [
           0.15199077927714116
          ],
          [
           0.14409863374235354
          ],
          [
           0.14312604295400713
          ],
          [
           0.17786072644392284
          ],
          [
           0.15499137843987257
          ],
          [
           0.20543892261051144
          ],
          [
           0.1848699369386395
          ],
          [
           0.17442215045308018
          ],
          [
           0.19101547601557825
          ],
          [
           0.1775313893382572
          ],
          [
           0.1666036276080127
          ],
          [
           0.17715912833236558
          ],
          [
           0.13251249283158004
          ],
          [
           0.17886955106694855
          ],
          [
           0.14676631890331474
          ],
          [
           0.17934385045897017
          ],
          [
           0.15185120087916384
          ],
          [
           0.150742869184368
          ],
          [
           0.136368659357269
          ],
          [
           0.12539521954721555
          ],
          [
           0.1456060481125958
          ],
          [
           0.14636467970119216
          ],
          [
           0.15793959560533105
          ],
          [
           0.0995947976417523
          ],
          [
           0.14403001461582304
          ],
          [
           0.16079821131747984
          ],
          [
           0.12080976742712594
          ],
          [
           0.1172966040377228
          ],
          [
           0.13124461916870514
          ],
          [
           0.12430998799415797
          ],
          [
           0.12559215756656894
          ],
          [
           0.18520085103810424
          ]
         ]
        },
        {
         "coloraxis": "coloraxis",
         "hovertemplate": "x: %{x}<br>Layers: %{y}<br>color: %{z}<extra></extra>",
         "name": "0",
         "type": "heatmap",
         "xaxis": "x4",
         "yaxis": "y4",
         "z": [
          [
           -0.036860475892208956
          ],
          [
           0.049911203174531356
          ],
          [
           0.007513396681645874
          ],
          [
           0.04022222601793796
          ],
          [
           -0.01746385088234267
          ],
          [
           -0.005338724085105681
          ],
          [
           0.026418160579402807
          ],
          [
           -0.007525929876635019
          ],
          [
           0.01579707643440808
          ],
          [
           0.02347162429914278
          ],
          [
           0.023504635766230877
          ],
          [
           0.001392376636955755
          ],
          [
           0.02733684579794444
          ],
          [
           -0.008581658912249542
          ],
          [
           -0.015323150866913843
          ],
          [
           -0.01640194584274678
          ],
          [
           -0.012830178250598226
          ],
          [
           0.027791281769926356
          ],
          [
           0.039769854743771746
          ],
          [
           0.053793886175743946
          ],
          [
           0.021289161666561966
          ],
          [
           0.010116606187498716
          ],
          [
           0.007766019073035329
          ],
          [
           0.012102428334622004
          ],
          [
           0.0019296107334634877
          ],
          [
           0.028389718390294614
          ],
          [
           0.011902204426337232
          ],
          [
           0.04547190496528359
          ],
          [
           0.02846359014412491
          ],
          [
           0.02339530503025233
          ],
          [
           0.04392352283240324
          ],
          [
           0.003977074232732484
          ],
          [
           -0.004493631776068115
          ],
          [
           -0.00009203676827804299
          ],
          [
           -0.00557300987696086
          ],
          [
           0.009726308101100636
          ],
          [
           -0.007995770061899986
          ],
          [
           0.008241560044227192
          ],
          [
           0.0187015011854397
          ],
          [
           0.003067160221881306
          ],
          [
           0.0036291579454786633
          ],
          [
           -0.013571606822821852
          ],
          [
           0.033738462883676434
          ],
          [
           0.03851468493293395
          ],
          [
           0.02014884892155311
          ],
          [
           0.00046778651690463393
          ],
          [
           -0.0014763603780240534
          ],
          [
           0.04548462486539763
          ],
          [
           -0.013963906053828327
          ],
          [
           0.02119692523992837
          ],
          [
           0.010868237132614532
          ],
          [
           0.00450554095869854
          ],
          [
           0.008339525409488556
          ],
          [
           0.006117688744991507
          ],
          [
           0.04527968446678048
          ],
          [
           0.022353565562429983
          ],
          [
           -0.0008235217333547305
          ],
          [
           0.02537594353718252
          ],
          [
           0.005301021437003549
          ],
          [
           0.013930330275199956
          ],
          [
           0.017882782664220144
          ],
          [
           0.009387193817597577
          ],
          [
           0.0384331604986004
          ],
          [
           0.0056500753104828
          ],
          [
           -0.002381748758369085
          ],
          [
           -0.0005117539857162797
          ],
          [
           -0.008233569430411761
          ],
          [
           0.006104213981831026
          ],
          [
           0.021700389162557555
          ],
          [
           0.013392941324801415
          ],
          [
           0.020640642518189846
          ],
          [
           0.017091809525424582
          ],
          [
           0.030244940512170124
          ],
          [
           -0.012391276776755417
          ],
          [
           -0.008664845252262698
          ],
          [
           -0.0014041123858932786
          ],
          [
           0.017895785128288804
          ],
          [
           0.007652883184542533
          ],
          [
           -0.004712017560122812
          ],
          [
           0.00608710931160484
          ]
         ]
        },
        {
         "coloraxis": "coloraxis",
         "hovertemplate": "x: %{x}<br>Layers: %{y}<br>color: %{z}<extra></extra>",
         "name": "0",
         "type": "heatmap",
         "xaxis": "x5",
         "yaxis": "y5",
         "z": [
          [
           1
          ],
          [
           1
          ],
          [
           1
          ],
          [
           1
          ],
          [
           0.9999999999999998
          ],
          [
           1
          ],
          [
           0.9999999999999999
          ],
          [
           0.9999999999999999
          ],
          [
           0.9999999999999998
          ],
          [
           1
          ],
          [
           1
          ],
          [
           1.0000000000000002
          ],
          [
           1.0000000000000002
          ],
          [
           1
          ],
          [
           0.9999999999999999
          ],
          [
           1
          ],
          [
           1
          ],
          [
           1
          ],
          [
           0.9999999999999999
          ],
          [
           1
          ],
          [
           0.9999999999999999
          ],
          [
           1
          ],
          [
           1
          ],
          [
           1
          ],
          [
           1
          ],
          [
           1.0000000000000002
          ],
          [
           1
          ],
          [
           0.9999999999999998
          ],
          [
           0.9999999999999998
          ],
          [
           0.9999999999999998
          ],
          [
           0.9999999999999998
          ],
          [
           1.0000000000000002
          ],
          [
           1
          ],
          [
           1
          ],
          [
           1
          ],
          [
           1
          ],
          [
           1
          ],
          [
           1
          ],
          [
           1.0000000000000002
          ],
          [
           1.0000000000000002
          ],
          [
           1
          ],
          [
           1
          ],
          [
           1
          ],
          [
           0.9999999999999999
          ],
          [
           0.9999999999999999
          ],
          [
           1
          ],
          [
           1.0000000000000002
          ],
          [
           1
          ],
          [
           1.0000000000000002
          ],
          [
           1
          ],
          [
           1
          ],
          [
           1
          ],
          [
           1.0000000000000002
          ],
          [
           1.0000000000000002
          ],
          [
           0.9999999999999999
          ],
          [
           1
          ],
          [
           1.0000000000000002
          ],
          [
           1
          ],
          [
           0.9999999999999999
          ],
          [
           1
          ],
          [
           1.0000000000000002
          ],
          [
           1
          ],
          [
           1
          ],
          [
           0.9999999999999998
          ],
          [
           0.9999999999999998
          ],
          [
           1
          ],
          [
           1
          ],
          [
           1
          ],
          [
           1
          ],
          [
           0.9999999999999998
          ],
          [
           1.0000000000000002
          ],
          [
           1.0000000000000002
          ],
          [
           1.0000000000000002
          ],
          [
           0.9999999999999999
          ],
          [
           1.0000000000000002
          ],
          [
           0.9999999999999999
          ],
          [
           0.9999999999999999
          ],
          [
           1.0000000000000002
          ],
          [
           1
          ],
          [
           0.9999999999999998
          ]
         ]
        },
        {
         "coloraxis": "coloraxis",
         "hovertemplate": "x: %{x}<br>Layers: %{y}<br>color: %{z}<extra></extra>",
         "name": "0",
         "type": "heatmap",
         "xaxis": "x6",
         "yaxis": "y6",
         "z": [
          [
           0.0066908927912964385
          ],
          [
           0.02507623876242103
          ],
          [
           0.02480270626055114
          ],
          [
           0.05089698760846244
          ],
          [
           -0.006570105193552373
          ],
          [
           -0.014191249889777898
          ],
          [
           -0.0035712178362487324
          ],
          [
           -0.001765730081348526
          ],
          [
           0.029624476891155386
          ],
          [
           0.006412315362392083
          ],
          [
           0.02459855417596691
          ],
          [
           0.036705446820900406
          ],
          [
           -0.03020120562155629
          ],
          [
           -0.011341931327807898
          ],
          [
           -0.030582752057547197
          ],
          [
           0.006359365698790029
          ],
          [
           -0.0050309433687324824
          ],
          [
           0.0013317406235966059
          ],
          [
           0.016562902068975774
          ],
          [
           0.047247143230122905
          ],
          [
           0.020568133281008885
          ],
          [
           0.02128262975051688
          ],
          [
           0.029106143696740732
          ],
          [
           0.024012419343329768
          ],
          [
           -0.010141647827228298
          ],
          [
           0.052940399381328385
          ],
          [
           0.03783877995289843
          ],
          [
           0.012698288101797319
          ],
          [
           0.023588405625534648
          ],
          [
           0.020957578090114205
          ],
          [
           0.024450799272233814
          ],
          [
           0.0006188990609185607
          ],
          [
           0.007814605475751062
          ],
          [
           0.022478918298185623
          ],
          [
           -0.017244527722838247
          ],
          [
           0.013098755475527612
          ],
          [
           -0.007327664294574206
          ],
          [
           0.00877997861637202
          ],
          [
           0.013814937602238115
          ],
          [
           0.015399655097729385
          ],
          [
           -0.024269900543595367
          ],
          [
           0.016301664428325664
          ],
          [
           0.006596635146710811
          ],
          [
           0.03137810697787009
          ],
          [
           0.03352415267276573
          ],
          [
           -0.014101102695930281
          ],
          [
           -0.005512827464552146
          ],
          [
           0.01172129610240727
          ],
          [
           0.0032571080514327373
          ],
          [
           0.004614866378801312
          ],
          [
           0.017427018454733927
          ],
          [
           0.027191251783896597
          ],
          [
           0.004138298768642357
          ],
          [
           0.016282760022648
          ],
          [
           0.023709869422501636
          ],
          [
           0.023809078750528744
          ],
          [
           0.019872516091201692
          ],
          [
           -0.0030167661214523115
          ],
          [
           -0.016803725251728917
          ],
          [
           0.005989290287327704
          ],
          [
           0.006113770519572296
          ],
          [
           0.01832662571943496
          ],
          [
           0.007198200566281857
          ],
          [
           0.011168061927482193
          ],
          [
           0.0176747072641591
          ],
          [
           0.013295613707604698
          ],
          [
           -0.024294222197941747
          ],
          [
           0.0060968972803691155
          ],
          [
           0.029675979804702032
          ],
          [
           0.0016779811160444232
          ],
          [
           0.0230092053610124
          ],
          [
           0.003424988535442953
          ],
          [
           0.02361949874884145
          ],
          [
           -0.01261765890300557
          ],
          [
           -0.01882881558930979
          ],
          [
           0.03185693602269088
          ],
          [
           0.03065191869540726
          ],
          [
           -0.004439291526064956
          ],
          [
           0.023489135006747132
          ],
          [
           0.015183063386225498
          ]
         ]
        },
        {
         "coloraxis": "coloraxis",
         "hovertemplate": "x: %{x}<br>Layers: %{y}<br>color: %{z}<extra></extra>",
         "name": "0",
         "type": "heatmap",
         "xaxis": "x7",
         "yaxis": "y7",
         "z": [
          [
           0.8661891424366812
          ],
          [
           0.7390454330968765
          ],
          [
           0.6573936678455803
          ],
          [
           0.8499300015314405
          ],
          [
           0.8382829890923941
          ],
          [
           0.8211192695945184
          ],
          [
           0.7744731559320461
          ],
          [
           0.8159765770422387
          ],
          [
           0.7733043240113768
          ],
          [
           0.7753314183736557
          ],
          [
           0.7884075834238875
          ],
          [
           0.7458100301997239
          ],
          [
           0.6987896767001209
          ],
          [
           0.6755438047767498
          ],
          [
           0.6899784158631563
          ],
          [
           0.5529224625190448
          ],
          [
           0.5114613769131617
          ],
          [
           0.542827784116408
          ],
          [
           0.5304952848341519
          ],
          [
           0.3290542077708074
          ],
          [
           0.3097065652285362
          ],
          [
           0.30105801439568675
          ],
          [
           0.2611791752231648
          ],
          [
           0.20210604534438104
          ],
          [
           0.17892718698316507
          ],
          [
           0.18524897241810453
          ],
          [
           0.25838275278747247
          ],
          [
           0.2057682790249217
          ],
          [
           0.2899430270468071
          ],
          [
           0.2044531420495148
          ],
          [
           0.19028633590026778
          ],
          [
           0.0955272488762183
          ],
          [
           0.13414243628934244
          ],
          [
           0.175869176907957
          ],
          [
           0.16364158509627832
          ],
          [
           0.1550925830612254
          ],
          [
           0.1622450361774617
          ],
          [
           0.2080767535102494
          ],
          [
           0.14839225701708178
          ],
          [
           0.1545838261824362
          ],
          [
           0.1487539063718175
          ],
          [
           0.17825758092232777
          ],
          [
           0.16648798344969876
          ],
          [
           0.20178088073845987
          ],
          [
           0.17961581219782294
          ],
          [
           0.16588487579698968
          ],
          [
           0.1718910630121003
          ],
          [
           0.17608486104817123
          ],
          [
           0.15199077927714116
          ],
          [
           0.14409863374235354
          ],
          [
           0.14312604295400713
          ],
          [
           0.17786072644392284
          ],
          [
           0.15499137843987257
          ],
          [
           0.20543892261051144
          ],
          [
           0.1848699369386395
          ],
          [
           0.17442215045308018
          ],
          [
           0.19101547601557825
          ],
          [
           0.1775313893382572
          ],
          [
           0.1666036276080127
          ],
          [
           0.17715912833236558
          ],
          [
           0.13251249283158004
          ],
          [
           0.17886955106694855
          ],
          [
           0.14676631890331474
          ],
          [
           0.17934385045897017
          ],
          [
           0.15185120087916384
          ],
          [
           0.150742869184368
          ],
          [
           0.136368659357269
          ],
          [
           0.12539521954721555
          ],
          [
           0.1456060481125958
          ],
          [
           0.14636467970119216
          ],
          [
           0.15793959560533105
          ],
          [
           0.0995947976417523
          ],
          [
           0.14403001461582304
          ],
          [
           0.16079821131747984
          ],
          [
           0.12080976742712594
          ],
          [
           0.1172966040377228
          ],
          [
           0.13124461916870514
          ],
          [
           0.12430998799415797
          ],
          [
           0.12559215756656894
          ],
          [
           0.18520085103810424
          ]
         ]
        },
        {
         "coloraxis": "coloraxis",
         "hovertemplate": "x: %{x}<br>Layers: %{y}<br>color: %{z}<extra></extra>",
         "name": "0",
         "type": "heatmap",
         "xaxis": "x8",
         "yaxis": "y8",
         "z": [
          [
           0.0066908927912964385
          ],
          [
           0.02507623876242103
          ],
          [
           0.02480270626055114
          ],
          [
           0.05089698760846244
          ],
          [
           -0.006570105193552373
          ],
          [
           -0.014191249889777898
          ],
          [
           -0.0035712178362487324
          ],
          [
           -0.001765730081348526
          ],
          [
           0.029624476891155386
          ],
          [
           0.006412315362392083
          ],
          [
           0.02459855417596691
          ],
          [
           0.036705446820900406
          ],
          [
           -0.03020120562155629
          ],
          [
           -0.011341931327807898
          ],
          [
           -0.030582752057547197
          ],
          [
           0.006359365698790029
          ],
          [
           -0.0050309433687324824
          ],
          [
           0.0013317406235966059
          ],
          [
           0.016562902068975774
          ],
          [
           0.047247143230122905
          ],
          [
           0.020568133281008885
          ],
          [
           0.02128262975051688
          ],
          [
           0.029106143696740732
          ],
          [
           0.024012419343329768
          ],
          [
           -0.010141647827228298
          ],
          [
           0.052940399381328385
          ],
          [
           0.03783877995289843
          ],
          [
           0.012698288101797319
          ],
          [
           0.023588405625534648
          ],
          [
           0.020957578090114205
          ],
          [
           0.024450799272233814
          ],
          [
           0.0006188990609185607
          ],
          [
           0.007814605475751062
          ],
          [
           0.022478918298185623
          ],
          [
           -0.017244527722838247
          ],
          [
           0.013098755475527612
          ],
          [
           -0.007327664294574206
          ],
          [
           0.00877997861637202
          ],
          [
           0.013814937602238115
          ],
          [
           0.015399655097729385
          ],
          [
           -0.024269900543595367
          ],
          [
           0.016301664428325664
          ],
          [
           0.006596635146710811
          ],
          [
           0.03137810697787009
          ],
          [
           0.03352415267276573
          ],
          [
           -0.014101102695930281
          ],
          [
           -0.005512827464552146
          ],
          [
           0.01172129610240727
          ],
          [
           0.0032571080514327373
          ],
          [
           0.004614866378801312
          ],
          [
           0.017427018454733927
          ],
          [
           0.027191251783896597
          ],
          [
           0.004138298768642357
          ],
          [
           0.016282760022648
          ],
          [
           0.023709869422501636
          ],
          [
           0.023809078750528744
          ],
          [
           0.019872516091201692
          ],
          [
           -0.0030167661214523115
          ],
          [
           -0.016803725251728917
          ],
          [
           0.005989290287327704
          ],
          [
           0.006113770519572296
          ],
          [
           0.01832662571943496
          ],
          [
           0.007198200566281857
          ],
          [
           0.011168061927482193
          ],
          [
           0.0176747072641591
          ],
          [
           0.013295613707604698
          ],
          [
           -0.024294222197941747
          ],
          [
           0.0060968972803691155
          ],
          [
           0.029675979804702032
          ],
          [
           0.0016779811160444232
          ],
          [
           0.0230092053610124
          ],
          [
           0.003424988535442953
          ],
          [
           0.02361949874884145
          ],
          [
           -0.01261765890300557
          ],
          [
           -0.01882881558930979
          ],
          [
           0.03185693602269088
          ],
          [
           0.03065191869540726
          ],
          [
           -0.004439291526064956
          ],
          [
           0.023489135006747132
          ],
          [
           0.015183063386225498
          ]
         ]
        },
        {
         "coloraxis": "coloraxis",
         "hovertemplate": "x: %{x}<br>Layers: %{y}<br>color: %{z}<extra></extra>",
         "name": "0",
         "type": "heatmap",
         "xaxis": "x9",
         "yaxis": "y9",
         "z": [
          [
           1
          ],
          [
           1
          ],
          [
           1.0000000000000002
          ],
          [
           1.0000000000000002
          ],
          [
           1
          ],
          [
           1.0000000000000002
          ],
          [
           0.9999999999999999
          ],
          [
           0.9999999999999999
          ],
          [
           0.9999999999999999
          ],
          [
           1
          ],
          [
           1
          ],
          [
           1.0000000000000002
          ],
          [
           1.0000000000000002
          ],
          [
           1
          ],
          [
           0.9999999999999999
          ],
          [
           1
          ],
          [
           1
          ],
          [
           0.9999999999999999
          ],
          [
           0.9999999999999999
          ],
          [
           0.9999999999999998
          ],
          [
           1
          ],
          [
           0.9999999999999998
          ],
          [
           0.9999999999999998
          ],
          [
           1.0000000000000002
          ],
          [
           0.9999999999999998
          ],
          [
           1
          ],
          [
           1
          ],
          [
           1
          ],
          [
           0.9999999999999999
          ],
          [
           0.9999999999999999
          ],
          [
           1.0000000000000002
          ],
          [
           1
          ],
          [
           0.9999999999999999
          ],
          [
           0.9999999999999999
          ],
          [
           0.9999999999999999
          ],
          [
           1.0000000000000002
          ],
          [
           1.0000000000000002
          ],
          [
           1.0000000000000002
          ],
          [
           0.9999999999999999
          ],
          [
           0.9999999999999999
          ],
          [
           1
          ],
          [
           0.9999999999999999
          ],
          [
           1
          ],
          [
           0.9999999999999999
          ],
          [
           0.9999999999999999
          ],
          [
           0.9999999999999999
          ],
          [
           1.0000000000000002
          ],
          [
           0.9999999999999999
          ],
          [
           1.0000000000000002
          ],
          [
           0.9999999999999999
          ],
          [
           1.0000000000000002
          ],
          [
           1.0000000000000002
          ],
          [
           1
          ],
          [
           0.9999999999999999
          ],
          [
           1
          ],
          [
           1.0000000000000002
          ],
          [
           1.0000000000000002
          ],
          [
           0.9999999999999998
          ],
          [
           1
          ],
          [
           0.9999999999999998
          ],
          [
           0.9999999999999998
          ],
          [
           1
          ],
          [
           1
          ],
          [
           1.0000000000000002
          ],
          [
           1
          ],
          [
           1
          ],
          [
           1
          ],
          [
           0.9999999999999998
          ],
          [
           0.9999999999999998
          ],
          [
           1
          ],
          [
           0.9999999999999999
          ],
          [
           0.9999999999999999
          ],
          [
           1
          ],
          [
           0.9999999999999999
          ],
          [
           1
          ],
          [
           1
          ],
          [
           1
          ],
          [
           1
          ],
          [
           1
          ],
          [
           1
          ]
         ]
        }
       ],
       "layout": {
        "height": 1000,
        "template": {
         "data": {
          "bar": [
           {
            "error_x": {
             "color": "#2a3f5f"
            },
            "error_y": {
             "color": "#2a3f5f"
            },
            "marker": {
             "line": {
              "color": "#E5ECF6",
              "width": 0.5
             },
             "pattern": {
              "fillmode": "overlay",
              "size": 10,
              "solidity": 0.2
             }
            },
            "type": "bar"
           }
          ],
          "barpolar": [
           {
            "marker": {
             "line": {
              "color": "#E5ECF6",
              "width": 0.5
             },
             "pattern": {
              "fillmode": "overlay",
              "size": 10,
              "solidity": 0.2
             }
            },
            "type": "barpolar"
           }
          ],
          "carpet": [
           {
            "aaxis": {
             "endlinecolor": "#2a3f5f",
             "gridcolor": "white",
             "linecolor": "white",
             "minorgridcolor": "white",
             "startlinecolor": "#2a3f5f"
            },
            "baxis": {
             "endlinecolor": "#2a3f5f",
             "gridcolor": "white",
             "linecolor": "white",
             "minorgridcolor": "white",
             "startlinecolor": "#2a3f5f"
            },
            "type": "carpet"
           }
          ],
          "choropleth": [
           {
            "colorbar": {
             "outlinewidth": 0,
             "ticks": ""
            },
            "type": "choropleth"
           }
          ],
          "contour": [
           {
            "colorbar": {
             "outlinewidth": 0,
             "ticks": ""
            },
            "colorscale": [
             [
              0,
              "#0d0887"
             ],
             [
              0.1111111111111111,
              "#46039f"
             ],
             [
              0.2222222222222222,
              "#7201a8"
             ],
             [
              0.3333333333333333,
              "#9c179e"
             ],
             [
              0.4444444444444444,
              "#bd3786"
             ],
             [
              0.5555555555555556,
              "#d8576b"
             ],
             [
              0.6666666666666666,
              "#ed7953"
             ],
             [
              0.7777777777777778,
              "#fb9f3a"
             ],
             [
              0.8888888888888888,
              "#fdca26"
             ],
             [
              1,
              "#f0f921"
             ]
            ],
            "type": "contour"
           }
          ],
          "contourcarpet": [
           {
            "colorbar": {
             "outlinewidth": 0,
             "ticks": ""
            },
            "type": "contourcarpet"
           }
          ],
          "heatmap": [
           {
            "colorbar": {
             "outlinewidth": 0,
             "ticks": ""
            },
            "colorscale": [
             [
              0,
              "#0d0887"
             ],
             [
              0.1111111111111111,
              "#46039f"
             ],
             [
              0.2222222222222222,
              "#7201a8"
             ],
             [
              0.3333333333333333,
              "#9c179e"
             ],
             [
              0.4444444444444444,
              "#bd3786"
             ],
             [
              0.5555555555555556,
              "#d8576b"
             ],
             [
              0.6666666666666666,
              "#ed7953"
             ],
             [
              0.7777777777777778,
              "#fb9f3a"
             ],
             [
              0.8888888888888888,
              "#fdca26"
             ],
             [
              1,
              "#f0f921"
             ]
            ],
            "type": "heatmap"
           }
          ],
          "heatmapgl": [
           {
            "colorbar": {
             "outlinewidth": 0,
             "ticks": ""
            },
            "colorscale": [
             [
              0,
              "#0d0887"
             ],
             [
              0.1111111111111111,
              "#46039f"
             ],
             [
              0.2222222222222222,
              "#7201a8"
             ],
             [
              0.3333333333333333,
              "#9c179e"
             ],
             [
              0.4444444444444444,
              "#bd3786"
             ],
             [
              0.5555555555555556,
              "#d8576b"
             ],
             [
              0.6666666666666666,
              "#ed7953"
             ],
             [
              0.7777777777777778,
              "#fb9f3a"
             ],
             [
              0.8888888888888888,
              "#fdca26"
             ],
             [
              1,
              "#f0f921"
             ]
            ],
            "type": "heatmapgl"
           }
          ],
          "histogram": [
           {
            "marker": {
             "pattern": {
              "fillmode": "overlay",
              "size": 10,
              "solidity": 0.2
             }
            },
            "type": "histogram"
           }
          ],
          "histogram2d": [
           {
            "colorbar": {
             "outlinewidth": 0,
             "ticks": ""
            },
            "colorscale": [
             [
              0,
              "#0d0887"
             ],
             [
              0.1111111111111111,
              "#46039f"
             ],
             [
              0.2222222222222222,
              "#7201a8"
             ],
             [
              0.3333333333333333,
              "#9c179e"
             ],
             [
              0.4444444444444444,
              "#bd3786"
             ],
             [
              0.5555555555555556,
              "#d8576b"
             ],
             [
              0.6666666666666666,
              "#ed7953"
             ],
             [
              0.7777777777777778,
              "#fb9f3a"
             ],
             [
              0.8888888888888888,
              "#fdca26"
             ],
             [
              1,
              "#f0f921"
             ]
            ],
            "type": "histogram2d"
           }
          ],
          "histogram2dcontour": [
           {
            "colorbar": {
             "outlinewidth": 0,
             "ticks": ""
            },
            "colorscale": [
             [
              0,
              "#0d0887"
             ],
             [
              0.1111111111111111,
              "#46039f"
             ],
             [
              0.2222222222222222,
              "#7201a8"
             ],
             [
              0.3333333333333333,
              "#9c179e"
             ],
             [
              0.4444444444444444,
              "#bd3786"
             ],
             [
              0.5555555555555556,
              "#d8576b"
             ],
             [
              0.6666666666666666,
              "#ed7953"
             ],
             [
              0.7777777777777778,
              "#fb9f3a"
             ],
             [
              0.8888888888888888,
              "#fdca26"
             ],
             [
              1,
              "#f0f921"
             ]
            ],
            "type": "histogram2dcontour"
           }
          ],
          "mesh3d": [
           {
            "colorbar": {
             "outlinewidth": 0,
             "ticks": ""
            },
            "type": "mesh3d"
           }
          ],
          "parcoords": [
           {
            "line": {
             "colorbar": {
              "outlinewidth": 0,
              "ticks": ""
             }
            },
            "type": "parcoords"
           }
          ],
          "pie": [
           {
            "automargin": true,
            "type": "pie"
           }
          ],
          "scatter": [
           {
            "fillpattern": {
             "fillmode": "overlay",
             "size": 10,
             "solidity": 0.2
            },
            "type": "scatter"
           }
          ],
          "scatter3d": [
           {
            "line": {
             "colorbar": {
              "outlinewidth": 0,
              "ticks": ""
             }
            },
            "marker": {
             "colorbar": {
              "outlinewidth": 0,
              "ticks": ""
             }
            },
            "type": "scatter3d"
           }
          ],
          "scattercarpet": [
           {
            "marker": {
             "colorbar": {
              "outlinewidth": 0,
              "ticks": ""
             }
            },
            "type": "scattercarpet"
           }
          ],
          "scattergeo": [
           {
            "marker": {
             "colorbar": {
              "outlinewidth": 0,
              "ticks": ""
             }
            },
            "type": "scattergeo"
           }
          ],
          "scattergl": [
           {
            "marker": {
             "colorbar": {
              "outlinewidth": 0,
              "ticks": ""
             }
            },
            "type": "scattergl"
           }
          ],
          "scattermapbox": [
           {
            "marker": {
             "colorbar": {
              "outlinewidth": 0,
              "ticks": ""
             }
            },
            "type": "scattermapbox"
           }
          ],
          "scatterpolar": [
           {
            "marker": {
             "colorbar": {
              "outlinewidth": 0,
              "ticks": ""
             }
            },
            "type": "scatterpolar"
           }
          ],
          "scatterpolargl": [
           {
            "marker": {
             "colorbar": {
              "outlinewidth": 0,
              "ticks": ""
             }
            },
            "type": "scatterpolargl"
           }
          ],
          "scatterternary": [
           {
            "marker": {
             "colorbar": {
              "outlinewidth": 0,
              "ticks": ""
             }
            },
            "type": "scatterternary"
           }
          ],
          "surface": [
           {
            "colorbar": {
             "outlinewidth": 0,
             "ticks": ""
            },
            "colorscale": [
             [
              0,
              "#0d0887"
             ],
             [
              0.1111111111111111,
              "#46039f"
             ],
             [
              0.2222222222222222,
              "#7201a8"
             ],
             [
              0.3333333333333333,
              "#9c179e"
             ],
             [
              0.4444444444444444,
              "#bd3786"
             ],
             [
              0.5555555555555556,
              "#d8576b"
             ],
             [
              0.6666666666666666,
              "#ed7953"
             ],
             [
              0.7777777777777778,
              "#fb9f3a"
             ],
             [
              0.8888888888888888,
              "#fdca26"
             ],
             [
              1,
              "#f0f921"
             ]
            ],
            "type": "surface"
           }
          ],
          "table": [
           {
            "cells": {
             "fill": {
              "color": "#EBF0F8"
             },
             "line": {
              "color": "white"
             }
            },
            "header": {
             "fill": {
              "color": "#C8D4E3"
             },
             "line": {
              "color": "white"
             }
            },
            "type": "table"
           }
          ]
         },
         "layout": {
          "annotationdefaults": {
           "arrowcolor": "#2a3f5f",
           "arrowhead": 0,
           "arrowwidth": 1
          },
          "autotypenumbers": "strict",
          "coloraxis": {
           "colorbar": {
            "outlinewidth": 0,
            "ticks": ""
           }
          },
          "colorscale": {
           "diverging": [
            [
             0,
             "#8e0152"
            ],
            [
             0.1,
             "#c51b7d"
            ],
            [
             0.2,
             "#de77ae"
            ],
            [
             0.3,
             "#f1b6da"
            ],
            [
             0.4,
             "#fde0ef"
            ],
            [
             0.5,
             "#f7f7f7"
            ],
            [
             0.6,
             "#e6f5d0"
            ],
            [
             0.7,
             "#b8e186"
            ],
            [
             0.8,
             "#7fbc41"
            ],
            [
             0.9,
             "#4d9221"
            ],
            [
             1,
             "#276419"
            ]
           ],
           "sequential": [
            [
             0,
             "#0d0887"
            ],
            [
             0.1111111111111111,
             "#46039f"
            ],
            [
             0.2222222222222222,
             "#7201a8"
            ],
            [
             0.3333333333333333,
             "#9c179e"
            ],
            [
             0.4444444444444444,
             "#bd3786"
            ],
            [
             0.5555555555555556,
             "#d8576b"
            ],
            [
             0.6666666666666666,
             "#ed7953"
            ],
            [
             0.7777777777777778,
             "#fb9f3a"
            ],
            [
             0.8888888888888888,
             "#fdca26"
            ],
            [
             1,
             "#f0f921"
            ]
           ],
           "sequentialminus": [
            [
             0,
             "#0d0887"
            ],
            [
             0.1111111111111111,
             "#46039f"
            ],
            [
             0.2222222222222222,
             "#7201a8"
            ],
            [
             0.3333333333333333,
             "#9c179e"
            ],
            [
             0.4444444444444444,
             "#bd3786"
            ],
            [
             0.5555555555555556,
             "#d8576b"
            ],
            [
             0.6666666666666666,
             "#ed7953"
            ],
            [
             0.7777777777777778,
             "#fb9f3a"
            ],
            [
             0.8888888888888888,
             "#fdca26"
            ],
            [
             1,
             "#f0f921"
            ]
           ]
          },
          "colorway": [
           "#636efa",
           "#EF553B",
           "#00cc96",
           "#ab63fa",
           "#FFA15A",
           "#19d3f3",
           "#FF6692",
           "#B6E880",
           "#FF97FF",
           "#FECB52"
          ],
          "font": {
           "color": "#2a3f5f"
          },
          "geo": {
           "bgcolor": "white",
           "lakecolor": "white",
           "landcolor": "#E5ECF6",
           "showlakes": true,
           "showland": true,
           "subunitcolor": "white"
          },
          "hoverlabel": {
           "align": "left"
          },
          "hovermode": "closest",
          "mapbox": {
           "style": "light"
          },
          "paper_bgcolor": "white",
          "plot_bgcolor": "#E5ECF6",
          "polar": {
           "angularaxis": {
            "gridcolor": "white",
            "linecolor": "white",
            "ticks": ""
           },
           "bgcolor": "#E5ECF6",
           "radialaxis": {
            "gridcolor": "white",
            "linecolor": "white",
            "ticks": ""
           }
          },
          "scene": {
           "xaxis": {
            "backgroundcolor": "#E5ECF6",
            "gridcolor": "white",
            "gridwidth": 2,
            "linecolor": "white",
            "showbackground": true,
            "ticks": "",
            "zerolinecolor": "white"
           },
           "yaxis": {
            "backgroundcolor": "#E5ECF6",
            "gridcolor": "white",
            "gridwidth": 2,
            "linecolor": "white",
            "showbackground": true,
            "ticks": "",
            "zerolinecolor": "white"
           },
           "zaxis": {
            "backgroundcolor": "#E5ECF6",
            "gridcolor": "white",
            "gridwidth": 2,
            "linecolor": "white",
            "showbackground": true,
            "ticks": "",
            "zerolinecolor": "white"
           }
          },
          "shapedefaults": {
           "line": {
            "color": "#2a3f5f"
           }
          },
          "ternary": {
           "aaxis": {
            "gridcolor": "white",
            "linecolor": "white",
            "ticks": ""
           },
           "baxis": {
            "gridcolor": "white",
            "linecolor": "white",
            "ticks": ""
           },
           "bgcolor": "#E5ECF6",
           "caxis": {
            "gridcolor": "white",
            "linecolor": "white",
            "ticks": ""
           }
          },
          "title": {
           "x": 0.05
          },
          "xaxis": {
           "automargin": true,
           "gridcolor": "white",
           "linecolor": "white",
           "ticks": "",
           "title": {
            "standoff": 15
           },
           "zerolinecolor": "white",
           "zerolinewidth": 2
          },
          "yaxis": {
           "automargin": true,
           "gridcolor": "white",
           "linecolor": "white",
           "ticks": "",
           "title": {
            "standoff": 15
           },
           "zerolinecolor": "white",
           "zerolinewidth": 2
          }
         }
        },
        "title": {
         "text": "Cosine Similarities of mlp_out Probe Coefficients"
        },
        "xaxis": {
         "anchor": "y",
         "domain": [
          0,
          0.2888888888888889
         ]
        },
        "xaxis2": {
         "anchor": "y2",
         "domain": [
          0.35555555555555557,
          0.6444444444444445
         ]
        },
        "xaxis3": {
         "anchor": "y3",
         "domain": [
          0.7111111111111111,
          1
         ]
        },
        "xaxis4": {
         "anchor": "y4",
         "domain": [
          0,
          0.2888888888888889
         ]
        },
        "xaxis5": {
         "anchor": "y5",
         "domain": [
          0.35555555555555557,
          0.6444444444444445
         ]
        },
        "xaxis6": {
         "anchor": "y6",
         "domain": [
          0.7111111111111111,
          1
         ]
        },
        "xaxis7": {
         "anchor": "y7",
         "domain": [
          0,
          0.2888888888888889
         ],
         "title": {
          "text": "Tested on honest"
         }
        },
        "xaxis8": {
         "anchor": "y8",
         "domain": [
          0.35555555555555557,
          0.6444444444444445
         ],
         "title": {
          "text": "Tested on neutral"
         }
        },
        "xaxis9": {
         "anchor": "y9",
         "domain": [
          0.7111111111111111,
          1
         ],
         "title": {
          "text": "Tested on liar"
         }
        },
        "yaxis": {
         "anchor": "x",
         "domain": [
          0.7333333333333333,
          1
         ],
         "title": {
          "text": "Trained on honest"
         }
        },
        "yaxis2": {
         "anchor": "x2",
         "domain": [
          0.7333333333333333,
          1
         ]
        },
        "yaxis3": {
         "anchor": "x3",
         "domain": [
          0.7333333333333333,
          1
         ]
        },
        "yaxis4": {
         "anchor": "x4",
         "domain": [
          0.36666666666666664,
          0.6333333333333333
         ],
         "title": {
          "text": "Trained on neutral"
         }
        },
        "yaxis5": {
         "anchor": "x5",
         "domain": [
          0.36666666666666664,
          0.6333333333333333
         ]
        },
        "yaxis6": {
         "anchor": "x6",
         "domain": [
          0.36666666666666664,
          0.6333333333333333
         ]
        },
        "yaxis7": {
         "anchor": "x7",
         "domain": [
          0,
          0.26666666666666666
         ],
         "title": {
          "text": "Trained on liar"
         }
        },
        "yaxis8": {
         "anchor": "x8",
         "domain": [
          0,
          0.26666666666666666
         ]
        },
        "yaxis9": {
         "anchor": "x9",
         "domain": [
          0,
          0.26666666666666666
         ]
        }
       }
      },
      "text/html": [
       "<div>                            <div id=\"0f9abdf6-151b-49f0-b43b-75726373b3df\" class=\"plotly-graph-div\" style=\"height:1000px; width:100%;\"></div>            <script type=\"text/javascript\">                require([\"plotly\"], function(Plotly) {                    window.PLOTLYENV=window.PLOTLYENV || {};                                    if (document.getElementById(\"0f9abdf6-151b-49f0-b43b-75726373b3df\")) {                    Plotly.newPlot(                        \"0f9abdf6-151b-49f0-b43b-75726373b3df\",                        [{\"coloraxis\":\"coloraxis\",\"hovertemplate\":\"x: %{x}\\u003cbr\\u003eLayers: %{y}\\u003cbr\\u003ecolor: %{z}\\u003cextra\\u003e\\u003c\\u002fextra\\u003e\",\"name\":\"0\",\"xaxis\":\"x\",\"yaxis\":\"y\",\"z\":[[1.0],[1.0000000000000002],[1.0000000000000002],[1.0000000000000002],[1.0],[1.0000000000000002],[1.0],[1.0],[1.0000000000000002],[0.9999999999999998],[1.0],[1.0],[1.0],[0.9999999999999998],[1.0],[1.0],[1.0],[1.0],[1.0],[1.0],[1.0],[0.9999999999999998],[1.0000000000000002],[1.0000000000000002],[1.0000000000000002],[1.0],[1.0],[1.0],[1.0000000000000002],[1.0],[0.9999999999999999],[1.0],[0.9999999999999999],[1.0],[0.9999999999999999],[1.0],[1.0],[1.0000000000000002],[0.9999999999999999],[0.9999999999999999],[0.9999999999999999],[1.0],[1.0000000000000002],[1.0],[0.9999999999999999],[0.9999999999999999],[1.0],[1.0],[1.0000000000000002],[1.0],[1.0],[1.0000000000000002],[1.0],[1.0000000000000002],[1.0000000000000002],[1.0],[1.0],[1.0],[0.9999999999999998],[1.0000000000000002],[1.0],[1.0000000000000002],[1.0],[1.0],[1.0000000000000002],[0.9999999999999999],[0.9999999999999999],[1.0000000000000002],[1.0000000000000002],[1.0000000000000002],[0.9999999999999999],[1.0000000000000002],[1.0],[1.0000000000000002],[1.0],[0.9999999999999998],[1.0000000000000002],[1.0],[1.0],[1.0000000000000002]],\"type\":\"heatmap\"},{\"coloraxis\":\"coloraxis\",\"hovertemplate\":\"x: %{x}\\u003cbr\\u003eLayers: %{y}\\u003cbr\\u003ecolor: %{z}\\u003cextra\\u003e\\u003c\\u002fextra\\u003e\",\"name\":\"0\",\"xaxis\":\"x2\",\"yaxis\":\"y2\",\"z\":[[-0.036860475892208956],[0.049911203174531356],[0.007513396681645874],[0.04022222601793796],[-0.01746385088234267],[-0.005338724085105681],[0.026418160579402807],[-0.007525929876635019],[0.01579707643440808],[0.02347162429914278],[0.023504635766230877],[0.001392376636955755],[0.02733684579794444],[-0.008581658912249542],[-0.015323150866913843],[-0.01640194584274678],[-0.012830178250598226],[0.027791281769926356],[0.039769854743771746],[0.053793886175743946],[0.021289161666561966],[0.010116606187498716],[0.007766019073035329],[0.012102428334622004],[0.0019296107334634877],[0.028389718390294614],[0.011902204426337232],[0.04547190496528359],[0.02846359014412491],[0.02339530503025233],[0.04392352283240324],[0.003977074232732484],[-0.004493631776068115],[-9.203676827804299e-05],[-0.00557300987696086],[0.009726308101100636],[-0.007995770061899986],[0.008241560044227192],[0.0187015011854397],[0.003067160221881306],[0.0036291579454786633],[-0.013571606822821852],[0.033738462883676434],[0.03851468493293395],[0.02014884892155311],[0.00046778651690463393],[-0.0014763603780240534],[0.04548462486539763],[-0.013963906053828327],[0.02119692523992837],[0.010868237132614532],[0.00450554095869854],[0.008339525409488556],[0.006117688744991507],[0.04527968446678048],[0.022353565562429983],[-0.0008235217333547305],[0.02537594353718252],[0.005301021437003549],[0.013930330275199956],[0.017882782664220144],[0.009387193817597577],[0.0384331604986004],[0.0056500753104828],[-0.002381748758369085],[-0.0005117539857162797],[-0.008233569430411761],[0.006104213981831026],[0.021700389162557555],[0.013392941324801415],[0.020640642518189846],[0.017091809525424582],[0.030244940512170124],[-0.012391276776755417],[-0.008664845252262698],[-0.0014041123858932786],[0.017895785128288804],[0.007652883184542533],[-0.004712017560122812],[0.00608710931160484]],\"type\":\"heatmap\"},{\"coloraxis\":\"coloraxis\",\"hovertemplate\":\"x: %{x}\\u003cbr\\u003eLayers: %{y}\\u003cbr\\u003ecolor: %{z}\\u003cextra\\u003e\\u003c\\u002fextra\\u003e\",\"name\":\"0\",\"xaxis\":\"x3\",\"yaxis\":\"y3\",\"z\":[[0.8661891424366812],[0.7390454330968765],[0.6573936678455803],[0.8499300015314405],[0.8382829890923941],[0.8211192695945184],[0.7744731559320461],[0.8159765770422387],[0.7733043240113768],[0.7753314183736557],[0.7884075834238875],[0.7458100301997239],[0.6987896767001209],[0.6755438047767498],[0.6899784158631563],[0.5529224625190448],[0.5114613769131617],[0.542827784116408],[0.5304952848341519],[0.3290542077708074],[0.3097065652285362],[0.30105801439568675],[0.2611791752231648],[0.20210604534438104],[0.17892718698316507],[0.18524897241810453],[0.25838275278747247],[0.2057682790249217],[0.2899430270468071],[0.2044531420495148],[0.19028633590026778],[0.0955272488762183],[0.13414243628934244],[0.175869176907957],[0.16364158509627832],[0.1550925830612254],[0.1622450361774617],[0.2080767535102494],[0.14839225701708178],[0.1545838261824362],[0.1487539063718175],[0.17825758092232777],[0.16648798344969876],[0.20178088073845987],[0.17961581219782294],[0.16588487579698968],[0.1718910630121003],[0.17608486104817123],[0.15199077927714116],[0.14409863374235354],[0.14312604295400713],[0.17786072644392284],[0.15499137843987257],[0.20543892261051144],[0.1848699369386395],[0.17442215045308018],[0.19101547601557825],[0.1775313893382572],[0.1666036276080127],[0.17715912833236558],[0.13251249283158004],[0.17886955106694855],[0.14676631890331474],[0.17934385045897017],[0.15185120087916384],[0.150742869184368],[0.136368659357269],[0.12539521954721555],[0.1456060481125958],[0.14636467970119216],[0.15793959560533105],[0.0995947976417523],[0.14403001461582304],[0.16079821131747984],[0.12080976742712594],[0.1172966040377228],[0.13124461916870514],[0.12430998799415797],[0.12559215756656894],[0.18520085103810424]],\"type\":\"heatmap\"},{\"coloraxis\":\"coloraxis\",\"hovertemplate\":\"x: %{x}\\u003cbr\\u003eLayers: %{y}\\u003cbr\\u003ecolor: %{z}\\u003cextra\\u003e\\u003c\\u002fextra\\u003e\",\"name\":\"0\",\"xaxis\":\"x4\",\"yaxis\":\"y4\",\"z\":[[-0.036860475892208956],[0.049911203174531356],[0.007513396681645874],[0.04022222601793796],[-0.01746385088234267],[-0.005338724085105681],[0.026418160579402807],[-0.007525929876635019],[0.01579707643440808],[0.02347162429914278],[0.023504635766230877],[0.001392376636955755],[0.02733684579794444],[-0.008581658912249542],[-0.015323150866913843],[-0.01640194584274678],[-0.012830178250598226],[0.027791281769926356],[0.039769854743771746],[0.053793886175743946],[0.021289161666561966],[0.010116606187498716],[0.007766019073035329],[0.012102428334622004],[0.0019296107334634877],[0.028389718390294614],[0.011902204426337232],[0.04547190496528359],[0.02846359014412491],[0.02339530503025233],[0.04392352283240324],[0.003977074232732484],[-0.004493631776068115],[-9.203676827804299e-05],[-0.00557300987696086],[0.009726308101100636],[-0.007995770061899986],[0.008241560044227192],[0.0187015011854397],[0.003067160221881306],[0.0036291579454786633],[-0.013571606822821852],[0.033738462883676434],[0.03851468493293395],[0.02014884892155311],[0.00046778651690463393],[-0.0014763603780240534],[0.04548462486539763],[-0.013963906053828327],[0.02119692523992837],[0.010868237132614532],[0.00450554095869854],[0.008339525409488556],[0.006117688744991507],[0.04527968446678048],[0.022353565562429983],[-0.0008235217333547305],[0.02537594353718252],[0.005301021437003549],[0.013930330275199956],[0.017882782664220144],[0.009387193817597577],[0.0384331604986004],[0.0056500753104828],[-0.002381748758369085],[-0.0005117539857162797],[-0.008233569430411761],[0.006104213981831026],[0.021700389162557555],[0.013392941324801415],[0.020640642518189846],[0.017091809525424582],[0.030244940512170124],[-0.012391276776755417],[-0.008664845252262698],[-0.0014041123858932786],[0.017895785128288804],[0.007652883184542533],[-0.004712017560122812],[0.00608710931160484]],\"type\":\"heatmap\"},{\"coloraxis\":\"coloraxis\",\"hovertemplate\":\"x: %{x}\\u003cbr\\u003eLayers: %{y}\\u003cbr\\u003ecolor: %{z}\\u003cextra\\u003e\\u003c\\u002fextra\\u003e\",\"name\":\"0\",\"xaxis\":\"x5\",\"yaxis\":\"y5\",\"z\":[[1.0],[1.0],[1.0],[1.0],[0.9999999999999998],[1.0],[0.9999999999999999],[0.9999999999999999],[0.9999999999999998],[1.0],[1.0],[1.0000000000000002],[1.0000000000000002],[1.0],[0.9999999999999999],[1.0],[1.0],[1.0],[0.9999999999999999],[1.0],[0.9999999999999999],[1.0],[1.0],[1.0],[1.0],[1.0000000000000002],[1.0],[0.9999999999999998],[0.9999999999999998],[0.9999999999999998],[0.9999999999999998],[1.0000000000000002],[1.0],[1.0],[1.0],[1.0],[1.0],[1.0],[1.0000000000000002],[1.0000000000000002],[1.0],[1.0],[1.0],[0.9999999999999999],[0.9999999999999999],[1.0],[1.0000000000000002],[1.0],[1.0000000000000002],[1.0],[1.0],[1.0],[1.0000000000000002],[1.0000000000000002],[0.9999999999999999],[1.0],[1.0000000000000002],[1.0],[0.9999999999999999],[1.0],[1.0000000000000002],[1.0],[1.0],[0.9999999999999998],[0.9999999999999998],[1.0],[1.0],[1.0],[1.0],[0.9999999999999998],[1.0000000000000002],[1.0000000000000002],[1.0000000000000002],[0.9999999999999999],[1.0000000000000002],[0.9999999999999999],[0.9999999999999999],[1.0000000000000002],[1.0],[0.9999999999999998]],\"type\":\"heatmap\"},{\"coloraxis\":\"coloraxis\",\"hovertemplate\":\"x: %{x}\\u003cbr\\u003eLayers: %{y}\\u003cbr\\u003ecolor: %{z}\\u003cextra\\u003e\\u003c\\u002fextra\\u003e\",\"name\":\"0\",\"xaxis\":\"x6\",\"yaxis\":\"y6\",\"z\":[[0.0066908927912964385],[0.02507623876242103],[0.02480270626055114],[0.05089698760846244],[-0.006570105193552373],[-0.014191249889777898],[-0.0035712178362487324],[-0.001765730081348526],[0.029624476891155386],[0.006412315362392083],[0.02459855417596691],[0.036705446820900406],[-0.03020120562155629],[-0.011341931327807898],[-0.030582752057547197],[0.006359365698790029],[-0.0050309433687324824],[0.0013317406235966059],[0.016562902068975774],[0.047247143230122905],[0.020568133281008885],[0.02128262975051688],[0.029106143696740732],[0.024012419343329768],[-0.010141647827228298],[0.052940399381328385],[0.03783877995289843],[0.012698288101797319],[0.023588405625534648],[0.020957578090114205],[0.024450799272233814],[0.0006188990609185607],[0.007814605475751062],[0.022478918298185623],[-0.017244527722838247],[0.013098755475527612],[-0.007327664294574206],[0.00877997861637202],[0.013814937602238115],[0.015399655097729385],[-0.024269900543595367],[0.016301664428325664],[0.006596635146710811],[0.03137810697787009],[0.03352415267276573],[-0.014101102695930281],[-0.005512827464552146],[0.01172129610240727],[0.0032571080514327373],[0.004614866378801312],[0.017427018454733927],[0.027191251783896597],[0.004138298768642357],[0.016282760022648],[0.023709869422501636],[0.023809078750528744],[0.019872516091201692],[-0.0030167661214523115],[-0.016803725251728917],[0.005989290287327704],[0.006113770519572296],[0.01832662571943496],[0.007198200566281857],[0.011168061927482193],[0.0176747072641591],[0.013295613707604698],[-0.024294222197941747],[0.0060968972803691155],[0.029675979804702032],[0.0016779811160444232],[0.0230092053610124],[0.003424988535442953],[0.02361949874884145],[-0.01261765890300557],[-0.01882881558930979],[0.03185693602269088],[0.03065191869540726],[-0.004439291526064956],[0.023489135006747132],[0.015183063386225498]],\"type\":\"heatmap\"},{\"coloraxis\":\"coloraxis\",\"hovertemplate\":\"x: %{x}\\u003cbr\\u003eLayers: %{y}\\u003cbr\\u003ecolor: %{z}\\u003cextra\\u003e\\u003c\\u002fextra\\u003e\",\"name\":\"0\",\"xaxis\":\"x7\",\"yaxis\":\"y7\",\"z\":[[0.8661891424366812],[0.7390454330968765],[0.6573936678455803],[0.8499300015314405],[0.8382829890923941],[0.8211192695945184],[0.7744731559320461],[0.8159765770422387],[0.7733043240113768],[0.7753314183736557],[0.7884075834238875],[0.7458100301997239],[0.6987896767001209],[0.6755438047767498],[0.6899784158631563],[0.5529224625190448],[0.5114613769131617],[0.542827784116408],[0.5304952848341519],[0.3290542077708074],[0.3097065652285362],[0.30105801439568675],[0.2611791752231648],[0.20210604534438104],[0.17892718698316507],[0.18524897241810453],[0.25838275278747247],[0.2057682790249217],[0.2899430270468071],[0.2044531420495148],[0.19028633590026778],[0.0955272488762183],[0.13414243628934244],[0.175869176907957],[0.16364158509627832],[0.1550925830612254],[0.1622450361774617],[0.2080767535102494],[0.14839225701708178],[0.1545838261824362],[0.1487539063718175],[0.17825758092232777],[0.16648798344969876],[0.20178088073845987],[0.17961581219782294],[0.16588487579698968],[0.1718910630121003],[0.17608486104817123],[0.15199077927714116],[0.14409863374235354],[0.14312604295400713],[0.17786072644392284],[0.15499137843987257],[0.20543892261051144],[0.1848699369386395],[0.17442215045308018],[0.19101547601557825],[0.1775313893382572],[0.1666036276080127],[0.17715912833236558],[0.13251249283158004],[0.17886955106694855],[0.14676631890331474],[0.17934385045897017],[0.15185120087916384],[0.150742869184368],[0.136368659357269],[0.12539521954721555],[0.1456060481125958],[0.14636467970119216],[0.15793959560533105],[0.0995947976417523],[0.14403001461582304],[0.16079821131747984],[0.12080976742712594],[0.1172966040377228],[0.13124461916870514],[0.12430998799415797],[0.12559215756656894],[0.18520085103810424]],\"type\":\"heatmap\"},{\"coloraxis\":\"coloraxis\",\"hovertemplate\":\"x: %{x}\\u003cbr\\u003eLayers: %{y}\\u003cbr\\u003ecolor: %{z}\\u003cextra\\u003e\\u003c\\u002fextra\\u003e\",\"name\":\"0\",\"xaxis\":\"x8\",\"yaxis\":\"y8\",\"z\":[[0.0066908927912964385],[0.02507623876242103],[0.02480270626055114],[0.05089698760846244],[-0.006570105193552373],[-0.014191249889777898],[-0.0035712178362487324],[-0.001765730081348526],[0.029624476891155386],[0.006412315362392083],[0.02459855417596691],[0.036705446820900406],[-0.03020120562155629],[-0.011341931327807898],[-0.030582752057547197],[0.006359365698790029],[-0.0050309433687324824],[0.0013317406235966059],[0.016562902068975774],[0.047247143230122905],[0.020568133281008885],[0.02128262975051688],[0.029106143696740732],[0.024012419343329768],[-0.010141647827228298],[0.052940399381328385],[0.03783877995289843],[0.012698288101797319],[0.023588405625534648],[0.020957578090114205],[0.024450799272233814],[0.0006188990609185607],[0.007814605475751062],[0.022478918298185623],[-0.017244527722838247],[0.013098755475527612],[-0.007327664294574206],[0.00877997861637202],[0.013814937602238115],[0.015399655097729385],[-0.024269900543595367],[0.016301664428325664],[0.006596635146710811],[0.03137810697787009],[0.03352415267276573],[-0.014101102695930281],[-0.005512827464552146],[0.01172129610240727],[0.0032571080514327373],[0.004614866378801312],[0.017427018454733927],[0.027191251783896597],[0.004138298768642357],[0.016282760022648],[0.023709869422501636],[0.023809078750528744],[0.019872516091201692],[-0.0030167661214523115],[-0.016803725251728917],[0.005989290287327704],[0.006113770519572296],[0.01832662571943496],[0.007198200566281857],[0.011168061927482193],[0.0176747072641591],[0.013295613707604698],[-0.024294222197941747],[0.0060968972803691155],[0.029675979804702032],[0.0016779811160444232],[0.0230092053610124],[0.003424988535442953],[0.02361949874884145],[-0.01261765890300557],[-0.01882881558930979],[0.03185693602269088],[0.03065191869540726],[-0.004439291526064956],[0.023489135006747132],[0.015183063386225498]],\"type\":\"heatmap\"},{\"coloraxis\":\"coloraxis\",\"hovertemplate\":\"x: %{x}\\u003cbr\\u003eLayers: %{y}\\u003cbr\\u003ecolor: %{z}\\u003cextra\\u003e\\u003c\\u002fextra\\u003e\",\"name\":\"0\",\"xaxis\":\"x9\",\"yaxis\":\"y9\",\"z\":[[1.0],[1.0],[1.0000000000000002],[1.0000000000000002],[1.0],[1.0000000000000002],[0.9999999999999999],[0.9999999999999999],[0.9999999999999999],[1.0],[1.0],[1.0000000000000002],[1.0000000000000002],[1.0],[0.9999999999999999],[1.0],[1.0],[0.9999999999999999],[0.9999999999999999],[0.9999999999999998],[1.0],[0.9999999999999998],[0.9999999999999998],[1.0000000000000002],[0.9999999999999998],[1.0],[1.0],[1.0],[0.9999999999999999],[0.9999999999999999],[1.0000000000000002],[1.0],[0.9999999999999999],[0.9999999999999999],[0.9999999999999999],[1.0000000000000002],[1.0000000000000002],[1.0000000000000002],[0.9999999999999999],[0.9999999999999999],[1.0],[0.9999999999999999],[1.0],[0.9999999999999999],[0.9999999999999999],[0.9999999999999999],[1.0000000000000002],[0.9999999999999999],[1.0000000000000002],[0.9999999999999999],[1.0000000000000002],[1.0000000000000002],[1.0],[0.9999999999999999],[1.0],[1.0000000000000002],[1.0000000000000002],[0.9999999999999998],[1.0],[0.9999999999999998],[0.9999999999999998],[1.0],[1.0],[1.0000000000000002],[1.0],[1.0],[1.0],[0.9999999999999998],[0.9999999999999998],[1.0],[0.9999999999999999],[0.9999999999999999],[1.0],[0.9999999999999999],[1.0],[1.0],[1.0],[1.0],[1.0],[1.0]],\"type\":\"heatmap\"}],                        {\"template\":{\"data\":{\"histogram2dcontour\":[{\"type\":\"histogram2dcontour\",\"colorbar\":{\"outlinewidth\":0,\"ticks\":\"\"},\"colorscale\":[[0.0,\"#0d0887\"],[0.1111111111111111,\"#46039f\"],[0.2222222222222222,\"#7201a8\"],[0.3333333333333333,\"#9c179e\"],[0.4444444444444444,\"#bd3786\"],[0.5555555555555556,\"#d8576b\"],[0.6666666666666666,\"#ed7953\"],[0.7777777777777778,\"#fb9f3a\"],[0.8888888888888888,\"#fdca26\"],[1.0,\"#f0f921\"]]}],\"choropleth\":[{\"type\":\"choropleth\",\"colorbar\":{\"outlinewidth\":0,\"ticks\":\"\"}}],\"histogram2d\":[{\"type\":\"histogram2d\",\"colorbar\":{\"outlinewidth\":0,\"ticks\":\"\"},\"colorscale\":[[0.0,\"#0d0887\"],[0.1111111111111111,\"#46039f\"],[0.2222222222222222,\"#7201a8\"],[0.3333333333333333,\"#9c179e\"],[0.4444444444444444,\"#bd3786\"],[0.5555555555555556,\"#d8576b\"],[0.6666666666666666,\"#ed7953\"],[0.7777777777777778,\"#fb9f3a\"],[0.8888888888888888,\"#fdca26\"],[1.0,\"#f0f921\"]]}],\"heatmap\":[{\"type\":\"heatmap\",\"colorbar\":{\"outlinewidth\":0,\"ticks\":\"\"},\"colorscale\":[[0.0,\"#0d0887\"],[0.1111111111111111,\"#46039f\"],[0.2222222222222222,\"#7201a8\"],[0.3333333333333333,\"#9c179e\"],[0.4444444444444444,\"#bd3786\"],[0.5555555555555556,\"#d8576b\"],[0.6666666666666666,\"#ed7953\"],[0.7777777777777778,\"#fb9f3a\"],[0.8888888888888888,\"#fdca26\"],[1.0,\"#f0f921\"]]}],\"heatmapgl\":[{\"type\":\"heatmapgl\",\"colorbar\":{\"outlinewidth\":0,\"ticks\":\"\"},\"colorscale\":[[0.0,\"#0d0887\"],[0.1111111111111111,\"#46039f\"],[0.2222222222222222,\"#7201a8\"],[0.3333333333333333,\"#9c179e\"],[0.4444444444444444,\"#bd3786\"],[0.5555555555555556,\"#d8576b\"],[0.6666666666666666,\"#ed7953\"],[0.7777777777777778,\"#fb9f3a\"],[0.8888888888888888,\"#fdca26\"],[1.0,\"#f0f921\"]]}],\"contourcarpet\":[{\"type\":\"contourcarpet\",\"colorbar\":{\"outlinewidth\":0,\"ticks\":\"\"}}],\"contour\":[{\"type\":\"contour\",\"colorbar\":{\"outlinewidth\":0,\"ticks\":\"\"},\"colorscale\":[[0.0,\"#0d0887\"],[0.1111111111111111,\"#46039f\"],[0.2222222222222222,\"#7201a8\"],[0.3333333333333333,\"#9c179e\"],[0.4444444444444444,\"#bd3786\"],[0.5555555555555556,\"#d8576b\"],[0.6666666666666666,\"#ed7953\"],[0.7777777777777778,\"#fb9f3a\"],[0.8888888888888888,\"#fdca26\"],[1.0,\"#f0f921\"]]}],\"surface\":[{\"type\":\"surface\",\"colorbar\":{\"outlinewidth\":0,\"ticks\":\"\"},\"colorscale\":[[0.0,\"#0d0887\"],[0.1111111111111111,\"#46039f\"],[0.2222222222222222,\"#7201a8\"],[0.3333333333333333,\"#9c179e\"],[0.4444444444444444,\"#bd3786\"],[0.5555555555555556,\"#d8576b\"],[0.6666666666666666,\"#ed7953\"],[0.7777777777777778,\"#fb9f3a\"],[0.8888888888888888,\"#fdca26\"],[1.0,\"#f0f921\"]]}],\"mesh3d\":[{\"type\":\"mesh3d\",\"colorbar\":{\"outlinewidth\":0,\"ticks\":\"\"}}],\"scatter\":[{\"fillpattern\":{\"fillmode\":\"overlay\",\"size\":10,\"solidity\":0.2},\"type\":\"scatter\"}],\"parcoords\":[{\"type\":\"parcoords\",\"line\":{\"colorbar\":{\"outlinewidth\":0,\"ticks\":\"\"}}}],\"scatterpolargl\":[{\"type\":\"scatterpolargl\",\"marker\":{\"colorbar\":{\"outlinewidth\":0,\"ticks\":\"\"}}}],\"bar\":[{\"error_x\":{\"color\":\"#2a3f5f\"},\"error_y\":{\"color\":\"#2a3f5f\"},\"marker\":{\"line\":{\"color\":\"#E5ECF6\",\"width\":0.5},\"pattern\":{\"fillmode\":\"overlay\",\"size\":10,\"solidity\":0.2}},\"type\":\"bar\"}],\"scattergeo\":[{\"type\":\"scattergeo\",\"marker\":{\"colorbar\":{\"outlinewidth\":0,\"ticks\":\"\"}}}],\"scatterpolar\":[{\"type\":\"scatterpolar\",\"marker\":{\"colorbar\":{\"outlinewidth\":0,\"ticks\":\"\"}}}],\"histogram\":[{\"marker\":{\"pattern\":{\"fillmode\":\"overlay\",\"size\":10,\"solidity\":0.2}},\"type\":\"histogram\"}],\"scattergl\":[{\"type\":\"scattergl\",\"marker\":{\"colorbar\":{\"outlinewidth\":0,\"ticks\":\"\"}}}],\"scatter3d\":[{\"type\":\"scatter3d\",\"line\":{\"colorbar\":{\"outlinewidth\":0,\"ticks\":\"\"}},\"marker\":{\"colorbar\":{\"outlinewidth\":0,\"ticks\":\"\"}}}],\"scattermapbox\":[{\"type\":\"scattermapbox\",\"marker\":{\"colorbar\":{\"outlinewidth\":0,\"ticks\":\"\"}}}],\"scatterternary\":[{\"type\":\"scatterternary\",\"marker\":{\"colorbar\":{\"outlinewidth\":0,\"ticks\":\"\"}}}],\"scattercarpet\":[{\"type\":\"scattercarpet\",\"marker\":{\"colorbar\":{\"outlinewidth\":0,\"ticks\":\"\"}}}],\"carpet\":[{\"aaxis\":{\"endlinecolor\":\"#2a3f5f\",\"gridcolor\":\"white\",\"linecolor\":\"white\",\"minorgridcolor\":\"white\",\"startlinecolor\":\"#2a3f5f\"},\"baxis\":{\"endlinecolor\":\"#2a3f5f\",\"gridcolor\":\"white\",\"linecolor\":\"white\",\"minorgridcolor\":\"white\",\"startlinecolor\":\"#2a3f5f\"},\"type\":\"carpet\"}],\"table\":[{\"cells\":{\"fill\":{\"color\":\"#EBF0F8\"},\"line\":{\"color\":\"white\"}},\"header\":{\"fill\":{\"color\":\"#C8D4E3\"},\"line\":{\"color\":\"white\"}},\"type\":\"table\"}],\"barpolar\":[{\"marker\":{\"line\":{\"color\":\"#E5ECF6\",\"width\":0.5},\"pattern\":{\"fillmode\":\"overlay\",\"size\":10,\"solidity\":0.2}},\"type\":\"barpolar\"}],\"pie\":[{\"automargin\":true,\"type\":\"pie\"}]},\"layout\":{\"autotypenumbers\":\"strict\",\"colorway\":[\"#636efa\",\"#EF553B\",\"#00cc96\",\"#ab63fa\",\"#FFA15A\",\"#19d3f3\",\"#FF6692\",\"#B6E880\",\"#FF97FF\",\"#FECB52\"],\"font\":{\"color\":\"#2a3f5f\"},\"hovermode\":\"closest\",\"hoverlabel\":{\"align\":\"left\"},\"paper_bgcolor\":\"white\",\"plot_bgcolor\":\"#E5ECF6\",\"polar\":{\"bgcolor\":\"#E5ECF6\",\"angularaxis\":{\"gridcolor\":\"white\",\"linecolor\":\"white\",\"ticks\":\"\"},\"radialaxis\":{\"gridcolor\":\"white\",\"linecolor\":\"white\",\"ticks\":\"\"}},\"ternary\":{\"bgcolor\":\"#E5ECF6\",\"aaxis\":{\"gridcolor\":\"white\",\"linecolor\":\"white\",\"ticks\":\"\"},\"baxis\":{\"gridcolor\":\"white\",\"linecolor\":\"white\",\"ticks\":\"\"},\"caxis\":{\"gridcolor\":\"white\",\"linecolor\":\"white\",\"ticks\":\"\"}},\"coloraxis\":{\"colorbar\":{\"outlinewidth\":0,\"ticks\":\"\"}},\"colorscale\":{\"sequential\":[[0.0,\"#0d0887\"],[0.1111111111111111,\"#46039f\"],[0.2222222222222222,\"#7201a8\"],[0.3333333333333333,\"#9c179e\"],[0.4444444444444444,\"#bd3786\"],[0.5555555555555556,\"#d8576b\"],[0.6666666666666666,\"#ed7953\"],[0.7777777777777778,\"#fb9f3a\"],[0.8888888888888888,\"#fdca26\"],[1.0,\"#f0f921\"]],\"sequentialminus\":[[0.0,\"#0d0887\"],[0.1111111111111111,\"#46039f\"],[0.2222222222222222,\"#7201a8\"],[0.3333333333333333,\"#9c179e\"],[0.4444444444444444,\"#bd3786\"],[0.5555555555555556,\"#d8576b\"],[0.6666666666666666,\"#ed7953\"],[0.7777777777777778,\"#fb9f3a\"],[0.8888888888888888,\"#fdca26\"],[1.0,\"#f0f921\"]],\"diverging\":[[0,\"#8e0152\"],[0.1,\"#c51b7d\"],[0.2,\"#de77ae\"],[0.3,\"#f1b6da\"],[0.4,\"#fde0ef\"],[0.5,\"#f7f7f7\"],[0.6,\"#e6f5d0\"],[0.7,\"#b8e186\"],[0.8,\"#7fbc41\"],[0.9,\"#4d9221\"],[1,\"#276419\"]]},\"xaxis\":{\"gridcolor\":\"white\",\"linecolor\":\"white\",\"ticks\":\"\",\"title\":{\"standoff\":15},\"zerolinecolor\":\"white\",\"automargin\":true,\"zerolinewidth\":2},\"yaxis\":{\"gridcolor\":\"white\",\"linecolor\":\"white\",\"ticks\":\"\",\"title\":{\"standoff\":15},\"zerolinecolor\":\"white\",\"automargin\":true,\"zerolinewidth\":2},\"scene\":{\"xaxis\":{\"backgroundcolor\":\"#E5ECF6\",\"gridcolor\":\"white\",\"linecolor\":\"white\",\"showbackground\":true,\"ticks\":\"\",\"zerolinecolor\":\"white\",\"gridwidth\":2},\"yaxis\":{\"backgroundcolor\":\"#E5ECF6\",\"gridcolor\":\"white\",\"linecolor\":\"white\",\"showbackground\":true,\"ticks\":\"\",\"zerolinecolor\":\"white\",\"gridwidth\":2},\"zaxis\":{\"backgroundcolor\":\"#E5ECF6\",\"gridcolor\":\"white\",\"linecolor\":\"white\",\"showbackground\":true,\"ticks\":\"\",\"zerolinecolor\":\"white\",\"gridwidth\":2}},\"shapedefaults\":{\"line\":{\"color\":\"#2a3f5f\"}},\"annotationdefaults\":{\"arrowcolor\":\"#2a3f5f\",\"arrowhead\":0,\"arrowwidth\":1},\"geo\":{\"bgcolor\":\"white\",\"landcolor\":\"#E5ECF6\",\"subunitcolor\":\"white\",\"showland\":true,\"showlakes\":true,\"lakecolor\":\"white\"},\"title\":{\"x\":0.05},\"mapbox\":{\"style\":\"light\"}}},\"xaxis\":{\"anchor\":\"y\",\"domain\":[0.0,0.2888888888888889]},\"yaxis\":{\"anchor\":\"x\",\"domain\":[0.7333333333333333,1.0],\"title\":{\"text\":\"Trained on honest\"}},\"xaxis2\":{\"anchor\":\"y2\",\"domain\":[0.35555555555555557,0.6444444444444445]},\"yaxis2\":{\"anchor\":\"x2\",\"domain\":[0.7333333333333333,1.0]},\"xaxis3\":{\"anchor\":\"y3\",\"domain\":[0.7111111111111111,1.0]},\"yaxis3\":{\"anchor\":\"x3\",\"domain\":[0.7333333333333333,1.0]},\"xaxis4\":{\"anchor\":\"y4\",\"domain\":[0.0,0.2888888888888889]},\"yaxis4\":{\"anchor\":\"x4\",\"domain\":[0.36666666666666664,0.6333333333333333],\"title\":{\"text\":\"Trained on neutral\"}},\"xaxis5\":{\"anchor\":\"y5\",\"domain\":[0.35555555555555557,0.6444444444444445]},\"yaxis5\":{\"anchor\":\"x5\",\"domain\":[0.36666666666666664,0.6333333333333333]},\"xaxis6\":{\"anchor\":\"y6\",\"domain\":[0.7111111111111111,1.0]},\"yaxis6\":{\"anchor\":\"x6\",\"domain\":[0.36666666666666664,0.6333333333333333]},\"xaxis7\":{\"anchor\":\"y7\",\"domain\":[0.0,0.2888888888888889],\"title\":{\"text\":\"Tested on honest\"}},\"yaxis7\":{\"anchor\":\"x7\",\"domain\":[0.0,0.26666666666666666],\"title\":{\"text\":\"Trained on liar\"}},\"xaxis8\":{\"anchor\":\"y8\",\"domain\":[0.35555555555555557,0.6444444444444445],\"title\":{\"text\":\"Tested on neutral\"}},\"yaxis8\":{\"anchor\":\"x8\",\"domain\":[0.0,0.26666666666666666]},\"xaxis9\":{\"anchor\":\"y9\",\"domain\":[0.7111111111111111,1.0],\"title\":{\"text\":\"Tested on liar\"}},\"yaxis9\":{\"anchor\":\"x9\",\"domain\":[0.0,0.26666666666666666]},\"title\":{\"text\":\"Cosine Similarities of mlp_out Probe Coefficients\"},\"height\":1000},                        {\"responsive\": true}                    ).then(function(){\n",
       "                            \n",
       "var gd = document.getElementById('0f9abdf6-151b-49f0-b43b-75726373b3df');\n",
       "var x = new MutationObserver(function (mutations, observer) {{\n",
       "        var display = window.getComputedStyle(gd).display;\n",
       "        if (!display || display === 'none') {{\n",
       "            console.log([gd, 'removed!']);\n",
       "            Plotly.purge(gd);\n",
       "            observer.disconnect();\n",
       "        }}\n",
       "}});\n",
       "\n",
       "// Listen for the removal of the full notebook cells\n",
       "var notebookContainer = gd.closest('#notebook-container');\n",
       "if (notebookContainer) {{\n",
       "    x.observe(notebookContainer, {childList: true});\n",
       "}}\n",
       "\n",
       "// Listen for the clearing of the current output cell\n",
       "var outputEl = gd.closest('.output');\n",
       "if (outputEl) {{\n",
       "    x.observe(outputEl, {childList: true});\n",
       "}}\n",
       "\n",
       "                        })                };                });            </script>        </div>"
      ]
     },
     "metadata": {},
     "output_type": "display_data"
    }
   ],
   "source": [
    "fig = make_subplots(rows=3, cols=3)\n",
    "act_type = \"mlp_out\"\n",
    "\n",
    "if act_type == \"z\":\n",
    "    cosine_similarities = np.zeros(shape=(len(modes),len(modes), n_layers, n_heads))\n",
    "else:\n",
    "    cosine_similarities = np.zeros(shape=(len(modes),len(modes), n_layers))\n",
    "\n",
    "for idx1, mode in enumerate(modes, start=1):\n",
    "    for idx2, other_mode in enumerate(modes, start=1):\n",
    "        cos_sims = {}\n",
    "        for probe_index in tqdm(elem_acts[\"honest\"].probes[act_type]):\n",
    "            coefs_1 = elem_acts[mode].probes[act_type] [probe_index].coef_.squeeze()\n",
    "            coefs_2 = elem_acts[other_mode].probes[act_type] [probe_index].coef_.squeeze()\n",
    "            cos_sims[probe_index] = np.dot(coefs_1, coefs_2)/(np.linalg.norm(coefs_1)*np.linalg.norm(coefs_2))\n",
    "\n",
    "\n",
    "        if act_type == \"z\":\n",
    "            px_fig = plot_z_probe_accuracies(cos_sims, n_layers, n_heads, title = f\"Cosine Similarities, Probes from {mode} with {other_mode}\")\n",
    "            cosine_similarities[idx1-1, idx2-1] = acc_tensor_from_dict(cos_sims, n_layers, n_heads)\n",
    "\n",
    "        else:\n",
    "            px_fig = plot_resid_probe_accuracies(cos_sims, n_layers, title = f\"Cosine Similarities, Probes from {mode} with {other_mode}\", graph_type=\"square\")\n",
    "            cosine_similarities[idx1-1, idx2-1] = acc_tensor_from_dict(cos_sims, n_layers)\n",
    "\n",
    "        fig.add_trace(\n",
    "            px_fig['data'][0],  # add the trace from plotly express figure\n",
    "            row=idx1,\n",
    "            col=idx2\n",
    "        )\n",
    "\n",
    "\n",
    "for idx1 in range(1, 4):\n",
    "    fig.update_xaxes(title_text=f\"Tested on {modes[idx1-1]}\", row=3, col=idx1)\n",
    "\n",
    "for idx2 in range(1, 4):\n",
    "    fig.update_yaxes(title_text=f\"Trained on {modes[idx2-1]}\", row=idx2, col=1)\n",
    "\n",
    "fig.update_layout(title_text=f\"Cosine Similarities of {act_type} Probe Coefficients\", height=1000)\n",
    "fig.show()"
   ]
  },
  {
   "cell_type": "code",
   "execution_count": null,
   "metadata": {},
   "outputs": [
    {
     "data": {
      "image/png": "[encoded data removed]",
      "text/plain": [
       "<Figure size 1500x1500 with 1 Axes>"
      ]
     },
     "metadata": {},
     "output_type": "display_data"
    }
   ],
   "source": [
    "import matplotlib.pyplot as plt\n",
    "\n",
    "percentiles = [99.8, 99, 95, 50]\n",
    "\n",
    "def get_probe_percentiles(accs, percentiles):\n",
    "    acc_percentiles = []\n",
    "    for percentile in percentiles:\n",
    "        acc_percentiles.append(np.percentile(accs, percentile))\n",
    "    return acc_percentiles\n",
    "\n",
    "# Set the figure size\n",
    "plt.figure(figsize=(15, 15))\n",
    "\n",
    "# Define the bar width\n",
    "bar_width = 0.05\n",
    "\n",
    "# Create lists to hold plot data\n",
    "bar_positions = []\n",
    "bar_heights = []\n",
    "bar_labels = []\n",
    "bar_colors = ['r', 'g', 'b', 'y']  # colors for different percentiles\n",
    "\n",
    "for idx1, mode in enumerate(modes, start=1):\n",
    "    for idx2, other_mode in enumerate(modes, start=1):\n",
    "        acc_tensor = cosine_similarities[idx1-1, idx2-1]\n",
    "        probe_percentiles = get_probe_percentiles(acc_tensor, percentiles)\n",
    "        \n",
    "                # For each percentile, add a new bar\n",
    "        for i, percentile in enumerate(probe_percentiles):\n",
    "            bar_positions.append(idx1 + idx2/3.5 + i/20)  # increment position for each percentile\n",
    "            bar_heights.append(percentile)\n",
    "            bar_labels.append(f'{mode}-{other_mode}')\n",
    "            \n",
    "# Plot horizontal bar chart\n",
    "plt.barh(bar_positions, bar_heights, color=bar_colors, height=bar_width)\n",
    "\n",
    "# Set labels for y-ticks\n",
    "# plt.yticks(bar_positions, bar_labels)\n",
    "plt.yticks([idx1 + idx2/3.5 + 0.015*len(percentiles) for idx1, mode in enumerate(modes, start=1) for idx2, other_mode in enumerate(modes, start=1)], bar_labels[::len(percentiles)])\n",
    "\n",
    "legends = {percentiles[i]: bar_colors[i] for i in range(len(percentiles))}\n",
    "handles = [plt.Rectangle((0,0),1,1, color=legends[p]) for p in percentiles]\n",
    "plt.legend(handles, [f'{p}th Percentile' for p in percentiles])\n",
    "\n",
    "plt.title(\"Percentiles for Cosine Similarities\")\n",
    "plt.xlabel(\"Cosine Sim\")\n",
    "plt.show()"
   ]
  },
  {
   "cell_type": "markdown",
   "metadata": {},
   "source": [
    "More Analytics: Bar Chart of probe accuracies at different percentiles, and graph plotting average probe accuracy vs layer"
   ]
  },
  {
   "cell_type": "code",
   "execution_count": null,
   "metadata": {},
   "outputs": [
    {
     "name": "stdout",
     "output_type": "stream",
     "text": [
      "(80,)\n",
      "(80,)\n",
      "(80,)\n",
      "(80,)\n"
     ]
    },
    {
     "data": {
      "image/png": "[encoded data removed]",
      "text/plain": [
       "<Figure size 1500x800 with 1 Axes>"
      ]
     },
     "metadata": {},
     "output_type": "display_data"
    }
   ],
   "source": [
    "def get_layer_accs(acc_tensor, percentile=50):\n",
    "    layer_percentiles = []\n",
    "    for layer in range(acc_tensor.shape[0]):\n",
    "        layer_percentiles.append(np.percentile(acc_tensor[layer], percentile))\n",
    "    return np.array(layer_percentiles)\n",
    "\n",
    "# line_styles for each mode1\n",
    "line_styles = ['-', '--', '-.']\n",
    "\n",
    "# colors for each mode2\n",
    "colors = ['b', 'g', 'r']\n",
    "\n",
    "# Set the figure size\n",
    "plt.figure(figsize=(15, 8))\n",
    "\n",
    "# Loop through each mode1\n",
    "for idx1, mode1 in enumerate(modes):\n",
    "    # Loop through each mode2\n",
    "    for idx2, mode2 in enumerate(modes):\n",
    "        acc_tensor = transfer_acc_tensors[idx1, idx2]\n",
    "        avg_acc = get_layer_accs(acc_tensor, percentile=50)\n",
    "        print(avg_acc.shape)\n",
    "        # Create a line graph with specific line style and color for each mode pair\n",
    "        plt.plot(avg_acc, linestyle=line_styles[idx1 % len(line_styles)], color=colors[idx2 % len(colors)], label=f'{mode1}-{mode2}')\n",
    "\n",
    "plt.xlabel('Layer')\n",
    "plt.ylabel('Average Accuracy')\n",
    "plt.title('Average Accuracy for Each Layer')\n",
    "\n",
    "from matplotlib.lines import Line2D  # for creating custom legend\n",
    "legend_elements = [Line2D([0], [0], color='k', linestyle=line_styles[i], label=modes[i]) for i in range(len(modes))] + \\\n",
    "                  [Line2D([0], [0], color=colors[i], linestyle='-', label=modes[i]) for i in range(len(modes))]\n",
    "\n",
    "plt.legend(handles=legend_elements)\n",
    "\n",
    "plt.show()"
   ]
  },
  {
   "cell_type": "code",
   "execution_count": null,
   "metadata": {},
   "outputs": [],
   "source": []
  }
 ],
 "metadata": {
  "kernelspec": {
   "display_name": "iti-cap",
   "language": "python",
   "name": "python3"
  },
  "language_info": {
   "codemirror_mode": {
    "name": "ipython",
    "version": 3
   },
   "file_extension": ".py",
   "mimetype": "text/x-python",
   "name": "python",
   "nbconvert_exporter": "python",
   "pygments_lexer": "ipython3",
   "version": "3.8.0"
  },
  "orig_nbformat": 4
 },
 "nbformat": 4,
 "nbformat_minor": 2
}
