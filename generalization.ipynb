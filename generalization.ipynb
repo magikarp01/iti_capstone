{
 "cells": [
  {
   "cell_type": "code",
   "execution_count": 1,
   "metadata": {},
   "outputs": [
    {
     "name": "stderr",
     "output_type": "stream",
     "text": [
      "/tmp/ipykernel_125676/2023101466.py:8: DeprecationWarning: `magic(...)` is deprecated since IPython 0.13 (warning added in 8.1), use run_line_magic(magic_name, parameter_s).\n",
      "  ipython.magic(\"load_ext autoreload\")\n",
      "/tmp/ipykernel_125676/2023101466.py:9: DeprecationWarning: `magic(...)` is deprecated since IPython 0.13 (warning added in 8.1), use run_line_magic(magic_name, parameter_s).\n",
      "  ipython.magic(\"autoreload 2\")\n"
     ]
    }
   ],
   "source": [
    "# Replicate ITI results, make sure ITI utils and probing utils work right\n",
    "\n",
    "#%%\n",
    "from IPython import get_ipython\n",
    "\n",
    "ipython = get_ipython()\n",
    "# Code to automatically update the TransformerLens code as its edited without restarting the kernel\n",
    "ipython.magic(\"load_ext autoreload\")\n",
    "ipython.magic(\"autoreload 2\")\n",
    "    \n",
    "import plotly.io as pio\n",
    "# pio.renderers.default = \"png\"\n",
    "# Import stuff\n",
    "import torch\n",
    "import torch.nn as nn\n",
    "import torch.nn.functional as F\n",
    "import torch.optim as optim\n",
    "import numpy as np\n",
    "import einops\n",
    "from fancy_einsum import einsum\n",
    "import tqdm.notebook as tqdm\n",
    "import random\n",
    "from pathlib import Path\n",
    "import plotly.express as px\n",
    "from torch.utils.data import DataLoader\n",
    "\n",
    "from jaxtyping import Float, Int\n",
    "from typing import List, Union, Optional\n",
    "from functools import partial\n",
    "import copy\n",
    "\n",
    "import itertools\n",
    "from transformers import AutoModelForCausalLM, AutoConfig, AutoTokenizer\n",
    "import dataclasses\n",
    "import datasets\n",
    "from IPython.display import HTML\n",
    "\n",
    "from tqdm import tqdm\n",
    "from probing_utils import ModelActs\n",
    "from dataset_utils import CounterFact_Dataset, TQA_MC_Dataset, EZ_Dataset\n",
    "\n",
    "import transformer_lens\n",
    "import transformer_lens.utils as utils\n",
    "from transformer_lens.hook_points import (\n",
    "    HookedRootModule,\n",
    "    HookPoint,\n",
    ")  # Hooking utilities\n",
    "from transformer_lens import HookedTransformer, HookedTransformerConfig, FactoredMatrix, ActivationCache\n",
    "\n",
    "from iti_utils import patch_top_activations, patch_iti\n",
    "\n",
    "from analytics_utils import plot_probe_accuracies, plot_norm_diffs, plot_cosine_sims"
   ]
  },
  {
   "cell_type": "code",
   "execution_count": 2,
   "metadata": {},
   "outputs": [
    {
     "name": "stdout",
     "output_type": "stream",
     "text": [
      "loading model\n"
     ]
    },
    {
     "name": "stderr",
     "output_type": "stream",
     "text": [
      "Using pad_token, but it is not set yet.\n"
     ]
    },
    {
     "name": "stdout",
     "output_type": "stream",
     "text": [
      "Loaded pretrained model gpt2-xl into HookedTransformer\n",
      "done\n"
     ]
    }
   ],
   "source": [
    "\n",
    "device = \"cuda\"\n",
    "print(\"loading model\")\n",
    "model = HookedTransformer.from_pretrained(\n",
    "    \"gpt2-xl\",\n",
    "    center_unembed=False,\n",
    "    center_writing_weights=False,\n",
    "    fold_ln=False,\n",
    "    refactor_factored_attn_matrices=True,\n",
    "    device=device,\n",
    ")\n",
    "# model.to(device)\n",
    "print(\"done\")\n",
    "model.set_use_attn_result(True)\n",
    "model.cfg.total_heads = model.cfg.n_heads * model.cfg.n_layers\n",
    "\n",
    "model.reset_hooks()"
   ]
  },
  {
   "cell_type": "code",
   "execution_count": 3,
   "metadata": {},
   "outputs": [
    {
     "name": "stderr",
     "output_type": "stream",
     "text": [
      "Found cached dataset truthful_qa (/root/.cache/huggingface/datasets/truthful_qa/multiple_choice/1.1.0/63502f6bc6ee493830ce0843991b028d0ab568d221896b2ee3b8a5dfdaa9d7f4)\n"
     ]
    },
    {
     "data": {
      "application/vnd.jupyter.widget-view+json": {
       "model_id": "f8fe2cfe36ae4e8c9b7774ad4db81cf1",
       "version_major": 2,
       "version_minor": 0
      },
      "text/plain": [
       "  0%|          | 0/1 [00:00<?, ?it/s]"
      ]
     },
     "metadata": {},
     "output_type": "display_data"
    },
    {
     "name": "stderr",
     "output_type": "stream",
     "text": [
      "Found cached dataset parquet (/root/.cache/huggingface/datasets/NeelNanda___parquet/NeelNanda--counterfact-tracing-39c4f800d46af5cf/0.0.0/14a00e99c0d15a23649d0db8944380ac81082d4b021f398733dd84f3a6c569a7)\n"
     ]
    },
    {
     "data": {
      "application/vnd.jupyter.widget-view+json": {
       "model_id": "ab6cc2a5947e4e7aaea0b1d1933e9747",
       "version_major": 2,
       "version_minor": 0
      },
      "text/plain": [
       "  0%|          | 0/1 [00:00<?, ?it/s]"
      ]
     },
     "metadata": {},
     "output_type": "display_data"
    },
    {
     "name": "stderr",
     "output_type": "stream",
     "text": [
      "Found cached dataset csv (/root/.cache/huggingface/datasets/csv/default-37473b04ab8b95b9/0.0.0/eea64c71ca8b46dd3f537ed218fc9bf495d5707789152eb2764f5c78fa66d59d)\n"
     ]
    },
    {
     "data": {
      "application/vnd.jupyter.widget-view+json": {
       "model_id": "3713f6ebf7554eef897e979702d6a6cc",
       "version_major": 2,
       "version_minor": 0
      },
      "text/plain": [
       "  0%|          | 0/1 [00:00<?, ?it/s]"
      ]
     },
     "metadata": {},
     "output_type": "display_data"
    }
   ],
   "source": [
    "random_seed = 5\n",
    "\n",
    "datanames = [\"tqa\", \"cfact\", \"ez\"]\n",
    "\n",
    "tqa_data = TQA_MC_Dataset(model.tokenizer, seed=random_seed)\n",
    "cfact_data = CounterFact_Dataset(model.tokenizer, seed=random_seed)\n",
    "ez_data = EZ_Dataset(model.tokenizer, seed=random_seed)\n",
    "\n",
    "datasets = {\"tqa\":tqa_data, \"cfact\":cfact_data, \"ez\":ez_data}"
   ]
  },
  {
   "cell_type": "code",
   "execution_count": 26,
   "metadata": {},
   "outputs": [
    {
     "name": "stderr",
     "output_type": "stream",
     "text": [
      "100%|██████████| 200/200 [00:14<00:00, 13.39it/s]\n"
     ]
    },
    {
     "name": "stdout",
     "output_type": "stream",
     "text": [
      "Stored at tqa_gpt2xl_200\n"
     ]
    }
   ],
   "source": [
    "n_acts = 200\n",
    "acts = {}\n",
    "\n",
    "for name in datanames:\n",
    "    acts[name] = ModelActs(model, datasets[name], act_types=[\"z\", \"mlp_out\", \"result\"])\n",
    "    model_acts: ModelActs = acts[name]\n",
    "    model_acts.gen_acts(N=n_acts, id=f\"{name}_gpt2xl_{n_acts}\")\n",
    "    break\n",
    "    # ez_acts.load_acts(id=f\"ez_gpt2xl_{n_acts}\", load_probes=False)\n",
    "    # model_acts.train_probes(max_iter=1000)\n"
   ]
  },
  {
   "cell_type": "code",
   "execution_count": 22,
   "metadata": {},
   "outputs": [],
   "source": [
    "model_acts.load_acts(id=f\"tqa_gpt2xl_{n_acts}\", load_probes=False)"
   ]
  },
  {
   "cell_type": "code",
   "execution_count": 25,
   "metadata": {},
   "outputs": [
    {
     "data": {
      "text/plain": [
       "torch.Size([200, 48, 25, 64])"
      ]
     },
     "execution_count": 25,
     "metadata": {},
     "output_type": "execute_result"
    }
   ],
   "source": [
    "model_acts.stored_acts['z'].shape"
   ]
  },
  {
   "cell_type": "code",
   "execution_count": 28,
   "metadata": {},
   "outputs": [
    {
     "name": "stdout",
     "output_type": "stream",
     "text": [
      "torch.Size([160, 1200, 64]), torch.Size([40, 1200, 64]), torch.Size([160, 1200]), torch.Size([40, 1200])\n"
     ]
    },
    {
     "name": "stderr",
     "output_type": "stream",
     "text": [
      "100%|██████████| 1200/1200 [00:08<00:00, 140.33it/s]\n"
     ]
    }
   ],
   "source": [
    "acts[\"tqa\"].train_z_probes()"
   ]
  },
  {
   "cell_type": "code",
   "execution_count": 30,
   "metadata": {},
   "outputs": [
    {
     "name": "stdout",
     "output_type": "stream",
     "text": [
      "torch.Size([160, 48, 1600]), torch.Size([40, 48, 1600]), torch.Size([160, 48]), torch.Size([40, 48])\n"
     ]
    },
    {
     "name": "stderr",
     "output_type": "stream",
     "text": [
      "100%|██████████| 48/48 [00:01<00:00, 26.27it/s]\n"
     ]
    }
   ],
   "source": [
    "acts[\"tqa\"].train_mlp_out_probes()"
   ]
  },
  {
   "cell_type": "code",
   "execution_count": 32,
   "metadata": {},
   "outputs": [
    {
     "data": {
      "text/plain": [
       "0.5880833333333334"
      ]
     },
     "execution_count": 32,
     "metadata": {},
     "output_type": "execute_result"
    }
   ],
   "source": [
    "acts[\"tqa\"].probe_accs[\"z\"].mean()"
   ]
  },
  {
   "cell_type": "code",
   "execution_count": 25,
   "metadata": {},
   "outputs": [
    {
     "name": "stderr",
     "output_type": "stream",
     "text": [
      "1200it [00:00, 2524.73it/s]\n"
     ]
    },
    {
     "data": {
      "application/vnd.plotly.v1+json": {
       "config": {
        "plotlyServerURL": "https://plot.ly"
       },
       "data": [
        {
         "coloraxis": "coloraxis",
         "hovertemplate": "Heads (sorted): %{x}<br>Layers: %{y}<br>color: %{z}<extra></extra>",
         "name": "0",
         "type": "heatmap",
         "xaxis": "x",
         "yaxis": "y",
         "z": [
          [
           0.555,
           0.555,
           0.555,
           0.555,
           0.555,
           0.555,
           0.555,
           0.555,
           0.555,
           0.595,
           0.57,
           0.555,
           0.555,
           0.57,
           0.555,
           0.555,
           0.555,
           0.555,
           0.555,
           0.555,
           0.555,
           0.565,
           0.56,
           0.555,
           0.555
          ],
          [
           0.545,
           0.57,
           0.61,
           0.515,
           0.575,
           0.565,
           0.525,
           0.515,
           0.635,
           0.62,
           0.605,
           0.57,
           0.575,
           0.55,
           0.59,
           0.57,
           0.515,
           0.56,
           0.555,
           0.56,
           0.555,
           0.53,
           0.515,
           0.565,
           0.6
          ],
          [
           0.545,
           0.57,
           0.535,
           0.555,
           0.645,
           0.54,
           0.565,
           0.53,
           0.52,
           0.63,
           0.58,
           0.595,
           0.585,
           0.6,
           0.565,
           0.56,
           0.515,
           0.545,
           0.56,
           0.57,
           0.51,
           0.535,
           0.54,
           0.6,
           0.595
          ],
          [
           0.6,
           0.605,
           0.61,
           0.555,
           0.575,
           0.555,
           0.55,
           0.565,
           0.52,
           0.535,
           0.61,
           0.615,
           0.575,
           0.605,
           0.56,
           0.645,
           0.585,
           0.545,
           0.585,
           0.57,
           0.56,
           0.605,
           0.545,
           0.57,
           0.53
          ],
          [
           0.57,
           0.54,
           0.575,
           0.61,
           0.58,
           0.565,
           0.62,
           0.585,
           0.6,
           0.59,
           0.655,
           0.56,
           0.57,
           0.625,
           0.575,
           0.625,
           0.58,
           0.545,
           0.575,
           0.595,
           0.56,
           0.585,
           0.605,
           0.54,
           0.585
          ],
          [
           0.585,
           0.595,
           0.67,
           0.595,
           0.61,
           0.54,
           0.56,
           0.525,
           0.565,
           0.605,
           0.66,
           0.56,
           0.63,
           0.59,
           0.615,
           0.53,
           0.6,
           0.595,
           0.56,
           0.585,
           0.57,
           0.58,
           0.625,
           0.585,
           0.58
          ],
          [
           0.565,
           0.57,
           0.59,
           0.575,
           0.635,
           0.63,
           0.625,
           0.605,
           0.58,
           0.635,
           0.54,
           0.61,
           0.635,
           0.565,
           0.615,
           0.585,
           0.605,
           0.565,
           0.56,
           0.59,
           0.66,
           0.575,
           0.585,
           0.565,
           0.68
          ],
          [
           0.625,
           0.575,
           0.58,
           0.54,
           0.615,
           0.555,
           0.67,
           0.615,
           0.68,
           0.61,
           0.59,
           0.575,
           0.565,
           0.635,
           0.635,
           0.625,
           0.655,
           0.645,
           0.615,
           0.625,
           0.585,
           0.655,
           0.59,
           0.56,
           0.695
          ],
          [
           0.615,
           0.595,
           0.6,
           0.62,
           0.63,
           0.59,
           0.605,
           0.655,
           0.62,
           0.65,
           0.635,
           0.61,
           0.595,
           0.615,
           0.59,
           0.575,
           0.645,
           0.63,
           0.615,
           0.595,
           0.62,
           0.645,
           0.655,
           0.635,
           0.58
          ],
          [
           0.645,
           0.59,
           0.63,
           0.59,
           0.62,
           0.585,
           0.65,
           0.55,
           0.675,
           0.665,
           0.59,
           0.63,
           0.585,
           0.66,
           0.58,
           0.65,
           0.57,
           0.61,
           0.68,
           0.73,
           0.635,
           0.575,
           0.55,
           0.595,
           0.63
          ],
          [
           0.66,
           0.72,
           0.555,
           0.655,
           0.75,
           0.615,
           0.61,
           0.64,
           0.675,
           0.595,
           0.62,
           0.62,
           0.61,
           0.585,
           0.595,
           0.57,
           0.685,
           0.705,
           0.69,
           0.605,
           0.56,
           0.625,
           0.68,
           0.575,
           0.615
          ],
          [
           0.535,
           0.63,
           0.525,
           0.655,
           0.505,
           0.615,
           0.605,
           0.695,
           0.72,
           0.63,
           0.63,
           0.615,
           0.62,
           0.65,
           0.65,
           0.54,
           0.64,
           0.645,
           0.575,
           0.56,
           0.66,
           0.59,
           0.6,
           0.665,
           0.65
          ],
          [
           0.595,
           0.615,
           0.605,
           0.645,
           0.725,
           0.64,
           0.61,
           0.65,
           0.645,
           0.665,
           0.66,
           0.66,
           0.67,
           0.72,
           0.705,
           0.625,
           0.685,
           0.56,
           0.64,
           0.645,
           0.7,
           0.525,
           0.695,
           0.69,
           0.65
          ],
          [
           0.655,
           0.695,
           0.67,
           0.67,
           0.645,
           0.63,
           0.66,
           0.705,
           0.58,
           0.56,
           0.675,
           0.715,
           0.56,
           0.645,
           0.685,
           0.59,
           0.62,
           0.62,
           0.69,
           0.695,
           0.56,
           0.7,
           0.655,
           0.575,
           0.63
          ],
          [
           0.635,
           0.605,
           0.63,
           0.675,
           0.68,
           0.56,
           0.625,
           0.615,
           0.685,
           0.65,
           0.625,
           0.725,
           0.565,
           0.645,
           0.655,
           0.585,
           0.72,
           0.625,
           0.68,
           0.575,
           0.63,
           0.725,
           0.62,
           0.665,
           0.62
          ],
          [
           0.675,
           0.62,
           0.64,
           0.67,
           0.66,
           0.595,
           0.675,
           0.625,
           0.65,
           0.62,
           0.67,
           0.63,
           0.66,
           0.735,
           0.655,
           0.68,
           0.665,
           0.71,
           0.675,
           0.55,
           0.725,
           0.715,
           0.69,
           0.68,
           0.605
          ],
          [
           0.575,
           0.71,
           0.62,
           0.63,
           0.65,
           0.53,
           0.605,
           0.615,
           0.67,
           0.665,
           0.665,
           0.635,
           0.715,
           0.645,
           0.68,
           0.65,
           0.7,
           0.625,
           0.62,
           0.7,
           0.68,
           0.56,
           0.71,
           0.655,
           0.635
          ],
          [
           0.695,
           0.645,
           0.655,
           0.695,
           0.67,
           0.62,
           0.62,
           0.715,
           0.7,
           0.61,
           0.65,
           0.64,
           0.545,
           0.675,
           0.7,
           0.68,
           0.685,
           0.695,
           0.645,
           0.71,
           0.645,
           0.615,
           0.67,
           0.58,
           0.685
          ],
          [
           0.65,
           0.64,
           0.61,
           0.635,
           0.73,
           0.595,
           0.7,
           0.725,
           0.675,
           0.7,
           0.64,
           0.69,
           0.7,
           0.69,
           0.72,
           0.605,
           0.635,
           0.675,
           0.695,
           0.64,
           0.675,
           0.685,
           0.605,
           0.685,
           0.68
          ],
          [
           0.765,
           0.62,
           0.7,
           0.77,
           0.675,
           0.66,
           0.75,
           0.705,
           0.645,
           0.62,
           0.655,
           0.63,
           0.71,
           0.66,
           0.69,
           0.625,
           0.58,
           0.675,
           0.655,
           0.58,
           0.6,
           0.65,
           0.71,
           0.695,
           0.695
          ],
          [
           0.625,
           0.66,
           0.635,
           0.65,
           0.595,
           0.64,
           0.64,
           0.665,
           0.64,
           0.69,
           0.695,
           0.61,
           0.595,
           0.615,
           0.69,
           0.725,
           0.7,
           0.635,
           0.63,
           0.68,
           0.69,
           0.665,
           0.735,
           0.675,
           0.65
          ],
          [
           0.715,
           0.62,
           0.72,
           0.58,
           0.725,
           0.63,
           0.615,
           0.765,
           0.7,
           0.6,
           0.655,
           0.645,
           0.615,
           0.715,
           0.665,
           0.725,
           0.74,
           0.6,
           0.71,
           0.65,
           0.595,
           0.665,
           0.73,
           0.67,
           0.65
          ],
          [
           0.605,
           0.75,
           0.605,
           0.73,
           0.635,
           0.665,
           0.65,
           0.65,
           0.665,
           0.61,
           0.625,
           0.66,
           0.645,
           0.63,
           0.7,
           0.655,
           0.7,
           0.685,
           0.605,
           0.7,
           0.6,
           0.63,
           0.68,
           0.68,
           0.65
          ],
          [
           0.635,
           0.68,
           0.645,
           0.62,
           0.6,
           0.645,
           0.665,
           0.685,
           0.555,
           0.605,
           0.645,
           0.71,
           0.66,
           0.7,
           0.63,
           0.63,
           0.68,
           0.545,
           0.62,
           0.63,
           0.615,
           0.67,
           0.685,
           0.695,
           0.715
          ],
          [
           0.535,
           0.69,
           0.615,
           0.645,
           0.555,
           0.635,
           0.68,
           0.65,
           0.595,
           0.635,
           0.605,
           0.57,
           0.57,
           0.685,
           0.705,
           0.69,
           0.565,
           0.62,
           0.575,
           0.65,
           0.585,
           0.69,
           0.675,
           0.66,
           0.67
          ],
          [
           0.65,
           0.71,
           0.62,
           0.675,
           0.58,
           0.65,
           0.575,
           0.66,
           0.65,
           0.665,
           0.69,
           0.665,
           0.67,
           0.595,
           0.665,
           0.69,
           0.555,
           0.615,
           0.565,
           0.615,
           0.66,
           0.665,
           0.665,
           0.66,
           0.58
          ],
          [
           0.625,
           0.675,
           0.585,
           0.645,
           0.66,
           0.585,
           0.685,
           0.595,
           0.675,
           0.695,
           0.685,
           0.635,
           0.66,
           0.615,
           0.65,
           0.64,
           0.665,
           0.675,
           0.63,
           0.58,
           0.565,
           0.7,
           0.56,
           0.565,
           0.715
          ],
          [
           0.66,
           0.655,
           0.655,
           0.64,
           0.595,
           0.59,
           0.67,
           0.61,
           0.63,
           0.54,
           0.57,
           0.585,
           0.655,
           0.53,
           0.675,
           0.73,
           0.65,
           0.71,
           0.645,
           0.6,
           0.735,
           0.645,
           0.585,
           0.575,
           0.59
          ],
          [
           0.68,
           0.64,
           0.72,
           0.6,
           0.615,
           0.66,
           0.6,
           0.61,
           0.695,
           0.635,
           0.65,
           0.585,
           0.655,
           0.705,
           0.63,
           0.54,
           0.655,
           0.63,
           0.61,
           0.565,
           0.705,
           0.63,
           0.635,
           0.55,
           0.595
          ],
          [
           0.53,
           0.65,
           0.67,
           0.665,
           0.665,
           0.605,
           0.66,
           0.67,
           0.52,
           0.55,
           0.595,
           0.62,
           0.62,
           0.64,
           0.59,
           0.61,
           0.61,
           0.615,
           0.64,
           0.54,
           0.605,
           0.615,
           0.655,
           0.62,
           0.63
          ],
          [
           0.6,
           0.555,
           0.635,
           0.615,
           0.58,
           0.57,
           0.595,
           0.675,
           0.55,
           0.555,
           0.565,
           0.595,
           0.6,
           0.545,
           0.585,
           0.555,
           0.655,
           0.62,
           0.565,
           0.6,
           0.62,
           0.545,
           0.595,
           0.58,
           0.55
          ],
          [
           0.635,
           0.7,
           0.6,
           0.59,
           0.595,
           0.64,
           0.655,
           0.665,
           0.565,
           0.56,
           0.66,
           0.51,
           0.62,
           0.625,
           0.615,
           0.57,
           0.53,
           0.55,
           0.6,
           0.67,
           0.525,
           0.57,
           0.63,
           0.605,
           0.745
          ],
          [
           0.575,
           0.59,
           0.61,
           0.62,
           0.635,
           0.58,
           0.595,
           0.62,
           0.55,
           0.595,
           0.565,
           0.605,
           0.575,
           0.655,
           0.68,
           0.62,
           0.575,
           0.645,
           0.62,
           0.625,
           0.61,
           0.7,
           0.65,
           0.665,
           0.57
          ],
          [
           0.58,
           0.58,
           0.575,
           0.675,
           0.58,
           0.6,
           0.53,
           0.51,
           0.645,
           0.61,
           0.535,
           0.675,
           0.59,
           0.525,
           0.56,
           0.715,
           0.59,
           0.575,
           0.56,
           0.645,
           0.66,
           0.59,
           0.635,
           0.665,
           0.61
          ],
          [
           0.55,
           0.61,
           0.63,
           0.585,
           0.535,
           0.505,
           0.62,
           0.57,
           0.545,
           0.59,
           0.565,
           0.585,
           0.625,
           0.54,
           0.63,
           0.615,
           0.55,
           0.54,
           0.57,
           0.645,
           0.585,
           0.535,
           0.59,
           0.64,
           0.665
          ],
          [
           0.59,
           0.585,
           0.515,
           0.565,
           0.685,
           0.585,
           0.57,
           0.58,
           0.59,
           0.59,
           0.56,
           0.545,
           0.54,
           0.65,
           0.515,
           0.575,
           0.555,
           0.595,
           0.59,
           0.545,
           0.565,
           0.595,
           0.6,
           0.66,
           0.555
          ],
          [
           0.625,
           0.635,
           0.53,
           0.53,
           0.585,
           0.625,
           0.51,
           0.555,
           0.665,
           0.565,
           0.55,
           0.66,
           0.545,
           0.545,
           0.57,
           0.625,
           0.65,
           0.525,
           0.605,
           0.62,
           0.655,
           0.505,
           0.6,
           0.565,
           0.575
          ],
          [
           0.58,
           0.735,
           0.57,
           0.58,
           0.545,
           0.645,
           0.64,
           0.52,
           0.555,
           0.61,
           0.575,
           0.56,
           0.69,
           0.575,
           0.59,
           0.555,
           0.595,
           0.58,
           0.59,
           0.645,
           0.63,
           0.58,
           0.56,
           0.6,
           0.655
          ],
          [
           0.525,
           0.615,
           0.5,
           0.54,
           0.52,
           0.525,
           0.58,
           0.585,
           0.585,
           0.58,
           0.65,
           0.6,
           0.515,
           0.57,
           0.505,
           0.54,
           0.575,
           0.62,
           0.555,
           0.56,
           0.54,
           0.6,
           0.6,
           0.54,
           0.59
          ],
          [
           0.57,
           0.65,
           0.555,
           0.56,
           0.545,
           0.53,
           0.535,
           0.57,
           0.595,
           0.575,
           0.59,
           0.65,
           0.515,
           0.6,
           0.605,
           0.575,
           0.6,
           0.595,
           0.715,
           0.565,
           0.6,
           0.565,
           0.535,
           0.635,
           0.56
          ],
          [
           0.605,
           0.655,
           0.535,
           0.56,
           0.6,
           0.545,
           0.57,
           0.585,
           0.585,
           0.57,
           0.61,
           0.565,
           0.57,
           0.595,
           0.585,
           0.54,
           0.565,
           0.545,
           0.54,
           0.565,
           0.53,
           0.55,
           0.53,
           0.56,
           0.54
          ],
          [
           0.59,
           0.535,
           0.52,
           0.63,
           0.54,
           0.55,
           0.625,
           0.59,
           0.53,
           0.575,
           0.665,
           0.585,
           0.565,
           0.645,
           0.605,
           0.615,
           0.635,
           0.61,
           0.545,
           0.63,
           0.535,
           0.55,
           0.56,
           0.59,
           0.61
          ],
          [
           0.545,
           0.64,
           0.61,
           0.67,
           0.575,
           0.54,
           0.605,
           0.5,
           0.55,
           0.57,
           0.595,
           0.595,
           0.53,
           0.565,
           0.58,
           0.635,
           0.59,
           0.56,
           0.54,
           0.565,
           0.61,
           0.51,
           0.585,
           0.57,
           0.535
          ],
          [
           0.52,
           0.615,
           0.545,
           0.535,
           0.535,
           0.64,
           0.58,
           0.57,
           0.555,
           0.555,
           0.57,
           0.56,
           0.59,
           0.61,
           0.59,
           0.545,
           0.575,
           0.51,
           0.54,
           0.585,
           0.495,
           0.62,
           0.64,
           0.57,
           0.535
          ],
          [
           0.57,
           0.59,
           0.625,
           0.615,
           0.585,
           0.57,
           0.545,
           0.5,
           0.515,
           0.565,
           0.59,
           0.58,
           0.545,
           0.625,
           0.545,
           0.56,
           0.58,
           0.54,
           0.615,
           0.555,
           0.56,
           0.58,
           0.62,
           0.605,
           0.57
          ],
          [
           0.585,
           0.585,
           0.54,
           0.605,
           0.61,
           0.635,
           0.55,
           0.565,
           0.57,
           0.62,
           0.615,
           0.615,
           0.595,
           0.515,
           0.58,
           0.56,
           0.585,
           0.555,
           0.58,
           0.55,
           0.635,
           0.55,
           0.605,
           0.53,
           0.565
          ],
          [
           0.65,
           0.59,
           0.515,
           0.56,
           0.56,
           0.545,
           0.565,
           0.52,
           0.58,
           0.56,
           0.64,
           0.56,
           0.535,
           0.545,
           0.545,
           0.6,
           0.57,
           0.565,
           0.55,
           0.565,
           0.55,
           0.59,
           0.57,
           0.57,
           0.57
          ],
          [
           0.575,
           0.55,
           0.565,
           0.575,
           0.6,
           0.605,
           0.53,
           0.6,
           0.595,
           0.55,
           0.58,
           0.61,
           0.52,
           0.5,
           0.615,
           0.565,
           0.52,
           0.6,
           0.565,
           0.54,
           0.54,
           0.56,
           0.51,
           0.63,
           0.515
          ]
         ]
        }
       ],
       "layout": {
        "coloraxis": {
         "cmid": 0.5,
         "colorscale": [
          [
           0,
           "rgb(255,255,217)"
          ],
          [
           0.125,
           "rgb(237,248,177)"
          ],
          [
           0.25,
           "rgb(199,233,180)"
          ],
          [
           0.375,
           "rgb(127,205,187)"
          ],
          [
           0.5,
           "rgb(65,182,196)"
          ],
          [
           0.625,
           "rgb(29,145,192)"
          ],
          [
           0.75,
           "rgb(34,94,168)"
          ],
          [
           0.875,
           "rgb(37,52,148)"
          ],
          [
           1,
           "rgb(8,29,88)"
          ]
         ]
        },
        "template": {
         "data": {
          "bar": [
           {
            "error_x": {
             "color": "#2a3f5f"
            },
            "error_y": {
             "color": "#2a3f5f"
            },
            "marker": {
             "line": {
              "color": "#E5ECF6",
              "width": 0.5
             },
             "pattern": {
              "fillmode": "overlay",
              "size": 10,
              "solidity": 0.2
             }
            },
            "type": "bar"
           }
          ],
          "barpolar": [
           {
            "marker": {
             "line": {
              "color": "#E5ECF6",
              "width": 0.5
             },
             "pattern": {
              "fillmode": "overlay",
              "size": 10,
              "solidity": 0.2
             }
            },
            "type": "barpolar"
           }
          ],
          "carpet": [
           {
            "aaxis": {
             "endlinecolor": "#2a3f5f",
             "gridcolor": "white",
             "linecolor": "white",
             "minorgridcolor": "white",
             "startlinecolor": "#2a3f5f"
            },
            "baxis": {
             "endlinecolor": "#2a3f5f",
             "gridcolor": "white",
             "linecolor": "white",
             "minorgridcolor": "white",
             "startlinecolor": "#2a3f5f"
            },
            "type": "carpet"
           }
          ],
          "choropleth": [
           {
            "colorbar": {
             "outlinewidth": 0,
             "ticks": ""
            },
            "type": "choropleth"
           }
          ],
          "contour": [
           {
            "colorbar": {
             "outlinewidth": 0,
             "ticks": ""
            },
            "colorscale": [
             [
              0,
              "#0d0887"
             ],
             [
              0.1111111111111111,
              "#46039f"
             ],
             [
              0.2222222222222222,
              "#7201a8"
             ],
             [
              0.3333333333333333,
              "#9c179e"
             ],
             [
              0.4444444444444444,
              "#bd3786"
             ],
             [
              0.5555555555555556,
              "#d8576b"
             ],
             [
              0.6666666666666666,
              "#ed7953"
             ],
             [
              0.7777777777777778,
              "#fb9f3a"
             ],
             [
              0.8888888888888888,
              "#fdca26"
             ],
             [
              1,
              "#f0f921"
             ]
            ],
            "type": "contour"
           }
          ],
          "contourcarpet": [
           {
            "colorbar": {
             "outlinewidth": 0,
             "ticks": ""
            },
            "type": "contourcarpet"
           }
          ],
          "heatmap": [
           {
            "colorbar": {
             "outlinewidth": 0,
             "ticks": ""
            },
            "colorscale": [
             [
              0,
              "#0d0887"
             ],
             [
              0.1111111111111111,
              "#46039f"
             ],
             [
              0.2222222222222222,
              "#7201a8"
             ],
             [
              0.3333333333333333,
              "#9c179e"
             ],
             [
              0.4444444444444444,
              "#bd3786"
             ],
             [
              0.5555555555555556,
              "#d8576b"
             ],
             [
              0.6666666666666666,
              "#ed7953"
             ],
             [
              0.7777777777777778,
              "#fb9f3a"
             ],
             [
              0.8888888888888888,
              "#fdca26"
             ],
             [
              1,
              "#f0f921"
             ]
            ],
            "type": "heatmap"
           }
          ],
          "heatmapgl": [
           {
            "colorbar": {
             "outlinewidth": 0,
             "ticks": ""
            },
            "colorscale": [
             [
              0,
              "#0d0887"
             ],
             [
              0.1111111111111111,
              "#46039f"
             ],
             [
              0.2222222222222222,
              "#7201a8"
             ],
             [
              0.3333333333333333,
              "#9c179e"
             ],
             [
              0.4444444444444444,
              "#bd3786"
             ],
             [
              0.5555555555555556,
              "#d8576b"
             ],
             [
              0.6666666666666666,
              "#ed7953"
             ],
             [
              0.7777777777777778,
              "#fb9f3a"
             ],
             [
              0.8888888888888888,
              "#fdca26"
             ],
             [
              1,
              "#f0f921"
             ]
            ],
            "type": "heatmapgl"
           }
          ],
          "histogram": [
           {
            "marker": {
             "pattern": {
              "fillmode": "overlay",
              "size": 10,
              "solidity": 0.2
             }
            },
            "type": "histogram"
           }
          ],
          "histogram2d": [
           {
            "colorbar": {
             "outlinewidth": 0,
             "ticks": ""
            },
            "colorscale": [
             [
              0,
              "#0d0887"
             ],
             [
              0.1111111111111111,
              "#46039f"
             ],
             [
              0.2222222222222222,
              "#7201a8"
             ],
             [
              0.3333333333333333,
              "#9c179e"
             ],
             [
              0.4444444444444444,
              "#bd3786"
             ],
             [
              0.5555555555555556,
              "#d8576b"
             ],
             [
              0.6666666666666666,
              "#ed7953"
             ],
             [
              0.7777777777777778,
              "#fb9f3a"
             ],
             [
              0.8888888888888888,
              "#fdca26"
             ],
             [
              1,
              "#f0f921"
             ]
            ],
            "type": "histogram2d"
           }
          ],
          "histogram2dcontour": [
           {
            "colorbar": {
             "outlinewidth": 0,
             "ticks": ""
            },
            "colorscale": [
             [
              0,
              "#0d0887"
             ],
             [
              0.1111111111111111,
              "#46039f"
             ],
             [
              0.2222222222222222,
              "#7201a8"
             ],
             [
              0.3333333333333333,
              "#9c179e"
             ],
             [
              0.4444444444444444,
              "#bd3786"
             ],
             [
              0.5555555555555556,
              "#d8576b"
             ],
             [
              0.6666666666666666,
              "#ed7953"
             ],
             [
              0.7777777777777778,
              "#fb9f3a"
             ],
             [
              0.8888888888888888,
              "#fdca26"
             ],
             [
              1,
              "#f0f921"
             ]
            ],
            "type": "histogram2dcontour"
           }
          ],
          "mesh3d": [
           {
            "colorbar": {
             "outlinewidth": 0,
             "ticks": ""
            },
            "type": "mesh3d"
           }
          ],
          "parcoords": [
           {
            "line": {
             "colorbar": {
              "outlinewidth": 0,
              "ticks": ""
             }
            },
            "type": "parcoords"
           }
          ],
          "pie": [
           {
            "automargin": true,
            "type": "pie"
           }
          ],
          "scatter": [
           {
            "fillpattern": {
             "fillmode": "overlay",
             "size": 10,
             "solidity": 0.2
            },
            "type": "scatter"
           }
          ],
          "scatter3d": [
           {
            "line": {
             "colorbar": {
              "outlinewidth": 0,
              "ticks": ""
             }
            },
            "marker": {
             "colorbar": {
              "outlinewidth": 0,
              "ticks": ""
             }
            },
            "type": "scatter3d"
           }
          ],
          "scattercarpet": [
           {
            "marker": {
             "colorbar": {
              "outlinewidth": 0,
              "ticks": ""
             }
            },
            "type": "scattercarpet"
           }
          ],
          "scattergeo": [
           {
            "marker": {
             "colorbar": {
              "outlinewidth": 0,
              "ticks": ""
             }
            },
            "type": "scattergeo"
           }
          ],
          "scattergl": [
           {
            "marker": {
             "colorbar": {
              "outlinewidth": 0,
              "ticks": ""
             }
            },
            "type": "scattergl"
           }
          ],
          "scattermapbox": [
           {
            "marker": {
             "colorbar": {
              "outlinewidth": 0,
              "ticks": ""
             }
            },
            "type": "scattermapbox"
           }
          ],
          "scatterpolar": [
           {
            "marker": {
             "colorbar": {
              "outlinewidth": 0,
              "ticks": ""
             }
            },
            "type": "scatterpolar"
           }
          ],
          "scatterpolargl": [
           {
            "marker": {
             "colorbar": {
              "outlinewidth": 0,
              "ticks": ""
             }
            },
            "type": "scatterpolargl"
           }
          ],
          "scatterternary": [
           {
            "marker": {
             "colorbar": {
              "outlinewidth": 0,
              "ticks": ""
             }
            },
            "type": "scatterternary"
           }
          ],
          "surface": [
           {
            "colorbar": {
             "outlinewidth": 0,
             "ticks": ""
            },
            "colorscale": [
             [
              0,
              "#0d0887"
             ],
             [
              0.1111111111111111,
              "#46039f"
             ],
             [
              0.2222222222222222,
              "#7201a8"
             ],
             [
              0.3333333333333333,
              "#9c179e"
             ],
             [
              0.4444444444444444,
              "#bd3786"
             ],
             [
              0.5555555555555556,
              "#d8576b"
             ],
             [
              0.6666666666666666,
              "#ed7953"
             ],
             [
              0.7777777777777778,
              "#fb9f3a"
             ],
             [
              0.8888888888888888,
              "#fdca26"
             ],
             [
              1,
              "#f0f921"
             ]
            ],
            "type": "surface"
           }
          ],
          "table": [
           {
            "cells": {
             "fill": {
              "color": "#EBF0F8"
             },
             "line": {
              "color": "white"
             }
            },
            "header": {
             "fill": {
              "color": "#C8D4E3"
             },
             "line": {
              "color": "white"
             }
            },
            "type": "table"
           }
          ]
         },
         "layout": {
          "annotationdefaults": {
           "arrowcolor": "#2a3f5f",
           "arrowhead": 0,
           "arrowwidth": 1
          },
          "autotypenumbers": "strict",
          "coloraxis": {
           "colorbar": {
            "outlinewidth": 0,
            "ticks": ""
           }
          },
          "colorscale": {
           "diverging": [
            [
             0,
             "#8e0152"
            ],
            [
             0.1,
             "#c51b7d"
            ],
            [
             0.2,
             "#de77ae"
            ],
            [
             0.3,
             "#f1b6da"
            ],
            [
             0.4,
             "#fde0ef"
            ],
            [
             0.5,
             "#f7f7f7"
            ],
            [
             0.6,
             "#e6f5d0"
            ],
            [
             0.7,
             "#b8e186"
            ],
            [
             0.8,
             "#7fbc41"
            ],
            [
             0.9,
             "#4d9221"
            ],
            [
             1,
             "#276419"
            ]
           ],
           "sequential": [
            [
             0,
             "#0d0887"
            ],
            [
             0.1111111111111111,
             "#46039f"
            ],
            [
             0.2222222222222222,
             "#7201a8"
            ],
            [
             0.3333333333333333,
             "#9c179e"
            ],
            [
             0.4444444444444444,
             "#bd3786"
            ],
            [
             0.5555555555555556,
             "#d8576b"
            ],
            [
             0.6666666666666666,
             "#ed7953"
            ],
            [
             0.7777777777777778,
             "#fb9f3a"
            ],
            [
             0.8888888888888888,
             "#fdca26"
            ],
            [
             1,
             "#f0f921"
            ]
           ],
           "sequentialminus": [
            [
             0,
             "#0d0887"
            ],
            [
             0.1111111111111111,
             "#46039f"
            ],
            [
             0.2222222222222222,
             "#7201a8"
            ],
            [
             0.3333333333333333,
             "#9c179e"
            ],
            [
             0.4444444444444444,
             "#bd3786"
            ],
            [
             0.5555555555555556,
             "#d8576b"
            ],
            [
             0.6666666666666666,
             "#ed7953"
            ],
            [
             0.7777777777777778,
             "#fb9f3a"
            ],
            [
             0.8888888888888888,
             "#fdca26"
            ],
            [
             1,
             "#f0f921"
            ]
           ]
          },
          "colorway": [
           "#636efa",
           "#EF553B",
           "#00cc96",
           "#ab63fa",
           "#FFA15A",
           "#19d3f3",
           "#FF6692",
           "#B6E880",
           "#FF97FF",
           "#FECB52"
          ],
          "font": {
           "color": "#2a3f5f"
          },
          "geo": {
           "bgcolor": "white",
           "lakecolor": "white",
           "landcolor": "#E5ECF6",
           "showlakes": true,
           "showland": true,
           "subunitcolor": "white"
          },
          "hoverlabel": {
           "align": "left"
          },
          "hovermode": "closest",
          "mapbox": {
           "style": "light"
          },
          "paper_bgcolor": "white",
          "plot_bgcolor": "#E5ECF6",
          "polar": {
           "angularaxis": {
            "gridcolor": "white",
            "linecolor": "white",
            "ticks": ""
           },
           "bgcolor": "#E5ECF6",
           "radialaxis": {
            "gridcolor": "white",
            "linecolor": "white",
            "ticks": ""
           }
          },
          "scene": {
           "xaxis": {
            "backgroundcolor": "#E5ECF6",
            "gridcolor": "white",
            "gridwidth": 2,
            "linecolor": "white",
            "showbackground": true,
            "ticks": "",
            "zerolinecolor": "white"
           },
           "yaxis": {
            "backgroundcolor": "#E5ECF6",
            "gridcolor": "white",
            "gridwidth": 2,
            "linecolor": "white",
            "showbackground": true,
            "ticks": "",
            "zerolinecolor": "white"
           },
           "zaxis": {
            "backgroundcolor": "#E5ECF6",
            "gridcolor": "white",
            "gridwidth": 2,
            "linecolor": "white",
            "showbackground": true,
            "ticks": "",
            "zerolinecolor": "white"
           }
          },
          "shapedefaults": {
           "line": {
            "color": "#2a3f5f"
           }
          },
          "ternary": {
           "aaxis": {
            "gridcolor": "white",
            "linecolor": "white",
            "ticks": ""
           },
           "baxis": {
            "gridcolor": "white",
            "linecolor": "white",
            "ticks": ""
           },
           "bgcolor": "#E5ECF6",
           "caxis": {
            "gridcolor": "white",
            "linecolor": "white",
            "ticks": ""
           }
          },
          "title": {
           "x": 0.05
          },
          "xaxis": {
           "automargin": true,
           "gridcolor": "white",
           "linecolor": "white",
           "ticks": "",
           "title": {
            "standoff": 15
           },
           "zerolinecolor": "white",
           "zerolinewidth": 2
          },
          "yaxis": {
           "automargin": true,
           "gridcolor": "white",
           "linecolor": "white",
           "ticks": "",
           "title": {
            "standoff": 15
           },
           "zerolinecolor": "white",
           "zerolinewidth": 2
          }
         }
        },
        "title": {
         "text": "tqa probes on tqa data"
        },
        "xaxis": {
         "anchor": "y",
         "constrain": "domain",
         "domain": [
          0,
          1
         ],
         "scaleanchor": "y",
         "title": {
          "text": "Heads (sorted)"
         }
        },
        "yaxis": {
         "anchor": "x",
         "autorange": true,
         "constrain": "domain",
         "domain": [
          0,
          1
         ],
         "title": {
          "text": "Layers"
         }
        }
       }
      },
      "text/html": [
       "<div>                            <div id=\"a4021087-91c5-4929-a961-53e3614fa40b\" class=\"plotly-graph-div\" style=\"height:525px; width:100%;\"></div>            <script type=\"text/javascript\">                require([\"plotly\"], function(Plotly) {                    window.PLOTLYENV=window.PLOTLYENV || {};                                    if (document.getElementById(\"a4021087-91c5-4929-a961-53e3614fa40b\")) {                    Plotly.newPlot(                        \"a4021087-91c5-4929-a961-53e3614fa40b\",                        [{\"coloraxis\":\"coloraxis\",\"name\":\"0\",\"z\":[[0.555,0.555,0.555,0.555,0.555,0.555,0.555,0.555,0.555,0.595,0.57,0.555,0.555,0.57,0.555,0.555,0.555,0.555,0.555,0.555,0.555,0.565,0.56,0.555,0.555],[0.545,0.57,0.61,0.515,0.575,0.565,0.525,0.515,0.635,0.62,0.605,0.57,0.575,0.55,0.59,0.57,0.515,0.56,0.555,0.56,0.555,0.53,0.515,0.565,0.6],[0.545,0.57,0.535,0.555,0.645,0.54,0.565,0.53,0.52,0.63,0.58,0.595,0.585,0.6,0.565,0.56,0.515,0.545,0.56,0.57,0.51,0.535,0.54,0.6,0.595],[0.6,0.605,0.61,0.555,0.575,0.555,0.55,0.565,0.52,0.535,0.61,0.615,0.575,0.605,0.56,0.645,0.585,0.545,0.585,0.57,0.56,0.605,0.545,0.57,0.53],[0.57,0.54,0.575,0.61,0.58,0.565,0.62,0.585,0.6,0.59,0.655,0.56,0.57,0.625,0.575,0.625,0.58,0.545,0.575,0.595,0.56,0.585,0.605,0.54,0.585],[0.585,0.595,0.67,0.595,0.61,0.54,0.56,0.525,0.565,0.605,0.66,0.56,0.63,0.59,0.615,0.53,0.6,0.595,0.56,0.585,0.57,0.58,0.625,0.585,0.58],[0.565,0.57,0.59,0.575,0.635,0.63,0.625,0.605,0.58,0.635,0.54,0.61,0.635,0.565,0.615,0.585,0.605,0.565,0.56,0.59,0.66,0.575,0.585,0.565,0.68],[0.625,0.575,0.58,0.54,0.615,0.555,0.67,0.615,0.68,0.61,0.59,0.575,0.565,0.635,0.635,0.625,0.655,0.645,0.615,0.625,0.585,0.655,0.59,0.56,0.695],[0.615,0.595,0.6,0.62,0.63,0.59,0.605,0.655,0.62,0.65,0.635,0.61,0.595,0.615,0.59,0.575,0.645,0.63,0.615,0.595,0.62,0.645,0.655,0.635,0.58],[0.645,0.59,0.63,0.59,0.62,0.585,0.65,0.55,0.675,0.665,0.59,0.63,0.585,0.66,0.58,0.65,0.57,0.61,0.68,0.73,0.635,0.575,0.55,0.595,0.63],[0.66,0.72,0.555,0.655,0.75,0.615,0.61,0.64,0.675,0.595,0.62,0.62,0.61,0.585,0.595,0.57,0.685,0.705,0.69,0.605,0.56,0.625,0.68,0.575,0.615],[0.535,0.63,0.525,0.655,0.505,0.615,0.605,0.695,0.72,0.63,0.63,0.615,0.62,0.65,0.65,0.54,0.64,0.645,0.575,0.56,0.66,0.59,0.6,0.665,0.65],[0.595,0.615,0.605,0.645,0.725,0.64,0.61,0.65,0.645,0.665,0.66,0.66,0.67,0.72,0.705,0.625,0.685,0.56,0.64,0.645,0.7,0.525,0.695,0.69,0.65],[0.655,0.695,0.67,0.67,0.645,0.63,0.66,0.705,0.58,0.56,0.675,0.715,0.56,0.645,0.685,0.59,0.62,0.62,0.69,0.695,0.56,0.7,0.655,0.575,0.63],[0.635,0.605,0.63,0.675,0.68,0.56,0.625,0.615,0.685,0.65,0.625,0.725,0.565,0.645,0.655,0.585,0.72,0.625,0.68,0.575,0.63,0.725,0.62,0.665,0.62],[0.675,0.62,0.64,0.67,0.66,0.595,0.675,0.625,0.65,0.62,0.67,0.63,0.66,0.735,0.655,0.68,0.665,0.71,0.675,0.55,0.725,0.715,0.69,0.68,0.605],[0.575,0.71,0.62,0.63,0.65,0.53,0.605,0.615,0.67,0.665,0.665,0.635,0.715,0.645,0.68,0.65,0.7,0.625,0.62,0.7,0.68,0.56,0.71,0.655,0.635],[0.695,0.645,0.655,0.695,0.67,0.62,0.62,0.715,0.7,0.61,0.65,0.64,0.545,0.675,0.7,0.68,0.685,0.695,0.645,0.71,0.645,0.615,0.67,0.58,0.685],[0.65,0.64,0.61,0.635,0.73,0.595,0.7,0.725,0.675,0.7,0.64,0.69,0.7,0.69,0.72,0.605,0.635,0.675,0.695,0.64,0.675,0.685,0.605,0.685,0.68],[0.765,0.62,0.7,0.77,0.675,0.66,0.75,0.705,0.645,0.62,0.655,0.63,0.71,0.66,0.69,0.625,0.58,0.675,0.655,0.58,0.6,0.65,0.71,0.695,0.695],[0.625,0.66,0.635,0.65,0.595,0.64,0.64,0.665,0.64,0.69,0.695,0.61,0.595,0.615,0.69,0.725,0.7,0.635,0.63,0.68,0.69,0.665,0.735,0.675,0.65],[0.715,0.62,0.72,0.58,0.725,0.63,0.615,0.765,0.7,0.6,0.655,0.645,0.615,0.715,0.665,0.725,0.74,0.6,0.71,0.65,0.595,0.665,0.73,0.67,0.65],[0.605,0.75,0.605,0.73,0.635,0.665,0.65,0.65,0.665,0.61,0.625,0.66,0.645,0.63,0.7,0.655,0.7,0.685,0.605,0.7,0.6,0.63,0.68,0.68,0.65],[0.635,0.68,0.645,0.62,0.6,0.645,0.665,0.685,0.555,0.605,0.645,0.71,0.66,0.7,0.63,0.63,0.68,0.545,0.62,0.63,0.615,0.67,0.685,0.695,0.715],[0.535,0.69,0.615,0.645,0.555,0.635,0.68,0.65,0.595,0.635,0.605,0.57,0.57,0.685,0.705,0.69,0.565,0.62,0.575,0.65,0.585,0.69,0.675,0.66,0.67],[0.65,0.71,0.62,0.675,0.58,0.65,0.575,0.66,0.65,0.665,0.69,0.665,0.67,0.595,0.665,0.69,0.555,0.615,0.565,0.615,0.66,0.665,0.665,0.66,0.58],[0.625,0.675,0.585,0.645,0.66,0.585,0.685,0.595,0.675,0.695,0.685,0.635,0.66,0.615,0.65,0.64,0.665,0.675,0.63,0.58,0.565,0.7,0.56,0.565,0.715],[0.66,0.655,0.655,0.64,0.595,0.59,0.67,0.61,0.63,0.54,0.57,0.585,0.655,0.53,0.675,0.73,0.65,0.71,0.645,0.6,0.735,0.645,0.585,0.575,0.59],[0.68,0.64,0.72,0.6,0.615,0.66,0.6,0.61,0.695,0.635,0.65,0.585,0.655,0.705,0.63,0.54,0.655,0.63,0.61,0.565,0.705,0.63,0.635,0.55,0.595],[0.53,0.65,0.67,0.665,0.665,0.605,0.66,0.67,0.52,0.55,0.595,0.62,0.62,0.64,0.59,0.61,0.61,0.615,0.64,0.54,0.605,0.615,0.655,0.62,0.63],[0.6,0.555,0.635,0.615,0.58,0.57,0.595,0.675,0.55,0.555,0.565,0.595,0.6,0.545,0.585,0.555,0.655,0.62,0.565,0.6,0.62,0.545,0.595,0.58,0.55],[0.635,0.7,0.6,0.59,0.595,0.64,0.655,0.665,0.565,0.56,0.66,0.51,0.62,0.625,0.615,0.57,0.53,0.55,0.6,0.67,0.525,0.57,0.63,0.605,0.745],[0.575,0.59,0.61,0.62,0.635,0.58,0.595,0.62,0.55,0.595,0.565,0.605,0.575,0.655,0.68,0.62,0.575,0.645,0.62,0.625,0.61,0.7,0.65,0.665,0.57],[0.58,0.58,0.575,0.675,0.58,0.6,0.53,0.51,0.645,0.61,0.535,0.675,0.59,0.525,0.56,0.715,0.59,0.575,0.56,0.645,0.66,0.59,0.635,0.665,0.61],[0.55,0.61,0.63,0.585,0.535,0.505,0.62,0.57,0.545,0.59,0.565,0.585,0.625,0.54,0.63,0.615,0.55,0.54,0.57,0.645,0.585,0.535,0.59,0.64,0.665],[0.59,0.585,0.515,0.565,0.685,0.585,0.57,0.58,0.59,0.59,0.56,0.545,0.54,0.65,0.515,0.575,0.555,0.595,0.59,0.545,0.565,0.595,0.6,0.66,0.555],[0.625,0.635,0.53,0.53,0.585,0.625,0.51,0.555,0.665,0.565,0.55,0.66,0.545,0.545,0.57,0.625,0.65,0.525,0.605,0.62,0.655,0.505,0.6,0.565,0.575],[0.58,0.735,0.57,0.58,0.545,0.645,0.64,0.52,0.555,0.61,0.575,0.56,0.69,0.575,0.59,0.555,0.595,0.58,0.59,0.645,0.63,0.58,0.56,0.6,0.655],[0.525,0.615,0.5,0.54,0.52,0.525,0.58,0.585,0.585,0.58,0.65,0.6,0.515,0.57,0.505,0.54,0.575,0.62,0.555,0.56,0.54,0.6,0.6,0.54,0.59],[0.57,0.65,0.555,0.56,0.545,0.53,0.535,0.57,0.595,0.575,0.59,0.65,0.515,0.6,0.605,0.575,0.6,0.595,0.715,0.565,0.6,0.565,0.535,0.635,0.56],[0.605,0.655,0.535,0.56,0.6,0.545,0.57,0.585,0.585,0.57,0.61,0.565,0.57,0.595,0.585,0.54,0.565,0.545,0.54,0.565,0.53,0.55,0.53,0.56,0.54],[0.59,0.535,0.52,0.63,0.54,0.55,0.625,0.59,0.53,0.575,0.665,0.585,0.565,0.645,0.605,0.615,0.635,0.61,0.545,0.63,0.535,0.55,0.56,0.59,0.61],[0.545,0.64,0.61,0.67,0.575,0.54,0.605,0.5,0.55,0.57,0.595,0.595,0.53,0.565,0.58,0.635,0.59,0.56,0.54,0.565,0.61,0.51,0.585,0.57,0.535],[0.52,0.615,0.545,0.535,0.535,0.64,0.58,0.57,0.555,0.555,0.57,0.56,0.59,0.61,0.59,0.545,0.575,0.51,0.54,0.585,0.495,0.62,0.64,0.57,0.535],[0.57,0.59,0.625,0.615,0.585,0.57,0.545,0.5,0.515,0.565,0.59,0.58,0.545,0.625,0.545,0.56,0.58,0.54,0.615,0.555,0.56,0.58,0.62,0.605,0.57],[0.585,0.585,0.54,0.605,0.61,0.635,0.55,0.565,0.57,0.62,0.615,0.615,0.595,0.515,0.58,0.56,0.585,0.555,0.58,0.55,0.635,0.55,0.605,0.53,0.565],[0.65,0.59,0.515,0.56,0.56,0.545,0.565,0.52,0.58,0.56,0.64,0.56,0.535,0.545,0.545,0.6,0.57,0.565,0.55,0.565,0.55,0.59,0.57,0.57,0.57],[0.575,0.55,0.565,0.575,0.6,0.605,0.53,0.6,0.595,0.55,0.58,0.61,0.52,0.5,0.615,0.565,0.52,0.6,0.565,0.54,0.54,0.56,0.51,0.63,0.515]],\"type\":\"heatmap\",\"xaxis\":\"x\",\"yaxis\":\"y\",\"hovertemplate\":\"Heads (sorted): %{x}\\u003cbr\\u003eLayers: %{y}\\u003cbr\\u003ecolor: %{z}\\u003cextra\\u003e\\u003c\\u002fextra\\u003e\"}],                        {\"template\":{\"data\":{\"histogram2dcontour\":[{\"type\":\"histogram2dcontour\",\"colorbar\":{\"outlinewidth\":0,\"ticks\":\"\"},\"colorscale\":[[0.0,\"#0d0887\"],[0.1111111111111111,\"#46039f\"],[0.2222222222222222,\"#7201a8\"],[0.3333333333333333,\"#9c179e\"],[0.4444444444444444,\"#bd3786\"],[0.5555555555555556,\"#d8576b\"],[0.6666666666666666,\"#ed7953\"],[0.7777777777777778,\"#fb9f3a\"],[0.8888888888888888,\"#fdca26\"],[1.0,\"#f0f921\"]]}],\"choropleth\":[{\"type\":\"choropleth\",\"colorbar\":{\"outlinewidth\":0,\"ticks\":\"\"}}],\"histogram2d\":[{\"type\":\"histogram2d\",\"colorbar\":{\"outlinewidth\":0,\"ticks\":\"\"},\"colorscale\":[[0.0,\"#0d0887\"],[0.1111111111111111,\"#46039f\"],[0.2222222222222222,\"#7201a8\"],[0.3333333333333333,\"#9c179e\"],[0.4444444444444444,\"#bd3786\"],[0.5555555555555556,\"#d8576b\"],[0.6666666666666666,\"#ed7953\"],[0.7777777777777778,\"#fb9f3a\"],[0.8888888888888888,\"#fdca26\"],[1.0,\"#f0f921\"]]}],\"heatmap\":[{\"type\":\"heatmap\",\"colorbar\":{\"outlinewidth\":0,\"ticks\":\"\"},\"colorscale\":[[0.0,\"#0d0887\"],[0.1111111111111111,\"#46039f\"],[0.2222222222222222,\"#7201a8\"],[0.3333333333333333,\"#9c179e\"],[0.4444444444444444,\"#bd3786\"],[0.5555555555555556,\"#d8576b\"],[0.6666666666666666,\"#ed7953\"],[0.7777777777777778,\"#fb9f3a\"],[0.8888888888888888,\"#fdca26\"],[1.0,\"#f0f921\"]]}],\"heatmapgl\":[{\"type\":\"heatmapgl\",\"colorbar\":{\"outlinewidth\":0,\"ticks\":\"\"},\"colorscale\":[[0.0,\"#0d0887\"],[0.1111111111111111,\"#46039f\"],[0.2222222222222222,\"#7201a8\"],[0.3333333333333333,\"#9c179e\"],[0.4444444444444444,\"#bd3786\"],[0.5555555555555556,\"#d8576b\"],[0.6666666666666666,\"#ed7953\"],[0.7777777777777778,\"#fb9f3a\"],[0.8888888888888888,\"#fdca26\"],[1.0,\"#f0f921\"]]}],\"contourcarpet\":[{\"type\":\"contourcarpet\",\"colorbar\":{\"outlinewidth\":0,\"ticks\":\"\"}}],\"contour\":[{\"type\":\"contour\",\"colorbar\":{\"outlinewidth\":0,\"ticks\":\"\"},\"colorscale\":[[0.0,\"#0d0887\"],[0.1111111111111111,\"#46039f\"],[0.2222222222222222,\"#7201a8\"],[0.3333333333333333,\"#9c179e\"],[0.4444444444444444,\"#bd3786\"],[0.5555555555555556,\"#d8576b\"],[0.6666666666666666,\"#ed7953\"],[0.7777777777777778,\"#fb9f3a\"],[0.8888888888888888,\"#fdca26\"],[1.0,\"#f0f921\"]]}],\"surface\":[{\"type\":\"surface\",\"colorbar\":{\"outlinewidth\":0,\"ticks\":\"\"},\"colorscale\":[[0.0,\"#0d0887\"],[0.1111111111111111,\"#46039f\"],[0.2222222222222222,\"#7201a8\"],[0.3333333333333333,\"#9c179e\"],[0.4444444444444444,\"#bd3786\"],[0.5555555555555556,\"#d8576b\"],[0.6666666666666666,\"#ed7953\"],[0.7777777777777778,\"#fb9f3a\"],[0.8888888888888888,\"#fdca26\"],[1.0,\"#f0f921\"]]}],\"mesh3d\":[{\"type\":\"mesh3d\",\"colorbar\":{\"outlinewidth\":0,\"ticks\":\"\"}}],\"scatter\":[{\"fillpattern\":{\"fillmode\":\"overlay\",\"size\":10,\"solidity\":0.2},\"type\":\"scatter\"}],\"parcoords\":[{\"type\":\"parcoords\",\"line\":{\"colorbar\":{\"outlinewidth\":0,\"ticks\":\"\"}}}],\"scatterpolargl\":[{\"type\":\"scatterpolargl\",\"marker\":{\"colorbar\":{\"outlinewidth\":0,\"ticks\":\"\"}}}],\"bar\":[{\"error_x\":{\"color\":\"#2a3f5f\"},\"error_y\":{\"color\":\"#2a3f5f\"},\"marker\":{\"line\":{\"color\":\"#E5ECF6\",\"width\":0.5},\"pattern\":{\"fillmode\":\"overlay\",\"size\":10,\"solidity\":0.2}},\"type\":\"bar\"}],\"scattergeo\":[{\"type\":\"scattergeo\",\"marker\":{\"colorbar\":{\"outlinewidth\":0,\"ticks\":\"\"}}}],\"scatterpolar\":[{\"type\":\"scatterpolar\",\"marker\":{\"colorbar\":{\"outlinewidth\":0,\"ticks\":\"\"}}}],\"histogram\":[{\"marker\":{\"pattern\":{\"fillmode\":\"overlay\",\"size\":10,\"solidity\":0.2}},\"type\":\"histogram\"}],\"scattergl\":[{\"type\":\"scattergl\",\"marker\":{\"colorbar\":{\"outlinewidth\":0,\"ticks\":\"\"}}}],\"scatter3d\":[{\"type\":\"scatter3d\",\"line\":{\"colorbar\":{\"outlinewidth\":0,\"ticks\":\"\"}},\"marker\":{\"colorbar\":{\"outlinewidth\":0,\"ticks\":\"\"}}}],\"scattermapbox\":[{\"type\":\"scattermapbox\",\"marker\":{\"colorbar\":{\"outlinewidth\":0,\"ticks\":\"\"}}}],\"scatterternary\":[{\"type\":\"scatterternary\",\"marker\":{\"colorbar\":{\"outlinewidth\":0,\"ticks\":\"\"}}}],\"scattercarpet\":[{\"type\":\"scattercarpet\",\"marker\":{\"colorbar\":{\"outlinewidth\":0,\"ticks\":\"\"}}}],\"carpet\":[{\"aaxis\":{\"endlinecolor\":\"#2a3f5f\",\"gridcolor\":\"white\",\"linecolor\":\"white\",\"minorgridcolor\":\"white\",\"startlinecolor\":\"#2a3f5f\"},\"baxis\":{\"endlinecolor\":\"#2a3f5f\",\"gridcolor\":\"white\",\"linecolor\":\"white\",\"minorgridcolor\":\"white\",\"startlinecolor\":\"#2a3f5f\"},\"type\":\"carpet\"}],\"table\":[{\"cells\":{\"fill\":{\"color\":\"#EBF0F8\"},\"line\":{\"color\":\"white\"}},\"header\":{\"fill\":{\"color\":\"#C8D4E3\"},\"line\":{\"color\":\"white\"}},\"type\":\"table\"}],\"barpolar\":[{\"marker\":{\"line\":{\"color\":\"#E5ECF6\",\"width\":0.5},\"pattern\":{\"fillmode\":\"overlay\",\"size\":10,\"solidity\":0.2}},\"type\":\"barpolar\"}],\"pie\":[{\"automargin\":true,\"type\":\"pie\"}]},\"layout\":{\"autotypenumbers\":\"strict\",\"colorway\":[\"#636efa\",\"#EF553B\",\"#00cc96\",\"#ab63fa\",\"#FFA15A\",\"#19d3f3\",\"#FF6692\",\"#B6E880\",\"#FF97FF\",\"#FECB52\"],\"font\":{\"color\":\"#2a3f5f\"},\"hovermode\":\"closest\",\"hoverlabel\":{\"align\":\"left\"},\"paper_bgcolor\":\"white\",\"plot_bgcolor\":\"#E5ECF6\",\"polar\":{\"bgcolor\":\"#E5ECF6\",\"angularaxis\":{\"gridcolor\":\"white\",\"linecolor\":\"white\",\"ticks\":\"\"},\"radialaxis\":{\"gridcolor\":\"white\",\"linecolor\":\"white\",\"ticks\":\"\"}},\"ternary\":{\"bgcolor\":\"#E5ECF6\",\"aaxis\":{\"gridcolor\":\"white\",\"linecolor\":\"white\",\"ticks\":\"\"},\"baxis\":{\"gridcolor\":\"white\",\"linecolor\":\"white\",\"ticks\":\"\"},\"caxis\":{\"gridcolor\":\"white\",\"linecolor\":\"white\",\"ticks\":\"\"}},\"coloraxis\":{\"colorbar\":{\"outlinewidth\":0,\"ticks\":\"\"}},\"colorscale\":{\"sequential\":[[0.0,\"#0d0887\"],[0.1111111111111111,\"#46039f\"],[0.2222222222222222,\"#7201a8\"],[0.3333333333333333,\"#9c179e\"],[0.4444444444444444,\"#bd3786\"],[0.5555555555555556,\"#d8576b\"],[0.6666666666666666,\"#ed7953\"],[0.7777777777777778,\"#fb9f3a\"],[0.8888888888888888,\"#fdca26\"],[1.0,\"#f0f921\"]],\"sequentialminus\":[[0.0,\"#0d0887\"],[0.1111111111111111,\"#46039f\"],[0.2222222222222222,\"#7201a8\"],[0.3333333333333333,\"#9c179e\"],[0.4444444444444444,\"#bd3786\"],[0.5555555555555556,\"#d8576b\"],[0.6666666666666666,\"#ed7953\"],[0.7777777777777778,\"#fb9f3a\"],[0.8888888888888888,\"#fdca26\"],[1.0,\"#f0f921\"]],\"diverging\":[[0,\"#8e0152\"],[0.1,\"#c51b7d\"],[0.2,\"#de77ae\"],[0.3,\"#f1b6da\"],[0.4,\"#fde0ef\"],[0.5,\"#f7f7f7\"],[0.6,\"#e6f5d0\"],[0.7,\"#b8e186\"],[0.8,\"#7fbc41\"],[0.9,\"#4d9221\"],[1,\"#276419\"]]},\"xaxis\":{\"gridcolor\":\"white\",\"linecolor\":\"white\",\"ticks\":\"\",\"title\":{\"standoff\":15},\"zerolinecolor\":\"white\",\"automargin\":true,\"zerolinewidth\":2},\"yaxis\":{\"gridcolor\":\"white\",\"linecolor\":\"white\",\"ticks\":\"\",\"title\":{\"standoff\":15},\"zerolinecolor\":\"white\",\"automargin\":true,\"zerolinewidth\":2},\"scene\":{\"xaxis\":{\"backgroundcolor\":\"#E5ECF6\",\"gridcolor\":\"white\",\"linecolor\":\"white\",\"showbackground\":true,\"ticks\":\"\",\"zerolinecolor\":\"white\",\"gridwidth\":2},\"yaxis\":{\"backgroundcolor\":\"#E5ECF6\",\"gridcolor\":\"white\",\"linecolor\":\"white\",\"showbackground\":true,\"ticks\":\"\",\"zerolinecolor\":\"white\",\"gridwidth\":2},\"zaxis\":{\"backgroundcolor\":\"#E5ECF6\",\"gridcolor\":\"white\",\"linecolor\":\"white\",\"showbackground\":true,\"ticks\":\"\",\"zerolinecolor\":\"white\",\"gridwidth\":2}},\"shapedefaults\":{\"line\":{\"color\":\"#2a3f5f\"}},\"annotationdefaults\":{\"arrowcolor\":\"#2a3f5f\",\"arrowhead\":0,\"arrowwidth\":1},\"geo\":{\"bgcolor\":\"white\",\"landcolor\":\"#E5ECF6\",\"subunitcolor\":\"white\",\"showland\":true,\"showlakes\":true,\"lakecolor\":\"white\"},\"title\":{\"x\":0.05},\"mapbox\":{\"style\":\"light\"}}},\"xaxis\":{\"anchor\":\"y\",\"domain\":[0.0,1.0],\"scaleanchor\":\"y\",\"constrain\":\"domain\",\"title\":{\"text\":\"Heads (sorted)\"}},\"yaxis\":{\"anchor\":\"x\",\"domain\":[0.0,1.0],\"autorange\":true,\"constrain\":\"domain\",\"title\":{\"text\":\"Layers\"}},\"coloraxis\":{\"colorscale\":[[0.0,\"rgb(255,255,217)\"],[0.125,\"rgb(237,248,177)\"],[0.25,\"rgb(199,233,180)\"],[0.375,\"rgb(127,205,187)\"],[0.5,\"rgb(65,182,196)\"],[0.625,\"rgb(29,145,192)\"],[0.75,\"rgb(34,94,168)\"],[0.875,\"rgb(37,52,148)\"],[1.0,\"rgb(8,29,88)\"]],\"cmid\":0.5},\"title\":{\"text\":\"tqa probes on tqa data\"}},                        {\"responsive\": true}                    ).then(function(){\n",
       "                            \n",
       "var gd = document.getElementById('a4021087-91c5-4929-a961-53e3614fa40b');\n",
       "var x = new MutationObserver(function (mutations, observer) {{\n",
       "        var display = window.getComputedStyle(gd).display;\n",
       "        if (!display || display === 'none') {{\n",
       "            console.log([gd, 'removed!']);\n",
       "            Plotly.purge(gd);\n",
       "            observer.disconnect();\n",
       "        }}\n",
       "}});\n",
       "\n",
       "// Listen for the removal of the full notebook cells\n",
       "var notebookContainer = gd.closest('#notebook-container');\n",
       "if (notebookContainer) {{\n",
       "    x.observe(notebookContainer, {childList: true});\n",
       "}}\n",
       "\n",
       "// Listen for the clearing of the current output cell\n",
       "var outputEl = gd.closest('.output');\n",
       "if (outputEl) {{\n",
       "    x.observe(outputEl, {childList: true});\n",
       "}}\n",
       "\n",
       "                        })                };                });            </script>        </div>"
      ]
     },
     "metadata": {},
     "output_type": "display_data"
    },
    {
     "name": "stderr",
     "output_type": "stream",
     "text": [
      "1200it [00:00, 2415.03it/s]\n"
     ]
    },
    {
     "data": {
      "application/vnd.plotly.v1+json": {
       "config": {
        "plotlyServerURL": "https://plot.ly"
       },
       "data": [
        {
         "coloraxis": "coloraxis",
         "hovertemplate": "Heads (sorted): %{x}<br>Layers: %{y}<br>color: %{z}<extra></extra>",
         "name": "0",
         "type": "heatmap",
         "xaxis": "x",
         "yaxis": "y",
         "z": [
          [
           0.455,
           0.455,
           0.455,
           0.455,
           0.455,
           0.455,
           0.455,
           0.455,
           0.455,
           0.45,
           0.45,
           0.455,
           0.455,
           0.46,
           0.455,
           0.455,
           0.455,
           0.455,
           0.455,
           0.455,
           0.455,
           0.455,
           0.455,
           0.455,
           0.455
          ],
          [
           0.455,
           0.52,
           0.465,
           0.515,
           0.47,
           0.46,
           0.47,
           0.455,
           0.53,
           0.525,
           0.465,
           0.57,
           0.48,
           0.46,
           0.455,
           0.475,
           0.45,
           0.5,
           0.42,
           0.51,
           0.46,
           0.465,
           0.42,
           0.505,
           0.47
          ],
          [
           0.435,
           0.455,
           0.455,
           0.475,
           0.49,
           0.46,
           0.455,
           0.45,
           0.495,
           0.505,
           0.465,
           0.47,
           0.49,
           0.54,
           0.54,
           0.445,
           0.48,
           0.54,
           0.49,
           0.515,
           0.49,
           0.48,
           0.495,
           0.465,
           0.46
          ],
          [
           0.465,
           0.465,
           0.44,
           0.48,
           0.41,
           0.48,
           0.44,
           0.485,
           0.44,
           0.45,
           0.495,
           0.545,
           0.455,
           0.44,
           0.515,
           0.46,
           0.5,
           0.46,
           0.5,
           0.455,
           0.475,
           0.485,
           0.455,
           0.53,
           0.46
          ],
          [
           0.455,
           0.485,
           0.45,
           0.455,
           0.47,
           0.47,
           0.455,
           0.46,
           0.465,
           0.46,
           0.475,
           0.455,
           0.525,
           0.485,
           0.485,
           0.455,
           0.505,
           0.465,
           0.565,
           0.545,
           0.48,
           0.47,
           0.445,
           0.515,
           0.465
          ],
          [
           0.5,
           0.5,
           0.515,
           0.5,
           0.495,
           0.465,
           0.49,
           0.445,
           0.455,
           0.475,
           0.46,
           0.455,
           0.54,
           0.445,
           0.445,
           0.51,
           0.53,
           0.465,
           0.46,
           0.445,
           0.48,
           0.455,
           0.485,
           0.525,
           0.51
          ],
          [
           0.475,
           0.5,
           0.53,
           0.445,
           0.49,
           0.5,
           0.505,
           0.55,
           0.44,
           0.475,
           0.505,
           0.48,
           0.425,
           0.555,
           0.48,
           0.455,
           0.505,
           0.46,
           0.5,
           0.45,
           0.44,
           0.49,
           0.5,
           0.495,
           0.455
          ],
          [
           0.495,
           0.47,
           0.545,
           0.495,
           0.51,
           0.5,
           0.515,
           0.47,
           0.475,
           0.445,
           0.465,
           0.535,
           0.48,
           0.49,
           0.585,
           0.48,
           0.495,
           0.5,
           0.47,
           0.495,
           0.475,
           0.49,
           0.46,
           0.45,
           0.445
          ],
          [
           0.515,
           0.485,
           0.45,
           0.475,
           0.495,
           0.45,
           0.44,
           0.555,
           0.505,
           0.47,
           0.535,
           0.495,
           0.495,
           0.51,
           0.49,
           0.445,
           0.485,
           0.47,
           0.5,
           0.455,
           0.47,
           0.495,
           0.47,
           0.53,
           0.485
          ],
          [
           0.49,
           0.49,
           0.505,
           0.46,
           0.505,
           0.505,
           0.445,
           0.525,
           0.52,
           0.54,
           0.52,
           0.51,
           0.55,
           0.51,
           0.5,
           0.475,
           0.465,
           0.49,
           0.47,
           0.49,
           0.555,
           0.46,
           0.545,
           0.535,
           0.47
          ],
          [
           0.47,
           0.47,
           0.54,
           0.525,
           0.46,
           0.455,
           0.47,
           0.495,
           0.52,
           0.49,
           0.455,
           0.43,
           0.46,
           0.47,
           0.45,
           0.515,
           0.52,
           0.48,
           0.53,
           0.48,
           0.46,
           0.54,
           0.535,
           0.465,
           0.535
          ],
          [
           0.5,
           0.47,
           0.49,
           0.515,
           0.56,
           0.445,
           0.47,
           0.485,
           0.55,
           0.49,
           0.525,
           0.525,
           0.465,
           0.43,
           0.53,
           0.515,
           0.455,
           0.505,
           0.475,
           0.48,
           0.515,
           0.585,
           0.54,
           0.465,
           0.52
          ],
          [
           0.475,
           0.54,
           0.455,
           0.51,
           0.475,
           0.565,
           0.48,
           0.535,
           0.45,
           0.47,
           0.52,
           0.515,
           0.495,
           0.49,
           0.455,
           0.5,
           0.52,
           0.475,
           0.49,
           0.45,
           0.53,
           0.55,
           0.485,
           0.56,
           0.56
          ],
          [
           0.53,
           0.48,
           0.545,
           0.45,
           0.45,
           0.495,
           0.5,
           0.525,
           0.51,
           0.46,
           0.47,
           0.555,
           0.495,
           0.47,
           0.49,
           0.455,
           0.475,
           0.545,
           0.46,
           0.465,
           0.495,
           0.445,
           0.445,
           0.495,
           0.48
          ],
          [
           0.455,
           0.475,
           0.535,
           0.47,
           0.53,
           0.475,
           0.5,
           0.52,
           0.525,
           0.465,
           0.51,
           0.45,
           0.51,
           0.445,
           0.445,
           0.495,
           0.505,
           0.42,
           0.43,
           0.495,
           0.51,
           0.475,
           0.51,
           0.5,
           0.455
          ],
          [
           0.525,
           0.445,
           0.525,
           0.525,
           0.455,
           0.52,
           0.47,
           0.46,
           0.44,
           0.59,
           0.5,
           0.475,
           0.565,
           0.585,
           0.465,
           0.515,
           0.48,
           0.465,
           0.545,
           0.49,
           0.51,
           0.455,
           0.545,
           0.515,
           0.455
          ],
          [
           0.49,
           0.515,
           0.465,
           0.51,
           0.55,
           0.51,
           0.51,
           0.515,
           0.55,
           0.525,
           0.46,
           0.5,
           0.52,
           0.555,
           0.475,
           0.54,
           0.515,
           0.5,
           0.575,
           0.545,
           0.505,
           0.45,
           0.505,
           0.555,
           0.525
          ],
          [
           0.465,
           0.505,
           0.53,
           0.5,
           0.48,
           0.485,
           0.53,
           0.58,
           0.505,
           0.515,
           0.56,
           0.5,
           0.48,
           0.56,
           0.51,
           0.55,
           0.47,
           0.505,
           0.495,
           0.525,
           0.515,
           0.54,
           0.515,
           0.57,
           0.525
          ],
          [
           0.5,
           0.555,
           0.56,
           0.465,
           0.5,
           0.525,
           0.545,
           0.53,
           0.495,
           0.5,
           0.515,
           0.48,
           0.48,
           0.56,
           0.51,
           0.47,
           0.5,
           0.535,
           0.545,
           0.57,
           0.535,
           0.56,
           0.48,
           0.465,
           0.505
          ],
          [
           0.515,
           0.55,
           0.57,
           0.515,
           0.55,
           0.53,
           0.545,
           0.505,
           0.515,
           0.545,
           0.52,
           0.49,
           0.525,
           0.545,
           0.54,
           0.49,
           0.52,
           0.455,
           0.485,
           0.49,
           0.565,
           0.47,
           0.545,
           0.455,
           0.545
          ],
          [
           0.5,
           0.545,
           0.52,
           0.45,
           0.54,
           0.47,
           0.545,
           0.48,
           0.46,
           0.525,
           0.465,
           0.54,
           0.54,
           0.435,
           0.5,
           0.53,
           0.45,
           0.51,
           0.52,
           0.495,
           0.465,
           0.535,
           0.535,
           0.55,
           0.475
          ],
          [
           0.55,
           0.505,
           0.525,
           0.46,
           0.56,
           0.54,
           0.495,
           0.56,
           0.535,
           0.51,
           0.485,
           0.5,
           0.475,
           0.55,
           0.5,
           0.46,
           0.535,
           0.47,
           0.52,
           0.52,
           0.46,
           0.55,
           0.525,
           0.505,
           0.515
          ],
          [
           0.465,
           0.54,
           0.515,
           0.55,
           0.51,
           0.45,
           0.49,
           0.545,
           0.45,
           0.5,
           0.53,
           0.44,
           0.52,
           0.54,
           0.54,
           0.56,
           0.575,
           0.545,
           0.515,
           0.51,
           0.515,
           0.55,
           0.51,
           0.495,
           0.52
          ],
          [
           0.53,
           0.5,
           0.465,
           0.48,
           0.47,
           0.505,
           0.49,
           0.545,
           0.49,
           0.525,
           0.51,
           0.45,
           0.555,
           0.535,
           0.54,
           0.545,
           0.45,
           0.46,
           0.455,
           0.505,
           0.485,
           0.46,
           0.515,
           0.5,
           0.47
          ],
          [
           0.45,
           0.49,
           0.47,
           0.45,
           0.52,
           0.52,
           0.445,
           0.46,
           0.44,
           0.505,
           0.5,
           0.485,
           0.41,
           0.465,
           0.47,
           0.45,
           0.465,
           0.45,
           0.475,
           0.455,
           0.48,
           0.465,
           0.495,
           0.475,
           0.47
          ],
          [
           0.505,
           0.475,
           0.485,
           0.49,
           0.505,
           0.46,
           0.455,
           0.525,
           0.505,
           0.475,
           0.485,
           0.535,
           0.47,
           0.545,
           0.45,
           0.455,
           0.455,
           0.465,
           0.455,
           0.475,
           0.45,
           0.555,
           0.455,
           0.45,
           0.485
          ],
          [
           0.475,
           0.49,
           0.51,
           0.46,
           0.475,
           0.475,
           0.445,
           0.535,
           0.55,
           0.51,
           0.54,
           0.495,
           0.59,
           0.46,
           0.495,
           0.455,
           0.52,
           0.47,
           0.535,
           0.53,
           0.465,
           0.46,
           0.46,
           0.455,
           0.44
          ],
          [
           0.505,
           0.445,
           0.54,
           0.48,
           0.465,
           0.47,
           0.525,
           0.495,
           0.49,
           0.485,
           0.525,
           0.525,
           0.485,
           0.47,
           0.48,
           0.475,
           0.455,
           0.45,
           0.465,
           0.45,
           0.46,
           0.49,
           0.495,
           0.505,
           0.46
          ],
          [
           0.455,
           0.45,
           0.465,
           0.495,
           0.485,
           0.495,
           0.45,
           0.485,
           0.48,
           0.475,
           0.475,
           0.465,
           0.46,
           0.455,
           0.58,
           0.455,
           0.465,
           0.535,
           0.535,
           0.46,
           0.485,
           0.49,
           0.455,
           0.54,
           0.47
          ],
          [
           0.45,
           0.465,
           0.555,
           0.5,
           0.465,
           0.49,
           0.445,
           0.5,
           0.51,
           0.495,
           0.54,
           0.55,
           0.445,
           0.505,
           0.47,
           0.545,
           0.46,
           0.505,
           0.475,
           0.445,
           0.45,
           0.47,
           0.55,
           0.48,
           0.455
          ],
          [
           0.5,
           0.45,
           0.49,
           0.465,
           0.46,
           0.415,
           0.495,
           0.49,
           0.535,
           0.45,
           0.5,
           0.445,
           0.51,
           0.475,
           0.515,
           0.43,
           0.46,
           0.5,
           0.54,
           0.425,
           0.46,
           0.445,
           0.525,
           0.51,
           0.48
          ],
          [
           0.585,
           0.53,
           0.45,
           0.475,
           0.465,
           0.545,
           0.505,
           0.56,
           0.53,
           0.455,
           0.45,
           0.515,
           0.455,
           0.54,
           0.465,
           0.53,
           0.505,
           0.545,
           0.455,
           0.475,
           0.475,
           0.51,
           0.535,
           0.48,
           0.535
          ],
          [
           0.535,
           0.455,
           0.45,
           0.48,
           0.45,
           0.505,
           0.405,
           0.455,
           0.515,
           0.495,
           0.5,
           0.51,
           0.47,
           0.52,
           0.54,
           0.455,
           0.485,
           0.54,
           0.46,
           0.525,
           0.455,
           0.46,
           0.535,
           0.475,
           0.515
          ],
          [
           0.485,
           0.515,
           0.45,
           0.505,
           0.455,
           0.485,
           0.455,
           0.435,
           0.445,
           0.515,
           0.46,
           0.44,
           0.455,
           0.535,
           0.5,
           0.5,
           0.45,
           0.505,
           0.495,
           0.46,
           0.54,
           0.525,
           0.49,
           0.47,
           0.545
          ],
          [
           0.455,
           0.495,
           0.495,
           0.53,
           0.455,
           0.45,
           0.46,
           0.46,
           0.485,
           0.56,
           0.435,
           0.475,
           0.455,
           0.445,
           0.44,
           0.565,
           0.455,
           0.46,
           0.47,
           0.43,
           0.48,
           0.465,
           0.5,
           0.455,
           0.495
          ],
          [
           0.465,
           0.455,
           0.55,
           0.485,
           0.54,
           0.545,
           0.455,
           0.455,
           0.52,
           0.455,
           0.49,
           0.455,
           0.475,
           0.5,
           0.495,
           0.57,
           0.475,
           0.45,
           0.485,
           0.45,
           0.535,
           0.455,
           0.555,
           0.475,
           0.485
          ],
          [
           0.465,
           0.465,
           0.455,
           0.475,
           0.43,
           0.535,
           0.45,
           0.54,
           0.455,
           0.465,
           0.545,
           0.465,
           0.46,
           0.49,
           0.53,
           0.545,
           0.54,
           0.425,
           0.515,
           0.46,
           0.455,
           0.46,
           0.465,
           0.445,
           0.535
          ],
          [
           0.57,
           0.47,
           0.45,
           0.475,
           0.505,
           0.44,
           0.515,
           0.485,
           0.485,
           0.46,
           0.54,
           0.445,
           0.505,
           0.46,
           0.535,
           0.555,
           0.46,
           0.5,
           0.485,
           0.455,
           0.525,
           0.53,
           0.43,
           0.455,
           0.45
          ],
          [
           0.43,
           0.485,
           0.46,
           0.445,
           0.5,
           0.455,
           0.53,
           0.53,
           0.475,
           0.505,
           0.515,
           0.455,
           0.47,
           0.525,
           0.46,
           0.515,
           0.455,
           0.475,
           0.455,
           0.525,
           0.485,
           0.54,
           0.455,
           0.53,
           0.46
          ],
          [
           0.445,
           0.5,
           0.46,
           0.55,
           0.445,
           0.41,
           0.54,
           0.52,
           0.545,
           0.53,
           0.505,
           0.475,
           0.525,
           0.435,
           0.425,
           0.495,
           0.46,
           0.445,
           0.53,
           0.46,
           0.495,
           0.46,
           0.5,
           0.53,
           0.51
          ],
          [
           0.48,
           0.54,
           0.48,
           0.515,
           0.525,
           0.44,
           0.55,
           0.445,
           0.435,
           0.475,
           0.45,
           0.51,
           0.455,
           0.46,
           0.45,
           0.45,
           0.5,
           0.455,
           0.455,
           0.485,
           0.55,
           0.45,
           0.42,
           0.495,
           0.46
          ],
          [
           0.48,
           0.565,
           0.555,
           0.46,
           0.495,
           0.475,
           0.45,
           0.54,
           0.455,
           0.54,
           0.455,
           0.475,
           0.46,
           0.54,
           0.57,
           0.465,
           0.505,
           0.5,
           0.525,
           0.535,
           0.485,
           0.535,
           0.545,
           0.44,
           0.47
          ],
          [
           0.475,
           0.455,
           0.465,
           0.495,
           0.51,
           0.465,
           0.48,
           0.45,
           0.455,
           0.47,
           0.455,
           0.5,
           0.485,
           0.525,
           0.535,
           0.55,
           0.455,
           0.45,
           0.465,
           0.475,
           0.5,
           0.465,
           0.505,
           0.48,
           0.46
          ],
          [
           0.45,
           0.525,
           0.485,
           0.44,
           0.475,
           0.445,
           0.5,
           0.505,
           0.43,
           0.47,
           0.515,
           0.46,
           0.425,
           0.47,
           0.545,
           0.49,
           0.46,
           0.435,
           0.465,
           0.46,
           0.46,
           0.5,
           0.465,
           0.54,
           0.545
          ],
          [
           0.52,
           0.445,
           0.53,
           0.46,
           0.455,
           0.495,
           0.545,
           0.455,
           0.445,
           0.53,
           0.455,
           0.57,
           0.51,
           0.47,
           0.49,
           0.485,
           0.485,
           0.485,
           0.47,
           0.53,
           0.51,
           0.545,
           0.52,
           0.48,
           0.435
          ],
          [
           0.435,
           0.46,
           0.455,
           0.5,
           0.47,
           0.455,
           0.45,
           0.435,
           0.455,
           0.445,
           0.46,
           0.445,
           0.46,
           0.495,
           0.465,
           0.46,
           0.455,
           0.49,
           0.475,
           0.465,
           0.46,
           0.5,
           0.43,
           0.46,
           0.465
          ],
          [
           0.46,
           0.515,
           0.485,
           0.485,
           0.455,
           0.505,
           0.465,
           0.47,
           0.555,
           0.505,
           0.535,
           0.52,
           0.445,
           0.455,
           0.47,
           0.48,
           0.51,
           0.49,
           0.47,
           0.5,
           0.545,
           0.47,
           0.475,
           0.435,
           0.505
          ],
          [
           0.535,
           0.485,
           0.44,
           0.44,
           0.49,
           0.505,
           0.56,
           0.495,
           0.45,
           0.43,
           0.515,
           0.495,
           0.455,
           0.46,
           0.46,
           0.535,
           0.43,
           0.49,
           0.54,
           0.515,
           0.45,
           0.455,
           0.505,
           0.505,
           0.505
          ]
         ]
        }
       ],
       "layout": {
        "coloraxis": {
         "cmid": 0.5,
         "colorscale": [
          [
           0,
           "rgb(255,255,217)"
          ],
          [
           0.125,
           "rgb(237,248,177)"
          ],
          [
           0.25,
           "rgb(199,233,180)"
          ],
          [
           0.375,
           "rgb(127,205,187)"
          ],
          [
           0.5,
           "rgb(65,182,196)"
          ],
          [
           0.625,
           "rgb(29,145,192)"
          ],
          [
           0.75,
           "rgb(34,94,168)"
          ],
          [
           0.875,
           "rgb(37,52,148)"
          ],
          [
           1,
           "rgb(8,29,88)"
          ]
         ]
        },
        "template": {
         "data": {
          "bar": [
           {
            "error_x": {
             "color": "#2a3f5f"
            },
            "error_y": {
             "color": "#2a3f5f"
            },
            "marker": {
             "line": {
              "color": "#E5ECF6",
              "width": 0.5
             },
             "pattern": {
              "fillmode": "overlay",
              "size": 10,
              "solidity": 0.2
             }
            },
            "type": "bar"
           }
          ],
          "barpolar": [
           {
            "marker": {
             "line": {
              "color": "#E5ECF6",
              "width": 0.5
             },
             "pattern": {
              "fillmode": "overlay",
              "size": 10,
              "solidity": 0.2
             }
            },
            "type": "barpolar"
           }
          ],
          "carpet": [
           {
            "aaxis": {
             "endlinecolor": "#2a3f5f",
             "gridcolor": "white",
             "linecolor": "white",
             "minorgridcolor": "white",
             "startlinecolor": "#2a3f5f"
            },
            "baxis": {
             "endlinecolor": "#2a3f5f",
             "gridcolor": "white",
             "linecolor": "white",
             "minorgridcolor": "white",
             "startlinecolor": "#2a3f5f"
            },
            "type": "carpet"
           }
          ],
          "choropleth": [
           {
            "colorbar": {
             "outlinewidth": 0,
             "ticks": ""
            },
            "type": "choropleth"
           }
          ],
          "contour": [
           {
            "colorbar": {
             "outlinewidth": 0,
             "ticks": ""
            },
            "colorscale": [
             [
              0,
              "#0d0887"
             ],
             [
              0.1111111111111111,
              "#46039f"
             ],
             [
              0.2222222222222222,
              "#7201a8"
             ],
             [
              0.3333333333333333,
              "#9c179e"
             ],
             [
              0.4444444444444444,
              "#bd3786"
             ],
             [
              0.5555555555555556,
              "#d8576b"
             ],
             [
              0.6666666666666666,
              "#ed7953"
             ],
             [
              0.7777777777777778,
              "#fb9f3a"
             ],
             [
              0.8888888888888888,
              "#fdca26"
             ],
             [
              1,
              "#f0f921"
             ]
            ],
            "type": "contour"
           }
          ],
          "contourcarpet": [
           {
            "colorbar": {
             "outlinewidth": 0,
             "ticks": ""
            },
            "type": "contourcarpet"
           }
          ],
          "heatmap": [
           {
            "colorbar": {
             "outlinewidth": 0,
             "ticks": ""
            },
            "colorscale": [
             [
              0,
              "#0d0887"
             ],
             [
              0.1111111111111111,
              "#46039f"
             ],
             [
              0.2222222222222222,
              "#7201a8"
             ],
             [
              0.3333333333333333,
              "#9c179e"
             ],
             [
              0.4444444444444444,
              "#bd3786"
             ],
             [
              0.5555555555555556,
              "#d8576b"
             ],
             [
              0.6666666666666666,
              "#ed7953"
             ],
             [
              0.7777777777777778,
              "#fb9f3a"
             ],
             [
              0.8888888888888888,
              "#fdca26"
             ],
             [
              1,
              "#f0f921"
             ]
            ],
            "type": "heatmap"
           }
          ],
          "heatmapgl": [
           {
            "colorbar": {
             "outlinewidth": 0,
             "ticks": ""
            },
            "colorscale": [
             [
              0,
              "#0d0887"
             ],
             [
              0.1111111111111111,
              "#46039f"
             ],
             [
              0.2222222222222222,
              "#7201a8"
             ],
             [
              0.3333333333333333,
              "#9c179e"
             ],
             [
              0.4444444444444444,
              "#bd3786"
             ],
             [
              0.5555555555555556,
              "#d8576b"
             ],
             [
              0.6666666666666666,
              "#ed7953"
             ],
             [
              0.7777777777777778,
              "#fb9f3a"
             ],
             [
              0.8888888888888888,
              "#fdca26"
             ],
             [
              1,
              "#f0f921"
             ]
            ],
            "type": "heatmapgl"
           }
          ],
          "histogram": [
           {
            "marker": {
             "pattern": {
              "fillmode": "overlay",
              "size": 10,
              "solidity": 0.2
             }
            },
            "type": "histogram"
           }
          ],
          "histogram2d": [
           {
            "colorbar": {
             "outlinewidth": 0,
             "ticks": ""
            },
            "colorscale": [
             [
              0,
              "#0d0887"
             ],
             [
              0.1111111111111111,
              "#46039f"
             ],
             [
              0.2222222222222222,
              "#7201a8"
             ],
             [
              0.3333333333333333,
              "#9c179e"
             ],
             [
              0.4444444444444444,
              "#bd3786"
             ],
             [
              0.5555555555555556,
              "#d8576b"
             ],
             [
              0.6666666666666666,
              "#ed7953"
             ],
             [
              0.7777777777777778,
              "#fb9f3a"
             ],
             [
              0.8888888888888888,
              "#fdca26"
             ],
             [
              1,
              "#f0f921"
             ]
            ],
            "type": "histogram2d"
           }
          ],
          "histogram2dcontour": [
           {
            "colorbar": {
             "outlinewidth": 0,
             "ticks": ""
            },
            "colorscale": [
             [
              0,
              "#0d0887"
             ],
             [
              0.1111111111111111,
              "#46039f"
             ],
             [
              0.2222222222222222,
              "#7201a8"
             ],
             [
              0.3333333333333333,
              "#9c179e"
             ],
             [
              0.4444444444444444,
              "#bd3786"
             ],
             [
              0.5555555555555556,
              "#d8576b"
             ],
             [
              0.6666666666666666,
              "#ed7953"
             ],
             [
              0.7777777777777778,
              "#fb9f3a"
             ],
             [
              0.8888888888888888,
              "#fdca26"
             ],
             [
              1,
              "#f0f921"
             ]
            ],
            "type": "histogram2dcontour"
           }
          ],
          "mesh3d": [
           {
            "colorbar": {
             "outlinewidth": 0,
             "ticks": ""
            },
            "type": "mesh3d"
           }
          ],
          "parcoords": [
           {
            "line": {
             "colorbar": {
              "outlinewidth": 0,
              "ticks": ""
             }
            },
            "type": "parcoords"
           }
          ],
          "pie": [
           {
            "automargin": true,
            "type": "pie"
           }
          ],
          "scatter": [
           {
            "fillpattern": {
             "fillmode": "overlay",
             "size": 10,
             "solidity": 0.2
            },
            "type": "scatter"
           }
          ],
          "scatter3d": [
           {
            "line": {
             "colorbar": {
              "outlinewidth": 0,
              "ticks": ""
             }
            },
            "marker": {
             "colorbar": {
              "outlinewidth": 0,
              "ticks": ""
             }
            },
            "type": "scatter3d"
           }
          ],
          "scattercarpet": [
           {
            "marker": {
             "colorbar": {
              "outlinewidth": 0,
              "ticks": ""
             }
            },
            "type": "scattercarpet"
           }
          ],
          "scattergeo": [
           {
            "marker": {
             "colorbar": {
              "outlinewidth": 0,
              "ticks": ""
             }
            },
            "type": "scattergeo"
           }
          ],
          "scattergl": [
           {
            "marker": {
             "colorbar": {
              "outlinewidth": 0,
              "ticks": ""
             }
            },
            "type": "scattergl"
           }
          ],
          "scattermapbox": [
           {
            "marker": {
             "colorbar": {
              "outlinewidth": 0,
              "ticks": ""
             }
            },
            "type": "scattermapbox"
           }
          ],
          "scatterpolar": [
           {
            "marker": {
             "colorbar": {
              "outlinewidth": 0,
              "ticks": ""
             }
            },
            "type": "scatterpolar"
           }
          ],
          "scatterpolargl": [
           {
            "marker": {
             "colorbar": {
              "outlinewidth": 0,
              "ticks": ""
             }
            },
            "type": "scatterpolargl"
           }
          ],
          "scatterternary": [
           {
            "marker": {
             "colorbar": {
              "outlinewidth": 0,
              "ticks": ""
             }
            },
            "type": "scatterternary"
           }
          ],
          "surface": [
           {
            "colorbar": {
             "outlinewidth": 0,
             "ticks": ""
            },
            "colorscale": [
             [
              0,
              "#0d0887"
             ],
             [
              0.1111111111111111,
              "#46039f"
             ],
             [
              0.2222222222222222,
              "#7201a8"
             ],
             [
              0.3333333333333333,
              "#9c179e"
             ],
             [
              0.4444444444444444,
              "#bd3786"
             ],
             [
              0.5555555555555556,
              "#d8576b"
             ],
             [
              0.6666666666666666,
              "#ed7953"
             ],
             [
              0.7777777777777778,
              "#fb9f3a"
             ],
             [
              0.8888888888888888,
              "#fdca26"
             ],
             [
              1,
              "#f0f921"
             ]
            ],
            "type": "surface"
           }
          ],
          "table": [
           {
            "cells": {
             "fill": {
              "color": "#EBF0F8"
             },
             "line": {
              "color": "white"
             }
            },
            "header": {
             "fill": {
              "color": "#C8D4E3"
             },
             "line": {
              "color": "white"
             }
            },
            "type": "table"
           }
          ]
         },
         "layout": {
          "annotationdefaults": {
           "arrowcolor": "#2a3f5f",
           "arrowhead": 0,
           "arrowwidth": 1
          },
          "autotypenumbers": "strict",
          "coloraxis": {
           "colorbar": {
            "outlinewidth": 0,
            "ticks": ""
           }
          },
          "colorscale": {
           "diverging": [
            [
             0,
             "#8e0152"
            ],
            [
             0.1,
             "#c51b7d"
            ],
            [
             0.2,
             "#de77ae"
            ],
            [
             0.3,
             "#f1b6da"
            ],
            [
             0.4,
             "#fde0ef"
            ],
            [
             0.5,
             "#f7f7f7"
            ],
            [
             0.6,
             "#e6f5d0"
            ],
            [
             0.7,
             "#b8e186"
            ],
            [
             0.8,
             "#7fbc41"
            ],
            [
             0.9,
             "#4d9221"
            ],
            [
             1,
             "#276419"
            ]
           ],
           "sequential": [
            [
             0,
             "#0d0887"
            ],
            [
             0.1111111111111111,
             "#46039f"
            ],
            [
             0.2222222222222222,
             "#7201a8"
            ],
            [
             0.3333333333333333,
             "#9c179e"
            ],
            [
             0.4444444444444444,
             "#bd3786"
            ],
            [
             0.5555555555555556,
             "#d8576b"
            ],
            [
             0.6666666666666666,
             "#ed7953"
            ],
            [
             0.7777777777777778,
             "#fb9f3a"
            ],
            [
             0.8888888888888888,
             "#fdca26"
            ],
            [
             1,
             "#f0f921"
            ]
           ],
           "sequentialminus": [
            [
             0,
             "#0d0887"
            ],
            [
             0.1111111111111111,
             "#46039f"
            ],
            [
             0.2222222222222222,
             "#7201a8"
            ],
            [
             0.3333333333333333,
             "#9c179e"
            ],
            [
             0.4444444444444444,
             "#bd3786"
            ],
            [
             0.5555555555555556,
             "#d8576b"
            ],
            [
             0.6666666666666666,
             "#ed7953"
            ],
            [
             0.7777777777777778,
             "#fb9f3a"
            ],
            [
             0.8888888888888888,
             "#fdca26"
            ],
            [
             1,
             "#f0f921"
            ]
           ]
          },
          "colorway": [
           "#636efa",
           "#EF553B",
           "#00cc96",
           "#ab63fa",
           "#FFA15A",
           "#19d3f3",
           "#FF6692",
           "#B6E880",
           "#FF97FF",
           "#FECB52"
          ],
          "font": {
           "color": "#2a3f5f"
          },
          "geo": {
           "bgcolor": "white",
           "lakecolor": "white",
           "landcolor": "#E5ECF6",
           "showlakes": true,
           "showland": true,
           "subunitcolor": "white"
          },
          "hoverlabel": {
           "align": "left"
          },
          "hovermode": "closest",
          "mapbox": {
           "style": "light"
          },
          "paper_bgcolor": "white",
          "plot_bgcolor": "#E5ECF6",
          "polar": {
           "angularaxis": {
            "gridcolor": "white",
            "linecolor": "white",
            "ticks": ""
           },
           "bgcolor": "#E5ECF6",
           "radialaxis": {
            "gridcolor": "white",
            "linecolor": "white",
            "ticks": ""
           }
          },
          "scene": {
           "xaxis": {
            "backgroundcolor": "#E5ECF6",
            "gridcolor": "white",
            "gridwidth": 2,
            "linecolor": "white",
            "showbackground": true,
            "ticks": "",
            "zerolinecolor": "white"
           },
           "yaxis": {
            "backgroundcolor": "#E5ECF6",
            "gridcolor": "white",
            "gridwidth": 2,
            "linecolor": "white",
            "showbackground": true,
            "ticks": "",
            "zerolinecolor": "white"
           },
           "zaxis": {
            "backgroundcolor": "#E5ECF6",
            "gridcolor": "white",
            "gridwidth": 2,
            "linecolor": "white",
            "showbackground": true,
            "ticks": "",
            "zerolinecolor": "white"
           }
          },
          "shapedefaults": {
           "line": {
            "color": "#2a3f5f"
           }
          },
          "ternary": {
           "aaxis": {
            "gridcolor": "white",
            "linecolor": "white",
            "ticks": ""
           },
           "baxis": {
            "gridcolor": "white",
            "linecolor": "white",
            "ticks": ""
           },
           "bgcolor": "#E5ECF6",
           "caxis": {
            "gridcolor": "white",
            "linecolor": "white",
            "ticks": ""
           }
          },
          "title": {
           "x": 0.05
          },
          "xaxis": {
           "automargin": true,
           "gridcolor": "white",
           "linecolor": "white",
           "ticks": "",
           "title": {
            "standoff": 15
           },
           "zerolinecolor": "white",
           "zerolinewidth": 2
          },
          "yaxis": {
           "automargin": true,
           "gridcolor": "white",
           "linecolor": "white",
           "ticks": "",
           "title": {
            "standoff": 15
           },
           "zerolinecolor": "white",
           "zerolinewidth": 2
          }
         }
        },
        "title": {
         "text": "tqa probes on cfact data"
        },
        "xaxis": {
         "anchor": "y",
         "constrain": "domain",
         "domain": [
          0,
          1
         ],
         "scaleanchor": "y",
         "title": {
          "text": "Heads (sorted)"
         }
        },
        "yaxis": {
         "anchor": "x",
         "autorange": true,
         "constrain": "domain",
         "domain": [
          0,
          1
         ],
         "title": {
          "text": "Layers"
         }
        }
       }
      },
      "text/html": [
       "<div>                            <div id=\"451e041f-61b7-45f7-8a0a-0dce06fbf804\" class=\"plotly-graph-div\" style=\"height:525px; width:100%;\"></div>            <script type=\"text/javascript\">                require([\"plotly\"], function(Plotly) {                    window.PLOTLYENV=window.PLOTLYENV || {};                                    if (document.getElementById(\"451e041f-61b7-45f7-8a0a-0dce06fbf804\")) {                    Plotly.newPlot(                        \"451e041f-61b7-45f7-8a0a-0dce06fbf804\",                        [{\"coloraxis\":\"coloraxis\",\"name\":\"0\",\"z\":[[0.455,0.455,0.455,0.455,0.455,0.455,0.455,0.455,0.455,0.45,0.45,0.455,0.455,0.46,0.455,0.455,0.455,0.455,0.455,0.455,0.455,0.455,0.455,0.455,0.455],[0.455,0.52,0.465,0.515,0.47,0.46,0.47,0.455,0.53,0.525,0.465,0.57,0.48,0.46,0.455,0.475,0.45,0.5,0.42,0.51,0.46,0.465,0.42,0.505,0.47],[0.435,0.455,0.455,0.475,0.49,0.46,0.455,0.45,0.495,0.505,0.465,0.47,0.49,0.54,0.54,0.445,0.48,0.54,0.49,0.515,0.49,0.48,0.495,0.465,0.46],[0.465,0.465,0.44,0.48,0.41,0.48,0.44,0.485,0.44,0.45,0.495,0.545,0.455,0.44,0.515,0.46,0.5,0.46,0.5,0.455,0.475,0.485,0.455,0.53,0.46],[0.455,0.485,0.45,0.455,0.47,0.47,0.455,0.46,0.465,0.46,0.475,0.455,0.525,0.485,0.485,0.455,0.505,0.465,0.565,0.545,0.48,0.47,0.445,0.515,0.465],[0.5,0.5,0.515,0.5,0.495,0.465,0.49,0.445,0.455,0.475,0.46,0.455,0.54,0.445,0.445,0.51,0.53,0.465,0.46,0.445,0.48,0.455,0.485,0.525,0.51],[0.475,0.5,0.53,0.445,0.49,0.5,0.505,0.55,0.44,0.475,0.505,0.48,0.425,0.555,0.48,0.455,0.505,0.46,0.5,0.45,0.44,0.49,0.5,0.495,0.455],[0.495,0.47,0.545,0.495,0.51,0.5,0.515,0.47,0.475,0.445,0.465,0.535,0.48,0.49,0.585,0.48,0.495,0.5,0.47,0.495,0.475,0.49,0.46,0.45,0.445],[0.515,0.485,0.45,0.475,0.495,0.45,0.44,0.555,0.505,0.47,0.535,0.495,0.495,0.51,0.49,0.445,0.485,0.47,0.5,0.455,0.47,0.495,0.47,0.53,0.485],[0.49,0.49,0.505,0.46,0.505,0.505,0.445,0.525,0.52,0.54,0.52,0.51,0.55,0.51,0.5,0.475,0.465,0.49,0.47,0.49,0.555,0.46,0.545,0.535,0.47],[0.47,0.47,0.54,0.525,0.46,0.455,0.47,0.495,0.52,0.49,0.455,0.43,0.46,0.47,0.45,0.515,0.52,0.48,0.53,0.48,0.46,0.54,0.535,0.465,0.535],[0.5,0.47,0.49,0.515,0.56,0.445,0.47,0.485,0.55,0.49,0.525,0.525,0.465,0.43,0.53,0.515,0.455,0.505,0.475,0.48,0.515,0.585,0.54,0.465,0.52],[0.475,0.54,0.455,0.51,0.475,0.565,0.48,0.535,0.45,0.47,0.52,0.515,0.495,0.49,0.455,0.5,0.52,0.475,0.49,0.45,0.53,0.55,0.485,0.56,0.56],[0.53,0.48,0.545,0.45,0.45,0.495,0.5,0.525,0.51,0.46,0.47,0.555,0.495,0.47,0.49,0.455,0.475,0.545,0.46,0.465,0.495,0.445,0.445,0.495,0.48],[0.455,0.475,0.535,0.47,0.53,0.475,0.5,0.52,0.525,0.465,0.51,0.45,0.51,0.445,0.445,0.495,0.505,0.42,0.43,0.495,0.51,0.475,0.51,0.5,0.455],[0.525,0.445,0.525,0.525,0.455,0.52,0.47,0.46,0.44,0.59,0.5,0.475,0.565,0.585,0.465,0.515,0.48,0.465,0.545,0.49,0.51,0.455,0.545,0.515,0.455],[0.49,0.515,0.465,0.51,0.55,0.51,0.51,0.515,0.55,0.525,0.46,0.5,0.52,0.555,0.475,0.54,0.515,0.5,0.575,0.545,0.505,0.45,0.505,0.555,0.525],[0.465,0.505,0.53,0.5,0.48,0.485,0.53,0.58,0.505,0.515,0.56,0.5,0.48,0.56,0.51,0.55,0.47,0.505,0.495,0.525,0.515,0.54,0.515,0.57,0.525],[0.5,0.555,0.56,0.465,0.5,0.525,0.545,0.53,0.495,0.5,0.515,0.48,0.48,0.56,0.51,0.47,0.5,0.535,0.545,0.57,0.535,0.56,0.48,0.465,0.505],[0.515,0.55,0.57,0.515,0.55,0.53,0.545,0.505,0.515,0.545,0.52,0.49,0.525,0.545,0.54,0.49,0.52,0.455,0.485,0.49,0.565,0.47,0.545,0.455,0.545],[0.5,0.545,0.52,0.45,0.54,0.47,0.545,0.48,0.46,0.525,0.465,0.54,0.54,0.435,0.5,0.53,0.45,0.51,0.52,0.495,0.465,0.535,0.535,0.55,0.475],[0.55,0.505,0.525,0.46,0.56,0.54,0.495,0.56,0.535,0.51,0.485,0.5,0.475,0.55,0.5,0.46,0.535,0.47,0.52,0.52,0.46,0.55,0.525,0.505,0.515],[0.465,0.54,0.515,0.55,0.51,0.45,0.49,0.545,0.45,0.5,0.53,0.44,0.52,0.54,0.54,0.56,0.575,0.545,0.515,0.51,0.515,0.55,0.51,0.495,0.52],[0.53,0.5,0.465,0.48,0.47,0.505,0.49,0.545,0.49,0.525,0.51,0.45,0.555,0.535,0.54,0.545,0.45,0.46,0.455,0.505,0.485,0.46,0.515,0.5,0.47],[0.45,0.49,0.47,0.45,0.52,0.52,0.445,0.46,0.44,0.505,0.5,0.485,0.41,0.465,0.47,0.45,0.465,0.45,0.475,0.455,0.48,0.465,0.495,0.475,0.47],[0.505,0.475,0.485,0.49,0.505,0.46,0.455,0.525,0.505,0.475,0.485,0.535,0.47,0.545,0.45,0.455,0.455,0.465,0.455,0.475,0.45,0.555,0.455,0.45,0.485],[0.475,0.49,0.51,0.46,0.475,0.475,0.445,0.535,0.55,0.51,0.54,0.495,0.59,0.46,0.495,0.455,0.52,0.47,0.535,0.53,0.465,0.46,0.46,0.455,0.44],[0.505,0.445,0.54,0.48,0.465,0.47,0.525,0.495,0.49,0.485,0.525,0.525,0.485,0.47,0.48,0.475,0.455,0.45,0.465,0.45,0.46,0.49,0.495,0.505,0.46],[0.455,0.45,0.465,0.495,0.485,0.495,0.45,0.485,0.48,0.475,0.475,0.465,0.46,0.455,0.58,0.455,0.465,0.535,0.535,0.46,0.485,0.49,0.455,0.54,0.47],[0.45,0.465,0.555,0.5,0.465,0.49,0.445,0.5,0.51,0.495,0.54,0.55,0.445,0.505,0.47,0.545,0.46,0.505,0.475,0.445,0.45,0.47,0.55,0.48,0.455],[0.5,0.45,0.49,0.465,0.46,0.415,0.495,0.49,0.535,0.45,0.5,0.445,0.51,0.475,0.515,0.43,0.46,0.5,0.54,0.425,0.46,0.445,0.525,0.51,0.48],[0.585,0.53,0.45,0.475,0.465,0.545,0.505,0.56,0.53,0.455,0.45,0.515,0.455,0.54,0.465,0.53,0.505,0.545,0.455,0.475,0.475,0.51,0.535,0.48,0.535],[0.535,0.455,0.45,0.48,0.45,0.505,0.405,0.455,0.515,0.495,0.5,0.51,0.47,0.52,0.54,0.455,0.485,0.54,0.46,0.525,0.455,0.46,0.535,0.475,0.515],[0.485,0.515,0.45,0.505,0.455,0.485,0.455,0.435,0.445,0.515,0.46,0.44,0.455,0.535,0.5,0.5,0.45,0.505,0.495,0.46,0.54,0.525,0.49,0.47,0.545],[0.455,0.495,0.495,0.53,0.455,0.45,0.46,0.46,0.485,0.56,0.435,0.475,0.455,0.445,0.44,0.565,0.455,0.46,0.47,0.43,0.48,0.465,0.5,0.455,0.495],[0.465,0.455,0.55,0.485,0.54,0.545,0.455,0.455,0.52,0.455,0.49,0.455,0.475,0.5,0.495,0.57,0.475,0.45,0.485,0.45,0.535,0.455,0.555,0.475,0.485],[0.465,0.465,0.455,0.475,0.43,0.535,0.45,0.54,0.455,0.465,0.545,0.465,0.46,0.49,0.53,0.545,0.54,0.425,0.515,0.46,0.455,0.46,0.465,0.445,0.535],[0.57,0.47,0.45,0.475,0.505,0.44,0.515,0.485,0.485,0.46,0.54,0.445,0.505,0.46,0.535,0.555,0.46,0.5,0.485,0.455,0.525,0.53,0.43,0.455,0.45],[0.43,0.485,0.46,0.445,0.5,0.455,0.53,0.53,0.475,0.505,0.515,0.455,0.47,0.525,0.46,0.515,0.455,0.475,0.455,0.525,0.485,0.54,0.455,0.53,0.46],[0.445,0.5,0.46,0.55,0.445,0.41,0.54,0.52,0.545,0.53,0.505,0.475,0.525,0.435,0.425,0.495,0.46,0.445,0.53,0.46,0.495,0.46,0.5,0.53,0.51],[0.48,0.54,0.48,0.515,0.525,0.44,0.55,0.445,0.435,0.475,0.45,0.51,0.455,0.46,0.45,0.45,0.5,0.455,0.455,0.485,0.55,0.45,0.42,0.495,0.46],[0.48,0.565,0.555,0.46,0.495,0.475,0.45,0.54,0.455,0.54,0.455,0.475,0.46,0.54,0.57,0.465,0.505,0.5,0.525,0.535,0.485,0.535,0.545,0.44,0.47],[0.475,0.455,0.465,0.495,0.51,0.465,0.48,0.45,0.455,0.47,0.455,0.5,0.485,0.525,0.535,0.55,0.455,0.45,0.465,0.475,0.5,0.465,0.505,0.48,0.46],[0.45,0.525,0.485,0.44,0.475,0.445,0.5,0.505,0.43,0.47,0.515,0.46,0.425,0.47,0.545,0.49,0.46,0.435,0.465,0.46,0.46,0.5,0.465,0.54,0.545],[0.52,0.445,0.53,0.46,0.455,0.495,0.545,0.455,0.445,0.53,0.455,0.57,0.51,0.47,0.49,0.485,0.485,0.485,0.47,0.53,0.51,0.545,0.52,0.48,0.435],[0.435,0.46,0.455,0.5,0.47,0.455,0.45,0.435,0.455,0.445,0.46,0.445,0.46,0.495,0.465,0.46,0.455,0.49,0.475,0.465,0.46,0.5,0.43,0.46,0.465],[0.46,0.515,0.485,0.485,0.455,0.505,0.465,0.47,0.555,0.505,0.535,0.52,0.445,0.455,0.47,0.48,0.51,0.49,0.47,0.5,0.545,0.47,0.475,0.435,0.505],[0.535,0.485,0.44,0.44,0.49,0.505,0.56,0.495,0.45,0.43,0.515,0.495,0.455,0.46,0.46,0.535,0.43,0.49,0.54,0.515,0.45,0.455,0.505,0.505,0.505]],\"type\":\"heatmap\",\"xaxis\":\"x\",\"yaxis\":\"y\",\"hovertemplate\":\"Heads (sorted): %{x}\\u003cbr\\u003eLayers: %{y}\\u003cbr\\u003ecolor: %{z}\\u003cextra\\u003e\\u003c\\u002fextra\\u003e\"}],                        {\"template\":{\"data\":{\"histogram2dcontour\":[{\"type\":\"histogram2dcontour\",\"colorbar\":{\"outlinewidth\":0,\"ticks\":\"\"},\"colorscale\":[[0.0,\"#0d0887\"],[0.1111111111111111,\"#46039f\"],[0.2222222222222222,\"#7201a8\"],[0.3333333333333333,\"#9c179e\"],[0.4444444444444444,\"#bd3786\"],[0.5555555555555556,\"#d8576b\"],[0.6666666666666666,\"#ed7953\"],[0.7777777777777778,\"#fb9f3a\"],[0.8888888888888888,\"#fdca26\"],[1.0,\"#f0f921\"]]}],\"choropleth\":[{\"type\":\"choropleth\",\"colorbar\":{\"outlinewidth\":0,\"ticks\":\"\"}}],\"histogram2d\":[{\"type\":\"histogram2d\",\"colorbar\":{\"outlinewidth\":0,\"ticks\":\"\"},\"colorscale\":[[0.0,\"#0d0887\"],[0.1111111111111111,\"#46039f\"],[0.2222222222222222,\"#7201a8\"],[0.3333333333333333,\"#9c179e\"],[0.4444444444444444,\"#bd3786\"],[0.5555555555555556,\"#d8576b\"],[0.6666666666666666,\"#ed7953\"],[0.7777777777777778,\"#fb9f3a\"],[0.8888888888888888,\"#fdca26\"],[1.0,\"#f0f921\"]]}],\"heatmap\":[{\"type\":\"heatmap\",\"colorbar\":{\"outlinewidth\":0,\"ticks\":\"\"},\"colorscale\":[[0.0,\"#0d0887\"],[0.1111111111111111,\"#46039f\"],[0.2222222222222222,\"#7201a8\"],[0.3333333333333333,\"#9c179e\"],[0.4444444444444444,\"#bd3786\"],[0.5555555555555556,\"#d8576b\"],[0.6666666666666666,\"#ed7953\"],[0.7777777777777778,\"#fb9f3a\"],[0.8888888888888888,\"#fdca26\"],[1.0,\"#f0f921\"]]}],\"heatmapgl\":[{\"type\":\"heatmapgl\",\"colorbar\":{\"outlinewidth\":0,\"ticks\":\"\"},\"colorscale\":[[0.0,\"#0d0887\"],[0.1111111111111111,\"#46039f\"],[0.2222222222222222,\"#7201a8\"],[0.3333333333333333,\"#9c179e\"],[0.4444444444444444,\"#bd3786\"],[0.5555555555555556,\"#d8576b\"],[0.6666666666666666,\"#ed7953\"],[0.7777777777777778,\"#fb9f3a\"],[0.8888888888888888,\"#fdca26\"],[1.0,\"#f0f921\"]]}],\"contourcarpet\":[{\"type\":\"contourcarpet\",\"colorbar\":{\"outlinewidth\":0,\"ticks\":\"\"}}],\"contour\":[{\"type\":\"contour\",\"colorbar\":{\"outlinewidth\":0,\"ticks\":\"\"},\"colorscale\":[[0.0,\"#0d0887\"],[0.1111111111111111,\"#46039f\"],[0.2222222222222222,\"#7201a8\"],[0.3333333333333333,\"#9c179e\"],[0.4444444444444444,\"#bd3786\"],[0.5555555555555556,\"#d8576b\"],[0.6666666666666666,\"#ed7953\"],[0.7777777777777778,\"#fb9f3a\"],[0.8888888888888888,\"#fdca26\"],[1.0,\"#f0f921\"]]}],\"surface\":[{\"type\":\"surface\",\"colorbar\":{\"outlinewidth\":0,\"ticks\":\"\"},\"colorscale\":[[0.0,\"#0d0887\"],[0.1111111111111111,\"#46039f\"],[0.2222222222222222,\"#7201a8\"],[0.3333333333333333,\"#9c179e\"],[0.4444444444444444,\"#bd3786\"],[0.5555555555555556,\"#d8576b\"],[0.6666666666666666,\"#ed7953\"],[0.7777777777777778,\"#fb9f3a\"],[0.8888888888888888,\"#fdca26\"],[1.0,\"#f0f921\"]]}],\"mesh3d\":[{\"type\":\"mesh3d\",\"colorbar\":{\"outlinewidth\":0,\"ticks\":\"\"}}],\"scatter\":[{\"fillpattern\":{\"fillmode\":\"overlay\",\"size\":10,\"solidity\":0.2},\"type\":\"scatter\"}],\"parcoords\":[{\"type\":\"parcoords\",\"line\":{\"colorbar\":{\"outlinewidth\":0,\"ticks\":\"\"}}}],\"scatterpolargl\":[{\"type\":\"scatterpolargl\",\"marker\":{\"colorbar\":{\"outlinewidth\":0,\"ticks\":\"\"}}}],\"bar\":[{\"error_x\":{\"color\":\"#2a3f5f\"},\"error_y\":{\"color\":\"#2a3f5f\"},\"marker\":{\"line\":{\"color\":\"#E5ECF6\",\"width\":0.5},\"pattern\":{\"fillmode\":\"overlay\",\"size\":10,\"solidity\":0.2}},\"type\":\"bar\"}],\"scattergeo\":[{\"type\":\"scattergeo\",\"marker\":{\"colorbar\":{\"outlinewidth\":0,\"ticks\":\"\"}}}],\"scatterpolar\":[{\"type\":\"scatterpolar\",\"marker\":{\"colorbar\":{\"outlinewidth\":0,\"ticks\":\"\"}}}],\"histogram\":[{\"marker\":{\"pattern\":{\"fillmode\":\"overlay\",\"size\":10,\"solidity\":0.2}},\"type\":\"histogram\"}],\"scattergl\":[{\"type\":\"scattergl\",\"marker\":{\"colorbar\":{\"outlinewidth\":0,\"ticks\":\"\"}}}],\"scatter3d\":[{\"type\":\"scatter3d\",\"line\":{\"colorbar\":{\"outlinewidth\":0,\"ticks\":\"\"}},\"marker\":{\"colorbar\":{\"outlinewidth\":0,\"ticks\":\"\"}}}],\"scattermapbox\":[{\"type\":\"scattermapbox\",\"marker\":{\"colorbar\":{\"outlinewidth\":0,\"ticks\":\"\"}}}],\"scatterternary\":[{\"type\":\"scatterternary\",\"marker\":{\"colorbar\":{\"outlinewidth\":0,\"ticks\":\"\"}}}],\"scattercarpet\":[{\"type\":\"scattercarpet\",\"marker\":{\"colorbar\":{\"outlinewidth\":0,\"ticks\":\"\"}}}],\"carpet\":[{\"aaxis\":{\"endlinecolor\":\"#2a3f5f\",\"gridcolor\":\"white\",\"linecolor\":\"white\",\"minorgridcolor\":\"white\",\"startlinecolor\":\"#2a3f5f\"},\"baxis\":{\"endlinecolor\":\"#2a3f5f\",\"gridcolor\":\"white\",\"linecolor\":\"white\",\"minorgridcolor\":\"white\",\"startlinecolor\":\"#2a3f5f\"},\"type\":\"carpet\"}],\"table\":[{\"cells\":{\"fill\":{\"color\":\"#EBF0F8\"},\"line\":{\"color\":\"white\"}},\"header\":{\"fill\":{\"color\":\"#C8D4E3\"},\"line\":{\"color\":\"white\"}},\"type\":\"table\"}],\"barpolar\":[{\"marker\":{\"line\":{\"color\":\"#E5ECF6\",\"width\":0.5},\"pattern\":{\"fillmode\":\"overlay\",\"size\":10,\"solidity\":0.2}},\"type\":\"barpolar\"}],\"pie\":[{\"automargin\":true,\"type\":\"pie\"}]},\"layout\":{\"autotypenumbers\":\"strict\",\"colorway\":[\"#636efa\",\"#EF553B\",\"#00cc96\",\"#ab63fa\",\"#FFA15A\",\"#19d3f3\",\"#FF6692\",\"#B6E880\",\"#FF97FF\",\"#FECB52\"],\"font\":{\"color\":\"#2a3f5f\"},\"hovermode\":\"closest\",\"hoverlabel\":{\"align\":\"left\"},\"paper_bgcolor\":\"white\",\"plot_bgcolor\":\"#E5ECF6\",\"polar\":{\"bgcolor\":\"#E5ECF6\",\"angularaxis\":{\"gridcolor\":\"white\",\"linecolor\":\"white\",\"ticks\":\"\"},\"radialaxis\":{\"gridcolor\":\"white\",\"linecolor\":\"white\",\"ticks\":\"\"}},\"ternary\":{\"bgcolor\":\"#E5ECF6\",\"aaxis\":{\"gridcolor\":\"white\",\"linecolor\":\"white\",\"ticks\":\"\"},\"baxis\":{\"gridcolor\":\"white\",\"linecolor\":\"white\",\"ticks\":\"\"},\"caxis\":{\"gridcolor\":\"white\",\"linecolor\":\"white\",\"ticks\":\"\"}},\"coloraxis\":{\"colorbar\":{\"outlinewidth\":0,\"ticks\":\"\"}},\"colorscale\":{\"sequential\":[[0.0,\"#0d0887\"],[0.1111111111111111,\"#46039f\"],[0.2222222222222222,\"#7201a8\"],[0.3333333333333333,\"#9c179e\"],[0.4444444444444444,\"#bd3786\"],[0.5555555555555556,\"#d8576b\"],[0.6666666666666666,\"#ed7953\"],[0.7777777777777778,\"#fb9f3a\"],[0.8888888888888888,\"#fdca26\"],[1.0,\"#f0f921\"]],\"sequentialminus\":[[0.0,\"#0d0887\"],[0.1111111111111111,\"#46039f\"],[0.2222222222222222,\"#7201a8\"],[0.3333333333333333,\"#9c179e\"],[0.4444444444444444,\"#bd3786\"],[0.5555555555555556,\"#d8576b\"],[0.6666666666666666,\"#ed7953\"],[0.7777777777777778,\"#fb9f3a\"],[0.8888888888888888,\"#fdca26\"],[1.0,\"#f0f921\"]],\"diverging\":[[0,\"#8e0152\"],[0.1,\"#c51b7d\"],[0.2,\"#de77ae\"],[0.3,\"#f1b6da\"],[0.4,\"#fde0ef\"],[0.5,\"#f7f7f7\"],[0.6,\"#e6f5d0\"],[0.7,\"#b8e186\"],[0.8,\"#7fbc41\"],[0.9,\"#4d9221\"],[1,\"#276419\"]]},\"xaxis\":{\"gridcolor\":\"white\",\"linecolor\":\"white\",\"ticks\":\"\",\"title\":{\"standoff\":15},\"zerolinecolor\":\"white\",\"automargin\":true,\"zerolinewidth\":2},\"yaxis\":{\"gridcolor\":\"white\",\"linecolor\":\"white\",\"ticks\":\"\",\"title\":{\"standoff\":15},\"zerolinecolor\":\"white\",\"automargin\":true,\"zerolinewidth\":2},\"scene\":{\"xaxis\":{\"backgroundcolor\":\"#E5ECF6\",\"gridcolor\":\"white\",\"linecolor\":\"white\",\"showbackground\":true,\"ticks\":\"\",\"zerolinecolor\":\"white\",\"gridwidth\":2},\"yaxis\":{\"backgroundcolor\":\"#E5ECF6\",\"gridcolor\":\"white\",\"linecolor\":\"white\",\"showbackground\":true,\"ticks\":\"\",\"zerolinecolor\":\"white\",\"gridwidth\":2},\"zaxis\":{\"backgroundcolor\":\"#E5ECF6\",\"gridcolor\":\"white\",\"linecolor\":\"white\",\"showbackground\":true,\"ticks\":\"\",\"zerolinecolor\":\"white\",\"gridwidth\":2}},\"shapedefaults\":{\"line\":{\"color\":\"#2a3f5f\"}},\"annotationdefaults\":{\"arrowcolor\":\"#2a3f5f\",\"arrowhead\":0,\"arrowwidth\":1},\"geo\":{\"bgcolor\":\"white\",\"landcolor\":\"#E5ECF6\",\"subunitcolor\":\"white\",\"showland\":true,\"showlakes\":true,\"lakecolor\":\"white\"},\"title\":{\"x\":0.05},\"mapbox\":{\"style\":\"light\"}}},\"xaxis\":{\"anchor\":\"y\",\"domain\":[0.0,1.0],\"scaleanchor\":\"y\",\"constrain\":\"domain\",\"title\":{\"text\":\"Heads (sorted)\"}},\"yaxis\":{\"anchor\":\"x\",\"domain\":[0.0,1.0],\"autorange\":true,\"constrain\":\"domain\",\"title\":{\"text\":\"Layers\"}},\"coloraxis\":{\"colorscale\":[[0.0,\"rgb(255,255,217)\"],[0.125,\"rgb(237,248,177)\"],[0.25,\"rgb(199,233,180)\"],[0.375,\"rgb(127,205,187)\"],[0.5,\"rgb(65,182,196)\"],[0.625,\"rgb(29,145,192)\"],[0.75,\"rgb(34,94,168)\"],[0.875,\"rgb(37,52,148)\"],[1.0,\"rgb(8,29,88)\"]],\"cmid\":0.5},\"title\":{\"text\":\"tqa probes on cfact data\"}},                        {\"responsive\": true}                    ).then(function(){\n",
       "                            \n",
       "var gd = document.getElementById('451e041f-61b7-45f7-8a0a-0dce06fbf804');\n",
       "var x = new MutationObserver(function (mutations, observer) {{\n",
       "        var display = window.getComputedStyle(gd).display;\n",
       "        if (!display || display === 'none') {{\n",
       "            console.log([gd, 'removed!']);\n",
       "            Plotly.purge(gd);\n",
       "            observer.disconnect();\n",
       "        }}\n",
       "}});\n",
       "\n",
       "// Listen for the removal of the full notebook cells\n",
       "var notebookContainer = gd.closest('#notebook-container');\n",
       "if (notebookContainer) {{\n",
       "    x.observe(notebookContainer, {childList: true});\n",
       "}}\n",
       "\n",
       "// Listen for the clearing of the current output cell\n",
       "var outputEl = gd.closest('.output');\n",
       "if (outputEl) {{\n",
       "    x.observe(outputEl, {childList: true});\n",
       "}}\n",
       "\n",
       "                        })                };                });            </script>        </div>"
      ]
     },
     "metadata": {},
     "output_type": "display_data"
    },
    {
     "name": "stderr",
     "output_type": "stream",
     "text": [
      "1200it [00:00, 1420.32it/s]\n"
     ]
    },
    {
     "data": {
      "application/vnd.plotly.v1+json": {
       "config": {
        "plotlyServerURL": "https://plot.ly"
       },
       "data": [
        {
         "coloraxis": "coloraxis",
         "hovertemplate": "Heads (sorted): %{x}<br>Layers: %{y}<br>color: %{z}<extra></extra>",
         "name": "0",
         "type": "heatmap",
         "xaxis": "x",
         "yaxis": "y",
         "z": [
          [
           0.475,
           0.475,
           0.475,
           0.475,
           0.475,
           0.475,
           0.475,
           0.475,
           0.475,
           0.495,
           0.475,
           0.475,
           0.475,
           0.475,
           0.475,
           0.475,
           0.475,
           0.48,
           0.475,
           0.475,
           0.475,
           0.48,
           0.47,
           0.475,
           0.475
          ],
          [
           0.5,
           0.47,
           0.53,
           0.44,
           0.495,
           0.48,
           0.53,
           0.45,
           0.52,
           0.51,
           0.56,
           0.435,
           0.55,
           0.46,
           0.49,
           0.48,
           0.46,
           0.47,
           0.465,
           0.61,
           0.515,
           0.43,
           0.465,
           0.515,
           0.525
          ],
          [
           0.5,
           0.45,
           0.47,
           0.44,
           0.475,
           0.475,
           0.52,
           0.465,
           0.48,
           0.47,
           0.52,
           0.555,
           0.46,
           0.495,
           0.595,
           0.535,
           0.575,
           0.44,
           0.42,
           0.57,
           0.455,
           0.43,
           0.44,
           0.47,
           0.525
          ],
          [
           0.56,
           0.555,
           0.61,
           0.48,
           0.49,
           0.565,
           0.575,
           0.545,
           0.46,
           0.525,
           0.515,
           0.4,
           0.615,
           0.515,
           0.54,
           0.605,
           0.47,
           0.44,
           0.45,
           0.505,
           0.49,
           0.59,
           0.47,
           0.54,
           0.515
          ],
          [
           0.61,
           0.48,
           0.495,
           0.585,
           0.55,
           0.575,
           0.475,
           0.57,
           0.525,
           0.57,
           0.525,
           0.525,
           0.49,
           0.57,
           0.545,
           0.615,
           0.565,
           0.57,
           0.5,
           0.45,
           0.535,
           0.5,
           0.61,
           0.44,
           0.545
          ],
          [
           0.45,
           0.59,
           0.565,
           0.57,
           0.5,
           0.49,
           0.44,
           0.485,
           0.55,
           0.535,
           0.565,
           0.475,
           0.6,
           0.49,
           0.59,
           0.48,
           0.55,
           0.56,
           0.58,
           0.46,
           0.53,
           0.565,
           0.48,
           0.575,
           0.54
          ],
          [
           0.485,
           0.51,
           0.48,
           0.49,
           0.5,
           0.55,
           0.58,
           0.62,
           0.545,
           0.57,
           0.46,
           0.53,
           0.515,
           0.475,
           0.42,
           0.51,
           0.48,
           0.6,
           0.485,
           0.51,
           0.49,
           0.515,
           0.62,
           0.53,
           0.57
          ],
          [
           0.485,
           0.59,
           0.515,
           0.58,
           0.485,
           0.615,
           0.595,
           0.54,
           0.47,
           0.555,
           0.475,
           0.535,
           0.455,
           0.535,
           0.57,
           0.56,
           0.495,
           0.51,
           0.525,
           0.485,
           0.59,
           0.54,
           0.48,
           0.57,
           0.58
          ],
          [
           0.465,
           0.52,
           0.55,
           0.58,
           0.455,
           0.49,
           0.555,
           0.505,
           0.485,
           0.515,
           0.5,
           0.545,
           0.525,
           0.455,
           0.595,
           0.585,
           0.585,
           0.475,
           0.525,
           0.535,
           0.63,
           0.565,
           0.57,
           0.58,
           0.575
          ],
          [
           0.515,
           0.555,
           0.455,
           0.55,
           0.48,
           0.615,
           0.495,
           0.525,
           0.49,
           0.59,
           0.61,
           0.56,
           0.495,
           0.475,
           0.625,
           0.505,
           0.525,
           0.535,
           0.635,
           0.575,
           0.62,
           0.505,
           0.45,
           0.605,
           0.545
          ],
          [
           0.465,
           0.55,
           0.55,
           0.535,
           0.58,
           0.6,
           0.535,
           0.545,
           0.555,
           0.405,
           0.585,
           0.535,
           0.475,
           0.495,
           0.48,
           0.49,
           0.5,
           0.39,
           0.56,
           0.51,
           0.455,
           0.695,
           0.54,
           0.45,
           0.56
          ],
          [
           0.475,
           0.525,
           0.44,
           0.445,
           0.55,
           0.545,
           0.595,
           0.595,
           0.46,
           0.545,
           0.625,
           0.545,
           0.58,
           0.48,
           0.5,
           0.44,
           0.58,
           0.43,
           0.56,
           0.43,
           0.475,
           0.595,
           0.38,
           0.57,
           0.525
          ],
          [
           0.455,
           0.455,
           0.44,
           0.47,
           0.635,
           0.48,
           0.435,
           0.6,
           0.535,
           0.52,
           0.53,
           0.63,
           0.485,
           0.55,
           0.5,
           0.52,
           0.49,
           0.47,
           0.485,
           0.59,
           0.47,
           0.575,
           0.565,
           0.565,
           0.58
          ],
          [
           0.575,
           0.53,
           0.535,
           0.415,
           0.52,
           0.5,
           0.48,
           0.55,
           0.46,
           0.475,
           0.495,
           0.5,
           0.445,
           0.495,
           0.47,
           0.515,
           0.595,
           0.52,
           0.505,
           0.545,
           0.485,
           0.445,
           0.495,
           0.46,
           0.5
          ],
          [
           0.5,
           0.505,
           0.52,
           0.53,
           0.53,
           0.495,
           0.53,
           0.555,
           0.5,
           0.555,
           0.65,
           0.49,
           0.54,
           0.485,
           0.46,
           0.495,
           0.59,
           0.545,
           0.505,
           0.525,
           0.56,
           0.465,
           0.495,
           0.455,
           0.48
          ],
          [
           0.61,
           0.44,
           0.61,
           0.48,
           0.495,
           0.52,
           0.555,
           0.52,
           0.495,
           0.55,
           0.6,
           0.625,
           0.525,
           0.55,
           0.505,
           0.435,
           0.5,
           0.49,
           0.5,
           0.445,
           0.495,
           0.58,
           0.47,
           0.465,
           0.49
          ],
          [
           0.395,
           0.53,
           0.41,
           0.475,
           0.57,
           0.48,
           0.445,
           0.52,
           0.575,
           0.555,
           0.49,
           0.515,
           0.465,
           0.5,
           0.575,
           0.56,
           0.51,
           0.33,
           0.53,
           0.535,
           0.5,
           0.48,
           0.55,
           0.48,
           0.465
          ],
          [
           0.39,
           0.515,
           0.48,
           0.48,
           0.535,
           0.525,
           0.505,
           0.485,
           0.59,
           0.48,
           0.535,
           0.505,
           0.48,
           0.535,
           0.48,
           0.58,
           0.535,
           0.585,
           0.445,
           0.54,
           0.51,
           0.45,
           0.525,
           0.475,
           0.45
          ],
          [
           0.5,
           0.49,
           0.47,
           0.465,
           0.69,
           0.51,
           0.53,
           0.455,
           0.485,
           0.4,
           0.49,
           0.485,
           0.57,
           0.4,
           0.685,
           0.39,
           0.515,
           0.5,
           0.52,
           0.54,
           0.44,
           0.54,
           0.43,
           0.415,
           0.605
          ],
          [
           0.44,
           0.48,
           0.465,
           0.555,
           0.495,
           0.52,
           0.55,
           0.555,
           0.51,
           0.47,
           0.445,
           0.49,
           0.565,
           0.52,
           0.525,
           0.505,
           0.435,
           0.545,
           0.5,
           0.47,
           0.635,
           0.495,
           0.5,
           0.465,
           0.5
          ],
          [
           0.59,
           0.6,
           0.47,
           0.41,
           0.52,
           0.5,
           0.54,
           0.535,
           0.625,
           0.475,
           0.47,
           0.51,
           0.62,
           0.5,
           0.625,
           0.51,
           0.475,
           0.5,
           0.38,
           0.51,
           0.425,
           0.6,
           0.59,
           0.575,
           0.525
          ],
          [
           0.525,
           0.415,
           0.715,
           0.45,
           0.48,
           0.585,
           0.53,
           0.58,
           0.565,
           0.47,
           0.47,
           0.565,
           0.455,
           0.47,
           0.49,
           0.44,
           0.495,
           0.505,
           0.515,
           0.53,
           0.495,
           0.5,
           0.505,
           0.505,
           0.505
          ],
          [
           0.435,
           0.55,
           0.485,
           0.495,
           0.59,
           0.68,
           0.46,
           0.49,
           0.495,
           0.49,
           0.485,
           0.505,
           0.555,
           0.605,
           0.555,
           0.54,
           0.5,
           0.505,
           0.51,
           0.475,
           0.5,
           0.48,
           0.465,
           0.495,
           0.5
          ],
          [
           0.52,
           0.53,
           0.51,
           0.405,
           0.655,
           0.525,
           0.495,
           0.57,
           0.475,
           0.51,
           0.485,
           0.475,
           0.56,
           0.49,
           0.515,
           0.57,
           0.47,
           0.61,
           0.555,
           0.555,
           0.595,
           0.52,
           0.49,
           0.545,
           0.495
          ],
          [
           0.505,
           0.525,
           0.565,
           0.49,
           0.51,
           0.485,
           0.475,
           0.47,
           0.52,
           0.465,
           0.455,
           0.54,
           0.47,
           0.53,
           0.56,
           0.53,
           0.52,
           0.405,
           0.56,
           0.49,
           0.365,
           0.515,
           0.54,
           0.59,
           0.505
          ],
          [
           0.61,
           0.51,
           0.53,
           0.525,
           0.485,
           0.46,
           0.425,
           0.48,
           0.51,
           0.525,
           0.56,
           0.48,
           0.545,
           0.485,
           0.53,
           0.49,
           0.505,
           0.515,
           0.47,
           0.47,
           0.47,
           0.515,
           0.515,
           0.5,
           0.5
          ],
          [
           0.425,
           0.505,
           0.62,
           0.49,
           0.595,
           0.53,
           0.47,
           0.515,
           0.49,
           0.605,
           0.465,
           0.47,
           0.53,
           0.45,
           0.5,
           0.445,
           0.43,
           0.49,
           0.455,
           0.505,
           0.53,
           0.49,
           0.485,
           0.485,
           0.485
          ],
          [
           0.465,
           0.54,
           0.445,
           0.485,
           0.475,
           0.48,
           0.51,
           0.48,
           0.575,
           0.43,
           0.505,
           0.455,
           0.485,
           0.48,
           0.505,
           0.57,
           0.445,
           0.565,
           0.525,
           0.5,
           0.475,
           0.625,
           0.48,
           0.55,
           0.505
          ],
          [
           0.515,
           0.47,
           0.58,
           0.485,
           0.425,
           0.51,
           0.465,
           0.44,
           0.48,
           0.49,
           0.535,
           0.475,
           0.525,
           0.555,
           0.565,
           0.485,
           0.5,
           0.54,
           0.52,
           0.425,
           0.55,
           0.46,
           0.485,
           0.55,
           0.415
          ],
          [
           0.475,
           0.48,
           0.505,
           0.51,
           0.515,
           0.55,
           0.42,
           0.52,
           0.505,
           0.49,
           0.44,
           0.59,
           0.445,
           0.49,
           0.46,
           0.495,
           0.465,
           0.525,
           0.45,
           0.545,
           0.535,
           0.49,
           0.555,
           0.525,
           0.51
          ],
          [
           0.475,
           0.57,
           0.5,
           0.55,
           0.49,
           0.49,
           0.49,
           0.58,
           0.46,
           0.495,
           0.555,
           0.55,
           0.465,
           0.56,
           0.46,
           0.49,
           0.6,
           0.515,
           0.505,
           0.525,
           0.565,
           0.555,
           0.535,
           0.47,
           0.515
          ],
          [
           0.51,
           0.51,
           0.515,
           0.5,
           0.55,
           0.485,
           0.465,
           0.475,
           0.455,
           0.49,
           0.525,
           0.5,
           0.495,
           0.54,
           0.545,
           0.545,
           0.515,
           0.54,
           0.52,
           0.525,
           0.49,
           0.505,
           0.47,
           0.515,
           0.5
          ],
          [
           0.405,
           0.49,
           0.48,
           0.525,
           0.475,
           0.52,
           0.52,
           0.495,
           0.535,
           0.58,
           0.505,
           0.575,
           0.53,
           0.505,
           0.53,
           0.52,
           0.44,
           0.49,
           0.5,
           0.485,
           0.48,
           0.495,
           0.5,
           0.535,
           0.465
          ],
          [
           0.46,
           0.5,
           0.54,
           0.48,
           0.5,
           0.515,
           0.48,
           0.525,
           0.45,
           0.505,
           0.515,
           0.49,
           0.61,
           0.605,
           0.52,
           0.505,
           0.485,
           0.46,
           0.525,
           0.56,
           0.56,
           0.505,
           0.545,
           0.46,
           0.52
          ],
          [
           0.525,
           0.56,
           0.545,
           0.57,
           0.455,
           0.47,
           0.485,
           0.47,
           0.515,
           0.51,
           0.5,
           0.465,
           0.465,
           0.475,
           0.515,
           0.58,
           0.56,
           0.495,
           0.56,
           0.52,
           0.475,
           0.475,
           0.53,
           0.49,
           0.56
          ],
          [
           0.53,
           0.465,
           0.475,
           0.44,
           0.53,
           0.475,
           0.475,
           0.54,
           0.44,
           0.495,
           0.525,
           0.465,
           0.5,
           0.555,
           0.49,
           0.45,
           0.445,
           0.475,
           0.51,
           0.505,
           0.49,
           0.475,
           0.475,
           0.52,
           0.48
          ],
          [
           0.485,
           0.48,
           0.555,
           0.46,
           0.47,
           0.525,
           0.485,
           0.505,
           0.53,
           0.485,
           0.48,
           0.5,
           0.51,
           0.5,
           0.545,
           0.48,
           0.48,
           0.525,
           0.505,
           0.54,
           0.465,
           0.48,
           0.51,
           0.485,
           0.53
          ],
          [
           0.58,
           0.475,
           0.415,
           0.57,
           0.595,
           0.45,
           0.58,
           0.48,
           0.515,
           0.45,
           0.545,
           0.44,
           0.525,
           0.47,
           0.46,
           0.48,
           0.505,
           0.5,
           0.565,
           0.515,
           0.455,
           0.49,
           0.48,
           0.505,
           0.49
          ],
          [
           0.48,
           0.5,
           0.445,
           0.525,
           0.52,
           0.455,
           0.47,
           0.54,
           0.525,
           0.53,
           0.615,
           0.505,
           0.565,
           0.52,
           0.48,
           0.47,
           0.455,
           0.535,
           0.495,
           0.495,
           0.46,
           0.525,
           0.55,
           0.475,
           0.51
          ],
          [
           0.485,
           0.51,
           0.545,
           0.51,
           0.545,
           0.505,
           0.52,
           0.47,
           0.475,
           0.505,
           0.56,
           0.525,
           0.515,
           0.54,
           0.485,
           0.495,
           0.54,
           0.475,
           0.49,
           0.56,
           0.52,
           0.475,
           0.575,
           0.53,
           0.52
          ],
          [
           0.5,
           0.49,
           0.485,
           0.535,
           0.575,
           0.53,
           0.55,
           0.545,
           0.5,
           0.505,
           0.485,
           0.5,
           0.45,
           0.515,
           0.505,
           0.445,
           0.49,
           0.485,
           0.46,
           0.47,
           0.53,
           0.575,
           0.465,
           0.525,
           0.46
          ],
          [
           0.505,
           0.45,
           0.49,
           0.55,
           0.585,
           0.495,
           0.45,
           0.525,
           0.52,
           0.525,
           0.515,
           0.495,
           0.465,
           0.51,
           0.56,
           0.5,
           0.495,
           0.535,
           0.52,
           0.56,
           0.47,
           0.57,
           0.505,
           0.5,
           0.475
          ],
          [
           0.52,
           0.475,
           0.49,
           0.495,
           0.57,
           0.555,
           0.505,
           0.475,
           0.47,
           0.495,
           0.555,
           0.47,
           0.515,
           0.53,
           0.51,
           0.5,
           0.48,
           0.51,
           0.505,
           0.59,
           0.495,
           0.53,
           0.54,
           0.5,
           0.5
          ],
          [
           0.535,
           0.5,
           0.525,
           0.52,
           0.475,
           0.495,
           0.51,
           0.51,
           0.5,
           0.44,
           0.485,
           0.5,
           0.49,
           0.53,
           0.5,
           0.465,
           0.505,
           0.495,
           0.475,
           0.505,
           0.495,
           0.49,
           0.47,
           0.48,
           0.48
          ],
          [
           0.48,
           0.47,
           0.5,
           0.55,
           0.48,
           0.505,
           0.465,
           0.495,
           0.47,
           0.55,
           0.485,
           0.495,
           0.5,
           0.525,
           0.52,
           0.48,
           0.48,
           0.48,
           0.52,
           0.56,
           0.5,
           0.49,
           0.525,
           0.625,
           0.485
          ],
          [
           0.515,
           0.455,
           0.485,
           0.47,
           0.505,
           0.52,
           0.47,
           0.485,
           0.485,
           0.535,
           0.48,
           0.535,
           0.54,
           0.5,
           0.525,
           0.485,
           0.47,
           0.44,
           0.535,
           0.52,
           0.49,
           0.51,
           0.545,
           0.47,
           0.495
          ],
          [
           0.55,
           0.51,
           0.46,
           0.54,
           0.5,
           0.505,
           0.535,
           0.52,
           0.52,
           0.475,
           0.535,
           0.56,
           0.455,
           0.455,
           0.46,
           0.46,
           0.48,
           0.47,
           0.465,
           0.55,
           0.535,
           0.48,
           0.49,
           0.5,
           0.43
          ],
          [
           0.56,
           0.52,
           0.445,
           0.53,
           0.5,
           0.5,
           0.59,
           0.505,
           0.54,
           0.515,
           0.55,
           0.57,
           0.53,
           0.51,
           0.49,
           0.58,
           0.45,
           0.51,
           0.495,
           0.43,
           0.49,
           0.54,
           0.545,
           0.51,
           0.5
          ]
         ]
        }
       ],
       "layout": {
        "coloraxis": {
         "cmid": 0.5,
         "colorscale": [
          [
           0,
           "rgb(255,255,217)"
          ],
          [
           0.125,
           "rgb(237,248,177)"
          ],
          [
           0.25,
           "rgb(199,233,180)"
          ],
          [
           0.375,
           "rgb(127,205,187)"
          ],
          [
           0.5,
           "rgb(65,182,196)"
          ],
          [
           0.625,
           "rgb(29,145,192)"
          ],
          [
           0.75,
           "rgb(34,94,168)"
          ],
          [
           0.875,
           "rgb(37,52,148)"
          ],
          [
           1,
           "rgb(8,29,88)"
          ]
         ]
        },
        "template": {
         "data": {
          "bar": [
           {
            "error_x": {
             "color": "#2a3f5f"
            },
            "error_y": {
             "color": "#2a3f5f"
            },
            "marker": {
             "line": {
              "color": "#E5ECF6",
              "width": 0.5
             },
             "pattern": {
              "fillmode": "overlay",
              "size": 10,
              "solidity": 0.2
             }
            },
            "type": "bar"
           }
          ],
          "barpolar": [
           {
            "marker": {
             "line": {
              "color": "#E5ECF6",
              "width": 0.5
             },
             "pattern": {
              "fillmode": "overlay",
              "size": 10,
              "solidity": 0.2
             }
            },
            "type": "barpolar"
           }
          ],
          "carpet": [
           {
            "aaxis": {
             "endlinecolor": "#2a3f5f",
             "gridcolor": "white",
             "linecolor": "white",
             "minorgridcolor": "white",
             "startlinecolor": "#2a3f5f"
            },
            "baxis": {
             "endlinecolor": "#2a3f5f",
             "gridcolor": "white",
             "linecolor": "white",
             "minorgridcolor": "white",
             "startlinecolor": "#2a3f5f"
            },
            "type": "carpet"
           }
          ],
          "choropleth": [
           {
            "colorbar": {
             "outlinewidth": 0,
             "ticks": ""
            },
            "type": "choropleth"
           }
          ],
          "contour": [
           {
            "colorbar": {
             "outlinewidth": 0,
             "ticks": ""
            },
            "colorscale": [
             [
              0,
              "#0d0887"
             ],
             [
              0.1111111111111111,
              "#46039f"
             ],
             [
              0.2222222222222222,
              "#7201a8"
             ],
             [
              0.3333333333333333,
              "#9c179e"
             ],
             [
              0.4444444444444444,
              "#bd3786"
             ],
             [
              0.5555555555555556,
              "#d8576b"
             ],
             [
              0.6666666666666666,
              "#ed7953"
             ],
             [
              0.7777777777777778,
              "#fb9f3a"
             ],
             [
              0.8888888888888888,
              "#fdca26"
             ],
             [
              1,
              "#f0f921"
             ]
            ],
            "type": "contour"
           }
          ],
          "contourcarpet": [
           {
            "colorbar": {
             "outlinewidth": 0,
             "ticks": ""
            },
            "type": "contourcarpet"
           }
          ],
          "heatmap": [
           {
            "colorbar": {
             "outlinewidth": 0,
             "ticks": ""
            },
            "colorscale": [
             [
              0,
              "#0d0887"
             ],
             [
              0.1111111111111111,
              "#46039f"
             ],
             [
              0.2222222222222222,
              "#7201a8"
             ],
             [
              0.3333333333333333,
              "#9c179e"
             ],
             [
              0.4444444444444444,
              "#bd3786"
             ],
             [
              0.5555555555555556,
              "#d8576b"
             ],
             [
              0.6666666666666666,
              "#ed7953"
             ],
             [
              0.7777777777777778,
              "#fb9f3a"
             ],
             [
              0.8888888888888888,
              "#fdca26"
             ],
             [
              1,
              "#f0f921"
             ]
            ],
            "type": "heatmap"
           }
          ],
          "heatmapgl": [
           {
            "colorbar": {
             "outlinewidth": 0,
             "ticks": ""
            },
            "colorscale": [
             [
              0,
              "#0d0887"
             ],
             [
              0.1111111111111111,
              "#46039f"
             ],
             [
              0.2222222222222222,
              "#7201a8"
             ],
             [
              0.3333333333333333,
              "#9c179e"
             ],
             [
              0.4444444444444444,
              "#bd3786"
             ],
             [
              0.5555555555555556,
              "#d8576b"
             ],
             [
              0.6666666666666666,
              "#ed7953"
             ],
             [
              0.7777777777777778,
              "#fb9f3a"
             ],
             [
              0.8888888888888888,
              "#fdca26"
             ],
             [
              1,
              "#f0f921"
             ]
            ],
            "type": "heatmapgl"
           }
          ],
          "histogram": [
           {
            "marker": {
             "pattern": {
              "fillmode": "overlay",
              "size": 10,
              "solidity": 0.2
             }
            },
            "type": "histogram"
           }
          ],
          "histogram2d": [
           {
            "colorbar": {
             "outlinewidth": 0,
             "ticks": ""
            },
            "colorscale": [
             [
              0,
              "#0d0887"
             ],
             [
              0.1111111111111111,
              "#46039f"
             ],
             [
              0.2222222222222222,
              "#7201a8"
             ],
             [
              0.3333333333333333,
              "#9c179e"
             ],
             [
              0.4444444444444444,
              "#bd3786"
             ],
             [
              0.5555555555555556,
              "#d8576b"
             ],
             [
              0.6666666666666666,
              "#ed7953"
             ],
             [
              0.7777777777777778,
              "#fb9f3a"
             ],
             [
              0.8888888888888888,
              "#fdca26"
             ],
             [
              1,
              "#f0f921"
             ]
            ],
            "type": "histogram2d"
           }
          ],
          "histogram2dcontour": [
           {
            "colorbar": {
             "outlinewidth": 0,
             "ticks": ""
            },
            "colorscale": [
             [
              0,
              "#0d0887"
             ],
             [
              0.1111111111111111,
              "#46039f"
             ],
             [
              0.2222222222222222,
              "#7201a8"
             ],
             [
              0.3333333333333333,
              "#9c179e"
             ],
             [
              0.4444444444444444,
              "#bd3786"
             ],
             [
              0.5555555555555556,
              "#d8576b"
             ],
             [
              0.6666666666666666,
              "#ed7953"
             ],
             [
              0.7777777777777778,
              "#fb9f3a"
             ],
             [
              0.8888888888888888,
              "#fdca26"
             ],
             [
              1,
              "#f0f921"
             ]
            ],
            "type": "histogram2dcontour"
           }
          ],
          "mesh3d": [
           {
            "colorbar": {
             "outlinewidth": 0,
             "ticks": ""
            },
            "type": "mesh3d"
           }
          ],
          "parcoords": [
           {
            "line": {
             "colorbar": {
              "outlinewidth": 0,
              "ticks": ""
             }
            },
            "type": "parcoords"
           }
          ],
          "pie": [
           {
            "automargin": true,
            "type": "pie"
           }
          ],
          "scatter": [
           {
            "fillpattern": {
             "fillmode": "overlay",
             "size": 10,
             "solidity": 0.2
            },
            "type": "scatter"
           }
          ],
          "scatter3d": [
           {
            "line": {
             "colorbar": {
              "outlinewidth": 0,
              "ticks": ""
             }
            },
            "marker": {
             "colorbar": {
              "outlinewidth": 0,
              "ticks": ""
             }
            },
            "type": "scatter3d"
           }
          ],
          "scattercarpet": [
           {
            "marker": {
             "colorbar": {
              "outlinewidth": 0,
              "ticks": ""
             }
            },
            "type": "scattercarpet"
           }
          ],
          "scattergeo": [
           {
            "marker": {
             "colorbar": {
              "outlinewidth": 0,
              "ticks": ""
             }
            },
            "type": "scattergeo"
           }
          ],
          "scattergl": [
           {
            "marker": {
             "colorbar": {
              "outlinewidth": 0,
              "ticks": ""
             }
            },
            "type": "scattergl"
           }
          ],
          "scattermapbox": [
           {
            "marker": {
             "colorbar": {
              "outlinewidth": 0,
              "ticks": ""
             }
            },
            "type": "scattermapbox"
           }
          ],
          "scatterpolar": [
           {
            "marker": {
             "colorbar": {
              "outlinewidth": 0,
              "ticks": ""
             }
            },
            "type": "scatterpolar"
           }
          ],
          "scatterpolargl": [
           {
            "marker": {
             "colorbar": {
              "outlinewidth": 0,
              "ticks": ""
             }
            },
            "type": "scatterpolargl"
           }
          ],
          "scatterternary": [
           {
            "marker": {
             "colorbar": {
              "outlinewidth": 0,
              "ticks": ""
             }
            },
            "type": "scatterternary"
           }
          ],
          "surface": [
           {
            "colorbar": {
             "outlinewidth": 0,
             "ticks": ""
            },
            "colorscale": [
             [
              0,
              "#0d0887"
             ],
             [
              0.1111111111111111,
              "#46039f"
             ],
             [
              0.2222222222222222,
              "#7201a8"
             ],
             [
              0.3333333333333333,
              "#9c179e"
             ],
             [
              0.4444444444444444,
              "#bd3786"
             ],
             [
              0.5555555555555556,
              "#d8576b"
             ],
             [
              0.6666666666666666,
              "#ed7953"
             ],
             [
              0.7777777777777778,
              "#fb9f3a"
             ],
             [
              0.8888888888888888,
              "#fdca26"
             ],
             [
              1,
              "#f0f921"
             ]
            ],
            "type": "surface"
           }
          ],
          "table": [
           {
            "cells": {
             "fill": {
              "color": "#EBF0F8"
             },
             "line": {
              "color": "white"
             }
            },
            "header": {
             "fill": {
              "color": "#C8D4E3"
             },
             "line": {
              "color": "white"
             }
            },
            "type": "table"
           }
          ]
         },
         "layout": {
          "annotationdefaults": {
           "arrowcolor": "#2a3f5f",
           "arrowhead": 0,
           "arrowwidth": 1
          },
          "autotypenumbers": "strict",
          "coloraxis": {
           "colorbar": {
            "outlinewidth": 0,
            "ticks": ""
           }
          },
          "colorscale": {
           "diverging": [
            [
             0,
             "#8e0152"
            ],
            [
             0.1,
             "#c51b7d"
            ],
            [
             0.2,
             "#de77ae"
            ],
            [
             0.3,
             "#f1b6da"
            ],
            [
             0.4,
             "#fde0ef"
            ],
            [
             0.5,
             "#f7f7f7"
            ],
            [
             0.6,
             "#e6f5d0"
            ],
            [
             0.7,
             "#b8e186"
            ],
            [
             0.8,
             "#7fbc41"
            ],
            [
             0.9,
             "#4d9221"
            ],
            [
             1,
             "#276419"
            ]
           ],
           "sequential": [
            [
             0,
             "#0d0887"
            ],
            [
             0.1111111111111111,
             "#46039f"
            ],
            [
             0.2222222222222222,
             "#7201a8"
            ],
            [
             0.3333333333333333,
             "#9c179e"
            ],
            [
             0.4444444444444444,
             "#bd3786"
            ],
            [
             0.5555555555555556,
             "#d8576b"
            ],
            [
             0.6666666666666666,
             "#ed7953"
            ],
            [
             0.7777777777777778,
             "#fb9f3a"
            ],
            [
             0.8888888888888888,
             "#fdca26"
            ],
            [
             1,
             "#f0f921"
            ]
           ],
           "sequentialminus": [
            [
             0,
             "#0d0887"
            ],
            [
             0.1111111111111111,
             "#46039f"
            ],
            [
             0.2222222222222222,
             "#7201a8"
            ],
            [
             0.3333333333333333,
             "#9c179e"
            ],
            [
             0.4444444444444444,
             "#bd3786"
            ],
            [
             0.5555555555555556,
             "#d8576b"
            ],
            [
             0.6666666666666666,
             "#ed7953"
            ],
            [
             0.7777777777777778,
             "#fb9f3a"
            ],
            [
             0.8888888888888888,
             "#fdca26"
            ],
            [
             1,
             "#f0f921"
            ]
           ]
          },
          "colorway": [
           "#636efa",
           "#EF553B",
           "#00cc96",
           "#ab63fa",
           "#FFA15A",
           "#19d3f3",
           "#FF6692",
           "#B6E880",
           "#FF97FF",
           "#FECB52"
          ],
          "font": {
           "color": "#2a3f5f"
          },
          "geo": {
           "bgcolor": "white",
           "lakecolor": "white",
           "landcolor": "#E5ECF6",
           "showlakes": true,
           "showland": true,
           "subunitcolor": "white"
          },
          "hoverlabel": {
           "align": "left"
          },
          "hovermode": "closest",
          "mapbox": {
           "style": "light"
          },
          "paper_bgcolor": "white",
          "plot_bgcolor": "#E5ECF6",
          "polar": {
           "angularaxis": {
            "gridcolor": "white",
            "linecolor": "white",
            "ticks": ""
           },
           "bgcolor": "#E5ECF6",
           "radialaxis": {
            "gridcolor": "white",
            "linecolor": "white",
            "ticks": ""
           }
          },
          "scene": {
           "xaxis": {
            "backgroundcolor": "#E5ECF6",
            "gridcolor": "white",
            "gridwidth": 2,
            "linecolor": "white",
            "showbackground": true,
            "ticks": "",
            "zerolinecolor": "white"
           },
           "yaxis": {
            "backgroundcolor": "#E5ECF6",
            "gridcolor": "white",
            "gridwidth": 2,
            "linecolor": "white",
            "showbackground": true,
            "ticks": "",
            "zerolinecolor": "white"
           },
           "zaxis": {
            "backgroundcolor": "#E5ECF6",
            "gridcolor": "white",
            "gridwidth": 2,
            "linecolor": "white",
            "showbackground": true,
            "ticks": "",
            "zerolinecolor": "white"
           }
          },
          "shapedefaults": {
           "line": {
            "color": "#2a3f5f"
           }
          },
          "ternary": {
           "aaxis": {
            "gridcolor": "white",
            "linecolor": "white",
            "ticks": ""
           },
           "baxis": {
            "gridcolor": "white",
            "linecolor": "white",
            "ticks": ""
           },
           "bgcolor": "#E5ECF6",
           "caxis": {
            "gridcolor": "white",
            "linecolor": "white",
            "ticks": ""
           }
          },
          "title": {
           "x": 0.05
          },
          "xaxis": {
           "automargin": true,
           "gridcolor": "white",
           "linecolor": "white",
           "ticks": "",
           "title": {
            "standoff": 15
           },
           "zerolinecolor": "white",
           "zerolinewidth": 2
          },
          "yaxis": {
           "automargin": true,
           "gridcolor": "white",
           "linecolor": "white",
           "ticks": "",
           "title": {
            "standoff": 15
           },
           "zerolinecolor": "white",
           "zerolinewidth": 2
          }
         }
        },
        "title": {
         "text": "tqa probes on ez data"
        },
        "xaxis": {
         "anchor": "y",
         "constrain": "domain",
         "domain": [
          0,
          1
         ],
         "scaleanchor": "y",
         "title": {
          "text": "Heads (sorted)"
         }
        },
        "yaxis": {
         "anchor": "x",
         "autorange": true,
         "constrain": "domain",
         "domain": [
          0,
          1
         ],
         "title": {
          "text": "Layers"
         }
        }
       }
      },
      "text/html": [
       "<div>                            <div id=\"41c4dbd0-d80b-45c7-98fc-fb58949fd1dc\" class=\"plotly-graph-div\" style=\"height:525px; width:100%;\"></div>            <script type=\"text/javascript\">                require([\"plotly\"], function(Plotly) {                    window.PLOTLYENV=window.PLOTLYENV || {};                                    if (document.getElementById(\"41c4dbd0-d80b-45c7-98fc-fb58949fd1dc\")) {                    Plotly.newPlot(                        \"41c4dbd0-d80b-45c7-98fc-fb58949fd1dc\",                        [{\"coloraxis\":\"coloraxis\",\"name\":\"0\",\"z\":[[0.475,0.475,0.475,0.475,0.475,0.475,0.475,0.475,0.475,0.495,0.475,0.475,0.475,0.475,0.475,0.475,0.475,0.48,0.475,0.475,0.475,0.48,0.47,0.475,0.475],[0.5,0.47,0.53,0.44,0.495,0.48,0.53,0.45,0.52,0.51,0.56,0.435,0.55,0.46,0.49,0.48,0.46,0.47,0.465,0.61,0.515,0.43,0.465,0.515,0.525],[0.5,0.45,0.47,0.44,0.475,0.475,0.52,0.465,0.48,0.47,0.52,0.555,0.46,0.495,0.595,0.535,0.575,0.44,0.42,0.57,0.455,0.43,0.44,0.47,0.525],[0.56,0.555,0.61,0.48,0.49,0.565,0.575,0.545,0.46,0.525,0.515,0.4,0.615,0.515,0.54,0.605,0.47,0.44,0.45,0.505,0.49,0.59,0.47,0.54,0.515],[0.61,0.48,0.495,0.585,0.55,0.575,0.475,0.57,0.525,0.57,0.525,0.525,0.49,0.57,0.545,0.615,0.565,0.57,0.5,0.45,0.535,0.5,0.61,0.44,0.545],[0.45,0.59,0.565,0.57,0.5,0.49,0.44,0.485,0.55,0.535,0.565,0.475,0.6,0.49,0.59,0.48,0.55,0.56,0.58,0.46,0.53,0.565,0.48,0.575,0.54],[0.485,0.51,0.48,0.49,0.5,0.55,0.58,0.62,0.545,0.57,0.46,0.53,0.515,0.475,0.42,0.51,0.48,0.6,0.485,0.51,0.49,0.515,0.62,0.53,0.57],[0.485,0.59,0.515,0.58,0.485,0.615,0.595,0.54,0.47,0.555,0.475,0.535,0.455,0.535,0.57,0.56,0.495,0.51,0.525,0.485,0.59,0.54,0.48,0.57,0.58],[0.465,0.52,0.55,0.58,0.455,0.49,0.555,0.505,0.485,0.515,0.5,0.545,0.525,0.455,0.595,0.585,0.585,0.475,0.525,0.535,0.63,0.565,0.57,0.58,0.575],[0.515,0.555,0.455,0.55,0.48,0.615,0.495,0.525,0.49,0.59,0.61,0.56,0.495,0.475,0.625,0.505,0.525,0.535,0.635,0.575,0.62,0.505,0.45,0.605,0.545],[0.465,0.55,0.55,0.535,0.58,0.6,0.535,0.545,0.555,0.405,0.585,0.535,0.475,0.495,0.48,0.49,0.5,0.39,0.56,0.51,0.455,0.695,0.54,0.45,0.56],[0.475,0.525,0.44,0.445,0.55,0.545,0.595,0.595,0.46,0.545,0.625,0.545,0.58,0.48,0.5,0.44,0.58,0.43,0.56,0.43,0.475,0.595,0.38,0.57,0.525],[0.455,0.455,0.44,0.47,0.635,0.48,0.435,0.6,0.535,0.52,0.53,0.63,0.485,0.55,0.5,0.52,0.49,0.47,0.485,0.59,0.47,0.575,0.565,0.565,0.58],[0.575,0.53,0.535,0.415,0.52,0.5,0.48,0.55,0.46,0.475,0.495,0.5,0.445,0.495,0.47,0.515,0.595,0.52,0.505,0.545,0.485,0.445,0.495,0.46,0.5],[0.5,0.505,0.52,0.53,0.53,0.495,0.53,0.555,0.5,0.555,0.65,0.49,0.54,0.485,0.46,0.495,0.59,0.545,0.505,0.525,0.56,0.465,0.495,0.455,0.48],[0.61,0.44,0.61,0.48,0.495,0.52,0.555,0.52,0.495,0.55,0.6,0.625,0.525,0.55,0.505,0.435,0.5,0.49,0.5,0.445,0.495,0.58,0.47,0.465,0.49],[0.395,0.53,0.41,0.475,0.57,0.48,0.445,0.52,0.575,0.555,0.49,0.515,0.465,0.5,0.575,0.56,0.51,0.33,0.53,0.535,0.5,0.48,0.55,0.48,0.465],[0.39,0.515,0.48,0.48,0.535,0.525,0.505,0.485,0.59,0.48,0.535,0.505,0.48,0.535,0.48,0.58,0.535,0.585,0.445,0.54,0.51,0.45,0.525,0.475,0.45],[0.5,0.49,0.47,0.465,0.69,0.51,0.53,0.455,0.485,0.4,0.49,0.485,0.57,0.4,0.685,0.39,0.515,0.5,0.52,0.54,0.44,0.54,0.43,0.415,0.605],[0.44,0.48,0.465,0.555,0.495,0.52,0.55,0.555,0.51,0.47,0.445,0.49,0.565,0.52,0.525,0.505,0.435,0.545,0.5,0.47,0.635,0.495,0.5,0.465,0.5],[0.59,0.6,0.47,0.41,0.52,0.5,0.54,0.535,0.625,0.475,0.47,0.51,0.62,0.5,0.625,0.51,0.475,0.5,0.38,0.51,0.425,0.6,0.59,0.575,0.525],[0.525,0.415,0.715,0.45,0.48,0.585,0.53,0.58,0.565,0.47,0.47,0.565,0.455,0.47,0.49,0.44,0.495,0.505,0.515,0.53,0.495,0.5,0.505,0.505,0.505],[0.435,0.55,0.485,0.495,0.59,0.68,0.46,0.49,0.495,0.49,0.485,0.505,0.555,0.605,0.555,0.54,0.5,0.505,0.51,0.475,0.5,0.48,0.465,0.495,0.5],[0.52,0.53,0.51,0.405,0.655,0.525,0.495,0.57,0.475,0.51,0.485,0.475,0.56,0.49,0.515,0.57,0.47,0.61,0.555,0.555,0.595,0.52,0.49,0.545,0.495],[0.505,0.525,0.565,0.49,0.51,0.485,0.475,0.47,0.52,0.465,0.455,0.54,0.47,0.53,0.56,0.53,0.52,0.405,0.56,0.49,0.365,0.515,0.54,0.59,0.505],[0.61,0.51,0.53,0.525,0.485,0.46,0.425,0.48,0.51,0.525,0.56,0.48,0.545,0.485,0.53,0.49,0.505,0.515,0.47,0.47,0.47,0.515,0.515,0.5,0.5],[0.425,0.505,0.62,0.49,0.595,0.53,0.47,0.515,0.49,0.605,0.465,0.47,0.53,0.45,0.5,0.445,0.43,0.49,0.455,0.505,0.53,0.49,0.485,0.485,0.485],[0.465,0.54,0.445,0.485,0.475,0.48,0.51,0.48,0.575,0.43,0.505,0.455,0.485,0.48,0.505,0.57,0.445,0.565,0.525,0.5,0.475,0.625,0.48,0.55,0.505],[0.515,0.47,0.58,0.485,0.425,0.51,0.465,0.44,0.48,0.49,0.535,0.475,0.525,0.555,0.565,0.485,0.5,0.54,0.52,0.425,0.55,0.46,0.485,0.55,0.415],[0.475,0.48,0.505,0.51,0.515,0.55,0.42,0.52,0.505,0.49,0.44,0.59,0.445,0.49,0.46,0.495,0.465,0.525,0.45,0.545,0.535,0.49,0.555,0.525,0.51],[0.475,0.57,0.5,0.55,0.49,0.49,0.49,0.58,0.46,0.495,0.555,0.55,0.465,0.56,0.46,0.49,0.6,0.515,0.505,0.525,0.565,0.555,0.535,0.47,0.515],[0.51,0.51,0.515,0.5,0.55,0.485,0.465,0.475,0.455,0.49,0.525,0.5,0.495,0.54,0.545,0.545,0.515,0.54,0.52,0.525,0.49,0.505,0.47,0.515,0.5],[0.405,0.49,0.48,0.525,0.475,0.52,0.52,0.495,0.535,0.58,0.505,0.575,0.53,0.505,0.53,0.52,0.44,0.49,0.5,0.485,0.48,0.495,0.5,0.535,0.465],[0.46,0.5,0.54,0.48,0.5,0.515,0.48,0.525,0.45,0.505,0.515,0.49,0.61,0.605,0.52,0.505,0.485,0.46,0.525,0.56,0.56,0.505,0.545,0.46,0.52],[0.525,0.56,0.545,0.57,0.455,0.47,0.485,0.47,0.515,0.51,0.5,0.465,0.465,0.475,0.515,0.58,0.56,0.495,0.56,0.52,0.475,0.475,0.53,0.49,0.56],[0.53,0.465,0.475,0.44,0.53,0.475,0.475,0.54,0.44,0.495,0.525,0.465,0.5,0.555,0.49,0.45,0.445,0.475,0.51,0.505,0.49,0.475,0.475,0.52,0.48],[0.485,0.48,0.555,0.46,0.47,0.525,0.485,0.505,0.53,0.485,0.48,0.5,0.51,0.5,0.545,0.48,0.48,0.525,0.505,0.54,0.465,0.48,0.51,0.485,0.53],[0.58,0.475,0.415,0.57,0.595,0.45,0.58,0.48,0.515,0.45,0.545,0.44,0.525,0.47,0.46,0.48,0.505,0.5,0.565,0.515,0.455,0.49,0.48,0.505,0.49],[0.48,0.5,0.445,0.525,0.52,0.455,0.47,0.54,0.525,0.53,0.615,0.505,0.565,0.52,0.48,0.47,0.455,0.535,0.495,0.495,0.46,0.525,0.55,0.475,0.51],[0.485,0.51,0.545,0.51,0.545,0.505,0.52,0.47,0.475,0.505,0.56,0.525,0.515,0.54,0.485,0.495,0.54,0.475,0.49,0.56,0.52,0.475,0.575,0.53,0.52],[0.5,0.49,0.485,0.535,0.575,0.53,0.55,0.545,0.5,0.505,0.485,0.5,0.45,0.515,0.505,0.445,0.49,0.485,0.46,0.47,0.53,0.575,0.465,0.525,0.46],[0.505,0.45,0.49,0.55,0.585,0.495,0.45,0.525,0.52,0.525,0.515,0.495,0.465,0.51,0.56,0.5,0.495,0.535,0.52,0.56,0.47,0.57,0.505,0.5,0.475],[0.52,0.475,0.49,0.495,0.57,0.555,0.505,0.475,0.47,0.495,0.555,0.47,0.515,0.53,0.51,0.5,0.48,0.51,0.505,0.59,0.495,0.53,0.54,0.5,0.5],[0.535,0.5,0.525,0.52,0.475,0.495,0.51,0.51,0.5,0.44,0.485,0.5,0.49,0.53,0.5,0.465,0.505,0.495,0.475,0.505,0.495,0.49,0.47,0.48,0.48],[0.48,0.47,0.5,0.55,0.48,0.505,0.465,0.495,0.47,0.55,0.485,0.495,0.5,0.525,0.52,0.48,0.48,0.48,0.52,0.56,0.5,0.49,0.525,0.625,0.485],[0.515,0.455,0.485,0.47,0.505,0.52,0.47,0.485,0.485,0.535,0.48,0.535,0.54,0.5,0.525,0.485,0.47,0.44,0.535,0.52,0.49,0.51,0.545,0.47,0.495],[0.55,0.51,0.46,0.54,0.5,0.505,0.535,0.52,0.52,0.475,0.535,0.56,0.455,0.455,0.46,0.46,0.48,0.47,0.465,0.55,0.535,0.48,0.49,0.5,0.43],[0.56,0.52,0.445,0.53,0.5,0.5,0.59,0.505,0.54,0.515,0.55,0.57,0.53,0.51,0.49,0.58,0.45,0.51,0.495,0.43,0.49,0.54,0.545,0.51,0.5]],\"type\":\"heatmap\",\"xaxis\":\"x\",\"yaxis\":\"y\",\"hovertemplate\":\"Heads (sorted): %{x}\\u003cbr\\u003eLayers: %{y}\\u003cbr\\u003ecolor: %{z}\\u003cextra\\u003e\\u003c\\u002fextra\\u003e\"}],                        {\"template\":{\"data\":{\"histogram2dcontour\":[{\"type\":\"histogram2dcontour\",\"colorbar\":{\"outlinewidth\":0,\"ticks\":\"\"},\"colorscale\":[[0.0,\"#0d0887\"],[0.1111111111111111,\"#46039f\"],[0.2222222222222222,\"#7201a8\"],[0.3333333333333333,\"#9c179e\"],[0.4444444444444444,\"#bd3786\"],[0.5555555555555556,\"#d8576b\"],[0.6666666666666666,\"#ed7953\"],[0.7777777777777778,\"#fb9f3a\"],[0.8888888888888888,\"#fdca26\"],[1.0,\"#f0f921\"]]}],\"choropleth\":[{\"type\":\"choropleth\",\"colorbar\":{\"outlinewidth\":0,\"ticks\":\"\"}}],\"histogram2d\":[{\"type\":\"histogram2d\",\"colorbar\":{\"outlinewidth\":0,\"ticks\":\"\"},\"colorscale\":[[0.0,\"#0d0887\"],[0.1111111111111111,\"#46039f\"],[0.2222222222222222,\"#7201a8\"],[0.3333333333333333,\"#9c179e\"],[0.4444444444444444,\"#bd3786\"],[0.5555555555555556,\"#d8576b\"],[0.6666666666666666,\"#ed7953\"],[0.7777777777777778,\"#fb9f3a\"],[0.8888888888888888,\"#fdca26\"],[1.0,\"#f0f921\"]]}],\"heatmap\":[{\"type\":\"heatmap\",\"colorbar\":{\"outlinewidth\":0,\"ticks\":\"\"},\"colorscale\":[[0.0,\"#0d0887\"],[0.1111111111111111,\"#46039f\"],[0.2222222222222222,\"#7201a8\"],[0.3333333333333333,\"#9c179e\"],[0.4444444444444444,\"#bd3786\"],[0.5555555555555556,\"#d8576b\"],[0.6666666666666666,\"#ed7953\"],[0.7777777777777778,\"#fb9f3a\"],[0.8888888888888888,\"#fdca26\"],[1.0,\"#f0f921\"]]}],\"heatmapgl\":[{\"type\":\"heatmapgl\",\"colorbar\":{\"outlinewidth\":0,\"ticks\":\"\"},\"colorscale\":[[0.0,\"#0d0887\"],[0.1111111111111111,\"#46039f\"],[0.2222222222222222,\"#7201a8\"],[0.3333333333333333,\"#9c179e\"],[0.4444444444444444,\"#bd3786\"],[0.5555555555555556,\"#d8576b\"],[0.6666666666666666,\"#ed7953\"],[0.7777777777777778,\"#fb9f3a\"],[0.8888888888888888,\"#fdca26\"],[1.0,\"#f0f921\"]]}],\"contourcarpet\":[{\"type\":\"contourcarpet\",\"colorbar\":{\"outlinewidth\":0,\"ticks\":\"\"}}],\"contour\":[{\"type\":\"contour\",\"colorbar\":{\"outlinewidth\":0,\"ticks\":\"\"},\"colorscale\":[[0.0,\"#0d0887\"],[0.1111111111111111,\"#46039f\"],[0.2222222222222222,\"#7201a8\"],[0.3333333333333333,\"#9c179e\"],[0.4444444444444444,\"#bd3786\"],[0.5555555555555556,\"#d8576b\"],[0.6666666666666666,\"#ed7953\"],[0.7777777777777778,\"#fb9f3a\"],[0.8888888888888888,\"#fdca26\"],[1.0,\"#f0f921\"]]}],\"surface\":[{\"type\":\"surface\",\"colorbar\":{\"outlinewidth\":0,\"ticks\":\"\"},\"colorscale\":[[0.0,\"#0d0887\"],[0.1111111111111111,\"#46039f\"],[0.2222222222222222,\"#7201a8\"],[0.3333333333333333,\"#9c179e\"],[0.4444444444444444,\"#bd3786\"],[0.5555555555555556,\"#d8576b\"],[0.6666666666666666,\"#ed7953\"],[0.7777777777777778,\"#fb9f3a\"],[0.8888888888888888,\"#fdca26\"],[1.0,\"#f0f921\"]]}],\"mesh3d\":[{\"type\":\"mesh3d\",\"colorbar\":{\"outlinewidth\":0,\"ticks\":\"\"}}],\"scatter\":[{\"fillpattern\":{\"fillmode\":\"overlay\",\"size\":10,\"solidity\":0.2},\"type\":\"scatter\"}],\"parcoords\":[{\"type\":\"parcoords\",\"line\":{\"colorbar\":{\"outlinewidth\":0,\"ticks\":\"\"}}}],\"scatterpolargl\":[{\"type\":\"scatterpolargl\",\"marker\":{\"colorbar\":{\"outlinewidth\":0,\"ticks\":\"\"}}}],\"bar\":[{\"error_x\":{\"color\":\"#2a3f5f\"},\"error_y\":{\"color\":\"#2a3f5f\"},\"marker\":{\"line\":{\"color\":\"#E5ECF6\",\"width\":0.5},\"pattern\":{\"fillmode\":\"overlay\",\"size\":10,\"solidity\":0.2}},\"type\":\"bar\"}],\"scattergeo\":[{\"type\":\"scattergeo\",\"marker\":{\"colorbar\":{\"outlinewidth\":0,\"ticks\":\"\"}}}],\"scatterpolar\":[{\"type\":\"scatterpolar\",\"marker\":{\"colorbar\":{\"outlinewidth\":0,\"ticks\":\"\"}}}],\"histogram\":[{\"marker\":{\"pattern\":{\"fillmode\":\"overlay\",\"size\":10,\"solidity\":0.2}},\"type\":\"histogram\"}],\"scattergl\":[{\"type\":\"scattergl\",\"marker\":{\"colorbar\":{\"outlinewidth\":0,\"ticks\":\"\"}}}],\"scatter3d\":[{\"type\":\"scatter3d\",\"line\":{\"colorbar\":{\"outlinewidth\":0,\"ticks\":\"\"}},\"marker\":{\"colorbar\":{\"outlinewidth\":0,\"ticks\":\"\"}}}],\"scattermapbox\":[{\"type\":\"scattermapbox\",\"marker\":{\"colorbar\":{\"outlinewidth\":0,\"ticks\":\"\"}}}],\"scatterternary\":[{\"type\":\"scatterternary\",\"marker\":{\"colorbar\":{\"outlinewidth\":0,\"ticks\":\"\"}}}],\"scattercarpet\":[{\"type\":\"scattercarpet\",\"marker\":{\"colorbar\":{\"outlinewidth\":0,\"ticks\":\"\"}}}],\"carpet\":[{\"aaxis\":{\"endlinecolor\":\"#2a3f5f\",\"gridcolor\":\"white\",\"linecolor\":\"white\",\"minorgridcolor\":\"white\",\"startlinecolor\":\"#2a3f5f\"},\"baxis\":{\"endlinecolor\":\"#2a3f5f\",\"gridcolor\":\"white\",\"linecolor\":\"white\",\"minorgridcolor\":\"white\",\"startlinecolor\":\"#2a3f5f\"},\"type\":\"carpet\"}],\"table\":[{\"cells\":{\"fill\":{\"color\":\"#EBF0F8\"},\"line\":{\"color\":\"white\"}},\"header\":{\"fill\":{\"color\":\"#C8D4E3\"},\"line\":{\"color\":\"white\"}},\"type\":\"table\"}],\"barpolar\":[{\"marker\":{\"line\":{\"color\":\"#E5ECF6\",\"width\":0.5},\"pattern\":{\"fillmode\":\"overlay\",\"size\":10,\"solidity\":0.2}},\"type\":\"barpolar\"}],\"pie\":[{\"automargin\":true,\"type\":\"pie\"}]},\"layout\":{\"autotypenumbers\":\"strict\",\"colorway\":[\"#636efa\",\"#EF553B\",\"#00cc96\",\"#ab63fa\",\"#FFA15A\",\"#19d3f3\",\"#FF6692\",\"#B6E880\",\"#FF97FF\",\"#FECB52\"],\"font\":{\"color\":\"#2a3f5f\"},\"hovermode\":\"closest\",\"hoverlabel\":{\"align\":\"left\"},\"paper_bgcolor\":\"white\",\"plot_bgcolor\":\"#E5ECF6\",\"polar\":{\"bgcolor\":\"#E5ECF6\",\"angularaxis\":{\"gridcolor\":\"white\",\"linecolor\":\"white\",\"ticks\":\"\"},\"radialaxis\":{\"gridcolor\":\"white\",\"linecolor\":\"white\",\"ticks\":\"\"}},\"ternary\":{\"bgcolor\":\"#E5ECF6\",\"aaxis\":{\"gridcolor\":\"white\",\"linecolor\":\"white\",\"ticks\":\"\"},\"baxis\":{\"gridcolor\":\"white\",\"linecolor\":\"white\",\"ticks\":\"\"},\"caxis\":{\"gridcolor\":\"white\",\"linecolor\":\"white\",\"ticks\":\"\"}},\"coloraxis\":{\"colorbar\":{\"outlinewidth\":0,\"ticks\":\"\"}},\"colorscale\":{\"sequential\":[[0.0,\"#0d0887\"],[0.1111111111111111,\"#46039f\"],[0.2222222222222222,\"#7201a8\"],[0.3333333333333333,\"#9c179e\"],[0.4444444444444444,\"#bd3786\"],[0.5555555555555556,\"#d8576b\"],[0.6666666666666666,\"#ed7953\"],[0.7777777777777778,\"#fb9f3a\"],[0.8888888888888888,\"#fdca26\"],[1.0,\"#f0f921\"]],\"sequentialminus\":[[0.0,\"#0d0887\"],[0.1111111111111111,\"#46039f\"],[0.2222222222222222,\"#7201a8\"],[0.3333333333333333,\"#9c179e\"],[0.4444444444444444,\"#bd3786\"],[0.5555555555555556,\"#d8576b\"],[0.6666666666666666,\"#ed7953\"],[0.7777777777777778,\"#fb9f3a\"],[0.8888888888888888,\"#fdca26\"],[1.0,\"#f0f921\"]],\"diverging\":[[0,\"#8e0152\"],[0.1,\"#c51b7d\"],[0.2,\"#de77ae\"],[0.3,\"#f1b6da\"],[0.4,\"#fde0ef\"],[0.5,\"#f7f7f7\"],[0.6,\"#e6f5d0\"],[0.7,\"#b8e186\"],[0.8,\"#7fbc41\"],[0.9,\"#4d9221\"],[1,\"#276419\"]]},\"xaxis\":{\"gridcolor\":\"white\",\"linecolor\":\"white\",\"ticks\":\"\",\"title\":{\"standoff\":15},\"zerolinecolor\":\"white\",\"automargin\":true,\"zerolinewidth\":2},\"yaxis\":{\"gridcolor\":\"white\",\"linecolor\":\"white\",\"ticks\":\"\",\"title\":{\"standoff\":15},\"zerolinecolor\":\"white\",\"automargin\":true,\"zerolinewidth\":2},\"scene\":{\"xaxis\":{\"backgroundcolor\":\"#E5ECF6\",\"gridcolor\":\"white\",\"linecolor\":\"white\",\"showbackground\":true,\"ticks\":\"\",\"zerolinecolor\":\"white\",\"gridwidth\":2},\"yaxis\":{\"backgroundcolor\":\"#E5ECF6\",\"gridcolor\":\"white\",\"linecolor\":\"white\",\"showbackground\":true,\"ticks\":\"\",\"zerolinecolor\":\"white\",\"gridwidth\":2},\"zaxis\":{\"backgroundcolor\":\"#E5ECF6\",\"gridcolor\":\"white\",\"linecolor\":\"white\",\"showbackground\":true,\"ticks\":\"\",\"zerolinecolor\":\"white\",\"gridwidth\":2}},\"shapedefaults\":{\"line\":{\"color\":\"#2a3f5f\"}},\"annotationdefaults\":{\"arrowcolor\":\"#2a3f5f\",\"arrowhead\":0,\"arrowwidth\":1},\"geo\":{\"bgcolor\":\"white\",\"landcolor\":\"#E5ECF6\",\"subunitcolor\":\"white\",\"showland\":true,\"showlakes\":true,\"lakecolor\":\"white\"},\"title\":{\"x\":0.05},\"mapbox\":{\"style\":\"light\"}}},\"xaxis\":{\"anchor\":\"y\",\"domain\":[0.0,1.0],\"scaleanchor\":\"y\",\"constrain\":\"domain\",\"title\":{\"text\":\"Heads (sorted)\"}},\"yaxis\":{\"anchor\":\"x\",\"domain\":[0.0,1.0],\"autorange\":true,\"constrain\":\"domain\",\"title\":{\"text\":\"Layers\"}},\"coloraxis\":{\"colorscale\":[[0.0,\"rgb(255,255,217)\"],[0.125,\"rgb(237,248,177)\"],[0.25,\"rgb(199,233,180)\"],[0.375,\"rgb(127,205,187)\"],[0.5,\"rgb(65,182,196)\"],[0.625,\"rgb(29,145,192)\"],[0.75,\"rgb(34,94,168)\"],[0.875,\"rgb(37,52,148)\"],[1.0,\"rgb(8,29,88)\"]],\"cmid\":0.5},\"title\":{\"text\":\"tqa probes on ez data\"}},                        {\"responsive\": true}                    ).then(function(){\n",
       "                            \n",
       "var gd = document.getElementById('41c4dbd0-d80b-45c7-98fc-fb58949fd1dc');\n",
       "var x = new MutationObserver(function (mutations, observer) {{\n",
       "        var display = window.getComputedStyle(gd).display;\n",
       "        if (!display || display === 'none') {{\n",
       "            console.log([gd, 'removed!']);\n",
       "            Plotly.purge(gd);\n",
       "            observer.disconnect();\n",
       "        }}\n",
       "}});\n",
       "\n",
       "// Listen for the removal of the full notebook cells\n",
       "var notebookContainer = gd.closest('#notebook-container');\n",
       "if (notebookContainer) {{\n",
       "    x.observe(notebookContainer, {childList: true});\n",
       "}}\n",
       "\n",
       "// Listen for the clearing of the current output cell\n",
       "var outputEl = gd.closest('.output');\n",
       "if (outputEl) {{\n",
       "    x.observe(outputEl, {childList: true});\n",
       "}}\n",
       "\n",
       "                        })                };                });            </script>        </div>"
      ]
     },
     "metadata": {},
     "output_type": "display_data"
    },
    {
     "name": "stderr",
     "output_type": "stream",
     "text": [
      "1200it [00:00, 2422.11it/s]\n"
     ]
    },
    {
     "data": {
      "application/vnd.plotly.v1+json": {
       "config": {
        "plotlyServerURL": "https://plot.ly"
       },
       "data": [
        {
         "coloraxis": "coloraxis",
         "hovertemplate": "Heads (sorted): %{x}<br>Layers: %{y}<br>color: %{z}<extra></extra>",
         "name": "0",
         "type": "heatmap",
         "xaxis": "x",
         "yaxis": "y",
         "z": [
          [
           0.445,
           0.445,
           0.445,
           0.445,
           0.445,
           0.445,
           0.445,
           0.445,
           0.455,
           0.465,
           0.45,
           0.445,
           0.445,
           0.455,
           0.445,
           0.445,
           0.445,
           0.445,
           0.445,
           0.445,
           0.48,
           0.46,
           0.44,
           0.445,
           0.45
          ],
          [
           0.445,
           0.455,
           0.435,
           0.48,
           0.5,
           0.46,
           0.445,
           0.52,
           0.515,
           0.45,
           0.53,
           0.49,
           0.45,
           0.565,
           0.445,
           0.475,
           0.425,
           0.48,
           0.465,
           0.57,
           0.6,
           0.445,
           0.5,
           0.455,
           0.52
          ],
          [
           0.435,
           0.445,
           0.44,
           0.445,
           0.46,
           0.52,
           0.445,
           0.425,
           0.465,
           0.49,
           0.41,
           0.505,
           0.445,
           0.445,
           0.5,
           0.445,
           0.445,
           0.56,
           0.56,
           0.43,
           0.445,
           0.445,
           0.5,
           0.5,
           0.445
          ],
          [
           0.58,
           0.465,
           0.46,
           0.445,
           0.45,
           0.49,
           0.575,
           0.46,
           0.525,
           0.53,
           0.505,
           0.44,
           0.445,
           0.495,
           0.455,
           0.53,
           0.45,
           0.415,
           0.535,
           0.525,
           0.505,
           0.455,
           0.49,
           0.565,
           0.485
          ],
          [
           0.445,
           0.445,
           0.495,
           0.45,
           0.485,
           0.425,
           0.455,
           0.585,
           0.45,
           0.555,
           0.465,
           0.445,
           0.57,
           0.53,
           0.52,
           0.435,
           0.445,
           0.46,
           0.44,
           0.46,
           0.555,
           0.48,
           0.505,
           0.525,
           0.495
          ],
          [
           0.51,
           0.525,
           0.46,
           0.455,
           0.455,
           0.445,
           0.47,
           0.565,
           0.545,
           0.53,
           0.445,
           0.45,
           0.47,
           0.445,
           0.44,
           0.54,
           0.435,
           0.49,
           0.465,
           0.46,
           0.445,
           0.565,
           0.445,
           0.555,
           0.485
          ],
          [
           0.445,
           0.505,
           0.495,
           0.425,
           0.475,
           0.53,
           0.485,
           0.47,
           0.525,
           0.57,
           0.445,
           0.53,
           0.44,
           0.545,
           0.535,
           0.445,
           0.455,
           0.45,
           0.49,
           0.555,
           0.51,
           0.44,
           0.495,
           0.455,
           0.49
          ],
          [
           0.48,
           0.455,
           0.48,
           0.555,
           0.425,
           0.43,
           0.46,
           0.475,
           0.48,
           0.445,
           0.55,
           0.56,
           0.53,
           0.555,
           0.52,
           0.485,
           0.43,
           0.45,
           0.56,
           0.465,
           0.455,
           0.52,
           0.565,
           0.51,
           0.46
          ],
          [
           0.445,
           0.48,
           0.49,
           0.46,
           0.56,
           0.45,
           0.53,
           0.415,
           0.435,
           0.54,
           0.47,
           0.575,
           0.54,
           0.52,
           0.58,
           0.455,
           0.54,
           0.56,
           0.445,
           0.495,
           0.49,
           0.47,
           0.45,
           0.49,
           0.525
          ],
          [
           0.49,
           0.55,
           0.425,
           0.48,
           0.425,
           0.52,
           0.45,
           0.44,
           0.505,
           0.465,
           0.5,
           0.505,
           0.5,
           0.52,
           0.505,
           0.51,
           0.505,
           0.55,
           0.475,
           0.505,
           0.445,
           0.45,
           0.48,
           0.53,
           0.465
          ],
          [
           0.51,
           0.52,
           0.475,
           0.485,
           0.475,
           0.52,
           0.495,
           0.55,
           0.46,
           0.505,
           0.525,
           0.505,
           0.545,
           0.43,
           0.445,
           0.49,
           0.415,
           0.46,
           0.45,
           0.47,
           0.485,
           0.555,
           0.46,
           0.425,
           0.495
          ],
          [
           0.485,
           0.565,
           0.45,
           0.53,
           0.455,
           0.45,
           0.525,
           0.47,
           0.46,
           0.455,
           0.48,
           0.475,
           0.465,
           0.44,
           0.48,
           0.465,
           0.55,
           0.5,
           0.445,
           0.535,
           0.435,
           0.47,
           0.445,
           0.52,
           0.445
          ],
          [
           0.485,
           0.495,
           0.465,
           0.52,
           0.565,
           0.48,
           0.47,
           0.435,
           0.495,
           0.49,
           0.5,
           0.545,
           0.45,
           0.435,
           0.455,
           0.485,
           0.51,
           0.515,
           0.405,
           0.515,
           0.495,
           0.455,
           0.515,
           0.535,
           0.485
          ],
          [
           0.48,
           0.475,
           0.555,
           0.455,
           0.42,
           0.545,
           0.54,
           0.475,
           0.455,
           0.47,
           0.56,
           0.615,
           0.5,
           0.44,
           0.5,
           0.445,
           0.44,
           0.51,
           0.545,
           0.515,
           0.445,
           0.395,
           0.48,
           0.5,
           0.455
          ],
          [
           0.465,
           0.465,
           0.515,
           0.465,
           0.51,
           0.535,
           0.445,
           0.52,
           0.555,
           0.555,
           0.525,
           0.43,
           0.49,
           0.425,
           0.49,
           0.395,
           0.555,
           0.46,
           0.485,
           0.55,
           0.545,
           0.445,
           0.515,
           0.545,
           0.47
          ],
          [
           0.46,
           0.475,
           0.47,
           0.5,
           0.46,
           0.46,
           0.58,
           0.505,
           0.475,
           0.46,
           0.425,
           0.48,
           0.505,
           0.46,
           0.585,
           0.46,
           0.49,
           0.43,
           0.46,
           0.46,
           0.455,
           0.51,
           0.46,
           0.475,
           0.45
          ],
          [
           0.455,
           0.4,
           0.47,
           0.445,
           0.495,
           0.5,
           0.46,
           0.505,
           0.46,
           0.46,
           0.44,
           0.46,
           0.48,
           0.45,
           0.525,
           0.56,
           0.415,
           0.505,
           0.51,
           0.465,
           0.5,
           0.45,
           0.525,
           0.43,
           0.505
          ],
          [
           0.45,
           0.435,
           0.445,
           0.53,
           0.49,
           0.47,
           0.445,
           0.535,
           0.41,
           0.46,
           0.61,
           0.435,
           0.49,
           0.44,
           0.435,
           0.445,
           0.45,
           0.595,
           0.445,
           0.515,
           0.435,
           0.53,
           0.45,
           0.57,
           0.57
          ],
          [
           0.445,
           0.45,
           0.47,
           0.42,
           0.445,
           0.43,
           0.385,
           0.4,
           0.525,
           0.435,
           0.435,
           0.505,
           0.455,
           0.43,
           0.44,
           0.5,
           0.525,
           0.51,
           0.435,
           0.455,
           0.465,
           0.465,
           0.445,
           0.46,
           0.575
          ],
          [
           0.445,
           0.465,
           0.515,
           0.505,
           0.455,
           0.455,
           0.45,
           0.445,
           0.495,
           0.425,
           0.445,
           0.49,
           0.475,
           0.495,
           0.545,
           0.485,
           0.465,
           0.465,
           0.54,
           0.525,
           0.565,
           0.425,
           0.515,
           0.43,
           0.545
          ],
          [
           0.44,
           0.49,
           0.555,
           0.555,
           0.47,
           0.46,
           0.445,
           0.44,
           0.425,
           0.57,
           0.44,
           0.45,
           0.425,
           0.44,
           0.445,
           0.455,
           0.48,
           0.505,
           0.545,
           0.455,
           0.515,
           0.505,
           0.365,
           0.455,
           0.455
          ],
          [
           0.46,
           0.465,
           0.52,
           0.415,
           0.59,
           0.58,
           0.445,
           0.49,
           0.445,
           0.46,
           0.45,
           0.445,
           0.47,
           0.43,
           0.53,
           0.39,
           0.58,
           0.465,
           0.42,
           0.515,
           0.445,
           0.575,
           0.455,
           0.445,
           0.545
          ],
          [
           0.44,
           0.455,
           0.47,
           0.435,
           0.55,
           0.445,
           0.495,
           0.445,
           0.475,
           0.45,
           0.46,
           0.45,
           0.415,
           0.45,
           0.465,
           0.46,
           0.49,
           0.45,
           0.45,
           0.44,
           0.445,
           0.515,
           0.525,
           0.485,
           0.515
          ],
          [
           0.39,
           0.47,
           0.45,
           0.44,
           0.56,
           0.445,
           0.62,
           0.535,
           0.53,
           0.44,
           0.475,
           0.605,
           0.475,
           0.43,
           0.42,
           0.605,
           0.425,
           0.51,
           0.45,
           0.49,
           0.455,
           0.535,
           0.395,
           0.445,
           0.525
          ],
          [
           0.44,
           0.46,
           0.445,
           0.445,
           0.545,
           0.44,
           0.43,
           0.435,
           0.52,
           0.435,
           0.49,
           0.46,
           0.535,
           0.525,
           0.45,
           0.46,
           0.475,
           0.43,
           0.47,
           0.575,
           0.395,
           0.52,
           0.51,
           0.465,
           0.59
          ],
          [
           0.495,
           0.545,
           0.5,
           0.55,
           0.48,
           0.52,
           0.515,
           0.445,
           0.45,
           0.405,
           0.48,
           0.51,
           0.43,
           0.445,
           0.555,
           0.57,
           0.54,
           0.445,
           0.445,
           0.44,
           0.44,
           0.605,
           0.485,
           0.49,
           0.5
          ],
          [
           0.45,
           0.51,
           0.53,
           0.525,
           0.455,
           0.515,
           0.4,
           0.54,
           0.59,
           0.585,
           0.565,
           0.54,
           0.445,
           0.45,
           0.44,
           0.455,
           0.41,
           0.45,
           0.435,
           0.495,
           0.445,
           0.415,
           0.52,
           0.445,
           0.555
          ],
          [
           0.55,
           0.445,
           0.49,
           0.45,
           0.465,
           0.57,
           0.43,
           0.475,
           0.465,
           0.455,
           0.43,
           0.51,
           0.45,
           0.485,
           0.545,
           0.515,
           0.46,
           0.445,
           0.54,
           0.49,
           0.6,
           0.425,
           0.465,
           0.45,
           0.555
          ],
          [
           0.37,
           0.515,
           0.565,
           0.455,
           0.435,
           0.525,
           0.555,
           0.535,
           0.575,
           0.48,
           0.55,
           0.43,
           0.455,
           0.45,
           0.425,
           0.5,
           0.475,
           0.495,
           0.435,
           0.44,
           0.415,
           0.555,
           0.445,
           0.555,
           0.475
          ],
          [
           0.565,
           0.415,
           0.56,
           0.51,
           0.47,
           0.435,
           0.565,
           0.535,
           0.445,
           0.495,
           0.465,
           0.505,
           0.57,
           0.445,
           0.45,
           0.445,
           0.46,
           0.435,
           0.49,
           0.455,
           0.435,
           0.545,
           0.505,
           0.475,
           0.48
          ],
          [
           0.5,
           0.495,
           0.565,
           0.555,
           0.485,
           0.425,
           0.5,
           0.435,
           0.555,
           0.435,
           0.46,
           0.515,
           0.5,
           0.485,
           0.585,
           0.545,
           0.45,
           0.43,
           0.55,
           0.44,
           0.47,
           0.475,
           0.57,
           0.545,
           0.55
          ],
          [
           0.37,
           0.55,
           0.53,
           0.58,
           0.535,
           0.475,
           0.445,
           0.455,
           0.395,
           0.54,
           0.56,
           0.445,
           0.495,
           0.455,
           0.455,
           0.475,
           0.52,
           0.425,
           0.465,
           0.515,
           0.475,
           0.425,
           0.44,
           0.46,
           0.5
          ],
          [
           0.49,
           0.455,
           0.44,
           0.48,
           0.485,
           0.425,
           0.565,
           0.48,
           0.485,
           0.51,
           0.545,
           0.45,
           0.46,
           0.575,
           0.565,
           0.44,
           0.43,
           0.555,
           0.56,
           0.535,
           0.44,
           0.605,
           0.425,
           0.445,
           0.47
          ],
          [
           0.47,
           0.465,
           0.53,
           0.5,
           0.505,
           0.53,
           0.545,
           0.47,
           0.415,
           0.545,
           0.425,
           0.41,
           0.55,
           0.545,
           0.44,
           0.63,
           0.51,
           0.475,
           0.525,
           0.615,
           0.53,
           0.46,
           0.395,
           0.595,
           0.555
          ],
          [
           0.605,
           0.435,
           0.47,
           0.57,
           0.535,
           0.59,
           0.485,
           0.445,
           0.585,
           0.45,
           0.48,
           0.475,
           0.425,
           0.445,
           0.53,
           0.59,
           0.435,
           0.54,
           0.55,
           0.555,
           0.555,
           0.51,
           0.465,
           0.42,
           0.45
          ],
          [
           0.56,
           0.48,
           0.445,
           0.59,
           0.61,
           0.56,
           0.475,
           0.445,
           0.44,
           0.47,
           0.455,
           0.44,
           0.495,
           0.485,
           0.515,
           0.64,
           0.53,
           0.575,
           0.42,
           0.485,
           0.445,
           0.495,
           0.485,
           0.535,
           0.545
          ],
          [
           0.495,
           0.575,
           0.525,
           0.535,
           0.44,
           0.445,
           0.495,
           0.425,
           0.39,
           0.49,
           0.545,
           0.53,
           0.44,
           0.59,
           0.525,
           0.435,
           0.485,
           0.57,
           0.445,
           0.55,
           0.45,
           0.445,
           0.45,
           0.495,
           0.44
          ],
          [
           0.46,
           0.535,
           0.575,
           0.47,
           0.475,
           0.505,
           0.47,
           0.555,
           0.485,
           0.445,
           0.505,
           0.545,
           0.41,
           0.49,
           0.54,
           0.585,
           0.535,
           0.55,
           0.47,
           0.5,
           0.445,
           0.57,
           0.425,
           0.44,
           0.615
          ],
          [
           0.54,
           0.44,
           0.515,
           0.515,
           0.445,
           0.465,
           0.445,
           0.445,
           0.535,
           0.475,
           0.445,
           0.54,
           0.565,
           0.62,
           0.565,
           0.475,
           0.485,
           0.505,
           0.55,
           0.475,
           0.425,
           0.425,
           0.58,
           0.53,
           0.425
          ],
          [
           0.62,
           0.45,
           0.575,
           0.46,
           0.53,
           0.445,
           0.57,
           0.495,
           0.52,
           0.565,
           0.55,
           0.475,
           0.565,
           0.43,
           0.505,
           0.45,
           0.425,
           0.41,
           0.53,
           0.56,
           0.575,
           0.465,
           0.58,
           0.505,
           0.44
          ],
          [
           0.525,
           0.46,
           0.495,
           0.485,
           0.44,
           0.555,
           0.555,
           0.545,
           0.515,
           0.545,
           0.48,
           0.485,
           0.44,
           0.435,
           0.475,
           0.575,
           0.535,
           0.51,
           0.535,
           0.485,
           0.445,
           0.44,
           0.48,
           0.515,
           0.44
          ],
          [
           0.465,
           0.515,
           0.445,
           0.535,
           0.42,
           0.575,
           0.515,
           0.555,
           0.565,
           0.51,
           0.5,
           0.44,
           0.52,
           0.53,
           0.425,
           0.45,
           0.46,
           0.43,
           0.53,
           0.435,
           0.495,
           0.5,
           0.435,
           0.515,
           0.45
          ],
          [
           0.56,
           0.475,
           0.48,
           0.47,
           0.515,
           0.5,
           0.5,
           0.6,
           0.465,
           0.53,
           0.445,
           0.475,
           0.57,
           0.4,
           0.495,
           0.57,
           0.475,
           0.47,
           0.525,
           0.445,
           0.445,
           0.48,
           0.475,
           0.435,
           0.525
          ],
          [
           0.5,
           0.49,
           0.51,
           0.47,
           0.57,
           0.58,
           0.575,
           0.505,
           0.48,
           0.46,
           0.47,
           0.47,
           0.535,
           0.455,
           0.5,
           0.505,
           0.49,
           0.42,
           0.52,
           0.515,
           0.52,
           0.45,
           0.625,
           0.535,
           0.51
          ],
          [
           0.445,
           0.465,
           0.57,
           0.545,
           0.52,
           0.54,
           0.55,
           0.495,
           0.515,
           0.53,
           0.54,
           0.505,
           0.565,
           0.435,
           0.48,
           0.45,
           0.435,
           0.445,
           0.525,
           0.495,
           0.495,
           0.425,
           0.555,
           0.51,
           0.51
          ],
          [
           0.515,
           0.45,
           0.475,
           0.42,
           0.485,
           0.46,
           0.515,
           0.465,
           0.355,
           0.465,
           0.45,
           0.5,
           0.44,
           0.44,
           0.455,
           0.48,
           0.45,
           0.48,
           0.59,
           0.45,
           0.535,
           0.5,
           0.575,
           0.615,
           0.49
          ],
          [
           0.47,
           0.4,
           0.48,
           0.415,
           0.535,
           0.54,
           0.43,
           0.435,
           0.52,
           0.52,
           0.43,
           0.565,
           0.545,
           0.54,
           0.495,
           0.445,
           0.475,
           0.53,
           0.58,
           0.48,
           0.535,
           0.475,
           0.47,
           0.49,
           0.505
          ],
          [
           0.575,
           0.53,
           0.565,
           0.47,
           0.44,
           0.565,
           0.475,
           0.595,
           0.45,
           0.49,
           0.4,
           0.5,
           0.43,
           0.55,
           0.445,
           0.48,
           0.445,
           0.485,
           0.595,
           0.445,
           0.455,
           0.455,
           0.47,
           0.44,
           0.435
          ]
         ]
        }
       ],
       "layout": {
        "coloraxis": {
         "cmid": 0.5,
         "colorscale": [
          [
           0,
           "rgb(255,255,217)"
          ],
          [
           0.125,
           "rgb(237,248,177)"
          ],
          [
           0.25,
           "rgb(199,233,180)"
          ],
          [
           0.375,
           "rgb(127,205,187)"
          ],
          [
           0.5,
           "rgb(65,182,196)"
          ],
          [
           0.625,
           "rgb(29,145,192)"
          ],
          [
           0.75,
           "rgb(34,94,168)"
          ],
          [
           0.875,
           "rgb(37,52,148)"
          ],
          [
           1,
           "rgb(8,29,88)"
          ]
         ]
        },
        "template": {
         "data": {
          "bar": [
           {
            "error_x": {
             "color": "#2a3f5f"
            },
            "error_y": {
             "color": "#2a3f5f"
            },
            "marker": {
             "line": {
              "color": "#E5ECF6",
              "width": 0.5
             },
             "pattern": {
              "fillmode": "overlay",
              "size": 10,
              "solidity": 0.2
             }
            },
            "type": "bar"
           }
          ],
          "barpolar": [
           {
            "marker": {
             "line": {
              "color": "#E5ECF6",
              "width": 0.5
             },
             "pattern": {
              "fillmode": "overlay",
              "size": 10,
              "solidity": 0.2
             }
            },
            "type": "barpolar"
           }
          ],
          "carpet": [
           {
            "aaxis": {
             "endlinecolor": "#2a3f5f",
             "gridcolor": "white",
             "linecolor": "white",
             "minorgridcolor": "white",
             "startlinecolor": "#2a3f5f"
            },
            "baxis": {
             "endlinecolor": "#2a3f5f",
             "gridcolor": "white",
             "linecolor": "white",
             "minorgridcolor": "white",
             "startlinecolor": "#2a3f5f"
            },
            "type": "carpet"
           }
          ],
          "choropleth": [
           {
            "colorbar": {
             "outlinewidth": 0,
             "ticks": ""
            },
            "type": "choropleth"
           }
          ],
          "contour": [
           {
            "colorbar": {
             "outlinewidth": 0,
             "ticks": ""
            },
            "colorscale": [
             [
              0,
              "#0d0887"
             ],
             [
              0.1111111111111111,
              "#46039f"
             ],
             [
              0.2222222222222222,
              "#7201a8"
             ],
             [
              0.3333333333333333,
              "#9c179e"
             ],
             [
              0.4444444444444444,
              "#bd3786"
             ],
             [
              0.5555555555555556,
              "#d8576b"
             ],
             [
              0.6666666666666666,
              "#ed7953"
             ],
             [
              0.7777777777777778,
              "#fb9f3a"
             ],
             [
              0.8888888888888888,
              "#fdca26"
             ],
             [
              1,
              "#f0f921"
             ]
            ],
            "type": "contour"
           }
          ],
          "contourcarpet": [
           {
            "colorbar": {
             "outlinewidth": 0,
             "ticks": ""
            },
            "type": "contourcarpet"
           }
          ],
          "heatmap": [
           {
            "colorbar": {
             "outlinewidth": 0,
             "ticks": ""
            },
            "colorscale": [
             [
              0,
              "#0d0887"
             ],
             [
              0.1111111111111111,
              "#46039f"
             ],
             [
              0.2222222222222222,
              "#7201a8"
             ],
             [
              0.3333333333333333,
              "#9c179e"
             ],
             [
              0.4444444444444444,
              "#bd3786"
             ],
             [
              0.5555555555555556,
              "#d8576b"
             ],
             [
              0.6666666666666666,
              "#ed7953"
             ],
             [
              0.7777777777777778,
              "#fb9f3a"
             ],
             [
              0.8888888888888888,
              "#fdca26"
             ],
             [
              1,
              "#f0f921"
             ]
            ],
            "type": "heatmap"
           }
          ],
          "heatmapgl": [
           {
            "colorbar": {
             "outlinewidth": 0,
             "ticks": ""
            },
            "colorscale": [
             [
              0,
              "#0d0887"
             ],
             [
              0.1111111111111111,
              "#46039f"
             ],
             [
              0.2222222222222222,
              "#7201a8"
             ],
             [
              0.3333333333333333,
              "#9c179e"
             ],
             [
              0.4444444444444444,
              "#bd3786"
             ],
             [
              0.5555555555555556,
              "#d8576b"
             ],
             [
              0.6666666666666666,
              "#ed7953"
             ],
             [
              0.7777777777777778,
              "#fb9f3a"
             ],
             [
              0.8888888888888888,
              "#fdca26"
             ],
             [
              1,
              "#f0f921"
             ]
            ],
            "type": "heatmapgl"
           }
          ],
          "histogram": [
           {
            "marker": {
             "pattern": {
              "fillmode": "overlay",
              "size": 10,
              "solidity": 0.2
             }
            },
            "type": "histogram"
           }
          ],
          "histogram2d": [
           {
            "colorbar": {
             "outlinewidth": 0,
             "ticks": ""
            },
            "colorscale": [
             [
              0,
              "#0d0887"
             ],
             [
              0.1111111111111111,
              "#46039f"
             ],
             [
              0.2222222222222222,
              "#7201a8"
             ],
             [
              0.3333333333333333,
              "#9c179e"
             ],
             [
              0.4444444444444444,
              "#bd3786"
             ],
             [
              0.5555555555555556,
              "#d8576b"
             ],
             [
              0.6666666666666666,
              "#ed7953"
             ],
             [
              0.7777777777777778,
              "#fb9f3a"
             ],
             [
              0.8888888888888888,
              "#fdca26"
             ],
             [
              1,
              "#f0f921"
             ]
            ],
            "type": "histogram2d"
           }
          ],
          "histogram2dcontour": [
           {
            "colorbar": {
             "outlinewidth": 0,
             "ticks": ""
            },
            "colorscale": [
             [
              0,
              "#0d0887"
             ],
             [
              0.1111111111111111,
              "#46039f"
             ],
             [
              0.2222222222222222,
              "#7201a8"
             ],
             [
              0.3333333333333333,
              "#9c179e"
             ],
             [
              0.4444444444444444,
              "#bd3786"
             ],
             [
              0.5555555555555556,
              "#d8576b"
             ],
             [
              0.6666666666666666,
              "#ed7953"
             ],
             [
              0.7777777777777778,
              "#fb9f3a"
             ],
             [
              0.8888888888888888,
              "#fdca26"
             ],
             [
              1,
              "#f0f921"
             ]
            ],
            "type": "histogram2dcontour"
           }
          ],
          "mesh3d": [
           {
            "colorbar": {
             "outlinewidth": 0,
             "ticks": ""
            },
            "type": "mesh3d"
           }
          ],
          "parcoords": [
           {
            "line": {
             "colorbar": {
              "outlinewidth": 0,
              "ticks": ""
             }
            },
            "type": "parcoords"
           }
          ],
          "pie": [
           {
            "automargin": true,
            "type": "pie"
           }
          ],
          "scatter": [
           {
            "fillpattern": {
             "fillmode": "overlay",
             "size": 10,
             "solidity": 0.2
            },
            "type": "scatter"
           }
          ],
          "scatter3d": [
           {
            "line": {
             "colorbar": {
              "outlinewidth": 0,
              "ticks": ""
             }
            },
            "marker": {
             "colorbar": {
              "outlinewidth": 0,
              "ticks": ""
             }
            },
            "type": "scatter3d"
           }
          ],
          "scattercarpet": [
           {
            "marker": {
             "colorbar": {
              "outlinewidth": 0,
              "ticks": ""
             }
            },
            "type": "scattercarpet"
           }
          ],
          "scattergeo": [
           {
            "marker": {
             "colorbar": {
              "outlinewidth": 0,
              "ticks": ""
             }
            },
            "type": "scattergeo"
           }
          ],
          "scattergl": [
           {
            "marker": {
             "colorbar": {
              "outlinewidth": 0,
              "ticks": ""
             }
            },
            "type": "scattergl"
           }
          ],
          "scattermapbox": [
           {
            "marker": {
             "colorbar": {
              "outlinewidth": 0,
              "ticks": ""
             }
            },
            "type": "scattermapbox"
           }
          ],
          "scatterpolar": [
           {
            "marker": {
             "colorbar": {
              "outlinewidth": 0,
              "ticks": ""
             }
            },
            "type": "scatterpolar"
           }
          ],
          "scatterpolargl": [
           {
            "marker": {
             "colorbar": {
              "outlinewidth": 0,
              "ticks": ""
             }
            },
            "type": "scatterpolargl"
           }
          ],
          "scatterternary": [
           {
            "marker": {
             "colorbar": {
              "outlinewidth": 0,
              "ticks": ""
             }
            },
            "type": "scatterternary"
           }
          ],
          "surface": [
           {
            "colorbar": {
             "outlinewidth": 0,
             "ticks": ""
            },
            "colorscale": [
             [
              0,
              "#0d0887"
             ],
             [
              0.1111111111111111,
              "#46039f"
             ],
             [
              0.2222222222222222,
              "#7201a8"
             ],
             [
              0.3333333333333333,
              "#9c179e"
             ],
             [
              0.4444444444444444,
              "#bd3786"
             ],
             [
              0.5555555555555556,
              "#d8576b"
             ],
             [
              0.6666666666666666,
              "#ed7953"
             ],
             [
              0.7777777777777778,
              "#fb9f3a"
             ],
             [
              0.8888888888888888,
              "#fdca26"
             ],
             [
              1,
              "#f0f921"
             ]
            ],
            "type": "surface"
           }
          ],
          "table": [
           {
            "cells": {
             "fill": {
              "color": "#EBF0F8"
             },
             "line": {
              "color": "white"
             }
            },
            "header": {
             "fill": {
              "color": "#C8D4E3"
             },
             "line": {
              "color": "white"
             }
            },
            "type": "table"
           }
          ]
         },
         "layout": {
          "annotationdefaults": {
           "arrowcolor": "#2a3f5f",
           "arrowhead": 0,
           "arrowwidth": 1
          },
          "autotypenumbers": "strict",
          "coloraxis": {
           "colorbar": {
            "outlinewidth": 0,
            "ticks": ""
           }
          },
          "colorscale": {
           "diverging": [
            [
             0,
             "#8e0152"
            ],
            [
             0.1,
             "#c51b7d"
            ],
            [
             0.2,
             "#de77ae"
            ],
            [
             0.3,
             "#f1b6da"
            ],
            [
             0.4,
             "#fde0ef"
            ],
            [
             0.5,
             "#f7f7f7"
            ],
            [
             0.6,
             "#e6f5d0"
            ],
            [
             0.7,
             "#b8e186"
            ],
            [
             0.8,
             "#7fbc41"
            ],
            [
             0.9,
             "#4d9221"
            ],
            [
             1,
             "#276419"
            ]
           ],
           "sequential": [
            [
             0,
             "#0d0887"
            ],
            [
             0.1111111111111111,
             "#46039f"
            ],
            [
             0.2222222222222222,
             "#7201a8"
            ],
            [
             0.3333333333333333,
             "#9c179e"
            ],
            [
             0.4444444444444444,
             "#bd3786"
            ],
            [
             0.5555555555555556,
             "#d8576b"
            ],
            [
             0.6666666666666666,
             "#ed7953"
            ],
            [
             0.7777777777777778,
             "#fb9f3a"
            ],
            [
             0.8888888888888888,
             "#fdca26"
            ],
            [
             1,
             "#f0f921"
            ]
           ],
           "sequentialminus": [
            [
             0,
             "#0d0887"
            ],
            [
             0.1111111111111111,
             "#46039f"
            ],
            [
             0.2222222222222222,
             "#7201a8"
            ],
            [
             0.3333333333333333,
             "#9c179e"
            ],
            [
             0.4444444444444444,
             "#bd3786"
            ],
            [
             0.5555555555555556,
             "#d8576b"
            ],
            [
             0.6666666666666666,
             "#ed7953"
            ],
            [
             0.7777777777777778,
             "#fb9f3a"
            ],
            [
             0.8888888888888888,
             "#fdca26"
            ],
            [
             1,
             "#f0f921"
            ]
           ]
          },
          "colorway": [
           "#636efa",
           "#EF553B",
           "#00cc96",
           "#ab63fa",
           "#FFA15A",
           "#19d3f3",
           "#FF6692",
           "#B6E880",
           "#FF97FF",
           "#FECB52"
          ],
          "font": {
           "color": "#2a3f5f"
          },
          "geo": {
           "bgcolor": "white",
           "lakecolor": "white",
           "landcolor": "#E5ECF6",
           "showlakes": true,
           "showland": true,
           "subunitcolor": "white"
          },
          "hoverlabel": {
           "align": "left"
          },
          "hovermode": "closest",
          "mapbox": {
           "style": "light"
          },
          "paper_bgcolor": "white",
          "plot_bgcolor": "#E5ECF6",
          "polar": {
           "angularaxis": {
            "gridcolor": "white",
            "linecolor": "white",
            "ticks": ""
           },
           "bgcolor": "#E5ECF6",
           "radialaxis": {
            "gridcolor": "white",
            "linecolor": "white",
            "ticks": ""
           }
          },
          "scene": {
           "xaxis": {
            "backgroundcolor": "#E5ECF6",
            "gridcolor": "white",
            "gridwidth": 2,
            "linecolor": "white",
            "showbackground": true,
            "ticks": "",
            "zerolinecolor": "white"
           },
           "yaxis": {
            "backgroundcolor": "#E5ECF6",
            "gridcolor": "white",
            "gridwidth": 2,
            "linecolor": "white",
            "showbackground": true,
            "ticks": "",
            "zerolinecolor": "white"
           },
           "zaxis": {
            "backgroundcolor": "#E5ECF6",
            "gridcolor": "white",
            "gridwidth": 2,
            "linecolor": "white",
            "showbackground": true,
            "ticks": "",
            "zerolinecolor": "white"
           }
          },
          "shapedefaults": {
           "line": {
            "color": "#2a3f5f"
           }
          },
          "ternary": {
           "aaxis": {
            "gridcolor": "white",
            "linecolor": "white",
            "ticks": ""
           },
           "baxis": {
            "gridcolor": "white",
            "linecolor": "white",
            "ticks": ""
           },
           "bgcolor": "#E5ECF6",
           "caxis": {
            "gridcolor": "white",
            "linecolor": "white",
            "ticks": ""
           }
          },
          "title": {
           "x": 0.05
          },
          "xaxis": {
           "automargin": true,
           "gridcolor": "white",
           "linecolor": "white",
           "ticks": "",
           "title": {
            "standoff": 15
           },
           "zerolinecolor": "white",
           "zerolinewidth": 2
          },
          "yaxis": {
           "automargin": true,
           "gridcolor": "white",
           "linecolor": "white",
           "ticks": "",
           "title": {
            "standoff": 15
           },
           "zerolinecolor": "white",
           "zerolinewidth": 2
          }
         }
        },
        "title": {
         "text": "cfact probes on tqa data"
        },
        "xaxis": {
         "anchor": "y",
         "constrain": "domain",
         "domain": [
          0,
          1
         ],
         "scaleanchor": "y",
         "title": {
          "text": "Heads (sorted)"
         }
        },
        "yaxis": {
         "anchor": "x",
         "autorange": true,
         "constrain": "domain",
         "domain": [
          0,
          1
         ],
         "title": {
          "text": "Layers"
         }
        }
       }
      },
      "text/html": [
       "<div>                            <div id=\"6c433576-bd7e-463f-a6c7-156b3cc02779\" class=\"plotly-graph-div\" style=\"height:525px; width:100%;\"></div>            <script type=\"text/javascript\">                require([\"plotly\"], function(Plotly) {                    window.PLOTLYENV=window.PLOTLYENV || {};                                    if (document.getElementById(\"6c433576-bd7e-463f-a6c7-156b3cc02779\")) {                    Plotly.newPlot(                        \"6c433576-bd7e-463f-a6c7-156b3cc02779\",                        [{\"coloraxis\":\"coloraxis\",\"name\":\"0\",\"z\":[[0.445,0.445,0.445,0.445,0.445,0.445,0.445,0.445,0.455,0.465,0.45,0.445,0.445,0.455,0.445,0.445,0.445,0.445,0.445,0.445,0.48,0.46,0.44,0.445,0.45],[0.445,0.455,0.435,0.48,0.5,0.46,0.445,0.52,0.515,0.45,0.53,0.49,0.45,0.565,0.445,0.475,0.425,0.48,0.465,0.57,0.6,0.445,0.5,0.455,0.52],[0.435,0.445,0.44,0.445,0.46,0.52,0.445,0.425,0.465,0.49,0.41,0.505,0.445,0.445,0.5,0.445,0.445,0.56,0.56,0.43,0.445,0.445,0.5,0.5,0.445],[0.58,0.465,0.46,0.445,0.45,0.49,0.575,0.46,0.525,0.53,0.505,0.44,0.445,0.495,0.455,0.53,0.45,0.415,0.535,0.525,0.505,0.455,0.49,0.565,0.485],[0.445,0.445,0.495,0.45,0.485,0.425,0.455,0.585,0.45,0.555,0.465,0.445,0.57,0.53,0.52,0.435,0.445,0.46,0.44,0.46,0.555,0.48,0.505,0.525,0.495],[0.51,0.525,0.46,0.455,0.455,0.445,0.47,0.565,0.545,0.53,0.445,0.45,0.47,0.445,0.44,0.54,0.435,0.49,0.465,0.46,0.445,0.565,0.445,0.555,0.485],[0.445,0.505,0.495,0.425,0.475,0.53,0.485,0.47,0.525,0.57,0.445,0.53,0.44,0.545,0.535,0.445,0.455,0.45,0.49,0.555,0.51,0.44,0.495,0.455,0.49],[0.48,0.455,0.48,0.555,0.425,0.43,0.46,0.475,0.48,0.445,0.55,0.56,0.53,0.555,0.52,0.485,0.43,0.45,0.56,0.465,0.455,0.52,0.565,0.51,0.46],[0.445,0.48,0.49,0.46,0.56,0.45,0.53,0.415,0.435,0.54,0.47,0.575,0.54,0.52,0.58,0.455,0.54,0.56,0.445,0.495,0.49,0.47,0.45,0.49,0.525],[0.49,0.55,0.425,0.48,0.425,0.52,0.45,0.44,0.505,0.465,0.5,0.505,0.5,0.52,0.505,0.51,0.505,0.55,0.475,0.505,0.445,0.45,0.48,0.53,0.465],[0.51,0.52,0.475,0.485,0.475,0.52,0.495,0.55,0.46,0.505,0.525,0.505,0.545,0.43,0.445,0.49,0.415,0.46,0.45,0.47,0.485,0.555,0.46,0.425,0.495],[0.485,0.565,0.45,0.53,0.455,0.45,0.525,0.47,0.46,0.455,0.48,0.475,0.465,0.44,0.48,0.465,0.55,0.5,0.445,0.535,0.435,0.47,0.445,0.52,0.445],[0.485,0.495,0.465,0.52,0.565,0.48,0.47,0.435,0.495,0.49,0.5,0.545,0.45,0.435,0.455,0.485,0.51,0.515,0.405,0.515,0.495,0.455,0.515,0.535,0.485],[0.48,0.475,0.555,0.455,0.42,0.545,0.54,0.475,0.455,0.47,0.56,0.615,0.5,0.44,0.5,0.445,0.44,0.51,0.545,0.515,0.445,0.395,0.48,0.5,0.455],[0.465,0.465,0.515,0.465,0.51,0.535,0.445,0.52,0.555,0.555,0.525,0.43,0.49,0.425,0.49,0.395,0.555,0.46,0.485,0.55,0.545,0.445,0.515,0.545,0.47],[0.46,0.475,0.47,0.5,0.46,0.46,0.58,0.505,0.475,0.46,0.425,0.48,0.505,0.46,0.585,0.46,0.49,0.43,0.46,0.46,0.455,0.51,0.46,0.475,0.45],[0.455,0.4,0.47,0.445,0.495,0.5,0.46,0.505,0.46,0.46,0.44,0.46,0.48,0.45,0.525,0.56,0.415,0.505,0.51,0.465,0.5,0.45,0.525,0.43,0.505],[0.45,0.435,0.445,0.53,0.49,0.47,0.445,0.535,0.41,0.46,0.61,0.435,0.49,0.44,0.435,0.445,0.45,0.595,0.445,0.515,0.435,0.53,0.45,0.57,0.57],[0.445,0.45,0.47,0.42,0.445,0.43,0.385,0.4,0.525,0.435,0.435,0.505,0.455,0.43,0.44,0.5,0.525,0.51,0.435,0.455,0.465,0.465,0.445,0.46,0.575],[0.445,0.465,0.515,0.505,0.455,0.455,0.45,0.445,0.495,0.425,0.445,0.49,0.475,0.495,0.545,0.485,0.465,0.465,0.54,0.525,0.565,0.425,0.515,0.43,0.545],[0.44,0.49,0.555,0.555,0.47,0.46,0.445,0.44,0.425,0.57,0.44,0.45,0.425,0.44,0.445,0.455,0.48,0.505,0.545,0.455,0.515,0.505,0.365,0.455,0.455],[0.46,0.465,0.52,0.415,0.59,0.58,0.445,0.49,0.445,0.46,0.45,0.445,0.47,0.43,0.53,0.39,0.58,0.465,0.42,0.515,0.445,0.575,0.455,0.445,0.545],[0.44,0.455,0.47,0.435,0.55,0.445,0.495,0.445,0.475,0.45,0.46,0.45,0.415,0.45,0.465,0.46,0.49,0.45,0.45,0.44,0.445,0.515,0.525,0.485,0.515],[0.39,0.47,0.45,0.44,0.56,0.445,0.62,0.535,0.53,0.44,0.475,0.605,0.475,0.43,0.42,0.605,0.425,0.51,0.45,0.49,0.455,0.535,0.395,0.445,0.525],[0.44,0.46,0.445,0.445,0.545,0.44,0.43,0.435,0.52,0.435,0.49,0.46,0.535,0.525,0.45,0.46,0.475,0.43,0.47,0.575,0.395,0.52,0.51,0.465,0.59],[0.495,0.545,0.5,0.55,0.48,0.52,0.515,0.445,0.45,0.405,0.48,0.51,0.43,0.445,0.555,0.57,0.54,0.445,0.445,0.44,0.44,0.605,0.485,0.49,0.5],[0.45,0.51,0.53,0.525,0.455,0.515,0.4,0.54,0.59,0.585,0.565,0.54,0.445,0.45,0.44,0.455,0.41,0.45,0.435,0.495,0.445,0.415,0.52,0.445,0.555],[0.55,0.445,0.49,0.45,0.465,0.57,0.43,0.475,0.465,0.455,0.43,0.51,0.45,0.485,0.545,0.515,0.46,0.445,0.54,0.49,0.6,0.425,0.465,0.45,0.555],[0.37,0.515,0.565,0.455,0.435,0.525,0.555,0.535,0.575,0.48,0.55,0.43,0.455,0.45,0.425,0.5,0.475,0.495,0.435,0.44,0.415,0.555,0.445,0.555,0.475],[0.565,0.415,0.56,0.51,0.47,0.435,0.565,0.535,0.445,0.495,0.465,0.505,0.57,0.445,0.45,0.445,0.46,0.435,0.49,0.455,0.435,0.545,0.505,0.475,0.48],[0.5,0.495,0.565,0.555,0.485,0.425,0.5,0.435,0.555,0.435,0.46,0.515,0.5,0.485,0.585,0.545,0.45,0.43,0.55,0.44,0.47,0.475,0.57,0.545,0.55],[0.37,0.55,0.53,0.58,0.535,0.475,0.445,0.455,0.395,0.54,0.56,0.445,0.495,0.455,0.455,0.475,0.52,0.425,0.465,0.515,0.475,0.425,0.44,0.46,0.5],[0.49,0.455,0.44,0.48,0.485,0.425,0.565,0.48,0.485,0.51,0.545,0.45,0.46,0.575,0.565,0.44,0.43,0.555,0.56,0.535,0.44,0.605,0.425,0.445,0.47],[0.47,0.465,0.53,0.5,0.505,0.53,0.545,0.47,0.415,0.545,0.425,0.41,0.55,0.545,0.44,0.63,0.51,0.475,0.525,0.615,0.53,0.46,0.395,0.595,0.555],[0.605,0.435,0.47,0.57,0.535,0.59,0.485,0.445,0.585,0.45,0.48,0.475,0.425,0.445,0.53,0.59,0.435,0.54,0.55,0.555,0.555,0.51,0.465,0.42,0.45],[0.56,0.48,0.445,0.59,0.61,0.56,0.475,0.445,0.44,0.47,0.455,0.44,0.495,0.485,0.515,0.64,0.53,0.575,0.42,0.485,0.445,0.495,0.485,0.535,0.545],[0.495,0.575,0.525,0.535,0.44,0.445,0.495,0.425,0.39,0.49,0.545,0.53,0.44,0.59,0.525,0.435,0.485,0.57,0.445,0.55,0.45,0.445,0.45,0.495,0.44],[0.46,0.535,0.575,0.47,0.475,0.505,0.47,0.555,0.485,0.445,0.505,0.545,0.41,0.49,0.54,0.585,0.535,0.55,0.47,0.5,0.445,0.57,0.425,0.44,0.615],[0.54,0.44,0.515,0.515,0.445,0.465,0.445,0.445,0.535,0.475,0.445,0.54,0.565,0.62,0.565,0.475,0.485,0.505,0.55,0.475,0.425,0.425,0.58,0.53,0.425],[0.62,0.45,0.575,0.46,0.53,0.445,0.57,0.495,0.52,0.565,0.55,0.475,0.565,0.43,0.505,0.45,0.425,0.41,0.53,0.56,0.575,0.465,0.58,0.505,0.44],[0.525,0.46,0.495,0.485,0.44,0.555,0.555,0.545,0.515,0.545,0.48,0.485,0.44,0.435,0.475,0.575,0.535,0.51,0.535,0.485,0.445,0.44,0.48,0.515,0.44],[0.465,0.515,0.445,0.535,0.42,0.575,0.515,0.555,0.565,0.51,0.5,0.44,0.52,0.53,0.425,0.45,0.46,0.43,0.53,0.435,0.495,0.5,0.435,0.515,0.45],[0.56,0.475,0.48,0.47,0.515,0.5,0.5,0.6,0.465,0.53,0.445,0.475,0.57,0.4,0.495,0.57,0.475,0.47,0.525,0.445,0.445,0.48,0.475,0.435,0.525],[0.5,0.49,0.51,0.47,0.57,0.58,0.575,0.505,0.48,0.46,0.47,0.47,0.535,0.455,0.5,0.505,0.49,0.42,0.52,0.515,0.52,0.45,0.625,0.535,0.51],[0.445,0.465,0.57,0.545,0.52,0.54,0.55,0.495,0.515,0.53,0.54,0.505,0.565,0.435,0.48,0.45,0.435,0.445,0.525,0.495,0.495,0.425,0.555,0.51,0.51],[0.515,0.45,0.475,0.42,0.485,0.46,0.515,0.465,0.355,0.465,0.45,0.5,0.44,0.44,0.455,0.48,0.45,0.48,0.59,0.45,0.535,0.5,0.575,0.615,0.49],[0.47,0.4,0.48,0.415,0.535,0.54,0.43,0.435,0.52,0.52,0.43,0.565,0.545,0.54,0.495,0.445,0.475,0.53,0.58,0.48,0.535,0.475,0.47,0.49,0.505],[0.575,0.53,0.565,0.47,0.44,0.565,0.475,0.595,0.45,0.49,0.4,0.5,0.43,0.55,0.445,0.48,0.445,0.485,0.595,0.445,0.455,0.455,0.47,0.44,0.435]],\"type\":\"heatmap\",\"xaxis\":\"x\",\"yaxis\":\"y\",\"hovertemplate\":\"Heads (sorted): %{x}\\u003cbr\\u003eLayers: %{y}\\u003cbr\\u003ecolor: %{z}\\u003cextra\\u003e\\u003c\\u002fextra\\u003e\"}],                        {\"template\":{\"data\":{\"histogram2dcontour\":[{\"type\":\"histogram2dcontour\",\"colorbar\":{\"outlinewidth\":0,\"ticks\":\"\"},\"colorscale\":[[0.0,\"#0d0887\"],[0.1111111111111111,\"#46039f\"],[0.2222222222222222,\"#7201a8\"],[0.3333333333333333,\"#9c179e\"],[0.4444444444444444,\"#bd3786\"],[0.5555555555555556,\"#d8576b\"],[0.6666666666666666,\"#ed7953\"],[0.7777777777777778,\"#fb9f3a\"],[0.8888888888888888,\"#fdca26\"],[1.0,\"#f0f921\"]]}],\"choropleth\":[{\"type\":\"choropleth\",\"colorbar\":{\"outlinewidth\":0,\"ticks\":\"\"}}],\"histogram2d\":[{\"type\":\"histogram2d\",\"colorbar\":{\"outlinewidth\":0,\"ticks\":\"\"},\"colorscale\":[[0.0,\"#0d0887\"],[0.1111111111111111,\"#46039f\"],[0.2222222222222222,\"#7201a8\"],[0.3333333333333333,\"#9c179e\"],[0.4444444444444444,\"#bd3786\"],[0.5555555555555556,\"#d8576b\"],[0.6666666666666666,\"#ed7953\"],[0.7777777777777778,\"#fb9f3a\"],[0.8888888888888888,\"#fdca26\"],[1.0,\"#f0f921\"]]}],\"heatmap\":[{\"type\":\"heatmap\",\"colorbar\":{\"outlinewidth\":0,\"ticks\":\"\"},\"colorscale\":[[0.0,\"#0d0887\"],[0.1111111111111111,\"#46039f\"],[0.2222222222222222,\"#7201a8\"],[0.3333333333333333,\"#9c179e\"],[0.4444444444444444,\"#bd3786\"],[0.5555555555555556,\"#d8576b\"],[0.6666666666666666,\"#ed7953\"],[0.7777777777777778,\"#fb9f3a\"],[0.8888888888888888,\"#fdca26\"],[1.0,\"#f0f921\"]]}],\"heatmapgl\":[{\"type\":\"heatmapgl\",\"colorbar\":{\"outlinewidth\":0,\"ticks\":\"\"},\"colorscale\":[[0.0,\"#0d0887\"],[0.1111111111111111,\"#46039f\"],[0.2222222222222222,\"#7201a8\"],[0.3333333333333333,\"#9c179e\"],[0.4444444444444444,\"#bd3786\"],[0.5555555555555556,\"#d8576b\"],[0.6666666666666666,\"#ed7953\"],[0.7777777777777778,\"#fb9f3a\"],[0.8888888888888888,\"#fdca26\"],[1.0,\"#f0f921\"]]}],\"contourcarpet\":[{\"type\":\"contourcarpet\",\"colorbar\":{\"outlinewidth\":0,\"ticks\":\"\"}}],\"contour\":[{\"type\":\"contour\",\"colorbar\":{\"outlinewidth\":0,\"ticks\":\"\"},\"colorscale\":[[0.0,\"#0d0887\"],[0.1111111111111111,\"#46039f\"],[0.2222222222222222,\"#7201a8\"],[0.3333333333333333,\"#9c179e\"],[0.4444444444444444,\"#bd3786\"],[0.5555555555555556,\"#d8576b\"],[0.6666666666666666,\"#ed7953\"],[0.7777777777777778,\"#fb9f3a\"],[0.8888888888888888,\"#fdca26\"],[1.0,\"#f0f921\"]]}],\"surface\":[{\"type\":\"surface\",\"colorbar\":{\"outlinewidth\":0,\"ticks\":\"\"},\"colorscale\":[[0.0,\"#0d0887\"],[0.1111111111111111,\"#46039f\"],[0.2222222222222222,\"#7201a8\"],[0.3333333333333333,\"#9c179e\"],[0.4444444444444444,\"#bd3786\"],[0.5555555555555556,\"#d8576b\"],[0.6666666666666666,\"#ed7953\"],[0.7777777777777778,\"#fb9f3a\"],[0.8888888888888888,\"#fdca26\"],[1.0,\"#f0f921\"]]}],\"mesh3d\":[{\"type\":\"mesh3d\",\"colorbar\":{\"outlinewidth\":0,\"ticks\":\"\"}}],\"scatter\":[{\"fillpattern\":{\"fillmode\":\"overlay\",\"size\":10,\"solidity\":0.2},\"type\":\"scatter\"}],\"parcoords\":[{\"type\":\"parcoords\",\"line\":{\"colorbar\":{\"outlinewidth\":0,\"ticks\":\"\"}}}],\"scatterpolargl\":[{\"type\":\"scatterpolargl\",\"marker\":{\"colorbar\":{\"outlinewidth\":0,\"ticks\":\"\"}}}],\"bar\":[{\"error_x\":{\"color\":\"#2a3f5f\"},\"error_y\":{\"color\":\"#2a3f5f\"},\"marker\":{\"line\":{\"color\":\"#E5ECF6\",\"width\":0.5},\"pattern\":{\"fillmode\":\"overlay\",\"size\":10,\"solidity\":0.2}},\"type\":\"bar\"}],\"scattergeo\":[{\"type\":\"scattergeo\",\"marker\":{\"colorbar\":{\"outlinewidth\":0,\"ticks\":\"\"}}}],\"scatterpolar\":[{\"type\":\"scatterpolar\",\"marker\":{\"colorbar\":{\"outlinewidth\":0,\"ticks\":\"\"}}}],\"histogram\":[{\"marker\":{\"pattern\":{\"fillmode\":\"overlay\",\"size\":10,\"solidity\":0.2}},\"type\":\"histogram\"}],\"scattergl\":[{\"type\":\"scattergl\",\"marker\":{\"colorbar\":{\"outlinewidth\":0,\"ticks\":\"\"}}}],\"scatter3d\":[{\"type\":\"scatter3d\",\"line\":{\"colorbar\":{\"outlinewidth\":0,\"ticks\":\"\"}},\"marker\":{\"colorbar\":{\"outlinewidth\":0,\"ticks\":\"\"}}}],\"scattermapbox\":[{\"type\":\"scattermapbox\",\"marker\":{\"colorbar\":{\"outlinewidth\":0,\"ticks\":\"\"}}}],\"scatterternary\":[{\"type\":\"scatterternary\",\"marker\":{\"colorbar\":{\"outlinewidth\":0,\"ticks\":\"\"}}}],\"scattercarpet\":[{\"type\":\"scattercarpet\",\"marker\":{\"colorbar\":{\"outlinewidth\":0,\"ticks\":\"\"}}}],\"carpet\":[{\"aaxis\":{\"endlinecolor\":\"#2a3f5f\",\"gridcolor\":\"white\",\"linecolor\":\"white\",\"minorgridcolor\":\"white\",\"startlinecolor\":\"#2a3f5f\"},\"baxis\":{\"endlinecolor\":\"#2a3f5f\",\"gridcolor\":\"white\",\"linecolor\":\"white\",\"minorgridcolor\":\"white\",\"startlinecolor\":\"#2a3f5f\"},\"type\":\"carpet\"}],\"table\":[{\"cells\":{\"fill\":{\"color\":\"#EBF0F8\"},\"line\":{\"color\":\"white\"}},\"header\":{\"fill\":{\"color\":\"#C8D4E3\"},\"line\":{\"color\":\"white\"}},\"type\":\"table\"}],\"barpolar\":[{\"marker\":{\"line\":{\"color\":\"#E5ECF6\",\"width\":0.5},\"pattern\":{\"fillmode\":\"overlay\",\"size\":10,\"solidity\":0.2}},\"type\":\"barpolar\"}],\"pie\":[{\"automargin\":true,\"type\":\"pie\"}]},\"layout\":{\"autotypenumbers\":\"strict\",\"colorway\":[\"#636efa\",\"#EF553B\",\"#00cc96\",\"#ab63fa\",\"#FFA15A\",\"#19d3f3\",\"#FF6692\",\"#B6E880\",\"#FF97FF\",\"#FECB52\"],\"font\":{\"color\":\"#2a3f5f\"},\"hovermode\":\"closest\",\"hoverlabel\":{\"align\":\"left\"},\"paper_bgcolor\":\"white\",\"plot_bgcolor\":\"#E5ECF6\",\"polar\":{\"bgcolor\":\"#E5ECF6\",\"angularaxis\":{\"gridcolor\":\"white\",\"linecolor\":\"white\",\"ticks\":\"\"},\"radialaxis\":{\"gridcolor\":\"white\",\"linecolor\":\"white\",\"ticks\":\"\"}},\"ternary\":{\"bgcolor\":\"#E5ECF6\",\"aaxis\":{\"gridcolor\":\"white\",\"linecolor\":\"white\",\"ticks\":\"\"},\"baxis\":{\"gridcolor\":\"white\",\"linecolor\":\"white\",\"ticks\":\"\"},\"caxis\":{\"gridcolor\":\"white\",\"linecolor\":\"white\",\"ticks\":\"\"}},\"coloraxis\":{\"colorbar\":{\"outlinewidth\":0,\"ticks\":\"\"}},\"colorscale\":{\"sequential\":[[0.0,\"#0d0887\"],[0.1111111111111111,\"#46039f\"],[0.2222222222222222,\"#7201a8\"],[0.3333333333333333,\"#9c179e\"],[0.4444444444444444,\"#bd3786\"],[0.5555555555555556,\"#d8576b\"],[0.6666666666666666,\"#ed7953\"],[0.7777777777777778,\"#fb9f3a\"],[0.8888888888888888,\"#fdca26\"],[1.0,\"#f0f921\"]],\"sequentialminus\":[[0.0,\"#0d0887\"],[0.1111111111111111,\"#46039f\"],[0.2222222222222222,\"#7201a8\"],[0.3333333333333333,\"#9c179e\"],[0.4444444444444444,\"#bd3786\"],[0.5555555555555556,\"#d8576b\"],[0.6666666666666666,\"#ed7953\"],[0.7777777777777778,\"#fb9f3a\"],[0.8888888888888888,\"#fdca26\"],[1.0,\"#f0f921\"]],\"diverging\":[[0,\"#8e0152\"],[0.1,\"#c51b7d\"],[0.2,\"#de77ae\"],[0.3,\"#f1b6da\"],[0.4,\"#fde0ef\"],[0.5,\"#f7f7f7\"],[0.6,\"#e6f5d0\"],[0.7,\"#b8e186\"],[0.8,\"#7fbc41\"],[0.9,\"#4d9221\"],[1,\"#276419\"]]},\"xaxis\":{\"gridcolor\":\"white\",\"linecolor\":\"white\",\"ticks\":\"\",\"title\":{\"standoff\":15},\"zerolinecolor\":\"white\",\"automargin\":true,\"zerolinewidth\":2},\"yaxis\":{\"gridcolor\":\"white\",\"linecolor\":\"white\",\"ticks\":\"\",\"title\":{\"standoff\":15},\"zerolinecolor\":\"white\",\"automargin\":true,\"zerolinewidth\":2},\"scene\":{\"xaxis\":{\"backgroundcolor\":\"#E5ECF6\",\"gridcolor\":\"white\",\"linecolor\":\"white\",\"showbackground\":true,\"ticks\":\"\",\"zerolinecolor\":\"white\",\"gridwidth\":2},\"yaxis\":{\"backgroundcolor\":\"#E5ECF6\",\"gridcolor\":\"white\",\"linecolor\":\"white\",\"showbackground\":true,\"ticks\":\"\",\"zerolinecolor\":\"white\",\"gridwidth\":2},\"zaxis\":{\"backgroundcolor\":\"#E5ECF6\",\"gridcolor\":\"white\",\"linecolor\":\"white\",\"showbackground\":true,\"ticks\":\"\",\"zerolinecolor\":\"white\",\"gridwidth\":2}},\"shapedefaults\":{\"line\":{\"color\":\"#2a3f5f\"}},\"annotationdefaults\":{\"arrowcolor\":\"#2a3f5f\",\"arrowhead\":0,\"arrowwidth\":1},\"geo\":{\"bgcolor\":\"white\",\"landcolor\":\"#E5ECF6\",\"subunitcolor\":\"white\",\"showland\":true,\"showlakes\":true,\"lakecolor\":\"white\"},\"title\":{\"x\":0.05},\"mapbox\":{\"style\":\"light\"}}},\"xaxis\":{\"anchor\":\"y\",\"domain\":[0.0,1.0],\"scaleanchor\":\"y\",\"constrain\":\"domain\",\"title\":{\"text\":\"Heads (sorted)\"}},\"yaxis\":{\"anchor\":\"x\",\"domain\":[0.0,1.0],\"autorange\":true,\"constrain\":\"domain\",\"title\":{\"text\":\"Layers\"}},\"coloraxis\":{\"colorscale\":[[0.0,\"rgb(255,255,217)\"],[0.125,\"rgb(237,248,177)\"],[0.25,\"rgb(199,233,180)\"],[0.375,\"rgb(127,205,187)\"],[0.5,\"rgb(65,182,196)\"],[0.625,\"rgb(29,145,192)\"],[0.75,\"rgb(34,94,168)\"],[0.875,\"rgb(37,52,148)\"],[1.0,\"rgb(8,29,88)\"]],\"cmid\":0.5},\"title\":{\"text\":\"cfact probes on tqa data\"}},                        {\"responsive\": true}                    ).then(function(){\n",
       "                            \n",
       "var gd = document.getElementById('6c433576-bd7e-463f-a6c7-156b3cc02779');\n",
       "var x = new MutationObserver(function (mutations, observer) {{\n",
       "        var display = window.getComputedStyle(gd).display;\n",
       "        if (!display || display === 'none') {{\n",
       "            console.log([gd, 'removed!']);\n",
       "            Plotly.purge(gd);\n",
       "            observer.disconnect();\n",
       "        }}\n",
       "}});\n",
       "\n",
       "// Listen for the removal of the full notebook cells\n",
       "var notebookContainer = gd.closest('#notebook-container');\n",
       "if (notebookContainer) {{\n",
       "    x.observe(notebookContainer, {childList: true});\n",
       "}}\n",
       "\n",
       "// Listen for the clearing of the current output cell\n",
       "var outputEl = gd.closest('.output');\n",
       "if (outputEl) {{\n",
       "    x.observe(outputEl, {childList: true});\n",
       "}}\n",
       "\n",
       "                        })                };                });            </script>        </div>"
      ]
     },
     "metadata": {},
     "output_type": "display_data"
    },
    {
     "name": "stderr",
     "output_type": "stream",
     "text": [
      "1200it [00:00, 2481.90it/s]\n"
     ]
    },
    {
     "data": {
      "application/vnd.plotly.v1+json": {
       "config": {
        "plotlyServerURL": "https://plot.ly"
       },
       "data": [
        {
         "coloraxis": "coloraxis",
         "hovertemplate": "Heads (sorted): %{x}<br>Layers: %{y}<br>color: %{z}<extra></extra>",
         "name": "0",
         "type": "heatmap",
         "xaxis": "x",
         "yaxis": "y",
         "z": [
          [
           0.545,
           0.545,
           0.545,
           0.545,
           0.545,
           0.545,
           0.54,
           0.545,
           0.56,
           0.515,
           0.555,
           0.545,
           0.545,
           0.525,
           0.545,
           0.545,
           0.545,
           0.52,
           0.545,
           0.54,
           0.53,
           0.545,
           0.535,
           0.545,
           0.55
          ],
          [
           0.515,
           0.465,
           0.54,
           0.57,
           0.595,
           0.52,
           0.5,
           0.54,
           0.56,
           0.485,
           0.485,
           0.495,
           0.525,
           0.52,
           0.54,
           0.52,
           0.505,
           0.49,
           0.52,
           0.535,
           0.535,
           0.565,
           0.52,
           0.54,
           0.49
          ],
          [
           0.52,
           0.5,
           0.485,
           0.555,
           0.475,
           0.505,
           0.57,
           0.53,
           0.545,
           0.525,
           0.52,
           0.565,
           0.495,
           0.515,
           0.53,
           0.475,
           0.54,
           0.525,
           0.585,
           0.48,
           0.51,
           0.56,
           0.525,
           0.505,
           0.55
          ],
          [
           0.54,
           0.55,
           0.58,
           0.49,
           0.52,
           0.58,
           0.48,
           0.51,
           0.5,
           0.515,
           0.475,
           0.495,
           0.58,
           0.58,
           0.535,
           0.535,
           0.55,
           0.525,
           0.525,
           0.56,
           0.535,
           0.535,
           0.605,
           0.57,
           0.52
          ],
          [
           0.57,
           0.535,
           0.51,
           0.6,
           0.505,
           0.57,
           0.575,
           0.55,
           0.565,
           0.47,
           0.52,
           0.505,
           0.595,
           0.605,
           0.495,
           0.5,
           0.585,
           0.565,
           0.565,
           0.52,
           0.47,
           0.51,
           0.525,
           0.55,
           0.525
          ],
          [
           0.555,
           0.55,
           0.51,
           0.52,
           0.5,
           0.545,
           0.48,
           0.555,
           0.53,
           0.505,
           0.5,
           0.56,
           0.53,
           0.55,
           0.56,
           0.51,
           0.625,
           0.53,
           0.585,
           0.54,
           0.51,
           0.465,
           0.535,
           0.545,
           0.53
          ],
          [
           0.49,
           0.575,
           0.5,
           0.555,
           0.525,
           0.56,
           0.51,
           0.505,
           0.58,
           0.555,
           0.555,
           0.525,
           0.555,
           0.585,
           0.56,
           0.5,
           0.495,
           0.535,
           0.535,
           0.5,
           0.535,
           0.46,
           0.545,
           0.545,
           0.535
          ],
          [
           0.505,
           0.535,
           0.53,
           0.54,
           0.495,
           0.49,
           0.615,
           0.58,
           0.505,
           0.485,
           0.59,
           0.625,
           0.51,
           0.515,
           0.57,
           0.63,
           0.525,
           0.545,
           0.57,
           0.52,
           0.53,
           0.565,
           0.535,
           0.585,
           0.495
          ],
          [
           0.465,
           0.58,
           0.475,
           0.535,
           0.52,
           0.595,
           0.58,
           0.46,
           0.505,
           0.565,
           0.525,
           0.54,
           0.6,
           0.545,
           0.555,
           0.68,
           0.545,
           0.475,
           0.515,
           0.58,
           0.535,
           0.525,
           0.545,
           0.585,
           0.545
          ],
          [
           0.56,
           0.535,
           0.51,
           0.525,
           0.575,
           0.515,
           0.58,
           0.51,
           0.575,
           0.53,
           0.525,
           0.535,
           0.585,
           0.55,
           0.5,
           0.53,
           0.585,
           0.59,
           0.605,
           0.54,
           0.57,
           0.53,
           0.505,
           0.53,
           0.52
          ],
          [
           0.525,
           0.54,
           0.535,
           0.53,
           0.505,
           0.63,
           0.535,
           0.525,
           0.58,
           0.525,
           0.545,
           0.475,
           0.55,
           0.555,
           0.52,
           0.605,
           0.51,
           0.525,
           0.54,
           0.59,
           0.56,
           0.545,
           0.585,
           0.49,
           0.565
          ],
          [
           0.57,
           0.57,
           0.535,
           0.56,
           0.52,
           0.515,
           0.505,
           0.525,
           0.535,
           0.62,
           0.5,
           0.475,
           0.58,
           0.605,
           0.505,
           0.5,
           0.535,
           0.585,
           0.535,
           0.57,
           0.53,
           0.62,
           0.52,
           0.545,
           0.565
          ],
          [
           0.56,
           0.5,
           0.575,
           0.515,
           0.56,
           0.545,
           0.565,
           0.53,
           0.55,
           0.625,
           0.595,
           0.65,
           0.535,
           0.58,
           0.525,
           0.49,
           0.59,
           0.555,
           0.535,
           0.575,
           0.565,
           0.49,
           0.49,
           0.545,
           0.545
          ],
          [
           0.51,
           0.475,
           0.565,
           0.55,
           0.555,
           0.57,
           0.5,
           0.49,
           0.595,
           0.645,
           0.605,
           0.57,
           0.53,
           0.545,
           0.55,
           0.57,
           0.525,
           0.485,
           0.51,
           0.53,
           0.515,
           0.555,
           0.53,
           0.61,
           0.56
          ],
          [
           0.575,
           0.525,
           0.625,
           0.535,
           0.56,
           0.565,
           0.565,
           0.5,
           0.555,
           0.535,
           0.53,
           0.545,
           0.515,
           0.545,
           0.555,
           0.54,
           0.585,
           0.575,
           0.55,
           0.65,
           0.465,
           0.585,
           0.57,
           0.525,
           0.56
          ],
          [
           0.65,
           0.635,
           0.555,
           0.565,
           0.555,
           0.53,
           0.54,
           0.475,
           0.53,
           0.53,
           0.52,
           0.535,
           0.57,
           0.595,
           0.53,
           0.585,
           0.535,
           0.585,
           0.505,
           0.505,
           0.55,
           0.565,
           0.535,
           0.565,
           0.535
          ],
          [
           0.595,
           0.54,
           0.54,
           0.495,
           0.455,
           0.515,
           0.48,
           0.605,
           0.575,
           0.575,
           0.54,
           0.585,
           0.48,
           0.58,
           0.545,
           0.54,
           0.645,
           0.605,
           0.515,
           0.535,
           0.515,
           0.545,
           0.515,
           0.63,
           0.585
          ],
          [
           0.56,
           0.545,
           0.615,
           0.545,
           0.635,
           0.58,
           0.535,
           0.56,
           0.545,
           0.485,
           0.565,
           0.565,
           0.55,
           0.57,
           0.55,
           0.51,
           0.58,
           0.555,
           0.495,
           0.65,
           0.53,
           0.49,
           0.54,
           0.62,
           0.585
          ],
          [
           0.52,
           0.545,
           0.575,
           0.61,
           0.585,
           0.605,
           0.545,
           0.475,
           0.65,
           0.59,
           0.56,
           0.55,
           0.475,
           0.535,
           0.555,
           0.53,
           0.61,
           0.525,
           0.595,
           0.595,
           0.56,
           0.605,
           0.57,
           0.49,
           0.56
          ],
          [
           0.63,
           0.61,
           0.575,
           0.49,
           0.525,
           0.575,
           0.535,
           0.565,
           0.575,
           0.57,
           0.595,
           0.505,
           0.49,
           0.62,
           0.6,
           0.575,
           0.535,
           0.615,
           0.555,
           0.48,
           0.595,
           0.62,
           0.5,
           0.59,
           0.58
          ],
          [
           0.53,
           0.57,
           0.545,
           0.635,
           0.58,
           0.605,
           0.64,
           0.57,
           0.515,
           0.52,
           0.565,
           0.645,
           0.53,
           0.54,
           0.64,
           0.61,
           0.575,
           0.515,
           0.635,
           0.565,
           0.5,
           0.675,
           0.56,
           0.585,
           0.54
          ],
          [
           0.445,
           0.54,
           0.51,
           0.54,
           0.605,
           0.535,
           0.515,
           0.545,
           0.59,
           0.5,
           0.59,
           0.515,
           0.6,
           0.595,
           0.67,
           0.61,
           0.59,
           0.625,
           0.56,
           0.59,
           0.6,
           0.54,
           0.645,
           0.605,
           0.52
          ],
          [
           0.53,
           0.515,
           0.53,
           0.52,
           0.52,
           0.49,
           0.49,
           0.56,
           0.58,
           0.545,
           0.55,
           0.53,
           0.605,
           0.535,
           0.505,
           0.565,
           0.635,
           0.595,
           0.53,
           0.525,
           0.57,
           0.555,
           0.475,
           0.54,
           0.595
          ],
          [
           0.62,
           0.495,
           0.565,
           0.5,
           0.595,
           0.525,
           0.57,
           0.575,
           0.535,
           0.52,
           0.55,
           0.605,
           0.56,
           0.6,
           0.545,
           0.56,
           0.545,
           0.56,
           0.6,
           0.515,
           0.65,
           0.57,
           0.46,
           0.585,
           0.525
          ],
          [
           0.55,
           0.535,
           0.56,
           0.545,
           0.505,
           0.485,
           0.62,
           0.505,
           0.58,
           0.59,
           0.52,
           0.6,
           0.545,
           0.48,
           0.525,
           0.5,
           0.5,
           0.525,
           0.585,
           0.6,
           0.615,
           0.59,
           0.605,
           0.53,
           0.515
          ],
          [
           0.51,
           0.595,
           0.6,
           0.515,
           0.595,
           0.565,
           0.6,
           0.48,
           0.595,
           0.57,
           0.59,
           0.535,
           0.57,
           0.53,
           0.57,
           0.535,
           0.53,
           0.59,
           0.49,
           0.53,
           0.52,
           0.545,
           0.545,
           0.555,
           0.625
          ],
          [
           0.54,
           0.55,
           0.53,
           0.565,
           0.5,
           0.58,
           0.53,
           0.565,
           0.5,
           0.48,
           0.57,
           0.595,
           0.59,
           0.525,
           0.55,
           0.545,
           0.555,
           0.51,
           0.55,
           0.545,
           0.52,
           0.47,
           0.56,
           0.525,
           0.58
          ],
          [
           0.545,
           0.555,
           0.57,
           0.52,
           0.5,
           0.53,
           0.515,
           0.52,
           0.51,
           0.585,
           0.535,
           0.5,
           0.565,
           0.515,
           0.47,
           0.54,
           0.47,
           0.555,
           0.5,
           0.58,
           0.515,
           0.56,
           0.585,
           0.54,
           0.625
          ],
          [
           0.515,
           0.585,
           0.56,
           0.505,
           0.55,
           0.54,
           0.565,
           0.55,
           0.545,
           0.49,
           0.58,
           0.505,
           0.595,
           0.505,
           0.51,
           0.525,
           0.49,
           0.49,
           0.575,
           0.57,
           0.525,
           0.575,
           0.575,
           0.64,
           0.57
          ],
          [
           0.575,
           0.54,
           0.505,
           0.54,
           0.585,
           0.515,
           0.51,
           0.585,
           0.605,
           0.545,
           0.53,
           0.55,
           0.575,
           0.595,
           0.55,
           0.54,
           0.57,
           0.575,
           0.505,
           0.545,
           0.53,
           0.605,
           0.595,
           0.6,
           0.585
          ],
          [
           0.53,
           0.515,
           0.535,
           0.575,
           0.615,
           0.61,
           0.595,
           0.595,
           0.545,
           0.59,
           0.58,
           0.625,
           0.56,
           0.565,
           0.61,
           0.545,
           0.525,
           0.525,
           0.565,
           0.53,
           0.55,
           0.5,
           0.575,
           0.49,
           0.495
          ],
          [
           0.525,
           0.535,
           0.49,
           0.58,
           0.57,
           0.635,
           0.54,
           0.585,
           0.535,
           0.53,
           0.575,
           0.525,
           0.58,
           0.485,
           0.565,
           0.55,
           0.575,
           0.485,
           0.485,
           0.52,
           0.63,
           0.535,
           0.565,
           0.54,
           0.575
          ],
          [
           0.55,
           0.51,
           0.53,
           0.53,
           0.555,
           0.52,
           0.565,
           0.57,
           0.545,
           0.525,
           0.47,
           0.49,
           0.505,
           0.545,
           0.605,
           0.49,
           0.64,
           0.49,
           0.53,
           0.565,
           0.545,
           0.46,
           0.53,
           0.56,
           0.555
          ],
          [
           0.51,
           0.51,
           0.515,
           0.475,
           0.545,
           0.55,
           0.53,
           0.58,
           0.595,
           0.53,
           0.51,
           0.555,
           0.505,
           0.53,
           0.57,
           0.575,
           0.535,
           0.6,
           0.51,
           0.515,
           0.56,
           0.54,
           0.59,
           0.495,
           0.565
          ],
          [
           0.515,
           0.64,
           0.51,
           0.535,
           0.515,
           0.485,
           0.57,
           0.585,
           0.56,
           0.6,
           0.55,
           0.555,
           0.555,
           0.535,
           0.535,
           0.51,
           0.555,
           0.535,
           0.545,
           0.55,
           0.525,
           0.535,
           0.53,
           0.575,
           0.5
          ],
          [
           0.595,
           0.53,
           0.51,
           0.57,
           0.52,
           0.495,
           0.5,
           0.525,
           0.54,
           0.55,
           0.49,
           0.465,
           0.52,
           0.57,
           0.5,
           0.535,
           0.555,
           0.485,
           0.48,
           0.55,
           0.6,
           0.49,
           0.535,
           0.545,
           0.53
          ],
          [
           0.565,
           0.61,
           0.515,
           0.555,
           0.555,
           0.53,
           0.56,
           0.51,
           0.485,
           0.42,
           0.535,
           0.55,
           0.53,
           0.505,
           0.475,
           0.52,
           0.555,
           0.53,
           0.505,
           0.525,
           0.525,
           0.53,
           0.545,
           0.5,
           0.55
          ],
          [
           0.525,
           0.495,
           0.575,
           0.545,
           0.565,
           0.53,
           0.495,
           0.475,
           0.535,
           0.62,
           0.55,
           0.535,
           0.6,
           0.52,
           0.52,
           0.525,
           0.555,
           0.57,
           0.535,
           0.48,
           0.6,
           0.52,
           0.545,
           0.435,
           0.58
          ],
          [
           0.515,
           0.57,
           0.53,
           0.505,
           0.545,
           0.51,
           0.51,
           0.535,
           0.47,
           0.525,
           0.545,
           0.535,
           0.535,
           0.555,
           0.55,
           0.49,
           0.5,
           0.545,
           0.53,
           0.525,
           0.525,
           0.465,
           0.515,
           0.52,
           0.52
          ],
          [
           0.62,
           0.565,
           0.54,
           0.545,
           0.51,
           0.485,
           0.53,
           0.615,
           0.535,
           0.59,
           0.535,
           0.57,
           0.52,
           0.515,
           0.52,
           0.52,
           0.55,
           0.475,
           0.545,
           0.49,
           0.54,
           0.525,
           0.46,
           0.5,
           0.495
          ],
          [
           0.52,
           0.495,
           0.54,
           0.53,
           0.525,
           0.53,
           0.53,
           0.57,
           0.5,
           0.56,
           0.52,
           0.52,
           0.565,
           0.51,
           0.505,
           0.48,
           0.52,
           0.485,
           0.53,
           0.53,
           0.57,
           0.445,
           0.52,
           0.545,
           0.525
          ],
          [
           0.555,
           0.56,
           0.55,
           0.45,
           0.505,
           0.46,
           0.51,
           0.53,
           0.52,
           0.49,
           0.565,
           0.465,
           0.565,
           0.525,
           0.485,
           0.51,
           0.555,
           0.515,
           0.56,
           0.525,
           0.505,
           0.495,
           0.575,
           0.5,
           0.495
          ],
          [
           0.51,
           0.545,
           0.535,
           0.55,
           0.57,
           0.53,
           0.46,
           0.49,
           0.56,
           0.545,
           0.53,
           0.505,
           0.615,
           0.535,
           0.53,
           0.53,
           0.47,
           0.57,
           0.48,
           0.535,
           0.515,
           0.525,
           0.47,
           0.555,
           0.545
          ],
          [
           0.53,
           0.555,
           0.515,
           0.545,
           0.565,
           0.485,
           0.56,
           0.52,
           0.485,
           0.53,
           0.51,
           0.51,
           0.52,
           0.59,
           0.465,
           0.575,
           0.48,
           0.49,
           0.555,
           0.55,
           0.545,
           0.555,
           0.525,
           0.535,
           0.465
          ],
          [
           0.555,
           0.55,
           0.555,
           0.515,
           0.525,
           0.525,
           0.545,
           0.51,
           0.505,
           0.515,
           0.5,
           0.52,
           0.565,
           0.525,
           0.465,
           0.52,
           0.52,
           0.56,
           0.54,
           0.47,
           0.57,
           0.515,
           0.545,
           0.495,
           0.55
          ],
          [
           0.53,
           0.525,
           0.515,
           0.56,
           0.5,
           0.495,
           0.58,
           0.48,
           0.565,
           0.51,
           0.57,
           0.505,
           0.52,
           0.51,
           0.55,
           0.53,
           0.57,
           0.505,
           0.475,
           0.53,
           0.54,
           0.57,
           0.53,
           0.505,
           0.5
          ],
          [
           0.53,
           0.545,
           0.475,
           0.59,
           0.52,
           0.54,
           0.555,
           0.505,
           0.56,
           0.585,
           0.515,
           0.45,
           0.53,
           0.54,
           0.55,
           0.55,
           0.57,
           0.53,
           0.535,
           0.45,
           0.545,
           0.54,
           0.545,
           0.555,
           0.48
          ],
          [
           0.535,
           0.53,
           0.56,
           0.545,
           0.59,
           0.53,
           0.54,
           0.55,
           0.5,
           0.53,
           0.5,
           0.47,
           0.52,
           0.54,
           0.56,
           0.475,
           0.505,
           0.575,
           0.5,
           0.5,
           0.485,
           0.53,
           0.515,
           0.54,
           0.575
          ]
         ]
        }
       ],
       "layout": {
        "coloraxis": {
         "cmid": 0.5,
         "colorscale": [
          [
           0,
           "rgb(255,255,217)"
          ],
          [
           0.125,
           "rgb(237,248,177)"
          ],
          [
           0.25,
           "rgb(199,233,180)"
          ],
          [
           0.375,
           "rgb(127,205,187)"
          ],
          [
           0.5,
           "rgb(65,182,196)"
          ],
          [
           0.625,
           "rgb(29,145,192)"
          ],
          [
           0.75,
           "rgb(34,94,168)"
          ],
          [
           0.875,
           "rgb(37,52,148)"
          ],
          [
           1,
           "rgb(8,29,88)"
          ]
         ]
        },
        "template": {
         "data": {
          "bar": [
           {
            "error_x": {
             "color": "#2a3f5f"
            },
            "error_y": {
             "color": "#2a3f5f"
            },
            "marker": {
             "line": {
              "color": "#E5ECF6",
              "width": 0.5
             },
             "pattern": {
              "fillmode": "overlay",
              "size": 10,
              "solidity": 0.2
             }
            },
            "type": "bar"
           }
          ],
          "barpolar": [
           {
            "marker": {
             "line": {
              "color": "#E5ECF6",
              "width": 0.5
             },
             "pattern": {
              "fillmode": "overlay",
              "size": 10,
              "solidity": 0.2
             }
            },
            "type": "barpolar"
           }
          ],
          "carpet": [
           {
            "aaxis": {
             "endlinecolor": "#2a3f5f",
             "gridcolor": "white",
             "linecolor": "white",
             "minorgridcolor": "white",
             "startlinecolor": "#2a3f5f"
            },
            "baxis": {
             "endlinecolor": "#2a3f5f",
             "gridcolor": "white",
             "linecolor": "white",
             "minorgridcolor": "white",
             "startlinecolor": "#2a3f5f"
            },
            "type": "carpet"
           }
          ],
          "choropleth": [
           {
            "colorbar": {
             "outlinewidth": 0,
             "ticks": ""
            },
            "type": "choropleth"
           }
          ],
          "contour": [
           {
            "colorbar": {
             "outlinewidth": 0,
             "ticks": ""
            },
            "colorscale": [
             [
              0,
              "#0d0887"
             ],
             [
              0.1111111111111111,
              "#46039f"
             ],
             [
              0.2222222222222222,
              "#7201a8"
             ],
             [
              0.3333333333333333,
              "#9c179e"
             ],
             [
              0.4444444444444444,
              "#bd3786"
             ],
             [
              0.5555555555555556,
              "#d8576b"
             ],
             [
              0.6666666666666666,
              "#ed7953"
             ],
             [
              0.7777777777777778,
              "#fb9f3a"
             ],
             [
              0.8888888888888888,
              "#fdca26"
             ],
             [
              1,
              "#f0f921"
             ]
            ],
            "type": "contour"
           }
          ],
          "contourcarpet": [
           {
            "colorbar": {
             "outlinewidth": 0,
             "ticks": ""
            },
            "type": "contourcarpet"
           }
          ],
          "heatmap": [
           {
            "colorbar": {
             "outlinewidth": 0,
             "ticks": ""
            },
            "colorscale": [
             [
              0,
              "#0d0887"
             ],
             [
              0.1111111111111111,
              "#46039f"
             ],
             [
              0.2222222222222222,
              "#7201a8"
             ],
             [
              0.3333333333333333,
              "#9c179e"
             ],
             [
              0.4444444444444444,
              "#bd3786"
             ],
             [
              0.5555555555555556,
              "#d8576b"
             ],
             [
              0.6666666666666666,
              "#ed7953"
             ],
             [
              0.7777777777777778,
              "#fb9f3a"
             ],
             [
              0.8888888888888888,
              "#fdca26"
             ],
             [
              1,
              "#f0f921"
             ]
            ],
            "type": "heatmap"
           }
          ],
          "heatmapgl": [
           {
            "colorbar": {
             "outlinewidth": 0,
             "ticks": ""
            },
            "colorscale": [
             [
              0,
              "#0d0887"
             ],
             [
              0.1111111111111111,
              "#46039f"
             ],
             [
              0.2222222222222222,
              "#7201a8"
             ],
             [
              0.3333333333333333,
              "#9c179e"
             ],
             [
              0.4444444444444444,
              "#bd3786"
             ],
             [
              0.5555555555555556,
              "#d8576b"
             ],
             [
              0.6666666666666666,
              "#ed7953"
             ],
             [
              0.7777777777777778,
              "#fb9f3a"
             ],
             [
              0.8888888888888888,
              "#fdca26"
             ],
             [
              1,
              "#f0f921"
             ]
            ],
            "type": "heatmapgl"
           }
          ],
          "histogram": [
           {
            "marker": {
             "pattern": {
              "fillmode": "overlay",
              "size": 10,
              "solidity": 0.2
             }
            },
            "type": "histogram"
           }
          ],
          "histogram2d": [
           {
            "colorbar": {
             "outlinewidth": 0,
             "ticks": ""
            },
            "colorscale": [
             [
              0,
              "#0d0887"
             ],
             [
              0.1111111111111111,
              "#46039f"
             ],
             [
              0.2222222222222222,
              "#7201a8"
             ],
             [
              0.3333333333333333,
              "#9c179e"
             ],
             [
              0.4444444444444444,
              "#bd3786"
             ],
             [
              0.5555555555555556,
              "#d8576b"
             ],
             [
              0.6666666666666666,
              "#ed7953"
             ],
             [
              0.7777777777777778,
              "#fb9f3a"
             ],
             [
              0.8888888888888888,
              "#fdca26"
             ],
             [
              1,
              "#f0f921"
             ]
            ],
            "type": "histogram2d"
           }
          ],
          "histogram2dcontour": [
           {
            "colorbar": {
             "outlinewidth": 0,
             "ticks": ""
            },
            "colorscale": [
             [
              0,
              "#0d0887"
             ],
             [
              0.1111111111111111,
              "#46039f"
             ],
             [
              0.2222222222222222,
              "#7201a8"
             ],
             [
              0.3333333333333333,
              "#9c179e"
             ],
             [
              0.4444444444444444,
              "#bd3786"
             ],
             [
              0.5555555555555556,
              "#d8576b"
             ],
             [
              0.6666666666666666,
              "#ed7953"
             ],
             [
              0.7777777777777778,
              "#fb9f3a"
             ],
             [
              0.8888888888888888,
              "#fdca26"
             ],
             [
              1,
              "#f0f921"
             ]
            ],
            "type": "histogram2dcontour"
           }
          ],
          "mesh3d": [
           {
            "colorbar": {
             "outlinewidth": 0,
             "ticks": ""
            },
            "type": "mesh3d"
           }
          ],
          "parcoords": [
           {
            "line": {
             "colorbar": {
              "outlinewidth": 0,
              "ticks": ""
             }
            },
            "type": "parcoords"
           }
          ],
          "pie": [
           {
            "automargin": true,
            "type": "pie"
           }
          ],
          "scatter": [
           {
            "fillpattern": {
             "fillmode": "overlay",
             "size": 10,
             "solidity": 0.2
            },
            "type": "scatter"
           }
          ],
          "scatter3d": [
           {
            "line": {
             "colorbar": {
              "outlinewidth": 0,
              "ticks": ""
             }
            },
            "marker": {
             "colorbar": {
              "outlinewidth": 0,
              "ticks": ""
             }
            },
            "type": "scatter3d"
           }
          ],
          "scattercarpet": [
           {
            "marker": {
             "colorbar": {
              "outlinewidth": 0,
              "ticks": ""
             }
            },
            "type": "scattercarpet"
           }
          ],
          "scattergeo": [
           {
            "marker": {
             "colorbar": {
              "outlinewidth": 0,
              "ticks": ""
             }
            },
            "type": "scattergeo"
           }
          ],
          "scattergl": [
           {
            "marker": {
             "colorbar": {
              "outlinewidth": 0,
              "ticks": ""
             }
            },
            "type": "scattergl"
           }
          ],
          "scattermapbox": [
           {
            "marker": {
             "colorbar": {
              "outlinewidth": 0,
              "ticks": ""
             }
            },
            "type": "scattermapbox"
           }
          ],
          "scatterpolar": [
           {
            "marker": {
             "colorbar": {
              "outlinewidth": 0,
              "ticks": ""
             }
            },
            "type": "scatterpolar"
           }
          ],
          "scatterpolargl": [
           {
            "marker": {
             "colorbar": {
              "outlinewidth": 0,
              "ticks": ""
             }
            },
            "type": "scatterpolargl"
           }
          ],
          "scatterternary": [
           {
            "marker": {
             "colorbar": {
              "outlinewidth": 0,
              "ticks": ""
             }
            },
            "type": "scatterternary"
           }
          ],
          "surface": [
           {
            "colorbar": {
             "outlinewidth": 0,
             "ticks": ""
            },
            "colorscale": [
             [
              0,
              "#0d0887"
             ],
             [
              0.1111111111111111,
              "#46039f"
             ],
             [
              0.2222222222222222,
              "#7201a8"
             ],
             [
              0.3333333333333333,
              "#9c179e"
             ],
             [
              0.4444444444444444,
              "#bd3786"
             ],
             [
              0.5555555555555556,
              "#d8576b"
             ],
             [
              0.6666666666666666,
              "#ed7953"
             ],
             [
              0.7777777777777778,
              "#fb9f3a"
             ],
             [
              0.8888888888888888,
              "#fdca26"
             ],
             [
              1,
              "#f0f921"
             ]
            ],
            "type": "surface"
           }
          ],
          "table": [
           {
            "cells": {
             "fill": {
              "color": "#EBF0F8"
             },
             "line": {
              "color": "white"
             }
            },
            "header": {
             "fill": {
              "color": "#C8D4E3"
             },
             "line": {
              "color": "white"
             }
            },
            "type": "table"
           }
          ]
         },
         "layout": {
          "annotationdefaults": {
           "arrowcolor": "#2a3f5f",
           "arrowhead": 0,
           "arrowwidth": 1
          },
          "autotypenumbers": "strict",
          "coloraxis": {
           "colorbar": {
            "outlinewidth": 0,
            "ticks": ""
           }
          },
          "colorscale": {
           "diverging": [
            [
             0,
             "#8e0152"
            ],
            [
             0.1,
             "#c51b7d"
            ],
            [
             0.2,
             "#de77ae"
            ],
            [
             0.3,
             "#f1b6da"
            ],
            [
             0.4,
             "#fde0ef"
            ],
            [
             0.5,
             "#f7f7f7"
            ],
            [
             0.6,
             "#e6f5d0"
            ],
            [
             0.7,
             "#b8e186"
            ],
            [
             0.8,
             "#7fbc41"
            ],
            [
             0.9,
             "#4d9221"
            ],
            [
             1,
             "#276419"
            ]
           ],
           "sequential": [
            [
             0,
             "#0d0887"
            ],
            [
             0.1111111111111111,
             "#46039f"
            ],
            [
             0.2222222222222222,
             "#7201a8"
            ],
            [
             0.3333333333333333,
             "#9c179e"
            ],
            [
             0.4444444444444444,
             "#bd3786"
            ],
            [
             0.5555555555555556,
             "#d8576b"
            ],
            [
             0.6666666666666666,
             "#ed7953"
            ],
            [
             0.7777777777777778,
             "#fb9f3a"
            ],
            [
             0.8888888888888888,
             "#fdca26"
            ],
            [
             1,
             "#f0f921"
            ]
           ],
           "sequentialminus": [
            [
             0,
             "#0d0887"
            ],
            [
             0.1111111111111111,
             "#46039f"
            ],
            [
             0.2222222222222222,
             "#7201a8"
            ],
            [
             0.3333333333333333,
             "#9c179e"
            ],
            [
             0.4444444444444444,
             "#bd3786"
            ],
            [
             0.5555555555555556,
             "#d8576b"
            ],
            [
             0.6666666666666666,
             "#ed7953"
            ],
            [
             0.7777777777777778,
             "#fb9f3a"
            ],
            [
             0.8888888888888888,
             "#fdca26"
            ],
            [
             1,
             "#f0f921"
            ]
           ]
          },
          "colorway": [
           "#636efa",
           "#EF553B",
           "#00cc96",
           "#ab63fa",
           "#FFA15A",
           "#19d3f3",
           "#FF6692",
           "#B6E880",
           "#FF97FF",
           "#FECB52"
          ],
          "font": {
           "color": "#2a3f5f"
          },
          "geo": {
           "bgcolor": "white",
           "lakecolor": "white",
           "landcolor": "#E5ECF6",
           "showlakes": true,
           "showland": true,
           "subunitcolor": "white"
          },
          "hoverlabel": {
           "align": "left"
          },
          "hovermode": "closest",
          "mapbox": {
           "style": "light"
          },
          "paper_bgcolor": "white",
          "plot_bgcolor": "#E5ECF6",
          "polar": {
           "angularaxis": {
            "gridcolor": "white",
            "linecolor": "white",
            "ticks": ""
           },
           "bgcolor": "#E5ECF6",
           "radialaxis": {
            "gridcolor": "white",
            "linecolor": "white",
            "ticks": ""
           }
          },
          "scene": {
           "xaxis": {
            "backgroundcolor": "#E5ECF6",
            "gridcolor": "white",
            "gridwidth": 2,
            "linecolor": "white",
            "showbackground": true,
            "ticks": "",
            "zerolinecolor": "white"
           },
           "yaxis": {
            "backgroundcolor": "#E5ECF6",
            "gridcolor": "white",
            "gridwidth": 2,
            "linecolor": "white",
            "showbackground": true,
            "ticks": "",
            "zerolinecolor": "white"
           },
           "zaxis": {
            "backgroundcolor": "#E5ECF6",
            "gridcolor": "white",
            "gridwidth": 2,
            "linecolor": "white",
            "showbackground": true,
            "ticks": "",
            "zerolinecolor": "white"
           }
          },
          "shapedefaults": {
           "line": {
            "color": "#2a3f5f"
           }
          },
          "ternary": {
           "aaxis": {
            "gridcolor": "white",
            "linecolor": "white",
            "ticks": ""
           },
           "baxis": {
            "gridcolor": "white",
            "linecolor": "white",
            "ticks": ""
           },
           "bgcolor": "#E5ECF6",
           "caxis": {
            "gridcolor": "white",
            "linecolor": "white",
            "ticks": ""
           }
          },
          "title": {
           "x": 0.05
          },
          "xaxis": {
           "automargin": true,
           "gridcolor": "white",
           "linecolor": "white",
           "ticks": "",
           "title": {
            "standoff": 15
           },
           "zerolinecolor": "white",
           "zerolinewidth": 2
          },
          "yaxis": {
           "automargin": true,
           "gridcolor": "white",
           "linecolor": "white",
           "ticks": "",
           "title": {
            "standoff": 15
           },
           "zerolinecolor": "white",
           "zerolinewidth": 2
          }
         }
        },
        "title": {
         "text": "cfact probes on cfact data"
        },
        "xaxis": {
         "anchor": "y",
         "constrain": "domain",
         "domain": [
          0,
          1
         ],
         "scaleanchor": "y",
         "title": {
          "text": "Heads (sorted)"
         }
        },
        "yaxis": {
         "anchor": "x",
         "autorange": true,
         "constrain": "domain",
         "domain": [
          0,
          1
         ],
         "title": {
          "text": "Layers"
         }
        }
       }
      },
      "text/html": [
       "<div>                            <div id=\"f7d7de12-c064-452a-a6bf-c6c7c07625ef\" class=\"plotly-graph-div\" style=\"height:525px; width:100%;\"></div>            <script type=\"text/javascript\">                require([\"plotly\"], function(Plotly) {                    window.PLOTLYENV=window.PLOTLYENV || {};                                    if (document.getElementById(\"f7d7de12-c064-452a-a6bf-c6c7c07625ef\")) {                    Plotly.newPlot(                        \"f7d7de12-c064-452a-a6bf-c6c7c07625ef\",                        [{\"coloraxis\":\"coloraxis\",\"name\":\"0\",\"z\":[[0.545,0.545,0.545,0.545,0.545,0.545,0.54,0.545,0.56,0.515,0.555,0.545,0.545,0.525,0.545,0.545,0.545,0.52,0.545,0.54,0.53,0.545,0.535,0.545,0.55],[0.515,0.465,0.54,0.57,0.595,0.52,0.5,0.54,0.56,0.485,0.485,0.495,0.525,0.52,0.54,0.52,0.505,0.49,0.52,0.535,0.535,0.565,0.52,0.54,0.49],[0.52,0.5,0.485,0.555,0.475,0.505,0.57,0.53,0.545,0.525,0.52,0.565,0.495,0.515,0.53,0.475,0.54,0.525,0.585,0.48,0.51,0.56,0.525,0.505,0.55],[0.54,0.55,0.58,0.49,0.52,0.58,0.48,0.51,0.5,0.515,0.475,0.495,0.58,0.58,0.535,0.535,0.55,0.525,0.525,0.56,0.535,0.535,0.605,0.57,0.52],[0.57,0.535,0.51,0.6,0.505,0.57,0.575,0.55,0.565,0.47,0.52,0.505,0.595,0.605,0.495,0.5,0.585,0.565,0.565,0.52,0.47,0.51,0.525,0.55,0.525],[0.555,0.55,0.51,0.52,0.5,0.545,0.48,0.555,0.53,0.505,0.5,0.56,0.53,0.55,0.56,0.51,0.625,0.53,0.585,0.54,0.51,0.465,0.535,0.545,0.53],[0.49,0.575,0.5,0.555,0.525,0.56,0.51,0.505,0.58,0.555,0.555,0.525,0.555,0.585,0.56,0.5,0.495,0.535,0.535,0.5,0.535,0.46,0.545,0.545,0.535],[0.505,0.535,0.53,0.54,0.495,0.49,0.615,0.58,0.505,0.485,0.59,0.625,0.51,0.515,0.57,0.63,0.525,0.545,0.57,0.52,0.53,0.565,0.535,0.585,0.495],[0.465,0.58,0.475,0.535,0.52,0.595,0.58,0.46,0.505,0.565,0.525,0.54,0.6,0.545,0.555,0.68,0.545,0.475,0.515,0.58,0.535,0.525,0.545,0.585,0.545],[0.56,0.535,0.51,0.525,0.575,0.515,0.58,0.51,0.575,0.53,0.525,0.535,0.585,0.55,0.5,0.53,0.585,0.59,0.605,0.54,0.57,0.53,0.505,0.53,0.52],[0.525,0.54,0.535,0.53,0.505,0.63,0.535,0.525,0.58,0.525,0.545,0.475,0.55,0.555,0.52,0.605,0.51,0.525,0.54,0.59,0.56,0.545,0.585,0.49,0.565],[0.57,0.57,0.535,0.56,0.52,0.515,0.505,0.525,0.535,0.62,0.5,0.475,0.58,0.605,0.505,0.5,0.535,0.585,0.535,0.57,0.53,0.62,0.52,0.545,0.565],[0.56,0.5,0.575,0.515,0.56,0.545,0.565,0.53,0.55,0.625,0.595,0.65,0.535,0.58,0.525,0.49,0.59,0.555,0.535,0.575,0.565,0.49,0.49,0.545,0.545],[0.51,0.475,0.565,0.55,0.555,0.57,0.5,0.49,0.595,0.645,0.605,0.57,0.53,0.545,0.55,0.57,0.525,0.485,0.51,0.53,0.515,0.555,0.53,0.61,0.56],[0.575,0.525,0.625,0.535,0.56,0.565,0.565,0.5,0.555,0.535,0.53,0.545,0.515,0.545,0.555,0.54,0.585,0.575,0.55,0.65,0.465,0.585,0.57,0.525,0.56],[0.65,0.635,0.555,0.565,0.555,0.53,0.54,0.475,0.53,0.53,0.52,0.535,0.57,0.595,0.53,0.585,0.535,0.585,0.505,0.505,0.55,0.565,0.535,0.565,0.535],[0.595,0.54,0.54,0.495,0.455,0.515,0.48,0.605,0.575,0.575,0.54,0.585,0.48,0.58,0.545,0.54,0.645,0.605,0.515,0.535,0.515,0.545,0.515,0.63,0.585],[0.56,0.545,0.615,0.545,0.635,0.58,0.535,0.56,0.545,0.485,0.565,0.565,0.55,0.57,0.55,0.51,0.58,0.555,0.495,0.65,0.53,0.49,0.54,0.62,0.585],[0.52,0.545,0.575,0.61,0.585,0.605,0.545,0.475,0.65,0.59,0.56,0.55,0.475,0.535,0.555,0.53,0.61,0.525,0.595,0.595,0.56,0.605,0.57,0.49,0.56],[0.63,0.61,0.575,0.49,0.525,0.575,0.535,0.565,0.575,0.57,0.595,0.505,0.49,0.62,0.6,0.575,0.535,0.615,0.555,0.48,0.595,0.62,0.5,0.59,0.58],[0.53,0.57,0.545,0.635,0.58,0.605,0.64,0.57,0.515,0.52,0.565,0.645,0.53,0.54,0.64,0.61,0.575,0.515,0.635,0.565,0.5,0.675,0.56,0.585,0.54],[0.445,0.54,0.51,0.54,0.605,0.535,0.515,0.545,0.59,0.5,0.59,0.515,0.6,0.595,0.67,0.61,0.59,0.625,0.56,0.59,0.6,0.54,0.645,0.605,0.52],[0.53,0.515,0.53,0.52,0.52,0.49,0.49,0.56,0.58,0.545,0.55,0.53,0.605,0.535,0.505,0.565,0.635,0.595,0.53,0.525,0.57,0.555,0.475,0.54,0.595],[0.62,0.495,0.565,0.5,0.595,0.525,0.57,0.575,0.535,0.52,0.55,0.605,0.56,0.6,0.545,0.56,0.545,0.56,0.6,0.515,0.65,0.57,0.46,0.585,0.525],[0.55,0.535,0.56,0.545,0.505,0.485,0.62,0.505,0.58,0.59,0.52,0.6,0.545,0.48,0.525,0.5,0.5,0.525,0.585,0.6,0.615,0.59,0.605,0.53,0.515],[0.51,0.595,0.6,0.515,0.595,0.565,0.6,0.48,0.595,0.57,0.59,0.535,0.57,0.53,0.57,0.535,0.53,0.59,0.49,0.53,0.52,0.545,0.545,0.555,0.625],[0.54,0.55,0.53,0.565,0.5,0.58,0.53,0.565,0.5,0.48,0.57,0.595,0.59,0.525,0.55,0.545,0.555,0.51,0.55,0.545,0.52,0.47,0.56,0.525,0.58],[0.545,0.555,0.57,0.52,0.5,0.53,0.515,0.52,0.51,0.585,0.535,0.5,0.565,0.515,0.47,0.54,0.47,0.555,0.5,0.58,0.515,0.56,0.585,0.54,0.625],[0.515,0.585,0.56,0.505,0.55,0.54,0.565,0.55,0.545,0.49,0.58,0.505,0.595,0.505,0.51,0.525,0.49,0.49,0.575,0.57,0.525,0.575,0.575,0.64,0.57],[0.575,0.54,0.505,0.54,0.585,0.515,0.51,0.585,0.605,0.545,0.53,0.55,0.575,0.595,0.55,0.54,0.57,0.575,0.505,0.545,0.53,0.605,0.595,0.6,0.585],[0.53,0.515,0.535,0.575,0.615,0.61,0.595,0.595,0.545,0.59,0.58,0.625,0.56,0.565,0.61,0.545,0.525,0.525,0.565,0.53,0.55,0.5,0.575,0.49,0.495],[0.525,0.535,0.49,0.58,0.57,0.635,0.54,0.585,0.535,0.53,0.575,0.525,0.58,0.485,0.565,0.55,0.575,0.485,0.485,0.52,0.63,0.535,0.565,0.54,0.575],[0.55,0.51,0.53,0.53,0.555,0.52,0.565,0.57,0.545,0.525,0.47,0.49,0.505,0.545,0.605,0.49,0.64,0.49,0.53,0.565,0.545,0.46,0.53,0.56,0.555],[0.51,0.51,0.515,0.475,0.545,0.55,0.53,0.58,0.595,0.53,0.51,0.555,0.505,0.53,0.57,0.575,0.535,0.6,0.51,0.515,0.56,0.54,0.59,0.495,0.565],[0.515,0.64,0.51,0.535,0.515,0.485,0.57,0.585,0.56,0.6,0.55,0.555,0.555,0.535,0.535,0.51,0.555,0.535,0.545,0.55,0.525,0.535,0.53,0.575,0.5],[0.595,0.53,0.51,0.57,0.52,0.495,0.5,0.525,0.54,0.55,0.49,0.465,0.52,0.57,0.5,0.535,0.555,0.485,0.48,0.55,0.6,0.49,0.535,0.545,0.53],[0.565,0.61,0.515,0.555,0.555,0.53,0.56,0.51,0.485,0.42,0.535,0.55,0.53,0.505,0.475,0.52,0.555,0.53,0.505,0.525,0.525,0.53,0.545,0.5,0.55],[0.525,0.495,0.575,0.545,0.565,0.53,0.495,0.475,0.535,0.62,0.55,0.535,0.6,0.52,0.52,0.525,0.555,0.57,0.535,0.48,0.6,0.52,0.545,0.435,0.58],[0.515,0.57,0.53,0.505,0.545,0.51,0.51,0.535,0.47,0.525,0.545,0.535,0.535,0.555,0.55,0.49,0.5,0.545,0.53,0.525,0.525,0.465,0.515,0.52,0.52],[0.62,0.565,0.54,0.545,0.51,0.485,0.53,0.615,0.535,0.59,0.535,0.57,0.52,0.515,0.52,0.52,0.55,0.475,0.545,0.49,0.54,0.525,0.46,0.5,0.495],[0.52,0.495,0.54,0.53,0.525,0.53,0.53,0.57,0.5,0.56,0.52,0.52,0.565,0.51,0.505,0.48,0.52,0.485,0.53,0.53,0.57,0.445,0.52,0.545,0.525],[0.555,0.56,0.55,0.45,0.505,0.46,0.51,0.53,0.52,0.49,0.565,0.465,0.565,0.525,0.485,0.51,0.555,0.515,0.56,0.525,0.505,0.495,0.575,0.5,0.495],[0.51,0.545,0.535,0.55,0.57,0.53,0.46,0.49,0.56,0.545,0.53,0.505,0.615,0.535,0.53,0.53,0.47,0.57,0.48,0.535,0.515,0.525,0.47,0.555,0.545],[0.53,0.555,0.515,0.545,0.565,0.485,0.56,0.52,0.485,0.53,0.51,0.51,0.52,0.59,0.465,0.575,0.48,0.49,0.555,0.55,0.545,0.555,0.525,0.535,0.465],[0.555,0.55,0.555,0.515,0.525,0.525,0.545,0.51,0.505,0.515,0.5,0.52,0.565,0.525,0.465,0.52,0.52,0.56,0.54,0.47,0.57,0.515,0.545,0.495,0.55],[0.53,0.525,0.515,0.56,0.5,0.495,0.58,0.48,0.565,0.51,0.57,0.505,0.52,0.51,0.55,0.53,0.57,0.505,0.475,0.53,0.54,0.57,0.53,0.505,0.5],[0.53,0.545,0.475,0.59,0.52,0.54,0.555,0.505,0.56,0.585,0.515,0.45,0.53,0.54,0.55,0.55,0.57,0.53,0.535,0.45,0.545,0.54,0.545,0.555,0.48],[0.535,0.53,0.56,0.545,0.59,0.53,0.54,0.55,0.5,0.53,0.5,0.47,0.52,0.54,0.56,0.475,0.505,0.575,0.5,0.5,0.485,0.53,0.515,0.54,0.575]],\"type\":\"heatmap\",\"xaxis\":\"x\",\"yaxis\":\"y\",\"hovertemplate\":\"Heads (sorted): %{x}\\u003cbr\\u003eLayers: %{y}\\u003cbr\\u003ecolor: %{z}\\u003cextra\\u003e\\u003c\\u002fextra\\u003e\"}],                        {\"template\":{\"data\":{\"histogram2dcontour\":[{\"type\":\"histogram2dcontour\",\"colorbar\":{\"outlinewidth\":0,\"ticks\":\"\"},\"colorscale\":[[0.0,\"#0d0887\"],[0.1111111111111111,\"#46039f\"],[0.2222222222222222,\"#7201a8\"],[0.3333333333333333,\"#9c179e\"],[0.4444444444444444,\"#bd3786\"],[0.5555555555555556,\"#d8576b\"],[0.6666666666666666,\"#ed7953\"],[0.7777777777777778,\"#fb9f3a\"],[0.8888888888888888,\"#fdca26\"],[1.0,\"#f0f921\"]]}],\"choropleth\":[{\"type\":\"choropleth\",\"colorbar\":{\"outlinewidth\":0,\"ticks\":\"\"}}],\"histogram2d\":[{\"type\":\"histogram2d\",\"colorbar\":{\"outlinewidth\":0,\"ticks\":\"\"},\"colorscale\":[[0.0,\"#0d0887\"],[0.1111111111111111,\"#46039f\"],[0.2222222222222222,\"#7201a8\"],[0.3333333333333333,\"#9c179e\"],[0.4444444444444444,\"#bd3786\"],[0.5555555555555556,\"#d8576b\"],[0.6666666666666666,\"#ed7953\"],[0.7777777777777778,\"#fb9f3a\"],[0.8888888888888888,\"#fdca26\"],[1.0,\"#f0f921\"]]}],\"heatmap\":[{\"type\":\"heatmap\",\"colorbar\":{\"outlinewidth\":0,\"ticks\":\"\"},\"colorscale\":[[0.0,\"#0d0887\"],[0.1111111111111111,\"#46039f\"],[0.2222222222222222,\"#7201a8\"],[0.3333333333333333,\"#9c179e\"],[0.4444444444444444,\"#bd3786\"],[0.5555555555555556,\"#d8576b\"],[0.6666666666666666,\"#ed7953\"],[0.7777777777777778,\"#fb9f3a\"],[0.8888888888888888,\"#fdca26\"],[1.0,\"#f0f921\"]]}],\"heatmapgl\":[{\"type\":\"heatmapgl\",\"colorbar\":{\"outlinewidth\":0,\"ticks\":\"\"},\"colorscale\":[[0.0,\"#0d0887\"],[0.1111111111111111,\"#46039f\"],[0.2222222222222222,\"#7201a8\"],[0.3333333333333333,\"#9c179e\"],[0.4444444444444444,\"#bd3786\"],[0.5555555555555556,\"#d8576b\"],[0.6666666666666666,\"#ed7953\"],[0.7777777777777778,\"#fb9f3a\"],[0.8888888888888888,\"#fdca26\"],[1.0,\"#f0f921\"]]}],\"contourcarpet\":[{\"type\":\"contourcarpet\",\"colorbar\":{\"outlinewidth\":0,\"ticks\":\"\"}}],\"contour\":[{\"type\":\"contour\",\"colorbar\":{\"outlinewidth\":0,\"ticks\":\"\"},\"colorscale\":[[0.0,\"#0d0887\"],[0.1111111111111111,\"#46039f\"],[0.2222222222222222,\"#7201a8\"],[0.3333333333333333,\"#9c179e\"],[0.4444444444444444,\"#bd3786\"],[0.5555555555555556,\"#d8576b\"],[0.6666666666666666,\"#ed7953\"],[0.7777777777777778,\"#fb9f3a\"],[0.8888888888888888,\"#fdca26\"],[1.0,\"#f0f921\"]]}],\"surface\":[{\"type\":\"surface\",\"colorbar\":{\"outlinewidth\":0,\"ticks\":\"\"},\"colorscale\":[[0.0,\"#0d0887\"],[0.1111111111111111,\"#46039f\"],[0.2222222222222222,\"#7201a8\"],[0.3333333333333333,\"#9c179e\"],[0.4444444444444444,\"#bd3786\"],[0.5555555555555556,\"#d8576b\"],[0.6666666666666666,\"#ed7953\"],[0.7777777777777778,\"#fb9f3a\"],[0.8888888888888888,\"#fdca26\"],[1.0,\"#f0f921\"]]}],\"mesh3d\":[{\"type\":\"mesh3d\",\"colorbar\":{\"outlinewidth\":0,\"ticks\":\"\"}}],\"scatter\":[{\"fillpattern\":{\"fillmode\":\"overlay\",\"size\":10,\"solidity\":0.2},\"type\":\"scatter\"}],\"parcoords\":[{\"type\":\"parcoords\",\"line\":{\"colorbar\":{\"outlinewidth\":0,\"ticks\":\"\"}}}],\"scatterpolargl\":[{\"type\":\"scatterpolargl\",\"marker\":{\"colorbar\":{\"outlinewidth\":0,\"ticks\":\"\"}}}],\"bar\":[{\"error_x\":{\"color\":\"#2a3f5f\"},\"error_y\":{\"color\":\"#2a3f5f\"},\"marker\":{\"line\":{\"color\":\"#E5ECF6\",\"width\":0.5},\"pattern\":{\"fillmode\":\"overlay\",\"size\":10,\"solidity\":0.2}},\"type\":\"bar\"}],\"scattergeo\":[{\"type\":\"scattergeo\",\"marker\":{\"colorbar\":{\"outlinewidth\":0,\"ticks\":\"\"}}}],\"scatterpolar\":[{\"type\":\"scatterpolar\",\"marker\":{\"colorbar\":{\"outlinewidth\":0,\"ticks\":\"\"}}}],\"histogram\":[{\"marker\":{\"pattern\":{\"fillmode\":\"overlay\",\"size\":10,\"solidity\":0.2}},\"type\":\"histogram\"}],\"scattergl\":[{\"type\":\"scattergl\",\"marker\":{\"colorbar\":{\"outlinewidth\":0,\"ticks\":\"\"}}}],\"scatter3d\":[{\"type\":\"scatter3d\",\"line\":{\"colorbar\":{\"outlinewidth\":0,\"ticks\":\"\"}},\"marker\":{\"colorbar\":{\"outlinewidth\":0,\"ticks\":\"\"}}}],\"scattermapbox\":[{\"type\":\"scattermapbox\",\"marker\":{\"colorbar\":{\"outlinewidth\":0,\"ticks\":\"\"}}}],\"scatterternary\":[{\"type\":\"scatterternary\",\"marker\":{\"colorbar\":{\"outlinewidth\":0,\"ticks\":\"\"}}}],\"scattercarpet\":[{\"type\":\"scattercarpet\",\"marker\":{\"colorbar\":{\"outlinewidth\":0,\"ticks\":\"\"}}}],\"carpet\":[{\"aaxis\":{\"endlinecolor\":\"#2a3f5f\",\"gridcolor\":\"white\",\"linecolor\":\"white\",\"minorgridcolor\":\"white\",\"startlinecolor\":\"#2a3f5f\"},\"baxis\":{\"endlinecolor\":\"#2a3f5f\",\"gridcolor\":\"white\",\"linecolor\":\"white\",\"minorgridcolor\":\"white\",\"startlinecolor\":\"#2a3f5f\"},\"type\":\"carpet\"}],\"table\":[{\"cells\":{\"fill\":{\"color\":\"#EBF0F8\"},\"line\":{\"color\":\"white\"}},\"header\":{\"fill\":{\"color\":\"#C8D4E3\"},\"line\":{\"color\":\"white\"}},\"type\":\"table\"}],\"barpolar\":[{\"marker\":{\"line\":{\"color\":\"#E5ECF6\",\"width\":0.5},\"pattern\":{\"fillmode\":\"overlay\",\"size\":10,\"solidity\":0.2}},\"type\":\"barpolar\"}],\"pie\":[{\"automargin\":true,\"type\":\"pie\"}]},\"layout\":{\"autotypenumbers\":\"strict\",\"colorway\":[\"#636efa\",\"#EF553B\",\"#00cc96\",\"#ab63fa\",\"#FFA15A\",\"#19d3f3\",\"#FF6692\",\"#B6E880\",\"#FF97FF\",\"#FECB52\"],\"font\":{\"color\":\"#2a3f5f\"},\"hovermode\":\"closest\",\"hoverlabel\":{\"align\":\"left\"},\"paper_bgcolor\":\"white\",\"plot_bgcolor\":\"#E5ECF6\",\"polar\":{\"bgcolor\":\"#E5ECF6\",\"angularaxis\":{\"gridcolor\":\"white\",\"linecolor\":\"white\",\"ticks\":\"\"},\"radialaxis\":{\"gridcolor\":\"white\",\"linecolor\":\"white\",\"ticks\":\"\"}},\"ternary\":{\"bgcolor\":\"#E5ECF6\",\"aaxis\":{\"gridcolor\":\"white\",\"linecolor\":\"white\",\"ticks\":\"\"},\"baxis\":{\"gridcolor\":\"white\",\"linecolor\":\"white\",\"ticks\":\"\"},\"caxis\":{\"gridcolor\":\"white\",\"linecolor\":\"white\",\"ticks\":\"\"}},\"coloraxis\":{\"colorbar\":{\"outlinewidth\":0,\"ticks\":\"\"}},\"colorscale\":{\"sequential\":[[0.0,\"#0d0887\"],[0.1111111111111111,\"#46039f\"],[0.2222222222222222,\"#7201a8\"],[0.3333333333333333,\"#9c179e\"],[0.4444444444444444,\"#bd3786\"],[0.5555555555555556,\"#d8576b\"],[0.6666666666666666,\"#ed7953\"],[0.7777777777777778,\"#fb9f3a\"],[0.8888888888888888,\"#fdca26\"],[1.0,\"#f0f921\"]],\"sequentialminus\":[[0.0,\"#0d0887\"],[0.1111111111111111,\"#46039f\"],[0.2222222222222222,\"#7201a8\"],[0.3333333333333333,\"#9c179e\"],[0.4444444444444444,\"#bd3786\"],[0.5555555555555556,\"#d8576b\"],[0.6666666666666666,\"#ed7953\"],[0.7777777777777778,\"#fb9f3a\"],[0.8888888888888888,\"#fdca26\"],[1.0,\"#f0f921\"]],\"diverging\":[[0,\"#8e0152\"],[0.1,\"#c51b7d\"],[0.2,\"#de77ae\"],[0.3,\"#f1b6da\"],[0.4,\"#fde0ef\"],[0.5,\"#f7f7f7\"],[0.6,\"#e6f5d0\"],[0.7,\"#b8e186\"],[0.8,\"#7fbc41\"],[0.9,\"#4d9221\"],[1,\"#276419\"]]},\"xaxis\":{\"gridcolor\":\"white\",\"linecolor\":\"white\",\"ticks\":\"\",\"title\":{\"standoff\":15},\"zerolinecolor\":\"white\",\"automargin\":true,\"zerolinewidth\":2},\"yaxis\":{\"gridcolor\":\"white\",\"linecolor\":\"white\",\"ticks\":\"\",\"title\":{\"standoff\":15},\"zerolinecolor\":\"white\",\"automargin\":true,\"zerolinewidth\":2},\"scene\":{\"xaxis\":{\"backgroundcolor\":\"#E5ECF6\",\"gridcolor\":\"white\",\"linecolor\":\"white\",\"showbackground\":true,\"ticks\":\"\",\"zerolinecolor\":\"white\",\"gridwidth\":2},\"yaxis\":{\"backgroundcolor\":\"#E5ECF6\",\"gridcolor\":\"white\",\"linecolor\":\"white\",\"showbackground\":true,\"ticks\":\"\",\"zerolinecolor\":\"white\",\"gridwidth\":2},\"zaxis\":{\"backgroundcolor\":\"#E5ECF6\",\"gridcolor\":\"white\",\"linecolor\":\"white\",\"showbackground\":true,\"ticks\":\"\",\"zerolinecolor\":\"white\",\"gridwidth\":2}},\"shapedefaults\":{\"line\":{\"color\":\"#2a3f5f\"}},\"annotationdefaults\":{\"arrowcolor\":\"#2a3f5f\",\"arrowhead\":0,\"arrowwidth\":1},\"geo\":{\"bgcolor\":\"white\",\"landcolor\":\"#E5ECF6\",\"subunitcolor\":\"white\",\"showland\":true,\"showlakes\":true,\"lakecolor\":\"white\"},\"title\":{\"x\":0.05},\"mapbox\":{\"style\":\"light\"}}},\"xaxis\":{\"anchor\":\"y\",\"domain\":[0.0,1.0],\"scaleanchor\":\"y\",\"constrain\":\"domain\",\"title\":{\"text\":\"Heads (sorted)\"}},\"yaxis\":{\"anchor\":\"x\",\"domain\":[0.0,1.0],\"autorange\":true,\"constrain\":\"domain\",\"title\":{\"text\":\"Layers\"}},\"coloraxis\":{\"colorscale\":[[0.0,\"rgb(255,255,217)\"],[0.125,\"rgb(237,248,177)\"],[0.25,\"rgb(199,233,180)\"],[0.375,\"rgb(127,205,187)\"],[0.5,\"rgb(65,182,196)\"],[0.625,\"rgb(29,145,192)\"],[0.75,\"rgb(34,94,168)\"],[0.875,\"rgb(37,52,148)\"],[1.0,\"rgb(8,29,88)\"]],\"cmid\":0.5},\"title\":{\"text\":\"cfact probes on cfact data\"}},                        {\"responsive\": true}                    ).then(function(){\n",
       "                            \n",
       "var gd = document.getElementById('f7d7de12-c064-452a-a6bf-c6c7c07625ef');\n",
       "var x = new MutationObserver(function (mutations, observer) {{\n",
       "        var display = window.getComputedStyle(gd).display;\n",
       "        if (!display || display === 'none') {{\n",
       "            console.log([gd, 'removed!']);\n",
       "            Plotly.purge(gd);\n",
       "            observer.disconnect();\n",
       "        }}\n",
       "}});\n",
       "\n",
       "// Listen for the removal of the full notebook cells\n",
       "var notebookContainer = gd.closest('#notebook-container');\n",
       "if (notebookContainer) {{\n",
       "    x.observe(notebookContainer, {childList: true});\n",
       "}}\n",
       "\n",
       "// Listen for the clearing of the current output cell\n",
       "var outputEl = gd.closest('.output');\n",
       "if (outputEl) {{\n",
       "    x.observe(outputEl, {childList: true});\n",
       "}}\n",
       "\n",
       "                        })                };                });            </script>        </div>"
      ]
     },
     "metadata": {},
     "output_type": "display_data"
    },
    {
     "name": "stderr",
     "output_type": "stream",
     "text": [
      "1200it [00:00, 1824.89it/s]\n"
     ]
    },
    {
     "data": {
      "application/vnd.plotly.v1+json": {
       "config": {
        "plotlyServerURL": "https://plot.ly"
       },
       "data": [
        {
         "coloraxis": "coloraxis",
         "hovertemplate": "Heads (sorted): %{x}<br>Layers: %{y}<br>color: %{z}<extra></extra>",
         "name": "0",
         "type": "heatmap",
         "xaxis": "x",
         "yaxis": "y",
         "z": [
          [
           0.525,
           0.525,
           0.525,
           0.525,
           0.525,
           0.525,
           0.525,
           0.525,
           0.52,
           0.445,
           0.525,
           0.525,
           0.525,
           0.51,
           0.525,
           0.525,
           0.525,
           0.525,
           0.525,
           0.525,
           0.515,
           0.525,
           0.525,
           0.525,
           0.515
          ],
          [
           0.53,
           0.535,
           0.515,
           0.51,
           0.455,
           0.525,
           0.48,
           0.525,
           0.52,
           0.505,
           0.525,
           0.56,
           0.52,
           0.47,
           0.525,
           0.525,
           0.48,
           0.54,
           0.525,
           0.505,
           0.5,
           0.525,
           0.555,
           0.52,
           0.605
          ],
          [
           0.52,
           0.59,
           0.52,
           0.525,
           0.525,
           0.485,
           0.525,
           0.52,
           0.51,
           0.545,
           0.48,
           0.48,
           0.53,
           0.51,
           0.47,
           0.59,
           0.53,
           0.49,
           0.54,
           0.46,
           0.545,
           0.53,
           0.51,
           0.515,
           0.505
          ],
          [
           0.41,
           0.53,
           0.545,
           0.515,
           0.56,
           0.575,
           0.655,
           0.53,
           0.43,
           0.49,
           0.455,
           0.505,
           0.525,
           0.48,
           0.525,
           0.5,
           0.525,
           0.475,
           0.5,
           0.505,
           0.57,
           0.525,
           0.535,
           0.475,
           0.575
          ],
          [
           0.525,
           0.525,
           0.555,
           0.475,
           0.53,
           0.42,
           0.56,
           0.475,
           0.53,
           0.375,
           0.545,
           0.525,
           0.36,
           0.545,
           0.515,
           0.525,
           0.53,
           0.52,
           0.505,
           0.515,
           0.475,
           0.5,
           0.435,
           0.545,
           0.49
          ],
          [
           0.44,
           0.575,
           0.49,
           0.555,
           0.505,
           0.525,
           0.575,
           0.49,
           0.45,
           0.44,
           0.525,
           0.525,
           0.51,
           0.53,
           0.525,
           0.535,
           0.545,
           0.51,
           0.51,
           0.55,
           0.535,
           0.55,
           0.5,
           0.585,
           0.38
          ],
          [
           0.52,
           0.5,
           0.52,
           0.5,
           0.605,
           0.38,
           0.5,
           0.575,
           0.61,
           0.565,
           0.625,
           0.465,
           0.5,
           0.49,
           0.455,
           0.52,
           0.52,
           0.605,
           0.55,
           0.49,
           0.49,
           0.55,
           0.55,
           0.52,
           0.515
          ],
          [
           0.545,
           0.52,
           0.51,
           0.43,
           0.515,
           0.52,
           0.575,
           0.51,
           0.615,
           0.4,
           0.485,
           0.48,
           0.495,
           0.495,
           0.565,
           0.525,
           0.335,
           0.515,
           0.495,
           0.6,
           0.58,
           0.43,
           0.495,
           0.565,
           0.525
          ],
          [
           0.515,
           0.465,
           0.515,
           0.49,
           0.505,
           0.535,
           0.42,
           0.535,
           0.565,
           0.54,
           0.54,
           0.48,
           0.505,
           0.52,
           0.47,
           0.565,
           0.475,
           0.485,
           0.51,
           0.625,
           0.515,
           0.48,
           0.445,
           0.51,
           0.495
          ],
          [
           0.535,
           0.515,
           0.555,
           0.56,
           0.58,
           0.52,
           0.48,
           0.49,
           0.53,
           0.595,
           0.595,
           0.51,
           0.56,
           0.515,
           0.42,
           0.485,
           0.505,
           0.525,
           0.535,
           0.6,
           0.515,
           0.53,
           0.49,
           0.605,
           0.565
          ],
          [
           0.415,
           0.495,
           0.49,
           0.54,
           0.5,
           0.525,
           0.47,
           0.5,
           0.495,
           0.55,
           0.555,
           0.48,
           0.485,
           0.495,
           0.515,
           0.5,
           0.5,
           0.535,
           0.5,
           0.415,
           0.415,
           0.48,
           0.445,
           0.485,
           0.515
          ],
          [
           0.545,
           0.485,
           0.53,
           0.485,
           0.505,
           0.51,
           0.595,
           0.545,
           0.47,
           0.52,
           0.565,
           0.52,
           0.575,
           0.54,
           0.485,
           0.525,
           0.535,
           0.535,
           0.525,
           0.465,
           0.575,
           0.545,
           0.52,
           0.595,
           0.535
          ],
          [
           0.44,
           0.535,
           0.535,
           0.59,
           0.49,
           0.58,
           0.56,
           0.485,
           0.395,
           0.45,
           0.595,
           0.52,
           0.49,
           0.37,
           0.435,
           0.525,
           0.525,
           0.455,
           0.595,
           0.435,
           0.585,
           0.495,
           0.435,
           0.51,
           0.51
          ],
          [
           0.555,
           0.5,
           0.55,
           0.5,
           0.505,
           0.6,
           0.42,
           0.54,
           0.56,
           0.56,
           0.43,
           0.56,
           0.51,
           0.52,
           0.615,
           0.435,
           0.53,
           0.545,
           0.475,
           0.45,
           0.495,
           0.51,
           0.56,
           0.54,
           0.46
          ],
          [
           0.575,
           0.505,
           0.595,
           0.53,
           0.465,
           0.45,
           0.425,
           0.49,
           0.485,
           0.52,
           0.525,
           0.53,
           0.53,
           0.49,
           0.61,
           0.41,
           0.505,
           0.42,
           0.545,
           0.58,
           0.5,
           0.655,
           0.51,
           0.445,
           0.53
          ],
          [
           0.56,
           0.63,
           0.655,
           0.555,
           0.665,
           0.535,
           0.43,
           0.48,
           0.52,
           0.555,
           0.505,
           0.625,
           0.635,
           0.565,
           0.49,
           0.48,
           0.53,
           0.52,
           0.48,
           0.505,
           0.49,
           0.52,
           0.555,
           0.53,
           0.525
          ],
          [
           0.565,
           0.475,
           0.475,
           0.535,
           0.645,
           0.555,
           0.565,
           0.53,
           0.525,
           0.535,
           0.535,
           0.54,
           0.49,
           0.525,
           0.525,
           0.565,
           0.6,
           0.555,
           0.52,
           0.575,
           0.565,
           0.455,
           0.535,
           0.55,
           0.61
          ],
          [
           0.54,
           0.54,
           0.55,
           0.54,
           0.61,
           0.575,
           0.525,
           0.57,
           0.405,
           0.49,
           0.535,
           0.525,
           0.51,
           0.525,
           0.58,
           0.535,
           0.54,
           0.515,
           0.495,
           0.48,
           0.62,
           0.47,
           0.43,
           0.505,
           0.455
          ],
          [
           0.53,
           0.64,
           0.585,
           0.605,
           0.58,
           0.585,
           0.515,
           0.46,
           0.495,
           0.535,
           0.565,
           0.475,
           0.495,
           0.54,
           0.49,
           0.55,
           0.615,
           0.495,
           0.505,
           0.59,
           0.585,
           0.54,
           0.535,
           0.585,
           0.57
          ],
          [
           0.535,
           0.565,
           0.605,
           0.52,
           0.525,
           0.515,
           0.375,
           0.57,
           0.51,
           0.545,
           0.605,
           0.555,
           0.515,
           0.67,
           0.55,
           0.735,
           0.495,
           0.68,
           0.54,
           0.555,
           0.655,
           0.545,
           0.51,
           0.51,
           0.63
          ],
          [
           0.52,
           0.58,
           0.505,
           0.495,
           0.47,
           0.54,
           0.52,
           0.525,
           0.54,
           0.515,
           0.63,
           0.675,
           0.605,
           0.515,
           0.535,
           0.535,
           0.52,
           0.495,
           0.575,
           0.61,
           0.57,
           0.74,
           0.5,
           0.42,
           0.565
          ],
          [
           0.51,
           0.595,
           0.375,
           0.455,
           0.53,
           0.515,
           0.525,
           0.465,
           0.515,
           0.52,
           0.555,
           0.485,
           0.58,
           0.625,
           0.56,
           0.485,
           0.575,
           0.575,
           0.565,
           0.54,
           0.53,
           0.485,
           0.575,
           0.555,
           0.495
          ],
          [
           0.52,
           0.565,
           0.54,
           0.48,
           0.525,
           0.535,
           0.53,
           0.51,
           0.6,
           0.535,
           0.54,
           0.56,
           0.62,
           0.505,
           0.46,
           0.635,
           0.575,
           0.56,
           0.515,
           0.53,
           0.52,
           0.615,
           0.505,
           0.555,
           0.615
          ],
          [
           0.49,
           0.44,
           0.525,
           0.55,
           0.535,
           0.525,
           0.545,
           0.505,
           0.45,
           0.51,
           0.52,
           0.48,
           0.555,
           0.575,
           0.555,
           0.565,
           0.555,
           0.54,
           0.495,
           0.54,
           0.51,
           0.54,
           0.515,
           0.525,
           0.53
          ],
          [
           0.54,
           0.495,
           0.52,
           0.42,
           0.525,
           0.52,
           0.54,
           0.51,
           0.55,
           0.54,
           0.51,
           0.585,
           0.54,
           0.565,
           0.51,
           0.515,
           0.54,
           0.54,
           0.43,
           0.57,
           0.555,
           0.525,
           0.545,
           0.52,
           0.45
          ],
          [
           0.48,
           0.555,
           0.53,
           0.49,
           0.545,
           0.48,
           0.61,
           0.505,
           0.535,
           0.515,
           0.625,
           0.475,
           0.51,
           0.53,
           0.53,
           0.455,
           0.53,
           0.58,
           0.525,
           0.53,
           0.5,
           0.595,
           0.45,
           0.465,
           0.475
          ],
          [
           0.505,
           0.45,
           0.575,
           0.525,
           0.525,
           0.515,
           0.535,
           0.455,
           0.55,
           0.46,
           0.485,
           0.565,
           0.43,
           0.515,
           0.535,
           0.56,
           0.52,
           0.54,
           0.525,
           0.52,
           0.525,
           0.565,
           0.525,
           0.51,
           0.615
          ],
          [
           0.48,
           0.515,
           0.525,
           0.51,
           0.45,
           0.435,
           0.505,
           0.515,
           0.45,
           0.525,
           0.535,
           0.475,
           0.51,
           0.57,
           0.46,
           0.54,
           0.53,
           0.52,
           0.485,
           0.565,
           0.505,
           0.44,
           0.495,
           0.555,
           0.505
          ],
          [
           0.41,
           0.57,
           0.49,
           0.59,
           0.505,
           0.46,
           0.475,
           0.53,
           0.495,
           0.485,
           0.58,
           0.55,
           0.555,
           0.45,
           0.495,
           0.435,
           0.44,
           0.53,
           0.525,
           0.515,
           0.455,
           0.465,
           0.52,
           0.49,
           0.595
          ],
          [
           0.485,
           0.515,
           0.51,
           0.47,
           0.56,
           0.53,
           0.525,
           0.52,
           0.505,
           0.53,
           0.505,
           0.585,
           0.54,
           0.515,
           0.53,
           0.52,
           0.535,
           0.505,
           0.57,
           0.55,
           0.49,
           0.645,
           0.58,
           0.44,
           0.535
          ],
          [
           0.475,
           0.51,
           0.495,
           0.58,
           0.555,
           0.45,
           0.47,
           0.57,
           0.49,
           0.515,
           0.52,
           0.595,
           0.51,
           0.545,
           0.605,
           0.485,
           0.525,
           0.5,
           0.52,
           0.51,
           0.51,
           0.525,
           0.49,
           0.5,
           0.475
          ],
          [
           0.5,
           0.535,
           0.49,
           0.485,
           0.5,
           0.54,
           0.535,
           0.53,
           0.545,
           0.605,
           0.59,
           0.59,
           0.515,
           0.535,
           0.56,
           0.495,
           0.51,
           0.535,
           0.525,
           0.525,
           0.52,
           0.53,
           0.53,
           0.525,
           0.565
          ],
          [
           0.55,
           0.5,
           0.48,
           0.535,
           0.5,
           0.525,
           0.525,
           0.525,
           0.515,
           0.56,
           0.53,
           0.515,
           0.52,
           0.455,
           0.51,
           0.51,
           0.57,
           0.48,
           0.495,
           0.51,
           0.5,
           0.42,
           0.525,
           0.52,
           0.545
          ],
          [
           0.5,
           0.48,
           0.505,
           0.5,
           0.395,
           0.545,
           0.52,
           0.535,
           0.52,
           0.415,
           0.465,
           0.52,
           0.5,
           0.505,
           0.49,
           0.48,
           0.515,
           0.5,
           0.58,
           0.585,
           0.505,
           0.535,
           0.56,
           0.52,
           0.485
          ],
          [
           0.465,
           0.525,
           0.47,
           0.49,
           0.58,
           0.525,
           0.575,
           0.54,
           0.52,
           0.515,
           0.435,
           0.525,
           0.56,
           0.545,
           0.465,
           0.495,
           0.535,
           0.455,
           0.48,
           0.475,
           0.54,
           0.505,
           0.525,
           0.47,
           0.46
          ],
          [
           0.48,
           0.465,
           0.525,
           0.415,
           0.51,
           0.48,
           0.5,
           0.53,
           0.53,
           0.585,
           0.515,
           0.515,
           0.475,
           0.46,
           0.505,
           0.43,
           0.505,
           0.46,
           0.495,
           0.505,
           0.525,
           0.53,
           0.465,
           0.475,
           0.5
          ],
          [
           0.545,
           0.5,
           0.465,
           0.505,
           0.545,
           0.53,
           0.5,
           0.46,
           0.49,
           0.49,
           0.515,
           0.545,
           0.525,
           0.435,
           0.495,
           0.515,
           0.555,
           0.45,
           0.535,
           0.465,
           0.48,
           0.54,
           0.515,
           0.57,
           0.515
          ],
          [
           0.515,
           0.525,
           0.47,
           0.46,
           0.505,
           0.49,
           0.565,
           0.5,
           0.52,
           0.525,
           0.485,
           0.49,
           0.535,
           0.47,
           0.585,
           0.505,
           0.495,
           0.525,
           0.525,
           0.57,
           0.535,
           0.53,
           0.515,
           0.515,
           0.5
          ],
          [
           0.475,
           0.48,
           0.435,
           0.5,
           0.52,
           0.495,
           0.525,
           0.52,
           0.455,
           0.56,
           0.525,
           0.5,
           0.525,
           0.505,
           0.495,
           0.495,
           0.48,
           0.57,
           0.535,
           0.53,
           0.51,
           0.535,
           0.505,
           0.56,
           0.465
          ],
          [
           0.515,
           0.515,
           0.56,
           0.5,
           0.51,
           0.53,
           0.455,
           0.5,
           0.525,
           0.475,
           0.515,
           0.445,
           0.515,
           0.52,
           0.515,
           0.545,
           0.525,
           0.51,
           0.53,
           0.48,
           0.51,
           0.515,
           0.555,
           0.5,
           0.52
          ],
          [
           0.505,
           0.47,
           0.53,
           0.505,
           0.5,
           0.51,
           0.505,
           0.54,
           0.535,
           0.54,
           0.53,
           0.5,
           0.51,
           0.525,
           0.53,
           0.525,
           0.505,
           0.535,
           0.48,
           0.525,
           0.505,
           0.54,
           0.46,
           0.5,
           0.555
          ],
          [
           0.49,
           0.495,
           0.49,
           0.5,
           0.47,
           0.465,
           0.515,
           0.485,
           0.52,
           0.48,
           0.565,
           0.56,
           0.51,
           0.485,
           0.515,
           0.525,
           0.515,
           0.485,
           0.495,
           0.51,
           0.5,
           0.495,
           0.485,
           0.475,
           0.515
          ],
          [
           0.485,
           0.525,
           0.46,
           0.49,
           0.495,
           0.55,
           0.55,
           0.47,
           0.53,
           0.505,
           0.525,
           0.515,
           0.515,
           0.465,
           0.505,
           0.505,
           0.52,
           0.52,
           0.515,
           0.525,
           0.545,
           0.585,
           0.42,
           0.465,
           0.51
          ],
          [
           0.46,
           0.49,
           0.515,
           0.52,
           0.525,
           0.54,
           0.495,
           0.515,
           0.52,
           0.465,
           0.43,
           0.435,
           0.465,
           0.525,
           0.51,
           0.555,
           0.545,
           0.52,
           0.45,
           0.51,
           0.525,
           0.48,
           0.54,
           0.565,
           0.555
          ],
          [
           0.52,
           0.55,
           0.525,
           0.51,
           0.42,
           0.455,
           0.51,
           0.5,
           0.53,
           0.59,
           0.485,
           0.49,
           0.55,
           0.45,
           0.53,
           0.5,
           0.535,
           0.525,
           0.51,
           0.475,
           0.545,
           0.52,
           0.5,
           0.53,
           0.55
          ],
          [
           0.465,
           0.49,
           0.56,
           0.5,
           0.495,
           0.515,
           0.555,
           0.555,
           0.475,
           0.51,
           0.49,
           0.57,
           0.52,
           0.485,
           0.45,
           0.495,
           0.595,
           0.52,
           0.51,
           0.475,
           0.485,
           0.545,
           0.475,
           0.54,
           0.515
          ],
          [
           0.545,
           0.465,
           0.49,
           0.455,
           0.5,
           0.51,
           0.51,
           0.53,
           0.57,
           0.52,
           0.51,
           0.525,
           0.44,
           0.555,
           0.565,
           0.545,
           0.5,
           0.485,
           0.475,
           0.48,
           0.585,
           0.46,
           0.45,
           0.53,
           0.52
          ],
          [
           0.515,
           0.49,
           0.49,
           0.515,
           0.525,
           0.49,
           0.43,
           0.46,
           0.53,
           0.555,
           0.51,
           0.585,
           0.515,
           0.49,
           0.525,
           0.53,
           0.49,
           0.51,
           0.57,
           0.44,
           0.48,
           0.46,
           0.51,
           0.525,
           0.475
          ]
         ]
        }
       ],
       "layout": {
        "coloraxis": {
         "cmid": 0.5,
         "colorscale": [
          [
           0,
           "rgb(255,255,217)"
          ],
          [
           0.125,
           "rgb(237,248,177)"
          ],
          [
           0.25,
           "rgb(199,233,180)"
          ],
          [
           0.375,
           "rgb(127,205,187)"
          ],
          [
           0.5,
           "rgb(65,182,196)"
          ],
          [
           0.625,
           "rgb(29,145,192)"
          ],
          [
           0.75,
           "rgb(34,94,168)"
          ],
          [
           0.875,
           "rgb(37,52,148)"
          ],
          [
           1,
           "rgb(8,29,88)"
          ]
         ]
        },
        "template": {
         "data": {
          "bar": [
           {
            "error_x": {
             "color": "#2a3f5f"
            },
            "error_y": {
             "color": "#2a3f5f"
            },
            "marker": {
             "line": {
              "color": "#E5ECF6",
              "width": 0.5
             },
             "pattern": {
              "fillmode": "overlay",
              "size": 10,
              "solidity": 0.2
             }
            },
            "type": "bar"
           }
          ],
          "barpolar": [
           {
            "marker": {
             "line": {
              "color": "#E5ECF6",
              "width": 0.5
             },
             "pattern": {
              "fillmode": "overlay",
              "size": 10,
              "solidity": 0.2
             }
            },
            "type": "barpolar"
           }
          ],
          "carpet": [
           {
            "aaxis": {
             "endlinecolor": "#2a3f5f",
             "gridcolor": "white",
             "linecolor": "white",
             "minorgridcolor": "white",
             "startlinecolor": "#2a3f5f"
            },
            "baxis": {
             "endlinecolor": "#2a3f5f",
             "gridcolor": "white",
             "linecolor": "white",
             "minorgridcolor": "white",
             "startlinecolor": "#2a3f5f"
            },
            "type": "carpet"
           }
          ],
          "choropleth": [
           {
            "colorbar": {
             "outlinewidth": 0,
             "ticks": ""
            },
            "type": "choropleth"
           }
          ],
          "contour": [
           {
            "colorbar": {
             "outlinewidth": 0,
             "ticks": ""
            },
            "colorscale": [
             [
              0,
              "#0d0887"
             ],
             [
              0.1111111111111111,
              "#46039f"
             ],
             [
              0.2222222222222222,
              "#7201a8"
             ],
             [
              0.3333333333333333,
              "#9c179e"
             ],
             [
              0.4444444444444444,
              "#bd3786"
             ],
             [
              0.5555555555555556,
              "#d8576b"
             ],
             [
              0.6666666666666666,
              "#ed7953"
             ],
             [
              0.7777777777777778,
              "#fb9f3a"
             ],
             [
              0.8888888888888888,
              "#fdca26"
             ],
             [
              1,
              "#f0f921"
             ]
            ],
            "type": "contour"
           }
          ],
          "contourcarpet": [
           {
            "colorbar": {
             "outlinewidth": 0,
             "ticks": ""
            },
            "type": "contourcarpet"
           }
          ],
          "heatmap": [
           {
            "colorbar": {
             "outlinewidth": 0,
             "ticks": ""
            },
            "colorscale": [
             [
              0,
              "#0d0887"
             ],
             [
              0.1111111111111111,
              "#46039f"
             ],
             [
              0.2222222222222222,
              "#7201a8"
             ],
             [
              0.3333333333333333,
              "#9c179e"
             ],
             [
              0.4444444444444444,
              "#bd3786"
             ],
             [
              0.5555555555555556,
              "#d8576b"
             ],
             [
              0.6666666666666666,
              "#ed7953"
             ],
             [
              0.7777777777777778,
              "#fb9f3a"
             ],
             [
              0.8888888888888888,
              "#fdca26"
             ],
             [
              1,
              "#f0f921"
             ]
            ],
            "type": "heatmap"
           }
          ],
          "heatmapgl": [
           {
            "colorbar": {
             "outlinewidth": 0,
             "ticks": ""
            },
            "colorscale": [
             [
              0,
              "#0d0887"
             ],
             [
              0.1111111111111111,
              "#46039f"
             ],
             [
              0.2222222222222222,
              "#7201a8"
             ],
             [
              0.3333333333333333,
              "#9c179e"
             ],
             [
              0.4444444444444444,
              "#bd3786"
             ],
             [
              0.5555555555555556,
              "#d8576b"
             ],
             [
              0.6666666666666666,
              "#ed7953"
             ],
             [
              0.7777777777777778,
              "#fb9f3a"
             ],
             [
              0.8888888888888888,
              "#fdca26"
             ],
             [
              1,
              "#f0f921"
             ]
            ],
            "type": "heatmapgl"
           }
          ],
          "histogram": [
           {
            "marker": {
             "pattern": {
              "fillmode": "overlay",
              "size": 10,
              "solidity": 0.2
             }
            },
            "type": "histogram"
           }
          ],
          "histogram2d": [
           {
            "colorbar": {
             "outlinewidth": 0,
             "ticks": ""
            },
            "colorscale": [
             [
              0,
              "#0d0887"
             ],
             [
              0.1111111111111111,
              "#46039f"
             ],
             [
              0.2222222222222222,
              "#7201a8"
             ],
             [
              0.3333333333333333,
              "#9c179e"
             ],
             [
              0.4444444444444444,
              "#bd3786"
             ],
             [
              0.5555555555555556,
              "#d8576b"
             ],
             [
              0.6666666666666666,
              "#ed7953"
             ],
             [
              0.7777777777777778,
              "#fb9f3a"
             ],
             [
              0.8888888888888888,
              "#fdca26"
             ],
             [
              1,
              "#f0f921"
             ]
            ],
            "type": "histogram2d"
           }
          ],
          "histogram2dcontour": [
           {
            "colorbar": {
             "outlinewidth": 0,
             "ticks": ""
            },
            "colorscale": [
             [
              0,
              "#0d0887"
             ],
             [
              0.1111111111111111,
              "#46039f"
             ],
             [
              0.2222222222222222,
              "#7201a8"
             ],
             [
              0.3333333333333333,
              "#9c179e"
             ],
             [
              0.4444444444444444,
              "#bd3786"
             ],
             [
              0.5555555555555556,
              "#d8576b"
             ],
             [
              0.6666666666666666,
              "#ed7953"
             ],
             [
              0.7777777777777778,
              "#fb9f3a"
             ],
             [
              0.8888888888888888,
              "#fdca26"
             ],
             [
              1,
              "#f0f921"
             ]
            ],
            "type": "histogram2dcontour"
           }
          ],
          "mesh3d": [
           {
            "colorbar": {
             "outlinewidth": 0,
             "ticks": ""
            },
            "type": "mesh3d"
           }
          ],
          "parcoords": [
           {
            "line": {
             "colorbar": {
              "outlinewidth": 0,
              "ticks": ""
             }
            },
            "type": "parcoords"
           }
          ],
          "pie": [
           {
            "automargin": true,
            "type": "pie"
           }
          ],
          "scatter": [
           {
            "fillpattern": {
             "fillmode": "overlay",
             "size": 10,
             "solidity": 0.2
            },
            "type": "scatter"
           }
          ],
          "scatter3d": [
           {
            "line": {
             "colorbar": {
              "outlinewidth": 0,
              "ticks": ""
             }
            },
            "marker": {
             "colorbar": {
              "outlinewidth": 0,
              "ticks": ""
             }
            },
            "type": "scatter3d"
           }
          ],
          "scattercarpet": [
           {
            "marker": {
             "colorbar": {
              "outlinewidth": 0,
              "ticks": ""
             }
            },
            "type": "scattercarpet"
           }
          ],
          "scattergeo": [
           {
            "marker": {
             "colorbar": {
              "outlinewidth": 0,
              "ticks": ""
             }
            },
            "type": "scattergeo"
           }
          ],
          "scattergl": [
           {
            "marker": {
             "colorbar": {
              "outlinewidth": 0,
              "ticks": ""
             }
            },
            "type": "scattergl"
           }
          ],
          "scattermapbox": [
           {
            "marker": {
             "colorbar": {
              "outlinewidth": 0,
              "ticks": ""
             }
            },
            "type": "scattermapbox"
           }
          ],
          "scatterpolar": [
           {
            "marker": {
             "colorbar": {
              "outlinewidth": 0,
              "ticks": ""
             }
            },
            "type": "scatterpolar"
           }
          ],
          "scatterpolargl": [
           {
            "marker": {
             "colorbar": {
              "outlinewidth": 0,
              "ticks": ""
             }
            },
            "type": "scatterpolargl"
           }
          ],
          "scatterternary": [
           {
            "marker": {
             "colorbar": {
              "outlinewidth": 0,
              "ticks": ""
             }
            },
            "type": "scatterternary"
           }
          ],
          "surface": [
           {
            "colorbar": {
             "outlinewidth": 0,
             "ticks": ""
            },
            "colorscale": [
             [
              0,
              "#0d0887"
             ],
             [
              0.1111111111111111,
              "#46039f"
             ],
             [
              0.2222222222222222,
              "#7201a8"
             ],
             [
              0.3333333333333333,
              "#9c179e"
             ],
             [
              0.4444444444444444,
              "#bd3786"
             ],
             [
              0.5555555555555556,
              "#d8576b"
             ],
             [
              0.6666666666666666,
              "#ed7953"
             ],
             [
              0.7777777777777778,
              "#fb9f3a"
             ],
             [
              0.8888888888888888,
              "#fdca26"
             ],
             [
              1,
              "#f0f921"
             ]
            ],
            "type": "surface"
           }
          ],
          "table": [
           {
            "cells": {
             "fill": {
              "color": "#EBF0F8"
             },
             "line": {
              "color": "white"
             }
            },
            "header": {
             "fill": {
              "color": "#C8D4E3"
             },
             "line": {
              "color": "white"
             }
            },
            "type": "table"
           }
          ]
         },
         "layout": {
          "annotationdefaults": {
           "arrowcolor": "#2a3f5f",
           "arrowhead": 0,
           "arrowwidth": 1
          },
          "autotypenumbers": "strict",
          "coloraxis": {
           "colorbar": {
            "outlinewidth": 0,
            "ticks": ""
           }
          },
          "colorscale": {
           "diverging": [
            [
             0,
             "#8e0152"
            ],
            [
             0.1,
             "#c51b7d"
            ],
            [
             0.2,
             "#de77ae"
            ],
            [
             0.3,
             "#f1b6da"
            ],
            [
             0.4,
             "#fde0ef"
            ],
            [
             0.5,
             "#f7f7f7"
            ],
            [
             0.6,
             "#e6f5d0"
            ],
            [
             0.7,
             "#b8e186"
            ],
            [
             0.8,
             "#7fbc41"
            ],
            [
             0.9,
             "#4d9221"
            ],
            [
             1,
             "#276419"
            ]
           ],
           "sequential": [
            [
             0,
             "#0d0887"
            ],
            [
             0.1111111111111111,
             "#46039f"
            ],
            [
             0.2222222222222222,
             "#7201a8"
            ],
            [
             0.3333333333333333,
             "#9c179e"
            ],
            [
             0.4444444444444444,
             "#bd3786"
            ],
            [
             0.5555555555555556,
             "#d8576b"
            ],
            [
             0.6666666666666666,
             "#ed7953"
            ],
            [
             0.7777777777777778,
             "#fb9f3a"
            ],
            [
             0.8888888888888888,
             "#fdca26"
            ],
            [
             1,
             "#f0f921"
            ]
           ],
           "sequentialminus": [
            [
             0,
             "#0d0887"
            ],
            [
             0.1111111111111111,
             "#46039f"
            ],
            [
             0.2222222222222222,
             "#7201a8"
            ],
            [
             0.3333333333333333,
             "#9c179e"
            ],
            [
             0.4444444444444444,
             "#bd3786"
            ],
            [
             0.5555555555555556,
             "#d8576b"
            ],
            [
             0.6666666666666666,
             "#ed7953"
            ],
            [
             0.7777777777777778,
             "#fb9f3a"
            ],
            [
             0.8888888888888888,
             "#fdca26"
            ],
            [
             1,
             "#f0f921"
            ]
           ]
          },
          "colorway": [
           "#636efa",
           "#EF553B",
           "#00cc96",
           "#ab63fa",
           "#FFA15A",
           "#19d3f3",
           "#FF6692",
           "#B6E880",
           "#FF97FF",
           "#FECB52"
          ],
          "font": {
           "color": "#2a3f5f"
          },
          "geo": {
           "bgcolor": "white",
           "lakecolor": "white",
           "landcolor": "#E5ECF6",
           "showlakes": true,
           "showland": true,
           "subunitcolor": "white"
          },
          "hoverlabel": {
           "align": "left"
          },
          "hovermode": "closest",
          "mapbox": {
           "style": "light"
          },
          "paper_bgcolor": "white",
          "plot_bgcolor": "#E5ECF6",
          "polar": {
           "angularaxis": {
            "gridcolor": "white",
            "linecolor": "white",
            "ticks": ""
           },
           "bgcolor": "#E5ECF6",
           "radialaxis": {
            "gridcolor": "white",
            "linecolor": "white",
            "ticks": ""
           }
          },
          "scene": {
           "xaxis": {
            "backgroundcolor": "#E5ECF6",
            "gridcolor": "white",
            "gridwidth": 2,
            "linecolor": "white",
            "showbackground": true,
            "ticks": "",
            "zerolinecolor": "white"
           },
           "yaxis": {
            "backgroundcolor": "#E5ECF6",
            "gridcolor": "white",
            "gridwidth": 2,
            "linecolor": "white",
            "showbackground": true,
            "ticks": "",
            "zerolinecolor": "white"
           },
           "zaxis": {
            "backgroundcolor": "#E5ECF6",
            "gridcolor": "white",
            "gridwidth": 2,
            "linecolor": "white",
            "showbackground": true,
            "ticks": "",
            "zerolinecolor": "white"
           }
          },
          "shapedefaults": {
           "line": {
            "color": "#2a3f5f"
           }
          },
          "ternary": {
           "aaxis": {
            "gridcolor": "white",
            "linecolor": "white",
            "ticks": ""
           },
           "baxis": {
            "gridcolor": "white",
            "linecolor": "white",
            "ticks": ""
           },
           "bgcolor": "#E5ECF6",
           "caxis": {
            "gridcolor": "white",
            "linecolor": "white",
            "ticks": ""
           }
          },
          "title": {
           "x": 0.05
          },
          "xaxis": {
           "automargin": true,
           "gridcolor": "white",
           "linecolor": "white",
           "ticks": "",
           "title": {
            "standoff": 15
           },
           "zerolinecolor": "white",
           "zerolinewidth": 2
          },
          "yaxis": {
           "automargin": true,
           "gridcolor": "white",
           "linecolor": "white",
           "ticks": "",
           "title": {
            "standoff": 15
           },
           "zerolinecolor": "white",
           "zerolinewidth": 2
          }
         }
        },
        "title": {
         "text": "cfact probes on ez data"
        },
        "xaxis": {
         "anchor": "y",
         "constrain": "domain",
         "domain": [
          0,
          1
         ],
         "scaleanchor": "y",
         "title": {
          "text": "Heads (sorted)"
         }
        },
        "yaxis": {
         "anchor": "x",
         "autorange": true,
         "constrain": "domain",
         "domain": [
          0,
          1
         ],
         "title": {
          "text": "Layers"
         }
        }
       }
      },
      "text/html": [
       "<div>                            <div id=\"f4068396-0bfc-4941-a7b1-d85d94abf7ad\" class=\"plotly-graph-div\" style=\"height:525px; width:100%;\"></div>            <script type=\"text/javascript\">                require([\"plotly\"], function(Plotly) {                    window.PLOTLYENV=window.PLOTLYENV || {};                                    if (document.getElementById(\"f4068396-0bfc-4941-a7b1-d85d94abf7ad\")) {                    Plotly.newPlot(                        \"f4068396-0bfc-4941-a7b1-d85d94abf7ad\",                        [{\"coloraxis\":\"coloraxis\",\"name\":\"0\",\"z\":[[0.525,0.525,0.525,0.525,0.525,0.525,0.525,0.525,0.52,0.445,0.525,0.525,0.525,0.51,0.525,0.525,0.525,0.525,0.525,0.525,0.515,0.525,0.525,0.525,0.515],[0.53,0.535,0.515,0.51,0.455,0.525,0.48,0.525,0.52,0.505,0.525,0.56,0.52,0.47,0.525,0.525,0.48,0.54,0.525,0.505,0.5,0.525,0.555,0.52,0.605],[0.52,0.59,0.52,0.525,0.525,0.485,0.525,0.52,0.51,0.545,0.48,0.48,0.53,0.51,0.47,0.59,0.53,0.49,0.54,0.46,0.545,0.53,0.51,0.515,0.505],[0.41,0.53,0.545,0.515,0.56,0.575,0.655,0.53,0.43,0.49,0.455,0.505,0.525,0.48,0.525,0.5,0.525,0.475,0.5,0.505,0.57,0.525,0.535,0.475,0.575],[0.525,0.525,0.555,0.475,0.53,0.42,0.56,0.475,0.53,0.375,0.545,0.525,0.36,0.545,0.515,0.525,0.53,0.52,0.505,0.515,0.475,0.5,0.435,0.545,0.49],[0.44,0.575,0.49,0.555,0.505,0.525,0.575,0.49,0.45,0.44,0.525,0.525,0.51,0.53,0.525,0.535,0.545,0.51,0.51,0.55,0.535,0.55,0.5,0.585,0.38],[0.52,0.5,0.52,0.5,0.605,0.38,0.5,0.575,0.61,0.565,0.625,0.465,0.5,0.49,0.455,0.52,0.52,0.605,0.55,0.49,0.49,0.55,0.55,0.52,0.515],[0.545,0.52,0.51,0.43,0.515,0.52,0.575,0.51,0.615,0.4,0.485,0.48,0.495,0.495,0.565,0.525,0.335,0.515,0.495,0.6,0.58,0.43,0.495,0.565,0.525],[0.515,0.465,0.515,0.49,0.505,0.535,0.42,0.535,0.565,0.54,0.54,0.48,0.505,0.52,0.47,0.565,0.475,0.485,0.51,0.625,0.515,0.48,0.445,0.51,0.495],[0.535,0.515,0.555,0.56,0.58,0.52,0.48,0.49,0.53,0.595,0.595,0.51,0.56,0.515,0.42,0.485,0.505,0.525,0.535,0.6,0.515,0.53,0.49,0.605,0.565],[0.415,0.495,0.49,0.54,0.5,0.525,0.47,0.5,0.495,0.55,0.555,0.48,0.485,0.495,0.515,0.5,0.5,0.535,0.5,0.415,0.415,0.48,0.445,0.485,0.515],[0.545,0.485,0.53,0.485,0.505,0.51,0.595,0.545,0.47,0.52,0.565,0.52,0.575,0.54,0.485,0.525,0.535,0.535,0.525,0.465,0.575,0.545,0.52,0.595,0.535],[0.44,0.535,0.535,0.59,0.49,0.58,0.56,0.485,0.395,0.45,0.595,0.52,0.49,0.37,0.435,0.525,0.525,0.455,0.595,0.435,0.585,0.495,0.435,0.51,0.51],[0.555,0.5,0.55,0.5,0.505,0.6,0.42,0.54,0.56,0.56,0.43,0.56,0.51,0.52,0.615,0.435,0.53,0.545,0.475,0.45,0.495,0.51,0.56,0.54,0.46],[0.575,0.505,0.595,0.53,0.465,0.45,0.425,0.49,0.485,0.52,0.525,0.53,0.53,0.49,0.61,0.41,0.505,0.42,0.545,0.58,0.5,0.655,0.51,0.445,0.53],[0.56,0.63,0.655,0.555,0.665,0.535,0.43,0.48,0.52,0.555,0.505,0.625,0.635,0.565,0.49,0.48,0.53,0.52,0.48,0.505,0.49,0.52,0.555,0.53,0.525],[0.565,0.475,0.475,0.535,0.645,0.555,0.565,0.53,0.525,0.535,0.535,0.54,0.49,0.525,0.525,0.565,0.6,0.555,0.52,0.575,0.565,0.455,0.535,0.55,0.61],[0.54,0.54,0.55,0.54,0.61,0.575,0.525,0.57,0.405,0.49,0.535,0.525,0.51,0.525,0.58,0.535,0.54,0.515,0.495,0.48,0.62,0.47,0.43,0.505,0.455],[0.53,0.64,0.585,0.605,0.58,0.585,0.515,0.46,0.495,0.535,0.565,0.475,0.495,0.54,0.49,0.55,0.615,0.495,0.505,0.59,0.585,0.54,0.535,0.585,0.57],[0.535,0.565,0.605,0.52,0.525,0.515,0.375,0.57,0.51,0.545,0.605,0.555,0.515,0.67,0.55,0.735,0.495,0.68,0.54,0.555,0.655,0.545,0.51,0.51,0.63],[0.52,0.58,0.505,0.495,0.47,0.54,0.52,0.525,0.54,0.515,0.63,0.675,0.605,0.515,0.535,0.535,0.52,0.495,0.575,0.61,0.57,0.74,0.5,0.42,0.565],[0.51,0.595,0.375,0.455,0.53,0.515,0.525,0.465,0.515,0.52,0.555,0.485,0.58,0.625,0.56,0.485,0.575,0.575,0.565,0.54,0.53,0.485,0.575,0.555,0.495],[0.52,0.565,0.54,0.48,0.525,0.535,0.53,0.51,0.6,0.535,0.54,0.56,0.62,0.505,0.46,0.635,0.575,0.56,0.515,0.53,0.52,0.615,0.505,0.555,0.615],[0.49,0.44,0.525,0.55,0.535,0.525,0.545,0.505,0.45,0.51,0.52,0.48,0.555,0.575,0.555,0.565,0.555,0.54,0.495,0.54,0.51,0.54,0.515,0.525,0.53],[0.54,0.495,0.52,0.42,0.525,0.52,0.54,0.51,0.55,0.54,0.51,0.585,0.54,0.565,0.51,0.515,0.54,0.54,0.43,0.57,0.555,0.525,0.545,0.52,0.45],[0.48,0.555,0.53,0.49,0.545,0.48,0.61,0.505,0.535,0.515,0.625,0.475,0.51,0.53,0.53,0.455,0.53,0.58,0.525,0.53,0.5,0.595,0.45,0.465,0.475],[0.505,0.45,0.575,0.525,0.525,0.515,0.535,0.455,0.55,0.46,0.485,0.565,0.43,0.515,0.535,0.56,0.52,0.54,0.525,0.52,0.525,0.565,0.525,0.51,0.615],[0.48,0.515,0.525,0.51,0.45,0.435,0.505,0.515,0.45,0.525,0.535,0.475,0.51,0.57,0.46,0.54,0.53,0.52,0.485,0.565,0.505,0.44,0.495,0.555,0.505],[0.41,0.57,0.49,0.59,0.505,0.46,0.475,0.53,0.495,0.485,0.58,0.55,0.555,0.45,0.495,0.435,0.44,0.53,0.525,0.515,0.455,0.465,0.52,0.49,0.595],[0.485,0.515,0.51,0.47,0.56,0.53,0.525,0.52,0.505,0.53,0.505,0.585,0.54,0.515,0.53,0.52,0.535,0.505,0.57,0.55,0.49,0.645,0.58,0.44,0.535],[0.475,0.51,0.495,0.58,0.555,0.45,0.47,0.57,0.49,0.515,0.52,0.595,0.51,0.545,0.605,0.485,0.525,0.5,0.52,0.51,0.51,0.525,0.49,0.5,0.475],[0.5,0.535,0.49,0.485,0.5,0.54,0.535,0.53,0.545,0.605,0.59,0.59,0.515,0.535,0.56,0.495,0.51,0.535,0.525,0.525,0.52,0.53,0.53,0.525,0.565],[0.55,0.5,0.48,0.535,0.5,0.525,0.525,0.525,0.515,0.56,0.53,0.515,0.52,0.455,0.51,0.51,0.57,0.48,0.495,0.51,0.5,0.42,0.525,0.52,0.545],[0.5,0.48,0.505,0.5,0.395,0.545,0.52,0.535,0.52,0.415,0.465,0.52,0.5,0.505,0.49,0.48,0.515,0.5,0.58,0.585,0.505,0.535,0.56,0.52,0.485],[0.465,0.525,0.47,0.49,0.58,0.525,0.575,0.54,0.52,0.515,0.435,0.525,0.56,0.545,0.465,0.495,0.535,0.455,0.48,0.475,0.54,0.505,0.525,0.47,0.46],[0.48,0.465,0.525,0.415,0.51,0.48,0.5,0.53,0.53,0.585,0.515,0.515,0.475,0.46,0.505,0.43,0.505,0.46,0.495,0.505,0.525,0.53,0.465,0.475,0.5],[0.545,0.5,0.465,0.505,0.545,0.53,0.5,0.46,0.49,0.49,0.515,0.545,0.525,0.435,0.495,0.515,0.555,0.45,0.535,0.465,0.48,0.54,0.515,0.57,0.515],[0.515,0.525,0.47,0.46,0.505,0.49,0.565,0.5,0.52,0.525,0.485,0.49,0.535,0.47,0.585,0.505,0.495,0.525,0.525,0.57,0.535,0.53,0.515,0.515,0.5],[0.475,0.48,0.435,0.5,0.52,0.495,0.525,0.52,0.455,0.56,0.525,0.5,0.525,0.505,0.495,0.495,0.48,0.57,0.535,0.53,0.51,0.535,0.505,0.56,0.465],[0.515,0.515,0.56,0.5,0.51,0.53,0.455,0.5,0.525,0.475,0.515,0.445,0.515,0.52,0.515,0.545,0.525,0.51,0.53,0.48,0.51,0.515,0.555,0.5,0.52],[0.505,0.47,0.53,0.505,0.5,0.51,0.505,0.54,0.535,0.54,0.53,0.5,0.51,0.525,0.53,0.525,0.505,0.535,0.48,0.525,0.505,0.54,0.46,0.5,0.555],[0.49,0.495,0.49,0.5,0.47,0.465,0.515,0.485,0.52,0.48,0.565,0.56,0.51,0.485,0.515,0.525,0.515,0.485,0.495,0.51,0.5,0.495,0.485,0.475,0.515],[0.485,0.525,0.46,0.49,0.495,0.55,0.55,0.47,0.53,0.505,0.525,0.515,0.515,0.465,0.505,0.505,0.52,0.52,0.515,0.525,0.545,0.585,0.42,0.465,0.51],[0.46,0.49,0.515,0.52,0.525,0.54,0.495,0.515,0.52,0.465,0.43,0.435,0.465,0.525,0.51,0.555,0.545,0.52,0.45,0.51,0.525,0.48,0.54,0.565,0.555],[0.52,0.55,0.525,0.51,0.42,0.455,0.51,0.5,0.53,0.59,0.485,0.49,0.55,0.45,0.53,0.5,0.535,0.525,0.51,0.475,0.545,0.52,0.5,0.53,0.55],[0.465,0.49,0.56,0.5,0.495,0.515,0.555,0.555,0.475,0.51,0.49,0.57,0.52,0.485,0.45,0.495,0.595,0.52,0.51,0.475,0.485,0.545,0.475,0.54,0.515],[0.545,0.465,0.49,0.455,0.5,0.51,0.51,0.53,0.57,0.52,0.51,0.525,0.44,0.555,0.565,0.545,0.5,0.485,0.475,0.48,0.585,0.46,0.45,0.53,0.52],[0.515,0.49,0.49,0.515,0.525,0.49,0.43,0.46,0.53,0.555,0.51,0.585,0.515,0.49,0.525,0.53,0.49,0.51,0.57,0.44,0.48,0.46,0.51,0.525,0.475]],\"type\":\"heatmap\",\"xaxis\":\"x\",\"yaxis\":\"y\",\"hovertemplate\":\"Heads (sorted): %{x}\\u003cbr\\u003eLayers: %{y}\\u003cbr\\u003ecolor: %{z}\\u003cextra\\u003e\\u003c\\u002fextra\\u003e\"}],                        {\"template\":{\"data\":{\"histogram2dcontour\":[{\"type\":\"histogram2dcontour\",\"colorbar\":{\"outlinewidth\":0,\"ticks\":\"\"},\"colorscale\":[[0.0,\"#0d0887\"],[0.1111111111111111,\"#46039f\"],[0.2222222222222222,\"#7201a8\"],[0.3333333333333333,\"#9c179e\"],[0.4444444444444444,\"#bd3786\"],[0.5555555555555556,\"#d8576b\"],[0.6666666666666666,\"#ed7953\"],[0.7777777777777778,\"#fb9f3a\"],[0.8888888888888888,\"#fdca26\"],[1.0,\"#f0f921\"]]}],\"choropleth\":[{\"type\":\"choropleth\",\"colorbar\":{\"outlinewidth\":0,\"ticks\":\"\"}}],\"histogram2d\":[{\"type\":\"histogram2d\",\"colorbar\":{\"outlinewidth\":0,\"ticks\":\"\"},\"colorscale\":[[0.0,\"#0d0887\"],[0.1111111111111111,\"#46039f\"],[0.2222222222222222,\"#7201a8\"],[0.3333333333333333,\"#9c179e\"],[0.4444444444444444,\"#bd3786\"],[0.5555555555555556,\"#d8576b\"],[0.6666666666666666,\"#ed7953\"],[0.7777777777777778,\"#fb9f3a\"],[0.8888888888888888,\"#fdca26\"],[1.0,\"#f0f921\"]]}],\"heatmap\":[{\"type\":\"heatmap\",\"colorbar\":{\"outlinewidth\":0,\"ticks\":\"\"},\"colorscale\":[[0.0,\"#0d0887\"],[0.1111111111111111,\"#46039f\"],[0.2222222222222222,\"#7201a8\"],[0.3333333333333333,\"#9c179e\"],[0.4444444444444444,\"#bd3786\"],[0.5555555555555556,\"#d8576b\"],[0.6666666666666666,\"#ed7953\"],[0.7777777777777778,\"#fb9f3a\"],[0.8888888888888888,\"#fdca26\"],[1.0,\"#f0f921\"]]}],\"heatmapgl\":[{\"type\":\"heatmapgl\",\"colorbar\":{\"outlinewidth\":0,\"ticks\":\"\"},\"colorscale\":[[0.0,\"#0d0887\"],[0.1111111111111111,\"#46039f\"],[0.2222222222222222,\"#7201a8\"],[0.3333333333333333,\"#9c179e\"],[0.4444444444444444,\"#bd3786\"],[0.5555555555555556,\"#d8576b\"],[0.6666666666666666,\"#ed7953\"],[0.7777777777777778,\"#fb9f3a\"],[0.8888888888888888,\"#fdca26\"],[1.0,\"#f0f921\"]]}],\"contourcarpet\":[{\"type\":\"contourcarpet\",\"colorbar\":{\"outlinewidth\":0,\"ticks\":\"\"}}],\"contour\":[{\"type\":\"contour\",\"colorbar\":{\"outlinewidth\":0,\"ticks\":\"\"},\"colorscale\":[[0.0,\"#0d0887\"],[0.1111111111111111,\"#46039f\"],[0.2222222222222222,\"#7201a8\"],[0.3333333333333333,\"#9c179e\"],[0.4444444444444444,\"#bd3786\"],[0.5555555555555556,\"#d8576b\"],[0.6666666666666666,\"#ed7953\"],[0.7777777777777778,\"#fb9f3a\"],[0.8888888888888888,\"#fdca26\"],[1.0,\"#f0f921\"]]}],\"surface\":[{\"type\":\"surface\",\"colorbar\":{\"outlinewidth\":0,\"ticks\":\"\"},\"colorscale\":[[0.0,\"#0d0887\"],[0.1111111111111111,\"#46039f\"],[0.2222222222222222,\"#7201a8\"],[0.3333333333333333,\"#9c179e\"],[0.4444444444444444,\"#bd3786\"],[0.5555555555555556,\"#d8576b\"],[0.6666666666666666,\"#ed7953\"],[0.7777777777777778,\"#fb9f3a\"],[0.8888888888888888,\"#fdca26\"],[1.0,\"#f0f921\"]]}],\"mesh3d\":[{\"type\":\"mesh3d\",\"colorbar\":{\"outlinewidth\":0,\"ticks\":\"\"}}],\"scatter\":[{\"fillpattern\":{\"fillmode\":\"overlay\",\"size\":10,\"solidity\":0.2},\"type\":\"scatter\"}],\"parcoords\":[{\"type\":\"parcoords\",\"line\":{\"colorbar\":{\"outlinewidth\":0,\"ticks\":\"\"}}}],\"scatterpolargl\":[{\"type\":\"scatterpolargl\",\"marker\":{\"colorbar\":{\"outlinewidth\":0,\"ticks\":\"\"}}}],\"bar\":[{\"error_x\":{\"color\":\"#2a3f5f\"},\"error_y\":{\"color\":\"#2a3f5f\"},\"marker\":{\"line\":{\"color\":\"#E5ECF6\",\"width\":0.5},\"pattern\":{\"fillmode\":\"overlay\",\"size\":10,\"solidity\":0.2}},\"type\":\"bar\"}],\"scattergeo\":[{\"type\":\"scattergeo\",\"marker\":{\"colorbar\":{\"outlinewidth\":0,\"ticks\":\"\"}}}],\"scatterpolar\":[{\"type\":\"scatterpolar\",\"marker\":{\"colorbar\":{\"outlinewidth\":0,\"ticks\":\"\"}}}],\"histogram\":[{\"marker\":{\"pattern\":{\"fillmode\":\"overlay\",\"size\":10,\"solidity\":0.2}},\"type\":\"histogram\"}],\"scattergl\":[{\"type\":\"scattergl\",\"marker\":{\"colorbar\":{\"outlinewidth\":0,\"ticks\":\"\"}}}],\"scatter3d\":[{\"type\":\"scatter3d\",\"line\":{\"colorbar\":{\"outlinewidth\":0,\"ticks\":\"\"}},\"marker\":{\"colorbar\":{\"outlinewidth\":0,\"ticks\":\"\"}}}],\"scattermapbox\":[{\"type\":\"scattermapbox\",\"marker\":{\"colorbar\":{\"outlinewidth\":0,\"ticks\":\"\"}}}],\"scatterternary\":[{\"type\":\"scatterternary\",\"marker\":{\"colorbar\":{\"outlinewidth\":0,\"ticks\":\"\"}}}],\"scattercarpet\":[{\"type\":\"scattercarpet\",\"marker\":{\"colorbar\":{\"outlinewidth\":0,\"ticks\":\"\"}}}],\"carpet\":[{\"aaxis\":{\"endlinecolor\":\"#2a3f5f\",\"gridcolor\":\"white\",\"linecolor\":\"white\",\"minorgridcolor\":\"white\",\"startlinecolor\":\"#2a3f5f\"},\"baxis\":{\"endlinecolor\":\"#2a3f5f\",\"gridcolor\":\"white\",\"linecolor\":\"white\",\"minorgridcolor\":\"white\",\"startlinecolor\":\"#2a3f5f\"},\"type\":\"carpet\"}],\"table\":[{\"cells\":{\"fill\":{\"color\":\"#EBF0F8\"},\"line\":{\"color\":\"white\"}},\"header\":{\"fill\":{\"color\":\"#C8D4E3\"},\"line\":{\"color\":\"white\"}},\"type\":\"table\"}],\"barpolar\":[{\"marker\":{\"line\":{\"color\":\"#E5ECF6\",\"width\":0.5},\"pattern\":{\"fillmode\":\"overlay\",\"size\":10,\"solidity\":0.2}},\"type\":\"barpolar\"}],\"pie\":[{\"automargin\":true,\"type\":\"pie\"}]},\"layout\":{\"autotypenumbers\":\"strict\",\"colorway\":[\"#636efa\",\"#EF553B\",\"#00cc96\",\"#ab63fa\",\"#FFA15A\",\"#19d3f3\",\"#FF6692\",\"#B6E880\",\"#FF97FF\",\"#FECB52\"],\"font\":{\"color\":\"#2a3f5f\"},\"hovermode\":\"closest\",\"hoverlabel\":{\"align\":\"left\"},\"paper_bgcolor\":\"white\",\"plot_bgcolor\":\"#E5ECF6\",\"polar\":{\"bgcolor\":\"#E5ECF6\",\"angularaxis\":{\"gridcolor\":\"white\",\"linecolor\":\"white\",\"ticks\":\"\"},\"radialaxis\":{\"gridcolor\":\"white\",\"linecolor\":\"white\",\"ticks\":\"\"}},\"ternary\":{\"bgcolor\":\"#E5ECF6\",\"aaxis\":{\"gridcolor\":\"white\",\"linecolor\":\"white\",\"ticks\":\"\"},\"baxis\":{\"gridcolor\":\"white\",\"linecolor\":\"white\",\"ticks\":\"\"},\"caxis\":{\"gridcolor\":\"white\",\"linecolor\":\"white\",\"ticks\":\"\"}},\"coloraxis\":{\"colorbar\":{\"outlinewidth\":0,\"ticks\":\"\"}},\"colorscale\":{\"sequential\":[[0.0,\"#0d0887\"],[0.1111111111111111,\"#46039f\"],[0.2222222222222222,\"#7201a8\"],[0.3333333333333333,\"#9c179e\"],[0.4444444444444444,\"#bd3786\"],[0.5555555555555556,\"#d8576b\"],[0.6666666666666666,\"#ed7953\"],[0.7777777777777778,\"#fb9f3a\"],[0.8888888888888888,\"#fdca26\"],[1.0,\"#f0f921\"]],\"sequentialminus\":[[0.0,\"#0d0887\"],[0.1111111111111111,\"#46039f\"],[0.2222222222222222,\"#7201a8\"],[0.3333333333333333,\"#9c179e\"],[0.4444444444444444,\"#bd3786\"],[0.5555555555555556,\"#d8576b\"],[0.6666666666666666,\"#ed7953\"],[0.7777777777777778,\"#fb9f3a\"],[0.8888888888888888,\"#fdca26\"],[1.0,\"#f0f921\"]],\"diverging\":[[0,\"#8e0152\"],[0.1,\"#c51b7d\"],[0.2,\"#de77ae\"],[0.3,\"#f1b6da\"],[0.4,\"#fde0ef\"],[0.5,\"#f7f7f7\"],[0.6,\"#e6f5d0\"],[0.7,\"#b8e186\"],[0.8,\"#7fbc41\"],[0.9,\"#4d9221\"],[1,\"#276419\"]]},\"xaxis\":{\"gridcolor\":\"white\",\"linecolor\":\"white\",\"ticks\":\"\",\"title\":{\"standoff\":15},\"zerolinecolor\":\"white\",\"automargin\":true,\"zerolinewidth\":2},\"yaxis\":{\"gridcolor\":\"white\",\"linecolor\":\"white\",\"ticks\":\"\",\"title\":{\"standoff\":15},\"zerolinecolor\":\"white\",\"automargin\":true,\"zerolinewidth\":2},\"scene\":{\"xaxis\":{\"backgroundcolor\":\"#E5ECF6\",\"gridcolor\":\"white\",\"linecolor\":\"white\",\"showbackground\":true,\"ticks\":\"\",\"zerolinecolor\":\"white\",\"gridwidth\":2},\"yaxis\":{\"backgroundcolor\":\"#E5ECF6\",\"gridcolor\":\"white\",\"linecolor\":\"white\",\"showbackground\":true,\"ticks\":\"\",\"zerolinecolor\":\"white\",\"gridwidth\":2},\"zaxis\":{\"backgroundcolor\":\"#E5ECF6\",\"gridcolor\":\"white\",\"linecolor\":\"white\",\"showbackground\":true,\"ticks\":\"\",\"zerolinecolor\":\"white\",\"gridwidth\":2}},\"shapedefaults\":{\"line\":{\"color\":\"#2a3f5f\"}},\"annotationdefaults\":{\"arrowcolor\":\"#2a3f5f\",\"arrowhead\":0,\"arrowwidth\":1},\"geo\":{\"bgcolor\":\"white\",\"landcolor\":\"#E5ECF6\",\"subunitcolor\":\"white\",\"showland\":true,\"showlakes\":true,\"lakecolor\":\"white\"},\"title\":{\"x\":0.05},\"mapbox\":{\"style\":\"light\"}}},\"xaxis\":{\"anchor\":\"y\",\"domain\":[0.0,1.0],\"scaleanchor\":\"y\",\"constrain\":\"domain\",\"title\":{\"text\":\"Heads (sorted)\"}},\"yaxis\":{\"anchor\":\"x\",\"domain\":[0.0,1.0],\"autorange\":true,\"constrain\":\"domain\",\"title\":{\"text\":\"Layers\"}},\"coloraxis\":{\"colorscale\":[[0.0,\"rgb(255,255,217)\"],[0.125,\"rgb(237,248,177)\"],[0.25,\"rgb(199,233,180)\"],[0.375,\"rgb(127,205,187)\"],[0.5,\"rgb(65,182,196)\"],[0.625,\"rgb(29,145,192)\"],[0.75,\"rgb(34,94,168)\"],[0.875,\"rgb(37,52,148)\"],[1.0,\"rgb(8,29,88)\"]],\"cmid\":0.5},\"title\":{\"text\":\"cfact probes on ez data\"}},                        {\"responsive\": true}                    ).then(function(){\n",
       "                            \n",
       "var gd = document.getElementById('f4068396-0bfc-4941-a7b1-d85d94abf7ad');\n",
       "var x = new MutationObserver(function (mutations, observer) {{\n",
       "        var display = window.getComputedStyle(gd).display;\n",
       "        if (!display || display === 'none') {{\n",
       "            console.log([gd, 'removed!']);\n",
       "            Plotly.purge(gd);\n",
       "            observer.disconnect();\n",
       "        }}\n",
       "}});\n",
       "\n",
       "// Listen for the removal of the full notebook cells\n",
       "var notebookContainer = gd.closest('#notebook-container');\n",
       "if (notebookContainer) {{\n",
       "    x.observe(notebookContainer, {childList: true});\n",
       "}}\n",
       "\n",
       "// Listen for the clearing of the current output cell\n",
       "var outputEl = gd.closest('.output');\n",
       "if (outputEl) {{\n",
       "    x.observe(outputEl, {childList: true});\n",
       "}}\n",
       "\n",
       "                        })                };                });            </script>        </div>"
      ]
     },
     "metadata": {},
     "output_type": "display_data"
    },
    {
     "name": "stderr",
     "output_type": "stream",
     "text": [
      "1200it [00:00, 2253.89it/s]\n"
     ]
    },
    {
     "data": {
      "application/vnd.plotly.v1+json": {
       "config": {
        "plotlyServerURL": "https://plot.ly"
       },
       "data": [
        {
         "coloraxis": "coloraxis",
         "hovertemplate": "Heads (sorted): %{x}<br>Layers: %{y}<br>color: %{z}<extra></extra>",
         "name": "0",
         "type": "heatmap",
         "xaxis": "x",
         "yaxis": "y",
         "z": [
          [
           0.56,
           0.5,
           0.5,
           0.48,
           0.51,
           0.545,
           0.495,
           0.515,
           0.54,
           0.55,
           0.525,
           0.48,
           0.465,
           0.45,
           0.505,
           0.45,
           0.545,
           0.55,
           0.485,
           0.505,
           0.49,
           0.475,
           0.49,
           0.515,
           0.53
          ],
          [
           0.445,
           0.48,
           0.58,
           0.46,
           0.44,
           0.445,
           0.49,
           0.48,
           0.56,
           0.53,
           0.5,
           0.52,
           0.45,
           0.49,
           0.535,
           0.48,
           0.45,
           0.495,
           0.505,
           0.56,
           0.51,
           0.46,
           0.58,
           0.46,
           0.52
          ],
          [
           0.46,
           0.445,
           0.43,
           0.47,
           0.505,
           0.53,
           0.45,
           0.435,
           0.445,
           0.565,
           0.53,
           0.555,
           0.445,
           0.53,
           0.5,
           0.48,
           0.45,
           0.48,
           0.535,
           0.54,
           0.54,
           0.445,
           0.45,
           0.505,
           0.445
          ],
          [
           0.485,
           0.48,
           0.53,
           0.48,
           0.47,
           0.545,
           0.495,
           0.48,
           0.495,
           0.46,
           0.445,
           0.505,
           0.555,
           0.495,
           0.49,
           0.59,
           0.55,
           0.53,
           0.51,
           0.455,
           0.475,
           0.48,
           0.465,
           0.53,
           0.505
          ],
          [
           0.495,
           0.455,
           0.495,
           0.48,
           0.485,
           0.53,
           0.46,
           0.545,
           0.485,
           0.47,
           0.49,
           0.475,
           0.475,
           0.57,
           0.495,
           0.54,
           0.525,
           0.48,
           0.455,
           0.445,
           0.51,
           0.485,
           0.51,
           0.485,
           0.505
          ],
          [
           0.525,
           0.54,
           0.53,
           0.54,
           0.455,
           0.47,
           0.505,
           0.47,
           0.525,
           0.545,
           0.49,
           0.435,
           0.525,
           0.495,
           0.485,
           0.505,
           0.485,
           0.51,
           0.565,
           0.47,
           0.515,
           0.495,
           0.49,
           0.53,
           0.425
          ],
          [
           0.495,
           0.51,
           0.535,
           0.5,
           0.495,
           0.49,
           0.57,
           0.54,
           0.525,
           0.5,
           0.475,
           0.505,
           0.565,
           0.45,
           0.525,
           0.49,
           0.53,
           0.485,
           0.465,
           0.455,
           0.48,
           0.51,
           0.54,
           0.53,
           0.485
          ],
          [
           0.475,
           0.485,
           0.485,
           0.475,
           0.505,
           0.555,
           0.51,
           0.56,
           0.51,
           0.54,
           0.455,
           0.56,
           0.495,
           0.52,
           0.565,
           0.53,
           0.54,
           0.51,
           0.47,
           0.495,
           0.515,
           0.51,
           0.46,
           0.54,
           0.53
          ],
          [
           0.51,
           0.475,
           0.51,
           0.585,
           0.565,
           0.52,
           0.48,
           0.505,
           0.47,
           0.46,
           0.485,
           0.48,
           0.555,
           0.46,
           0.545,
           0.585,
           0.525,
           0.525,
           0.475,
           0.5,
           0.55,
           0.565,
           0.49,
           0.53,
           0.535
          ],
          [
           0.525,
           0.5,
           0.38,
           0.54,
           0.515,
           0.54,
           0.55,
           0.545,
           0.54,
           0.565,
           0.53,
           0.57,
           0.535,
           0.54,
           0.55,
           0.515,
           0.49,
           0.5,
           0.53,
           0.545,
           0.57,
           0.515,
           0.545,
           0.54,
           0.545
          ],
          [
           0.495,
           0.59,
           0.495,
           0.555,
           0.56,
           0.52,
           0.485,
           0.565,
           0.515,
           0.515,
           0.52,
           0.435,
           0.515,
           0.545,
           0.49,
           0.5,
           0.445,
           0.455,
           0.44,
           0.53,
           0.52,
           0.475,
           0.53,
           0.54,
           0.49
          ],
          [
           0.475,
           0.56,
           0.52,
           0.515,
           0.485,
           0.53,
           0.47,
           0.54,
           0.44,
           0.51,
           0.535,
           0.525,
           0.585,
           0.525,
           0.5,
           0.475,
           0.565,
           0.465,
           0.515,
           0.47,
           0.545,
           0.495,
           0.58,
           0.495,
           0.48
          ],
          [
           0.455,
           0.535,
           0.505,
           0.56,
           0.515,
           0.48,
           0.545,
           0.55,
           0.56,
           0.585,
           0.53,
           0.565,
           0.52,
           0.555,
           0.495,
           0.51,
           0.485,
           0.45,
           0.46,
           0.54,
           0.54,
           0.55,
           0.53,
           0.58,
           0.48
          ],
          [
           0.53,
           0.545,
           0.495,
           0.52,
           0.525,
           0.505,
           0.49,
           0.505,
           0.61,
           0.515,
           0.46,
           0.47,
           0.485,
           0.45,
           0.475,
           0.5,
           0.48,
           0.55,
           0.49,
           0.56,
           0.52,
           0.535,
           0.565,
           0.56,
           0.515
          ],
          [
           0.595,
           0.51,
           0.56,
           0.45,
           0.515,
           0.525,
           0.495,
           0.555,
           0.52,
           0.5,
           0.53,
           0.44,
           0.53,
           0.485,
           0.54,
           0.495,
           0.54,
           0.54,
           0.46,
           0.51,
           0.555,
           0.54,
           0.54,
           0.525,
           0.495
          ],
          [
           0.58,
           0.58,
           0.49,
           0.49,
           0.475,
           0.545,
           0.525,
           0.575,
           0.475,
           0.57,
           0.56,
           0.575,
           0.545,
           0.48,
           0.535,
           0.5,
           0.405,
           0.51,
           0.515,
           0.53,
           0.525,
           0.6,
           0.45,
           0.5,
           0.495
          ],
          [
           0.54,
           0.53,
           0.515,
           0.475,
           0.485,
           0.585,
           0.495,
           0.515,
           0.545,
           0.545,
           0.46,
           0.465,
           0.485,
           0.5,
           0.55,
           0.525,
           0.54,
           0.53,
           0.555,
           0.53,
           0.44,
           0.475,
           0.56,
           0.525,
           0.555
          ],
          [
           0.51,
           0.58,
           0.525,
           0.51,
           0.515,
           0.57,
           0.495,
           0.525,
           0.5,
           0.565,
           0.445,
           0.515,
           0.525,
           0.535,
           0.54,
           0.515,
           0.61,
           0.52,
           0.46,
           0.52,
           0.53,
           0.52,
           0.52,
           0.495,
           0.485
          ],
          [
           0.51,
           0.61,
           0.59,
           0.585,
           0.54,
           0.525,
           0.535,
           0.49,
           0.5,
           0.55,
           0.445,
           0.52,
           0.505,
           0.52,
           0.58,
           0.445,
           0.5,
           0.48,
           0.515,
           0.555,
           0.49,
           0.525,
           0.51,
           0.55,
           0.535
          ],
          [
           0.51,
           0.47,
           0.48,
           0.555,
           0.525,
           0.64,
           0.465,
           0.55,
           0.46,
           0.55,
           0.45,
           0.435,
           0.48,
           0.52,
           0.57,
           0.53,
           0.51,
           0.555,
           0.525,
           0.485,
           0.525,
           0.48,
           0.535,
           0.5,
           0.545
          ],
          [
           0.585,
           0.5,
           0.405,
           0.485,
           0.595,
           0.56,
           0.55,
           0.52,
           0.57,
           0.54,
           0.55,
           0.53,
           0.455,
           0.49,
           0.575,
           0.585,
           0.48,
           0.48,
           0.605,
           0.56,
           0.51,
           0.55,
           0.5,
           0.525,
           0.475
          ],
          [
           0.46,
           0.575,
           0.565,
           0.485,
           0.555,
           0.51,
           0.46,
           0.485,
           0.55,
           0.48,
           0.515,
           0.525,
           0.56,
           0.53,
           0.495,
           0.535,
           0.55,
           0.515,
           0.505,
           0.55,
           0.5,
           0.51,
           0.53,
           0.425,
           0.45
          ],
          [
           0.455,
           0.56,
           0.55,
           0.52,
           0.485,
           0.54,
           0.46,
           0.5,
           0.5,
           0.515,
           0.485,
           0.55,
           0.565,
           0.5,
           0.53,
           0.545,
           0.56,
           0.54,
           0.495,
           0.525,
           0.45,
           0.505,
           0.505,
           0.53,
           0.505
          ],
          [
           0.48,
           0.465,
           0.535,
           0.435,
           0.62,
           0.505,
           0.52,
           0.54,
           0.52,
           0.625,
           0.515,
           0.52,
           0.595,
           0.525,
           0.485,
           0.49,
           0.505,
           0.515,
           0.53,
           0.505,
           0.465,
           0.505,
           0.535,
           0.515,
           0.51
          ],
          [
           0.485,
           0.555,
           0.56,
           0.555,
           0.52,
           0.435,
           0.465,
           0.5,
           0.585,
           0.5,
           0.455,
           0.56,
           0.455,
           0.545,
           0.47,
           0.445,
           0.49,
           0.485,
           0.46,
           0.46,
           0.5,
           0.54,
           0.56,
           0.59,
           0.505
          ],
          [
           0.51,
           0.58,
           0.48,
           0.545,
           0.52,
           0.505,
           0.505,
           0.51,
           0.54,
           0.56,
           0.545,
           0.51,
           0.5,
           0.43,
           0.57,
           0.49,
           0.505,
           0.525,
           0.53,
           0.48,
           0.505,
           0.53,
           0.49,
           0.47,
           0.48
          ],
          [
           0.5,
           0.565,
           0.55,
           0.55,
           0.585,
           0.51,
           0.525,
           0.495,
           0.47,
           0.52,
           0.45,
           0.445,
           0.495,
           0.515,
           0.55,
           0.51,
           0.53,
           0.535,
           0.545,
           0.495,
           0.485,
           0.525,
           0.51,
           0.44,
           0.515
          ],
          [
           0.555,
           0.505,
           0.525,
           0.455,
           0.49,
           0.545,
           0.5,
           0.555,
           0.54,
           0.515,
           0.535,
           0.5,
           0.54,
           0.45,
           0.57,
           0.545,
           0.48,
           0.59,
           0.53,
           0.51,
           0.555,
           0.64,
           0.53,
           0.53,
           0.525
          ],
          [
           0.51,
           0.485,
           0.66,
           0.475,
           0.46,
           0.555,
           0.485,
           0.51,
           0.48,
           0.53,
           0.57,
           0.465,
           0.555,
           0.56,
           0.5,
           0.495,
           0.575,
           0.535,
           0.53,
           0.47,
           0.55,
           0.495,
           0.425,
           0.51,
           0.46
          ],
          [
           0.55,
           0.495,
           0.465,
           0.56,
           0.565,
           0.52,
           0.51,
           0.585,
           0.53,
           0.515,
           0.505,
           0.585,
           0.53,
           0.555,
           0.495,
           0.465,
           0.49,
           0.51,
           0.6,
           0.57,
           0.55,
           0.55,
           0.46,
           0.505,
           0.6
          ],
          [
           0.485,
           0.54,
           0.545,
           0.57,
           0.54,
           0.55,
           0.555,
           0.605,
           0.55,
           0.515,
           0.6,
           0.48,
           0.515,
           0.53,
           0.54,
           0.515,
           0.5,
           0.505,
           0.445,
           0.525,
           0.54,
           0.555,
           0.495,
           0.535,
           0.6
          ],
          [
           0.565,
           0.57,
           0.495,
           0.47,
           0.555,
           0.465,
           0.5,
           0.435,
           0.45,
           0.575,
           0.515,
           0.56,
           0.49,
           0.485,
           0.585,
           0.5,
           0.55,
           0.51,
           0.56,
           0.48,
           0.505,
           0.525,
           0.5,
           0.585,
           0.565
          ],
          [
           0.51,
           0.49,
           0.52,
           0.535,
           0.515,
           0.535,
           0.525,
           0.555,
           0.555,
           0.61,
           0.535,
           0.56,
           0.5,
           0.515,
           0.53,
           0.51,
           0.445,
           0.485,
           0.53,
           0.59,
           0.565,
           0.545,
           0.54,
           0.61,
           0.53
          ],
          [
           0.445,
           0.555,
           0.5,
           0.53,
           0.52,
           0.485,
           0.45,
           0.5,
           0.465,
           0.55,
           0.53,
           0.565,
           0.55,
           0.515,
           0.505,
           0.605,
           0.57,
           0.445,
           0.59,
           0.515,
           0.605,
           0.55,
           0.63,
           0.565,
           0.405
          ],
          [
           0.5,
           0.565,
           0.56,
           0.54,
           0.485,
           0.495,
           0.475,
           0.515,
           0.52,
           0.545,
           0.525,
           0.505,
           0.47,
           0.525,
           0.535,
           0.505,
           0.525,
           0.49,
           0.51,
           0.58,
           0.56,
           0.485,
           0.56,
           0.54,
           0.58
          ],
          [
           0.545,
           0.525,
           0.53,
           0.55,
           0.48,
           0.49,
           0.475,
           0.535,
           0.555,
           0.56,
           0.47,
           0.505,
           0.55,
           0.555,
           0.52,
           0.505,
           0.495,
           0.48,
           0.5,
           0.495,
           0.535,
           0.505,
           0.495,
           0.465,
           0.52
          ],
          [
           0.435,
           0.495,
           0.55,
           0.495,
           0.525,
           0.535,
           0.515,
           0.565,
           0.575,
           0.5,
           0.49,
           0.515,
           0.585,
           0.51,
           0.53,
           0.505,
           0.49,
           0.505,
           0.5,
           0.575,
           0.495,
           0.52,
           0.505,
           0.485,
           0.57
          ],
          [
           0.575,
           0.505,
           0.5,
           0.495,
           0.47,
           0.52,
           0.525,
           0.55,
           0.53,
           0.54,
           0.545,
           0.485,
           0.605,
           0.51,
           0.535,
           0.57,
           0.495,
           0.48,
           0.495,
           0.53,
           0.44,
           0.53,
           0.63,
           0.525,
           0.535
          ],
          [
           0.525,
           0.505,
           0.485,
           0.52,
           0.53,
           0.52,
           0.485,
           0.525,
           0.545,
           0.49,
           0.58,
           0.545,
           0.51,
           0.545,
           0.44,
           0.47,
           0.53,
           0.455,
           0.52,
           0.57,
           0.525,
           0.5,
           0.455,
           0.54,
           0.565
          ],
          [
           0.555,
           0.46,
           0.44,
           0.555,
           0.55,
           0.555,
           0.445,
           0.535,
           0.555,
           0.45,
           0.545,
           0.55,
           0.515,
           0.54,
           0.44,
           0.48,
           0.56,
           0.57,
           0.52,
           0.5,
           0.57,
           0.535,
           0.48,
           0.55,
           0.55
          ],
          [
           0.495,
           0.495,
           0.53,
           0.49,
           0.53,
           0.545,
           0.53,
           0.47,
           0.51,
           0.545,
           0.5,
           0.57,
           0.485,
           0.535,
           0.635,
           0.59,
           0.48,
           0.495,
           0.55,
           0.48,
           0.515,
           0.455,
           0.495,
           0.53,
           0.51
          ],
          [
           0.495,
           0.5,
           0.53,
           0.555,
           0.52,
           0.545,
           0.525,
           0.485,
           0.475,
           0.535,
           0.585,
           0.48,
           0.545,
           0.475,
           0.555,
           0.49,
           0.52,
           0.56,
           0.465,
           0.59,
           0.555,
           0.535,
           0.485,
           0.505,
           0.495
          ],
          [
           0.475,
           0.565,
           0.55,
           0.475,
           0.47,
           0.475,
           0.56,
           0.545,
           0.565,
           0.46,
           0.525,
           0.51,
           0.48,
           0.46,
           0.52,
           0.49,
           0.5,
           0.585,
           0.495,
           0.51,
           0.555,
           0.49,
           0.56,
           0.58,
           0.475
          ],
          [
           0.485,
           0.55,
           0.51,
           0.49,
           0.58,
           0.535,
           0.485,
           0.515,
           0.54,
           0.54,
           0.455,
           0.505,
           0.55,
           0.57,
           0.585,
           0.555,
           0.53,
           0.475,
           0.525,
           0.57,
           0.48,
           0.49,
           0.565,
           0.49,
           0.53
          ],
          [
           0.455,
           0.51,
           0.51,
           0.565,
           0.5,
           0.515,
           0.55,
           0.6,
           0.485,
           0.52,
           0.545,
           0.44,
           0.48,
           0.525,
           0.515,
           0.475,
           0.51,
           0.54,
           0.575,
           0.51,
           0.52,
           0.48,
           0.565,
           0.53,
           0.52
          ],
          [
           0.54,
           0.485,
           0.52,
           0.55,
           0.57,
           0.53,
           0.5,
           0.49,
           0.53,
           0.56,
           0.53,
           0.515,
           0.55,
           0.49,
           0.565,
           0.46,
           0.565,
           0.485,
           0.455,
           0.525,
           0.54,
           0.555,
           0.53,
           0.565,
           0.52
          ],
          [
           0.58,
           0.555,
           0.52,
           0.455,
           0.52,
           0.53,
           0.495,
           0.52,
           0.505,
           0.525,
           0.515,
           0.525,
           0.49,
           0.495,
           0.5,
           0.515,
           0.49,
           0.56,
           0.5,
           0.605,
           0.48,
           0.545,
           0.51,
           0.475,
           0.595
          ],
          [
           0.455,
           0.47,
           0.515,
           0.565,
           0.515,
           0.53,
           0.45,
           0.5,
           0.535,
           0.51,
           0.47,
           0.59,
           0.55,
           0.48,
           0.52,
           0.49,
           0.535,
           0.515,
           0.545,
           0.505,
           0.55,
           0.4,
           0.51,
           0.54,
           0.535
          ]
         ]
        }
       ],
       "layout": {
        "coloraxis": {
         "cmid": 0.5,
         "colorscale": [
          [
           0,
           "rgb(255,255,217)"
          ],
          [
           0.125,
           "rgb(237,248,177)"
          ],
          [
           0.25,
           "rgb(199,233,180)"
          ],
          [
           0.375,
           "rgb(127,205,187)"
          ],
          [
           0.5,
           "rgb(65,182,196)"
          ],
          [
           0.625,
           "rgb(29,145,192)"
          ],
          [
           0.75,
           "rgb(34,94,168)"
          ],
          [
           0.875,
           "rgb(37,52,148)"
          ],
          [
           1,
           "rgb(8,29,88)"
          ]
         ]
        },
        "template": {
         "data": {
          "bar": [
           {
            "error_x": {
             "color": "#2a3f5f"
            },
            "error_y": {
             "color": "#2a3f5f"
            },
            "marker": {
             "line": {
              "color": "#E5ECF6",
              "width": 0.5
             },
             "pattern": {
              "fillmode": "overlay",
              "size": 10,
              "solidity": 0.2
             }
            },
            "type": "bar"
           }
          ],
          "barpolar": [
           {
            "marker": {
             "line": {
              "color": "#E5ECF6",
              "width": 0.5
             },
             "pattern": {
              "fillmode": "overlay",
              "size": 10,
              "solidity": 0.2
             }
            },
            "type": "barpolar"
           }
          ],
          "carpet": [
           {
            "aaxis": {
             "endlinecolor": "#2a3f5f",
             "gridcolor": "white",
             "linecolor": "white",
             "minorgridcolor": "white",
             "startlinecolor": "#2a3f5f"
            },
            "baxis": {
             "endlinecolor": "#2a3f5f",
             "gridcolor": "white",
             "linecolor": "white",
             "minorgridcolor": "white",
             "startlinecolor": "#2a3f5f"
            },
            "type": "carpet"
           }
          ],
          "choropleth": [
           {
            "colorbar": {
             "outlinewidth": 0,
             "ticks": ""
            },
            "type": "choropleth"
           }
          ],
          "contour": [
           {
            "colorbar": {
             "outlinewidth": 0,
             "ticks": ""
            },
            "colorscale": [
             [
              0,
              "#0d0887"
             ],
             [
              0.1111111111111111,
              "#46039f"
             ],
             [
              0.2222222222222222,
              "#7201a8"
             ],
             [
              0.3333333333333333,
              "#9c179e"
             ],
             [
              0.4444444444444444,
              "#bd3786"
             ],
             [
              0.5555555555555556,
              "#d8576b"
             ],
             [
              0.6666666666666666,
              "#ed7953"
             ],
             [
              0.7777777777777778,
              "#fb9f3a"
             ],
             [
              0.8888888888888888,
              "#fdca26"
             ],
             [
              1,
              "#f0f921"
             ]
            ],
            "type": "contour"
           }
          ],
          "contourcarpet": [
           {
            "colorbar": {
             "outlinewidth": 0,
             "ticks": ""
            },
            "type": "contourcarpet"
           }
          ],
          "heatmap": [
           {
            "colorbar": {
             "outlinewidth": 0,
             "ticks": ""
            },
            "colorscale": [
             [
              0,
              "#0d0887"
             ],
             [
              0.1111111111111111,
              "#46039f"
             ],
             [
              0.2222222222222222,
              "#7201a8"
             ],
             [
              0.3333333333333333,
              "#9c179e"
             ],
             [
              0.4444444444444444,
              "#bd3786"
             ],
             [
              0.5555555555555556,
              "#d8576b"
             ],
             [
              0.6666666666666666,
              "#ed7953"
             ],
             [
              0.7777777777777778,
              "#fb9f3a"
             ],
             [
              0.8888888888888888,
              "#fdca26"
             ],
             [
              1,
              "#f0f921"
             ]
            ],
            "type": "heatmap"
           }
          ],
          "heatmapgl": [
           {
            "colorbar": {
             "outlinewidth": 0,
             "ticks": ""
            },
            "colorscale": [
             [
              0,
              "#0d0887"
             ],
             [
              0.1111111111111111,
              "#46039f"
             ],
             [
              0.2222222222222222,
              "#7201a8"
             ],
             [
              0.3333333333333333,
              "#9c179e"
             ],
             [
              0.4444444444444444,
              "#bd3786"
             ],
             [
              0.5555555555555556,
              "#d8576b"
             ],
             [
              0.6666666666666666,
              "#ed7953"
             ],
             [
              0.7777777777777778,
              "#fb9f3a"
             ],
             [
              0.8888888888888888,
              "#fdca26"
             ],
             [
              1,
              "#f0f921"
             ]
            ],
            "type": "heatmapgl"
           }
          ],
          "histogram": [
           {
            "marker": {
             "pattern": {
              "fillmode": "overlay",
              "size": 10,
              "solidity": 0.2
             }
            },
            "type": "histogram"
           }
          ],
          "histogram2d": [
           {
            "colorbar": {
             "outlinewidth": 0,
             "ticks": ""
            },
            "colorscale": [
             [
              0,
              "#0d0887"
             ],
             [
              0.1111111111111111,
              "#46039f"
             ],
             [
              0.2222222222222222,
              "#7201a8"
             ],
             [
              0.3333333333333333,
              "#9c179e"
             ],
             [
              0.4444444444444444,
              "#bd3786"
             ],
             [
              0.5555555555555556,
              "#d8576b"
             ],
             [
              0.6666666666666666,
              "#ed7953"
             ],
             [
              0.7777777777777778,
              "#fb9f3a"
             ],
             [
              0.8888888888888888,
              "#fdca26"
             ],
             [
              1,
              "#f0f921"
             ]
            ],
            "type": "histogram2d"
           }
          ],
          "histogram2dcontour": [
           {
            "colorbar": {
             "outlinewidth": 0,
             "ticks": ""
            },
            "colorscale": [
             [
              0,
              "#0d0887"
             ],
             [
              0.1111111111111111,
              "#46039f"
             ],
             [
              0.2222222222222222,
              "#7201a8"
             ],
             [
              0.3333333333333333,
              "#9c179e"
             ],
             [
              0.4444444444444444,
              "#bd3786"
             ],
             [
              0.5555555555555556,
              "#d8576b"
             ],
             [
              0.6666666666666666,
              "#ed7953"
             ],
             [
              0.7777777777777778,
              "#fb9f3a"
             ],
             [
              0.8888888888888888,
              "#fdca26"
             ],
             [
              1,
              "#f0f921"
             ]
            ],
            "type": "histogram2dcontour"
           }
          ],
          "mesh3d": [
           {
            "colorbar": {
             "outlinewidth": 0,
             "ticks": ""
            },
            "type": "mesh3d"
           }
          ],
          "parcoords": [
           {
            "line": {
             "colorbar": {
              "outlinewidth": 0,
              "ticks": ""
             }
            },
            "type": "parcoords"
           }
          ],
          "pie": [
           {
            "automargin": true,
            "type": "pie"
           }
          ],
          "scatter": [
           {
            "fillpattern": {
             "fillmode": "overlay",
             "size": 10,
             "solidity": 0.2
            },
            "type": "scatter"
           }
          ],
          "scatter3d": [
           {
            "line": {
             "colorbar": {
              "outlinewidth": 0,
              "ticks": ""
             }
            },
            "marker": {
             "colorbar": {
              "outlinewidth": 0,
              "ticks": ""
             }
            },
            "type": "scatter3d"
           }
          ],
          "scattercarpet": [
           {
            "marker": {
             "colorbar": {
              "outlinewidth": 0,
              "ticks": ""
             }
            },
            "type": "scattercarpet"
           }
          ],
          "scattergeo": [
           {
            "marker": {
             "colorbar": {
              "outlinewidth": 0,
              "ticks": ""
             }
            },
            "type": "scattergeo"
           }
          ],
          "scattergl": [
           {
            "marker": {
             "colorbar": {
              "outlinewidth": 0,
              "ticks": ""
             }
            },
            "type": "scattergl"
           }
          ],
          "scattermapbox": [
           {
            "marker": {
             "colorbar": {
              "outlinewidth": 0,
              "ticks": ""
             }
            },
            "type": "scattermapbox"
           }
          ],
          "scatterpolar": [
           {
            "marker": {
             "colorbar": {
              "outlinewidth": 0,
              "ticks": ""
             }
            },
            "type": "scatterpolar"
           }
          ],
          "scatterpolargl": [
           {
            "marker": {
             "colorbar": {
              "outlinewidth": 0,
              "ticks": ""
             }
            },
            "type": "scatterpolargl"
           }
          ],
          "scatterternary": [
           {
            "marker": {
             "colorbar": {
              "outlinewidth": 0,
              "ticks": ""
             }
            },
            "type": "scatterternary"
           }
          ],
          "surface": [
           {
            "colorbar": {
             "outlinewidth": 0,
             "ticks": ""
            },
            "colorscale": [
             [
              0,
              "#0d0887"
             ],
             [
              0.1111111111111111,
              "#46039f"
             ],
             [
              0.2222222222222222,
              "#7201a8"
             ],
             [
              0.3333333333333333,
              "#9c179e"
             ],
             [
              0.4444444444444444,
              "#bd3786"
             ],
             [
              0.5555555555555556,
              "#d8576b"
             ],
             [
              0.6666666666666666,
              "#ed7953"
             ],
             [
              0.7777777777777778,
              "#fb9f3a"
             ],
             [
              0.8888888888888888,
              "#fdca26"
             ],
             [
              1,
              "#f0f921"
             ]
            ],
            "type": "surface"
           }
          ],
          "table": [
           {
            "cells": {
             "fill": {
              "color": "#EBF0F8"
             },
             "line": {
              "color": "white"
             }
            },
            "header": {
             "fill": {
              "color": "#C8D4E3"
             },
             "line": {
              "color": "white"
             }
            },
            "type": "table"
           }
          ]
         },
         "layout": {
          "annotationdefaults": {
           "arrowcolor": "#2a3f5f",
           "arrowhead": 0,
           "arrowwidth": 1
          },
          "autotypenumbers": "strict",
          "coloraxis": {
           "colorbar": {
            "outlinewidth": 0,
            "ticks": ""
           }
          },
          "colorscale": {
           "diverging": [
            [
             0,
             "#8e0152"
            ],
            [
             0.1,
             "#c51b7d"
            ],
            [
             0.2,
             "#de77ae"
            ],
            [
             0.3,
             "#f1b6da"
            ],
            [
             0.4,
             "#fde0ef"
            ],
            [
             0.5,
             "#f7f7f7"
            ],
            [
             0.6,
             "#e6f5d0"
            ],
            [
             0.7,
             "#b8e186"
            ],
            [
             0.8,
             "#7fbc41"
            ],
            [
             0.9,
             "#4d9221"
            ],
            [
             1,
             "#276419"
            ]
           ],
           "sequential": [
            [
             0,
             "#0d0887"
            ],
            [
             0.1111111111111111,
             "#46039f"
            ],
            [
             0.2222222222222222,
             "#7201a8"
            ],
            [
             0.3333333333333333,
             "#9c179e"
            ],
            [
             0.4444444444444444,
             "#bd3786"
            ],
            [
             0.5555555555555556,
             "#d8576b"
            ],
            [
             0.6666666666666666,
             "#ed7953"
            ],
            [
             0.7777777777777778,
             "#fb9f3a"
            ],
            [
             0.8888888888888888,
             "#fdca26"
            ],
            [
             1,
             "#f0f921"
            ]
           ],
           "sequentialminus": [
            [
             0,
             "#0d0887"
            ],
            [
             0.1111111111111111,
             "#46039f"
            ],
            [
             0.2222222222222222,
             "#7201a8"
            ],
            [
             0.3333333333333333,
             "#9c179e"
            ],
            [
             0.4444444444444444,
             "#bd3786"
            ],
            [
             0.5555555555555556,
             "#d8576b"
            ],
            [
             0.6666666666666666,
             "#ed7953"
            ],
            [
             0.7777777777777778,
             "#fb9f3a"
            ],
            [
             0.8888888888888888,
             "#fdca26"
            ],
            [
             1,
             "#f0f921"
            ]
           ]
          },
          "colorway": [
           "#636efa",
           "#EF553B",
           "#00cc96",
           "#ab63fa",
           "#FFA15A",
           "#19d3f3",
           "#FF6692",
           "#B6E880",
           "#FF97FF",
           "#FECB52"
          ],
          "font": {
           "color": "#2a3f5f"
          },
          "geo": {
           "bgcolor": "white",
           "lakecolor": "white",
           "landcolor": "#E5ECF6",
           "showlakes": true,
           "showland": true,
           "subunitcolor": "white"
          },
          "hoverlabel": {
           "align": "left"
          },
          "hovermode": "closest",
          "mapbox": {
           "style": "light"
          },
          "paper_bgcolor": "white",
          "plot_bgcolor": "#E5ECF6",
          "polar": {
           "angularaxis": {
            "gridcolor": "white",
            "linecolor": "white",
            "ticks": ""
           },
           "bgcolor": "#E5ECF6",
           "radialaxis": {
            "gridcolor": "white",
            "linecolor": "white",
            "ticks": ""
           }
          },
          "scene": {
           "xaxis": {
            "backgroundcolor": "#E5ECF6",
            "gridcolor": "white",
            "gridwidth": 2,
            "linecolor": "white",
            "showbackground": true,
            "ticks": "",
            "zerolinecolor": "white"
           },
           "yaxis": {
            "backgroundcolor": "#E5ECF6",
            "gridcolor": "white",
            "gridwidth": 2,
            "linecolor": "white",
            "showbackground": true,
            "ticks": "",
            "zerolinecolor": "white"
           },
           "zaxis": {
            "backgroundcolor": "#E5ECF6",
            "gridcolor": "white",
            "gridwidth": 2,
            "linecolor": "white",
            "showbackground": true,
            "ticks": "",
            "zerolinecolor": "white"
           }
          },
          "shapedefaults": {
           "line": {
            "color": "#2a3f5f"
           }
          },
          "ternary": {
           "aaxis": {
            "gridcolor": "white",
            "linecolor": "white",
            "ticks": ""
           },
           "baxis": {
            "gridcolor": "white",
            "linecolor": "white",
            "ticks": ""
           },
           "bgcolor": "#E5ECF6",
           "caxis": {
            "gridcolor": "white",
            "linecolor": "white",
            "ticks": ""
           }
          },
          "title": {
           "x": 0.05
          },
          "xaxis": {
           "automargin": true,
           "gridcolor": "white",
           "linecolor": "white",
           "ticks": "",
           "title": {
            "standoff": 15
           },
           "zerolinecolor": "white",
           "zerolinewidth": 2
          },
          "yaxis": {
           "automargin": true,
           "gridcolor": "white",
           "linecolor": "white",
           "ticks": "",
           "title": {
            "standoff": 15
           },
           "zerolinecolor": "white",
           "zerolinewidth": 2
          }
         }
        },
        "title": {
         "text": "ez probes on tqa data"
        },
        "xaxis": {
         "anchor": "y",
         "constrain": "domain",
         "domain": [
          0,
          1
         ],
         "scaleanchor": "y",
         "title": {
          "text": "Heads (sorted)"
         }
        },
        "yaxis": {
         "anchor": "x",
         "autorange": true,
         "constrain": "domain",
         "domain": [
          0,
          1
         ],
         "title": {
          "text": "Layers"
         }
        }
       }
      },
      "text/html": [
       "<div>                            <div id=\"47ecbedb-41da-4fae-b812-dbae8f66ee30\" class=\"plotly-graph-div\" style=\"height:525px; width:100%;\"></div>            <script type=\"text/javascript\">                require([\"plotly\"], function(Plotly) {                    window.PLOTLYENV=window.PLOTLYENV || {};                                    if (document.getElementById(\"47ecbedb-41da-4fae-b812-dbae8f66ee30\")) {                    Plotly.newPlot(                        \"47ecbedb-41da-4fae-b812-dbae8f66ee30\",                        [{\"coloraxis\":\"coloraxis\",\"name\":\"0\",\"z\":[[0.56,0.5,0.5,0.48,0.51,0.545,0.495,0.515,0.54,0.55,0.525,0.48,0.465,0.45,0.505,0.45,0.545,0.55,0.485,0.505,0.49,0.475,0.49,0.515,0.53],[0.445,0.48,0.58,0.46,0.44,0.445,0.49,0.48,0.56,0.53,0.5,0.52,0.45,0.49,0.535,0.48,0.45,0.495,0.505,0.56,0.51,0.46,0.58,0.46,0.52],[0.46,0.445,0.43,0.47,0.505,0.53,0.45,0.435,0.445,0.565,0.53,0.555,0.445,0.53,0.5,0.48,0.45,0.48,0.535,0.54,0.54,0.445,0.45,0.505,0.445],[0.485,0.48,0.53,0.48,0.47,0.545,0.495,0.48,0.495,0.46,0.445,0.505,0.555,0.495,0.49,0.59,0.55,0.53,0.51,0.455,0.475,0.48,0.465,0.53,0.505],[0.495,0.455,0.495,0.48,0.485,0.53,0.46,0.545,0.485,0.47,0.49,0.475,0.475,0.57,0.495,0.54,0.525,0.48,0.455,0.445,0.51,0.485,0.51,0.485,0.505],[0.525,0.54,0.53,0.54,0.455,0.47,0.505,0.47,0.525,0.545,0.49,0.435,0.525,0.495,0.485,0.505,0.485,0.51,0.565,0.47,0.515,0.495,0.49,0.53,0.425],[0.495,0.51,0.535,0.5,0.495,0.49,0.57,0.54,0.525,0.5,0.475,0.505,0.565,0.45,0.525,0.49,0.53,0.485,0.465,0.455,0.48,0.51,0.54,0.53,0.485],[0.475,0.485,0.485,0.475,0.505,0.555,0.51,0.56,0.51,0.54,0.455,0.56,0.495,0.52,0.565,0.53,0.54,0.51,0.47,0.495,0.515,0.51,0.46,0.54,0.53],[0.51,0.475,0.51,0.585,0.565,0.52,0.48,0.505,0.47,0.46,0.485,0.48,0.555,0.46,0.545,0.585,0.525,0.525,0.475,0.5,0.55,0.565,0.49,0.53,0.535],[0.525,0.5,0.38,0.54,0.515,0.54,0.55,0.545,0.54,0.565,0.53,0.57,0.535,0.54,0.55,0.515,0.49,0.5,0.53,0.545,0.57,0.515,0.545,0.54,0.545],[0.495,0.59,0.495,0.555,0.56,0.52,0.485,0.565,0.515,0.515,0.52,0.435,0.515,0.545,0.49,0.5,0.445,0.455,0.44,0.53,0.52,0.475,0.53,0.54,0.49],[0.475,0.56,0.52,0.515,0.485,0.53,0.47,0.54,0.44,0.51,0.535,0.525,0.585,0.525,0.5,0.475,0.565,0.465,0.515,0.47,0.545,0.495,0.58,0.495,0.48],[0.455,0.535,0.505,0.56,0.515,0.48,0.545,0.55,0.56,0.585,0.53,0.565,0.52,0.555,0.495,0.51,0.485,0.45,0.46,0.54,0.54,0.55,0.53,0.58,0.48],[0.53,0.545,0.495,0.52,0.525,0.505,0.49,0.505,0.61,0.515,0.46,0.47,0.485,0.45,0.475,0.5,0.48,0.55,0.49,0.56,0.52,0.535,0.565,0.56,0.515],[0.595,0.51,0.56,0.45,0.515,0.525,0.495,0.555,0.52,0.5,0.53,0.44,0.53,0.485,0.54,0.495,0.54,0.54,0.46,0.51,0.555,0.54,0.54,0.525,0.495],[0.58,0.58,0.49,0.49,0.475,0.545,0.525,0.575,0.475,0.57,0.56,0.575,0.545,0.48,0.535,0.5,0.405,0.51,0.515,0.53,0.525,0.6,0.45,0.5,0.495],[0.54,0.53,0.515,0.475,0.485,0.585,0.495,0.515,0.545,0.545,0.46,0.465,0.485,0.5,0.55,0.525,0.54,0.53,0.555,0.53,0.44,0.475,0.56,0.525,0.555],[0.51,0.58,0.525,0.51,0.515,0.57,0.495,0.525,0.5,0.565,0.445,0.515,0.525,0.535,0.54,0.515,0.61,0.52,0.46,0.52,0.53,0.52,0.52,0.495,0.485],[0.51,0.61,0.59,0.585,0.54,0.525,0.535,0.49,0.5,0.55,0.445,0.52,0.505,0.52,0.58,0.445,0.5,0.48,0.515,0.555,0.49,0.525,0.51,0.55,0.535],[0.51,0.47,0.48,0.555,0.525,0.64,0.465,0.55,0.46,0.55,0.45,0.435,0.48,0.52,0.57,0.53,0.51,0.555,0.525,0.485,0.525,0.48,0.535,0.5,0.545],[0.585,0.5,0.405,0.485,0.595,0.56,0.55,0.52,0.57,0.54,0.55,0.53,0.455,0.49,0.575,0.585,0.48,0.48,0.605,0.56,0.51,0.55,0.5,0.525,0.475],[0.46,0.575,0.565,0.485,0.555,0.51,0.46,0.485,0.55,0.48,0.515,0.525,0.56,0.53,0.495,0.535,0.55,0.515,0.505,0.55,0.5,0.51,0.53,0.425,0.45],[0.455,0.56,0.55,0.52,0.485,0.54,0.46,0.5,0.5,0.515,0.485,0.55,0.565,0.5,0.53,0.545,0.56,0.54,0.495,0.525,0.45,0.505,0.505,0.53,0.505],[0.48,0.465,0.535,0.435,0.62,0.505,0.52,0.54,0.52,0.625,0.515,0.52,0.595,0.525,0.485,0.49,0.505,0.515,0.53,0.505,0.465,0.505,0.535,0.515,0.51],[0.485,0.555,0.56,0.555,0.52,0.435,0.465,0.5,0.585,0.5,0.455,0.56,0.455,0.545,0.47,0.445,0.49,0.485,0.46,0.46,0.5,0.54,0.56,0.59,0.505],[0.51,0.58,0.48,0.545,0.52,0.505,0.505,0.51,0.54,0.56,0.545,0.51,0.5,0.43,0.57,0.49,0.505,0.525,0.53,0.48,0.505,0.53,0.49,0.47,0.48],[0.5,0.565,0.55,0.55,0.585,0.51,0.525,0.495,0.47,0.52,0.45,0.445,0.495,0.515,0.55,0.51,0.53,0.535,0.545,0.495,0.485,0.525,0.51,0.44,0.515],[0.555,0.505,0.525,0.455,0.49,0.545,0.5,0.555,0.54,0.515,0.535,0.5,0.54,0.45,0.57,0.545,0.48,0.59,0.53,0.51,0.555,0.64,0.53,0.53,0.525],[0.51,0.485,0.66,0.475,0.46,0.555,0.485,0.51,0.48,0.53,0.57,0.465,0.555,0.56,0.5,0.495,0.575,0.535,0.53,0.47,0.55,0.495,0.425,0.51,0.46],[0.55,0.495,0.465,0.56,0.565,0.52,0.51,0.585,0.53,0.515,0.505,0.585,0.53,0.555,0.495,0.465,0.49,0.51,0.6,0.57,0.55,0.55,0.46,0.505,0.6],[0.485,0.54,0.545,0.57,0.54,0.55,0.555,0.605,0.55,0.515,0.6,0.48,0.515,0.53,0.54,0.515,0.5,0.505,0.445,0.525,0.54,0.555,0.495,0.535,0.6],[0.565,0.57,0.495,0.47,0.555,0.465,0.5,0.435,0.45,0.575,0.515,0.56,0.49,0.485,0.585,0.5,0.55,0.51,0.56,0.48,0.505,0.525,0.5,0.585,0.565],[0.51,0.49,0.52,0.535,0.515,0.535,0.525,0.555,0.555,0.61,0.535,0.56,0.5,0.515,0.53,0.51,0.445,0.485,0.53,0.59,0.565,0.545,0.54,0.61,0.53],[0.445,0.555,0.5,0.53,0.52,0.485,0.45,0.5,0.465,0.55,0.53,0.565,0.55,0.515,0.505,0.605,0.57,0.445,0.59,0.515,0.605,0.55,0.63,0.565,0.405],[0.5,0.565,0.56,0.54,0.485,0.495,0.475,0.515,0.52,0.545,0.525,0.505,0.47,0.525,0.535,0.505,0.525,0.49,0.51,0.58,0.56,0.485,0.56,0.54,0.58],[0.545,0.525,0.53,0.55,0.48,0.49,0.475,0.535,0.555,0.56,0.47,0.505,0.55,0.555,0.52,0.505,0.495,0.48,0.5,0.495,0.535,0.505,0.495,0.465,0.52],[0.435,0.495,0.55,0.495,0.525,0.535,0.515,0.565,0.575,0.5,0.49,0.515,0.585,0.51,0.53,0.505,0.49,0.505,0.5,0.575,0.495,0.52,0.505,0.485,0.57],[0.575,0.505,0.5,0.495,0.47,0.52,0.525,0.55,0.53,0.54,0.545,0.485,0.605,0.51,0.535,0.57,0.495,0.48,0.495,0.53,0.44,0.53,0.63,0.525,0.535],[0.525,0.505,0.485,0.52,0.53,0.52,0.485,0.525,0.545,0.49,0.58,0.545,0.51,0.545,0.44,0.47,0.53,0.455,0.52,0.57,0.525,0.5,0.455,0.54,0.565],[0.555,0.46,0.44,0.555,0.55,0.555,0.445,0.535,0.555,0.45,0.545,0.55,0.515,0.54,0.44,0.48,0.56,0.57,0.52,0.5,0.57,0.535,0.48,0.55,0.55],[0.495,0.495,0.53,0.49,0.53,0.545,0.53,0.47,0.51,0.545,0.5,0.57,0.485,0.535,0.635,0.59,0.48,0.495,0.55,0.48,0.515,0.455,0.495,0.53,0.51],[0.495,0.5,0.53,0.555,0.52,0.545,0.525,0.485,0.475,0.535,0.585,0.48,0.545,0.475,0.555,0.49,0.52,0.56,0.465,0.59,0.555,0.535,0.485,0.505,0.495],[0.475,0.565,0.55,0.475,0.47,0.475,0.56,0.545,0.565,0.46,0.525,0.51,0.48,0.46,0.52,0.49,0.5,0.585,0.495,0.51,0.555,0.49,0.56,0.58,0.475],[0.485,0.55,0.51,0.49,0.58,0.535,0.485,0.515,0.54,0.54,0.455,0.505,0.55,0.57,0.585,0.555,0.53,0.475,0.525,0.57,0.48,0.49,0.565,0.49,0.53],[0.455,0.51,0.51,0.565,0.5,0.515,0.55,0.6,0.485,0.52,0.545,0.44,0.48,0.525,0.515,0.475,0.51,0.54,0.575,0.51,0.52,0.48,0.565,0.53,0.52],[0.54,0.485,0.52,0.55,0.57,0.53,0.5,0.49,0.53,0.56,0.53,0.515,0.55,0.49,0.565,0.46,0.565,0.485,0.455,0.525,0.54,0.555,0.53,0.565,0.52],[0.58,0.555,0.52,0.455,0.52,0.53,0.495,0.52,0.505,0.525,0.515,0.525,0.49,0.495,0.5,0.515,0.49,0.56,0.5,0.605,0.48,0.545,0.51,0.475,0.595],[0.455,0.47,0.515,0.565,0.515,0.53,0.45,0.5,0.535,0.51,0.47,0.59,0.55,0.48,0.52,0.49,0.535,0.515,0.545,0.505,0.55,0.4,0.51,0.54,0.535]],\"type\":\"heatmap\",\"xaxis\":\"x\",\"yaxis\":\"y\",\"hovertemplate\":\"Heads (sorted): %{x}\\u003cbr\\u003eLayers: %{y}\\u003cbr\\u003ecolor: %{z}\\u003cextra\\u003e\\u003c\\u002fextra\\u003e\"}],                        {\"template\":{\"data\":{\"histogram2dcontour\":[{\"type\":\"histogram2dcontour\",\"colorbar\":{\"outlinewidth\":0,\"ticks\":\"\"},\"colorscale\":[[0.0,\"#0d0887\"],[0.1111111111111111,\"#46039f\"],[0.2222222222222222,\"#7201a8\"],[0.3333333333333333,\"#9c179e\"],[0.4444444444444444,\"#bd3786\"],[0.5555555555555556,\"#d8576b\"],[0.6666666666666666,\"#ed7953\"],[0.7777777777777778,\"#fb9f3a\"],[0.8888888888888888,\"#fdca26\"],[1.0,\"#f0f921\"]]}],\"choropleth\":[{\"type\":\"choropleth\",\"colorbar\":{\"outlinewidth\":0,\"ticks\":\"\"}}],\"histogram2d\":[{\"type\":\"histogram2d\",\"colorbar\":{\"outlinewidth\":0,\"ticks\":\"\"},\"colorscale\":[[0.0,\"#0d0887\"],[0.1111111111111111,\"#46039f\"],[0.2222222222222222,\"#7201a8\"],[0.3333333333333333,\"#9c179e\"],[0.4444444444444444,\"#bd3786\"],[0.5555555555555556,\"#d8576b\"],[0.6666666666666666,\"#ed7953\"],[0.7777777777777778,\"#fb9f3a\"],[0.8888888888888888,\"#fdca26\"],[1.0,\"#f0f921\"]]}],\"heatmap\":[{\"type\":\"heatmap\",\"colorbar\":{\"outlinewidth\":0,\"ticks\":\"\"},\"colorscale\":[[0.0,\"#0d0887\"],[0.1111111111111111,\"#46039f\"],[0.2222222222222222,\"#7201a8\"],[0.3333333333333333,\"#9c179e\"],[0.4444444444444444,\"#bd3786\"],[0.5555555555555556,\"#d8576b\"],[0.6666666666666666,\"#ed7953\"],[0.7777777777777778,\"#fb9f3a\"],[0.8888888888888888,\"#fdca26\"],[1.0,\"#f0f921\"]]}],\"heatmapgl\":[{\"type\":\"heatmapgl\",\"colorbar\":{\"outlinewidth\":0,\"ticks\":\"\"},\"colorscale\":[[0.0,\"#0d0887\"],[0.1111111111111111,\"#46039f\"],[0.2222222222222222,\"#7201a8\"],[0.3333333333333333,\"#9c179e\"],[0.4444444444444444,\"#bd3786\"],[0.5555555555555556,\"#d8576b\"],[0.6666666666666666,\"#ed7953\"],[0.7777777777777778,\"#fb9f3a\"],[0.8888888888888888,\"#fdca26\"],[1.0,\"#f0f921\"]]}],\"contourcarpet\":[{\"type\":\"contourcarpet\",\"colorbar\":{\"outlinewidth\":0,\"ticks\":\"\"}}],\"contour\":[{\"type\":\"contour\",\"colorbar\":{\"outlinewidth\":0,\"ticks\":\"\"},\"colorscale\":[[0.0,\"#0d0887\"],[0.1111111111111111,\"#46039f\"],[0.2222222222222222,\"#7201a8\"],[0.3333333333333333,\"#9c179e\"],[0.4444444444444444,\"#bd3786\"],[0.5555555555555556,\"#d8576b\"],[0.6666666666666666,\"#ed7953\"],[0.7777777777777778,\"#fb9f3a\"],[0.8888888888888888,\"#fdca26\"],[1.0,\"#f0f921\"]]}],\"surface\":[{\"type\":\"surface\",\"colorbar\":{\"outlinewidth\":0,\"ticks\":\"\"},\"colorscale\":[[0.0,\"#0d0887\"],[0.1111111111111111,\"#46039f\"],[0.2222222222222222,\"#7201a8\"],[0.3333333333333333,\"#9c179e\"],[0.4444444444444444,\"#bd3786\"],[0.5555555555555556,\"#d8576b\"],[0.6666666666666666,\"#ed7953\"],[0.7777777777777778,\"#fb9f3a\"],[0.8888888888888888,\"#fdca26\"],[1.0,\"#f0f921\"]]}],\"mesh3d\":[{\"type\":\"mesh3d\",\"colorbar\":{\"outlinewidth\":0,\"ticks\":\"\"}}],\"scatter\":[{\"fillpattern\":{\"fillmode\":\"overlay\",\"size\":10,\"solidity\":0.2},\"type\":\"scatter\"}],\"parcoords\":[{\"type\":\"parcoords\",\"line\":{\"colorbar\":{\"outlinewidth\":0,\"ticks\":\"\"}}}],\"scatterpolargl\":[{\"type\":\"scatterpolargl\",\"marker\":{\"colorbar\":{\"outlinewidth\":0,\"ticks\":\"\"}}}],\"bar\":[{\"error_x\":{\"color\":\"#2a3f5f\"},\"error_y\":{\"color\":\"#2a3f5f\"},\"marker\":{\"line\":{\"color\":\"#E5ECF6\",\"width\":0.5},\"pattern\":{\"fillmode\":\"overlay\",\"size\":10,\"solidity\":0.2}},\"type\":\"bar\"}],\"scattergeo\":[{\"type\":\"scattergeo\",\"marker\":{\"colorbar\":{\"outlinewidth\":0,\"ticks\":\"\"}}}],\"scatterpolar\":[{\"type\":\"scatterpolar\",\"marker\":{\"colorbar\":{\"outlinewidth\":0,\"ticks\":\"\"}}}],\"histogram\":[{\"marker\":{\"pattern\":{\"fillmode\":\"overlay\",\"size\":10,\"solidity\":0.2}},\"type\":\"histogram\"}],\"scattergl\":[{\"type\":\"scattergl\",\"marker\":{\"colorbar\":{\"outlinewidth\":0,\"ticks\":\"\"}}}],\"scatter3d\":[{\"type\":\"scatter3d\",\"line\":{\"colorbar\":{\"outlinewidth\":0,\"ticks\":\"\"}},\"marker\":{\"colorbar\":{\"outlinewidth\":0,\"ticks\":\"\"}}}],\"scattermapbox\":[{\"type\":\"scattermapbox\",\"marker\":{\"colorbar\":{\"outlinewidth\":0,\"ticks\":\"\"}}}],\"scatterternary\":[{\"type\":\"scatterternary\",\"marker\":{\"colorbar\":{\"outlinewidth\":0,\"ticks\":\"\"}}}],\"scattercarpet\":[{\"type\":\"scattercarpet\",\"marker\":{\"colorbar\":{\"outlinewidth\":0,\"ticks\":\"\"}}}],\"carpet\":[{\"aaxis\":{\"endlinecolor\":\"#2a3f5f\",\"gridcolor\":\"white\",\"linecolor\":\"white\",\"minorgridcolor\":\"white\",\"startlinecolor\":\"#2a3f5f\"},\"baxis\":{\"endlinecolor\":\"#2a3f5f\",\"gridcolor\":\"white\",\"linecolor\":\"white\",\"minorgridcolor\":\"white\",\"startlinecolor\":\"#2a3f5f\"},\"type\":\"carpet\"}],\"table\":[{\"cells\":{\"fill\":{\"color\":\"#EBF0F8\"},\"line\":{\"color\":\"white\"}},\"header\":{\"fill\":{\"color\":\"#C8D4E3\"},\"line\":{\"color\":\"white\"}},\"type\":\"table\"}],\"barpolar\":[{\"marker\":{\"line\":{\"color\":\"#E5ECF6\",\"width\":0.5},\"pattern\":{\"fillmode\":\"overlay\",\"size\":10,\"solidity\":0.2}},\"type\":\"barpolar\"}],\"pie\":[{\"automargin\":true,\"type\":\"pie\"}]},\"layout\":{\"autotypenumbers\":\"strict\",\"colorway\":[\"#636efa\",\"#EF553B\",\"#00cc96\",\"#ab63fa\",\"#FFA15A\",\"#19d3f3\",\"#FF6692\",\"#B6E880\",\"#FF97FF\",\"#FECB52\"],\"font\":{\"color\":\"#2a3f5f\"},\"hovermode\":\"closest\",\"hoverlabel\":{\"align\":\"left\"},\"paper_bgcolor\":\"white\",\"plot_bgcolor\":\"#E5ECF6\",\"polar\":{\"bgcolor\":\"#E5ECF6\",\"angularaxis\":{\"gridcolor\":\"white\",\"linecolor\":\"white\",\"ticks\":\"\"},\"radialaxis\":{\"gridcolor\":\"white\",\"linecolor\":\"white\",\"ticks\":\"\"}},\"ternary\":{\"bgcolor\":\"#E5ECF6\",\"aaxis\":{\"gridcolor\":\"white\",\"linecolor\":\"white\",\"ticks\":\"\"},\"baxis\":{\"gridcolor\":\"white\",\"linecolor\":\"white\",\"ticks\":\"\"},\"caxis\":{\"gridcolor\":\"white\",\"linecolor\":\"white\",\"ticks\":\"\"}},\"coloraxis\":{\"colorbar\":{\"outlinewidth\":0,\"ticks\":\"\"}},\"colorscale\":{\"sequential\":[[0.0,\"#0d0887\"],[0.1111111111111111,\"#46039f\"],[0.2222222222222222,\"#7201a8\"],[0.3333333333333333,\"#9c179e\"],[0.4444444444444444,\"#bd3786\"],[0.5555555555555556,\"#d8576b\"],[0.6666666666666666,\"#ed7953\"],[0.7777777777777778,\"#fb9f3a\"],[0.8888888888888888,\"#fdca26\"],[1.0,\"#f0f921\"]],\"sequentialminus\":[[0.0,\"#0d0887\"],[0.1111111111111111,\"#46039f\"],[0.2222222222222222,\"#7201a8\"],[0.3333333333333333,\"#9c179e\"],[0.4444444444444444,\"#bd3786\"],[0.5555555555555556,\"#d8576b\"],[0.6666666666666666,\"#ed7953\"],[0.7777777777777778,\"#fb9f3a\"],[0.8888888888888888,\"#fdca26\"],[1.0,\"#f0f921\"]],\"diverging\":[[0,\"#8e0152\"],[0.1,\"#c51b7d\"],[0.2,\"#de77ae\"],[0.3,\"#f1b6da\"],[0.4,\"#fde0ef\"],[0.5,\"#f7f7f7\"],[0.6,\"#e6f5d0\"],[0.7,\"#b8e186\"],[0.8,\"#7fbc41\"],[0.9,\"#4d9221\"],[1,\"#276419\"]]},\"xaxis\":{\"gridcolor\":\"white\",\"linecolor\":\"white\",\"ticks\":\"\",\"title\":{\"standoff\":15},\"zerolinecolor\":\"white\",\"automargin\":true,\"zerolinewidth\":2},\"yaxis\":{\"gridcolor\":\"white\",\"linecolor\":\"white\",\"ticks\":\"\",\"title\":{\"standoff\":15},\"zerolinecolor\":\"white\",\"automargin\":true,\"zerolinewidth\":2},\"scene\":{\"xaxis\":{\"backgroundcolor\":\"#E5ECF6\",\"gridcolor\":\"white\",\"linecolor\":\"white\",\"showbackground\":true,\"ticks\":\"\",\"zerolinecolor\":\"white\",\"gridwidth\":2},\"yaxis\":{\"backgroundcolor\":\"#E5ECF6\",\"gridcolor\":\"white\",\"linecolor\":\"white\",\"showbackground\":true,\"ticks\":\"\",\"zerolinecolor\":\"white\",\"gridwidth\":2},\"zaxis\":{\"backgroundcolor\":\"#E5ECF6\",\"gridcolor\":\"white\",\"linecolor\":\"white\",\"showbackground\":true,\"ticks\":\"\",\"zerolinecolor\":\"white\",\"gridwidth\":2}},\"shapedefaults\":{\"line\":{\"color\":\"#2a3f5f\"}},\"annotationdefaults\":{\"arrowcolor\":\"#2a3f5f\",\"arrowhead\":0,\"arrowwidth\":1},\"geo\":{\"bgcolor\":\"white\",\"landcolor\":\"#E5ECF6\",\"subunitcolor\":\"white\",\"showland\":true,\"showlakes\":true,\"lakecolor\":\"white\"},\"title\":{\"x\":0.05},\"mapbox\":{\"style\":\"light\"}}},\"xaxis\":{\"anchor\":\"y\",\"domain\":[0.0,1.0],\"scaleanchor\":\"y\",\"constrain\":\"domain\",\"title\":{\"text\":\"Heads (sorted)\"}},\"yaxis\":{\"anchor\":\"x\",\"domain\":[0.0,1.0],\"autorange\":true,\"constrain\":\"domain\",\"title\":{\"text\":\"Layers\"}},\"coloraxis\":{\"colorscale\":[[0.0,\"rgb(255,255,217)\"],[0.125,\"rgb(237,248,177)\"],[0.25,\"rgb(199,233,180)\"],[0.375,\"rgb(127,205,187)\"],[0.5,\"rgb(65,182,196)\"],[0.625,\"rgb(29,145,192)\"],[0.75,\"rgb(34,94,168)\"],[0.875,\"rgb(37,52,148)\"],[1.0,\"rgb(8,29,88)\"]],\"cmid\":0.5},\"title\":{\"text\":\"ez probes on tqa data\"}},                        {\"responsive\": true}                    ).then(function(){\n",
       "                            \n",
       "var gd = document.getElementById('47ecbedb-41da-4fae-b812-dbae8f66ee30');\n",
       "var x = new MutationObserver(function (mutations, observer) {{\n",
       "        var display = window.getComputedStyle(gd).display;\n",
       "        if (!display || display === 'none') {{\n",
       "            console.log([gd, 'removed!']);\n",
       "            Plotly.purge(gd);\n",
       "            observer.disconnect();\n",
       "        }}\n",
       "}});\n",
       "\n",
       "// Listen for the removal of the full notebook cells\n",
       "var notebookContainer = gd.closest('#notebook-container');\n",
       "if (notebookContainer) {{\n",
       "    x.observe(notebookContainer, {childList: true});\n",
       "}}\n",
       "\n",
       "// Listen for the clearing of the current output cell\n",
       "var outputEl = gd.closest('.output');\n",
       "if (outputEl) {{\n",
       "    x.observe(outputEl, {childList: true});\n",
       "}}\n",
       "\n",
       "                        })                };                });            </script>        </div>"
      ]
     },
     "metadata": {},
     "output_type": "display_data"
    },
    {
     "name": "stderr",
     "output_type": "stream",
     "text": [
      "1200it [00:00, 2460.75it/s]\n"
     ]
    },
    {
     "data": {
      "application/vnd.plotly.v1+json": {
       "config": {
        "plotlyServerURL": "https://plot.ly"
       },
       "data": [
        {
         "coloraxis": "coloraxis",
         "hovertemplate": "Heads (sorted): %{x}<br>Layers: %{y}<br>color: %{z}<extra></extra>",
         "name": "0",
         "type": "heatmap",
         "xaxis": "x",
         "yaxis": "y",
         "z": [
          [
           0.455,
           0.475,
           0.535,
           0.445,
           0.475,
           0.47,
           0.455,
           0.455,
           0.545,
           0.545,
           0.54,
           0.48,
           0.57,
           0.525,
           0.49,
           0.52,
           0.545,
           0.545,
           0.53,
           0.46,
           0.545,
           0.5,
           0.45,
           0.545,
           0.52
          ],
          [
           0.51,
           0.525,
           0.545,
           0.455,
           0.46,
           0.465,
           0.53,
           0.475,
           0.53,
           0.46,
           0.56,
           0.52,
           0.45,
           0.515,
           0.52,
           0.54,
           0.51,
           0.495,
           0.505,
           0.565,
           0.54,
           0.45,
           0.58,
           0.445,
           0.54
          ],
          [
           0.52,
           0.45,
           0.51,
           0.48,
           0.525,
           0.515,
           0.55,
           0.46,
           0.47,
           0.49,
           0.525,
           0.51,
           0.485,
           0.535,
           0.515,
           0.5,
           0.48,
           0.435,
           0.53,
           0.53,
           0.495,
           0.49,
           0.49,
           0.515,
           0.485
          ],
          [
           0.565,
           0.51,
           0.505,
           0.5,
           0.485,
           0.525,
           0.505,
           0.515,
           0.6,
           0.475,
           0.54,
           0.56,
           0.505,
           0.49,
           0.525,
           0.56,
           0.53,
           0.49,
           0.525,
           0.455,
           0.465,
           0.455,
           0.465,
           0.505,
           0.525
          ],
          [
           0.445,
           0.45,
           0.515,
           0.565,
           0.51,
           0.53,
           0.495,
           0.51,
           0.55,
           0.49,
           0.5,
           0.455,
           0.505,
           0.555,
           0.51,
           0.535,
           0.53,
           0.505,
           0.47,
           0.54,
           0.55,
           0.495,
           0.53,
           0.56,
           0.525
          ],
          [
           0.515,
           0.435,
           0.525,
           0.51,
           0.49,
           0.45,
           0.5,
           0.475,
           0.56,
           0.605,
           0.55,
           0.455,
           0.535,
           0.545,
           0.54,
           0.58,
           0.55,
           0.525,
           0.53,
           0.545,
           0.57,
           0.505,
           0.535,
           0.435,
           0.5
          ],
          [
           0.495,
           0.62,
           0.485,
           0.565,
           0.515,
           0.5,
           0.535,
           0.57,
           0.53,
           0.495,
           0.565,
           0.49,
           0.48,
           0.6,
           0.53,
           0.525,
           0.5,
           0.57,
           0.49,
           0.465,
           0.56,
           0.575,
           0.555,
           0.475,
           0.53
          ],
          [
           0.58,
           0.46,
           0.505,
           0.495,
           0.485,
           0.55,
           0.57,
           0.495,
           0.48,
           0.47,
           0.53,
           0.595,
           0.555,
           0.5,
           0.5,
           0.525,
           0.535,
           0.52,
           0.515,
           0.515,
           0.5,
           0.505,
           0.505,
           0.515,
           0.545
          ],
          [
           0.52,
           0.555,
           0.51,
           0.51,
           0.51,
           0.495,
           0.54,
           0.545,
           0.48,
           0.5,
           0.525,
           0.535,
           0.5,
           0.5,
           0.515,
           0.605,
           0.49,
           0.51,
           0.545,
           0.495,
           0.55,
           0.485,
           0.575,
           0.51,
           0.48
          ],
          [
           0.5,
           0.515,
           0.53,
           0.545,
           0.465,
           0.535,
           0.475,
           0.525,
           0.47,
           0.485,
           0.565,
           0.53,
           0.475,
           0.51,
           0.505,
           0.535,
           0.515,
           0.495,
           0.515,
           0.515,
           0.58,
           0.52,
           0.49,
           0.515,
           0.495
          ],
          [
           0.515,
           0.505,
           0.49,
           0.48,
           0.505,
           0.57,
           0.55,
           0.42,
           0.525,
           0.53,
           0.475,
           0.49,
           0.52,
           0.44,
           0.455,
           0.56,
           0.525,
           0.53,
           0.52,
           0.45,
           0.545,
           0.53,
           0.53,
           0.495,
           0.54
          ],
          [
           0.575,
           0.555,
           0.525,
           0.535,
           0.545,
           0.45,
           0.515,
           0.53,
           0.47,
           0.565,
           0.51,
           0.475,
           0.555,
           0.515,
           0.525,
           0.455,
           0.48,
           0.505,
           0.435,
           0.545,
           0.51,
           0.48,
           0.475,
           0.51,
           0.52
          ],
          [
           0.555,
           0.465,
           0.45,
           0.52,
           0.495,
           0.48,
           0.475,
           0.44,
           0.53,
           0.505,
           0.55,
           0.505,
           0.55,
           0.465,
           0.485,
           0.57,
           0.54,
           0.485,
           0.54,
           0.465,
           0.495,
           0.55,
           0.51,
           0.53,
           0.55
          ],
          [
           0.515,
           0.5,
           0.53,
           0.495,
           0.56,
           0.545,
           0.495,
           0.515,
           0.59,
           0.54,
           0.52,
           0.495,
           0.5,
           0.45,
           0.475,
           0.515,
           0.485,
           0.46,
           0.545,
           0.555,
           0.55,
           0.6,
           0.475,
           0.55,
           0.545
          ],
          [
           0.59,
           0.5,
           0.545,
           0.54,
           0.44,
           0.57,
           0.52,
           0.47,
           0.5,
           0.525,
           0.525,
           0.535,
           0.475,
           0.525,
           0.615,
           0.5,
           0.49,
           0.43,
           0.51,
           0.59,
           0.515,
           0.555,
           0.545,
           0.575,
           0.54
          ],
          [
           0.545,
           0.5,
           0.52,
           0.475,
           0.545,
           0.545,
           0.56,
           0.495,
           0.525,
           0.52,
           0.51,
           0.47,
           0.565,
           0.455,
           0.54,
           0.555,
           0.51,
           0.555,
           0.58,
           0.475,
           0.545,
           0.515,
           0.47,
           0.53,
           0.435
          ],
          [
           0.505,
           0.46,
           0.485,
           0.485,
           0.455,
           0.53,
           0.5,
           0.455,
           0.52,
           0.575,
           0.425,
           0.455,
           0.47,
           0.51,
           0.485,
           0.485,
           0.585,
           0.49,
           0.525,
           0.51,
           0.52,
           0.47,
           0.535,
           0.54,
           0.475
          ],
          [
           0.58,
           0.485,
           0.48,
           0.465,
           0.5,
           0.525,
           0.5,
           0.515,
           0.45,
           0.51,
           0.55,
           0.505,
           0.515,
           0.495,
           0.485,
           0.465,
           0.52,
           0.455,
           0.505,
           0.46,
           0.46,
           0.49,
           0.495,
           0.6,
           0.525
          ],
          [
           0.47,
           0.455,
           0.53,
           0.475,
           0.51,
           0.495,
           0.46,
           0.525,
           0.585,
           0.47,
           0.495,
           0.49,
           0.515,
           0.455,
           0.435,
           0.515,
           0.595,
           0.475,
           0.475,
           0.49,
           0.48,
           0.475,
           0.47,
           0.52,
           0.525
          ],
          [
           0.455,
           0.455,
           0.545,
           0.555,
           0.45,
           0.46,
           0.46,
           0.49,
           0.46,
           0.485,
           0.56,
           0.53,
           0.48,
           0.56,
           0.505,
           0.51,
           0.445,
           0.61,
           0.48,
           0.49,
           0.57,
           0.48,
           0.455,
           0.535,
           0.45
          ],
          [
           0.515,
           0.545,
           0.475,
           0.57,
           0.48,
           0.555,
           0.555,
           0.465,
           0.455,
           0.455,
           0.51,
           0.5,
           0.5,
           0.54,
           0.57,
           0.465,
           0.57,
           0.515,
           0.47,
           0.545,
           0.56,
           0.53,
           0.51,
           0.49,
           0.535
          ],
          [
           0.55,
           0.535,
           0.475,
           0.57,
           0.59,
           0.53,
           0.475,
           0.585,
           0.525,
           0.545,
           0.575,
           0.525,
           0.53,
           0.615,
           0.595,
           0.475,
           0.545,
           0.51,
           0.42,
           0.52,
           0.475,
           0.475,
           0.46,
           0.495,
           0.58
          ],
          [
           0.5,
           0.455,
           0.52,
           0.535,
           0.45,
           0.51,
           0.47,
           0.495,
           0.565,
           0.525,
           0.495,
           0.465,
           0.575,
           0.545,
           0.445,
           0.46,
           0.455,
           0.545,
           0.455,
           0.45,
           0.475,
           0.535,
           0.5,
           0.525,
           0.495
          ],
          [
           0.525,
           0.535,
           0.47,
           0.46,
           0.465,
           0.475,
           0.455,
           0.465,
           0.45,
           0.48,
           0.445,
           0.51,
           0.465,
           0.485,
           0.5,
           0.525,
           0.525,
           0.445,
           0.515,
           0.455,
           0.45,
           0.515,
           0.54,
           0.455,
           0.48
          ],
          [
           0.45,
           0.465,
           0.46,
           0.47,
           0.515,
           0.535,
           0.515,
           0.505,
           0.47,
           0.56,
           0.455,
           0.465,
           0.51,
           0.535,
           0.455,
           0.485,
           0.44,
           0.455,
           0.455,
           0.525,
           0.47,
           0.465,
           0.495,
           0.495,
           0.48
          ],
          [
           0.51,
           0.53,
           0.44,
           0.45,
           0.535,
           0.49,
           0.505,
           0.545,
           0.495,
           0.48,
           0.495,
           0.465,
           0.45,
           0.455,
           0.52,
           0.455,
           0.455,
           0.555,
           0.515,
           0.51,
           0.475,
           0.495,
           0.555,
           0.525,
           0.565
          ],
          [
           0.54,
           0.53,
           0.56,
           0.455,
           0.46,
           0.525,
           0.5,
           0.46,
           0.53,
           0.555,
           0.465,
           0.475,
           0.475,
           0.48,
           0.515,
           0.575,
           0.475,
           0.49,
           0.55,
           0.46,
           0.47,
           0.485,
           0.475,
           0.475,
           0.5
          ],
          [
           0.48,
           0.44,
           0.52,
           0.475,
           0.5,
           0.52,
           0.47,
           0.525,
           0.45,
           0.51,
           0.455,
           0.525,
           0.485,
           0.55,
           0.53,
           0.455,
           0.505,
           0.465,
           0.485,
           0.52,
           0.52,
           0.54,
           0.47,
           0.475,
           0.47
          ],
          [
           0.485,
           0.485,
           0.475,
           0.47,
           0.475,
           0.545,
           0.51,
           0.535,
           0.55,
           0.57,
           0.48,
           0.46,
           0.465,
           0.515,
           0.55,
           0.465,
           0.475,
           0.49,
           0.53,
           0.535,
           0.475,
           0.455,
           0.47,
           0.465,
           0.53
          ],
          [
           0.45,
           0.52,
           0.45,
           0.475,
           0.45,
           0.515,
           0.465,
           0.45,
           0.48,
           0.49,
           0.525,
           0.5,
           0.445,
           0.43,
           0.465,
           0.46,
           0.475,
           0.525,
           0.51,
           0.46,
           0.54,
           0.52,
           0.465,
           0.47,
           0.54
          ],
          [
           0.515,
           0.435,
           0.565,
           0.425,
           0.435,
           0.52,
           0.525,
           0.47,
           0.55,
           0.44,
           0.51,
           0.53,
           0.52,
           0.545,
           0.555,
           0.435,
           0.45,
           0.45,
           0.425,
           0.525,
           0.555,
           0.45,
           0.545,
           0.53,
           0.47
          ],
          [
           0.495,
           0.52,
           0.455,
           0.46,
           0.495,
           0.465,
           0.535,
           0.47,
           0.54,
           0.495,
           0.555,
           0.52,
           0.545,
           0.475,
           0.48,
           0.47,
           0.505,
           0.46,
           0.445,
           0.45,
           0.51,
           0.555,
           0.485,
           0.445,
           0.495
          ],
          [
           0.465,
           0.52,
           0.525,
           0.51,
           0.47,
           0.52,
           0.45,
           0.42,
           0.525,
           0.53,
           0.53,
           0.535,
           0.51,
           0.515,
           0.5,
           0.485,
           0.615,
           0.455,
           0.53,
           0.485,
           0.445,
           0.49,
           0.475,
           0.465,
           0.505
          ],
          [
           0.52,
           0.53,
           0.555,
           0.455,
           0.48,
           0.475,
           0.5,
           0.42,
           0.52,
           0.505,
           0.545,
           0.455,
           0.455,
           0.55,
           0.555,
           0.505,
           0.505,
           0.57,
           0.48,
           0.46,
           0.455,
           0.555,
           0.45,
           0.5,
           0.46
          ],
          [
           0.455,
           0.45,
           0.455,
           0.535,
           0.525,
           0.525,
           0.47,
           0.47,
           0.46,
           0.455,
           0.55,
           0.52,
           0.6,
           0.455,
           0.445,
           0.54,
           0.48,
           0.445,
           0.505,
           0.445,
           0.55,
           0.49,
           0.49,
           0.5,
           0.48
          ],
          [
           0.525,
           0.5,
           0.455,
           0.455,
           0.455,
           0.465,
           0.47,
           0.47,
           0.54,
           0.46,
           0.485,
           0.45,
           0.515,
           0.46,
           0.495,
           0.45,
           0.485,
           0.45,
           0.545,
           0.495,
           0.47,
           0.535,
           0.525,
           0.465,
           0.545
          ],
          [
           0.46,
           0.45,
           0.46,
           0.505,
           0.545,
           0.445,
           0.5,
           0.47,
           0.46,
           0.465,
           0.455,
           0.525,
           0.485,
           0.53,
           0.465,
           0.46,
           0.465,
           0.545,
           0.51,
           0.465,
           0.46,
           0.455,
           0.56,
           0.52,
           0.535
          ],
          [
           0.55,
           0.48,
           0.535,
           0.545,
           0.53,
           0.47,
           0.55,
           0.475,
           0.51,
           0.44,
           0.54,
           0.485,
           0.475,
           0.49,
           0.455,
           0.53,
           0.525,
           0.55,
           0.49,
           0.525,
           0.555,
           0.455,
           0.52,
           0.47,
           0.49
          ],
          [
           0.48,
           0.555,
           0.53,
           0.435,
           0.46,
           0.545,
           0.535,
           0.5,
           0.485,
           0.45,
           0.45,
           0.51,
           0.54,
           0.55,
           0.525,
           0.56,
           0.48,
           0.455,
           0.555,
           0.46,
           0.52,
           0.45,
           0.525,
           0.52,
           0.455
          ],
          [
           0.55,
           0.51,
           0.53,
           0.445,
           0.47,
           0.44,
           0.525,
           0.56,
           0.525,
           0.46,
           0.435,
           0.605,
           0.49,
           0.545,
           0.465,
           0.47,
           0.49,
           0.5,
           0.475,
           0.465,
           0.525,
           0.555,
           0.52,
           0.5,
           0.485
          ],
          [
           0.495,
           0.465,
           0.52,
           0.48,
           0.54,
           0.555,
           0.45,
           0.44,
           0.465,
           0.43,
           0.545,
           0.49,
           0.495,
           0.525,
           0.52,
           0.47,
           0.47,
           0.545,
           0.485,
           0.53,
           0.465,
           0.51,
           0.48,
           0.485,
           0.465
          ],
          [
           0.545,
           0.455,
           0.465,
           0.44,
           0.56,
           0.485,
           0.505,
           0.435,
           0.49,
           0.47,
           0.525,
           0.46,
           0.5,
           0.45,
           0.45,
           0.45,
           0.525,
           0.545,
           0.49,
           0.495,
           0.535,
           0.535,
           0.54,
           0.545,
           0.445
          ],
          [
           0.52,
           0.445,
           0.495,
           0.45,
           0.52,
           0.525,
           0.49,
           0.56,
           0.49,
           0.55,
           0.49,
           0.55,
           0.505,
           0.485,
           0.51,
           0.445,
           0.475,
           0.455,
           0.515,
           0.475,
           0.475,
           0.54,
           0.49,
           0.475,
           0.495
          ],
          [
           0.455,
           0.555,
           0.495,
           0.43,
           0.495,
           0.465,
           0.535,
           0.455,
           0.525,
           0.475,
           0.535,
           0.5,
           0.45,
           0.49,
           0.43,
           0.545,
           0.445,
           0.505,
           0.535,
           0.45,
           0.48,
           0.575,
           0.475,
           0.46,
           0.56
          ],
          [
           0.465,
           0.57,
           0.46,
           0.46,
           0.475,
           0.44,
           0.47,
           0.47,
           0.515,
           0.465,
           0.445,
           0.535,
           0.5,
           0.48,
           0.51,
           0.5,
           0.495,
           0.48,
           0.455,
           0.51,
           0.55,
           0.44,
           0.455,
           0.535,
           0.45
          ],
          [
           0.49,
           0.45,
           0.5,
           0.535,
           0.53,
           0.47,
           0.48,
           0.54,
           0.55,
           0.45,
           0.535,
           0.525,
           0.46,
           0.51,
           0.42,
           0.5,
           0.48,
           0.54,
           0.555,
           0.515,
           0.45,
           0.54,
           0.52,
           0.555,
           0.55
          ],
          [
           0.525,
           0.545,
           0.475,
           0.51,
           0.605,
           0.515,
           0.47,
           0.57,
           0.525,
           0.54,
           0.475,
           0.48,
           0.47,
           0.485,
           0.56,
           0.485,
           0.525,
           0.53,
           0.51,
           0.425,
           0.46,
           0.48,
           0.515,
           0.5,
           0.465
          ],
          [
           0.505,
           0.545,
           0.475,
           0.47,
           0.545,
           0.495,
           0.52,
           0.5,
           0.515,
           0.54,
           0.535,
           0.49,
           0.525,
           0.535,
           0.515,
           0.495,
           0.5,
           0.43,
           0.495,
           0.545,
           0.515,
           0.54,
           0.47,
           0.51,
           0.5
          ]
         ]
        }
       ],
       "layout": {
        "coloraxis": {
         "cmid": 0.5,
         "colorscale": [
          [
           0,
           "rgb(255,255,217)"
          ],
          [
           0.125,
           "rgb(237,248,177)"
          ],
          [
           0.25,
           "rgb(199,233,180)"
          ],
          [
           0.375,
           "rgb(127,205,187)"
          ],
          [
           0.5,
           "rgb(65,182,196)"
          ],
          [
           0.625,
           "rgb(29,145,192)"
          ],
          [
           0.75,
           "rgb(34,94,168)"
          ],
          [
           0.875,
           "rgb(37,52,148)"
          ],
          [
           1,
           "rgb(8,29,88)"
          ]
         ]
        },
        "template": {
         "data": {
          "bar": [
           {
            "error_x": {
             "color": "#2a3f5f"
            },
            "error_y": {
             "color": "#2a3f5f"
            },
            "marker": {
             "line": {
              "color": "#E5ECF6",
              "width": 0.5
             },
             "pattern": {
              "fillmode": "overlay",
              "size": 10,
              "solidity": 0.2
             }
            },
            "type": "bar"
           }
          ],
          "barpolar": [
           {
            "marker": {
             "line": {
              "color": "#E5ECF6",
              "width": 0.5
             },
             "pattern": {
              "fillmode": "overlay",
              "size": 10,
              "solidity": 0.2
             }
            },
            "type": "barpolar"
           }
          ],
          "carpet": [
           {
            "aaxis": {
             "endlinecolor": "#2a3f5f",
             "gridcolor": "white",
             "linecolor": "white",
             "minorgridcolor": "white",
             "startlinecolor": "#2a3f5f"
            },
            "baxis": {
             "endlinecolor": "#2a3f5f",
             "gridcolor": "white",
             "linecolor": "white",
             "minorgridcolor": "white",
             "startlinecolor": "#2a3f5f"
            },
            "type": "carpet"
           }
          ],
          "choropleth": [
           {
            "colorbar": {
             "outlinewidth": 0,
             "ticks": ""
            },
            "type": "choropleth"
           }
          ],
          "contour": [
           {
            "colorbar": {
             "outlinewidth": 0,
             "ticks": ""
            },
            "colorscale": [
             [
              0,
              "#0d0887"
             ],
             [
              0.1111111111111111,
              "#46039f"
             ],
             [
              0.2222222222222222,
              "#7201a8"
             ],
             [
              0.3333333333333333,
              "#9c179e"
             ],
             [
              0.4444444444444444,
              "#bd3786"
             ],
             [
              0.5555555555555556,
              "#d8576b"
             ],
             [
              0.6666666666666666,
              "#ed7953"
             ],
             [
              0.7777777777777778,
              "#fb9f3a"
             ],
             [
              0.8888888888888888,
              "#fdca26"
             ],
             [
              1,
              "#f0f921"
             ]
            ],
            "type": "contour"
           }
          ],
          "contourcarpet": [
           {
            "colorbar": {
             "outlinewidth": 0,
             "ticks": ""
            },
            "type": "contourcarpet"
           }
          ],
          "heatmap": [
           {
            "colorbar": {
             "outlinewidth": 0,
             "ticks": ""
            },
            "colorscale": [
             [
              0,
              "#0d0887"
             ],
             [
              0.1111111111111111,
              "#46039f"
             ],
             [
              0.2222222222222222,
              "#7201a8"
             ],
             [
              0.3333333333333333,
              "#9c179e"
             ],
             [
              0.4444444444444444,
              "#bd3786"
             ],
             [
              0.5555555555555556,
              "#d8576b"
             ],
             [
              0.6666666666666666,
              "#ed7953"
             ],
             [
              0.7777777777777778,
              "#fb9f3a"
             ],
             [
              0.8888888888888888,
              "#fdca26"
             ],
             [
              1,
              "#f0f921"
             ]
            ],
            "type": "heatmap"
           }
          ],
          "heatmapgl": [
           {
            "colorbar": {
             "outlinewidth": 0,
             "ticks": ""
            },
            "colorscale": [
             [
              0,
              "#0d0887"
             ],
             [
              0.1111111111111111,
              "#46039f"
             ],
             [
              0.2222222222222222,
              "#7201a8"
             ],
             [
              0.3333333333333333,
              "#9c179e"
             ],
             [
              0.4444444444444444,
              "#bd3786"
             ],
             [
              0.5555555555555556,
              "#d8576b"
             ],
             [
              0.6666666666666666,
              "#ed7953"
             ],
             [
              0.7777777777777778,
              "#fb9f3a"
             ],
             [
              0.8888888888888888,
              "#fdca26"
             ],
             [
              1,
              "#f0f921"
             ]
            ],
            "type": "heatmapgl"
           }
          ],
          "histogram": [
           {
            "marker": {
             "pattern": {
              "fillmode": "overlay",
              "size": 10,
              "solidity": 0.2
             }
            },
            "type": "histogram"
           }
          ],
          "histogram2d": [
           {
            "colorbar": {
             "outlinewidth": 0,
             "ticks": ""
            },
            "colorscale": [
             [
              0,
              "#0d0887"
             ],
             [
              0.1111111111111111,
              "#46039f"
             ],
             [
              0.2222222222222222,
              "#7201a8"
             ],
             [
              0.3333333333333333,
              "#9c179e"
             ],
             [
              0.4444444444444444,
              "#bd3786"
             ],
             [
              0.5555555555555556,
              "#d8576b"
             ],
             [
              0.6666666666666666,
              "#ed7953"
             ],
             [
              0.7777777777777778,
              "#fb9f3a"
             ],
             [
              0.8888888888888888,
              "#fdca26"
             ],
             [
              1,
              "#f0f921"
             ]
            ],
            "type": "histogram2d"
           }
          ],
          "histogram2dcontour": [
           {
            "colorbar": {
             "outlinewidth": 0,
             "ticks": ""
            },
            "colorscale": [
             [
              0,
              "#0d0887"
             ],
             [
              0.1111111111111111,
              "#46039f"
             ],
             [
              0.2222222222222222,
              "#7201a8"
             ],
             [
              0.3333333333333333,
              "#9c179e"
             ],
             [
              0.4444444444444444,
              "#bd3786"
             ],
             [
              0.5555555555555556,
              "#d8576b"
             ],
             [
              0.6666666666666666,
              "#ed7953"
             ],
             [
              0.7777777777777778,
              "#fb9f3a"
             ],
             [
              0.8888888888888888,
              "#fdca26"
             ],
             [
              1,
              "#f0f921"
             ]
            ],
            "type": "histogram2dcontour"
           }
          ],
          "mesh3d": [
           {
            "colorbar": {
             "outlinewidth": 0,
             "ticks": ""
            },
            "type": "mesh3d"
           }
          ],
          "parcoords": [
           {
            "line": {
             "colorbar": {
              "outlinewidth": 0,
              "ticks": ""
             }
            },
            "type": "parcoords"
           }
          ],
          "pie": [
           {
            "automargin": true,
            "type": "pie"
           }
          ],
          "scatter": [
           {
            "fillpattern": {
             "fillmode": "overlay",
             "size": 10,
             "solidity": 0.2
            },
            "type": "scatter"
           }
          ],
          "scatter3d": [
           {
            "line": {
             "colorbar": {
              "outlinewidth": 0,
              "ticks": ""
             }
            },
            "marker": {
             "colorbar": {
              "outlinewidth": 0,
              "ticks": ""
             }
            },
            "type": "scatter3d"
           }
          ],
          "scattercarpet": [
           {
            "marker": {
             "colorbar": {
              "outlinewidth": 0,
              "ticks": ""
             }
            },
            "type": "scattercarpet"
           }
          ],
          "scattergeo": [
           {
            "marker": {
             "colorbar": {
              "outlinewidth": 0,
              "ticks": ""
             }
            },
            "type": "scattergeo"
           }
          ],
          "scattergl": [
           {
            "marker": {
             "colorbar": {
              "outlinewidth": 0,
              "ticks": ""
             }
            },
            "type": "scattergl"
           }
          ],
          "scattermapbox": [
           {
            "marker": {
             "colorbar": {
              "outlinewidth": 0,
              "ticks": ""
             }
            },
            "type": "scattermapbox"
           }
          ],
          "scatterpolar": [
           {
            "marker": {
             "colorbar": {
              "outlinewidth": 0,
              "ticks": ""
             }
            },
            "type": "scatterpolar"
           }
          ],
          "scatterpolargl": [
           {
            "marker": {
             "colorbar": {
              "outlinewidth": 0,
              "ticks": ""
             }
            },
            "type": "scatterpolargl"
           }
          ],
          "scatterternary": [
           {
            "marker": {
             "colorbar": {
              "outlinewidth": 0,
              "ticks": ""
             }
            },
            "type": "scatterternary"
           }
          ],
          "surface": [
           {
            "colorbar": {
             "outlinewidth": 0,
             "ticks": ""
            },
            "colorscale": [
             [
              0,
              "#0d0887"
             ],
             [
              0.1111111111111111,
              "#46039f"
             ],
             [
              0.2222222222222222,
              "#7201a8"
             ],
             [
              0.3333333333333333,
              "#9c179e"
             ],
             [
              0.4444444444444444,
              "#bd3786"
             ],
             [
              0.5555555555555556,
              "#d8576b"
             ],
             [
              0.6666666666666666,
              "#ed7953"
             ],
             [
              0.7777777777777778,
              "#fb9f3a"
             ],
             [
              0.8888888888888888,
              "#fdca26"
             ],
             [
              1,
              "#f0f921"
             ]
            ],
            "type": "surface"
           }
          ],
          "table": [
           {
            "cells": {
             "fill": {
              "color": "#EBF0F8"
             },
             "line": {
              "color": "white"
             }
            },
            "header": {
             "fill": {
              "color": "#C8D4E3"
             },
             "line": {
              "color": "white"
             }
            },
            "type": "table"
           }
          ]
         },
         "layout": {
          "annotationdefaults": {
           "arrowcolor": "#2a3f5f",
           "arrowhead": 0,
           "arrowwidth": 1
          },
          "autotypenumbers": "strict",
          "coloraxis": {
           "colorbar": {
            "outlinewidth": 0,
            "ticks": ""
           }
          },
          "colorscale": {
           "diverging": [
            [
             0,
             "#8e0152"
            ],
            [
             0.1,
             "#c51b7d"
            ],
            [
             0.2,
             "#de77ae"
            ],
            [
             0.3,
             "#f1b6da"
            ],
            [
             0.4,
             "#fde0ef"
            ],
            [
             0.5,
             "#f7f7f7"
            ],
            [
             0.6,
             "#e6f5d0"
            ],
            [
             0.7,
             "#b8e186"
            ],
            [
             0.8,
             "#7fbc41"
            ],
            [
             0.9,
             "#4d9221"
            ],
            [
             1,
             "#276419"
            ]
           ],
           "sequential": [
            [
             0,
             "#0d0887"
            ],
            [
             0.1111111111111111,
             "#46039f"
            ],
            [
             0.2222222222222222,
             "#7201a8"
            ],
            [
             0.3333333333333333,
             "#9c179e"
            ],
            [
             0.4444444444444444,
             "#bd3786"
            ],
            [
             0.5555555555555556,
             "#d8576b"
            ],
            [
             0.6666666666666666,
             "#ed7953"
            ],
            [
             0.7777777777777778,
             "#fb9f3a"
            ],
            [
             0.8888888888888888,
             "#fdca26"
            ],
            [
             1,
             "#f0f921"
            ]
           ],
           "sequentialminus": [
            [
             0,
             "#0d0887"
            ],
            [
             0.1111111111111111,
             "#46039f"
            ],
            [
             0.2222222222222222,
             "#7201a8"
            ],
            [
             0.3333333333333333,
             "#9c179e"
            ],
            [
             0.4444444444444444,
             "#bd3786"
            ],
            [
             0.5555555555555556,
             "#d8576b"
            ],
            [
             0.6666666666666666,
             "#ed7953"
            ],
            [
             0.7777777777777778,
             "#fb9f3a"
            ],
            [
             0.8888888888888888,
             "#fdca26"
            ],
            [
             1,
             "#f0f921"
            ]
           ]
          },
          "colorway": [
           "#636efa",
           "#EF553B",
           "#00cc96",
           "#ab63fa",
           "#FFA15A",
           "#19d3f3",
           "#FF6692",
           "#B6E880",
           "#FF97FF",
           "#FECB52"
          ],
          "font": {
           "color": "#2a3f5f"
          },
          "geo": {
           "bgcolor": "white",
           "lakecolor": "white",
           "landcolor": "#E5ECF6",
           "showlakes": true,
           "showland": true,
           "subunitcolor": "white"
          },
          "hoverlabel": {
           "align": "left"
          },
          "hovermode": "closest",
          "mapbox": {
           "style": "light"
          },
          "paper_bgcolor": "white",
          "plot_bgcolor": "#E5ECF6",
          "polar": {
           "angularaxis": {
            "gridcolor": "white",
            "linecolor": "white",
            "ticks": ""
           },
           "bgcolor": "#E5ECF6",
           "radialaxis": {
            "gridcolor": "white",
            "linecolor": "white",
            "ticks": ""
           }
          },
          "scene": {
           "xaxis": {
            "backgroundcolor": "#E5ECF6",
            "gridcolor": "white",
            "gridwidth": 2,
            "linecolor": "white",
            "showbackground": true,
            "ticks": "",
            "zerolinecolor": "white"
           },
           "yaxis": {
            "backgroundcolor": "#E5ECF6",
            "gridcolor": "white",
            "gridwidth": 2,
            "linecolor": "white",
            "showbackground": true,
            "ticks": "",
            "zerolinecolor": "white"
           },
           "zaxis": {
            "backgroundcolor": "#E5ECF6",
            "gridcolor": "white",
            "gridwidth": 2,
            "linecolor": "white",
            "showbackground": true,
            "ticks": "",
            "zerolinecolor": "white"
           }
          },
          "shapedefaults": {
           "line": {
            "color": "#2a3f5f"
           }
          },
          "ternary": {
           "aaxis": {
            "gridcolor": "white",
            "linecolor": "white",
            "ticks": ""
           },
           "baxis": {
            "gridcolor": "white",
            "linecolor": "white",
            "ticks": ""
           },
           "bgcolor": "#E5ECF6",
           "caxis": {
            "gridcolor": "white",
            "linecolor": "white",
            "ticks": ""
           }
          },
          "title": {
           "x": 0.05
          },
          "xaxis": {
           "automargin": true,
           "gridcolor": "white",
           "linecolor": "white",
           "ticks": "",
           "title": {
            "standoff": 15
           },
           "zerolinecolor": "white",
           "zerolinewidth": 2
          },
          "yaxis": {
           "automargin": true,
           "gridcolor": "white",
           "linecolor": "white",
           "ticks": "",
           "title": {
            "standoff": 15
           },
           "zerolinecolor": "white",
           "zerolinewidth": 2
          }
         }
        },
        "title": {
         "text": "ez probes on cfact data"
        },
        "xaxis": {
         "anchor": "y",
         "constrain": "domain",
         "domain": [
          0,
          1
         ],
         "scaleanchor": "y",
         "title": {
          "text": "Heads (sorted)"
         }
        },
        "yaxis": {
         "anchor": "x",
         "autorange": true,
         "constrain": "domain",
         "domain": [
          0,
          1
         ],
         "title": {
          "text": "Layers"
         }
        }
       }
      },
      "text/html": [
       "<div>                            <div id=\"91ed91de-5345-4412-acba-d849225d46ab\" class=\"plotly-graph-div\" style=\"height:525px; width:100%;\"></div>            <script type=\"text/javascript\">                require([\"plotly\"], function(Plotly) {                    window.PLOTLYENV=window.PLOTLYENV || {};                                    if (document.getElementById(\"91ed91de-5345-4412-acba-d849225d46ab\")) {                    Plotly.newPlot(                        \"91ed91de-5345-4412-acba-d849225d46ab\",                        [{\"coloraxis\":\"coloraxis\",\"name\":\"0\",\"z\":[[0.455,0.475,0.535,0.445,0.475,0.47,0.455,0.455,0.545,0.545,0.54,0.48,0.57,0.525,0.49,0.52,0.545,0.545,0.53,0.46,0.545,0.5,0.45,0.545,0.52],[0.51,0.525,0.545,0.455,0.46,0.465,0.53,0.475,0.53,0.46,0.56,0.52,0.45,0.515,0.52,0.54,0.51,0.495,0.505,0.565,0.54,0.45,0.58,0.445,0.54],[0.52,0.45,0.51,0.48,0.525,0.515,0.55,0.46,0.47,0.49,0.525,0.51,0.485,0.535,0.515,0.5,0.48,0.435,0.53,0.53,0.495,0.49,0.49,0.515,0.485],[0.565,0.51,0.505,0.5,0.485,0.525,0.505,0.515,0.6,0.475,0.54,0.56,0.505,0.49,0.525,0.56,0.53,0.49,0.525,0.455,0.465,0.455,0.465,0.505,0.525],[0.445,0.45,0.515,0.565,0.51,0.53,0.495,0.51,0.55,0.49,0.5,0.455,0.505,0.555,0.51,0.535,0.53,0.505,0.47,0.54,0.55,0.495,0.53,0.56,0.525],[0.515,0.435,0.525,0.51,0.49,0.45,0.5,0.475,0.56,0.605,0.55,0.455,0.535,0.545,0.54,0.58,0.55,0.525,0.53,0.545,0.57,0.505,0.535,0.435,0.5],[0.495,0.62,0.485,0.565,0.515,0.5,0.535,0.57,0.53,0.495,0.565,0.49,0.48,0.6,0.53,0.525,0.5,0.57,0.49,0.465,0.56,0.575,0.555,0.475,0.53],[0.58,0.46,0.505,0.495,0.485,0.55,0.57,0.495,0.48,0.47,0.53,0.595,0.555,0.5,0.5,0.525,0.535,0.52,0.515,0.515,0.5,0.505,0.505,0.515,0.545],[0.52,0.555,0.51,0.51,0.51,0.495,0.54,0.545,0.48,0.5,0.525,0.535,0.5,0.5,0.515,0.605,0.49,0.51,0.545,0.495,0.55,0.485,0.575,0.51,0.48],[0.5,0.515,0.53,0.545,0.465,0.535,0.475,0.525,0.47,0.485,0.565,0.53,0.475,0.51,0.505,0.535,0.515,0.495,0.515,0.515,0.58,0.52,0.49,0.515,0.495],[0.515,0.505,0.49,0.48,0.505,0.57,0.55,0.42,0.525,0.53,0.475,0.49,0.52,0.44,0.455,0.56,0.525,0.53,0.52,0.45,0.545,0.53,0.53,0.495,0.54],[0.575,0.555,0.525,0.535,0.545,0.45,0.515,0.53,0.47,0.565,0.51,0.475,0.555,0.515,0.525,0.455,0.48,0.505,0.435,0.545,0.51,0.48,0.475,0.51,0.52],[0.555,0.465,0.45,0.52,0.495,0.48,0.475,0.44,0.53,0.505,0.55,0.505,0.55,0.465,0.485,0.57,0.54,0.485,0.54,0.465,0.495,0.55,0.51,0.53,0.55],[0.515,0.5,0.53,0.495,0.56,0.545,0.495,0.515,0.59,0.54,0.52,0.495,0.5,0.45,0.475,0.515,0.485,0.46,0.545,0.555,0.55,0.6,0.475,0.55,0.545],[0.59,0.5,0.545,0.54,0.44,0.57,0.52,0.47,0.5,0.525,0.525,0.535,0.475,0.525,0.615,0.5,0.49,0.43,0.51,0.59,0.515,0.555,0.545,0.575,0.54],[0.545,0.5,0.52,0.475,0.545,0.545,0.56,0.495,0.525,0.52,0.51,0.47,0.565,0.455,0.54,0.555,0.51,0.555,0.58,0.475,0.545,0.515,0.47,0.53,0.435],[0.505,0.46,0.485,0.485,0.455,0.53,0.5,0.455,0.52,0.575,0.425,0.455,0.47,0.51,0.485,0.485,0.585,0.49,0.525,0.51,0.52,0.47,0.535,0.54,0.475],[0.58,0.485,0.48,0.465,0.5,0.525,0.5,0.515,0.45,0.51,0.55,0.505,0.515,0.495,0.485,0.465,0.52,0.455,0.505,0.46,0.46,0.49,0.495,0.6,0.525],[0.47,0.455,0.53,0.475,0.51,0.495,0.46,0.525,0.585,0.47,0.495,0.49,0.515,0.455,0.435,0.515,0.595,0.475,0.475,0.49,0.48,0.475,0.47,0.52,0.525],[0.455,0.455,0.545,0.555,0.45,0.46,0.46,0.49,0.46,0.485,0.56,0.53,0.48,0.56,0.505,0.51,0.445,0.61,0.48,0.49,0.57,0.48,0.455,0.535,0.45],[0.515,0.545,0.475,0.57,0.48,0.555,0.555,0.465,0.455,0.455,0.51,0.5,0.5,0.54,0.57,0.465,0.57,0.515,0.47,0.545,0.56,0.53,0.51,0.49,0.535],[0.55,0.535,0.475,0.57,0.59,0.53,0.475,0.585,0.525,0.545,0.575,0.525,0.53,0.615,0.595,0.475,0.545,0.51,0.42,0.52,0.475,0.475,0.46,0.495,0.58],[0.5,0.455,0.52,0.535,0.45,0.51,0.47,0.495,0.565,0.525,0.495,0.465,0.575,0.545,0.445,0.46,0.455,0.545,0.455,0.45,0.475,0.535,0.5,0.525,0.495],[0.525,0.535,0.47,0.46,0.465,0.475,0.455,0.465,0.45,0.48,0.445,0.51,0.465,0.485,0.5,0.525,0.525,0.445,0.515,0.455,0.45,0.515,0.54,0.455,0.48],[0.45,0.465,0.46,0.47,0.515,0.535,0.515,0.505,0.47,0.56,0.455,0.465,0.51,0.535,0.455,0.485,0.44,0.455,0.455,0.525,0.47,0.465,0.495,0.495,0.48],[0.51,0.53,0.44,0.45,0.535,0.49,0.505,0.545,0.495,0.48,0.495,0.465,0.45,0.455,0.52,0.455,0.455,0.555,0.515,0.51,0.475,0.495,0.555,0.525,0.565],[0.54,0.53,0.56,0.455,0.46,0.525,0.5,0.46,0.53,0.555,0.465,0.475,0.475,0.48,0.515,0.575,0.475,0.49,0.55,0.46,0.47,0.485,0.475,0.475,0.5],[0.48,0.44,0.52,0.475,0.5,0.52,0.47,0.525,0.45,0.51,0.455,0.525,0.485,0.55,0.53,0.455,0.505,0.465,0.485,0.52,0.52,0.54,0.47,0.475,0.47],[0.485,0.485,0.475,0.47,0.475,0.545,0.51,0.535,0.55,0.57,0.48,0.46,0.465,0.515,0.55,0.465,0.475,0.49,0.53,0.535,0.475,0.455,0.47,0.465,0.53],[0.45,0.52,0.45,0.475,0.45,0.515,0.465,0.45,0.48,0.49,0.525,0.5,0.445,0.43,0.465,0.46,0.475,0.525,0.51,0.46,0.54,0.52,0.465,0.47,0.54],[0.515,0.435,0.565,0.425,0.435,0.52,0.525,0.47,0.55,0.44,0.51,0.53,0.52,0.545,0.555,0.435,0.45,0.45,0.425,0.525,0.555,0.45,0.545,0.53,0.47],[0.495,0.52,0.455,0.46,0.495,0.465,0.535,0.47,0.54,0.495,0.555,0.52,0.545,0.475,0.48,0.47,0.505,0.46,0.445,0.45,0.51,0.555,0.485,0.445,0.495],[0.465,0.52,0.525,0.51,0.47,0.52,0.45,0.42,0.525,0.53,0.53,0.535,0.51,0.515,0.5,0.485,0.615,0.455,0.53,0.485,0.445,0.49,0.475,0.465,0.505],[0.52,0.53,0.555,0.455,0.48,0.475,0.5,0.42,0.52,0.505,0.545,0.455,0.455,0.55,0.555,0.505,0.505,0.57,0.48,0.46,0.455,0.555,0.45,0.5,0.46],[0.455,0.45,0.455,0.535,0.525,0.525,0.47,0.47,0.46,0.455,0.55,0.52,0.6,0.455,0.445,0.54,0.48,0.445,0.505,0.445,0.55,0.49,0.49,0.5,0.48],[0.525,0.5,0.455,0.455,0.455,0.465,0.47,0.47,0.54,0.46,0.485,0.45,0.515,0.46,0.495,0.45,0.485,0.45,0.545,0.495,0.47,0.535,0.525,0.465,0.545],[0.46,0.45,0.46,0.505,0.545,0.445,0.5,0.47,0.46,0.465,0.455,0.525,0.485,0.53,0.465,0.46,0.465,0.545,0.51,0.465,0.46,0.455,0.56,0.52,0.535],[0.55,0.48,0.535,0.545,0.53,0.47,0.55,0.475,0.51,0.44,0.54,0.485,0.475,0.49,0.455,0.53,0.525,0.55,0.49,0.525,0.555,0.455,0.52,0.47,0.49],[0.48,0.555,0.53,0.435,0.46,0.545,0.535,0.5,0.485,0.45,0.45,0.51,0.54,0.55,0.525,0.56,0.48,0.455,0.555,0.46,0.52,0.45,0.525,0.52,0.455],[0.55,0.51,0.53,0.445,0.47,0.44,0.525,0.56,0.525,0.46,0.435,0.605,0.49,0.545,0.465,0.47,0.49,0.5,0.475,0.465,0.525,0.555,0.52,0.5,0.485],[0.495,0.465,0.52,0.48,0.54,0.555,0.45,0.44,0.465,0.43,0.545,0.49,0.495,0.525,0.52,0.47,0.47,0.545,0.485,0.53,0.465,0.51,0.48,0.485,0.465],[0.545,0.455,0.465,0.44,0.56,0.485,0.505,0.435,0.49,0.47,0.525,0.46,0.5,0.45,0.45,0.45,0.525,0.545,0.49,0.495,0.535,0.535,0.54,0.545,0.445],[0.52,0.445,0.495,0.45,0.52,0.525,0.49,0.56,0.49,0.55,0.49,0.55,0.505,0.485,0.51,0.445,0.475,0.455,0.515,0.475,0.475,0.54,0.49,0.475,0.495],[0.455,0.555,0.495,0.43,0.495,0.465,0.535,0.455,0.525,0.475,0.535,0.5,0.45,0.49,0.43,0.545,0.445,0.505,0.535,0.45,0.48,0.575,0.475,0.46,0.56],[0.465,0.57,0.46,0.46,0.475,0.44,0.47,0.47,0.515,0.465,0.445,0.535,0.5,0.48,0.51,0.5,0.495,0.48,0.455,0.51,0.55,0.44,0.455,0.535,0.45],[0.49,0.45,0.5,0.535,0.53,0.47,0.48,0.54,0.55,0.45,0.535,0.525,0.46,0.51,0.42,0.5,0.48,0.54,0.555,0.515,0.45,0.54,0.52,0.555,0.55],[0.525,0.545,0.475,0.51,0.605,0.515,0.47,0.57,0.525,0.54,0.475,0.48,0.47,0.485,0.56,0.485,0.525,0.53,0.51,0.425,0.46,0.48,0.515,0.5,0.465],[0.505,0.545,0.475,0.47,0.545,0.495,0.52,0.5,0.515,0.54,0.535,0.49,0.525,0.535,0.515,0.495,0.5,0.43,0.495,0.545,0.515,0.54,0.47,0.51,0.5]],\"type\":\"heatmap\",\"xaxis\":\"x\",\"yaxis\":\"y\",\"hovertemplate\":\"Heads (sorted): %{x}\\u003cbr\\u003eLayers: %{y}\\u003cbr\\u003ecolor: %{z}\\u003cextra\\u003e\\u003c\\u002fextra\\u003e\"}],                        {\"template\":{\"data\":{\"histogram2dcontour\":[{\"type\":\"histogram2dcontour\",\"colorbar\":{\"outlinewidth\":0,\"ticks\":\"\"},\"colorscale\":[[0.0,\"#0d0887\"],[0.1111111111111111,\"#46039f\"],[0.2222222222222222,\"#7201a8\"],[0.3333333333333333,\"#9c179e\"],[0.4444444444444444,\"#bd3786\"],[0.5555555555555556,\"#d8576b\"],[0.6666666666666666,\"#ed7953\"],[0.7777777777777778,\"#fb9f3a\"],[0.8888888888888888,\"#fdca26\"],[1.0,\"#f0f921\"]]}],\"choropleth\":[{\"type\":\"choropleth\",\"colorbar\":{\"outlinewidth\":0,\"ticks\":\"\"}}],\"histogram2d\":[{\"type\":\"histogram2d\",\"colorbar\":{\"outlinewidth\":0,\"ticks\":\"\"},\"colorscale\":[[0.0,\"#0d0887\"],[0.1111111111111111,\"#46039f\"],[0.2222222222222222,\"#7201a8\"],[0.3333333333333333,\"#9c179e\"],[0.4444444444444444,\"#bd3786\"],[0.5555555555555556,\"#d8576b\"],[0.6666666666666666,\"#ed7953\"],[0.7777777777777778,\"#fb9f3a\"],[0.8888888888888888,\"#fdca26\"],[1.0,\"#f0f921\"]]}],\"heatmap\":[{\"type\":\"heatmap\",\"colorbar\":{\"outlinewidth\":0,\"ticks\":\"\"},\"colorscale\":[[0.0,\"#0d0887\"],[0.1111111111111111,\"#46039f\"],[0.2222222222222222,\"#7201a8\"],[0.3333333333333333,\"#9c179e\"],[0.4444444444444444,\"#bd3786\"],[0.5555555555555556,\"#d8576b\"],[0.6666666666666666,\"#ed7953\"],[0.7777777777777778,\"#fb9f3a\"],[0.8888888888888888,\"#fdca26\"],[1.0,\"#f0f921\"]]}],\"heatmapgl\":[{\"type\":\"heatmapgl\",\"colorbar\":{\"outlinewidth\":0,\"ticks\":\"\"},\"colorscale\":[[0.0,\"#0d0887\"],[0.1111111111111111,\"#46039f\"],[0.2222222222222222,\"#7201a8\"],[0.3333333333333333,\"#9c179e\"],[0.4444444444444444,\"#bd3786\"],[0.5555555555555556,\"#d8576b\"],[0.6666666666666666,\"#ed7953\"],[0.7777777777777778,\"#fb9f3a\"],[0.8888888888888888,\"#fdca26\"],[1.0,\"#f0f921\"]]}],\"contourcarpet\":[{\"type\":\"contourcarpet\",\"colorbar\":{\"outlinewidth\":0,\"ticks\":\"\"}}],\"contour\":[{\"type\":\"contour\",\"colorbar\":{\"outlinewidth\":0,\"ticks\":\"\"},\"colorscale\":[[0.0,\"#0d0887\"],[0.1111111111111111,\"#46039f\"],[0.2222222222222222,\"#7201a8\"],[0.3333333333333333,\"#9c179e\"],[0.4444444444444444,\"#bd3786\"],[0.5555555555555556,\"#d8576b\"],[0.6666666666666666,\"#ed7953\"],[0.7777777777777778,\"#fb9f3a\"],[0.8888888888888888,\"#fdca26\"],[1.0,\"#f0f921\"]]}],\"surface\":[{\"type\":\"surface\",\"colorbar\":{\"outlinewidth\":0,\"ticks\":\"\"},\"colorscale\":[[0.0,\"#0d0887\"],[0.1111111111111111,\"#46039f\"],[0.2222222222222222,\"#7201a8\"],[0.3333333333333333,\"#9c179e\"],[0.4444444444444444,\"#bd3786\"],[0.5555555555555556,\"#d8576b\"],[0.6666666666666666,\"#ed7953\"],[0.7777777777777778,\"#fb9f3a\"],[0.8888888888888888,\"#fdca26\"],[1.0,\"#f0f921\"]]}],\"mesh3d\":[{\"type\":\"mesh3d\",\"colorbar\":{\"outlinewidth\":0,\"ticks\":\"\"}}],\"scatter\":[{\"fillpattern\":{\"fillmode\":\"overlay\",\"size\":10,\"solidity\":0.2},\"type\":\"scatter\"}],\"parcoords\":[{\"type\":\"parcoords\",\"line\":{\"colorbar\":{\"outlinewidth\":0,\"ticks\":\"\"}}}],\"scatterpolargl\":[{\"type\":\"scatterpolargl\",\"marker\":{\"colorbar\":{\"outlinewidth\":0,\"ticks\":\"\"}}}],\"bar\":[{\"error_x\":{\"color\":\"#2a3f5f\"},\"error_y\":{\"color\":\"#2a3f5f\"},\"marker\":{\"line\":{\"color\":\"#E5ECF6\",\"width\":0.5},\"pattern\":{\"fillmode\":\"overlay\",\"size\":10,\"solidity\":0.2}},\"type\":\"bar\"}],\"scattergeo\":[{\"type\":\"scattergeo\",\"marker\":{\"colorbar\":{\"outlinewidth\":0,\"ticks\":\"\"}}}],\"scatterpolar\":[{\"type\":\"scatterpolar\",\"marker\":{\"colorbar\":{\"outlinewidth\":0,\"ticks\":\"\"}}}],\"histogram\":[{\"marker\":{\"pattern\":{\"fillmode\":\"overlay\",\"size\":10,\"solidity\":0.2}},\"type\":\"histogram\"}],\"scattergl\":[{\"type\":\"scattergl\",\"marker\":{\"colorbar\":{\"outlinewidth\":0,\"ticks\":\"\"}}}],\"scatter3d\":[{\"type\":\"scatter3d\",\"line\":{\"colorbar\":{\"outlinewidth\":0,\"ticks\":\"\"}},\"marker\":{\"colorbar\":{\"outlinewidth\":0,\"ticks\":\"\"}}}],\"scattermapbox\":[{\"type\":\"scattermapbox\",\"marker\":{\"colorbar\":{\"outlinewidth\":0,\"ticks\":\"\"}}}],\"scatterternary\":[{\"type\":\"scatterternary\",\"marker\":{\"colorbar\":{\"outlinewidth\":0,\"ticks\":\"\"}}}],\"scattercarpet\":[{\"type\":\"scattercarpet\",\"marker\":{\"colorbar\":{\"outlinewidth\":0,\"ticks\":\"\"}}}],\"carpet\":[{\"aaxis\":{\"endlinecolor\":\"#2a3f5f\",\"gridcolor\":\"white\",\"linecolor\":\"white\",\"minorgridcolor\":\"white\",\"startlinecolor\":\"#2a3f5f\"},\"baxis\":{\"endlinecolor\":\"#2a3f5f\",\"gridcolor\":\"white\",\"linecolor\":\"white\",\"minorgridcolor\":\"white\",\"startlinecolor\":\"#2a3f5f\"},\"type\":\"carpet\"}],\"table\":[{\"cells\":{\"fill\":{\"color\":\"#EBF0F8\"},\"line\":{\"color\":\"white\"}},\"header\":{\"fill\":{\"color\":\"#C8D4E3\"},\"line\":{\"color\":\"white\"}},\"type\":\"table\"}],\"barpolar\":[{\"marker\":{\"line\":{\"color\":\"#E5ECF6\",\"width\":0.5},\"pattern\":{\"fillmode\":\"overlay\",\"size\":10,\"solidity\":0.2}},\"type\":\"barpolar\"}],\"pie\":[{\"automargin\":true,\"type\":\"pie\"}]},\"layout\":{\"autotypenumbers\":\"strict\",\"colorway\":[\"#636efa\",\"#EF553B\",\"#00cc96\",\"#ab63fa\",\"#FFA15A\",\"#19d3f3\",\"#FF6692\",\"#B6E880\",\"#FF97FF\",\"#FECB52\"],\"font\":{\"color\":\"#2a3f5f\"},\"hovermode\":\"closest\",\"hoverlabel\":{\"align\":\"left\"},\"paper_bgcolor\":\"white\",\"plot_bgcolor\":\"#E5ECF6\",\"polar\":{\"bgcolor\":\"#E5ECF6\",\"angularaxis\":{\"gridcolor\":\"white\",\"linecolor\":\"white\",\"ticks\":\"\"},\"radialaxis\":{\"gridcolor\":\"white\",\"linecolor\":\"white\",\"ticks\":\"\"}},\"ternary\":{\"bgcolor\":\"#E5ECF6\",\"aaxis\":{\"gridcolor\":\"white\",\"linecolor\":\"white\",\"ticks\":\"\"},\"baxis\":{\"gridcolor\":\"white\",\"linecolor\":\"white\",\"ticks\":\"\"},\"caxis\":{\"gridcolor\":\"white\",\"linecolor\":\"white\",\"ticks\":\"\"}},\"coloraxis\":{\"colorbar\":{\"outlinewidth\":0,\"ticks\":\"\"}},\"colorscale\":{\"sequential\":[[0.0,\"#0d0887\"],[0.1111111111111111,\"#46039f\"],[0.2222222222222222,\"#7201a8\"],[0.3333333333333333,\"#9c179e\"],[0.4444444444444444,\"#bd3786\"],[0.5555555555555556,\"#d8576b\"],[0.6666666666666666,\"#ed7953\"],[0.7777777777777778,\"#fb9f3a\"],[0.8888888888888888,\"#fdca26\"],[1.0,\"#f0f921\"]],\"sequentialminus\":[[0.0,\"#0d0887\"],[0.1111111111111111,\"#46039f\"],[0.2222222222222222,\"#7201a8\"],[0.3333333333333333,\"#9c179e\"],[0.4444444444444444,\"#bd3786\"],[0.5555555555555556,\"#d8576b\"],[0.6666666666666666,\"#ed7953\"],[0.7777777777777778,\"#fb9f3a\"],[0.8888888888888888,\"#fdca26\"],[1.0,\"#f0f921\"]],\"diverging\":[[0,\"#8e0152\"],[0.1,\"#c51b7d\"],[0.2,\"#de77ae\"],[0.3,\"#f1b6da\"],[0.4,\"#fde0ef\"],[0.5,\"#f7f7f7\"],[0.6,\"#e6f5d0\"],[0.7,\"#b8e186\"],[0.8,\"#7fbc41\"],[0.9,\"#4d9221\"],[1,\"#276419\"]]},\"xaxis\":{\"gridcolor\":\"white\",\"linecolor\":\"white\",\"ticks\":\"\",\"title\":{\"standoff\":15},\"zerolinecolor\":\"white\",\"automargin\":true,\"zerolinewidth\":2},\"yaxis\":{\"gridcolor\":\"white\",\"linecolor\":\"white\",\"ticks\":\"\",\"title\":{\"standoff\":15},\"zerolinecolor\":\"white\",\"automargin\":true,\"zerolinewidth\":2},\"scene\":{\"xaxis\":{\"backgroundcolor\":\"#E5ECF6\",\"gridcolor\":\"white\",\"linecolor\":\"white\",\"showbackground\":true,\"ticks\":\"\",\"zerolinecolor\":\"white\",\"gridwidth\":2},\"yaxis\":{\"backgroundcolor\":\"#E5ECF6\",\"gridcolor\":\"white\",\"linecolor\":\"white\",\"showbackground\":true,\"ticks\":\"\",\"zerolinecolor\":\"white\",\"gridwidth\":2},\"zaxis\":{\"backgroundcolor\":\"#E5ECF6\",\"gridcolor\":\"white\",\"linecolor\":\"white\",\"showbackground\":true,\"ticks\":\"\",\"zerolinecolor\":\"white\",\"gridwidth\":2}},\"shapedefaults\":{\"line\":{\"color\":\"#2a3f5f\"}},\"annotationdefaults\":{\"arrowcolor\":\"#2a3f5f\",\"arrowhead\":0,\"arrowwidth\":1},\"geo\":{\"bgcolor\":\"white\",\"landcolor\":\"#E5ECF6\",\"subunitcolor\":\"white\",\"showland\":true,\"showlakes\":true,\"lakecolor\":\"white\"},\"title\":{\"x\":0.05},\"mapbox\":{\"style\":\"light\"}}},\"xaxis\":{\"anchor\":\"y\",\"domain\":[0.0,1.0],\"scaleanchor\":\"y\",\"constrain\":\"domain\",\"title\":{\"text\":\"Heads (sorted)\"}},\"yaxis\":{\"anchor\":\"x\",\"domain\":[0.0,1.0],\"autorange\":true,\"constrain\":\"domain\",\"title\":{\"text\":\"Layers\"}},\"coloraxis\":{\"colorscale\":[[0.0,\"rgb(255,255,217)\"],[0.125,\"rgb(237,248,177)\"],[0.25,\"rgb(199,233,180)\"],[0.375,\"rgb(127,205,187)\"],[0.5,\"rgb(65,182,196)\"],[0.625,\"rgb(29,145,192)\"],[0.75,\"rgb(34,94,168)\"],[0.875,\"rgb(37,52,148)\"],[1.0,\"rgb(8,29,88)\"]],\"cmid\":0.5},\"title\":{\"text\":\"ez probes on cfact data\"}},                        {\"responsive\": true}                    ).then(function(){\n",
       "                            \n",
       "var gd = document.getElementById('91ed91de-5345-4412-acba-d849225d46ab');\n",
       "var x = new MutationObserver(function (mutations, observer) {{\n",
       "        var display = window.getComputedStyle(gd).display;\n",
       "        if (!display || display === 'none') {{\n",
       "            console.log([gd, 'removed!']);\n",
       "            Plotly.purge(gd);\n",
       "            observer.disconnect();\n",
       "        }}\n",
       "}});\n",
       "\n",
       "// Listen for the removal of the full notebook cells\n",
       "var notebookContainer = gd.closest('#notebook-container');\n",
       "if (notebookContainer) {{\n",
       "    x.observe(notebookContainer, {childList: true});\n",
       "}}\n",
       "\n",
       "// Listen for the clearing of the current output cell\n",
       "var outputEl = gd.closest('.output');\n",
       "if (outputEl) {{\n",
       "    x.observe(outputEl, {childList: true});\n",
       "}}\n",
       "\n",
       "                        })                };                });            </script>        </div>"
      ]
     },
     "metadata": {},
     "output_type": "display_data"
    },
    {
     "name": "stderr",
     "output_type": "stream",
     "text": [
      "1200it [00:00, 2572.37it/s]\n"
     ]
    },
    {
     "data": {
      "application/vnd.plotly.v1+json": {
       "config": {
        "plotlyServerURL": "https://plot.ly"
       },
       "data": [
        {
         "coloraxis": "coloraxis",
         "hovertemplate": "Heads (sorted): %{x}<br>Layers: %{y}<br>color: %{z}<extra></extra>",
         "name": "0",
         "type": "heatmap",
         "xaxis": "x",
         "yaxis": "y",
         "z": [
          [
           0.6,
           0.475,
           0.545,
           0.64,
           0.485,
           0.47,
           0.66,
           0.53,
           0.615,
           0.755,
           0.61,
           0.57,
           0.625,
           0.665,
           0.535,
           0.6,
           0.585,
           0.61,
           0.585,
           0.595,
           0.64,
           0.54,
           0.595,
           0.48,
           0.615
          ],
          [
           0.66,
           0.625,
           0.67,
           0.645,
           0.64,
           0.595,
           0.54,
           0.6,
           0.655,
           0.68,
           0.675,
           0.625,
           0.655,
           0.61,
           0.655,
           0.72,
           0.655,
           0.585,
           0.65,
           0.645,
           0.65,
           0.64,
           0.7,
           0.64,
           0.74
          ],
          [
           0.63,
           0.655,
           0.74,
           0.685,
           0.725,
           0.665,
           0.695,
           0.64,
           0.655,
           0.7,
           0.67,
           0.665,
           0.65,
           0.745,
           0.66,
           0.715,
           0.705,
           0.635,
           0.685,
           0.73,
           0.655,
           0.64,
           0.645,
           0.74,
           0.66
          ],
          [
           0.69,
           0.705,
           0.74,
           0.715,
           0.69,
           0.69,
           0.705,
           0.67,
           0.64,
           0.665,
           0.695,
           0.705,
           0.775,
           0.67,
           0.665,
           0.72,
           0.71,
           0.615,
           0.75,
           0.695,
           0.705,
           0.7,
           0.64,
           0.745,
           0.725
          ],
          [
           0.66,
           0.635,
           0.71,
           0.72,
           0.675,
           0.71,
           0.7,
           0.72,
           0.68,
           0.68,
           0.695,
           0.66,
           0.68,
           0.725,
           0.73,
           0.71,
           0.745,
           0.735,
           0.715,
           0.665,
           0.71,
           0.7,
           0.71,
           0.685,
           0.715
          ],
          [
           0.62,
           0.72,
           0.73,
           0.72,
           0.69,
           0.7,
           0.68,
           0.695,
           0.665,
           0.695,
           0.715,
           0.66,
           0.73,
           0.72,
           0.735,
           0.665,
           0.755,
           0.695,
           0.765,
           0.665,
           0.72,
           0.75,
           0.69,
           0.69,
           0.675
          ],
          [
           0.69,
           0.715,
           0.71,
           0.68,
           0.695,
           0.725,
           0.705,
           0.755,
           0.715,
           0.695,
           0.7,
           0.73,
           0.71,
           0.68,
           0.745,
           0.685,
           0.685,
           0.69,
           0.705,
           0.705,
           0.71,
           0.67,
           0.73,
           0.66,
           0.71
          ],
          [
           0.695,
           0.675,
           0.74,
           0.73,
           0.71,
           0.72,
           0.685,
           0.74,
           0.715,
           0.715,
           0.725,
           0.745,
           0.74,
           0.645,
           0.76,
           0.715,
           0.675,
           0.705,
           0.705,
           0.69,
           0.785,
           0.725,
           0.69,
           0.69,
           0.73
          ],
          [
           0.715,
           0.73,
           0.715,
           0.72,
           0.695,
           0.735,
           0.68,
           0.675,
           0.7,
           0.695,
           0.71,
           0.745,
           0.705,
           0.63,
           0.69,
           0.71,
           0.675,
           0.705,
           0.69,
           0.7,
           0.735,
           0.725,
           0.735,
           0.715,
           0.695
          ],
          [
           0.745,
           0.695,
           0.72,
           0.705,
           0.735,
           0.745,
           0.69,
           0.71,
           0.725,
           0.755,
           0.715,
           0.705,
           0.745,
           0.715,
           0.74,
           0.685,
           0.73,
           0.67,
           0.735,
           0.73,
           0.725,
           0.665,
           0.745,
           0.715,
           0.735
          ],
          [
           0.65,
           0.77,
           0.695,
           0.745,
           0.735,
           0.685,
           0.71,
           0.74,
           0.75,
           0.685,
           0.69,
           0.68,
           0.7,
           0.76,
           0.63,
           0.69,
           0.625,
           0.74,
           0.71,
           0.73,
           0.635,
           0.71,
           0.71,
           0.67,
           0.73
          ],
          [
           0.735,
           0.775,
           0.725,
           0.725,
           0.655,
           0.715,
           0.71,
           0.745,
           0.715,
           0.7,
           0.695,
           0.75,
           0.755,
           0.745,
           0.695,
           0.665,
           0.665,
           0.595,
           0.68,
           0.665,
           0.74,
           0.73,
           0.725,
           0.715,
           0.76
          ],
          [
           0.65,
           0.72,
           0.695,
           0.71,
           0.725,
           0.74,
           0.665,
           0.725,
           0.75,
           0.695,
           0.735,
           0.735,
           0.7,
           0.78,
           0.735,
           0.7,
           0.705,
           0.665,
           0.7,
           0.725,
           0.76,
           0.75,
           0.655,
           0.675,
           0.715
          ],
          [
           0.71,
           0.695,
           0.725,
           0.67,
           0.72,
           0.735,
           0.74,
           0.67,
           0.78,
           0.725,
           0.71,
           0.745,
           0.71,
           0.69,
           0.765,
           0.685,
           0.705,
           0.655,
           0.78,
           0.73,
           0.725,
           0.7,
           0.745,
           0.735,
           0.755
          ],
          [
           0.705,
           0.74,
           0.7,
           0.68,
           0.665,
           0.735,
           0.71,
           0.695,
           0.755,
           0.7,
           0.72,
           0.745,
           0.735,
           0.715,
           0.735,
           0.665,
           0.74,
           0.75,
           0.695,
           0.745,
           0.785,
           0.775,
           0.685,
           0.635,
           0.735
          ],
          [
           0.775,
           0.76,
           0.705,
           0.705,
           0.725,
           0.66,
           0.775,
           0.735,
           0.72,
           0.73,
           0.705,
           0.77,
           0.745,
           0.66,
           0.74,
           0.75,
           0.71,
           0.7,
           0.735,
           0.725,
           0.68,
           0.745,
           0.675,
           0.615,
           0.72
          ],
          [
           0.755,
           0.725,
           0.74,
           0.675,
           0.755,
           0.775,
           0.75,
           0.76,
           0.775,
           0.74,
           0.71,
           0.715,
           0.655,
           0.66,
           0.715,
           0.64,
           0.76,
           0.7,
           0.69,
           0.73,
           0.67,
           0.64,
           0.77,
           0.765,
           0.755
          ],
          [
           0.78,
           0.68,
           0.76,
           0.75,
           0.735,
           0.77,
           0.65,
           0.785,
           0.73,
           0.695,
           0.735,
           0.625,
           0.68,
           0.79,
           0.74,
           0.74,
           0.745,
           0.75,
           0.72,
           0.765,
           0.76,
           0.765,
           0.685,
           0.72,
           0.64
          ],
          [
           0.69,
           0.76,
           0.75,
           0.685,
           0.77,
           0.755,
           0.675,
           0.655,
           0.755,
           0.73,
           0.7,
           0.79,
           0.645,
           0.74,
           0.75,
           0.67,
           0.715,
           0.69,
           0.74,
           0.7,
           0.71,
           0.77,
           0.69,
           0.75,
           0.745
          ],
          [
           0.76,
           0.79,
           0.745,
           0.74,
           0.72,
           0.745,
           0.71,
           0.765,
           0.725,
           0.72,
           0.755,
           0.705,
           0.76,
           0.72,
           0.725,
           0.755,
           0.625,
           0.8,
           0.685,
           0.64,
           0.785,
           0.8,
           0.755,
           0.715,
           0.78
          ],
          [
           0.71,
           0.73,
           0.65,
           0.74,
           0.68,
           0.73,
           0.665,
           0.725,
           0.75,
           0.735,
           0.625,
           0.715,
           0.695,
           0.73,
           0.75,
           0.76,
           0.71,
           0.695,
           0.73,
           0.665,
           0.705,
           0.805,
           0.805,
           0.735,
           0.745
          ],
          [
           0.725,
           0.665,
           0.775,
           0.755,
           0.72,
           0.74,
           0.63,
           0.81,
           0.77,
           0.59,
           0.68,
           0.64,
           0.69,
           0.79,
           0.78,
           0.755,
           0.79,
           0.73,
           0.745,
           0.76,
           0.675,
           0.66,
           0.77,
           0.675,
           0.775
          ],
          [
           0.655,
           0.75,
           0.71,
           0.74,
           0.7,
           0.69,
           0.715,
           0.575,
           0.745,
           0.73,
           0.72,
           0.66,
           0.755,
           0.645,
           0.755,
           0.76,
           0.725,
           0.715,
           0.58,
           0.625,
           0.61,
           0.715,
           0.7,
           0.735,
           0.79
          ],
          [
           0.69,
           0.65,
           0.71,
           0.675,
           0.715,
           0.75,
           0.58,
           0.61,
           0.6,
           0.75,
           0.63,
           0.695,
           0.77,
           0.76,
           0.725,
           0.635,
           0.77,
           0.7,
           0.76,
           0.645,
           0.68,
           0.73,
           0.67,
           0.725,
           0.755
          ],
          [
           0.665,
           0.63,
           0.75,
           0.74,
           0.71,
           0.555,
           0.705,
           0.64,
           0.645,
           0.74,
           0.61,
           0.6,
           0.68,
           0.7,
           0.73,
           0.71,
           0.56,
           0.695,
           0.62,
           0.685,
           0.65,
           0.72,
           0.665,
           0.74,
           0.65
          ],
          [
           0.68,
           0.735,
           0.675,
           0.68,
           0.77,
           0.71,
           0.73,
           0.69,
           0.705,
           0.655,
           0.635,
           0.615,
           0.7,
           0.505,
           0.585,
           0.61,
           0.655,
           0.615,
           0.61,
           0.69,
           0.64,
           0.73,
           0.68,
           0.595,
           0.69
          ],
          [
           0.72,
           0.67,
           0.735,
           0.52,
           0.56,
           0.715,
           0.735,
           0.605,
           0.695,
           0.645,
           0.645,
           0.745,
           0.72,
           0.59,
           0.595,
           0.76,
           0.62,
           0.615,
           0.59,
           0.61,
           0.595,
           0.67,
           0.5,
           0.585,
           0.68
          ],
          [
           0.76,
           0.555,
           0.715,
           0.6,
           0.72,
           0.57,
           0.65,
           0.685,
           0.725,
           0.67,
           0.52,
           0.635,
           0.655,
           0.655,
           0.725,
           0.75,
           0.67,
           0.69,
           0.695,
           0.655,
           0.685,
           0.675,
           0.66,
           0.5,
           0.66
          ],
          [
           0.725,
           0.61,
           0.77,
           0.645,
           0.665,
           0.675,
           0.665,
           0.705,
           0.685,
           0.635,
           0.66,
           0.585,
           0.69,
           0.73,
           0.69,
           0.555,
           0.64,
           0.61,
           0.59,
           0.565,
           0.75,
           0.63,
           0.565,
           0.61,
           0.7
          ],
          [
           0.62,
           0.61,
           0.69,
           0.665,
           0.77,
           0.61,
           0.645,
           0.63,
           0.675,
           0.63,
           0.565,
           0.65,
           0.73,
           0.675,
           0.62,
           0.6,
           0.75,
           0.62,
           0.585,
           0.615,
           0.635,
           0.735,
           0.635,
           0.59,
           0.675
          ],
          [
           0.71,
           0.625,
           0.685,
           0.66,
           0.605,
           0.69,
           0.495,
           0.74,
           0.705,
           0.57,
           0.675,
           0.69,
           0.58,
           0.665,
           0.67,
           0.63,
           0.575,
           0.675,
           0.555,
           0.7,
           0.665,
           0.625,
           0.62,
           0.68,
           0.65
          ],
          [
           0.66,
           0.73,
           0.52,
           0.66,
           0.65,
           0.57,
           0.77,
           0.67,
           0.63,
           0.745,
           0.66,
           0.67,
           0.59,
           0.685,
           0.76,
           0.61,
           0.655,
           0.565,
           0.65,
           0.645,
           0.665,
           0.685,
           0.54,
           0.675,
           0.775
          ],
          [
           0.635,
           0.605,
           0.575,
           0.66,
           0.65,
           0.635,
           0.615,
           0.66,
           0.555,
           0.735,
           0.62,
           0.63,
           0.655,
           0.64,
           0.73,
           0.595,
           0.725,
           0.61,
           0.635,
           0.69,
           0.67,
           0.78,
           0.695,
           0.685,
           0.64
          ],
          [
           0.67,
           0.665,
           0.535,
           0.66,
           0.69,
           0.595,
           0.565,
           0.59,
           0.7,
           0.695,
           0.585,
           0.695,
           0.705,
           0.605,
           0.665,
           0.755,
           0.64,
           0.675,
           0.61,
           0.61,
           0.64,
           0.675,
           0.73,
           0.73,
           0.48
          ],
          [
           0.51,
           0.685,
           0.71,
           0.615,
           0.54,
           0.62,
           0.555,
           0.615,
           0.555,
           0.62,
           0.585,
           0.655,
           0.635,
           0.605,
           0.61,
           0.575,
           0.63,
           0.545,
           0.635,
           0.635,
           0.575,
           0.555,
           0.725,
           0.7,
           0.775
          ],
          [
           0.625,
           0.545,
           0.56,
           0.775,
           0.52,
           0.62,
           0.66,
           0.48,
           0.65,
           0.525,
           0.645,
           0.59,
           0.485,
           0.55,
           0.6,
           0.57,
           0.63,
           0.53,
           0.685,
           0.655,
           0.705,
           0.52,
           0.515,
           0.685,
           0.565
          ],
          [
           0.585,
           0.545,
           0.49,
           0.61,
           0.745,
           0.68,
           0.545,
           0.625,
           0.745,
           0.56,
           0.5,
           0.7,
           0.65,
           0.555,
           0.62,
           0.625,
           0.655,
           0.62,
           0.5,
           0.725,
           0.665,
           0.61,
           0.64,
           0.64,
           0.53
          ],
          [
           0.555,
           0.71,
           0.635,
           0.67,
           0.67,
           0.755,
           0.665,
           0.54,
           0.53,
           0.575,
           0.605,
           0.625,
           0.775,
           0.495,
           0.65,
           0.51,
           0.565,
           0.58,
           0.61,
           0.715,
           0.625,
           0.595,
           0.67,
           0.68,
           0.745
          ],
          [
           0.515,
           0.62,
           0.63,
           0.55,
           0.51,
           0.59,
           0.6,
           0.495,
           0.625,
           0.56,
           0.65,
           0.675,
           0.505,
           0.55,
           0.52,
           0.575,
           0.46,
           0.6,
           0.665,
           0.57,
           0.575,
           0.56,
           0.51,
           0.585,
           0.595
          ],
          [
           0.6,
           0.65,
           0.545,
           0.545,
           0.505,
           0.57,
           0.555,
           0.615,
           0.63,
           0.54,
           0.55,
           0.64,
           0.525,
           0.64,
           0.535,
           0.535,
           0.64,
           0.665,
           0.76,
           0.555,
           0.72,
           0.54,
           0.565,
           0.56,
           0.54
          ],
          [
           0.65,
           0.705,
           0.52,
           0.69,
           0.595,
           0.595,
           0.51,
           0.53,
           0.55,
           0.6,
           0.585,
           0.64,
           0.63,
           0.52,
           0.52,
           0.51,
           0.565,
           0.47,
           0.54,
           0.595,
           0.58,
           0.555,
           0.635,
           0.515,
           0.48
          ],
          [
           0.6,
           0.645,
           0.535,
           0.69,
           0.635,
           0.525,
           0.61,
           0.51,
           0.465,
           0.535,
           0.71,
           0.575,
           0.635,
           0.555,
           0.66,
           0.61,
           0.485,
           0.645,
           0.515,
           0.63,
           0.52,
           0.615,
           0.615,
           0.58,
           0.65
          ],
          [
           0.585,
           0.665,
           0.635,
           0.68,
           0.48,
           0.705,
           0.59,
           0.5,
           0.435,
           0.5,
           0.65,
           0.615,
           0.53,
           0.56,
           0.66,
           0.545,
           0.67,
           0.58,
           0.59,
           0.695,
           0.69,
           0.64,
           0.53,
           0.625,
           0.505
          ],
          [
           0.595,
           0.54,
           0.63,
           0.56,
           0.63,
           0.7,
           0.565,
           0.665,
           0.525,
           0.605,
           0.585,
           0.53,
           0.56,
           0.675,
           0.57,
           0.55,
           0.535,
           0.6,
           0.635,
           0.665,
           0.58,
           0.62,
           0.705,
           0.595,
           0.58
          ],
          [
           0.54,
           0.615,
           0.695,
           0.66,
           0.655,
           0.55,
           0.635,
           0.59,
           0.55,
           0.68,
           0.675,
           0.565,
           0.445,
           0.735,
           0.635,
           0.57,
           0.51,
           0.725,
           0.56,
           0.67,
           0.65,
           0.47,
           0.695,
           0.64,
           0.57
          ],
          [
           0.665,
           0.605,
           0.54,
           0.675,
           0.685,
           0.695,
           0.64,
           0.645,
           0.6,
           0.59,
           0.64,
           0.595,
           0.62,
           0.555,
           0.665,
           0.59,
           0.615,
           0.62,
           0.505,
           0.6,
           0.55,
           0.525,
           0.67,
           0.57,
           0.54
          ],
          [
           0.66,
           0.58,
           0.55,
           0.57,
           0.52,
           0.6,
           0.645,
           0.64,
           0.59,
           0.62,
           0.68,
           0.61,
           0.59,
           0.685,
           0.56,
           0.565,
           0.505,
           0.61,
           0.575,
           0.67,
           0.685,
           0.65,
           0.575,
           0.585,
           0.68
          ],
          [
           0.67,
           0.59,
           0.625,
           0.695,
           0.605,
           0.67,
           0.655,
           0.68,
           0.635,
           0.655,
           0.605,
           0.635,
           0.73,
           0.625,
           0.64,
           0.6,
           0.61,
           0.66,
           0.58,
           0.53,
           0.665,
           0.635,
           0.64,
           0.69,
           0.65
          ]
         ]
        }
       ],
       "layout": {
        "coloraxis": {
         "cmid": 0.5,
         "colorscale": [
          [
           0,
           "rgb(255,255,217)"
          ],
          [
           0.125,
           "rgb(237,248,177)"
          ],
          [
           0.25,
           "rgb(199,233,180)"
          ],
          [
           0.375,
           "rgb(127,205,187)"
          ],
          [
           0.5,
           "rgb(65,182,196)"
          ],
          [
           0.625,
           "rgb(29,145,192)"
          ],
          [
           0.75,
           "rgb(34,94,168)"
          ],
          [
           0.875,
           "rgb(37,52,148)"
          ],
          [
           1,
           "rgb(8,29,88)"
          ]
         ]
        },
        "template": {
         "data": {
          "bar": [
           {
            "error_x": {
             "color": "#2a3f5f"
            },
            "error_y": {
             "color": "#2a3f5f"
            },
            "marker": {
             "line": {
              "color": "#E5ECF6",
              "width": 0.5
             },
             "pattern": {
              "fillmode": "overlay",
              "size": 10,
              "solidity": 0.2
             }
            },
            "type": "bar"
           }
          ],
          "barpolar": [
           {
            "marker": {
             "line": {
              "color": "#E5ECF6",
              "width": 0.5
             },
             "pattern": {
              "fillmode": "overlay",
              "size": 10,
              "solidity": 0.2
             }
            },
            "type": "barpolar"
           }
          ],
          "carpet": [
           {
            "aaxis": {
             "endlinecolor": "#2a3f5f",
             "gridcolor": "white",
             "linecolor": "white",
             "minorgridcolor": "white",
             "startlinecolor": "#2a3f5f"
            },
            "baxis": {
             "endlinecolor": "#2a3f5f",
             "gridcolor": "white",
             "linecolor": "white",
             "minorgridcolor": "white",
             "startlinecolor": "#2a3f5f"
            },
            "type": "carpet"
           }
          ],
          "choropleth": [
           {
            "colorbar": {
             "outlinewidth": 0,
             "ticks": ""
            },
            "type": "choropleth"
           }
          ],
          "contour": [
           {
            "colorbar": {
             "outlinewidth": 0,
             "ticks": ""
            },
            "colorscale": [
             [
              0,
              "#0d0887"
             ],
             [
              0.1111111111111111,
              "#46039f"
             ],
             [
              0.2222222222222222,
              "#7201a8"
             ],
             [
              0.3333333333333333,
              "#9c179e"
             ],
             [
              0.4444444444444444,
              "#bd3786"
             ],
             [
              0.5555555555555556,
              "#d8576b"
             ],
             [
              0.6666666666666666,
              "#ed7953"
             ],
             [
              0.7777777777777778,
              "#fb9f3a"
             ],
             [
              0.8888888888888888,
              "#fdca26"
             ],
             [
              1,
              "#f0f921"
             ]
            ],
            "type": "contour"
           }
          ],
          "contourcarpet": [
           {
            "colorbar": {
             "outlinewidth": 0,
             "ticks": ""
            },
            "type": "contourcarpet"
           }
          ],
          "heatmap": [
           {
            "colorbar": {
             "outlinewidth": 0,
             "ticks": ""
            },
            "colorscale": [
             [
              0,
              "#0d0887"
             ],
             [
              0.1111111111111111,
              "#46039f"
             ],
             [
              0.2222222222222222,
              "#7201a8"
             ],
             [
              0.3333333333333333,
              "#9c179e"
             ],
             [
              0.4444444444444444,
              "#bd3786"
             ],
             [
              0.5555555555555556,
              "#d8576b"
             ],
             [
              0.6666666666666666,
              "#ed7953"
             ],
             [
              0.7777777777777778,
              "#fb9f3a"
             ],
             [
              0.8888888888888888,
              "#fdca26"
             ],
             [
              1,
              "#f0f921"
             ]
            ],
            "type": "heatmap"
           }
          ],
          "heatmapgl": [
           {
            "colorbar": {
             "outlinewidth": 0,
             "ticks": ""
            },
            "colorscale": [
             [
              0,
              "#0d0887"
             ],
             [
              0.1111111111111111,
              "#46039f"
             ],
             [
              0.2222222222222222,
              "#7201a8"
             ],
             [
              0.3333333333333333,
              "#9c179e"
             ],
             [
              0.4444444444444444,
              "#bd3786"
             ],
             [
              0.5555555555555556,
              "#d8576b"
             ],
             [
              0.6666666666666666,
              "#ed7953"
             ],
             [
              0.7777777777777778,
              "#fb9f3a"
             ],
             [
              0.8888888888888888,
              "#fdca26"
             ],
             [
              1,
              "#f0f921"
             ]
            ],
            "type": "heatmapgl"
           }
          ],
          "histogram": [
           {
            "marker": {
             "pattern": {
              "fillmode": "overlay",
              "size": 10,
              "solidity": 0.2
             }
            },
            "type": "histogram"
           }
          ],
          "histogram2d": [
           {
            "colorbar": {
             "outlinewidth": 0,
             "ticks": ""
            },
            "colorscale": [
             [
              0,
              "#0d0887"
             ],
             [
              0.1111111111111111,
              "#46039f"
             ],
             [
              0.2222222222222222,
              "#7201a8"
             ],
             [
              0.3333333333333333,
              "#9c179e"
             ],
             [
              0.4444444444444444,
              "#bd3786"
             ],
             [
              0.5555555555555556,
              "#d8576b"
             ],
             [
              0.6666666666666666,
              "#ed7953"
             ],
             [
              0.7777777777777778,
              "#fb9f3a"
             ],
             [
              0.8888888888888888,
              "#fdca26"
             ],
             [
              1,
              "#f0f921"
             ]
            ],
            "type": "histogram2d"
           }
          ],
          "histogram2dcontour": [
           {
            "colorbar": {
             "outlinewidth": 0,
             "ticks": ""
            },
            "colorscale": [
             [
              0,
              "#0d0887"
             ],
             [
              0.1111111111111111,
              "#46039f"
             ],
             [
              0.2222222222222222,
              "#7201a8"
             ],
             [
              0.3333333333333333,
              "#9c179e"
             ],
             [
              0.4444444444444444,
              "#bd3786"
             ],
             [
              0.5555555555555556,
              "#d8576b"
             ],
             [
              0.6666666666666666,
              "#ed7953"
             ],
             [
              0.7777777777777778,
              "#fb9f3a"
             ],
             [
              0.8888888888888888,
              "#fdca26"
             ],
             [
              1,
              "#f0f921"
             ]
            ],
            "type": "histogram2dcontour"
           }
          ],
          "mesh3d": [
           {
            "colorbar": {
             "outlinewidth": 0,
             "ticks": ""
            },
            "type": "mesh3d"
           }
          ],
          "parcoords": [
           {
            "line": {
             "colorbar": {
              "outlinewidth": 0,
              "ticks": ""
             }
            },
            "type": "parcoords"
           }
          ],
          "pie": [
           {
            "automargin": true,
            "type": "pie"
           }
          ],
          "scatter": [
           {
            "fillpattern": {
             "fillmode": "overlay",
             "size": 10,
             "solidity": 0.2
            },
            "type": "scatter"
           }
          ],
          "scatter3d": [
           {
            "line": {
             "colorbar": {
              "outlinewidth": 0,
              "ticks": ""
             }
            },
            "marker": {
             "colorbar": {
              "outlinewidth": 0,
              "ticks": ""
             }
            },
            "type": "scatter3d"
           }
          ],
          "scattercarpet": [
           {
            "marker": {
             "colorbar": {
              "outlinewidth": 0,
              "ticks": ""
             }
            },
            "type": "scattercarpet"
           }
          ],
          "scattergeo": [
           {
            "marker": {
             "colorbar": {
              "outlinewidth": 0,
              "ticks": ""
             }
            },
            "type": "scattergeo"
           }
          ],
          "scattergl": [
           {
            "marker": {
             "colorbar": {
              "outlinewidth": 0,
              "ticks": ""
             }
            },
            "type": "scattergl"
           }
          ],
          "scattermapbox": [
           {
            "marker": {
             "colorbar": {
              "outlinewidth": 0,
              "ticks": ""
             }
            },
            "type": "scattermapbox"
           }
          ],
          "scatterpolar": [
           {
            "marker": {
             "colorbar": {
              "outlinewidth": 0,
              "ticks": ""
             }
            },
            "type": "scatterpolar"
           }
          ],
          "scatterpolargl": [
           {
            "marker": {
             "colorbar": {
              "outlinewidth": 0,
              "ticks": ""
             }
            },
            "type": "scatterpolargl"
           }
          ],
          "scatterternary": [
           {
            "marker": {
             "colorbar": {
              "outlinewidth": 0,
              "ticks": ""
             }
            },
            "type": "scatterternary"
           }
          ],
          "surface": [
           {
            "colorbar": {
             "outlinewidth": 0,
             "ticks": ""
            },
            "colorscale": [
             [
              0,
              "#0d0887"
             ],
             [
              0.1111111111111111,
              "#46039f"
             ],
             [
              0.2222222222222222,
              "#7201a8"
             ],
             [
              0.3333333333333333,
              "#9c179e"
             ],
             [
              0.4444444444444444,
              "#bd3786"
             ],
             [
              0.5555555555555556,
              "#d8576b"
             ],
             [
              0.6666666666666666,
              "#ed7953"
             ],
             [
              0.7777777777777778,
              "#fb9f3a"
             ],
             [
              0.8888888888888888,
              "#fdca26"
             ],
             [
              1,
              "#f0f921"
             ]
            ],
            "type": "surface"
           }
          ],
          "table": [
           {
            "cells": {
             "fill": {
              "color": "#EBF0F8"
             },
             "line": {
              "color": "white"
             }
            },
            "header": {
             "fill": {
              "color": "#C8D4E3"
             },
             "line": {
              "color": "white"
             }
            },
            "type": "table"
           }
          ]
         },
         "layout": {
          "annotationdefaults": {
           "arrowcolor": "#2a3f5f",
           "arrowhead": 0,
           "arrowwidth": 1
          },
          "autotypenumbers": "strict",
          "coloraxis": {
           "colorbar": {
            "outlinewidth": 0,
            "ticks": ""
           }
          },
          "colorscale": {
           "diverging": [
            [
             0,
             "#8e0152"
            ],
            [
             0.1,
             "#c51b7d"
            ],
            [
             0.2,
             "#de77ae"
            ],
            [
             0.3,
             "#f1b6da"
            ],
            [
             0.4,
             "#fde0ef"
            ],
            [
             0.5,
             "#f7f7f7"
            ],
            [
             0.6,
             "#e6f5d0"
            ],
            [
             0.7,
             "#b8e186"
            ],
            [
             0.8,
             "#7fbc41"
            ],
            [
             0.9,
             "#4d9221"
            ],
            [
             1,
             "#276419"
            ]
           ],
           "sequential": [
            [
             0,
             "#0d0887"
            ],
            [
             0.1111111111111111,
             "#46039f"
            ],
            [
             0.2222222222222222,
             "#7201a8"
            ],
            [
             0.3333333333333333,
             "#9c179e"
            ],
            [
             0.4444444444444444,
             "#bd3786"
            ],
            [
             0.5555555555555556,
             "#d8576b"
            ],
            [
             0.6666666666666666,
             "#ed7953"
            ],
            [
             0.7777777777777778,
             "#fb9f3a"
            ],
            [
             0.8888888888888888,
             "#fdca26"
            ],
            [
             1,
             "#f0f921"
            ]
           ],
           "sequentialminus": [
            [
             0,
             "#0d0887"
            ],
            [
             0.1111111111111111,
             "#46039f"
            ],
            [
             0.2222222222222222,
             "#7201a8"
            ],
            [
             0.3333333333333333,
             "#9c179e"
            ],
            [
             0.4444444444444444,
             "#bd3786"
            ],
            [
             0.5555555555555556,
             "#d8576b"
            ],
            [
             0.6666666666666666,
             "#ed7953"
            ],
            [
             0.7777777777777778,
             "#fb9f3a"
            ],
            [
             0.8888888888888888,
             "#fdca26"
            ],
            [
             1,
             "#f0f921"
            ]
           ]
          },
          "colorway": [
           "#636efa",
           "#EF553B",
           "#00cc96",
           "#ab63fa",
           "#FFA15A",
           "#19d3f3",
           "#FF6692",
           "#B6E880",
           "#FF97FF",
           "#FECB52"
          ],
          "font": {
           "color": "#2a3f5f"
          },
          "geo": {
           "bgcolor": "white",
           "lakecolor": "white",
           "landcolor": "#E5ECF6",
           "showlakes": true,
           "showland": true,
           "subunitcolor": "white"
          },
          "hoverlabel": {
           "align": "left"
          },
          "hovermode": "closest",
          "mapbox": {
           "style": "light"
          },
          "paper_bgcolor": "white",
          "plot_bgcolor": "#E5ECF6",
          "polar": {
           "angularaxis": {
            "gridcolor": "white",
            "linecolor": "white",
            "ticks": ""
           },
           "bgcolor": "#E5ECF6",
           "radialaxis": {
            "gridcolor": "white",
            "linecolor": "white",
            "ticks": ""
           }
          },
          "scene": {
           "xaxis": {
            "backgroundcolor": "#E5ECF6",
            "gridcolor": "white",
            "gridwidth": 2,
            "linecolor": "white",
            "showbackground": true,
            "ticks": "",
            "zerolinecolor": "white"
           },
           "yaxis": {
            "backgroundcolor": "#E5ECF6",
            "gridcolor": "white",
            "gridwidth": 2,
            "linecolor": "white",
            "showbackground": true,
            "ticks": "",
            "zerolinecolor": "white"
           },
           "zaxis": {
            "backgroundcolor": "#E5ECF6",
            "gridcolor": "white",
            "gridwidth": 2,
            "linecolor": "white",
            "showbackground": true,
            "ticks": "",
            "zerolinecolor": "white"
           }
          },
          "shapedefaults": {
           "line": {
            "color": "#2a3f5f"
           }
          },
          "ternary": {
           "aaxis": {
            "gridcolor": "white",
            "linecolor": "white",
            "ticks": ""
           },
           "baxis": {
            "gridcolor": "white",
            "linecolor": "white",
            "ticks": ""
           },
           "bgcolor": "#E5ECF6",
           "caxis": {
            "gridcolor": "white",
            "linecolor": "white",
            "ticks": ""
           }
          },
          "title": {
           "x": 0.05
          },
          "xaxis": {
           "automargin": true,
           "gridcolor": "white",
           "linecolor": "white",
           "ticks": "",
           "title": {
            "standoff": 15
           },
           "zerolinecolor": "white",
           "zerolinewidth": 2
          },
          "yaxis": {
           "automargin": true,
           "gridcolor": "white",
           "linecolor": "white",
           "ticks": "",
           "title": {
            "standoff": 15
           },
           "zerolinecolor": "white",
           "zerolinewidth": 2
          }
         }
        },
        "title": {
         "text": "ez probes on ez data"
        },
        "xaxis": {
         "anchor": "y",
         "constrain": "domain",
         "domain": [
          0,
          1
         ],
         "scaleanchor": "y",
         "title": {
          "text": "Heads (sorted)"
         }
        },
        "yaxis": {
         "anchor": "x",
         "autorange": true,
         "constrain": "domain",
         "domain": [
          0,
          1
         ],
         "title": {
          "text": "Layers"
         }
        }
       }
      },
      "text/html": [
       "<div>                            <div id=\"1b1765cd-9d32-4271-bd47-08af6abc72f0\" class=\"plotly-graph-div\" style=\"height:525px; width:100%;\"></div>            <script type=\"text/javascript\">                require([\"plotly\"], function(Plotly) {                    window.PLOTLYENV=window.PLOTLYENV || {};                                    if (document.getElementById(\"1b1765cd-9d32-4271-bd47-08af6abc72f0\")) {                    Plotly.newPlot(                        \"1b1765cd-9d32-4271-bd47-08af6abc72f0\",                        [{\"coloraxis\":\"coloraxis\",\"name\":\"0\",\"z\":[[0.6,0.475,0.545,0.64,0.485,0.47,0.66,0.53,0.615,0.755,0.61,0.57,0.625,0.665,0.535,0.6,0.585,0.61,0.585,0.595,0.64,0.54,0.595,0.48,0.615],[0.66,0.625,0.67,0.645,0.64,0.595,0.54,0.6,0.655,0.68,0.675,0.625,0.655,0.61,0.655,0.72,0.655,0.585,0.65,0.645,0.65,0.64,0.7,0.64,0.74],[0.63,0.655,0.74,0.685,0.725,0.665,0.695,0.64,0.655,0.7,0.67,0.665,0.65,0.745,0.66,0.715,0.705,0.635,0.685,0.73,0.655,0.64,0.645,0.74,0.66],[0.69,0.705,0.74,0.715,0.69,0.69,0.705,0.67,0.64,0.665,0.695,0.705,0.775,0.67,0.665,0.72,0.71,0.615,0.75,0.695,0.705,0.7,0.64,0.745,0.725],[0.66,0.635,0.71,0.72,0.675,0.71,0.7,0.72,0.68,0.68,0.695,0.66,0.68,0.725,0.73,0.71,0.745,0.735,0.715,0.665,0.71,0.7,0.71,0.685,0.715],[0.62,0.72,0.73,0.72,0.69,0.7,0.68,0.695,0.665,0.695,0.715,0.66,0.73,0.72,0.735,0.665,0.755,0.695,0.765,0.665,0.72,0.75,0.69,0.69,0.675],[0.69,0.715,0.71,0.68,0.695,0.725,0.705,0.755,0.715,0.695,0.7,0.73,0.71,0.68,0.745,0.685,0.685,0.69,0.705,0.705,0.71,0.67,0.73,0.66,0.71],[0.695,0.675,0.74,0.73,0.71,0.72,0.685,0.74,0.715,0.715,0.725,0.745,0.74,0.645,0.76,0.715,0.675,0.705,0.705,0.69,0.785,0.725,0.69,0.69,0.73],[0.715,0.73,0.715,0.72,0.695,0.735,0.68,0.675,0.7,0.695,0.71,0.745,0.705,0.63,0.69,0.71,0.675,0.705,0.69,0.7,0.735,0.725,0.735,0.715,0.695],[0.745,0.695,0.72,0.705,0.735,0.745,0.69,0.71,0.725,0.755,0.715,0.705,0.745,0.715,0.74,0.685,0.73,0.67,0.735,0.73,0.725,0.665,0.745,0.715,0.735],[0.65,0.77,0.695,0.745,0.735,0.685,0.71,0.74,0.75,0.685,0.69,0.68,0.7,0.76,0.63,0.69,0.625,0.74,0.71,0.73,0.635,0.71,0.71,0.67,0.73],[0.735,0.775,0.725,0.725,0.655,0.715,0.71,0.745,0.715,0.7,0.695,0.75,0.755,0.745,0.695,0.665,0.665,0.595,0.68,0.665,0.74,0.73,0.725,0.715,0.76],[0.65,0.72,0.695,0.71,0.725,0.74,0.665,0.725,0.75,0.695,0.735,0.735,0.7,0.78,0.735,0.7,0.705,0.665,0.7,0.725,0.76,0.75,0.655,0.675,0.715],[0.71,0.695,0.725,0.67,0.72,0.735,0.74,0.67,0.78,0.725,0.71,0.745,0.71,0.69,0.765,0.685,0.705,0.655,0.78,0.73,0.725,0.7,0.745,0.735,0.755],[0.705,0.74,0.7,0.68,0.665,0.735,0.71,0.695,0.755,0.7,0.72,0.745,0.735,0.715,0.735,0.665,0.74,0.75,0.695,0.745,0.785,0.775,0.685,0.635,0.735],[0.775,0.76,0.705,0.705,0.725,0.66,0.775,0.735,0.72,0.73,0.705,0.77,0.745,0.66,0.74,0.75,0.71,0.7,0.735,0.725,0.68,0.745,0.675,0.615,0.72],[0.755,0.725,0.74,0.675,0.755,0.775,0.75,0.76,0.775,0.74,0.71,0.715,0.655,0.66,0.715,0.64,0.76,0.7,0.69,0.73,0.67,0.64,0.77,0.765,0.755],[0.78,0.68,0.76,0.75,0.735,0.77,0.65,0.785,0.73,0.695,0.735,0.625,0.68,0.79,0.74,0.74,0.745,0.75,0.72,0.765,0.76,0.765,0.685,0.72,0.64],[0.69,0.76,0.75,0.685,0.77,0.755,0.675,0.655,0.755,0.73,0.7,0.79,0.645,0.74,0.75,0.67,0.715,0.69,0.74,0.7,0.71,0.77,0.69,0.75,0.745],[0.76,0.79,0.745,0.74,0.72,0.745,0.71,0.765,0.725,0.72,0.755,0.705,0.76,0.72,0.725,0.755,0.625,0.8,0.685,0.64,0.785,0.8,0.755,0.715,0.78],[0.71,0.73,0.65,0.74,0.68,0.73,0.665,0.725,0.75,0.735,0.625,0.715,0.695,0.73,0.75,0.76,0.71,0.695,0.73,0.665,0.705,0.805,0.805,0.735,0.745],[0.725,0.665,0.775,0.755,0.72,0.74,0.63,0.81,0.77,0.59,0.68,0.64,0.69,0.79,0.78,0.755,0.79,0.73,0.745,0.76,0.675,0.66,0.77,0.675,0.775],[0.655,0.75,0.71,0.74,0.7,0.69,0.715,0.575,0.745,0.73,0.72,0.66,0.755,0.645,0.755,0.76,0.725,0.715,0.58,0.625,0.61,0.715,0.7,0.735,0.79],[0.69,0.65,0.71,0.675,0.715,0.75,0.58,0.61,0.6,0.75,0.63,0.695,0.77,0.76,0.725,0.635,0.77,0.7,0.76,0.645,0.68,0.73,0.67,0.725,0.755],[0.665,0.63,0.75,0.74,0.71,0.555,0.705,0.64,0.645,0.74,0.61,0.6,0.68,0.7,0.73,0.71,0.56,0.695,0.62,0.685,0.65,0.72,0.665,0.74,0.65],[0.68,0.735,0.675,0.68,0.77,0.71,0.73,0.69,0.705,0.655,0.635,0.615,0.7,0.505,0.585,0.61,0.655,0.615,0.61,0.69,0.64,0.73,0.68,0.595,0.69],[0.72,0.67,0.735,0.52,0.56,0.715,0.735,0.605,0.695,0.645,0.645,0.745,0.72,0.59,0.595,0.76,0.62,0.615,0.59,0.61,0.595,0.67,0.5,0.585,0.68],[0.76,0.555,0.715,0.6,0.72,0.57,0.65,0.685,0.725,0.67,0.52,0.635,0.655,0.655,0.725,0.75,0.67,0.69,0.695,0.655,0.685,0.675,0.66,0.5,0.66],[0.725,0.61,0.77,0.645,0.665,0.675,0.665,0.705,0.685,0.635,0.66,0.585,0.69,0.73,0.69,0.555,0.64,0.61,0.59,0.565,0.75,0.63,0.565,0.61,0.7],[0.62,0.61,0.69,0.665,0.77,0.61,0.645,0.63,0.675,0.63,0.565,0.65,0.73,0.675,0.62,0.6,0.75,0.62,0.585,0.615,0.635,0.735,0.635,0.59,0.675],[0.71,0.625,0.685,0.66,0.605,0.69,0.495,0.74,0.705,0.57,0.675,0.69,0.58,0.665,0.67,0.63,0.575,0.675,0.555,0.7,0.665,0.625,0.62,0.68,0.65],[0.66,0.73,0.52,0.66,0.65,0.57,0.77,0.67,0.63,0.745,0.66,0.67,0.59,0.685,0.76,0.61,0.655,0.565,0.65,0.645,0.665,0.685,0.54,0.675,0.775],[0.635,0.605,0.575,0.66,0.65,0.635,0.615,0.66,0.555,0.735,0.62,0.63,0.655,0.64,0.73,0.595,0.725,0.61,0.635,0.69,0.67,0.78,0.695,0.685,0.64],[0.67,0.665,0.535,0.66,0.69,0.595,0.565,0.59,0.7,0.695,0.585,0.695,0.705,0.605,0.665,0.755,0.64,0.675,0.61,0.61,0.64,0.675,0.73,0.73,0.48],[0.51,0.685,0.71,0.615,0.54,0.62,0.555,0.615,0.555,0.62,0.585,0.655,0.635,0.605,0.61,0.575,0.63,0.545,0.635,0.635,0.575,0.555,0.725,0.7,0.775],[0.625,0.545,0.56,0.775,0.52,0.62,0.66,0.48,0.65,0.525,0.645,0.59,0.485,0.55,0.6,0.57,0.63,0.53,0.685,0.655,0.705,0.52,0.515,0.685,0.565],[0.585,0.545,0.49,0.61,0.745,0.68,0.545,0.625,0.745,0.56,0.5,0.7,0.65,0.555,0.62,0.625,0.655,0.62,0.5,0.725,0.665,0.61,0.64,0.64,0.53],[0.555,0.71,0.635,0.67,0.67,0.755,0.665,0.54,0.53,0.575,0.605,0.625,0.775,0.495,0.65,0.51,0.565,0.58,0.61,0.715,0.625,0.595,0.67,0.68,0.745],[0.515,0.62,0.63,0.55,0.51,0.59,0.6,0.495,0.625,0.56,0.65,0.675,0.505,0.55,0.52,0.575,0.46,0.6,0.665,0.57,0.575,0.56,0.51,0.585,0.595],[0.6,0.65,0.545,0.545,0.505,0.57,0.555,0.615,0.63,0.54,0.55,0.64,0.525,0.64,0.535,0.535,0.64,0.665,0.76,0.555,0.72,0.54,0.565,0.56,0.54],[0.65,0.705,0.52,0.69,0.595,0.595,0.51,0.53,0.55,0.6,0.585,0.64,0.63,0.52,0.52,0.51,0.565,0.47,0.54,0.595,0.58,0.555,0.635,0.515,0.48],[0.6,0.645,0.535,0.69,0.635,0.525,0.61,0.51,0.465,0.535,0.71,0.575,0.635,0.555,0.66,0.61,0.485,0.645,0.515,0.63,0.52,0.615,0.615,0.58,0.65],[0.585,0.665,0.635,0.68,0.48,0.705,0.59,0.5,0.435,0.5,0.65,0.615,0.53,0.56,0.66,0.545,0.67,0.58,0.59,0.695,0.69,0.64,0.53,0.625,0.505],[0.595,0.54,0.63,0.56,0.63,0.7,0.565,0.665,0.525,0.605,0.585,0.53,0.56,0.675,0.57,0.55,0.535,0.6,0.635,0.665,0.58,0.62,0.705,0.595,0.58],[0.54,0.615,0.695,0.66,0.655,0.55,0.635,0.59,0.55,0.68,0.675,0.565,0.445,0.735,0.635,0.57,0.51,0.725,0.56,0.67,0.65,0.47,0.695,0.64,0.57],[0.665,0.605,0.54,0.675,0.685,0.695,0.64,0.645,0.6,0.59,0.64,0.595,0.62,0.555,0.665,0.59,0.615,0.62,0.505,0.6,0.55,0.525,0.67,0.57,0.54],[0.66,0.58,0.55,0.57,0.52,0.6,0.645,0.64,0.59,0.62,0.68,0.61,0.59,0.685,0.56,0.565,0.505,0.61,0.575,0.67,0.685,0.65,0.575,0.585,0.68],[0.67,0.59,0.625,0.695,0.605,0.67,0.655,0.68,0.635,0.655,0.605,0.635,0.73,0.625,0.64,0.6,0.61,0.66,0.58,0.53,0.665,0.635,0.64,0.69,0.65]],\"type\":\"heatmap\",\"xaxis\":\"x\",\"yaxis\":\"y\",\"hovertemplate\":\"Heads (sorted): %{x}\\u003cbr\\u003eLayers: %{y}\\u003cbr\\u003ecolor: %{z}\\u003cextra\\u003e\\u003c\\u002fextra\\u003e\"}],                        {\"template\":{\"data\":{\"histogram2dcontour\":[{\"type\":\"histogram2dcontour\",\"colorbar\":{\"outlinewidth\":0,\"ticks\":\"\"},\"colorscale\":[[0.0,\"#0d0887\"],[0.1111111111111111,\"#46039f\"],[0.2222222222222222,\"#7201a8\"],[0.3333333333333333,\"#9c179e\"],[0.4444444444444444,\"#bd3786\"],[0.5555555555555556,\"#d8576b\"],[0.6666666666666666,\"#ed7953\"],[0.7777777777777778,\"#fb9f3a\"],[0.8888888888888888,\"#fdca26\"],[1.0,\"#f0f921\"]]}],\"choropleth\":[{\"type\":\"choropleth\",\"colorbar\":{\"outlinewidth\":0,\"ticks\":\"\"}}],\"histogram2d\":[{\"type\":\"histogram2d\",\"colorbar\":{\"outlinewidth\":0,\"ticks\":\"\"},\"colorscale\":[[0.0,\"#0d0887\"],[0.1111111111111111,\"#46039f\"],[0.2222222222222222,\"#7201a8\"],[0.3333333333333333,\"#9c179e\"],[0.4444444444444444,\"#bd3786\"],[0.5555555555555556,\"#d8576b\"],[0.6666666666666666,\"#ed7953\"],[0.7777777777777778,\"#fb9f3a\"],[0.8888888888888888,\"#fdca26\"],[1.0,\"#f0f921\"]]}],\"heatmap\":[{\"type\":\"heatmap\",\"colorbar\":{\"outlinewidth\":0,\"ticks\":\"\"},\"colorscale\":[[0.0,\"#0d0887\"],[0.1111111111111111,\"#46039f\"],[0.2222222222222222,\"#7201a8\"],[0.3333333333333333,\"#9c179e\"],[0.4444444444444444,\"#bd3786\"],[0.5555555555555556,\"#d8576b\"],[0.6666666666666666,\"#ed7953\"],[0.7777777777777778,\"#fb9f3a\"],[0.8888888888888888,\"#fdca26\"],[1.0,\"#f0f921\"]]}],\"heatmapgl\":[{\"type\":\"heatmapgl\",\"colorbar\":{\"outlinewidth\":0,\"ticks\":\"\"},\"colorscale\":[[0.0,\"#0d0887\"],[0.1111111111111111,\"#46039f\"],[0.2222222222222222,\"#7201a8\"],[0.3333333333333333,\"#9c179e\"],[0.4444444444444444,\"#bd3786\"],[0.5555555555555556,\"#d8576b\"],[0.6666666666666666,\"#ed7953\"],[0.7777777777777778,\"#fb9f3a\"],[0.8888888888888888,\"#fdca26\"],[1.0,\"#f0f921\"]]}],\"contourcarpet\":[{\"type\":\"contourcarpet\",\"colorbar\":{\"outlinewidth\":0,\"ticks\":\"\"}}],\"contour\":[{\"type\":\"contour\",\"colorbar\":{\"outlinewidth\":0,\"ticks\":\"\"},\"colorscale\":[[0.0,\"#0d0887\"],[0.1111111111111111,\"#46039f\"],[0.2222222222222222,\"#7201a8\"],[0.3333333333333333,\"#9c179e\"],[0.4444444444444444,\"#bd3786\"],[0.5555555555555556,\"#d8576b\"],[0.6666666666666666,\"#ed7953\"],[0.7777777777777778,\"#fb9f3a\"],[0.8888888888888888,\"#fdca26\"],[1.0,\"#f0f921\"]]}],\"surface\":[{\"type\":\"surface\",\"colorbar\":{\"outlinewidth\":0,\"ticks\":\"\"},\"colorscale\":[[0.0,\"#0d0887\"],[0.1111111111111111,\"#46039f\"],[0.2222222222222222,\"#7201a8\"],[0.3333333333333333,\"#9c179e\"],[0.4444444444444444,\"#bd3786\"],[0.5555555555555556,\"#d8576b\"],[0.6666666666666666,\"#ed7953\"],[0.7777777777777778,\"#fb9f3a\"],[0.8888888888888888,\"#fdca26\"],[1.0,\"#f0f921\"]]}],\"mesh3d\":[{\"type\":\"mesh3d\",\"colorbar\":{\"outlinewidth\":0,\"ticks\":\"\"}}],\"scatter\":[{\"fillpattern\":{\"fillmode\":\"overlay\",\"size\":10,\"solidity\":0.2},\"type\":\"scatter\"}],\"parcoords\":[{\"type\":\"parcoords\",\"line\":{\"colorbar\":{\"outlinewidth\":0,\"ticks\":\"\"}}}],\"scatterpolargl\":[{\"type\":\"scatterpolargl\",\"marker\":{\"colorbar\":{\"outlinewidth\":0,\"ticks\":\"\"}}}],\"bar\":[{\"error_x\":{\"color\":\"#2a3f5f\"},\"error_y\":{\"color\":\"#2a3f5f\"},\"marker\":{\"line\":{\"color\":\"#E5ECF6\",\"width\":0.5},\"pattern\":{\"fillmode\":\"overlay\",\"size\":10,\"solidity\":0.2}},\"type\":\"bar\"}],\"scattergeo\":[{\"type\":\"scattergeo\",\"marker\":{\"colorbar\":{\"outlinewidth\":0,\"ticks\":\"\"}}}],\"scatterpolar\":[{\"type\":\"scatterpolar\",\"marker\":{\"colorbar\":{\"outlinewidth\":0,\"ticks\":\"\"}}}],\"histogram\":[{\"marker\":{\"pattern\":{\"fillmode\":\"overlay\",\"size\":10,\"solidity\":0.2}},\"type\":\"histogram\"}],\"scattergl\":[{\"type\":\"scattergl\",\"marker\":{\"colorbar\":{\"outlinewidth\":0,\"ticks\":\"\"}}}],\"scatter3d\":[{\"type\":\"scatter3d\",\"line\":{\"colorbar\":{\"outlinewidth\":0,\"ticks\":\"\"}},\"marker\":{\"colorbar\":{\"outlinewidth\":0,\"ticks\":\"\"}}}],\"scattermapbox\":[{\"type\":\"scattermapbox\",\"marker\":{\"colorbar\":{\"outlinewidth\":0,\"ticks\":\"\"}}}],\"scatterternary\":[{\"type\":\"scatterternary\",\"marker\":{\"colorbar\":{\"outlinewidth\":0,\"ticks\":\"\"}}}],\"scattercarpet\":[{\"type\":\"scattercarpet\",\"marker\":{\"colorbar\":{\"outlinewidth\":0,\"ticks\":\"\"}}}],\"carpet\":[{\"aaxis\":{\"endlinecolor\":\"#2a3f5f\",\"gridcolor\":\"white\",\"linecolor\":\"white\",\"minorgridcolor\":\"white\",\"startlinecolor\":\"#2a3f5f\"},\"baxis\":{\"endlinecolor\":\"#2a3f5f\",\"gridcolor\":\"white\",\"linecolor\":\"white\",\"minorgridcolor\":\"white\",\"startlinecolor\":\"#2a3f5f\"},\"type\":\"carpet\"}],\"table\":[{\"cells\":{\"fill\":{\"color\":\"#EBF0F8\"},\"line\":{\"color\":\"white\"}},\"header\":{\"fill\":{\"color\":\"#C8D4E3\"},\"line\":{\"color\":\"white\"}},\"type\":\"table\"}],\"barpolar\":[{\"marker\":{\"line\":{\"color\":\"#E5ECF6\",\"width\":0.5},\"pattern\":{\"fillmode\":\"overlay\",\"size\":10,\"solidity\":0.2}},\"type\":\"barpolar\"}],\"pie\":[{\"automargin\":true,\"type\":\"pie\"}]},\"layout\":{\"autotypenumbers\":\"strict\",\"colorway\":[\"#636efa\",\"#EF553B\",\"#00cc96\",\"#ab63fa\",\"#FFA15A\",\"#19d3f3\",\"#FF6692\",\"#B6E880\",\"#FF97FF\",\"#FECB52\"],\"font\":{\"color\":\"#2a3f5f\"},\"hovermode\":\"closest\",\"hoverlabel\":{\"align\":\"left\"},\"paper_bgcolor\":\"white\",\"plot_bgcolor\":\"#E5ECF6\",\"polar\":{\"bgcolor\":\"#E5ECF6\",\"angularaxis\":{\"gridcolor\":\"white\",\"linecolor\":\"white\",\"ticks\":\"\"},\"radialaxis\":{\"gridcolor\":\"white\",\"linecolor\":\"white\",\"ticks\":\"\"}},\"ternary\":{\"bgcolor\":\"#E5ECF6\",\"aaxis\":{\"gridcolor\":\"white\",\"linecolor\":\"white\",\"ticks\":\"\"},\"baxis\":{\"gridcolor\":\"white\",\"linecolor\":\"white\",\"ticks\":\"\"},\"caxis\":{\"gridcolor\":\"white\",\"linecolor\":\"white\",\"ticks\":\"\"}},\"coloraxis\":{\"colorbar\":{\"outlinewidth\":0,\"ticks\":\"\"}},\"colorscale\":{\"sequential\":[[0.0,\"#0d0887\"],[0.1111111111111111,\"#46039f\"],[0.2222222222222222,\"#7201a8\"],[0.3333333333333333,\"#9c179e\"],[0.4444444444444444,\"#bd3786\"],[0.5555555555555556,\"#d8576b\"],[0.6666666666666666,\"#ed7953\"],[0.7777777777777778,\"#fb9f3a\"],[0.8888888888888888,\"#fdca26\"],[1.0,\"#f0f921\"]],\"sequentialminus\":[[0.0,\"#0d0887\"],[0.1111111111111111,\"#46039f\"],[0.2222222222222222,\"#7201a8\"],[0.3333333333333333,\"#9c179e\"],[0.4444444444444444,\"#bd3786\"],[0.5555555555555556,\"#d8576b\"],[0.6666666666666666,\"#ed7953\"],[0.7777777777777778,\"#fb9f3a\"],[0.8888888888888888,\"#fdca26\"],[1.0,\"#f0f921\"]],\"diverging\":[[0,\"#8e0152\"],[0.1,\"#c51b7d\"],[0.2,\"#de77ae\"],[0.3,\"#f1b6da\"],[0.4,\"#fde0ef\"],[0.5,\"#f7f7f7\"],[0.6,\"#e6f5d0\"],[0.7,\"#b8e186\"],[0.8,\"#7fbc41\"],[0.9,\"#4d9221\"],[1,\"#276419\"]]},\"xaxis\":{\"gridcolor\":\"white\",\"linecolor\":\"white\",\"ticks\":\"\",\"title\":{\"standoff\":15},\"zerolinecolor\":\"white\",\"automargin\":true,\"zerolinewidth\":2},\"yaxis\":{\"gridcolor\":\"white\",\"linecolor\":\"white\",\"ticks\":\"\",\"title\":{\"standoff\":15},\"zerolinecolor\":\"white\",\"automargin\":true,\"zerolinewidth\":2},\"scene\":{\"xaxis\":{\"backgroundcolor\":\"#E5ECF6\",\"gridcolor\":\"white\",\"linecolor\":\"white\",\"showbackground\":true,\"ticks\":\"\",\"zerolinecolor\":\"white\",\"gridwidth\":2},\"yaxis\":{\"backgroundcolor\":\"#E5ECF6\",\"gridcolor\":\"white\",\"linecolor\":\"white\",\"showbackground\":true,\"ticks\":\"\",\"zerolinecolor\":\"white\",\"gridwidth\":2},\"zaxis\":{\"backgroundcolor\":\"#E5ECF6\",\"gridcolor\":\"white\",\"linecolor\":\"white\",\"showbackground\":true,\"ticks\":\"\",\"zerolinecolor\":\"white\",\"gridwidth\":2}},\"shapedefaults\":{\"line\":{\"color\":\"#2a3f5f\"}},\"annotationdefaults\":{\"arrowcolor\":\"#2a3f5f\",\"arrowhead\":0,\"arrowwidth\":1},\"geo\":{\"bgcolor\":\"white\",\"landcolor\":\"#E5ECF6\",\"subunitcolor\":\"white\",\"showland\":true,\"showlakes\":true,\"lakecolor\":\"white\"},\"title\":{\"x\":0.05},\"mapbox\":{\"style\":\"light\"}}},\"xaxis\":{\"anchor\":\"y\",\"domain\":[0.0,1.0],\"scaleanchor\":\"y\",\"constrain\":\"domain\",\"title\":{\"text\":\"Heads (sorted)\"}},\"yaxis\":{\"anchor\":\"x\",\"domain\":[0.0,1.0],\"autorange\":true,\"constrain\":\"domain\",\"title\":{\"text\":\"Layers\"}},\"coloraxis\":{\"colorscale\":[[0.0,\"rgb(255,255,217)\"],[0.125,\"rgb(237,248,177)\"],[0.25,\"rgb(199,233,180)\"],[0.375,\"rgb(127,205,187)\"],[0.5,\"rgb(65,182,196)\"],[0.625,\"rgb(29,145,192)\"],[0.75,\"rgb(34,94,168)\"],[0.875,\"rgb(37,52,148)\"],[1.0,\"rgb(8,29,88)\"]],\"cmid\":0.5},\"title\":{\"text\":\"ez probes on ez data\"}},                        {\"responsive\": true}                    ).then(function(){\n",
       "                            \n",
       "var gd = document.getElementById('1b1765cd-9d32-4271-bd47-08af6abc72f0');\n",
       "var x = new MutationObserver(function (mutations, observer) {{\n",
       "        var display = window.getComputedStyle(gd).display;\n",
       "        if (!display || display === 'none') {{\n",
       "            console.log([gd, 'removed!']);\n",
       "            Plotly.purge(gd);\n",
       "            observer.disconnect();\n",
       "        }}\n",
       "}});\n",
       "\n",
       "// Listen for the removal of the full notebook cells\n",
       "var notebookContainer = gd.closest('#notebook-container');\n",
       "if (notebookContainer) {{\n",
       "    x.observe(notebookContainer, {childList: true});\n",
       "}}\n",
       "\n",
       "// Listen for the clearing of the current output cell\n",
       "var outputEl = gd.closest('.output');\n",
       "if (outputEl) {{\n",
       "    x.observe(outputEl, {childList: true});\n",
       "}}\n",
       "\n",
       "                        })                };                });            </script>        </div>"
      ]
     },
     "metadata": {},
     "output_type": "display_data"
    }
   ],
   "source": [
    "from plotly.subplots import make_subplots\n",
    "\n",
    "plots = []\n",
    "\n",
    "for name in datanames:\n",
    "    model_acts: ModelActs = acts[name]\n",
    "    for other_name in datanames:\n",
    "        transfer_accs = model_acts.get_transfer_acc(acts[other_name])\n",
    "        plots.append(plot_probe_accuracies(model_acts, sorted=False, title=f\"{name} probes on {other_name} data\", other_head_accs=transfer_accs).show())\n",
    "\n"
   ]
  },
  {
   "cell_type": "code",
   "execution_count": 28,
   "metadata": {},
   "outputs": [
    {
     "ename": "AttributeError",
     "evalue": "'NoneType' object has no attribute 'data'",
     "output_type": "error",
     "traceback": [
      "\u001b[0;31m---------------------------------------------------------------------------\u001b[0m",
      "\u001b[0;31mAttributeError\u001b[0m                            Traceback (most recent call last)",
      "Cell \u001b[0;32mIn[28], line 10\u001b[0m\n\u001b[1;32m      7\u001b[0m     col \u001b[39m=\u001b[39m i \u001b[39m%\u001b[39m \u001b[39m3\u001b[39m \u001b[39m+\u001b[39m \u001b[39m1\u001b[39m   \u001b[39m# calculate the column index\u001b[39;00m\n\u001b[1;32m      9\u001b[0m     \u001b[39m# Extract data from the individual figures and add it to the subplots\u001b[39;00m\n\u001b[0;32m---> 10\u001b[0m     \u001b[39mfor\u001b[39;00m trace \u001b[39min\u001b[39;00m fig\u001b[39m.\u001b[39;49mdata:\n\u001b[1;32m     11\u001b[0m         fig_combined\u001b[39m.\u001b[39madd_trace(\n\u001b[1;32m     12\u001b[0m             go\u001b[39m.\u001b[39mHeatmap(\n\u001b[1;32m     13\u001b[0m                 z\u001b[39m=\u001b[39mtrace\u001b[39m.\u001b[39mz,\n\u001b[0;32m   (...)\u001b[0m\n\u001b[1;32m     24\u001b[0m             col\u001b[39m=\u001b[39mcol,\n\u001b[1;32m     25\u001b[0m         )\n\u001b[1;32m     27\u001b[0m \u001b[39m# Add a colorbar that's common to all subplots\u001b[39;00m\n",
      "\u001b[0;31mAttributeError\u001b[0m: 'NoneType' object has no attribute 'data'"
     ]
    }
   ],
   "source": [
    "import plotly.graph_objects as go\n",
    "\n",
    "fig_combined = make_subplots(rows=3, cols=3)\n",
    "\n",
    "for i, fig in enumerate(plots):\n",
    "    row = i // 3 + 1  # calculate the row index\n",
    "    col = i % 3 + 1   # calculate the column index\n",
    "\n",
    "    # Extract data from the individual figures and add it to the subplots\n",
    "    for trace in fig.data:\n",
    "        fig_combined.add_trace(\n",
    "            go.Heatmap(\n",
    "                z=trace.z,\n",
    "                x0=trace.x[0],\n",
    "                dx=trace.x[1] - trace.x[0],\n",
    "                y0=trace.y[0],\n",
    "                dy=trace.y[1] - trace.y[0],\n",
    "                zmin=trace.zmin,\n",
    "                zmax=trace.zmax,\n",
    "                coloraxis=trace.coloraxis,\n",
    "                showscale=False,\n",
    "            ),\n",
    "            row=row,\n",
    "            col=col,\n",
    "        )\n",
    "\n",
    "# Add a colorbar that's common to all subplots\n",
    "fig.update_layout(coloraxis=dict(colorscale='viridis', colorbar=dict(tickfont=dict(size=10))))\n",
    "\n",
    "fig.show()"
   ]
  },
  {
   "cell_type": "code",
   "execution_count": 29,
   "metadata": {},
   "outputs": [
    {
     "data": {
      "text/plain": [
       "[None, None, None, None, None, None, None, None, None]"
      ]
     },
     "execution_count": 29,
     "metadata": {},
     "output_type": "execute_result"
    }
   ],
   "source": [
    "plots"
   ]
  },
  {
   "cell_type": "code",
   "execution_count": null,
   "metadata": {},
   "outputs": [],
   "source": []
  }
 ],
 "metadata": {
  "kernelspec": {
   "display_name": "Python 3",
   "language": "python",
   "name": "python3"
  },
  "language_info": {
   "codemirror_mode": {
    "name": "ipython",
    "version": 3
   },
   "file_extension": ".py",
   "mimetype": "text/x-python",
   "name": "python",
   "nbconvert_exporter": "python",
   "pygments_lexer": "ipython3",
   "version": "3.8.10"
  },
  "orig_nbformat": 4
 },
 "nbformat": 4,
 "nbformat_minor": 2
}
