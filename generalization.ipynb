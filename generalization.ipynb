{
 "cells": [
  {
   "cell_type": "code",
   "execution_count": 1,
   "metadata": {},
   "outputs": [
    {
     "name": "stderr",
     "output_type": "stream",
     "text": [
      "/tmp/ipykernel_261758/1448159700.py:8: DeprecationWarning: `magic(...)` is deprecated since IPython 0.13 (warning added in 8.1), use run_line_magic(magic_name, parameter_s).\n",
      "  ipython.magic(\"load_ext autoreload\")\n",
      "/tmp/ipykernel_261758/1448159700.py:9: DeprecationWarning: `magic(...)` is deprecated since IPython 0.13 (warning added in 8.1), use run_line_magic(magic_name, parameter_s).\n",
      "  ipython.magic(\"autoreload 2\")\n"
     ]
    }
   ],
   "source": [
    "# Replicate ITI results, make sure ITI utils and probing utils work right\n",
    "\n",
    "#%%\n",
    "from IPython import get_ipython\n",
    "\n",
    "ipython = get_ipython()\n",
    "# Code to automatically update the TransformerLens code as its edited without restarting the kernel\n",
    "ipython.magic(\"load_ext autoreload\")\n",
    "ipython.magic(\"autoreload 2\")\n",
    "    \n",
    "import plotly.io as pio\n",
    "# pio.renderers.default = \"png\"\n",
    "# Import stuff\n",
    "import torch\n",
    "import torch.nn as nn\n",
    "import torch.nn.functional as F\n",
    "import torch.optim as optim\n",
    "import numpy as np\n",
    "import einops\n",
    "from fancy_einsum import einsum\n",
    "import tqdm.notebook as tqdm\n",
    "import random\n",
    "from pathlib import Path\n",
    "import plotly.express as px\n",
    "from torch.utils.data import DataLoader\n",
    "\n",
    "from jaxtyping import Float, Int\n",
    "from typing import List, Union, Optional\n",
    "from functools import partial\n",
    "import copy\n",
    "\n",
    "import itertools\n",
    "from transformers import AutoModelForCausalLM, AutoConfig, AutoTokenizer\n",
    "import dataclasses\n",
    "import datasets\n",
    "from IPython.display import HTML\n",
    "\n",
    "from tqdm import tqdm\n",
    "from utils.probing_utils import ModelActs\n",
    "from utils.dataset_utils import CounterFact_Dataset, TQA_MC_Dataset, EZ_Dataset\n",
    "\n",
    "import transformer_lens\n",
    "import transformer_lens.utils as utils\n",
    "from transformer_lens.hook_points import (\n",
    "    HookedRootModule,\n",
    "    HookPoint,\n",
    ")  # Hooking utilities\n",
    "from transformer_lens import HookedTransformer, HookedTransformerConfig, FactoredMatrix, ActivationCache\n",
    "\n",
    "from utils.iti_utils import patch_iti\n",
    "\n",
    "from utils.analytics_utils import plot_probe_accuracies, plot_norm_diffs, plot_cosine_sims"
   ]
  },
  {
   "cell_type": "code",
   "execution_count": 2,
   "metadata": {},
   "outputs": [
    {
     "name": "stdout",
     "output_type": "stream",
     "text": [
      "loading model\n"
     ]
    },
    {
     "name": "stderr",
     "output_type": "stream",
     "text": [
      "Using pad_token, but it is not set yet.\n"
     ]
    },
    {
     "name": "stdout",
     "output_type": "stream",
     "text": [
      "Loaded pretrained model gpt2-xl into HookedTransformer\n",
      "done\n"
     ]
    }
   ],
   "source": [
    "\n",
    "device = \"cuda\"\n",
    "print(\"loading model\")\n",
    "model = HookedTransformer.from_pretrained(\n",
    "    \"gpt2-xl\",\n",
    "    center_unembed=False,\n",
    "    center_writing_weights=False,\n",
    "    fold_ln=False,\n",
    "    refactor_factored_attn_matrices=True,\n",
    "    device=device,\n",
    ")\n",
    "# model.to(device)\n",
    "print(\"done\")\n",
    "model.set_use_attn_result(True)\n",
    "model.cfg.total_heads = model.cfg.n_heads * model.cfg.n_layers\n",
    "\n",
    "model.reset_hooks()"
   ]
  },
  {
   "cell_type": "code",
   "execution_count": 3,
   "metadata": {},
   "outputs": [
    {
     "name": "stderr",
     "output_type": "stream",
     "text": [
      "Found cached dataset parquet (/root/.cache/huggingface/datasets/notrichardren___parquet/notrichardren--elem_tf-64ec49cd4cd5be64/0.0.0/14a00e99c0d15a23649d0db8944380ac81082d4b021f398733dd84f3a6c569a7)\n"
     ]
    },
    {
     "data": {
      "application/vnd.jupyter.widget-view+json": {
       "model_id": "6c2d1f6593814b8baf806b0c7335d334",
       "version_major": 2,
       "version_minor": 0
      },
      "text/plain": [
       "  0%|          | 0/1 [00:00<?, ?it/s]"
      ]
     },
     "metadata": {},
     "output_type": "display_data"
    },
    {
     "name": "stderr",
     "output_type": "stream",
     "text": [
      "Found cached dataset parquet (/root/.cache/huggingface/datasets/notrichardren___parquet/notrichardren--ms_tf-728c6138d8f6c1c5/0.0.0/14a00e99c0d15a23649d0db8944380ac81082d4b021f398733dd84f3a6c569a7)\n"
     ]
    },
    {
     "data": {
      "application/vnd.jupyter.widget-view+json": {
       "model_id": "8f5ef3fcdb3240b888050c5d6316e29f",
       "version_major": 2,
       "version_minor": 0
      },
      "text/plain": [
       "  0%|          | 0/1 [00:00<?, ?it/s]"
      ]
     },
     "metadata": {},
     "output_type": "display_data"
    },
    {
     "name": "stderr",
     "output_type": "stream",
     "text": [
      "Found cached dataset parquet (/root/.cache/huggingface/datasets/notrichardren___parquet/notrichardren--misconceptions_tf-131f43b181040ffa/0.0.0/14a00e99c0d15a23649d0db8944380ac81082d4b021f398733dd84f3a6c569a7)\n"
     ]
    },
    {
     "data": {
      "application/vnd.jupyter.widget-view+json": {
       "model_id": "1d82b2e12a924bd589000cd5c4109a05",
       "version_major": 2,
       "version_minor": 0
      },
      "text/plain": [
       "  0%|          | 0/1 [00:00<?, ?it/s]"
      ]
     },
     "metadata": {},
     "output_type": "display_data"
    },
    {
     "name": "stderr",
     "output_type": "stream",
     "text": [
      "Found cached dataset parquet (/root/.cache/huggingface/datasets/notrichardren___parquet/notrichardren--kindergarten_tf-e3c53e366bc35ec1/0.0.0/14a00e99c0d15a23649d0db8944380ac81082d4b021f398733dd84f3a6c569a7)\n"
     ]
    },
    {
     "data": {
      "application/vnd.jupyter.widget-view+json": {
       "model_id": "b1e477e8062a4566b1d818427e56f9c5",
       "version_major": 2,
       "version_minor": 0
      },
      "text/plain": [
       "  0%|          | 0/1 [00:00<?, ?it/s]"
      ]
     },
     "metadata": {},
     "output_type": "display_data"
    },
    {
     "name": "stderr",
     "output_type": "stream",
     "text": [
      "Found cached dataset parquet (/root/.cache/huggingface/datasets/notrichardren___parquet/notrichardren--hs_tf-9f911d9357ff2386/0.0.0/14a00e99c0d15a23649d0db8944380ac81082d4b021f398733dd84f3a6c569a7)\n"
     ]
    },
    {
     "data": {
      "application/vnd.jupyter.widget-view+json": {
       "model_id": "275692fb09304676866805a27de80fa4",
       "version_major": 2,
       "version_minor": 0
      },
      "text/plain": [
       "  0%|          | 0/1 [00:00<?, ?it/s]"
      ]
     },
     "metadata": {},
     "output_type": "display_data"
    },
    {
     "name": "stderr",
     "output_type": "stream",
     "text": [
      "Found cached dataset boolq (/root/.cache/huggingface/datasets/boolq/default/0.1.0/bf0dd57da941c50de94ae3ce3cef7fea48c08f337a4b7aac484e9dddc5aa24e5)\n"
     ]
    },
    {
     "data": {
      "application/vnd.jupyter.widget-view+json": {
       "model_id": "69eb22bd2c124c1585922dfe5a9f58d2",
       "version_major": 2,
       "version_minor": 0
      },
      "text/plain": [
       "  0%|          | 0/2 [00:00<?, ?it/s]"
      ]
     },
     "metadata": {},
     "output_type": "display_data"
    }
   ],
   "source": [
    "from utils.dataset_utils import MS_Dataset, Elem_Dataset, MisCons_Dataset, Kinder_Dataset, HS_Dataset, BoolQ_Question_Dataset\n",
    "random_seed = 5\n",
    "\n",
    "datanames = [\"MS\", \"Elem\", \"MisCons\", \"Kinder\", \"HS\", \"BoolQ\"]\n",
    "\n",
    "ms_data = MS_Dataset(model.tokenizer, questions=True)\n",
    "elem_data = Elem_Dataset(model.tokenizer, questions=True)\n",
    "miscons_data = MisCons_Dataset(model.tokenizer, questions=True)\n",
    "kinder_data = Kinder_Dataset(model.tokenizer, questions=True)\n",
    "hs_data = HS_Dataset(model.tokenizer, questions=True)\n",
    "boolq_data = BoolQ_Question_Dataset(model.tokenizer)\n",
    "\n",
    "datasets = {\"MS\": ms_data, \"Elem\": elem_data, \"MisCons\": miscons_data, \"Kinder\": kinder_data, \"HS\": hs_data, \"BoolQ\": boolq_data}"
   ]
  },
  {
   "cell_type": "code",
   "execution_count": 5,
   "metadata": {},
   "outputs": [
    {
     "name": "stderr",
     "output_type": "stream",
     "text": [
      "100%|██████████| 1000/1000 [01:13<00:00, 13.56it/s]\n"
     ]
    },
    {
     "name": "stdout",
     "output_type": "stream",
     "text": [
      "Stored at MS_gpt2xl_1000\n",
      "torch.Size([800, 1200, 64]), torch.Size([200, 1200, 64]), torch.Size([800, 1200]), torch.Size([200, 1200])\n"
     ]
    },
    {
     "name": "stderr",
     "output_type": "stream",
     "text": [
      "100%|██████████| 1200/1200 [00:12<00:00, 99.96it/s] \n",
      "100%|██████████| 1000/1000 [01:11<00:00, 14.07it/s]\n"
     ]
    },
    {
     "name": "stdout",
     "output_type": "stream",
     "text": [
      "Stored at Elem_gpt2xl_1000\n",
      "torch.Size([800, 1200, 64]), torch.Size([200, 1200, 64]), torch.Size([800, 1200]), torch.Size([200, 1200])\n"
     ]
    },
    {
     "name": "stderr",
     "output_type": "stream",
     "text": [
      "100%|██████████| 1200/1200 [00:10<00:00, 114.83it/s]\n",
      "100%|██████████| 1000/1000 [01:10<00:00, 14.15it/s]\n"
     ]
    },
    {
     "name": "stdout",
     "output_type": "stream",
     "text": [
      "Stored at MisCons_gpt2xl_1000\n",
      "torch.Size([800, 1200, 64]), torch.Size([200, 1200, 64]), torch.Size([800, 1200]), torch.Size([200, 1200])\n"
     ]
    },
    {
     "name": "stderr",
     "output_type": "stream",
     "text": [
      "100%|██████████| 1200/1200 [00:10<00:00, 109.20it/s]\n",
      "100%|██████████| 1000/1000 [01:10<00:00, 14.18it/s]\n"
     ]
    },
    {
     "name": "stdout",
     "output_type": "stream",
     "text": [
      "Stored at Kinder_gpt2xl_1000\n",
      "torch.Size([800, 1200, 64]), torch.Size([200, 1200, 64]), torch.Size([800, 1200]), torch.Size([200, 1200])\n"
     ]
    },
    {
     "name": "stderr",
     "output_type": "stream",
     "text": [
      "100%|██████████| 1200/1200 [00:12<00:00, 95.96it/s] \n",
      "100%|██████████| 1000/1000 [01:11<00:00, 14.00it/s]\n"
     ]
    },
    {
     "name": "stdout",
     "output_type": "stream",
     "text": [
      "Stored at HS_gpt2xl_1000\n",
      "torch.Size([800, 1200, 64]), torch.Size([200, 1200, 64]), torch.Size([800, 1200]), torch.Size([200, 1200])\n"
     ]
    },
    {
     "name": "stderr",
     "output_type": "stream",
     "text": [
      "100%|██████████| 1200/1200 [00:11<00:00, 108.75it/s]\n",
      "100%|██████████| 1000/1000 [01:10<00:00, 14.22it/s]\n"
     ]
    },
    {
     "name": "stdout",
     "output_type": "stream",
     "text": [
      "Stored at BoolQ_gpt2xl_1000\n",
      "torch.Size([800, 1200, 64]), torch.Size([200, 1200, 64]), torch.Size([800, 1200]), torch.Size([200, 1200])\n"
     ]
    },
    {
     "name": "stderr",
     "output_type": "stream",
     "text": [
      "100%|██████████| 1200/1200 [00:10<00:00, 114.36it/s]\n"
     ]
    }
   ],
   "source": [
    "n_acts = 1000\n",
    "acts = {}\n",
    "\n",
    "for name in datanames:\n",
    "    acts[name] = ModelActs(model, datasets[name], act_types=[\"z\", \"mlp_out\", \"resid_post\", \"resid_pre\", \"result\", \"logits\"])\n",
    "    model_acts: ModelActs = acts[name]\n",
    "    model_acts.gen_acts(N=n_acts, id=f\"{name}_gpt2xl_{n_acts}\")\n",
    "    # model_acts.load_acts(id=f\"{name}_gpt2xl_{n_acts}\", load_probes=False)\n",
    "    model_acts.train_probes(\"z\", max_iter=1000)\n"
   ]
  },
  {
   "cell_type": "code",
   "execution_count": null,
   "metadata": {},
   "outputs": [
    {
     "data": {
      "application/vnd.plotly.v1+json": {
       "config": {
        "plotlyServerURL": "https://plot.ly"
       },
       "data": [
        {
         "coloraxis": "coloraxis",
         "hovertemplate": "Heads (sorted): %{x}<br>Layers: %{y}<br>color: %{z}<extra></extra>",
         "name": "0",
         "type": "heatmap",
         "xaxis": "x",
         "yaxis": "y",
         "z": [
          [
           0.525,
           0.51,
           0.51,
           0.47,
           0.455,
           0.455,
           0.515,
           0.435,
           0.595,
           0.605,
           0.47,
           0.565,
           0.47,
           0.6,
           0.57,
           0.605,
           0.47,
           0.49,
           0.46,
           0.46,
           0.505,
           0.55,
           0.54,
           0.55,
           0.575
          ],
          [
           0.59,
           0.585,
           0.61,
           0.595,
           0.59,
           0.625,
           0.62,
           0.57,
           0.57,
           0.605,
           0.585,
           0.56,
           0.63,
           0.615,
           0.585,
           0.59,
           0.6,
           0.605,
           0.62,
           0.655,
           0.62,
           0.59,
           0.65,
           0.65,
           0.57
          ],
          [
           0.58,
           0.595,
           0.575,
           0.565,
           0.57,
           0.645,
           0.615,
           0.615,
           0.59,
           0.585,
           0.57,
           0.605,
           0.61,
           0.59,
           0.59,
           0.54,
           0.63,
           0.59,
           0.62,
           0.64,
           0.58,
           0.565,
           0.6,
           0.625,
           0.555
          ],
          [
           0.58,
           0.595,
           0.615,
           0.605,
           0.55,
           0.55,
           0.59,
           0.61,
           0.585,
           0.6,
           0.67,
           0.595,
           0.59,
           0.58,
           0.635,
           0.59,
           0.605,
           0.65,
           0.655,
           0.605,
           0.62,
           0.62,
           0.63,
           0.615,
           0.625
          ],
          [
           0.605,
           0.645,
           0.625,
           0.57,
           0.625,
           0.615,
           0.63,
           0.63,
           0.62,
           0.595,
           0.595,
           0.6,
           0.615,
           0.66,
           0.635,
           0.565,
           0.585,
           0.64,
           0.68,
           0.53,
           0.665,
           0.63,
           0.595,
           0.595,
           0.595
          ],
          [
           0.595,
           0.635,
           0.62,
           0.63,
           0.56,
           0.595,
           0.665,
           0.655,
           0.625,
           0.59,
           0.63,
           0.63,
           0.63,
           0.585,
           0.625,
           0.555,
           0.605,
           0.595,
           0.565,
           0.585,
           0.575,
           0.66,
           0.59,
           0.63,
           0.61
          ],
          [
           0.595,
           0.565,
           0.71,
           0.635,
           0.62,
           0.62,
           0.6,
           0.625,
           0.635,
           0.665,
           0.605,
           0.625,
           0.675,
           0.58,
           0.61,
           0.6,
           0.645,
           0.66,
           0.64,
           0.585,
           0.595,
           0.65,
           0.605,
           0.59,
           0.63
          ],
          [
           0.65,
           0.57,
           0.665,
           0.63,
           0.67,
           0.64,
           0.62,
           0.64,
           0.615,
           0.63,
           0.595,
           0.635,
           0.605,
           0.655,
           0.655,
           0.585,
           0.59,
           0.62,
           0.625,
           0.585,
           0.615,
           0.575,
           0.59,
           0.635,
           0.59
          ],
          [
           0.645,
           0.58,
           0.575,
           0.615,
           0.585,
           0.625,
           0.6,
           0.625,
           0.65,
           0.665,
           0.58,
           0.62,
           0.61,
           0.595,
           0.685,
           0.645,
           0.605,
           0.62,
           0.595,
           0.59,
           0.645,
           0.615,
           0.655,
           0.665,
           0.685
          ],
          [
           0.665,
           0.575,
           0.62,
           0.615,
           0.645,
           0.605,
           0.625,
           0.595,
           0.655,
           0.665,
           0.605,
           0.57,
           0.615,
           0.635,
           0.655,
           0.68,
           0.64,
           0.61,
           0.59,
           0.67,
           0.57,
           0.62,
           0.585,
           0.63,
           0.58
          ],
          [
           0.625,
           0.675,
           0.565,
           0.645,
           0.605,
           0.665,
           0.67,
           0.605,
           0.705,
           0.635,
           0.64,
           0.645,
           0.67,
           0.6,
           0.595,
           0.575,
           0.72,
           0.62,
           0.685,
           0.64,
           0.615,
           0.63,
           0.625,
           0.61,
           0.605
          ],
          [
           0.6,
           0.605,
           0.645,
           0.635,
           0.685,
           0.62,
           0.63,
           0.64,
           0.65,
           0.635,
           0.61,
           0.65,
           0.67,
           0.635,
           0.66,
           0.62,
           0.63,
           0.655,
           0.63,
           0.63,
           0.61,
           0.615,
           0.62,
           0.615,
           0.615
          ],
          [
           0.625,
           0.61,
           0.65,
           0.645,
           0.705,
           0.64,
           0.63,
           0.595,
           0.655,
           0.625,
           0.63,
           0.64,
           0.67,
           0.66,
           0.625,
           0.62,
           0.635,
           0.565,
           0.62,
           0.635,
           0.665,
           0.6,
           0.66,
           0.59,
           0.615
          ],
          [
           0.525,
           0.645,
           0.63,
           0.605,
           0.64,
           0.64,
           0.575,
           0.64,
           0.66,
           0.62,
           0.675,
           0.66,
           0.61,
           0.6,
           0.61,
           0.615,
           0.575,
           0.58,
           0.64,
           0.645,
           0.63,
           0.66,
           0.59,
           0.585,
           0.58
          ],
          [
           0.625,
           0.635,
           0.645,
           0.64,
           0.645,
           0.625,
           0.655,
           0.59,
           0.65,
           0.645,
           0.61,
           0.645,
           0.605,
           0.675,
           0.635,
           0.625,
           0.62,
           0.675,
           0.63,
           0.61,
           0.635,
           0.665,
           0.635,
           0.67,
           0.71
          ],
          [
           0.655,
           0.665,
           0.635,
           0.715,
           0.65,
           0.595,
           0.645,
           0.62,
           0.575,
           0.68,
           0.69,
           0.625,
           0.635,
           0.64,
           0.62,
           0.655,
           0.725,
           0.615,
           0.625,
           0.63,
           0.695,
           0.645,
           0.65,
           0.67,
           0.665
          ],
          [
           0.61,
           0.65,
           0.625,
           0.575,
           0.67,
           0.62,
           0.6,
           0.695,
           0.695,
           0.705,
           0.665,
           0.58,
           0.665,
           0.64,
           0.66,
           0.605,
           0.685,
           0.63,
           0.665,
           0.61,
           0.625,
           0.58,
           0.68,
           0.675,
           0.68
          ],
          [
           0.64,
           0.52,
           0.67,
           0.65,
           0.63,
           0.635,
           0.56,
           0.695,
           0.615,
           0.565,
           0.67,
           0.605,
           0.46,
           0.705,
           0.605,
           0.71,
           0.69,
           0.675,
           0.62,
           0.545,
           0.605,
           0.695,
           0.61,
           0.68,
           0.69
          ],
          [
           0.575,
           0.68,
           0.695,
           0.665,
           0.66,
           0.68,
           0.67,
           0.7,
           0.69,
           0.65,
           0.71,
           0.7,
           0.69,
           0.67,
           0.69,
           0.625,
           0.655,
           0.7,
           0.61,
           0.635,
           0.605,
           0.655,
           0.64,
           0.66,
           0.655
          ],
          [
           0.65,
           0.66,
           0.685,
           0.75,
           0.685,
           0.665,
           0.675,
           0.64,
           0.655,
           0.67,
           0.715,
           0.62,
           0.71,
           0.595,
           0.74,
           0.645,
           0.59,
           0.655,
           0.495,
           0.7,
           0.65,
           0.715,
           0.715,
           0.67,
           0.68
          ],
          [
           0.52,
           0.725,
           0.72,
           0.635,
           0.72,
           0.59,
           0.645,
           0.7,
           0.72,
           0.71,
           0.665,
           0.665,
           0.675,
           0.71,
           0.74,
           0.66,
           0.69,
           0.71,
           0.68,
           0.53,
           0.73,
           0.71,
           0.705,
           0.75,
           0.655
          ],
          [
           0.705,
           0.635,
           0.745,
           0.575,
           0.715,
           0.675,
           0.695,
           0.75,
           0.705,
           0.74,
           0.705,
           0.73,
           0.675,
           0.695,
           0.7,
           0.71,
           0.755,
           0.695,
           0.73,
           0.675,
           0.62,
           0.675,
           0.68,
           0.7,
           0.695
          ],
          [
           0.67,
           0.705,
           0.685,
           0.675,
           0.685,
           0.665,
           0.66,
           0.62,
           0.685,
           0.62,
           0.69,
           0.74,
           0.73,
           0.745,
           0.735,
           0.635,
           0.715,
           0.69,
           0.73,
           0.63,
           0.605,
           0.66,
           0.7,
           0.725,
           0.655
          ],
          [
           0.665,
           0.715,
           0.745,
           0.765,
           0.61,
           0.71,
           0.67,
           0.685,
           0.62,
           0.71,
           0.695,
           0.63,
           0.71,
           0.7,
           0.615,
           0.685,
           0.625,
           0.72,
           0.715,
           0.655,
           0.685,
           0.695,
           0.655,
           0.75,
           0.605
          ],
          [
           0.63,
           0.715,
           0.635,
           0.725,
           0.615,
           0.72,
           0.705,
           0.72,
           0.7,
           0.66,
           0.72,
           0.755,
           0.69,
           0.71,
           0.735,
           0.715,
           0.63,
           0.695,
           0.6,
           0.715,
           0.71,
           0.77,
           0.725,
           0.705,
           0.7
          ],
          [
           0.6,
           0.685,
           0.63,
           0.67,
           0.69,
           0.68,
           0.725,
           0.72,
           0.645,
           0.675,
           0.65,
           0.695,
           0.72,
           0.705,
           0.705,
           0.66,
           0.63,
           0.665,
           0.61,
           0.575,
           0.7,
           0.725,
           0.625,
           0.655,
           0.685
          ],
          [
           0.68,
           0.725,
           0.615,
           0.62,
           0.675,
           0.61,
           0.67,
           0.7,
           0.66,
           0.71,
           0.71,
           0.65,
           0.735,
           0.635,
           0.665,
           0.635,
           0.66,
           0.63,
           0.605,
           0.71,
           0.56,
           0.69,
           0.635,
           0.7,
           0.69
          ],
          [
           0.735,
           0.645,
           0.73,
           0.68,
           0.63,
           0.645,
           0.715,
           0.675,
           0.705,
           0.625,
           0.725,
           0.61,
           0.665,
           0.625,
           0.66,
           0.745,
           0.7,
           0.645,
           0.68,
           0.685,
           0.675,
           0.745,
           0.645,
           0.615,
           0.63
          ],
          [
           0.725,
           0.605,
           0.67,
           0.67,
           0.69,
           0.72,
           0.66,
           0.675,
           0.625,
           0.635,
           0.65,
           0.6,
           0.655,
           0.72,
           0.695,
           0.64,
           0.71,
           0.605,
           0.64,
           0.57,
           0.635,
           0.67,
           0.625,
           0.715,
           0.625
          ],
          [
           0.565,
           0.66,
           0.58,
           0.655,
           0.715,
           0.585,
           0.625,
           0.625,
           0.605,
           0.615,
           0.575,
           0.695,
           0.645,
           0.675,
           0.6,
           0.625,
           0.705,
           0.65,
           0.545,
           0.545,
           0.51,
           0.68,
           0.71,
           0.725,
           0.655
          ],
          [
           0.685,
           0.665,
           0.695,
           0.675,
           0.685,
           0.745,
           0.685,
           0.71,
           0.59,
           0.6,
           0.71,
           0.66,
           0.71,
           0.625,
           0.685,
           0.625,
           0.71,
           0.605,
           0.66,
           0.675,
           0.66,
           0.565,
           0.63,
           0.625,
           0.685
          ],
          [
           0.69,
           0.665,
           0.605,
           0.64,
           0.725,
           0.465,
           0.685,
           0.67,
           0.525,
           0.615,
           0.705,
           0.575,
           0.665,
           0.65,
           0.665,
           0.55,
           0.705,
           0.575,
           0.62,
           0.695,
           0.61,
           0.68,
           0.7,
           0.65,
           0.69
          ],
          [
           0.66,
           0.625,
           0.685,
           0.64,
           0.715,
           0.68,
           0.735,
           0.63,
           0.615,
           0.66,
           0.635,
           0.565,
           0.6,
           0.695,
           0.655,
           0.62,
           0.565,
           0.69,
           0.56,
           0.63,
           0.565,
           0.72,
           0.705,
           0.71,
           0.655
          ],
          [
           0.66,
           0.67,
           0.54,
           0.675,
           0.635,
           0.64,
           0.665,
           0.62,
           0.615,
           0.55,
           0.585,
           0.705,
           0.645,
           0.63,
           0.66,
           0.68,
           0.61,
           0.665,
           0.52,
           0.59,
           0.61,
           0.675,
           0.61,
           0.655,
           0.645
          ],
          [
           0.56,
           0.63,
           0.675,
           0.665,
           0.555,
           0.61,
           0.645,
           0.595,
           0.665,
           0.645,
           0.485,
           0.62,
           0.625,
           0.545,
           0.575,
           0.675,
           0.625,
           0.56,
           0.62,
           0.585,
           0.63,
           0.61,
           0.705,
           0.745,
           0.6
          ],
          [
           0.615,
           0.58,
           0.65,
           0.595,
           0.595,
           0.675,
           0.55,
           0.665,
           0.655,
           0.67,
           0.58,
           0.755,
           0.605,
           0.645,
           0.655,
           0.52,
           0.625,
           0.605,
           0.645,
           0.61,
           0.65,
           0.455,
           0.605,
           0.7,
           0.71
          ],
          [
           0.63,
           0.62,
           0.565,
           0.695,
           0.6,
           0.7,
           0.575,
           0.63,
           0.72,
           0.565,
           0.7,
           0.68,
           0.67,
           0.69,
           0.58,
           0.66,
           0.625,
           0.635,
           0.705,
           0.645,
           0.615,
           0.695,
           0.655,
           0.705,
           0.675
          ],
          [
           0.48,
           0.735,
           0.55,
           0.7,
           0.525,
           0.685,
           0.655,
           0.54,
           0.57,
           0.635,
           0.65,
           0.65,
           0.68,
           0.565,
           0.67,
           0.65,
           0.555,
           0.61,
           0.565,
           0.65,
           0.68,
           0.605,
           0.65,
           0.625,
           0.615
          ],
          [
           0.625,
           0.605,
           0.49,
           0.51,
           0.64,
           0.615,
           0.55,
           0.55,
           0.675,
           0.535,
           0.67,
           0.61,
           0.535,
           0.64,
           0.53,
           0.675,
           0.615,
           0.63,
           0.635,
           0.595,
           0.625,
           0.705,
           0.545,
           0.58,
           0.615
          ],
          [
           0.66,
           0.61,
           0.505,
           0.665,
           0.6,
           0.555,
           0.655,
           0.6,
           0.605,
           0.535,
           0.56,
           0.665,
           0.57,
           0.62,
           0.59,
           0.57,
           0.72,
           0.64,
           0.7,
           0.575,
           0.675,
           0.58,
           0.535,
           0.62,
           0.595
          ],
          [
           0.57,
           0.57,
           0.62,
           0.645,
           0.64,
           0.645,
           0.56,
           0.495,
           0.64,
           0.575,
           0.655,
           0.585,
           0.58,
           0.585,
           0.52,
           0.53,
           0.645,
           0.61,
           0.57,
           0.67,
           0.59,
           0.475,
           0.65,
           0.58,
           0.565
          ],
          [
           0.7,
           0.57,
           0.62,
           0.62,
           0.555,
           0.555,
           0.64,
           0.605,
           0.5,
           0.57,
           0.57,
           0.54,
           0.595,
           0.63,
           0.625,
           0.67,
           0.59,
           0.655,
           0.67,
           0.66,
           0.64,
           0.57,
           0.575,
           0.56,
           0.575
          ],
          [
           0.5,
           0.555,
           0.64,
           0.575,
           0.595,
           0.66,
           0.63,
           0.51,
           0.575,
           0.685,
           0.71,
           0.67,
           0.585,
           0.565,
           0.69,
           0.54,
           0.63,
           0.585,
           0.54,
           0.595,
           0.665,
           0.505,
           0.525,
           0.62,
           0.615
          ],
          [
           0.575,
           0.465,
           0.615,
           0.5,
           0.62,
           0.615,
           0.61,
           0.59,
           0.585,
           0.635,
           0.465,
           0.53,
           0.61,
           0.625,
           0.52,
           0.6,
           0.53,
           0.58,
           0.525,
           0.6,
           0.505,
           0.61,
           0.615,
           0.575,
           0.575
          ],
          [
           0.615,
           0.645,
           0.52,
           0.65,
           0.61,
           0.595,
           0.56,
           0.575,
           0.545,
           0.65,
           0.62,
           0.59,
           0.65,
           0.665,
           0.52,
           0.56,
           0.525,
           0.585,
           0.56,
           0.635,
           0.62,
           0.55,
           0.615,
           0.555,
           0.58
          ],
          [
           0.635,
           0.545,
           0.555,
           0.64,
           0.555,
           0.6,
           0.645,
           0.54,
           0.65,
           0.59,
           0.66,
           0.585,
           0.545,
           0.575,
           0.675,
           0.585,
           0.595,
           0.59,
           0.6,
           0.555,
           0.565,
           0.58,
           0.585,
           0.59,
           0.58
          ],
          [
           0.62,
           0.63,
           0.59,
           0.57,
           0.585,
           0.56,
           0.64,
           0.595,
           0.6,
           0.67,
           0.63,
           0.595,
           0.555,
           0.595,
           0.56,
           0.565,
           0.58,
           0.67,
           0.55,
           0.635,
           0.59,
           0.64,
           0.58,
           0.595,
           0.58
          ],
          [
           0.645,
           0.66,
           0.575,
           0.595,
           0.55,
           0.59,
           0.625,
           0.595,
           0.615,
           0.51,
           0.59,
           0.63,
           0.615,
           0.495,
           0.59,
           0.605,
           0.58,
           0.61,
           0.565,
           0.565,
           0.655,
           0.57,
           0.665,
           0.63,
           0.58
          ]
         ]
        }
       ],
       "layout": {
        "coloraxis": {
         "cmid": 0.5,
         "colorscale": [
          [
           0,
           "rgb(255,255,217)"
          ],
          [
           0.125,
           "rgb(237,248,177)"
          ],
          [
           0.25,
           "rgb(199,233,180)"
          ],
          [
           0.375,
           "rgb(127,205,187)"
          ],
          [
           0.5,
           "rgb(65,182,196)"
          ],
          [
           0.625,
           "rgb(29,145,192)"
          ],
          [
           0.75,
           "rgb(34,94,168)"
          ],
          [
           0.875,
           "rgb(37,52,148)"
          ],
          [
           1,
           "rgb(8,29,88)"
          ]
         ]
        },
        "template": {
         "data": {
          "bar": [
           {
            "error_x": {
             "color": "#2a3f5f"
            },
            "error_y": {
             "color": "#2a3f5f"
            },
            "marker": {
             "line": {
              "color": "#E5ECF6",
              "width": 0.5
             },
             "pattern": {
              "fillmode": "overlay",
              "size": 10,
              "solidity": 0.2
             }
            },
            "type": "bar"
           }
          ],
          "barpolar": [
           {
            "marker": {
             "line": {
              "color": "#E5ECF6",
              "width": 0.5
             },
             "pattern": {
              "fillmode": "overlay",
              "size": 10,
              "solidity": 0.2
             }
            },
            "type": "barpolar"
           }
          ],
          "carpet": [
           {
            "aaxis": {
             "endlinecolor": "#2a3f5f",
             "gridcolor": "white",
             "linecolor": "white",
             "minorgridcolor": "white",
             "startlinecolor": "#2a3f5f"
            },
            "baxis": {
             "endlinecolor": "#2a3f5f",
             "gridcolor": "white",
             "linecolor": "white",
             "minorgridcolor": "white",
             "startlinecolor": "#2a3f5f"
            },
            "type": "carpet"
           }
          ],
          "choropleth": [
           {
            "colorbar": {
             "outlinewidth": 0,
             "ticks": ""
            },
            "type": "choropleth"
           }
          ],
          "contour": [
           {
            "colorbar": {
             "outlinewidth": 0,
             "ticks": ""
            },
            "colorscale": [
             [
              0,
              "#0d0887"
             ],
             [
              0.1111111111111111,
              "#46039f"
             ],
             [
              0.2222222222222222,
              "#7201a8"
             ],
             [
              0.3333333333333333,
              "#9c179e"
             ],
             [
              0.4444444444444444,
              "#bd3786"
             ],
             [
              0.5555555555555556,
              "#d8576b"
             ],
             [
              0.6666666666666666,
              "#ed7953"
             ],
             [
              0.7777777777777778,
              "#fb9f3a"
             ],
             [
              0.8888888888888888,
              "#fdca26"
             ],
             [
              1,
              "#f0f921"
             ]
            ],
            "type": "contour"
           }
          ],
          "contourcarpet": [
           {
            "colorbar": {
             "outlinewidth": 0,
             "ticks": ""
            },
            "type": "contourcarpet"
           }
          ],
          "heatmap": [
           {
            "colorbar": {
             "outlinewidth": 0,
             "ticks": ""
            },
            "colorscale": [
             [
              0,
              "#0d0887"
             ],
             [
              0.1111111111111111,
              "#46039f"
             ],
             [
              0.2222222222222222,
              "#7201a8"
             ],
             [
              0.3333333333333333,
              "#9c179e"
             ],
             [
              0.4444444444444444,
              "#bd3786"
             ],
             [
              0.5555555555555556,
              "#d8576b"
             ],
             [
              0.6666666666666666,
              "#ed7953"
             ],
             [
              0.7777777777777778,
              "#fb9f3a"
             ],
             [
              0.8888888888888888,
              "#fdca26"
             ],
             [
              1,
              "#f0f921"
             ]
            ],
            "type": "heatmap"
           }
          ],
          "heatmapgl": [
           {
            "colorbar": {
             "outlinewidth": 0,
             "ticks": ""
            },
            "colorscale": [
             [
              0,
              "#0d0887"
             ],
             [
              0.1111111111111111,
              "#46039f"
             ],
             [
              0.2222222222222222,
              "#7201a8"
             ],
             [
              0.3333333333333333,
              "#9c179e"
             ],
             [
              0.4444444444444444,
              "#bd3786"
             ],
             [
              0.5555555555555556,
              "#d8576b"
             ],
             [
              0.6666666666666666,
              "#ed7953"
             ],
             [
              0.7777777777777778,
              "#fb9f3a"
             ],
             [
              0.8888888888888888,
              "#fdca26"
             ],
             [
              1,
              "#f0f921"
             ]
            ],
            "type": "heatmapgl"
           }
          ],
          "histogram": [
           {
            "marker": {
             "pattern": {
              "fillmode": "overlay",
              "size": 10,
              "solidity": 0.2
             }
            },
            "type": "histogram"
           }
          ],
          "histogram2d": [
           {
            "colorbar": {
             "outlinewidth": 0,
             "ticks": ""
            },
            "colorscale": [
             [
              0,
              "#0d0887"
             ],
             [
              0.1111111111111111,
              "#46039f"
             ],
             [
              0.2222222222222222,
              "#7201a8"
             ],
             [
              0.3333333333333333,
              "#9c179e"
             ],
             [
              0.4444444444444444,
              "#bd3786"
             ],
             [
              0.5555555555555556,
              "#d8576b"
             ],
             [
              0.6666666666666666,
              "#ed7953"
             ],
             [
              0.7777777777777778,
              "#fb9f3a"
             ],
             [
              0.8888888888888888,
              "#fdca26"
             ],
             [
              1,
              "#f0f921"
             ]
            ],
            "type": "histogram2d"
           }
          ],
          "histogram2dcontour": [
           {
            "colorbar": {
             "outlinewidth": 0,
             "ticks": ""
            },
            "colorscale": [
             [
              0,
              "#0d0887"
             ],
             [
              0.1111111111111111,
              "#46039f"
             ],
             [
              0.2222222222222222,
              "#7201a8"
             ],
             [
              0.3333333333333333,
              "#9c179e"
             ],
             [
              0.4444444444444444,
              "#bd3786"
             ],
             [
              0.5555555555555556,
              "#d8576b"
             ],
             [
              0.6666666666666666,
              "#ed7953"
             ],
             [
              0.7777777777777778,
              "#fb9f3a"
             ],
             [
              0.8888888888888888,
              "#fdca26"
             ],
             [
              1,
              "#f0f921"
             ]
            ],
            "type": "histogram2dcontour"
           }
          ],
          "mesh3d": [
           {
            "colorbar": {
             "outlinewidth": 0,
             "ticks": ""
            },
            "type": "mesh3d"
           }
          ],
          "parcoords": [
           {
            "line": {
             "colorbar": {
              "outlinewidth": 0,
              "ticks": ""
             }
            },
            "type": "parcoords"
           }
          ],
          "pie": [
           {
            "automargin": true,
            "type": "pie"
           }
          ],
          "scatter": [
           {
            "fillpattern": {
             "fillmode": "overlay",
             "size": 10,
             "solidity": 0.2
            },
            "type": "scatter"
           }
          ],
          "scatter3d": [
           {
            "line": {
             "colorbar": {
              "outlinewidth": 0,
              "ticks": ""
             }
            },
            "marker": {
             "colorbar": {
              "outlinewidth": 0,
              "ticks": ""
             }
            },
            "type": "scatter3d"
           }
          ],
          "scattercarpet": [
           {
            "marker": {
             "colorbar": {
              "outlinewidth": 0,
              "ticks": ""
             }
            },
            "type": "scattercarpet"
           }
          ],
          "scattergeo": [
           {
            "marker": {
             "colorbar": {
              "outlinewidth": 0,
              "ticks": ""
             }
            },
            "type": "scattergeo"
           }
          ],
          "scattergl": [
           {
            "marker": {
             "colorbar": {
              "outlinewidth": 0,
              "ticks": ""
             }
            },
            "type": "scattergl"
           }
          ],
          "scattermapbox": [
           {
            "marker": {
             "colorbar": {
              "outlinewidth": 0,
              "ticks": ""
             }
            },
            "type": "scattermapbox"
           }
          ],
          "scatterpolar": [
           {
            "marker": {
             "colorbar": {
              "outlinewidth": 0,
              "ticks": ""
             }
            },
            "type": "scatterpolar"
           }
          ],
          "scatterpolargl": [
           {
            "marker": {
             "colorbar": {
              "outlinewidth": 0,
              "ticks": ""
             }
            },
            "type": "scatterpolargl"
           }
          ],
          "scatterternary": [
           {
            "marker": {
             "colorbar": {
              "outlinewidth": 0,
              "ticks": ""
             }
            },
            "type": "scatterternary"
           }
          ],
          "surface": [
           {
            "colorbar": {
             "outlinewidth": 0,
             "ticks": ""
            },
            "colorscale": [
             [
              0,
              "#0d0887"
             ],
             [
              0.1111111111111111,
              "#46039f"
             ],
             [
              0.2222222222222222,
              "#7201a8"
             ],
             [
              0.3333333333333333,
              "#9c179e"
             ],
             [
              0.4444444444444444,
              "#bd3786"
             ],
             [
              0.5555555555555556,
              "#d8576b"
             ],
             [
              0.6666666666666666,
              "#ed7953"
             ],
             [
              0.7777777777777778,
              "#fb9f3a"
             ],
             [
              0.8888888888888888,
              "#fdca26"
             ],
             [
              1,
              "#f0f921"
             ]
            ],
            "type": "surface"
           }
          ],
          "table": [
           {
            "cells": {
             "fill": {
              "color": "#EBF0F8"
             },
             "line": {
              "color": "white"
             }
            },
            "header": {
             "fill": {
              "color": "#C8D4E3"
             },
             "line": {
              "color": "white"
             }
            },
            "type": "table"
           }
          ]
         },
         "layout": {
          "annotationdefaults": {
           "arrowcolor": "#2a3f5f",
           "arrowhead": 0,
           "arrowwidth": 1
          },
          "autotypenumbers": "strict",
          "coloraxis": {
           "colorbar": {
            "outlinewidth": 0,
            "ticks": ""
           }
          },
          "colorscale": {
           "diverging": [
            [
             0,
             "#8e0152"
            ],
            [
             0.1,
             "#c51b7d"
            ],
            [
             0.2,
             "#de77ae"
            ],
            [
             0.3,
             "#f1b6da"
            ],
            [
             0.4,
             "#fde0ef"
            ],
            [
             0.5,
             "#f7f7f7"
            ],
            [
             0.6,
             "#e6f5d0"
            ],
            [
             0.7,
             "#b8e186"
            ],
            [
             0.8,
             "#7fbc41"
            ],
            [
             0.9,
             "#4d9221"
            ],
            [
             1,
             "#276419"
            ]
           ],
           "sequential": [
            [
             0,
             "#0d0887"
            ],
            [
             0.1111111111111111,
             "#46039f"
            ],
            [
             0.2222222222222222,
             "#7201a8"
            ],
            [
             0.3333333333333333,
             "#9c179e"
            ],
            [
             0.4444444444444444,
             "#bd3786"
            ],
            [
             0.5555555555555556,
             "#d8576b"
            ],
            [
             0.6666666666666666,
             "#ed7953"
            ],
            [
             0.7777777777777778,
             "#fb9f3a"
            ],
            [
             0.8888888888888888,
             "#fdca26"
            ],
            [
             1,
             "#f0f921"
            ]
           ],
           "sequentialminus": [
            [
             0,
             "#0d0887"
            ],
            [
             0.1111111111111111,
             "#46039f"
            ],
            [
             0.2222222222222222,
             "#7201a8"
            ],
            [
             0.3333333333333333,
             "#9c179e"
            ],
            [
             0.4444444444444444,
             "#bd3786"
            ],
            [
             0.5555555555555556,
             "#d8576b"
            ],
            [
             0.6666666666666666,
             "#ed7953"
            ],
            [
             0.7777777777777778,
             "#fb9f3a"
            ],
            [
             0.8888888888888888,
             "#fdca26"
            ],
            [
             1,
             "#f0f921"
            ]
           ]
          },
          "colorway": [
           "#636efa",
           "#EF553B",
           "#00cc96",
           "#ab63fa",
           "#FFA15A",
           "#19d3f3",
           "#FF6692",
           "#B6E880",
           "#FF97FF",
           "#FECB52"
          ],
          "font": {
           "color": "#2a3f5f"
          },
          "geo": {
           "bgcolor": "white",
           "lakecolor": "white",
           "landcolor": "#E5ECF6",
           "showlakes": true,
           "showland": true,
           "subunitcolor": "white"
          },
          "hoverlabel": {
           "align": "left"
          },
          "hovermode": "closest",
          "mapbox": {
           "style": "light"
          },
          "paper_bgcolor": "white",
          "plot_bgcolor": "#E5ECF6",
          "polar": {
           "angularaxis": {
            "gridcolor": "white",
            "linecolor": "white",
            "ticks": ""
           },
           "bgcolor": "#E5ECF6",
           "radialaxis": {
            "gridcolor": "white",
            "linecolor": "white",
            "ticks": ""
           }
          },
          "scene": {
           "xaxis": {
            "backgroundcolor": "#E5ECF6",
            "gridcolor": "white",
            "gridwidth": 2,
            "linecolor": "white",
            "showbackground": true,
            "ticks": "",
            "zerolinecolor": "white"
           },
           "yaxis": {
            "backgroundcolor": "#E5ECF6",
            "gridcolor": "white",
            "gridwidth": 2,
            "linecolor": "white",
            "showbackground": true,
            "ticks": "",
            "zerolinecolor": "white"
           },
           "zaxis": {
            "backgroundcolor": "#E5ECF6",
            "gridcolor": "white",
            "gridwidth": 2,
            "linecolor": "white",
            "showbackground": true,
            "ticks": "",
            "zerolinecolor": "white"
           }
          },
          "shapedefaults": {
           "line": {
            "color": "#2a3f5f"
           }
          },
          "ternary": {
           "aaxis": {
            "gridcolor": "white",
            "linecolor": "white",
            "ticks": ""
           },
           "baxis": {
            "gridcolor": "white",
            "linecolor": "white",
            "ticks": ""
           },
           "bgcolor": "#E5ECF6",
           "caxis": {
            "gridcolor": "white",
            "linecolor": "white",
            "ticks": ""
           }
          },
          "title": {
           "x": 0.05
          },
          "xaxis": {
           "automargin": true,
           "gridcolor": "white",
           "linecolor": "white",
           "ticks": "",
           "title": {
            "standoff": 15
           },
           "zerolinecolor": "white",
           "zerolinewidth": 2
          },
          "yaxis": {
           "automargin": true,
           "gridcolor": "white",
           "linecolor": "white",
           "ticks": "",
           "title": {
            "standoff": 15
           },
           "zerolinecolor": "white",
           "zerolinewidth": 2
          }
         }
        },
        "title": {
         "text": "Probe Accuracies"
        },
        "xaxis": {
         "anchor": "y",
         "constrain": "domain",
         "domain": [
          0,
          1
         ],
         "scaleanchor": "y",
         "title": {
          "text": "Heads (sorted)"
         }
        },
        "yaxis": {
         "anchor": "x",
         "autorange": true,
         "constrain": "domain",
         "domain": [
          0,
          1
         ],
         "title": {
          "text": "Layers"
         }
        }
       }
      },
      "text/html": [
       "<div>                            <div id=\"fb54ad51-ae90-43ff-b926-a7dce194574f\" class=\"plotly-graph-div\" style=\"height:525px; width:100%;\"></div>            <script type=\"text/javascript\">                require([\"plotly\"], function(Plotly) {                    window.PLOTLYENV=window.PLOTLYENV || {};                                    if (document.getElementById(\"fb54ad51-ae90-43ff-b926-a7dce194574f\")) {                    Plotly.newPlot(                        \"fb54ad51-ae90-43ff-b926-a7dce194574f\",                        [{\"coloraxis\":\"coloraxis\",\"name\":\"0\",\"z\":[[0.525,0.51,0.51,0.47,0.455,0.455,0.515,0.435,0.595,0.605,0.47,0.565,0.47,0.6,0.57,0.605,0.47,0.49,0.46,0.46,0.505,0.55,0.54,0.55,0.575],[0.59,0.585,0.61,0.595,0.59,0.625,0.62,0.57,0.57,0.605,0.585,0.56,0.63,0.615,0.585,0.59,0.6,0.605,0.62,0.655,0.62,0.59,0.65,0.65,0.57],[0.58,0.595,0.575,0.565,0.57,0.645,0.615,0.615,0.59,0.585,0.57,0.605,0.61,0.59,0.59,0.54,0.63,0.59,0.62,0.64,0.58,0.565,0.6,0.625,0.555],[0.58,0.595,0.615,0.605,0.55,0.55,0.59,0.61,0.585,0.6,0.67,0.595,0.59,0.58,0.635,0.59,0.605,0.65,0.655,0.605,0.62,0.62,0.63,0.615,0.625],[0.605,0.645,0.625,0.57,0.625,0.615,0.63,0.63,0.62,0.595,0.595,0.6,0.615,0.66,0.635,0.565,0.585,0.64,0.68,0.53,0.665,0.63,0.595,0.595,0.595],[0.595,0.635,0.62,0.63,0.56,0.595,0.665,0.655,0.625,0.59,0.63,0.63,0.63,0.585,0.625,0.555,0.605,0.595,0.565,0.585,0.575,0.66,0.59,0.63,0.61],[0.595,0.565,0.71,0.635,0.62,0.62,0.6,0.625,0.635,0.665,0.605,0.625,0.675,0.58,0.61,0.6,0.645,0.66,0.64,0.585,0.595,0.65,0.605,0.59,0.63],[0.65,0.57,0.665,0.63,0.67,0.64,0.62,0.64,0.615,0.63,0.595,0.635,0.605,0.655,0.655,0.585,0.59,0.62,0.625,0.585,0.615,0.575,0.59,0.635,0.59],[0.645,0.58,0.575,0.615,0.585,0.625,0.6,0.625,0.65,0.665,0.58,0.62,0.61,0.595,0.685,0.645,0.605,0.62,0.595,0.59,0.645,0.615,0.655,0.665,0.685],[0.665,0.575,0.62,0.615,0.645,0.605,0.625,0.595,0.655,0.665,0.605,0.57,0.615,0.635,0.655,0.68,0.64,0.61,0.59,0.67,0.57,0.62,0.585,0.63,0.58],[0.625,0.675,0.565,0.645,0.605,0.665,0.67,0.605,0.705,0.635,0.64,0.645,0.67,0.6,0.595,0.575,0.72,0.62,0.685,0.64,0.615,0.63,0.625,0.61,0.605],[0.6,0.605,0.645,0.635,0.685,0.62,0.63,0.64,0.65,0.635,0.61,0.65,0.67,0.635,0.66,0.62,0.63,0.655,0.63,0.63,0.61,0.615,0.62,0.615,0.615],[0.625,0.61,0.65,0.645,0.705,0.64,0.63,0.595,0.655,0.625,0.63,0.64,0.67,0.66,0.625,0.62,0.635,0.565,0.62,0.635,0.665,0.6,0.66,0.59,0.615],[0.525,0.645,0.63,0.605,0.64,0.64,0.575,0.64,0.66,0.62,0.675,0.66,0.61,0.6,0.61,0.615,0.575,0.58,0.64,0.645,0.63,0.66,0.59,0.585,0.58],[0.625,0.635,0.645,0.64,0.645,0.625,0.655,0.59,0.65,0.645,0.61,0.645,0.605,0.675,0.635,0.625,0.62,0.675,0.63,0.61,0.635,0.665,0.635,0.67,0.71],[0.655,0.665,0.635,0.715,0.65,0.595,0.645,0.62,0.575,0.68,0.69,0.625,0.635,0.64,0.62,0.655,0.725,0.615,0.625,0.63,0.695,0.645,0.65,0.67,0.665],[0.61,0.65,0.625,0.575,0.67,0.62,0.6,0.695,0.695,0.705,0.665,0.58,0.665,0.64,0.66,0.605,0.685,0.63,0.665,0.61,0.625,0.58,0.68,0.675,0.68],[0.64,0.52,0.67,0.65,0.63,0.635,0.56,0.695,0.615,0.565,0.67,0.605,0.46,0.705,0.605,0.71,0.69,0.675,0.62,0.545,0.605,0.695,0.61,0.68,0.69],[0.575,0.68,0.695,0.665,0.66,0.68,0.67,0.7,0.69,0.65,0.71,0.7,0.69,0.67,0.69,0.625,0.655,0.7,0.61,0.635,0.605,0.655,0.64,0.66,0.655],[0.65,0.66,0.685,0.75,0.685,0.665,0.675,0.64,0.655,0.67,0.715,0.62,0.71,0.595,0.74,0.645,0.59,0.655,0.495,0.7,0.65,0.715,0.715,0.67,0.68],[0.52,0.725,0.72,0.635,0.72,0.59,0.645,0.7,0.72,0.71,0.665,0.665,0.675,0.71,0.74,0.66,0.69,0.71,0.68,0.53,0.73,0.71,0.705,0.75,0.655],[0.705,0.635,0.745,0.575,0.715,0.675,0.695,0.75,0.705,0.74,0.705,0.73,0.675,0.695,0.7,0.71,0.755,0.695,0.73,0.675,0.62,0.675,0.68,0.7,0.695],[0.67,0.705,0.685,0.675,0.685,0.665,0.66,0.62,0.685,0.62,0.69,0.74,0.73,0.745,0.735,0.635,0.715,0.69,0.73,0.63,0.605,0.66,0.7,0.725,0.655],[0.665,0.715,0.745,0.765,0.61,0.71,0.67,0.685,0.62,0.71,0.695,0.63,0.71,0.7,0.615,0.685,0.625,0.72,0.715,0.655,0.685,0.695,0.655,0.75,0.605],[0.63,0.715,0.635,0.725,0.615,0.72,0.705,0.72,0.7,0.66,0.72,0.755,0.69,0.71,0.735,0.715,0.63,0.695,0.6,0.715,0.71,0.77,0.725,0.705,0.7],[0.6,0.685,0.63,0.67,0.69,0.68,0.725,0.72,0.645,0.675,0.65,0.695,0.72,0.705,0.705,0.66,0.63,0.665,0.61,0.575,0.7,0.725,0.625,0.655,0.685],[0.68,0.725,0.615,0.62,0.675,0.61,0.67,0.7,0.66,0.71,0.71,0.65,0.735,0.635,0.665,0.635,0.66,0.63,0.605,0.71,0.56,0.69,0.635,0.7,0.69],[0.735,0.645,0.73,0.68,0.63,0.645,0.715,0.675,0.705,0.625,0.725,0.61,0.665,0.625,0.66,0.745,0.7,0.645,0.68,0.685,0.675,0.745,0.645,0.615,0.63],[0.725,0.605,0.67,0.67,0.69,0.72,0.66,0.675,0.625,0.635,0.65,0.6,0.655,0.72,0.695,0.64,0.71,0.605,0.64,0.57,0.635,0.67,0.625,0.715,0.625],[0.565,0.66,0.58,0.655,0.715,0.585,0.625,0.625,0.605,0.615,0.575,0.695,0.645,0.675,0.6,0.625,0.705,0.65,0.545,0.545,0.51,0.68,0.71,0.725,0.655],[0.685,0.665,0.695,0.675,0.685,0.745,0.685,0.71,0.59,0.6,0.71,0.66,0.71,0.625,0.685,0.625,0.71,0.605,0.66,0.675,0.66,0.565,0.63,0.625,0.685],[0.69,0.665,0.605,0.64,0.725,0.465,0.685,0.67,0.525,0.615,0.705,0.575,0.665,0.65,0.665,0.55,0.705,0.575,0.62,0.695,0.61,0.68,0.7,0.65,0.69],[0.66,0.625,0.685,0.64,0.715,0.68,0.735,0.63,0.615,0.66,0.635,0.565,0.6,0.695,0.655,0.62,0.565,0.69,0.56,0.63,0.565,0.72,0.705,0.71,0.655],[0.66,0.67,0.54,0.675,0.635,0.64,0.665,0.62,0.615,0.55,0.585,0.705,0.645,0.63,0.66,0.68,0.61,0.665,0.52,0.59,0.61,0.675,0.61,0.655,0.645],[0.56,0.63,0.675,0.665,0.555,0.61,0.645,0.595,0.665,0.645,0.485,0.62,0.625,0.545,0.575,0.675,0.625,0.56,0.62,0.585,0.63,0.61,0.705,0.745,0.6],[0.615,0.58,0.65,0.595,0.595,0.675,0.55,0.665,0.655,0.67,0.58,0.755,0.605,0.645,0.655,0.52,0.625,0.605,0.645,0.61,0.65,0.455,0.605,0.7,0.71],[0.63,0.62,0.565,0.695,0.6,0.7,0.575,0.63,0.72,0.565,0.7,0.68,0.67,0.69,0.58,0.66,0.625,0.635,0.705,0.645,0.615,0.695,0.655,0.705,0.675],[0.48,0.735,0.55,0.7,0.525,0.685,0.655,0.54,0.57,0.635,0.65,0.65,0.68,0.565,0.67,0.65,0.555,0.61,0.565,0.65,0.68,0.605,0.65,0.625,0.615],[0.625,0.605,0.49,0.51,0.64,0.615,0.55,0.55,0.675,0.535,0.67,0.61,0.535,0.64,0.53,0.675,0.615,0.63,0.635,0.595,0.625,0.705,0.545,0.58,0.615],[0.66,0.61,0.505,0.665,0.6,0.555,0.655,0.6,0.605,0.535,0.56,0.665,0.57,0.62,0.59,0.57,0.72,0.64,0.7,0.575,0.675,0.58,0.535,0.62,0.595],[0.57,0.57,0.62,0.645,0.64,0.645,0.56,0.495,0.64,0.575,0.655,0.585,0.58,0.585,0.52,0.53,0.645,0.61,0.57,0.67,0.59,0.475,0.65,0.58,0.565],[0.7,0.57,0.62,0.62,0.555,0.555,0.64,0.605,0.5,0.57,0.57,0.54,0.595,0.63,0.625,0.67,0.59,0.655,0.67,0.66,0.64,0.57,0.575,0.56,0.575],[0.5,0.555,0.64,0.575,0.595,0.66,0.63,0.51,0.575,0.685,0.71,0.67,0.585,0.565,0.69,0.54,0.63,0.585,0.54,0.595,0.665,0.505,0.525,0.62,0.615],[0.575,0.465,0.615,0.5,0.62,0.615,0.61,0.59,0.585,0.635,0.465,0.53,0.61,0.625,0.52,0.6,0.53,0.58,0.525,0.6,0.505,0.61,0.615,0.575,0.575],[0.615,0.645,0.52,0.65,0.61,0.595,0.56,0.575,0.545,0.65,0.62,0.59,0.65,0.665,0.52,0.56,0.525,0.585,0.56,0.635,0.62,0.55,0.615,0.555,0.58],[0.635,0.545,0.555,0.64,0.555,0.6,0.645,0.54,0.65,0.59,0.66,0.585,0.545,0.575,0.675,0.585,0.595,0.59,0.6,0.555,0.565,0.58,0.585,0.59,0.58],[0.62,0.63,0.59,0.57,0.585,0.56,0.64,0.595,0.6,0.67,0.63,0.595,0.555,0.595,0.56,0.565,0.58,0.67,0.55,0.635,0.59,0.64,0.58,0.595,0.58],[0.645,0.66,0.575,0.595,0.55,0.59,0.625,0.595,0.615,0.51,0.59,0.63,0.615,0.495,0.59,0.605,0.58,0.61,0.565,0.565,0.655,0.57,0.665,0.63,0.58]],\"type\":\"heatmap\",\"xaxis\":\"x\",\"yaxis\":\"y\",\"hovertemplate\":\"Heads (sorted): %{x}\\u003cbr\\u003eLayers: %{y}\\u003cbr\\u003ecolor: %{z}\\u003cextra\\u003e\\u003c\\u002fextra\\u003e\"}],                        {\"template\":{\"data\":{\"histogram2dcontour\":[{\"type\":\"histogram2dcontour\",\"colorbar\":{\"outlinewidth\":0,\"ticks\":\"\"},\"colorscale\":[[0.0,\"#0d0887\"],[0.1111111111111111,\"#46039f\"],[0.2222222222222222,\"#7201a8\"],[0.3333333333333333,\"#9c179e\"],[0.4444444444444444,\"#bd3786\"],[0.5555555555555556,\"#d8576b\"],[0.6666666666666666,\"#ed7953\"],[0.7777777777777778,\"#fb9f3a\"],[0.8888888888888888,\"#fdca26\"],[1.0,\"#f0f921\"]]}],\"choropleth\":[{\"type\":\"choropleth\",\"colorbar\":{\"outlinewidth\":0,\"ticks\":\"\"}}],\"histogram2d\":[{\"type\":\"histogram2d\",\"colorbar\":{\"outlinewidth\":0,\"ticks\":\"\"},\"colorscale\":[[0.0,\"#0d0887\"],[0.1111111111111111,\"#46039f\"],[0.2222222222222222,\"#7201a8\"],[0.3333333333333333,\"#9c179e\"],[0.4444444444444444,\"#bd3786\"],[0.5555555555555556,\"#d8576b\"],[0.6666666666666666,\"#ed7953\"],[0.7777777777777778,\"#fb9f3a\"],[0.8888888888888888,\"#fdca26\"],[1.0,\"#f0f921\"]]}],\"heatmap\":[{\"type\":\"heatmap\",\"colorbar\":{\"outlinewidth\":0,\"ticks\":\"\"},\"colorscale\":[[0.0,\"#0d0887\"],[0.1111111111111111,\"#46039f\"],[0.2222222222222222,\"#7201a8\"],[0.3333333333333333,\"#9c179e\"],[0.4444444444444444,\"#bd3786\"],[0.5555555555555556,\"#d8576b\"],[0.6666666666666666,\"#ed7953\"],[0.7777777777777778,\"#fb9f3a\"],[0.8888888888888888,\"#fdca26\"],[1.0,\"#f0f921\"]]}],\"heatmapgl\":[{\"type\":\"heatmapgl\",\"colorbar\":{\"outlinewidth\":0,\"ticks\":\"\"},\"colorscale\":[[0.0,\"#0d0887\"],[0.1111111111111111,\"#46039f\"],[0.2222222222222222,\"#7201a8\"],[0.3333333333333333,\"#9c179e\"],[0.4444444444444444,\"#bd3786\"],[0.5555555555555556,\"#d8576b\"],[0.6666666666666666,\"#ed7953\"],[0.7777777777777778,\"#fb9f3a\"],[0.8888888888888888,\"#fdca26\"],[1.0,\"#f0f921\"]]}],\"contourcarpet\":[{\"type\":\"contourcarpet\",\"colorbar\":{\"outlinewidth\":0,\"ticks\":\"\"}}],\"contour\":[{\"type\":\"contour\",\"colorbar\":{\"outlinewidth\":0,\"ticks\":\"\"},\"colorscale\":[[0.0,\"#0d0887\"],[0.1111111111111111,\"#46039f\"],[0.2222222222222222,\"#7201a8\"],[0.3333333333333333,\"#9c179e\"],[0.4444444444444444,\"#bd3786\"],[0.5555555555555556,\"#d8576b\"],[0.6666666666666666,\"#ed7953\"],[0.7777777777777778,\"#fb9f3a\"],[0.8888888888888888,\"#fdca26\"],[1.0,\"#f0f921\"]]}],\"surface\":[{\"type\":\"surface\",\"colorbar\":{\"outlinewidth\":0,\"ticks\":\"\"},\"colorscale\":[[0.0,\"#0d0887\"],[0.1111111111111111,\"#46039f\"],[0.2222222222222222,\"#7201a8\"],[0.3333333333333333,\"#9c179e\"],[0.4444444444444444,\"#bd3786\"],[0.5555555555555556,\"#d8576b\"],[0.6666666666666666,\"#ed7953\"],[0.7777777777777778,\"#fb9f3a\"],[0.8888888888888888,\"#fdca26\"],[1.0,\"#f0f921\"]]}],\"mesh3d\":[{\"type\":\"mesh3d\",\"colorbar\":{\"outlinewidth\":0,\"ticks\":\"\"}}],\"scatter\":[{\"fillpattern\":{\"fillmode\":\"overlay\",\"size\":10,\"solidity\":0.2},\"type\":\"scatter\"}],\"parcoords\":[{\"type\":\"parcoords\",\"line\":{\"colorbar\":{\"outlinewidth\":0,\"ticks\":\"\"}}}],\"scatterpolargl\":[{\"type\":\"scatterpolargl\",\"marker\":{\"colorbar\":{\"outlinewidth\":0,\"ticks\":\"\"}}}],\"bar\":[{\"error_x\":{\"color\":\"#2a3f5f\"},\"error_y\":{\"color\":\"#2a3f5f\"},\"marker\":{\"line\":{\"color\":\"#E5ECF6\",\"width\":0.5},\"pattern\":{\"fillmode\":\"overlay\",\"size\":10,\"solidity\":0.2}},\"type\":\"bar\"}],\"scattergeo\":[{\"type\":\"scattergeo\",\"marker\":{\"colorbar\":{\"outlinewidth\":0,\"ticks\":\"\"}}}],\"scatterpolar\":[{\"type\":\"scatterpolar\",\"marker\":{\"colorbar\":{\"outlinewidth\":0,\"ticks\":\"\"}}}],\"histogram\":[{\"marker\":{\"pattern\":{\"fillmode\":\"overlay\",\"size\":10,\"solidity\":0.2}},\"type\":\"histogram\"}],\"scattergl\":[{\"type\":\"scattergl\",\"marker\":{\"colorbar\":{\"outlinewidth\":0,\"ticks\":\"\"}}}],\"scatter3d\":[{\"type\":\"scatter3d\",\"line\":{\"colorbar\":{\"outlinewidth\":0,\"ticks\":\"\"}},\"marker\":{\"colorbar\":{\"outlinewidth\":0,\"ticks\":\"\"}}}],\"scattermapbox\":[{\"type\":\"scattermapbox\",\"marker\":{\"colorbar\":{\"outlinewidth\":0,\"ticks\":\"\"}}}],\"scatterternary\":[{\"type\":\"scatterternary\",\"marker\":{\"colorbar\":{\"outlinewidth\":0,\"ticks\":\"\"}}}],\"scattercarpet\":[{\"type\":\"scattercarpet\",\"marker\":{\"colorbar\":{\"outlinewidth\":0,\"ticks\":\"\"}}}],\"carpet\":[{\"aaxis\":{\"endlinecolor\":\"#2a3f5f\",\"gridcolor\":\"white\",\"linecolor\":\"white\",\"minorgridcolor\":\"white\",\"startlinecolor\":\"#2a3f5f\"},\"baxis\":{\"endlinecolor\":\"#2a3f5f\",\"gridcolor\":\"white\",\"linecolor\":\"white\",\"minorgridcolor\":\"white\",\"startlinecolor\":\"#2a3f5f\"},\"type\":\"carpet\"}],\"table\":[{\"cells\":{\"fill\":{\"color\":\"#EBF0F8\"},\"line\":{\"color\":\"white\"}},\"header\":{\"fill\":{\"color\":\"#C8D4E3\"},\"line\":{\"color\":\"white\"}},\"type\":\"table\"}],\"barpolar\":[{\"marker\":{\"line\":{\"color\":\"#E5ECF6\",\"width\":0.5},\"pattern\":{\"fillmode\":\"overlay\",\"size\":10,\"solidity\":0.2}},\"type\":\"barpolar\"}],\"pie\":[{\"automargin\":true,\"type\":\"pie\"}]},\"layout\":{\"autotypenumbers\":\"strict\",\"colorway\":[\"#636efa\",\"#EF553B\",\"#00cc96\",\"#ab63fa\",\"#FFA15A\",\"#19d3f3\",\"#FF6692\",\"#B6E880\",\"#FF97FF\",\"#FECB52\"],\"font\":{\"color\":\"#2a3f5f\"},\"hovermode\":\"closest\",\"hoverlabel\":{\"align\":\"left\"},\"paper_bgcolor\":\"white\",\"plot_bgcolor\":\"#E5ECF6\",\"polar\":{\"bgcolor\":\"#E5ECF6\",\"angularaxis\":{\"gridcolor\":\"white\",\"linecolor\":\"white\",\"ticks\":\"\"},\"radialaxis\":{\"gridcolor\":\"white\",\"linecolor\":\"white\",\"ticks\":\"\"}},\"ternary\":{\"bgcolor\":\"#E5ECF6\",\"aaxis\":{\"gridcolor\":\"white\",\"linecolor\":\"white\",\"ticks\":\"\"},\"baxis\":{\"gridcolor\":\"white\",\"linecolor\":\"white\",\"ticks\":\"\"},\"caxis\":{\"gridcolor\":\"white\",\"linecolor\":\"white\",\"ticks\":\"\"}},\"coloraxis\":{\"colorbar\":{\"outlinewidth\":0,\"ticks\":\"\"}},\"colorscale\":{\"sequential\":[[0.0,\"#0d0887\"],[0.1111111111111111,\"#46039f\"],[0.2222222222222222,\"#7201a8\"],[0.3333333333333333,\"#9c179e\"],[0.4444444444444444,\"#bd3786\"],[0.5555555555555556,\"#d8576b\"],[0.6666666666666666,\"#ed7953\"],[0.7777777777777778,\"#fb9f3a\"],[0.8888888888888888,\"#fdca26\"],[1.0,\"#f0f921\"]],\"sequentialminus\":[[0.0,\"#0d0887\"],[0.1111111111111111,\"#46039f\"],[0.2222222222222222,\"#7201a8\"],[0.3333333333333333,\"#9c179e\"],[0.4444444444444444,\"#bd3786\"],[0.5555555555555556,\"#d8576b\"],[0.6666666666666666,\"#ed7953\"],[0.7777777777777778,\"#fb9f3a\"],[0.8888888888888888,\"#fdca26\"],[1.0,\"#f0f921\"]],\"diverging\":[[0,\"#8e0152\"],[0.1,\"#c51b7d\"],[0.2,\"#de77ae\"],[0.3,\"#f1b6da\"],[0.4,\"#fde0ef\"],[0.5,\"#f7f7f7\"],[0.6,\"#e6f5d0\"],[0.7,\"#b8e186\"],[0.8,\"#7fbc41\"],[0.9,\"#4d9221\"],[1,\"#276419\"]]},\"xaxis\":{\"gridcolor\":\"white\",\"linecolor\":\"white\",\"ticks\":\"\",\"title\":{\"standoff\":15},\"zerolinecolor\":\"white\",\"automargin\":true,\"zerolinewidth\":2},\"yaxis\":{\"gridcolor\":\"white\",\"linecolor\":\"white\",\"ticks\":\"\",\"title\":{\"standoff\":15},\"zerolinecolor\":\"white\",\"automargin\":true,\"zerolinewidth\":2},\"scene\":{\"xaxis\":{\"backgroundcolor\":\"#E5ECF6\",\"gridcolor\":\"white\",\"linecolor\":\"white\",\"showbackground\":true,\"ticks\":\"\",\"zerolinecolor\":\"white\",\"gridwidth\":2},\"yaxis\":{\"backgroundcolor\":\"#E5ECF6\",\"gridcolor\":\"white\",\"linecolor\":\"white\",\"showbackground\":true,\"ticks\":\"\",\"zerolinecolor\":\"white\",\"gridwidth\":2},\"zaxis\":{\"backgroundcolor\":\"#E5ECF6\",\"gridcolor\":\"white\",\"linecolor\":\"white\",\"showbackground\":true,\"ticks\":\"\",\"zerolinecolor\":\"white\",\"gridwidth\":2}},\"shapedefaults\":{\"line\":{\"color\":\"#2a3f5f\"}},\"annotationdefaults\":{\"arrowcolor\":\"#2a3f5f\",\"arrowhead\":0,\"arrowwidth\":1},\"geo\":{\"bgcolor\":\"white\",\"landcolor\":\"#E5ECF6\",\"subunitcolor\":\"white\",\"showland\":true,\"showlakes\":true,\"lakecolor\":\"white\"},\"title\":{\"x\":0.05},\"mapbox\":{\"style\":\"light\"}}},\"xaxis\":{\"anchor\":\"y\",\"domain\":[0.0,1.0],\"scaleanchor\":\"y\",\"constrain\":\"domain\",\"title\":{\"text\":\"Heads (sorted)\"}},\"yaxis\":{\"anchor\":\"x\",\"domain\":[0.0,1.0],\"autorange\":true,\"constrain\":\"domain\",\"title\":{\"text\":\"Layers\"}},\"coloraxis\":{\"colorscale\":[[0.0,\"rgb(255,255,217)\"],[0.125,\"rgb(237,248,177)\"],[0.25,\"rgb(199,233,180)\"],[0.375,\"rgb(127,205,187)\"],[0.5,\"rgb(65,182,196)\"],[0.625,\"rgb(29,145,192)\"],[0.75,\"rgb(34,94,168)\"],[0.875,\"rgb(37,52,148)\"],[1.0,\"rgb(8,29,88)\"]],\"cmid\":0.5},\"title\":{\"text\":\"Probe Accuracies\"}},                        {\"responsive\": true}                    ).then(function(){\n",
       "                            \n",
       "var gd = document.getElementById('fb54ad51-ae90-43ff-b926-a7dce194574f');\n",
       "var x = new MutationObserver(function (mutations, observer) {{\n",
       "        var display = window.getComputedStyle(gd).display;\n",
       "        if (!display || display === 'none') {{\n",
       "            console.log([gd, 'removed!']);\n",
       "            Plotly.purge(gd);\n",
       "            observer.disconnect();\n",
       "        }}\n",
       "}});\n",
       "\n",
       "// Listen for the removal of the full notebook cells\n",
       "var notebookContainer = gd.closest('#notebook-container');\n",
       "if (notebookContainer) {{\n",
       "    x.observe(notebookContainer, {childList: true});\n",
       "}}\n",
       "\n",
       "// Listen for the clearing of the current output cell\n",
       "var outputEl = gd.closest('.output');\n",
       "if (outputEl) {{\n",
       "    x.observe(outputEl, {childList: true});\n",
       "}}\n",
       "\n",
       "                        })                };                });            </script>        </div>"
      ]
     },
     "metadata": {},
     "output_type": "display_data"
    },
    {
     "data": {
      "application/vnd.plotly.v1+json": {
       "config": {
        "plotlyServerURL": "https://plot.ly"
       },
       "data": [
        {
         "coloraxis": "coloraxis",
         "hovertemplate": "Heads (sorted): %{x}<br>Layers: %{y}<br>color: %{z}<extra></extra>",
         "name": "0",
         "type": "heatmap",
         "xaxis": "x",
         "yaxis": "y",
         "z": [
          [
           0.535,
           0.535,
           0.535,
           0.535,
           0.535,
           0.535,
           0.535,
           0.535,
           0.535,
           0.535,
           0.535,
           0.535,
           0.535,
           0.535,
           0.535,
           0.535,
           0.535,
           0.535,
           0.535,
           0.535,
           0.535,
           0.545,
           0.535,
           0.535,
           0.535
          ],
          [
           0.575,
           0.595,
           0.575,
           0.53,
           0.52,
           0.51,
           0.53,
           0.62,
           0.56,
           0.525,
           0.51,
           0.545,
           0.57,
           0.525,
           0.535,
           0.56,
           0.57,
           0.535,
           0.56,
           0.57,
           0.555,
           0.55,
           0.535,
           0.525,
           0.555
          ],
          [
           0.54,
           0.54,
           0.535,
           0.53,
           0.56,
           0.57,
           0.53,
           0.535,
           0.58,
           0.545,
           0.56,
           0.565,
           0.53,
           0.555,
           0.525,
           0.485,
           0.525,
           0.545,
           0.605,
           0.59,
           0.535,
           0.545,
           0.565,
           0.575,
           0.53
          ],
          [
           0.56,
           0.57,
           0.54,
           0.545,
           0.555,
           0.52,
           0.56,
           0.535,
           0.59,
           0.525,
           0.53,
           0.535,
           0.525,
           0.585,
           0.54,
           0.6,
           0.535,
           0.48,
           0.6,
           0.53,
           0.545,
           0.535,
           0.52,
           0.575,
           0.6
          ],
          [
           0.515,
           0.545,
           0.56,
           0.515,
           0.605,
           0.52,
           0.58,
           0.615,
           0.6,
           0.57,
           0.59,
           0.535,
           0.55,
           0.54,
           0.565,
           0.565,
           0.545,
           0.585,
           0.57,
           0.52,
           0.565,
           0.575,
           0.57,
           0.55,
           0.565
          ],
          [
           0.57,
           0.53,
           0.515,
           0.58,
           0.535,
           0.52,
           0.605,
           0.58,
           0.57,
           0.525,
           0.545,
           0.555,
           0.56,
           0.525,
           0.575,
           0.565,
           0.57,
           0.56,
           0.545,
           0.605,
           0.57,
           0.545,
           0.5,
           0.55,
           0.54
          ],
          [
           0.535,
           0.55,
           0.62,
           0.585,
           0.53,
           0.55,
           0.55,
           0.505,
           0.575,
           0.575,
           0.51,
           0.535,
           0.54,
           0.535,
           0.555,
           0.535,
           0.575,
           0.605,
           0.625,
           0.525,
           0.56,
           0.565,
           0.545,
           0.595,
           0.58
          ],
          [
           0.54,
           0.55,
           0.55,
           0.56,
           0.62,
           0.525,
           0.565,
           0.585,
           0.6,
           0.535,
           0.51,
           0.535,
           0.535,
           0.57,
           0.66,
           0.535,
           0.56,
           0.55,
           0.615,
           0.53,
           0.545,
           0.57,
           0.57,
           0.62,
           0.505
          ],
          [
           0.545,
           0.495,
           0.56,
           0.58,
           0.535,
           0.54,
           0.535,
           0.555,
           0.61,
           0.535,
           0.545,
           0.595,
           0.53,
           0.57,
           0.555,
           0.505,
           0.495,
           0.59,
           0.56,
           0.56,
           0.545,
           0.53,
           0.525,
           0.56,
           0.56
          ],
          [
           0.51,
           0.56,
           0.555,
           0.53,
           0.605,
           0.545,
           0.59,
           0.56,
           0.685,
           0.58,
           0.545,
           0.575,
           0.59,
           0.56,
           0.55,
           0.53,
           0.55,
           0.53,
           0.545,
           0.535,
           0.575,
           0.59,
           0.58,
           0.545,
           0.53
          ],
          [
           0.555,
           0.545,
           0.55,
           0.57,
           0.55,
           0.555,
           0.55,
           0.555,
           0.605,
           0.575,
           0.575,
           0.545,
           0.62,
           0.58,
           0.6,
           0.54,
           0.61,
           0.59,
           0.55,
           0.6,
           0.58,
           0.565,
           0.59,
           0.53,
           0.545
          ],
          [
           0.54,
           0.52,
           0.515,
           0.62,
           0.545,
           0.545,
           0.565,
           0.595,
           0.665,
           0.635,
           0.57,
           0.515,
           0.555,
           0.595,
           0.595,
           0.56,
           0.545,
           0.575,
           0.51,
           0.535,
           0.555,
           0.55,
           0.57,
           0.53,
           0.54
          ],
          [
           0.585,
           0.555,
           0.565,
           0.595,
           0.56,
           0.52,
           0.55,
           0.575,
           0.58,
           0.555,
           0.55,
           0.53,
           0.57,
           0.56,
           0.6,
           0.575,
           0.54,
           0.57,
           0.545,
           0.57,
           0.565,
           0.54,
           0.565,
           0.565,
           0.545
          ],
          [
           0.495,
           0.605,
           0.59,
           0.56,
           0.535,
           0.55,
           0.59,
           0.575,
           0.53,
           0.54,
           0.57,
           0.575,
           0.585,
           0.545,
           0.57,
           0.565,
           0.535,
           0.54,
           0.56,
           0.555,
           0.555,
           0.555,
           0.57,
           0.575,
           0.575
          ],
          [
           0.565,
           0.535,
           0.53,
           0.61,
           0.53,
           0.575,
           0.56,
           0.51,
           0.575,
           0.55,
           0.565,
           0.605,
           0.575,
           0.56,
           0.57,
           0.525,
           0.545,
           0.595,
           0.555,
           0.555,
           0.55,
           0.53,
           0.555,
           0.65,
           0.65
          ],
          [
           0.605,
           0.595,
           0.57,
           0.635,
           0.585,
           0.58,
           0.58,
           0.55,
           0.555,
           0.595,
           0.55,
           0.61,
           0.615,
           0.535,
           0.59,
           0.56,
           0.615,
           0.585,
           0.525,
           0.59,
           0.6,
           0.52,
           0.585,
           0.575,
           0.615
          ],
          [
           0.56,
           0.575,
           0.59,
           0.525,
           0.59,
           0.555,
           0.535,
           0.575,
           0.555,
           0.665,
           0.585,
           0.525,
           0.545,
           0.575,
           0.58,
           0.54,
           0.57,
           0.545,
           0.61,
           0.53,
           0.62,
           0.52,
           0.625,
           0.595,
           0.595
          ],
          [
           0.58,
           0.49,
           0.5,
           0.58,
           0.49,
           0.535,
           0.495,
           0.595,
           0.565,
           0.53,
           0.54,
           0.54,
           0.535,
           0.585,
           0.545,
           0.59,
           0.575,
           0.58,
           0.55,
           0.535,
           0.59,
           0.59,
           0.56,
           0.59,
           0.605
          ],
          [
           0.535,
           0.585,
           0.545,
           0.61,
           0.56,
           0.61,
           0.625,
           0.545,
           0.59,
           0.6,
           0.55,
           0.575,
           0.58,
           0.605,
           0.675,
           0.595,
           0.57,
           0.59,
           0.495,
           0.585,
           0.555,
           0.59,
           0.565,
           0.565,
           0.575
          ],
          [
           0.52,
           0.58,
           0.56,
           0.6,
           0.64,
           0.59,
           0.555,
           0.565,
           0.615,
           0.625,
           0.55,
           0.545,
           0.56,
           0.54,
           0.61,
           0.58,
           0.535,
           0.57,
           0.51,
           0.61,
           0.575,
           0.62,
           0.645,
           0.585,
           0.57
          ],
          [
           0.535,
           0.625,
           0.64,
           0.585,
           0.565,
           0.55,
           0.615,
           0.585,
           0.625,
           0.57,
           0.555,
           0.59,
           0.61,
           0.585,
           0.61,
           0.59,
           0.65,
           0.625,
           0.58,
           0.52,
           0.64,
           0.545,
           0.6,
           0.625,
           0.54
          ],
          [
           0.615,
           0.545,
           0.63,
           0.525,
           0.64,
           0.62,
           0.625,
           0.63,
           0.59,
           0.61,
           0.65,
           0.585,
           0.58,
           0.63,
           0.595,
           0.52,
           0.59,
           0.59,
           0.595,
           0.63,
           0.545,
           0.61,
           0.62,
           0.615,
           0.61
          ],
          [
           0.6,
           0.65,
           0.61,
           0.67,
           0.56,
           0.56,
           0.595,
           0.56,
           0.62,
           0.585,
           0.585,
           0.625,
           0.64,
           0.605,
           0.63,
           0.51,
           0.635,
           0.615,
           0.62,
           0.6,
           0.52,
           0.585,
           0.51,
           0.66,
           0.56
          ],
          [
           0.535,
           0.635,
           0.615,
           0.61,
           0.55,
           0.615,
           0.625,
           0.525,
           0.52,
           0.615,
           0.655,
           0.51,
           0.595,
           0.64,
           0.635,
           0.625,
           0.545,
           0.63,
           0.59,
           0.53,
           0.62,
           0.585,
           0.575,
           0.62,
           0.59
          ],
          [
           0.57,
           0.555,
           0.56,
           0.61,
           0.545,
           0.56,
           0.605,
           0.58,
           0.645,
           0.625,
           0.635,
           0.595,
           0.6,
           0.655,
           0.655,
           0.615,
           0.54,
           0.575,
           0.615,
           0.635,
           0.59,
           0.615,
           0.605,
           0.615,
           0.605
          ],
          [
           0.53,
           0.585,
           0.575,
           0.585,
           0.635,
           0.63,
           0.57,
           0.565,
           0.61,
           0.615,
           0.595,
           0.61,
           0.64,
           0.595,
           0.62,
           0.635,
           0.535,
           0.58,
           0.54,
           0.495,
           0.61,
           0.6,
           0.56,
           0.64,
           0.58
          ],
          [
           0.56,
           0.66,
           0.63,
           0.55,
           0.59,
           0.57,
           0.58,
           0.675,
           0.56,
           0.6,
           0.63,
           0.62,
           0.625,
           0.545,
           0.595,
           0.54,
           0.545,
           0.585,
           0.545,
           0.645,
           0.535,
           0.6,
           0.515,
           0.625,
           0.63
          ],
          [
           0.64,
           0.625,
           0.65,
           0.58,
           0.525,
           0.545,
           0.625,
           0.59,
           0.6,
           0.615,
           0.56,
           0.505,
           0.605,
           0.58,
           0.585,
           0.615,
           0.535,
           0.625,
           0.61,
           0.56,
           0.59,
           0.645,
           0.58,
           0.535,
           0.6
          ],
          [
           0.605,
           0.525,
           0.65,
           0.6,
           0.59,
           0.59,
           0.55,
           0.64,
           0.57,
           0.605,
           0.615,
           0.54,
           0.58,
           0.615,
           0.675,
           0.595,
           0.615,
           0.6,
           0.6,
           0.535,
           0.6,
           0.565,
           0.56,
           0.56,
           0.535
          ],
          [
           0.52,
           0.52,
           0.57,
           0.595,
           0.68,
           0.57,
           0.59,
           0.59,
           0.57,
           0.595,
           0.555,
           0.63,
           0.615,
           0.625,
           0.555,
           0.605,
           0.615,
           0.605,
           0.59,
           0.505,
           0.575,
           0.68,
           0.635,
           0.585,
           0.575
          ],
          [
           0.6,
           0.595,
           0.58,
           0.65,
           0.615,
           0.625,
           0.555,
           0.635,
           0.51,
           0.545,
           0.61,
           0.62,
           0.65,
           0.525,
           0.605,
           0.56,
           0.605,
           0.625,
           0.63,
           0.61,
           0.595,
           0.485,
           0.545,
           0.59,
           0.61
          ],
          [
           0.585,
           0.59,
           0.525,
           0.6,
           0.625,
           0.52,
           0.595,
           0.595,
           0.54,
           0.54,
           0.58,
           0.57,
           0.54,
           0.59,
           0.645,
           0.575,
           0.665,
           0.54,
           0.52,
           0.555,
           0.62,
           0.655,
           0.63,
           0.535,
           0.655
          ],
          [
           0.595,
           0.545,
           0.59,
           0.565,
           0.54,
           0.63,
           0.645,
           0.615,
           0.57,
           0.65,
           0.605,
           0.525,
           0.515,
           0.605,
           0.58,
           0.585,
           0.56,
           0.625,
           0.56,
           0.59,
           0.52,
           0.65,
           0.57,
           0.62,
           0.55
          ],
          [
           0.575,
           0.53,
           0.545,
           0.575,
           0.565,
           0.535,
           0.565,
           0.515,
           0.63,
           0.515,
           0.52,
           0.625,
           0.565,
           0.555,
           0.52,
           0.61,
           0.595,
           0.555,
           0.465,
           0.515,
           0.585,
           0.565,
           0.545,
           0.63,
           0.59
          ],
          [
           0.555,
           0.605,
           0.635,
           0.59,
           0.56,
           0.57,
           0.575,
           0.5,
           0.525,
           0.54,
           0.5,
           0.595,
           0.615,
           0.56,
           0.585,
           0.485,
           0.56,
           0.525,
           0.575,
           0.535,
           0.595,
           0.52,
           0.605,
           0.595,
           0.63
          ],
          [
           0.55,
           0.505,
           0.615,
           0.565,
           0.495,
           0.585,
           0.525,
           0.6,
           0.585,
           0.52,
           0.565,
           0.61,
           0.51,
           0.55,
           0.54,
           0.54,
           0.525,
           0.475,
           0.63,
           0.58,
           0.6,
           0.495,
           0.585,
           0.58,
           0.6
          ],
          [
           0.51,
           0.55,
           0.55,
           0.635,
           0.57,
           0.59,
           0.515,
           0.61,
           0.595,
           0.48,
           0.585,
           0.56,
           0.565,
           0.59,
           0.54,
           0.62,
           0.48,
           0.615,
           0.61,
           0.615,
           0.52,
           0.64,
           0.575,
           0.62,
           0.58
          ],
          [
           0.525,
           0.635,
           0.57,
           0.615,
           0.58,
           0.565,
           0.575,
           0.515,
           0.53,
           0.58,
           0.555,
           0.565,
           0.61,
           0.59,
           0.605,
           0.565,
           0.57,
           0.565,
           0.605,
           0.575,
           0.605,
           0.585,
           0.565,
           0.54,
           0.595
          ],
          [
           0.555,
           0.575,
           0.495,
           0.535,
           0.625,
           0.485,
           0.53,
           0.535,
           0.635,
           0.535,
           0.605,
           0.58,
           0.475,
           0.545,
           0.505,
           0.575,
           0.58,
           0.535,
           0.56,
           0.545,
           0.59,
           0.59,
           0.525,
           0.555,
           0.56
          ],
          [
           0.52,
           0.62,
           0.54,
           0.62,
           0.57,
           0.48,
           0.55,
           0.575,
           0.57,
           0.575,
           0.55,
           0.63,
           0.6,
           0.595,
           0.485,
           0.495,
           0.665,
           0.575,
           0.58,
           0.535,
           0.635,
           0.575,
           0.53,
           0.495,
           0.51
          ],
          [
           0.525,
           0.505,
           0.565,
           0.6,
           0.49,
           0.6,
           0.535,
           0.525,
           0.57,
           0.545,
           0.575,
           0.535,
           0.555,
           0.52,
           0.57,
           0.51,
           0.59,
           0.57,
           0.55,
           0.535,
           0.565,
           0.57,
           0.525,
           0.55,
           0.51
          ],
          [
           0.635,
           0.535,
           0.58,
           0.645,
           0.56,
           0.53,
           0.525,
           0.615,
           0.5,
           0.51,
           0.555,
           0.555,
           0.49,
           0.59,
           0.615,
           0.595,
           0.58,
           0.6,
           0.515,
           0.57,
           0.565,
           0.515,
           0.55,
           0.53,
           0.535
          ],
          [
           0.475,
           0.61,
           0.575,
           0.515,
           0.595,
           0.56,
           0.55,
           0.525,
           0.545,
           0.6,
           0.61,
           0.57,
           0.505,
           0.555,
           0.54,
           0.59,
           0.52,
           0.47,
           0.525,
           0.535,
           0.55,
           0.585,
           0.48,
           0.54,
           0.505
          ],
          [
           0.535,
           0.535,
           0.55,
           0.58,
           0.585,
           0.575,
           0.54,
           0.475,
           0.51,
           0.51,
           0.53,
           0.505,
           0.55,
           0.525,
           0.545,
           0.52,
           0.61,
           0.58,
           0.535,
           0.515,
           0.55,
           0.5,
           0.545,
           0.615,
           0.525
          ],
          [
           0.58,
           0.59,
           0.495,
           0.535,
           0.555,
           0.645,
           0.545,
           0.565,
           0.515,
           0.555,
           0.555,
           0.545,
           0.545,
           0.605,
           0.53,
           0.535,
           0.525,
           0.565,
           0.53,
           0.575,
           0.57,
           0.515,
           0.535,
           0.47,
           0.56
          ],
          [
           0.605,
           0.58,
           0.505,
           0.595,
           0.51,
           0.595,
           0.535,
           0.61,
           0.555,
           0.53,
           0.58,
           0.545,
           0.595,
           0.575,
           0.62,
           0.555,
           0.565,
           0.565,
           0.505,
           0.525,
           0.58,
           0.62,
           0.635,
           0.535,
           0.465
          ],
          [
           0.58,
           0.565,
           0.5,
           0.585,
           0.545,
           0.52,
           0.575,
           0.545,
           0.57,
           0.62,
           0.57,
           0.58,
           0.565,
           0.525,
           0.555,
           0.515,
           0.575,
           0.555,
           0.5,
           0.585,
           0.575,
           0.55,
           0.54,
           0.61,
           0.535
          ],
          [
           0.495,
           0.51,
           0.585,
           0.545,
           0.505,
           0.585,
           0.535,
           0.575,
           0.515,
           0.515,
           0.505,
           0.55,
           0.635,
           0.555,
           0.53,
           0.535,
           0.555,
           0.565,
           0.54,
           0.545,
           0.595,
           0.595,
           0.55,
           0.57,
           0.535
          ]
         ]
        }
       ],
       "layout": {
        "coloraxis": {
         "cmid": 0.5,
         "colorscale": [
          [
           0,
           "rgb(255,255,217)"
          ],
          [
           0.125,
           "rgb(237,248,177)"
          ],
          [
           0.25,
           "rgb(199,233,180)"
          ],
          [
           0.375,
           "rgb(127,205,187)"
          ],
          [
           0.5,
           "rgb(65,182,196)"
          ],
          [
           0.625,
           "rgb(29,145,192)"
          ],
          [
           0.75,
           "rgb(34,94,168)"
          ],
          [
           0.875,
           "rgb(37,52,148)"
          ],
          [
           1,
           "rgb(8,29,88)"
          ]
         ]
        },
        "template": {
         "data": {
          "bar": [
           {
            "error_x": {
             "color": "#2a3f5f"
            },
            "error_y": {
             "color": "#2a3f5f"
            },
            "marker": {
             "line": {
              "color": "#E5ECF6",
              "width": 0.5
             },
             "pattern": {
              "fillmode": "overlay",
              "size": 10,
              "solidity": 0.2
             }
            },
            "type": "bar"
           }
          ],
          "barpolar": [
           {
            "marker": {
             "line": {
              "color": "#E5ECF6",
              "width": 0.5
             },
             "pattern": {
              "fillmode": "overlay",
              "size": 10,
              "solidity": 0.2
             }
            },
            "type": "barpolar"
           }
          ],
          "carpet": [
           {
            "aaxis": {
             "endlinecolor": "#2a3f5f",
             "gridcolor": "white",
             "linecolor": "white",
             "minorgridcolor": "white",
             "startlinecolor": "#2a3f5f"
            },
            "baxis": {
             "endlinecolor": "#2a3f5f",
             "gridcolor": "white",
             "linecolor": "white",
             "minorgridcolor": "white",
             "startlinecolor": "#2a3f5f"
            },
            "type": "carpet"
           }
          ],
          "choropleth": [
           {
            "colorbar": {
             "outlinewidth": 0,
             "ticks": ""
            },
            "type": "choropleth"
           }
          ],
          "contour": [
           {
            "colorbar": {
             "outlinewidth": 0,
             "ticks": ""
            },
            "colorscale": [
             [
              0,
              "#0d0887"
             ],
             [
              0.1111111111111111,
              "#46039f"
             ],
             [
              0.2222222222222222,
              "#7201a8"
             ],
             [
              0.3333333333333333,
              "#9c179e"
             ],
             [
              0.4444444444444444,
              "#bd3786"
             ],
             [
              0.5555555555555556,
              "#d8576b"
             ],
             [
              0.6666666666666666,
              "#ed7953"
             ],
             [
              0.7777777777777778,
              "#fb9f3a"
             ],
             [
              0.8888888888888888,
              "#fdca26"
             ],
             [
              1,
              "#f0f921"
             ]
            ],
            "type": "contour"
           }
          ],
          "contourcarpet": [
           {
            "colorbar": {
             "outlinewidth": 0,
             "ticks": ""
            },
            "type": "contourcarpet"
           }
          ],
          "heatmap": [
           {
            "colorbar": {
             "outlinewidth": 0,
             "ticks": ""
            },
            "colorscale": [
             [
              0,
              "#0d0887"
             ],
             [
              0.1111111111111111,
              "#46039f"
             ],
             [
              0.2222222222222222,
              "#7201a8"
             ],
             [
              0.3333333333333333,
              "#9c179e"
             ],
             [
              0.4444444444444444,
              "#bd3786"
             ],
             [
              0.5555555555555556,
              "#d8576b"
             ],
             [
              0.6666666666666666,
              "#ed7953"
             ],
             [
              0.7777777777777778,
              "#fb9f3a"
             ],
             [
              0.8888888888888888,
              "#fdca26"
             ],
             [
              1,
              "#f0f921"
             ]
            ],
            "type": "heatmap"
           }
          ],
          "heatmapgl": [
           {
            "colorbar": {
             "outlinewidth": 0,
             "ticks": ""
            },
            "colorscale": [
             [
              0,
              "#0d0887"
             ],
             [
              0.1111111111111111,
              "#46039f"
             ],
             [
              0.2222222222222222,
              "#7201a8"
             ],
             [
              0.3333333333333333,
              "#9c179e"
             ],
             [
              0.4444444444444444,
              "#bd3786"
             ],
             [
              0.5555555555555556,
              "#d8576b"
             ],
             [
              0.6666666666666666,
              "#ed7953"
             ],
             [
              0.7777777777777778,
              "#fb9f3a"
             ],
             [
              0.8888888888888888,
              "#fdca26"
             ],
             [
              1,
              "#f0f921"
             ]
            ],
            "type": "heatmapgl"
           }
          ],
          "histogram": [
           {
            "marker": {
             "pattern": {
              "fillmode": "overlay",
              "size": 10,
              "solidity": 0.2
             }
            },
            "type": "histogram"
           }
          ],
          "histogram2d": [
           {
            "colorbar": {
             "outlinewidth": 0,
             "ticks": ""
            },
            "colorscale": [
             [
              0,
              "#0d0887"
             ],
             [
              0.1111111111111111,
              "#46039f"
             ],
             [
              0.2222222222222222,
              "#7201a8"
             ],
             [
              0.3333333333333333,
              "#9c179e"
             ],
             [
              0.4444444444444444,
              "#bd3786"
             ],
             [
              0.5555555555555556,
              "#d8576b"
             ],
             [
              0.6666666666666666,
              "#ed7953"
             ],
             [
              0.7777777777777778,
              "#fb9f3a"
             ],
             [
              0.8888888888888888,
              "#fdca26"
             ],
             [
              1,
              "#f0f921"
             ]
            ],
            "type": "histogram2d"
           }
          ],
          "histogram2dcontour": [
           {
            "colorbar": {
             "outlinewidth": 0,
             "ticks": ""
            },
            "colorscale": [
             [
              0,
              "#0d0887"
             ],
             [
              0.1111111111111111,
              "#46039f"
             ],
             [
              0.2222222222222222,
              "#7201a8"
             ],
             [
              0.3333333333333333,
              "#9c179e"
             ],
             [
              0.4444444444444444,
              "#bd3786"
             ],
             [
              0.5555555555555556,
              "#d8576b"
             ],
             [
              0.6666666666666666,
              "#ed7953"
             ],
             [
              0.7777777777777778,
              "#fb9f3a"
             ],
             [
              0.8888888888888888,
              "#fdca26"
             ],
             [
              1,
              "#f0f921"
             ]
            ],
            "type": "histogram2dcontour"
           }
          ],
          "mesh3d": [
           {
            "colorbar": {
             "outlinewidth": 0,
             "ticks": ""
            },
            "type": "mesh3d"
           }
          ],
          "parcoords": [
           {
            "line": {
             "colorbar": {
              "outlinewidth": 0,
              "ticks": ""
             }
            },
            "type": "parcoords"
           }
          ],
          "pie": [
           {
            "automargin": true,
            "type": "pie"
           }
          ],
          "scatter": [
           {
            "fillpattern": {
             "fillmode": "overlay",
             "size": 10,
             "solidity": 0.2
            },
            "type": "scatter"
           }
          ],
          "scatter3d": [
           {
            "line": {
             "colorbar": {
              "outlinewidth": 0,
              "ticks": ""
             }
            },
            "marker": {
             "colorbar": {
              "outlinewidth": 0,
              "ticks": ""
             }
            },
            "type": "scatter3d"
           }
          ],
          "scattercarpet": [
           {
            "marker": {
             "colorbar": {
              "outlinewidth": 0,
              "ticks": ""
             }
            },
            "type": "scattercarpet"
           }
          ],
          "scattergeo": [
           {
            "marker": {
             "colorbar": {
              "outlinewidth": 0,
              "ticks": ""
             }
            },
            "type": "scattergeo"
           }
          ],
          "scattergl": [
           {
            "marker": {
             "colorbar": {
              "outlinewidth": 0,
              "ticks": ""
             }
            },
            "type": "scattergl"
           }
          ],
          "scattermapbox": [
           {
            "marker": {
             "colorbar": {
              "outlinewidth": 0,
              "ticks": ""
             }
            },
            "type": "scattermapbox"
           }
          ],
          "scatterpolar": [
           {
            "marker": {
             "colorbar": {
              "outlinewidth": 0,
              "ticks": ""
             }
            },
            "type": "scatterpolar"
           }
          ],
          "scatterpolargl": [
           {
            "marker": {
             "colorbar": {
              "outlinewidth": 0,
              "ticks": ""
             }
            },
            "type": "scatterpolargl"
           }
          ],
          "scatterternary": [
           {
            "marker": {
             "colorbar": {
              "outlinewidth": 0,
              "ticks": ""
             }
            },
            "type": "scatterternary"
           }
          ],
          "surface": [
           {
            "colorbar": {
             "outlinewidth": 0,
             "ticks": ""
            },
            "colorscale": [
             [
              0,
              "#0d0887"
             ],
             [
              0.1111111111111111,
              "#46039f"
             ],
             [
              0.2222222222222222,
              "#7201a8"
             ],
             [
              0.3333333333333333,
              "#9c179e"
             ],
             [
              0.4444444444444444,
              "#bd3786"
             ],
             [
              0.5555555555555556,
              "#d8576b"
             ],
             [
              0.6666666666666666,
              "#ed7953"
             ],
             [
              0.7777777777777778,
              "#fb9f3a"
             ],
             [
              0.8888888888888888,
              "#fdca26"
             ],
             [
              1,
              "#f0f921"
             ]
            ],
            "type": "surface"
           }
          ],
          "table": [
           {
            "cells": {
             "fill": {
              "color": "#EBF0F8"
             },
             "line": {
              "color": "white"
             }
            },
            "header": {
             "fill": {
              "color": "#C8D4E3"
             },
             "line": {
              "color": "white"
             }
            },
            "type": "table"
           }
          ]
         },
         "layout": {
          "annotationdefaults": {
           "arrowcolor": "#2a3f5f",
           "arrowhead": 0,
           "arrowwidth": 1
          },
          "autotypenumbers": "strict",
          "coloraxis": {
           "colorbar": {
            "outlinewidth": 0,
            "ticks": ""
           }
          },
          "colorscale": {
           "diverging": [
            [
             0,
             "#8e0152"
            ],
            [
             0.1,
             "#c51b7d"
            ],
            [
             0.2,
             "#de77ae"
            ],
            [
             0.3,
             "#f1b6da"
            ],
            [
             0.4,
             "#fde0ef"
            ],
            [
             0.5,
             "#f7f7f7"
            ],
            [
             0.6,
             "#e6f5d0"
            ],
            [
             0.7,
             "#b8e186"
            ],
            [
             0.8,
             "#7fbc41"
            ],
            [
             0.9,
             "#4d9221"
            ],
            [
             1,
             "#276419"
            ]
           ],
           "sequential": [
            [
             0,
             "#0d0887"
            ],
            [
             0.1111111111111111,
             "#46039f"
            ],
            [
             0.2222222222222222,
             "#7201a8"
            ],
            [
             0.3333333333333333,
             "#9c179e"
            ],
            [
             0.4444444444444444,
             "#bd3786"
            ],
            [
             0.5555555555555556,
             "#d8576b"
            ],
            [
             0.6666666666666666,
             "#ed7953"
            ],
            [
             0.7777777777777778,
             "#fb9f3a"
            ],
            [
             0.8888888888888888,
             "#fdca26"
            ],
            [
             1,
             "#f0f921"
            ]
           ],
           "sequentialminus": [
            [
             0,
             "#0d0887"
            ],
            [
             0.1111111111111111,
             "#46039f"
            ],
            [
             0.2222222222222222,
             "#7201a8"
            ],
            [
             0.3333333333333333,
             "#9c179e"
            ],
            [
             0.4444444444444444,
             "#bd3786"
            ],
            [
             0.5555555555555556,
             "#d8576b"
            ],
            [
             0.6666666666666666,
             "#ed7953"
            ],
            [
             0.7777777777777778,
             "#fb9f3a"
            ],
            [
             0.8888888888888888,
             "#fdca26"
            ],
            [
             1,
             "#f0f921"
            ]
           ]
          },
          "colorway": [
           "#636efa",
           "#EF553B",
           "#00cc96",
           "#ab63fa",
           "#FFA15A",
           "#19d3f3",
           "#FF6692",
           "#B6E880",
           "#FF97FF",
           "#FECB52"
          ],
          "font": {
           "color": "#2a3f5f"
          },
          "geo": {
           "bgcolor": "white",
           "lakecolor": "white",
           "landcolor": "#E5ECF6",
           "showlakes": true,
           "showland": true,
           "subunitcolor": "white"
          },
          "hoverlabel": {
           "align": "left"
          },
          "hovermode": "closest",
          "mapbox": {
           "style": "light"
          },
          "paper_bgcolor": "white",
          "plot_bgcolor": "#E5ECF6",
          "polar": {
           "angularaxis": {
            "gridcolor": "white",
            "linecolor": "white",
            "ticks": ""
           },
           "bgcolor": "#E5ECF6",
           "radialaxis": {
            "gridcolor": "white",
            "linecolor": "white",
            "ticks": ""
           }
          },
          "scene": {
           "xaxis": {
            "backgroundcolor": "#E5ECF6",
            "gridcolor": "white",
            "gridwidth": 2,
            "linecolor": "white",
            "showbackground": true,
            "ticks": "",
            "zerolinecolor": "white"
           },
           "yaxis": {
            "backgroundcolor": "#E5ECF6",
            "gridcolor": "white",
            "gridwidth": 2,
            "linecolor": "white",
            "showbackground": true,
            "ticks": "",
            "zerolinecolor": "white"
           },
           "zaxis": {
            "backgroundcolor": "#E5ECF6",
            "gridcolor": "white",
            "gridwidth": 2,
            "linecolor": "white",
            "showbackground": true,
            "ticks": "",
            "zerolinecolor": "white"
           }
          },
          "shapedefaults": {
           "line": {
            "color": "#2a3f5f"
           }
          },
          "ternary": {
           "aaxis": {
            "gridcolor": "white",
            "linecolor": "white",
            "ticks": ""
           },
           "baxis": {
            "gridcolor": "white",
            "linecolor": "white",
            "ticks": ""
           },
           "bgcolor": "#E5ECF6",
           "caxis": {
            "gridcolor": "white",
            "linecolor": "white",
            "ticks": ""
           }
          },
          "title": {
           "x": 0.05
          },
          "xaxis": {
           "automargin": true,
           "gridcolor": "white",
           "linecolor": "white",
           "ticks": "",
           "title": {
            "standoff": 15
           },
           "zerolinecolor": "white",
           "zerolinewidth": 2
          },
          "yaxis": {
           "automargin": true,
           "gridcolor": "white",
           "linecolor": "white",
           "ticks": "",
           "title": {
            "standoff": 15
           },
           "zerolinecolor": "white",
           "zerolinewidth": 2
          }
         }
        },
        "title": {
         "text": "Probe Accuracies"
        },
        "xaxis": {
         "anchor": "y",
         "constrain": "domain",
         "domain": [
          0,
          1
         ],
         "scaleanchor": "y",
         "title": {
          "text": "Heads (sorted)"
         }
        },
        "yaxis": {
         "anchor": "x",
         "autorange": true,
         "constrain": "domain",
         "domain": [
          0,
          1
         ],
         "title": {
          "text": "Layers"
         }
        }
       }
      },
      "text/html": [
       "<div>                            <div id=\"514cc122-5613-4467-8ab0-97cc8372215a\" class=\"plotly-graph-div\" style=\"height:525px; width:100%;\"></div>            <script type=\"text/javascript\">                require([\"plotly\"], function(Plotly) {                    window.PLOTLYENV=window.PLOTLYENV || {};                                    if (document.getElementById(\"514cc122-5613-4467-8ab0-97cc8372215a\")) {                    Plotly.newPlot(                        \"514cc122-5613-4467-8ab0-97cc8372215a\",                        [{\"coloraxis\":\"coloraxis\",\"name\":\"0\",\"z\":[[0.535,0.535,0.535,0.535,0.535,0.535,0.535,0.535,0.535,0.535,0.535,0.535,0.535,0.535,0.535,0.535,0.535,0.535,0.535,0.535,0.535,0.545,0.535,0.535,0.535],[0.575,0.595,0.575,0.53,0.52,0.51,0.53,0.62,0.56,0.525,0.51,0.545,0.57,0.525,0.535,0.56,0.57,0.535,0.56,0.57,0.555,0.55,0.535,0.525,0.555],[0.54,0.54,0.535,0.53,0.56,0.57,0.53,0.535,0.58,0.545,0.56,0.565,0.53,0.555,0.525,0.485,0.525,0.545,0.605,0.59,0.535,0.545,0.565,0.575,0.53],[0.56,0.57,0.54,0.545,0.555,0.52,0.56,0.535,0.59,0.525,0.53,0.535,0.525,0.585,0.54,0.6,0.535,0.48,0.6,0.53,0.545,0.535,0.52,0.575,0.6],[0.515,0.545,0.56,0.515,0.605,0.52,0.58,0.615,0.6,0.57,0.59,0.535,0.55,0.54,0.565,0.565,0.545,0.585,0.57,0.52,0.565,0.575,0.57,0.55,0.565],[0.57,0.53,0.515,0.58,0.535,0.52,0.605,0.58,0.57,0.525,0.545,0.555,0.56,0.525,0.575,0.565,0.57,0.56,0.545,0.605,0.57,0.545,0.5,0.55,0.54],[0.535,0.55,0.62,0.585,0.53,0.55,0.55,0.505,0.575,0.575,0.51,0.535,0.54,0.535,0.555,0.535,0.575,0.605,0.625,0.525,0.56,0.565,0.545,0.595,0.58],[0.54,0.55,0.55,0.56,0.62,0.525,0.565,0.585,0.6,0.535,0.51,0.535,0.535,0.57,0.66,0.535,0.56,0.55,0.615,0.53,0.545,0.57,0.57,0.62,0.505],[0.545,0.495,0.56,0.58,0.535,0.54,0.535,0.555,0.61,0.535,0.545,0.595,0.53,0.57,0.555,0.505,0.495,0.59,0.56,0.56,0.545,0.53,0.525,0.56,0.56],[0.51,0.56,0.555,0.53,0.605,0.545,0.59,0.56,0.685,0.58,0.545,0.575,0.59,0.56,0.55,0.53,0.55,0.53,0.545,0.535,0.575,0.59,0.58,0.545,0.53],[0.555,0.545,0.55,0.57,0.55,0.555,0.55,0.555,0.605,0.575,0.575,0.545,0.62,0.58,0.6,0.54,0.61,0.59,0.55,0.6,0.58,0.565,0.59,0.53,0.545],[0.54,0.52,0.515,0.62,0.545,0.545,0.565,0.595,0.665,0.635,0.57,0.515,0.555,0.595,0.595,0.56,0.545,0.575,0.51,0.535,0.555,0.55,0.57,0.53,0.54],[0.585,0.555,0.565,0.595,0.56,0.52,0.55,0.575,0.58,0.555,0.55,0.53,0.57,0.56,0.6,0.575,0.54,0.57,0.545,0.57,0.565,0.54,0.565,0.565,0.545],[0.495,0.605,0.59,0.56,0.535,0.55,0.59,0.575,0.53,0.54,0.57,0.575,0.585,0.545,0.57,0.565,0.535,0.54,0.56,0.555,0.555,0.555,0.57,0.575,0.575],[0.565,0.535,0.53,0.61,0.53,0.575,0.56,0.51,0.575,0.55,0.565,0.605,0.575,0.56,0.57,0.525,0.545,0.595,0.555,0.555,0.55,0.53,0.555,0.65,0.65],[0.605,0.595,0.57,0.635,0.585,0.58,0.58,0.55,0.555,0.595,0.55,0.61,0.615,0.535,0.59,0.56,0.615,0.585,0.525,0.59,0.6,0.52,0.585,0.575,0.615],[0.56,0.575,0.59,0.525,0.59,0.555,0.535,0.575,0.555,0.665,0.585,0.525,0.545,0.575,0.58,0.54,0.57,0.545,0.61,0.53,0.62,0.52,0.625,0.595,0.595],[0.58,0.49,0.5,0.58,0.49,0.535,0.495,0.595,0.565,0.53,0.54,0.54,0.535,0.585,0.545,0.59,0.575,0.58,0.55,0.535,0.59,0.59,0.56,0.59,0.605],[0.535,0.585,0.545,0.61,0.56,0.61,0.625,0.545,0.59,0.6,0.55,0.575,0.58,0.605,0.675,0.595,0.57,0.59,0.495,0.585,0.555,0.59,0.565,0.565,0.575],[0.52,0.58,0.56,0.6,0.64,0.59,0.555,0.565,0.615,0.625,0.55,0.545,0.56,0.54,0.61,0.58,0.535,0.57,0.51,0.61,0.575,0.62,0.645,0.585,0.57],[0.535,0.625,0.64,0.585,0.565,0.55,0.615,0.585,0.625,0.57,0.555,0.59,0.61,0.585,0.61,0.59,0.65,0.625,0.58,0.52,0.64,0.545,0.6,0.625,0.54],[0.615,0.545,0.63,0.525,0.64,0.62,0.625,0.63,0.59,0.61,0.65,0.585,0.58,0.63,0.595,0.52,0.59,0.59,0.595,0.63,0.545,0.61,0.62,0.615,0.61],[0.6,0.65,0.61,0.67,0.56,0.56,0.595,0.56,0.62,0.585,0.585,0.625,0.64,0.605,0.63,0.51,0.635,0.615,0.62,0.6,0.52,0.585,0.51,0.66,0.56],[0.535,0.635,0.615,0.61,0.55,0.615,0.625,0.525,0.52,0.615,0.655,0.51,0.595,0.64,0.635,0.625,0.545,0.63,0.59,0.53,0.62,0.585,0.575,0.62,0.59],[0.57,0.555,0.56,0.61,0.545,0.56,0.605,0.58,0.645,0.625,0.635,0.595,0.6,0.655,0.655,0.615,0.54,0.575,0.615,0.635,0.59,0.615,0.605,0.615,0.605],[0.53,0.585,0.575,0.585,0.635,0.63,0.57,0.565,0.61,0.615,0.595,0.61,0.64,0.595,0.62,0.635,0.535,0.58,0.54,0.495,0.61,0.6,0.56,0.64,0.58],[0.56,0.66,0.63,0.55,0.59,0.57,0.58,0.675,0.56,0.6,0.63,0.62,0.625,0.545,0.595,0.54,0.545,0.585,0.545,0.645,0.535,0.6,0.515,0.625,0.63],[0.64,0.625,0.65,0.58,0.525,0.545,0.625,0.59,0.6,0.615,0.56,0.505,0.605,0.58,0.585,0.615,0.535,0.625,0.61,0.56,0.59,0.645,0.58,0.535,0.6],[0.605,0.525,0.65,0.6,0.59,0.59,0.55,0.64,0.57,0.605,0.615,0.54,0.58,0.615,0.675,0.595,0.615,0.6,0.6,0.535,0.6,0.565,0.56,0.56,0.535],[0.52,0.52,0.57,0.595,0.68,0.57,0.59,0.59,0.57,0.595,0.555,0.63,0.615,0.625,0.555,0.605,0.615,0.605,0.59,0.505,0.575,0.68,0.635,0.585,0.575],[0.6,0.595,0.58,0.65,0.615,0.625,0.555,0.635,0.51,0.545,0.61,0.62,0.65,0.525,0.605,0.56,0.605,0.625,0.63,0.61,0.595,0.485,0.545,0.59,0.61],[0.585,0.59,0.525,0.6,0.625,0.52,0.595,0.595,0.54,0.54,0.58,0.57,0.54,0.59,0.645,0.575,0.665,0.54,0.52,0.555,0.62,0.655,0.63,0.535,0.655],[0.595,0.545,0.59,0.565,0.54,0.63,0.645,0.615,0.57,0.65,0.605,0.525,0.515,0.605,0.58,0.585,0.56,0.625,0.56,0.59,0.52,0.65,0.57,0.62,0.55],[0.575,0.53,0.545,0.575,0.565,0.535,0.565,0.515,0.63,0.515,0.52,0.625,0.565,0.555,0.52,0.61,0.595,0.555,0.465,0.515,0.585,0.565,0.545,0.63,0.59],[0.555,0.605,0.635,0.59,0.56,0.57,0.575,0.5,0.525,0.54,0.5,0.595,0.615,0.56,0.585,0.485,0.56,0.525,0.575,0.535,0.595,0.52,0.605,0.595,0.63],[0.55,0.505,0.615,0.565,0.495,0.585,0.525,0.6,0.585,0.52,0.565,0.61,0.51,0.55,0.54,0.54,0.525,0.475,0.63,0.58,0.6,0.495,0.585,0.58,0.6],[0.51,0.55,0.55,0.635,0.57,0.59,0.515,0.61,0.595,0.48,0.585,0.56,0.565,0.59,0.54,0.62,0.48,0.615,0.61,0.615,0.52,0.64,0.575,0.62,0.58],[0.525,0.635,0.57,0.615,0.58,0.565,0.575,0.515,0.53,0.58,0.555,0.565,0.61,0.59,0.605,0.565,0.57,0.565,0.605,0.575,0.605,0.585,0.565,0.54,0.595],[0.555,0.575,0.495,0.535,0.625,0.485,0.53,0.535,0.635,0.535,0.605,0.58,0.475,0.545,0.505,0.575,0.58,0.535,0.56,0.545,0.59,0.59,0.525,0.555,0.56],[0.52,0.62,0.54,0.62,0.57,0.48,0.55,0.575,0.57,0.575,0.55,0.63,0.6,0.595,0.485,0.495,0.665,0.575,0.58,0.535,0.635,0.575,0.53,0.495,0.51],[0.525,0.505,0.565,0.6,0.49,0.6,0.535,0.525,0.57,0.545,0.575,0.535,0.555,0.52,0.57,0.51,0.59,0.57,0.55,0.535,0.565,0.57,0.525,0.55,0.51],[0.635,0.535,0.58,0.645,0.56,0.53,0.525,0.615,0.5,0.51,0.555,0.555,0.49,0.59,0.615,0.595,0.58,0.6,0.515,0.57,0.565,0.515,0.55,0.53,0.535],[0.475,0.61,0.575,0.515,0.595,0.56,0.55,0.525,0.545,0.6,0.61,0.57,0.505,0.555,0.54,0.59,0.52,0.47,0.525,0.535,0.55,0.585,0.48,0.54,0.505],[0.535,0.535,0.55,0.58,0.585,0.575,0.54,0.475,0.51,0.51,0.53,0.505,0.55,0.525,0.545,0.52,0.61,0.58,0.535,0.515,0.55,0.5,0.545,0.615,0.525],[0.58,0.59,0.495,0.535,0.555,0.645,0.545,0.565,0.515,0.555,0.555,0.545,0.545,0.605,0.53,0.535,0.525,0.565,0.53,0.575,0.57,0.515,0.535,0.47,0.56],[0.605,0.58,0.505,0.595,0.51,0.595,0.535,0.61,0.555,0.53,0.58,0.545,0.595,0.575,0.62,0.555,0.565,0.565,0.505,0.525,0.58,0.62,0.635,0.535,0.465],[0.58,0.565,0.5,0.585,0.545,0.52,0.575,0.545,0.57,0.62,0.57,0.58,0.565,0.525,0.555,0.515,0.575,0.555,0.5,0.585,0.575,0.55,0.54,0.61,0.535],[0.495,0.51,0.585,0.545,0.505,0.585,0.535,0.575,0.515,0.515,0.505,0.55,0.635,0.555,0.53,0.535,0.555,0.565,0.54,0.545,0.595,0.595,0.55,0.57,0.535]],\"type\":\"heatmap\",\"xaxis\":\"x\",\"yaxis\":\"y\",\"hovertemplate\":\"Heads (sorted): %{x}\\u003cbr\\u003eLayers: %{y}\\u003cbr\\u003ecolor: %{z}\\u003cextra\\u003e\\u003c\\u002fextra\\u003e\"}],                        {\"template\":{\"data\":{\"histogram2dcontour\":[{\"type\":\"histogram2dcontour\",\"colorbar\":{\"outlinewidth\":0,\"ticks\":\"\"},\"colorscale\":[[0.0,\"#0d0887\"],[0.1111111111111111,\"#46039f\"],[0.2222222222222222,\"#7201a8\"],[0.3333333333333333,\"#9c179e\"],[0.4444444444444444,\"#bd3786\"],[0.5555555555555556,\"#d8576b\"],[0.6666666666666666,\"#ed7953\"],[0.7777777777777778,\"#fb9f3a\"],[0.8888888888888888,\"#fdca26\"],[1.0,\"#f0f921\"]]}],\"choropleth\":[{\"type\":\"choropleth\",\"colorbar\":{\"outlinewidth\":0,\"ticks\":\"\"}}],\"histogram2d\":[{\"type\":\"histogram2d\",\"colorbar\":{\"outlinewidth\":0,\"ticks\":\"\"},\"colorscale\":[[0.0,\"#0d0887\"],[0.1111111111111111,\"#46039f\"],[0.2222222222222222,\"#7201a8\"],[0.3333333333333333,\"#9c179e\"],[0.4444444444444444,\"#bd3786\"],[0.5555555555555556,\"#d8576b\"],[0.6666666666666666,\"#ed7953\"],[0.7777777777777778,\"#fb9f3a\"],[0.8888888888888888,\"#fdca26\"],[1.0,\"#f0f921\"]]}],\"heatmap\":[{\"type\":\"heatmap\",\"colorbar\":{\"outlinewidth\":0,\"ticks\":\"\"},\"colorscale\":[[0.0,\"#0d0887\"],[0.1111111111111111,\"#46039f\"],[0.2222222222222222,\"#7201a8\"],[0.3333333333333333,\"#9c179e\"],[0.4444444444444444,\"#bd3786\"],[0.5555555555555556,\"#d8576b\"],[0.6666666666666666,\"#ed7953\"],[0.7777777777777778,\"#fb9f3a\"],[0.8888888888888888,\"#fdca26\"],[1.0,\"#f0f921\"]]}],\"heatmapgl\":[{\"type\":\"heatmapgl\",\"colorbar\":{\"outlinewidth\":0,\"ticks\":\"\"},\"colorscale\":[[0.0,\"#0d0887\"],[0.1111111111111111,\"#46039f\"],[0.2222222222222222,\"#7201a8\"],[0.3333333333333333,\"#9c179e\"],[0.4444444444444444,\"#bd3786\"],[0.5555555555555556,\"#d8576b\"],[0.6666666666666666,\"#ed7953\"],[0.7777777777777778,\"#fb9f3a\"],[0.8888888888888888,\"#fdca26\"],[1.0,\"#f0f921\"]]}],\"contourcarpet\":[{\"type\":\"contourcarpet\",\"colorbar\":{\"outlinewidth\":0,\"ticks\":\"\"}}],\"contour\":[{\"type\":\"contour\",\"colorbar\":{\"outlinewidth\":0,\"ticks\":\"\"},\"colorscale\":[[0.0,\"#0d0887\"],[0.1111111111111111,\"#46039f\"],[0.2222222222222222,\"#7201a8\"],[0.3333333333333333,\"#9c179e\"],[0.4444444444444444,\"#bd3786\"],[0.5555555555555556,\"#d8576b\"],[0.6666666666666666,\"#ed7953\"],[0.7777777777777778,\"#fb9f3a\"],[0.8888888888888888,\"#fdca26\"],[1.0,\"#f0f921\"]]}],\"surface\":[{\"type\":\"surface\",\"colorbar\":{\"outlinewidth\":0,\"ticks\":\"\"},\"colorscale\":[[0.0,\"#0d0887\"],[0.1111111111111111,\"#46039f\"],[0.2222222222222222,\"#7201a8\"],[0.3333333333333333,\"#9c179e\"],[0.4444444444444444,\"#bd3786\"],[0.5555555555555556,\"#d8576b\"],[0.6666666666666666,\"#ed7953\"],[0.7777777777777778,\"#fb9f3a\"],[0.8888888888888888,\"#fdca26\"],[1.0,\"#f0f921\"]]}],\"mesh3d\":[{\"type\":\"mesh3d\",\"colorbar\":{\"outlinewidth\":0,\"ticks\":\"\"}}],\"scatter\":[{\"fillpattern\":{\"fillmode\":\"overlay\",\"size\":10,\"solidity\":0.2},\"type\":\"scatter\"}],\"parcoords\":[{\"type\":\"parcoords\",\"line\":{\"colorbar\":{\"outlinewidth\":0,\"ticks\":\"\"}}}],\"scatterpolargl\":[{\"type\":\"scatterpolargl\",\"marker\":{\"colorbar\":{\"outlinewidth\":0,\"ticks\":\"\"}}}],\"bar\":[{\"error_x\":{\"color\":\"#2a3f5f\"},\"error_y\":{\"color\":\"#2a3f5f\"},\"marker\":{\"line\":{\"color\":\"#E5ECF6\",\"width\":0.5},\"pattern\":{\"fillmode\":\"overlay\",\"size\":10,\"solidity\":0.2}},\"type\":\"bar\"}],\"scattergeo\":[{\"type\":\"scattergeo\",\"marker\":{\"colorbar\":{\"outlinewidth\":0,\"ticks\":\"\"}}}],\"scatterpolar\":[{\"type\":\"scatterpolar\",\"marker\":{\"colorbar\":{\"outlinewidth\":0,\"ticks\":\"\"}}}],\"histogram\":[{\"marker\":{\"pattern\":{\"fillmode\":\"overlay\",\"size\":10,\"solidity\":0.2}},\"type\":\"histogram\"}],\"scattergl\":[{\"type\":\"scattergl\",\"marker\":{\"colorbar\":{\"outlinewidth\":0,\"ticks\":\"\"}}}],\"scatter3d\":[{\"type\":\"scatter3d\",\"line\":{\"colorbar\":{\"outlinewidth\":0,\"ticks\":\"\"}},\"marker\":{\"colorbar\":{\"outlinewidth\":0,\"ticks\":\"\"}}}],\"scattermapbox\":[{\"type\":\"scattermapbox\",\"marker\":{\"colorbar\":{\"outlinewidth\":0,\"ticks\":\"\"}}}],\"scatterternary\":[{\"type\":\"scatterternary\",\"marker\":{\"colorbar\":{\"outlinewidth\":0,\"ticks\":\"\"}}}],\"scattercarpet\":[{\"type\":\"scattercarpet\",\"marker\":{\"colorbar\":{\"outlinewidth\":0,\"ticks\":\"\"}}}],\"carpet\":[{\"aaxis\":{\"endlinecolor\":\"#2a3f5f\",\"gridcolor\":\"white\",\"linecolor\":\"white\",\"minorgridcolor\":\"white\",\"startlinecolor\":\"#2a3f5f\"},\"baxis\":{\"endlinecolor\":\"#2a3f5f\",\"gridcolor\":\"white\",\"linecolor\":\"white\",\"minorgridcolor\":\"white\",\"startlinecolor\":\"#2a3f5f\"},\"type\":\"carpet\"}],\"table\":[{\"cells\":{\"fill\":{\"color\":\"#EBF0F8\"},\"line\":{\"color\":\"white\"}},\"header\":{\"fill\":{\"color\":\"#C8D4E3\"},\"line\":{\"color\":\"white\"}},\"type\":\"table\"}],\"barpolar\":[{\"marker\":{\"line\":{\"color\":\"#E5ECF6\",\"width\":0.5},\"pattern\":{\"fillmode\":\"overlay\",\"size\":10,\"solidity\":0.2}},\"type\":\"barpolar\"}],\"pie\":[{\"automargin\":true,\"type\":\"pie\"}]},\"layout\":{\"autotypenumbers\":\"strict\",\"colorway\":[\"#636efa\",\"#EF553B\",\"#00cc96\",\"#ab63fa\",\"#FFA15A\",\"#19d3f3\",\"#FF6692\",\"#B6E880\",\"#FF97FF\",\"#FECB52\"],\"font\":{\"color\":\"#2a3f5f\"},\"hovermode\":\"closest\",\"hoverlabel\":{\"align\":\"left\"},\"paper_bgcolor\":\"white\",\"plot_bgcolor\":\"#E5ECF6\",\"polar\":{\"bgcolor\":\"#E5ECF6\",\"angularaxis\":{\"gridcolor\":\"white\",\"linecolor\":\"white\",\"ticks\":\"\"},\"radialaxis\":{\"gridcolor\":\"white\",\"linecolor\":\"white\",\"ticks\":\"\"}},\"ternary\":{\"bgcolor\":\"#E5ECF6\",\"aaxis\":{\"gridcolor\":\"white\",\"linecolor\":\"white\",\"ticks\":\"\"},\"baxis\":{\"gridcolor\":\"white\",\"linecolor\":\"white\",\"ticks\":\"\"},\"caxis\":{\"gridcolor\":\"white\",\"linecolor\":\"white\",\"ticks\":\"\"}},\"coloraxis\":{\"colorbar\":{\"outlinewidth\":0,\"ticks\":\"\"}},\"colorscale\":{\"sequential\":[[0.0,\"#0d0887\"],[0.1111111111111111,\"#46039f\"],[0.2222222222222222,\"#7201a8\"],[0.3333333333333333,\"#9c179e\"],[0.4444444444444444,\"#bd3786\"],[0.5555555555555556,\"#d8576b\"],[0.6666666666666666,\"#ed7953\"],[0.7777777777777778,\"#fb9f3a\"],[0.8888888888888888,\"#fdca26\"],[1.0,\"#f0f921\"]],\"sequentialminus\":[[0.0,\"#0d0887\"],[0.1111111111111111,\"#46039f\"],[0.2222222222222222,\"#7201a8\"],[0.3333333333333333,\"#9c179e\"],[0.4444444444444444,\"#bd3786\"],[0.5555555555555556,\"#d8576b\"],[0.6666666666666666,\"#ed7953\"],[0.7777777777777778,\"#fb9f3a\"],[0.8888888888888888,\"#fdca26\"],[1.0,\"#f0f921\"]],\"diverging\":[[0,\"#8e0152\"],[0.1,\"#c51b7d\"],[0.2,\"#de77ae\"],[0.3,\"#f1b6da\"],[0.4,\"#fde0ef\"],[0.5,\"#f7f7f7\"],[0.6,\"#e6f5d0\"],[0.7,\"#b8e186\"],[0.8,\"#7fbc41\"],[0.9,\"#4d9221\"],[1,\"#276419\"]]},\"xaxis\":{\"gridcolor\":\"white\",\"linecolor\":\"white\",\"ticks\":\"\",\"title\":{\"standoff\":15},\"zerolinecolor\":\"white\",\"automargin\":true,\"zerolinewidth\":2},\"yaxis\":{\"gridcolor\":\"white\",\"linecolor\":\"white\",\"ticks\":\"\",\"title\":{\"standoff\":15},\"zerolinecolor\":\"white\",\"automargin\":true,\"zerolinewidth\":2},\"scene\":{\"xaxis\":{\"backgroundcolor\":\"#E5ECF6\",\"gridcolor\":\"white\",\"linecolor\":\"white\",\"showbackground\":true,\"ticks\":\"\",\"zerolinecolor\":\"white\",\"gridwidth\":2},\"yaxis\":{\"backgroundcolor\":\"#E5ECF6\",\"gridcolor\":\"white\",\"linecolor\":\"white\",\"showbackground\":true,\"ticks\":\"\",\"zerolinecolor\":\"white\",\"gridwidth\":2},\"zaxis\":{\"backgroundcolor\":\"#E5ECF6\",\"gridcolor\":\"white\",\"linecolor\":\"white\",\"showbackground\":true,\"ticks\":\"\",\"zerolinecolor\":\"white\",\"gridwidth\":2}},\"shapedefaults\":{\"line\":{\"color\":\"#2a3f5f\"}},\"annotationdefaults\":{\"arrowcolor\":\"#2a3f5f\",\"arrowhead\":0,\"arrowwidth\":1},\"geo\":{\"bgcolor\":\"white\",\"landcolor\":\"#E5ECF6\",\"subunitcolor\":\"white\",\"showland\":true,\"showlakes\":true,\"lakecolor\":\"white\"},\"title\":{\"x\":0.05},\"mapbox\":{\"style\":\"light\"}}},\"xaxis\":{\"anchor\":\"y\",\"domain\":[0.0,1.0],\"scaleanchor\":\"y\",\"constrain\":\"domain\",\"title\":{\"text\":\"Heads (sorted)\"}},\"yaxis\":{\"anchor\":\"x\",\"domain\":[0.0,1.0],\"autorange\":true,\"constrain\":\"domain\",\"title\":{\"text\":\"Layers\"}},\"coloraxis\":{\"colorscale\":[[0.0,\"rgb(255,255,217)\"],[0.125,\"rgb(237,248,177)\"],[0.25,\"rgb(199,233,180)\"],[0.375,\"rgb(127,205,187)\"],[0.5,\"rgb(65,182,196)\"],[0.625,\"rgb(29,145,192)\"],[0.75,\"rgb(34,94,168)\"],[0.875,\"rgb(37,52,148)\"],[1.0,\"rgb(8,29,88)\"]],\"cmid\":0.5},\"title\":{\"text\":\"Probe Accuracies\"}},                        {\"responsive\": true}                    ).then(function(){\n",
       "                            \n",
       "var gd = document.getElementById('514cc122-5613-4467-8ab0-97cc8372215a');\n",
       "var x = new MutationObserver(function (mutations, observer) {{\n",
       "        var display = window.getComputedStyle(gd).display;\n",
       "        if (!display || display === 'none') {{\n",
       "            console.log([gd, 'removed!']);\n",
       "            Plotly.purge(gd);\n",
       "            observer.disconnect();\n",
       "        }}\n",
       "}});\n",
       "\n",
       "// Listen for the removal of the full notebook cells\n",
       "var notebookContainer = gd.closest('#notebook-container');\n",
       "if (notebookContainer) {{\n",
       "    x.observe(notebookContainer, {childList: true});\n",
       "}}\n",
       "\n",
       "// Listen for the clearing of the current output cell\n",
       "var outputEl = gd.closest('.output');\n",
       "if (outputEl) {{\n",
       "    x.observe(outputEl, {childList: true});\n",
       "}}\n",
       "\n",
       "                        })                };                });            </script>        </div>"
      ]
     },
     "metadata": {},
     "output_type": "display_data"
    },
    {
     "data": {
      "application/vnd.plotly.v1+json": {
       "config": {
        "plotlyServerURL": "https://plot.ly"
       },
       "data": [
        {
         "coloraxis": "coloraxis",
         "hovertemplate": "Heads (sorted): %{x}<br>Layers: %{y}<br>color: %{z}<extra></extra>",
         "name": "0",
         "type": "heatmap",
         "xaxis": "x",
         "yaxis": "y",
         "z": [
          [
           0.64,
           0.64,
           0.64,
           0.64,
           0.64,
           0.64,
           0.64,
           0.64,
           0.645,
           0.64,
           0.64,
           0.64,
           0.64,
           0.64,
           0.64,
           0.64,
           0.64,
           0.64,
           0.64,
           0.64,
           0.64,
           0.65,
           0.64,
           0.64,
           0.64
          ],
          [
           0.645,
           0.665,
           0.625,
           0.675,
           0.645,
           0.68,
           0.685,
           0.695,
           0.67,
           0.675,
           0.68,
           0.64,
           0.665,
           0.645,
           0.66,
           0.665,
           0.65,
           0.65,
           0.66,
           0.645,
           0.645,
           0.675,
           0.675,
           0.68,
           0.64
          ],
          [
           0.66,
           0.665,
           0.67,
           0.685,
           0.685,
           0.645,
           0.68,
           0.67,
           0.65,
           0.66,
           0.685,
           0.665,
           0.685,
           0.675,
           0.655,
           0.645,
           0.685,
           0.685,
           0.675,
           0.665,
           0.655,
           0.64,
           0.635,
           0.655,
           0.65
          ],
          [
           0.69,
           0.675,
           0.67,
           0.675,
           0.715,
           0.67,
           0.665,
           0.63,
           0.665,
           0.67,
           0.645,
           0.705,
           0.67,
           0.685,
           0.66,
           0.645,
           0.66,
           0.65,
           0.645,
           0.67,
           0.68,
           0.67,
           0.645,
           0.69,
           0.665
          ],
          [
           0.655,
           0.64,
           0.675,
           0.685,
           0.66,
           0.67,
           0.665,
           0.68,
           0.705,
           0.69,
           0.68,
           0.67,
           0.705,
           0.675,
           0.715,
           0.66,
           0.68,
           0.66,
           0.65,
           0.63,
           0.675,
           0.68,
           0.665,
           0.645,
           0.645
          ],
          [
           0.65,
           0.66,
           0.665,
           0.68,
           0.675,
           0.68,
           0.665,
           0.695,
           0.66,
           0.665,
           0.665,
           0.68,
           0.67,
           0.675,
           0.685,
           0.665,
           0.685,
           0.69,
           0.69,
           0.67,
           0.665,
           0.66,
           0.645,
           0.71,
           0.66
          ],
          [
           0.67,
           0.655,
           0.675,
           0.69,
           0.635,
           0.65,
           0.645,
           0.65,
           0.665,
           0.625,
           0.66,
           0.66,
           0.7,
           0.64,
           0.67,
           0.67,
           0.67,
           0.665,
           0.695,
           0.71,
           0.695,
           0.64,
           0.655,
           0.675,
           0.685
          ],
          [
           0.675,
           0.645,
           0.68,
           0.665,
           0.695,
           0.645,
           0.68,
           0.695,
           0.67,
           0.685,
           0.675,
           0.685,
           0.66,
           0.645,
           0.69,
           0.675,
           0.685,
           0.645,
           0.685,
           0.665,
           0.645,
           0.66,
           0.67,
           0.73,
           0.66
          ],
          [
           0.66,
           0.68,
           0.65,
           0.645,
           0.665,
           0.66,
           0.63,
           0.675,
           0.74,
           0.65,
           0.675,
           0.665,
           0.66,
           0.655,
           0.72,
           0.665,
           0.69,
           0.695,
           0.655,
           0.645,
           0.665,
           0.64,
           0.65,
           0.66,
           0.655
          ],
          [
           0.65,
           0.67,
           0.665,
           0.685,
           0.66,
           0.66,
           0.69,
           0.665,
           0.735,
           0.675,
           0.655,
           0.68,
           0.665,
           0.68,
           0.65,
           0.655,
           0.65,
           0.665,
           0.665,
           0.66,
           0.64,
           0.69,
           0.655,
           0.675,
           0.675
          ],
          [
           0.635,
           0.685,
           0.675,
           0.68,
           0.665,
           0.64,
           0.655,
           0.66,
           0.685,
           0.705,
           0.71,
           0.655,
           0.68,
           0.65,
           0.685,
           0.64,
           0.71,
           0.675,
           0.68,
           0.665,
           0.67,
           0.645,
           0.665,
           0.65,
           0.645
          ],
          [
           0.67,
           0.66,
           0.665,
           0.7,
           0.675,
           0.705,
           0.64,
           0.685,
           0.745,
           0.695,
           0.685,
           0.705,
           0.725,
           0.695,
           0.745,
           0.645,
           0.645,
           0.64,
           0.67,
           0.68,
           0.665,
           0.64,
           0.68,
           0.675,
           0.695
          ],
          [
           0.66,
           0.69,
           0.64,
           0.685,
           0.74,
           0.65,
           0.65,
           0.66,
           0.695,
           0.705,
           0.675,
           0.64,
           0.67,
           0.655,
           0.72,
           0.68,
           0.68,
           0.64,
           0.67,
           0.685,
           0.65,
           0.665,
           0.685,
           0.675,
           0.635
          ],
          [
           0.645,
           0.67,
           0.685,
           0.665,
           0.64,
           0.7,
           0.66,
           0.695,
           0.68,
           0.655,
           0.69,
           0.695,
           0.64,
           0.64,
           0.675,
           0.67,
           0.65,
           0.66,
           0.66,
           0.67,
           0.695,
           0.71,
           0.675,
           0.665,
           0.685
          ],
          [
           0.69,
           0.64,
           0.66,
           0.705,
           0.725,
           0.665,
           0.71,
           0.68,
           0.695,
           0.665,
           0.695,
           0.71,
           0.69,
           0.695,
           0.685,
           0.64,
           0.695,
           0.73,
           0.675,
           0.645,
           0.735,
           0.715,
           0.69,
           0.71,
           0.73
          ],
          [
           0.695,
           0.71,
           0.69,
           0.705,
           0.675,
           0.67,
           0.675,
           0.68,
           0.73,
           0.685,
           0.69,
           0.715,
           0.69,
           0.64,
           0.71,
           0.7,
           0.7,
           0.68,
           0.665,
           0.685,
           0.72,
           0.735,
           0.675,
           0.645,
           0.65
          ],
          [
           0.655,
           0.665,
           0.675,
           0.645,
           0.695,
           0.665,
           0.64,
           0.705,
           0.685,
           0.74,
           0.645,
           0.64,
           0.645,
           0.655,
           0.705,
           0.665,
           0.685,
           0.685,
           0.78,
           0.64,
           0.71,
           0.645,
           0.715,
           0.725,
           0.685
          ],
          [
           0.715,
           0.65,
           0.655,
           0.645,
           0.64,
           0.675,
           0.64,
           0.7,
           0.68,
           0.64,
           0.67,
           0.64,
           0.64,
           0.67,
           0.64,
           0.655,
           0.67,
           0.66,
           0.64,
           0.64,
           0.68,
           0.745,
           0.64,
           0.645,
           0.705
          ],
          [
           0.64,
           0.7,
           0.705,
           0.705,
           0.72,
           0.71,
           0.725,
           0.64,
           0.72,
           0.685,
           0.75,
           0.68,
           0.72,
           0.75,
           0.695,
           0.705,
           0.69,
           0.7,
           0.65,
           0.685,
           0.655,
           0.705,
           0.705,
           0.705,
           0.705
          ],
          [
           0.715,
           0.68,
           0.685,
           0.685,
           0.735,
           0.665,
           0.73,
           0.715,
           0.675,
           0.69,
           0.69,
           0.665,
           0.665,
           0.64,
           0.72,
           0.675,
           0.67,
           0.655,
           0.645,
           0.73,
           0.705,
           0.67,
           0.715,
           0.73,
           0.745
          ],
          [
           0.64,
           0.72,
           0.74,
           0.69,
           0.72,
           0.63,
           0.685,
           0.69,
           0.745,
           0.72,
           0.64,
           0.685,
           0.72,
           0.735,
           0.7,
           0.73,
           0.745,
           0.7,
           0.745,
           0.63,
           0.765,
           0.68,
           0.705,
           0.73,
           0.685
          ],
          [
           0.705,
           0.66,
           0.745,
           0.63,
           0.74,
           0.705,
           0.715,
           0.7,
           0.725,
           0.67,
           0.715,
           0.72,
           0.675,
           0.685,
           0.72,
           0.69,
           0.755,
           0.735,
           0.69,
           0.69,
           0.705,
           0.685,
           0.745,
           0.735,
           0.735
          ],
          [
           0.74,
           0.74,
           0.735,
           0.715,
           0.645,
           0.655,
           0.67,
           0.645,
           0.735,
           0.7,
           0.705,
           0.695,
           0.74,
           0.75,
           0.74,
           0.685,
           0.7,
           0.72,
           0.705,
           0.64,
           0.68,
           0.64,
           0.665,
           0.745,
           0.675
          ],
          [
           0.68,
           0.74,
           0.68,
           0.725,
           0.64,
           0.705,
           0.7,
           0.715,
           0.64,
           0.75,
           0.71,
           0.645,
           0.74,
           0.76,
           0.73,
           0.735,
           0.665,
           0.73,
           0.7,
           0.715,
           0.7,
           0.695,
           0.65,
           0.675,
           0.64
          ],
          [
           0.625,
           0.75,
           0.635,
           0.695,
           0.64,
           0.73,
           0.73,
           0.715,
           0.735,
           0.745,
           0.705,
           0.71,
           0.695,
           0.685,
           0.72,
           0.725,
           0.695,
           0.725,
           0.73,
           0.755,
           0.725,
           0.79,
           0.745,
           0.79,
           0.735
          ],
          [
           0.65,
           0.735,
           0.66,
           0.71,
           0.735,
           0.775,
           0.765,
           0.675,
           0.67,
           0.715,
           0.685,
           0.705,
           0.75,
           0.71,
           0.725,
           0.71,
           0.65,
           0.68,
           0.625,
           0.645,
           0.705,
           0.74,
           0.665,
           0.755,
           0.64
          ],
          [
           0.755,
           0.725,
           0.66,
           0.64,
           0.675,
           0.69,
           0.72,
           0.735,
           0.695,
           0.74,
           0.68,
           0.675,
           0.69,
           0.705,
           0.675,
           0.65,
           0.695,
           0.69,
           0.64,
           0.695,
           0.635,
           0.73,
           0.625,
           0.715,
           0.72
          ],
          [
           0.745,
           0.645,
           0.695,
           0.685,
           0.64,
           0.68,
           0.695,
           0.685,
           0.725,
           0.705,
           0.73,
           0.73,
           0.7,
           0.7,
           0.76,
           0.73,
           0.655,
           0.71,
           0.665,
           0.7,
           0.665,
           0.71,
           0.705,
           0.675,
           0.695
          ],
          [
           0.74,
           0.64,
           0.745,
           0.71,
           0.675,
           0.745,
           0.695,
           0.745,
           0.665,
           0.75,
           0.75,
           0.68,
           0.655,
           0.725,
           0.685,
           0.645,
           0.705,
           0.675,
           0.71,
           0.63,
           0.67,
           0.69,
           0.665,
           0.675,
           0.635
          ],
          [
           0.64,
           0.72,
           0.645,
           0.735,
           0.77,
           0.665,
           0.67,
           0.695,
           0.705,
           0.73,
           0.68,
           0.72,
           0.725,
           0.72,
           0.64,
           0.66,
           0.7,
           0.72,
           0.64,
           0.665,
           0.665,
           0.725,
           0.745,
           0.665,
           0.65
          ],
          [
           0.66,
           0.66,
           0.665,
           0.695,
           0.705,
           0.73,
           0.695,
           0.705,
           0.655,
           0.61,
           0.705,
           0.655,
           0.715,
           0.615,
           0.73,
           0.725,
           0.7,
           0.715,
           0.685,
           0.655,
           0.72,
           0.675,
           0.66,
           0.7,
           0.7
          ],
          [
           0.685,
           0.71,
           0.67,
           0.675,
           0.695,
           0.65,
           0.7,
           0.65,
           0.645,
           0.66,
           0.69,
           0.625,
           0.67,
           0.705,
           0.695,
           0.675,
           0.73,
           0.645,
           0.69,
           0.645,
           0.7,
           0.655,
           0.695,
           0.67,
           0.715
          ],
          [
           0.71,
           0.675,
           0.67,
           0.69,
           0.695,
           0.725,
           0.72,
           0.72,
           0.645,
           0.72,
           0.69,
           0.62,
           0.645,
           0.725,
           0.7,
           0.68,
           0.665,
           0.72,
           0.695,
           0.695,
           0.64,
           0.715,
           0.7,
           0.705,
           0.695
          ],
          [
           0.67,
           0.64,
           0.625,
           0.66,
           0.64,
           0.625,
           0.645,
           0.645,
           0.71,
           0.65,
           0.72,
           0.715,
           0.635,
           0.69,
           0.66,
           0.715,
           0.63,
           0.68,
           0.635,
           0.64,
           0.695,
           0.735,
           0.68,
           0.715,
           0.705
          ],
          [
           0.665,
           0.71,
           0.705,
           0.665,
           0.66,
           0.66,
           0.695,
           0.665,
           0.71,
           0.665,
           0.675,
           0.66,
           0.66,
           0.685,
           0.7,
           0.65,
           0.665,
           0.635,
           0.625,
           0.64,
           0.67,
           0.715,
           0.735,
           0.725,
           0.725
          ],
          [
           0.66,
           0.625,
           0.715,
           0.63,
           0.675,
           0.665,
           0.66,
           0.7,
           0.7,
           0.695,
           0.615,
           0.735,
           0.635,
           0.695,
           0.715,
           0.645,
           0.65,
           0.635,
           0.71,
           0.68,
           0.665,
           0.66,
           0.68,
           0.69,
           0.695
          ],
          [
           0.725,
           0.64,
           0.675,
           0.655,
           0.67,
           0.72,
           0.625,
           0.665,
           0.69,
           0.64,
           0.69,
           0.745,
           0.7,
           0.735,
           0.66,
           0.73,
           0.665,
           0.685,
           0.71,
           0.715,
           0.655,
           0.735,
           0.655,
           0.73,
           0.69
          ],
          [
           0.64,
           0.675,
           0.665,
           0.715,
           0.71,
           0.675,
           0.67,
           0.67,
           0.665,
           0.71,
           0.705,
           0.695,
           0.705,
           0.665,
           0.675,
           0.685,
           0.695,
           0.63,
           0.67,
           0.665,
           0.755,
           0.72,
           0.675,
           0.62,
           0.715
          ],
          [
           0.7,
           0.635,
           0.625,
           0.625,
           0.72,
           0.64,
           0.685,
           0.63,
           0.72,
           0.665,
           0.665,
           0.665,
           0.655,
           0.65,
           0.65,
           0.69,
           0.635,
           0.715,
           0.64,
           0.62,
           0.72,
           0.755,
           0.66,
           0.675,
           0.625
          ],
          [
           0.675,
           0.715,
           0.66,
           0.665,
           0.69,
           0.615,
           0.655,
           0.675,
           0.74,
           0.715,
           0.655,
           0.685,
           0.705,
           0.68,
           0.695,
           0.705,
           0.685,
           0.7,
           0.74,
           0.635,
           0.755,
           0.67,
           0.705,
           0.71,
           0.685
          ],
          [
           0.65,
           0.7,
           0.69,
           0.685,
           0.63,
           0.695,
           0.65,
           0.64,
           0.685,
           0.67,
           0.66,
           0.655,
           0.685,
           0.65,
           0.625,
           0.63,
           0.69,
           0.65,
           0.685,
           0.695,
           0.685,
           0.64,
           0.685,
           0.665,
           0.62
          ],
          [
           0.655,
           0.68,
           0.64,
           0.7,
           0.65,
           0.68,
           0.695,
           0.675,
           0.645,
           0.63,
           0.7,
           0.695,
           0.695,
           0.72,
           0.675,
           0.725,
           0.655,
           0.685,
           0.745,
           0.7,
           0.675,
           0.67,
           0.655,
           0.7,
           0.685
          ],
          [
           0.665,
           0.675,
           0.73,
           0.655,
           0.68,
           0.66,
           0.72,
           0.65,
           0.645,
           0.705,
           0.655,
           0.65,
           0.685,
           0.655,
           0.69,
           0.64,
           0.65,
           0.66,
           0.645,
           0.61,
           0.66,
           0.7,
           0.65,
           0.645,
           0.66
          ],
          [
           0.665,
           0.64,
           0.675,
           0.645,
           0.655,
           0.66,
           0.655,
           0.725,
           0.655,
           0.685,
           0.68,
           0.685,
           0.685,
           0.655,
           0.67,
           0.615,
           0.72,
           0.64,
           0.645,
           0.675,
           0.665,
           0.685,
           0.715,
           0.7,
           0.635
          ],
          [
           0.64,
           0.68,
           0.605,
           0.72,
           0.715,
           0.705,
           0.665,
           0.64,
           0.625,
           0.645,
           0.745,
           0.72,
           0.695,
           0.685,
           0.68,
           0.64,
           0.635,
           0.695,
           0.725,
           0.68,
           0.695,
           0.645,
           0.685,
           0.675,
           0.64
          ],
          [
           0.705,
           0.665,
           0.665,
           0.725,
           0.63,
           0.72,
           0.66,
           0.7,
           0.65,
           0.67,
           0.685,
           0.645,
           0.675,
           0.66,
           0.7,
           0.7,
           0.64,
           0.67,
           0.685,
           0.675,
           0.655,
           0.63,
           0.685,
           0.69,
           0.67
          ],
          [
           0.645,
           0.7,
           0.65,
           0.705,
           0.635,
           0.665,
           0.655,
           0.65,
           0.675,
           0.76,
           0.705,
           0.67,
           0.64,
           0.695,
           0.61,
           0.665,
           0.67,
           0.645,
           0.665,
           0.705,
           0.71,
           0.66,
           0.66,
           0.69,
           0.705
          ],
          [
           0.66,
           0.635,
           0.645,
           0.7,
           0.66,
           0.71,
           0.685,
           0.66,
           0.665,
           0.64,
           0.69,
           0.69,
           0.695,
           0.675,
           0.665,
           0.65,
           0.715,
           0.645,
           0.715,
           0.65,
           0.675,
           0.68,
           0.72,
           0.675,
           0.675
          ]
         ]
        }
       ],
       "layout": {
        "coloraxis": {
         "cmid": 0.5,
         "colorscale": [
          [
           0,
           "rgb(255,255,217)"
          ],
          [
           0.125,
           "rgb(237,248,177)"
          ],
          [
           0.25,
           "rgb(199,233,180)"
          ],
          [
           0.375,
           "rgb(127,205,187)"
          ],
          [
           0.5,
           "rgb(65,182,196)"
          ],
          [
           0.625,
           "rgb(29,145,192)"
          ],
          [
           0.75,
           "rgb(34,94,168)"
          ],
          [
           0.875,
           "rgb(37,52,148)"
          ],
          [
           1,
           "rgb(8,29,88)"
          ]
         ]
        },
        "template": {
         "data": {
          "bar": [
           {
            "error_x": {
             "color": "#2a3f5f"
            },
            "error_y": {
             "color": "#2a3f5f"
            },
            "marker": {
             "line": {
              "color": "#E5ECF6",
              "width": 0.5
             },
             "pattern": {
              "fillmode": "overlay",
              "size": 10,
              "solidity": 0.2
             }
            },
            "type": "bar"
           }
          ],
          "barpolar": [
           {
            "marker": {
             "line": {
              "color": "#E5ECF6",
              "width": 0.5
             },
             "pattern": {
              "fillmode": "overlay",
              "size": 10,
              "solidity": 0.2
             }
            },
            "type": "barpolar"
           }
          ],
          "carpet": [
           {
            "aaxis": {
             "endlinecolor": "#2a3f5f",
             "gridcolor": "white",
             "linecolor": "white",
             "minorgridcolor": "white",
             "startlinecolor": "#2a3f5f"
            },
            "baxis": {
             "endlinecolor": "#2a3f5f",
             "gridcolor": "white",
             "linecolor": "white",
             "minorgridcolor": "white",
             "startlinecolor": "#2a3f5f"
            },
            "type": "carpet"
           }
          ],
          "choropleth": [
           {
            "colorbar": {
             "outlinewidth": 0,
             "ticks": ""
            },
            "type": "choropleth"
           }
          ],
          "contour": [
           {
            "colorbar": {
             "outlinewidth": 0,
             "ticks": ""
            },
            "colorscale": [
             [
              0,
              "#0d0887"
             ],
             [
              0.1111111111111111,
              "#46039f"
             ],
             [
              0.2222222222222222,
              "#7201a8"
             ],
             [
              0.3333333333333333,
              "#9c179e"
             ],
             [
              0.4444444444444444,
              "#bd3786"
             ],
             [
              0.5555555555555556,
              "#d8576b"
             ],
             [
              0.6666666666666666,
              "#ed7953"
             ],
             [
              0.7777777777777778,
              "#fb9f3a"
             ],
             [
              0.8888888888888888,
              "#fdca26"
             ],
             [
              1,
              "#f0f921"
             ]
            ],
            "type": "contour"
           }
          ],
          "contourcarpet": [
           {
            "colorbar": {
             "outlinewidth": 0,
             "ticks": ""
            },
            "type": "contourcarpet"
           }
          ],
          "heatmap": [
           {
            "colorbar": {
             "outlinewidth": 0,
             "ticks": ""
            },
            "colorscale": [
             [
              0,
              "#0d0887"
             ],
             [
              0.1111111111111111,
              "#46039f"
             ],
             [
              0.2222222222222222,
              "#7201a8"
             ],
             [
              0.3333333333333333,
              "#9c179e"
             ],
             [
              0.4444444444444444,
              "#bd3786"
             ],
             [
              0.5555555555555556,
              "#d8576b"
             ],
             [
              0.6666666666666666,
              "#ed7953"
             ],
             [
              0.7777777777777778,
              "#fb9f3a"
             ],
             [
              0.8888888888888888,
              "#fdca26"
             ],
             [
              1,
              "#f0f921"
             ]
            ],
            "type": "heatmap"
           }
          ],
          "heatmapgl": [
           {
            "colorbar": {
             "outlinewidth": 0,
             "ticks": ""
            },
            "colorscale": [
             [
              0,
              "#0d0887"
             ],
             [
              0.1111111111111111,
              "#46039f"
             ],
             [
              0.2222222222222222,
              "#7201a8"
             ],
             [
              0.3333333333333333,
              "#9c179e"
             ],
             [
              0.4444444444444444,
              "#bd3786"
             ],
             [
              0.5555555555555556,
              "#d8576b"
             ],
             [
              0.6666666666666666,
              "#ed7953"
             ],
             [
              0.7777777777777778,
              "#fb9f3a"
             ],
             [
              0.8888888888888888,
              "#fdca26"
             ],
             [
              1,
              "#f0f921"
             ]
            ],
            "type": "heatmapgl"
           }
          ],
          "histogram": [
           {
            "marker": {
             "pattern": {
              "fillmode": "overlay",
              "size": 10,
              "solidity": 0.2
             }
            },
            "type": "histogram"
           }
          ],
          "histogram2d": [
           {
            "colorbar": {
             "outlinewidth": 0,
             "ticks": ""
            },
            "colorscale": [
             [
              0,
              "#0d0887"
             ],
             [
              0.1111111111111111,
              "#46039f"
             ],
             [
              0.2222222222222222,
              "#7201a8"
             ],
             [
              0.3333333333333333,
              "#9c179e"
             ],
             [
              0.4444444444444444,
              "#bd3786"
             ],
             [
              0.5555555555555556,
              "#d8576b"
             ],
             [
              0.6666666666666666,
              "#ed7953"
             ],
             [
              0.7777777777777778,
              "#fb9f3a"
             ],
             [
              0.8888888888888888,
              "#fdca26"
             ],
             [
              1,
              "#f0f921"
             ]
            ],
            "type": "histogram2d"
           }
          ],
          "histogram2dcontour": [
           {
            "colorbar": {
             "outlinewidth": 0,
             "ticks": ""
            },
            "colorscale": [
             [
              0,
              "#0d0887"
             ],
             [
              0.1111111111111111,
              "#46039f"
             ],
             [
              0.2222222222222222,
              "#7201a8"
             ],
             [
              0.3333333333333333,
              "#9c179e"
             ],
             [
              0.4444444444444444,
              "#bd3786"
             ],
             [
              0.5555555555555556,
              "#d8576b"
             ],
             [
              0.6666666666666666,
              "#ed7953"
             ],
             [
              0.7777777777777778,
              "#fb9f3a"
             ],
             [
              0.8888888888888888,
              "#fdca26"
             ],
             [
              1,
              "#f0f921"
             ]
            ],
            "type": "histogram2dcontour"
           }
          ],
          "mesh3d": [
           {
            "colorbar": {
             "outlinewidth": 0,
             "ticks": ""
            },
            "type": "mesh3d"
           }
          ],
          "parcoords": [
           {
            "line": {
             "colorbar": {
              "outlinewidth": 0,
              "ticks": ""
             }
            },
            "type": "parcoords"
           }
          ],
          "pie": [
           {
            "automargin": true,
            "type": "pie"
           }
          ],
          "scatter": [
           {
            "fillpattern": {
             "fillmode": "overlay",
             "size": 10,
             "solidity": 0.2
            },
            "type": "scatter"
           }
          ],
          "scatter3d": [
           {
            "line": {
             "colorbar": {
              "outlinewidth": 0,
              "ticks": ""
             }
            },
            "marker": {
             "colorbar": {
              "outlinewidth": 0,
              "ticks": ""
             }
            },
            "type": "scatter3d"
           }
          ],
          "scattercarpet": [
           {
            "marker": {
             "colorbar": {
              "outlinewidth": 0,
              "ticks": ""
             }
            },
            "type": "scattercarpet"
           }
          ],
          "scattergeo": [
           {
            "marker": {
             "colorbar": {
              "outlinewidth": 0,
              "ticks": ""
             }
            },
            "type": "scattergeo"
           }
          ],
          "scattergl": [
           {
            "marker": {
             "colorbar": {
              "outlinewidth": 0,
              "ticks": ""
             }
            },
            "type": "scattergl"
           }
          ],
          "scattermapbox": [
           {
            "marker": {
             "colorbar": {
              "outlinewidth": 0,
              "ticks": ""
             }
            },
            "type": "scattermapbox"
           }
          ],
          "scatterpolar": [
           {
            "marker": {
             "colorbar": {
              "outlinewidth": 0,
              "ticks": ""
             }
            },
            "type": "scatterpolar"
           }
          ],
          "scatterpolargl": [
           {
            "marker": {
             "colorbar": {
              "outlinewidth": 0,
              "ticks": ""
             }
            },
            "type": "scatterpolargl"
           }
          ],
          "scatterternary": [
           {
            "marker": {
             "colorbar": {
              "outlinewidth": 0,
              "ticks": ""
             }
            },
            "type": "scatterternary"
           }
          ],
          "surface": [
           {
            "colorbar": {
             "outlinewidth": 0,
             "ticks": ""
            },
            "colorscale": [
             [
              0,
              "#0d0887"
             ],
             [
              0.1111111111111111,
              "#46039f"
             ],
             [
              0.2222222222222222,
              "#7201a8"
             ],
             [
              0.3333333333333333,
              "#9c179e"
             ],
             [
              0.4444444444444444,
              "#bd3786"
             ],
             [
              0.5555555555555556,
              "#d8576b"
             ],
             [
              0.6666666666666666,
              "#ed7953"
             ],
             [
              0.7777777777777778,
              "#fb9f3a"
             ],
             [
              0.8888888888888888,
              "#fdca26"
             ],
             [
              1,
              "#f0f921"
             ]
            ],
            "type": "surface"
           }
          ],
          "table": [
           {
            "cells": {
             "fill": {
              "color": "#EBF0F8"
             },
             "line": {
              "color": "white"
             }
            },
            "header": {
             "fill": {
              "color": "#C8D4E3"
             },
             "line": {
              "color": "white"
             }
            },
            "type": "table"
           }
          ]
         },
         "layout": {
          "annotationdefaults": {
           "arrowcolor": "#2a3f5f",
           "arrowhead": 0,
           "arrowwidth": 1
          },
          "autotypenumbers": "strict",
          "coloraxis": {
           "colorbar": {
            "outlinewidth": 0,
            "ticks": ""
           }
          },
          "colorscale": {
           "diverging": [
            [
             0,
             "#8e0152"
            ],
            [
             0.1,
             "#c51b7d"
            ],
            [
             0.2,
             "#de77ae"
            ],
            [
             0.3,
             "#f1b6da"
            ],
            [
             0.4,
             "#fde0ef"
            ],
            [
             0.5,
             "#f7f7f7"
            ],
            [
             0.6,
             "#e6f5d0"
            ],
            [
             0.7,
             "#b8e186"
            ],
            [
             0.8,
             "#7fbc41"
            ],
            [
             0.9,
             "#4d9221"
            ],
            [
             1,
             "#276419"
            ]
           ],
           "sequential": [
            [
             0,
             "#0d0887"
            ],
            [
             0.1111111111111111,
             "#46039f"
            ],
            [
             0.2222222222222222,
             "#7201a8"
            ],
            [
             0.3333333333333333,
             "#9c179e"
            ],
            [
             0.4444444444444444,
             "#bd3786"
            ],
            [
             0.5555555555555556,
             "#d8576b"
            ],
            [
             0.6666666666666666,
             "#ed7953"
            ],
            [
             0.7777777777777778,
             "#fb9f3a"
            ],
            [
             0.8888888888888888,
             "#fdca26"
            ],
            [
             1,
             "#f0f921"
            ]
           ],
           "sequentialminus": [
            [
             0,
             "#0d0887"
            ],
            [
             0.1111111111111111,
             "#46039f"
            ],
            [
             0.2222222222222222,
             "#7201a8"
            ],
            [
             0.3333333333333333,
             "#9c179e"
            ],
            [
             0.4444444444444444,
             "#bd3786"
            ],
            [
             0.5555555555555556,
             "#d8576b"
            ],
            [
             0.6666666666666666,
             "#ed7953"
            ],
            [
             0.7777777777777778,
             "#fb9f3a"
            ],
            [
             0.8888888888888888,
             "#fdca26"
            ],
            [
             1,
             "#f0f921"
            ]
           ]
          },
          "colorway": [
           "#636efa",
           "#EF553B",
           "#00cc96",
           "#ab63fa",
           "#FFA15A",
           "#19d3f3",
           "#FF6692",
           "#B6E880",
           "#FF97FF",
           "#FECB52"
          ],
          "font": {
           "color": "#2a3f5f"
          },
          "geo": {
           "bgcolor": "white",
           "lakecolor": "white",
           "landcolor": "#E5ECF6",
           "showlakes": true,
           "showland": true,
           "subunitcolor": "white"
          },
          "hoverlabel": {
           "align": "left"
          },
          "hovermode": "closest",
          "mapbox": {
           "style": "light"
          },
          "paper_bgcolor": "white",
          "plot_bgcolor": "#E5ECF6",
          "polar": {
           "angularaxis": {
            "gridcolor": "white",
            "linecolor": "white",
            "ticks": ""
           },
           "bgcolor": "#E5ECF6",
           "radialaxis": {
            "gridcolor": "white",
            "linecolor": "white",
            "ticks": ""
           }
          },
          "scene": {
           "xaxis": {
            "backgroundcolor": "#E5ECF6",
            "gridcolor": "white",
            "gridwidth": 2,
            "linecolor": "white",
            "showbackground": true,
            "ticks": "",
            "zerolinecolor": "white"
           },
           "yaxis": {
            "backgroundcolor": "#E5ECF6",
            "gridcolor": "white",
            "gridwidth": 2,
            "linecolor": "white",
            "showbackground": true,
            "ticks": "",
            "zerolinecolor": "white"
           },
           "zaxis": {
            "backgroundcolor": "#E5ECF6",
            "gridcolor": "white",
            "gridwidth": 2,
            "linecolor": "white",
            "showbackground": true,
            "ticks": "",
            "zerolinecolor": "white"
           }
          },
          "shapedefaults": {
           "line": {
            "color": "#2a3f5f"
           }
          },
          "ternary": {
           "aaxis": {
            "gridcolor": "white",
            "linecolor": "white",
            "ticks": ""
           },
           "baxis": {
            "gridcolor": "white",
            "linecolor": "white",
            "ticks": ""
           },
           "bgcolor": "#E5ECF6",
           "caxis": {
            "gridcolor": "white",
            "linecolor": "white",
            "ticks": ""
           }
          },
          "title": {
           "x": 0.05
          },
          "xaxis": {
           "automargin": true,
           "gridcolor": "white",
           "linecolor": "white",
           "ticks": "",
           "title": {
            "standoff": 15
           },
           "zerolinecolor": "white",
           "zerolinewidth": 2
          },
          "yaxis": {
           "automargin": true,
           "gridcolor": "white",
           "linecolor": "white",
           "ticks": "",
           "title": {
            "standoff": 15
           },
           "zerolinecolor": "white",
           "zerolinewidth": 2
          }
         }
        },
        "title": {
         "text": "Probe Accuracies"
        },
        "xaxis": {
         "anchor": "y",
         "constrain": "domain",
         "domain": [
          0,
          1
         ],
         "scaleanchor": "y",
         "title": {
          "text": "Heads (sorted)"
         }
        },
        "yaxis": {
         "anchor": "x",
         "autorange": true,
         "constrain": "domain",
         "domain": [
          0,
          1
         ],
         "title": {
          "text": "Layers"
         }
        }
       }
      },
      "text/html": [
       "<div>                            <div id=\"4d1c400c-17eb-46f7-9bcd-06c619456187\" class=\"plotly-graph-div\" style=\"height:525px; width:100%;\"></div>            <script type=\"text/javascript\">                require([\"plotly\"], function(Plotly) {                    window.PLOTLYENV=window.PLOTLYENV || {};                                    if (document.getElementById(\"4d1c400c-17eb-46f7-9bcd-06c619456187\")) {                    Plotly.newPlot(                        \"4d1c400c-17eb-46f7-9bcd-06c619456187\",                        [{\"coloraxis\":\"coloraxis\",\"name\":\"0\",\"z\":[[0.64,0.64,0.64,0.64,0.64,0.64,0.64,0.64,0.645,0.64,0.64,0.64,0.64,0.64,0.64,0.64,0.64,0.64,0.64,0.64,0.64,0.65,0.64,0.64,0.64],[0.645,0.665,0.625,0.675,0.645,0.68,0.685,0.695,0.67,0.675,0.68,0.64,0.665,0.645,0.66,0.665,0.65,0.65,0.66,0.645,0.645,0.675,0.675,0.68,0.64],[0.66,0.665,0.67,0.685,0.685,0.645,0.68,0.67,0.65,0.66,0.685,0.665,0.685,0.675,0.655,0.645,0.685,0.685,0.675,0.665,0.655,0.64,0.635,0.655,0.65],[0.69,0.675,0.67,0.675,0.715,0.67,0.665,0.63,0.665,0.67,0.645,0.705,0.67,0.685,0.66,0.645,0.66,0.65,0.645,0.67,0.68,0.67,0.645,0.69,0.665],[0.655,0.64,0.675,0.685,0.66,0.67,0.665,0.68,0.705,0.69,0.68,0.67,0.705,0.675,0.715,0.66,0.68,0.66,0.65,0.63,0.675,0.68,0.665,0.645,0.645],[0.65,0.66,0.665,0.68,0.675,0.68,0.665,0.695,0.66,0.665,0.665,0.68,0.67,0.675,0.685,0.665,0.685,0.69,0.69,0.67,0.665,0.66,0.645,0.71,0.66],[0.67,0.655,0.675,0.69,0.635,0.65,0.645,0.65,0.665,0.625,0.66,0.66,0.7,0.64,0.67,0.67,0.67,0.665,0.695,0.71,0.695,0.64,0.655,0.675,0.685],[0.675,0.645,0.68,0.665,0.695,0.645,0.68,0.695,0.67,0.685,0.675,0.685,0.66,0.645,0.69,0.675,0.685,0.645,0.685,0.665,0.645,0.66,0.67,0.73,0.66],[0.66,0.68,0.65,0.645,0.665,0.66,0.63,0.675,0.74,0.65,0.675,0.665,0.66,0.655,0.72,0.665,0.69,0.695,0.655,0.645,0.665,0.64,0.65,0.66,0.655],[0.65,0.67,0.665,0.685,0.66,0.66,0.69,0.665,0.735,0.675,0.655,0.68,0.665,0.68,0.65,0.655,0.65,0.665,0.665,0.66,0.64,0.69,0.655,0.675,0.675],[0.635,0.685,0.675,0.68,0.665,0.64,0.655,0.66,0.685,0.705,0.71,0.655,0.68,0.65,0.685,0.64,0.71,0.675,0.68,0.665,0.67,0.645,0.665,0.65,0.645],[0.67,0.66,0.665,0.7,0.675,0.705,0.64,0.685,0.745,0.695,0.685,0.705,0.725,0.695,0.745,0.645,0.645,0.64,0.67,0.68,0.665,0.64,0.68,0.675,0.695],[0.66,0.69,0.64,0.685,0.74,0.65,0.65,0.66,0.695,0.705,0.675,0.64,0.67,0.655,0.72,0.68,0.68,0.64,0.67,0.685,0.65,0.665,0.685,0.675,0.635],[0.645,0.67,0.685,0.665,0.64,0.7,0.66,0.695,0.68,0.655,0.69,0.695,0.64,0.64,0.675,0.67,0.65,0.66,0.66,0.67,0.695,0.71,0.675,0.665,0.685],[0.69,0.64,0.66,0.705,0.725,0.665,0.71,0.68,0.695,0.665,0.695,0.71,0.69,0.695,0.685,0.64,0.695,0.73,0.675,0.645,0.735,0.715,0.69,0.71,0.73],[0.695,0.71,0.69,0.705,0.675,0.67,0.675,0.68,0.73,0.685,0.69,0.715,0.69,0.64,0.71,0.7,0.7,0.68,0.665,0.685,0.72,0.735,0.675,0.645,0.65],[0.655,0.665,0.675,0.645,0.695,0.665,0.64,0.705,0.685,0.74,0.645,0.64,0.645,0.655,0.705,0.665,0.685,0.685,0.78,0.64,0.71,0.645,0.715,0.725,0.685],[0.715,0.65,0.655,0.645,0.64,0.675,0.64,0.7,0.68,0.64,0.67,0.64,0.64,0.67,0.64,0.655,0.67,0.66,0.64,0.64,0.68,0.745,0.64,0.645,0.705],[0.64,0.7,0.705,0.705,0.72,0.71,0.725,0.64,0.72,0.685,0.75,0.68,0.72,0.75,0.695,0.705,0.69,0.7,0.65,0.685,0.655,0.705,0.705,0.705,0.705],[0.715,0.68,0.685,0.685,0.735,0.665,0.73,0.715,0.675,0.69,0.69,0.665,0.665,0.64,0.72,0.675,0.67,0.655,0.645,0.73,0.705,0.67,0.715,0.73,0.745],[0.64,0.72,0.74,0.69,0.72,0.63,0.685,0.69,0.745,0.72,0.64,0.685,0.72,0.735,0.7,0.73,0.745,0.7,0.745,0.63,0.765,0.68,0.705,0.73,0.685],[0.705,0.66,0.745,0.63,0.74,0.705,0.715,0.7,0.725,0.67,0.715,0.72,0.675,0.685,0.72,0.69,0.755,0.735,0.69,0.69,0.705,0.685,0.745,0.735,0.735],[0.74,0.74,0.735,0.715,0.645,0.655,0.67,0.645,0.735,0.7,0.705,0.695,0.74,0.75,0.74,0.685,0.7,0.72,0.705,0.64,0.68,0.64,0.665,0.745,0.675],[0.68,0.74,0.68,0.725,0.64,0.705,0.7,0.715,0.64,0.75,0.71,0.645,0.74,0.76,0.73,0.735,0.665,0.73,0.7,0.715,0.7,0.695,0.65,0.675,0.64],[0.625,0.75,0.635,0.695,0.64,0.73,0.73,0.715,0.735,0.745,0.705,0.71,0.695,0.685,0.72,0.725,0.695,0.725,0.73,0.755,0.725,0.79,0.745,0.79,0.735],[0.65,0.735,0.66,0.71,0.735,0.775,0.765,0.675,0.67,0.715,0.685,0.705,0.75,0.71,0.725,0.71,0.65,0.68,0.625,0.645,0.705,0.74,0.665,0.755,0.64],[0.755,0.725,0.66,0.64,0.675,0.69,0.72,0.735,0.695,0.74,0.68,0.675,0.69,0.705,0.675,0.65,0.695,0.69,0.64,0.695,0.635,0.73,0.625,0.715,0.72],[0.745,0.645,0.695,0.685,0.64,0.68,0.695,0.685,0.725,0.705,0.73,0.73,0.7,0.7,0.76,0.73,0.655,0.71,0.665,0.7,0.665,0.71,0.705,0.675,0.695],[0.74,0.64,0.745,0.71,0.675,0.745,0.695,0.745,0.665,0.75,0.75,0.68,0.655,0.725,0.685,0.645,0.705,0.675,0.71,0.63,0.67,0.69,0.665,0.675,0.635],[0.64,0.72,0.645,0.735,0.77,0.665,0.67,0.695,0.705,0.73,0.68,0.72,0.725,0.72,0.64,0.66,0.7,0.72,0.64,0.665,0.665,0.725,0.745,0.665,0.65],[0.66,0.66,0.665,0.695,0.705,0.73,0.695,0.705,0.655,0.61,0.705,0.655,0.715,0.615,0.73,0.725,0.7,0.715,0.685,0.655,0.72,0.675,0.66,0.7,0.7],[0.685,0.71,0.67,0.675,0.695,0.65,0.7,0.65,0.645,0.66,0.69,0.625,0.67,0.705,0.695,0.675,0.73,0.645,0.69,0.645,0.7,0.655,0.695,0.67,0.715],[0.71,0.675,0.67,0.69,0.695,0.725,0.72,0.72,0.645,0.72,0.69,0.62,0.645,0.725,0.7,0.68,0.665,0.72,0.695,0.695,0.64,0.715,0.7,0.705,0.695],[0.67,0.64,0.625,0.66,0.64,0.625,0.645,0.645,0.71,0.65,0.72,0.715,0.635,0.69,0.66,0.715,0.63,0.68,0.635,0.64,0.695,0.735,0.68,0.715,0.705],[0.665,0.71,0.705,0.665,0.66,0.66,0.695,0.665,0.71,0.665,0.675,0.66,0.66,0.685,0.7,0.65,0.665,0.635,0.625,0.64,0.67,0.715,0.735,0.725,0.725],[0.66,0.625,0.715,0.63,0.675,0.665,0.66,0.7,0.7,0.695,0.615,0.735,0.635,0.695,0.715,0.645,0.65,0.635,0.71,0.68,0.665,0.66,0.68,0.69,0.695],[0.725,0.64,0.675,0.655,0.67,0.72,0.625,0.665,0.69,0.64,0.69,0.745,0.7,0.735,0.66,0.73,0.665,0.685,0.71,0.715,0.655,0.735,0.655,0.73,0.69],[0.64,0.675,0.665,0.715,0.71,0.675,0.67,0.67,0.665,0.71,0.705,0.695,0.705,0.665,0.675,0.685,0.695,0.63,0.67,0.665,0.755,0.72,0.675,0.62,0.715],[0.7,0.635,0.625,0.625,0.72,0.64,0.685,0.63,0.72,0.665,0.665,0.665,0.655,0.65,0.65,0.69,0.635,0.715,0.64,0.62,0.72,0.755,0.66,0.675,0.625],[0.675,0.715,0.66,0.665,0.69,0.615,0.655,0.675,0.74,0.715,0.655,0.685,0.705,0.68,0.695,0.705,0.685,0.7,0.74,0.635,0.755,0.67,0.705,0.71,0.685],[0.65,0.7,0.69,0.685,0.63,0.695,0.65,0.64,0.685,0.67,0.66,0.655,0.685,0.65,0.625,0.63,0.69,0.65,0.685,0.695,0.685,0.64,0.685,0.665,0.62],[0.655,0.68,0.64,0.7,0.65,0.68,0.695,0.675,0.645,0.63,0.7,0.695,0.695,0.72,0.675,0.725,0.655,0.685,0.745,0.7,0.675,0.67,0.655,0.7,0.685],[0.665,0.675,0.73,0.655,0.68,0.66,0.72,0.65,0.645,0.705,0.655,0.65,0.685,0.655,0.69,0.64,0.65,0.66,0.645,0.61,0.66,0.7,0.65,0.645,0.66],[0.665,0.64,0.675,0.645,0.655,0.66,0.655,0.725,0.655,0.685,0.68,0.685,0.685,0.655,0.67,0.615,0.72,0.64,0.645,0.675,0.665,0.685,0.715,0.7,0.635],[0.64,0.68,0.605,0.72,0.715,0.705,0.665,0.64,0.625,0.645,0.745,0.72,0.695,0.685,0.68,0.64,0.635,0.695,0.725,0.68,0.695,0.645,0.685,0.675,0.64],[0.705,0.665,0.665,0.725,0.63,0.72,0.66,0.7,0.65,0.67,0.685,0.645,0.675,0.66,0.7,0.7,0.64,0.67,0.685,0.675,0.655,0.63,0.685,0.69,0.67],[0.645,0.7,0.65,0.705,0.635,0.665,0.655,0.65,0.675,0.76,0.705,0.67,0.64,0.695,0.61,0.665,0.67,0.645,0.665,0.705,0.71,0.66,0.66,0.69,0.705],[0.66,0.635,0.645,0.7,0.66,0.71,0.685,0.66,0.665,0.64,0.69,0.69,0.695,0.675,0.665,0.65,0.715,0.645,0.715,0.65,0.675,0.68,0.72,0.675,0.675]],\"type\":\"heatmap\",\"xaxis\":\"x\",\"yaxis\":\"y\",\"hovertemplate\":\"Heads (sorted): %{x}\\u003cbr\\u003eLayers: %{y}\\u003cbr\\u003ecolor: %{z}\\u003cextra\\u003e\\u003c\\u002fextra\\u003e\"}],                        {\"template\":{\"data\":{\"histogram2dcontour\":[{\"type\":\"histogram2dcontour\",\"colorbar\":{\"outlinewidth\":0,\"ticks\":\"\"},\"colorscale\":[[0.0,\"#0d0887\"],[0.1111111111111111,\"#46039f\"],[0.2222222222222222,\"#7201a8\"],[0.3333333333333333,\"#9c179e\"],[0.4444444444444444,\"#bd3786\"],[0.5555555555555556,\"#d8576b\"],[0.6666666666666666,\"#ed7953\"],[0.7777777777777778,\"#fb9f3a\"],[0.8888888888888888,\"#fdca26\"],[1.0,\"#f0f921\"]]}],\"choropleth\":[{\"type\":\"choropleth\",\"colorbar\":{\"outlinewidth\":0,\"ticks\":\"\"}}],\"histogram2d\":[{\"type\":\"histogram2d\",\"colorbar\":{\"outlinewidth\":0,\"ticks\":\"\"},\"colorscale\":[[0.0,\"#0d0887\"],[0.1111111111111111,\"#46039f\"],[0.2222222222222222,\"#7201a8\"],[0.3333333333333333,\"#9c179e\"],[0.4444444444444444,\"#bd3786\"],[0.5555555555555556,\"#d8576b\"],[0.6666666666666666,\"#ed7953\"],[0.7777777777777778,\"#fb9f3a\"],[0.8888888888888888,\"#fdca26\"],[1.0,\"#f0f921\"]]}],\"heatmap\":[{\"type\":\"heatmap\",\"colorbar\":{\"outlinewidth\":0,\"ticks\":\"\"},\"colorscale\":[[0.0,\"#0d0887\"],[0.1111111111111111,\"#46039f\"],[0.2222222222222222,\"#7201a8\"],[0.3333333333333333,\"#9c179e\"],[0.4444444444444444,\"#bd3786\"],[0.5555555555555556,\"#d8576b\"],[0.6666666666666666,\"#ed7953\"],[0.7777777777777778,\"#fb9f3a\"],[0.8888888888888888,\"#fdca26\"],[1.0,\"#f0f921\"]]}],\"heatmapgl\":[{\"type\":\"heatmapgl\",\"colorbar\":{\"outlinewidth\":0,\"ticks\":\"\"},\"colorscale\":[[0.0,\"#0d0887\"],[0.1111111111111111,\"#46039f\"],[0.2222222222222222,\"#7201a8\"],[0.3333333333333333,\"#9c179e\"],[0.4444444444444444,\"#bd3786\"],[0.5555555555555556,\"#d8576b\"],[0.6666666666666666,\"#ed7953\"],[0.7777777777777778,\"#fb9f3a\"],[0.8888888888888888,\"#fdca26\"],[1.0,\"#f0f921\"]]}],\"contourcarpet\":[{\"type\":\"contourcarpet\",\"colorbar\":{\"outlinewidth\":0,\"ticks\":\"\"}}],\"contour\":[{\"type\":\"contour\",\"colorbar\":{\"outlinewidth\":0,\"ticks\":\"\"},\"colorscale\":[[0.0,\"#0d0887\"],[0.1111111111111111,\"#46039f\"],[0.2222222222222222,\"#7201a8\"],[0.3333333333333333,\"#9c179e\"],[0.4444444444444444,\"#bd3786\"],[0.5555555555555556,\"#d8576b\"],[0.6666666666666666,\"#ed7953\"],[0.7777777777777778,\"#fb9f3a\"],[0.8888888888888888,\"#fdca26\"],[1.0,\"#f0f921\"]]}],\"surface\":[{\"type\":\"surface\",\"colorbar\":{\"outlinewidth\":0,\"ticks\":\"\"},\"colorscale\":[[0.0,\"#0d0887\"],[0.1111111111111111,\"#46039f\"],[0.2222222222222222,\"#7201a8\"],[0.3333333333333333,\"#9c179e\"],[0.4444444444444444,\"#bd3786\"],[0.5555555555555556,\"#d8576b\"],[0.6666666666666666,\"#ed7953\"],[0.7777777777777778,\"#fb9f3a\"],[0.8888888888888888,\"#fdca26\"],[1.0,\"#f0f921\"]]}],\"mesh3d\":[{\"type\":\"mesh3d\",\"colorbar\":{\"outlinewidth\":0,\"ticks\":\"\"}}],\"scatter\":[{\"fillpattern\":{\"fillmode\":\"overlay\",\"size\":10,\"solidity\":0.2},\"type\":\"scatter\"}],\"parcoords\":[{\"type\":\"parcoords\",\"line\":{\"colorbar\":{\"outlinewidth\":0,\"ticks\":\"\"}}}],\"scatterpolargl\":[{\"type\":\"scatterpolargl\",\"marker\":{\"colorbar\":{\"outlinewidth\":0,\"ticks\":\"\"}}}],\"bar\":[{\"error_x\":{\"color\":\"#2a3f5f\"},\"error_y\":{\"color\":\"#2a3f5f\"},\"marker\":{\"line\":{\"color\":\"#E5ECF6\",\"width\":0.5},\"pattern\":{\"fillmode\":\"overlay\",\"size\":10,\"solidity\":0.2}},\"type\":\"bar\"}],\"scattergeo\":[{\"type\":\"scattergeo\",\"marker\":{\"colorbar\":{\"outlinewidth\":0,\"ticks\":\"\"}}}],\"scatterpolar\":[{\"type\":\"scatterpolar\",\"marker\":{\"colorbar\":{\"outlinewidth\":0,\"ticks\":\"\"}}}],\"histogram\":[{\"marker\":{\"pattern\":{\"fillmode\":\"overlay\",\"size\":10,\"solidity\":0.2}},\"type\":\"histogram\"}],\"scattergl\":[{\"type\":\"scattergl\",\"marker\":{\"colorbar\":{\"outlinewidth\":0,\"ticks\":\"\"}}}],\"scatter3d\":[{\"type\":\"scatter3d\",\"line\":{\"colorbar\":{\"outlinewidth\":0,\"ticks\":\"\"}},\"marker\":{\"colorbar\":{\"outlinewidth\":0,\"ticks\":\"\"}}}],\"scattermapbox\":[{\"type\":\"scattermapbox\",\"marker\":{\"colorbar\":{\"outlinewidth\":0,\"ticks\":\"\"}}}],\"scatterternary\":[{\"type\":\"scatterternary\",\"marker\":{\"colorbar\":{\"outlinewidth\":0,\"ticks\":\"\"}}}],\"scattercarpet\":[{\"type\":\"scattercarpet\",\"marker\":{\"colorbar\":{\"outlinewidth\":0,\"ticks\":\"\"}}}],\"carpet\":[{\"aaxis\":{\"endlinecolor\":\"#2a3f5f\",\"gridcolor\":\"white\",\"linecolor\":\"white\",\"minorgridcolor\":\"white\",\"startlinecolor\":\"#2a3f5f\"},\"baxis\":{\"endlinecolor\":\"#2a3f5f\",\"gridcolor\":\"white\",\"linecolor\":\"white\",\"minorgridcolor\":\"white\",\"startlinecolor\":\"#2a3f5f\"},\"type\":\"carpet\"}],\"table\":[{\"cells\":{\"fill\":{\"color\":\"#EBF0F8\"},\"line\":{\"color\":\"white\"}},\"header\":{\"fill\":{\"color\":\"#C8D4E3\"},\"line\":{\"color\":\"white\"}},\"type\":\"table\"}],\"barpolar\":[{\"marker\":{\"line\":{\"color\":\"#E5ECF6\",\"width\":0.5},\"pattern\":{\"fillmode\":\"overlay\",\"size\":10,\"solidity\":0.2}},\"type\":\"barpolar\"}],\"pie\":[{\"automargin\":true,\"type\":\"pie\"}]},\"layout\":{\"autotypenumbers\":\"strict\",\"colorway\":[\"#636efa\",\"#EF553B\",\"#00cc96\",\"#ab63fa\",\"#FFA15A\",\"#19d3f3\",\"#FF6692\",\"#B6E880\",\"#FF97FF\",\"#FECB52\"],\"font\":{\"color\":\"#2a3f5f\"},\"hovermode\":\"closest\",\"hoverlabel\":{\"align\":\"left\"},\"paper_bgcolor\":\"white\",\"plot_bgcolor\":\"#E5ECF6\",\"polar\":{\"bgcolor\":\"#E5ECF6\",\"angularaxis\":{\"gridcolor\":\"white\",\"linecolor\":\"white\",\"ticks\":\"\"},\"radialaxis\":{\"gridcolor\":\"white\",\"linecolor\":\"white\",\"ticks\":\"\"}},\"ternary\":{\"bgcolor\":\"#E5ECF6\",\"aaxis\":{\"gridcolor\":\"white\",\"linecolor\":\"white\",\"ticks\":\"\"},\"baxis\":{\"gridcolor\":\"white\",\"linecolor\":\"white\",\"ticks\":\"\"},\"caxis\":{\"gridcolor\":\"white\",\"linecolor\":\"white\",\"ticks\":\"\"}},\"coloraxis\":{\"colorbar\":{\"outlinewidth\":0,\"ticks\":\"\"}},\"colorscale\":{\"sequential\":[[0.0,\"#0d0887\"],[0.1111111111111111,\"#46039f\"],[0.2222222222222222,\"#7201a8\"],[0.3333333333333333,\"#9c179e\"],[0.4444444444444444,\"#bd3786\"],[0.5555555555555556,\"#d8576b\"],[0.6666666666666666,\"#ed7953\"],[0.7777777777777778,\"#fb9f3a\"],[0.8888888888888888,\"#fdca26\"],[1.0,\"#f0f921\"]],\"sequentialminus\":[[0.0,\"#0d0887\"],[0.1111111111111111,\"#46039f\"],[0.2222222222222222,\"#7201a8\"],[0.3333333333333333,\"#9c179e\"],[0.4444444444444444,\"#bd3786\"],[0.5555555555555556,\"#d8576b\"],[0.6666666666666666,\"#ed7953\"],[0.7777777777777778,\"#fb9f3a\"],[0.8888888888888888,\"#fdca26\"],[1.0,\"#f0f921\"]],\"diverging\":[[0,\"#8e0152\"],[0.1,\"#c51b7d\"],[0.2,\"#de77ae\"],[0.3,\"#f1b6da\"],[0.4,\"#fde0ef\"],[0.5,\"#f7f7f7\"],[0.6,\"#e6f5d0\"],[0.7,\"#b8e186\"],[0.8,\"#7fbc41\"],[0.9,\"#4d9221\"],[1,\"#276419\"]]},\"xaxis\":{\"gridcolor\":\"white\",\"linecolor\":\"white\",\"ticks\":\"\",\"title\":{\"standoff\":15},\"zerolinecolor\":\"white\",\"automargin\":true,\"zerolinewidth\":2},\"yaxis\":{\"gridcolor\":\"white\",\"linecolor\":\"white\",\"ticks\":\"\",\"title\":{\"standoff\":15},\"zerolinecolor\":\"white\",\"automargin\":true,\"zerolinewidth\":2},\"scene\":{\"xaxis\":{\"backgroundcolor\":\"#E5ECF6\",\"gridcolor\":\"white\",\"linecolor\":\"white\",\"showbackground\":true,\"ticks\":\"\",\"zerolinecolor\":\"white\",\"gridwidth\":2},\"yaxis\":{\"backgroundcolor\":\"#E5ECF6\",\"gridcolor\":\"white\",\"linecolor\":\"white\",\"showbackground\":true,\"ticks\":\"\",\"zerolinecolor\":\"white\",\"gridwidth\":2},\"zaxis\":{\"backgroundcolor\":\"#E5ECF6\",\"gridcolor\":\"white\",\"linecolor\":\"white\",\"showbackground\":true,\"ticks\":\"\",\"zerolinecolor\":\"white\",\"gridwidth\":2}},\"shapedefaults\":{\"line\":{\"color\":\"#2a3f5f\"}},\"annotationdefaults\":{\"arrowcolor\":\"#2a3f5f\",\"arrowhead\":0,\"arrowwidth\":1},\"geo\":{\"bgcolor\":\"white\",\"landcolor\":\"#E5ECF6\",\"subunitcolor\":\"white\",\"showland\":true,\"showlakes\":true,\"lakecolor\":\"white\"},\"title\":{\"x\":0.05},\"mapbox\":{\"style\":\"light\"}}},\"xaxis\":{\"anchor\":\"y\",\"domain\":[0.0,1.0],\"scaleanchor\":\"y\",\"constrain\":\"domain\",\"title\":{\"text\":\"Heads (sorted)\"}},\"yaxis\":{\"anchor\":\"x\",\"domain\":[0.0,1.0],\"autorange\":true,\"constrain\":\"domain\",\"title\":{\"text\":\"Layers\"}},\"coloraxis\":{\"colorscale\":[[0.0,\"rgb(255,255,217)\"],[0.125,\"rgb(237,248,177)\"],[0.25,\"rgb(199,233,180)\"],[0.375,\"rgb(127,205,187)\"],[0.5,\"rgb(65,182,196)\"],[0.625,\"rgb(29,145,192)\"],[0.75,\"rgb(34,94,168)\"],[0.875,\"rgb(37,52,148)\"],[1.0,\"rgb(8,29,88)\"]],\"cmid\":0.5},\"title\":{\"text\":\"Probe Accuracies\"}},                        {\"responsive\": true}                    ).then(function(){\n",
       "                            \n",
       "var gd = document.getElementById('4d1c400c-17eb-46f7-9bcd-06c619456187');\n",
       "var x = new MutationObserver(function (mutations, observer) {{\n",
       "        var display = window.getComputedStyle(gd).display;\n",
       "        if (!display || display === 'none') {{\n",
       "            console.log([gd, 'removed!']);\n",
       "            Plotly.purge(gd);\n",
       "            observer.disconnect();\n",
       "        }}\n",
       "}});\n",
       "\n",
       "// Listen for the removal of the full notebook cells\n",
       "var notebookContainer = gd.closest('#notebook-container');\n",
       "if (notebookContainer) {{\n",
       "    x.observe(notebookContainer, {childList: true});\n",
       "}}\n",
       "\n",
       "// Listen for the clearing of the current output cell\n",
       "var outputEl = gd.closest('.output');\n",
       "if (outputEl) {{\n",
       "    x.observe(outputEl, {childList: true});\n",
       "}}\n",
       "\n",
       "                        })                };                });            </script>        </div>"
      ]
     },
     "metadata": {},
     "output_type": "display_data"
    },
    {
     "data": {
      "application/vnd.plotly.v1+json": {
       "config": {
        "plotlyServerURL": "https://plot.ly"
       },
       "data": [
        {
         "coloraxis": "coloraxis",
         "hovertemplate": "Heads (sorted): %{x}<br>Layers: %{y}<br>color: %{z}<extra></extra>",
         "name": "0",
         "type": "heatmap",
         "xaxis": "x",
         "yaxis": "y",
         "z": [
          [
           0.495,
           0.49,
           0.47,
           0.46,
           0.47,
           0.46,
           0.475,
           0.525,
           0.52,
           0.555,
           0.48,
           0.545,
           0.475,
           0.555,
           0.495,
           0.54,
           0.49,
           0.505,
           0.55,
           0.495,
           0.49,
           0.585,
           0.535,
           0.465,
           0.55
          ],
          [
           0.575,
           0.57,
           0.59,
           0.545,
           0.5,
           0.53,
           0.625,
           0.595,
           0.6,
           0.565,
           0.56,
           0.59,
           0.525,
           0.57,
           0.655,
           0.635,
           0.585,
           0.575,
           0.54,
           0.615,
           0.605,
           0.49,
           0.55,
           0.575,
           0.6
          ],
          [
           0.56,
           0.55,
           0.55,
           0.535,
           0.64,
           0.615,
           0.555,
           0.535,
           0.6,
           0.58,
           0.55,
           0.58,
           0.505,
           0.575,
           0.59,
           0.55,
           0.54,
           0.6,
           0.575,
           0.63,
           0.545,
           0.565,
           0.58,
           0.585,
           0.51
          ],
          [
           0.51,
           0.585,
           0.585,
           0.61,
           0.575,
           0.56,
           0.535,
           0.57,
           0.545,
           0.575,
           0.58,
           0.62,
           0.62,
           0.645,
           0.565,
           0.605,
           0.595,
           0.56,
           0.64,
           0.52,
           0.52,
           0.555,
           0.545,
           0.59,
           0.615
          ],
          [
           0.505,
           0.485,
           0.62,
           0.58,
           0.585,
           0.6,
           0.585,
           0.61,
           0.62,
           0.585,
           0.59,
           0.5,
           0.64,
           0.605,
           0.59,
           0.6,
           0.555,
           0.62,
           0.585,
           0.55,
           0.555,
           0.59,
           0.595,
           0.625,
           0.63
          ],
          [
           0.605,
           0.58,
           0.575,
           0.59,
           0.64,
           0.58,
           0.63,
           0.635,
           0.645,
           0.575,
           0.61,
           0.505,
           0.555,
           0.615,
           0.595,
           0.625,
           0.62,
           0.63,
           0.57,
           0.56,
           0.6,
           0.63,
           0.6,
           0.555,
           0.62
          ],
          [
           0.565,
           0.565,
           0.63,
           0.62,
           0.575,
           0.61,
           0.585,
           0.59,
           0.595,
           0.65,
           0.61,
           0.61,
           0.62,
           0.605,
           0.58,
           0.53,
           0.67,
           0.515,
           0.62,
           0.625,
           0.58,
           0.605,
           0.56,
           0.565,
           0.625
          ],
          [
           0.57,
           0.585,
           0.65,
           0.555,
           0.61,
           0.59,
           0.61,
           0.6,
           0.58,
           0.565,
           0.6,
           0.58,
           0.635,
           0.55,
           0.65,
           0.555,
           0.575,
           0.585,
           0.595,
           0.59,
           0.595,
           0.625,
           0.585,
           0.615,
           0.6
          ],
          [
           0.575,
           0.63,
           0.545,
           0.605,
           0.57,
           0.595,
           0.54,
           0.595,
           0.645,
           0.65,
           0.57,
           0.595,
           0.55,
           0.65,
           0.59,
           0.56,
           0.595,
           0.6,
           0.58,
           0.58,
           0.59,
           0.63,
           0.59,
           0.605,
           0.59
          ],
          [
           0.605,
           0.59,
           0.605,
           0.575,
           0.57,
           0.595,
           0.57,
           0.58,
           0.67,
           0.61,
           0.575,
           0.615,
           0.595,
           0.625,
           0.65,
           0.64,
           0.63,
           0.565,
           0.565,
           0.605,
           0.53,
           0.59,
           0.57,
           0.6,
           0.595
          ],
          [
           0.61,
           0.61,
           0.61,
           0.66,
           0.68,
           0.615,
           0.55,
           0.605,
           0.66,
           0.645,
           0.615,
           0.615,
           0.675,
           0.57,
           0.59,
           0.515,
           0.655,
           0.615,
           0.645,
           0.615,
           0.6,
           0.53,
           0.605,
           0.545,
           0.575
          ],
          [
           0.59,
           0.6,
           0.59,
           0.655,
           0.62,
           0.645,
           0.61,
           0.64,
           0.57,
           0.66,
           0.62,
           0.565,
           0.615,
           0.595,
           0.65,
           0.565,
           0.61,
           0.63,
           0.57,
           0.615,
           0.59,
           0.635,
           0.665,
           0.55,
           0.595
          ],
          [
           0.555,
           0.535,
           0.6,
           0.63,
           0.58,
           0.625,
           0.61,
           0.65,
           0.655,
           0.645,
           0.61,
           0.63,
           0.65,
           0.64,
           0.69,
           0.61,
           0.645,
           0.585,
           0.6,
           0.62,
           0.65,
           0.58,
           0.685,
           0.66,
           0.595
          ],
          [
           0.595,
           0.645,
           0.595,
           0.575,
           0.62,
           0.61,
           0.57,
           0.655,
           0.595,
           0.585,
           0.615,
           0.655,
           0.54,
           0.605,
           0.65,
           0.645,
           0.63,
           0.65,
           0.595,
           0.615,
           0.565,
           0.66,
           0.615,
           0.63,
           0.595
          ],
          [
           0.62,
           0.605,
           0.63,
           0.66,
           0.655,
           0.55,
           0.62,
           0.59,
           0.605,
           0.625,
           0.61,
           0.675,
           0.59,
           0.66,
           0.605,
           0.635,
           0.61,
           0.61,
           0.6,
           0.55,
           0.61,
           0.685,
           0.58,
           0.665,
           0.66
          ],
          [
           0.67,
           0.605,
           0.645,
           0.645,
           0.72,
           0.635,
           0.635,
           0.65,
           0.65,
           0.675,
           0.69,
           0.665,
           0.72,
           0.6,
           0.625,
           0.66,
           0.675,
           0.615,
           0.64,
           0.59,
           0.69,
           0.66,
           0.605,
           0.66,
           0.71
          ],
          [
           0.615,
           0.625,
           0.645,
           0.63,
           0.65,
           0.575,
           0.635,
           0.64,
           0.655,
           0.62,
           0.71,
           0.58,
           0.62,
           0.625,
           0.67,
           0.665,
           0.68,
           0.625,
           0.725,
           0.67,
           0.735,
           0.615,
           0.72,
           0.69,
           0.665
          ],
          [
           0.67,
           0.59,
           0.64,
           0.555,
           0.645,
           0.655,
           0.525,
           0.645,
           0.635,
           0.54,
           0.63,
           0.645,
           0.5,
           0.715,
           0.635,
           0.685,
           0.695,
           0.65,
           0.575,
           0.62,
           0.675,
           0.66,
           0.62,
           0.65,
           0.62
          ],
          [
           0.545,
           0.685,
           0.69,
           0.675,
           0.65,
           0.705,
           0.715,
           0.66,
           0.705,
           0.69,
           0.68,
           0.7,
           0.685,
           0.695,
           0.775,
           0.67,
           0.675,
           0.695,
           0.615,
           0.675,
           0.665,
           0.69,
           0.675,
           0.715,
           0.645
          ],
          [
           0.67,
           0.66,
           0.59,
           0.715,
           0.71,
           0.575,
           0.685,
           0.645,
           0.665,
           0.675,
           0.655,
           0.585,
           0.65,
           0.55,
           0.73,
           0.655,
           0.535,
           0.635,
           0.54,
           0.68,
           0.72,
           0.71,
           0.695,
           0.71,
           0.68
          ],
          [
           0.595,
           0.7,
           0.71,
           0.655,
           0.68,
           0.595,
           0.645,
           0.655,
           0.715,
           0.67,
           0.645,
           0.75,
           0.685,
           0.71,
           0.71,
           0.705,
           0.675,
           0.675,
           0.69,
           0.52,
           0.745,
           0.67,
           0.69,
           0.705,
           0.665
          ],
          [
           0.73,
           0.66,
           0.76,
           0.605,
           0.69,
           0.72,
           0.685,
           0.755,
           0.685,
           0.67,
           0.74,
           0.745,
           0.65,
           0.665,
           0.695,
           0.73,
           0.765,
           0.76,
           0.72,
           0.7,
           0.67,
           0.705,
           0.715,
           0.7,
           0.695
          ],
          [
           0.69,
           0.69,
           0.725,
           0.715,
           0.615,
           0.585,
           0.675,
           0.695,
           0.71,
           0.635,
           0.725,
           0.675,
           0.76,
           0.69,
           0.71,
           0.66,
           0.71,
           0.72,
           0.67,
           0.645,
           0.62,
           0.73,
           0.68,
           0.68,
           0.665
          ],
          [
           0.635,
           0.715,
           0.74,
           0.705,
           0.64,
           0.65,
           0.685,
           0.66,
           0.605,
           0.71,
           0.705,
           0.53,
           0.71,
           0.78,
           0.675,
           0.715,
           0.635,
           0.715,
           0.715,
           0.655,
           0.74,
           0.75,
           0.66,
           0.7,
           0.65
          ],
          [
           0.65,
           0.71,
           0.58,
           0.7,
           0.575,
           0.64,
           0.615,
           0.675,
           0.7,
           0.64,
           0.755,
           0.7,
           0.655,
           0.685,
           0.765,
           0.67,
           0.645,
           0.61,
           0.7,
           0.74,
           0.705,
           0.705,
           0.645,
           0.735,
           0.68
          ],
          [
           0.56,
           0.675,
           0.635,
           0.625,
           0.665,
           0.69,
           0.72,
           0.68,
           0.695,
           0.695,
           0.635,
           0.655,
           0.715,
           0.685,
           0.7,
           0.705,
           0.62,
           0.625,
           0.57,
           0.635,
           0.72,
           0.7,
           0.64,
           0.675,
           0.595
          ],
          [
           0.615,
           0.68,
           0.65,
           0.64,
           0.685,
           0.625,
           0.675,
           0.69,
           0.65,
           0.665,
           0.76,
           0.685,
           0.695,
           0.7,
           0.68,
           0.64,
           0.66,
           0.615,
           0.64,
           0.695,
           0.585,
           0.735,
           0.575,
           0.68,
           0.66
          ],
          [
           0.76,
           0.685,
           0.695,
           0.62,
           0.605,
           0.605,
           0.685,
           0.645,
           0.725,
           0.655,
           0.705,
           0.66,
           0.645,
           0.61,
           0.7,
           0.72,
           0.605,
           0.63,
           0.655,
           0.715,
           0.675,
           0.705,
           0.645,
           0.575,
           0.62
          ],
          [
           0.645,
           0.56,
           0.665,
           0.645,
           0.675,
           0.65,
           0.68,
           0.685,
           0.61,
           0.67,
           0.71,
           0.56,
           0.56,
           0.72,
           0.705,
           0.68,
           0.72,
           0.66,
           0.72,
           0.61,
           0.6,
           0.63,
           0.645,
           0.7,
           0.595
          ],
          [
           0.585,
           0.65,
           0.545,
           0.705,
           0.75,
           0.6,
           0.66,
           0.61,
           0.635,
           0.685,
           0.54,
           0.68,
           0.625,
           0.66,
           0.62,
           0.58,
           0.65,
           0.64,
           0.545,
           0.56,
           0.565,
           0.68,
           0.72,
           0.61,
           0.615
          ],
          [
           0.62,
           0.68,
           0.68,
           0.69,
           0.675,
           0.745,
           0.665,
           0.685,
           0.585,
           0.64,
           0.725,
           0.61,
           0.68,
           0.545,
           0.615,
           0.665,
           0.64,
           0.615,
           0.73,
           0.65,
           0.68,
           0.505,
           0.555,
           0.645,
           0.665
          ],
          [
           0.615,
           0.685,
           0.62,
           0.66,
           0.685,
           0.53,
           0.68,
           0.69,
           0.58,
           0.6,
           0.715,
           0.65,
           0.655,
           0.67,
           0.67,
           0.565,
           0.675,
           0.525,
           0.57,
           0.7,
           0.635,
           0.72,
           0.705,
           0.66,
           0.72
          ],
          [
           0.68,
           0.55,
           0.695,
           0.61,
           0.69,
           0.65,
           0.72,
           0.615,
           0.605,
           0.64,
           0.645,
           0.625,
           0.595,
           0.675,
           0.655,
           0.655,
           0.665,
           0.695,
           0.64,
           0.705,
           0.545,
           0.665,
           0.65,
           0.68,
           0.66
          ],
          [
           0.655,
           0.575,
           0.59,
           0.675,
           0.605,
           0.605,
           0.555,
           0.535,
           0.66,
           0.555,
           0.585,
           0.695,
           0.64,
           0.605,
           0.655,
           0.655,
           0.62,
           0.68,
           0.61,
           0.53,
           0.67,
           0.64,
           0.645,
           0.69,
           0.68
          ],
          [
           0.58,
           0.64,
           0.655,
           0.685,
           0.615,
           0.56,
           0.62,
           0.59,
           0.605,
           0.585,
           0.54,
           0.645,
           0.67,
           0.605,
           0.575,
           0.64,
           0.66,
           0.52,
           0.55,
           0.54,
           0.725,
           0.67,
           0.675,
           0.655,
           0.67
          ],
          [
           0.605,
           0.565,
           0.675,
           0.57,
           0.58,
           0.665,
           0.61,
           0.625,
           0.645,
           0.65,
           0.62,
           0.66,
           0.63,
           0.65,
           0.63,
           0.515,
           0.625,
           0.555,
           0.71,
           0.68,
           0.595,
           0.565,
           0.655,
           0.63,
           0.65
          ],
          [
           0.64,
           0.545,
           0.6,
           0.63,
           0.62,
           0.655,
           0.58,
           0.67,
           0.66,
           0.49,
           0.705,
           0.73,
           0.595,
           0.675,
           0.63,
           0.68,
           0.64,
           0.625,
           0.665,
           0.6,
           0.665,
           0.68,
           0.59,
           0.665,
           0.575
          ],
          [
           0.555,
           0.755,
           0.56,
           0.63,
           0.665,
           0.66,
           0.64,
           0.54,
           0.46,
           0.64,
           0.69,
           0.625,
           0.685,
           0.535,
           0.635,
           0.605,
           0.62,
           0.57,
           0.625,
           0.615,
           0.695,
           0.67,
           0.655,
           0.6,
           0.655
          ],
          [
           0.555,
           0.565,
           0.525,
           0.635,
           0.65,
           0.625,
           0.58,
           0.53,
           0.685,
           0.59,
           0.635,
           0.63,
           0.595,
           0.585,
           0.48,
           0.645,
           0.585,
           0.575,
           0.61,
           0.615,
           0.635,
           0.725,
           0.625,
           0.56,
           0.605
          ],
          [
           0.615,
           0.65,
           0.535,
           0.685,
           0.57,
           0.56,
           0.555,
           0.56,
           0.62,
           0.585,
           0.565,
           0.625,
           0.65,
           0.665,
           0.615,
           0.52,
           0.685,
           0.645,
           0.655,
           0.625,
           0.7,
           0.6,
           0.555,
           0.575,
           0.61
          ],
          [
           0.55,
           0.605,
           0.7,
           0.61,
           0.585,
           0.62,
           0.495,
           0.54,
           0.575,
           0.605,
           0.605,
           0.635,
           0.635,
           0.545,
           0.58,
           0.56,
           0.62,
           0.55,
           0.545,
           0.7,
           0.605,
           0.515,
           0.605,
           0.54,
           0.575
          ],
          [
           0.68,
           0.525,
           0.68,
           0.66,
           0.545,
           0.595,
           0.615,
           0.675,
           0.555,
           0.545,
           0.665,
           0.565,
           0.625,
           0.63,
           0.71,
           0.67,
           0.6,
           0.7,
           0.665,
           0.64,
           0.6,
           0.545,
           0.58,
           0.665,
           0.61
          ],
          [
           0.52,
           0.54,
           0.645,
           0.545,
           0.615,
           0.685,
           0.64,
           0.605,
           0.505,
           0.625,
           0.655,
           0.625,
           0.58,
           0.585,
           0.655,
           0.63,
           0.615,
           0.61,
           0.49,
           0.615,
           0.645,
           0.57,
           0.53,
           0.65,
           0.545
          ],
          [
           0.615,
           0.52,
           0.595,
           0.615,
           0.545,
           0.615,
           0.525,
           0.625,
           0.595,
           0.645,
           0.585,
           0.55,
           0.6,
           0.615,
           0.615,
           0.62,
           0.62,
           0.575,
           0.485,
           0.635,
           0.57,
           0.655,
           0.625,
           0.47,
           0.545
          ],
          [
           0.61,
           0.635,
           0.62,
           0.64,
           0.62,
           0.61,
           0.605,
           0.63,
           0.565,
           0.57,
           0.68,
           0.615,
           0.635,
           0.705,
           0.61,
           0.52,
           0.515,
           0.58,
           0.595,
           0.595,
           0.64,
           0.56,
           0.605,
           0.615,
           0.52
          ],
          [
           0.69,
           0.58,
           0.565,
           0.645,
           0.58,
           0.65,
           0.67,
           0.63,
           0.625,
           0.505,
           0.6,
           0.59,
           0.605,
           0.62,
           0.61,
           0.58,
           0.64,
           0.665,
           0.54,
           0.595,
           0.57,
           0.555,
           0.56,
           0.615,
           0.58
          ],
          [
           0.68,
           0.61,
           0.475,
           0.625,
           0.64,
           0.6,
           0.59,
           0.605,
           0.635,
           0.645,
           0.58,
           0.575,
           0.56,
           0.57,
           0.59,
           0.55,
           0.585,
           0.635,
           0.5,
           0.585,
           0.61,
           0.635,
           0.625,
           0.62,
           0.62
          ],
          [
           0.71,
           0.63,
           0.68,
           0.55,
           0.605,
           0.665,
           0.655,
           0.65,
           0.64,
           0.615,
           0.635,
           0.65,
           0.62,
           0.6,
           0.625,
           0.65,
           0.555,
           0.645,
           0.62,
           0.625,
           0.64,
           0.63,
           0.63,
           0.61,
           0.565
          ]
         ]
        }
       ],
       "layout": {
        "coloraxis": {
         "cmid": 0.5,
         "colorscale": [
          [
           0,
           "rgb(255,255,217)"
          ],
          [
           0.125,
           "rgb(237,248,177)"
          ],
          [
           0.25,
           "rgb(199,233,180)"
          ],
          [
           0.375,
           "rgb(127,205,187)"
          ],
          [
           0.5,
           "rgb(65,182,196)"
          ],
          [
           0.625,
           "rgb(29,145,192)"
          ],
          [
           0.75,
           "rgb(34,94,168)"
          ],
          [
           0.875,
           "rgb(37,52,148)"
          ],
          [
           1,
           "rgb(8,29,88)"
          ]
         ]
        },
        "template": {
         "data": {
          "bar": [
           {
            "error_x": {
             "color": "#2a3f5f"
            },
            "error_y": {
             "color": "#2a3f5f"
            },
            "marker": {
             "line": {
              "color": "#E5ECF6",
              "width": 0.5
             },
             "pattern": {
              "fillmode": "overlay",
              "size": 10,
              "solidity": 0.2
             }
            },
            "type": "bar"
           }
          ],
          "barpolar": [
           {
            "marker": {
             "line": {
              "color": "#E5ECF6",
              "width": 0.5
             },
             "pattern": {
              "fillmode": "overlay",
              "size": 10,
              "solidity": 0.2
             }
            },
            "type": "barpolar"
           }
          ],
          "carpet": [
           {
            "aaxis": {
             "endlinecolor": "#2a3f5f",
             "gridcolor": "white",
             "linecolor": "white",
             "minorgridcolor": "white",
             "startlinecolor": "#2a3f5f"
            },
            "baxis": {
             "endlinecolor": "#2a3f5f",
             "gridcolor": "white",
             "linecolor": "white",
             "minorgridcolor": "white",
             "startlinecolor": "#2a3f5f"
            },
            "type": "carpet"
           }
          ],
          "choropleth": [
           {
            "colorbar": {
             "outlinewidth": 0,
             "ticks": ""
            },
            "type": "choropleth"
           }
          ],
          "contour": [
           {
            "colorbar": {
             "outlinewidth": 0,
             "ticks": ""
            },
            "colorscale": [
             [
              0,
              "#0d0887"
             ],
             [
              0.1111111111111111,
              "#46039f"
             ],
             [
              0.2222222222222222,
              "#7201a8"
             ],
             [
              0.3333333333333333,
              "#9c179e"
             ],
             [
              0.4444444444444444,
              "#bd3786"
             ],
             [
              0.5555555555555556,
              "#d8576b"
             ],
             [
              0.6666666666666666,
              "#ed7953"
             ],
             [
              0.7777777777777778,
              "#fb9f3a"
             ],
             [
              0.8888888888888888,
              "#fdca26"
             ],
             [
              1,
              "#f0f921"
             ]
            ],
            "type": "contour"
           }
          ],
          "contourcarpet": [
           {
            "colorbar": {
             "outlinewidth": 0,
             "ticks": ""
            },
            "type": "contourcarpet"
           }
          ],
          "heatmap": [
           {
            "colorbar": {
             "outlinewidth": 0,
             "ticks": ""
            },
            "colorscale": [
             [
              0,
              "#0d0887"
             ],
             [
              0.1111111111111111,
              "#46039f"
             ],
             [
              0.2222222222222222,
              "#7201a8"
             ],
             [
              0.3333333333333333,
              "#9c179e"
             ],
             [
              0.4444444444444444,
              "#bd3786"
             ],
             [
              0.5555555555555556,
              "#d8576b"
             ],
             [
              0.6666666666666666,
              "#ed7953"
             ],
             [
              0.7777777777777778,
              "#fb9f3a"
             ],
             [
              0.8888888888888888,
              "#fdca26"
             ],
             [
              1,
              "#f0f921"
             ]
            ],
            "type": "heatmap"
           }
          ],
          "heatmapgl": [
           {
            "colorbar": {
             "outlinewidth": 0,
             "ticks": ""
            },
            "colorscale": [
             [
              0,
              "#0d0887"
             ],
             [
              0.1111111111111111,
              "#46039f"
             ],
             [
              0.2222222222222222,
              "#7201a8"
             ],
             [
              0.3333333333333333,
              "#9c179e"
             ],
             [
              0.4444444444444444,
              "#bd3786"
             ],
             [
              0.5555555555555556,
              "#d8576b"
             ],
             [
              0.6666666666666666,
              "#ed7953"
             ],
             [
              0.7777777777777778,
              "#fb9f3a"
             ],
             [
              0.8888888888888888,
              "#fdca26"
             ],
             [
              1,
              "#f0f921"
             ]
            ],
            "type": "heatmapgl"
           }
          ],
          "histogram": [
           {
            "marker": {
             "pattern": {
              "fillmode": "overlay",
              "size": 10,
              "solidity": 0.2
             }
            },
            "type": "histogram"
           }
          ],
          "histogram2d": [
           {
            "colorbar": {
             "outlinewidth": 0,
             "ticks": ""
            },
            "colorscale": [
             [
              0,
              "#0d0887"
             ],
             [
              0.1111111111111111,
              "#46039f"
             ],
             [
              0.2222222222222222,
              "#7201a8"
             ],
             [
              0.3333333333333333,
              "#9c179e"
             ],
             [
              0.4444444444444444,
              "#bd3786"
             ],
             [
              0.5555555555555556,
              "#d8576b"
             ],
             [
              0.6666666666666666,
              "#ed7953"
             ],
             [
              0.7777777777777778,
              "#fb9f3a"
             ],
             [
              0.8888888888888888,
              "#fdca26"
             ],
             [
              1,
              "#f0f921"
             ]
            ],
            "type": "histogram2d"
           }
          ],
          "histogram2dcontour": [
           {
            "colorbar": {
             "outlinewidth": 0,
             "ticks": ""
            },
            "colorscale": [
             [
              0,
              "#0d0887"
             ],
             [
              0.1111111111111111,
              "#46039f"
             ],
             [
              0.2222222222222222,
              "#7201a8"
             ],
             [
              0.3333333333333333,
              "#9c179e"
             ],
             [
              0.4444444444444444,
              "#bd3786"
             ],
             [
              0.5555555555555556,
              "#d8576b"
             ],
             [
              0.6666666666666666,
              "#ed7953"
             ],
             [
              0.7777777777777778,
              "#fb9f3a"
             ],
             [
              0.8888888888888888,
              "#fdca26"
             ],
             [
              1,
              "#f0f921"
             ]
            ],
            "type": "histogram2dcontour"
           }
          ],
          "mesh3d": [
           {
            "colorbar": {
             "outlinewidth": 0,
             "ticks": ""
            },
            "type": "mesh3d"
           }
          ],
          "parcoords": [
           {
            "line": {
             "colorbar": {
              "outlinewidth": 0,
              "ticks": ""
             }
            },
            "type": "parcoords"
           }
          ],
          "pie": [
           {
            "automargin": true,
            "type": "pie"
           }
          ],
          "scatter": [
           {
            "fillpattern": {
             "fillmode": "overlay",
             "size": 10,
             "solidity": 0.2
            },
            "type": "scatter"
           }
          ],
          "scatter3d": [
           {
            "line": {
             "colorbar": {
              "outlinewidth": 0,
              "ticks": ""
             }
            },
            "marker": {
             "colorbar": {
              "outlinewidth": 0,
              "ticks": ""
             }
            },
            "type": "scatter3d"
           }
          ],
          "scattercarpet": [
           {
            "marker": {
             "colorbar": {
              "outlinewidth": 0,
              "ticks": ""
             }
            },
            "type": "scattercarpet"
           }
          ],
          "scattergeo": [
           {
            "marker": {
             "colorbar": {
              "outlinewidth": 0,
              "ticks": ""
             }
            },
            "type": "scattergeo"
           }
          ],
          "scattergl": [
           {
            "marker": {
             "colorbar": {
              "outlinewidth": 0,
              "ticks": ""
             }
            },
            "type": "scattergl"
           }
          ],
          "scattermapbox": [
           {
            "marker": {
             "colorbar": {
              "outlinewidth": 0,
              "ticks": ""
             }
            },
            "type": "scattermapbox"
           }
          ],
          "scatterpolar": [
           {
            "marker": {
             "colorbar": {
              "outlinewidth": 0,
              "ticks": ""
             }
            },
            "type": "scatterpolar"
           }
          ],
          "scatterpolargl": [
           {
            "marker": {
             "colorbar": {
              "outlinewidth": 0,
              "ticks": ""
             }
            },
            "type": "scatterpolargl"
           }
          ],
          "scatterternary": [
           {
            "marker": {
             "colorbar": {
              "outlinewidth": 0,
              "ticks": ""
             }
            },
            "type": "scatterternary"
           }
          ],
          "surface": [
           {
            "colorbar": {
             "outlinewidth": 0,
             "ticks": ""
            },
            "colorscale": [
             [
              0,
              "#0d0887"
             ],
             [
              0.1111111111111111,
              "#46039f"
             ],
             [
              0.2222222222222222,
              "#7201a8"
             ],
             [
              0.3333333333333333,
              "#9c179e"
             ],
             [
              0.4444444444444444,
              "#bd3786"
             ],
             [
              0.5555555555555556,
              "#d8576b"
             ],
             [
              0.6666666666666666,
              "#ed7953"
             ],
             [
              0.7777777777777778,
              "#fb9f3a"
             ],
             [
              0.8888888888888888,
              "#fdca26"
             ],
             [
              1,
              "#f0f921"
             ]
            ],
            "type": "surface"
           }
          ],
          "table": [
           {
            "cells": {
             "fill": {
              "color": "#EBF0F8"
             },
             "line": {
              "color": "white"
             }
            },
            "header": {
             "fill": {
              "color": "#C8D4E3"
             },
             "line": {
              "color": "white"
             }
            },
            "type": "table"
           }
          ]
         },
         "layout": {
          "annotationdefaults": {
           "arrowcolor": "#2a3f5f",
           "arrowhead": 0,
           "arrowwidth": 1
          },
          "autotypenumbers": "strict",
          "coloraxis": {
           "colorbar": {
            "outlinewidth": 0,
            "ticks": ""
           }
          },
          "colorscale": {
           "diverging": [
            [
             0,
             "#8e0152"
            ],
            [
             0.1,
             "#c51b7d"
            ],
            [
             0.2,
             "#de77ae"
            ],
            [
             0.3,
             "#f1b6da"
            ],
            [
             0.4,
             "#fde0ef"
            ],
            [
             0.5,
             "#f7f7f7"
            ],
            [
             0.6,
             "#e6f5d0"
            ],
            [
             0.7,
             "#b8e186"
            ],
            [
             0.8,
             "#7fbc41"
            ],
            [
             0.9,
             "#4d9221"
            ],
            [
             1,
             "#276419"
            ]
           ],
           "sequential": [
            [
             0,
             "#0d0887"
            ],
            [
             0.1111111111111111,
             "#46039f"
            ],
            [
             0.2222222222222222,
             "#7201a8"
            ],
            [
             0.3333333333333333,
             "#9c179e"
            ],
            [
             0.4444444444444444,
             "#bd3786"
            ],
            [
             0.5555555555555556,
             "#d8576b"
            ],
            [
             0.6666666666666666,
             "#ed7953"
            ],
            [
             0.7777777777777778,
             "#fb9f3a"
            ],
            [
             0.8888888888888888,
             "#fdca26"
            ],
            [
             1,
             "#f0f921"
            ]
           ],
           "sequentialminus": [
            [
             0,
             "#0d0887"
            ],
            [
             0.1111111111111111,
             "#46039f"
            ],
            [
             0.2222222222222222,
             "#7201a8"
            ],
            [
             0.3333333333333333,
             "#9c179e"
            ],
            [
             0.4444444444444444,
             "#bd3786"
            ],
            [
             0.5555555555555556,
             "#d8576b"
            ],
            [
             0.6666666666666666,
             "#ed7953"
            ],
            [
             0.7777777777777778,
             "#fb9f3a"
            ],
            [
             0.8888888888888888,
             "#fdca26"
            ],
            [
             1,
             "#f0f921"
            ]
           ]
          },
          "colorway": [
           "#636efa",
           "#EF553B",
           "#00cc96",
           "#ab63fa",
           "#FFA15A",
           "#19d3f3",
           "#FF6692",
           "#B6E880",
           "#FF97FF",
           "#FECB52"
          ],
          "font": {
           "color": "#2a3f5f"
          },
          "geo": {
           "bgcolor": "white",
           "lakecolor": "white",
           "landcolor": "#E5ECF6",
           "showlakes": true,
           "showland": true,
           "subunitcolor": "white"
          },
          "hoverlabel": {
           "align": "left"
          },
          "hovermode": "closest",
          "mapbox": {
           "style": "light"
          },
          "paper_bgcolor": "white",
          "plot_bgcolor": "#E5ECF6",
          "polar": {
           "angularaxis": {
            "gridcolor": "white",
            "linecolor": "white",
            "ticks": ""
           },
           "bgcolor": "#E5ECF6",
           "radialaxis": {
            "gridcolor": "white",
            "linecolor": "white",
            "ticks": ""
           }
          },
          "scene": {
           "xaxis": {
            "backgroundcolor": "#E5ECF6",
            "gridcolor": "white",
            "gridwidth": 2,
            "linecolor": "white",
            "showbackground": true,
            "ticks": "",
            "zerolinecolor": "white"
           },
           "yaxis": {
            "backgroundcolor": "#E5ECF6",
            "gridcolor": "white",
            "gridwidth": 2,
            "linecolor": "white",
            "showbackground": true,
            "ticks": "",
            "zerolinecolor": "white"
           },
           "zaxis": {
            "backgroundcolor": "#E5ECF6",
            "gridcolor": "white",
            "gridwidth": 2,
            "linecolor": "white",
            "showbackground": true,
            "ticks": "",
            "zerolinecolor": "white"
           }
          },
          "shapedefaults": {
           "line": {
            "color": "#2a3f5f"
           }
          },
          "ternary": {
           "aaxis": {
            "gridcolor": "white",
            "linecolor": "white",
            "ticks": ""
           },
           "baxis": {
            "gridcolor": "white",
            "linecolor": "white",
            "ticks": ""
           },
           "bgcolor": "#E5ECF6",
           "caxis": {
            "gridcolor": "white",
            "linecolor": "white",
            "ticks": ""
           }
          },
          "title": {
           "x": 0.05
          },
          "xaxis": {
           "automargin": true,
           "gridcolor": "white",
           "linecolor": "white",
           "ticks": "",
           "title": {
            "standoff": 15
           },
           "zerolinecolor": "white",
           "zerolinewidth": 2
          },
          "yaxis": {
           "automargin": true,
           "gridcolor": "white",
           "linecolor": "white",
           "ticks": "",
           "title": {
            "standoff": 15
           },
           "zerolinecolor": "white",
           "zerolinewidth": 2
          }
         }
        },
        "title": {
         "text": "Probe Accuracies"
        },
        "xaxis": {
         "anchor": "y",
         "constrain": "domain",
         "domain": [
          0,
          1
         ],
         "scaleanchor": "y",
         "title": {
          "text": "Heads (sorted)"
         }
        },
        "yaxis": {
         "anchor": "x",
         "autorange": true,
         "constrain": "domain",
         "domain": [
          0,
          1
         ],
         "title": {
          "text": "Layers"
         }
        }
       }
      },
      "text/html": [
       "<div>                            <div id=\"9f806ff3-defc-425c-a2ca-6a89e545af03\" class=\"plotly-graph-div\" style=\"height:525px; width:100%;\"></div>            <script type=\"text/javascript\">                require([\"plotly\"], function(Plotly) {                    window.PLOTLYENV=window.PLOTLYENV || {};                                    if (document.getElementById(\"9f806ff3-defc-425c-a2ca-6a89e545af03\")) {                    Plotly.newPlot(                        \"9f806ff3-defc-425c-a2ca-6a89e545af03\",                        [{\"coloraxis\":\"coloraxis\",\"name\":\"0\",\"z\":[[0.495,0.49,0.47,0.46,0.47,0.46,0.475,0.525,0.52,0.555,0.48,0.545,0.475,0.555,0.495,0.54,0.49,0.505,0.55,0.495,0.49,0.585,0.535,0.465,0.55],[0.575,0.57,0.59,0.545,0.5,0.53,0.625,0.595,0.6,0.565,0.56,0.59,0.525,0.57,0.655,0.635,0.585,0.575,0.54,0.615,0.605,0.49,0.55,0.575,0.6],[0.56,0.55,0.55,0.535,0.64,0.615,0.555,0.535,0.6,0.58,0.55,0.58,0.505,0.575,0.59,0.55,0.54,0.6,0.575,0.63,0.545,0.565,0.58,0.585,0.51],[0.51,0.585,0.585,0.61,0.575,0.56,0.535,0.57,0.545,0.575,0.58,0.62,0.62,0.645,0.565,0.605,0.595,0.56,0.64,0.52,0.52,0.555,0.545,0.59,0.615],[0.505,0.485,0.62,0.58,0.585,0.6,0.585,0.61,0.62,0.585,0.59,0.5,0.64,0.605,0.59,0.6,0.555,0.62,0.585,0.55,0.555,0.59,0.595,0.625,0.63],[0.605,0.58,0.575,0.59,0.64,0.58,0.63,0.635,0.645,0.575,0.61,0.505,0.555,0.615,0.595,0.625,0.62,0.63,0.57,0.56,0.6,0.63,0.6,0.555,0.62],[0.565,0.565,0.63,0.62,0.575,0.61,0.585,0.59,0.595,0.65,0.61,0.61,0.62,0.605,0.58,0.53,0.67,0.515,0.62,0.625,0.58,0.605,0.56,0.565,0.625],[0.57,0.585,0.65,0.555,0.61,0.59,0.61,0.6,0.58,0.565,0.6,0.58,0.635,0.55,0.65,0.555,0.575,0.585,0.595,0.59,0.595,0.625,0.585,0.615,0.6],[0.575,0.63,0.545,0.605,0.57,0.595,0.54,0.595,0.645,0.65,0.57,0.595,0.55,0.65,0.59,0.56,0.595,0.6,0.58,0.58,0.59,0.63,0.59,0.605,0.59],[0.605,0.59,0.605,0.575,0.57,0.595,0.57,0.58,0.67,0.61,0.575,0.615,0.595,0.625,0.65,0.64,0.63,0.565,0.565,0.605,0.53,0.59,0.57,0.6,0.595],[0.61,0.61,0.61,0.66,0.68,0.615,0.55,0.605,0.66,0.645,0.615,0.615,0.675,0.57,0.59,0.515,0.655,0.615,0.645,0.615,0.6,0.53,0.605,0.545,0.575],[0.59,0.6,0.59,0.655,0.62,0.645,0.61,0.64,0.57,0.66,0.62,0.565,0.615,0.595,0.65,0.565,0.61,0.63,0.57,0.615,0.59,0.635,0.665,0.55,0.595],[0.555,0.535,0.6,0.63,0.58,0.625,0.61,0.65,0.655,0.645,0.61,0.63,0.65,0.64,0.69,0.61,0.645,0.585,0.6,0.62,0.65,0.58,0.685,0.66,0.595],[0.595,0.645,0.595,0.575,0.62,0.61,0.57,0.655,0.595,0.585,0.615,0.655,0.54,0.605,0.65,0.645,0.63,0.65,0.595,0.615,0.565,0.66,0.615,0.63,0.595],[0.62,0.605,0.63,0.66,0.655,0.55,0.62,0.59,0.605,0.625,0.61,0.675,0.59,0.66,0.605,0.635,0.61,0.61,0.6,0.55,0.61,0.685,0.58,0.665,0.66],[0.67,0.605,0.645,0.645,0.72,0.635,0.635,0.65,0.65,0.675,0.69,0.665,0.72,0.6,0.625,0.66,0.675,0.615,0.64,0.59,0.69,0.66,0.605,0.66,0.71],[0.615,0.625,0.645,0.63,0.65,0.575,0.635,0.64,0.655,0.62,0.71,0.58,0.62,0.625,0.67,0.665,0.68,0.625,0.725,0.67,0.735,0.615,0.72,0.69,0.665],[0.67,0.59,0.64,0.555,0.645,0.655,0.525,0.645,0.635,0.54,0.63,0.645,0.5,0.715,0.635,0.685,0.695,0.65,0.575,0.62,0.675,0.66,0.62,0.65,0.62],[0.545,0.685,0.69,0.675,0.65,0.705,0.715,0.66,0.705,0.69,0.68,0.7,0.685,0.695,0.775,0.67,0.675,0.695,0.615,0.675,0.665,0.69,0.675,0.715,0.645],[0.67,0.66,0.59,0.715,0.71,0.575,0.685,0.645,0.665,0.675,0.655,0.585,0.65,0.55,0.73,0.655,0.535,0.635,0.54,0.68,0.72,0.71,0.695,0.71,0.68],[0.595,0.7,0.71,0.655,0.68,0.595,0.645,0.655,0.715,0.67,0.645,0.75,0.685,0.71,0.71,0.705,0.675,0.675,0.69,0.52,0.745,0.67,0.69,0.705,0.665],[0.73,0.66,0.76,0.605,0.69,0.72,0.685,0.755,0.685,0.67,0.74,0.745,0.65,0.665,0.695,0.73,0.765,0.76,0.72,0.7,0.67,0.705,0.715,0.7,0.695],[0.69,0.69,0.725,0.715,0.615,0.585,0.675,0.695,0.71,0.635,0.725,0.675,0.76,0.69,0.71,0.66,0.71,0.72,0.67,0.645,0.62,0.73,0.68,0.68,0.665],[0.635,0.715,0.74,0.705,0.64,0.65,0.685,0.66,0.605,0.71,0.705,0.53,0.71,0.78,0.675,0.715,0.635,0.715,0.715,0.655,0.74,0.75,0.66,0.7,0.65],[0.65,0.71,0.58,0.7,0.575,0.64,0.615,0.675,0.7,0.64,0.755,0.7,0.655,0.685,0.765,0.67,0.645,0.61,0.7,0.74,0.705,0.705,0.645,0.735,0.68],[0.56,0.675,0.635,0.625,0.665,0.69,0.72,0.68,0.695,0.695,0.635,0.655,0.715,0.685,0.7,0.705,0.62,0.625,0.57,0.635,0.72,0.7,0.64,0.675,0.595],[0.615,0.68,0.65,0.64,0.685,0.625,0.675,0.69,0.65,0.665,0.76,0.685,0.695,0.7,0.68,0.64,0.66,0.615,0.64,0.695,0.585,0.735,0.575,0.68,0.66],[0.76,0.685,0.695,0.62,0.605,0.605,0.685,0.645,0.725,0.655,0.705,0.66,0.645,0.61,0.7,0.72,0.605,0.63,0.655,0.715,0.675,0.705,0.645,0.575,0.62],[0.645,0.56,0.665,0.645,0.675,0.65,0.68,0.685,0.61,0.67,0.71,0.56,0.56,0.72,0.705,0.68,0.72,0.66,0.72,0.61,0.6,0.63,0.645,0.7,0.595],[0.585,0.65,0.545,0.705,0.75,0.6,0.66,0.61,0.635,0.685,0.54,0.68,0.625,0.66,0.62,0.58,0.65,0.64,0.545,0.56,0.565,0.68,0.72,0.61,0.615],[0.62,0.68,0.68,0.69,0.675,0.745,0.665,0.685,0.585,0.64,0.725,0.61,0.68,0.545,0.615,0.665,0.64,0.615,0.73,0.65,0.68,0.505,0.555,0.645,0.665],[0.615,0.685,0.62,0.66,0.685,0.53,0.68,0.69,0.58,0.6,0.715,0.65,0.655,0.67,0.67,0.565,0.675,0.525,0.57,0.7,0.635,0.72,0.705,0.66,0.72],[0.68,0.55,0.695,0.61,0.69,0.65,0.72,0.615,0.605,0.64,0.645,0.625,0.595,0.675,0.655,0.655,0.665,0.695,0.64,0.705,0.545,0.665,0.65,0.68,0.66],[0.655,0.575,0.59,0.675,0.605,0.605,0.555,0.535,0.66,0.555,0.585,0.695,0.64,0.605,0.655,0.655,0.62,0.68,0.61,0.53,0.67,0.64,0.645,0.69,0.68],[0.58,0.64,0.655,0.685,0.615,0.56,0.62,0.59,0.605,0.585,0.54,0.645,0.67,0.605,0.575,0.64,0.66,0.52,0.55,0.54,0.725,0.67,0.675,0.655,0.67],[0.605,0.565,0.675,0.57,0.58,0.665,0.61,0.625,0.645,0.65,0.62,0.66,0.63,0.65,0.63,0.515,0.625,0.555,0.71,0.68,0.595,0.565,0.655,0.63,0.65],[0.64,0.545,0.6,0.63,0.62,0.655,0.58,0.67,0.66,0.49,0.705,0.73,0.595,0.675,0.63,0.68,0.64,0.625,0.665,0.6,0.665,0.68,0.59,0.665,0.575],[0.555,0.755,0.56,0.63,0.665,0.66,0.64,0.54,0.46,0.64,0.69,0.625,0.685,0.535,0.635,0.605,0.62,0.57,0.625,0.615,0.695,0.67,0.655,0.6,0.655],[0.555,0.565,0.525,0.635,0.65,0.625,0.58,0.53,0.685,0.59,0.635,0.63,0.595,0.585,0.48,0.645,0.585,0.575,0.61,0.615,0.635,0.725,0.625,0.56,0.605],[0.615,0.65,0.535,0.685,0.57,0.56,0.555,0.56,0.62,0.585,0.565,0.625,0.65,0.665,0.615,0.52,0.685,0.645,0.655,0.625,0.7,0.6,0.555,0.575,0.61],[0.55,0.605,0.7,0.61,0.585,0.62,0.495,0.54,0.575,0.605,0.605,0.635,0.635,0.545,0.58,0.56,0.62,0.55,0.545,0.7,0.605,0.515,0.605,0.54,0.575],[0.68,0.525,0.68,0.66,0.545,0.595,0.615,0.675,0.555,0.545,0.665,0.565,0.625,0.63,0.71,0.67,0.6,0.7,0.665,0.64,0.6,0.545,0.58,0.665,0.61],[0.52,0.54,0.645,0.545,0.615,0.685,0.64,0.605,0.505,0.625,0.655,0.625,0.58,0.585,0.655,0.63,0.615,0.61,0.49,0.615,0.645,0.57,0.53,0.65,0.545],[0.615,0.52,0.595,0.615,0.545,0.615,0.525,0.625,0.595,0.645,0.585,0.55,0.6,0.615,0.615,0.62,0.62,0.575,0.485,0.635,0.57,0.655,0.625,0.47,0.545],[0.61,0.635,0.62,0.64,0.62,0.61,0.605,0.63,0.565,0.57,0.68,0.615,0.635,0.705,0.61,0.52,0.515,0.58,0.595,0.595,0.64,0.56,0.605,0.615,0.52],[0.69,0.58,0.565,0.645,0.58,0.65,0.67,0.63,0.625,0.505,0.6,0.59,0.605,0.62,0.61,0.58,0.64,0.665,0.54,0.595,0.57,0.555,0.56,0.615,0.58],[0.68,0.61,0.475,0.625,0.64,0.6,0.59,0.605,0.635,0.645,0.58,0.575,0.56,0.57,0.59,0.55,0.585,0.635,0.5,0.585,0.61,0.635,0.625,0.62,0.62],[0.71,0.63,0.68,0.55,0.605,0.665,0.655,0.65,0.64,0.615,0.635,0.65,0.62,0.6,0.625,0.65,0.555,0.645,0.62,0.625,0.64,0.63,0.63,0.61,0.565]],\"type\":\"heatmap\",\"xaxis\":\"x\",\"yaxis\":\"y\",\"hovertemplate\":\"Heads (sorted): %{x}\\u003cbr\\u003eLayers: %{y}\\u003cbr\\u003ecolor: %{z}\\u003cextra\\u003e\\u003c\\u002fextra\\u003e\"}],                        {\"template\":{\"data\":{\"histogram2dcontour\":[{\"type\":\"histogram2dcontour\",\"colorbar\":{\"outlinewidth\":0,\"ticks\":\"\"},\"colorscale\":[[0.0,\"#0d0887\"],[0.1111111111111111,\"#46039f\"],[0.2222222222222222,\"#7201a8\"],[0.3333333333333333,\"#9c179e\"],[0.4444444444444444,\"#bd3786\"],[0.5555555555555556,\"#d8576b\"],[0.6666666666666666,\"#ed7953\"],[0.7777777777777778,\"#fb9f3a\"],[0.8888888888888888,\"#fdca26\"],[1.0,\"#f0f921\"]]}],\"choropleth\":[{\"type\":\"choropleth\",\"colorbar\":{\"outlinewidth\":0,\"ticks\":\"\"}}],\"histogram2d\":[{\"type\":\"histogram2d\",\"colorbar\":{\"outlinewidth\":0,\"ticks\":\"\"},\"colorscale\":[[0.0,\"#0d0887\"],[0.1111111111111111,\"#46039f\"],[0.2222222222222222,\"#7201a8\"],[0.3333333333333333,\"#9c179e\"],[0.4444444444444444,\"#bd3786\"],[0.5555555555555556,\"#d8576b\"],[0.6666666666666666,\"#ed7953\"],[0.7777777777777778,\"#fb9f3a\"],[0.8888888888888888,\"#fdca26\"],[1.0,\"#f0f921\"]]}],\"heatmap\":[{\"type\":\"heatmap\",\"colorbar\":{\"outlinewidth\":0,\"ticks\":\"\"},\"colorscale\":[[0.0,\"#0d0887\"],[0.1111111111111111,\"#46039f\"],[0.2222222222222222,\"#7201a8\"],[0.3333333333333333,\"#9c179e\"],[0.4444444444444444,\"#bd3786\"],[0.5555555555555556,\"#d8576b\"],[0.6666666666666666,\"#ed7953\"],[0.7777777777777778,\"#fb9f3a\"],[0.8888888888888888,\"#fdca26\"],[1.0,\"#f0f921\"]]}],\"heatmapgl\":[{\"type\":\"heatmapgl\",\"colorbar\":{\"outlinewidth\":0,\"ticks\":\"\"},\"colorscale\":[[0.0,\"#0d0887\"],[0.1111111111111111,\"#46039f\"],[0.2222222222222222,\"#7201a8\"],[0.3333333333333333,\"#9c179e\"],[0.4444444444444444,\"#bd3786\"],[0.5555555555555556,\"#d8576b\"],[0.6666666666666666,\"#ed7953\"],[0.7777777777777778,\"#fb9f3a\"],[0.8888888888888888,\"#fdca26\"],[1.0,\"#f0f921\"]]}],\"contourcarpet\":[{\"type\":\"contourcarpet\",\"colorbar\":{\"outlinewidth\":0,\"ticks\":\"\"}}],\"contour\":[{\"type\":\"contour\",\"colorbar\":{\"outlinewidth\":0,\"ticks\":\"\"},\"colorscale\":[[0.0,\"#0d0887\"],[0.1111111111111111,\"#46039f\"],[0.2222222222222222,\"#7201a8\"],[0.3333333333333333,\"#9c179e\"],[0.4444444444444444,\"#bd3786\"],[0.5555555555555556,\"#d8576b\"],[0.6666666666666666,\"#ed7953\"],[0.7777777777777778,\"#fb9f3a\"],[0.8888888888888888,\"#fdca26\"],[1.0,\"#f0f921\"]]}],\"surface\":[{\"type\":\"surface\",\"colorbar\":{\"outlinewidth\":0,\"ticks\":\"\"},\"colorscale\":[[0.0,\"#0d0887\"],[0.1111111111111111,\"#46039f\"],[0.2222222222222222,\"#7201a8\"],[0.3333333333333333,\"#9c179e\"],[0.4444444444444444,\"#bd3786\"],[0.5555555555555556,\"#d8576b\"],[0.6666666666666666,\"#ed7953\"],[0.7777777777777778,\"#fb9f3a\"],[0.8888888888888888,\"#fdca26\"],[1.0,\"#f0f921\"]]}],\"mesh3d\":[{\"type\":\"mesh3d\",\"colorbar\":{\"outlinewidth\":0,\"ticks\":\"\"}}],\"scatter\":[{\"fillpattern\":{\"fillmode\":\"overlay\",\"size\":10,\"solidity\":0.2},\"type\":\"scatter\"}],\"parcoords\":[{\"type\":\"parcoords\",\"line\":{\"colorbar\":{\"outlinewidth\":0,\"ticks\":\"\"}}}],\"scatterpolargl\":[{\"type\":\"scatterpolargl\",\"marker\":{\"colorbar\":{\"outlinewidth\":0,\"ticks\":\"\"}}}],\"bar\":[{\"error_x\":{\"color\":\"#2a3f5f\"},\"error_y\":{\"color\":\"#2a3f5f\"},\"marker\":{\"line\":{\"color\":\"#E5ECF6\",\"width\":0.5},\"pattern\":{\"fillmode\":\"overlay\",\"size\":10,\"solidity\":0.2}},\"type\":\"bar\"}],\"scattergeo\":[{\"type\":\"scattergeo\",\"marker\":{\"colorbar\":{\"outlinewidth\":0,\"ticks\":\"\"}}}],\"scatterpolar\":[{\"type\":\"scatterpolar\",\"marker\":{\"colorbar\":{\"outlinewidth\":0,\"ticks\":\"\"}}}],\"histogram\":[{\"marker\":{\"pattern\":{\"fillmode\":\"overlay\",\"size\":10,\"solidity\":0.2}},\"type\":\"histogram\"}],\"scattergl\":[{\"type\":\"scattergl\",\"marker\":{\"colorbar\":{\"outlinewidth\":0,\"ticks\":\"\"}}}],\"scatter3d\":[{\"type\":\"scatter3d\",\"line\":{\"colorbar\":{\"outlinewidth\":0,\"ticks\":\"\"}},\"marker\":{\"colorbar\":{\"outlinewidth\":0,\"ticks\":\"\"}}}],\"scattermapbox\":[{\"type\":\"scattermapbox\",\"marker\":{\"colorbar\":{\"outlinewidth\":0,\"ticks\":\"\"}}}],\"scatterternary\":[{\"type\":\"scatterternary\",\"marker\":{\"colorbar\":{\"outlinewidth\":0,\"ticks\":\"\"}}}],\"scattercarpet\":[{\"type\":\"scattercarpet\",\"marker\":{\"colorbar\":{\"outlinewidth\":0,\"ticks\":\"\"}}}],\"carpet\":[{\"aaxis\":{\"endlinecolor\":\"#2a3f5f\",\"gridcolor\":\"white\",\"linecolor\":\"white\",\"minorgridcolor\":\"white\",\"startlinecolor\":\"#2a3f5f\"},\"baxis\":{\"endlinecolor\":\"#2a3f5f\",\"gridcolor\":\"white\",\"linecolor\":\"white\",\"minorgridcolor\":\"white\",\"startlinecolor\":\"#2a3f5f\"},\"type\":\"carpet\"}],\"table\":[{\"cells\":{\"fill\":{\"color\":\"#EBF0F8\"},\"line\":{\"color\":\"white\"}},\"header\":{\"fill\":{\"color\":\"#C8D4E3\"},\"line\":{\"color\":\"white\"}},\"type\":\"table\"}],\"barpolar\":[{\"marker\":{\"line\":{\"color\":\"#E5ECF6\",\"width\":0.5},\"pattern\":{\"fillmode\":\"overlay\",\"size\":10,\"solidity\":0.2}},\"type\":\"barpolar\"}],\"pie\":[{\"automargin\":true,\"type\":\"pie\"}]},\"layout\":{\"autotypenumbers\":\"strict\",\"colorway\":[\"#636efa\",\"#EF553B\",\"#00cc96\",\"#ab63fa\",\"#FFA15A\",\"#19d3f3\",\"#FF6692\",\"#B6E880\",\"#FF97FF\",\"#FECB52\"],\"font\":{\"color\":\"#2a3f5f\"},\"hovermode\":\"closest\",\"hoverlabel\":{\"align\":\"left\"},\"paper_bgcolor\":\"white\",\"plot_bgcolor\":\"#E5ECF6\",\"polar\":{\"bgcolor\":\"#E5ECF6\",\"angularaxis\":{\"gridcolor\":\"white\",\"linecolor\":\"white\",\"ticks\":\"\"},\"radialaxis\":{\"gridcolor\":\"white\",\"linecolor\":\"white\",\"ticks\":\"\"}},\"ternary\":{\"bgcolor\":\"#E5ECF6\",\"aaxis\":{\"gridcolor\":\"white\",\"linecolor\":\"white\",\"ticks\":\"\"},\"baxis\":{\"gridcolor\":\"white\",\"linecolor\":\"white\",\"ticks\":\"\"},\"caxis\":{\"gridcolor\":\"white\",\"linecolor\":\"white\",\"ticks\":\"\"}},\"coloraxis\":{\"colorbar\":{\"outlinewidth\":0,\"ticks\":\"\"}},\"colorscale\":{\"sequential\":[[0.0,\"#0d0887\"],[0.1111111111111111,\"#46039f\"],[0.2222222222222222,\"#7201a8\"],[0.3333333333333333,\"#9c179e\"],[0.4444444444444444,\"#bd3786\"],[0.5555555555555556,\"#d8576b\"],[0.6666666666666666,\"#ed7953\"],[0.7777777777777778,\"#fb9f3a\"],[0.8888888888888888,\"#fdca26\"],[1.0,\"#f0f921\"]],\"sequentialminus\":[[0.0,\"#0d0887\"],[0.1111111111111111,\"#46039f\"],[0.2222222222222222,\"#7201a8\"],[0.3333333333333333,\"#9c179e\"],[0.4444444444444444,\"#bd3786\"],[0.5555555555555556,\"#d8576b\"],[0.6666666666666666,\"#ed7953\"],[0.7777777777777778,\"#fb9f3a\"],[0.8888888888888888,\"#fdca26\"],[1.0,\"#f0f921\"]],\"diverging\":[[0,\"#8e0152\"],[0.1,\"#c51b7d\"],[0.2,\"#de77ae\"],[0.3,\"#f1b6da\"],[0.4,\"#fde0ef\"],[0.5,\"#f7f7f7\"],[0.6,\"#e6f5d0\"],[0.7,\"#b8e186\"],[0.8,\"#7fbc41\"],[0.9,\"#4d9221\"],[1,\"#276419\"]]},\"xaxis\":{\"gridcolor\":\"white\",\"linecolor\":\"white\",\"ticks\":\"\",\"title\":{\"standoff\":15},\"zerolinecolor\":\"white\",\"automargin\":true,\"zerolinewidth\":2},\"yaxis\":{\"gridcolor\":\"white\",\"linecolor\":\"white\",\"ticks\":\"\",\"title\":{\"standoff\":15},\"zerolinecolor\":\"white\",\"automargin\":true,\"zerolinewidth\":2},\"scene\":{\"xaxis\":{\"backgroundcolor\":\"#E5ECF6\",\"gridcolor\":\"white\",\"linecolor\":\"white\",\"showbackground\":true,\"ticks\":\"\",\"zerolinecolor\":\"white\",\"gridwidth\":2},\"yaxis\":{\"backgroundcolor\":\"#E5ECF6\",\"gridcolor\":\"white\",\"linecolor\":\"white\",\"showbackground\":true,\"ticks\":\"\",\"zerolinecolor\":\"white\",\"gridwidth\":2},\"zaxis\":{\"backgroundcolor\":\"#E5ECF6\",\"gridcolor\":\"white\",\"linecolor\":\"white\",\"showbackground\":true,\"ticks\":\"\",\"zerolinecolor\":\"white\",\"gridwidth\":2}},\"shapedefaults\":{\"line\":{\"color\":\"#2a3f5f\"}},\"annotationdefaults\":{\"arrowcolor\":\"#2a3f5f\",\"arrowhead\":0,\"arrowwidth\":1},\"geo\":{\"bgcolor\":\"white\",\"landcolor\":\"#E5ECF6\",\"subunitcolor\":\"white\",\"showland\":true,\"showlakes\":true,\"lakecolor\":\"white\"},\"title\":{\"x\":0.05},\"mapbox\":{\"style\":\"light\"}}},\"xaxis\":{\"anchor\":\"y\",\"domain\":[0.0,1.0],\"scaleanchor\":\"y\",\"constrain\":\"domain\",\"title\":{\"text\":\"Heads (sorted)\"}},\"yaxis\":{\"anchor\":\"x\",\"domain\":[0.0,1.0],\"autorange\":true,\"constrain\":\"domain\",\"title\":{\"text\":\"Layers\"}},\"coloraxis\":{\"colorscale\":[[0.0,\"rgb(255,255,217)\"],[0.125,\"rgb(237,248,177)\"],[0.25,\"rgb(199,233,180)\"],[0.375,\"rgb(127,205,187)\"],[0.5,\"rgb(65,182,196)\"],[0.625,\"rgb(29,145,192)\"],[0.75,\"rgb(34,94,168)\"],[0.875,\"rgb(37,52,148)\"],[1.0,\"rgb(8,29,88)\"]],\"cmid\":0.5},\"title\":{\"text\":\"Probe Accuracies\"}},                        {\"responsive\": true}                    ).then(function(){\n",
       "                            \n",
       "var gd = document.getElementById('9f806ff3-defc-425c-a2ca-6a89e545af03');\n",
       "var x = new MutationObserver(function (mutations, observer) {{\n",
       "        var display = window.getComputedStyle(gd).display;\n",
       "        if (!display || display === 'none') {{\n",
       "            console.log([gd, 'removed!']);\n",
       "            Plotly.purge(gd);\n",
       "            observer.disconnect();\n",
       "        }}\n",
       "}});\n",
       "\n",
       "// Listen for the removal of the full notebook cells\n",
       "var notebookContainer = gd.closest('#notebook-container');\n",
       "if (notebookContainer) {{\n",
       "    x.observe(notebookContainer, {childList: true});\n",
       "}}\n",
       "\n",
       "// Listen for the clearing of the current output cell\n",
       "var outputEl = gd.closest('.output');\n",
       "if (outputEl) {{\n",
       "    x.observe(outputEl, {childList: true});\n",
       "}}\n",
       "\n",
       "                        })                };                });            </script>        </div>"
      ]
     },
     "metadata": {},
     "output_type": "display_data"
    },
    {
     "data": {
      "application/vnd.plotly.v1+json": {
       "config": {
        "plotlyServerURL": "https://plot.ly"
       },
       "data": [
        {
         "coloraxis": "coloraxis",
         "hovertemplate": "Heads (sorted): %{x}<br>Layers: %{y}<br>color: %{z}<extra></extra>",
         "name": "0",
         "type": "heatmap",
         "xaxis": "x",
         "yaxis": "y",
         "z": [
          [
           0.49,
           0.505,
           0.49,
           0.49,
           0.485,
           0.49,
           0.51,
           0.535,
           0.49,
           0.535,
           0.505,
           0.56,
           0.51,
           0.545,
           0.495,
           0.5,
           0.5,
           0.51,
           0.555,
           0.48,
           0.51,
           0.485,
           0.5,
           0.46,
           0.55
          ],
          [
           0.605,
           0.625,
           0.57,
           0.595,
           0.61,
           0.62,
           0.575,
           0.555,
           0.57,
           0.62,
           0.535,
           0.65,
           0.61,
           0.53,
           0.57,
           0.555,
           0.51,
           0.595,
           0.575,
           0.61,
           0.62,
           0.615,
           0.57,
           0.61,
           0.535
          ],
          [
           0.525,
           0.615,
           0.605,
           0.61,
           0.57,
           0.595,
           0.605,
           0.6,
           0.57,
           0.58,
           0.57,
           0.57,
           0.55,
           0.59,
           0.59,
           0.615,
           0.59,
           0.585,
           0.57,
           0.565,
           0.585,
           0.565,
           0.58,
           0.635,
           0.565
          ],
          [
           0.57,
           0.595,
           0.61,
           0.575,
           0.575,
           0.54,
           0.56,
           0.56,
           0.575,
           0.61,
           0.535,
           0.57,
           0.605,
           0.605,
           0.605,
           0.555,
           0.59,
           0.565,
           0.57,
           0.61,
           0.59,
           0.6,
           0.55,
           0.625,
           0.585
          ],
          [
           0.595,
           0.6,
           0.58,
           0.605,
           0.565,
           0.61,
           0.585,
           0.62,
           0.59,
           0.6,
           0.565,
           0.6,
           0.64,
           0.585,
           0.59,
           0.605,
           0.635,
           0.61,
           0.56,
           0.585,
           0.565,
           0.64,
           0.625,
           0.605,
           0.565
          ],
          [
           0.585,
           0.61,
           0.58,
           0.61,
           0.575,
           0.575,
           0.585,
           0.64,
           0.595,
           0.555,
           0.595,
           0.605,
           0.615,
           0.615,
           0.625,
           0.59,
           0.59,
           0.63,
           0.575,
           0.56,
           0.585,
           0.65,
           0.51,
           0.59,
           0.585
          ],
          [
           0.55,
           0.625,
           0.61,
           0.58,
           0.56,
           0.61,
           0.62,
           0.58,
           0.64,
           0.6,
           0.56,
           0.61,
           0.64,
           0.595,
           0.615,
           0.62,
           0.6,
           0.605,
           0.66,
           0.55,
           0.6,
           0.62,
           0.59,
           0.63,
           0.63
          ],
          [
           0.63,
           0.605,
           0.605,
           0.605,
           0.615,
           0.665,
           0.61,
           0.64,
           0.615,
           0.59,
           0.605,
           0.57,
           0.565,
           0.63,
           0.64,
           0.615,
           0.62,
           0.615,
           0.605,
           0.55,
           0.58,
           0.6,
           0.62,
           0.575,
           0.615
          ],
          [
           0.63,
           0.615,
           0.61,
           0.615,
           0.575,
           0.645,
           0.595,
           0.6,
           0.665,
           0.585,
           0.605,
           0.58,
           0.575,
           0.615,
           0.6,
           0.655,
           0.575,
           0.62,
           0.595,
           0.57,
           0.605,
           0.595,
           0.575,
           0.625,
           0.605
          ],
          [
           0.6,
           0.625,
           0.585,
           0.595,
           0.64,
           0.615,
           0.6,
           0.565,
           0.665,
           0.605,
           0.585,
           0.61,
           0.61,
           0.595,
           0.56,
           0.63,
           0.635,
           0.575,
           0.615,
           0.595,
           0.64,
           0.595,
           0.585,
           0.56,
           0.6
          ],
          [
           0.59,
           0.6,
           0.595,
           0.56,
           0.665,
           0.62,
           0.57,
           0.655,
           0.66,
           0.625,
           0.66,
           0.565,
           0.605,
           0.585,
           0.605,
           0.595,
           0.655,
           0.63,
           0.605,
           0.635,
           0.585,
           0.615,
           0.605,
           0.575,
           0.6
          ],
          [
           0.595,
           0.615,
           0.57,
           0.68,
           0.59,
           0.61,
           0.585,
           0.605,
           0.66,
           0.635,
           0.66,
           0.635,
           0.62,
           0.61,
           0.595,
           0.585,
           0.615,
           0.605,
           0.595,
           0.595,
           0.59,
           0.625,
           0.635,
           0.605,
           0.6
          ],
          [
           0.605,
           0.595,
           0.545,
           0.555,
           0.66,
           0.635,
           0.625,
           0.56,
           0.625,
           0.635,
           0.6,
           0.625,
           0.57,
           0.625,
           0.59,
           0.61,
           0.615,
           0.565,
           0.635,
           0.62,
           0.6,
           0.565,
           0.58,
           0.545,
           0.58
          ],
          [
           0.545,
           0.565,
           0.63,
           0.58,
           0.57,
           0.61,
           0.625,
           0.61,
           0.55,
           0.6,
           0.635,
           0.605,
           0.56,
           0.565,
           0.605,
           0.615,
           0.59,
           0.585,
           0.63,
           0.58,
           0.645,
           0.645,
           0.575,
           0.62,
           0.565
          ],
          [
           0.615,
           0.575,
           0.615,
           0.645,
           0.6,
           0.595,
           0.59,
           0.565,
           0.575,
           0.605,
           0.61,
           0.63,
           0.63,
           0.615,
           0.66,
           0.615,
           0.61,
           0.58,
           0.57,
           0.57,
           0.655,
           0.67,
           0.625,
           0.64,
           0.615
          ],
          [
           0.6,
           0.625,
           0.585,
           0.66,
           0.63,
           0.615,
           0.71,
           0.625,
           0.635,
           0.595,
           0.635,
           0.615,
           0.605,
           0.57,
           0.615,
           0.66,
           0.695,
           0.665,
           0.615,
           0.625,
           0.63,
           0.62,
           0.615,
           0.66,
           0.635
          ],
          [
           0.615,
           0.595,
           0.635,
           0.64,
           0.665,
           0.62,
           0.575,
           0.63,
           0.675,
           0.67,
           0.635,
           0.59,
           0.665,
           0.57,
           0.695,
           0.52,
           0.61,
           0.585,
           0.675,
           0.57,
           0.725,
           0.5,
           0.655,
           0.67,
           0.625
          ],
          [
           0.67,
           0.495,
           0.66,
           0.685,
           0.65,
           0.64,
           0.515,
           0.65,
           0.705,
           0.585,
           0.65,
           0.6,
           0.49,
           0.65,
           0.635,
           0.65,
           0.66,
           0.61,
           0.655,
           0.595,
           0.645,
           0.63,
           0.575,
           0.645,
           0.645
          ],
          [
           0.475,
           0.655,
           0.645,
           0.675,
           0.665,
           0.65,
           0.685,
           0.59,
           0.67,
           0.685,
           0.68,
           0.645,
           0.68,
           0.635,
           0.66,
           0.615,
           0.635,
           0.655,
           0.51,
           0.605,
           0.61,
           0.55,
           0.64,
           0.665,
           0.675
          ],
          [
           0.685,
           0.62,
           0.64,
           0.69,
           0.64,
           0.655,
           0.655,
           0.635,
           0.62,
           0.675,
           0.655,
           0.565,
           0.595,
           0.595,
           0.635,
           0.66,
           0.605,
           0.65,
           0.55,
           0.72,
           0.6,
           0.655,
           0.675,
           0.68,
           0.72
          ],
          [
           0.475,
           0.665,
           0.69,
           0.62,
           0.625,
           0.58,
           0.61,
           0.695,
           0.645,
           0.685,
           0.68,
           0.675,
           0.66,
           0.705,
           0.64,
           0.705,
           0.705,
           0.655,
           0.695,
           0.56,
           0.765,
           0.6,
           0.63,
           0.695,
           0.65
          ],
          [
           0.67,
           0.625,
           0.71,
           0.515,
           0.65,
           0.71,
           0.67,
           0.72,
           0.73,
           0.715,
           0.725,
           0.69,
           0.64,
           0.67,
           0.645,
           0.635,
           0.7,
           0.665,
           0.66,
           0.62,
           0.6,
           0.675,
           0.655,
           0.69,
           0.655
          ],
          [
           0.685,
           0.7,
           0.675,
           0.72,
           0.7,
           0.605,
           0.595,
           0.615,
           0.705,
           0.685,
           0.67,
           0.67,
           0.69,
           0.7,
           0.665,
           0.59,
           0.69,
           0.66,
           0.715,
           0.625,
           0.555,
           0.675,
           0.63,
           0.71,
           0.58
          ],
          [
           0.635,
           0.67,
           0.69,
           0.69,
           0.6,
           0.715,
           0.71,
           0.675,
           0.57,
           0.705,
           0.71,
           0.675,
           0.685,
           0.73,
           0.645,
           0.645,
           0.57,
           0.72,
           0.68,
           0.635,
           0.74,
           0.655,
           0.635,
           0.725,
           0.665
          ],
          [
           0.64,
           0.665,
           0.595,
           0.67,
           0.565,
           0.665,
           0.695,
           0.71,
           0.69,
           0.66,
           0.635,
           0.72,
           0.6,
           0.695,
           0.675,
           0.745,
           0.625,
           0.605,
           0.655,
           0.73,
           0.685,
           0.685,
           0.695,
           0.705,
           0.655
          ],
          [
           0.565,
           0.69,
           0.615,
           0.705,
           0.675,
           0.71,
           0.67,
           0.625,
           0.635,
           0.685,
           0.65,
           0.665,
           0.655,
           0.685,
           0.695,
           0.645,
           0.53,
           0.63,
           0.595,
           0.58,
           0.69,
           0.68,
           0.71,
           0.61,
           0.64
          ],
          [
           0.675,
           0.68,
           0.63,
           0.57,
           0.63,
           0.575,
           0.725,
           0.695,
           0.655,
           0.7,
           0.68,
           0.63,
           0.71,
           0.58,
           0.585,
           0.625,
           0.69,
           0.64,
           0.585,
           0.695,
           0.565,
           0.62,
           0.505,
           0.66,
           0.72
          ],
          [
           0.69,
           0.595,
           0.7,
           0.57,
           0.645,
           0.635,
           0.665,
           0.65,
           0.67,
           0.635,
           0.615,
           0.59,
           0.685,
           0.55,
           0.615,
           0.72,
           0.625,
           0.695,
           0.685,
           0.71,
           0.695,
           0.655,
           0.58,
           0.57,
           0.62
          ],
          [
           0.625,
           0.545,
           0.635,
           0.665,
           0.72,
           0.735,
           0.6,
           0.655,
           0.6,
           0.6,
           0.7,
           0.595,
           0.675,
           0.665,
           0.67,
           0.61,
           0.655,
           0.645,
           0.62,
           0.575,
           0.605,
           0.63,
           0.64,
           0.615,
           0.6
          ],
          [
           0.53,
           0.58,
           0.615,
           0.535,
           0.67,
           0.52,
           0.665,
           0.65,
           0.535,
           0.645,
           0.58,
           0.7,
           0.675,
           0.695,
           0.565,
           0.63,
           0.71,
           0.67,
           0.555,
           0.495,
           0.585,
           0.68,
           0.715,
           0.685,
           0.62
          ],
          [
           0.63,
           0.68,
           0.595,
           0.62,
           0.665,
           0.71,
           0.695,
           0.66,
           0.53,
           0.635,
           0.65,
           0.635,
           0.685,
           0.555,
           0.64,
           0.61,
           0.645,
           0.62,
           0.66,
           0.625,
           0.61,
           0.46,
           0.53,
           0.605,
           0.645
          ],
          [
           0.57,
           0.63,
           0.58,
           0.535,
           0.64,
           0.555,
           0.665,
           0.64,
           0.525,
           0.565,
           0.705,
           0.565,
           0.655,
           0.64,
           0.605,
           0.575,
           0.67,
           0.545,
           0.505,
           0.635,
           0.675,
           0.69,
           0.66,
           0.555,
           0.665
          ],
          [
           0.62,
           0.555,
           0.58,
           0.61,
           0.655,
           0.66,
           0.68,
           0.635,
           0.53,
           0.675,
           0.605,
           0.525,
           0.525,
           0.65,
           0.61,
           0.66,
           0.58,
           0.7,
           0.585,
           0.675,
           0.56,
           0.705,
           0.67,
           0.67,
           0.615
          ],
          [
           0.615,
           0.635,
           0.495,
           0.66,
           0.585,
           0.615,
           0.57,
           0.545,
           0.61,
           0.595,
           0.53,
           0.68,
           0.52,
           0.57,
           0.585,
           0.73,
           0.62,
           0.665,
           0.48,
           0.58,
           0.655,
           0.665,
           0.55,
           0.62,
           0.63
          ],
          [
           0.475,
           0.655,
           0.645,
           0.59,
           0.56,
           0.485,
           0.575,
           0.475,
           0.63,
           0.55,
           0.48,
           0.57,
           0.67,
           0.51,
           0.62,
           0.575,
           0.565,
           0.51,
           0.6,
           0.525,
           0.625,
           0.535,
           0.675,
           0.645,
           0.65
          ],
          [
           0.54,
           0.505,
           0.66,
           0.6,
           0.535,
           0.6,
           0.555,
           0.605,
           0.675,
           0.59,
           0.59,
           0.66,
           0.565,
           0.57,
           0.615,
           0.49,
           0.58,
           0.475,
           0.65,
           0.525,
           0.62,
           0.575,
           0.555,
           0.615,
           0.675
          ],
          [
           0.63,
           0.555,
           0.505,
           0.635,
           0.655,
           0.675,
           0.55,
           0.615,
           0.61,
           0.5,
           0.575,
           0.64,
           0.58,
           0.715,
           0.555,
           0.69,
           0.58,
           0.61,
           0.645,
           0.63,
           0.625,
           0.605,
           0.595,
           0.625,
           0.625
          ],
          [
           0.5,
           0.655,
           0.53,
           0.625,
           0.47,
           0.605,
           0.655,
           0.535,
           0.56,
           0.62,
           0.67,
           0.61,
           0.64,
           0.52,
           0.635,
           0.585,
           0.545,
           0.515,
           0.585,
           0.67,
           0.71,
           0.68,
           0.575,
           0.62,
           0.675
          ],
          [
           0.575,
           0.585,
           0.535,
           0.54,
           0.655,
           0.55,
           0.65,
           0.515,
           0.6,
           0.51,
           0.675,
           0.63,
           0.44,
           0.59,
           0.49,
           0.645,
           0.515,
           0.54,
           0.635,
           0.575,
           0.615,
           0.66,
           0.505,
           0.565,
           0.53
          ],
          [
           0.57,
           0.53,
           0.46,
           0.645,
           0.55,
           0.49,
           0.495,
           0.655,
           0.585,
           0.515,
           0.54,
           0.68,
           0.625,
           0.58,
           0.67,
           0.555,
           0.64,
           0.665,
           0.63,
           0.53,
           0.69,
           0.525,
           0.52,
           0.595,
           0.575
          ],
          [
           0.5,
           0.665,
           0.64,
           0.59,
           0.565,
           0.565,
           0.465,
           0.555,
           0.535,
           0.535,
           0.59,
           0.595,
           0.6,
           0.62,
           0.54,
           0.485,
           0.545,
           0.58,
           0.52,
           0.655,
           0.515,
           0.57,
           0.545,
           0.49,
           0.53
          ],
          [
           0.68,
           0.595,
           0.55,
           0.63,
           0.52,
           0.53,
           0.605,
           0.58,
           0.525,
           0.505,
           0.595,
           0.605,
           0.505,
           0.59,
           0.63,
           0.585,
           0.51,
           0.575,
           0.55,
           0.64,
           0.555,
           0.575,
           0.505,
           0.595,
           0.595
          ],
          [
           0.5,
           0.565,
           0.67,
           0.6,
           0.56,
           0.59,
           0.54,
           0.485,
           0.505,
           0.605,
           0.625,
           0.61,
           0.615,
           0.495,
           0.605,
           0.555,
           0.545,
           0.565,
           0.52,
           0.61,
           0.55,
           0.515,
           0.54,
           0.58,
           0.535
          ],
          [
           0.58,
           0.505,
           0.585,
           0.505,
           0.575,
           0.56,
           0.52,
           0.6,
           0.54,
           0.585,
           0.55,
           0.535,
           0.5,
           0.63,
           0.57,
           0.525,
           0.59,
           0.59,
           0.49,
           0.575,
           0.545,
           0.54,
           0.63,
           0.53,
           0.57
          ],
          [
           0.59,
           0.53,
           0.51,
           0.635,
           0.64,
           0.605,
           0.6,
           0.57,
           0.45,
           0.59,
           0.585,
           0.585,
           0.6,
           0.575,
           0.525,
           0.595,
           0.585,
           0.59,
           0.58,
           0.545,
           0.605,
           0.42,
           0.555,
           0.58,
           0.625
          ],
          [
           0.64,
           0.57,
           0.525,
           0.63,
           0.545,
           0.635,
           0.665,
           0.575,
           0.595,
           0.555,
           0.66,
           0.575,
           0.625,
           0.61,
           0.6,
           0.53,
           0.63,
           0.575,
           0.505,
           0.575,
           0.55,
           0.595,
           0.595,
           0.58,
           0.64
          ],
          [
           0.625,
           0.545,
           0.525,
           0.54,
           0.565,
           0.505,
           0.66,
           0.64,
           0.625,
           0.67,
           0.6,
           0.55,
           0.56,
           0.49,
           0.51,
           0.58,
           0.56,
           0.635,
           0.49,
           0.565,
           0.615,
           0.55,
           0.505,
           0.58,
           0.575
          ],
          [
           0.625,
           0.59,
           0.61,
           0.61,
           0.575,
           0.575,
           0.575,
           0.62,
           0.565,
           0.54,
           0.575,
           0.605,
           0.63,
           0.55,
           0.575,
           0.615,
           0.615,
           0.595,
           0.55,
           0.575,
           0.645,
           0.565,
           0.635,
           0.635,
           0.545
          ]
         ]
        }
       ],
       "layout": {
        "coloraxis": {
         "cmid": 0.5,
         "colorscale": [
          [
           0,
           "rgb(255,255,217)"
          ],
          [
           0.125,
           "rgb(237,248,177)"
          ],
          [
           0.25,
           "rgb(199,233,180)"
          ],
          [
           0.375,
           "rgb(127,205,187)"
          ],
          [
           0.5,
           "rgb(65,182,196)"
          ],
          [
           0.625,
           "rgb(29,145,192)"
          ],
          [
           0.75,
           "rgb(34,94,168)"
          ],
          [
           0.875,
           "rgb(37,52,148)"
          ],
          [
           1,
           "rgb(8,29,88)"
          ]
         ]
        },
        "template": {
         "data": {
          "bar": [
           {
            "error_x": {
             "color": "#2a3f5f"
            },
            "error_y": {
             "color": "#2a3f5f"
            },
            "marker": {
             "line": {
              "color": "#E5ECF6",
              "width": 0.5
             },
             "pattern": {
              "fillmode": "overlay",
              "size": 10,
              "solidity": 0.2
             }
            },
            "type": "bar"
           }
          ],
          "barpolar": [
           {
            "marker": {
             "line": {
              "color": "#E5ECF6",
              "width": 0.5
             },
             "pattern": {
              "fillmode": "overlay",
              "size": 10,
              "solidity": 0.2
             }
            },
            "type": "barpolar"
           }
          ],
          "carpet": [
           {
            "aaxis": {
             "endlinecolor": "#2a3f5f",
             "gridcolor": "white",
             "linecolor": "white",
             "minorgridcolor": "white",
             "startlinecolor": "#2a3f5f"
            },
            "baxis": {
             "endlinecolor": "#2a3f5f",
             "gridcolor": "white",
             "linecolor": "white",
             "minorgridcolor": "white",
             "startlinecolor": "#2a3f5f"
            },
            "type": "carpet"
           }
          ],
          "choropleth": [
           {
            "colorbar": {
             "outlinewidth": 0,
             "ticks": ""
            },
            "type": "choropleth"
           }
          ],
          "contour": [
           {
            "colorbar": {
             "outlinewidth": 0,
             "ticks": ""
            },
            "colorscale": [
             [
              0,
              "#0d0887"
             ],
             [
              0.1111111111111111,
              "#46039f"
             ],
             [
              0.2222222222222222,
              "#7201a8"
             ],
             [
              0.3333333333333333,
              "#9c179e"
             ],
             [
              0.4444444444444444,
              "#bd3786"
             ],
             [
              0.5555555555555556,
              "#d8576b"
             ],
             [
              0.6666666666666666,
              "#ed7953"
             ],
             [
              0.7777777777777778,
              "#fb9f3a"
             ],
             [
              0.8888888888888888,
              "#fdca26"
             ],
             [
              1,
              "#f0f921"
             ]
            ],
            "type": "contour"
           }
          ],
          "contourcarpet": [
           {
            "colorbar": {
             "outlinewidth": 0,
             "ticks": ""
            },
            "type": "contourcarpet"
           }
          ],
          "heatmap": [
           {
            "colorbar": {
             "outlinewidth": 0,
             "ticks": ""
            },
            "colorscale": [
             [
              0,
              "#0d0887"
             ],
             [
              0.1111111111111111,
              "#46039f"
             ],
             [
              0.2222222222222222,
              "#7201a8"
             ],
             [
              0.3333333333333333,
              "#9c179e"
             ],
             [
              0.4444444444444444,
              "#bd3786"
             ],
             [
              0.5555555555555556,
              "#d8576b"
             ],
             [
              0.6666666666666666,
              "#ed7953"
             ],
             [
              0.7777777777777778,
              "#fb9f3a"
             ],
             [
              0.8888888888888888,
              "#fdca26"
             ],
             [
              1,
              "#f0f921"
             ]
            ],
            "type": "heatmap"
           }
          ],
          "heatmapgl": [
           {
            "colorbar": {
             "outlinewidth": 0,
             "ticks": ""
            },
            "colorscale": [
             [
              0,
              "#0d0887"
             ],
             [
              0.1111111111111111,
              "#46039f"
             ],
             [
              0.2222222222222222,
              "#7201a8"
             ],
             [
              0.3333333333333333,
              "#9c179e"
             ],
             [
              0.4444444444444444,
              "#bd3786"
             ],
             [
              0.5555555555555556,
              "#d8576b"
             ],
             [
              0.6666666666666666,
              "#ed7953"
             ],
             [
              0.7777777777777778,
              "#fb9f3a"
             ],
             [
              0.8888888888888888,
              "#fdca26"
             ],
             [
              1,
              "#f0f921"
             ]
            ],
            "type": "heatmapgl"
           }
          ],
          "histogram": [
           {
            "marker": {
             "pattern": {
              "fillmode": "overlay",
              "size": 10,
              "solidity": 0.2
             }
            },
            "type": "histogram"
           }
          ],
          "histogram2d": [
           {
            "colorbar": {
             "outlinewidth": 0,
             "ticks": ""
            },
            "colorscale": [
             [
              0,
              "#0d0887"
             ],
             [
              0.1111111111111111,
              "#46039f"
             ],
             [
              0.2222222222222222,
              "#7201a8"
             ],
             [
              0.3333333333333333,
              "#9c179e"
             ],
             [
              0.4444444444444444,
              "#bd3786"
             ],
             [
              0.5555555555555556,
              "#d8576b"
             ],
             [
              0.6666666666666666,
              "#ed7953"
             ],
             [
              0.7777777777777778,
              "#fb9f3a"
             ],
             [
              0.8888888888888888,
              "#fdca26"
             ],
             [
              1,
              "#f0f921"
             ]
            ],
            "type": "histogram2d"
           }
          ],
          "histogram2dcontour": [
           {
            "colorbar": {
             "outlinewidth": 0,
             "ticks": ""
            },
            "colorscale": [
             [
              0,
              "#0d0887"
             ],
             [
              0.1111111111111111,
              "#46039f"
             ],
             [
              0.2222222222222222,
              "#7201a8"
             ],
             [
              0.3333333333333333,
              "#9c179e"
             ],
             [
              0.4444444444444444,
              "#bd3786"
             ],
             [
              0.5555555555555556,
              "#d8576b"
             ],
             [
              0.6666666666666666,
              "#ed7953"
             ],
             [
              0.7777777777777778,
              "#fb9f3a"
             ],
             [
              0.8888888888888888,
              "#fdca26"
             ],
             [
              1,
              "#f0f921"
             ]
            ],
            "type": "histogram2dcontour"
           }
          ],
          "mesh3d": [
           {
            "colorbar": {
             "outlinewidth": 0,
             "ticks": ""
            },
            "type": "mesh3d"
           }
          ],
          "parcoords": [
           {
            "line": {
             "colorbar": {
              "outlinewidth": 0,
              "ticks": ""
             }
            },
            "type": "parcoords"
           }
          ],
          "pie": [
           {
            "automargin": true,
            "type": "pie"
           }
          ],
          "scatter": [
           {
            "fillpattern": {
             "fillmode": "overlay",
             "size": 10,
             "solidity": 0.2
            },
            "type": "scatter"
           }
          ],
          "scatter3d": [
           {
            "line": {
             "colorbar": {
              "outlinewidth": 0,
              "ticks": ""
             }
            },
            "marker": {
             "colorbar": {
              "outlinewidth": 0,
              "ticks": ""
             }
            },
            "type": "scatter3d"
           }
          ],
          "scattercarpet": [
           {
            "marker": {
             "colorbar": {
              "outlinewidth": 0,
              "ticks": ""
             }
            },
            "type": "scattercarpet"
           }
          ],
          "scattergeo": [
           {
            "marker": {
             "colorbar": {
              "outlinewidth": 0,
              "ticks": ""
             }
            },
            "type": "scattergeo"
           }
          ],
          "scattergl": [
           {
            "marker": {
             "colorbar": {
              "outlinewidth": 0,
              "ticks": ""
             }
            },
            "type": "scattergl"
           }
          ],
          "scattermapbox": [
           {
            "marker": {
             "colorbar": {
              "outlinewidth": 0,
              "ticks": ""
             }
            },
            "type": "scattermapbox"
           }
          ],
          "scatterpolar": [
           {
            "marker": {
             "colorbar": {
              "outlinewidth": 0,
              "ticks": ""
             }
            },
            "type": "scatterpolar"
           }
          ],
          "scatterpolargl": [
           {
            "marker": {
             "colorbar": {
              "outlinewidth": 0,
              "ticks": ""
             }
            },
            "type": "scatterpolargl"
           }
          ],
          "scatterternary": [
           {
            "marker": {
             "colorbar": {
              "outlinewidth": 0,
              "ticks": ""
             }
            },
            "type": "scatterternary"
           }
          ],
          "surface": [
           {
            "colorbar": {
             "outlinewidth": 0,
             "ticks": ""
            },
            "colorscale": [
             [
              0,
              "#0d0887"
             ],
             [
              0.1111111111111111,
              "#46039f"
             ],
             [
              0.2222222222222222,
              "#7201a8"
             ],
             [
              0.3333333333333333,
              "#9c179e"
             ],
             [
              0.4444444444444444,
              "#bd3786"
             ],
             [
              0.5555555555555556,
              "#d8576b"
             ],
             [
              0.6666666666666666,
              "#ed7953"
             ],
             [
              0.7777777777777778,
              "#fb9f3a"
             ],
             [
              0.8888888888888888,
              "#fdca26"
             ],
             [
              1,
              "#f0f921"
             ]
            ],
            "type": "surface"
           }
          ],
          "table": [
           {
            "cells": {
             "fill": {
              "color": "#EBF0F8"
             },
             "line": {
              "color": "white"
             }
            },
            "header": {
             "fill": {
              "color": "#C8D4E3"
             },
             "line": {
              "color": "white"
             }
            },
            "type": "table"
           }
          ]
         },
         "layout": {
          "annotationdefaults": {
           "arrowcolor": "#2a3f5f",
           "arrowhead": 0,
           "arrowwidth": 1
          },
          "autotypenumbers": "strict",
          "coloraxis": {
           "colorbar": {
            "outlinewidth": 0,
            "ticks": ""
           }
          },
          "colorscale": {
           "diverging": [
            [
             0,
             "#8e0152"
            ],
            [
             0.1,
             "#c51b7d"
            ],
            [
             0.2,
             "#de77ae"
            ],
            [
             0.3,
             "#f1b6da"
            ],
            [
             0.4,
             "#fde0ef"
            ],
            [
             0.5,
             "#f7f7f7"
            ],
            [
             0.6,
             "#e6f5d0"
            ],
            [
             0.7,
             "#b8e186"
            ],
            [
             0.8,
             "#7fbc41"
            ],
            [
             0.9,
             "#4d9221"
            ],
            [
             1,
             "#276419"
            ]
           ],
           "sequential": [
            [
             0,
             "#0d0887"
            ],
            [
             0.1111111111111111,
             "#46039f"
            ],
            [
             0.2222222222222222,
             "#7201a8"
            ],
            [
             0.3333333333333333,
             "#9c179e"
            ],
            [
             0.4444444444444444,
             "#bd3786"
            ],
            [
             0.5555555555555556,
             "#d8576b"
            ],
            [
             0.6666666666666666,
             "#ed7953"
            ],
            [
             0.7777777777777778,
             "#fb9f3a"
            ],
            [
             0.8888888888888888,
             "#fdca26"
            ],
            [
             1,
             "#f0f921"
            ]
           ],
           "sequentialminus": [
            [
             0,
             "#0d0887"
            ],
            [
             0.1111111111111111,
             "#46039f"
            ],
            [
             0.2222222222222222,
             "#7201a8"
            ],
            [
             0.3333333333333333,
             "#9c179e"
            ],
            [
             0.4444444444444444,
             "#bd3786"
            ],
            [
             0.5555555555555556,
             "#d8576b"
            ],
            [
             0.6666666666666666,
             "#ed7953"
            ],
            [
             0.7777777777777778,
             "#fb9f3a"
            ],
            [
             0.8888888888888888,
             "#fdca26"
            ],
            [
             1,
             "#f0f921"
            ]
           ]
          },
          "colorway": [
           "#636efa",
           "#EF553B",
           "#00cc96",
           "#ab63fa",
           "#FFA15A",
           "#19d3f3",
           "#FF6692",
           "#B6E880",
           "#FF97FF",
           "#FECB52"
          ],
          "font": {
           "color": "#2a3f5f"
          },
          "geo": {
           "bgcolor": "white",
           "lakecolor": "white",
           "landcolor": "#E5ECF6",
           "showlakes": true,
           "showland": true,
           "subunitcolor": "white"
          },
          "hoverlabel": {
           "align": "left"
          },
          "hovermode": "closest",
          "mapbox": {
           "style": "light"
          },
          "paper_bgcolor": "white",
          "plot_bgcolor": "#E5ECF6",
          "polar": {
           "angularaxis": {
            "gridcolor": "white",
            "linecolor": "white",
            "ticks": ""
           },
           "bgcolor": "#E5ECF6",
           "radialaxis": {
            "gridcolor": "white",
            "linecolor": "white",
            "ticks": ""
           }
          },
          "scene": {
           "xaxis": {
            "backgroundcolor": "#E5ECF6",
            "gridcolor": "white",
            "gridwidth": 2,
            "linecolor": "white",
            "showbackground": true,
            "ticks": "",
            "zerolinecolor": "white"
           },
           "yaxis": {
            "backgroundcolor": "#E5ECF6",
            "gridcolor": "white",
            "gridwidth": 2,
            "linecolor": "white",
            "showbackground": true,
            "ticks": "",
            "zerolinecolor": "white"
           },
           "zaxis": {
            "backgroundcolor": "#E5ECF6",
            "gridcolor": "white",
            "gridwidth": 2,
            "linecolor": "white",
            "showbackground": true,
            "ticks": "",
            "zerolinecolor": "white"
           }
          },
          "shapedefaults": {
           "line": {
            "color": "#2a3f5f"
           }
          },
          "ternary": {
           "aaxis": {
            "gridcolor": "white",
            "linecolor": "white",
            "ticks": ""
           },
           "baxis": {
            "gridcolor": "white",
            "linecolor": "white",
            "ticks": ""
           },
           "bgcolor": "#E5ECF6",
           "caxis": {
            "gridcolor": "white",
            "linecolor": "white",
            "ticks": ""
           }
          },
          "title": {
           "x": 0.05
          },
          "xaxis": {
           "automargin": true,
           "gridcolor": "white",
           "linecolor": "white",
           "ticks": "",
           "title": {
            "standoff": 15
           },
           "zerolinecolor": "white",
           "zerolinewidth": 2
          },
          "yaxis": {
           "automargin": true,
           "gridcolor": "white",
           "linecolor": "white",
           "ticks": "",
           "title": {
            "standoff": 15
           },
           "zerolinecolor": "white",
           "zerolinewidth": 2
          }
         }
        },
        "title": {
         "text": "Probe Accuracies"
        },
        "xaxis": {
         "anchor": "y",
         "constrain": "domain",
         "domain": [
          0,
          1
         ],
         "scaleanchor": "y",
         "title": {
          "text": "Heads (sorted)"
         }
        },
        "yaxis": {
         "anchor": "x",
         "autorange": true,
         "constrain": "domain",
         "domain": [
          0,
          1
         ],
         "title": {
          "text": "Layers"
         }
        }
       }
      },
      "text/html": [
       "<div>                            <div id=\"528ea4c8-c9a8-47f0-82bf-6860079ff3d3\" class=\"plotly-graph-div\" style=\"height:525px; width:100%;\"></div>            <script type=\"text/javascript\">                require([\"plotly\"], function(Plotly) {                    window.PLOTLYENV=window.PLOTLYENV || {};                                    if (document.getElementById(\"528ea4c8-c9a8-47f0-82bf-6860079ff3d3\")) {                    Plotly.newPlot(                        \"528ea4c8-c9a8-47f0-82bf-6860079ff3d3\",                        [{\"coloraxis\":\"coloraxis\",\"name\":\"0\",\"z\":[[0.49,0.505,0.49,0.49,0.485,0.49,0.51,0.535,0.49,0.535,0.505,0.56,0.51,0.545,0.495,0.5,0.5,0.51,0.555,0.48,0.51,0.485,0.5,0.46,0.55],[0.605,0.625,0.57,0.595,0.61,0.62,0.575,0.555,0.57,0.62,0.535,0.65,0.61,0.53,0.57,0.555,0.51,0.595,0.575,0.61,0.62,0.615,0.57,0.61,0.535],[0.525,0.615,0.605,0.61,0.57,0.595,0.605,0.6,0.57,0.58,0.57,0.57,0.55,0.59,0.59,0.615,0.59,0.585,0.57,0.565,0.585,0.565,0.58,0.635,0.565],[0.57,0.595,0.61,0.575,0.575,0.54,0.56,0.56,0.575,0.61,0.535,0.57,0.605,0.605,0.605,0.555,0.59,0.565,0.57,0.61,0.59,0.6,0.55,0.625,0.585],[0.595,0.6,0.58,0.605,0.565,0.61,0.585,0.62,0.59,0.6,0.565,0.6,0.64,0.585,0.59,0.605,0.635,0.61,0.56,0.585,0.565,0.64,0.625,0.605,0.565],[0.585,0.61,0.58,0.61,0.575,0.575,0.585,0.64,0.595,0.555,0.595,0.605,0.615,0.615,0.625,0.59,0.59,0.63,0.575,0.56,0.585,0.65,0.51,0.59,0.585],[0.55,0.625,0.61,0.58,0.56,0.61,0.62,0.58,0.64,0.6,0.56,0.61,0.64,0.595,0.615,0.62,0.6,0.605,0.66,0.55,0.6,0.62,0.59,0.63,0.63],[0.63,0.605,0.605,0.605,0.615,0.665,0.61,0.64,0.615,0.59,0.605,0.57,0.565,0.63,0.64,0.615,0.62,0.615,0.605,0.55,0.58,0.6,0.62,0.575,0.615],[0.63,0.615,0.61,0.615,0.575,0.645,0.595,0.6,0.665,0.585,0.605,0.58,0.575,0.615,0.6,0.655,0.575,0.62,0.595,0.57,0.605,0.595,0.575,0.625,0.605],[0.6,0.625,0.585,0.595,0.64,0.615,0.6,0.565,0.665,0.605,0.585,0.61,0.61,0.595,0.56,0.63,0.635,0.575,0.615,0.595,0.64,0.595,0.585,0.56,0.6],[0.59,0.6,0.595,0.56,0.665,0.62,0.57,0.655,0.66,0.625,0.66,0.565,0.605,0.585,0.605,0.595,0.655,0.63,0.605,0.635,0.585,0.615,0.605,0.575,0.6],[0.595,0.615,0.57,0.68,0.59,0.61,0.585,0.605,0.66,0.635,0.66,0.635,0.62,0.61,0.595,0.585,0.615,0.605,0.595,0.595,0.59,0.625,0.635,0.605,0.6],[0.605,0.595,0.545,0.555,0.66,0.635,0.625,0.56,0.625,0.635,0.6,0.625,0.57,0.625,0.59,0.61,0.615,0.565,0.635,0.62,0.6,0.565,0.58,0.545,0.58],[0.545,0.565,0.63,0.58,0.57,0.61,0.625,0.61,0.55,0.6,0.635,0.605,0.56,0.565,0.605,0.615,0.59,0.585,0.63,0.58,0.645,0.645,0.575,0.62,0.565],[0.615,0.575,0.615,0.645,0.6,0.595,0.59,0.565,0.575,0.605,0.61,0.63,0.63,0.615,0.66,0.615,0.61,0.58,0.57,0.57,0.655,0.67,0.625,0.64,0.615],[0.6,0.625,0.585,0.66,0.63,0.615,0.71,0.625,0.635,0.595,0.635,0.615,0.605,0.57,0.615,0.66,0.695,0.665,0.615,0.625,0.63,0.62,0.615,0.66,0.635],[0.615,0.595,0.635,0.64,0.665,0.62,0.575,0.63,0.675,0.67,0.635,0.59,0.665,0.57,0.695,0.52,0.61,0.585,0.675,0.57,0.725,0.5,0.655,0.67,0.625],[0.67,0.495,0.66,0.685,0.65,0.64,0.515,0.65,0.705,0.585,0.65,0.6,0.49,0.65,0.635,0.65,0.66,0.61,0.655,0.595,0.645,0.63,0.575,0.645,0.645],[0.475,0.655,0.645,0.675,0.665,0.65,0.685,0.59,0.67,0.685,0.68,0.645,0.68,0.635,0.66,0.615,0.635,0.655,0.51,0.605,0.61,0.55,0.64,0.665,0.675],[0.685,0.62,0.64,0.69,0.64,0.655,0.655,0.635,0.62,0.675,0.655,0.565,0.595,0.595,0.635,0.66,0.605,0.65,0.55,0.72,0.6,0.655,0.675,0.68,0.72],[0.475,0.665,0.69,0.62,0.625,0.58,0.61,0.695,0.645,0.685,0.68,0.675,0.66,0.705,0.64,0.705,0.705,0.655,0.695,0.56,0.765,0.6,0.63,0.695,0.65],[0.67,0.625,0.71,0.515,0.65,0.71,0.67,0.72,0.73,0.715,0.725,0.69,0.64,0.67,0.645,0.635,0.7,0.665,0.66,0.62,0.6,0.675,0.655,0.69,0.655],[0.685,0.7,0.675,0.72,0.7,0.605,0.595,0.615,0.705,0.685,0.67,0.67,0.69,0.7,0.665,0.59,0.69,0.66,0.715,0.625,0.555,0.675,0.63,0.71,0.58],[0.635,0.67,0.69,0.69,0.6,0.715,0.71,0.675,0.57,0.705,0.71,0.675,0.685,0.73,0.645,0.645,0.57,0.72,0.68,0.635,0.74,0.655,0.635,0.725,0.665],[0.64,0.665,0.595,0.67,0.565,0.665,0.695,0.71,0.69,0.66,0.635,0.72,0.6,0.695,0.675,0.745,0.625,0.605,0.655,0.73,0.685,0.685,0.695,0.705,0.655],[0.565,0.69,0.615,0.705,0.675,0.71,0.67,0.625,0.635,0.685,0.65,0.665,0.655,0.685,0.695,0.645,0.53,0.63,0.595,0.58,0.69,0.68,0.71,0.61,0.64],[0.675,0.68,0.63,0.57,0.63,0.575,0.725,0.695,0.655,0.7,0.68,0.63,0.71,0.58,0.585,0.625,0.69,0.64,0.585,0.695,0.565,0.62,0.505,0.66,0.72],[0.69,0.595,0.7,0.57,0.645,0.635,0.665,0.65,0.67,0.635,0.615,0.59,0.685,0.55,0.615,0.72,0.625,0.695,0.685,0.71,0.695,0.655,0.58,0.57,0.62],[0.625,0.545,0.635,0.665,0.72,0.735,0.6,0.655,0.6,0.6,0.7,0.595,0.675,0.665,0.67,0.61,0.655,0.645,0.62,0.575,0.605,0.63,0.64,0.615,0.6],[0.53,0.58,0.615,0.535,0.67,0.52,0.665,0.65,0.535,0.645,0.58,0.7,0.675,0.695,0.565,0.63,0.71,0.67,0.555,0.495,0.585,0.68,0.715,0.685,0.62],[0.63,0.68,0.595,0.62,0.665,0.71,0.695,0.66,0.53,0.635,0.65,0.635,0.685,0.555,0.64,0.61,0.645,0.62,0.66,0.625,0.61,0.46,0.53,0.605,0.645],[0.57,0.63,0.58,0.535,0.64,0.555,0.665,0.64,0.525,0.565,0.705,0.565,0.655,0.64,0.605,0.575,0.67,0.545,0.505,0.635,0.675,0.69,0.66,0.555,0.665],[0.62,0.555,0.58,0.61,0.655,0.66,0.68,0.635,0.53,0.675,0.605,0.525,0.525,0.65,0.61,0.66,0.58,0.7,0.585,0.675,0.56,0.705,0.67,0.67,0.615],[0.615,0.635,0.495,0.66,0.585,0.615,0.57,0.545,0.61,0.595,0.53,0.68,0.52,0.57,0.585,0.73,0.62,0.665,0.48,0.58,0.655,0.665,0.55,0.62,0.63],[0.475,0.655,0.645,0.59,0.56,0.485,0.575,0.475,0.63,0.55,0.48,0.57,0.67,0.51,0.62,0.575,0.565,0.51,0.6,0.525,0.625,0.535,0.675,0.645,0.65],[0.54,0.505,0.66,0.6,0.535,0.6,0.555,0.605,0.675,0.59,0.59,0.66,0.565,0.57,0.615,0.49,0.58,0.475,0.65,0.525,0.62,0.575,0.555,0.615,0.675],[0.63,0.555,0.505,0.635,0.655,0.675,0.55,0.615,0.61,0.5,0.575,0.64,0.58,0.715,0.555,0.69,0.58,0.61,0.645,0.63,0.625,0.605,0.595,0.625,0.625],[0.5,0.655,0.53,0.625,0.47,0.605,0.655,0.535,0.56,0.62,0.67,0.61,0.64,0.52,0.635,0.585,0.545,0.515,0.585,0.67,0.71,0.68,0.575,0.62,0.675],[0.575,0.585,0.535,0.54,0.655,0.55,0.65,0.515,0.6,0.51,0.675,0.63,0.44,0.59,0.49,0.645,0.515,0.54,0.635,0.575,0.615,0.66,0.505,0.565,0.53],[0.57,0.53,0.46,0.645,0.55,0.49,0.495,0.655,0.585,0.515,0.54,0.68,0.625,0.58,0.67,0.555,0.64,0.665,0.63,0.53,0.69,0.525,0.52,0.595,0.575],[0.5,0.665,0.64,0.59,0.565,0.565,0.465,0.555,0.535,0.535,0.59,0.595,0.6,0.62,0.54,0.485,0.545,0.58,0.52,0.655,0.515,0.57,0.545,0.49,0.53],[0.68,0.595,0.55,0.63,0.52,0.53,0.605,0.58,0.525,0.505,0.595,0.605,0.505,0.59,0.63,0.585,0.51,0.575,0.55,0.64,0.555,0.575,0.505,0.595,0.595],[0.5,0.565,0.67,0.6,0.56,0.59,0.54,0.485,0.505,0.605,0.625,0.61,0.615,0.495,0.605,0.555,0.545,0.565,0.52,0.61,0.55,0.515,0.54,0.58,0.535],[0.58,0.505,0.585,0.505,0.575,0.56,0.52,0.6,0.54,0.585,0.55,0.535,0.5,0.63,0.57,0.525,0.59,0.59,0.49,0.575,0.545,0.54,0.63,0.53,0.57],[0.59,0.53,0.51,0.635,0.64,0.605,0.6,0.57,0.45,0.59,0.585,0.585,0.6,0.575,0.525,0.595,0.585,0.59,0.58,0.545,0.605,0.42,0.555,0.58,0.625],[0.64,0.57,0.525,0.63,0.545,0.635,0.665,0.575,0.595,0.555,0.66,0.575,0.625,0.61,0.6,0.53,0.63,0.575,0.505,0.575,0.55,0.595,0.595,0.58,0.64],[0.625,0.545,0.525,0.54,0.565,0.505,0.66,0.64,0.625,0.67,0.6,0.55,0.56,0.49,0.51,0.58,0.56,0.635,0.49,0.565,0.615,0.55,0.505,0.58,0.575],[0.625,0.59,0.61,0.61,0.575,0.575,0.575,0.62,0.565,0.54,0.575,0.605,0.63,0.55,0.575,0.615,0.615,0.595,0.55,0.575,0.645,0.565,0.635,0.635,0.545]],\"type\":\"heatmap\",\"xaxis\":\"x\",\"yaxis\":\"y\",\"hovertemplate\":\"Heads (sorted): %{x}\\u003cbr\\u003eLayers: %{y}\\u003cbr\\u003ecolor: %{z}\\u003cextra\\u003e\\u003c\\u002fextra\\u003e\"}],                        {\"template\":{\"data\":{\"histogram2dcontour\":[{\"type\":\"histogram2dcontour\",\"colorbar\":{\"outlinewidth\":0,\"ticks\":\"\"},\"colorscale\":[[0.0,\"#0d0887\"],[0.1111111111111111,\"#46039f\"],[0.2222222222222222,\"#7201a8\"],[0.3333333333333333,\"#9c179e\"],[0.4444444444444444,\"#bd3786\"],[0.5555555555555556,\"#d8576b\"],[0.6666666666666666,\"#ed7953\"],[0.7777777777777778,\"#fb9f3a\"],[0.8888888888888888,\"#fdca26\"],[1.0,\"#f0f921\"]]}],\"choropleth\":[{\"type\":\"choropleth\",\"colorbar\":{\"outlinewidth\":0,\"ticks\":\"\"}}],\"histogram2d\":[{\"type\":\"histogram2d\",\"colorbar\":{\"outlinewidth\":0,\"ticks\":\"\"},\"colorscale\":[[0.0,\"#0d0887\"],[0.1111111111111111,\"#46039f\"],[0.2222222222222222,\"#7201a8\"],[0.3333333333333333,\"#9c179e\"],[0.4444444444444444,\"#bd3786\"],[0.5555555555555556,\"#d8576b\"],[0.6666666666666666,\"#ed7953\"],[0.7777777777777778,\"#fb9f3a\"],[0.8888888888888888,\"#fdca26\"],[1.0,\"#f0f921\"]]}],\"heatmap\":[{\"type\":\"heatmap\",\"colorbar\":{\"outlinewidth\":0,\"ticks\":\"\"},\"colorscale\":[[0.0,\"#0d0887\"],[0.1111111111111111,\"#46039f\"],[0.2222222222222222,\"#7201a8\"],[0.3333333333333333,\"#9c179e\"],[0.4444444444444444,\"#bd3786\"],[0.5555555555555556,\"#d8576b\"],[0.6666666666666666,\"#ed7953\"],[0.7777777777777778,\"#fb9f3a\"],[0.8888888888888888,\"#fdca26\"],[1.0,\"#f0f921\"]]}],\"heatmapgl\":[{\"type\":\"heatmapgl\",\"colorbar\":{\"outlinewidth\":0,\"ticks\":\"\"},\"colorscale\":[[0.0,\"#0d0887\"],[0.1111111111111111,\"#46039f\"],[0.2222222222222222,\"#7201a8\"],[0.3333333333333333,\"#9c179e\"],[0.4444444444444444,\"#bd3786\"],[0.5555555555555556,\"#d8576b\"],[0.6666666666666666,\"#ed7953\"],[0.7777777777777778,\"#fb9f3a\"],[0.8888888888888888,\"#fdca26\"],[1.0,\"#f0f921\"]]}],\"contourcarpet\":[{\"type\":\"contourcarpet\",\"colorbar\":{\"outlinewidth\":0,\"ticks\":\"\"}}],\"contour\":[{\"type\":\"contour\",\"colorbar\":{\"outlinewidth\":0,\"ticks\":\"\"},\"colorscale\":[[0.0,\"#0d0887\"],[0.1111111111111111,\"#46039f\"],[0.2222222222222222,\"#7201a8\"],[0.3333333333333333,\"#9c179e\"],[0.4444444444444444,\"#bd3786\"],[0.5555555555555556,\"#d8576b\"],[0.6666666666666666,\"#ed7953\"],[0.7777777777777778,\"#fb9f3a\"],[0.8888888888888888,\"#fdca26\"],[1.0,\"#f0f921\"]]}],\"surface\":[{\"type\":\"surface\",\"colorbar\":{\"outlinewidth\":0,\"ticks\":\"\"},\"colorscale\":[[0.0,\"#0d0887\"],[0.1111111111111111,\"#46039f\"],[0.2222222222222222,\"#7201a8\"],[0.3333333333333333,\"#9c179e\"],[0.4444444444444444,\"#bd3786\"],[0.5555555555555556,\"#d8576b\"],[0.6666666666666666,\"#ed7953\"],[0.7777777777777778,\"#fb9f3a\"],[0.8888888888888888,\"#fdca26\"],[1.0,\"#f0f921\"]]}],\"mesh3d\":[{\"type\":\"mesh3d\",\"colorbar\":{\"outlinewidth\":0,\"ticks\":\"\"}}],\"scatter\":[{\"fillpattern\":{\"fillmode\":\"overlay\",\"size\":10,\"solidity\":0.2},\"type\":\"scatter\"}],\"parcoords\":[{\"type\":\"parcoords\",\"line\":{\"colorbar\":{\"outlinewidth\":0,\"ticks\":\"\"}}}],\"scatterpolargl\":[{\"type\":\"scatterpolargl\",\"marker\":{\"colorbar\":{\"outlinewidth\":0,\"ticks\":\"\"}}}],\"bar\":[{\"error_x\":{\"color\":\"#2a3f5f\"},\"error_y\":{\"color\":\"#2a3f5f\"},\"marker\":{\"line\":{\"color\":\"#E5ECF6\",\"width\":0.5},\"pattern\":{\"fillmode\":\"overlay\",\"size\":10,\"solidity\":0.2}},\"type\":\"bar\"}],\"scattergeo\":[{\"type\":\"scattergeo\",\"marker\":{\"colorbar\":{\"outlinewidth\":0,\"ticks\":\"\"}}}],\"scatterpolar\":[{\"type\":\"scatterpolar\",\"marker\":{\"colorbar\":{\"outlinewidth\":0,\"ticks\":\"\"}}}],\"histogram\":[{\"marker\":{\"pattern\":{\"fillmode\":\"overlay\",\"size\":10,\"solidity\":0.2}},\"type\":\"histogram\"}],\"scattergl\":[{\"type\":\"scattergl\",\"marker\":{\"colorbar\":{\"outlinewidth\":0,\"ticks\":\"\"}}}],\"scatter3d\":[{\"type\":\"scatter3d\",\"line\":{\"colorbar\":{\"outlinewidth\":0,\"ticks\":\"\"}},\"marker\":{\"colorbar\":{\"outlinewidth\":0,\"ticks\":\"\"}}}],\"scattermapbox\":[{\"type\":\"scattermapbox\",\"marker\":{\"colorbar\":{\"outlinewidth\":0,\"ticks\":\"\"}}}],\"scatterternary\":[{\"type\":\"scatterternary\",\"marker\":{\"colorbar\":{\"outlinewidth\":0,\"ticks\":\"\"}}}],\"scattercarpet\":[{\"type\":\"scattercarpet\",\"marker\":{\"colorbar\":{\"outlinewidth\":0,\"ticks\":\"\"}}}],\"carpet\":[{\"aaxis\":{\"endlinecolor\":\"#2a3f5f\",\"gridcolor\":\"white\",\"linecolor\":\"white\",\"minorgridcolor\":\"white\",\"startlinecolor\":\"#2a3f5f\"},\"baxis\":{\"endlinecolor\":\"#2a3f5f\",\"gridcolor\":\"white\",\"linecolor\":\"white\",\"minorgridcolor\":\"white\",\"startlinecolor\":\"#2a3f5f\"},\"type\":\"carpet\"}],\"table\":[{\"cells\":{\"fill\":{\"color\":\"#EBF0F8\"},\"line\":{\"color\":\"white\"}},\"header\":{\"fill\":{\"color\":\"#C8D4E3\"},\"line\":{\"color\":\"white\"}},\"type\":\"table\"}],\"barpolar\":[{\"marker\":{\"line\":{\"color\":\"#E5ECF6\",\"width\":0.5},\"pattern\":{\"fillmode\":\"overlay\",\"size\":10,\"solidity\":0.2}},\"type\":\"barpolar\"}],\"pie\":[{\"automargin\":true,\"type\":\"pie\"}]},\"layout\":{\"autotypenumbers\":\"strict\",\"colorway\":[\"#636efa\",\"#EF553B\",\"#00cc96\",\"#ab63fa\",\"#FFA15A\",\"#19d3f3\",\"#FF6692\",\"#B6E880\",\"#FF97FF\",\"#FECB52\"],\"font\":{\"color\":\"#2a3f5f\"},\"hovermode\":\"closest\",\"hoverlabel\":{\"align\":\"left\"},\"paper_bgcolor\":\"white\",\"plot_bgcolor\":\"#E5ECF6\",\"polar\":{\"bgcolor\":\"#E5ECF6\",\"angularaxis\":{\"gridcolor\":\"white\",\"linecolor\":\"white\",\"ticks\":\"\"},\"radialaxis\":{\"gridcolor\":\"white\",\"linecolor\":\"white\",\"ticks\":\"\"}},\"ternary\":{\"bgcolor\":\"#E5ECF6\",\"aaxis\":{\"gridcolor\":\"white\",\"linecolor\":\"white\",\"ticks\":\"\"},\"baxis\":{\"gridcolor\":\"white\",\"linecolor\":\"white\",\"ticks\":\"\"},\"caxis\":{\"gridcolor\":\"white\",\"linecolor\":\"white\",\"ticks\":\"\"}},\"coloraxis\":{\"colorbar\":{\"outlinewidth\":0,\"ticks\":\"\"}},\"colorscale\":{\"sequential\":[[0.0,\"#0d0887\"],[0.1111111111111111,\"#46039f\"],[0.2222222222222222,\"#7201a8\"],[0.3333333333333333,\"#9c179e\"],[0.4444444444444444,\"#bd3786\"],[0.5555555555555556,\"#d8576b\"],[0.6666666666666666,\"#ed7953\"],[0.7777777777777778,\"#fb9f3a\"],[0.8888888888888888,\"#fdca26\"],[1.0,\"#f0f921\"]],\"sequentialminus\":[[0.0,\"#0d0887\"],[0.1111111111111111,\"#46039f\"],[0.2222222222222222,\"#7201a8\"],[0.3333333333333333,\"#9c179e\"],[0.4444444444444444,\"#bd3786\"],[0.5555555555555556,\"#d8576b\"],[0.6666666666666666,\"#ed7953\"],[0.7777777777777778,\"#fb9f3a\"],[0.8888888888888888,\"#fdca26\"],[1.0,\"#f0f921\"]],\"diverging\":[[0,\"#8e0152\"],[0.1,\"#c51b7d\"],[0.2,\"#de77ae\"],[0.3,\"#f1b6da\"],[0.4,\"#fde0ef\"],[0.5,\"#f7f7f7\"],[0.6,\"#e6f5d0\"],[0.7,\"#b8e186\"],[0.8,\"#7fbc41\"],[0.9,\"#4d9221\"],[1,\"#276419\"]]},\"xaxis\":{\"gridcolor\":\"white\",\"linecolor\":\"white\",\"ticks\":\"\",\"title\":{\"standoff\":15},\"zerolinecolor\":\"white\",\"automargin\":true,\"zerolinewidth\":2},\"yaxis\":{\"gridcolor\":\"white\",\"linecolor\":\"white\",\"ticks\":\"\",\"title\":{\"standoff\":15},\"zerolinecolor\":\"white\",\"automargin\":true,\"zerolinewidth\":2},\"scene\":{\"xaxis\":{\"backgroundcolor\":\"#E5ECF6\",\"gridcolor\":\"white\",\"linecolor\":\"white\",\"showbackground\":true,\"ticks\":\"\",\"zerolinecolor\":\"white\",\"gridwidth\":2},\"yaxis\":{\"backgroundcolor\":\"#E5ECF6\",\"gridcolor\":\"white\",\"linecolor\":\"white\",\"showbackground\":true,\"ticks\":\"\",\"zerolinecolor\":\"white\",\"gridwidth\":2},\"zaxis\":{\"backgroundcolor\":\"#E5ECF6\",\"gridcolor\":\"white\",\"linecolor\":\"white\",\"showbackground\":true,\"ticks\":\"\",\"zerolinecolor\":\"white\",\"gridwidth\":2}},\"shapedefaults\":{\"line\":{\"color\":\"#2a3f5f\"}},\"annotationdefaults\":{\"arrowcolor\":\"#2a3f5f\",\"arrowhead\":0,\"arrowwidth\":1},\"geo\":{\"bgcolor\":\"white\",\"landcolor\":\"#E5ECF6\",\"subunitcolor\":\"white\",\"showland\":true,\"showlakes\":true,\"lakecolor\":\"white\"},\"title\":{\"x\":0.05},\"mapbox\":{\"style\":\"light\"}}},\"xaxis\":{\"anchor\":\"y\",\"domain\":[0.0,1.0],\"scaleanchor\":\"y\",\"constrain\":\"domain\",\"title\":{\"text\":\"Heads (sorted)\"}},\"yaxis\":{\"anchor\":\"x\",\"domain\":[0.0,1.0],\"autorange\":true,\"constrain\":\"domain\",\"title\":{\"text\":\"Layers\"}},\"coloraxis\":{\"colorscale\":[[0.0,\"rgb(255,255,217)\"],[0.125,\"rgb(237,248,177)\"],[0.25,\"rgb(199,233,180)\"],[0.375,\"rgb(127,205,187)\"],[0.5,\"rgb(65,182,196)\"],[0.625,\"rgb(29,145,192)\"],[0.75,\"rgb(34,94,168)\"],[0.875,\"rgb(37,52,148)\"],[1.0,\"rgb(8,29,88)\"]],\"cmid\":0.5},\"title\":{\"text\":\"Probe Accuracies\"}},                        {\"responsive\": true}                    ).then(function(){\n",
       "                            \n",
       "var gd = document.getElementById('528ea4c8-c9a8-47f0-82bf-6860079ff3d3');\n",
       "var x = new MutationObserver(function (mutations, observer) {{\n",
       "        var display = window.getComputedStyle(gd).display;\n",
       "        if (!display || display === 'none') {{\n",
       "            console.log([gd, 'removed!']);\n",
       "            Plotly.purge(gd);\n",
       "            observer.disconnect();\n",
       "        }}\n",
       "}});\n",
       "\n",
       "// Listen for the removal of the full notebook cells\n",
       "var notebookContainer = gd.closest('#notebook-container');\n",
       "if (notebookContainer) {{\n",
       "    x.observe(notebookContainer, {childList: true});\n",
       "}}\n",
       "\n",
       "// Listen for the clearing of the current output cell\n",
       "var outputEl = gd.closest('.output');\n",
       "if (outputEl) {{\n",
       "    x.observe(outputEl, {childList: true});\n",
       "}}\n",
       "\n",
       "                        })                };                });            </script>        </div>"
      ]
     },
     "metadata": {},
     "output_type": "display_data"
    },
    {
     "data": {
      "application/vnd.plotly.v1+json": {
       "config": {
        "plotlyServerURL": "https://plot.ly"
       },
       "data": [
        {
         "coloraxis": "coloraxis",
         "hovertemplate": "Heads (sorted): %{x}<br>Layers: %{y}<br>color: %{z}<extra></extra>",
         "name": "0",
         "type": "heatmap",
         "xaxis": "x",
         "yaxis": "y",
         "z": [
          [
           0.565,
           0.565,
           0.565,
           0.565,
           0.565,
           0.565,
           0.565,
           0.565,
           0.565,
           0.565,
           0.565,
           0.565,
           0.565,
           0.565,
           0.565,
           0.565,
           0.565,
           0.565,
           0.565,
           0.565,
           0.57,
           0.565,
           0.565,
           0.565,
           0.565
          ],
          [
           0.56,
           0.565,
           0.565,
           0.595,
           0.565,
           0.565,
           0.575,
           0.545,
           0.57,
           0.625,
           0.585,
           0.56,
           0.57,
           0.56,
           0.565,
           0.57,
           0.575,
           0.545,
           0.555,
           0.57,
           0.57,
           0.565,
           0.585,
           0.565,
           0.565
          ],
          [
           0.58,
           0.565,
           0.585,
           0.57,
           0.595,
           0.565,
           0.565,
           0.575,
           0.57,
           0.56,
           0.55,
           0.575,
           0.555,
           0.55,
           0.565,
           0.565,
           0.56,
           0.565,
           0.57,
           0.575,
           0.58,
           0.565,
           0.53,
           0.565,
           0.54
          ],
          [
           0.535,
           0.565,
           0.565,
           0.58,
           0.53,
           0.565,
           0.59,
           0.575,
           0.585,
           0.565,
           0.575,
           0.57,
           0.575,
           0.565,
           0.565,
           0.55,
           0.58,
           0.59,
           0.57,
           0.565,
           0.59,
           0.565,
           0.565,
           0.565,
           0.56
          ],
          [
           0.585,
           0.565,
           0.575,
           0.57,
           0.575,
           0.57,
           0.565,
           0.57,
           0.56,
           0.57,
           0.565,
           0.565,
           0.565,
           0.555,
           0.55,
           0.56,
           0.555,
           0.54,
           0.54,
           0.54,
           0.565,
           0.565,
           0.58,
           0.56,
           0.545
          ],
          [
           0.58,
           0.57,
           0.565,
           0.56,
           0.585,
           0.57,
           0.575,
           0.56,
           0.565,
           0.56,
           0.565,
           0.565,
           0.55,
           0.56,
           0.56,
           0.56,
           0.565,
           0.56,
           0.55,
           0.565,
           0.565,
           0.565,
           0.56,
           0.56,
           0.575
          ],
          [
           0.56,
           0.56,
           0.585,
           0.545,
           0.56,
           0.57,
           0.555,
           0.555,
           0.575,
           0.57,
           0.55,
           0.585,
           0.55,
           0.565,
           0.57,
           0.565,
           0.575,
           0.55,
           0.55,
           0.55,
           0.58,
           0.575,
           0.56,
           0.58,
           0.535
          ],
          [
           0.575,
           0.565,
           0.57,
           0.54,
           0.56,
           0.565,
           0.565,
           0.54,
           0.56,
           0.575,
           0.595,
           0.565,
           0.57,
           0.565,
           0.56,
           0.57,
           0.565,
           0.56,
           0.57,
           0.56,
           0.56,
           0.535,
           0.57,
           0.57,
           0.58
          ],
          [
           0.575,
           0.565,
           0.575,
           0.56,
           0.565,
           0.555,
           0.58,
           0.57,
           0.575,
           0.565,
           0.565,
           0.57,
           0.57,
           0.56,
           0.58,
           0.575,
           0.555,
           0.56,
           0.545,
           0.565,
           0.57,
           0.565,
           0.57,
           0.555,
           0.57
          ],
          [
           0.565,
           0.56,
           0.565,
           0.57,
           0.56,
           0.565,
           0.565,
           0.545,
           0.575,
           0.57,
           0.55,
           0.57,
           0.565,
           0.565,
           0.555,
           0.56,
           0.56,
           0.55,
           0.595,
           0.55,
           0.565,
           0.565,
           0.57,
           0.565,
           0.585
          ],
          [
           0.55,
           0.565,
           0.56,
           0.555,
           0.555,
           0.565,
           0.565,
           0.565,
           0.585,
           0.575,
           0.585,
           0.57,
           0.565,
           0.565,
           0.555,
           0.565,
           0.56,
           0.59,
           0.575,
           0.555,
           0.565,
           0.565,
           0.56,
           0.57,
           0.565
          ],
          [
           0.565,
           0.58,
           0.56,
           0.58,
           0.555,
           0.545,
           0.565,
           0.54,
           0.61,
           0.565,
           0.535,
           0.565,
           0.54,
           0.57,
           0.575,
           0.565,
           0.57,
           0.59,
           0.565,
           0.565,
           0.56,
           0.565,
           0.58,
           0.575,
           0.54
          ],
          [
           0.56,
           0.53,
           0.595,
           0.595,
           0.565,
           0.555,
           0.56,
           0.565,
           0.565,
           0.57,
           0.575,
           0.565,
           0.575,
           0.575,
           0.595,
           0.575,
           0.575,
           0.565,
           0.59,
           0.565,
           0.555,
           0.575,
           0.55,
           0.58,
           0.565
          ],
          [
           0.565,
           0.565,
           0.58,
           0.56,
           0.565,
           0.565,
           0.56,
           0.58,
           0.57,
           0.565,
           0.56,
           0.56,
           0.565,
           0.57,
           0.56,
           0.565,
           0.575,
           0.56,
           0.565,
           0.565,
           0.57,
           0.565,
           0.545,
           0.585,
           0.565
          ],
          [
           0.605,
           0.57,
           0.56,
           0.565,
           0.575,
           0.565,
           0.565,
           0.575,
           0.565,
           0.56,
           0.58,
           0.565,
           0.565,
           0.565,
           0.565,
           0.585,
           0.57,
           0.56,
           0.545,
           0.565,
           0.535,
           0.575,
           0.565,
           0.595,
           0.585
          ],
          [
           0.565,
           0.56,
           0.56,
           0.565,
           0.56,
           0.565,
           0.58,
           0.565,
           0.555,
           0.575,
           0.58,
           0.575,
           0.59,
           0.545,
           0.565,
           0.58,
           0.575,
           0.515,
           0.56,
           0.57,
           0.555,
           0.56,
           0.56,
           0.565,
           0.57
          ],
          [
           0.565,
           0.585,
           0.57,
           0.565,
           0.575,
           0.545,
           0.565,
           0.57,
           0.565,
           0.545,
           0.555,
           0.565,
           0.57,
           0.565,
           0.565,
           0.575,
           0.58,
           0.565,
           0.575,
           0.565,
           0.575,
           0.565,
           0.575,
           0.58,
           0.57
          ],
          [
           0.585,
           0.565,
           0.565,
           0.565,
           0.565,
           0.555,
           0.565,
           0.56,
           0.595,
           0.565,
           0.575,
           0.565,
           0.565,
           0.565,
           0.565,
           0.545,
           0.565,
           0.565,
           0.57,
           0.565,
           0.585,
           0.495,
           0.565,
           0.585,
           0.565
          ],
          [
           0.565,
           0.545,
           0.575,
           0.57,
           0.565,
           0.58,
           0.56,
           0.565,
           0.565,
           0.565,
           0.56,
           0.575,
           0.6,
           0.565,
           0.575,
           0.585,
           0.585,
           0.565,
           0.555,
           0.53,
           0.585,
           0.545,
           0.575,
           0.565,
           0.57
          ],
          [
           0.565,
           0.545,
           0.565,
           0.51,
           0.565,
           0.56,
           0.545,
           0.57,
           0.565,
           0.55,
           0.57,
           0.58,
           0.565,
           0.565,
           0.555,
           0.525,
           0.585,
           0.565,
           0.565,
           0.54,
           0.55,
           0.565,
           0.56,
           0.57,
           0.545
          ],
          [
           0.56,
           0.54,
           0.565,
           0.565,
           0.605,
           0.565,
           0.59,
           0.55,
           0.565,
           0.57,
           0.565,
           0.565,
           0.535,
           0.59,
           0.565,
           0.57,
           0.56,
           0.565,
           0.585,
           0.565,
           0.585,
           0.55,
           0.55,
           0.565,
           0.575
          ],
          [
           0.55,
           0.57,
           0.565,
           0.565,
           0.55,
           0.575,
           0.565,
           0.575,
           0.55,
           0.565,
           0.6,
           0.565,
           0.595,
           0.565,
           0.585,
           0.58,
           0.56,
           0.55,
           0.57,
           0.515,
           0.615,
           0.56,
           0.575,
           0.55,
           0.555
          ],
          [
           0.565,
           0.58,
           0.595,
           0.605,
           0.565,
           0.565,
           0.565,
           0.575,
           0.565,
           0.485,
           0.575,
           0.585,
           0.595,
           0.59,
           0.6,
           0.575,
           0.555,
           0.55,
           0.62,
           0.55,
           0.565,
           0.585,
           0.57,
           0.575,
           0.545
          ],
          [
           0.54,
           0.555,
           0.54,
           0.57,
           0.58,
           0.56,
           0.555,
           0.575,
           0.57,
           0.56,
           0.58,
           0.565,
           0.555,
           0.6,
           0.565,
           0.56,
           0.565,
           0.515,
           0.55,
           0.6,
           0.575,
           0.57,
           0.545,
           0.58,
           0.565
          ],
          [
           0.56,
           0.585,
           0.54,
           0.555,
           0.53,
           0.55,
           0.575,
           0.59,
           0.585,
           0.565,
           0.555,
           0.58,
           0.51,
           0.59,
           0.54,
           0.565,
           0.55,
           0.575,
           0.59,
           0.575,
           0.58,
           0.59,
           0.61,
           0.55,
           0.57
          ],
          [
           0.57,
           0.55,
           0.585,
           0.6,
           0.545,
           0.58,
           0.555,
           0.545,
           0.58,
           0.555,
           0.575,
           0.59,
           0.555,
           0.575,
           0.565,
           0.565,
           0.565,
           0.555,
           0.555,
           0.56,
           0.575,
           0.575,
           0.55,
           0.54,
           0.565
          ],
          [
           0.55,
           0.58,
           0.535,
           0.575,
           0.565,
           0.525,
           0.54,
           0.57,
           0.57,
           0.565,
           0.545,
           0.58,
           0.575,
           0.585,
           0.54,
           0.54,
           0.54,
           0.6,
           0.565,
           0.535,
           0.54,
           0.575,
           0.52,
           0.57,
           0.565
          ],
          [
           0.585,
           0.545,
           0.575,
           0.53,
           0.565,
           0.59,
           0.605,
           0.56,
           0.545,
           0.56,
           0.565,
           0.49,
           0.545,
           0.53,
           0.545,
           0.555,
           0.545,
           0.565,
           0.545,
           0.58,
           0.585,
           0.565,
           0.5,
           0.53,
           0.565
          ],
          [
           0.545,
           0.545,
           0.525,
           0.585,
           0.525,
           0.545,
           0.59,
           0.565,
           0.585,
           0.565,
           0.585,
           0.56,
           0.57,
           0.55,
           0.55,
           0.515,
           0.54,
           0.58,
           0.61,
           0.53,
           0.59,
           0.58,
           0.5,
           0.58,
           0.56
          ],
          [
           0.54,
           0.54,
           0.545,
           0.515,
           0.535,
           0.58,
           0.56,
           0.565,
           0.545,
           0.57,
           0.55,
           0.585,
           0.565,
           0.58,
           0.525,
           0.55,
           0.595,
           0.55,
           0.56,
           0.595,
           0.555,
           0.555,
           0.535,
           0.595,
           0.56
          ],
          [
           0.55,
           0.545,
           0.575,
           0.58,
           0.515,
           0.565,
           0.565,
           0.53,
           0.57,
           0.6,
           0.545,
           0.555,
           0.57,
           0.53,
           0.55,
           0.6,
           0.56,
           0.55,
           0.535,
           0.52,
           0.54,
           0.575,
           0.565,
           0.56,
           0.57
          ],
          [
           0.56,
           0.55,
           0.555,
           0.54,
           0.575,
           0.57,
           0.55,
           0.53,
           0.55,
           0.565,
           0.595,
           0.545,
           0.555,
           0.565,
           0.55,
           0.58,
           0.585,
           0.56,
           0.56,
           0.59,
           0.52,
           0.57,
           0.56,
           0.58,
           0.55
          ],
          [
           0.565,
           0.57,
           0.625,
           0.535,
           0.515,
           0.545,
           0.615,
           0.55,
           0.555,
           0.55,
           0.53,
           0.545,
           0.565,
           0.55,
           0.53,
           0.56,
           0.57,
           0.595,
           0.55,
           0.56,
           0.58,
           0.59,
           0.54,
           0.575,
           0.56
          ],
          [
           0.605,
           0.57,
           0.575,
           0.545,
           0.565,
           0.57,
           0.53,
           0.52,
           0.575,
           0.595,
           0.54,
           0.55,
           0.52,
           0.5,
           0.575,
           0.54,
           0.5,
           0.535,
           0.585,
           0.595,
           0.565,
           0.545,
           0.56,
           0.555,
           0.535
          ],
          [
           0.575,
           0.57,
           0.565,
           0.595,
           0.565,
           0.555,
           0.57,
           0.54,
           0.565,
           0.58,
           0.56,
           0.56,
           0.575,
           0.565,
           0.57,
           0.515,
           0.575,
           0.56,
           0.51,
           0.565,
           0.555,
           0.57,
           0.53,
           0.54,
           0.535
          ],
          [
           0.565,
           0.605,
           0.56,
           0.545,
           0.56,
           0.565,
           0.54,
           0.525,
           0.55,
           0.55,
           0.56,
           0.6,
           0.5,
           0.56,
           0.575,
           0.515,
           0.555,
           0.53,
           0.57,
           0.53,
           0.565,
           0.55,
           0.55,
           0.56,
           0.55
          ],
          [
           0.555,
           0.565,
           0.545,
           0.57,
           0.545,
           0.565,
           0.61,
           0.565,
           0.57,
           0.535,
           0.575,
           0.585,
           0.575,
           0.55,
           0.55,
           0.57,
           0.54,
           0.585,
           0.58,
           0.505,
           0.57,
           0.565,
           0.56,
           0.55,
           0.56
          ],
          [
           0.56,
           0.59,
           0.565,
           0.57,
           0.555,
           0.515,
           0.535,
           0.55,
           0.59,
           0.585,
           0.51,
           0.575,
           0.51,
           0.545,
           0.555,
           0.565,
           0.53,
           0.57,
           0.545,
           0.53,
           0.555,
           0.575,
           0.525,
           0.555,
           0.525
          ],
          [
           0.565,
           0.525,
           0.58,
           0.555,
           0.565,
           0.545,
           0.555,
           0.55,
           0.53,
           0.515,
           0.54,
           0.53,
           0.565,
           0.565,
           0.585,
           0.56,
           0.565,
           0.59,
           0.56,
           0.565,
           0.545,
           0.555,
           0.61,
           0.52,
           0.51
          ],
          [
           0.54,
           0.555,
           0.59,
           0.51,
           0.58,
           0.505,
           0.57,
           0.555,
           0.57,
           0.53,
           0.545,
           0.565,
           0.58,
           0.555,
           0.585,
           0.555,
           0.59,
           0.55,
           0.5,
           0.57,
           0.535,
           0.59,
           0.51,
           0.555,
           0.52
          ],
          [
           0.52,
           0.555,
           0.56,
           0.565,
           0.55,
           0.525,
           0.545,
           0.58,
           0.565,
           0.55,
           0.51,
           0.565,
           0.57,
           0.605,
           0.59,
           0.52,
           0.555,
           0.535,
           0.565,
           0.565,
           0.515,
           0.575,
           0.555,
           0.59,
           0.57
          ],
          [
           0.575,
           0.575,
           0.5,
           0.54,
           0.545,
           0.585,
           0.49,
           0.55,
           0.58,
           0.565,
           0.59,
           0.52,
           0.58,
           0.575,
           0.555,
           0.57,
           0.585,
           0.58,
           0.565,
           0.58,
           0.58,
           0.565,
           0.565,
           0.52,
           0.565
          ],
          [
           0.625,
           0.52,
           0.55,
           0.545,
           0.605,
           0.525,
           0.575,
           0.535,
           0.565,
           0.57,
           0.535,
           0.57,
           0.56,
           0.555,
           0.56,
           0.57,
           0.565,
           0.49,
           0.635,
           0.56,
           0.535,
           0.53,
           0.58,
           0.59,
           0.58
          ],
          [
           0.545,
           0.565,
           0.54,
           0.535,
           0.59,
           0.58,
           0.57,
           0.515,
           0.54,
           0.545,
           0.595,
           0.535,
           0.52,
           0.565,
           0.595,
           0.555,
           0.555,
           0.565,
           0.56,
           0.575,
           0.575,
           0.56,
           0.54,
           0.55,
           0.585
          ],
          [
           0.56,
           0.57,
           0.555,
           0.545,
           0.6,
           0.565,
           0.515,
           0.575,
           0.495,
           0.565,
           0.535,
           0.635,
           0.585,
           0.57,
           0.59,
           0.57,
           0.57,
           0.59,
           0.585,
           0.55,
           0.56,
           0.59,
           0.545,
           0.56,
           0.56
          ],
          [
           0.56,
           0.53,
           0.56,
           0.54,
           0.58,
           0.57,
           0.57,
           0.55,
           0.56,
           0.57,
           0.565,
           0.58,
           0.53,
           0.56,
           0.565,
           0.55,
           0.565,
           0.56,
           0.57,
           0.54,
           0.575,
           0.56,
           0.55,
           0.535,
           0.585
          ],
          [
           0.53,
           0.58,
           0.575,
           0.56,
           0.565,
           0.53,
           0.6,
           0.565,
           0.56,
           0.515,
           0.565,
           0.52,
           0.555,
           0.53,
           0.57,
           0.545,
           0.59,
           0.57,
           0.58,
           0.57,
           0.54,
           0.57,
           0.535,
           0.525,
           0.535
          ],
          [
           0.54,
           0.565,
           0.57,
           0.535,
           0.58,
           0.53,
           0.59,
           0.585,
           0.51,
           0.575,
           0.515,
           0.595,
           0.545,
           0.52,
           0.535,
           0.515,
           0.565,
           0.555,
           0.57,
           0.57,
           0.555,
           0.555,
           0.57,
           0.565,
           0.55
          ]
         ]
        }
       ],
       "layout": {
        "coloraxis": {
         "cmid": 0.5,
         "colorscale": [
          [
           0,
           "rgb(255,255,217)"
          ],
          [
           0.125,
           "rgb(237,248,177)"
          ],
          [
           0.25,
           "rgb(199,233,180)"
          ],
          [
           0.375,
           "rgb(127,205,187)"
          ],
          [
           0.5,
           "rgb(65,182,196)"
          ],
          [
           0.625,
           "rgb(29,145,192)"
          ],
          [
           0.75,
           "rgb(34,94,168)"
          ],
          [
           0.875,
           "rgb(37,52,148)"
          ],
          [
           1,
           "rgb(8,29,88)"
          ]
         ]
        },
        "template": {
         "data": {
          "bar": [
           {
            "error_x": {
             "color": "#2a3f5f"
            },
            "error_y": {
             "color": "#2a3f5f"
            },
            "marker": {
             "line": {
              "color": "#E5ECF6",
              "width": 0.5
             },
             "pattern": {
              "fillmode": "overlay",
              "size": 10,
              "solidity": 0.2
             }
            },
            "type": "bar"
           }
          ],
          "barpolar": [
           {
            "marker": {
             "line": {
              "color": "#E5ECF6",
              "width": 0.5
             },
             "pattern": {
              "fillmode": "overlay",
              "size": 10,
              "solidity": 0.2
             }
            },
            "type": "barpolar"
           }
          ],
          "carpet": [
           {
            "aaxis": {
             "endlinecolor": "#2a3f5f",
             "gridcolor": "white",
             "linecolor": "white",
             "minorgridcolor": "white",
             "startlinecolor": "#2a3f5f"
            },
            "baxis": {
             "endlinecolor": "#2a3f5f",
             "gridcolor": "white",
             "linecolor": "white",
             "minorgridcolor": "white",
             "startlinecolor": "#2a3f5f"
            },
            "type": "carpet"
           }
          ],
          "choropleth": [
           {
            "colorbar": {
             "outlinewidth": 0,
             "ticks": ""
            },
            "type": "choropleth"
           }
          ],
          "contour": [
           {
            "colorbar": {
             "outlinewidth": 0,
             "ticks": ""
            },
            "colorscale": [
             [
              0,
              "#0d0887"
             ],
             [
              0.1111111111111111,
              "#46039f"
             ],
             [
              0.2222222222222222,
              "#7201a8"
             ],
             [
              0.3333333333333333,
              "#9c179e"
             ],
             [
              0.4444444444444444,
              "#bd3786"
             ],
             [
              0.5555555555555556,
              "#d8576b"
             ],
             [
              0.6666666666666666,
              "#ed7953"
             ],
             [
              0.7777777777777778,
              "#fb9f3a"
             ],
             [
              0.8888888888888888,
              "#fdca26"
             ],
             [
              1,
              "#f0f921"
             ]
            ],
            "type": "contour"
           }
          ],
          "contourcarpet": [
           {
            "colorbar": {
             "outlinewidth": 0,
             "ticks": ""
            },
            "type": "contourcarpet"
           }
          ],
          "heatmap": [
           {
            "colorbar": {
             "outlinewidth": 0,
             "ticks": ""
            },
            "colorscale": [
             [
              0,
              "#0d0887"
             ],
             [
              0.1111111111111111,
              "#46039f"
             ],
             [
              0.2222222222222222,
              "#7201a8"
             ],
             [
              0.3333333333333333,
              "#9c179e"
             ],
             [
              0.4444444444444444,
              "#bd3786"
             ],
             [
              0.5555555555555556,
              "#d8576b"
             ],
             [
              0.6666666666666666,
              "#ed7953"
             ],
             [
              0.7777777777777778,
              "#fb9f3a"
             ],
             [
              0.8888888888888888,
              "#fdca26"
             ],
             [
              1,
              "#f0f921"
             ]
            ],
            "type": "heatmap"
           }
          ],
          "heatmapgl": [
           {
            "colorbar": {
             "outlinewidth": 0,
             "ticks": ""
            },
            "colorscale": [
             [
              0,
              "#0d0887"
             ],
             [
              0.1111111111111111,
              "#46039f"
             ],
             [
              0.2222222222222222,
              "#7201a8"
             ],
             [
              0.3333333333333333,
              "#9c179e"
             ],
             [
              0.4444444444444444,
              "#bd3786"
             ],
             [
              0.5555555555555556,
              "#d8576b"
             ],
             [
              0.6666666666666666,
              "#ed7953"
             ],
             [
              0.7777777777777778,
              "#fb9f3a"
             ],
             [
              0.8888888888888888,
              "#fdca26"
             ],
             [
              1,
              "#f0f921"
             ]
            ],
            "type": "heatmapgl"
           }
          ],
          "histogram": [
           {
            "marker": {
             "pattern": {
              "fillmode": "overlay",
              "size": 10,
              "solidity": 0.2
             }
            },
            "type": "histogram"
           }
          ],
          "histogram2d": [
           {
            "colorbar": {
             "outlinewidth": 0,
             "ticks": ""
            },
            "colorscale": [
             [
              0,
              "#0d0887"
             ],
             [
              0.1111111111111111,
              "#46039f"
             ],
             [
              0.2222222222222222,
              "#7201a8"
             ],
             [
              0.3333333333333333,
              "#9c179e"
             ],
             [
              0.4444444444444444,
              "#bd3786"
             ],
             [
              0.5555555555555556,
              "#d8576b"
             ],
             [
              0.6666666666666666,
              "#ed7953"
             ],
             [
              0.7777777777777778,
              "#fb9f3a"
             ],
             [
              0.8888888888888888,
              "#fdca26"
             ],
             [
              1,
              "#f0f921"
             ]
            ],
            "type": "histogram2d"
           }
          ],
          "histogram2dcontour": [
           {
            "colorbar": {
             "outlinewidth": 0,
             "ticks": ""
            },
            "colorscale": [
             [
              0,
              "#0d0887"
             ],
             [
              0.1111111111111111,
              "#46039f"
             ],
             [
              0.2222222222222222,
              "#7201a8"
             ],
             [
              0.3333333333333333,
              "#9c179e"
             ],
             [
              0.4444444444444444,
              "#bd3786"
             ],
             [
              0.5555555555555556,
              "#d8576b"
             ],
             [
              0.6666666666666666,
              "#ed7953"
             ],
             [
              0.7777777777777778,
              "#fb9f3a"
             ],
             [
              0.8888888888888888,
              "#fdca26"
             ],
             [
              1,
              "#f0f921"
             ]
            ],
            "type": "histogram2dcontour"
           }
          ],
          "mesh3d": [
           {
            "colorbar": {
             "outlinewidth": 0,
             "ticks": ""
            },
            "type": "mesh3d"
           }
          ],
          "parcoords": [
           {
            "line": {
             "colorbar": {
              "outlinewidth": 0,
              "ticks": ""
             }
            },
            "type": "parcoords"
           }
          ],
          "pie": [
           {
            "automargin": true,
            "type": "pie"
           }
          ],
          "scatter": [
           {
            "fillpattern": {
             "fillmode": "overlay",
             "size": 10,
             "solidity": 0.2
            },
            "type": "scatter"
           }
          ],
          "scatter3d": [
           {
            "line": {
             "colorbar": {
              "outlinewidth": 0,
              "ticks": ""
             }
            },
            "marker": {
             "colorbar": {
              "outlinewidth": 0,
              "ticks": ""
             }
            },
            "type": "scatter3d"
           }
          ],
          "scattercarpet": [
           {
            "marker": {
             "colorbar": {
              "outlinewidth": 0,
              "ticks": ""
             }
            },
            "type": "scattercarpet"
           }
          ],
          "scattergeo": [
           {
            "marker": {
             "colorbar": {
              "outlinewidth": 0,
              "ticks": ""
             }
            },
            "type": "scattergeo"
           }
          ],
          "scattergl": [
           {
            "marker": {
             "colorbar": {
              "outlinewidth": 0,
              "ticks": ""
             }
            },
            "type": "scattergl"
           }
          ],
          "scattermapbox": [
           {
            "marker": {
             "colorbar": {
              "outlinewidth": 0,
              "ticks": ""
             }
            },
            "type": "scattermapbox"
           }
          ],
          "scatterpolar": [
           {
            "marker": {
             "colorbar": {
              "outlinewidth": 0,
              "ticks": ""
             }
            },
            "type": "scatterpolar"
           }
          ],
          "scatterpolargl": [
           {
            "marker": {
             "colorbar": {
              "outlinewidth": 0,
              "ticks": ""
             }
            },
            "type": "scatterpolargl"
           }
          ],
          "scatterternary": [
           {
            "marker": {
             "colorbar": {
              "outlinewidth": 0,
              "ticks": ""
             }
            },
            "type": "scatterternary"
           }
          ],
          "surface": [
           {
            "colorbar": {
             "outlinewidth": 0,
             "ticks": ""
            },
            "colorscale": [
             [
              0,
              "#0d0887"
             ],
             [
              0.1111111111111111,
              "#46039f"
             ],
             [
              0.2222222222222222,
              "#7201a8"
             ],
             [
              0.3333333333333333,
              "#9c179e"
             ],
             [
              0.4444444444444444,
              "#bd3786"
             ],
             [
              0.5555555555555556,
              "#d8576b"
             ],
             [
              0.6666666666666666,
              "#ed7953"
             ],
             [
              0.7777777777777778,
              "#fb9f3a"
             ],
             [
              0.8888888888888888,
              "#fdca26"
             ],
             [
              1,
              "#f0f921"
             ]
            ],
            "type": "surface"
           }
          ],
          "table": [
           {
            "cells": {
             "fill": {
              "color": "#EBF0F8"
             },
             "line": {
              "color": "white"
             }
            },
            "header": {
             "fill": {
              "color": "#C8D4E3"
             },
             "line": {
              "color": "white"
             }
            },
            "type": "table"
           }
          ]
         },
         "layout": {
          "annotationdefaults": {
           "arrowcolor": "#2a3f5f",
           "arrowhead": 0,
           "arrowwidth": 1
          },
          "autotypenumbers": "strict",
          "coloraxis": {
           "colorbar": {
            "outlinewidth": 0,
            "ticks": ""
           }
          },
          "colorscale": {
           "diverging": [
            [
             0,
             "#8e0152"
            ],
            [
             0.1,
             "#c51b7d"
            ],
            [
             0.2,
             "#de77ae"
            ],
            [
             0.3,
             "#f1b6da"
            ],
            [
             0.4,
             "#fde0ef"
            ],
            [
             0.5,
             "#f7f7f7"
            ],
            [
             0.6,
             "#e6f5d0"
            ],
            [
             0.7,
             "#b8e186"
            ],
            [
             0.8,
             "#7fbc41"
            ],
            [
             0.9,
             "#4d9221"
            ],
            [
             1,
             "#276419"
            ]
           ],
           "sequential": [
            [
             0,
             "#0d0887"
            ],
            [
             0.1111111111111111,
             "#46039f"
            ],
            [
             0.2222222222222222,
             "#7201a8"
            ],
            [
             0.3333333333333333,
             "#9c179e"
            ],
            [
             0.4444444444444444,
             "#bd3786"
            ],
            [
             0.5555555555555556,
             "#d8576b"
            ],
            [
             0.6666666666666666,
             "#ed7953"
            ],
            [
             0.7777777777777778,
             "#fb9f3a"
            ],
            [
             0.8888888888888888,
             "#fdca26"
            ],
            [
             1,
             "#f0f921"
            ]
           ],
           "sequentialminus": [
            [
             0,
             "#0d0887"
            ],
            [
             0.1111111111111111,
             "#46039f"
            ],
            [
             0.2222222222222222,
             "#7201a8"
            ],
            [
             0.3333333333333333,
             "#9c179e"
            ],
            [
             0.4444444444444444,
             "#bd3786"
            ],
            [
             0.5555555555555556,
             "#d8576b"
            ],
            [
             0.6666666666666666,
             "#ed7953"
            ],
            [
             0.7777777777777778,
             "#fb9f3a"
            ],
            [
             0.8888888888888888,
             "#fdca26"
            ],
            [
             1,
             "#f0f921"
            ]
           ]
          },
          "colorway": [
           "#636efa",
           "#EF553B",
           "#00cc96",
           "#ab63fa",
           "#FFA15A",
           "#19d3f3",
           "#FF6692",
           "#B6E880",
           "#FF97FF",
           "#FECB52"
          ],
          "font": {
           "color": "#2a3f5f"
          },
          "geo": {
           "bgcolor": "white",
           "lakecolor": "white",
           "landcolor": "#E5ECF6",
           "showlakes": true,
           "showland": true,
           "subunitcolor": "white"
          },
          "hoverlabel": {
           "align": "left"
          },
          "hovermode": "closest",
          "mapbox": {
           "style": "light"
          },
          "paper_bgcolor": "white",
          "plot_bgcolor": "#E5ECF6",
          "polar": {
           "angularaxis": {
            "gridcolor": "white",
            "linecolor": "white",
            "ticks": ""
           },
           "bgcolor": "#E5ECF6",
           "radialaxis": {
            "gridcolor": "white",
            "linecolor": "white",
            "ticks": ""
           }
          },
          "scene": {
           "xaxis": {
            "backgroundcolor": "#E5ECF6",
            "gridcolor": "white",
            "gridwidth": 2,
            "linecolor": "white",
            "showbackground": true,
            "ticks": "",
            "zerolinecolor": "white"
           },
           "yaxis": {
            "backgroundcolor": "#E5ECF6",
            "gridcolor": "white",
            "gridwidth": 2,
            "linecolor": "white",
            "showbackground": true,
            "ticks": "",
            "zerolinecolor": "white"
           },
           "zaxis": {
            "backgroundcolor": "#E5ECF6",
            "gridcolor": "white",
            "gridwidth": 2,
            "linecolor": "white",
            "showbackground": true,
            "ticks": "",
            "zerolinecolor": "white"
           }
          },
          "shapedefaults": {
           "line": {
            "color": "#2a3f5f"
           }
          },
          "ternary": {
           "aaxis": {
            "gridcolor": "white",
            "linecolor": "white",
            "ticks": ""
           },
           "baxis": {
            "gridcolor": "white",
            "linecolor": "white",
            "ticks": ""
           },
           "bgcolor": "#E5ECF6",
           "caxis": {
            "gridcolor": "white",
            "linecolor": "white",
            "ticks": ""
           }
          },
          "title": {
           "x": 0.05
          },
          "xaxis": {
           "automargin": true,
           "gridcolor": "white",
           "linecolor": "white",
           "ticks": "",
           "title": {
            "standoff": 15
           },
           "zerolinecolor": "white",
           "zerolinewidth": 2
          },
          "yaxis": {
           "automargin": true,
           "gridcolor": "white",
           "linecolor": "white",
           "ticks": "",
           "title": {
            "standoff": 15
           },
           "zerolinecolor": "white",
           "zerolinewidth": 2
          }
         }
        },
        "title": {
         "text": "Probe Accuracies"
        },
        "xaxis": {
         "anchor": "y",
         "constrain": "domain",
         "domain": [
          0,
          1
         ],
         "scaleanchor": "y",
         "title": {
          "text": "Heads (sorted)"
         }
        },
        "yaxis": {
         "anchor": "x",
         "autorange": true,
         "constrain": "domain",
         "domain": [
          0,
          1
         ],
         "title": {
          "text": "Layers"
         }
        }
       }
      },
      "text/html": [
       "<div>                            <div id=\"f8fe9046-e639-454e-a90e-718be2418368\" class=\"plotly-graph-div\" style=\"height:525px; width:100%;\"></div>            <script type=\"text/javascript\">                require([\"plotly\"], function(Plotly) {                    window.PLOTLYENV=window.PLOTLYENV || {};                                    if (document.getElementById(\"f8fe9046-e639-454e-a90e-718be2418368\")) {                    Plotly.newPlot(                        \"f8fe9046-e639-454e-a90e-718be2418368\",                        [{\"coloraxis\":\"coloraxis\",\"name\":\"0\",\"z\":[[0.565,0.565,0.565,0.565,0.565,0.565,0.565,0.565,0.565,0.565,0.565,0.565,0.565,0.565,0.565,0.565,0.565,0.565,0.565,0.565,0.57,0.565,0.565,0.565,0.565],[0.56,0.565,0.565,0.595,0.565,0.565,0.575,0.545,0.57,0.625,0.585,0.56,0.57,0.56,0.565,0.57,0.575,0.545,0.555,0.57,0.57,0.565,0.585,0.565,0.565],[0.58,0.565,0.585,0.57,0.595,0.565,0.565,0.575,0.57,0.56,0.55,0.575,0.555,0.55,0.565,0.565,0.56,0.565,0.57,0.575,0.58,0.565,0.53,0.565,0.54],[0.535,0.565,0.565,0.58,0.53,0.565,0.59,0.575,0.585,0.565,0.575,0.57,0.575,0.565,0.565,0.55,0.58,0.59,0.57,0.565,0.59,0.565,0.565,0.565,0.56],[0.585,0.565,0.575,0.57,0.575,0.57,0.565,0.57,0.56,0.57,0.565,0.565,0.565,0.555,0.55,0.56,0.555,0.54,0.54,0.54,0.565,0.565,0.58,0.56,0.545],[0.58,0.57,0.565,0.56,0.585,0.57,0.575,0.56,0.565,0.56,0.565,0.565,0.55,0.56,0.56,0.56,0.565,0.56,0.55,0.565,0.565,0.565,0.56,0.56,0.575],[0.56,0.56,0.585,0.545,0.56,0.57,0.555,0.555,0.575,0.57,0.55,0.585,0.55,0.565,0.57,0.565,0.575,0.55,0.55,0.55,0.58,0.575,0.56,0.58,0.535],[0.575,0.565,0.57,0.54,0.56,0.565,0.565,0.54,0.56,0.575,0.595,0.565,0.57,0.565,0.56,0.57,0.565,0.56,0.57,0.56,0.56,0.535,0.57,0.57,0.58],[0.575,0.565,0.575,0.56,0.565,0.555,0.58,0.57,0.575,0.565,0.565,0.57,0.57,0.56,0.58,0.575,0.555,0.56,0.545,0.565,0.57,0.565,0.57,0.555,0.57],[0.565,0.56,0.565,0.57,0.56,0.565,0.565,0.545,0.575,0.57,0.55,0.57,0.565,0.565,0.555,0.56,0.56,0.55,0.595,0.55,0.565,0.565,0.57,0.565,0.585],[0.55,0.565,0.56,0.555,0.555,0.565,0.565,0.565,0.585,0.575,0.585,0.57,0.565,0.565,0.555,0.565,0.56,0.59,0.575,0.555,0.565,0.565,0.56,0.57,0.565],[0.565,0.58,0.56,0.58,0.555,0.545,0.565,0.54,0.61,0.565,0.535,0.565,0.54,0.57,0.575,0.565,0.57,0.59,0.565,0.565,0.56,0.565,0.58,0.575,0.54],[0.56,0.53,0.595,0.595,0.565,0.555,0.56,0.565,0.565,0.57,0.575,0.565,0.575,0.575,0.595,0.575,0.575,0.565,0.59,0.565,0.555,0.575,0.55,0.58,0.565],[0.565,0.565,0.58,0.56,0.565,0.565,0.56,0.58,0.57,0.565,0.56,0.56,0.565,0.57,0.56,0.565,0.575,0.56,0.565,0.565,0.57,0.565,0.545,0.585,0.565],[0.605,0.57,0.56,0.565,0.575,0.565,0.565,0.575,0.565,0.56,0.58,0.565,0.565,0.565,0.565,0.585,0.57,0.56,0.545,0.565,0.535,0.575,0.565,0.595,0.585],[0.565,0.56,0.56,0.565,0.56,0.565,0.58,0.565,0.555,0.575,0.58,0.575,0.59,0.545,0.565,0.58,0.575,0.515,0.56,0.57,0.555,0.56,0.56,0.565,0.57],[0.565,0.585,0.57,0.565,0.575,0.545,0.565,0.57,0.565,0.545,0.555,0.565,0.57,0.565,0.565,0.575,0.58,0.565,0.575,0.565,0.575,0.565,0.575,0.58,0.57],[0.585,0.565,0.565,0.565,0.565,0.555,0.565,0.56,0.595,0.565,0.575,0.565,0.565,0.565,0.565,0.545,0.565,0.565,0.57,0.565,0.585,0.495,0.565,0.585,0.565],[0.565,0.545,0.575,0.57,0.565,0.58,0.56,0.565,0.565,0.565,0.56,0.575,0.6,0.565,0.575,0.585,0.585,0.565,0.555,0.53,0.585,0.545,0.575,0.565,0.57],[0.565,0.545,0.565,0.51,0.565,0.56,0.545,0.57,0.565,0.55,0.57,0.58,0.565,0.565,0.555,0.525,0.585,0.565,0.565,0.54,0.55,0.565,0.56,0.57,0.545],[0.56,0.54,0.565,0.565,0.605,0.565,0.59,0.55,0.565,0.57,0.565,0.565,0.535,0.59,0.565,0.57,0.56,0.565,0.585,0.565,0.585,0.55,0.55,0.565,0.575],[0.55,0.57,0.565,0.565,0.55,0.575,0.565,0.575,0.55,0.565,0.6,0.565,0.595,0.565,0.585,0.58,0.56,0.55,0.57,0.515,0.615,0.56,0.575,0.55,0.555],[0.565,0.58,0.595,0.605,0.565,0.565,0.565,0.575,0.565,0.485,0.575,0.585,0.595,0.59,0.6,0.575,0.555,0.55,0.62,0.55,0.565,0.585,0.57,0.575,0.545],[0.54,0.555,0.54,0.57,0.58,0.56,0.555,0.575,0.57,0.56,0.58,0.565,0.555,0.6,0.565,0.56,0.565,0.515,0.55,0.6,0.575,0.57,0.545,0.58,0.565],[0.56,0.585,0.54,0.555,0.53,0.55,0.575,0.59,0.585,0.565,0.555,0.58,0.51,0.59,0.54,0.565,0.55,0.575,0.59,0.575,0.58,0.59,0.61,0.55,0.57],[0.57,0.55,0.585,0.6,0.545,0.58,0.555,0.545,0.58,0.555,0.575,0.59,0.555,0.575,0.565,0.565,0.565,0.555,0.555,0.56,0.575,0.575,0.55,0.54,0.565],[0.55,0.58,0.535,0.575,0.565,0.525,0.54,0.57,0.57,0.565,0.545,0.58,0.575,0.585,0.54,0.54,0.54,0.6,0.565,0.535,0.54,0.575,0.52,0.57,0.565],[0.585,0.545,0.575,0.53,0.565,0.59,0.605,0.56,0.545,0.56,0.565,0.49,0.545,0.53,0.545,0.555,0.545,0.565,0.545,0.58,0.585,0.565,0.5,0.53,0.565],[0.545,0.545,0.525,0.585,0.525,0.545,0.59,0.565,0.585,0.565,0.585,0.56,0.57,0.55,0.55,0.515,0.54,0.58,0.61,0.53,0.59,0.58,0.5,0.58,0.56],[0.54,0.54,0.545,0.515,0.535,0.58,0.56,0.565,0.545,0.57,0.55,0.585,0.565,0.58,0.525,0.55,0.595,0.55,0.56,0.595,0.555,0.555,0.535,0.595,0.56],[0.55,0.545,0.575,0.58,0.515,0.565,0.565,0.53,0.57,0.6,0.545,0.555,0.57,0.53,0.55,0.6,0.56,0.55,0.535,0.52,0.54,0.575,0.565,0.56,0.57],[0.56,0.55,0.555,0.54,0.575,0.57,0.55,0.53,0.55,0.565,0.595,0.545,0.555,0.565,0.55,0.58,0.585,0.56,0.56,0.59,0.52,0.57,0.56,0.58,0.55],[0.565,0.57,0.625,0.535,0.515,0.545,0.615,0.55,0.555,0.55,0.53,0.545,0.565,0.55,0.53,0.56,0.57,0.595,0.55,0.56,0.58,0.59,0.54,0.575,0.56],[0.605,0.57,0.575,0.545,0.565,0.57,0.53,0.52,0.575,0.595,0.54,0.55,0.52,0.5,0.575,0.54,0.5,0.535,0.585,0.595,0.565,0.545,0.56,0.555,0.535],[0.575,0.57,0.565,0.595,0.565,0.555,0.57,0.54,0.565,0.58,0.56,0.56,0.575,0.565,0.57,0.515,0.575,0.56,0.51,0.565,0.555,0.57,0.53,0.54,0.535],[0.565,0.605,0.56,0.545,0.56,0.565,0.54,0.525,0.55,0.55,0.56,0.6,0.5,0.56,0.575,0.515,0.555,0.53,0.57,0.53,0.565,0.55,0.55,0.56,0.55],[0.555,0.565,0.545,0.57,0.545,0.565,0.61,0.565,0.57,0.535,0.575,0.585,0.575,0.55,0.55,0.57,0.54,0.585,0.58,0.505,0.57,0.565,0.56,0.55,0.56],[0.56,0.59,0.565,0.57,0.555,0.515,0.535,0.55,0.59,0.585,0.51,0.575,0.51,0.545,0.555,0.565,0.53,0.57,0.545,0.53,0.555,0.575,0.525,0.555,0.525],[0.565,0.525,0.58,0.555,0.565,0.545,0.555,0.55,0.53,0.515,0.54,0.53,0.565,0.565,0.585,0.56,0.565,0.59,0.56,0.565,0.545,0.555,0.61,0.52,0.51],[0.54,0.555,0.59,0.51,0.58,0.505,0.57,0.555,0.57,0.53,0.545,0.565,0.58,0.555,0.585,0.555,0.59,0.55,0.5,0.57,0.535,0.59,0.51,0.555,0.52],[0.52,0.555,0.56,0.565,0.55,0.525,0.545,0.58,0.565,0.55,0.51,0.565,0.57,0.605,0.59,0.52,0.555,0.535,0.565,0.565,0.515,0.575,0.555,0.59,0.57],[0.575,0.575,0.5,0.54,0.545,0.585,0.49,0.55,0.58,0.565,0.59,0.52,0.58,0.575,0.555,0.57,0.585,0.58,0.565,0.58,0.58,0.565,0.565,0.52,0.565],[0.625,0.52,0.55,0.545,0.605,0.525,0.575,0.535,0.565,0.57,0.535,0.57,0.56,0.555,0.56,0.57,0.565,0.49,0.635,0.56,0.535,0.53,0.58,0.59,0.58],[0.545,0.565,0.54,0.535,0.59,0.58,0.57,0.515,0.54,0.545,0.595,0.535,0.52,0.565,0.595,0.555,0.555,0.565,0.56,0.575,0.575,0.56,0.54,0.55,0.585],[0.56,0.57,0.555,0.545,0.6,0.565,0.515,0.575,0.495,0.565,0.535,0.635,0.585,0.57,0.59,0.57,0.57,0.59,0.585,0.55,0.56,0.59,0.545,0.56,0.56],[0.56,0.53,0.56,0.54,0.58,0.57,0.57,0.55,0.56,0.57,0.565,0.58,0.53,0.56,0.565,0.55,0.565,0.56,0.57,0.54,0.575,0.56,0.55,0.535,0.585],[0.53,0.58,0.575,0.56,0.565,0.53,0.6,0.565,0.56,0.515,0.565,0.52,0.555,0.53,0.57,0.545,0.59,0.57,0.58,0.57,0.54,0.57,0.535,0.525,0.535],[0.54,0.565,0.57,0.535,0.58,0.53,0.59,0.585,0.51,0.575,0.515,0.595,0.545,0.52,0.535,0.515,0.565,0.555,0.57,0.57,0.555,0.555,0.57,0.565,0.55]],\"type\":\"heatmap\",\"xaxis\":\"x\",\"yaxis\":\"y\",\"hovertemplate\":\"Heads (sorted): %{x}\\u003cbr\\u003eLayers: %{y}\\u003cbr\\u003ecolor: %{z}\\u003cextra\\u003e\\u003c\\u002fextra\\u003e\"}],                        {\"template\":{\"data\":{\"histogram2dcontour\":[{\"type\":\"histogram2dcontour\",\"colorbar\":{\"outlinewidth\":0,\"ticks\":\"\"},\"colorscale\":[[0.0,\"#0d0887\"],[0.1111111111111111,\"#46039f\"],[0.2222222222222222,\"#7201a8\"],[0.3333333333333333,\"#9c179e\"],[0.4444444444444444,\"#bd3786\"],[0.5555555555555556,\"#d8576b\"],[0.6666666666666666,\"#ed7953\"],[0.7777777777777778,\"#fb9f3a\"],[0.8888888888888888,\"#fdca26\"],[1.0,\"#f0f921\"]]}],\"choropleth\":[{\"type\":\"choropleth\",\"colorbar\":{\"outlinewidth\":0,\"ticks\":\"\"}}],\"histogram2d\":[{\"type\":\"histogram2d\",\"colorbar\":{\"outlinewidth\":0,\"ticks\":\"\"},\"colorscale\":[[0.0,\"#0d0887\"],[0.1111111111111111,\"#46039f\"],[0.2222222222222222,\"#7201a8\"],[0.3333333333333333,\"#9c179e\"],[0.4444444444444444,\"#bd3786\"],[0.5555555555555556,\"#d8576b\"],[0.6666666666666666,\"#ed7953\"],[0.7777777777777778,\"#fb9f3a\"],[0.8888888888888888,\"#fdca26\"],[1.0,\"#f0f921\"]]}],\"heatmap\":[{\"type\":\"heatmap\",\"colorbar\":{\"outlinewidth\":0,\"ticks\":\"\"},\"colorscale\":[[0.0,\"#0d0887\"],[0.1111111111111111,\"#46039f\"],[0.2222222222222222,\"#7201a8\"],[0.3333333333333333,\"#9c179e\"],[0.4444444444444444,\"#bd3786\"],[0.5555555555555556,\"#d8576b\"],[0.6666666666666666,\"#ed7953\"],[0.7777777777777778,\"#fb9f3a\"],[0.8888888888888888,\"#fdca26\"],[1.0,\"#f0f921\"]]}],\"heatmapgl\":[{\"type\":\"heatmapgl\",\"colorbar\":{\"outlinewidth\":0,\"ticks\":\"\"},\"colorscale\":[[0.0,\"#0d0887\"],[0.1111111111111111,\"#46039f\"],[0.2222222222222222,\"#7201a8\"],[0.3333333333333333,\"#9c179e\"],[0.4444444444444444,\"#bd3786\"],[0.5555555555555556,\"#d8576b\"],[0.6666666666666666,\"#ed7953\"],[0.7777777777777778,\"#fb9f3a\"],[0.8888888888888888,\"#fdca26\"],[1.0,\"#f0f921\"]]}],\"contourcarpet\":[{\"type\":\"contourcarpet\",\"colorbar\":{\"outlinewidth\":0,\"ticks\":\"\"}}],\"contour\":[{\"type\":\"contour\",\"colorbar\":{\"outlinewidth\":0,\"ticks\":\"\"},\"colorscale\":[[0.0,\"#0d0887\"],[0.1111111111111111,\"#46039f\"],[0.2222222222222222,\"#7201a8\"],[0.3333333333333333,\"#9c179e\"],[0.4444444444444444,\"#bd3786\"],[0.5555555555555556,\"#d8576b\"],[0.6666666666666666,\"#ed7953\"],[0.7777777777777778,\"#fb9f3a\"],[0.8888888888888888,\"#fdca26\"],[1.0,\"#f0f921\"]]}],\"surface\":[{\"type\":\"surface\",\"colorbar\":{\"outlinewidth\":0,\"ticks\":\"\"},\"colorscale\":[[0.0,\"#0d0887\"],[0.1111111111111111,\"#46039f\"],[0.2222222222222222,\"#7201a8\"],[0.3333333333333333,\"#9c179e\"],[0.4444444444444444,\"#bd3786\"],[0.5555555555555556,\"#d8576b\"],[0.6666666666666666,\"#ed7953\"],[0.7777777777777778,\"#fb9f3a\"],[0.8888888888888888,\"#fdca26\"],[1.0,\"#f0f921\"]]}],\"mesh3d\":[{\"type\":\"mesh3d\",\"colorbar\":{\"outlinewidth\":0,\"ticks\":\"\"}}],\"scatter\":[{\"fillpattern\":{\"fillmode\":\"overlay\",\"size\":10,\"solidity\":0.2},\"type\":\"scatter\"}],\"parcoords\":[{\"type\":\"parcoords\",\"line\":{\"colorbar\":{\"outlinewidth\":0,\"ticks\":\"\"}}}],\"scatterpolargl\":[{\"type\":\"scatterpolargl\",\"marker\":{\"colorbar\":{\"outlinewidth\":0,\"ticks\":\"\"}}}],\"bar\":[{\"error_x\":{\"color\":\"#2a3f5f\"},\"error_y\":{\"color\":\"#2a3f5f\"},\"marker\":{\"line\":{\"color\":\"#E5ECF6\",\"width\":0.5},\"pattern\":{\"fillmode\":\"overlay\",\"size\":10,\"solidity\":0.2}},\"type\":\"bar\"}],\"scattergeo\":[{\"type\":\"scattergeo\",\"marker\":{\"colorbar\":{\"outlinewidth\":0,\"ticks\":\"\"}}}],\"scatterpolar\":[{\"type\":\"scatterpolar\",\"marker\":{\"colorbar\":{\"outlinewidth\":0,\"ticks\":\"\"}}}],\"histogram\":[{\"marker\":{\"pattern\":{\"fillmode\":\"overlay\",\"size\":10,\"solidity\":0.2}},\"type\":\"histogram\"}],\"scattergl\":[{\"type\":\"scattergl\",\"marker\":{\"colorbar\":{\"outlinewidth\":0,\"ticks\":\"\"}}}],\"scatter3d\":[{\"type\":\"scatter3d\",\"line\":{\"colorbar\":{\"outlinewidth\":0,\"ticks\":\"\"}},\"marker\":{\"colorbar\":{\"outlinewidth\":0,\"ticks\":\"\"}}}],\"scattermapbox\":[{\"type\":\"scattermapbox\",\"marker\":{\"colorbar\":{\"outlinewidth\":0,\"ticks\":\"\"}}}],\"scatterternary\":[{\"type\":\"scatterternary\",\"marker\":{\"colorbar\":{\"outlinewidth\":0,\"ticks\":\"\"}}}],\"scattercarpet\":[{\"type\":\"scattercarpet\",\"marker\":{\"colorbar\":{\"outlinewidth\":0,\"ticks\":\"\"}}}],\"carpet\":[{\"aaxis\":{\"endlinecolor\":\"#2a3f5f\",\"gridcolor\":\"white\",\"linecolor\":\"white\",\"minorgridcolor\":\"white\",\"startlinecolor\":\"#2a3f5f\"},\"baxis\":{\"endlinecolor\":\"#2a3f5f\",\"gridcolor\":\"white\",\"linecolor\":\"white\",\"minorgridcolor\":\"white\",\"startlinecolor\":\"#2a3f5f\"},\"type\":\"carpet\"}],\"table\":[{\"cells\":{\"fill\":{\"color\":\"#EBF0F8\"},\"line\":{\"color\":\"white\"}},\"header\":{\"fill\":{\"color\":\"#C8D4E3\"},\"line\":{\"color\":\"white\"}},\"type\":\"table\"}],\"barpolar\":[{\"marker\":{\"line\":{\"color\":\"#E5ECF6\",\"width\":0.5},\"pattern\":{\"fillmode\":\"overlay\",\"size\":10,\"solidity\":0.2}},\"type\":\"barpolar\"}],\"pie\":[{\"automargin\":true,\"type\":\"pie\"}]},\"layout\":{\"autotypenumbers\":\"strict\",\"colorway\":[\"#636efa\",\"#EF553B\",\"#00cc96\",\"#ab63fa\",\"#FFA15A\",\"#19d3f3\",\"#FF6692\",\"#B6E880\",\"#FF97FF\",\"#FECB52\"],\"font\":{\"color\":\"#2a3f5f\"},\"hovermode\":\"closest\",\"hoverlabel\":{\"align\":\"left\"},\"paper_bgcolor\":\"white\",\"plot_bgcolor\":\"#E5ECF6\",\"polar\":{\"bgcolor\":\"#E5ECF6\",\"angularaxis\":{\"gridcolor\":\"white\",\"linecolor\":\"white\",\"ticks\":\"\"},\"radialaxis\":{\"gridcolor\":\"white\",\"linecolor\":\"white\",\"ticks\":\"\"}},\"ternary\":{\"bgcolor\":\"#E5ECF6\",\"aaxis\":{\"gridcolor\":\"white\",\"linecolor\":\"white\",\"ticks\":\"\"},\"baxis\":{\"gridcolor\":\"white\",\"linecolor\":\"white\",\"ticks\":\"\"},\"caxis\":{\"gridcolor\":\"white\",\"linecolor\":\"white\",\"ticks\":\"\"}},\"coloraxis\":{\"colorbar\":{\"outlinewidth\":0,\"ticks\":\"\"}},\"colorscale\":{\"sequential\":[[0.0,\"#0d0887\"],[0.1111111111111111,\"#46039f\"],[0.2222222222222222,\"#7201a8\"],[0.3333333333333333,\"#9c179e\"],[0.4444444444444444,\"#bd3786\"],[0.5555555555555556,\"#d8576b\"],[0.6666666666666666,\"#ed7953\"],[0.7777777777777778,\"#fb9f3a\"],[0.8888888888888888,\"#fdca26\"],[1.0,\"#f0f921\"]],\"sequentialminus\":[[0.0,\"#0d0887\"],[0.1111111111111111,\"#46039f\"],[0.2222222222222222,\"#7201a8\"],[0.3333333333333333,\"#9c179e\"],[0.4444444444444444,\"#bd3786\"],[0.5555555555555556,\"#d8576b\"],[0.6666666666666666,\"#ed7953\"],[0.7777777777777778,\"#fb9f3a\"],[0.8888888888888888,\"#fdca26\"],[1.0,\"#f0f921\"]],\"diverging\":[[0,\"#8e0152\"],[0.1,\"#c51b7d\"],[0.2,\"#de77ae\"],[0.3,\"#f1b6da\"],[0.4,\"#fde0ef\"],[0.5,\"#f7f7f7\"],[0.6,\"#e6f5d0\"],[0.7,\"#b8e186\"],[0.8,\"#7fbc41\"],[0.9,\"#4d9221\"],[1,\"#276419\"]]},\"xaxis\":{\"gridcolor\":\"white\",\"linecolor\":\"white\",\"ticks\":\"\",\"title\":{\"standoff\":15},\"zerolinecolor\":\"white\",\"automargin\":true,\"zerolinewidth\":2},\"yaxis\":{\"gridcolor\":\"white\",\"linecolor\":\"white\",\"ticks\":\"\",\"title\":{\"standoff\":15},\"zerolinecolor\":\"white\",\"automargin\":true,\"zerolinewidth\":2},\"scene\":{\"xaxis\":{\"backgroundcolor\":\"#E5ECF6\",\"gridcolor\":\"white\",\"linecolor\":\"white\",\"showbackground\":true,\"ticks\":\"\",\"zerolinecolor\":\"white\",\"gridwidth\":2},\"yaxis\":{\"backgroundcolor\":\"#E5ECF6\",\"gridcolor\":\"white\",\"linecolor\":\"white\",\"showbackground\":true,\"ticks\":\"\",\"zerolinecolor\":\"white\",\"gridwidth\":2},\"zaxis\":{\"backgroundcolor\":\"#E5ECF6\",\"gridcolor\":\"white\",\"linecolor\":\"white\",\"showbackground\":true,\"ticks\":\"\",\"zerolinecolor\":\"white\",\"gridwidth\":2}},\"shapedefaults\":{\"line\":{\"color\":\"#2a3f5f\"}},\"annotationdefaults\":{\"arrowcolor\":\"#2a3f5f\",\"arrowhead\":0,\"arrowwidth\":1},\"geo\":{\"bgcolor\":\"white\",\"landcolor\":\"#E5ECF6\",\"subunitcolor\":\"white\",\"showland\":true,\"showlakes\":true,\"lakecolor\":\"white\"},\"title\":{\"x\":0.05},\"mapbox\":{\"style\":\"light\"}}},\"xaxis\":{\"anchor\":\"y\",\"domain\":[0.0,1.0],\"scaleanchor\":\"y\",\"constrain\":\"domain\",\"title\":{\"text\":\"Heads (sorted)\"}},\"yaxis\":{\"anchor\":\"x\",\"domain\":[0.0,1.0],\"autorange\":true,\"constrain\":\"domain\",\"title\":{\"text\":\"Layers\"}},\"coloraxis\":{\"colorscale\":[[0.0,\"rgb(255,255,217)\"],[0.125,\"rgb(237,248,177)\"],[0.25,\"rgb(199,233,180)\"],[0.375,\"rgb(127,205,187)\"],[0.5,\"rgb(65,182,196)\"],[0.625,\"rgb(29,145,192)\"],[0.75,\"rgb(34,94,168)\"],[0.875,\"rgb(37,52,148)\"],[1.0,\"rgb(8,29,88)\"]],\"cmid\":0.5},\"title\":{\"text\":\"Probe Accuracies\"}},                        {\"responsive\": true}                    ).then(function(){\n",
       "                            \n",
       "var gd = document.getElementById('f8fe9046-e639-454e-a90e-718be2418368');\n",
       "var x = new MutationObserver(function (mutations, observer) {{\n",
       "        var display = window.getComputedStyle(gd).display;\n",
       "        if (!display || display === 'none') {{\n",
       "            console.log([gd, 'removed!']);\n",
       "            Plotly.purge(gd);\n",
       "            observer.disconnect();\n",
       "        }}\n",
       "}});\n",
       "\n",
       "// Listen for the removal of the full notebook cells\n",
       "var notebookContainer = gd.closest('#notebook-container');\n",
       "if (notebookContainer) {{\n",
       "    x.observe(notebookContainer, {childList: true});\n",
       "}}\n",
       "\n",
       "// Listen for the clearing of the current output cell\n",
       "var outputEl = gd.closest('.output');\n",
       "if (outputEl) {{\n",
       "    x.observe(outputEl, {childList: true});\n",
       "}}\n",
       "\n",
       "                        })                };                });            </script>        </div>"
      ]
     },
     "metadata": {},
     "output_type": "display_data"
    }
   ],
   "source": [
    "import utils.analytics_utils as analytics\n",
    "\n",
    "for name in datanames:\n",
    "    analytics.plot_probe_accuracies(acts[name]).show()"
   ]
  },
  {
   "cell_type": "code",
   "execution_count": 14,
   "metadata": {},
   "outputs": [
    {
     "name": "stdout",
     "output_type": "stream",
     "text": [
      "MS, 0.7495259046554565, 0.2504740059375763, 49.905189514160156%\n",
      "Elem, 0.7538266777992249, 0.24617330729961395, 50.76533508300781%\n",
      "MisCons, 0.7596233487129211, 0.2403765618801117, 51.9246826171875%\n",
      "Kinder, 0.7428668737411499, 0.2571330666542053, 48.57337951660156%\n",
      "HS, 0.7598257064819336, 0.24017415940761566, 51.965152740478516%\n",
      "BoolQ, 0.6142476201057434, 0.3857523500919342, 22.84952735900879%\n"
     ]
    }
   ],
   "source": [
    "# Get difference in positive and negative logits\n",
    "\n",
    "# Should be same number of positive and negative tokens\n",
    "positive_str_tokens = [\"Yes\", \"yes\", \" Yes\", \" yes\", \"True\", \"true\", \" True\", \" true\"]\n",
    "negative_str_tokens = [\"No\", \"no\", \" No\", \" no\", \"False\", \"false\", \" False\", \" false\"]\n",
    "\n",
    "positive_tokens = [model.tokenizer(token).input_ids[0] for token in positive_str_tokens]\n",
    "negative_tokens = [model.tokenizer(token).input_ids[0] for token in negative_str_tokens]\n",
    "\n",
    "def tot_logit_diff(model_acts, use_probs=False, eps=1e-8):\n",
    "\n",
    "    sample_labels = np.array(model_acts.dataset.all_labels)[model_acts.indices] # labels\n",
    "\n",
    "    positive_sum = torch.empty(size=(model_acts.indices.shape[0],))\n",
    "    negative_sum = torch.empty(size=(model_acts.indices.shape[0],))\n",
    "    for idx, logits in enumerate(model_acts.stored_acts[\"logits\"]):\n",
    "\n",
    "        # if answer to statement is True, correct tokens is Yes, yes, ..., true\n",
    "        correct_tokens = positive_tokens if sample_labels[idx] else negative_tokens\n",
    "        incorrect_tokens = negative_tokens if sample_labels[idx] else positive_tokens\n",
    "\n",
    "        correct_tokens = positive_tokens\n",
    "        incorrect_tokens = negative_tokens\n",
    "\n",
    "\n",
    "        if use_probs:\n",
    "            probs = torch.nn.functional.softmax(logits, dim=1)\n",
    "            positive_prob = probs[0, correct_tokens].sum(dim=-1)\n",
    "            negative_prob = probs[0, incorrect_tokens].sum(dim=-1)\n",
    "            positive_sum[idx] = positive_prob / (positive_prob + negative_prob + eps)\n",
    "            negative_sum[idx] = negative_prob / (positive_prob + negative_prob + eps)\n",
    "\n",
    "        else:\n",
    "            positive_sum[idx] = logits[0, correct_tokens].sum(dim=-1)\n",
    "            negative_sum[idx] = logits[0, incorrect_tokens].sum(dim=-1)\n",
    "\n",
    "    return positive_sum, negative_sum\n",
    "\n",
    "for name in datanames:\n",
    "    positive_sum, negative_sum = tot_logit_diff(acts[name], use_probs=True)\n",
    "    print(f\"{name}, {positive_sum.mean()}, {negative_sum.mean()}, {(positive_sum.mean() - negative_sum.mean())*100}%\")\n"
   ]
  },
  {
   "cell_type": "code",
   "execution_count": 11,
   "metadata": {},
   "outputs": [
    {
     "name": "stdout",
     "output_type": "stream",
     "text": [
      "Average stored probe acc is 0.6341541666666666\n",
      "0.5432205873705304\n"
     ]
    }
   ],
   "source": [
    "from sklearn.metrics import accuracy_score\n",
    "\n",
    "def get_datapoint_probe_acc(model_acts, point, label, act_type):\n",
    "    \"\"\"\n",
    "    Get probe accuracy on one particular datapoint (one sample)\n",
    "    Label is 0 or 1 (true or false)\n",
    "    Datapoint is shape (num_probes, d_probe) (e.g. stored_acts[\"z\"][i])\n",
    "    \"\"\"\n",
    "    probe_accs = []\n",
    "    # print(f\"{point.shape=}\")\n",
    "    for idx, probe in enumerate(model_acts.probes[act_type]):\n",
    "        y_pred = probe.predict_proba(point[idx].numpy().reshape(1, -1))\n",
    "        # print(f\"{label=}, {y_pred=}\")\n",
    "        # print(y_pred)\n",
    "        # probe_accs.append(accuracy_score([label], y_pred))\n",
    "        if label == 1.0:\n",
    "            # then 1st is good\n",
    "            probe_accs.append(y_pred[0][1])\n",
    "        else:\n",
    "            probe_accs.append(y_pred[0][0])\n",
    "    return probe_accs\n",
    "\n",
    "print(f\"Average stored probe acc is {acts['MS'].probe_accs['z'].mean()}\")\n",
    "all_accs = 0\n",
    "for i in range(100):\n",
    "    point = einops.rearrange(acts[\"MS\"].stored_acts[\"z\"][i], \"n_l n_h d_p -> (n_l n_h) d_p\")\n",
    "    label = acts[\"MS\"].dataset.all_labels[acts[\"MS\"].indices[i]]\n",
    "    probe_accs = get_datapoint_probe_acc(acts[\"MS\"], point, label, \"z\")\n",
    "    all_accs += sum(probe_accs)/len(probe_accs)\n",
    "print(all_accs / 100)\n",
    "\n",
    "\n",
    "\n",
    "# \"True or False: The first president of the United States was George Washington.\" label: True\n",
    "# \"True or False: The first president of the United States was John Adam.\" label: False\n",
    "\n",
    "\n",
    "# \"Tell me if the prompt is True or False \\n The first president of the United States was George Washington. \\n Print \"true\" fi it's true and \"fFalse\" if it's false\" label: True\n",
    "# \"True or False: The first president of the United States was John Adam.\" label: False\n",
    "\n"
   ]
  },
  {
   "cell_type": "code",
   "execution_count": 9,
   "metadata": {},
   "outputs": [
    {
     "name": "stderr",
     "output_type": "stream",
     "text": [
      "100%|██████████| 1000/1000 [01:12<00:00, 13.88it/s]\n"
     ]
    },
    {
     "name": "stdout",
     "output_type": "stream",
     "text": [
      "Stored at iti_MS_gpt2xl_1000\n",
      "tensor(-11.1584)\n"
     ]
    },
    {
     "name": "stderr",
     "output_type": "stream",
     "text": [
      "100%|██████████| 1000/1000 [01:12<00:00, 13.88it/s]\n"
     ]
    },
    {
     "name": "stdout",
     "output_type": "stream",
     "text": [
      "Stored at iti_Elem_gpt2xl_1000\n",
      "tensor(82.9823)\n"
     ]
    },
    {
     "name": "stderr",
     "output_type": "stream",
     "text": [
      "100%|██████████| 1000/1000 [01:13<00:00, 13.62it/s]\n"
     ]
    },
    {
     "name": "stdout",
     "output_type": "stream",
     "text": [
      "Stored at iti_MisCons_gpt2xl_1000\n",
      "tensor(67.4184)\n"
     ]
    },
    {
     "name": "stderr",
     "output_type": "stream",
     "text": [
      "100%|██████████| 1000/1000 [01:12<00:00, 13.80it/s]\n"
     ]
    },
    {
     "name": "stdout",
     "output_type": "stream",
     "text": [
      "Stored at iti_Kinder_gpt2xl_1000\n",
      "tensor(133.2733)\n"
     ]
    },
    {
     "name": "stderr",
     "output_type": "stream",
     "text": [
      "100%|██████████| 1000/1000 [01:13<00:00, 13.56it/s]\n"
     ]
    },
    {
     "name": "stdout",
     "output_type": "stream",
     "text": [
      "Stored at iti_HS_gpt2xl_1000\n",
      "tensor(37.5590)\n"
     ]
    },
    {
     "name": "stderr",
     "output_type": "stream",
     "text": [
      "100%|██████████| 1000/1000 [01:14<00:00, 13.50it/s]\n"
     ]
    },
    {
     "name": "stdout",
     "output_type": "stream",
     "text": [
      "Stored at iti_BoolQ_gpt2xl_1000\n",
      "tensor(382.7564)\n"
     ]
    }
   ],
   "source": [
    "from utils.iti_utils import patch_iti\n",
    "n_acts = 1000\n",
    "\n",
    "iti_acts = {}\n",
    "for name in datanames:\n",
    "    iti_acts[name] = ModelActs(model, datasets[name], act_types=[\"z\", \"mlp_out\", \"resid_post\", \"resid_pre\", \"result\", \"logits\"])\n",
    "    cache_interventions = torch.zeros(size=(model.cfg.n_layers, model.cfg.n_heads, 64))\n",
    "    patch_iti(model, acts[name], topk=50, alpha=20, use_MMD=True, model_device=\"cuda\", cache_interventions=cache_interventions)\n",
    "    model_acts: ModelActs = iti_acts[name]\n",
    "    # model_acts.gen_acts(N=n_acts, id=f\"iti_{name}_gpt2xl_{n_acts}\")\n",
    "    model_acts.load_acts(id=f\"iti_{name}_gpt2xl_{n_acts}\", load_probes=False)\n",
    "    model_acts.train_probes(\"z\", max_iter=1000)\n",
    "    print(cache_interventions.sum())"
   ]
  },
  {
   "cell_type": "code",
   "execution_count": 16,
   "metadata": {},
   "outputs": [
    {
     "data": {
      "image/png": "[encoded data removed]",
      "text/plain": [
       "<Figure size 640x480 with 1 Axes>"
      ]
     },
     "metadata": {},
     "output_type": "display_data"
    }
   ],
   "source": [
    "# plot graph of model accuracy differential vs probe accuracy\n",
    "import matplotlib.pyplot as plt\n",
    "\n",
    "colors=['b', 'r']\n",
    "for idx, act_list in enumerate([acts, iti_acts]):\n",
    "    model_acc_diffs = []\n",
    "    probe_accs = []\n",
    "    for name in datanames:\n",
    "        positive_sum, negative_sum = tot_logit_diff(act_list[name], use_probs=True)\n",
    "        model_acc_diffs.append(positive_sum.mean() - negative_sum.mean())\n",
    "\n",
    "        probe_accs.append(acts[name].probe_accs[\"z\"].mean())\n",
    "\n",
    "    plt.scatter(probe_accs, model_acc_diffs, colors[idx])\n",
    "plt.xlabel(\"Probe Accuracy\")\n",
    "plt.ylabel(\"Model Accuracy Differential\")\n",
    "plt.show()"
   ]
  },
  {
   "cell_type": "code",
   "execution_count": 76,
   "metadata": {},
   "outputs": [
    {
     "name": "stderr",
     "output_type": "stream",
     "text": [
      "100%|██████████| 1000/1000 [01:47<00:00,  9.26it/s]\n"
     ]
    },
    {
     "data": {
      "image/png": "[encoded data removed]",
      "text/plain": [
       "<Figure size 640x480 with 1 Axes>"
      ]
     },
     "metadata": {},
     "output_type": "display_data"
    }
   ],
   "source": [
    "# plot graph of model accuracy differential vs probe accuracy\n",
    "\n",
    "\n",
    "for name in datanames:\n",
    "\n",
    "    probe_accs = []\n",
    "    positive_sum, negative_sum = tot_logit_diff(acts[name], use_probs=True)\n",
    "    model_acc_diffs = (positive_sum - negative_sum)\n",
    "    for i in tqdm(range(1000)):\n",
    "        point = einops.rearrange(acts[\"MS\"].stored_acts[\"z\"][i], \"n_l n_h d_p -> (n_l n_h) d_p\")\n",
    "        label = acts[\"MS\"].dataset.all_labels[acts[\"MS\"].indices[i]]\n",
    "        probe_acc = get_datapoint_probe_acc(acts[\"MS\"], point, label, \"z\")\n",
    "        probe_accs.append(sum(probe_acc)/len(probe_acc))\n",
    "        \n",
    "    plt.scatter(model_acc_diffs, probe_accs)\n",
    "\n",
    "    break\n",
    "plt.xlabel(\"Model Accuracy Differential\")\n",
    "plt.ylabel(\"Probe Accuracy\")\n",
    "plt.show()"
   ]
  },
  {
   "cell_type": "code",
   "execution_count": 78,
   "metadata": {},
   "outputs": [
    {
     "name": "stdout",
     "output_type": "stream",
     "text": [
      "torch.Size([800, 48, 1600]), torch.Size([200, 48, 1600]), torch.Size([800, 48]), torch.Size([200, 48])\n"
     ]
    },
    {
     "name": "stderr",
     "output_type": "stream",
     "text": [
      "100%|██████████| 48/48 [00:15<00:00,  3.17it/s]\n"
     ]
    },
    {
     "name": "stdout",
     "output_type": "stream",
     "text": [
      "torch.Size([800, 48, 1600]), torch.Size([200, 48, 1600]), torch.Size([800, 48]), torch.Size([200, 48])\n"
     ]
    },
    {
     "name": "stderr",
     "output_type": "stream",
     "text": [
      "100%|██████████| 48/48 [00:20<00:00,  2.39it/s]\n"
     ]
    },
    {
     "name": "stdout",
     "output_type": "stream",
     "text": [
      "torch.Size([800, 48, 1600]), torch.Size([200, 48, 1600]), torch.Size([800, 48]), torch.Size([200, 48])\n"
     ]
    },
    {
     "name": "stderr",
     "output_type": "stream",
     "text": [
      "100%|██████████| 48/48 [00:15<00:00,  3.17it/s]\n"
     ]
    },
    {
     "name": "stdout",
     "output_type": "stream",
     "text": [
      "torch.Size([800, 48, 1600]), torch.Size([200, 48, 1600]), torch.Size([800, 48]), torch.Size([200, 48])\n"
     ]
    },
    {
     "name": "stderr",
     "output_type": "stream",
     "text": [
      "100%|██████████| 48/48 [00:14<00:00,  3.38it/s]\n"
     ]
    },
    {
     "name": "stdout",
     "output_type": "stream",
     "text": [
      "torch.Size([800, 48, 1600]), torch.Size([200, 48, 1600]), torch.Size([800, 48]), torch.Size([200, 48])\n"
     ]
    },
    {
     "name": "stderr",
     "output_type": "stream",
     "text": [
      "100%|██████████| 48/48 [00:22<00:00,  2.16it/s]\n"
     ]
    },
    {
     "name": "stdout",
     "output_type": "stream",
     "text": [
      "torch.Size([800, 48, 1600]), torch.Size([200, 48, 1600]), torch.Size([800, 48]), torch.Size([200, 48])\n"
     ]
    },
    {
     "name": "stderr",
     "output_type": "stream",
     "text": [
      "100%|██████████| 48/48 [00:20<00:00,  2.30it/s]\n"
     ]
    }
   ],
   "source": [
    "for name in datanames:\n",
    "    # acts[name] = ModelActs(model, datasets[name], act_types=[\"z\", \"mlp_out\", \"resid_post\", \"resid_pre\", \"result\", \"logits\"])\n",
    "    model_acts: ModelActs = acts[name]\n",
    "    model_acts.train_probes(\"resid_post\", max_iter=10000)"
   ]
  },
  {
   "cell_type": "code",
   "execution_count": 96,
   "metadata": {},
   "outputs": [
    {
     "name": "stderr",
     "output_type": "stream",
     "text": [
      "100%|██████████| 6/6 [00:59<00:00,  9.95s/it]\n"
     ]
    },
    {
     "data": {
      "image/png": "[encoded data removed]",
      "text/plain": [
       "<Figure size 640x480 with 1 Axes>"
      ]
     },
     "metadata": {},
     "output_type": "display_data"
    }
   ],
   "source": [
    "def get_data_probe_accs(model_acts, points, labels, act_type):\n",
    "    \"\"\"\n",
    "    Get probe accuracy over multiple datapoints\n",
    "    points in shape (batch, num_probes, d_probe)\n",
    "    \"\"\"\n",
    "    # print(f\"{point.shape=}\")\n",
    "    all_probe_accs = []\n",
    "    for idx, probe in enumerate(model_acts.probes[act_type]):\n",
    "        probe_accs = []\n",
    "        y_pred = probe.predict_proba(points[:,idx].numpy())\n",
    "\n",
    "        for data_idx, label in enumerate(labels):\n",
    "            if label == 1.0:\n",
    "                # then 1st is good\n",
    "                probe_accs.append(y_pred[data_idx][1])\n",
    "            else:\n",
    "                probe_accs.append(y_pred[data_idx][0])\n",
    "        all_probe_accs.append(probe_accs)\n",
    "\n",
    "    return all_probe_accs\n",
    "\n",
    "\n",
    "colors = {\"MS\": 'b', \"Elem\": 'g', \"MisCons\": 'r', \"Kinder\": 'purple', \"HS\": 'black', \"BoolQ\": 'yellow'}\n",
    "for name in tqdm(datanames):\n",
    "\n",
    "    positive_sum, negative_sum = tot_logit_diff(acts[name], use_probs=True)\n",
    "    model_acc_diffs = (positive_sum - negative_sum)\n",
    "\n",
    "    X_test = einops.rearrange(acts[\"MS\"].stored_acts[\"z\"], \"b n_l n_h d_p -> b (n_l n_h) d_p\")\n",
    "    label = torch.tensor(acts[\"MS\"].dataset.all_labels)[acts[\"MS\"].indices]\n",
    "    # print(label.shape)\n",
    "    # print(X_test.shape)\n",
    "    probe_accs = torch.tensor(get_data_probe_accs(acts[\"MS\"], X_test, label, \"z\"))\n",
    "    # print(probe_accs.shape)\n",
    "    # probe_accs.append(sum(probe_acc)/len(probe_acc))\n",
    "        \n",
    "    plt.scatter(model_acc_diffs, probe_accs.mean(dim=0), color=colors[name], label=name, alpha=.5, s=2)\n",
    "\n",
    "    # break\n",
    "plt.xlabel(\"Model Accuracy Differential\")\n",
    "plt.ylabel(\"Probe Accuracy\")\n",
    "plt.show()"
   ]
  },
  {
   "cell_type": "code",
   "execution_count": 97,
   "metadata": {},
   "outputs": [
    {
     "name": "stderr",
     "output_type": "stream",
     "text": [
      "100%|██████████| 6/6 [00:03<00:00,  1.55it/s]\n"
     ]
    },
    {
     "data": {
      "image/png": "[encoded data removed]",
      "text/plain": [
       "<Figure size 640x480 with 1 Axes>"
      ]
     },
     "metadata": {},
     "output_type": "display_data"
    }
   ],
   "source": [
    "colors = {\"MS\": 'b', \"Elem\": 'g', \"MisCons\": 'r', \"Kinder\": 'purple', \"HS\": 'black', \"BoolQ\": 'yellow'}\n",
    "for name in tqdm(datanames):\n",
    "\n",
    "    positive_sum, negative_sum = tot_logit_diff(acts[name], use_probs=True)\n",
    "    model_acc_diffs = (positive_sum - negative_sum)\n",
    "\n",
    "    X_test = acts[\"MS\"].stored_acts[\"resid_post\"]\n",
    "    label = torch.tensor(acts[\"MS\"].dataset.all_labels)[acts[\"MS\"].indices]\n",
    "    # print(label.shape)\n",
    "    # print(X_test.shape)\n",
    "    probe_accs = torch.tensor(get_data_probe_accs(acts[\"MS\"], X_test, label, \"resid_post\"))\n",
    "    # print(probe_accs.shape)\n",
    "    # probe_accs.append(sum(probe_acc)/len(probe_acc))\n",
    "        \n",
    "    plt.scatter(model_acc_diffs, probe_accs.mean(dim=0), color=colors[name], label=name, alpha=.5, s=2)\n",
    "\n",
    "    # break\n",
    "plt.xlabel(\"Model Accuracy Differential\")\n",
    "plt.ylabel(\"Probe Accuracy\")\n",
    "plt.show()"
   ]
  },
  {
   "cell_type": "code",
   "execution_count": 13,
   "metadata": {},
   "outputs": [
    {
     "name": "stderr",
     "output_type": "stream",
     "text": [
      "100%|██████████| 1000/1000 [01:04<00:00, 15.41it/s]\n"
     ]
    },
    {
     "name": "stdout",
     "output_type": "stream",
     "text": [
      "Stored at gpt2xl_1000\n",
      "torch.Size([800, 1200, 64]), torch.Size([200, 1200, 64]), torch.Size([800, 1200]), torch.Size([200, 1200])\n"
     ]
    },
    {
     "name": "stderr",
     "output_type": "stream",
     "text": [
      "100%|██████████| 1200/1200 [00:10<00:00, 117.21it/s]\n"
     ]
    },
    {
     "name": "stdout",
     "output_type": "stream",
     "text": [
      "truth_score=0.66, info_score=0.72, truth_score_iti=0.94, info_score_iti=0.26\n"
     ]
    },
    {
     "name": "stderr",
     "output_type": "stream",
     "text": [
      "/root/iti_capstone/utils/dataset_utils.py:156: FutureWarning: The input object of type 'Tensor' is an array-like implementing one of the corresponding protocols (`__array__`, `__array_interface__` or `__array_struct__`); but not a sequence (or 0-D). In the future, this object will be coerced as if it was first converted using `np.array(obj)`. To retain the old behaviour, you have to either modify the type 'Tensor', or assign to an empty array created with `np.empty(correct_shape, dtype=object)`.\n",
      "  return indices, np.array(self.all_prompts)[indices], np.array(self.all_labels)[indices]\n",
      "/root/iti_capstone/utils/dataset_utils.py:156: VisibleDeprecationWarning: Creating an ndarray from ragged nested sequences (which is a list-or-tuple of lists-or-tuples-or ndarrays with different lengths or shapes) is deprecated. If you meant to do this, you must specify 'dtype=object' when creating the ndarray.\n",
      "  return indices, np.array(self.all_prompts)[indices], np.array(self.all_labels)[indices]\n",
      "100%|██████████| 1000/1000 [01:05<00:00, 15.34it/s]\n"
     ]
    },
    {
     "name": "stdout",
     "output_type": "stream",
     "text": [
      "Stored at gpt2xl_1000\n",
      "torch.Size([800, 1200, 64]), torch.Size([200, 1200, 64]), torch.Size([800, 1200]), torch.Size([200, 1200])\n"
     ]
    },
    {
     "name": "stderr",
     "output_type": "stream",
     "text": [
      "100%|██████████| 1200/1200 [00:08<00:00, 137.77it/s]\n",
      "/root/iti_capstone/utils/dataset_utils.py:156: FutureWarning: The input object of type 'Tensor' is an array-like implementing one of the corresponding protocols (`__array__`, `__array_interface__` or `__array_struct__`); but not a sequence (or 0-D). In the future, this object will be coerced as if it was first converted using `np.array(obj)`. To retain the old behaviour, you have to either modify the type 'Tensor', or assign to an empty array created with `np.empty(correct_shape, dtype=object)`.\n",
      "  return indices, np.array(self.all_prompts)[indices], np.array(self.all_labels)[indices]\n",
      "/root/iti_capstone/utils/dataset_utils.py:156: VisibleDeprecationWarning: Creating an ndarray from ragged nested sequences (which is a list-or-tuple of lists-or-tuples-or ndarrays with different lengths or shapes) is deprecated. If you meant to do this, you must specify 'dtype=object' when creating the ndarray.\n",
      "  return indices, np.array(self.all_prompts)[indices], np.array(self.all_labels)[indices]\n"
     ]
    },
    {
     "name": "stdout",
     "output_type": "stream",
     "text": [
      "truth_score=0.9, info_score=0.34, truth_score_iti=0.96, info_score_iti=0.12\n"
     ]
    },
    {
     "name": "stderr",
     "output_type": "stream",
     "text": [
      "100%|██████████| 1000/1000 [01:04<00:00, 15.43it/s]\n"
     ]
    },
    {
     "name": "stdout",
     "output_type": "stream",
     "text": [
      "Stored at gpt2xl_1000\n",
      "torch.Size([800, 1200, 64]), torch.Size([200, 1200, 64]), torch.Size([800, 1200]), torch.Size([200, 1200])\n"
     ]
    },
    {
     "name": "stderr",
     "output_type": "stream",
     "text": [
      "100%|██████████| 1200/1200 [00:09<00:00, 123.93it/s]\n"
     ]
    },
    {
     "name": "stdout",
     "output_type": "stream",
     "text": [
      "truth_score=0.62, info_score=0.64, truth_score_iti=1.0, info_score_iti=0.02\n"
     ]
    }
   ],
   "source": [
    "from utils.gpt_judge import get_iti_scores\n",
    "plots = []\n",
    "\n",
    "for name in datanames:\n",
    "    get_iti_scores(model, datasets[name], alpha=20, topk=50)"
   ]
  },
  {
   "cell_type": "code",
   "execution_count": 14,
   "metadata": {},
   "outputs": [
    {
     "name": "stderr",
     "output_type": "stream",
     "text": [
      "100%|██████████| 1000/1000 [01:04<00:00, 15.48it/s]\n"
     ]
    },
    {
     "name": "stdout",
     "output_type": "stream",
     "text": [
      "Stored at gpt2xl_1000\n",
      "torch.Size([800, 1200, 64]), torch.Size([200, 1200, 64]), torch.Size([800, 1200]), torch.Size([200, 1200])\n"
     ]
    },
    {
     "name": "stderr",
     "output_type": "stream",
     "text": [
      "100%|██████████| 1200/1200 [00:25<00:00, 46.49it/s] \n"
     ]
    },
    {
     "name": "stdout",
     "output_type": "stream",
     "text": [
      "truth_score=0.52, info_score=0.7, truth_score_iti=0.74, info_score_iti=0.68\n"
     ]
    },
    {
     "name": "stderr",
     "output_type": "stream",
     "text": [
      "/root/iti_capstone/utils/dataset_utils.py:156: FutureWarning: The input object of type 'Tensor' is an array-like implementing one of the corresponding protocols (`__array__`, `__array_interface__` or `__array_struct__`); but not a sequence (or 0-D). In the future, this object will be coerced as if it was first converted using `np.array(obj)`. To retain the old behaviour, you have to either modify the type 'Tensor', or assign to an empty array created with `np.empty(correct_shape, dtype=object)`.\n",
      "  return indices, np.array(self.all_prompts)[indices], np.array(self.all_labels)[indices]\n",
      "/root/iti_capstone/utils/dataset_utils.py:156: VisibleDeprecationWarning: Creating an ndarray from ragged nested sequences (which is a list-or-tuple of lists-or-tuples-or ndarrays with different lengths or shapes) is deprecated. If you meant to do this, you must specify 'dtype=object' when creating the ndarray.\n",
      "  return indices, np.array(self.all_prompts)[indices], np.array(self.all_labels)[indices]\n",
      "100%|██████████| 1000/1000 [01:04<00:00, 15.54it/s]\n"
     ]
    },
    {
     "name": "stdout",
     "output_type": "stream",
     "text": [
      "Stored at gpt2xl_1000\n",
      "torch.Size([800, 1200, 64]), torch.Size([200, 1200, 64]), torch.Size([800, 1200]), torch.Size([200, 1200])\n"
     ]
    },
    {
     "name": "stderr",
     "output_type": "stream",
     "text": [
      "100%|██████████| 1200/1200 [00:08<00:00, 148.53it/s]\n",
      "/root/iti_capstone/utils/dataset_utils.py:156: FutureWarning: The input object of type 'Tensor' is an array-like implementing one of the corresponding protocols (`__array__`, `__array_interface__` or `__array_struct__`); but not a sequence (or 0-D). In the future, this object will be coerced as if it was first converted using `np.array(obj)`. To retain the old behaviour, you have to either modify the type 'Tensor', or assign to an empty array created with `np.empty(correct_shape, dtype=object)`.\n",
      "  return indices, np.array(self.all_prompts)[indices], np.array(self.all_labels)[indices]\n",
      "/root/iti_capstone/utils/dataset_utils.py:156: VisibleDeprecationWarning: Creating an ndarray from ragged nested sequences (which is a list-or-tuple of lists-or-tuples-or ndarrays with different lengths or shapes) is deprecated. If you meant to do this, you must specify 'dtype=object' when creating the ndarray.\n",
      "  return indices, np.array(self.all_prompts)[indices], np.array(self.all_labels)[indices]\n"
     ]
    },
    {
     "name": "stdout",
     "output_type": "stream",
     "text": [
      "truth_score=0.9, info_score=0.28, truth_score_iti=0.82, info_score_iti=0.44\n"
     ]
    },
    {
     "name": "stderr",
     "output_type": "stream",
     "text": [
      "100%|██████████| 1000/1000 [01:04<00:00, 15.50it/s]\n"
     ]
    },
    {
     "name": "stdout",
     "output_type": "stream",
     "text": [
      "Stored at gpt2xl_1000\n",
      "torch.Size([800, 1200, 64]), torch.Size([200, 1200, 64]), torch.Size([800, 1200]), torch.Size([200, 1200])\n"
     ]
    },
    {
     "name": "stderr",
     "output_type": "stream",
     "text": [
      "100%|██████████| 1200/1200 [00:09<00:00, 120.51it/s]\n"
     ]
    },
    {
     "name": "stdout",
     "output_type": "stream",
     "text": [
      "truth_score=0.74, info_score=0.66, truth_score_iti=0.7, info_score_iti=0.74\n"
     ]
    }
   ],
   "source": [
    "from utils.gpt_judge import get_iti_scores\n",
    "plots = []\n",
    "\n",
    "for name in datanames:\n",
    "    get_iti_scores(model, datasets[name], alpha=1, topk=1200)"
   ]
  },
  {
   "cell_type": "code",
   "execution_count": 9,
   "metadata": {},
   "outputs": [
    {
     "name": "stdout",
     "output_type": "stream",
     "text": [
      "Checking generation on tqa, ITI on tqa\n",
      "truth_score=0.58, info_score=0.7, truth_score_iti=0.7, info_score_iti=0.7\n",
      "Truth score before ITI: 0.58, Truth score after ITI: 0.7\n",
      "Info score before ITI: 0.7, Info score after ITI: 0.7\n",
      "\n"
     ]
    }
   ],
   "source": [
    "from plotly.subplots import make_subplots\n",
    "from utils.gpt_judge import check_iti_generalization\n",
    "plots = []\n",
    "\n",
    "for name in datanames:\n",
    "    model_acts: ModelActs = acts[name]\n",
    "    for other_name in datanames:\n",
    "        print(f\"Checking generation on {name}, ITI on {other_name}\")\n",
    "        results = check_iti_generalization(model, datasets[name], datasets[other_name], 50, 1000, alpha=1, topk=1200, existing_gen_acts=model_acts)\n",
    "        print(f\"Truth score before ITI: {results[0]}, Truth score after ITI: {results[2]}\")\n",
    "        print(f\"Info score before ITI: {results[1]}, Info score after ITI: {results[3]}\")\n",
    "        print()\n",
    "\n",
    "        break\n",
    "    break\n",
    "\n",
    "        # transfer_accs = model_acts.get_transfer_acc(acts[other_name])\n",
    "        # plots.append(plot_probe_accuracies(model_acts, sorted=False, title=f\"{name} probes on {other_name} data\", other_head_accs=transfer_accs).show())"
   ]
  },
  {
   "cell_type": "code",
   "execution_count": 14,
   "metadata": {},
   "outputs": [
    {
     "name": "stdout",
     "output_type": "stream",
     "text": [
      "Checking generation on cfact, ITI on tqa\n",
      "truth_score=0.84, info_score=0.32, truth_score_iti=0.92, info_score_iti=0.3\n",
      "Truth score before ITI: 0.84, Truth score after ITI: 0.92\n",
      "Info score before ITI: 0.32, Info score after ITI: 0.3\n",
      "\n",
      "Checking generation on cfact, ITI on cfact\n",
      "truth_score=0.92, info_score=0.36, truth_score_iti=0.9, info_score_iti=0.32\n",
      "Truth score before ITI: 0.92, Truth score after ITI: 0.9\n",
      "Info score before ITI: 0.36, Info score after ITI: 0.32\n",
      "\n",
      "Checking generation on cfact, ITI on ez\n",
      "truth_score=0.8, info_score=0.52, truth_score_iti=0.92, info_score_iti=0.26\n",
      "Truth score before ITI: 0.8, Truth score after ITI: 0.92\n",
      "Info score before ITI: 0.52, Info score after ITI: 0.26\n",
      "\n",
      "Checking generation on ez, ITI on tqa\n",
      "truth_score=0.68, info_score=0.66, truth_score_iti=0.78, info_score_iti=0.6\n",
      "Truth score before ITI: 0.68, Truth score after ITI: 0.78\n",
      "Info score before ITI: 0.66, Info score after ITI: 0.6\n",
      "\n",
      "Checking generation on ez, ITI on cfact\n",
      "truth_score=0.74, info_score=0.6, truth_score_iti=0.78, info_score_iti=0.68\n",
      "Truth score before ITI: 0.74, Truth score after ITI: 0.78\n",
      "Info score before ITI: 0.6, Info score after ITI: 0.68\n",
      "\n",
      "Checking generation on ez, ITI on ez\n",
      "truth_score=0.58, info_score=0.74, truth_score_iti=0.78, info_score_iti=0.66\n",
      "Truth score before ITI: 0.58, Truth score after ITI: 0.78\n",
      "Info score before ITI: 0.74, Info score after ITI: 0.66\n",
      "\n"
     ]
    }
   ],
   "source": [
    "from plotly.subplots import make_subplots\n",
    "from utils.gpt_judge import check_iti_generalization\n",
    "plots = []\n",
    "\n",
    "np.seterr(all=\"ignore\")\n",
    "for name in datanames[1:]:\n",
    "    model_acts: ModelActs = acts[name]\n",
    "    for other_name in datanames:\n",
    "        print(f\"Checking generation on {name}, ITI on {other_name}\")\n",
    "        results = check_iti_generalization(model, datasets[name], datasets[other_name], 50, 1000, alpha=10, existing_gen_acts=acts[name])\n",
    "        print(f\"Truth score before ITI: {results[0]}, Truth score after ITI: {results[2]}\")\n",
    "        print(f\"Info score before ITI: {results[1]}, Info score after ITI: {results[3]}\")\n",
    "        print()\n",
    "\n",
    "        # transfer_accs = model_acts.get_transfer_acc(acts[other_name])\n",
    "        # plots.append(plot_probe_accuracies(model_acts, sorted=False, title=f\"{name} probes on {other_name} data\", other_head_accs=transfer_accs).show())"
   ]
  },
  {
   "cell_type": "code",
   "execution_count": null,
   "metadata": {},
   "outputs": [],
   "source": [
    "import plotly.graph_objects as go\n",
    "\n",
    "fig_combined = make_subplots(rows=3, cols=3)\n",
    "\n",
    "for i, fig in enumerate(plots):\n",
    "    row = i // 3 + 1  # calculate the row index\n",
    "    col = i % 3 + 1   # calculate the column index\n",
    "\n",
    "    # Extract data from the individual figures and add it to the subplots\n",
    "    for trace in fig.data:\n",
    "        fig_combined.add_trace(\n",
    "            go.Heatmap(\n",
    "                z=trace.z,\n",
    "                x0=trace.x[0],\n",
    "                dx=trace.x[1] - trace.x[0],\n",
    "                y0=trace.y[0],\n",
    "                dy=trace.y[1] - trace.y[0],\n",
    "                zmin=trace.zmin,\n",
    "                zmax=trace.zmax,\n",
    "                coloraxis=trace.coloraxis,\n",
    "                showscale=False,\n",
    "            ),\n",
    "            row=row,\n",
    "            col=col,\n",
    "        )\n",
    "\n",
    "# Add a colorbar that's common to all subplots\n",
    "fig.update_layout(coloraxis=dict(colorscale='viridis', colorbar=dict(tickfont=dict(size=10))))\n",
    "\n",
    "fig.show()"
   ]
  },
  {
   "cell_type": "code",
   "execution_count": null,
   "metadata": {},
   "outputs": [],
   "source": [
    "plots"
   ]
  },
  {
   "cell_type": "code",
   "execution_count": null,
   "metadata": {},
   "outputs": [],
   "source": []
  }
 ],
 "metadata": {
  "kernelspec": {
   "display_name": "Python 3",
   "language": "python",
   "name": "python3"
  },
  "language_info": {
   "codemirror_mode": {
    "name": "ipython",
    "version": 3
   },
   "file_extension": ".py",
   "mimetype": "text/x-python",
   "name": "python",
   "nbconvert_exporter": "python",
   "pygments_lexer": "ipython3",
   "version": "3.8.10"
  },
  "orig_nbformat": 4
 },
 "nbformat": 4,
 "nbformat_minor": 2
}
