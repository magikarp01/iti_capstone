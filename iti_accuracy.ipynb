{
 "cells": [
  {
   "cell_type": "code",
   "execution_count": 1,
   "metadata": {},
   "outputs": [
    {
     "name": "stderr",
     "output_type": "stream",
     "text": [
      "/home/ubuntu/.local/lib/python3.8/site-packages/pandas/core/computation/expressions.py:20: UserWarning: Pandas requires version '2.7.3' or newer of 'numexpr' (version '2.7.1' currently installed).\n",
      "  from pandas.core.computation.check import NUMEXPR_INSTALLED\n"
     ]
    }
   ],
   "source": [
    "# Replicate ITI results, make sure ITI utils and probing utils work right\n",
    "\n",
    "#%%\n",
    "from IPython import get_ipython\n",
    "\n",
    "ipython = get_ipython()\n",
    "# Code to automatically update the TransformerLens code as its edited without restarting the kernel\n",
    "ipython.magic(\"load_ext autoreload\")\n",
    "ipython.magic(\"autoreload 2\")\n",
    "    \n",
    "import plotly.io as pio\n",
    "# pio.renderers.default = \"png\"\n",
    "# Import stuff\n",
    "import torch\n",
    "import torch.nn as nn\n",
    "import torch.nn.functional as F\n",
    "import torch.optim as optim\n",
    "import numpy as np\n",
    "import einops\n",
    "from fancy_einsum import einsum\n",
    "import tqdm.notebook as tqdm\n",
    "import random\n",
    "from pathlib import Path\n",
    "import plotly.express as px\n",
    "from torch.utils.data import DataLoader\n",
    "\n",
    "from jaxtyping import Float, Int\n",
    "from typing import List, Union, Optional\n",
    "from functools import partial\n",
    "import copy\n",
    "\n",
    "import itertools\n",
    "from transformers import AutoModelForCausalLM, AutoConfig, AutoTokenizer\n",
    "import dataclasses\n",
    "import datasets\n",
    "from IPython.display import HTML\n",
    "\n",
    "from tqdm import tqdm\n",
    "from utils.probing_utils import ModelActs\n",
    "from utils.dataset_utils import CounterFact_Dataset, TQA_MC_Dataset, EZ_Dataset\n",
    "\n",
    "import transformer_lens\n",
    "import transformer_lens.utils as utils\n",
    "from transformer_lens.hook_points import (\n",
    "    HookedRootModule,\n",
    "    HookPoint,\n",
    ")  # Hooking utilities\n",
    "from transformer_lens import HookedTransformer, HookedTransformerConfig, FactoredMatrix, ActivationCache\n",
    "\n",
    "from utils.iti_utils import patch_iti\n",
    "\n",
    "from utils.analytics_utils import plot_probe_accuracies, plot_norm_diffs, plot_cosine_sims"
   ]
  },
  {
   "cell_type": "code",
   "execution_count": 2,
   "metadata": {},
   "outputs": [
    {
     "data": {
      "application/vnd.jupyter.widget-view+json": {
       "model_id": "627128c8f74443129fed585630cdbb1f",
       "version_major": 2,
       "version_minor": 0
      },
      "text/plain": [
       "Loading checkpoint shards:   0%|          | 0/2 [00:00<?, ?it/s]"
      ]
     },
     "metadata": {},
     "output_type": "display_data"
    },
    {
     "name": "stderr",
     "output_type": "stream",
     "text": [
      "The tokenizer class you load from this checkpoint is not the same type as the class this function is called from. It may result in unexpected tokenization. \n",
      "The tokenizer class you load from this checkpoint is 'LLaMATokenizer'. \n",
      "The class this function is called from is 'LlamaTokenizer'.\n"
     ]
    },
    {
     "name": "stdout",
     "output_type": "stream",
     "text": [
      "Warning: LLaMA tokenizer not loaded. Please load manually.\n",
      "Loaded pretrained model llama-7b-hf into HookedTransformer\n",
      "Moving model to device:  cuda\n"
     ]
    },
    {
     "data": {
      "text/plain": [
       "1"
      ]
     },
     "execution_count": 2,
     "metadata": {},
     "output_type": "execute_result"
    }
   ],
   "source": [
    "from utils.model_utils import vicuna_7b, vicuna_13b\n",
    "model = vicuna_7b(device=\"cuda\")\n",
    "model.tokenizer.add_special_tokens({'pad_token': '[PAD]'})"
   ]
  },
  {
   "cell_type": "code",
   "execution_count": 3,
   "metadata": {},
   "outputs": [
    {
     "name": "stderr",
     "output_type": "stream",
     "text": [
      "Found cached dataset parquet (/home/ubuntu/.cache/huggingface/datasets/notrichardren___parquet/notrichardren--elem_tf-64ec49cd4cd5be64/0.0.0/14a00e99c0d15a23649d0db8944380ac81082d4b021f398733dd84f3a6c569a7)\n"
     ]
    },
    {
     "data": {
      "application/vnd.jupyter.widget-view+json": {
       "model_id": "b9234f5645f644c898cbe91f752ba686",
       "version_major": 2,
       "version_minor": 0
      },
      "text/plain": [
       "  0%|          | 0/1 [00:00<?, ?it/s]"
      ]
     },
     "metadata": {},
     "output_type": "display_data"
    },
    {
     "name": "stderr",
     "output_type": "stream",
     "text": [
      "Found cached dataset parquet (/home/ubuntu/.cache/huggingface/datasets/notrichardren___parquet/notrichardren--ms_tf-728c6138d8f6c1c5/0.0.0/14a00e99c0d15a23649d0db8944380ac81082d4b021f398733dd84f3a6c569a7)\n"
     ]
    },
    {
     "data": {
      "application/vnd.jupyter.widget-view+json": {
       "model_id": "8ba1da8317db42b4aa99d16eea2cf375",
       "version_major": 2,
       "version_minor": 0
      },
      "text/plain": [
       "  0%|          | 0/1 [00:00<?, ?it/s]"
      ]
     },
     "metadata": {},
     "output_type": "display_data"
    },
    {
     "name": "stderr",
     "output_type": "stream",
     "text": [
      "Found cached dataset parquet (/home/ubuntu/.cache/huggingface/datasets/notrichardren___parquet/notrichardren--misconceptions_tf-131f43b181040ffa/0.0.0/14a00e99c0d15a23649d0db8944380ac81082d4b021f398733dd84f3a6c569a7)\n"
     ]
    },
    {
     "data": {
      "application/vnd.jupyter.widget-view+json": {
       "model_id": "3356be4dd9304dbb87e265c7f7eb29ba",
       "version_major": 2,
       "version_minor": 0
      },
      "text/plain": [
       "  0%|          | 0/1 [00:00<?, ?it/s]"
      ]
     },
     "metadata": {},
     "output_type": "display_data"
    },
    {
     "name": "stderr",
     "output_type": "stream",
     "text": [
      "Found cached dataset parquet (/home/ubuntu/.cache/huggingface/datasets/notrichardren___parquet/notrichardren--kindergarten_tf-e3c53e366bc35ec1/0.0.0/14a00e99c0d15a23649d0db8944380ac81082d4b021f398733dd84f3a6c569a7)\n"
     ]
    },
    {
     "data": {
      "application/vnd.jupyter.widget-view+json": {
       "model_id": "a2655cd17d2d4b04b85642d71017fc2a",
       "version_major": 2,
       "version_minor": 0
      },
      "text/plain": [
       "  0%|          | 0/1 [00:00<?, ?it/s]"
      ]
     },
     "metadata": {},
     "output_type": "display_data"
    },
    {
     "name": "stderr",
     "output_type": "stream",
     "text": [
      "Found cached dataset parquet (/home/ubuntu/.cache/huggingface/datasets/notrichardren___parquet/notrichardren--hs_tf-9f911d9357ff2386/0.0.0/14a00e99c0d15a23649d0db8944380ac81082d4b021f398733dd84f3a6c569a7)\n"
     ]
    },
    {
     "data": {
      "application/vnd.jupyter.widget-view+json": {
       "model_id": "ebd998d895f5474c877170b113834514",
       "version_major": 2,
       "version_minor": 0
      },
      "text/plain": [
       "  0%|          | 0/1 [00:00<?, ?it/s]"
      ]
     },
     "metadata": {},
     "output_type": "display_data"
    },
    {
     "name": "stderr",
     "output_type": "stream",
     "text": [
      "Found cached dataset parquet (/home/ubuntu/.cache/huggingface/datasets/notrichardren___parquet/notrichardren--truthfulness-4380c84abeab6c8f/0.0.0/14a00e99c0d15a23649d0db8944380ac81082d4b021f398733dd84f3a6c569a7)\n"
     ]
    },
    {
     "data": {
      "application/vnd.jupyter.widget-view+json": {
       "model_id": "29d40c5c788c4878b9de586fd504f761",
       "version_major": 2,
       "version_minor": 0
      },
      "text/plain": [
       "  0%|          | 0/1 [00:00<?, ?it/s]"
      ]
     },
     "metadata": {},
     "output_type": "display_data"
    },
    {
     "name": "stderr",
     "output_type": "stream",
     "text": [
      "Found cached dataset parquet (/home/ubuntu/.cache/huggingface/datasets/notrichardren___parquet/notrichardren--truthfulness-4380c84abeab6c8f/0.0.0/14a00e99c0d15a23649d0db8944380ac81082d4b021f398733dd84f3a6c569a7)\n"
     ]
    },
    {
     "data": {
      "application/vnd.jupyter.widget-view+json": {
       "model_id": "2976a2525d454a5da07f1bf4be0cecc8",
       "version_major": 2,
       "version_minor": 0
      },
      "text/plain": [
       "  0%|          | 0/1 [00:00<?, ?it/s]"
      ]
     },
     "metadata": {},
     "output_type": "display_data"
    },
    {
     "name": "stderr",
     "output_type": "stream",
     "text": [
      "Found cached dataset parquet (/home/ubuntu/.cache/huggingface/datasets/notrichardren___parquet/notrichardren--truthfulness-4380c84abeab6c8f/0.0.0/14a00e99c0d15a23649d0db8944380ac81082d4b021f398733dd84f3a6c569a7)\n"
     ]
    },
    {
     "data": {
      "application/vnd.jupyter.widget-view+json": {
       "model_id": "7d72f64ce8064df2b515551bf8e966b4",
       "version_major": 2,
       "version_minor": 0
      },
      "text/plain": [
       "  0%|          | 0/1 [00:00<?, ?it/s]"
      ]
     },
     "metadata": {},
     "output_type": "display_data"
    },
    {
     "name": "stderr",
     "output_type": "stream",
     "text": [
      "Found cached dataset parquet (/home/ubuntu/.cache/huggingface/datasets/notrichardren___parquet/notrichardren--truthfulness-4380c84abeab6c8f/0.0.0/14a00e99c0d15a23649d0db8944380ac81082d4b021f398733dd84f3a6c569a7)\n"
     ]
    },
    {
     "data": {
      "application/vnd.jupyter.widget-view+json": {
       "model_id": "9bbbb7c967cc48afa22210ddebb46ea1",
       "version_major": 2,
       "version_minor": 0
      },
      "text/plain": [
       "  0%|          | 0/1 [00:00<?, ?it/s]"
      ]
     },
     "metadata": {},
     "output_type": "display_data"
    },
    {
     "name": "stderr",
     "output_type": "stream",
     "text": [
      "Found cached dataset parquet (/home/ubuntu/.cache/huggingface/datasets/notrichardren___parquet/notrichardren--truthfulness-4380c84abeab6c8f/0.0.0/14a00e99c0d15a23649d0db8944380ac81082d4b021f398733dd84f3a6c569a7)\n"
     ]
    },
    {
     "data": {
      "application/vnd.jupyter.widget-view+json": {
       "model_id": "dabf4a338d474dbb9eeaed71ee5b4a73",
       "version_major": 2,
       "version_minor": 0
      },
      "text/plain": [
       "  0%|          | 0/1 [00:00<?, ?it/s]"
      ]
     },
     "metadata": {},
     "output_type": "display_data"
    },
    {
     "name": "stderr",
     "output_type": "stream",
     "text": [
      "Found cached dataset parquet (/home/ubuntu/.cache/huggingface/datasets/notrichardren___parquet/notrichardren--truthfulness-4380c84abeab6c8f/0.0.0/14a00e99c0d15a23649d0db8944380ac81082d4b021f398733dd84f3a6c569a7)\n"
     ]
    },
    {
     "data": {
      "application/vnd.jupyter.widget-view+json": {
       "model_id": "bcb1fbdefc944393ba965e8317763e60",
       "version_major": 2,
       "version_minor": 0
      },
      "text/plain": [
       "  0%|          | 0/1 [00:00<?, ?it/s]"
      ]
     },
     "metadata": {},
     "output_type": "display_data"
    }
   ],
   "source": [
    "from utils.dataset_utils import MS_Dataset, Elem_Dataset, MisCons_Dataset, Kinder_Dataset, HS_Dataset, BoolQ_Question_Dataset, TruthfulQA_Tfn, CounterFact_Tfn, Fever_Tfn, BoolQ_Tfn, Creak_Tfn, CommonClaim_Tfn\n",
    "random_seed = 5\n",
    "\n",
    "datanames = [\"MS\", \"Elem\", \"MisCons\", \"Kinder\", \"HS\", \"TruthfulQA\", \"CounterFact\", \"Fever\", \"Creak\", \"BoolQ\", \"CommonClaim\"]\n",
    "\n",
    "ms_data = MS_Dataset(model.tokenizer, questions=True)\n",
    "elem_data = Elem_Dataset(model.tokenizer, questions=True)\n",
    "miscons_data = MisCons_Dataset(model.tokenizer, questions=True)\n",
    "kinder_data = Kinder_Dataset(model.tokenizer, questions=True)\n",
    "hs_data = HS_Dataset(model.tokenizer, questions=True)\n",
    "# boolq_data = BoolQ_Question_Dataset(model.tokenizer)\n",
    "\n",
    "tqa_data = TruthfulQA_Tfn(model.tokenizer, questions=True)\n",
    "cfact_data = CounterFact_Tfn(model.tokenizer, questions=True)\n",
    "fever_data = Fever_Tfn(model.tokenizer, questions=True)\n",
    "boolq_data = BoolQ_Tfn(model.tokenizer, questions=True)\n",
    "creak_data = Creak_Tfn(model.tokenizer, questions=True)\n",
    "commonclaim_data = CommonClaim_Tfn(model.tokenizer, questions=True)\n",
    "\n",
    "datasets = {\"MS\": ms_data, \"Elem\": elem_data, \"MisCons\": miscons_data, \"Kinder\": kinder_data, \"HS\": hs_data, \"TruthfulQA\": tqa_data, \"CounterFact\": cfact_data, \"Fever\": fever_data, \"Creak\": creak_data, \"BoolQ\": boolq_data, \"CommonClaim\": commonclaim_data}\n",
    "\n",
    "datanames = datanames[:3]"
   ]
  },
  {
   "cell_type": "code",
   "execution_count": 9,
   "metadata": {},
   "outputs": [
    {
     "name": "stdout",
     "output_type": "stream",
     "text": [
      "torch.Size([800, 1024, 128]), torch.Size([200, 1024, 128]), torch.Size([800, 1024]), torch.Size([200, 1024])\n"
     ]
    },
    {
     "name": "stderr",
     "output_type": "stream",
     "text": [
      "100%|██████████| 1024/1024 [00:07<00:00, 132.11it/s]\n"
     ]
    },
    {
     "name": "stdout",
     "output_type": "stream",
     "text": [
      "torch.Size([800, 1024, 128]), torch.Size([200, 1024, 128]), torch.Size([800, 1024]), torch.Size([200, 1024])\n"
     ]
    },
    {
     "name": "stderr",
     "output_type": "stream",
     "text": [
      "100%|██████████| 1024/1024 [00:06<00:00, 159.95it/s]\n"
     ]
    },
    {
     "name": "stdout",
     "output_type": "stream",
     "text": [
      "torch.Size([800, 1024, 128]), torch.Size([200, 1024, 128]), torch.Size([800, 1024]), torch.Size([200, 1024])\n"
     ]
    },
    {
     "name": "stderr",
     "output_type": "stream",
     "text": [
      "100%|██████████| 1024/1024 [00:06<00:00, 165.39it/s]\n"
     ]
    }
   ],
   "source": [
    "n_acts = 1000\n",
    "acts = {}\n",
    "\n",
    "for name in datanames:\n",
    "    # acts[name] = ModelActs(model, datasets[name], act_types=[\"z\", \"mlp_out\", \"resid_post\", \"resid_pre\", \"logits\"])\n",
    "    acts[name] = ModelActs(model, datasets[name], act_types=[\"z\", \"logits\"])\n",
    "    model_acts: ModelActs = acts[name]\n",
    "    # model_acts.gen_acts(N=n_acts, id=f\"{name}_gpt2xl_{n_acts}\")\n",
    "    model_acts.load_acts(id=f\"{name}_vicuna7b_{n_acts}\", load_probes=False)\n",
    "    model_acts.train_probes(\"z\", max_iter=1000)"
   ]
  },
  {
   "cell_type": "code",
   "execution_count": 6,
   "metadata": {},
   "outputs": [
    {
     "name": "stderr",
     "output_type": "stream",
     "text": [
      "100%|██████████| 200/200 [00:17<00:00, 11.11it/s]\n"
     ]
    }
   ],
   "source": [
    "from utils.interp_utils import logit_attrs\n",
    "attrs = logit_attrs(model, datasets['MS'], act_types=[\"result\"], N=200)\n",
    "result_attrs = torch.stack(attrs[1]['result']).to('cpu')"
   ]
  },
  {
   "cell_type": "code",
   "execution_count": 22,
   "metadata": {},
   "outputs": [
    {
     "name": "stderr",
     "output_type": "stream",
     "text": [
      "  0%|          | 0/32 [00:00<?, ?it/s]"
     ]
    },
    {
     "name": "stdout",
     "output_type": "stream",
     "text": [
      "generating acts\n"
     ]
    },
    {
     "name": "stderr",
     "output_type": "stream",
     "text": [
      "100%|██████████| 1000/1000 [01:02<00:00, 16.12it/s]\n",
      "  3%|▎         | 1/32 [01:03<32:45, 63.42s/it]"
     ]
    },
    {
     "name": "stdout",
     "output_type": "stream",
     "text": [
      "Stored at patched_MS_vicuna7b_1000\n",
      "proportion of positive labels is 0.49\n",
      "generating acts\n"
     ]
    },
    {
     "name": "stderr",
     "output_type": "stream",
     "text": [
      "100%|██████████| 1000/1000 [01:01<00:00, 16.17it/s]\n",
      "  6%|▋         | 2/32 [02:06<31:36, 63.21s/it]"
     ]
    },
    {
     "name": "stdout",
     "output_type": "stream",
     "text": [
      "Stored at patched_MS_vicuna7b_1000\n",
      "proportion of positive labels is 0.49\n",
      "generating acts\n"
     ]
    },
    {
     "name": "stderr",
     "output_type": "stream",
     "text": [
      "100%|██████████| 1000/1000 [01:02<00:00, 16.12it/s]\n",
      "  9%|▉         | 3/32 [03:09<30:35, 63.29s/it]"
     ]
    },
    {
     "name": "stdout",
     "output_type": "stream",
     "text": [
      "Stored at patched_MS_vicuna7b_1000\n",
      "proportion of positive labels is 0.49\n",
      "generating acts\n"
     ]
    },
    {
     "name": "stderr",
     "output_type": "stream",
     "text": [
      "100%|██████████| 1000/1000 [01:01<00:00, 16.22it/s]\n",
      " 12%|█▎        | 4/32 [04:12<29:27, 63.11s/it]"
     ]
    },
    {
     "name": "stdout",
     "output_type": "stream",
     "text": [
      "Stored at patched_MS_vicuna7b_1000\n",
      "proportion of positive labels is 0.49\n",
      "generating acts\n"
     ]
    },
    {
     "name": "stderr",
     "output_type": "stream",
     "text": [
      "100%|██████████| 1000/1000 [01:01<00:00, 16.21it/s]\n",
      " 16%|█▌        | 5/32 [05:15<28:23, 63.08s/it]"
     ]
    },
    {
     "name": "stdout",
     "output_type": "stream",
     "text": [
      "Stored at patched_MS_vicuna7b_1000\n",
      "proportion of positive labels is 0.49\n",
      "generating acts\n"
     ]
    },
    {
     "name": "stderr",
     "output_type": "stream",
     "text": [
      "100%|██████████| 1000/1000 [01:01<00:00, 16.18it/s]\n",
      " 19%|█▉        | 6/32 [06:18<27:21, 63.12s/it]"
     ]
    },
    {
     "name": "stdout",
     "output_type": "stream",
     "text": [
      "Stored at patched_MS_vicuna7b_1000\n",
      "proportion of positive labels is 0.49\n",
      "generating acts\n"
     ]
    },
    {
     "name": "stderr",
     "output_type": "stream",
     "text": [
      "100%|██████████| 1000/1000 [01:02<00:00, 16.12it/s]\n",
      " 22%|██▏       | 7/32 [07:22<26:19, 63.16s/it]"
     ]
    },
    {
     "name": "stdout",
     "output_type": "stream",
     "text": [
      "Stored at patched_MS_vicuna7b_1000\n",
      "proportion of positive labels is 0.49\n",
      "generating acts\n"
     ]
    },
    {
     "name": "stderr",
     "output_type": "stream",
     "text": [
      "100%|██████████| 1000/1000 [01:01<00:00, 16.15it/s]\n",
      " 25%|██▌       | 8/32 [08:25<25:15, 63.15s/it]"
     ]
    },
    {
     "name": "stdout",
     "output_type": "stream",
     "text": [
      "Stored at patched_MS_vicuna7b_1000\n",
      "proportion of positive labels is 0.49\n",
      "generating acts\n"
     ]
    },
    {
     "name": "stderr",
     "output_type": "stream",
     "text": [
      "100%|██████████| 1000/1000 [01:01<00:00, 16.22it/s]\n",
      " 28%|██▊       | 9/32 [09:28<24:10, 63.09s/it]"
     ]
    },
    {
     "name": "stdout",
     "output_type": "stream",
     "text": [
      "Stored at patched_MS_vicuna7b_1000\n",
      "proportion of positive labels is 0.49\n",
      "generating acts\n"
     ]
    },
    {
     "name": "stderr",
     "output_type": "stream",
     "text": [
      "100%|██████████| 1000/1000 [01:01<00:00, 16.18it/s]\n",
      " 31%|███▏      | 10/32 [10:31<23:09, 63.14s/it]"
     ]
    },
    {
     "name": "stdout",
     "output_type": "stream",
     "text": [
      "Stored at patched_MS_vicuna7b_1000\n",
      "proportion of positive labels is 0.49\n",
      "generating acts\n"
     ]
    },
    {
     "name": "stderr",
     "output_type": "stream",
     "text": [
      "100%|██████████| 1000/1000 [01:01<00:00, 16.17it/s]\n",
      " 34%|███▍      | 11/32 [11:34<22:05, 63.12s/it]"
     ]
    },
    {
     "name": "stdout",
     "output_type": "stream",
     "text": [
      "Stored at patched_MS_vicuna7b_1000\n",
      "proportion of positive labels is 0.49\n",
      "generating acts\n"
     ]
    },
    {
     "name": "stderr",
     "output_type": "stream",
     "text": [
      "100%|██████████| 1000/1000 [01:02<00:00, 16.09it/s]\n",
      " 38%|███▊      | 12/32 [12:38<21:04, 63.24s/it]"
     ]
    },
    {
     "name": "stdout",
     "output_type": "stream",
     "text": [
      "Stored at patched_MS_vicuna7b_1000\n",
      "proportion of positive labels is 0.49\n",
      "generating acts\n"
     ]
    },
    {
     "name": "stderr",
     "output_type": "stream",
     "text": [
      "100%|██████████| 1000/1000 [01:02<00:00, 16.02it/s]\n",
      " 41%|████      | 13/32 [13:41<20:03, 63.36s/it]"
     ]
    },
    {
     "name": "stdout",
     "output_type": "stream",
     "text": [
      "Stored at patched_MS_vicuna7b_1000\n",
      "proportion of positive labels is 0.49\n",
      "generating acts\n"
     ]
    },
    {
     "name": "stderr",
     "output_type": "stream",
     "text": [
      "100%|██████████| 1000/1000 [01:01<00:00, 16.14it/s]\n",
      " 44%|████▍     | 14/32 [14:44<18:59, 63.28s/it]"
     ]
    },
    {
     "name": "stdout",
     "output_type": "stream",
     "text": [
      "Stored at patched_MS_vicuna7b_1000\n",
      "proportion of positive labels is 0.49\n",
      "generating acts\n"
     ]
    },
    {
     "name": "stderr",
     "output_type": "stream",
     "text": [
      "100%|██████████| 1000/1000 [01:02<00:00, 16.07it/s]\n",
      " 47%|████▋     | 15/32 [15:48<17:58, 63.41s/it]"
     ]
    },
    {
     "name": "stdout",
     "output_type": "stream",
     "text": [
      "Stored at patched_MS_vicuna7b_1000\n",
      "proportion of positive labels is 0.49\n",
      "generating acts\n"
     ]
    },
    {
     "name": "stderr",
     "output_type": "stream",
     "text": [
      "100%|██████████| 1000/1000 [01:02<00:00, 15.97it/s]\n",
      " 50%|█████     | 16/32 [16:52<16:56, 63.56s/it]"
     ]
    },
    {
     "name": "stdout",
     "output_type": "stream",
     "text": [
      "Stored at patched_MS_vicuna7b_1000\n",
      "proportion of positive labels is 0.49\n",
      "generating acts\n"
     ]
    },
    {
     "name": "stderr",
     "output_type": "stream",
     "text": [
      "100%|██████████| 1000/1000 [01:03<00:00, 15.87it/s]\n",
      " 53%|█████▎    | 17/32 [17:56<15:56, 63.77s/it]"
     ]
    },
    {
     "name": "stdout",
     "output_type": "stream",
     "text": [
      "Stored at patched_MS_vicuna7b_1000\n",
      "proportion of positive labels is 0.49\n",
      "generating acts\n"
     ]
    },
    {
     "name": "stderr",
     "output_type": "stream",
     "text": [
      "100%|██████████| 1000/1000 [01:03<00:00, 15.86it/s]\n",
      " 56%|█████▋    | 18/32 [19:00<14:54, 63.87s/it]"
     ]
    },
    {
     "name": "stdout",
     "output_type": "stream",
     "text": [
      "Stored at patched_MS_vicuna7b_1000\n",
      "proportion of positive labels is 0.49\n",
      "generating acts\n"
     ]
    },
    {
     "name": "stderr",
     "output_type": "stream",
     "text": [
      "100%|██████████| 1000/1000 [01:02<00:00, 15.97it/s]\n",
      " 59%|█████▉    | 19/32 [20:04<13:50, 63.88s/it]"
     ]
    },
    {
     "name": "stdout",
     "output_type": "stream",
     "text": [
      "Stored at patched_MS_vicuna7b_1000\n",
      "proportion of positive labels is 0.49\n",
      "generating acts\n"
     ]
    },
    {
     "name": "stderr",
     "output_type": "stream",
     "text": [
      "100%|██████████| 1000/1000 [01:02<00:00, 15.92it/s]\n",
      " 62%|██████▎   | 20/32 [21:08<12:47, 63.93s/it]"
     ]
    },
    {
     "name": "stdout",
     "output_type": "stream",
     "text": [
      "Stored at patched_MS_vicuna7b_1000\n",
      "proportion of positive labels is 0.49\n",
      "generating acts\n"
     ]
    },
    {
     "name": "stderr",
     "output_type": "stream",
     "text": [
      "100%|██████████| 1000/1000 [01:02<00:00, 16.02it/s]\n",
      " 66%|██████▌   | 21/32 [22:12<11:41, 63.77s/it]"
     ]
    },
    {
     "name": "stdout",
     "output_type": "stream",
     "text": [
      "Stored at patched_MS_vicuna7b_1000\n",
      "proportion of positive labels is 0.49\n",
      "generating acts\n"
     ]
    },
    {
     "name": "stderr",
     "output_type": "stream",
     "text": [
      "100%|██████████| 1000/1000 [01:03<00:00, 15.86it/s]\n",
      " 69%|██████▉   | 22/32 [23:16<10:39, 64.00s/it]"
     ]
    },
    {
     "name": "stdout",
     "output_type": "stream",
     "text": [
      "Stored at patched_MS_vicuna7b_1000\n",
      "proportion of positive labels is 0.49\n",
      "generating acts\n"
     ]
    },
    {
     "name": "stderr",
     "output_type": "stream",
     "text": [
      "100%|██████████| 1000/1000 [01:02<00:00, 15.95it/s]\n",
      " 72%|███████▏  | 23/32 [24:20<09:35, 63.94s/it]"
     ]
    },
    {
     "name": "stdout",
     "output_type": "stream",
     "text": [
      "Stored at patched_MS_vicuna7b_1000\n",
      "proportion of positive labels is 0.49\n",
      "generating acts\n"
     ]
    },
    {
     "name": "stderr",
     "output_type": "stream",
     "text": [
      "100%|██████████| 1000/1000 [01:02<00:00, 15.92it/s]\n",
      " 75%|███████▌  | 24/32 [25:24<08:32, 64.06s/it]"
     ]
    },
    {
     "name": "stdout",
     "output_type": "stream",
     "text": [
      "Stored at patched_MS_vicuna7b_1000\n",
      "proportion of positive labels is 0.49\n",
      "generating acts\n"
     ]
    },
    {
     "name": "stderr",
     "output_type": "stream",
     "text": [
      "100%|██████████| 1000/1000 [01:02<00:00, 15.88it/s]\n",
      " 78%|███████▊  | 25/32 [26:28<07:28, 64.05s/it]"
     ]
    },
    {
     "name": "stdout",
     "output_type": "stream",
     "text": [
      "Stored at patched_MS_vicuna7b_1000\n",
      "proportion of positive labels is 0.49\n",
      "generating acts\n"
     ]
    },
    {
     "name": "stderr",
     "output_type": "stream",
     "text": [
      "100%|██████████| 1000/1000 [01:02<00:00, 15.99it/s]\n",
      " 81%|████████▏ | 26/32 [27:32<06:24, 64.05s/it]"
     ]
    },
    {
     "name": "stdout",
     "output_type": "stream",
     "text": [
      "Stored at patched_MS_vicuna7b_1000\n",
      "proportion of positive labels is 0.49\n",
      "generating acts\n"
     ]
    },
    {
     "name": "stderr",
     "output_type": "stream",
     "text": [
      "100%|██████████| 1000/1000 [01:02<00:00, 15.93it/s]\n",
      " 84%|████████▍ | 27/32 [28:37<05:20, 64.09s/it]"
     ]
    },
    {
     "name": "stdout",
     "output_type": "stream",
     "text": [
      "Stored at patched_MS_vicuna7b_1000\n",
      "proportion of positive labels is 0.49\n",
      "generating acts\n"
     ]
    },
    {
     "name": "stderr",
     "output_type": "stream",
     "text": [
      "100%|██████████| 1000/1000 [01:02<00:00, 15.97it/s]\n",
      " 88%|████████▊ | 28/32 [29:41<04:16, 64.08s/it]"
     ]
    },
    {
     "name": "stdout",
     "output_type": "stream",
     "text": [
      "Stored at patched_MS_vicuna7b_1000\n",
      "proportion of positive labels is 0.49\n",
      "generating acts\n"
     ]
    },
    {
     "name": "stderr",
     "output_type": "stream",
     "text": [
      "100%|██████████| 1000/1000 [01:02<00:00, 15.93it/s]\n",
      " 91%|█████████ | 29/32 [30:45<03:12, 64.06s/it]"
     ]
    },
    {
     "name": "stdout",
     "output_type": "stream",
     "text": [
      "Stored at patched_MS_vicuna7b_1000\n",
      "proportion of positive labels is 0.49\n",
      "generating acts\n"
     ]
    },
    {
     "name": "stderr",
     "output_type": "stream",
     "text": [
      "100%|██████████| 1000/1000 [01:02<00:00, 15.92it/s]\n",
      " 94%|█████████▍| 30/32 [31:48<02:07, 63.98s/it]"
     ]
    },
    {
     "name": "stdout",
     "output_type": "stream",
     "text": [
      "Stored at patched_MS_vicuna7b_1000\n",
      "proportion of positive labels is 0.49\n",
      "generating acts\n"
     ]
    },
    {
     "name": "stderr",
     "output_type": "stream",
     "text": [
      "100%|██████████| 1000/1000 [01:02<00:00, 15.98it/s]\n",
      " 97%|█████████▋| 31/32 [32:52<01:03, 63.96s/it]"
     ]
    },
    {
     "name": "stdout",
     "output_type": "stream",
     "text": [
      "Stored at patched_MS_vicuna7b_1000\n",
      "proportion of positive labels is 0.49\n",
      "generating acts\n"
     ]
    },
    {
     "name": "stderr",
     "output_type": "stream",
     "text": [
      "100%|██████████| 1000/1000 [01:02<00:00, 15.94it/s]\n",
      "100%|██████████| 32/32 [33:56<00:00, 63.65s/it]"
     ]
    },
    {
     "name": "stdout",
     "output_type": "stream",
     "text": [
      "Stored at patched_MS_vicuna7b_1000\n",
      "proportion of positive labels is 0.49\n"
     ]
    },
    {
     "name": "stderr",
     "output_type": "stream",
     "text": [
      "\n"
     ]
    }
   ],
   "source": [
    "# Plot Truth Score and Info Score when varying topk\n",
    "from utils.gpt_judge import get_model_generations, get_judge_scores\n",
    "from utils.iti_utils import patch_heads\n",
    "from utils.interp_utils import get_head_bools, tot_logit_diff\n",
    "\n",
    "seed = 0\n",
    "\n",
    "alpha = 1\n",
    "k_range = range(0, 32, 1)\n",
    "\n",
    "logit_patch_accs = []\n",
    "regular_patch_accs = []\n",
    "# logit_patch_truths = []\n",
    "# logit_patch_infos = []\n",
    "# regular_patch_truths = []\n",
    "# regular_patch_infos = []\n",
    "# num_gens=200\n",
    "\n",
    "# first, patching top logit heads:\n",
    "\n",
    "dataname = \"MS\"\n",
    "for k in tqdm(k_range):\n",
    "    top_logit_heads = torch.topk(result_attrs.mean(dim=0), k=k).indices\n",
    "\n",
    "    logit_bools = get_head_bools(model, top_logit_heads, flattened=True)\n",
    "    model.reset_hooks()\n",
    "    patch_heads(model, acts[dataname], logit_bools, alpha=alpha, use_MMD=True, model_device='cuda')\n",
    "\n",
    "    patched_acts = ModelActs(model, datasets[dataname], act_types=[\"z\",\"logits\"])\n",
    "    # print(\"generating acts\")\n",
    "    patched_acts.gen_acts(N=1000, id=f\"patched_{dataname}_vicuna7b_1000\", indices=acts[dataname].indices)\n",
    "\n",
    "    patched_acts.indices_trains=acts[dataname].indices_trains\n",
    "    patched_acts.indices_tests=acts[dataname].indices_tests\n",
    "\n",
    "    positive_sum, negative_sum = tot_logit_diff(model.tokenizer, patched_acts, use_probs=True, check_balanced_output=False)\n",
    "\n",
    "    logit_patch_accs.append(positive_sum.mean() - negative_sum.mean())"
   ]
  },
  {
   "cell_type": "code",
   "execution_count": 24,
   "metadata": {},
   "outputs": [
    {
     "name": "stderr",
     "output_type": "stream",
     "text": [
      "  0%|          | 0/32 [00:00<?, ?it/s]"
     ]
    },
    {
     "name": "stdout",
     "output_type": "stream",
     "text": [
      "generating acts\n"
     ]
    },
    {
     "name": "stderr",
     "output_type": "stream",
     "text": [
      "100%|██████████| 1000/1000 [01:01<00:00, 16.23it/s]\n",
      "  3%|▎         | 1/32 [01:02<32:31, 62.95s/it]"
     ]
    },
    {
     "name": "stdout",
     "output_type": "stream",
     "text": [
      "Stored at patched_MS_vicuna7b_1000\n",
      "proportion of positive labels is 0.49\n",
      "generating acts\n"
     ]
    },
    {
     "name": "stderr",
     "output_type": "stream",
     "text": [
      "100%|██████████| 1000/1000 [01:01<00:00, 16.19it/s]\n",
      "  6%|▋         | 2/32 [02:05<31:23, 62.78s/it]"
     ]
    },
    {
     "name": "stdout",
     "output_type": "stream",
     "text": [
      "Stored at patched_MS_vicuna7b_1000\n",
      "proportion of positive labels is 0.49\n",
      "generating acts\n"
     ]
    },
    {
     "name": "stderr",
     "output_type": "stream",
     "text": [
      "100%|██████████| 1000/1000 [01:01<00:00, 16.17it/s]\n",
      "  9%|▉         | 3/32 [03:08<30:23, 62.90s/it]"
     ]
    },
    {
     "name": "stdout",
     "output_type": "stream",
     "text": [
      "Stored at patched_MS_vicuna7b_1000\n",
      "proportion of positive labels is 0.49\n",
      "generating acts\n"
     ]
    },
    {
     "name": "stderr",
     "output_type": "stream",
     "text": [
      "100%|██████████| 1000/1000 [01:01<00:00, 16.15it/s]\n",
      " 12%|█▎        | 4/32 [04:11<29:25, 63.04s/it]"
     ]
    },
    {
     "name": "stdout",
     "output_type": "stream",
     "text": [
      "Stored at patched_MS_vicuna7b_1000\n",
      "proportion of positive labels is 0.49\n",
      "generating acts\n"
     ]
    },
    {
     "name": "stderr",
     "output_type": "stream",
     "text": [
      "100%|██████████| 1000/1000 [01:01<00:00, 16.13it/s]\n",
      " 16%|█▌        | 5/32 [05:15<28:26, 63.20s/it]"
     ]
    },
    {
     "name": "stdout",
     "output_type": "stream",
     "text": [
      "Stored at patched_MS_vicuna7b_1000\n",
      "proportion of positive labels is 0.49\n",
      "generating acts\n"
     ]
    },
    {
     "name": "stderr",
     "output_type": "stream",
     "text": [
      "100%|██████████| 1000/1000 [01:01<00:00, 16.15it/s]\n",
      " 19%|█▉        | 6/32 [06:18<27:21, 63.15s/it]"
     ]
    },
    {
     "name": "stdout",
     "output_type": "stream",
     "text": [
      "Stored at patched_MS_vicuna7b_1000\n",
      "proportion of positive labels is 0.49\n",
      "generating acts\n"
     ]
    },
    {
     "name": "stderr",
     "output_type": "stream",
     "text": [
      "100%|██████████| 1000/1000 [01:02<00:00, 16.13it/s]\n",
      " 22%|██▏       | 7/32 [07:21<26:18, 63.12s/it]"
     ]
    },
    {
     "name": "stdout",
     "output_type": "stream",
     "text": [
      "Stored at patched_MS_vicuna7b_1000\n",
      "proportion of positive labels is 0.49\n",
      "generating acts\n"
     ]
    },
    {
     "name": "stderr",
     "output_type": "stream",
     "text": [
      "100%|██████████| 1000/1000 [01:02<00:00, 16.10it/s]\n",
      " 25%|██▌       | 8/32 [08:25<25:18, 63.25s/it]"
     ]
    },
    {
     "name": "stdout",
     "output_type": "stream",
     "text": [
      "Stored at patched_MS_vicuna7b_1000\n",
      "proportion of positive labels is 0.49\n",
      "generating acts\n"
     ]
    },
    {
     "name": "stderr",
     "output_type": "stream",
     "text": [
      "100%|██████████| 1000/1000 [01:02<00:00, 15.99it/s]\n",
      " 28%|██▊       | 9/32 [09:28<24:18, 63.40s/it]"
     ]
    },
    {
     "name": "stdout",
     "output_type": "stream",
     "text": [
      "Stored at patched_MS_vicuna7b_1000\n",
      "proportion of positive labels is 0.49\n",
      "generating acts\n"
     ]
    },
    {
     "name": "stderr",
     "output_type": "stream",
     "text": [
      "100%|██████████| 1000/1000 [01:02<00:00, 15.96it/s]\n",
      " 31%|███▏      | 10/32 [10:32<23:18, 63.58s/it]"
     ]
    },
    {
     "name": "stdout",
     "output_type": "stream",
     "text": [
      "Stored at patched_MS_vicuna7b_1000\n",
      "proportion of positive labels is 0.49\n",
      "generating acts\n"
     ]
    },
    {
     "name": "stderr",
     "output_type": "stream",
     "text": [
      "100%|██████████| 1000/1000 [01:02<00:00, 15.95it/s]\n",
      " 34%|███▍      | 11/32 [11:36<22:18, 63.73s/it]"
     ]
    },
    {
     "name": "stdout",
     "output_type": "stream",
     "text": [
      "Stored at patched_MS_vicuna7b_1000\n",
      "proportion of positive labels is 0.49\n",
      "generating acts\n"
     ]
    },
    {
     "name": "stderr",
     "output_type": "stream",
     "text": [
      "100%|██████████| 1000/1000 [01:02<00:00, 16.01it/s]\n",
      " 38%|███▊      | 12/32 [12:40<21:13, 63.67s/it]"
     ]
    },
    {
     "name": "stdout",
     "output_type": "stream",
     "text": [
      "Stored at patched_MS_vicuna7b_1000\n",
      "proportion of positive labels is 0.49\n",
      "generating acts\n"
     ]
    },
    {
     "name": "stderr",
     "output_type": "stream",
     "text": [
      "100%|██████████| 1000/1000 [01:02<00:00, 16.08it/s]\n",
      " 41%|████      | 13/32 [13:43<20:07, 63.56s/it]"
     ]
    },
    {
     "name": "stdout",
     "output_type": "stream",
     "text": [
      "Stored at patched_MS_vicuna7b_1000\n",
      "proportion of positive labels is 0.49\n",
      "generating acts\n"
     ]
    },
    {
     "name": "stderr",
     "output_type": "stream",
     "text": [
      "100%|██████████| 1000/1000 [01:02<00:00, 15.99it/s]\n",
      " 44%|████▍     | 14/32 [14:47<19:04, 63.58s/it]"
     ]
    },
    {
     "name": "stdout",
     "output_type": "stream",
     "text": [
      "Stored at patched_MS_vicuna7b_1000\n",
      "proportion of positive labels is 0.49\n",
      "generating acts\n"
     ]
    },
    {
     "name": "stderr",
     "output_type": "stream",
     "text": [
      "100%|██████████| 1000/1000 [01:02<00:00, 16.03it/s]\n",
      " 47%|████▋     | 15/32 [15:51<18:01, 63.62s/it]"
     ]
    },
    {
     "name": "stdout",
     "output_type": "stream",
     "text": [
      "Stored at patched_MS_vicuna7b_1000\n",
      "proportion of positive labels is 0.49\n",
      "generating acts\n"
     ]
    },
    {
     "name": "stderr",
     "output_type": "stream",
     "text": [
      "100%|██████████| 1000/1000 [01:02<00:00, 15.99it/s]\n",
      " 50%|█████     | 16/32 [16:54<16:58, 63.65s/it]"
     ]
    },
    {
     "name": "stdout",
     "output_type": "stream",
     "text": [
      "Stored at patched_MS_vicuna7b_1000\n",
      "proportion of positive labels is 0.49\n",
      "generating acts\n"
     ]
    },
    {
     "name": "stderr",
     "output_type": "stream",
     "text": [
      "100%|██████████| 1000/1000 [01:02<00:00, 15.90it/s]\n",
      " 53%|█████▎    | 17/32 [17:58<15:57, 63.80s/it]"
     ]
    },
    {
     "name": "stdout",
     "output_type": "stream",
     "text": [
      "Stored at patched_MS_vicuna7b_1000\n",
      "proportion of positive labels is 0.49\n",
      "generating acts\n"
     ]
    },
    {
     "name": "stderr",
     "output_type": "stream",
     "text": [
      "100%|██████████| 1000/1000 [01:02<00:00, 16.02it/s]\n",
      " 56%|█████▋    | 18/32 [19:02<14:53, 63.79s/it]"
     ]
    },
    {
     "name": "stdout",
     "output_type": "stream",
     "text": [
      "Stored at patched_MS_vicuna7b_1000\n",
      "proportion of positive labels is 0.49\n",
      "generating acts\n"
     ]
    },
    {
     "name": "stderr",
     "output_type": "stream",
     "text": [
      "100%|██████████| 1000/1000 [01:02<00:00, 16.02it/s]\n",
      " 59%|█████▉    | 19/32 [20:06<13:48, 63.76s/it]"
     ]
    },
    {
     "name": "stdout",
     "output_type": "stream",
     "text": [
      "Stored at patched_MS_vicuna7b_1000\n",
      "proportion of positive labels is 0.49\n",
      "generating acts\n"
     ]
    },
    {
     "name": "stderr",
     "output_type": "stream",
     "text": [
      "100%|██████████| 1000/1000 [01:02<00:00, 15.97it/s]\n",
      " 62%|██████▎   | 20/32 [21:10<12:45, 63.81s/it]"
     ]
    },
    {
     "name": "stdout",
     "output_type": "stream",
     "text": [
      "Stored at patched_MS_vicuna7b_1000\n",
      "proportion of positive labels is 0.49\n",
      "generating acts\n"
     ]
    },
    {
     "name": "stderr",
     "output_type": "stream",
     "text": [
      "100%|██████████| 1000/1000 [01:02<00:00, 15.89it/s]\n",
      " 66%|██████▌   | 21/32 [22:14<11:43, 63.92s/it]"
     ]
    },
    {
     "name": "stdout",
     "output_type": "stream",
     "text": [
      "Stored at patched_MS_vicuna7b_1000\n",
      "proportion of positive labels is 0.49\n",
      "generating acts\n"
     ]
    },
    {
     "name": "stderr",
     "output_type": "stream",
     "text": [
      "100%|██████████| 1000/1000 [01:02<00:00, 15.96it/s]\n",
      " 69%|██████▉   | 22/32 [23:18<10:39, 63.95s/it]"
     ]
    },
    {
     "name": "stdout",
     "output_type": "stream",
     "text": [
      "Stored at patched_MS_vicuna7b_1000\n",
      "proportion of positive labels is 0.49\n",
      "generating acts\n"
     ]
    },
    {
     "name": "stderr",
     "output_type": "stream",
     "text": [
      "100%|██████████| 1000/1000 [01:03<00:00, 15.82it/s]\n",
      " 72%|███████▏  | 23/32 [24:23<09:37, 64.13s/it]"
     ]
    },
    {
     "name": "stdout",
     "output_type": "stream",
     "text": [
      "Stored at patched_MS_vicuna7b_1000\n",
      "proportion of positive labels is 0.49\n",
      "generating acts\n"
     ]
    },
    {
     "name": "stderr",
     "output_type": "stream",
     "text": [
      "100%|██████████| 1000/1000 [01:02<00:00, 15.88it/s]\n",
      " 75%|███████▌  | 24/32 [25:27<08:33, 64.18s/it]"
     ]
    },
    {
     "name": "stdout",
     "output_type": "stream",
     "text": [
      "Stored at patched_MS_vicuna7b_1000\n",
      "proportion of positive labels is 0.49\n",
      "generating acts\n"
     ]
    },
    {
     "name": "stderr",
     "output_type": "stream",
     "text": [
      "100%|██████████| 1000/1000 [01:03<00:00, 15.85it/s]\n",
      " 78%|███████▊  | 25/32 [26:31<07:29, 64.24s/it]"
     ]
    },
    {
     "name": "stdout",
     "output_type": "stream",
     "text": [
      "Stored at patched_MS_vicuna7b_1000\n",
      "proportion of positive labels is 0.49\n",
      "generating acts\n"
     ]
    },
    {
     "name": "stderr",
     "output_type": "stream",
     "text": [
      "100%|██████████| 1000/1000 [01:03<00:00, 15.81it/s]\n",
      " 81%|████████▏ | 26/32 [27:36<06:26, 64.35s/it]"
     ]
    },
    {
     "name": "stdout",
     "output_type": "stream",
     "text": [
      "Stored at patched_MS_vicuna7b_1000\n",
      "proportion of positive labels is 0.49\n",
      "generating acts\n"
     ]
    },
    {
     "name": "stderr",
     "output_type": "stream",
     "text": [
      "100%|██████████| 1000/1000 [01:03<00:00, 15.82it/s]\n",
      " 84%|████████▍ | 27/32 [28:40<05:22, 64.45s/it]"
     ]
    },
    {
     "name": "stdout",
     "output_type": "stream",
     "text": [
      "Stored at patched_MS_vicuna7b_1000\n",
      "proportion of positive labels is 0.49\n",
      "generating acts\n"
     ]
    },
    {
     "name": "stderr",
     "output_type": "stream",
     "text": [
      "100%|██████████| 1000/1000 [01:03<00:00, 15.76it/s]\n",
      " 88%|████████▊ | 28/32 [29:45<04:18, 64.56s/it]"
     ]
    },
    {
     "name": "stdout",
     "output_type": "stream",
     "text": [
      "Stored at patched_MS_vicuna7b_1000\n",
      "proportion of positive labels is 0.49\n",
      "generating acts\n"
     ]
    },
    {
     "name": "stderr",
     "output_type": "stream",
     "text": [
      "100%|██████████| 1000/1000 [01:03<00:00, 15.87it/s]\n",
      " 91%|█████████ | 29/32 [30:50<03:13, 64.55s/it]"
     ]
    },
    {
     "name": "stdout",
     "output_type": "stream",
     "text": [
      "Stored at patched_MS_vicuna7b_1000\n",
      "proportion of positive labels is 0.49\n",
      "generating acts\n"
     ]
    },
    {
     "name": "stderr",
     "output_type": "stream",
     "text": [
      "100%|██████████| 1000/1000 [01:03<00:00, 15.79it/s]\n",
      " 94%|█████████▍| 30/32 [31:55<02:09, 64.59s/it]"
     ]
    },
    {
     "name": "stdout",
     "output_type": "stream",
     "text": [
      "Stored at patched_MS_vicuna7b_1000\n",
      "proportion of positive labels is 0.49\n",
      "generating acts\n"
     ]
    },
    {
     "name": "stderr",
     "output_type": "stream",
     "text": [
      "100%|██████████| 1000/1000 [01:02<00:00, 15.94it/s]\n",
      " 97%|█████████▋| 31/32 [32:59<01:04, 64.44s/it]"
     ]
    },
    {
     "name": "stdout",
     "output_type": "stream",
     "text": [
      "Stored at patched_MS_vicuna7b_1000\n",
      "proportion of positive labels is 0.49\n",
      "generating acts\n"
     ]
    },
    {
     "name": "stderr",
     "output_type": "stream",
     "text": [
      "100%|██████████| 1000/1000 [01:03<00:00, 15.85it/s]\n",
      "100%|██████████| 32/32 [34:03<00:00, 63.86s/it]"
     ]
    },
    {
     "name": "stdout",
     "output_type": "stream",
     "text": [
      "Stored at patched_MS_vicuna7b_1000\n",
      "proportion of positive labels is 0.49\n"
     ]
    },
    {
     "name": "stderr",
     "output_type": "stream",
     "text": [
      "\n"
     ]
    }
   ],
   "source": [
    "from utils.iti_utils import patch_iti\n",
    "dataname = \"MS\"\n",
    "for k in tqdm(k_range):\n",
    "    model.reset_hooks()\n",
    "    patch_iti(model, acts[dataname], topk=k, alpha=alpha, use_MMD=True, model_device='cuda')\n",
    "\n",
    "    patched_acts = ModelActs(model, datasets[dataname], act_types=[\"z\",\"logits\"])\n",
    "    print(\"generating acts\")\n",
    "    patched_acts.gen_acts(N=1000, id=f\"patched_{dataname}_vicuna7b_1000\", indices=acts[dataname].indices)\n",
    "\n",
    "    patched_acts.indices_trains=acts[dataname].indices_trains\n",
    "    patched_acts.indices_tests=acts[dataname].indices_tests\n",
    "\n",
    "    positive_sum, negative_sum = tot_logit_diff(model.tokenizer, patched_acts, use_probs=True, check_balanced_output=False)\n",
    "\n",
    "    regular_patch_accs.append(positive_sum.mean() - negative_sum.mean())"
   ]
  },
  {
   "cell_type": "code",
   "execution_count": 27,
   "metadata": {},
   "outputs": [
    {
     "data": {
      "text/plain": [
       "Text(0, 0.5, 'Correct - Incorrect Label Responses')"
      ]
     },
     "execution_count": 27,
     "metadata": {},
     "output_type": "execute_result"
    },
    {
     "data": {
      "image/png": "[encoded data removed]",
      "text/plain": [
       "<Figure size 432x288 with 1 Axes>"
      ]
     },
     "metadata": {
      "needs_background": "light"
     },
     "output_type": "display_data"
    }
   ],
   "source": [
    "import matplotlib.pyplot as plt\n",
    "\n",
    "plt.scatter(k_range, logit_patch_accs, label=\"Logit Patching\")\n",
    "plt.scatter(k_range, regular_patch_accs, label=\"Regular Patching\")\n",
    "plt.legend()\n",
    "plt.title(\"Model Accuracy after ITI using Logit vs Regular Patching\")\n",
    "plt.xlabel(\"k\")\n",
    "plt.ylabel(\"Correct - Incorrect Label Responses\")"
   ]
  },
  {
   "cell_type": "code",
   "execution_count": 36,
   "metadata": {},
   "outputs": [
    {
     "name": "stderr",
     "output_type": "stream",
     "text": [
      "  0%|          | 0/32 [00:00<?, ?it/s]"
     ]
    },
    {
     "name": "stderr",
     "output_type": "stream",
     "text": [
      "100%|██████████| 1000/1000 [01:01<00:00, 16.24it/s]\n",
      "  3%|▎         | 1/32 [01:02<32:23, 62.71s/it]"
     ]
    },
    {
     "name": "stdout",
     "output_type": "stream",
     "text": [
      "Stored at patched_MS_vicuna7b_1000\n",
      "proportion of positive labels is 0.49\n",
      "positive_sum=tensor([0.8388, 0.6380, 0.6453, 0.8394, 0.8803, 0.8757, 0.7578, 0.9023, 0.7039,\n",
      "        0.3297, 0.7989, 0.9439, 0.9706, 0.5686, 0.2020, 0.4712, 0.7596, 0.3586,\n",
      "        0.5218, 0.7873, 0.6946, 0.7062, 0.9870, 0.4312, 0.8337, 0.9812, 0.7900,\n",
      "        0.6148, 0.6916, 0.4778, 0.9663, 0.9380, 0.8773, 0.7575, 0.8115, 0.9775,\n",
      "        0.9477, 0.7079, 0.8836, 0.4265, 0.8617, 0.9266, 0.1674, 0.9654, 0.8361,\n",
      "        0.8463, 0.9927, 0.2673, 0.3463, 0.8833, 0.7747, 0.8601, 0.9449, 0.9604,\n",
      "        0.9841, 0.9290, 0.7298, 0.7928, 0.8954, 0.8755, 0.9714, 0.4591, 0.8813,\n",
      "        0.6335, 0.7649, 0.4375, 0.8668, 0.2724, 0.8749, 0.9606, 0.9305, 0.9516,\n",
      "        0.0563, 0.7723, 0.6784, 0.4708, 0.9568, 0.4373, 0.7842, 0.9455, 0.3712,\n",
      "        0.9798, 0.7936, 0.7674, 0.6671, 0.8091, 0.7946, 0.9328, 0.9307, 0.9554,\n",
      "        0.6797, 0.5654, 0.3283, 0.8858, 0.9405, 0.6478, 0.9711, 0.9378, 0.9481,\n",
      "        0.8944, 0.9270, 0.5264, 0.9223, 0.8096, 0.7905, 0.9606, 0.3459, 0.9227,\n",
      "        0.9635, 0.9718, 0.9583, 0.6581, 0.2587, 0.7277, 0.9708, 0.8032, 0.8169,\n",
      "        0.6789, 0.8590, 0.9309, 0.9251, 0.8618, 0.6470, 0.7726, 0.5329, 0.8816,\n",
      "        0.8053, 0.6883, 0.9097, 0.4649, 0.5305, 0.8011, 0.8853, 0.9463, 0.6566,\n",
      "        0.9198, 0.8748, 0.8555, 0.8095, 0.9092, 0.9135, 0.7929, 0.9246, 0.9557,\n",
      "        0.7557, 0.7865, 0.7718, 0.8987, 0.9130, 0.6546, 0.9575, 0.9338, 0.7448,\n",
      "        0.9625, 0.4169, 0.6724, 0.3873, 0.9145, 0.7885, 0.6570, 0.7696, 0.8093,\n",
      "        0.4779, 0.9745, 0.7094, 0.4696, 0.2834, 0.9882, 0.9370, 0.9328, 0.7833,\n",
      "        0.9556, 0.9630, 0.9309, 0.6165, 0.8875, 0.3752, 0.6979, 0.8091, 0.2702,\n",
      "        0.7436, 0.5705, 0.6766, 0.9034, 0.2005, 0.9352, 0.9936, 0.8826, 0.7259,\n",
      "        0.9385, 0.8489, 0.5946, 0.7711, 0.9132, 0.8231, 0.8605, 0.8450, 0.7416,\n",
      "        0.6854, 0.9719]), negative_sum=tensor([0.1612, 0.3620, 0.3547, 0.1606, 0.1197, 0.1243, 0.2422, 0.0977, 0.2961,\n",
      "        0.6703, 0.2011, 0.0561, 0.0294, 0.4314, 0.7980, 0.5288, 0.2404, 0.6414,\n",
      "        0.4782, 0.2127, 0.3054, 0.2938, 0.0130, 0.5688, 0.1663, 0.0188, 0.2100,\n",
      "        0.3852, 0.3084, 0.5222, 0.0337, 0.0620, 0.1227, 0.2425, 0.1885, 0.0225,\n",
      "        0.0523, 0.2921, 0.1164, 0.5735, 0.1383, 0.0734, 0.8326, 0.0346, 0.1639,\n",
      "        0.1537, 0.0073, 0.7327, 0.6537, 0.1167, 0.2253, 0.1399, 0.0551, 0.0396,\n",
      "        0.0159, 0.0710, 0.2702, 0.2072, 0.1046, 0.1245, 0.0286, 0.5409, 0.1187,\n",
      "        0.3665, 0.2351, 0.5625, 0.1332, 0.7276, 0.1251, 0.0394, 0.0695, 0.0484,\n",
      "        0.9437, 0.2277, 0.3216, 0.5292, 0.0432, 0.5627, 0.2158, 0.0545, 0.6288,\n",
      "        0.0202, 0.2064, 0.2326, 0.3329, 0.1909, 0.2054, 0.0672, 0.0693, 0.0446,\n",
      "        0.3203, 0.4346, 0.6717, 0.1142, 0.0595, 0.3522, 0.0289, 0.0622, 0.0519,\n",
      "        0.1056, 0.0730, 0.4736, 0.0777, 0.1904, 0.2095, 0.0394, 0.6541, 0.0773,\n",
      "        0.0365, 0.0282, 0.0417, 0.3419, 0.7413, 0.2723, 0.0292, 0.1968, 0.1831,\n",
      "        0.3211, 0.1410, 0.0691, 0.0749, 0.1382, 0.3530, 0.2274, 0.4671, 0.1184,\n",
      "        0.1947, 0.3117, 0.0903, 0.5351, 0.4695, 0.1989, 0.1147, 0.0537, 0.3434,\n",
      "        0.0802, 0.1252, 0.1445, 0.1905, 0.0908, 0.0865, 0.2071, 0.0754, 0.0443,\n",
      "        0.2443, 0.2135, 0.2282, 0.1013, 0.0870, 0.3454, 0.0425, 0.0662, 0.2552,\n",
      "        0.0375, 0.5831, 0.3276, 0.6127, 0.0855, 0.2115, 0.3430, 0.2304, 0.1907,\n",
      "        0.5221, 0.0255, 0.2906, 0.5304, 0.7166, 0.0118, 0.0630, 0.0672, 0.2167,\n",
      "        0.0444, 0.0370, 0.0691, 0.3835, 0.1125, 0.6248, 0.3021, 0.1909, 0.7298,\n",
      "        0.2564, 0.4295, 0.3234, 0.0966, 0.7995, 0.0648, 0.0064, 0.1174, 0.2741,\n",
      "        0.0615, 0.1511, 0.4054, 0.2289, 0.0868, 0.1769, 0.1395, 0.1550, 0.2584,\n",
      "        0.3146, 0.0281])\n"
     ]
    },
    {
     "name": "stderr",
     "output_type": "stream",
     "text": [
      "100%|██████████| 1000/1000 [01:01<00:00, 16.20it/s]\n",
      "  6%|▋         | 2/32 [02:05<31:23, 62.79s/it]"
     ]
    },
    {
     "name": "stdout",
     "output_type": "stream",
     "text": [
      "Stored at patched_MS_vicuna7b_1000\n",
      "proportion of positive labels is 0.49\n",
      "positive_sum=tensor([0.8247, 0.6169, 0.6246, 0.8255, 0.8699, 0.8634, 0.7396, 0.8950, 0.7265,\n",
      "        0.3029, 0.7864, 0.9512, 0.9754, 0.5943, 0.2163, 0.4457, 0.7448, 0.3324,\n",
      "        0.5458, 0.8087, 0.7165, 0.7269, 0.9857, 0.4562, 0.8233, 0.9843, 0.7740,\n",
      "        0.6379, 0.7185, 0.5043, 0.9715, 0.9455, 0.8907, 0.7779, 0.7955, 0.9811,\n",
      "        0.9443, 0.6867, 0.8966, 0.4496, 0.8776, 0.9206, 0.1787, 0.9628, 0.8233,\n",
      "        0.8619, 0.9941, 0.2865, 0.3684, 0.8739, 0.7593, 0.8490, 0.9536, 0.9576,\n",
      "        0.9868, 0.9393, 0.7123, 0.7766, 0.8873, 0.8641, 0.9760, 0.4831, 0.8968,\n",
      "        0.6623, 0.7479, 0.4601, 0.8566, 0.2950, 0.8884, 0.9574, 0.9387, 0.9484,\n",
      "        0.0479, 0.7555, 0.6600, 0.4463, 0.9538, 0.4127, 0.8017, 0.9535, 0.3442,\n",
      "        0.9834, 0.8140, 0.7480, 0.6935, 0.7953, 0.7816, 0.9263, 0.9397, 0.9513,\n",
      "        0.6595, 0.5903, 0.3044, 0.8745, 0.9489, 0.6226, 0.9758, 0.9333, 0.9438,\n",
      "        0.8859, 0.9219, 0.5561, 0.9324, 0.7960, 0.7743, 0.9665, 0.3225, 0.9323,\n",
      "        0.9692, 0.9701, 0.9549, 0.6378, 0.2362, 0.7483, 0.9685, 0.8248, 0.7988,\n",
      "        0.6575, 0.8742, 0.9397, 0.9197, 0.8778, 0.6233, 0.7562, 0.5008, 0.8939,\n",
      "        0.7924, 0.7155, 0.9220, 0.4960, 0.5564, 0.8191, 0.8997, 0.9425, 0.6807,\n",
      "        0.9136, 0.8617, 0.8466, 0.8258, 0.9217, 0.9063, 0.7795, 0.9334, 0.9621,\n",
      "        0.7346, 0.8054, 0.7934, 0.9106, 0.9071, 0.6246, 0.9637, 0.9426, 0.7676,\n",
      "        0.9595, 0.3899, 0.6965, 0.4122, 0.9262, 0.7725, 0.6803, 0.7891, 0.7950,\n",
      "        0.4521, 0.9728, 0.6872, 0.4957, 0.2606, 0.9905, 0.9451, 0.9415, 0.7647,\n",
      "        0.9524, 0.9690, 0.9392, 0.6463, 0.8790, 0.3544, 0.6738, 0.7953, 0.2938,\n",
      "        0.7653, 0.5465, 0.6997, 0.8960, 0.2153, 0.9302, 0.9948, 0.8739, 0.7085,\n",
      "        0.9340, 0.8656, 0.5728, 0.7908, 0.9237, 0.8425, 0.8498, 0.8589, 0.7207,\n",
      "        0.7153, 0.9698]), negative_sum=tensor([0.1753, 0.3831, 0.3754, 0.1745, 0.1301, 0.1366, 0.2604, 0.1050, 0.2735,\n",
      "        0.6971, 0.2136, 0.0488, 0.0246, 0.4057, 0.7837, 0.5543, 0.2552, 0.6676,\n",
      "        0.4542, 0.1913, 0.2835, 0.2731, 0.0143, 0.5438, 0.1767, 0.0157, 0.2260,\n",
      "        0.3621, 0.2815, 0.4957, 0.0285, 0.0545, 0.1093, 0.2221, 0.2045, 0.0189,\n",
      "        0.0557, 0.3133, 0.1034, 0.5504, 0.1224, 0.0794, 0.8213, 0.0372, 0.1767,\n",
      "        0.1381, 0.0059, 0.7135, 0.6316, 0.1261, 0.2407, 0.1510, 0.0464, 0.0424,\n",
      "        0.0132, 0.0607, 0.2877, 0.2234, 0.1127, 0.1359, 0.0240, 0.5169, 0.1032,\n",
      "        0.3377, 0.2521, 0.5399, 0.1434, 0.7050, 0.1116, 0.0426, 0.0613, 0.0516,\n",
      "        0.9521, 0.2445, 0.3400, 0.5537, 0.0462, 0.5873, 0.1983, 0.0465, 0.6558,\n",
      "        0.0166, 0.1860, 0.2520, 0.3065, 0.2047, 0.2184, 0.0737, 0.0603, 0.0487,\n",
      "        0.3405, 0.4097, 0.6956, 0.1255, 0.0511, 0.3774, 0.0242, 0.0667, 0.0562,\n",
      "        0.1141, 0.0781, 0.4439, 0.0676, 0.2040, 0.2257, 0.0335, 0.6775, 0.0677,\n",
      "        0.0308, 0.0299, 0.0451, 0.3622, 0.7638, 0.2517, 0.0315, 0.1752, 0.2012,\n",
      "        0.3425, 0.1258, 0.0603, 0.0803, 0.1222, 0.3767, 0.2438, 0.4992, 0.1061,\n",
      "        0.2076, 0.2845, 0.0780, 0.5040, 0.4436, 0.1809, 0.1003, 0.0575, 0.3193,\n",
      "        0.0864, 0.1383, 0.1534, 0.1742, 0.0783, 0.0937, 0.2205, 0.0666, 0.0379,\n",
      "        0.2654, 0.1946, 0.2066, 0.0894, 0.0929, 0.3754, 0.0363, 0.0574, 0.2324,\n",
      "        0.0405, 0.6101, 0.3035, 0.5878, 0.0738, 0.2275, 0.3197, 0.2109, 0.2050,\n",
      "        0.5479, 0.0272, 0.3128, 0.5043, 0.7394, 0.0095, 0.0549, 0.0585, 0.2353,\n",
      "        0.0476, 0.0310, 0.0608, 0.3537, 0.1210, 0.6456, 0.3262, 0.2047, 0.7062,\n",
      "        0.2347, 0.4535, 0.3003, 0.1040, 0.7847, 0.0698, 0.0052, 0.1261, 0.2915,\n",
      "        0.0660, 0.1344, 0.4272, 0.2092, 0.0763, 0.1575, 0.1502, 0.1411, 0.2793,\n",
      "        0.2847, 0.0302])\n"
     ]
    },
    {
     "name": "stderr",
     "output_type": "stream",
     "text": [
      "100%|██████████| 1000/1000 [01:01<00:00, 16.20it/s]\n",
      "  9%|▉         | 3/32 [03:08<30:21, 62.80s/it]"
     ]
    },
    {
     "name": "stdout",
     "output_type": "stream",
     "text": [
      "Stored at patched_MS_vicuna7b_1000\n",
      "proportion of positive labels is 0.49\n",
      "positive_sum=tensor([0.8141, 0.5975, 0.6079, 0.8139, 0.8613, 0.8546, 0.7272, 0.8887, 0.7421,\n",
      "        0.2839, 0.7748, 0.9564, 0.9784, 0.6144, 0.2290, 0.4231, 0.7323, 0.3114,\n",
      "        0.5644, 0.8226, 0.7340, 0.7430, 0.9845, 0.4796, 0.8130, 0.9866, 0.7610,\n",
      "        0.6569, 0.7383, 0.5229, 0.9751, 0.9509, 0.8998, 0.7914, 0.7826, 0.9835,\n",
      "        0.9402, 0.6710, 0.9049, 0.4671, 0.8890, 0.9149, 0.1881, 0.9597, 0.8132,\n",
      "        0.8726, 0.9950, 0.3006, 0.3849, 0.8651, 0.7460, 0.8401, 0.9590, 0.9544,\n",
      "        0.9887, 0.9468, 0.6977, 0.7618, 0.8791, 0.8550, 0.9794, 0.5026, 0.9069,\n",
      "        0.6819, 0.7328, 0.4781, 0.8463, 0.3108, 0.8990, 0.9536, 0.9443, 0.9448,\n",
      "        0.0422, 0.7428, 0.6473, 0.4283, 0.9502, 0.3933, 0.8148, 0.9590, 0.3242,\n",
      "        0.9857, 0.8273, 0.7319, 0.7120, 0.7828, 0.7712, 0.9199, 0.9458, 0.9471,\n",
      "        0.6432, 0.6076, 0.2870, 0.8670, 0.9543, 0.6037, 0.9789, 0.9286, 0.9393,\n",
      "        0.8787, 0.9172, 0.5785, 0.9389, 0.7854, 0.7613, 0.9702, 0.3041, 0.9392,\n",
      "        0.9729, 0.9678, 0.9514, 0.6179, 0.2201, 0.7616, 0.9658, 0.8395, 0.7833,\n",
      "        0.6411, 0.8851, 0.9459, 0.9141, 0.8884, 0.6056, 0.7427, 0.4761, 0.9029,\n",
      "        0.7789, 0.7367, 0.9300, 0.5167, 0.5751, 0.8323, 0.9092, 0.9379, 0.6994,\n",
      "        0.9084, 0.8526, 0.8388, 0.8370, 0.9306, 0.8998, 0.7707, 0.9398, 0.9660,\n",
      "        0.7188, 0.8209, 0.8088, 0.9189, 0.9011, 0.6014, 0.9679, 0.9482, 0.7838,\n",
      "        0.9566, 0.3652, 0.7143, 0.4324, 0.9336, 0.7596, 0.6971, 0.8029, 0.7838,\n",
      "        0.4294, 0.9706, 0.6702, 0.5181, 0.2444, 0.9919, 0.9504, 0.9476, 0.7513,\n",
      "        0.9496, 0.9730, 0.9459, 0.6653, 0.8702, 0.3396, 0.6561, 0.7838, 0.3105,\n",
      "        0.7804, 0.5269, 0.7169, 0.8882, 0.2289, 0.9253, 0.9957, 0.8656, 0.6939,\n",
      "        0.9292, 0.8788, 0.5567, 0.8053, 0.9312, 0.8551, 0.8400, 0.8681, 0.7064,\n",
      "        0.7368, 0.9675]), negative_sum=tensor([0.1859, 0.4025, 0.3921, 0.1861, 0.1387, 0.1454, 0.2728, 0.1113, 0.2579,\n",
      "        0.7161, 0.2252, 0.0436, 0.0216, 0.3856, 0.7710, 0.5769, 0.2677, 0.6886,\n",
      "        0.4356, 0.1774, 0.2660, 0.2570, 0.0155, 0.5204, 0.1870, 0.0134, 0.2390,\n",
      "        0.3431, 0.2617, 0.4771, 0.0249, 0.0491, 0.1002, 0.2086, 0.2174, 0.0165,\n",
      "        0.0598, 0.3290, 0.0951, 0.5329, 0.1110, 0.0851, 0.8119, 0.0403, 0.1868,\n",
      "        0.1274, 0.0050, 0.6994, 0.6151, 0.1349, 0.2540, 0.1599, 0.0410, 0.0456,\n",
      "        0.0113, 0.0532, 0.3023, 0.2382, 0.1209, 0.1450, 0.0206, 0.4974, 0.0931,\n",
      "        0.3181, 0.2672, 0.5219, 0.1537, 0.6892, 0.1010, 0.0464, 0.0557, 0.0552,\n",
      "        0.9578, 0.2572, 0.3527, 0.5717, 0.0498, 0.6067, 0.1852, 0.0410, 0.6758,\n",
      "        0.0143, 0.1727, 0.2681, 0.2880, 0.2172, 0.2288, 0.0801, 0.0542, 0.0529,\n",
      "        0.3568, 0.3924, 0.7130, 0.1330, 0.0457, 0.3963, 0.0211, 0.0714, 0.0607,\n",
      "        0.1213, 0.0828, 0.4215, 0.0611, 0.2146, 0.2387, 0.0298, 0.6959, 0.0608,\n",
      "        0.0271, 0.0322, 0.0486, 0.3821, 0.7799, 0.2384, 0.0342, 0.1605, 0.2167,\n",
      "        0.3589, 0.1149, 0.0541, 0.0859, 0.1116, 0.3944, 0.2573, 0.5239, 0.0971,\n",
      "        0.2211, 0.2633, 0.0700, 0.4833, 0.4249, 0.1677, 0.0908, 0.0621, 0.3006,\n",
      "        0.0916, 0.1474, 0.1612, 0.1630, 0.0694, 0.1002, 0.2293, 0.0602, 0.0340,\n",
      "        0.2812, 0.1791, 0.1912, 0.0811, 0.0989, 0.3986, 0.0321, 0.0518, 0.2162,\n",
      "        0.0434, 0.6348, 0.2857, 0.5676, 0.0664, 0.2404, 0.3029, 0.1971, 0.2162,\n",
      "        0.5706, 0.0294, 0.3298, 0.4819, 0.7556, 0.0081, 0.0496, 0.0524, 0.2487,\n",
      "        0.0504, 0.0270, 0.0541, 0.3347, 0.1298, 0.6604, 0.3439, 0.2162, 0.6895,\n",
      "        0.2196, 0.4731, 0.2831, 0.1118, 0.7711, 0.0747, 0.0043, 0.1344, 0.3061,\n",
      "        0.0708, 0.1212, 0.4433, 0.1947, 0.0688, 0.1449, 0.1600, 0.1319, 0.2936,\n",
      "        0.2632, 0.0325])\n"
     ]
    },
    {
     "name": "stderr",
     "output_type": "stream",
     "text": [
      "100%|██████████| 1000/1000 [01:02<00:00, 16.03it/s]\n",
      " 12%|█▎        | 4/32 [04:12<29:28, 63.15s/it]"
     ]
    },
    {
     "name": "stdout",
     "output_type": "stream",
     "text": [
      "Stored at patched_MS_vicuna7b_1000\n",
      "proportion of positive labels is 0.49\n",
      "positive_sum=tensor([0.8069, 0.5862, 0.5973, 0.8068, 0.8551, 0.8478, 0.7176, 0.8838, 0.7496,\n",
      "        0.2741, 0.7666, 0.9580, 0.9791, 0.6248, 0.2379, 0.4122, 0.7237, 0.3017,\n",
      "        0.5755, 0.8285, 0.7418, 0.7506, 0.9836, 0.4911, 0.8059, 0.9871, 0.7520,\n",
      "        0.6664, 0.7469, 0.5334, 0.9761, 0.9527, 0.9032, 0.7980, 0.7739, 0.9841,\n",
      "        0.9374, 0.6611, 0.9084, 0.4782, 0.8931, 0.9106, 0.1954, 0.9573, 0.8061,\n",
      "        0.8767, 0.9952, 0.3106, 0.3953, 0.8590, 0.7367, 0.8330, 0.9605, 0.9518,\n",
      "        0.9891, 0.9490, 0.6876, 0.7519, 0.8732, 0.8485, 0.9801, 0.5144, 0.9103,\n",
      "        0.6907, 0.7232, 0.4899, 0.8394, 0.3216, 0.9027, 0.9509, 0.9463, 0.9419,\n",
      "        0.0406, 0.7344, 0.6378, 0.4180, 0.9478, 0.3833, 0.8210, 0.9607, 0.3141,\n",
      "        0.9862, 0.8332, 0.7209, 0.7210, 0.7739, 0.7635, 0.9157, 0.9478, 0.9444,\n",
      "        0.6328, 0.6173, 0.2779, 0.8609, 0.9559, 0.5929, 0.9797, 0.9249, 0.9363,\n",
      "        0.8732, 0.9136, 0.5900, 0.9410, 0.7771, 0.7521, 0.9712, 0.2944, 0.9414,\n",
      "        0.9739, 0.9661, 0.9487, 0.6065, 0.2125, 0.7687, 0.9639, 0.8459, 0.7742,\n",
      "        0.6305, 0.8894, 0.9480, 0.9101, 0.8924, 0.5952, 0.7342, 0.4643, 0.9065,\n",
      "        0.7700, 0.7455, 0.9323, 0.5280, 0.5858, 0.8382, 0.9127, 0.9346, 0.7083,\n",
      "        0.9040, 0.8456, 0.8329, 0.8421, 0.9333, 0.8949, 0.7629, 0.9420, 0.9674,\n",
      "        0.7079, 0.8267, 0.8159, 0.9219, 0.8966, 0.5884, 0.9692, 0.9501, 0.7906,\n",
      "        0.9543, 0.3544, 0.7234, 0.4436, 0.9360, 0.7505, 0.7055, 0.8089, 0.7756,\n",
      "        0.4184, 0.9690, 0.6594, 0.5306, 0.2360, 0.9922, 0.9521, 0.9497, 0.7416,\n",
      "        0.9471, 0.9741, 0.9478, 0.6753, 0.8645, 0.3306, 0.6444, 0.7750, 0.3207,\n",
      "        0.7878, 0.5147, 0.7253, 0.8826, 0.2383, 0.9216, 0.9959, 0.8600, 0.6839,\n",
      "        0.9256, 0.8827, 0.5455, 0.8113, 0.9337, 0.8605, 0.8331, 0.8727, 0.6963,\n",
      "        0.7452, 0.9656]), negative_sum=tensor([0.1931, 0.4138, 0.4027, 0.1932, 0.1449, 0.1522, 0.2824, 0.1162, 0.2504,\n",
      "        0.7259, 0.2334, 0.0420, 0.0209, 0.3752, 0.7621, 0.5878, 0.2763, 0.6983,\n",
      "        0.4245, 0.1715, 0.2582, 0.2494, 0.0164, 0.5089, 0.1941, 0.0129, 0.2480,\n",
      "        0.3336, 0.2531, 0.4666, 0.0239, 0.0473, 0.0968, 0.2020, 0.2261, 0.0159,\n",
      "        0.0626, 0.3389, 0.0916, 0.5218, 0.1069, 0.0894, 0.8046, 0.0427, 0.1939,\n",
      "        0.1233, 0.0048, 0.6894, 0.6047, 0.1410, 0.2633, 0.1670, 0.0395, 0.0482,\n",
      "        0.0109, 0.0510, 0.3124, 0.2481, 0.1268, 0.1515, 0.0199, 0.4856, 0.0897,\n",
      "        0.3093, 0.2768, 0.5101, 0.1606, 0.6784, 0.0973, 0.0491, 0.0537, 0.0581,\n",
      "        0.9594, 0.2656, 0.3622, 0.5820, 0.0522, 0.6167, 0.1790, 0.0393, 0.6859,\n",
      "        0.0138, 0.1668, 0.2791, 0.2790, 0.2261, 0.2365, 0.0843, 0.0522, 0.0556,\n",
      "        0.3672, 0.3827, 0.7221, 0.1391, 0.0441, 0.4071, 0.0203, 0.0751, 0.0637,\n",
      "        0.1268, 0.0864, 0.4100, 0.0590, 0.2229, 0.2479, 0.0288, 0.7056, 0.0586,\n",
      "        0.0261, 0.0339, 0.0513, 0.3935, 0.7875, 0.2313, 0.0361, 0.1541, 0.2258,\n",
      "        0.3695, 0.1106, 0.0520, 0.0899, 0.1076, 0.4048, 0.2658, 0.5357, 0.0935,\n",
      "        0.2300, 0.2545, 0.0677, 0.4720, 0.4142, 0.1618, 0.0873, 0.0654, 0.2917,\n",
      "        0.0960, 0.1544, 0.1671, 0.1579, 0.0667, 0.1051, 0.2371, 0.0580, 0.0326,\n",
      "        0.2921, 0.1733, 0.1841, 0.0781, 0.1034, 0.4116, 0.0308, 0.0499, 0.2094,\n",
      "        0.0457, 0.6456, 0.2766, 0.5564, 0.0640, 0.2495, 0.2945, 0.1911, 0.2244,\n",
      "        0.5816, 0.0310, 0.3406, 0.4694, 0.7640, 0.0078, 0.0479, 0.0503, 0.2584,\n",
      "        0.0529, 0.0259, 0.0522, 0.3247, 0.1355, 0.6694, 0.3556, 0.2250, 0.6793,\n",
      "        0.2122, 0.4853, 0.2747, 0.1174, 0.7617, 0.0784, 0.0041, 0.1400, 0.3161,\n",
      "        0.0744, 0.1173, 0.4545, 0.1887, 0.0663, 0.1395, 0.1669, 0.1273, 0.3037,\n",
      "        0.2548, 0.0344])\n"
     ]
    },
    {
     "name": "stderr",
     "output_type": "stream",
     "text": [
      "100%|██████████| 1000/1000 [01:02<00:00, 16.06it/s]\n",
      " 16%|█▌        | 5/32 [05:15<28:27, 63.25s/it]"
     ]
    },
    {
     "name": "stdout",
     "output_type": "stream",
     "text": [
      "Stored at patched_MS_vicuna7b_1000\n",
      "proportion of positive labels is 0.49\n",
      "positive_sum=tensor([0.7596, 0.5194, 0.5343, 0.7617, 0.8157, 0.8074, 0.6573, 0.8489, 0.7909,\n",
      "        0.2249, 0.7154, 0.9671, 0.9832, 0.6841, 0.2939, 0.3514, 0.6686, 0.2503,\n",
      "        0.6388, 0.8585, 0.7868, 0.7934, 0.9776, 0.5558, 0.7560, 0.9903, 0.6940,\n",
      "        0.7201, 0.7993, 0.5943, 0.9814, 0.9628, 0.9219, 0.8334, 0.7201, 0.9877,\n",
      "        0.9173, 0.5944, 0.9277, 0.5466, 0.9161, 0.8821, 0.2407, 0.9400, 0.7638,\n",
      "        0.8999, 0.9962, 0.3747, 0.4566, 0.8149, 0.6766, 0.7922, 0.9701, 0.9347,\n",
      "        0.9917, 0.9627, 0.6219, 0.6917, 0.8321, 0.8078, 0.9848, 0.5863, 0.9294,\n",
      "        0.7429, 0.6538, 0.5646, 0.7917, 0.3940, 0.9235, 0.9340, 0.9574, 0.9220,\n",
      "        0.0306, 0.6812, 0.5881, 0.3584, 0.9312, 0.3189, 0.8578, 0.9700, 0.2591,\n",
      "        0.9894, 0.8666, 0.6517, 0.7707, 0.7137, 0.7125, 0.8881, 0.9592, 0.9240,\n",
      "        0.5672, 0.6740, 0.2296, 0.8254, 0.9654, 0.5216, 0.9844, 0.8972, 0.9162,\n",
      "        0.8345, 0.8903, 0.6540, 0.9527, 0.7206, 0.6933, 0.9776, 0.2418, 0.9545,\n",
      "        0.9792, 0.9537, 0.9319, 0.5269, 0.1726, 0.8082, 0.9499, 0.8777, 0.7120,\n",
      "        0.5695, 0.9128, 0.9596, 0.8844, 0.9153, 0.5359, 0.6819, 0.3921, 0.9260,\n",
      "        0.7123, 0.7977, 0.9460, 0.5962, 0.6445, 0.8708, 0.9323, 0.9096, 0.7602,\n",
      "        0.8786, 0.8026, 0.7915, 0.8688, 0.9480, 0.8618, 0.7229, 0.9543, 0.9744,\n",
      "        0.6417, 0.8608, 0.8537, 0.9388, 0.8670, 0.5019, 0.9760, 0.9608, 0.8282,\n",
      "        0.9402, 0.2940, 0.7713, 0.5167, 0.9498, 0.6943, 0.7573, 0.8439, 0.7239,\n",
      "        0.3530, 0.9576, 0.5951, 0.6003, 0.1933, 0.9940, 0.9608, 0.9609, 0.6765,\n",
      "        0.9310, 0.9798, 0.9591, 0.7344, 0.8253, 0.2804, 0.5738, 0.7234, 0.3825,\n",
      "        0.8297, 0.4405, 0.7769, 0.8475, 0.3043, 0.8948, 0.9970, 0.8226, 0.6219,\n",
      "        0.9022, 0.9044, 0.4779, 0.8448, 0.9477, 0.8894, 0.7841, 0.8989, 0.6283,\n",
      "        0.8004, 0.9521]), negative_sum=tensor([0.2404, 0.4806, 0.4657, 0.2383, 0.1843, 0.1926, 0.3427, 0.1511, 0.2091,\n",
      "        0.7751, 0.2846, 0.0329, 0.0168, 0.3159, 0.7061, 0.6486, 0.3314, 0.7497,\n",
      "        0.3612, 0.1415, 0.2132, 0.2066, 0.0224, 0.4442, 0.2440, 0.0097, 0.3060,\n",
      "        0.2799, 0.2007, 0.4057, 0.0186, 0.0372, 0.0781, 0.1666, 0.2799, 0.0123,\n",
      "        0.0827, 0.4056, 0.0723, 0.4534, 0.0839, 0.1179, 0.7593, 0.0600, 0.2362,\n",
      "        0.1001, 0.0038, 0.6253, 0.5434, 0.1851, 0.3234, 0.2078, 0.0299, 0.0653,\n",
      "        0.0083, 0.0373, 0.3781, 0.3083, 0.1679, 0.1922, 0.0152, 0.4137, 0.0706,\n",
      "        0.2571, 0.3462, 0.4354, 0.2083, 0.6060, 0.0765, 0.0660, 0.0426, 0.0780,\n",
      "        0.9694, 0.3188, 0.4119, 0.6416, 0.0688, 0.6811, 0.1422, 0.0300, 0.7409,\n",
      "        0.0106, 0.1334, 0.3483, 0.2293, 0.2863, 0.2875, 0.1119, 0.0408, 0.0760,\n",
      "        0.4328, 0.3260, 0.7704, 0.1746, 0.0346, 0.4784, 0.0156, 0.1028, 0.0838,\n",
      "        0.1655, 0.1097, 0.3460, 0.0473, 0.2794, 0.3067, 0.0224, 0.7582, 0.0455,\n",
      "        0.0208, 0.0463, 0.0681, 0.4731, 0.8274, 0.1918, 0.0501, 0.1223, 0.2880,\n",
      "        0.4305, 0.0872, 0.0404, 0.1156, 0.0847, 0.4641, 0.3181, 0.6079, 0.0740,\n",
      "        0.2877, 0.2023, 0.0540, 0.4038, 0.3555, 0.1292, 0.0677, 0.0904, 0.2398,\n",
      "        0.1214, 0.1974, 0.2085, 0.1312, 0.0520, 0.1382, 0.2771, 0.0457, 0.0256,\n",
      "        0.3583, 0.1392, 0.1463, 0.0612, 0.1330, 0.4981, 0.0240, 0.0392, 0.1718,\n",
      "        0.0598, 0.7060, 0.2287, 0.4833, 0.0502, 0.3057, 0.2427, 0.1561, 0.2761,\n",
      "        0.6470, 0.0424, 0.4049, 0.3997, 0.8067, 0.0060, 0.0392, 0.0391, 0.3235,\n",
      "        0.0690, 0.0202, 0.0409, 0.2656, 0.1747, 0.7196, 0.4262, 0.2766, 0.6175,\n",
      "        0.1703, 0.5595, 0.2231, 0.1525, 0.6957, 0.1052, 0.0030, 0.1774, 0.3781,\n",
      "        0.0978, 0.0956, 0.5221, 0.1552, 0.0523, 0.1106, 0.2159, 0.1011, 0.3717,\n",
      "        0.1996, 0.0479])\n"
     ]
    },
    {
     "name": "stderr",
     "output_type": "stream",
     "text": [
      "100%|██████████| 1000/1000 [01:02<00:00, 16.07it/s]\n",
      " 19%|█▉        | 6/32 [06:19<27:28, 63.40s/it]"
     ]
    },
    {
     "name": "stdout",
     "output_type": "stream",
     "text": [
      "Stored at patched_MS_vicuna7b_1000\n",
      "proportion of positive labels is 0.49\n",
      "positive_sum=tensor([0.7542, 0.5120, 0.5274, 0.7565, 0.8111, 0.8022, 0.6508, 0.8447, 0.7941,\n",
      "        0.2201, 0.7092, 0.9678, 0.9835, 0.6891, 0.2999, 0.3454, 0.6627, 0.2452,\n",
      "        0.6451, 0.8612, 0.7902, 0.7977, 0.9766, 0.5628, 0.7504, 0.9905, 0.6873,\n",
      "        0.7249, 0.8035, 0.6004, 0.9819, 0.9636, 0.9234, 0.8361, 0.7141, 0.9880,\n",
      "        0.9144, 0.5884, 0.9291, 0.5531, 0.9179, 0.8780, 0.2462, 0.9373, 0.7585,\n",
      "        0.9019, 0.9963, 0.3811, 0.4637, 0.8099, 0.6696, 0.7867, 0.9707, 0.9321,\n",
      "        0.9919, 0.9637, 0.6149, 0.6839, 0.8264, 0.8027, 0.9852, 0.5934, 0.9306,\n",
      "        0.7472, 0.6470, 0.5714, 0.7852, 0.4011, 0.9250, 0.9314, 0.9584, 0.9192,\n",
      "        0.0298, 0.6752, 0.5826, 0.3529, 0.9289, 0.3138, 0.8605, 0.9708, 0.2536,\n",
      "        0.9897, 0.8695, 0.6441, 0.7755, 0.7061, 0.7069, 0.8844, 0.9598, 0.9209,\n",
      "        0.5607, 0.6790, 0.2255, 0.8204, 0.9660, 0.5143, 0.9847, 0.8935, 0.9129,\n",
      "        0.8293, 0.8872, 0.6598, 0.9535, 0.7145, 0.6873, 0.9781, 0.2372, 0.9553,\n",
      "        0.9795, 0.9519, 0.9294, 0.5195, 0.1693, 0.8115, 0.9479, 0.8800, 0.7047,\n",
      "        0.5628, 0.9147, 0.9605, 0.8807, 0.9174, 0.5297, 0.6753, 0.3861, 0.9277,\n",
      "        0.7050, 0.8022, 0.9469, 0.6023, 0.6504, 0.8729, 0.9338, 0.9062, 0.7645,\n",
      "        0.8750, 0.7970, 0.7869, 0.8710, 0.9493, 0.8576, 0.7185, 0.9554, 0.9748,\n",
      "        0.6342, 0.8637, 0.8568, 0.9401, 0.8632, 0.4926, 0.9766, 0.9615, 0.8310,\n",
      "        0.9380, 0.2879, 0.7756, 0.5234, 0.9509, 0.6876, 0.7610, 0.8471, 0.7178,\n",
      "        0.3469, 0.9558, 0.5886, 0.6069, 0.1887, 0.9941, 0.9615, 0.9619, 0.6693,\n",
      "        0.9287, 0.9803, 0.9600, 0.7398, 0.8203, 0.2757, 0.5666, 0.7168, 0.3879,\n",
      "        0.8334, 0.4332, 0.7811, 0.8420, 0.3117, 0.8912, 0.9971, 0.8180, 0.6151,\n",
      "        0.8991, 0.9065, 0.4711, 0.8473, 0.9487, 0.8919, 0.7782, 0.9010, 0.6211,\n",
      "        0.8039, 0.9500]), negative_sum=tensor([0.2458, 0.4880, 0.4726, 0.2435, 0.1889, 0.1978, 0.3492, 0.1553, 0.2059,\n",
      "        0.7799, 0.2908, 0.0322, 0.0165, 0.3109, 0.7001, 0.6546, 0.3373, 0.7548,\n",
      "        0.3549, 0.1388, 0.2098, 0.2023, 0.0234, 0.4372, 0.2496, 0.0095, 0.3127,\n",
      "        0.2751, 0.1965, 0.3996, 0.0181, 0.0364, 0.0766, 0.1639, 0.2859, 0.0120,\n",
      "        0.0856, 0.4116, 0.0709, 0.4469, 0.0821, 0.1220, 0.7538, 0.0627, 0.2415,\n",
      "        0.0981, 0.0037, 0.6189, 0.5363, 0.1901, 0.3304, 0.2133, 0.0293, 0.0679,\n",
      "        0.0081, 0.0363, 0.3851, 0.3161, 0.1736, 0.1973, 0.0148, 0.4066, 0.0694,\n",
      "        0.2528, 0.3530, 0.4286, 0.2148, 0.5989, 0.0750, 0.0686, 0.0416, 0.0808,\n",
      "        0.9702, 0.3248, 0.4174, 0.6471, 0.0711, 0.6862, 0.1395, 0.0292, 0.7464,\n",
      "        0.0103, 0.1305, 0.3559, 0.2245, 0.2939, 0.2931, 0.1156, 0.0402, 0.0791,\n",
      "        0.4393, 0.3210, 0.7745, 0.1796, 0.0340, 0.4857, 0.0153, 0.1065, 0.0871,\n",
      "        0.1707, 0.1128, 0.3402, 0.0465, 0.2855, 0.3127, 0.0219, 0.7628, 0.0447,\n",
      "        0.0205, 0.0481, 0.0706, 0.4805, 0.8307, 0.1885, 0.0521, 0.1200, 0.2953,\n",
      "        0.4372, 0.0853, 0.0395, 0.1193, 0.0826, 0.4703, 0.3247, 0.6139, 0.0723,\n",
      "        0.2950, 0.1978, 0.0531, 0.3977, 0.3496, 0.1271, 0.0662, 0.0938, 0.2355,\n",
      "        0.1250, 0.2030, 0.2131, 0.1290, 0.0507, 0.1424, 0.2815, 0.0446, 0.0252,\n",
      "        0.3658, 0.1363, 0.1432, 0.0599, 0.1368, 0.5074, 0.0234, 0.0385, 0.1690,\n",
      "        0.0620, 0.7121, 0.2244, 0.4766, 0.0491, 0.3124, 0.2390, 0.1529, 0.2822,\n",
      "        0.6531, 0.0442, 0.4114, 0.3931, 0.8113, 0.0059, 0.0385, 0.0381, 0.3307,\n",
      "        0.0713, 0.0197, 0.0400, 0.2602, 0.1797, 0.7243, 0.4334, 0.2832, 0.6121,\n",
      "        0.1666, 0.5668, 0.2189, 0.1580, 0.6883, 0.1088, 0.0029, 0.1820, 0.3849,\n",
      "        0.1009, 0.0935, 0.5289, 0.1527, 0.0513, 0.1081, 0.2218, 0.0990, 0.3789,\n",
      "        0.1961, 0.0500])\n"
     ]
    },
    {
     "name": "stderr",
     "output_type": "stream",
     "text": [
      "100%|██████████| 1000/1000 [01:02<00:00, 16.07it/s]\n",
      " 22%|██▏       | 7/32 [07:22<26:26, 63.46s/it]"
     ]
    },
    {
     "name": "stdout",
     "output_type": "stream",
     "text": [
      "Stored at patched_MS_vicuna7b_1000\n",
      "proportion of positive labels is 0.49\n",
      "positive_sum=tensor([0.7486, 0.5046, 0.5200, 0.7506, 0.8063, 0.7970, 0.6438, 0.8405, 0.7986,\n",
      "        0.2151, 0.7030, 0.9688, 0.9840, 0.6955, 0.3067, 0.3385, 0.6564, 0.2396,\n",
      "        0.6517, 0.8647, 0.7950, 0.8023, 0.9756, 0.5703, 0.7448, 0.9908, 0.6806,\n",
      "        0.7309, 0.8084, 0.6069, 0.9824, 0.9646, 0.9255, 0.8401, 0.7079, 0.9883,\n",
      "        0.9119, 0.5814, 0.9311, 0.5602, 0.9201, 0.8745, 0.2514, 0.9351, 0.7532,\n",
      "        0.9044, 0.9964, 0.3880, 0.4707, 0.8048, 0.6625, 0.7813, 0.9716, 0.9298,\n",
      "        0.9921, 0.9649, 0.6078, 0.6767, 0.8213, 0.7977, 0.9856, 0.6010, 0.9326,\n",
      "        0.7526, 0.6397, 0.5787, 0.7795, 0.4087, 0.9271, 0.9292, 0.9596, 0.9168,\n",
      "        0.0290, 0.6688, 0.5762, 0.3466, 0.9267, 0.3078, 0.8641, 0.9716, 0.2476,\n",
      "        0.9900, 0.8728, 0.6364, 0.7805, 0.6997, 0.7011, 0.8808, 0.9609, 0.9184,\n",
      "        0.5535, 0.6851, 0.2203, 0.8156, 0.9669, 0.5065, 0.9852, 0.8901, 0.9103,\n",
      "        0.8248, 0.8842, 0.6666, 0.9548, 0.7083, 0.6802, 0.9787, 0.2317, 0.9566,\n",
      "        0.9801, 0.9503, 0.9270, 0.5118, 0.1650, 0.8157, 0.9460, 0.8837, 0.6975,\n",
      "        0.5558, 0.9169, 0.9616, 0.8775, 0.9196, 0.5225, 0.6693, 0.3786, 0.9296,\n",
      "        0.6984, 0.8073, 0.9484, 0.6096, 0.6570, 0.8761, 0.9357, 0.9033, 0.7699,\n",
      "        0.8716, 0.7915, 0.7821, 0.8739, 0.9507, 0.8536, 0.7129, 0.9567, 0.9756,\n",
      "        0.6265, 0.8671, 0.8606, 0.9418, 0.8594, 0.4838, 0.9773, 0.9626, 0.8350,\n",
      "        0.9360, 0.2817, 0.7807, 0.5310, 0.9522, 0.6810, 0.7663, 0.8506, 0.7116,\n",
      "        0.3401, 0.9543, 0.5809, 0.6146, 0.1844, 0.9943, 0.9626, 0.9630, 0.6622,\n",
      "        0.9267, 0.9809, 0.9611, 0.7457, 0.8155, 0.2704, 0.5587, 0.7104, 0.3952,\n",
      "        0.8374, 0.4255, 0.7859, 0.8376, 0.3190, 0.8880, 0.9972, 0.8132, 0.6080,\n",
      "        0.8961, 0.9089, 0.4639, 0.8510, 0.9502, 0.8948, 0.7726, 0.9036, 0.6135,\n",
      "        0.8091, 0.9484]), negative_sum=tensor([0.2514, 0.4954, 0.4800, 0.2494, 0.1937, 0.2030, 0.3562, 0.1595, 0.2014,\n",
      "        0.7849, 0.2970, 0.0312, 0.0160, 0.3045, 0.6933, 0.6615, 0.3436, 0.7604,\n",
      "        0.3483, 0.1353, 0.2050, 0.1977, 0.0244, 0.4297, 0.2552, 0.0092, 0.3194,\n",
      "        0.2691, 0.1916, 0.3931, 0.0176, 0.0354, 0.0745, 0.1599, 0.2921, 0.0117,\n",
      "        0.0881, 0.4186, 0.0689, 0.4398, 0.0799, 0.1255, 0.7486, 0.0649, 0.2468,\n",
      "        0.0956, 0.0036, 0.6120, 0.5293, 0.1952, 0.3375, 0.2187, 0.0284, 0.0702,\n",
      "        0.0079, 0.0351, 0.3922, 0.3233, 0.1787, 0.2023, 0.0144, 0.3990, 0.0674,\n",
      "        0.2474, 0.3603, 0.4213, 0.2205, 0.5913, 0.0729, 0.0708, 0.0404, 0.0832,\n",
      "        0.9710, 0.3312, 0.4238, 0.6534, 0.0733, 0.6922, 0.1359, 0.0284, 0.7524,\n",
      "        0.0100, 0.1272, 0.3636, 0.2195, 0.3003, 0.2989, 0.1192, 0.0391, 0.0816,\n",
      "        0.4465, 0.3149, 0.7797, 0.1844, 0.0331, 0.4935, 0.0148, 0.1099, 0.0897,\n",
      "        0.1752, 0.1158, 0.3334, 0.0452, 0.2917, 0.3198, 0.0213, 0.7683, 0.0434,\n",
      "        0.0199, 0.0497, 0.0730, 0.4882, 0.8350, 0.1843, 0.0540, 0.1163, 0.3025,\n",
      "        0.4442, 0.0831, 0.0384, 0.1225, 0.0804, 0.4775, 0.3307, 0.6214, 0.0704,\n",
      "        0.3016, 0.1927, 0.0516, 0.3904, 0.3430, 0.1239, 0.0643, 0.0967, 0.2301,\n",
      "        0.1284, 0.2085, 0.2179, 0.1261, 0.0493, 0.1464, 0.2871, 0.0433, 0.0244,\n",
      "        0.3735, 0.1329, 0.1394, 0.0582, 0.1406, 0.5162, 0.0227, 0.0374, 0.1650,\n",
      "        0.0640, 0.7183, 0.2193, 0.4690, 0.0478, 0.3190, 0.2337, 0.1494, 0.2884,\n",
      "        0.6599, 0.0457, 0.4191, 0.3854, 0.8156, 0.0057, 0.0374, 0.0370, 0.3378,\n",
      "        0.0733, 0.0191, 0.0389, 0.2543, 0.1845, 0.7296, 0.4413, 0.2896, 0.6048,\n",
      "        0.1626, 0.5745, 0.2141, 0.1624, 0.6810, 0.1120, 0.0028, 0.1868, 0.3920,\n",
      "        0.1039, 0.0911, 0.5361, 0.1490, 0.0498, 0.1052, 0.2274, 0.0964, 0.3865,\n",
      "        0.1909, 0.0516])\n"
     ]
    },
    {
     "name": "stderr",
     "output_type": "stream",
     "text": [
      "100%|██████████| 1000/1000 [01:02<00:00, 15.97it/s]\n",
      " 25%|██▌       | 8/32 [08:26<25:25, 63.56s/it]"
     ]
    },
    {
     "name": "stdout",
     "output_type": "stream",
     "text": [
      "Stored at patched_MS_vicuna7b_1000\n",
      "proportion of positive labels is 0.49\n",
      "positive_sum=tensor([0.7387, 0.4923, 0.5071, 0.7410, 0.7979, 0.7870, 0.6308, 0.8322, 0.8062,\n",
      "        0.2062, 0.6931, 0.9703, 0.9848, 0.7070, 0.3185, 0.3264, 0.6456, 0.2303,\n",
      "        0.6629, 0.8703, 0.8027, 0.8096, 0.9740, 0.5834, 0.7345, 0.9913, 0.6684,\n",
      "        0.7408, 0.8171, 0.6179, 0.9833, 0.9663, 0.9288, 0.8460, 0.6962, 0.9890,\n",
      "        0.9076, 0.5682, 0.9345, 0.5728, 0.9242, 0.8675, 0.2613, 0.9310, 0.7438,\n",
      "        0.9085, 0.9966, 0.4012, 0.4824, 0.7954, 0.6498, 0.7724, 0.9732, 0.9256,\n",
      "        0.9925, 0.9670, 0.5945, 0.6640, 0.8122, 0.7888, 0.9864, 0.6136, 0.9360,\n",
      "        0.7616, 0.6261, 0.5915, 0.7693, 0.4241, 0.9306, 0.9253, 0.9613, 0.9123,\n",
      "        0.0275, 0.6592, 0.5664, 0.3357, 0.9227, 0.2976, 0.8702, 0.9731, 0.2373,\n",
      "        0.9905, 0.8781, 0.6223, 0.7889, 0.6877, 0.6908, 0.8744, 0.9628, 0.9138,\n",
      "        0.5406, 0.6954, 0.2116, 0.8068, 0.9685, 0.4938, 0.9860, 0.8836, 0.9058,\n",
      "        0.8165, 0.8788, 0.6794, 0.9570, 0.6956, 0.6682, 0.9797, 0.2227, 0.9588,\n",
      "        0.9812, 0.9472, 0.9229, 0.4970, 0.1582, 0.8224, 0.9424, 0.8898, 0.6843,\n",
      "        0.5441, 0.9206, 0.9634, 0.8717, 0.9232, 0.5107, 0.6593, 0.3651, 0.9327,\n",
      "        0.6869, 0.8164, 0.9509, 0.6226, 0.6684, 0.8815, 0.9390, 0.8979, 0.7786,\n",
      "        0.8651, 0.7808, 0.7733, 0.8785, 0.9532, 0.8465, 0.7038, 0.9586, 0.9768,\n",
      "        0.6120, 0.8728, 0.8671, 0.9445, 0.8525, 0.4671, 0.9784, 0.9646, 0.8419,\n",
      "        0.9326, 0.2711, 0.7896, 0.5439, 0.9545, 0.6689, 0.7750, 0.8564, 0.7007,\n",
      "        0.3279, 0.9514, 0.5673, 0.6279, 0.1766, 0.9946, 0.9642, 0.9649, 0.6484,\n",
      "        0.9228, 0.9819, 0.9630, 0.7554, 0.8071, 0.2618, 0.5440, 0.6996, 0.4088,\n",
      "        0.8437, 0.4118, 0.7942, 0.8303, 0.3326, 0.8814, 0.9973, 0.8048, 0.5961,\n",
      "        0.8900, 0.9127, 0.4513, 0.8569, 0.9525, 0.8995, 0.7626, 0.9079, 0.5992,\n",
      "        0.8181, 0.9455]), negative_sum=tensor([0.2613, 0.5077, 0.4929, 0.2590, 0.2021, 0.2130, 0.3692, 0.1678, 0.1938,\n",
      "        0.7938, 0.3069, 0.0297, 0.0152, 0.2930, 0.6815, 0.6736, 0.3544, 0.7697,\n",
      "        0.3371, 0.1297, 0.1973, 0.1904, 0.0260, 0.4166, 0.2655, 0.0087, 0.3316,\n",
      "        0.2592, 0.1829, 0.3821, 0.0167, 0.0337, 0.0712, 0.1540, 0.3038, 0.0110,\n",
      "        0.0924, 0.4318, 0.0655, 0.4272, 0.0758, 0.1325, 0.7387, 0.0690, 0.2562,\n",
      "        0.0915, 0.0034, 0.5988, 0.5176, 0.2046, 0.3502, 0.2276, 0.0268, 0.0744,\n",
      "        0.0075, 0.0330, 0.4055, 0.3360, 0.1878, 0.2112, 0.0136, 0.3864, 0.0640,\n",
      "        0.2384, 0.3739, 0.4085, 0.2307, 0.5759, 0.0694, 0.0747, 0.0387, 0.0877,\n",
      "        0.9725, 0.3408, 0.4336, 0.6643, 0.0773, 0.7024, 0.1298, 0.0269, 0.7627,\n",
      "        0.0095, 0.1219, 0.3777, 0.2111, 0.3123, 0.3092, 0.1256, 0.0372, 0.0862,\n",
      "        0.4594, 0.3046, 0.7884, 0.1932, 0.0315, 0.5062, 0.0140, 0.1164, 0.0942,\n",
      "        0.1835, 0.1212, 0.3206, 0.0430, 0.3044, 0.3318, 0.0203, 0.7773, 0.0412,\n",
      "        0.0188, 0.0528, 0.0771, 0.5030, 0.8418, 0.1776, 0.0576, 0.1102, 0.3157,\n",
      "        0.4559, 0.0794, 0.0366, 0.1283, 0.0768, 0.4893, 0.3407, 0.6349, 0.0673,\n",
      "        0.3131, 0.1836, 0.0491, 0.3774, 0.3316, 0.1185, 0.0610, 0.1021, 0.2214,\n",
      "        0.1349, 0.2192, 0.2267, 0.1215, 0.0468, 0.1535, 0.2962, 0.0414, 0.0232,\n",
      "        0.3880, 0.1272, 0.1329, 0.0555, 0.1475, 0.5329, 0.0216, 0.0354, 0.1581,\n",
      "        0.0674, 0.7289, 0.2104, 0.4561, 0.0455, 0.3311, 0.2250, 0.1436, 0.2993,\n",
      "        0.6721, 0.0486, 0.4327, 0.3721, 0.8234, 0.0054, 0.0358, 0.0351, 0.3516,\n",
      "        0.0772, 0.0181, 0.0370, 0.2446, 0.1929, 0.7382, 0.4560, 0.3004, 0.5912,\n",
      "        0.1563, 0.5882, 0.2058, 0.1697, 0.6674, 0.1186, 0.0027, 0.1952, 0.4039,\n",
      "        0.1100, 0.0873, 0.5487, 0.1431, 0.0475, 0.1005, 0.2374, 0.0921, 0.4008,\n",
      "        0.1819, 0.0545])\n"
     ]
    },
    {
     "name": "stderr",
     "output_type": "stream",
     "text": [
      "100%|██████████| 1000/1000 [01:02<00:00, 16.03it/s]\n",
      " 28%|██▊       | 9/32 [09:30<24:23, 63.63s/it]"
     ]
    },
    {
     "name": "stdout",
     "output_type": "stream",
     "text": [
      "Stored at patched_MS_vicuna7b_1000\n",
      "proportion of positive labels is 0.49\n",
      "positive_sum=tensor([0.7354, 0.4882, 0.5029, 0.7374, 0.7950, 0.7841, 0.6270, 0.8297, 0.8090,\n",
      "        0.2032, 0.6896, 0.9708, 0.9851, 0.7107, 0.3224, 0.3226, 0.6418, 0.2273,\n",
      "        0.6668, 0.8723, 0.8055, 0.8120, 0.9735, 0.5876, 0.7314, 0.9915, 0.6646,\n",
      "        0.7442, 0.8199, 0.6218, 0.9836, 0.9669, 0.9301, 0.8483, 0.6927, 0.9891,\n",
      "        0.9061, 0.5642, 0.9356, 0.5770, 0.9255, 0.8654, 0.2645, 0.9298, 0.7406,\n",
      "        0.9100, 0.9966, 0.4051, 0.4867, 0.7925, 0.6460, 0.7694, 0.9736, 0.9244,\n",
      "        0.9927, 0.9677, 0.5903, 0.6597, 0.8094, 0.7859, 0.9867, 0.6178, 0.9370,\n",
      "        0.7648, 0.6219, 0.5958, 0.7660, 0.4282, 0.9318, 0.9241, 0.9619, 0.9108,\n",
      "        0.0271, 0.6553, 0.5623, 0.3319, 0.9215, 0.2941, 0.8721, 0.9736, 0.2340,\n",
      "        0.9907, 0.8800, 0.6180, 0.7917, 0.6841, 0.6874, 0.8724, 0.9635, 0.9123,\n",
      "        0.5364, 0.6989, 0.2087, 0.8040, 0.9691, 0.4894, 0.9862, 0.8819, 0.9043,\n",
      "        0.8139, 0.8771, 0.6832, 0.9577, 0.6921, 0.6641, 0.9801, 0.2196, 0.9595,\n",
      "        0.9815, 0.9464, 0.9216, 0.4927, 0.1557, 0.8250, 0.9414, 0.8918, 0.6805,\n",
      "        0.5398, 0.9219, 0.9640, 0.8699, 0.9245, 0.5064, 0.6557, 0.3609, 0.9338,\n",
      "        0.6834, 0.8191, 0.9517, 0.6266, 0.6722, 0.8833, 0.9401, 0.8963, 0.7817,\n",
      "        0.8631, 0.7778, 0.7705, 0.8802, 0.9540, 0.8441, 0.7002, 0.9593, 0.9772,\n",
      "        0.6077, 0.8745, 0.8693, 0.9454, 0.8504, 0.4628, 0.9788, 0.9652, 0.8443,\n",
      "        0.9314, 0.2674, 0.7926, 0.5481, 0.9553, 0.6650, 0.7780, 0.8585, 0.6973,\n",
      "        0.3241, 0.9506, 0.5631, 0.6323, 0.1743, 0.9947, 0.9648, 0.9655, 0.6446,\n",
      "        0.9217, 0.9822, 0.9636, 0.7585, 0.8044, 0.2587, 0.5394, 0.6960, 0.4132,\n",
      "        0.8460, 0.4072, 0.7970, 0.8277, 0.3367, 0.8797, 0.9974, 0.8020, 0.5919,\n",
      "        0.8883, 0.9142, 0.4472, 0.8590, 0.9533, 0.9011, 0.7596, 0.9094, 0.5951,\n",
      "        0.8209, 0.9445]), negative_sum=tensor([0.2646, 0.5118, 0.4971, 0.2626, 0.2050, 0.2159, 0.3730, 0.1703, 0.1910,\n",
      "        0.7968, 0.3104, 0.0292, 0.0149, 0.2893, 0.6776, 0.6774, 0.3582, 0.7727,\n",
      "        0.3332, 0.1277, 0.1945, 0.1880, 0.0265, 0.4124, 0.2686, 0.0085, 0.3354,\n",
      "        0.2558, 0.1801, 0.3782, 0.0164, 0.0331, 0.0699, 0.1517, 0.3073, 0.0109,\n",
      "        0.0939, 0.4358, 0.0644, 0.4230, 0.0745, 0.1346, 0.7355, 0.0702, 0.2594,\n",
      "        0.0900, 0.0034, 0.5949, 0.5133, 0.2075, 0.3540, 0.2306, 0.0264, 0.0756,\n",
      "        0.0073, 0.0323, 0.4097, 0.3403, 0.1906, 0.2141, 0.0133, 0.3822, 0.0630,\n",
      "        0.2352, 0.3781, 0.4042, 0.2340, 0.5718, 0.0682, 0.0759, 0.0381, 0.0892,\n",
      "        0.9729, 0.3447, 0.4377, 0.6681, 0.0785, 0.7059, 0.1279, 0.0264, 0.7660,\n",
      "        0.0093, 0.1200, 0.3820, 0.2083, 0.3159, 0.3126, 0.1276, 0.0365, 0.0877,\n",
      "        0.4636, 0.3011, 0.7913, 0.1960, 0.0309, 0.5106, 0.0138, 0.1181, 0.0957,\n",
      "        0.1861, 0.1229, 0.3168, 0.0423, 0.3079, 0.3359, 0.0199, 0.7804, 0.0405,\n",
      "        0.0185, 0.0536, 0.0784, 0.5073, 0.8443, 0.1750, 0.0586, 0.1082, 0.3195,\n",
      "        0.4602, 0.0781, 0.0360, 0.1301, 0.0755, 0.4936, 0.3443, 0.6391, 0.0662,\n",
      "        0.3166, 0.1809, 0.0483, 0.3734, 0.3278, 0.1167, 0.0599, 0.1037, 0.2183,\n",
      "        0.1369, 0.2222, 0.2295, 0.1198, 0.0460, 0.1559, 0.2998, 0.0407, 0.0228,\n",
      "        0.3923, 0.1255, 0.1307, 0.0546, 0.1496, 0.5372, 0.0212, 0.0348, 0.1557,\n",
      "        0.0686, 0.7326, 0.2074, 0.4519, 0.0447, 0.3350, 0.2220, 0.1415, 0.3027,\n",
      "        0.6759, 0.0494, 0.4369, 0.3677, 0.8257, 0.0053, 0.0352, 0.0345, 0.3554,\n",
      "        0.0783, 0.0178, 0.0364, 0.2415, 0.1956, 0.7413, 0.4606, 0.3040, 0.5868,\n",
      "        0.1540, 0.5928, 0.2030, 0.1723, 0.6633, 0.1203, 0.0026, 0.1980, 0.4081,\n",
      "        0.1117, 0.0858, 0.5528, 0.1410, 0.0467, 0.0989, 0.2404, 0.0906, 0.4049,\n",
      "        0.1791, 0.0555])\n"
     ]
    },
    {
     "name": "stderr",
     "output_type": "stream",
     "text": [
      "100%|██████████| 1000/1000 [01:02<00:00, 16.13it/s]\n",
      " 31%|███▏      | 10/32 [10:33<23:18, 63.57s/it]"
     ]
    },
    {
     "name": "stdout",
     "output_type": "stream",
     "text": [
      "Stored at patched_MS_vicuna7b_1000\n",
      "proportion of positive labels is 0.49\n",
      "positive_sum=tensor([0.7245, 0.4740, 0.4898, 0.7282, 0.7865, 0.7756, 0.6131, 0.8207, 0.8188,\n",
      "        0.1933, 0.6782, 0.9726, 0.9860, 0.7227, 0.3359, 0.3111, 0.6300, 0.2170,\n",
      "        0.6808, 0.8790, 0.8148, 0.8210, 0.9725, 0.6007, 0.7200, 0.9921, 0.6519,\n",
      "        0.7560, 0.8303, 0.6358, 0.9848, 0.9691, 0.9349, 0.8565, 0.6787, 0.9898,\n",
      "        0.9013, 0.5492, 0.9400, 0.5927, 0.9301, 0.8585, 0.2746, 0.9261, 0.7318,\n",
      "        0.9150, 0.9968, 0.4196, 0.5001, 0.7812, 0.6318, 0.7605, 0.9756, 0.9209,\n",
      "        0.9932, 0.9702, 0.5751, 0.6469, 0.7998, 0.7774, 0.9877, 0.6332, 0.9406,\n",
      "        0.7768, 0.6055, 0.6122, 0.7549, 0.4471, 0.9360, 0.9204, 0.9644, 0.9065,\n",
      "        0.0249, 0.6426, 0.5533, 0.3190, 0.9176, 0.2800, 0.8785, 0.9755, 0.2233,\n",
      "        0.9914, 0.8871, 0.6019, 0.8022, 0.6691, 0.6773, 0.8672, 0.9659, 0.9085,\n",
      "        0.5211, 0.7119, 0.1989, 0.7951, 0.9713, 0.4716, 0.9872, 0.8741, 0.8999,\n",
      "        0.8049, 0.8721, 0.6967, 0.9604, 0.6790, 0.6485, 0.9815, 0.2084, 0.9621,\n",
      "        0.9826, 0.9439, 0.9183, 0.4761, 0.1476, 0.8336, 0.9382, 0.8986, 0.6643,\n",
      "        0.5271, 0.9266, 0.9665, 0.8644, 0.9295, 0.4917, 0.6448, 0.3463, 0.9379,\n",
      "        0.6697, 0.8300, 0.9548, 0.6433, 0.6850, 0.8899, 0.9440, 0.8904, 0.7925,\n",
      "        0.8576, 0.7689, 0.7625, 0.8869, 0.9569, 0.8361, 0.6922, 0.9621, 0.9789,\n",
      "        0.5917, 0.8817, 0.8772, 0.9489, 0.8445, 0.4428, 0.9802, 0.9674, 0.8528,\n",
      "        0.9292, 0.2548, 0.8027, 0.5661, 0.9583, 0.6532, 0.7899, 0.8662, 0.6850,\n",
      "        0.3102, 0.9479, 0.5484, 0.6474, 0.1661, 0.9951, 0.9668, 0.9679, 0.6288,\n",
      "        0.9180, 0.9835, 0.9661, 0.7730, 0.7963, 0.2481, 0.5224, 0.6843, 0.4275,\n",
      "        0.8547, 0.3909, 0.8086, 0.8202, 0.3521, 0.8727, 0.9976, 0.7940, 0.5766,\n",
      "        0.8829, 0.9191, 0.4324, 0.8663, 0.9564, 0.9072, 0.7461, 0.9150, 0.5759,\n",
      "        0.8314, 0.9411]), negative_sum=tensor([0.2755, 0.5260, 0.5102, 0.2718, 0.2135, 0.2244, 0.3869, 0.1793, 0.1812,\n",
      "        0.8067, 0.3218, 0.0274, 0.0140, 0.2773, 0.6641, 0.6889, 0.3700, 0.7830,\n",
      "        0.3192, 0.1210, 0.1852, 0.1790, 0.0275, 0.3993, 0.2800, 0.0079, 0.3481,\n",
      "        0.2440, 0.1697, 0.3642, 0.0152, 0.0309, 0.0651, 0.1435, 0.3213, 0.0102,\n",
      "        0.0987, 0.4508, 0.0600, 0.4073, 0.0699, 0.1415, 0.7254, 0.0739, 0.2682,\n",
      "        0.0850, 0.0032, 0.5804, 0.4999, 0.2188, 0.3682, 0.2395, 0.0244, 0.0791,\n",
      "        0.0068, 0.0298, 0.4249, 0.3531, 0.2002, 0.2226, 0.0123, 0.3668, 0.0594,\n",
      "        0.2232, 0.3945, 0.3878, 0.2451, 0.5529, 0.0640, 0.0796, 0.0356, 0.0935,\n",
      "        0.9751, 0.3574, 0.4467, 0.6810, 0.0824, 0.7200, 0.1215, 0.0245, 0.7767,\n",
      "        0.0086, 0.1129, 0.3981, 0.1978, 0.3309, 0.3227, 0.1328, 0.0341, 0.0915,\n",
      "        0.4789, 0.2881, 0.8011, 0.2049, 0.0287, 0.5284, 0.0128, 0.1259, 0.1001,\n",
      "        0.1951, 0.1279, 0.3033, 0.0396, 0.3210, 0.3515, 0.0185, 0.7916, 0.0379,\n",
      "        0.0174, 0.0561, 0.0817, 0.5239, 0.8524, 0.1664, 0.0618, 0.1014, 0.3357,\n",
      "        0.4729, 0.0734, 0.0335, 0.1356, 0.0705, 0.5083, 0.3552, 0.6537, 0.0621,\n",
      "        0.3303, 0.1700, 0.0452, 0.3567, 0.3150, 0.1101, 0.0560, 0.1096, 0.2075,\n",
      "        0.1424, 0.2311, 0.2375, 0.1131, 0.0431, 0.1639, 0.3078, 0.0379, 0.0211,\n",
      "        0.4083, 0.1183, 0.1228, 0.0511, 0.1555, 0.5572, 0.0198, 0.0326, 0.1472,\n",
      "        0.0708, 0.7452, 0.1973, 0.4339, 0.0417, 0.3468, 0.2101, 0.1338, 0.3150,\n",
      "        0.6898, 0.0521, 0.4516, 0.3526, 0.8339, 0.0049, 0.0332, 0.0321, 0.3712,\n",
      "        0.0820, 0.0165, 0.0339, 0.2270, 0.2037, 0.7519, 0.4776, 0.3157, 0.5725,\n",
      "        0.1453, 0.6091, 0.1914, 0.1798, 0.6479, 0.1273, 0.0024, 0.2060, 0.4234,\n",
      "        0.1171, 0.0809, 0.5676, 0.1337, 0.0436, 0.0928, 0.2539, 0.0850, 0.4241,\n",
      "        0.1686, 0.0589])\n"
     ]
    },
    {
     "name": "stderr",
     "output_type": "stream",
     "text": [
      "100%|██████████| 1000/1000 [01:02<00:00, 15.98it/s]\n",
      " 34%|███▍      | 11/32 [11:37<22:17, 63.68s/it]"
     ]
    },
    {
     "name": "stdout",
     "output_type": "stream",
     "text": [
      "Stored at patched_MS_vicuna7b_1000\n",
      "proportion of positive labels is 0.49\n",
      "positive_sum=tensor([0.7206, 0.4694, 0.4850, 0.7239, 0.7831, 0.7721, 0.6084, 0.8178, 0.8218,\n",
      "        0.1902, 0.6744, 0.9732, 0.9863, 0.7270, 0.3402, 0.3068, 0.6258, 0.2137,\n",
      "        0.6852, 0.8812, 0.8176, 0.8237, 0.9719, 0.6056, 0.7163, 0.9923, 0.6473,\n",
      "        0.7596, 0.8333, 0.6400, 0.9851, 0.9697, 0.9362, 0.8590, 0.6742, 0.9900,\n",
      "        0.8996, 0.5446, 0.9411, 0.5975, 0.9314, 0.8560, 0.2784, 0.9246, 0.7279,\n",
      "        0.9164, 0.9969, 0.4245, 0.5048, 0.7778, 0.6274, 0.7569, 0.9762, 0.9194,\n",
      "        0.9933, 0.9709, 0.5702, 0.6420, 0.7966, 0.7740, 0.9879, 0.6377, 0.9418,\n",
      "        0.7803, 0.6006, 0.6168, 0.7511, 0.4525, 0.9372, 0.9188, 0.9651, 0.9048,\n",
      "        0.0244, 0.6385, 0.5491, 0.3152, 0.9162, 0.2761, 0.8807, 0.9760, 0.2195,\n",
      "        0.9916, 0.8890, 0.5969, 0.8052, 0.6648, 0.6735, 0.8648, 0.9665, 0.9069,\n",
      "        0.5162, 0.7155, 0.1957, 0.7916, 0.9719, 0.4664, 0.9875, 0.8717, 0.8982,\n",
      "        0.8019, 0.8701, 0.7013, 0.9612, 0.6745, 0.6436, 0.9819, 0.2050, 0.9629,\n",
      "        0.9829, 0.9428, 0.9168, 0.4712, 0.1451, 0.8362, 0.9369, 0.9009, 0.6596,\n",
      "        0.5224, 0.9280, 0.9671, 0.8623, 0.9308, 0.4867, 0.6407, 0.3418, 0.9390,\n",
      "        0.6656, 0.8330, 0.9557, 0.6482, 0.6892, 0.8919, 0.9451, 0.8884, 0.7957,\n",
      "        0.8551, 0.7652, 0.7594, 0.8887, 0.9577, 0.8335, 0.6887, 0.9628, 0.9793,\n",
      "        0.5865, 0.8837, 0.8793, 0.9499, 0.8419, 0.4372, 0.9806, 0.9680, 0.8555,\n",
      "        0.9279, 0.2511, 0.8058, 0.5710, 0.9591, 0.6488, 0.7933, 0.8683, 0.6809,\n",
      "        0.3060, 0.9469, 0.5432, 0.6520, 0.1634, 0.9952, 0.9674, 0.9685, 0.6239,\n",
      "        0.9167, 0.9838, 0.9668, 0.7764, 0.7930, 0.2447, 0.5170, 0.6801, 0.4325,\n",
      "        0.8571, 0.3860, 0.8116, 0.8172, 0.3570, 0.8703, 0.9976, 0.7909, 0.5717,\n",
      "        0.8807, 0.9205, 0.4278, 0.8684, 0.9573, 0.9089, 0.7424, 0.9166, 0.5710,\n",
      "        0.8345, 0.9400]), negative_sum=tensor([0.2794, 0.5306, 0.5150, 0.2761, 0.2169, 0.2279, 0.3916, 0.1822, 0.1782,\n",
      "        0.8098, 0.3256, 0.0268, 0.0137, 0.2730, 0.6598, 0.6932, 0.3742, 0.7863,\n",
      "        0.3148, 0.1188, 0.1824, 0.1763, 0.0281, 0.3944, 0.2837, 0.0077, 0.3527,\n",
      "        0.2404, 0.1667, 0.3600, 0.0149, 0.0303, 0.0638, 0.1410, 0.3258, 0.0100,\n",
      "        0.1004, 0.4554, 0.0589, 0.4025, 0.0686, 0.1440, 0.7216, 0.0754, 0.2721,\n",
      "        0.0836, 0.0031, 0.5755, 0.4952, 0.2222, 0.3726, 0.2431, 0.0238, 0.0806,\n",
      "        0.0067, 0.0291, 0.4298, 0.3580, 0.2034, 0.2260, 0.0121, 0.3623, 0.0582,\n",
      "        0.2197, 0.3994, 0.3832, 0.2489, 0.5475, 0.0628, 0.0812, 0.0349, 0.0952,\n",
      "        0.9756, 0.3615, 0.4509, 0.6848, 0.0838, 0.7239, 0.1193, 0.0240, 0.7805,\n",
      "        0.0084, 0.1110, 0.4031, 0.1948, 0.3352, 0.3265, 0.1352, 0.0335, 0.0931,\n",
      "        0.4838, 0.2845, 0.8043, 0.2084, 0.0281, 0.5336, 0.0125, 0.1283, 0.1018,\n",
      "        0.1981, 0.1299, 0.2987, 0.0388, 0.3255, 0.3564, 0.0181, 0.7950, 0.0371,\n",
      "        0.0171, 0.0572, 0.0832, 0.5288, 0.8549, 0.1638, 0.0631, 0.0991, 0.3404,\n",
      "        0.4776, 0.0720, 0.0329, 0.1377, 0.0692, 0.5133, 0.3593, 0.6582, 0.0610,\n",
      "        0.3344, 0.1670, 0.0443, 0.3518, 0.3108, 0.1081, 0.0549, 0.1116, 0.2043,\n",
      "        0.1449, 0.2348, 0.2406, 0.1113, 0.0423, 0.1665, 0.3113, 0.0372, 0.0207,\n",
      "        0.4135, 0.1163, 0.1207, 0.0501, 0.1581, 0.5628, 0.0194, 0.0320, 0.1445,\n",
      "        0.0721, 0.7489, 0.1942, 0.4290, 0.0409, 0.3512, 0.2067, 0.1317, 0.3191,\n",
      "        0.6940, 0.0531, 0.4568, 0.3480, 0.8366, 0.0048, 0.0326, 0.0315, 0.3761,\n",
      "        0.0833, 0.0162, 0.0332, 0.2236, 0.2070, 0.7553, 0.4830, 0.3199, 0.5675,\n",
      "        0.1429, 0.6140, 0.1884, 0.1828, 0.6430, 0.1297, 0.0024, 0.2091, 0.4283,\n",
      "        0.1193, 0.0795, 0.5722, 0.1316, 0.0427, 0.0911, 0.2576, 0.0834, 0.4290,\n",
      "        0.1655, 0.0600])\n"
     ]
    },
    {
     "name": "stderr",
     "output_type": "stream",
     "text": [
      "100%|██████████| 1000/1000 [01:02<00:00, 15.91it/s]\n",
      " 38%|███▊      | 12/32 [12:41<21:15, 63.75s/it]"
     ]
    },
    {
     "name": "stdout",
     "output_type": "stream",
     "text": [
      "Stored at patched_MS_vicuna7b_1000\n",
      "proportion of positive labels is 0.49\n",
      "positive_sum=tensor([0.7220, 0.4686, 0.4862, 0.7263, 0.7836, 0.7737, 0.6117, 0.8193, 0.8218,\n",
      "        0.1899, 0.6757, 0.9733, 0.9863, 0.7260, 0.3402, 0.3056, 0.6271, 0.2132,\n",
      "        0.6850, 0.8821, 0.8181, 0.8239, 0.9722, 0.6062, 0.7180, 0.9922, 0.6486,\n",
      "        0.7604, 0.8337, 0.6398, 0.9851, 0.9697, 0.9357, 0.8588, 0.6767, 0.9900,\n",
      "        0.9000, 0.5463, 0.9411, 0.5970, 0.9315, 0.8568, 0.2776, 0.9254, 0.7281,\n",
      "        0.9162, 0.9969, 0.4229, 0.5057, 0.7782, 0.6294, 0.7574, 0.9761, 0.9200,\n",
      "        0.9933, 0.9710, 0.5719, 0.6419, 0.7973, 0.7746, 0.9880, 0.6378, 0.9416,\n",
      "        0.7812, 0.6016, 0.6171, 0.7518, 0.4509, 0.9376, 0.9192, 0.9652, 0.9053,\n",
      "        0.0243, 0.6377, 0.5515, 0.3162, 0.9165, 0.2763, 0.8812, 0.9761, 0.2190,\n",
      "        0.9915, 0.8892, 0.5976, 0.8052, 0.6649, 0.6742, 0.8659, 0.9662, 0.9077,\n",
      "        0.5156, 0.7156, 0.1957, 0.7937, 0.9718, 0.4655, 0.9874, 0.8726, 0.8986,\n",
      "        0.8031, 0.8713, 0.7010, 0.9611, 0.6778, 0.6436, 0.9819, 0.2043, 0.9630,\n",
      "        0.9827, 0.9431, 0.9171, 0.4731, 0.1448, 0.8362, 0.9374, 0.9012, 0.6598,\n",
      "        0.5226, 0.9285, 0.9672, 0.8632, 0.9308, 0.4855, 0.6410, 0.3432, 0.9394,\n",
      "        0.6662, 0.8338, 0.9556, 0.6466, 0.6885, 0.8923, 0.9454, 0.8890, 0.7959,\n",
      "        0.8562, 0.7671, 0.7600, 0.8888, 0.9578, 0.8348, 0.6906, 0.9629, 0.9793,\n",
      "        0.5878, 0.8845, 0.8794, 0.9500, 0.8434, 0.4397, 0.9806, 0.9679, 0.8556,\n",
      "        0.9285, 0.2498, 0.8057, 0.5717, 0.9589, 0.6492, 0.7941, 0.8685, 0.6829,\n",
      "        0.3055, 0.9476, 0.5450, 0.6521, 0.1633, 0.9952, 0.9674, 0.9687, 0.6282,\n",
      "        0.9176, 0.9837, 0.9669, 0.7764, 0.7929, 0.2444, 0.5183, 0.6802, 0.4314,\n",
      "        0.8573, 0.3854, 0.8119, 0.8171, 0.3560, 0.8718, 0.9976, 0.7916, 0.5719,\n",
      "        0.8827, 0.9209, 0.4289, 0.8690, 0.9573, 0.9090, 0.7433, 0.9167, 0.5730,\n",
      "        0.8348, 0.9403]), negative_sum=tensor([0.2780, 0.5314, 0.5138, 0.2737, 0.2164, 0.2263, 0.3883, 0.1807, 0.1782,\n",
      "        0.8101, 0.3243, 0.0267, 0.0137, 0.2740, 0.6598, 0.6944, 0.3729, 0.7868,\n",
      "        0.3150, 0.1179, 0.1819, 0.1761, 0.0278, 0.3938, 0.2820, 0.0078, 0.3514,\n",
      "        0.2396, 0.1663, 0.3602, 0.0149, 0.0303, 0.0643, 0.1412, 0.3233, 0.0100,\n",
      "        0.1000, 0.4537, 0.0589, 0.4030, 0.0685, 0.1432, 0.7224, 0.0746, 0.2719,\n",
      "        0.0838, 0.0031, 0.5771, 0.4943, 0.2218, 0.3706, 0.2426, 0.0239, 0.0800,\n",
      "        0.0067, 0.0290, 0.4281, 0.3581, 0.2027, 0.2254, 0.0120, 0.3622, 0.0584,\n",
      "        0.2188, 0.3984, 0.3829, 0.2482, 0.5491, 0.0624, 0.0808, 0.0348, 0.0947,\n",
      "        0.9757, 0.3623, 0.4485, 0.6838, 0.0835, 0.7237, 0.1188, 0.0239, 0.7810,\n",
      "        0.0085, 0.1108, 0.4024, 0.1948, 0.3351, 0.3258, 0.1341, 0.0338, 0.0923,\n",
      "        0.4844, 0.2844, 0.8043, 0.2063, 0.0282, 0.5345, 0.0126, 0.1274, 0.1014,\n",
      "        0.1969, 0.1287, 0.2990, 0.0389, 0.3222, 0.3564, 0.0181, 0.7957, 0.0370,\n",
      "        0.0173, 0.0569, 0.0829, 0.5269, 0.8552, 0.1638, 0.0626, 0.0988, 0.3402,\n",
      "        0.4774, 0.0715, 0.0328, 0.1368, 0.0692, 0.5145, 0.3590, 0.6568, 0.0606,\n",
      "        0.3338, 0.1662, 0.0444, 0.3534, 0.3115, 0.1077, 0.0546, 0.1110, 0.2041,\n",
      "        0.1438, 0.2329, 0.2400, 0.1112, 0.0422, 0.1652, 0.3094, 0.0371, 0.0207,\n",
      "        0.4122, 0.1155, 0.1206, 0.0500, 0.1566, 0.5603, 0.0194, 0.0321, 0.1444,\n",
      "        0.0715, 0.7502, 0.1943, 0.4283, 0.0411, 0.3508, 0.2059, 0.1315, 0.3171,\n",
      "        0.6945, 0.0524, 0.4550, 0.3479, 0.8367, 0.0048, 0.0326, 0.0313, 0.3718,\n",
      "        0.0824, 0.0163, 0.0331, 0.2236, 0.2071, 0.7556, 0.4817, 0.3198, 0.5686,\n",
      "        0.1427, 0.6146, 0.1881, 0.1829, 0.6440, 0.1282, 0.0024, 0.2084, 0.4281,\n",
      "        0.1173, 0.0791, 0.5711, 0.1310, 0.0427, 0.0910, 0.2567, 0.0833, 0.4270,\n",
      "        0.1652, 0.0597])\n"
     ]
    },
    {
     "name": "stderr",
     "output_type": "stream",
     "text": [
      "100%|██████████| 1000/1000 [01:02<00:00, 15.89it/s]\n",
      " 41%|████      | 13/32 [13:45<20:14, 63.90s/it]"
     ]
    },
    {
     "name": "stdout",
     "output_type": "stream",
     "text": [
      "Stored at patched_MS_vicuna7b_1000\n",
      "proportion of positive labels is 0.49\n",
      "positive_sum=tensor([0.7130, 0.4585, 0.4758, 0.7176, 0.7764, 0.7650, 0.6013, 0.8121, 0.8272,\n",
      "        0.1837, 0.6672, 0.9742, 0.9867, 0.7344, 0.3501, 0.2979, 0.6179, 0.2075,\n",
      "        0.6929, 0.8856, 0.8233, 0.8288, 0.9706, 0.6155, 0.7091, 0.9925, 0.6384,\n",
      "        0.7673, 0.8392, 0.6486, 0.9856, 0.9707, 0.9377, 0.8633, 0.6673, 0.9903,\n",
      "        0.8961, 0.5366, 0.9429, 0.6068, 0.9336, 0.8509, 0.2858, 0.9218, 0.7202,\n",
      "        0.9186, 0.9970, 0.4334, 0.5142, 0.7699, 0.6191, 0.7495, 0.9768, 0.9162,\n",
      "        0.9935, 0.9721, 0.5613, 0.6313, 0.7892, 0.7666, 0.9883, 0.6470, 0.9433,\n",
      "        0.7872, 0.5907, 0.6265, 0.7435, 0.4629, 0.9397, 0.9155, 0.9664, 0.9012,\n",
      "        0.0235, 0.6294, 0.5421, 0.3087, 0.9128, 0.2689, 0.8851, 0.9769, 0.2121,\n",
      "        0.9918, 0.8925, 0.5864, 0.8107, 0.6550, 0.6654, 0.8600, 0.9673, 0.9034,\n",
      "        0.5061, 0.7227, 0.1899, 0.7857, 0.9727, 0.4554, 0.9878, 0.8669, 0.8947,\n",
      "        0.7957, 0.8666, 0.7096, 0.9624, 0.6678, 0.6331, 0.9825, 0.1980, 0.9643,\n",
      "        0.9832, 0.9404, 0.9130, 0.4627, 0.1403, 0.8405, 0.9339, 0.9051, 0.6487,\n",
      "        0.5128, 0.9307, 0.9683, 0.8583, 0.9329, 0.4765, 0.6322, 0.3338, 0.9413,\n",
      "        0.6567, 0.8396, 0.9569, 0.6555, 0.6973, 0.8953, 0.9472, 0.8840, 0.8021,\n",
      "        0.8504, 0.7577, 0.7524, 0.8919, 0.9591, 0.8285, 0.6816, 0.9640, 0.9799,\n",
      "        0.5760, 0.8883, 0.8835, 0.9515, 0.8369, 0.4274, 0.9812, 0.9689, 0.8597,\n",
      "        0.9251, 0.2427, 0.8116, 0.5815, 0.9602, 0.6393, 0.8001, 0.8722, 0.6741,\n",
      "        0.2974, 0.9451, 0.5337, 0.6616, 0.1581, 0.9953, 0.9684, 0.9697, 0.6176,\n",
      "        0.9144, 0.9842, 0.9679, 0.7828, 0.7855, 0.2380, 0.5066, 0.6709, 0.4418,\n",
      "        0.8614, 0.3753, 0.8173, 0.8102, 0.3675, 0.8661, 0.9977, 0.7838, 0.5623,\n",
      "        0.8772, 0.9232, 0.4196, 0.8730, 0.9587, 0.9120, 0.7351, 0.9195, 0.5611,\n",
      "        0.8407, 0.9376]), negative_sum=tensor([0.2870, 0.5415, 0.5242, 0.2824, 0.2236, 0.2350, 0.3987, 0.1879, 0.1728,\n",
      "        0.8163, 0.3328, 0.0258, 0.0133, 0.2656, 0.6499, 0.7021, 0.3821, 0.7925,\n",
      "        0.3071, 0.1144, 0.1767, 0.1712, 0.0294, 0.3845, 0.2909, 0.0075, 0.3616,\n",
      "        0.2327, 0.1608, 0.3514, 0.0144, 0.0293, 0.0623, 0.1367, 0.3327, 0.0097,\n",
      "        0.1039, 0.4634, 0.0571, 0.3932, 0.0664, 0.1491, 0.7142, 0.0782, 0.2798,\n",
      "        0.0814, 0.0030, 0.5666, 0.4858, 0.2301, 0.3809, 0.2505, 0.0232, 0.0838,\n",
      "        0.0065, 0.0279, 0.4387, 0.3687, 0.2108, 0.2334, 0.0117, 0.3530, 0.0567,\n",
      "        0.2128, 0.4093, 0.3735, 0.2565, 0.5371, 0.0603, 0.0845, 0.0336, 0.0988,\n",
      "        0.9765, 0.3706, 0.4579, 0.6913, 0.0872, 0.7311, 0.1149, 0.0231, 0.7879,\n",
      "        0.0082, 0.1075, 0.4136, 0.1893, 0.3450, 0.3346, 0.1400, 0.0327, 0.0966,\n",
      "        0.4939, 0.2773, 0.8101, 0.2143, 0.0273, 0.5446, 0.0122, 0.1331, 0.1053,\n",
      "        0.2043, 0.1334, 0.2904, 0.0376, 0.3322, 0.3669, 0.0175, 0.8020, 0.0357,\n",
      "        0.0168, 0.0596, 0.0870, 0.5373, 0.8597, 0.1595, 0.0661, 0.0949, 0.3513,\n",
      "        0.4872, 0.0693, 0.0317, 0.1417, 0.0671, 0.5235, 0.3678, 0.6662, 0.0587,\n",
      "        0.3433, 0.1604, 0.0431, 0.3445, 0.3027, 0.1047, 0.0528, 0.1160, 0.1979,\n",
      "        0.1496, 0.2423, 0.2476, 0.1081, 0.0409, 0.1715, 0.3184, 0.0360, 0.0201,\n",
      "        0.4240, 0.1117, 0.1165, 0.0485, 0.1631, 0.5726, 0.0188, 0.0311, 0.1403,\n",
      "        0.0749, 0.7573, 0.1884, 0.4185, 0.0398, 0.3607, 0.1999, 0.1278, 0.3259,\n",
      "        0.7026, 0.0549, 0.4663, 0.3384, 0.8419, 0.0047, 0.0316, 0.0303, 0.3824,\n",
      "        0.0856, 0.0158, 0.0321, 0.2172, 0.2145, 0.7620, 0.4934, 0.3291, 0.5582,\n",
      "        0.1386, 0.6247, 0.1827, 0.1898, 0.6325, 0.1339, 0.0023, 0.2162, 0.4377,\n",
      "        0.1228, 0.0768, 0.5804, 0.1270, 0.0413, 0.0880, 0.2649, 0.0805, 0.4389,\n",
      "        0.1593, 0.0624])\n"
     ]
    },
    {
     "name": "stderr",
     "output_type": "stream",
     "text": [
      "100%|██████████| 1000/1000 [01:02<00:00, 15.99it/s]\n",
      " 44%|████▍     | 14/32 [14:49<19:08, 63.83s/it]"
     ]
    },
    {
     "name": "stdout",
     "output_type": "stream",
     "text": [
      "Stored at patched_MS_vicuna7b_1000\n",
      "proportion of positive labels is 0.49\n",
      "positive_sum=tensor([0.6707, 0.4286, 0.4502, 0.6824, 0.7447, 0.7376, 0.5640, 0.7845, 0.8260,\n",
      "        0.1846, 0.6377, 0.9709, 0.9828, 0.7321, 0.3869, 0.2940, 0.5830, 0.1982,\n",
      "        0.7075, 0.8833, 0.8178, 0.8284, 0.9653, 0.6266, 0.6737, 0.9910, 0.6023,\n",
      "        0.7660, 0.8318, 0.6729, 0.9828, 0.9665, 0.9291, 0.8575, 0.6368, 0.9881,\n",
      "        0.8745, 0.4973, 0.9381, 0.6404, 0.9301, 0.8230, 0.3139, 0.9079, 0.6894,\n",
      "        0.9101, 0.9961, 0.4743, 0.5455, 0.7341, 0.5928, 0.7158, 0.9722, 0.8990,\n",
      "        0.9920, 0.9678, 0.5173, 0.5943, 0.7614, 0.7450, 0.9865, 0.6671, 0.9365,\n",
      "        0.7986, 0.5518, 0.6431, 0.6980, 0.5035, 0.9333, 0.8876, 0.9631, 0.8812,\n",
      "        0.0269, 0.5878, 0.4679, 0.2901, 0.8971, 0.2438, 0.8830, 0.9731, 0.2106,\n",
      "        0.9899, 0.8859, 0.5566, 0.8071, 0.6111, 0.6201, 0.8351, 0.9630, 0.8901,\n",
      "        0.4665, 0.7401, 0.1880, 0.7580, 0.9690, 0.4405, 0.9861, 0.8418, 0.8789,\n",
      "        0.7637, 0.8342, 0.7180, 0.9568, 0.6261, 0.5952, 0.9806, 0.1952, 0.9590,\n",
      "        0.9798, 0.9293, 0.9010, 0.4234, 0.1435, 0.8400, 0.9221, 0.9018, 0.6048,\n",
      "        0.4996, 0.9258, 0.9643, 0.8363, 0.9273, 0.4576, 0.6100, 0.3142, 0.9333,\n",
      "        0.6191, 0.8370, 0.9500, 0.6738, 0.6990, 0.8910, 0.9419, 0.8631, 0.8021,\n",
      "        0.8291, 0.7261, 0.7083, 0.8864, 0.9552, 0.8106, 0.6186, 0.9592, 0.9765,\n",
      "        0.5340, 0.8879, 0.8803, 0.9451, 0.8098, 0.4071, 0.9782, 0.9641, 0.8577,\n",
      "        0.9135, 0.2358, 0.8031, 0.6071, 0.9546, 0.6035, 0.8018, 0.8631, 0.6172,\n",
      "        0.2897, 0.9324, 0.5078, 0.6794, 0.1574, 0.9940, 0.9638, 0.9658, 0.5844,\n",
      "        0.8996, 0.9798, 0.9630, 0.7766, 0.7617, 0.2306, 0.4797, 0.6325, 0.4734,\n",
      "        0.8552, 0.3528, 0.8312, 0.7859, 0.4055, 0.8483, 0.9972, 0.7466, 0.5240,\n",
      "        0.8592, 0.9152, 0.3893, 0.8672, 0.9547, 0.9071, 0.6970, 0.9167, 0.5327,\n",
      "        0.8466, 0.9216]), negative_sum=tensor([0.3293, 0.5714, 0.5498, 0.3176, 0.2553, 0.2624, 0.4360, 0.2155, 0.1740,\n",
      "        0.8154, 0.3623, 0.0291, 0.0172, 0.2679, 0.6131, 0.7060, 0.4170, 0.8018,\n",
      "        0.2925, 0.1167, 0.1822, 0.1716, 0.0347, 0.3734, 0.3263, 0.0090, 0.3977,\n",
      "        0.2340, 0.1682, 0.3271, 0.0172, 0.0335, 0.0709, 0.1425, 0.3632, 0.0119,\n",
      "        0.1255, 0.5027, 0.0619, 0.3596, 0.0699, 0.1770, 0.6861, 0.0921, 0.3106,\n",
      "        0.0899, 0.0039, 0.5257, 0.4545, 0.2659, 0.4072, 0.2842, 0.0278, 0.1010,\n",
      "        0.0080, 0.0322, 0.4827, 0.4057, 0.2386, 0.2550, 0.0135, 0.3329, 0.0635,\n",
      "        0.2014, 0.4482, 0.3569, 0.3020, 0.4965, 0.0667, 0.1124, 0.0369, 0.1188,\n",
      "        0.9731, 0.4122, 0.5321, 0.7099, 0.1029, 0.7562, 0.1170, 0.0269, 0.7894,\n",
      "        0.0101, 0.1141, 0.4434, 0.1929, 0.3889, 0.3799, 0.1649, 0.0370, 0.1099,\n",
      "        0.5335, 0.2599, 0.8120, 0.2420, 0.0310, 0.5595, 0.0139, 0.1582, 0.1211,\n",
      "        0.2363, 0.1658, 0.2820, 0.0432, 0.3739, 0.4048, 0.0194, 0.8048, 0.0410,\n",
      "        0.0202, 0.0707, 0.0990, 0.5766, 0.8565, 0.1600, 0.0779, 0.0982, 0.3952,\n",
      "        0.5004, 0.0742, 0.0357, 0.1637, 0.0727, 0.5424, 0.3900, 0.6858, 0.0667,\n",
      "        0.3809, 0.1630, 0.0500, 0.3262, 0.3010, 0.1090, 0.0581, 0.1369, 0.1979,\n",
      "        0.1709, 0.2739, 0.2917, 0.1136, 0.0448, 0.1894, 0.3814, 0.0408, 0.0235,\n",
      "        0.4660, 0.1121, 0.1197, 0.0549, 0.1902, 0.5929, 0.0218, 0.0359, 0.1423,\n",
      "        0.0865, 0.7642, 0.1969, 0.3929, 0.0454, 0.3965, 0.1982, 0.1369, 0.3828,\n",
      "        0.7103, 0.0676, 0.4922, 0.3206, 0.8426, 0.0060, 0.0362, 0.0342, 0.4156,\n",
      "        0.1004, 0.0202, 0.0370, 0.2234, 0.2383, 0.7694, 0.5203, 0.3675, 0.5266,\n",
      "        0.1448, 0.6472, 0.1688, 0.2141, 0.5945, 0.1517, 0.0028, 0.2534, 0.4760,\n",
      "        0.1408, 0.0848, 0.6107, 0.1328, 0.0453, 0.0929, 0.3030, 0.0833, 0.4673,\n",
      "        0.1534, 0.0784])\n"
     ]
    },
    {
     "name": "stderr",
     "output_type": "stream",
     "text": [
      "100%|██████████| 1000/1000 [01:02<00:00, 16.00it/s]\n",
      " 47%|████▋     | 15/32 [15:53<18:04, 63.82s/it]"
     ]
    },
    {
     "name": "stdout",
     "output_type": "stream",
     "text": [
      "Stored at patched_MS_vicuna7b_1000\n",
      "proportion of positive labels is 0.49\n",
      "positive_sum=tensor([0.6620, 0.4205, 0.4409, 0.6735, 0.7370, 0.7285, 0.5545, 0.7769, 0.8306,\n",
      "        0.1787, 0.6303, 0.9718, 0.9833, 0.7388, 0.3950, 0.2880, 0.5747, 0.1938,\n",
      "        0.7142, 0.8862, 0.8223, 0.8324, 0.9635, 0.6339, 0.6648, 0.9914, 0.5930,\n",
      "        0.7709, 0.8368, 0.6801, 0.9834, 0.9676, 0.9311, 0.8617, 0.6274, 0.9886,\n",
      "        0.8701, 0.4878, 0.9400, 0.6480, 0.9320, 0.8161, 0.3228, 0.9035, 0.6823,\n",
      "        0.9126, 0.9962, 0.4831, 0.5528, 0.7263, 0.5826, 0.7086, 0.9731, 0.8945,\n",
      "        0.9923, 0.9691, 0.5084, 0.5844, 0.7531, 0.7374, 0.9869, 0.6748, 0.9384,\n",
      "        0.8038, 0.5421, 0.6512, 0.6893, 0.5141, 0.9353, 0.8837, 0.9642, 0.8765,\n",
      "        0.0260, 0.5807, 0.4612, 0.2834, 0.8932, 0.2383, 0.8859, 0.9741, 0.2048,\n",
      "        0.9903, 0.8893, 0.5460, 0.8124, 0.6010, 0.6126, 0.8286, 0.9644, 0.8854,\n",
      "        0.4589, 0.7466, 0.1828, 0.7496, 0.9700, 0.4325, 0.9866, 0.8357, 0.8745,\n",
      "        0.7558, 0.8288, 0.7255, 0.9580, 0.6164, 0.5865, 0.9813, 0.1896, 0.9600,\n",
      "        0.9804, 0.9261, 0.8968, 0.4143, 0.1396, 0.8440, 0.9185, 0.9056, 0.5949,\n",
      "        0.4917, 0.9282, 0.9656, 0.8307, 0.9294, 0.4503, 0.6023, 0.3062, 0.9354,\n",
      "        0.6099, 0.8420, 0.9514, 0.6812, 0.7061, 0.8934, 0.9438, 0.8575, 0.8069,\n",
      "        0.8228, 0.7157, 0.7013, 0.8893, 0.9565, 0.8038, 0.6117, 0.9604, 0.9771,\n",
      "        0.5218, 0.8911, 0.8842, 0.9468, 0.8029, 0.3948, 0.9790, 0.9653, 0.8613,\n",
      "        0.9100, 0.2304, 0.8088, 0.6155, 0.9560, 0.5944, 0.8068, 0.8663, 0.6087,\n",
      "        0.2824, 0.9295, 0.4972, 0.6873, 0.1528, 0.9942, 0.9649, 0.9670, 0.5739,\n",
      "        0.8959, 0.9804, 0.9641, 0.7828, 0.7545, 0.2255, 0.4687, 0.6239, 0.4828,\n",
      "        0.8589, 0.3435, 0.8357, 0.7807, 0.4162, 0.8415, 0.9973, 0.7394, 0.5156,\n",
      "        0.8526, 0.9175, 0.3818, 0.8705, 0.9561, 0.9100, 0.6886, 0.9194, 0.5218,\n",
      "        0.8517, 0.9184]), negative_sum=tensor([0.3380, 0.5795, 0.5591, 0.3265, 0.2630, 0.2715, 0.4455, 0.2231, 0.1694,\n",
      "        0.8213, 0.3697, 0.0282, 0.0167, 0.2612, 0.6050, 0.7120, 0.4253, 0.8062,\n",
      "        0.2858, 0.1138, 0.1777, 0.1676, 0.0365, 0.3661, 0.3352, 0.0086, 0.4070,\n",
      "        0.2291, 0.1632, 0.3199, 0.0166, 0.0324, 0.0689, 0.1383, 0.3726, 0.0114,\n",
      "        0.1299, 0.5122, 0.0600, 0.3520, 0.0680, 0.1839, 0.6772, 0.0965, 0.3177,\n",
      "        0.0874, 0.0038, 0.5169, 0.4472, 0.2737, 0.4174, 0.2914, 0.0269, 0.1055,\n",
      "        0.0077, 0.0309, 0.4916, 0.4156, 0.2469, 0.2626, 0.0131, 0.3252, 0.0616,\n",
      "        0.1962, 0.4579, 0.3488, 0.3107, 0.4859, 0.0647, 0.1163, 0.0358, 0.1235,\n",
      "        0.9740, 0.4193, 0.5388, 0.7166, 0.1068, 0.7617, 0.1141, 0.0259, 0.7952,\n",
      "        0.0097, 0.1107, 0.4540, 0.1876, 0.3990, 0.3874, 0.1714, 0.0356, 0.1146,\n",
      "        0.5411, 0.2534, 0.8172, 0.2504, 0.0300, 0.5675, 0.0134, 0.1643, 0.1255,\n",
      "        0.2442, 0.1712, 0.2745, 0.0420, 0.3836, 0.4135, 0.0187, 0.8104, 0.0400,\n",
      "        0.0196, 0.0739, 0.1032, 0.5857, 0.8604, 0.1560, 0.0815, 0.0944, 0.4051,\n",
      "        0.5083, 0.0718, 0.0344, 0.1693, 0.0706, 0.5497, 0.3977, 0.6938, 0.0646,\n",
      "        0.3901, 0.1580, 0.0486, 0.3188, 0.2939, 0.1066, 0.0562, 0.1425, 0.1931,\n",
      "        0.1772, 0.2843, 0.2987, 0.1107, 0.0435, 0.1962, 0.3883, 0.0396, 0.0229,\n",
      "        0.4782, 0.1089, 0.1158, 0.0532, 0.1971, 0.6052, 0.0210, 0.0347, 0.1387,\n",
      "        0.0900, 0.7696, 0.1912, 0.3845, 0.0440, 0.4056, 0.1932, 0.1337, 0.3913,\n",
      "        0.7176, 0.0705, 0.5028, 0.3127, 0.8472, 0.0058, 0.0351, 0.0330, 0.4261,\n",
      "        0.1041, 0.0196, 0.0359, 0.2172, 0.2455, 0.7745, 0.5313, 0.3761, 0.5172,\n",
      "        0.1411, 0.6565, 0.1643, 0.2193, 0.5838, 0.1585, 0.0027, 0.2606, 0.4844,\n",
      "        0.1474, 0.0825, 0.6182, 0.1295, 0.0439, 0.0900, 0.3114, 0.0806, 0.4782,\n",
      "        0.1483, 0.0816])\n"
     ]
    },
    {
     "name": "stderr",
     "output_type": "stream",
     "text": [
      "100%|██████████| 1000/1000 [01:02<00:00, 15.93it/s]\n",
      " 50%|█████     | 16/32 [16:57<17:02, 63.89s/it]"
     ]
    },
    {
     "name": "stdout",
     "output_type": "stream",
     "text": [
      "Stored at patched_MS_vicuna7b_1000\n",
      "proportion of positive labels is 0.49\n",
      "positive_sum=tensor([0.6586, 0.4171, 0.4374, 0.6703, 0.7337, 0.7251, 0.5511, 0.7747, 0.8326,\n",
      "        0.1762, 0.6265, 0.9722, 0.9836, 0.7418, 0.3986, 0.2847, 0.5710, 0.1911,\n",
      "        0.7171, 0.8880, 0.8245, 0.8344, 0.9628, 0.6376, 0.6618, 0.9915, 0.5893,\n",
      "        0.7734, 0.8389, 0.6835, 0.9837, 0.9680, 0.9321, 0.8634, 0.6235, 0.9887,\n",
      "        0.8685, 0.4845, 0.9408, 0.6512, 0.9330, 0.8136, 0.3258, 0.9018, 0.6789,\n",
      "        0.9137, 0.9963, 0.4867, 0.5565, 0.7232, 0.5791, 0.7051, 0.9735, 0.8928,\n",
      "        0.9924, 0.9696, 0.5048, 0.5797, 0.7499, 0.7340, 0.9872, 0.6781, 0.9393,\n",
      "        0.8065, 0.5385, 0.6542, 0.6857, 0.5181, 0.9362, 0.8818, 0.9648, 0.8749,\n",
      "        0.0256, 0.5767, 0.4583, 0.2807, 0.8918, 0.2362, 0.8873, 0.9745, 0.2022,\n",
      "        0.9904, 0.8908, 0.5419, 0.8148, 0.5973, 0.6095, 0.8259, 0.9649, 0.8834,\n",
      "        0.4552, 0.7489, 0.1806, 0.7459, 0.9704, 0.4290, 0.9868, 0.8335, 0.8724,\n",
      "        0.7528, 0.8269, 0.7292, 0.9586, 0.6133, 0.5829, 0.9816, 0.1875, 0.9606,\n",
      "        0.9807, 0.9249, 0.8952, 0.4110, 0.1378, 0.8458, 0.9171, 0.9073, 0.5907,\n",
      "        0.4878, 0.9293, 0.9661, 0.8284, 0.9304, 0.4461, 0.5985, 0.3026, 0.9362,\n",
      "        0.6063, 0.8444, 0.9522, 0.6849, 0.7093, 0.8947, 0.9446, 0.8555, 0.8092,\n",
      "        0.8203, 0.7121, 0.6986, 0.8905, 0.9572, 0.8012, 0.6086, 0.9610, 0.9775,\n",
      "        0.5171, 0.8925, 0.8858, 0.9476, 0.8007, 0.3909, 0.9794, 0.9658, 0.8634,\n",
      "        0.9085, 0.2276, 0.8112, 0.6190, 0.9567, 0.5906, 0.8088, 0.8679, 0.6051,\n",
      "        0.2791, 0.9284, 0.4929, 0.6906, 0.1509, 0.9943, 0.9654, 0.9675, 0.5701,\n",
      "        0.8944, 0.9807, 0.9646, 0.7854, 0.7517, 0.2234, 0.4645, 0.6199, 0.4871,\n",
      "        0.8606, 0.3402, 0.8377, 0.7776, 0.4199, 0.8394, 0.9974, 0.7367, 0.5120,\n",
      "        0.8507, 0.9187, 0.3786, 0.8721, 0.9567, 0.9113, 0.6854, 0.9204, 0.5182,\n",
      "        0.8535, 0.9171]), negative_sum=tensor([0.3414, 0.5829, 0.5626, 0.3297, 0.2663, 0.2749, 0.4489, 0.2253, 0.1674,\n",
      "        0.8238, 0.3735, 0.0278, 0.0164, 0.2582, 0.6014, 0.7153, 0.4290, 0.8089,\n",
      "        0.2829, 0.1120, 0.1755, 0.1656, 0.0372, 0.3624, 0.3382, 0.0085, 0.4107,\n",
      "        0.2266, 0.1611, 0.3165, 0.0163, 0.0320, 0.0679, 0.1366, 0.3765, 0.0113,\n",
      "        0.1315, 0.5155, 0.0592, 0.3488, 0.0670, 0.1864, 0.6742, 0.0982, 0.3211,\n",
      "        0.0863, 0.0037, 0.5133, 0.4435, 0.2768, 0.4209, 0.2949, 0.0265, 0.1072,\n",
      "        0.0076, 0.0304, 0.4952, 0.4203, 0.2501, 0.2660, 0.0128, 0.3219, 0.0607,\n",
      "        0.1935, 0.4615, 0.3458, 0.3143, 0.4819, 0.0638, 0.1182, 0.0352, 0.1251,\n",
      "        0.9744, 0.4233, 0.5417, 0.7193, 0.1082, 0.7638, 0.1127, 0.0255, 0.7978,\n",
      "        0.0096, 0.1092, 0.4581, 0.1852, 0.4027, 0.3905, 0.1741, 0.0351, 0.1166,\n",
      "        0.5448, 0.2511, 0.8194, 0.2541, 0.0296, 0.5710, 0.0132, 0.1665, 0.1276,\n",
      "        0.2472, 0.1731, 0.2708, 0.0414, 0.3867, 0.4171, 0.0184, 0.8125, 0.0394,\n",
      "        0.0193, 0.0751, 0.1048, 0.5890, 0.8622, 0.1542, 0.0829, 0.0927, 0.4093,\n",
      "        0.5122, 0.0707, 0.0339, 0.1716, 0.0696, 0.5539, 0.4015, 0.6974, 0.0638,\n",
      "        0.3937, 0.1556, 0.0478, 0.3151, 0.2907, 0.1053, 0.0554, 0.1445, 0.1908,\n",
      "        0.1797, 0.2879, 0.3014, 0.1095, 0.0428, 0.1988, 0.3914, 0.0390, 0.0225,\n",
      "        0.4829, 0.1075, 0.1142, 0.0524, 0.1993, 0.6091, 0.0206, 0.0342, 0.1366,\n",
      "        0.0915, 0.7724, 0.1888, 0.3810, 0.0433, 0.4094, 0.1912, 0.1321, 0.3949,\n",
      "        0.7209, 0.0716, 0.5071, 0.3094, 0.8491, 0.0057, 0.0346, 0.0325, 0.4299,\n",
      "        0.1056, 0.0193, 0.0354, 0.2146, 0.2483, 0.7766, 0.5355, 0.3801, 0.5129,\n",
      "        0.1394, 0.6598, 0.1623, 0.2224, 0.5801, 0.1606, 0.0026, 0.2633, 0.4880,\n",
      "        0.1493, 0.0813, 0.6214, 0.1279, 0.0433, 0.0887, 0.3146, 0.0796, 0.4818,\n",
      "        0.1465, 0.0829])\n"
     ]
    },
    {
     "name": "stderr",
     "output_type": "stream",
     "text": [
      "100%|██████████| 1000/1000 [01:02<00:00, 15.95it/s]\n",
      " 53%|█████▎    | 17/32 [18:01<15:59, 63.94s/it]"
     ]
    },
    {
     "name": "stdout",
     "output_type": "stream",
     "text": [
      "Stored at patched_MS_vicuna7b_1000\n",
      "proportion of positive labels is 0.49\n",
      "positive_sum=tensor([0.6545, 0.4128, 0.4330, 0.6660, 0.7302, 0.7210, 0.5464, 0.7712, 0.8350,\n",
      "        0.1735, 0.6226, 0.9728, 0.9839, 0.7453, 0.4033, 0.2811, 0.5670, 0.1882,\n",
      "        0.7204, 0.8898, 0.8268, 0.8367, 0.9619, 0.6417, 0.6577, 0.9917, 0.5847,\n",
      "        0.7764, 0.8418, 0.6871, 0.9840, 0.9686, 0.9333, 0.8654, 0.6189, 0.9890,\n",
      "        0.8662, 0.4800, 0.9418, 0.6549, 0.9342, 0.8104, 0.3297, 0.8997, 0.6754,\n",
      "        0.9150, 0.9964, 0.4913, 0.5607, 0.7192, 0.5745, 0.7012, 0.9740, 0.8907,\n",
      "        0.9926, 0.9702, 0.5002, 0.5748, 0.7458, 0.7303, 0.9874, 0.6821, 0.9404,\n",
      "        0.8093, 0.5337, 0.6586, 0.6813, 0.5231, 0.9373, 0.8796, 0.9654, 0.8727,\n",
      "        0.0251, 0.5726, 0.4544, 0.2773, 0.8898, 0.2330, 0.8891, 0.9750, 0.1992,\n",
      "        0.9906, 0.8925, 0.5370, 0.8174, 0.5928, 0.6055, 0.8228, 0.9656, 0.8813,\n",
      "        0.4508, 0.7519, 0.1780, 0.7423, 0.9710, 0.4245, 0.9870, 0.8304, 0.8703,\n",
      "        0.7492, 0.8243, 0.7330, 0.9594, 0.6088, 0.5782, 0.9820, 0.1848, 0.9613,\n",
      "        0.9811, 0.9234, 0.8932, 0.4062, 0.1356, 0.8480, 0.9152, 0.9092, 0.5856,\n",
      "        0.4838, 0.9305, 0.9667, 0.8258, 0.9316, 0.4420, 0.5946, 0.2985, 0.9373,\n",
      "        0.6020, 0.8469, 0.9530, 0.6891, 0.7126, 0.8963, 0.9456, 0.8528, 0.8119,\n",
      "        0.8176, 0.7077, 0.6949, 0.8920, 0.9580, 0.7981, 0.6046, 0.9616, 0.9779,\n",
      "        0.5122, 0.8942, 0.8878, 0.9485, 0.7975, 0.3854, 0.9798, 0.9665, 0.8655,\n",
      "        0.9068, 0.2243, 0.8139, 0.6233, 0.9575, 0.5862, 0.8115, 0.8699, 0.6008,\n",
      "        0.2755, 0.9269, 0.4882, 0.6946, 0.1487, 0.9944, 0.9659, 0.9681, 0.5651,\n",
      "        0.8927, 0.9811, 0.9652, 0.7885, 0.7480, 0.2207, 0.4599, 0.6156, 0.4914,\n",
      "        0.8627, 0.3360, 0.8399, 0.7741, 0.4248, 0.8366, 0.9974, 0.7331, 0.5076,\n",
      "        0.8481, 0.9200, 0.3746, 0.8741, 0.9575, 0.9128, 0.6814, 0.9217, 0.5131,\n",
      "        0.8561, 0.9155]), negative_sum=tensor([0.3455, 0.5872, 0.5670, 0.3340, 0.2698, 0.2790, 0.4536, 0.2288, 0.1650,\n",
      "        0.8265, 0.3774, 0.0272, 0.0161, 0.2547, 0.5967, 0.7189, 0.4330, 0.8118,\n",
      "        0.2796, 0.1102, 0.1732, 0.1633, 0.0381, 0.3583, 0.3423, 0.0083, 0.4153,\n",
      "        0.2236, 0.1582, 0.3129, 0.0160, 0.0314, 0.0667, 0.1346, 0.3811, 0.0110,\n",
      "        0.1338, 0.5200, 0.0582, 0.3451, 0.0658, 0.1896, 0.6703, 0.1003, 0.3246,\n",
      "        0.0850, 0.0036, 0.5087, 0.4393, 0.2808, 0.4255, 0.2988, 0.0260, 0.1093,\n",
      "        0.0074, 0.0298, 0.4998, 0.4252, 0.2542, 0.2697, 0.0126, 0.3179, 0.0596,\n",
      "        0.1907, 0.4663, 0.3414, 0.3187, 0.4769, 0.0627, 0.1204, 0.0346, 0.1273,\n",
      "        0.9749, 0.4274, 0.5456, 0.7227, 0.1102, 0.7670, 0.1109, 0.0250, 0.8008,\n",
      "        0.0094, 0.1075, 0.4630, 0.1826, 0.4072, 0.3945, 0.1772, 0.0344, 0.1187,\n",
      "        0.5492, 0.2481, 0.8220, 0.2577, 0.0290, 0.5755, 0.0130, 0.1696, 0.1297,\n",
      "        0.2508, 0.1757, 0.2670, 0.0406, 0.3912, 0.4218, 0.0180, 0.8152, 0.0387,\n",
      "        0.0189, 0.0766, 0.1068, 0.5938, 0.8644, 0.1520, 0.0848, 0.0908, 0.4144,\n",
      "        0.5162, 0.0695, 0.0333, 0.1742, 0.0684, 0.5580, 0.4054, 0.7015, 0.0627,\n",
      "        0.3980, 0.1531, 0.0470, 0.3109, 0.2874, 0.1037, 0.0544, 0.1472, 0.1881,\n",
      "        0.1824, 0.2923, 0.3051, 0.1080, 0.0420, 0.2019, 0.3954, 0.0384, 0.0221,\n",
      "        0.4878, 0.1058, 0.1122, 0.0515, 0.2025, 0.6146, 0.0202, 0.0335, 0.1345,\n",
      "        0.0932, 0.7757, 0.1861, 0.3767, 0.0425, 0.4138, 0.1885, 0.1301, 0.3992,\n",
      "        0.7245, 0.0731, 0.5118, 0.3054, 0.8513, 0.0056, 0.0341, 0.0319, 0.4349,\n",
      "        0.1073, 0.0189, 0.0348, 0.2115, 0.2520, 0.7793, 0.5401, 0.3844, 0.5086,\n",
      "        0.1373, 0.6640, 0.1601, 0.2259, 0.5752, 0.1634, 0.0026, 0.2669, 0.4924,\n",
      "        0.1519, 0.0800, 0.6254, 0.1259, 0.0425, 0.0872, 0.3186, 0.0783, 0.4869,\n",
      "        0.1439, 0.0845])\n"
     ]
    },
    {
     "name": "stderr",
     "output_type": "stream",
     "text": [
      "100%|██████████| 1000/1000 [01:02<00:00, 15.90it/s]\n",
      " 56%|█████▋    | 18/32 [19:05<14:55, 64.00s/it]"
     ]
    },
    {
     "name": "stdout",
     "output_type": "stream",
     "text": [
      "Stored at patched_MS_vicuna7b_1000\n",
      "proportion of positive labels is 0.49\n",
      "positive_sum=tensor([0.6464, 0.4038, 0.4243, 0.6586, 0.7223, 0.7132, 0.5373, 0.7644, 0.8402,\n",
      "        0.1677, 0.6146, 0.9739, 0.9845, 0.7533, 0.4130, 0.2733, 0.5580, 0.1824,\n",
      "        0.7284, 0.8935, 0.8324, 0.8416, 0.9604, 0.6519, 0.6499, 0.9921, 0.5753,\n",
      "        0.7829, 0.8476, 0.6943, 0.9847, 0.9699, 0.9358, 0.8696, 0.6104, 0.9894,\n",
      "        0.8615, 0.4708, 0.9441, 0.6633, 0.9368, 0.8043, 0.3374, 0.8958, 0.6672,\n",
      "        0.9180, 0.9965, 0.5006, 0.5687, 0.7110, 0.5658, 0.6933, 0.9751, 0.8866,\n",
      "        0.9929, 0.9717, 0.4904, 0.5640, 0.7383, 0.7230, 0.9880, 0.6901, 0.9427,\n",
      "        0.8149, 0.5234, 0.6671, 0.6724, 0.5330, 0.9399, 0.8751, 0.9666, 0.8681,\n",
      "        0.0241, 0.5644, 0.4466, 0.2700, 0.8857, 0.2266, 0.8935, 0.9760, 0.1928,\n",
      "        0.9911, 0.8961, 0.5269, 0.8231, 0.5831, 0.5969, 0.8167, 0.9668, 0.8768,\n",
      "        0.4416, 0.7585, 0.1720, 0.7353, 0.9721, 0.4156, 0.9876, 0.8247, 0.8660,\n",
      "        0.7420, 0.8189, 0.7407, 0.9609, 0.6000, 0.5693, 0.9827, 0.1784, 0.9628,\n",
      "        0.9819, 0.9204, 0.8896, 0.3969, 0.1309, 0.8522, 0.9118, 0.9126, 0.5765,\n",
      "        0.4745, 0.9331, 0.9680, 0.8207, 0.9340, 0.4327, 0.5867, 0.2898, 0.9396,\n",
      "        0.5928, 0.8522, 0.9548, 0.6965, 0.7205, 0.9001, 0.9478, 0.8472, 0.8181,\n",
      "        0.8118, 0.6994, 0.6872, 0.8954, 0.9597, 0.7917, 0.5970, 0.9631, 0.9788,\n",
      "        0.5016, 0.8979, 0.8918, 0.9505, 0.7916, 0.3755, 0.9806, 0.9678, 0.8698,\n",
      "        0.9034, 0.2170, 0.8195, 0.6319, 0.9591, 0.5761, 0.8172, 0.8737, 0.5912,\n",
      "        0.2671, 0.9241, 0.4792, 0.7036, 0.1441, 0.9947, 0.9671, 0.9695, 0.5553,\n",
      "        0.8893, 0.9819, 0.9667, 0.7945, 0.7408, 0.2146, 0.4501, 0.6067, 0.5015,\n",
      "        0.8672, 0.3268, 0.8451, 0.7677, 0.4351, 0.8314, 0.9976, 0.7257, 0.4988,\n",
      "        0.8433, 0.9228, 0.3658, 0.8781, 0.9592, 0.9158, 0.6731, 0.9245, 0.5033,\n",
      "        0.8609, 0.9121]), negative_sum=tensor([0.3536, 0.5962, 0.5757, 0.3414, 0.2777, 0.2868, 0.4627, 0.2356, 0.1598,\n",
      "        0.8323, 0.3854, 0.0261, 0.0155, 0.2467, 0.5870, 0.7267, 0.4420, 0.8176,\n",
      "        0.2716, 0.1065, 0.1676, 0.1584, 0.0396, 0.3481, 0.3501, 0.0079, 0.4247,\n",
      "        0.2171, 0.1524, 0.3057, 0.0153, 0.0301, 0.0642, 0.1304, 0.3896, 0.0106,\n",
      "        0.1385, 0.5292, 0.0559, 0.3367, 0.0632, 0.1957, 0.6626, 0.1042, 0.3328,\n",
      "        0.0820, 0.0035, 0.4994, 0.4313, 0.2890, 0.4342, 0.3067, 0.0249, 0.1134,\n",
      "        0.0071, 0.0283, 0.5096, 0.4360, 0.2617, 0.2770, 0.0120, 0.3099, 0.0573,\n",
      "        0.1851, 0.4766, 0.3329, 0.3276, 0.4670, 0.0601, 0.1249, 0.0334, 0.1319,\n",
      "        0.9759, 0.4356, 0.5534, 0.7300, 0.1143, 0.7734, 0.1065, 0.0240, 0.8072,\n",
      "        0.0089, 0.1039, 0.4731, 0.1769, 0.4169, 0.4031, 0.1833, 0.0332, 0.1232,\n",
      "        0.5584, 0.2415, 0.8280, 0.2647, 0.0279, 0.5844, 0.0124, 0.1753, 0.1340,\n",
      "        0.2580, 0.1811, 0.2593, 0.0391, 0.4000, 0.4307, 0.0173, 0.8216, 0.0372,\n",
      "        0.0181, 0.0796, 0.1104, 0.6031, 0.8691, 0.1478, 0.0882, 0.0874, 0.4235,\n",
      "        0.5255, 0.0669, 0.0320, 0.1793, 0.0660, 0.5673, 0.4133, 0.7102, 0.0604,\n",
      "        0.4072, 0.1478, 0.0452, 0.3035, 0.2795, 0.0999, 0.0522, 0.1528, 0.1819,\n",
      "        0.1882, 0.3006, 0.3128, 0.1046, 0.0403, 0.2083, 0.4030, 0.0369, 0.0212,\n",
      "        0.4984, 0.1021, 0.1082, 0.0495, 0.2084, 0.6245, 0.0194, 0.0322, 0.1302,\n",
      "        0.0966, 0.7830, 0.1805, 0.3681, 0.0409, 0.4239, 0.1828, 0.1263, 0.4088,\n",
      "        0.7329, 0.0759, 0.5208, 0.2964, 0.8559, 0.0053, 0.0329, 0.0305, 0.4447,\n",
      "        0.1107, 0.0181, 0.0333, 0.2055, 0.2592, 0.7854, 0.5499, 0.3933, 0.4985,\n",
      "        0.1328, 0.6732, 0.1549, 0.2323, 0.5649, 0.1686, 0.0024, 0.2743, 0.5012,\n",
      "        0.1567, 0.0772, 0.6342, 0.1219, 0.0408, 0.0842, 0.3269, 0.0755, 0.4967,\n",
      "        0.1391, 0.0879])\n"
     ]
    },
    {
     "name": "stderr",
     "output_type": "stream",
     "text": [
      "100%|██████████| 1000/1000 [01:02<00:00, 15.91it/s]\n",
      " 59%|█████▉    | 19/32 [20:09<13:53, 64.08s/it]"
     ]
    },
    {
     "name": "stdout",
     "output_type": "stream",
     "text": [
      "Stored at patched_MS_vicuna7b_1000\n",
      "proportion of positive labels is 0.49\n",
      "positive_sum=tensor([0.6427, 0.3967, 0.4169, 0.6527, 0.7167, 0.7091, 0.5303, 0.7603, 0.8462,\n",
      "        0.1611, 0.6083, 0.9755, 0.9856, 0.7611, 0.4236, 0.2662, 0.5487, 0.1756,\n",
      "        0.7358, 0.8989, 0.8390, 0.8483, 0.9608, 0.6628, 0.6429, 0.9926, 0.5672,\n",
      "        0.7906, 0.8542, 0.7016, 0.9856, 0.9714, 0.9393, 0.8756, 0.6033, 0.9901,\n",
      "        0.8587, 0.4631, 0.9471, 0.6725, 0.9400, 0.7999, 0.3437, 0.8949, 0.6607,\n",
      "        0.9218, 0.9968, 0.5081, 0.5777, 0.7024, 0.5581, 0.6877, 0.9769, 0.8855,\n",
      "        0.9934, 0.9738, 0.4795, 0.5555, 0.7348, 0.7211, 0.9889, 0.6983, 0.9457,\n",
      "        0.8224, 0.5141, 0.6754, 0.6634, 0.5454, 0.9430, 0.8737, 0.9684, 0.8649,\n",
      "        0.0224, 0.5570, 0.4390, 0.2621, 0.8837, 0.2175, 0.8971, 0.9776, 0.1862,\n",
      "        0.9917, 0.9009, 0.5170, 0.8292, 0.5748, 0.5900, 0.8164, 0.9686, 0.8770,\n",
      "        0.4315, 0.7665, 0.1651, 0.7292, 0.9738, 0.4043, 0.9886, 0.8203, 0.8665,\n",
      "        0.7393, 0.8157, 0.7495, 0.9631, 0.5946, 0.5605, 0.9840, 0.1704, 0.9648,\n",
      "        0.9829, 0.9191, 0.8884, 0.3878, 0.1251, 0.8568, 0.9107, 0.9169, 0.5686,\n",
      "        0.4663, 0.9368, 0.9699, 0.8205, 0.9375, 0.4225, 0.5820, 0.2829, 0.9432,\n",
      "        0.5860, 0.8600, 0.9575, 0.7051, 0.7285, 0.9035, 0.9505, 0.8448, 0.8253,\n",
      "        0.8073, 0.6961, 0.6818, 0.8992, 0.9620, 0.7906, 0.5919, 0.9652, 0.9802,\n",
      "        0.4909, 0.9024, 0.8975, 0.9528, 0.7890, 0.3683, 0.9818, 0.9699, 0.8761,\n",
      "        0.9029, 0.2078, 0.8273, 0.6420, 0.9613, 0.5676, 0.8249, 0.8788, 0.5839,\n",
      "        0.2585, 0.9225, 0.4695, 0.7144, 0.1386, 0.9950, 0.9684, 0.9714, 0.5506,\n",
      "        0.8900, 0.9831, 0.9685, 0.8036, 0.7356, 0.2086, 0.4396, 0.5998, 0.5111,\n",
      "        0.8733, 0.3159, 0.8515, 0.7675, 0.4459, 0.8268, 0.9978, 0.7225, 0.4902,\n",
      "        0.8423, 0.9265, 0.3576, 0.8832, 0.9614, 0.9197, 0.6664, 0.9282, 0.4899,\n",
      "        0.8686, 0.9109]), negative_sum=tensor([0.3573, 0.6033, 0.5831, 0.3473, 0.2833, 0.2909, 0.4697, 0.2397, 0.1538,\n",
      "        0.8389, 0.3917, 0.0245, 0.0144, 0.2389, 0.5764, 0.7338, 0.4513, 0.8244,\n",
      "        0.2642, 0.1011, 0.1610, 0.1517, 0.0392, 0.3372, 0.3571, 0.0074, 0.4328,\n",
      "        0.2094, 0.1458, 0.2984, 0.0144, 0.0286, 0.0607, 0.1244, 0.3967, 0.0099,\n",
      "        0.1413, 0.5369, 0.0529, 0.3275, 0.0600, 0.2001, 0.6563, 0.1051, 0.3393,\n",
      "        0.0782, 0.0032, 0.4919, 0.4223, 0.2976, 0.4419, 0.3123, 0.0231, 0.1145,\n",
      "        0.0066, 0.0262, 0.5205, 0.4445, 0.2652, 0.2789, 0.0111, 0.3017, 0.0543,\n",
      "        0.1776, 0.4859, 0.3246, 0.3366, 0.4546, 0.0570, 0.1263, 0.0316, 0.1351,\n",
      "        0.9776, 0.4430, 0.5610, 0.7379, 0.1163, 0.7825, 0.1029, 0.0224, 0.8138,\n",
      "        0.0083, 0.0991, 0.4830, 0.1708, 0.4252, 0.4100, 0.1836, 0.0314, 0.1230,\n",
      "        0.5685, 0.2335, 0.8349, 0.2708, 0.0262, 0.5957, 0.0114, 0.1797, 0.1335,\n",
      "        0.2607, 0.1843, 0.2505, 0.0369, 0.4054, 0.4395, 0.0160, 0.8296, 0.0352,\n",
      "        0.0171, 0.0809, 0.1116, 0.6122, 0.8749, 0.1432, 0.0893, 0.0831, 0.4314,\n",
      "        0.5337, 0.0632, 0.0301, 0.1795, 0.0625, 0.5775, 0.4180, 0.7171, 0.0568,\n",
      "        0.4140, 0.1400, 0.0425, 0.2949, 0.2715, 0.0965, 0.0495, 0.1552, 0.1747,\n",
      "        0.1927, 0.3039, 0.3182, 0.1008, 0.0380, 0.2094, 0.4081, 0.0348, 0.0198,\n",
      "        0.5091, 0.0976, 0.1025, 0.0472, 0.2110, 0.6317, 0.0182, 0.0301, 0.1239,\n",
      "        0.0971, 0.7922, 0.1727, 0.3580, 0.0387, 0.4324, 0.1751, 0.1212, 0.4161,\n",
      "        0.7415, 0.0775, 0.5305, 0.2856, 0.8614, 0.0050, 0.0316, 0.0286, 0.4494,\n",
      "        0.1100, 0.0169, 0.0315, 0.1964, 0.2644, 0.7914, 0.5604, 0.4002, 0.4889,\n",
      "        0.1267, 0.6841, 0.1485, 0.2325, 0.5541, 0.1732, 0.0022, 0.2775, 0.5098,\n",
      "        0.1577, 0.0735, 0.6424, 0.1168, 0.0386, 0.0803, 0.3336, 0.0718, 0.5101,\n",
      "        0.1314, 0.0891])\n"
     ]
    },
    {
     "name": "stderr",
     "output_type": "stream",
     "text": [
      "100%|██████████| 1000/1000 [01:02<00:00, 15.91it/s]\n",
      " 62%|██████▎   | 20/32 [21:14<12:49, 64.14s/it]"
     ]
    },
    {
     "name": "stdout",
     "output_type": "stream",
     "text": [
      "Stored at patched_MS_vicuna7b_1000\n",
      "proportion of positive labels is 0.49\n",
      "positive_sum=tensor([0.6176, 0.3649, 0.3863, 0.6301, 0.6922, 0.6853, 0.4991, 0.7318, 0.8652,\n",
      "        0.1406, 0.5819, 0.9795, 0.9877, 0.7873, 0.4569, 0.2394, 0.5189, 0.1544,\n",
      "        0.7672, 0.9134, 0.8595, 0.8672, 0.9581, 0.6925, 0.6157, 0.9937, 0.5348,\n",
      "        0.8153, 0.8744, 0.7335, 0.9878, 0.9757, 0.9478, 0.8921, 0.5730, 0.9915,\n",
      "        0.8423, 0.4276, 0.9548, 0.7055, 0.9487, 0.7769, 0.3716, 0.8842, 0.6325,\n",
      "        0.9321, 0.9972, 0.5469, 0.6154, 0.6659, 0.5224, 0.6617, 0.9809, 0.8745,\n",
      "        0.9944, 0.9787, 0.4463, 0.5198, 0.7109, 0.6984, 0.9907, 0.7294, 0.9531,\n",
      "        0.8476, 0.4728, 0.7100, 0.6275, 0.5896, 0.9512, 0.8607, 0.9728, 0.8487,\n",
      "        0.0188, 0.5241, 0.4103, 0.2381, 0.8707, 0.1930, 0.9099, 0.9815, 0.1618,\n",
      "        0.9930, 0.9150, 0.4727, 0.8496, 0.5324, 0.5615, 0.8001, 0.9734, 0.8678,\n",
      "        0.3916, 0.7917, 0.1441, 0.7020, 0.9779, 0.3649, 0.9902, 0.7943, 0.8560,\n",
      "        0.7138, 0.7990, 0.7773, 0.9685, 0.5616, 0.5171, 0.9863, 0.1450, 0.9700,\n",
      "        0.9851, 0.9103, 0.8786, 0.3519, 0.1089, 0.8745, 0.9016, 0.9281, 0.5263,\n",
      "        0.4324, 0.9465, 0.9747, 0.8057, 0.9468, 0.3857, 0.5577, 0.2538, 0.9511,\n",
      "        0.5514, 0.8819, 0.9635, 0.7365, 0.7541, 0.9162, 0.9584, 0.8274, 0.8465,\n",
      "        0.7880, 0.6718, 0.6567, 0.9125, 0.9679, 0.7734, 0.5612, 0.9709, 0.9831,\n",
      "        0.4540, 0.9168, 0.9141, 0.9596, 0.7730, 0.3260, 0.9846, 0.9750, 0.8936,\n",
      "        0.8962, 0.1840, 0.8491, 0.6828, 0.9670, 0.5340, 0.8507, 0.8930, 0.5489,\n",
      "        0.2299, 0.9125, 0.4342, 0.7470, 0.1214, 0.9957, 0.9725, 0.9763, 0.5174,\n",
      "        0.8794, 0.9855, 0.9731, 0.8319, 0.7110, 0.1864, 0.4002, 0.5685, 0.5455,\n",
      "        0.8895, 0.2798, 0.8721, 0.7501, 0.4858, 0.8045, 0.9981, 0.7003, 0.4478,\n",
      "        0.8260, 0.9352, 0.3256, 0.8976, 0.9671, 0.9309, 0.6311, 0.9399, 0.4476,\n",
      "        0.8890, 0.9007]), negative_sum=tensor([0.3824, 0.6351, 0.6137, 0.3699, 0.3078, 0.3147, 0.5009, 0.2682, 0.1348,\n",
      "        0.8594, 0.4181, 0.0205, 0.0123, 0.2127, 0.5431, 0.7606, 0.4811, 0.8456,\n",
      "        0.2328, 0.0866, 0.1405, 0.1328, 0.0419, 0.3075, 0.3843, 0.0063, 0.4652,\n",
      "        0.1847, 0.1256, 0.2665, 0.0122, 0.0243, 0.0522, 0.1079, 0.4270, 0.0085,\n",
      "        0.1577, 0.5724, 0.0452, 0.2945, 0.0513, 0.2231, 0.6284, 0.1158, 0.3675,\n",
      "        0.0679, 0.0028, 0.4531, 0.3846, 0.3341, 0.4776, 0.3383, 0.0191, 0.1255,\n",
      "        0.0056, 0.0213, 0.5537, 0.4802, 0.2891, 0.3016, 0.0093, 0.2706, 0.0469,\n",
      "        0.1524, 0.5272, 0.2900, 0.3725, 0.4104, 0.0488, 0.1393, 0.0272, 0.1513,\n",
      "        0.9812, 0.4759, 0.5897, 0.7619, 0.1293, 0.8070, 0.0901, 0.0185, 0.8382,\n",
      "        0.0070, 0.0850, 0.5273, 0.1504, 0.4676, 0.4385, 0.1999, 0.0266, 0.1322,\n",
      "        0.6084, 0.2083, 0.8559, 0.2980, 0.0221, 0.6351, 0.0098, 0.2057, 0.1440,\n",
      "        0.2862, 0.2010, 0.2227, 0.0315, 0.4384, 0.4829, 0.0137, 0.8550, 0.0300,\n",
      "        0.0149, 0.0897, 0.1214, 0.6481, 0.8911, 0.1255, 0.0984, 0.0719, 0.4737,\n",
      "        0.5676, 0.0535, 0.0253, 0.1943, 0.0532, 0.6143, 0.4423, 0.7462, 0.0489,\n",
      "        0.4486, 0.1181, 0.0365, 0.2635, 0.2459, 0.0838, 0.0416, 0.1726, 0.1535,\n",
      "        0.2120, 0.3282, 0.3433, 0.0875, 0.0321, 0.2266, 0.4388, 0.0291, 0.0169,\n",
      "        0.5460, 0.0832, 0.0859, 0.0404, 0.2270, 0.6740, 0.0154, 0.0250, 0.1064,\n",
      "        0.1038, 0.8160, 0.1509, 0.3172, 0.0330, 0.4660, 0.1493, 0.1070, 0.4511,\n",
      "        0.7701, 0.0875, 0.5658, 0.2530, 0.8786, 0.0043, 0.0275, 0.0237, 0.4826,\n",
      "        0.1206, 0.0145, 0.0269, 0.1681, 0.2890, 0.8136, 0.5998, 0.4315, 0.4545,\n",
      "        0.1105, 0.7202, 0.1279, 0.2499, 0.5142, 0.1955, 0.0019, 0.2997, 0.5522,\n",
      "        0.1740, 0.0648, 0.6744, 0.1024, 0.0329, 0.0691, 0.3689, 0.0601, 0.5524,\n",
      "        0.1110, 0.0993])\n"
     ]
    },
    {
     "name": "stderr",
     "output_type": "stream",
     "text": [
      "100%|██████████| 1000/1000 [01:02<00:00, 15.91it/s]\n",
      " 66%|██████▌   | 21/32 [22:18<11:46, 64.18s/it]"
     ]
    },
    {
     "name": "stdout",
     "output_type": "stream",
     "text": [
      "Stored at patched_MS_vicuna7b_1000\n",
      "proportion of positive labels is 0.49\n",
      "positive_sum=tensor([0.5369, 0.2658, 0.2875, 0.5740, 0.5740, 0.6136, 0.4208, 0.6578, 0.9197,\n",
      "        0.0823, 0.4953, 0.9904, 0.9935, 0.8717, 0.5871, 0.1544, 0.4157, 0.0913,\n",
      "        0.8585, 0.9536, 0.9276, 0.9245, 0.9539, 0.7974, 0.5335, 0.9968, 0.4240,\n",
      "        0.8930, 0.9319, 0.8389, 0.9938, 0.9874, 0.9712, 0.9381, 0.4728, 0.9955,\n",
      "        0.7722, 0.3352, 0.9753, 0.8021, 0.9719, 0.6818, 0.4737, 0.8519, 0.5356,\n",
      "        0.9632, 0.9982, 0.6540, 0.7544, 0.4921, 0.4159, 0.5702, 0.9913, 0.8269,\n",
      "        0.9972, 0.9902, 0.3581, 0.3747, 0.6335, 0.6611, 0.9952, 0.8222, 0.9734,\n",
      "        0.9174, 0.3603, 0.8219, 0.4672, 0.6939, 0.9762, 0.8215, 0.9849, 0.7683,\n",
      "        0.0078, 0.4149, 0.3037, 0.1732, 0.8103, 0.1198, 0.9426, 0.9913, 0.0885,\n",
      "        0.9962, 0.9567, 0.3208, 0.9127, 0.3759, 0.4841, 0.7641, 0.9871, 0.8514,\n",
      "        0.2559, 0.8615, 0.0883, 0.6341, 0.9891, 0.2275, 0.9947, 0.7076, 0.8408,\n",
      "        0.6354, 0.7350, 0.8559, 0.9834, 0.4690, 0.3524, 0.9925, 0.0762, 0.9838,\n",
      "        0.9910, 0.8729, 0.8467, 0.2320, 0.0590, 0.9275, 0.8752, 0.9605, 0.3925,\n",
      "        0.3346, 0.9761, 0.9879, 0.7708, 0.9733, 0.2676, 0.4952, 0.1784, 0.9740,\n",
      "        0.4168, 0.9366, 0.9799, 0.8331, 0.8261, 0.9519, 0.9790, 0.7565, 0.9082,\n",
      "        0.7155, 0.6018, 0.5915, 0.9552, 0.9825, 0.7291, 0.4304, 0.9868, 0.9912,\n",
      "        0.3474, 0.9586, 0.9590, 0.9789, 0.7342, 0.2148, 0.9925, 0.9873, 0.9416,\n",
      "        0.8808, 0.0990, 0.9152, 0.8066, 0.9828, 0.4158, 0.9279, 0.9377, 0.4208,\n",
      "        0.1397, 0.8797, 0.3285, 0.8530, 0.0697, 0.9975, 0.9840, 0.9894, 0.4411,\n",
      "        0.8487, 0.9932, 0.9862, 0.9091, 0.6416, 0.1163, 0.2672, 0.4562, 0.6569,\n",
      "        0.9421, 0.1575, 0.9340, 0.7102, 0.6380, 0.7239, 0.9991, 0.6305, 0.3034,\n",
      "        0.7838, 0.9630, 0.2191, 0.9413, 0.9826, 0.9622, 0.5144, 0.9709, 0.3463,\n",
      "        0.9412, 0.8576]), negative_sum=tensor([4.6312e-01, 7.3423e-01, 7.1250e-01, 4.2605e-01, 4.2598e-01, 3.8637e-01,\n",
      "        5.7922e-01, 3.4217e-01, 8.0335e-02, 9.1770e-01, 5.0471e-01, 9.5512e-03,\n",
      "        6.5422e-03, 1.2826e-01, 4.1292e-01, 8.4564e-01, 5.8426e-01, 9.0874e-01,\n",
      "        1.4148e-01, 4.6433e-02, 7.2438e-02, 7.5537e-02, 4.6140e-02, 2.0259e-01,\n",
      "        4.6649e-01, 3.1829e-03, 5.7603e-01, 1.0697e-01, 6.8127e-02, 1.6113e-01,\n",
      "        6.1519e-03, 1.2648e-02, 2.8755e-02, 6.1857e-02, 5.2717e-01, 4.4773e-03,\n",
      "        2.2777e-01, 6.6481e-01, 2.4673e-02, 1.9786e-01, 2.8149e-02, 3.1822e-01,\n",
      "        5.2632e-01, 1.4808e-01, 4.6443e-01, 3.6760e-02, 1.8433e-03, 3.4600e-01,\n",
      "        2.4560e-01, 5.0786e-01, 5.8410e-01, 4.2982e-01, 8.7045e-03, 1.7307e-01,\n",
      "        2.8050e-03, 9.8384e-03, 6.4194e-01, 6.2526e-01, 3.6655e-01, 3.3889e-01,\n",
      "        4.7586e-03, 1.7784e-01, 2.6614e-02, 8.2646e-02, 6.3970e-01, 1.7812e-01,\n",
      "        5.3277e-01, 3.0614e-01, 2.3837e-02, 1.7845e-01, 1.5139e-02, 2.3175e-01,\n",
      "        9.9224e-01, 5.8513e-01, 6.9626e-01, 8.2679e-01, 1.8967e-01, 8.8019e-01,\n",
      "        5.7354e-02, 8.6628e-03, 9.1148e-01, 3.7550e-03, 4.3319e-02, 6.7915e-01,\n",
      "        8.7349e-02, 6.2411e-01, 5.1595e-01, 2.3587e-01, 1.2931e-02, 1.4864e-01,\n",
      "        7.4415e-01, 1.3846e-01, 9.1172e-01, 3.6591e-01, 1.0863e-02, 7.7252e-01,\n",
      "        5.3280e-03, 2.9240e-01, 1.5920e-01, 3.6457e-01, 2.6498e-01, 1.4411e-01,\n",
      "        1.6623e-02, 5.3104e-01, 6.4755e-01, 7.5091e-03, 9.2383e-01, 1.6220e-02,\n",
      "        9.0043e-03, 1.2708e-01, 1.5333e-01, 7.6797e-01, 9.4098e-01, 7.2501e-02,\n",
      "        1.2477e-01, 3.9475e-02, 6.0750e-01, 6.6536e-01, 2.3929e-02, 1.2146e-02,\n",
      "        2.2918e-01, 2.6658e-02, 7.3239e-01, 5.0483e-01, 8.2157e-01, 2.5997e-02,\n",
      "        5.8321e-01, 6.3379e-02, 2.0111e-02, 1.6688e-01, 1.7391e-01, 4.8062e-02,\n",
      "        2.0962e-02, 2.4350e-01, 9.1828e-02, 2.8455e-01, 3.9817e-01, 4.0849e-01,\n",
      "        4.4829e-02, 1.7517e-02, 2.7092e-01, 5.6962e-01, 1.3178e-02, 8.7652e-03,\n",
      "        6.5265e-01, 4.1412e-02, 4.0969e-02, 2.1062e-02, 2.6581e-01, 7.8518e-01,\n",
      "        7.5430e-03, 1.2698e-02, 5.8447e-02, 1.1917e-01, 9.0100e-01, 8.4814e-02,\n",
      "        1.9342e-01, 1.7160e-02, 5.8415e-01, 7.2107e-02, 6.2347e-02, 5.7925e-01,\n",
      "        8.6031e-01, 1.2033e-01, 6.7153e-01, 1.4696e-01, 9.3034e-01, 2.4921e-03,\n",
      "        1.5964e-02, 1.0571e-02, 5.5890e-01, 1.5128e-01, 6.7923e-03, 1.3820e-02,\n",
      "        9.0936e-02, 3.5843e-01, 8.8373e-01, 7.3279e-01, 5.4380e-01, 3.4305e-01,\n",
      "        5.7864e-02, 8.4249e-01, 6.6023e-02, 2.8984e-01, 3.6202e-01, 2.7607e-01,\n",
      "        8.8877e-04, 3.6951e-01, 6.9659e-01, 2.1624e-01, 3.7011e-02, 7.8095e-01,\n",
      "        5.8729e-02, 1.7415e-02, 3.7826e-02, 4.8560e-01, 2.9117e-02, 6.5369e-01,\n",
      "        5.8815e-02, 1.4237e-01])\n"
     ]
    },
    {
     "name": "stderr",
     "output_type": "stream",
     "text": [
      "100%|██████████| 1000/1000 [01:02<00:00, 16.04it/s]\n",
      " 69%|██████▉   | 22/32 [23:22<10:40, 64.04s/it]"
     ]
    },
    {
     "name": "stdout",
     "output_type": "stream",
     "text": [
      "Stored at patched_MS_vicuna7b_1000\n",
      "proportion of positive labels is 0.49\n",
      "positive_sum=tensor([0.5358, 0.2620, 0.2838, 0.5746, 0.5724, 0.6129, 0.4201, 0.6576, 0.9230,\n",
      "        0.0793, 0.4940, 0.9911, 0.9940, 0.8761, 0.5894, 0.1489, 0.4136, 0.0882,\n",
      "        0.8609, 0.9560, 0.9302, 0.9269, 0.9548, 0.8034, 0.5323, 0.9971, 0.4207,\n",
      "        0.8961, 0.9350, 0.8425, 0.9943, 0.9881, 0.9727, 0.9406, 0.4703, 0.9959,\n",
      "        0.7732, 0.3318, 0.9765, 0.8051, 0.9736, 0.6811, 0.4742, 0.8542, 0.5327,\n",
      "        0.9649, 0.9983, 0.6560, 0.7585, 0.4901, 0.4144, 0.5705, 0.9920, 0.8288,\n",
      "        0.9974, 0.9910, 0.3556, 0.3730, 0.6339, 0.6629, 0.9957, 0.8261, 0.9752,\n",
      "        0.9211, 0.3566, 0.8248, 0.4660, 0.6988, 0.9776, 0.8227, 0.9857, 0.7692,\n",
      "        0.0071, 0.4115, 0.3026, 0.1698, 0.8104, 0.1161, 0.9444, 0.9920, 0.0855,\n",
      "        0.9966, 0.9587, 0.3170, 0.9156, 0.3732, 0.4829, 0.7642, 0.9879, 0.8520,\n",
      "        0.2516, 0.8652, 0.0854, 0.6338, 0.9899, 0.2228, 0.9951, 0.7084, 0.8431,\n",
      "        0.6359, 0.7358, 0.8604, 0.9845, 0.4683, 0.3484, 0.9930, 0.0737, 0.9849,\n",
      "        0.9917, 0.8741, 0.8482, 0.2272, 0.0568, 0.9289, 0.8767, 0.9627, 0.3869,\n",
      "        0.3302, 0.9774, 0.9887, 0.7719, 0.9748, 0.2634, 0.4940, 0.1724, 0.9754,\n",
      "        0.4138, 0.9399, 0.9812, 0.8374, 0.8302, 0.9541, 0.9803, 0.7579, 0.9111,\n",
      "        0.7151, 0.6012, 0.5915, 0.9569, 0.9837, 0.7299, 0.4294, 0.9877, 0.9918,\n",
      "        0.3427, 0.9609, 0.9609, 0.9802, 0.7349, 0.2093, 0.9930, 0.9882, 0.9444,\n",
      "        0.8821, 0.0948, 0.9183, 0.8116, 0.9840, 0.4144, 0.9307, 0.9400, 0.4191,\n",
      "        0.1352, 0.8809, 0.3232, 0.8567, 0.0676, 0.9977, 0.9850, 0.9901, 0.4390,\n",
      "        0.8501, 0.9938, 0.9872, 0.9121, 0.6418, 0.1137, 0.2624, 0.4548, 0.6644,\n",
      "        0.9442, 0.1546, 0.9367, 0.7120, 0.6409, 0.7241, 0.9992, 0.6285, 0.3009,\n",
      "        0.7842, 0.9654, 0.2166, 0.9439, 0.9837, 0.9640, 0.5116, 0.9720, 0.3426,\n",
      "        0.9449, 0.8593]), negative_sum=tensor([4.6422e-01, 7.3795e-01, 7.1616e-01, 4.2537e-01, 4.2756e-01, 3.8710e-01,\n",
      "        5.7988e-01, 3.4245e-01, 7.6965e-02, 9.2070e-01, 5.0605e-01, 8.8701e-03,\n",
      "        6.0331e-03, 1.2390e-01, 4.1055e-01, 8.5110e-01, 5.8638e-01, 9.1180e-01,\n",
      "        1.3908e-01, 4.4003e-02, 6.9767e-02, 7.3101e-02, 4.5197e-02, 1.9663e-01,\n",
      "        4.6773e-01, 2.8883e-03, 5.7933e-01, 1.0393e-01, 6.4980e-02, 1.5752e-01,\n",
      "        5.6669e-03, 1.1876e-02, 2.7318e-02, 5.9392e-02, 5.2966e-01, 4.1194e-03,\n",
      "        2.2679e-01, 6.6822e-01, 2.3463e-02, 1.9487e-01, 2.6413e-02, 3.1894e-01,\n",
      "        5.2577e-01, 1.4580e-01, 4.6734e-01, 3.5058e-02, 1.6662e-03, 3.4401e-01,\n",
      "        2.4151e-01, 5.0987e-01, 5.8558e-01, 4.2953e-01, 8.0243e-03, 1.7125e-01,\n",
      "        2.5538e-03, 9.0137e-03, 6.4437e-01, 6.2702e-01, 3.6612e-01, 3.3707e-01,\n",
      "        4.3119e-03, 1.7393e-01, 2.4784e-02, 7.8855e-02, 6.4345e-01, 1.7522e-01,\n",
      "        5.3401e-01, 3.0121e-01, 2.2362e-02, 1.7735e-01, 1.4270e-02, 2.3082e-01,\n",
      "        9.9285e-01, 5.8850e-01, 6.9743e-01, 8.3022e-01, 1.8960e-01, 8.8388e-01,\n",
      "        5.5593e-02, 8.0256e-03, 9.1446e-01, 3.4435e-03, 4.1350e-02, 6.8297e-01,\n",
      "        8.4398e-02, 6.2678e-01, 5.1710e-01, 2.3581e-01, 1.2058e-02, 1.4802e-01,\n",
      "        7.4837e-01, 1.3477e-01, 9.1463e-01, 3.6623e-01, 1.0076e-02, 7.7720e-01,\n",
      "        4.8960e-03, 2.9161e-01, 1.5692e-01, 3.6413e-01, 2.6424e-01, 1.3959e-01,\n",
      "        1.5477e-02, 5.3172e-01, 6.5163e-01, 6.9770e-03, 9.2631e-01, 1.5140e-02,\n",
      "        8.2680e-03, 1.2591e-01, 1.5182e-01, 7.7282e-01, 9.4322e-01, 7.1086e-02,\n",
      "        1.2327e-01, 3.7273e-02, 6.1312e-01, 6.6983e-01, 2.2585e-02, 1.1349e-02,\n",
      "        2.2809e-01, 2.5238e-02, 7.3664e-01, 5.0600e-01, 8.2761e-01, 2.4620e-02,\n",
      "        5.8618e-01, 6.0073e-02, 1.8753e-02, 1.6265e-01, 1.6984e-01, 4.5869e-02,\n",
      "        1.9651e-02, 2.4211e-01, 8.8914e-02, 2.8487e-01, 3.9876e-01, 4.0851e-01,\n",
      "        4.3125e-02, 1.6273e-02, 2.7015e-01, 5.7056e-01, 1.2339e-02, 8.1691e-03,\n",
      "        6.5732e-01, 3.9075e-02, 3.9101e-02, 1.9838e-02, 2.6507e-01, 7.9072e-01,\n",
      "        7.0155e-03, 1.1824e-02, 5.5593e-02, 1.1786e-01, 9.0518e-01, 8.1690e-02,\n",
      "        1.8836e-01, 1.6045e-02, 5.8558e-01, 6.9279e-02, 5.9984e-02, 5.8091e-01,\n",
      "        8.6483e-01, 1.1905e-01, 6.7684e-01, 1.4330e-01, 9.3243e-01, 2.2626e-03,\n",
      "        1.5040e-02, 9.8702e-03, 5.6097e-01, 1.4995e-01, 6.2336e-03, 1.2829e-02,\n",
      "        8.7864e-02, 3.5822e-01, 8.8627e-01, 7.3756e-01, 5.4518e-01, 3.3563e-01,\n",
      "        5.5775e-02, 8.4542e-01, 6.3349e-02, 2.8801e-01, 3.5906e-01, 2.7591e-01,\n",
      "        7.9177e-04, 3.7146e-01, 6.9906e-01, 2.1582e-01, 3.4641e-02, 7.8335e-01,\n",
      "        5.6062e-02, 1.6304e-02, 3.5985e-02, 4.8841e-01, 2.7963e-02, 6.5737e-01,\n",
      "        5.5111e-02, 1.4074e-01])\n"
     ]
    },
    {
     "name": "stderr",
     "output_type": "stream",
     "text": [
      "100%|██████████| 1000/1000 [01:02<00:00, 16.03it/s]\n",
      " 72%|███████▏  | 23/32 [24:25<09:35, 63.91s/it]"
     ]
    },
    {
     "name": "stdout",
     "output_type": "stream",
     "text": [
      "Stored at patched_MS_vicuna7b_1000\n",
      "proportion of positive labels is 0.49\n",
      "positive_sum=tensor([0.5220, 0.2526, 0.2709, 0.5683, 0.5637, 0.6032, 0.4121, 0.6563, 0.9319,\n",
      "        0.0713, 0.4873, 0.9925, 0.9950, 0.8877, 0.6009, 0.1393, 0.3968, 0.0816,\n",
      "        0.8731, 0.9616, 0.9380, 0.9341, 0.9558, 0.8177, 0.5227, 0.9975, 0.4053,\n",
      "        0.9057, 0.9430, 0.8566, 0.9951, 0.9898, 0.9771, 0.9492, 0.4524, 0.9964,\n",
      "        0.7732, 0.3260, 0.9801, 0.8172, 0.9765, 0.6690, 0.4881, 0.8565, 0.5214,\n",
      "        0.9695, 0.9986, 0.6655, 0.7743, 0.4750, 0.4036, 0.5594, 0.9932, 0.8289,\n",
      "        0.9978, 0.9923, 0.3424, 0.3569, 0.6309, 0.6625, 0.9964, 0.8366, 0.9779,\n",
      "        0.9298, 0.3461, 0.8359, 0.4489, 0.7103, 0.9803, 0.8191, 0.9876, 0.7634,\n",
      "        0.0056, 0.3965, 0.2856, 0.1604, 0.8092, 0.1051, 0.9489, 0.9933, 0.0768,\n",
      "        0.9971, 0.9640, 0.3026, 0.9251, 0.3634, 0.4754, 0.7616, 0.9893, 0.8517,\n",
      "        0.2393, 0.8753, 0.0787, 0.6209, 0.9916, 0.2002, 0.9956, 0.7028, 0.8458,\n",
      "        0.6313, 0.7259, 0.8721, 0.9868, 0.4636, 0.3226, 0.9942, 0.0669, 0.9869,\n",
      "        0.9928, 0.8725, 0.8488, 0.2151, 0.0516, 0.9361, 0.8776, 0.9657, 0.3715,\n",
      "        0.3184, 0.9804, 0.9902, 0.7727, 0.9783, 0.2455, 0.4880, 0.1600, 0.9782,\n",
      "        0.3968, 0.9454, 0.9836, 0.8517, 0.8411, 0.9587, 0.9834, 0.7538, 0.9198,\n",
      "        0.7067, 0.5908, 0.5860, 0.9626, 0.9857, 0.7272, 0.4095, 0.9892, 0.9928,\n",
      "        0.3235, 0.9651, 0.9653, 0.9823, 0.7310, 0.1999, 0.9939, 0.9897, 0.9497,\n",
      "        0.8822, 0.0870, 0.9280, 0.8279, 0.9862, 0.4032, 0.9399, 0.9486, 0.4044,\n",
      "        0.1259, 0.8800, 0.3046, 0.8671, 0.0617, 0.9981, 0.9868, 0.9920, 0.4342,\n",
      "        0.8507, 0.9949, 0.9889, 0.9236, 0.6387, 0.1065, 0.2500, 0.4412, 0.6856,\n",
      "        0.9491, 0.1435, 0.9440, 0.7122, 0.6543, 0.7150, 0.9993, 0.6201, 0.2827,\n",
      "        0.7825, 0.9695, 0.2101, 0.9501, 0.9862, 0.9675, 0.4976, 0.9753, 0.3288,\n",
      "        0.9514, 0.8557]), negative_sum=tensor([4.7800e-01, 7.4745e-01, 7.2905e-01, 4.3171e-01, 4.3626e-01, 3.9675e-01,\n",
      "        5.8793e-01, 3.4370e-01, 6.8147e-02, 9.2873e-01, 5.1268e-01, 7.4998e-03,\n",
      "        5.0091e-03, 1.1234e-01, 3.9910e-01, 8.6066e-01, 6.0324e-01, 9.1843e-01,\n",
      "        1.2692e-01, 3.8400e-02, 6.2039e-02, 6.5900e-02, 4.4176e-02, 1.8233e-01,\n",
      "        4.7731e-01, 2.4658e-03, 5.9473e-01, 9.4267e-02, 5.7003e-02, 1.4337e-01,\n",
      "        4.8740e-03, 1.0198e-02, 2.2897e-02, 5.0845e-02, 5.4762e-01, 3.5693e-03,\n",
      "        2.2679e-01, 6.7396e-01, 1.9884e-02, 1.8284e-01, 2.3537e-02, 3.3097e-01,\n",
      "        5.1193e-01, 1.4354e-01, 4.7864e-01, 3.0533e-02, 1.3866e-03, 3.3455e-01,\n",
      "        2.2567e-01, 5.2505e-01, 5.9644e-01, 4.4057e-01, 6.7515e-03, 1.7106e-01,\n",
      "        2.2138e-03, 7.6872e-03, 6.5755e-01, 6.4311e-01, 3.6912e-01, 3.3747e-01,\n",
      "        3.6110e-03, 1.6343e-01, 2.2111e-02, 7.0165e-02, 6.5392e-01, 1.6409e-01,\n",
      "        5.5114e-01, 2.8966e-01, 1.9654e-02, 1.8091e-01, 1.2361e-02, 2.3662e-01,\n",
      "        9.9442e-01, 6.0351e-01, 7.1442e-01, 8.3958e-01, 1.9076e-01, 8.9488e-01,\n",
      "        5.1075e-02, 6.7343e-03, 9.2316e-01, 2.9073e-03, 3.6028e-02, 6.9745e-01,\n",
      "        7.4902e-02, 6.3665e-01, 5.2456e-01, 2.3838e-01, 1.0723e-02, 1.4834e-01,\n",
      "        7.6068e-01, 1.2469e-01, 9.2130e-01, 3.7912e-01, 8.4451e-03, 7.9981e-01,\n",
      "        4.4485e-03, 2.9724e-01, 1.5423e-01, 3.6872e-01, 2.7413e-01, 1.2787e-01,\n",
      "        1.3180e-02, 5.3635e-01, 6.7739e-01, 5.8215e-03, 9.3315e-01, 1.3060e-02,\n",
      "        7.2308e-03, 1.2746e-01, 1.5119e-01, 7.8494e-01, 9.4841e-01, 6.3938e-02,\n",
      "        1.2238e-01, 3.4328e-02, 6.2852e-01, 6.8161e-01, 1.9645e-02, 9.7595e-03,\n",
      "        2.2725e-01, 2.1737e-02, 7.5455e-01, 5.1201e-01, 8.4005e-01, 2.1842e-02,\n",
      "        6.0324e-01, 5.4568e-02, 1.6418e-02, 1.4829e-01, 1.5886e-01, 4.1334e-02,\n",
      "        1.6623e-02, 2.4617e-01, 8.0154e-02, 2.9331e-01, 4.0916e-01, 4.1404e-01,\n",
      "        3.7363e-02, 1.4260e-02, 2.7282e-01, 5.9045e-01, 1.0832e-02, 7.1600e-03,\n",
      "        6.7649e-01, 3.4877e-02, 3.4666e-02, 1.7668e-02, 2.6903e-01, 8.0008e-01,\n",
      "        6.0830e-03, 1.0288e-02, 5.0299e-02, 1.1777e-01, 9.1299e-01, 7.2028e-02,\n",
      "        1.7212e-01, 1.3844e-02, 5.9679e-01, 6.0060e-02, 5.1427e-02, 5.9559e-01,\n",
      "        8.7410e-01, 1.2003e-01, 6.9541e-01, 1.3290e-01, 9.3826e-01, 1.8648e-03,\n",
      "        1.3218e-02, 8.0213e-03, 5.6576e-01, 1.4935e-01, 5.1228e-03, 1.1105e-02,\n",
      "        7.6413e-02, 3.6130e-01, 8.9348e-01, 7.5004e-01, 5.5879e-01, 3.1441e-01,\n",
      "        5.0949e-02, 8.5647e-01, 5.6012e-02, 2.8775e-01, 3.4565e-01, 2.8503e-01,\n",
      "        6.6874e-04, 3.7992e-01, 7.1725e-01, 2.1746e-01, 3.0454e-02, 7.8991e-01,\n",
      "        4.9924e-02, 1.3794e-02, 3.2452e-02, 5.0239e-01, 2.4668e-02, 6.7117e-01,\n",
      "        4.8623e-02, 1.4434e-01])\n"
     ]
    },
    {
     "name": "stderr",
     "output_type": "stream",
     "text": [
      "100%|██████████| 1000/1000 [01:02<00:00, 15.89it/s]\n",
      " 75%|███████▌  | 24/32 [25:29<08:32, 64.01s/it]"
     ]
    },
    {
     "name": "stdout",
     "output_type": "stream",
     "text": [
      "Stored at patched_MS_vicuna7b_1000\n",
      "proportion of positive labels is 0.49\n",
      "positive_sum=tensor([0.4947, 0.2263, 0.2441, 0.5354, 0.5243, 0.5740, 0.3818, 0.6225, 0.9413,\n",
      "        0.0604, 0.4524, 0.9937, 0.9955, 0.9030, 0.6383, 0.1223, 0.3630, 0.0695,\n",
      "        0.8931, 0.9678, 0.9488, 0.9442, 0.9531, 0.8393, 0.4921, 0.9979, 0.3717,\n",
      "        0.9199, 0.9527, 0.8779, 0.9959, 0.9913, 0.9803, 0.9566, 0.4224, 0.9969,\n",
      "        0.7396, 0.2977, 0.9832, 0.8413, 0.9799, 0.6309, 0.5255, 0.8356, 0.4890,\n",
      "        0.9742, 0.9987, 0.7053, 0.8058, 0.4180, 0.3642, 0.5213, 0.9943, 0.8040,\n",
      "        0.9981, 0.9937, 0.3128, 0.3129, 0.5927, 0.6369, 0.9969, 0.8606, 0.9806,\n",
      "        0.9414, 0.3052, 0.8609, 0.3991, 0.7417, 0.9837, 0.7976, 0.9893, 0.7266,\n",
      "        0.0047, 0.3620, 0.2560, 0.1429, 0.7822, 0.0919, 0.9556, 0.9946, 0.0641,\n",
      "        0.9975, 0.9699, 0.2595, 0.9366, 0.3166, 0.4484, 0.7405, 0.9908, 0.8399,\n",
      "        0.2046, 0.8922, 0.0667, 0.5901, 0.9929, 0.1707, 0.9961, 0.6578, 0.8313,\n",
      "        0.5992, 0.7020, 0.8876, 0.9887, 0.4275, 0.2797, 0.9950, 0.0546, 0.9891,\n",
      "        0.9935, 0.8527, 0.8318, 0.1873, 0.0429, 0.9452, 0.8613, 0.9708, 0.3289,\n",
      "        0.2855, 0.9840, 0.9920, 0.7507, 0.9820, 0.2147, 0.4583, 0.1376, 0.9815,\n",
      "        0.3586, 0.9555, 0.9858, 0.8694, 0.8598, 0.9642, 0.9862, 0.7174, 0.9313,\n",
      "        0.6763, 0.5618, 0.5616, 0.9687, 0.9880, 0.7022, 0.3705, 0.9911, 0.9939,\n",
      "        0.2915, 0.9708, 0.9720, 0.9852, 0.7131, 0.1737, 0.9949, 0.9912, 0.9574,\n",
      "        0.8754, 0.0728, 0.9397, 0.8578, 0.9882, 0.3662, 0.9506, 0.9558, 0.3694,\n",
      "        0.1075, 0.8623, 0.2758, 0.8893, 0.0526, 0.9984, 0.9886, 0.9935, 0.4023,\n",
      "        0.8366, 0.9956, 0.9908, 0.9366, 0.6009, 0.0920, 0.2153, 0.4015, 0.7179,\n",
      "        0.9569, 0.1202, 0.9524, 0.6816, 0.6980, 0.6790, 0.9994, 0.5906, 0.2447,\n",
      "        0.7610, 0.9740, 0.1821, 0.9570, 0.9883, 0.9728, 0.4547, 0.9799, 0.2958,\n",
      "        0.9587, 0.8323]), negative_sum=tensor([5.0525e-01, 7.7366e-01, 7.5586e-01, 4.6464e-01, 4.7568e-01, 4.2597e-01,\n",
      "        6.1823e-01, 3.7747e-01, 5.8690e-02, 9.3964e-01, 5.4760e-01, 6.3163e-03,\n",
      "        4.5059e-03, 9.6955e-02, 3.6167e-01, 8.7766e-01, 6.3705e-01, 9.3051e-01,\n",
      "        1.0687e-01, 3.2203e-02, 5.1242e-02, 5.5785e-02, 4.6928e-02, 1.6072e-01,\n",
      "        5.0788e-01, 2.1470e-03, 6.2833e-01, 8.0123e-02, 4.7303e-02, 1.2213e-01,\n",
      "        4.1053e-03, 8.6683e-03, 1.9650e-02, 4.3387e-02, 5.7755e-01, 3.1224e-03,\n",
      "        2.6036e-01, 7.0231e-01, 1.6760e-02, 1.5867e-01, 2.0089e-02, 3.6911e-01,\n",
      "        4.7453e-01, 1.6441e-01, 5.1103e-01, 2.5771e-02, 1.2596e-03, 2.9472e-01,\n",
      "        1.9421e-01, 5.8200e-01, 6.3580e-01, 4.7871e-01, 5.7312e-03, 1.9602e-01,\n",
      "        1.9149e-03, 6.2960e-03, 6.8722e-01, 6.8707e-01, 4.0732e-01, 3.6313e-01,\n",
      "        3.0886e-03, 1.3942e-01, 1.9387e-02, 5.8613e-02, 6.9484e-01, 1.3907e-01,\n",
      "        6.0091e-01, 2.5830e-01, 1.6311e-02, 2.0243e-01, 1.0674e-02, 2.7337e-01,\n",
      "        9.9530e-01, 6.3803e-01, 7.4399e-01, 8.5710e-01, 2.1785e-01, 9.0809e-01,\n",
      "        4.4380e-02, 5.4258e-03, 9.3589e-01, 2.5021e-03, 3.0077e-02, 7.4048e-01,\n",
      "        6.3351e-02, 6.8336e-01, 5.5163e-01, 2.5951e-01, 9.1852e-03, 1.6012e-01,\n",
      "        7.9543e-01, 1.0776e-01, 9.3332e-01, 4.0990e-01, 7.1053e-03, 8.2931e-01,\n",
      "        3.8785e-03, 3.4221e-01, 1.6870e-01, 4.0084e-01, 2.9798e-01, 1.1236e-01,\n",
      "        1.1345e-02, 5.7245e-01, 7.2034e-01, 5.0272e-03, 9.4543e-01, 1.0913e-02,\n",
      "        6.5273e-03, 1.4725e-01, 1.6820e-01, 8.1268e-01, 9.5705e-01, 5.4848e-02,\n",
      "        1.3868e-01, 2.9229e-02, 6.7113e-01, 7.1450e-01, 1.6004e-02, 8.0046e-03,\n",
      "        2.4926e-01, 1.8043e-02, 7.8531e-01, 5.4170e-01, 8.6244e-01, 1.8481e-02,\n",
      "        6.4142e-01, 4.4458e-02, 1.4188e-02, 1.3061e-01, 1.4016e-01, 3.5797e-02,\n",
      "        1.3792e-02, 2.8261e-01, 6.8705e-02, 3.2374e-01, 4.3817e-01, 4.3836e-01,\n",
      "        3.1318e-02, 1.1966e-02, 2.9785e-01, 6.2950e-01, 8.8953e-03, 6.1493e-03,\n",
      "        7.0848e-01, 2.9205e-02, 2.7966e-02, 1.4816e-02, 2.8694e-01, 8.2632e-01,\n",
      "        5.1229e-03, 8.7570e-03, 4.2599e-02, 1.2456e-01, 9.2724e-01, 6.0306e-02,\n",
      "        1.4225e-01, 1.1795e-02, 6.3376e-01, 4.9379e-02, 4.4161e-02, 6.3058e-01,\n",
      "        8.9248e-01, 1.3770e-01, 7.2415e-01, 1.1074e-01, 9.4737e-01, 1.6322e-03,\n",
      "        1.1381e-02, 6.4939e-03, 5.9768e-01, 1.6344e-01, 4.3580e-03, 9.2043e-03,\n",
      "        6.3377e-02, 3.9914e-01, 9.0803e-01, 7.8475e-01, 5.9851e-01, 2.8212e-01,\n",
      "        4.3106e-02, 8.7983e-01, 4.7589e-02, 3.1839e-01, 3.0203e-01, 3.2105e-01,\n",
      "        5.8206e-04, 4.0942e-01, 7.5528e-01, 2.3904e-01, 2.6012e-02, 8.1791e-01,\n",
      "        4.2957e-02, 1.1663e-02, 2.7191e-02, 5.4526e-01, 2.0089e-02, 7.0425e-01,\n",
      "        4.1278e-02, 1.6774e-01])\n"
     ]
    },
    {
     "name": "stderr",
     "output_type": "stream",
     "text": [
      "100%|██████████| 1000/1000 [01:03<00:00, 15.87it/s]\n",
      " 78%|███████▊  | 25/32 [26:34<07:28, 64.08s/it]"
     ]
    },
    {
     "name": "stdout",
     "output_type": "stream",
     "text": [
      "Stored at patched_MS_vicuna7b_1000\n",
      "proportion of positive labels is 0.49\n",
      "positive_sum=tensor([0.4909, 0.2238, 0.2412, 0.5313, 0.5203, 0.5697, 0.3783, 0.6188, 0.9423,\n",
      "        0.0591, 0.4494, 0.9938, 0.9956, 0.9047, 0.6419, 0.1204, 0.3596, 0.0683,\n",
      "        0.8948, 0.9684, 0.9497, 0.9452, 0.9525, 0.8415, 0.4884, 0.9979, 0.3679,\n",
      "        0.9211, 0.9535, 0.8796, 0.9960, 0.9915, 0.9807, 0.9574, 0.4181, 0.9969,\n",
      "        0.7371, 0.2942, 0.9836, 0.8435, 0.9803, 0.6270, 0.5298, 0.8333, 0.4855,\n",
      "        0.9747, 0.9988, 0.7081, 0.8083, 0.4134, 0.3603, 0.5178, 0.9944, 0.8017,\n",
      "        0.9981, 0.9939, 0.3094, 0.3090, 0.5891, 0.6333, 0.9970, 0.8627, 0.9810,\n",
      "        0.9424, 0.3016, 0.8631, 0.3950, 0.7452, 0.9840, 0.7953, 0.9895, 0.7234,\n",
      "        0.0046, 0.3586, 0.2531, 0.1410, 0.7798, 0.0907, 0.9563, 0.9947, 0.0629,\n",
      "        0.9976, 0.9705, 0.2558, 0.9378, 0.3130, 0.4452, 0.7373, 0.9910, 0.8382,\n",
      "        0.2020, 0.8938, 0.0655, 0.5861, 0.9930, 0.1683, 0.9962, 0.6544, 0.8296,\n",
      "        0.5958, 0.6994, 0.8897, 0.9889, 0.4240, 0.2761, 0.9951, 0.0535, 0.9893,\n",
      "        0.9936, 0.8509, 0.8298, 0.1847, 0.0422, 0.9460, 0.8595, 0.9715, 0.3244,\n",
      "        0.2824, 0.9843, 0.9922, 0.7483, 0.9823, 0.2119, 0.4548, 0.1350, 0.9819,\n",
      "        0.3553, 0.9564, 0.9861, 0.8715, 0.8619, 0.9648, 0.9865, 0.7141, 0.9323,\n",
      "        0.6725, 0.5572, 0.5587, 0.9692, 0.9883, 0.6992, 0.3670, 0.9913, 0.9940,\n",
      "        0.2872, 0.9713, 0.9726, 0.9855, 0.7099, 0.1706, 0.9950, 0.9914, 0.9582,\n",
      "        0.8740, 0.0716, 0.9409, 0.8599, 0.9884, 0.3628, 0.9516, 0.9566, 0.3660,\n",
      "        0.1058, 0.8605, 0.2721, 0.8911, 0.0516, 0.9984, 0.9888, 0.9936, 0.3986,\n",
      "        0.8348, 0.9957, 0.9910, 0.9378, 0.5976, 0.0907, 0.2119, 0.3980, 0.7216,\n",
      "        0.9576, 0.1183, 0.9532, 0.6792, 0.7019, 0.6752, 0.9994, 0.5872, 0.2415,\n",
      "        0.7580, 0.9744, 0.1800, 0.9577, 0.9886, 0.9734, 0.4508, 0.9803, 0.2919,\n",
      "        0.9596, 0.8301]), negative_sum=tensor([5.0913e-01, 7.7620e-01, 7.5878e-01, 4.6870e-01, 4.7967e-01, 4.3025e-01,\n",
      "        6.2167e-01, 3.8124e-01, 5.7680e-02, 9.4088e-01, 5.5059e-01, 6.1843e-03,\n",
      "        4.4151e-03, 9.5345e-02, 3.5809e-01, 8.7958e-01, 6.4036e-01, 9.3172e-01,\n",
      "        1.0519e-01, 3.1610e-02, 5.0318e-02, 5.4833e-02, 4.7546e-02, 1.5848e-01,\n",
      "        5.1163e-01, 2.0940e-03, 6.3211e-01, 7.8907e-02, 4.6484e-02, 1.2039e-01,\n",
      "        4.0146e-03, 8.5017e-03, 1.9315e-02, 4.2611e-02, 5.8192e-01, 3.0554e-03,\n",
      "        2.6293e-01, 7.0580e-01, 1.6447e-02, 1.5646e-01, 1.9695e-02, 3.7296e-01,\n",
      "        4.7022e-01, 1.6666e-01, 5.1446e-01, 2.5338e-02, 1.2343e-03, 2.9187e-01,\n",
      "        1.9174e-01, 5.8657e-01, 6.3969e-01, 4.8216e-01, 5.6014e-03, 1.9829e-01,\n",
      "        1.8743e-03, 6.1286e-03, 6.9060e-01, 6.9103e-01, 4.1089e-01, 3.6671e-01,\n",
      "        3.0224e-03, 1.3731e-01, 1.8950e-02, 5.7567e-02, 6.9844e-01, 1.3689e-01,\n",
      "        6.0502e-01, 2.5484e-01, 1.5978e-02, 2.0471e-01, 1.0474e-02, 2.7658e-01,\n",
      "        9.9541e-01, 6.4137e-01, 7.4689e-01, 8.5899e-01, 2.2022e-01, 9.0933e-01,\n",
      "        4.3712e-02, 5.3092e-03, 9.3709e-01, 2.4451e-03, 2.9538e-02, 7.4418e-01,\n",
      "        6.2241e-02, 6.8704e-01, 5.5483e-01, 2.6266e-01, 8.9853e-03, 1.6180e-01,\n",
      "        7.9804e-01, 1.0617e-01, 9.3455e-01, 4.1395e-01, 6.9653e-03, 8.3167e-01,\n",
      "        3.7927e-03, 3.4559e-01, 1.7039e-01, 4.0423e-01, 3.0058e-01, 1.1032e-01,\n",
      "        1.1120e-02, 5.7597e-01, 7.2391e-01, 4.9243e-03, 9.4645e-01, 1.0724e-02,\n",
      "        6.3920e-03, 1.4913e-01, 1.7023e-01, 8.1529e-01, 9.5781e-01, 5.4010e-02,\n",
      "        1.4047e-01, 2.8537e-02, 6.7559e-01, 7.1762e-01, 1.5653e-02, 7.8323e-03,\n",
      "        2.5173e-01, 1.7706e-02, 7.8806e-01, 5.4516e-01, 8.6497e-01, 1.8138e-02,\n",
      "        6.4468e-01, 4.3557e-02, 1.3901e-02, 1.2851e-01, 1.3814e-01, 3.5210e-02,\n",
      "        1.3503e-02, 2.8594e-01, 6.7689e-02, 3.2748e-01, 4.4278e-01, 4.4134e-01,\n",
      "        3.0788e-02, 1.1718e-02, 3.0085e-01, 6.3298e-01, 8.7354e-03, 6.0238e-03,\n",
      "        7.1281e-01, 2.8678e-02, 2.7401e-02, 1.4526e-02, 2.9011e-01, 8.2940e-01,\n",
      "        5.0082e-03, 8.5768e-03, 4.1828e-02, 1.2599e-01, 9.2840e-01, 5.9134e-02,\n",
      "        1.4006e-01, 1.1559e-02, 6.3716e-01, 4.8413e-02, 4.3448e-02, 6.3395e-01,\n",
      "        8.9421e-01, 1.3949e-01, 7.2794e-01, 1.0893e-01, 9.4836e-01, 1.5952e-03,\n",
      "        1.1159e-02, 6.3542e-03, 6.0136e-01, 1.6524e-01, 4.2645e-03, 9.0182e-03,\n",
      "        6.2183e-02, 4.0237e-01, 9.0928e-01, 7.8815e-01, 6.0205e-01, 2.7843e-01,\n",
      "        4.2372e-02, 8.8175e-01, 4.6759e-02, 3.2078e-01, 2.9810e-01, 3.2476e-01,\n",
      "        5.6724e-04, 4.1284e-01, 7.5847e-01, 2.4198e-01, 2.5555e-02, 8.1999e-01,\n",
      "        4.2282e-02, 1.1418e-02, 2.6647e-02, 5.4919e-01, 1.9669e-02, 7.0811e-01,\n",
      "        4.0353e-02, 1.6991e-01])\n"
     ]
    },
    {
     "name": "stderr",
     "output_type": "stream",
     "text": [
      "100%|██████████| 1000/1000 [01:03<00:00, 15.86it/s]\n",
      " 81%|████████▏ | 26/32 [27:38<06:24, 64.15s/it]"
     ]
    },
    {
     "name": "stdout",
     "output_type": "stream",
     "text": [
      "Stored at patched_MS_vicuna7b_1000\n",
      "proportion of positive labels is 0.49\n",
      "positive_sum=tensor([0.4684, 0.2083, 0.2259, 0.5127, 0.5005, 0.5483, 0.3562, 0.5924, 0.9477,\n",
      "        0.0536, 0.4332, 0.9944, 0.9960, 0.9126, 0.6618, 0.1110, 0.3410, 0.0621,\n",
      "        0.9050, 0.9715, 0.9544, 0.9499, 0.9503, 0.8519, 0.4638, 0.9981, 0.3446,\n",
      "        0.9277, 0.9578, 0.8912, 0.9963, 0.9923, 0.9825, 0.9616, 0.3931, 0.9972,\n",
      "        0.7173, 0.2736, 0.9853, 0.8579, 0.9823, 0.5993, 0.5525, 0.8233, 0.4649,\n",
      "        0.9770, 0.9988, 0.7288, 0.8231, 0.3849, 0.3381, 0.4981, 0.9950, 0.7911,\n",
      "        0.9983, 0.9946, 0.2885, 0.2893, 0.5668, 0.6168, 0.9972, 0.8751, 0.9827,\n",
      "        0.9488, 0.2778, 0.8769, 0.3687, 0.7688, 0.9856, 0.7786, 0.9906, 0.7057,\n",
      "        0.0041, 0.3380, 0.2380, 0.1296, 0.7665, 0.0824, 0.9596, 0.9952, 0.0573,\n",
      "        0.9978, 0.9734, 0.2353, 0.9438, 0.2874, 0.4252, 0.7220, 0.9919, 0.8294,\n",
      "        0.1864, 0.9035, 0.0600, 0.5649, 0.9937, 0.1513, 0.9965, 0.6272, 0.8201,\n",
      "        0.5690, 0.6806, 0.8997, 0.9898, 0.3998, 0.2517, 0.9955, 0.0486, 0.9902,\n",
      "        0.9941, 0.8411, 0.8217, 0.1686, 0.0382, 0.9511, 0.8512, 0.9739, 0.2982,\n",
      "        0.2670, 0.9860, 0.9930, 0.7359, 0.9842, 0.1971, 0.4399, 0.1239, 0.9834,\n",
      "        0.3310, 0.9615, 0.9873, 0.8832, 0.8715, 0.9681, 0.9880, 0.6949, 0.9375,\n",
      "        0.6539, 0.5342, 0.5391, 0.9720, 0.9893, 0.6815, 0.3489, 0.9922, 0.9945,\n",
      "        0.2663, 0.9743, 0.9755, 0.9869, 0.6932, 0.1524, 0.9954, 0.9922, 0.9619,\n",
      "        0.8672, 0.0653, 0.9464, 0.8746, 0.9897, 0.3444, 0.9567, 0.9607, 0.3429,\n",
      "        0.0968, 0.8481, 0.2529, 0.9008, 0.0470, 0.9985, 0.9897, 0.9943, 0.3727,\n",
      "        0.8251, 0.9961, 0.9918, 0.9451, 0.5794, 0.0831, 0.1943, 0.3773, 0.7394,\n",
      "        0.9620, 0.1069, 0.9581, 0.6650, 0.7236, 0.6516, 0.9995, 0.5667, 0.2207,\n",
      "        0.7407, 0.9765, 0.1664, 0.9611, 0.9896, 0.9761, 0.4212, 0.9825, 0.2671,\n",
      "        0.9647, 0.8142]), negative_sum=tensor([5.3161e-01, 7.9168e-01, 7.7412e-01, 4.8731e-01, 4.9951e-01, 4.5171e-01,\n",
      "        6.4377e-01, 4.0764e-01, 5.2320e-02, 9.4643e-01, 5.6678e-01, 5.6282e-03,\n",
      "        4.0327e-03, 8.7401e-02, 3.3815e-01, 8.8896e-01, 6.5904e-01, 9.3785e-01,\n",
      "        9.5032e-02, 2.8547e-02, 4.5632e-02, 5.0141e-02, 4.9713e-02, 1.4811e-01,\n",
      "        5.3625e-01, 1.9097e-03, 6.5536e-01, 7.2316e-02, 4.2182e-02, 1.0878e-01,\n",
      "        3.6681e-03, 7.7124e-03, 1.7521e-02, 3.8407e-02, 6.0694e-01, 2.7962e-03,\n",
      "        2.8266e-01, 7.2637e-01, 1.4724e-02, 1.4211e-01, 1.7705e-02, 4.0066e-01,\n",
      "        4.4754e-01, 1.7674e-01, 5.3510e-01, 2.2962e-02, 1.1527e-03, 2.7124e-01,\n",
      "        1.7693e-01, 6.1507e-01, 6.6188e-01, 5.0188e-01, 5.0328e-03, 2.0890e-01,\n",
      "        1.7237e-03, 5.4379e-03, 7.1145e-01, 7.1067e-01, 4.3322e-01, 3.8316e-01,\n",
      "        2.7515e-03, 1.2487e-01, 1.7283e-02, 5.1239e-02, 7.2223e-01, 1.2314e-01,\n",
      "        6.3133e-01, 2.3119e-01, 1.4449e-02, 2.2143e-01, 9.4328e-03, 2.9426e-01,\n",
      "        9.9593e-01, 6.6205e-01, 7.6202e-01, 8.7045e-01, 2.3353e-01, 9.1759e-01,\n",
      "        4.0403e-02, 4.7962e-03, 9.4265e-01, 2.2417e-03, 2.6604e-02, 7.6473e-01,\n",
      "        5.6191e-02, 7.1260e-01, 5.7482e-01, 2.7803e-01, 8.1338e-03, 1.7064e-01,\n",
      "        8.1364e-01, 9.6458e-02, 9.4001e-01, 4.3510e-01, 6.2654e-03, 8.4865e-01,\n",
      "        3.4830e-03, 3.7278e-01, 1.7988e-01, 4.3097e-01, 3.1941e-01, 1.0035e-01,\n",
      "        1.0158e-02, 6.0018e-01, 7.4826e-01, 4.4676e-03, 9.5142e-01, 9.7683e-03,\n",
      "        5.9404e-03, 1.5890e-01, 1.7835e-01, 8.3140e-01, 9.6175e-01, 4.8944e-02,\n",
      "        1.4878e-01, 2.6089e-02, 7.0180e-01, 7.3296e-01, 1.3968e-02, 7.0292e-03,\n",
      "        2.6408e-01, 1.5830e-02, 8.0289e-01, 5.6013e-01, 8.7608e-01, 1.6560e-02,\n",
      "        6.6896e-01, 3.8507e-02, 1.2677e-02, 1.1678e-01, 1.2852e-01, 3.1852e-02,\n",
      "        1.2038e-02, 3.0513e-01, 6.2462e-02, 3.4605e-01, 4.6581e-01, 4.6088e-01,\n",
      "        2.7951e-02, 1.0671e-02, 3.1849e-01, 6.5110e-01, 7.8302e-03, 5.5048e-03,\n",
      "        7.3369e-01, 2.5654e-02, 2.4548e-02, 1.3059e-02, 3.0679e-01, 8.4758e-01,\n",
      "        4.5579e-03, 7.7656e-03, 3.8077e-02, 1.3280e-01, 9.3471e-01, 5.3568e-02,\n",
      "        1.2541e-01, 1.0340e-02, 6.5563e-01, 4.3264e-02, 3.9335e-02, 6.5712e-01,\n",
      "        9.0322e-01, 1.5190e-01, 7.4709e-01, 9.9203e-02, 9.5300e-01, 1.4662e-03,\n",
      "        1.0294e-02, 5.7348e-03, 6.2727e-01, 1.7485e-01, 3.8570e-03, 8.1970e-03,\n",
      "        5.4892e-02, 4.2057e-01, 9.1691e-01, 8.0573e-01, 6.2273e-01, 2.6057e-01,\n",
      "        3.8013e-02, 8.9310e-01, 4.1885e-02, 3.3496e-01, 2.7641e-01, 3.4840e-01,\n",
      "        5.2140e-04, 4.3331e-01, 7.7927e-01, 2.5932e-01, 2.3496e-02, 8.3359e-01,\n",
      "        3.8930e-02, 1.0351e-02, 2.3856e-02, 5.7876e-01, 1.7533e-02, 7.3295e-01,\n",
      "        3.5317e-02, 1.8576e-01])\n"
     ]
    },
    {
     "name": "stderr",
     "output_type": "stream",
     "text": [
      "100%|██████████| 1000/1000 [01:02<00:00, 16.09it/s]\n",
      " 84%|████████▍ | 27/32 [28:42<05:19, 63.98s/it]"
     ]
    },
    {
     "name": "stdout",
     "output_type": "stream",
     "text": [
      "Stored at patched_MS_vicuna7b_1000\n",
      "proportion of positive labels is 0.49\n",
      "positive_sum=tensor([0.4338, 0.1826, 0.2029, 0.4802, 0.4597, 0.5149, 0.3222, 0.5465, 0.9548,\n",
      "        0.0452, 0.4058, 0.9951, 0.9964, 0.9245, 0.6965, 0.0957, 0.3096, 0.0521,\n",
      "        0.9206, 0.9761, 0.9627, 0.9570, 0.9478, 0.8702, 0.4287, 0.9983, 0.3120,\n",
      "        0.9387, 0.9648, 0.9082, 0.9968, 0.9933, 0.9849, 0.9667, 0.3600, 0.9975,\n",
      "        0.6722, 0.2419, 0.9873, 0.8777, 0.9849, 0.5567, 0.5887, 0.8017, 0.4305,\n",
      "        0.9803, 0.9989, 0.7643, 0.8504, 0.3291, 0.3036, 0.4640, 0.9957, 0.7651,\n",
      "        0.9985, 0.9954, 0.2599, 0.2524, 0.5300, 0.5904, 0.9976, 0.8934, 0.9848,\n",
      "        0.9581, 0.2394, 0.8956, 0.3175, 0.7994, 0.9878, 0.7491, 0.9916, 0.6625,\n",
      "        0.0036, 0.3004, 0.2111, 0.1165, 0.7339, 0.0725, 0.9646, 0.9959, 0.0489,\n",
      "        0.9980, 0.9773, 0.1971, 0.9517, 0.2437, 0.3952, 0.6968, 0.9929, 0.8167,\n",
      "        0.1560, 0.9151, 0.0508, 0.5314, 0.9946, 0.1271, 0.9969, 0.5753, 0.8064,\n",
      "        0.5281, 0.6458, 0.9127, 0.9910, 0.3607, 0.2120, 0.9960, 0.0398, 0.9916,\n",
      "        0.9945, 0.8198, 0.8060, 0.1434, 0.0320, 0.9578, 0.8369, 0.9776, 0.2542,\n",
      "        0.2392, 0.9885, 0.9940, 0.7116, 0.9865, 0.1686, 0.4151, 0.1078, 0.9857,\n",
      "        0.2936, 0.9682, 0.9889, 0.9002, 0.8857, 0.9726, 0.9897, 0.6547, 0.9465,\n",
      "        0.6235, 0.5040, 0.5087, 0.9762, 0.9907, 0.6533, 0.3132, 0.9934, 0.9952,\n",
      "        0.2353, 0.9783, 0.9800, 0.9889, 0.6656, 0.1269, 0.9960, 0.9932, 0.9680,\n",
      "        0.8570, 0.0543, 0.9550, 0.8969, 0.9911, 0.3075, 0.9645, 0.9656, 0.3049,\n",
      "        0.0823, 0.8203, 0.2245, 0.9179, 0.0402, 0.9987, 0.9908, 0.9952, 0.3361,\n",
      "        0.8086, 0.9966, 0.9929, 0.9537, 0.5471, 0.0723, 0.1664, 0.3422, 0.7683,\n",
      "        0.9683, 0.0881, 0.9646, 0.6473, 0.7644, 0.6100, 0.9995, 0.5317, 0.1870,\n",
      "        0.7150, 0.9795, 0.1434, 0.9665, 0.9912, 0.9796, 0.3744, 0.9854, 0.2393,\n",
      "        0.9703, 0.7816]), negative_sum=tensor([5.6616e-01, 8.1735e-01, 7.9712e-01, 5.1985e-01, 5.4031e-01, 4.8508e-01,\n",
      "        6.7782e-01, 4.5350e-01, 4.5222e-02, 9.5485e-01, 5.9415e-01, 4.9167e-03,\n",
      "        3.6348e-03, 7.5510e-02, 3.0350e-01, 9.0426e-01, 6.9036e-01, 9.4787e-01,\n",
      "        7.9376e-02, 2.3909e-02, 3.7292e-02, 4.3027e-02, 5.2223e-02, 1.2985e-01,\n",
      "        5.7128e-01, 1.7014e-03, 6.8800e-01, 6.1334e-02, 3.5174e-02, 9.1777e-02,\n",
      "        3.1907e-03, 6.7275e-03, 1.5138e-02, 3.3307e-02, 6.4003e-01, 2.4931e-03,\n",
      "        3.2780e-01, 7.5810e-01, 1.2687e-02, 1.2226e-01, 1.5088e-02, 4.4334e-01,\n",
      "        4.1128e-01, 1.9833e-01, 5.6954e-01, 1.9680e-02, 1.0703e-03, 2.3566e-01,\n",
      "        1.4965e-01, 6.7091e-01, 6.9639e-01, 5.3600e-01, 4.2879e-03, 2.3489e-01,\n",
      "        1.5394e-03, 4.5870e-03, 7.4008e-01, 7.4756e-01, 4.7000e-01, 4.0956e-01,\n",
      "        2.4411e-03, 1.0664e-01, 1.5249e-02, 4.1855e-02, 7.6064e-01, 1.0441e-01,\n",
      "        6.8252e-01, 2.0059e-01, 1.2199e-02, 2.5089e-01, 8.3834e-03, 3.3751e-01,\n",
      "        9.9644e-01, 6.9965e-01, 7.8891e-01, 8.8350e-01, 2.6612e-01, 9.2754e-01,\n",
      "        3.5447e-02, 4.1070e-03, 9.5106e-01, 2.0008e-03, 2.2681e-02, 8.0292e-01,\n",
      "        4.8310e-02, 7.5630e-01, 6.0475e-01, 3.0318e-01, 7.0653e-03, 1.8325e-01,\n",
      "        8.4402e-01, 8.4889e-02, 9.4925e-01, 4.6861e-01, 5.3915e-03, 8.7287e-01,\n",
      "        3.1287e-03, 4.2473e-01, 1.9355e-01, 4.7193e-01, 3.5424e-01, 8.7343e-02,\n",
      "        8.9673e-03, 6.3932e-01, 7.8803e-01, 3.9958e-03, 9.6021e-01, 8.4005e-03,\n",
      "        5.4727e-03, 1.8017e-01, 1.9402e-01, 8.5655e-01, 9.6801e-01, 4.2190e-02,\n",
      "        1.6314e-01, 2.2437e-02, 7.4582e-01, 7.6077e-01, 1.1522e-02, 5.9615e-03,\n",
      "        2.8840e-01, 1.3523e-02, 8.3140e-01, 5.8486e-01, 8.9220e-01, 1.4261e-02,\n",
      "        7.0637e-01, 3.1825e-02, 1.1122e-02, 9.9760e-02, 1.1425e-01, 2.7379e-02,\n",
      "        1.0267e-02, 3.4534e-01, 5.3526e-02, 3.7651e-01, 4.9597e-01, 4.9126e-01,\n",
      "        2.3797e-02, 9.3259e-03, 3.4672e-01, 6.8681e-01, 6.5779e-03, 4.7955e-03,\n",
      "        7.6468e-01, 2.1713e-02, 1.9970e-02, 1.1131e-02, 3.3441e-01, 8.7310e-01,\n",
      "        3.9646e-03, 6.7582e-03, 3.1965e-02, 1.4296e-01, 9.4573e-01, 4.5020e-02,\n",
      "        1.0315e-01, 8.9126e-03, 6.9252e-01, 3.5511e-02, 3.4389e-02, 6.9507e-01,\n",
      "        9.1775e-01, 1.7972e-01, 7.7550e-01, 8.2098e-02, 9.5977e-01, 1.3298e-03,\n",
      "        9.1747e-03, 4.8373e-03, 6.6392e-01, 1.9141e-01, 3.3667e-03, 7.0634e-03,\n",
      "        4.6263e-02, 4.5287e-01, 9.2774e-01, 8.3364e-01, 6.5783e-01, 2.3167e-01,\n",
      "        3.1729e-02, 9.1188e-01, 3.5381e-02, 3.5274e-01, 2.3558e-01, 3.8997e-01,\n",
      "        4.7104e-04, 4.6834e-01, 8.1301e-01, 2.8503e-01, 2.0511e-02, 8.5665e-01,\n",
      "        3.3511e-02, 8.8211e-03, 2.0387e-02, 6.2560e-01, 1.4557e-02, 7.6071e-01,\n",
      "        2.9699e-02, 2.1837e-01])\n"
     ]
    },
    {
     "name": "stderr",
     "output_type": "stream",
     "text": [
      "100%|██████████| 1000/1000 [01:02<00:00, 15.91it/s]\n",
      " 88%|████████▊ | 28/32 [29:46<04:16, 64.00s/it]"
     ]
    },
    {
     "name": "stdout",
     "output_type": "stream",
     "text": [
      "Stored at patched_MS_vicuna7b_1000\n",
      "proportion of positive labels is 0.49\n",
      "positive_sum=tensor([0.4245, 0.1751, 0.1968, 0.4727, 0.4515, 0.5052, 0.3147, 0.5374, 0.9569,\n",
      "        0.0421, 0.3961, 0.9955, 0.9967, 0.9287, 0.7021, 0.0919, 0.3037, 0.0491,\n",
      "        0.9246, 0.9776, 0.9644, 0.9599, 0.9479, 0.8740, 0.4243, 0.9984, 0.3023,\n",
      "        0.9415, 0.9671, 0.9127, 0.9971, 0.9938, 0.9857, 0.9691, 0.3505, 0.9977,\n",
      "        0.6667, 0.2350, 0.9882, 0.8834, 0.9859, 0.5473, 0.5977, 0.7982, 0.4214,\n",
      "        0.9817, 0.9990, 0.7705, 0.8570, 0.3188, 0.2933, 0.4557, 0.9960, 0.7624,\n",
      "        0.9986, 0.9959, 0.2532, 0.2447, 0.5199, 0.5823, 0.9978, 0.8997, 0.9858,\n",
      "        0.9606, 0.2330, 0.9011, 0.3077, 0.8079, 0.9888, 0.7459, 0.9923, 0.6559,\n",
      "        0.0033, 0.2917, 0.2000, 0.1109, 0.7311, 0.0687, 0.9668, 0.9963, 0.0457,\n",
      "        0.9982, 0.9792, 0.1894, 0.9553, 0.2334, 0.3898, 0.6936, 0.9934, 0.8173,\n",
      "        0.1504, 0.9199, 0.0479, 0.5202, 0.9950, 0.1199, 0.9972, 0.5674, 0.8061,\n",
      "        0.5199, 0.6412, 0.9173, 0.9917, 0.3548, 0.2027, 0.9963, 0.0375, 0.9922,\n",
      "        0.9949, 0.8171, 0.8027, 0.1371, 0.0300, 0.9603, 0.8361, 0.9791, 0.2438,\n",
      "        0.2301, 0.9894, 0.9946, 0.7093, 0.9877, 0.1618, 0.4070, 0.1026, 0.9868,\n",
      "        0.2853, 0.9701, 0.9896, 0.9061, 0.8910, 0.9742, 0.9906, 0.6475, 0.9492,\n",
      "        0.6156, 0.4920, 0.5040, 0.9775, 0.9914, 0.6490, 0.2988, 0.9940, 0.9955,\n",
      "        0.2250, 0.9800, 0.9815, 0.9897, 0.6627, 0.1198, 0.9964, 0.9937, 0.9698,\n",
      "        0.8567, 0.0516, 0.9580, 0.9026, 0.9918, 0.3013, 0.9664, 0.9680, 0.2975,\n",
      "        0.0782, 0.8187, 0.2152, 0.9219, 0.0376, 0.9988, 0.9916, 0.9955, 0.3266,\n",
      "        0.8075, 0.9969, 0.9935, 0.9572, 0.5396, 0.0687, 0.1588, 0.3327, 0.7754,\n",
      "        0.9702, 0.0836, 0.9670, 0.6444, 0.7741, 0.6010, 0.9996, 0.5266, 0.1787,\n",
      "        0.7114, 0.9808, 0.1379, 0.9686, 0.9919, 0.9811, 0.3646, 0.9864, 0.2311,\n",
      "        0.9727, 0.7770]), negative_sum=tensor([5.7547e-01, 8.2490e-01, 8.0317e-01, 5.2728e-01, 5.4847e-01, 4.9481e-01,\n",
      "        6.8533e-01, 4.6258e-01, 4.3067e-02, 9.5787e-01, 6.0393e-01, 4.5270e-03,\n",
      "        3.3250e-03, 7.1256e-02, 2.9785e-01, 9.0812e-01, 6.9633e-01, 9.5087e-01,\n",
      "        7.5382e-02, 2.2422e-02, 3.5571e-02, 4.0078e-02, 5.2144e-02, 1.2600e-01,\n",
      "        5.7571e-01, 1.5586e-03, 6.9770e-01, 5.8508e-02, 3.2874e-02, 8.7285e-02,\n",
      "        2.9066e-03, 6.2146e-03, 1.4265e-02, 3.0946e-02, 6.4946e-01, 2.2668e-03,\n",
      "        3.3326e-01, 7.6501e-01, 1.1754e-02, 1.1655e-01, 1.4081e-02, 4.5275e-01,\n",
      "        4.0228e-01, 2.0177e-01, 5.7865e-01, 1.8290e-02, 9.7388e-04, 2.2953e-01,\n",
      "        1.4301e-01, 6.8124e-01, 7.0672e-01, 5.4428e-01, 3.9631e-03, 2.3756e-01,\n",
      "        1.3989e-03, 4.1325e-03, 7.4683e-01, 7.5534e-01, 4.8006e-01, 4.1773e-01,\n",
      "        2.2382e-03, 1.0025e-01, 1.4159e-02, 3.9430e-02, 7.6701e-01, 9.8877e-02,\n",
      "        6.9227e-01, 1.9210e-01, 1.1202e-02, 2.5413e-01, 7.6739e-03, 3.4414e-01,\n",
      "        9.9674e-01, 7.0830e-01, 7.9998e-01, 8.8915e-01, 2.6887e-01, 9.3126e-01,\n",
      "        3.3218e-02, 3.7361e-03, 9.5427e-01, 1.8140e-03, 2.0768e-02, 8.1063e-01,\n",
      "        4.4662e-02, 7.6658e-01, 6.1019e-01, 3.0643e-01, 6.5735e-03, 1.8273e-01,\n",
      "        8.4963e-01, 8.0075e-02, 9.5215e-01, 4.7980e-01, 5.0062e-03, 8.8009e-01,\n",
      "        2.8391e-03, 4.3264e-01, 1.9387e-01, 4.8006e-01, 3.5883e-01, 8.2678e-02,\n",
      "        8.3307e-03, 6.4521e-01, 7.9728e-01, 3.6538e-03, 9.6245e-01, 7.7641e-03,\n",
      "        5.0908e-03, 1.8290e-01, 1.9729e-01, 8.6294e-01, 9.6998e-01, 3.9704e-02,\n",
      "        1.6392e-01, 2.0851e-02, 7.5625e-01, 7.6986e-01, 1.0634e-02, 5.4383e-03,\n",
      "        2.9074e-01, 1.2342e-02, 8.3822e-01, 5.9299e-01, 8.9738e-01, 1.3191e-02,\n",
      "        7.1467e-01, 2.9875e-02, 1.0396e-02, 9.3866e-02, 1.0895e-01, 2.5824e-02,\n",
      "        9.4100e-03, 3.5249e-01, 5.0788e-02, 3.8441e-01, 5.0797e-01, 4.9595e-01,\n",
      "        2.2477e-02, 8.6438e-03, 3.5102e-01, 7.0125e-01, 6.0196e-03, 4.4609e-03,\n",
      "        7.7496e-01, 2.0020e-02, 1.8525e-02, 1.0259e-02, 3.3732e-01, 8.8022e-01,\n",
      "        3.5983e-03, 6.3463e-03, 3.0187e-02, 1.4328e-01, 9.4835e-01, 4.2013e-02,\n",
      "        9.7425e-02, 8.2363e-03, 6.9868e-01, 3.3621e-02, 3.2015e-02, 7.0252e-01,\n",
      "        9.2185e-01, 1.8133e-01, 7.8479e-01, 7.8063e-02, 9.6235e-01, 1.1969e-03,\n",
      "        8.4376e-03, 4.4749e-03, 6.7337e-01, 1.9251e-01, 3.1101e-03, 6.5131e-03,\n",
      "        4.2765e-02, 4.6041e-01, 9.3131e-01, 8.4122e-01, 6.6732e-01, 2.2460e-01,\n",
      "        2.9771e-02, 9.1640e-01, 3.3048e-02, 3.5558e-01, 2.2593e-01, 3.9898e-01,\n",
      "        4.2070e-04, 4.7344e-01, 8.2127e-01, 2.8864e-01, 1.9210e-02, 8.6212e-01,\n",
      "        3.1440e-02, 8.1187e-03, 1.8860e-02, 6.3542e-01, 1.3597e-02, 7.6888e-01,\n",
      "        2.7326e-02, 2.2302e-01])\n"
     ]
    },
    {
     "name": "stderr",
     "output_type": "stream",
     "text": [
      "100%|██████████| 1000/1000 [01:02<00:00, 15.97it/s]\n",
      " 91%|█████████ | 29/32 [30:49<03:11, 63.95s/it]"
     ]
    },
    {
     "name": "stdout",
     "output_type": "stream",
     "text": [
      "Stored at patched_MS_vicuna7b_1000\n",
      "proportion of positive labels is 0.49\n",
      "positive_sum=tensor([0.4241, 0.1750, 0.1961, 0.4718, 0.4518, 0.5049, 0.3141, 0.5369, 0.9571,\n",
      "        0.0421, 0.3964, 0.9955, 0.9967, 0.9289, 0.7014, 0.0920, 0.3033, 0.0491,\n",
      "        0.9248, 0.9776, 0.9645, 0.9601, 0.9478, 0.8741, 0.4240, 0.9984, 0.3027,\n",
      "        0.9416, 0.9672, 0.9130, 0.9971, 0.9938, 0.9858, 0.9692, 0.3509, 0.9977,\n",
      "        0.6671, 0.2347, 0.9883, 0.8837, 0.9859, 0.5473, 0.5980, 0.7981, 0.4221,\n",
      "        0.9818, 0.9990, 0.7708, 0.8569, 0.3188, 0.2926, 0.4558, 0.9960, 0.7623,\n",
      "        0.9986, 0.9959, 0.2530, 0.2447, 0.5196, 0.5823, 0.9978, 0.9000, 0.9859,\n",
      "        0.9606, 0.2329, 0.9013, 0.3080, 0.8081, 0.9888, 0.7456, 0.9924, 0.6554,\n",
      "        0.0032, 0.2918, 0.2001, 0.1106, 0.7305, 0.0685, 0.9668, 0.9963, 0.0455,\n",
      "        0.9982, 0.9793, 0.1894, 0.9554, 0.2331, 0.3896, 0.6944, 0.9934, 0.8170,\n",
      "        0.1501, 0.9202, 0.0478, 0.5203, 0.9950, 0.1196, 0.9972, 0.5670, 0.8065,\n",
      "        0.5199, 0.6412, 0.9176, 0.9917, 0.3542, 0.2019, 0.9964, 0.0375, 0.9923,\n",
      "        0.9949, 0.8171, 0.8027, 0.1368, 0.0300, 0.9605, 0.8362, 0.9791, 0.2440,\n",
      "        0.2298, 0.9894, 0.9946, 0.7092, 0.9877, 0.1616, 0.4067, 0.1028, 0.9868,\n",
      "        0.2845, 0.9702, 0.9896, 0.9063, 0.8915, 0.9743, 0.9906, 0.6473, 0.9493,\n",
      "        0.6151, 0.4918, 0.5038, 0.9776, 0.9914, 0.6489, 0.2985, 0.9940, 0.9955,\n",
      "        0.2246, 0.9801, 0.9815, 0.9898, 0.6628, 0.1197, 0.9964, 0.9937, 0.9698,\n",
      "        0.8568, 0.0516, 0.9581, 0.9030, 0.9918, 0.3017, 0.9665, 0.9681, 0.2973,\n",
      "        0.0779, 0.8188, 0.2149, 0.9219, 0.0376, 0.9988, 0.9916, 0.9956, 0.3264,\n",
      "        0.8076, 0.9969, 0.9935, 0.9574, 0.5406, 0.0684, 0.1587, 0.3324, 0.7755,\n",
      "        0.9703, 0.0835, 0.9671, 0.6441, 0.7748, 0.6010, 0.9996, 0.5257, 0.1782,\n",
      "        0.7111, 0.9809, 0.1376, 0.9686, 0.9919, 0.9812, 0.3645, 0.9865, 0.2306,\n",
      "        0.9727, 0.7773]), negative_sum=tensor([5.7591e-01, 8.2500e-01, 8.0385e-01, 5.2824e-01, 5.4817e-01, 4.9509e-01,\n",
      "        6.8590e-01, 4.6306e-01, 4.2885e-02, 9.5793e-01, 6.0361e-01, 4.5027e-03,\n",
      "        3.2984e-03, 7.1063e-02, 2.9858e-01, 9.0797e-01, 6.9671e-01, 9.5090e-01,\n",
      "        7.5223e-02, 2.2400e-02, 3.5489e-02, 3.9906e-02, 5.2191e-02, 1.2589e-01,\n",
      "        5.7605e-01, 1.5519e-03, 6.9734e-01, 5.8419e-02, 3.2817e-02, 8.7047e-02,\n",
      "        2.8907e-03, 6.1769e-03, 1.4187e-02, 3.0772e-02, 6.4915e-01, 2.2549e-03,\n",
      "        3.3292e-01, 7.6533e-01, 1.1699e-02, 1.1629e-01, 1.4065e-02, 4.5270e-01,\n",
      "        4.0203e-01, 2.0190e-01, 5.7790e-01, 1.8215e-02, 9.6617e-04, 2.2919e-01,\n",
      "        1.4309e-01, 6.8120e-01, 7.0736e-01, 5.4420e-01, 3.9569e-03, 2.3770e-01,\n",
      "        1.3912e-03, 4.1171e-03, 7.4695e-01, 7.5532e-01, 4.8044e-01, 4.1772e-01,\n",
      "        2.2289e-03, 9.9979e-02, 1.4148e-02, 3.9394e-02, 7.6714e-01, 9.8730e-02,\n",
      "        6.9196e-01, 1.9188e-01, 1.1174e-02, 2.5436e-01, 7.6183e-03, 3.4459e-01,\n",
      "        9.9675e-01, 7.0818e-01, 7.9993e-01, 8.8937e-01, 2.6948e-01, 9.3153e-01,\n",
      "        3.3189e-02, 3.7250e-03, 9.5449e-01, 1.8032e-03, 2.0685e-02, 8.1062e-01,\n",
      "        4.4602e-02, 7.6692e-01, 6.1039e-01, 3.0562e-01, 6.5550e-03, 1.8297e-01,\n",
      "        8.4994e-01, 7.9801e-02, 9.5222e-01, 4.7970e-01, 4.9774e-03, 8.8042e-01,\n",
      "        2.8279e-03, 4.3303e-01, 1.9352e-01, 4.8007e-01, 3.5883e-01, 8.2433e-02,\n",
      "        8.2867e-03, 6.4582e-01, 7.9809e-01, 3.6290e-03, 9.6248e-01, 7.7441e-03,\n",
      "        5.0744e-03, 1.8288e-01, 1.9727e-01, 8.6317e-01, 9.7003e-01, 3.9546e-02,\n",
      "        1.6382e-01, 2.0872e-02, 7.5596e-01, 7.7018e-01, 1.0615e-02, 5.4204e-03,\n",
      "        2.9078e-01, 1.2285e-02, 8.3836e-01, 5.9333e-01, 8.9722e-01, 1.3154e-02,\n",
      "        7.1547e-01, 2.9824e-02, 1.0357e-02, 9.3708e-02, 1.0854e-01, 2.5711e-02,\n",
      "        9.3808e-03, 3.5272e-01, 5.0725e-02, 3.8491e-01, 5.0822e-01, 4.9620e-01,\n",
      "        2.2373e-02, 8.6226e-03, 3.5109e-01, 7.0145e-01, 5.9873e-03, 4.4517e-03,\n",
      "        7.7536e-01, 1.9931e-02, 1.8493e-02, 1.0212e-02, 3.3725e-01, 8.8035e-01,\n",
      "        3.5829e-03, 6.3291e-03, 3.0152e-02, 1.4321e-01, 9.4835e-01, 4.1925e-02,\n",
      "        9.7034e-02, 8.2105e-03, 6.9835e-01, 3.3505e-02, 3.1880e-02, 7.0266e-01,\n",
      "        9.2208e-01, 1.8125e-01, 7.8512e-01, 7.8070e-02, 9.6238e-01, 1.1921e-03,\n",
      "        8.3948e-03, 4.4472e-03, 6.7365e-01, 1.9238e-01, 3.1078e-03, 6.4774e-03,\n",
      "        4.2630e-02, 4.5940e-01, 9.3160e-01, 8.4133e-01, 6.6756e-01, 2.2449e-01,\n",
      "        2.9749e-02, 9.1651e-01, 3.2889e-02, 3.5588e-01, 2.2522e-01, 3.9899e-01,\n",
      "        4.1879e-04, 4.7430e-01, 8.2185e-01, 2.8886e-01, 1.9148e-02, 8.6239e-01,\n",
      "        3.1376e-02, 8.0807e-03, 1.8811e-02, 6.3546e-01, 1.3532e-02, 7.6938e-01,\n",
      "        2.7304e-02, 2.2267e-01])\n"
     ]
    },
    {
     "name": "stderr",
     "output_type": "stream",
     "text": [
      "100%|██████████| 1000/1000 [01:03<00:00, 15.83it/s]\n",
      " 94%|█████████▍| 30/32 [31:54<02:08, 64.17s/it]"
     ]
    },
    {
     "name": "stdout",
     "output_type": "stream",
     "text": [
      "Stored at patched_MS_vicuna7b_1000\n",
      "proportion of positive labels is 0.49\n",
      "positive_sum=tensor([0.4199, 0.1730, 0.1935, 0.4676, 0.4476, 0.5003, 0.3106, 0.5327, 0.9578,\n",
      "        0.0414, 0.3929, 0.9956, 0.9968, 0.9300, 0.7050, 0.0907, 0.3000, 0.0484,\n",
      "        0.9258, 0.9779, 0.9651, 0.9607, 0.9469, 0.8759, 0.4202, 0.9985, 0.2995,\n",
      "        0.9424, 0.9677, 0.9142, 0.9972, 0.9939, 0.9860, 0.9697, 0.3470, 0.9978,\n",
      "        0.6635, 0.2318, 0.9885, 0.8853, 0.9861, 0.5432, 0.6020, 0.7954, 0.4183,\n",
      "        0.9821, 0.9990, 0.7735, 0.8587, 0.3153, 0.2892, 0.4520, 0.9961, 0.7594,\n",
      "        0.9986, 0.9959, 0.2501, 0.2413, 0.5153, 0.5780, 0.9978, 0.9014, 0.9861,\n",
      "        0.9612, 0.2300, 0.9027, 0.3044, 0.8107, 0.9890, 0.7429, 0.9925, 0.6517,\n",
      "        0.0032, 0.2886, 0.1977, 0.1092, 0.7275, 0.0676, 0.9673, 0.9963, 0.0448,\n",
      "        0.9982, 0.9796, 0.1867, 0.9561, 0.2304, 0.3861, 0.6908, 0.9936, 0.8143,\n",
      "        0.1482, 0.9213, 0.0471, 0.5155, 0.9951, 0.1180, 0.9972, 0.5631, 0.8040,\n",
      "        0.5158, 0.6374, 0.9188, 0.9918, 0.3506, 0.1994, 0.9964, 0.0370, 0.9924,\n",
      "        0.9950, 0.8145, 0.7999, 0.1351, 0.0295, 0.9610, 0.8336, 0.9795, 0.2409,\n",
      "        0.2269, 0.9896, 0.9947, 0.7062, 0.9879, 0.1596, 0.4029, 0.1012, 0.9871,\n",
      "        0.2816, 0.9706, 0.9898, 0.9076, 0.8930, 0.9747, 0.9908, 0.6434, 0.9500,\n",
      "        0.6107, 0.4869, 0.5001, 0.9779, 0.9915, 0.6450, 0.2952, 0.9941, 0.9956,\n",
      "        0.2214, 0.9804, 0.9818, 0.9900, 0.6591, 0.1179, 0.9965, 0.9938, 0.9703,\n",
      "        0.8547, 0.0509, 0.9588, 0.9043, 0.9919, 0.2981, 0.9670, 0.9686, 0.2940,\n",
      "        0.0768, 0.8163, 0.2120, 0.9232, 0.0371, 0.9988, 0.9917, 0.9956, 0.3227,\n",
      "        0.8050, 0.9969, 0.9936, 0.9580, 0.5367, 0.0675, 0.1561, 0.3289, 0.7784,\n",
      "        0.9707, 0.0822, 0.9676, 0.6403, 0.7777, 0.5966, 0.9996, 0.5215, 0.1759,\n",
      "        0.7076, 0.9811, 0.1358, 0.9691, 0.9920, 0.9815, 0.3607, 0.9867, 0.2276,\n",
      "        0.9731, 0.7745]), negative_sum=tensor([5.8013e-01, 8.2705e-01, 8.0649e-01, 5.3244e-01, 5.5235e-01, 4.9968e-01,\n",
      "        6.8944e-01, 4.6730e-01, 4.2232e-02, 9.5862e-01, 6.0712e-01, 4.4325e-03,\n",
      "        3.2485e-03, 6.9974e-02, 2.9504e-01, 9.0927e-01, 7.0002e-01, 9.5157e-01,\n",
      "        7.4189e-02, 2.2070e-02, 3.4949e-02, 3.9346e-02, 5.3058e-02, 1.2407e-01,\n",
      "        5.7983e-01, 1.5276e-03, 7.0047e-01, 5.7593e-02, 3.2262e-02, 8.5820e-02,\n",
      "        2.8462e-03, 6.0822e-03, 1.3978e-02, 3.0290e-02, 6.5295e-01, 2.2206e-03,\n",
      "        3.3647e-01, 7.6819e-01, 1.1519e-02, 1.1471e-01, 1.3866e-02, 4.5682e-01,\n",
      "        3.9804e-01, 2.0465e-01, 5.8168e-01, 1.7941e-02, 9.5258e-04, 2.2649e-01,\n",
      "        1.4133e-01, 6.8475e-01, 7.1078e-01, 5.4802e-01, 3.8962e-03, 2.4065e-01,\n",
      "        1.3704e-03, 4.0506e-03, 7.4992e-01, 7.5867e-01, 4.8470e-01, 4.2202e-01,\n",
      "        2.1966e-03, 9.8558e-02, 1.3926e-02, 3.8757e-02, 7.7004e-01, 9.7332e-02,\n",
      "        6.9562e-01, 1.8932e-01, 1.0993e-02, 2.5713e-01, 7.5023e-03, 3.4831e-01,\n",
      "        9.9680e-01, 7.1141e-01, 8.0232e-01, 8.9081e-01, 2.7248e-01, 9.3243e-01,\n",
      "        3.2684e-02, 3.6695e-03, 9.5520e-01, 1.7754e-03, 2.0381e-02, 8.1327e-01,\n",
      "        4.3941e-02, 7.6964e-01, 6.1391e-01, 3.0924e-01, 6.4489e-03, 1.8566e-01,\n",
      "        8.5175e-01, 7.8703e-02, 9.5292e-01, 4.8447e-01, 4.9073e-03, 8.8202e-01,\n",
      "        2.7875e-03, 4.3694e-01, 1.9597e-01, 4.8416e-01, 3.6261e-01, 8.1166e-02,\n",
      "        8.1640e-03, 6.4940e-01, 8.0061e-01, 3.5734e-03, 9.6305e-01, 7.6132e-03,\n",
      "        4.9988e-03, 1.8547e-01, 2.0008e-01, 8.6492e-01, 9.7048e-01, 3.9026e-02,\n",
      "        1.6642e-01, 2.0470e-02, 7.5914e-01, 7.7314e-01, 1.0443e-02, 5.3338e-03,\n",
      "        2.9381e-01, 1.2096e-02, 8.4038e-01, 5.9708e-01, 8.9883e-01, 1.2948e-02,\n",
      "        7.1842e-01, 2.9350e-02, 1.0198e-02, 9.2372e-02, 1.0696e-01, 2.5328e-02,\n",
      "        9.2391e-03, 3.5660e-01, 4.9963e-02, 3.8931e-01, 5.1308e-01, 4.9991e-01,\n",
      "        2.2054e-02, 8.4944e-03, 3.5496e-01, 7.0476e-01, 5.8998e-03, 4.3886e-03,\n",
      "        7.7861e-01, 1.9638e-02, 1.8203e-02, 1.0049e-02, 3.4090e-01, 8.8212e-01,\n",
      "        3.5277e-03, 6.2349e-03, 2.9696e-02, 1.4529e-01, 9.4913e-01, 4.1241e-02,\n",
      "        9.5706e-02, 8.0784e-03, 7.0188e-01, 3.2995e-02, 3.1412e-02, 7.0603e-01,\n",
      "        9.2324e-01, 1.8367e-01, 7.8801e-01, 7.6847e-02, 9.6294e-01, 1.1742e-03,\n",
      "        8.2687e-03, 4.3775e-03, 6.7734e-01, 1.9495e-01, 3.0612e-03, 6.3752e-03,\n",
      "        4.2002e-02, 4.6334e-01, 9.3250e-01, 8.4388e-01, 6.7112e-01, 2.2156e-01,\n",
      "        2.9310e-02, 9.1781e-01, 3.2417e-02, 3.5974e-01, 2.2225e-01, 4.0341e-01,\n",
      "        4.1245e-04, 4.7845e-01, 8.2414e-01, 2.9244e-01, 1.8856e-02, 8.6416e-01,\n",
      "        3.0894e-02, 7.9566e-03, 1.8513e-02, 6.3926e-01, 1.3327e-02, 7.7236e-01,\n",
      "        2.6891e-02, 2.2553e-01])\n"
     ]
    },
    {
     "name": "stderr",
     "output_type": "stream",
     "text": [
      "100%|██████████| 1000/1000 [01:03<00:00, 15.84it/s]\n",
      " 97%|█████████▋| 31/32 [32:58<01:04, 64.21s/it]"
     ]
    },
    {
     "name": "stdout",
     "output_type": "stream",
     "text": [
      "Stored at patched_MS_vicuna7b_1000\n",
      "proportion of positive labels is 0.49\n",
      "positive_sum=tensor([0.4194, 0.1721, 0.1927, 0.4675, 0.4469, 0.4995, 0.3103, 0.5323, 0.9581,\n",
      "        0.0410, 0.3923, 0.9956, 0.9968, 0.9305, 0.7056, 0.0902, 0.2994, 0.0481,\n",
      "        0.9262, 0.9781, 0.9653, 0.9610, 0.9466, 0.8766, 0.4191, 0.9985, 0.2984,\n",
      "        0.9428, 0.9681, 0.9147, 0.9972, 0.9940, 0.9862, 0.9700, 0.3462, 0.9978,\n",
      "        0.6627, 0.2310, 0.9886, 0.8858, 0.9863, 0.5423, 0.6028, 0.7948, 0.4175,\n",
      "        0.9822, 0.9991, 0.7739, 0.8593, 0.3146, 0.2887, 0.4511, 0.9962, 0.7588,\n",
      "        0.9987, 0.9960, 0.2494, 0.2405, 0.5142, 0.5776, 0.9978, 0.9021, 0.9863,\n",
      "        0.9617, 0.2292, 0.9031, 0.3035, 0.8117, 0.9892, 0.7422, 0.9926, 0.6511,\n",
      "        0.0031, 0.2878, 0.1978, 0.1087, 0.7270, 0.0671, 0.9676, 0.9964, 0.0445,\n",
      "        0.9983, 0.9798, 0.1859, 0.9565, 0.2295, 0.3857, 0.6896, 0.9937, 0.8139,\n",
      "        0.1478, 0.9217, 0.0468, 0.5148, 0.9952, 0.1170, 0.9973, 0.5626, 0.8037,\n",
      "        0.5146, 0.6373, 0.9195, 0.9919, 0.3501, 0.1986, 0.9965, 0.0367, 0.9925,\n",
      "        0.9951, 0.8142, 0.7994, 0.1341, 0.0293, 0.9611, 0.8332, 0.9798, 0.2397,\n",
      "        0.2260, 0.9897, 0.9948, 0.7059, 0.9881, 0.1590, 0.4024, 0.1003, 0.9872,\n",
      "        0.2802, 0.9710, 0.9900, 0.9082, 0.8936, 0.9749, 0.9909, 0.6425, 0.9504,\n",
      "        0.6100, 0.4861, 0.4997, 0.9781, 0.9916, 0.6441, 0.2955, 0.9942, 0.9957,\n",
      "        0.2205, 0.9806, 0.9820, 0.9901, 0.6586, 0.1171, 0.9965, 0.9939, 0.9706,\n",
      "        0.8544, 0.0504, 0.9592, 0.9050, 0.9920, 0.2975, 0.9673, 0.9689, 0.2938,\n",
      "        0.0761, 0.8161, 0.2111, 0.9237, 0.0367, 0.9988, 0.9918, 0.9957, 0.3219,\n",
      "        0.8048, 0.9970, 0.9937, 0.9583, 0.5355, 0.0672, 0.1552, 0.3282, 0.7796,\n",
      "        0.9709, 0.0818, 0.9680, 0.6399, 0.7785, 0.5958, 0.9996, 0.5210, 0.1753,\n",
      "        0.7066, 0.9814, 0.1356, 0.9694, 0.9922, 0.9817, 0.3603, 0.9868, 0.2262,\n",
      "        0.9735, 0.7740]), negative_sum=tensor([5.8058e-01, 8.2791e-01, 8.0734e-01, 5.3245e-01, 5.5306e-01, 5.0049e-01,\n",
      "        6.8968e-01, 4.6774e-01, 4.1870e-02, 9.5899e-01, 6.0767e-01, 4.3675e-03,\n",
      "        3.1958e-03, 6.9481e-02, 2.9441e-01, 9.0982e-01, 7.0063e-01, 9.5191e-01,\n",
      "        7.3770e-02, 2.1867e-02, 3.4693e-02, 3.9042e-02, 5.3364e-02, 1.2335e-01,\n",
      "        5.8087e-01, 1.4974e-03, 7.0163e-01, 5.7190e-02, 3.1917e-02, 8.5300e-02,\n",
      "        2.7967e-03, 5.9959e-03, 1.3838e-02, 3.0033e-02, 6.5382e-01, 2.1795e-03,\n",
      "        3.3729e-01, 7.6901e-01, 1.1415e-02, 1.1425e-01, 1.3678e-02, 4.5771e-01,\n",
      "        3.9723e-01, 2.0524e-01, 5.8246e-01, 1.7777e-02, 9.3470e-04, 2.2613e-01,\n",
      "        1.4074e-01, 6.8542e-01, 7.1133e-01, 5.4885e-01, 3.8365e-03, 2.4120e-01,\n",
      "        1.3421e-03, 3.9851e-03, 7.5062e-01, 7.5945e-01, 4.8580e-01, 4.2241e-01,\n",
      "        2.1537e-03, 9.7936e-02, 1.3722e-02, 3.8271e-02, 7.7079e-01, 9.6862e-02,\n",
      "        6.9653e-01, 1.8829e-01, 1.0839e-02, 2.5783e-01, 7.4034e-03, 3.4891e-01,\n",
      "        9.9686e-01, 7.1220e-01, 8.0219e-01, 8.9133e-01, 2.7302e-01, 9.3293e-01,\n",
      "        3.2426e-02, 3.6016e-03, 9.5554e-01, 1.7458e-03, 2.0177e-02, 8.1414e-01,\n",
      "        4.3504e-02, 7.7052e-01, 6.1428e-01, 3.1037e-01, 6.3439e-03, 1.8612e-01,\n",
      "        8.5223e-01, 7.8320e-02, 9.5325e-01, 4.8518e-01, 4.8355e-03, 8.8295e-01,\n",
      "        2.7322e-03, 4.3735e-01, 1.9630e-01, 4.8540e-01, 3.6265e-01, 8.0524e-02,\n",
      "        8.0579e-03, 6.4986e-01, 8.0139e-01, 3.5169e-03, 9.6332e-01, 7.5033e-03,\n",
      "        4.9212e-03, 1.8584e-01, 2.0060e-01, 8.6586e-01, 9.7070e-01, 3.8852e-02,\n",
      "        1.6678e-01, 2.0223e-02, 7.6032e-01, 7.7400e-01, 1.0301e-02, 5.2458e-03,\n",
      "        2.9410e-01, 1.1918e-02, 8.4100e-01, 5.9765e-01, 8.9968e-01, 1.2809e-02,\n",
      "        7.1981e-01, 2.9036e-02, 1.0022e-02, 9.1781e-02, 1.0640e-01, 2.5081e-02,\n",
      "        9.1129e-03, 3.5750e-01, 4.9611e-02, 3.8998e-01, 5.1388e-01, 5.0026e-01,\n",
      "        2.1887e-02, 8.3721e-03, 3.5588e-01, 7.0447e-01, 5.8194e-03, 4.3241e-03,\n",
      "        7.7946e-01, 1.9381e-02, 1.8001e-02, 9.9099e-03, 3.4137e-01, 8.8293e-01,\n",
      "        3.4720e-03, 6.1322e-03, 2.9369e-02, 1.4563e-01, 9.4965e-01, 4.0848e-02,\n",
      "        9.5006e-02, 7.9664e-03, 7.0254e-01, 3.2728e-02, 3.1091e-02, 7.0616e-01,\n",
      "        9.2389e-01, 1.8388e-01, 7.8893e-01, 7.6270e-02, 9.6327e-01, 1.1518e-03,\n",
      "        8.1873e-03, 4.3237e-03, 6.7814e-01, 1.9523e-01, 3.0055e-03, 6.2841e-03,\n",
      "        4.1659e-02, 4.6446e-01, 9.3284e-01, 8.4483e-01, 6.7179e-01, 2.2043e-01,\n",
      "        2.9073e-02, 9.1825e-01, 3.2029e-02, 3.6008e-01, 2.2151e-01, 4.0425e-01,\n",
      "        4.0337e-04, 4.7899e-01, 8.2474e-01, 2.9335e-01, 1.8584e-02, 8.6440e-01,\n",
      "        3.0613e-02, 7.8354e-03, 1.8294e-02, 6.3966e-01, 1.3181e-02, 7.7377e-01,\n",
      "        2.6459e-02, 2.2605e-01])\n"
     ]
    },
    {
     "name": "stderr",
     "output_type": "stream",
     "text": [
      "100%|██████████| 1000/1000 [01:02<00:00, 15.98it/s]\n",
      "100%|██████████| 32/32 [34:02<00:00, 63.84s/it]\n"
     ]
    },
    {
     "name": "stdout",
     "output_type": "stream",
     "text": [
      "Stored at patched_MS_vicuna7b_1000\n",
      "proportion of positive labels is 0.49\n",
      "positive_sum=tensor([0.4029, 0.1590, 0.1809, 0.4529, 0.4248, 0.4815, 0.2961, 0.5047, 0.9610,\n",
      "        0.0376, 0.3736, 0.9959, 0.9969, 0.9362, 0.7241, 0.0829, 0.2849, 0.0438,\n",
      "        0.9333, 0.9796, 0.9683, 0.9638, 0.9446, 0.8852, 0.4005, 0.9986, 0.2785,\n",
      "        0.9475, 0.9710, 0.9213, 0.9973, 0.9943, 0.9870, 0.9719, 0.3250, 0.9979,\n",
      "        0.6354, 0.2164, 0.9893, 0.8955, 0.9873, 0.5138, 0.6246, 0.7780, 0.3976,\n",
      "        0.9833, 0.9991, 0.7929, 0.8714, 0.2871, 0.2688, 0.4306, 0.9964, 0.7397,\n",
      "        0.9987, 0.9963, 0.2348, 0.2224, 0.4894, 0.5611, 0.9979, 0.9110, 0.9870,\n",
      "        0.9647, 0.2100, 0.9127, 0.2773, 0.8286, 0.9899, 0.7239, 0.9930, 0.6224,\n",
      "        0.0030, 0.2686, 0.1870, 0.1018, 0.7033, 0.0621, 0.9703, 0.9966, 0.0403,\n",
      "        0.9983, 0.9812, 0.1672, 0.9596, 0.2073, 0.3707, 0.6760, 0.9940, 0.8060,\n",
      "        0.1340, 0.9273, 0.0426, 0.4935, 0.9954, 0.1061, 0.9974, 0.5283, 0.7927,\n",
      "        0.4929, 0.6179, 0.9255, 0.9924, 0.3299, 0.1799, 0.9966, 0.0329, 0.9931,\n",
      "        0.9952, 0.7975, 0.7872, 0.1224, 0.0269, 0.9638, 0.8213, 0.9814, 0.2179,\n",
      "        0.2113, 0.9904, 0.9950, 0.6901, 0.9888, 0.1453, 0.3870, 0.0937, 0.9880,\n",
      "        0.2588, 0.9739, 0.9904, 0.9159, 0.9006, 0.9769, 0.9915, 0.6146, 0.9546,\n",
      "        0.5909, 0.4696, 0.4845, 0.9797, 0.9921, 0.6292, 0.2792, 0.9945, 0.9959,\n",
      "        0.2054, 0.9823, 0.9836, 0.9906, 0.6441, 0.1049, 0.9967, 0.9942, 0.9731,\n",
      "        0.8482, 0.0456, 0.9623, 0.9149, 0.9924, 0.2793, 0.9703, 0.9706, 0.2749,\n",
      "        0.0696, 0.7975, 0.1957, 0.9311, 0.0339, 0.9989, 0.9922, 0.9959, 0.3043,\n",
      "        0.7941, 0.9971, 0.9941, 0.9619, 0.5111, 0.0622, 0.1412, 0.3072, 0.7931,\n",
      "        0.9729, 0.0738, 0.9705, 0.6234, 0.7989, 0.5662, 0.9996, 0.5026, 0.1595,\n",
      "        0.6876, 0.9824, 0.1240, 0.9715, 0.9926, 0.9830, 0.3354, 0.9878, 0.2095,\n",
      "        0.9756, 0.7535]), negative_sum=tensor([5.9705e-01, 8.4097e-01, 8.1910e-01, 5.4711e-01, 5.7517e-01, 5.1849e-01,\n",
      "        7.0395e-01, 4.9525e-01, 3.8978e-02, 9.6238e-01, 6.2639e-01, 4.1135e-03,\n",
      "        3.1092e-03, 6.3834e-02, 2.7588e-01, 9.1712e-01, 7.1505e-01, 9.5616e-01,\n",
      "        6.6671e-02, 2.0404e-02, 3.1677e-02, 3.6208e-02, 5.5422e-02, 1.1485e-01,\n",
      "        5.9951e-01, 1.4483e-03, 7.2145e-01, 5.2493e-02, 2.9021e-02, 7.8748e-02,\n",
      "        2.6797e-03, 5.6946e-03, 1.2996e-02, 2.8127e-02, 6.7503e-01, 2.1100e-03,\n",
      "        3.6462e-01, 7.8357e-01, 1.0707e-02, 1.0445e-01, 1.2677e-02, 4.8621e-01,\n",
      "        3.7539e-01, 2.2198e-01, 6.0241e-01, 1.6669e-02, 9.1980e-04, 2.0714e-01,\n",
      "        1.2856e-01, 7.1294e-01, 7.3120e-01, 5.6945e-01, 3.6145e-03, 2.6030e-01,\n",
      "        1.2962e-03, 3.6741e-03, 7.6517e-01, 7.7762e-01, 5.1064e-01, 4.3888e-01,\n",
      "        2.0625e-03, 8.8981e-02, 1.3039e-02, 3.5272e-02, 7.8998e-01, 8.7253e-02,\n",
      "        7.2269e-01, 1.7136e-01, 1.0057e-02, 2.7609e-01, 7.0488e-03, 3.7759e-01,\n",
      "        9.9697e-01, 7.3141e-01, 8.1299e-01, 8.9820e-01, 2.9666e-01, 9.3793e-01,\n",
      "        2.9717e-02, 3.3633e-03, 9.5974e-01, 1.6876e-03, 1.8834e-02, 8.3283e-01,\n",
      "        4.0396e-02, 7.9273e-01, 6.2926e-01, 3.2397e-01, 6.0149e-03, 1.9396e-01,\n",
      "        8.6595e-01, 7.2715e-02, 9.5738e-01, 5.0649e-01, 4.6073e-03, 8.9391e-01,\n",
      "        2.6132e-03, 4.7174e-01, 2.0732e-01, 5.0709e-01, 3.8205e-01, 7.4516e-02,\n",
      "        7.6231e-03, 6.7014e-01, 8.2013e-01, 3.4206e-03, 9.6714e-01, 6.9312e-03,\n",
      "        4.7551e-03, 2.0253e-01, 2.1276e-01, 8.7761e-01, 9.7306e-01, 3.6187e-02,\n",
      "        1.7869e-01, 1.8568e-02, 7.8206e-01, 7.8867e-01, 9.5881e-03, 4.9620e-03,\n",
      "        3.0990e-01, 1.1183e-02, 8.5473e-01, 6.1296e-01, 9.0626e-01, 1.1979e-02,\n",
      "        7.4115e-01, 2.6093e-02, 9.5666e-03, 8.4101e-02, 9.9413e-02, 2.3144e-02,\n",
      "        8.4748e-03, 3.8544e-01, 4.5404e-02, 4.0907e-01, 5.3038e-01, 5.1553e-01,\n",
      "        2.0290e-02, 7.8638e-03, 3.7078e-01, 7.2082e-01, 5.4947e-03, 4.1187e-03,\n",
      "        7.9463e-01, 1.7701e-02, 1.6386e-02, 9.3668e-03, 3.5592e-01, 8.9507e-01,\n",
      "        3.3180e-03, 5.7763e-03, 2.6919e-02, 1.5182e-01, 9.5437e-01, 3.7670e-02,\n",
      "        8.5122e-02, 7.5853e-03, 7.2073e-01, 2.9699e-02, 2.9351e-02, 7.2508e-01,\n",
      "        9.3036e-01, 2.0248e-01, 8.0433e-01, 6.8895e-02, 9.6615e-01, 1.1320e-03,\n",
      "        7.7769e-03, 4.0590e-03, 6.9573e-01, 2.0593e-01, 2.9181e-03, 5.8715e-03,\n",
      "        3.8095e-02, 4.8885e-01, 9.3778e-01, 8.5880e-01, 6.9282e-01, 2.0693e-01,\n",
      "        2.7104e-02, 9.2622e-01, 2.9530e-02, 3.7657e-01, 2.0110e-01, 4.3379e-01,\n",
      "        3.9438e-04, 4.9743e-01, 8.4053e-01, 3.1243e-01, 1.7557e-02, 8.7603e-01,\n",
      "        2.8488e-02, 7.3752e-03, 1.7018e-02, 6.6465e-01, 1.2207e-02, 7.9055e-01,\n",
      "        2.4365e-02, 2.4646e-01])\n"
     ]
    },
    {
     "name": "stderr",
     "output_type": "stream",
     "text": [
      "  0%|          | 0/32 [00:00<?, ?it/s]"
     ]
    },
    {
     "name": "stdout",
     "output_type": "stream",
     "text": [
      "generating acts\n"
     ]
    },
    {
     "name": "stderr",
     "output_type": "stream",
     "text": [
      "100%|██████████| 1000/1000 [01:01<00:00, 16.23it/s]\n",
      "  3%|▎         | 1/32 [01:03<32:34, 63.06s/it]"
     ]
    },
    {
     "name": "stdout",
     "output_type": "stream",
     "text": [
      "Stored at patched_MS_vicuna7b_1000\n",
      "proportion of positive labels is 0.49\n",
      "generating acts\n"
     ]
    },
    {
     "name": "stderr",
     "output_type": "stream",
     "text": [
      "100%|██████████| 1000/1000 [01:02<00:00, 16.12it/s]\n",
      "  6%|▋         | 2/32 [02:06<31:32, 63.09s/it]"
     ]
    },
    {
     "name": "stdout",
     "output_type": "stream",
     "text": [
      "Stored at patched_MS_vicuna7b_1000\n",
      "proportion of positive labels is 0.49\n",
      "generating acts\n"
     ]
    },
    {
     "name": "stderr",
     "output_type": "stream",
     "text": [
      "100%|██████████| 1000/1000 [01:02<00:00, 16.01it/s]\n",
      "  9%|▉         | 3/32 [03:09<30:38, 63.40s/it]"
     ]
    },
    {
     "name": "stdout",
     "output_type": "stream",
     "text": [
      "Stored at patched_MS_vicuna7b_1000\n",
      "proportion of positive labels is 0.49\n",
      "generating acts\n"
     ]
    },
    {
     "name": "stderr",
     "output_type": "stream",
     "text": [
      "100%|██████████| 1000/1000 [01:02<00:00, 16.06it/s]\n",
      " 12%|█▎        | 4/32 [04:13<29:36, 63.46s/it]"
     ]
    },
    {
     "name": "stdout",
     "output_type": "stream",
     "text": [
      "Stored at patched_MS_vicuna7b_1000\n",
      "proportion of positive labels is 0.49\n",
      "generating acts\n"
     ]
    },
    {
     "name": "stderr",
     "output_type": "stream",
     "text": [
      "100%|██████████| 1000/1000 [01:02<00:00, 16.02it/s]\n",
      " 16%|█▌        | 5/32 [05:17<28:34, 63.49s/it]"
     ]
    },
    {
     "name": "stdout",
     "output_type": "stream",
     "text": [
      "Stored at patched_MS_vicuna7b_1000\n",
      "proportion of positive labels is 0.49\n",
      "generating acts\n"
     ]
    },
    {
     "name": "stderr",
     "output_type": "stream",
     "text": [
      "100%|██████████| 1000/1000 [01:02<00:00, 16.01it/s]\n",
      " 19%|█▉        | 6/32 [06:20<27:32, 63.57s/it]"
     ]
    },
    {
     "name": "stdout",
     "output_type": "stream",
     "text": [
      "Stored at patched_MS_vicuna7b_1000\n",
      "proportion of positive labels is 0.49\n",
      "generating acts\n"
     ]
    },
    {
     "name": "stderr",
     "output_type": "stream",
     "text": [
      "100%|██████████| 1000/1000 [01:01<00:00, 16.14it/s]\n",
      " 22%|██▏       | 7/32 [07:24<26:26, 63.47s/it]"
     ]
    },
    {
     "name": "stdout",
     "output_type": "stream",
     "text": [
      "Stored at patched_MS_vicuna7b_1000\n",
      "proportion of positive labels is 0.49\n",
      "generating acts\n"
     ]
    },
    {
     "name": "stderr",
     "output_type": "stream",
     "text": [
      "100%|██████████| 1000/1000 [01:01<00:00, 16.17it/s]\n",
      " 25%|██▌       | 8/32 [08:27<25:20, 63.35s/it]"
     ]
    },
    {
     "name": "stdout",
     "output_type": "stream",
     "text": [
      "Stored at patched_MS_vicuna7b_1000\n",
      "proportion of positive labels is 0.49\n",
      "generating acts\n"
     ]
    },
    {
     "name": "stderr",
     "output_type": "stream",
     "text": [
      "100%|██████████| 1000/1000 [01:02<00:00, 16.11it/s]\n",
      " 28%|██▊       | 9/32 [09:30<24:16, 63.31s/it]"
     ]
    },
    {
     "name": "stdout",
     "output_type": "stream",
     "text": [
      "Stored at patched_MS_vicuna7b_1000\n",
      "proportion of positive labels is 0.49\n",
      "generating acts\n"
     ]
    },
    {
     "name": "stderr",
     "output_type": "stream",
     "text": [
      "100%|██████████| 1000/1000 [01:02<00:00, 16.05it/s]\n",
      " 31%|███▏      | 10/32 [10:33<23:13, 63.34s/it]"
     ]
    },
    {
     "name": "stdout",
     "output_type": "stream",
     "text": [
      "Stored at patched_MS_vicuna7b_1000\n",
      "proportion of positive labels is 0.49\n",
      "generating acts\n"
     ]
    },
    {
     "name": "stderr",
     "output_type": "stream",
     "text": [
      "100%|██████████| 1000/1000 [01:02<00:00, 16.08it/s]\n",
      " 34%|███▍      | 11/32 [11:37<22:10, 63.34s/it]"
     ]
    },
    {
     "name": "stdout",
     "output_type": "stream",
     "text": [
      "Stored at patched_MS_vicuna7b_1000\n",
      "proportion of positive labels is 0.49\n",
      "generating acts\n"
     ]
    },
    {
     "name": "stderr",
     "output_type": "stream",
     "text": [
      "100%|██████████| 1000/1000 [01:02<00:00, 15.96it/s]\n",
      " 38%|███▊      | 12/32 [12:40<21:09, 63.49s/it]"
     ]
    },
    {
     "name": "stdout",
     "output_type": "stream",
     "text": [
      "Stored at patched_MS_vicuna7b_1000\n",
      "proportion of positive labels is 0.49\n",
      "generating acts\n"
     ]
    },
    {
     "name": "stderr",
     "output_type": "stream",
     "text": [
      "100%|██████████| 1000/1000 [01:02<00:00, 15.99it/s]\n",
      " 41%|████      | 13/32 [13:44<20:07, 63.57s/it]"
     ]
    },
    {
     "name": "stdout",
     "output_type": "stream",
     "text": [
      "Stored at patched_MS_vicuna7b_1000\n",
      "proportion of positive labels is 0.49\n",
      "generating acts\n"
     ]
    },
    {
     "name": "stderr",
     "output_type": "stream",
     "text": [
      "100%|██████████| 1000/1000 [01:02<00:00, 15.98it/s]\n",
      " 44%|████▍     | 14/32 [14:48<19:05, 63.65s/it]"
     ]
    },
    {
     "name": "stdout",
     "output_type": "stream",
     "text": [
      "Stored at patched_MS_vicuna7b_1000\n",
      "proportion of positive labels is 0.49\n",
      "generating acts\n"
     ]
    },
    {
     "name": "stderr",
     "output_type": "stream",
     "text": [
      "100%|██████████| 1000/1000 [01:02<00:00, 16.03it/s]\n",
      " 47%|████▋     | 15/32 [15:52<18:02, 63.68s/it]"
     ]
    },
    {
     "name": "stdout",
     "output_type": "stream",
     "text": [
      "Stored at patched_MS_vicuna7b_1000\n",
      "proportion of positive labels is 0.49\n",
      "generating acts\n"
     ]
    },
    {
     "name": "stderr",
     "output_type": "stream",
     "text": [
      "100%|██████████| 1000/1000 [01:02<00:00, 16.05it/s]\n",
      " 50%|█████     | 16/32 [16:55<16:59, 63.69s/it]"
     ]
    },
    {
     "name": "stdout",
     "output_type": "stream",
     "text": [
      "Stored at patched_MS_vicuna7b_1000\n",
      "proportion of positive labels is 0.49\n",
      "generating acts\n"
     ]
    },
    {
     "name": "stderr",
     "output_type": "stream",
     "text": [
      "100%|██████████| 1000/1000 [01:02<00:00, 16.06it/s]\n",
      " 53%|█████▎    | 17/32 [17:59<15:54, 63.64s/it]"
     ]
    },
    {
     "name": "stdout",
     "output_type": "stream",
     "text": [
      "Stored at patched_MS_vicuna7b_1000\n",
      "proportion of positive labels is 0.49\n",
      "generating acts\n"
     ]
    },
    {
     "name": "stderr",
     "output_type": "stream",
     "text": [
      "100%|██████████| 1000/1000 [01:01<00:00, 16.21it/s]\n",
      " 56%|█████▋    | 18/32 [19:02<14:48, 63.46s/it]"
     ]
    },
    {
     "name": "stdout",
     "output_type": "stream",
     "text": [
      "Stored at patched_MS_vicuna7b_1000\n",
      "proportion of positive labels is 0.49\n",
      "generating acts\n"
     ]
    },
    {
     "name": "stderr",
     "output_type": "stream",
     "text": [
      "100%|██████████| 1000/1000 [01:02<00:00, 16.12it/s]\n",
      " 59%|█████▉    | 19/32 [20:05<13:44, 63.44s/it]"
     ]
    },
    {
     "name": "stdout",
     "output_type": "stream",
     "text": [
      "Stored at patched_MS_vicuna7b_1000\n",
      "proportion of positive labels is 0.49\n",
      "generating acts\n"
     ]
    },
    {
     "name": "stderr",
     "output_type": "stream",
     "text": [
      "100%|██████████| 1000/1000 [01:02<00:00, 16.09it/s]\n",
      " 62%|██████▎   | 20/32 [21:09<12:40, 63.40s/it]"
     ]
    },
    {
     "name": "stdout",
     "output_type": "stream",
     "text": [
      "Stored at patched_MS_vicuna7b_1000\n",
      "proportion of positive labels is 0.49\n",
      "generating acts\n"
     ]
    },
    {
     "name": "stderr",
     "output_type": "stream",
     "text": [
      "100%|██████████| 1000/1000 [01:02<00:00, 16.07it/s]\n",
      " 66%|██████▌   | 21/32 [22:12<11:38, 63.47s/it]"
     ]
    },
    {
     "name": "stdout",
     "output_type": "stream",
     "text": [
      "Stored at patched_MS_vicuna7b_1000\n",
      "proportion of positive labels is 0.49\n",
      "generating acts\n"
     ]
    },
    {
     "name": "stderr",
     "output_type": "stream",
     "text": [
      "100%|██████████| 1000/1000 [01:02<00:00, 16.07it/s]\n",
      " 69%|██████▉   | 22/32 [23:16<10:35, 63.52s/it]"
     ]
    },
    {
     "name": "stdout",
     "output_type": "stream",
     "text": [
      "Stored at patched_MS_vicuna7b_1000\n",
      "proportion of positive labels is 0.49\n",
      "generating acts\n"
     ]
    },
    {
     "name": "stderr",
     "output_type": "stream",
     "text": [
      "100%|██████████| 1000/1000 [01:02<00:00, 16.01it/s]\n",
      " 72%|███████▏  | 23/32 [24:20<09:32, 63.58s/it]"
     ]
    },
    {
     "name": "stdout",
     "output_type": "stream",
     "text": [
      "Stored at patched_MS_vicuna7b_1000\n",
      "proportion of positive labels is 0.49\n",
      "generating acts\n"
     ]
    },
    {
     "name": "stderr",
     "output_type": "stream",
     "text": [
      "100%|██████████| 1000/1000 [01:03<00:00, 15.86it/s]\n",
      " 75%|███████▌  | 24/32 [25:24<08:30, 63.83s/it]"
     ]
    },
    {
     "name": "stdout",
     "output_type": "stream",
     "text": [
      "Stored at patched_MS_vicuna7b_1000\n",
      "proportion of positive labels is 0.49\n",
      "generating acts\n"
     ]
    },
    {
     "name": "stderr",
     "output_type": "stream",
     "text": [
      "100%|██████████| 1000/1000 [01:02<00:00, 16.03it/s]\n",
      " 78%|███████▊  | 25/32 [26:28<07:26, 63.82s/it]"
     ]
    },
    {
     "name": "stdout",
     "output_type": "stream",
     "text": [
      "Stored at patched_MS_vicuna7b_1000\n",
      "proportion of positive labels is 0.49\n",
      "generating acts\n"
     ]
    },
    {
     "name": "stderr",
     "output_type": "stream",
     "text": [
      "100%|██████████| 1000/1000 [01:02<00:00, 16.02it/s]\n",
      " 81%|████████▏ | 26/32 [27:32<06:22, 63.78s/it]"
     ]
    },
    {
     "name": "stdout",
     "output_type": "stream",
     "text": [
      "Stored at patched_MS_vicuna7b_1000\n",
      "proportion of positive labels is 0.49\n",
      "generating acts\n"
     ]
    },
    {
     "name": "stderr",
     "output_type": "stream",
     "text": [
      "100%|██████████| 1000/1000 [01:02<00:00, 15.94it/s]\n",
      " 84%|████████▍ | 27/32 [28:36<05:19, 63.92s/it]"
     ]
    },
    {
     "name": "stdout",
     "output_type": "stream",
     "text": [
      "Stored at patched_MS_vicuna7b_1000\n",
      "proportion of positive labels is 0.49\n",
      "generating acts\n"
     ]
    },
    {
     "name": "stderr",
     "output_type": "stream",
     "text": [
      "100%|██████████| 1000/1000 [01:02<00:00, 15.91it/s]\n",
      " 88%|████████▊ | 28/32 [29:40<04:15, 63.98s/it]"
     ]
    },
    {
     "name": "stdout",
     "output_type": "stream",
     "text": [
      "Stored at patched_MS_vicuna7b_1000\n",
      "proportion of positive labels is 0.49\n",
      "generating acts\n"
     ]
    },
    {
     "name": "stderr",
     "output_type": "stream",
     "text": [
      "100%|██████████| 1000/1000 [01:03<00:00, 15.78it/s]\n",
      " 91%|█████████ | 29/32 [30:45<03:12, 64.17s/it]"
     ]
    },
    {
     "name": "stdout",
     "output_type": "stream",
     "text": [
      "Stored at patched_MS_vicuna7b_1000\n",
      "proportion of positive labels is 0.49\n",
      "generating acts\n"
     ]
    },
    {
     "name": "stderr",
     "output_type": "stream",
     "text": [
      "100%|██████████| 1000/1000 [01:03<00:00, 15.74it/s]\n",
      " 94%|█████████▍| 30/32 [31:50<02:08, 64.41s/it]"
     ]
    },
    {
     "name": "stdout",
     "output_type": "stream",
     "text": [
      "Stored at patched_MS_vicuna7b_1000\n",
      "proportion of positive labels is 0.49\n",
      "generating acts\n"
     ]
    },
    {
     "name": "stderr",
     "output_type": "stream",
     "text": [
      "100%|██████████| 1000/1000 [01:03<00:00, 15.80it/s]\n",
      " 97%|█████████▋| 31/32 [32:54<01:04, 64.45s/it]"
     ]
    },
    {
     "name": "stdout",
     "output_type": "stream",
     "text": [
      "Stored at patched_MS_vicuna7b_1000\n",
      "proportion of positive labels is 0.49\n",
      "generating acts\n"
     ]
    },
    {
     "name": "stderr",
     "output_type": "stream",
     "text": [
      "100%|██████████| 1000/1000 [01:02<00:00, 15.99it/s]\n",
      "100%|██████████| 32/32 [33:58<00:00, 63.70s/it]"
     ]
    },
    {
     "name": "stdout",
     "output_type": "stream",
     "text": [
      "Stored at patched_MS_vicuna7b_1000\n",
      "proportion of positive labels is 0.49\n"
     ]
    },
    {
     "name": "stderr",
     "output_type": "stream",
     "text": [
      "\n"
     ]
    }
   ],
   "source": [
    "# Now scale output probs so that only correct vs incorrect considered, nothing else\n",
    "seed = 0\n",
    "\n",
    "alpha = 1\n",
    "k_range = range(0, 32, 1)\n",
    "\n",
    "logit_patch_accs = []\n",
    "regular_patch_accs = []\n",
    "\n",
    "dataname = \"MS\"\n",
    "for k in tqdm(k_range):\n",
    "    top_logit_heads = torch.topk(result_attrs.mean(dim=0), k=k).indices\n",
    "\n",
    "    logit_bools = get_head_bools(model, top_logit_heads, flattened=True)\n",
    "    model.reset_hooks()\n",
    "    patch_heads(model, acts[dataname], logit_bools, alpha=alpha, use_MMD=True, model_device='cuda')\n",
    "\n",
    "    patched_acts = ModelActs(model, datasets[dataname], act_types=[\"z\",\"logits\"])\n",
    "    # print(\"generating acts\")\n",
    "    patched_acts.gen_acts(N=1000, id=f\"patched_{dataname}_vicuna7b_1000\", indices=acts[dataname].indices)\n",
    "\n",
    "    patched_acts.indices_trains=acts[dataname].indices_trains\n",
    "    patched_acts.indices_tests=acts[dataname].indices_tests\n",
    "\n",
    "    positive_sum, negative_sum = tot_logit_diff(model.tokenizer, patched_acts, use_probs=True, check_balanced_output=False, scale_relative=True)\n",
    "    # print(f\"{positive_sum=}, {negative_sum=}\")\n",
    "    logit_patch_accs.append(positive_sum.mean() - negative_sum.mean())\n",
    "\n",
    "\n",
    "dataname = \"MS\"\n",
    "for k in tqdm(k_range):\n",
    "    model.reset_hooks()\n",
    "    patch_iti(model, acts[dataname], topk=k, alpha=alpha, use_MMD=True, model_device='cuda')\n",
    "\n",
    "    patched_acts = ModelActs(model, datasets[dataname], act_types=[\"z\",\"logits\"])\n",
    "    print(\"generating acts\")\n",
    "    patched_acts.gen_acts(N=1000, id=f\"patched_{dataname}_vicuna7b_1000\", indices=acts[dataname].indices)\n",
    "\n",
    "    patched_acts.indices_trains=acts[dataname].indices_trains\n",
    "    patched_acts.indices_tests=acts[dataname].indices_tests\n",
    "\n",
    "    positive_sum, negative_sum = tot_logit_diff(model.tokenizer, patched_acts, use_probs=True, check_balanced_output=False, scale_relative=True)\n",
    "\n",
    "    regular_patch_accs.append(positive_sum.mean() - negative_sum.mean())"
   ]
  },
  {
   "cell_type": "code",
   "execution_count": 37,
   "metadata": {},
   "outputs": [
    {
     "data": {
      "image/png": "[encoded data removed]",
      "text/plain": [
       "<Figure size 432x288 with 1 Axes>"
      ]
     },
     "metadata": {
      "needs_background": "light"
     },
     "output_type": "display_data"
    }
   ],
   "source": [
    "\n",
    "plt.scatter(k_range, logit_patch_accs, label=\"Logit Patching\")\n",
    "plt.scatter(k_range, regular_patch_accs, label=\"Regular Patching\")\n",
    "plt.legend()\n",
    "plt.title(\"Scaled Model Accuracy after ITI using Logit vs Regular Patching\")\n",
    "plt.xlabel(\"k\")\n",
    "plt.ylabel(\"Correct - Incorrect Label Responses Scaled\")\n",
    "plt.show()"
   ]
  },
  {
   "cell_type": "code",
   "execution_count": null,
   "metadata": {},
   "outputs": [],
   "source": []
  }
 ],
 "metadata": {
  "kernelspec": {
   "display_name": "Python 3",
   "language": "python",
   "name": "python3"
  },
  "language_info": {
   "codemirror_mode": {
    "name": "ipython",
    "version": 3
   },
   "file_extension": ".py",
   "mimetype": "text/x-python",
   "name": "python",
   "nbconvert_exporter": "python",
   "pygments_lexer": "ipython3",
   "version": "3.8.10"
  },
  "orig_nbformat": 4
 },
 "nbformat": 4,
 "nbformat_minor": 2
}
