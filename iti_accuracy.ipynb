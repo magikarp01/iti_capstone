{
 "cells": [
  {
   "cell_type": "code",
   "execution_count": null,
   "metadata": {},
   "outputs": [],
   "source": [
    "# Replicate ITI results, make sure ITI utils and probing utils work right\n",
    "\n",
    "#%%\n",
    "from IPython import get_ipython\n",
    "\n",
    "ipython = get_ipython()\n",
    "# Code to automatically update the TransformerLens code as its edited without restarting the kernel\n",
    "ipython.magic(\"load_ext autoreload\")\n",
    "ipython.magic(\"autoreload 2\")\n",
    "    \n",
    "import plotly.io as pio\n",
    "# pio.renderers.default = \"png\"\n",
    "# Import stuff\n",
    "import torch\n",
    "import torch.nn as nn\n",
    "import torch.nn.functional as F\n",
    "import torch.optim as optim\n",
    "import numpy as np\n",
    "import einops\n",
    "from fancy_einsum import einsum\n",
    "import tqdm.notebook as tqdm\n",
    "import random\n",
    "from pathlib import Path\n",
    "import plotly.express as px\n",
    "from torch.utils.data import DataLoader\n",
    "\n",
    "from jaxtyping import Float, Int\n",
    "from typing import List, Union, Optional\n",
    "from functools import partial\n",
    "import copy\n",
    "\n",
    "import itertools\n",
    "from transformers import AutoModelForCausalLM, AutoConfig, AutoTokenizer\n",
    "import dataclasses\n",
    "import datasets\n",
    "from IPython.display import HTML\n",
    "\n",
    "from tqdm import tqdm\n",
    "from utils.probing_utils import ModelActs\n",
    "from utils.dataset_utils import CounterFact_Dataset, TQA_MC_Dataset, EZ_Dataset\n",
    "\n",
    "import transformer_lens\n",
    "import transformer_lens.utils as utils\n",
    "from transformer_lens.hook_points import (\n",
    "    HookedRootModule,\n",
    "    HookPoint,\n",
    ")  # Hooking utilities\n",
    "from transformer_lens import HookedTransformer, HookedTransformerConfig, FactoredMatrix, ActivationCache\n",
    "\n",
    "from utils.iti_utils import patch_iti\n",
    "\n",
    "from utils.analytics_utils import plot_probe_accuracies, plot_norm_diffs, plot_cosine_sims"
   ]
  },
  {
   "cell_type": "code",
   "execution_count": null,
   "metadata": {},
   "outputs": [],
   "source": [
    "from utils.model_utils import vicuna_7b, vicuna_13b\n",
    "model = vicuna_7b(device=\"cuda\")\n",
    "model.tokenizer.add_special_tokens({'pad_token': '[PAD]'})\n",
    "model_name = \"vicuna7b\""
   ]
  },
  {
   "cell_type": "code",
   "execution_count": 3,
   "metadata": {},
   "outputs": [],
   "source": [
    "from utils.dataset_utils import MS_Dataset, Elem_Dataset, MisCons_Dataset, Kinder_Dataset, HS_Dataset, BoolQ_Question_Dataset, TruthfulQA_Tfn, CounterFact_Tfn, Fever_Tfn, BoolQ_Tfn, Creak_Tfn, CommonClaim_Tfn\n",
    "random_seed = 5\n",
    "\n",
    "datanames = [\"MS\", \"Elem\", \"MisCons\", \"Kinder\", \"HS\", \"TruthfulQA\", \"CounterFact\", \"Fever\", \"Creak\", \"BoolQ\", \"CommonClaim\"]\n",
    "\n",
    "ms_data = MS_Dataset(model.tokenizer, questions=True)\n",
    "elem_data = Elem_Dataset(model.tokenizer, questions=True)\n",
    "miscons_data = MisCons_Dataset(model.tokenizer, questions=True)\n",
    "kinder_data = Kinder_Dataset(model.tokenizer, questions=True)\n",
    "hs_data = HS_Dataset(model.tokenizer, questions=True)\n",
    "# boolq_data = BoolQ_Question_Dataset(model.tokenizer)\n",
    "\n",
    "tqa_data = TruthfulQA_Tfn(model.tokenizer, questions=True)\n",
    "cfact_data = CounterFact_Tfn(model.tokenizer, questions=True)\n",
    "fever_data = Fever_Tfn(model.tokenizer, questions=True)\n",
    "boolq_data = BoolQ_Tfn(model.tokenizer, questions=True)\n",
    "creak_data = Creak_Tfn(model.tokenizer, questions=True)\n",
    "commonclaim_data = CommonClaim_Tfn(model.tokenizer, questions=True)\n",
    "\n",
    "datasets = {\"MS\": ms_data, \"Elem\": elem_data, \"MisCons\": miscons_data, \"Kinder\": kinder_data, \"HS\": hs_data, \"TruthfulQA\": tqa_data, \"CounterFact\": cfact_data, \"Fever\": fever_data, \"Creak\": creak_data, \"BoolQ\": boolq_data, \"CommonClaim\": commonclaim_data}\n",
    "\n",
    "datanames = datanames[:3]"
   ]
  },
  {
   "cell_type": "code",
   "execution_count": 4,
   "metadata": {},
   "outputs": [
    {
     "name": "stderr",
     "output_type": "stream",
     "text": [
      "100%|██████████| 1000/1000 [01:23<00:00, 12.05it/s]\n"
     ]
    },
    {
     "name": "stdout",
     "output_type": "stream",
     "text": [
      "Stored at MS_vicuna7b_1000\n",
      "torch.Size([800, 1024, 128]), torch.Size([200, 1024, 128]), torch.Size([800, 1024]), torch.Size([200, 1024])\n"
     ]
    },
    {
     "name": "stderr",
     "output_type": "stream",
     "text": [
      "100%|██████████| 1024/1024 [00:08<00:00, 119.31it/s]\n",
      "100%|██████████| 1000/1000 [01:17<00:00, 12.87it/s]\n"
     ]
    },
    {
     "name": "stdout",
     "output_type": "stream",
     "text": [
      "Stored at Elem_vicuna7b_1000\n",
      "torch.Size([800, 1024, 128]), torch.Size([200, 1024, 128]), torch.Size([800, 1024]), torch.Size([200, 1024])\n"
     ]
    },
    {
     "name": "stderr",
     "output_type": "stream",
     "text": [
      "100%|██████████| 1024/1024 [00:09<00:00, 107.51it/s]\n",
      "100%|██████████| 1000/1000 [01:17<00:00, 12.87it/s]\n"
     ]
    },
    {
     "name": "stdout",
     "output_type": "stream",
     "text": [
      "Stored at MisCons_vicuna7b_1000\n",
      "torch.Size([800, 1024, 128]), torch.Size([200, 1024, 128]), torch.Size([800, 1024]), torch.Size([200, 1024])\n"
     ]
    },
    {
     "name": "stderr",
     "output_type": "stream",
     "text": [
      "100%|██████████| 1024/1024 [00:07<00:00, 129.65it/s]\n"
     ]
    }
   ],
   "source": [
    "n_acts = 1000\n",
    "acts = {}\n",
    "\n",
    "for name in datanames:\n",
    "    # acts[name] = ModelActs(model, datasets[name], act_types=[\"z\", \"mlp_out\", \"resid_post\", \"resid_pre\", \"logits\"])\n",
    "    acts[name] = ModelActs(model, datasets[name], act_types=[\"z\", \"logits\"])\n",
    "    model_acts: ModelActs = acts[name]\n",
    "    model_acts.gen_acts(N=n_acts, id=f\"{name}_{model_name}_{n_acts}\")\n",
    "    # model_acts.load_acts(id=f\"{name}_{model_name}_{n_acts}\", load_probes=False)\n",
    "    model_acts.train_probes(\"z\", max_iter=1000)"
   ]
  },
  {
   "cell_type": "code",
   "execution_count": 5,
   "metadata": {},
   "outputs": [
    {
     "name": "stderr",
     "output_type": "stream",
     "text": [
      "100%|██████████| 200/200 [00:20<00:00,  9.78it/s]\n"
     ]
    }
   ],
   "source": [
    "from utils.interp_utils import logit_attrs\n",
    "attrs = logit_attrs(model, datasets['MS'], act_types=[\"result\"], N=200)\n",
    "result_attrs = torch.stack(attrs[1]['result']).to('cpu')"
   ]
  },
  {
   "cell_type": "code",
   "execution_count": 14,
   "metadata": {},
   "outputs": [
    {
     "name": "stderr",
     "output_type": "stream",
     "text": [
      "100%|██████████| 1000/1000 [01:23<00:00, 11.92it/s]\n",
      " 25%|██▌       | 1/4 [01:25<04:16, 85.51s/it]"
     ]
    },
    {
     "name": "stdout",
     "output_type": "stream",
     "text": [
      "Stored at patched_MS_vicuna7b_1000\n",
      "proportion of positive labels is 0.465\n"
     ]
    },
    {
     "name": "stderr",
     "output_type": "stream",
     "text": [
      "100%|██████████| 1000/1000 [01:18<00:00, 12.75it/s]\n",
      " 50%|█████     | 2/4 [02:45<02:44, 82.38s/it]"
     ]
    },
    {
     "name": "stdout",
     "output_type": "stream",
     "text": [
      "Stored at patched_MS_vicuna7b_1000\n",
      "proportion of positive labels is 0.465\n"
     ]
    },
    {
     "name": "stderr",
     "output_type": "stream",
     "text": [
      "100%|██████████| 1000/1000 [01:19<00:00, 12.55it/s]\n",
      " 75%|███████▌  | 3/4 [04:07<01:21, 81.91s/it]"
     ]
    },
    {
     "name": "stdout",
     "output_type": "stream",
     "text": [
      "Stored at patched_MS_vicuna7b_1000\n",
      "proportion of positive labels is 0.465\n"
     ]
    },
    {
     "name": "stderr",
     "output_type": "stream",
     "text": [
      "100%|██████████| 1000/1000 [01:18<00:00, 12.79it/s]\n",
      "100%|██████████| 4/4 [05:26<00:00, 81.67s/it]"
     ]
    },
    {
     "name": "stdout",
     "output_type": "stream",
     "text": [
      "Stored at patched_MS_vicuna7b_1000\n",
      "proportion of positive labels is 0.465\n"
     ]
    },
    {
     "name": "stderr",
     "output_type": "stream",
     "text": [
      "\n"
     ]
    }
   ],
   "source": [
    "# Plot Truth Score and Info Score when varying topk\n",
    "from utils.gpt_judge import get_model_generations, get_judge_scores\n",
    "from utils.iti_utils import patch_heads\n",
    "from utils.interp_utils import get_head_bools, tot_logit_diff\n",
    "\n",
    "seed = 0\n",
    "\n",
    "alpha = 1\n",
    "k_range = range(0, 4, 1)\n",
    "\n",
    "logit_patch_accs = []\n",
    "regular_patch_accs = []\n",
    "# logit_patch_truths = []\n",
    "# logit_patch_infos = []\n",
    "# regular_patch_truths = []\n",
    "# regular_patch_infos = []\n",
    "# num_gens=200\n",
    "\n",
    "# first, patching top logit heads:\n",
    "\n",
    "dataname = \"MS\"\n",
    "for k in tqdm(k_range):\n",
    "    top_logit_heads = torch.topk(result_attrs.mean(dim=0), k=k).indices\n",
    "\n",
    "    logit_bools = get_head_bools(model, top_logit_heads, flattened=True)\n",
    "    model.reset_hooks()\n",
    "    patch_heads(model, acts[dataname], logit_bools, alpha=alpha, use_probe=True, model_device='cuda')\n",
    "\n",
    "    patched_acts = ModelActs(model, datasets[dataname], act_types=[\"z\",\"logits\"])\n",
    "    # print(\"generating acts\")\n",
    "    patched_acts.gen_acts(N=1000, id=f\"patched_{dataname}_{model_name}_1000\", indices=acts[dataname].indices, store_acts=False)\n",
    "    # patched_acts.train_probes(\"z\", max_iter=1000)\n",
    "\n",
    "    patched_acts.indices_trains=acts[dataname].indices_trains\n",
    "    patched_acts.indices_tests=acts[dataname].indices_tests\n",
    "\n",
    "    positive_sum, negative_sum = tot_logit_diff(model.tokenizer, patched_acts, use_probs=True, check_balanced_output=False)\n",
    "\n",
    "    logit_patch_accs.append(positive_sum.mean() - negative_sum.mean())"
   ]
  },
  {
   "cell_type": "code",
   "execution_count": 15,
   "metadata": {},
   "outputs": [
    {
     "name": "stderr",
     "output_type": "stream",
     "text": [
      "  0%|          | 0/4 [00:00<?, ?it/s]"
     ]
    },
    {
     "name": "stdout",
     "output_type": "stream",
     "text": [
      "generating acts\n"
     ]
    },
    {
     "name": "stderr",
     "output_type": "stream",
     "text": [
      "100%|██████████| 1000/1000 [01:22<00:00, 12.06it/s]\n",
      " 25%|██▌       | 1/4 [01:24<04:13, 84.46s/it]"
     ]
    },
    {
     "name": "stdout",
     "output_type": "stream",
     "text": [
      "Stored at patched_MS_vicuna7b_1000\n",
      "proportion of positive labels is 0.465\n",
      "generating acts\n"
     ]
    },
    {
     "name": "stderr",
     "output_type": "stream",
     "text": [
      "100%|██████████| 1000/1000 [01:20<00:00, 12.37it/s]\n",
      " 50%|█████     | 2/4 [02:46<02:46, 83.22s/it]"
     ]
    },
    {
     "name": "stdout",
     "output_type": "stream",
     "text": [
      "Stored at patched_MS_vicuna7b_1000\n",
      "proportion of positive labels is 0.465\n",
      "generating acts\n"
     ]
    },
    {
     "name": "stderr",
     "output_type": "stream",
     "text": [
      "100%|██████████| 1000/1000 [01:19<00:00, 12.63it/s]\n",
      " 75%|███████▌  | 3/4 [04:07<01:22, 82.16s/it]"
     ]
    },
    {
     "name": "stdout",
     "output_type": "stream",
     "text": [
      "Stored at patched_MS_vicuna7b_1000\n",
      "proportion of positive labels is 0.465\n",
      "generating acts\n"
     ]
    },
    {
     "name": "stderr",
     "output_type": "stream",
     "text": [
      "100%|██████████| 1000/1000 [01:18<00:00, 12.74it/s]\n",
      "100%|██████████| 4/4 [05:28<00:00, 82.01s/it]"
     ]
    },
    {
     "name": "stdout",
     "output_type": "stream",
     "text": [
      "Stored at patched_MS_vicuna7b_1000\n",
      "proportion of positive labels is 0.465\n"
     ]
    },
    {
     "name": "stderr",
     "output_type": "stream",
     "text": [
      "\n"
     ]
    }
   ],
   "source": [
    "from utils.iti_utils import patch_iti\n",
    "dataname = \"MS\"\n",
    "for k in tqdm(k_range):\n",
    "    model.reset_hooks()\n",
    "    patch_iti(model, acts[dataname], topk=k, alpha=alpha, use_probe=True, model_device='cuda')\n",
    "\n",
    "    patched_acts = ModelActs(model, datasets[dataname], act_types=[\"z\",\"logits\"])\n",
    "    print(\"generating acts\")\n",
    "    patched_acts.gen_acts(N=1000, id=f\"patched_{dataname}_{model_name}_1000\", indices=acts[dataname].indices, store_acts=False)\n",
    "\n",
    "    patched_acts.indices_trains=acts[dataname].indices_trains\n",
    "    patched_acts.indices_tests=acts[dataname].indices_tests\n",
    "\n",
    "    positive_sum, negative_sum = tot_logit_diff(model.tokenizer, patched_acts, use_probs=True, check_balanced_output=False)\n",
    "\n",
    "    regular_patch_accs.append(positive_sum.mean() - negative_sum.mean())"
   ]
  },
  {
   "cell_type": "code",
   "execution_count": 16,
   "metadata": {},
   "outputs": [
    {
     "data": {
      "text/plain": [
       "Text(0, 0.5, 'Correct - Incorrect Label Responses')"
      ]
     },
     "execution_count": 16,
     "metadata": {},
     "output_type": "execute_result"
    },
    {
     "data": {
      "image/png": "[encoded data removed]",
      "text/plain": [
       "<Figure size 432x288 with 1 Axes>"
      ]
     },
     "metadata": {
      "needs_background": "light"
     },
     "output_type": "display_data"
    }
   ],
   "source": [
    "import matplotlib.pyplot as plt\n",
    "\n",
    "plt.scatter(k_range, logit_patch_accs, label=\"Logit Patching\")\n",
    "plt.scatter(k_range, regular_patch_accs, label=\"Regular Patching\")\n",
    "plt.legend()\n",
    "plt.title(\"Model Accuracy after ITI using Logit vs Regular Patching\")\n",
    "plt.xlabel(\"k\")\n",
    "plt.ylabel(\"Correct - Incorrect Label Responses\")"
   ]
  },
  {
   "cell_type": "code",
   "execution_count": 18,
   "metadata": {},
   "outputs": [
    {
     "name": "stderr",
     "output_type": "stream",
     "text": [
      "100%|██████████| 1000/1000 [01:17<00:00, 12.84it/s]\n",
      " 25%|██▌       | 1/4 [01:19<03:58, 79.42s/it]"
     ]
    },
    {
     "name": "stdout",
     "output_type": "stream",
     "text": [
      "Stored at patched_MS_vicuna7b_1000\n",
      "proportion of positive labels is 0.465\n"
     ]
    },
    {
     "name": "stderr",
     "output_type": "stream",
     "text": [
      "100%|██████████| 1000/1000 [01:18<00:00, 12.80it/s]\n",
      " 50%|█████     | 2/4 [02:38<02:38, 79.49s/it]"
     ]
    },
    {
     "name": "stdout",
     "output_type": "stream",
     "text": [
      "Stored at patched_MS_vicuna7b_1000\n",
      "proportion of positive labels is 0.465\n"
     ]
    },
    {
     "name": "stderr",
     "output_type": "stream",
     "text": [
      "100%|██████████| 1000/1000 [01:19<00:00, 12.62it/s]\n",
      " 75%|███████▌  | 3/4 [03:59<01:20, 80.02s/it]"
     ]
    },
    {
     "name": "stdout",
     "output_type": "stream",
     "text": [
      "Stored at patched_MS_vicuna7b_1000\n",
      "proportion of positive labels is 0.465\n"
     ]
    },
    {
     "name": "stderr",
     "output_type": "stream",
     "text": [
      "100%|██████████| 1000/1000 [01:18<00:00, 12.75it/s]\n",
      "100%|██████████| 4/4 [05:19<00:00, 79.87s/it]\n"
     ]
    },
    {
     "name": "stdout",
     "output_type": "stream",
     "text": [
      "Stored at patched_MS_vicuna7b_1000\n",
      "proportion of positive labels is 0.465\n"
     ]
    },
    {
     "name": "stderr",
     "output_type": "stream",
     "text": [
      "  0%|          | 0/4 [00:00<?, ?it/s]"
     ]
    },
    {
     "name": "stdout",
     "output_type": "stream",
     "text": [
      "generating acts\n"
     ]
    },
    {
     "name": "stderr",
     "output_type": "stream",
     "text": [
      "100%|██████████| 1000/1000 [01:19<00:00, 12.50it/s]\n",
      " 25%|██▌       | 1/4 [01:21<04:04, 81.44s/it]"
     ]
    },
    {
     "name": "stdout",
     "output_type": "stream",
     "text": [
      "Stored at patched_MS_vicuna7b_1000\n",
      "proportion of positive labels is 0.465\n",
      "generating acts\n"
     ]
    },
    {
     "name": "stderr",
     "output_type": "stream",
     "text": [
      "100%|██████████| 1000/1000 [01:18<00:00, 12.77it/s]\n",
      " 50%|█████     | 2/4 [02:41<02:41, 80.55s/it]"
     ]
    },
    {
     "name": "stdout",
     "output_type": "stream",
     "text": [
      "Stored at patched_MS_vicuna7b_1000\n",
      "proportion of positive labels is 0.465\n",
      "generating acts\n"
     ]
    },
    {
     "name": "stderr",
     "output_type": "stream",
     "text": [
      "100%|██████████| 1000/1000 [01:22<00:00, 12.16it/s]\n",
      " 75%|███████▌  | 3/4 [04:05<01:21, 81.97s/it]"
     ]
    },
    {
     "name": "stdout",
     "output_type": "stream",
     "text": [
      "Stored at patched_MS_vicuna7b_1000\n",
      "proportion of positive labels is 0.465\n",
      "generating acts\n"
     ]
    },
    {
     "name": "stderr",
     "output_type": "stream",
     "text": [
      "100%|██████████| 1000/1000 [01:18<00:00, 12.74it/s]\n",
      "100%|██████████| 4/4 [05:25<00:00, 81.34s/it]"
     ]
    },
    {
     "name": "stdout",
     "output_type": "stream",
     "text": [
      "Stored at patched_MS_vicuna7b_1000\n",
      "proportion of positive labels is 0.465\n"
     ]
    },
    {
     "name": "stderr",
     "output_type": "stream",
     "text": [
      "\n"
     ]
    }
   ],
   "source": [
    "# Now scale output probs so that only correct vs incorrect considered, nothing else\n",
    "seed = 0\n",
    "\n",
    "alpha = 1\n",
    "k_range = range(0, 4, 1)\n",
    "\n",
    "logit_patch_accs = []\n",
    "regular_patch_accs = []\n",
    "\n",
    "dataname = \"MS\"\n",
    "for k in tqdm(k_range):\n",
    "    top_logit_heads = torch.topk(result_attrs.mean(dim=0), k=k).indices\n",
    "\n",
    "    logit_bools = get_head_bools(model, top_logit_heads, flattened=True)\n",
    "    model.reset_hooks()\n",
    "    patch_heads(model, acts[dataname], logit_bools, alpha=alpha, use_probe=True, model_device='cuda')\n",
    "\n",
    "    patched_acts = ModelActs(model, datasets[dataname], act_types=[\"z\",\"logits\"])\n",
    "    # print(\"generating acts\")\n",
    "    patched_acts.gen_acts(N=1000, id=f\"patched_{dataname}_{model_name}_1000\", indices=acts[dataname].indices, store_acts=False)\n",
    "\n",
    "    patched_acts.indices_trains=acts[dataname].indices_trains\n",
    "    patched_acts.indices_tests=acts[dataname].indices_tests\n",
    "\n",
    "    positive_sum, negative_sum = tot_logit_diff(model.tokenizer, patched_acts, use_probs=True, check_balanced_output=False, scale_relative=True)\n",
    "    # print(f\"{positive_sum=}, {negative_sum=}\")\n",
    "    logit_patch_accs.append(positive_sum.mean() - negative_sum.mean())\n",
    "\n",
    "\n",
    "dataname = \"MS\"\n",
    "for k in tqdm(k_range):\n",
    "    model.reset_hooks()\n",
    "    patch_iti(model, acts[dataname], topk=k, alpha=alpha, use_probe=True, model_device='cuda')\n",
    "\n",
    "    patched_acts = ModelActs(model, datasets[dataname], act_types=[\"z\",\"logits\"])\n",
    "    print(\"generating acts\")\n",
    "    patched_acts.gen_acts(N=1000, id=f\"patched_{dataname}_{model_name}_1000\", indices=acts[dataname].indices, store_acts=False)\n",
    "    patched_acts.indices_trains=acts[dataname].indices_trains\n",
    "    patched_acts.indices_tests=acts[dataname].indices_tests\n",
    "\n",
    "    positive_sum, negative_sum = tot_logit_diff(model.tokenizer, patched_acts, use_probs=True, check_balanced_output=False, scale_relative=True)\n",
    "\n",
    "    regular_patch_accs.append(positive_sum.mean() - negative_sum.mean())"
   ]
  },
  {
   "cell_type": "code",
   "execution_count": 19,
   "metadata": {},
   "outputs": [
    {
     "data": {
      "image/png": "[encoded data removed]",
      "text/plain": [
       "<Figure size 432x288 with 1 Axes>"
      ]
     },
     "metadata": {
      "needs_background": "light"
     },
     "output_type": "display_data"
    }
   ],
   "source": [
    "\n",
    "plt.scatter(k_range, logit_patch_accs, label=\"Logit Patching\")\n",
    "plt.scatter(k_range, regular_patch_accs, label=\"Regular Patching\")\n",
    "plt.legend()\n",
    "plt.title(\"Scaled Model Accuracy after ITI using Logit vs Regular Patching\")\n",
    "plt.xlabel(\"k\")\n",
    "plt.ylabel(\"Correct - Incorrect Label Responses Scaled\")\n",
    "plt.show()"
   ]
  },
  {
   "cell_type": "code",
   "execution_count": null,
   "metadata": {},
   "outputs": [],
   "source": []
  }
 ],
 "metadata": {
  "kernelspec": {
   "display_name": "Python 3",
   "language": "python",
   "name": "python3"
  },
  "language_info": {
   "codemirror_mode": {
    "name": "ipython",
    "version": 3
   },
   "file_extension": ".py",
   "mimetype": "text/x-python",
   "name": "python",
   "nbconvert_exporter": "python",
   "pygments_lexer": "ipython3",
   "version": "3.8.10"
  },
  "orig_nbformat": 4
 },
 "nbformat": 4,
 "nbformat_minor": 2
}
