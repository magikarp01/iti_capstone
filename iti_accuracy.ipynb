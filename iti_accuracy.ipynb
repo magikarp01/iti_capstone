{
 "cells": [
  {
   "cell_type": "code",
   "execution_count": 1,
   "metadata": {},
   "outputs": [
    {
     "name": "stderr",
     "output_type": "stream",
     "text": [
      "/home/ubuntu/.local/lib/python3.8/site-packages/pandas/core/computation/expressions.py:20: UserWarning: Pandas requires version '2.7.3' or newer of 'numexpr' (version '2.7.1' currently installed).\n",
      "  from pandas.core.computation.check import NUMEXPR_INSTALLED\n"
     ]
    }
   ],
   "source": [
    "# Replicate ITI results, make sure ITI utils and probing utils work right\n",
    "\n",
    "#%%\n",
    "from IPython import get_ipython\n",
    "\n",
    "ipython = get_ipython()\n",
    "# Code to automatically update the TransformerLens code as its edited without restarting the kernel\n",
    "ipython.magic(\"load_ext autoreload\")\n",
    "ipython.magic(\"autoreload 2\")\n",
    "    \n",
    "import plotly.io as pio\n",
    "# pio.renderers.default = \"png\"\n",
    "# Import stuff\n",
    "import torch\n",
    "import torch.nn as nn\n",
    "import torch.nn.functional as F\n",
    "import torch.optim as optim\n",
    "import numpy as np\n",
    "import einops\n",
    "from fancy_einsum import einsum\n",
    "import tqdm.notebook as tqdm\n",
    "import random\n",
    "from pathlib import Path\n",
    "import plotly.express as px\n",
    "from torch.utils.data import DataLoader\n",
    "\n",
    "from jaxtyping import Float, Int\n",
    "from typing import List, Union, Optional\n",
    "from functools import partial\n",
    "import copy\n",
    "\n",
    "import itertools\n",
    "from transformers import AutoModelForCausalLM, AutoConfig, AutoTokenizer\n",
    "import dataclasses\n",
    "import datasets\n",
    "from IPython.display import HTML\n",
    "\n",
    "from tqdm import tqdm\n",
    "from utils.probing_utils import ModelActs\n",
    "from utils.dataset_utils import CounterFact_Dataset, TQA_MC_Dataset, EZ_Dataset\n",
    "\n",
    "import transformer_lens\n",
    "import transformer_lens.utils as utils\n",
    "from transformer_lens.hook_points import (\n",
    "    HookedRootModule,\n",
    "    HookPoint,\n",
    ")  # Hooking utilities\n",
    "from transformer_lens import HookedTransformer, HookedTransformerConfig, FactoredMatrix, ActivationCache\n",
    "\n",
    "from utils.iti_utils import patch_iti\n",
    "\n",
    "from utils.analytics_utils import plot_probe_accuracies, plot_norm_diffs, plot_cosine_sims"
   ]
  },
  {
   "cell_type": "code",
   "execution_count": 2,
   "metadata": {},
   "outputs": [
    {
     "data": {
      "application/vnd.jupyter.widget-view+json": {
       "model_id": "627128c8f74443129fed585630cdbb1f",
       "version_major": 2,
       "version_minor": 0
      },
      "text/plain": [
       "Loading checkpoint shards:   0%|          | 0/2 [00:00<?, ?it/s]"
      ]
     },
     "metadata": {},
     "output_type": "display_data"
    },
    {
     "name": "stderr",
     "output_type": "stream",
     "text": [
      "The tokenizer class you load from this checkpoint is not the same type as the class this function is called from. It may result in unexpected tokenization. \n",
      "The tokenizer class you load from this checkpoint is 'LLaMATokenizer'. \n",
      "The class this function is called from is 'LlamaTokenizer'.\n"
     ]
    },
    {
     "name": "stdout",
     "output_type": "stream",
     "text": [
      "Warning: LLaMA tokenizer not loaded. Please load manually.\n",
      "Loaded pretrained model llama-7b-hf into HookedTransformer\n",
      "Moving model to device:  cuda\n"
     ]
    },
    {
     "data": {
      "text/plain": [
       "1"
      ]
     },
     "execution_count": 2,
     "metadata": {},
     "output_type": "execute_result"
    }
   ],
   "source": [
    "from utils.model_utils import vicuna_7b, vicuna_13b\n",
    "model = vicuna_7b(device=\"cuda\")\n",
    "model.tokenizer.add_special_tokens({'pad_token': '[PAD]'})"
   ]
  },
  {
   "cell_type": "code",
   "execution_count": 3,
   "metadata": {},
   "outputs": [
    {
     "name": "stderr",
     "output_type": "stream",
     "text": [
      "Found cached dataset parquet (/home/ubuntu/.cache/huggingface/datasets/notrichardren___parquet/notrichardren--elem_tf-64ec49cd4cd5be64/0.0.0/14a00e99c0d15a23649d0db8944380ac81082d4b021f398733dd84f3a6c569a7)\n"
     ]
    },
    {
     "data": {
      "application/vnd.jupyter.widget-view+json": {
       "model_id": "b9234f5645f644c898cbe91f752ba686",
       "version_major": 2,
       "version_minor": 0
      },
      "text/plain": [
       "  0%|          | 0/1 [00:00<?, ?it/s]"
      ]
     },
     "metadata": {},
     "output_type": "display_data"
    },
    {
     "name": "stderr",
     "output_type": "stream",
     "text": [
      "Found cached dataset parquet (/home/ubuntu/.cache/huggingface/datasets/notrichardren___parquet/notrichardren--ms_tf-728c6138d8f6c1c5/0.0.0/14a00e99c0d15a23649d0db8944380ac81082d4b021f398733dd84f3a6c569a7)\n"
     ]
    },
    {
     "data": {
      "application/vnd.jupyter.widget-view+json": {
       "model_id": "8ba1da8317db42b4aa99d16eea2cf375",
       "version_major": 2,
       "version_minor": 0
      },
      "text/plain": [
       "  0%|          | 0/1 [00:00<?, ?it/s]"
      ]
     },
     "metadata": {},
     "output_type": "display_data"
    },
    {
     "name": "stderr",
     "output_type": "stream",
     "text": [
      "Found cached dataset parquet (/home/ubuntu/.cache/huggingface/datasets/notrichardren___parquet/notrichardren--misconceptions_tf-131f43b181040ffa/0.0.0/14a00e99c0d15a23649d0db8944380ac81082d4b021f398733dd84f3a6c569a7)\n"
     ]
    },
    {
     "data": {
      "application/vnd.jupyter.widget-view+json": {
       "model_id": "3356be4dd9304dbb87e265c7f7eb29ba",
       "version_major": 2,
       "version_minor": 0
      },
      "text/plain": [
       "  0%|          | 0/1 [00:00<?, ?it/s]"
      ]
     },
     "metadata": {},
     "output_type": "display_data"
    },
    {
     "name": "stderr",
     "output_type": "stream",
     "text": [
      "Found cached dataset parquet (/home/ubuntu/.cache/huggingface/datasets/notrichardren___parquet/notrichardren--kindergarten_tf-e3c53e366bc35ec1/0.0.0/14a00e99c0d15a23649d0db8944380ac81082d4b021f398733dd84f3a6c569a7)\n"
     ]
    },
    {
     "data": {
      "application/vnd.jupyter.widget-view+json": {
       "model_id": "a2655cd17d2d4b04b85642d71017fc2a",
       "version_major": 2,
       "version_minor": 0
      },
      "text/plain": [
       "  0%|          | 0/1 [00:00<?, ?it/s]"
      ]
     },
     "metadata": {},
     "output_type": "display_data"
    },
    {
     "name": "stderr",
     "output_type": "stream",
     "text": [
      "Found cached dataset parquet (/home/ubuntu/.cache/huggingface/datasets/notrichardren___parquet/notrichardren--hs_tf-9f911d9357ff2386/0.0.0/14a00e99c0d15a23649d0db8944380ac81082d4b021f398733dd84f3a6c569a7)\n"
     ]
    },
    {
     "data": {
      "application/vnd.jupyter.widget-view+json": {
       "model_id": "ebd998d895f5474c877170b113834514",
       "version_major": 2,
       "version_minor": 0
      },
      "text/plain": [
       "  0%|          | 0/1 [00:00<?, ?it/s]"
      ]
     },
     "metadata": {},
     "output_type": "display_data"
    },
    {
     "name": "stderr",
     "output_type": "stream",
     "text": [
      "Found cached dataset parquet (/home/ubuntu/.cache/huggingface/datasets/notrichardren___parquet/notrichardren--truthfulness-4380c84abeab6c8f/0.0.0/14a00e99c0d15a23649d0db8944380ac81082d4b021f398733dd84f3a6c569a7)\n"
     ]
    },
    {
     "data": {
      "application/vnd.jupyter.widget-view+json": {
       "model_id": "29d40c5c788c4878b9de586fd504f761",
       "version_major": 2,
       "version_minor": 0
      },
      "text/plain": [
       "  0%|          | 0/1 [00:00<?, ?it/s]"
      ]
     },
     "metadata": {},
     "output_type": "display_data"
    },
    {
     "name": "stderr",
     "output_type": "stream",
     "text": [
      "Found cached dataset parquet (/home/ubuntu/.cache/huggingface/datasets/notrichardren___parquet/notrichardren--truthfulness-4380c84abeab6c8f/0.0.0/14a00e99c0d15a23649d0db8944380ac81082d4b021f398733dd84f3a6c569a7)\n"
     ]
    },
    {
     "data": {
      "application/vnd.jupyter.widget-view+json": {
       "model_id": "2976a2525d454a5da07f1bf4be0cecc8",
       "version_major": 2,
       "version_minor": 0
      },
      "text/plain": [
       "  0%|          | 0/1 [00:00<?, ?it/s]"
      ]
     },
     "metadata": {},
     "output_type": "display_data"
    },
    {
     "name": "stderr",
     "output_type": "stream",
     "text": [
      "Found cached dataset parquet (/home/ubuntu/.cache/huggingface/datasets/notrichardren___parquet/notrichardren--truthfulness-4380c84abeab6c8f/0.0.0/14a00e99c0d15a23649d0db8944380ac81082d4b021f398733dd84f3a6c569a7)\n"
     ]
    },
    {
     "data": {
      "application/vnd.jupyter.widget-view+json": {
       "model_id": "7d72f64ce8064df2b515551bf8e966b4",
       "version_major": 2,
       "version_minor": 0
      },
      "text/plain": [
       "  0%|          | 0/1 [00:00<?, ?it/s]"
      ]
     },
     "metadata": {},
     "output_type": "display_data"
    },
    {
     "name": "stderr",
     "output_type": "stream",
     "text": [
      "Found cached dataset parquet (/home/ubuntu/.cache/huggingface/datasets/notrichardren___parquet/notrichardren--truthfulness-4380c84abeab6c8f/0.0.0/14a00e99c0d15a23649d0db8944380ac81082d4b021f398733dd84f3a6c569a7)\n"
     ]
    },
    {
     "data": {
      "application/vnd.jupyter.widget-view+json": {
       "model_id": "9bbbb7c967cc48afa22210ddebb46ea1",
       "version_major": 2,
       "version_minor": 0
      },
      "text/plain": [
       "  0%|          | 0/1 [00:00<?, ?it/s]"
      ]
     },
     "metadata": {},
     "output_type": "display_data"
    },
    {
     "name": "stderr",
     "output_type": "stream",
     "text": [
      "Found cached dataset parquet (/home/ubuntu/.cache/huggingface/datasets/notrichardren___parquet/notrichardren--truthfulness-4380c84abeab6c8f/0.0.0/14a00e99c0d15a23649d0db8944380ac81082d4b021f398733dd84f3a6c569a7)\n"
     ]
    },
    {
     "data": {
      "application/vnd.jupyter.widget-view+json": {
       "model_id": "dabf4a338d474dbb9eeaed71ee5b4a73",
       "version_major": 2,
       "version_minor": 0
      },
      "text/plain": [
       "  0%|          | 0/1 [00:00<?, ?it/s]"
      ]
     },
     "metadata": {},
     "output_type": "display_data"
    },
    {
     "name": "stderr",
     "output_type": "stream",
     "text": [
      "Found cached dataset parquet (/home/ubuntu/.cache/huggingface/datasets/notrichardren___parquet/notrichardren--truthfulness-4380c84abeab6c8f/0.0.0/14a00e99c0d15a23649d0db8944380ac81082d4b021f398733dd84f3a6c569a7)\n"
     ]
    },
    {
     "data": {
      "application/vnd.jupyter.widget-view+json": {
       "model_id": "bcb1fbdefc944393ba965e8317763e60",
       "version_major": 2,
       "version_minor": 0
      },
      "text/plain": [
       "  0%|          | 0/1 [00:00<?, ?it/s]"
      ]
     },
     "metadata": {},
     "output_type": "display_data"
    }
   ],
   "source": [
    "from utils.dataset_utils import MS_Dataset, Elem_Dataset, MisCons_Dataset, Kinder_Dataset, HS_Dataset, BoolQ_Question_Dataset, TruthfulQA_Tfn, CounterFact_Tfn, Fever_Tfn, BoolQ_Tfn, Creak_Tfn, CommonClaim_Tfn\n",
    "random_seed = 5\n",
    "\n",
    "datanames = [\"MS\", \"Elem\", \"MisCons\", \"Kinder\", \"HS\", \"TruthfulQA\", \"CounterFact\", \"Fever\", \"Creak\", \"BoolQ\", \"CommonClaim\"]\n",
    "\n",
    "ms_data = MS_Dataset(model.tokenizer, questions=True)\n",
    "elem_data = Elem_Dataset(model.tokenizer, questions=True)\n",
    "miscons_data = MisCons_Dataset(model.tokenizer, questions=True)\n",
    "kinder_data = Kinder_Dataset(model.tokenizer, questions=True)\n",
    "hs_data = HS_Dataset(model.tokenizer, questions=True)\n",
    "# boolq_data = BoolQ_Question_Dataset(model.tokenizer)\n",
    "\n",
    "tqa_data = TruthfulQA_Tfn(model.tokenizer, questions=True)\n",
    "cfact_data = CounterFact_Tfn(model.tokenizer, questions=True)\n",
    "fever_data = Fever_Tfn(model.tokenizer, questions=True)\n",
    "boolq_data = BoolQ_Tfn(model.tokenizer, questions=True)\n",
    "creak_data = Creak_Tfn(model.tokenizer, questions=True)\n",
    "commonclaim_data = CommonClaim_Tfn(model.tokenizer, questions=True)\n",
    "\n",
    "datasets = {\"MS\": ms_data, \"Elem\": elem_data, \"MisCons\": miscons_data, \"Kinder\": kinder_data, \"HS\": hs_data, \"TruthfulQA\": tqa_data, \"CounterFact\": cfact_data, \"Fever\": fever_data, \"Creak\": creak_data, \"BoolQ\": boolq_data, \"CommonClaim\": commonclaim_data}\n",
    "\n",
    "datanames = datanames[:3]"
   ]
  },
  {
   "cell_type": "code",
   "execution_count": 9,
   "metadata": {},
   "outputs": [
    {
     "name": "stdout",
     "output_type": "stream",
     "text": [
      "torch.Size([800, 1024, 128]), torch.Size([200, 1024, 128]), torch.Size([800, 1024]), torch.Size([200, 1024])\n"
     ]
    },
    {
     "name": "stderr",
     "output_type": "stream",
     "text": [
      "100%|██████████| 1024/1024 [00:07<00:00, 132.11it/s]\n"
     ]
    },
    {
     "name": "stdout",
     "output_type": "stream",
     "text": [
      "torch.Size([800, 1024, 128]), torch.Size([200, 1024, 128]), torch.Size([800, 1024]), torch.Size([200, 1024])\n"
     ]
    },
    {
     "name": "stderr",
     "output_type": "stream",
     "text": [
      "100%|██████████| 1024/1024 [00:06<00:00, 159.95it/s]\n"
     ]
    },
    {
     "name": "stdout",
     "output_type": "stream",
     "text": [
      "torch.Size([800, 1024, 128]), torch.Size([200, 1024, 128]), torch.Size([800, 1024]), torch.Size([200, 1024])\n"
     ]
    },
    {
     "name": "stderr",
     "output_type": "stream",
     "text": [
      "100%|██████████| 1024/1024 [00:06<00:00, 165.39it/s]\n"
     ]
    }
   ],
   "source": [
    "n_acts = 1000\n",
    "acts = {}\n",
    "\n",
    "for name in datanames:\n",
    "    # acts[name] = ModelActs(model, datasets[name], act_types=[\"z\", \"mlp_out\", \"resid_post\", \"resid_pre\", \"logits\"])\n",
    "    acts[name] = ModelActs(model, datasets[name], act_types=[\"z\", \"logits\"])\n",
    "    model_acts: ModelActs = acts[name]\n",
    "    # model_acts.gen_acts(N=n_acts, id=f\"{name}_gpt2xl_{n_acts}\")\n",
    "    model_acts.load_acts(id=f\"{name}_vicuna7b_{n_acts}\", load_probes=False)\n",
    "    model_acts.train_probes(\"z\", max_iter=1000)"
   ]
  },
  {
   "cell_type": "code",
   "execution_count": 6,
   "metadata": {},
   "outputs": [
    {
     "name": "stderr",
     "output_type": "stream",
     "text": [
      "100%|██████████| 200/200 [00:17<00:00, 11.11it/s]\n"
     ]
    }
   ],
   "source": [
    "from utils.interp_utils import logit_attrs\n",
    "attrs = logit_attrs(model, datasets['MS'], act_types=[\"result\"], N=200)\n",
    "result_attrs = torch.stack(attrs[1]['result']).to('cpu')"
   ]
  },
  {
   "cell_type": "code",
   "execution_count": 22,
   "metadata": {},
   "outputs": [
    {
     "name": "stderr",
     "output_type": "stream",
     "text": [
      "  0%|          | 0/32 [00:00<?, ?it/s]"
     ]
    },
    {
     "name": "stdout",
     "output_type": "stream",
     "text": [
      "generating acts\n"
     ]
    },
    {
     "name": "stderr",
     "output_type": "stream",
     "text": [
      "100%|██████████| 1000/1000 [01:02<00:00, 16.12it/s]\n",
      "  3%|▎         | 1/32 [01:03<32:45, 63.42s/it]"
     ]
    },
    {
     "name": "stdout",
     "output_type": "stream",
     "text": [
      "Stored at patched_MS_vicuna7b_1000\n",
      "proportion of positive labels is 0.49\n",
      "generating acts\n"
     ]
    },
    {
     "name": "stderr",
     "output_type": "stream",
     "text": [
      "100%|██████████| 1000/1000 [01:01<00:00, 16.17it/s]\n",
      "  6%|▋         | 2/32 [02:06<31:36, 63.21s/it]"
     ]
    },
    {
     "name": "stdout",
     "output_type": "stream",
     "text": [
      "Stored at patched_MS_vicuna7b_1000\n",
      "proportion of positive labels is 0.49\n",
      "generating acts\n"
     ]
    },
    {
     "name": "stderr",
     "output_type": "stream",
     "text": [
      "100%|██████████| 1000/1000 [01:02<00:00, 16.12it/s]\n",
      "  9%|▉         | 3/32 [03:09<30:35, 63.29s/it]"
     ]
    },
    {
     "name": "stdout",
     "output_type": "stream",
     "text": [
      "Stored at patched_MS_vicuna7b_1000\n",
      "proportion of positive labels is 0.49\n",
      "generating acts\n"
     ]
    },
    {
     "name": "stderr",
     "output_type": "stream",
     "text": [
      "100%|██████████| 1000/1000 [01:01<00:00, 16.22it/s]\n",
      " 12%|█▎        | 4/32 [04:12<29:27, 63.11s/it]"
     ]
    },
    {
     "name": "stdout",
     "output_type": "stream",
     "text": [
      "Stored at patched_MS_vicuna7b_1000\n",
      "proportion of positive labels is 0.49\n",
      "generating acts\n"
     ]
    },
    {
     "name": "stderr",
     "output_type": "stream",
     "text": [
      "100%|██████████| 1000/1000 [01:01<00:00, 16.21it/s]\n",
      " 16%|█▌        | 5/32 [05:15<28:23, 63.08s/it]"
     ]
    },
    {
     "name": "stdout",
     "output_type": "stream",
     "text": [
      "Stored at patched_MS_vicuna7b_1000\n",
      "proportion of positive labels is 0.49\n",
      "generating acts\n"
     ]
    },
    {
     "name": "stderr",
     "output_type": "stream",
     "text": [
      "100%|██████████| 1000/1000 [01:01<00:00, 16.18it/s]\n",
      " 19%|█▉        | 6/32 [06:18<27:21, 63.12s/it]"
     ]
    },
    {
     "name": "stdout",
     "output_type": "stream",
     "text": [
      "Stored at patched_MS_vicuna7b_1000\n",
      "proportion of positive labels is 0.49\n",
      "generating acts\n"
     ]
    },
    {
     "name": "stderr",
     "output_type": "stream",
     "text": [
      "100%|██████████| 1000/1000 [01:02<00:00, 16.12it/s]\n",
      " 22%|██▏       | 7/32 [07:22<26:19, 63.16s/it]"
     ]
    },
    {
     "name": "stdout",
     "output_type": "stream",
     "text": [
      "Stored at patched_MS_vicuna7b_1000\n",
      "proportion of positive labels is 0.49\n",
      "generating acts\n"
     ]
    },
    {
     "name": "stderr",
     "output_type": "stream",
     "text": [
      "100%|██████████| 1000/1000 [01:01<00:00, 16.15it/s]\n",
      " 25%|██▌       | 8/32 [08:25<25:15, 63.15s/it]"
     ]
    },
    {
     "name": "stdout",
     "output_type": "stream",
     "text": [
      "Stored at patched_MS_vicuna7b_1000\n",
      "proportion of positive labels is 0.49\n",
      "generating acts\n"
     ]
    },
    {
     "name": "stderr",
     "output_type": "stream",
     "text": [
      "100%|██████████| 1000/1000 [01:01<00:00, 16.22it/s]\n",
      " 28%|██▊       | 9/32 [09:28<24:10, 63.09s/it]"
     ]
    },
    {
     "name": "stdout",
     "output_type": "stream",
     "text": [
      "Stored at patched_MS_vicuna7b_1000\n",
      "proportion of positive labels is 0.49\n",
      "generating acts\n"
     ]
    },
    {
     "name": "stderr",
     "output_type": "stream",
     "text": [
      "100%|██████████| 1000/1000 [01:01<00:00, 16.18it/s]\n",
      " 31%|███▏      | 10/32 [10:31<23:09, 63.14s/it]"
     ]
    },
    {
     "name": "stdout",
     "output_type": "stream",
     "text": [
      "Stored at patched_MS_vicuna7b_1000\n",
      "proportion of positive labels is 0.49\n",
      "generating acts\n"
     ]
    },
    {
     "name": "stderr",
     "output_type": "stream",
     "text": [
      "100%|██████████| 1000/1000 [01:01<00:00, 16.17it/s]\n",
      " 34%|███▍      | 11/32 [11:34<22:05, 63.12s/it]"
     ]
    },
    {
     "name": "stdout",
     "output_type": "stream",
     "text": [
      "Stored at patched_MS_vicuna7b_1000\n",
      "proportion of positive labels is 0.49\n",
      "generating acts\n"
     ]
    },
    {
     "name": "stderr",
     "output_type": "stream",
     "text": [
      "100%|██████████| 1000/1000 [01:02<00:00, 16.09it/s]\n",
      " 38%|███▊      | 12/32 [12:38<21:04, 63.24s/it]"
     ]
    },
    {
     "name": "stdout",
     "output_type": "stream",
     "text": [
      "Stored at patched_MS_vicuna7b_1000\n",
      "proportion of positive labels is 0.49\n",
      "generating acts\n"
     ]
    },
    {
     "name": "stderr",
     "output_type": "stream",
     "text": [
      "100%|██████████| 1000/1000 [01:02<00:00, 16.02it/s]\n",
      " 41%|████      | 13/32 [13:41<20:03, 63.36s/it]"
     ]
    },
    {
     "name": "stdout",
     "output_type": "stream",
     "text": [
      "Stored at patched_MS_vicuna7b_1000\n",
      "proportion of positive labels is 0.49\n",
      "generating acts\n"
     ]
    },
    {
     "name": "stderr",
     "output_type": "stream",
     "text": [
      "100%|██████████| 1000/1000 [01:01<00:00, 16.14it/s]\n",
      " 44%|████▍     | 14/32 [14:44<18:59, 63.28s/it]"
     ]
    },
    {
     "name": "stdout",
     "output_type": "stream",
     "text": [
      "Stored at patched_MS_vicuna7b_1000\n",
      "proportion of positive labels is 0.49\n",
      "generating acts\n"
     ]
    },
    {
     "name": "stderr",
     "output_type": "stream",
     "text": [
      "100%|██████████| 1000/1000 [01:02<00:00, 16.07it/s]\n",
      " 47%|████▋     | 15/32 [15:48<17:58, 63.41s/it]"
     ]
    },
    {
     "name": "stdout",
     "output_type": "stream",
     "text": [
      "Stored at patched_MS_vicuna7b_1000\n",
      "proportion of positive labels is 0.49\n",
      "generating acts\n"
     ]
    },
    {
     "name": "stderr",
     "output_type": "stream",
     "text": [
      "100%|██████████| 1000/1000 [01:02<00:00, 15.97it/s]\n",
      " 50%|█████     | 16/32 [16:52<16:56, 63.56s/it]"
     ]
    },
    {
     "name": "stdout",
     "output_type": "stream",
     "text": [
      "Stored at patched_MS_vicuna7b_1000\n",
      "proportion of positive labels is 0.49\n",
      "generating acts\n"
     ]
    },
    {
     "name": "stderr",
     "output_type": "stream",
     "text": [
      "100%|██████████| 1000/1000 [01:03<00:00, 15.87it/s]\n",
      " 53%|█████▎    | 17/32 [17:56<15:56, 63.77s/it]"
     ]
    },
    {
     "name": "stdout",
     "output_type": "stream",
     "text": [
      "Stored at patched_MS_vicuna7b_1000\n",
      "proportion of positive labels is 0.49\n",
      "generating acts\n"
     ]
    },
    {
     "name": "stderr",
     "output_type": "stream",
     "text": [
      "100%|██████████| 1000/1000 [01:03<00:00, 15.86it/s]\n",
      " 56%|█████▋    | 18/32 [19:00<14:54, 63.87s/it]"
     ]
    },
    {
     "name": "stdout",
     "output_type": "stream",
     "text": [
      "Stored at patched_MS_vicuna7b_1000\n",
      "proportion of positive labels is 0.49\n",
      "generating acts\n"
     ]
    },
    {
     "name": "stderr",
     "output_type": "stream",
     "text": [
      "100%|██████████| 1000/1000 [01:02<00:00, 15.97it/s]\n",
      " 59%|█████▉    | 19/32 [20:04<13:50, 63.88s/it]"
     ]
    },
    {
     "name": "stdout",
     "output_type": "stream",
     "text": [
      "Stored at patched_MS_vicuna7b_1000\n",
      "proportion of positive labels is 0.49\n",
      "generating acts\n"
     ]
    },
    {
     "name": "stderr",
     "output_type": "stream",
     "text": [
      "100%|██████████| 1000/1000 [01:02<00:00, 15.92it/s]\n",
      " 62%|██████▎   | 20/32 [21:08<12:47, 63.93s/it]"
     ]
    },
    {
     "name": "stdout",
     "output_type": "stream",
     "text": [
      "Stored at patched_MS_vicuna7b_1000\n",
      "proportion of positive labels is 0.49\n",
      "generating acts\n"
     ]
    },
    {
     "name": "stderr",
     "output_type": "stream",
     "text": [
      "100%|██████████| 1000/1000 [01:02<00:00, 16.02it/s]\n",
      " 66%|██████▌   | 21/32 [22:12<11:41, 63.77s/it]"
     ]
    },
    {
     "name": "stdout",
     "output_type": "stream",
     "text": [
      "Stored at patched_MS_vicuna7b_1000\n",
      "proportion of positive labels is 0.49\n",
      "generating acts\n"
     ]
    },
    {
     "name": "stderr",
     "output_type": "stream",
     "text": [
      "100%|██████████| 1000/1000 [01:03<00:00, 15.86it/s]\n",
      " 69%|██████▉   | 22/32 [23:16<10:39, 64.00s/it]"
     ]
    },
    {
     "name": "stdout",
     "output_type": "stream",
     "text": [
      "Stored at patched_MS_vicuna7b_1000\n",
      "proportion of positive labels is 0.49\n",
      "generating acts\n"
     ]
    },
    {
     "name": "stderr",
     "output_type": "stream",
     "text": [
      "100%|██████████| 1000/1000 [01:02<00:00, 15.95it/s]\n",
      " 72%|███████▏  | 23/32 [24:20<09:35, 63.94s/it]"
     ]
    },
    {
     "name": "stdout",
     "output_type": "stream",
     "text": [
      "Stored at patched_MS_vicuna7b_1000\n",
      "proportion of positive labels is 0.49\n",
      "generating acts\n"
     ]
    },
    {
     "name": "stderr",
     "output_type": "stream",
     "text": [
      "100%|██████████| 1000/1000 [01:02<00:00, 15.92it/s]\n",
      " 75%|███████▌  | 24/32 [25:24<08:32, 64.06s/it]"
     ]
    },
    {
     "name": "stdout",
     "output_type": "stream",
     "text": [
      "Stored at patched_MS_vicuna7b_1000\n",
      "proportion of positive labels is 0.49\n",
      "generating acts\n"
     ]
    },
    {
     "name": "stderr",
     "output_type": "stream",
     "text": [
      "100%|██████████| 1000/1000 [01:02<00:00, 15.88it/s]\n",
      " 78%|███████▊  | 25/32 [26:28<07:28, 64.05s/it]"
     ]
    },
    {
     "name": "stdout",
     "output_type": "stream",
     "text": [
      "Stored at patched_MS_vicuna7b_1000\n",
      "proportion of positive labels is 0.49\n",
      "generating acts\n"
     ]
    },
    {
     "name": "stderr",
     "output_type": "stream",
     "text": [
      "100%|██████████| 1000/1000 [01:02<00:00, 15.99it/s]\n",
      " 81%|████████▏ | 26/32 [27:32<06:24, 64.05s/it]"
     ]
    },
    {
     "name": "stdout",
     "output_type": "stream",
     "text": [
      "Stored at patched_MS_vicuna7b_1000\n",
      "proportion of positive labels is 0.49\n",
      "generating acts\n"
     ]
    },
    {
     "name": "stderr",
     "output_type": "stream",
     "text": [
      "100%|██████████| 1000/1000 [01:02<00:00, 15.93it/s]\n",
      " 84%|████████▍ | 27/32 [28:37<05:20, 64.09s/it]"
     ]
    },
    {
     "name": "stdout",
     "output_type": "stream",
     "text": [
      "Stored at patched_MS_vicuna7b_1000\n",
      "proportion of positive labels is 0.49\n",
      "generating acts\n"
     ]
    },
    {
     "name": "stderr",
     "output_type": "stream",
     "text": [
      "100%|██████████| 1000/1000 [01:02<00:00, 15.97it/s]\n",
      " 88%|████████▊ | 28/32 [29:41<04:16, 64.08s/it]"
     ]
    },
    {
     "name": "stdout",
     "output_type": "stream",
     "text": [
      "Stored at patched_MS_vicuna7b_1000\n",
      "proportion of positive labels is 0.49\n",
      "generating acts\n"
     ]
    },
    {
     "name": "stderr",
     "output_type": "stream",
     "text": [
      "100%|██████████| 1000/1000 [01:02<00:00, 15.93it/s]\n",
      " 91%|█████████ | 29/32 [30:45<03:12, 64.06s/it]"
     ]
    },
    {
     "name": "stdout",
     "output_type": "stream",
     "text": [
      "Stored at patched_MS_vicuna7b_1000\n",
      "proportion of positive labels is 0.49\n",
      "generating acts\n"
     ]
    },
    {
     "name": "stderr",
     "output_type": "stream",
     "text": [
      "100%|██████████| 1000/1000 [01:02<00:00, 15.92it/s]\n",
      " 94%|█████████▍| 30/32 [31:48<02:07, 63.98s/it]"
     ]
    },
    {
     "name": "stdout",
     "output_type": "stream",
     "text": [
      "Stored at patched_MS_vicuna7b_1000\n",
      "proportion of positive labels is 0.49\n",
      "generating acts\n"
     ]
    },
    {
     "name": "stderr",
     "output_type": "stream",
     "text": [
      "100%|██████████| 1000/1000 [01:02<00:00, 15.98it/s]\n",
      " 97%|█████████▋| 31/32 [32:52<01:03, 63.96s/it]"
     ]
    },
    {
     "name": "stdout",
     "output_type": "stream",
     "text": [
      "Stored at patched_MS_vicuna7b_1000\n",
      "proportion of positive labels is 0.49\n",
      "generating acts\n"
     ]
    },
    {
     "name": "stderr",
     "output_type": "stream",
     "text": [
      "100%|██████████| 1000/1000 [01:02<00:00, 15.94it/s]\n",
      "100%|██████████| 32/32 [33:56<00:00, 63.65s/it]"
     ]
    },
    {
     "name": "stdout",
     "output_type": "stream",
     "text": [
      "Stored at patched_MS_vicuna7b_1000\n",
      "proportion of positive labels is 0.49\n"
     ]
    },
    {
     "name": "stderr",
     "output_type": "stream",
     "text": [
      "\n"
     ]
    }
   ],
   "source": [
    "# Plot Truth Score and Info Score when varying topk\n",
    "from utils.gpt_judge import get_model_generations, get_judge_scores\n",
    "from utils.iti_utils import patch_heads\n",
    "from utils.interp_utils import get_head_bools, tot_logit_diff\n",
    "\n",
    "seed = 0\n",
    "\n",
    "alpha = 1\n",
    "k_range = range(0, 32, 1)\n",
    "\n",
    "logit_patch_accs = []\n",
    "regular_patch_accs = []\n",
    "# logit_patch_truths = []\n",
    "# logit_patch_infos = []\n",
    "# regular_patch_truths = []\n",
    "# regular_patch_infos = []\n",
    "# num_gens=200\n",
    "\n",
    "# first, patching top logit heads:\n",
    "\n",
    "dataname = \"MS\"\n",
    "for k in tqdm(k_range):\n",
    "    top_logit_heads = torch.topk(result_attrs.mean(dim=0), k=k).indices\n",
    "\n",
    "    logit_bools = get_head_bools(model, top_logit_heads, flattened=True)\n",
    "    model.reset_hooks()\n",
    "    patch_heads(model, acts[dataname], logit_bools, alpha=alpha, use_MMD=True, model_device='cuda')\n",
    "\n",
    "    patched_acts = ModelActs(model, datasets[dataname], act_types=[\"z\",\"logits\"])\n",
    "    # print(\"generating acts\")\n",
    "    patched_acts.gen_acts(N=1000, id=f\"patched_{dataname}_vicuna7b_1000\", indices=acts[dataname].indices)\n",
    "\n",
    "    patched_acts.indices_trains=acts[dataname].indices_trains\n",
    "    patched_acts.indices_tests=acts[dataname].indices_tests\n",
    "\n",
    "    positive_sum, negative_sum = tot_logit_diff(model.tokenizer, patched_acts, use_probs=True, check_balanced_output=False)\n",
    "\n",
    "    logit_patch_accs.append(positive_sum.mean() - negative_sum.mean())"
   ]
  },
  {
   "cell_type": "code",
   "execution_count": 23,
   "metadata": {},
   "outputs": [
    {
     "data": {
      "text/plain": [
       "[tensor(0.4950),\n",
       " tensor(0.4959),\n",
       " tensor(0.4956),\n",
       " tensor(0.4933),\n",
       " tensor(0.4793),\n",
       " tensor(0.4770),\n",
       " tensor(0.4750),\n",
       " tensor(0.4715),\n",
       " tensor(0.4703),\n",
       " tensor(0.4677),\n",
       " tensor(0.4663),\n",
       " tensor(0.4672),\n",
       " tensor(0.4631),\n",
       " tensor(0.4350),\n",
       " tensor(0.4312),\n",
       " tensor(0.4300),\n",
       " tensor(0.4284),\n",
       " tensor(0.4255),\n",
       " tensor(0.4247),\n",
       " tensor(0.4141),\n",
       " tensor(0.3787),\n",
       " tensor(0.3787),\n",
       " tensor(0.3766),\n",
       " tensor(0.3585),\n",
       " tensor(0.3566),\n",
       " tensor(0.3450),\n",
       " tensor(0.3246),\n",
       " tensor(0.3200),\n",
       " tensor(0.3201),\n",
       " tensor(0.3178),\n",
       " tensor(0.3174),\n",
       " tensor(0.3055)]"
      ]
     },
     "execution_count": 23,
     "metadata": {},
     "output_type": "execute_result"
    }
   ],
   "source": [
    "logit_patch_accs"
   ]
  },
  {
   "cell_type": "code",
   "execution_count": 24,
   "metadata": {},
   "outputs": [
    {
     "name": "stderr",
     "output_type": "stream",
     "text": [
      "  0%|          | 0/32 [00:00<?, ?it/s]"
     ]
    },
    {
     "name": "stdout",
     "output_type": "stream",
     "text": [
      "generating acts\n"
     ]
    },
    {
     "name": "stderr",
     "output_type": "stream",
     "text": [
      "100%|██████████| 1000/1000 [01:01<00:00, 16.23it/s]\n",
      "  3%|▎         | 1/32 [01:02<32:31, 62.95s/it]"
     ]
    },
    {
     "name": "stdout",
     "output_type": "stream",
     "text": [
      "Stored at patched_MS_vicuna7b_1000\n",
      "proportion of positive labels is 0.49\n",
      "generating acts\n"
     ]
    },
    {
     "name": "stderr",
     "output_type": "stream",
     "text": [
      "100%|██████████| 1000/1000 [01:01<00:00, 16.19it/s]\n",
      "  6%|▋         | 2/32 [02:05<31:23, 62.78s/it]"
     ]
    },
    {
     "name": "stdout",
     "output_type": "stream",
     "text": [
      "Stored at patched_MS_vicuna7b_1000\n",
      "proportion of positive labels is 0.49\n",
      "generating acts\n"
     ]
    },
    {
     "name": "stderr",
     "output_type": "stream",
     "text": [
      "100%|██████████| 1000/1000 [01:01<00:00, 16.17it/s]\n",
      "  9%|▉         | 3/32 [03:08<30:23, 62.90s/it]"
     ]
    },
    {
     "name": "stdout",
     "output_type": "stream",
     "text": [
      "Stored at patched_MS_vicuna7b_1000\n",
      "proportion of positive labels is 0.49\n",
      "generating acts\n"
     ]
    },
    {
     "name": "stderr",
     "output_type": "stream",
     "text": [
      "100%|██████████| 1000/1000 [01:01<00:00, 16.15it/s]\n",
      " 12%|█▎        | 4/32 [04:11<29:25, 63.04s/it]"
     ]
    },
    {
     "name": "stdout",
     "output_type": "stream",
     "text": [
      "Stored at patched_MS_vicuna7b_1000\n",
      "proportion of positive labels is 0.49\n",
      "generating acts\n"
     ]
    },
    {
     "name": "stderr",
     "output_type": "stream",
     "text": [
      "100%|██████████| 1000/1000 [01:01<00:00, 16.13it/s]\n",
      " 16%|█▌        | 5/32 [05:15<28:26, 63.20s/it]"
     ]
    },
    {
     "name": "stdout",
     "output_type": "stream",
     "text": [
      "Stored at patched_MS_vicuna7b_1000\n",
      "proportion of positive labels is 0.49\n",
      "generating acts\n"
     ]
    },
    {
     "name": "stderr",
     "output_type": "stream",
     "text": [
      "100%|██████████| 1000/1000 [01:01<00:00, 16.15it/s]\n",
      " 19%|█▉        | 6/32 [06:18<27:21, 63.15s/it]"
     ]
    },
    {
     "name": "stdout",
     "output_type": "stream",
     "text": [
      "Stored at patched_MS_vicuna7b_1000\n",
      "proportion of positive labels is 0.49\n",
      "generating acts\n"
     ]
    },
    {
     "name": "stderr",
     "output_type": "stream",
     "text": [
      "100%|██████████| 1000/1000 [01:02<00:00, 16.13it/s]\n",
      " 22%|██▏       | 7/32 [07:21<26:18, 63.12s/it]"
     ]
    },
    {
     "name": "stdout",
     "output_type": "stream",
     "text": [
      "Stored at patched_MS_vicuna7b_1000\n",
      "proportion of positive labels is 0.49\n",
      "generating acts\n"
     ]
    },
    {
     "name": "stderr",
     "output_type": "stream",
     "text": [
      "100%|██████████| 1000/1000 [01:02<00:00, 16.10it/s]\n",
      " 25%|██▌       | 8/32 [08:25<25:18, 63.25s/it]"
     ]
    },
    {
     "name": "stdout",
     "output_type": "stream",
     "text": [
      "Stored at patched_MS_vicuna7b_1000\n",
      "proportion of positive labels is 0.49\n",
      "generating acts\n"
     ]
    },
    {
     "name": "stderr",
     "output_type": "stream",
     "text": [
      "100%|██████████| 1000/1000 [01:02<00:00, 15.99it/s]\n",
      " 28%|██▊       | 9/32 [09:28<24:18, 63.40s/it]"
     ]
    },
    {
     "name": "stdout",
     "output_type": "stream",
     "text": [
      "Stored at patched_MS_vicuna7b_1000\n",
      "proportion of positive labels is 0.49\n",
      "generating acts\n"
     ]
    },
    {
     "name": "stderr",
     "output_type": "stream",
     "text": [
      "100%|██████████| 1000/1000 [01:02<00:00, 15.96it/s]\n",
      " 31%|███▏      | 10/32 [10:32<23:18, 63.58s/it]"
     ]
    },
    {
     "name": "stdout",
     "output_type": "stream",
     "text": [
      "Stored at patched_MS_vicuna7b_1000\n",
      "proportion of positive labels is 0.49\n",
      "generating acts\n"
     ]
    },
    {
     "name": "stderr",
     "output_type": "stream",
     "text": [
      "100%|██████████| 1000/1000 [01:02<00:00, 15.95it/s]\n",
      " 34%|███▍      | 11/32 [11:36<22:18, 63.73s/it]"
     ]
    },
    {
     "name": "stdout",
     "output_type": "stream",
     "text": [
      "Stored at patched_MS_vicuna7b_1000\n",
      "proportion of positive labels is 0.49\n",
      "generating acts\n"
     ]
    },
    {
     "name": "stderr",
     "output_type": "stream",
     "text": [
      "100%|██████████| 1000/1000 [01:02<00:00, 16.01it/s]\n",
      " 38%|███▊      | 12/32 [12:40<21:13, 63.67s/it]"
     ]
    },
    {
     "name": "stdout",
     "output_type": "stream",
     "text": [
      "Stored at patched_MS_vicuna7b_1000\n",
      "proportion of positive labels is 0.49\n",
      "generating acts\n"
     ]
    },
    {
     "name": "stderr",
     "output_type": "stream",
     "text": [
      "100%|██████████| 1000/1000 [01:02<00:00, 16.08it/s]\n",
      " 41%|████      | 13/32 [13:43<20:07, 63.56s/it]"
     ]
    },
    {
     "name": "stdout",
     "output_type": "stream",
     "text": [
      "Stored at patched_MS_vicuna7b_1000\n",
      "proportion of positive labels is 0.49\n",
      "generating acts\n"
     ]
    },
    {
     "name": "stderr",
     "output_type": "stream",
     "text": [
      "100%|██████████| 1000/1000 [01:02<00:00, 15.99it/s]\n",
      " 44%|████▍     | 14/32 [14:47<19:04, 63.58s/it]"
     ]
    },
    {
     "name": "stdout",
     "output_type": "stream",
     "text": [
      "Stored at patched_MS_vicuna7b_1000\n",
      "proportion of positive labels is 0.49\n",
      "generating acts\n"
     ]
    },
    {
     "name": "stderr",
     "output_type": "stream",
     "text": [
      "100%|██████████| 1000/1000 [01:02<00:00, 16.03it/s]\n",
      " 47%|████▋     | 15/32 [15:51<18:01, 63.62s/it]"
     ]
    },
    {
     "name": "stdout",
     "output_type": "stream",
     "text": [
      "Stored at patched_MS_vicuna7b_1000\n",
      "proportion of positive labels is 0.49\n",
      "generating acts\n"
     ]
    },
    {
     "name": "stderr",
     "output_type": "stream",
     "text": [
      "100%|██████████| 1000/1000 [01:02<00:00, 15.99it/s]\n",
      " 50%|█████     | 16/32 [16:54<16:58, 63.65s/it]"
     ]
    },
    {
     "name": "stdout",
     "output_type": "stream",
     "text": [
      "Stored at patched_MS_vicuna7b_1000\n",
      "proportion of positive labels is 0.49\n",
      "generating acts\n"
     ]
    },
    {
     "name": "stderr",
     "output_type": "stream",
     "text": [
      "100%|██████████| 1000/1000 [01:02<00:00, 15.90it/s]\n",
      " 53%|█████▎    | 17/32 [17:58<15:57, 63.80s/it]"
     ]
    },
    {
     "name": "stdout",
     "output_type": "stream",
     "text": [
      "Stored at patched_MS_vicuna7b_1000\n",
      "proportion of positive labels is 0.49\n",
      "generating acts\n"
     ]
    },
    {
     "name": "stderr",
     "output_type": "stream",
     "text": [
      "100%|██████████| 1000/1000 [01:02<00:00, 16.02it/s]\n",
      " 56%|█████▋    | 18/32 [19:02<14:53, 63.79s/it]"
     ]
    },
    {
     "name": "stdout",
     "output_type": "stream",
     "text": [
      "Stored at patched_MS_vicuna7b_1000\n",
      "proportion of positive labels is 0.49\n",
      "generating acts\n"
     ]
    },
    {
     "name": "stderr",
     "output_type": "stream",
     "text": [
      "100%|██████████| 1000/1000 [01:02<00:00, 16.02it/s]\n",
      " 59%|█████▉    | 19/32 [20:06<13:48, 63.76s/it]"
     ]
    },
    {
     "name": "stdout",
     "output_type": "stream",
     "text": [
      "Stored at patched_MS_vicuna7b_1000\n",
      "proportion of positive labels is 0.49\n",
      "generating acts\n"
     ]
    },
    {
     "name": "stderr",
     "output_type": "stream",
     "text": [
      "100%|██████████| 1000/1000 [01:02<00:00, 15.97it/s]\n",
      " 62%|██████▎   | 20/32 [21:10<12:45, 63.81s/it]"
     ]
    },
    {
     "name": "stdout",
     "output_type": "stream",
     "text": [
      "Stored at patched_MS_vicuna7b_1000\n",
      "proportion of positive labels is 0.49\n",
      "generating acts\n"
     ]
    },
    {
     "name": "stderr",
     "output_type": "stream",
     "text": [
      "100%|██████████| 1000/1000 [01:02<00:00, 15.89it/s]\n",
      " 66%|██████▌   | 21/32 [22:14<11:43, 63.92s/it]"
     ]
    },
    {
     "name": "stdout",
     "output_type": "stream",
     "text": [
      "Stored at patched_MS_vicuna7b_1000\n",
      "proportion of positive labels is 0.49\n",
      "generating acts\n"
     ]
    },
    {
     "name": "stderr",
     "output_type": "stream",
     "text": [
      "100%|██████████| 1000/1000 [01:02<00:00, 15.96it/s]\n",
      " 69%|██████▉   | 22/32 [23:18<10:39, 63.95s/it]"
     ]
    },
    {
     "name": "stdout",
     "output_type": "stream",
     "text": [
      "Stored at patched_MS_vicuna7b_1000\n",
      "proportion of positive labels is 0.49\n",
      "generating acts\n"
     ]
    },
    {
     "name": "stderr",
     "output_type": "stream",
     "text": [
      "100%|██████████| 1000/1000 [01:03<00:00, 15.82it/s]\n",
      " 72%|███████▏  | 23/32 [24:23<09:37, 64.13s/it]"
     ]
    },
    {
     "name": "stdout",
     "output_type": "stream",
     "text": [
      "Stored at patched_MS_vicuna7b_1000\n",
      "proportion of positive labels is 0.49\n",
      "generating acts\n"
     ]
    },
    {
     "name": "stderr",
     "output_type": "stream",
     "text": [
      "100%|██████████| 1000/1000 [01:02<00:00, 15.88it/s]\n",
      " 75%|███████▌  | 24/32 [25:27<08:33, 64.18s/it]"
     ]
    },
    {
     "name": "stdout",
     "output_type": "stream",
     "text": [
      "Stored at patched_MS_vicuna7b_1000\n",
      "proportion of positive labels is 0.49\n",
      "generating acts\n"
     ]
    },
    {
     "name": "stderr",
     "output_type": "stream",
     "text": [
      "100%|██████████| 1000/1000 [01:03<00:00, 15.85it/s]\n",
      " 78%|███████▊  | 25/32 [26:31<07:29, 64.24s/it]"
     ]
    },
    {
     "name": "stdout",
     "output_type": "stream",
     "text": [
      "Stored at patched_MS_vicuna7b_1000\n",
      "proportion of positive labels is 0.49\n",
      "generating acts\n"
     ]
    },
    {
     "name": "stderr",
     "output_type": "stream",
     "text": [
      "100%|██████████| 1000/1000 [01:03<00:00, 15.81it/s]\n",
      " 81%|████████▏ | 26/32 [27:36<06:26, 64.35s/it]"
     ]
    },
    {
     "name": "stdout",
     "output_type": "stream",
     "text": [
      "Stored at patched_MS_vicuna7b_1000\n",
      "proportion of positive labels is 0.49\n",
      "generating acts\n"
     ]
    },
    {
     "name": "stderr",
     "output_type": "stream",
     "text": [
      "100%|██████████| 1000/1000 [01:03<00:00, 15.82it/s]\n",
      " 84%|████████▍ | 27/32 [28:40<05:22, 64.45s/it]"
     ]
    },
    {
     "name": "stdout",
     "output_type": "stream",
     "text": [
      "Stored at patched_MS_vicuna7b_1000\n",
      "proportion of positive labels is 0.49\n",
      "generating acts\n"
     ]
    },
    {
     "name": "stderr",
     "output_type": "stream",
     "text": [
      "100%|██████████| 1000/1000 [01:03<00:00, 15.76it/s]\n",
      " 88%|████████▊ | 28/32 [29:45<04:18, 64.56s/it]"
     ]
    },
    {
     "name": "stdout",
     "output_type": "stream",
     "text": [
      "Stored at patched_MS_vicuna7b_1000\n",
      "proportion of positive labels is 0.49\n",
      "generating acts\n"
     ]
    },
    {
     "name": "stderr",
     "output_type": "stream",
     "text": [
      "100%|██████████| 1000/1000 [01:03<00:00, 15.87it/s]\n",
      " 91%|█████████ | 29/32 [30:50<03:13, 64.55s/it]"
     ]
    },
    {
     "name": "stdout",
     "output_type": "stream",
     "text": [
      "Stored at patched_MS_vicuna7b_1000\n",
      "proportion of positive labels is 0.49\n",
      "generating acts\n"
     ]
    },
    {
     "name": "stderr",
     "output_type": "stream",
     "text": [
      "100%|██████████| 1000/1000 [01:03<00:00, 15.79it/s]\n",
      " 94%|█████████▍| 30/32 [31:55<02:09, 64.59s/it]"
     ]
    },
    {
     "name": "stdout",
     "output_type": "stream",
     "text": [
      "Stored at patched_MS_vicuna7b_1000\n",
      "proportion of positive labels is 0.49\n",
      "generating acts\n"
     ]
    },
    {
     "name": "stderr",
     "output_type": "stream",
     "text": [
      "100%|██████████| 1000/1000 [01:02<00:00, 15.94it/s]\n",
      " 97%|█████████▋| 31/32 [32:59<01:04, 64.44s/it]"
     ]
    },
    {
     "name": "stdout",
     "output_type": "stream",
     "text": [
      "Stored at patched_MS_vicuna7b_1000\n",
      "proportion of positive labels is 0.49\n",
      "generating acts\n"
     ]
    },
    {
     "name": "stderr",
     "output_type": "stream",
     "text": [
      "100%|██████████| 1000/1000 [01:03<00:00, 15.85it/s]\n",
      "100%|██████████| 32/32 [34:03<00:00, 63.86s/it]"
     ]
    },
    {
     "name": "stdout",
     "output_type": "stream",
     "text": [
      "Stored at patched_MS_vicuna7b_1000\n",
      "proportion of positive labels is 0.49\n"
     ]
    },
    {
     "name": "stderr",
     "output_type": "stream",
     "text": [
      "\n"
     ]
    }
   ],
   "source": [
    "from utils.iti_utils import patch_iti\n",
    "dataname = \"MS\"\n",
    "for k in tqdm(k_range):\n",
    "    model.reset_hooks()\n",
    "    patch_iti(model, acts[dataname], topk=k, alpha=alpha, use_MMD=True, model_device='cuda')\n",
    "\n",
    "    patched_acts = ModelActs(model, datasets[dataname], act_types=[\"z\",\"logits\"])\n",
    "    print(\"generating acts\")\n",
    "    patched_acts.gen_acts(N=1000, id=f\"patched_{dataname}_vicuna7b_1000\", indices=acts[dataname].indices)\n",
    "\n",
    "    patched_acts.indices_trains=acts[dataname].indices_trains\n",
    "    patched_acts.indices_tests=acts[dataname].indices_tests\n",
    "\n",
    "    positive_sum, negative_sum = tot_logit_diff(model.tokenizer, patched_acts, use_probs=True, check_balanced_output=False)\n",
    "\n",
    "    regular_patch_accs.append(positive_sum.mean() - negative_sum.mean())"
   ]
  },
  {
   "cell_type": "code",
   "execution_count": 25,
   "metadata": {},
   "outputs": [
    {
     "data": {
      "text/plain": [
       "[tensor(0.4950),\n",
       " tensor(0.5005),\n",
       " tensor(0.4973),\n",
       " tensor(0.4945),\n",
       " tensor(0.4955),\n",
       " tensor(0.4906),\n",
       " tensor(0.4898),\n",
       " tensor(0.4862),\n",
       " tensor(0.4863),\n",
       " tensor(0.4862),\n",
       " tensor(0.4860),\n",
       " tensor(0.4860),\n",
       " tensor(0.4870),\n",
       " tensor(0.4897),\n",
       " tensor(0.4839),\n",
       " tensor(0.4838),\n",
       " tensor(0.4792),\n",
       " tensor(0.4782),\n",
       " tensor(0.4780),\n",
       " tensor(0.4753),\n",
       " tensor(0.4753),\n",
       " tensor(0.4768),\n",
       " tensor(0.4732),\n",
       " tensor(0.4651),\n",
       " tensor(0.4484),\n",
       " tensor(0.4482),\n",
       " tensor(0.4463),\n",
       " tensor(0.4479),\n",
       " tensor(0.4442),\n",
       " tensor(0.4443),\n",
       " tensor(0.4441),\n",
       " tensor(0.4420)]"
      ]
     },
     "execution_count": 25,
     "metadata": {},
     "output_type": "execute_result"
    }
   ],
   "source": [
    "regular_patch_accs"
   ]
  },
  {
   "cell_type": "code",
   "execution_count": 27,
   "metadata": {},
   "outputs": [
    {
     "data": {
      "text/plain": [
       "Text(0, 0.5, 'Correct - Incorrect Label Responses')"
      ]
     },
     "execution_count": 27,
     "metadata": {},
     "output_type": "execute_result"
    },
    {
     "data": {
      "image/png": "[encoded data removed]",
      "text/plain": [
       "<Figure size 432x288 with 1 Axes>"
      ]
     },
     "metadata": {
      "needs_background": "light"
     },
     "output_type": "display_data"
    }
   ],
   "source": [
    "import matplotlib.pyplot as plt\n",
    "\n",
    "plt.scatter(k_range, logit_patch_accs, label=\"Logit Patching\")\n",
    "plt.scatter(k_range, regular_patch_accs, label=\"Regular Patching\")\n",
    "plt.legend()\n",
    "plt.title(\"Model Accuracy after ITI using Logit vs Regular Patching\")\n",
    "plt.xlabel(\"k\")\n",
    "plt.ylabel(\"Correct - Incorrect Label Responses\")"
   ]
  },
  {
   "cell_type": "code",
   "execution_count": null,
   "metadata": {},
   "outputs": [],
   "source": []
  }
 ],
 "metadata": {
  "kernelspec": {
   "display_name": "Python 3",
   "language": "python",
   "name": "python3"
  },
  "language_info": {
   "codemirror_mode": {
    "name": "ipython",
    "version": 3
   },
   "file_extension": ".py",
   "mimetype": "text/x-python",
   "name": "python",
   "nbconvert_exporter": "python",
   "pygments_lexer": "ipython3",
   "version": "3.8.10"
  },
  "orig_nbformat": 4
 },
 "nbformat": 4,
 "nbformat_minor": 2
}
