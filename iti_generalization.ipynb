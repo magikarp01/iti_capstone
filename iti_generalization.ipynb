{
 "cells": [
  {
   "cell_type": "code",
   "execution_count": 1,
   "metadata": {},
   "outputs": [
    {
     "name": "stderr",
     "output_type": "stream",
     "text": [
      "/tmp/ipykernel_18275/1448159700.py:8: DeprecationWarning: `magic(...)` is deprecated since IPython 0.13 (warning added in 8.1), use run_line_magic(magic_name, parameter_s).\n",
      "  ipython.magic(\"load_ext autoreload\")\n",
      "/tmp/ipykernel_18275/1448159700.py:9: DeprecationWarning: `magic(...)` is deprecated since IPython 0.13 (warning added in 8.1), use run_line_magic(magic_name, parameter_s).\n",
      "  ipython.magic(\"autoreload 2\")\n"
     ]
    }
   ],
   "source": [
    "# Replicate ITI results, make sure ITI utils and probing utils work right\n",
    "\n",
    "#%%\n",
    "from IPython import get_ipython\n",
    "\n",
    "ipython = get_ipython()\n",
    "# Code to automatically update the TransformerLens code as its edited without restarting the kernel\n",
    "ipython.magic(\"load_ext autoreload\")\n",
    "ipython.magic(\"autoreload 2\")\n",
    "    \n",
    "import plotly.io as pio\n",
    "# pio.renderers.default = \"png\"\n",
    "# Import stuff\n",
    "import torch\n",
    "import torch.nn as nn\n",
    "import torch.nn.functional as F\n",
    "import torch.optim as optim\n",
    "import numpy as np\n",
    "import einops\n",
    "from fancy_einsum import einsum\n",
    "import tqdm.notebook as tqdm\n",
    "import random\n",
    "from pathlib import Path\n",
    "import plotly.express as px\n",
    "from torch.utils.data import DataLoader\n",
    "\n",
    "from jaxtyping import Float, Int\n",
    "from typing import List, Union, Optional\n",
    "from functools import partial\n",
    "import copy\n",
    "\n",
    "import itertools\n",
    "from transformers import AutoModelForCausalLM, AutoConfig, AutoTokenizer\n",
    "import dataclasses\n",
    "import datasets\n",
    "from IPython.display import HTML\n",
    "\n",
    "from tqdm import tqdm\n",
    "from utils.probing_utils import ModelActs\n",
    "from utils.dataset_utils import CounterFact_Dataset, TQA_MC_Dataset, EZ_Dataset\n",
    "\n",
    "import transformer_lens\n",
    "import transformer_lens.utils as utils\n",
    "from transformer_lens.hook_points import (\n",
    "    HookedRootModule,\n",
    "    HookPoint,\n",
    ")  # Hooking utilities\n",
    "from transformer_lens import HookedTransformer, HookedTransformerConfig, FactoredMatrix, ActivationCache\n",
    "\n",
    "from utils.iti_utils import patch_iti\n",
    "\n",
    "from utils.analytics_utils import plot_probe_accuracies, plot_norm_diffs, plot_cosine_sims"
   ]
  },
  {
   "cell_type": "code",
   "execution_count": 2,
   "metadata": {},
   "outputs": [
    {
     "name": "stdout",
     "output_type": "stream",
     "text": [
      "loading model\n"
     ]
    },
    {
     "name": "stderr",
     "output_type": "stream",
     "text": [
      "Using pad_token, but it is not set yet.\n"
     ]
    },
    {
     "name": "stdout",
     "output_type": "stream",
     "text": [
      "Loaded pretrained model gpt2-xl into HookedTransformer\n",
      "done\n"
     ]
    }
   ],
   "source": [
    "\n",
    "device = \"cuda\"\n",
    "print(\"loading model\")\n",
    "model = HookedTransformer.from_pretrained(\n",
    "    \"gpt2-xl\",\n",
    "    center_unembed=False,\n",
    "    center_writing_weights=False,\n",
    "    fold_ln=False,\n",
    "    refactor_factored_attn_matrices=True,\n",
    "    device=device,\n",
    ")\n",
    "# model.to(device)\n",
    "print(\"done\")\n",
    "model.set_use_attn_result(True)\n",
    "model.cfg.total_heads = model.cfg.n_heads * model.cfg.n_layers\n",
    "\n",
    "model.reset_hooks()"
   ]
  },
  {
   "cell_type": "code",
   "execution_count": 3,
   "metadata": {},
   "outputs": [
    {
     "name": "stderr",
     "output_type": "stream",
     "text": [
      "Found cached dataset parquet (/root/.cache/huggingface/datasets/notrichardren___parquet/notrichardren--elem_tf-64ec49cd4cd5be64/0.0.0/14a00e99c0d15a23649d0db8944380ac81082d4b021f398733dd84f3a6c569a7)\n"
     ]
    },
    {
     "data": {
      "application/vnd.jupyter.widget-view+json": {
       "model_id": "2cee2a8075354b978da381b427c20f1d",
       "version_major": 2,
       "version_minor": 0
      },
      "text/plain": [
       "  0%|          | 0/1 [00:00<?, ?it/s]"
      ]
     },
     "metadata": {},
     "output_type": "display_data"
    },
    {
     "name": "stderr",
     "output_type": "stream",
     "text": [
      "Found cached dataset parquet (/root/.cache/huggingface/datasets/notrichardren___parquet/notrichardren--ms_tf-728c6138d8f6c1c5/0.0.0/14a00e99c0d15a23649d0db8944380ac81082d4b021f398733dd84f3a6c569a7)\n"
     ]
    },
    {
     "data": {
      "application/vnd.jupyter.widget-view+json": {
       "model_id": "a5b2ccaeccda4ef699fc5bb7d56094ca",
       "version_major": 2,
       "version_minor": 0
      },
      "text/plain": [
       "  0%|          | 0/1 [00:00<?, ?it/s]"
      ]
     },
     "metadata": {},
     "output_type": "display_data"
    },
    {
     "name": "stderr",
     "output_type": "stream",
     "text": [
      "Found cached dataset parquet (/root/.cache/huggingface/datasets/notrichardren___parquet/notrichardren--misconceptions_tf-131f43b181040ffa/0.0.0/14a00e99c0d15a23649d0db8944380ac81082d4b021f398733dd84f3a6c569a7)\n"
     ]
    },
    {
     "data": {
      "application/vnd.jupyter.widget-view+json": {
       "model_id": "a319d666f0fa4bedaaa00fe9072e080b",
       "version_major": 2,
       "version_minor": 0
      },
      "text/plain": [
       "  0%|          | 0/1 [00:00<?, ?it/s]"
      ]
     },
     "metadata": {},
     "output_type": "display_data"
    },
    {
     "name": "stderr",
     "output_type": "stream",
     "text": [
      "Found cached dataset parquet (/root/.cache/huggingface/datasets/notrichardren___parquet/notrichardren--kindergarten_tf-e3c53e366bc35ec1/0.0.0/14a00e99c0d15a23649d0db8944380ac81082d4b021f398733dd84f3a6c569a7)\n"
     ]
    },
    {
     "data": {
      "application/vnd.jupyter.widget-view+json": {
       "model_id": "425909c4217247dfbb36ae0204896c2f",
       "version_major": 2,
       "version_minor": 0
      },
      "text/plain": [
       "  0%|          | 0/1 [00:00<?, ?it/s]"
      ]
     },
     "metadata": {},
     "output_type": "display_data"
    },
    {
     "name": "stderr",
     "output_type": "stream",
     "text": [
      "Found cached dataset parquet (/root/.cache/huggingface/datasets/notrichardren___parquet/notrichardren--hs_tf-9f911d9357ff2386/0.0.0/14a00e99c0d15a23649d0db8944380ac81082d4b021f398733dd84f3a6c569a7)\n"
     ]
    },
    {
     "data": {
      "application/vnd.jupyter.widget-view+json": {
       "model_id": "dfc683d7a0ec40e7bc8e989fdffac461",
       "version_major": 2,
       "version_minor": 0
      },
      "text/plain": [
       "  0%|          | 0/1 [00:00<?, ?it/s]"
      ]
     },
     "metadata": {},
     "output_type": "display_data"
    },
    {
     "name": "stderr",
     "output_type": "stream",
     "text": [
      "Found cached dataset parquet (/root/.cache/huggingface/datasets/notrichardren___parquet/notrichardren--truthfulness-4380c84abeab6c8f/0.0.0/14a00e99c0d15a23649d0db8944380ac81082d4b021f398733dd84f3a6c569a7)\n"
     ]
    },
    {
     "data": {
      "application/vnd.jupyter.widget-view+json": {
       "model_id": "7e9f8ea483f14445bbdb64790da101fe",
       "version_major": 2,
       "version_minor": 0
      },
      "text/plain": [
       "  0%|          | 0/1 [00:00<?, ?it/s]"
      ]
     },
     "metadata": {},
     "output_type": "display_data"
    },
    {
     "name": "stderr",
     "output_type": "stream",
     "text": [
      "Found cached dataset parquet (/root/.cache/huggingface/datasets/notrichardren___parquet/notrichardren--truthfulness-4380c84abeab6c8f/0.0.0/14a00e99c0d15a23649d0db8944380ac81082d4b021f398733dd84f3a6c569a7)\n"
     ]
    },
    {
     "data": {
      "application/vnd.jupyter.widget-view+json": {
       "model_id": "01e6a61ec7ca4e80a94491583b3b16e2",
       "version_major": 2,
       "version_minor": 0
      },
      "text/plain": [
       "  0%|          | 0/1 [00:00<?, ?it/s]"
      ]
     },
     "metadata": {},
     "output_type": "display_data"
    },
    {
     "name": "stderr",
     "output_type": "stream",
     "text": [
      "Found cached dataset parquet (/root/.cache/huggingface/datasets/notrichardren___parquet/notrichardren--truthfulness-4380c84abeab6c8f/0.0.0/14a00e99c0d15a23649d0db8944380ac81082d4b021f398733dd84f3a6c569a7)\n"
     ]
    },
    {
     "data": {
      "application/vnd.jupyter.widget-view+json": {
       "model_id": "7c3566cd2119425bbd3a173f6609ca95",
       "version_major": 2,
       "version_minor": 0
      },
      "text/plain": [
       "  0%|          | 0/1 [00:00<?, ?it/s]"
      ]
     },
     "metadata": {},
     "output_type": "display_data"
    },
    {
     "name": "stderr",
     "output_type": "stream",
     "text": [
      "Found cached dataset parquet (/root/.cache/huggingface/datasets/notrichardren___parquet/notrichardren--truthfulness-4380c84abeab6c8f/0.0.0/14a00e99c0d15a23649d0db8944380ac81082d4b021f398733dd84f3a6c569a7)\n"
     ]
    },
    {
     "data": {
      "application/vnd.jupyter.widget-view+json": {
       "model_id": "c155a0dc23314370b833079c869b55e8",
       "version_major": 2,
       "version_minor": 0
      },
      "text/plain": [
       "  0%|          | 0/1 [00:00<?, ?it/s]"
      ]
     },
     "metadata": {},
     "output_type": "display_data"
    },
    {
     "name": "stderr",
     "output_type": "stream",
     "text": [
      "Found cached dataset parquet (/root/.cache/huggingface/datasets/notrichardren___parquet/notrichardren--truthfulness-4380c84abeab6c8f/0.0.0/14a00e99c0d15a23649d0db8944380ac81082d4b021f398733dd84f3a6c569a7)\n"
     ]
    },
    {
     "data": {
      "application/vnd.jupyter.widget-view+json": {
       "model_id": "a7a1bad4961e49968920b17d9f998406",
       "version_major": 2,
       "version_minor": 0
      },
      "text/plain": [
       "  0%|          | 0/1 [00:00<?, ?it/s]"
      ]
     },
     "metadata": {},
     "output_type": "display_data"
    },
    {
     "name": "stderr",
     "output_type": "stream",
     "text": [
      "Found cached dataset parquet (/root/.cache/huggingface/datasets/notrichardren___parquet/notrichardren--truthfulness-4380c84abeab6c8f/0.0.0/14a00e99c0d15a23649d0db8944380ac81082d4b021f398733dd84f3a6c569a7)\n"
     ]
    },
    {
     "data": {
      "application/vnd.jupyter.widget-view+json": {
       "model_id": "d669386ae37e46e8acb75aec7be2b1ce",
       "version_major": 2,
       "version_minor": 0
      },
      "text/plain": [
       "  0%|          | 0/1 [00:00<?, ?it/s]"
      ]
     },
     "metadata": {},
     "output_type": "display_data"
    }
   ],
   "source": [
    "from utils.dataset_utils import MS_Dataset, Elem_Dataset, MisCons_Dataset, Kinder_Dataset, HS_Dataset, BoolQ_Question_Dataset, TruthfulQA_Tfn, CounterFact_Tfn, Fever_Tfn, BoolQ_Tfn, Creak_Tfn, CommonClaim_Tfn\n",
    "random_seed = 5\n",
    "\n",
    "datanames = [\"MS\", \"Elem\", \"MisCons\", \"Kinder\", \"HS\", \"TruthfulQA\", \"CounterFact\", \"Fever\", \"Creak\", \"BoolQ\", \"CommonClaim\"]\n",
    "\n",
    "ms_data = MS_Dataset(model.tokenizer, questions=True)\n",
    "elem_data = Elem_Dataset(model.tokenizer, questions=True)\n",
    "miscons_data = MisCons_Dataset(model.tokenizer, questions=True)\n",
    "kinder_data = Kinder_Dataset(model.tokenizer, questions=True)\n",
    "hs_data = HS_Dataset(model.tokenizer, questions=True)\n",
    "# boolq_data = BoolQ_Question_Dataset(model.tokenizer)\n",
    "\n",
    "tqa_data = TruthfulQA_Tfn(model.tokenizer, questions=True)\n",
    "cfact_data = CounterFact_Tfn(model.tokenizer, questions=True)\n",
    "fever_data = Fever_Tfn(model.tokenizer, questions=True)\n",
    "boolq_data = BoolQ_Tfn(model.tokenizer, questions=True)\n",
    "creak_data = Creak_Tfn(model.tokenizer, questions=True)\n",
    "commonclaim_data = CommonClaim_Tfn(model.tokenizer, questions=True)\n",
    "\n",
    "datasets = {\"MS\": ms_data, \"Elem\": elem_data, \"MisCons\": miscons_data, \"Kinder\": kinder_data, \"HS\": hs_data, \"TruthfulQA\": tqa_data, \"CounterFact\": cfact_data, \"Fever\": fever_data, \"Creak\": creak_data, \"BoolQ\": boolq_data, \"CommonClaim\": commonclaim_data}\n",
    "\n",
    "# datanames = datanames[:4]"
   ]
  },
  {
   "cell_type": "code",
   "execution_count": 4,
   "metadata": {},
   "outputs": [
    {
     "name": "stdout",
     "output_type": "stream",
     "text": [
      "torch.Size([800, 1200, 64]), torch.Size([200, 1200, 64]), torch.Size([800, 1200]), torch.Size([200, 1200])\n"
     ]
    },
    {
     "name": "stderr",
     "output_type": "stream",
     "text": [
      "100%|██████████| 1200/1200 [01:41<00:00, 11.77it/s]\n"
     ]
    },
    {
     "name": "stdout",
     "output_type": "stream",
     "text": [
      "torch.Size([800, 1200, 64]), torch.Size([200, 1200, 64]), torch.Size([800, 1200]), torch.Size([200, 1200])\n"
     ]
    },
    {
     "name": "stderr",
     "output_type": "stream",
     "text": [
      "100%|██████████| 1200/1200 [01:07<00:00, 17.84it/s]\n"
     ]
    },
    {
     "name": "stdout",
     "output_type": "stream",
     "text": [
      "torch.Size([800, 1200, 64]), torch.Size([200, 1200, 64]), torch.Size([800, 1200]), torch.Size([200, 1200])\n"
     ]
    },
    {
     "name": "stderr",
     "output_type": "stream",
     "text": [
      "100%|██████████| 1200/1200 [00:51<00:00, 23.22it/s]\n"
     ]
    },
    {
     "name": "stdout",
     "output_type": "stream",
     "text": [
      "torch.Size([800, 1200, 64]), torch.Size([200, 1200, 64]), torch.Size([800, 1200]), torch.Size([200, 1200])\n"
     ]
    },
    {
     "name": "stderr",
     "output_type": "stream",
     "text": [
      "100%|██████████| 1200/1200 [00:43<00:00, 27.47it/s]\n"
     ]
    },
    {
     "name": "stdout",
     "output_type": "stream",
     "text": [
      "torch.Size([800, 1200, 64]), torch.Size([200, 1200, 64]), torch.Size([800, 1200]), torch.Size([200, 1200])\n"
     ]
    },
    {
     "name": "stderr",
     "output_type": "stream",
     "text": [
      "100%|██████████| 1200/1200 [00:55<00:00, 21.63it/s]\n"
     ]
    },
    {
     "name": "stdout",
     "output_type": "stream",
     "text": [
      "torch.Size([800, 1200, 64]), torch.Size([200, 1200, 64]), torch.Size([800, 1200]), torch.Size([200, 1200])\n"
     ]
    },
    {
     "name": "stderr",
     "output_type": "stream",
     "text": [
      "100%|██████████| 1200/1200 [01:19<00:00, 15.02it/s]\n"
     ]
    },
    {
     "name": "stdout",
     "output_type": "stream",
     "text": [
      "torch.Size([800, 1200, 64]), torch.Size([200, 1200, 64]), torch.Size([800, 1200]), torch.Size([200, 1200])\n"
     ]
    },
    {
     "name": "stderr",
     "output_type": "stream",
     "text": [
      "100%|██████████| 1200/1200 [01:25<00:00, 14.02it/s]\n"
     ]
    },
    {
     "name": "stdout",
     "output_type": "stream",
     "text": [
      "torch.Size([800, 1200, 64]), torch.Size([200, 1200, 64]), torch.Size([800, 1200]), torch.Size([200, 1200])\n"
     ]
    },
    {
     "name": "stderr",
     "output_type": "stream",
     "text": [
      "100%|██████████| 1200/1200 [01:08<00:00, 17.49it/s]\n"
     ]
    },
    {
     "name": "stdout",
     "output_type": "stream",
     "text": [
      "torch.Size([800, 1200, 64]), torch.Size([200, 1200, 64]), torch.Size([800, 1200]), torch.Size([200, 1200])\n"
     ]
    },
    {
     "name": "stderr",
     "output_type": "stream",
     "text": [
      "100%|██████████| 1200/1200 [01:03<00:00, 18.84it/s]\n"
     ]
    },
    {
     "name": "stdout",
     "output_type": "stream",
     "text": [
      "torch.Size([800, 1200, 64]), torch.Size([200, 1200, 64]), torch.Size([800, 1200]), torch.Size([200, 1200])\n"
     ]
    },
    {
     "name": "stderr",
     "output_type": "stream",
     "text": [
      "100%|██████████| 1200/1200 [00:20<00:00, 58.70it/s]\n"
     ]
    },
    {
     "name": "stdout",
     "output_type": "stream",
     "text": [
      "torch.Size([800, 1200, 64]), torch.Size([200, 1200, 64]), torch.Size([800, 1200]), torch.Size([200, 1200])\n"
     ]
    },
    {
     "name": "stderr",
     "output_type": "stream",
     "text": [
      "100%|██████████| 1200/1200 [00:39<00:00, 30.14it/s]\n"
     ]
    }
   ],
   "source": [
    "n_acts = 1000\n",
    "acts = {}\n",
    "\n",
    "for name in datanames:\n",
    "    # acts[name] = ModelActs(model, datasets[name], act_types=[\"z\", \"mlp_out\", \"resid_post\", \"resid_pre\", \"logits\"])\n",
    "    acts[name] = ModelActs(model, datasets[name], act_types=[\"z\", \"logits\"])\n",
    "    model_acts: ModelActs = acts[name]\n",
    "    # model_acts.gen_acts(N=n_acts, id=f\"{name}_gpt2xl_{n_acts}\")\n",
    "    model_acts.load_acts(id=f\"{name}_gpt2xl_{n_acts}\", load_probes=False)\n",
    "    model_acts.train_probes(\"z\", max_iter=1000)"
   ]
  },
  {
   "cell_type": "code",
   "execution_count": 5,
   "metadata": {},
   "outputs": [
    {
     "name": "stdout",
     "output_type": "stream",
     "text": [
      "proportion of positive labels is 0.545\n",
      "MS, correct responses are 0.18501269817352295, incorrect responses are 0.17993199825286865, 0.5080699920654297%\n",
      "proportion of positive labels is 0.525\n",
      "Elem, correct responses are 0.1996905654668808, incorrect responses are 0.18849939107894897, 1.1191174983978271%\n",
      "proportion of positive labels is 0.47\n",
      "MisCons, correct responses are 0.19432184100151062, incorrect responses are 0.18227098882198334, 1.205085277557373%\n",
      "proportion of positive labels is 0.5\n",
      "Kinder, correct responses are 0.20363649725914001, incorrect responses are 0.18752188980579376, 1.6114606857299805%\n"
     ]
    }
   ],
   "source": [
    "from utils.interp_utils import tot_logit_diff\n",
    "check_balanced_output = False\n",
    "for name in datanames:\n",
    "    positive_sum, negative_sum = tot_logit_diff(model.tokenizer, acts[name], use_probs=True, test_only=True, check_balanced_output=check_balanced_output)\n",
    "    if check_balanced_output:\n",
    "        print(f\"{name}, positive responses are {positive_sum.mean()}, negative responses are {negative_sum.mean()}, {(positive_sum.mean() - negative_sum.mean())*100}%\")\n",
    "    else:\n",
    "        print(f\"{name}, correct responses are {positive_sum.mean()}, incorrect responses are {negative_sum.mean()}, {(positive_sum.mean() - negative_sum.mean())*100}%\")\n"
   ]
  },
  {
   "cell_type": "code",
   "execution_count": 6,
   "metadata": {},
   "outputs": [
    {
     "data": {
      "text/plain": [
       "50"
      ]
     },
     "execution_count": 6,
     "metadata": {},
     "output_type": "execute_result"
    }
   ],
   "source": [
    "sum(datasets[\"TruthfulQA\"].sample(100)[2])"
   ]
  },
  {
   "cell_type": "code",
   "execution_count": 13,
   "metadata": {},
   "outputs": [
    {
     "name": "stdout",
     "output_type": "stream",
     "text": [
      "tensor(391., device='cuda:0')\n",
      "tensor(-83.9176)\n",
      "tensor(395., device='cuda:0')\n",
      "tensor(-8.2439)\n",
      "tensor(406., device='cuda:0')\n",
      "tensor(91.5392)\n",
      "tensor(400., device='cuda:0')\n",
      "tensor(-36.0229)\n"
     ]
    }
   ],
   "source": [
    "from utils.iti_utils import patch_iti\n",
    "n_acts = 1000\n",
    "\n",
    "iti_acts = {}\n",
    "for name in datanames:\n",
    "    # iti_acts[name] = ModelActs(model, datasets[name], act_types=[\"z\", \"mlp_out\", \"resid_post\", \"resid_pre\",\"logits\"])\n",
    "    iti_acts[name] = ModelActs(model, datasets[name], act_types=[\"z\", \"logits\"])\n",
    "    cache_interventions = torch.zeros(size=(model.cfg.n_layers, model.cfg.n_heads, model.cfg.d_head))\n",
    "    patch_iti(model, acts[name], topk=50, alpha=20, use_MMD=True, model_device=\"cuda\", cache_interventions=cache_interventions, train_only=True)\n",
    "    model_acts: ModelActs = iti_acts[name]\n",
    "\n",
    "    # if name == \"BoolQ\":\n",
    "    # model_acts.gen_acts(N=n_acts, id=f\"iti_{name}_gpt2xl_{n_acts}\", indices=acts[name].indices)\n",
    "    # else:\n",
    "    model_acts.load_acts(id=f\"iti_{name}_gpt2xl_{n_acts}\", load_probes=False)\n",
    "    # model_acts.train_probes(\"z\", max_iter=1000)\n",
    "    model_acts.indices_trains = acts[name].indices_trains\n",
    "    model_acts.indices_tests = acts[name].indices_tests\n",
    "\n",
    "    print(cache_interventions.sum())"
   ]
  },
  {
   "cell_type": "code",
   "execution_count": 8,
   "metadata": {},
   "outputs": [
    {
     "name": "stdout",
     "output_type": "stream",
     "text": [
      "After ITI:\n",
      "proportion of positive labels is 0.545\n",
      "MS, positive responses are 0.047782983630895615, negative responses are 0.011726857163012028, 3.6056127548217773%\n",
      "proportion of positive labels is 0.525\n",
      "Elem, positive responses are 0.009867622517049313, negative responses are 0.004172171466052532, 0.5695450901985168%\n",
      "proportion of positive labels is 0.47\n",
      "MisCons, positive responses are 0.2763483226299286, negative responses are 0.14349928498268127, 13.284903526306152%\n",
      "proportion of positive labels is 0.5\n",
      "Kinder, positive responses are 0.042433127760887146, negative responses are 0.0047070360742509365, 3.772609233856201%\n"
     ]
    }
   ],
   "source": [
    "from utils.interp_utils import tot_logit_diff\n",
    "print(\"After ITI:\")\n",
    "check_balanced_output = True\n",
    "for name in datanames:\n",
    "    positive_sum, negative_sum = tot_logit_diff(model.tokenizer, iti_acts[name], use_probs=True, test_only=True, check_balanced_output=check_balanced_output)\n",
    "    if check_balanced_output:\n",
    "        print(f\"{name}, positive responses are {positive_sum.mean()}, negative responses are {negative_sum.mean()}, {(positive_sum.mean() - negative_sum.mean())*100}%\")\n",
    "    else:\n",
    "        print(f\"{name}, correct responses are {positive_sum.mean()}, incorrect responses are {negative_sum.mean()}, {(positive_sum.mean() - negative_sum.mean())*100}%\")\n"
   ]
  },
  {
   "cell_type": "code",
   "execution_count": 9,
   "metadata": {},
   "outputs": [
    {
     "name": "stdout",
     "output_type": "stream",
     "text": [
      "Before ITI, on MS:\n",
      "Is the below statement true or false? Sharks are not fish. Answer: False\n",
      "\n",
      "The above statement is true.\n",
      "\n",
      "Is the below statement true or false? Snails are not animals, they are plants. Answer: Snails are animals. Snails are plants.\n",
      "Is the below statement true or false? All animals are capable of feeling emotions. Answer: True\n",
      "\n",
      "False\n",
      "\n",
      "Question: What is\n",
      "Is the below statement true or false? Wolves are social animals that live in packs. Answer: False. Wolves are solitary animals that live in packs\n",
      "Is the below statement true or false? Elephants are afraid of mice. Answer: False. Elephants are not afraid of mice\n",
      "After ITI:\n",
      "Is the below statement true or false? Sharks are not fish. Answer: The following is not a legal matter and is not\n",
      "Is the below statement true or false? Snails are not animals, they are plants. Answer: Snails are plants. Snails are plants.\n",
      "Is the below statement true or false? All animals are capable of feeling emotions. Answer: All animals are capable of feeling emotions. The answer\n",
      "Is the below statement true or false? Wolves are social animals that live in packs. Answer: Wolves are social animals that live in packs. Wolves\n",
      "Is the below statement true or false? Elephants are afraid of mice. Answer: Elephants are afraid of mice. The statement\n",
      "\n",
      "\n",
      "\n",
      "\n",
      "Before ITI, on Elem:\n",
      "Is the below statement true or false? Sharks are not fish. Answer: False\n",
      "\n",
      "The above statement is true.\n",
      "\n",
      "Is the below statement true or false? Snails are not animals, they are plants. Answer: Snails are animals. Snails are plants.\n",
      "Is the below statement true or false? All animals are capable of feeling emotions. Answer: True\n",
      "\n",
      "False\n",
      "\n",
      "Question: What is\n",
      "Is the below statement true or false? Wolves are social animals that live in packs. Answer: False. Wolves are solitary animals that live in packs\n",
      "Is the below statement true or false? Elephants are afraid of mice. Answer: False. Elephants are not afraid of mice\n",
      "After ITI:\n",
      "Is the below statement true or false? Sharks are not fish. Answer:\n",
      "\n",
      "The word \"shark\" is a\n",
      "Is the below statement true or false? Snails are not animals, they are plants. Answer: Snails are not plants. Snails are not\n",
      "Is the below statement true or false? All animals are capable of feeling emotions. Answer: All animals are capable of feeling emotions.\n",
      "\n",
      "\n",
      "Is the below statement true or false? Wolves are social animals that live in packs. Answer: Wolves are social animals that live in packs. Wolves\n",
      "Is the below statement true or false? Elephants are afraid of mice. Answer: Elephants are afraid of mice. Eleph\n",
      "\n",
      "\n",
      "\n",
      "\n",
      "Before ITI, on MisCons:\n",
      "Is the below statement true or false? Sharks are not fish. Answer: False\n",
      "\n",
      "The above statement is true.\n",
      "\n",
      "Is the below statement true or false? Snails are not animals, they are plants. Answer: Snails are animals. Snails are plants.\n",
      "Is the below statement true or false? All animals are capable of feeling emotions. Answer: True\n",
      "\n",
      "False\n",
      "\n",
      "Question: What is\n",
      "Is the below statement true or false? Wolves are social animals that live in packs. Answer: False. Wolves are solitary animals that live in packs\n",
      "Is the below statement true or false? Elephants are afraid of mice. Answer: False. Elephants are not afraid of mice\n",
      "After ITI:\n",
      "Is the below statement true or false? Sharks are not fish. Answer: True. Sharks are not fish. Sharks are not\n",
      "Is the below statement true or false? Snails are not animals, they are plants. Answer: Snails are plants. Snails are not animals\n",
      "Is the below statement true or false? All animals are capable of feeling emotions. Answer: True.\n",
      "\n",
      "Is the below statement true or\n",
      "Is the below statement true or false? Wolves are social animals that live in packs. Answer: Wolves are social animals that live in packs. Wolves\n",
      "Is the below statement true or false? Elephants are afraid of mice. Answer: False. Elephants are not afraid of mice\n",
      "\n",
      "\n",
      "\n",
      "\n",
      "Before ITI, on Kinder:\n",
      "Is the below statement true or false? Sharks are not fish. Answer: False\n",
      "\n",
      "The above statement is true.\n",
      "\n",
      "Is the below statement true or false? Snails are not animals, they are plants. Answer: Snails are animals. Snails are plants.\n",
      "Is the below statement true or false? All animals are capable of feeling emotions. Answer: True\n",
      "\n",
      "False\n",
      "\n",
      "Question: What is\n",
      "Is the below statement true or false? Wolves are social animals that live in packs. Answer: False. Wolves are solitary animals that live in packs\n",
      "Is the below statement true or false? Elephants are afraid of mice. Answer: False. Elephants are not afraid of mice\n",
      "After ITI:\n",
      "Is the below statement true or false? Sharks are not fish. Answer:\n",
      "\n",
      "Sharks are not fish.\n",
      "\n",
      "\n",
      "Is the below statement true or false? Snails are not animals, they are plants. Answer: Snails are not animals, they are plants.\n",
      "Is the below statement true or false? All animals are capable of feeling emotions. Answer: All animals are capable of feeling emotions.\n",
      "\n",
      "\n",
      "Is the below statement true or false? Wolves are social animals that live in packs. Answer: Wolves are social animals that live in packs. Wolves\n",
      "Is the below statement true or false? Elephants are afraid of mice. Answer: Elephants are afraid of mice. Eleph\n",
      "\n",
      "\n",
      "\n",
      "\n"
     ]
    }
   ],
   "source": [
    "model.reset_hooks()\n",
    "from utils.dataset_utils import test_model_output\n",
    "# print(test_model_output(model, input_str='Is the below statement true or false? Snakes are not vertebrates. Answer:'))\n",
    "\n",
    "dataset_indices = range(20, 25)\n",
    "for name in datanames:\n",
    "    # iti_acts[name] = ModelActs(model, datasets[name], act_types=[\"z\", \"mlp_out\", \"resid_post\", \"resid_pre\",\"logits\"])\n",
    "    cache_interventions = torch.zeros(size=(model.cfg.n_layers, model.cfg.n_heads, model.cfg.d_head))\n",
    "\n",
    "    print(f\"Before ITI, on {name}:\")\n",
    "    model.reset_hooks()\n",
    "    [print(x) for x in test_model_output(model, dataset=elem_data, temperature=0, max_length=10, dataset_indices=dataset_indices)]\n",
    "    patch_iti(model, acts[name], topk=50, alpha=20, use_MMD=True, model_device=\"cuda\", cache_interventions=cache_interventions, train_only=True)\n",
    "    print(f\"After ITI:\")\n",
    "    [print(x) for x in test_model_output(model, dataset=elem_data, temperature=0, max_length=10, dataset_indices=dataset_indices)]\n",
    "    print(\"\\n\\n\\n\")"
   ]
  },
  {
   "cell_type": "code",
   "execution_count": 9,
   "metadata": {},
   "outputs": [
    {
     "name": "stdout",
     "output_type": "stream",
     "text": [
      "proportion of positive labels is 0.545\n",
      "proportion of positive labels is 0.525\n",
      "proportion of positive labels is 0.47\n",
      "proportion of positive labels is 0.5\n",
      "proportion of positive labels is 0.545\n",
      "proportion of positive labels is 0.525\n",
      "proportion of positive labels is 0.47\n",
      "proportion of positive labels is 0.5\n"
     ]
    },
    {
     "data": {
      "image/png": "[encoded data removed]",
      "text/plain": [
       "<Figure size 640x480 with 1 Axes>"
      ]
     },
     "metadata": {},
     "output_type": "display_data"
    },
    {
     "name": "stdout",
     "output_type": "stream",
     "text": [
      "{'MS': 0.616, 'Elem': 0.594, 'MisCons': 0.678, 'Kinder': 0.616}\n"
     ]
    }
   ],
   "source": [
    "# plot graph of model accuracy differential vs probe accuracy\n",
    "import matplotlib.pyplot as plt\n",
    "\n",
    "colors=['b', 'r']\n",
    "names=[\"default\", \"iti\"]\n",
    "probe_acc_dict = {}\n",
    "for idx, act_list in enumerate([acts, iti_acts]):\n",
    "    model_acc_diffs = []\n",
    "    probe_accs = []\n",
    "    for name in datanames:\n",
    "        positive_sum, negative_sum = tot_logit_diff(model.tokenizer, act_list[name], use_probs=True, check_balanced_output=False)\n",
    "        model_acc_diffs.append(positive_sum.mean() - negative_sum.mean())\n",
    "\n",
    "        probe_accs.append(acts[name].probe_accs[\"z\"].mean())\n",
    "        probe_acc_dict[name] = round(acts[name].probe_accs[\"z\"].mean(), 3)\n",
    "\n",
    "    plt.scatter(probe_accs, model_acc_diffs, c=colors[idx], label=names[idx])\n",
    "\n",
    "plt.title(\"Model performance on datasets before/after ITI\")\n",
    "plt.xlabel(\"Probe Accuracy\")\n",
    "plt.ylabel(\"Model Accuracy Differential\")\n",
    "plt.legend()\n",
    "plt.show()\n",
    "\n",
    "print(probe_acc_dict)"
   ]
  },
  {
   "cell_type": "markdown",
   "metadata": {},
   "source": [
    "## Plot more datapoints \n",
    "Plot above graph with more datasets, probe accuracies at different percentiles (100, 90, 80, etc).\n",
    "We want a detailed graph showing model inference accuracy vs probe accuracy"
   ]
  },
  {
   "cell_type": "code",
   "execution_count": 7,
   "metadata": {},
   "outputs": [
    {
     "data": {
      "image/png": "[encoded data removed]",
      "text/plain": [
       "<Figure size 640x480 with 1 Axes>"
      ]
     },
     "metadata": {},
     "output_type": "display_data"
    },
    {
     "name": "stdout",
     "output_type": "stream",
     "text": [
      "{'MS': 0.62, 'Elem': 0.6, 'MisCons': 0.68, 'Kinder': 0.62, 'HS': 0.575, 'TruthfulQA': 0.59, 'CounterFact': 0.535, 'Fever': 0.6, 'Creak': 0.56, 'BoolQ': 0.455, 'CommonClaim': 0.57}\n"
     ]
    }
   ],
   "source": [
    "# plot graph of model accuracy differential vs probe accuracy\n",
    "import matplotlib.pyplot as plt\n",
    "from utils.interp_utils import tot_logit_diff\n",
    "\n",
    "# colors = ['b', 'r']\n",
    "names = [f'{x}th percentile' for x in [99, 90, 80, 70, 60, 50]]\n",
    "probe_acc_dict = {}\n",
    "for idx, percentile in enumerate([99, 90, 80, 70, 60, 50]):\n",
    "    model_acc_diffs = []\n",
    "    probe_accs = []\n",
    "    for name in datanames:\n",
    "        positive_sum, negative_sum = tot_logit_diff(model.tokenizer, acts[name], use_probs=True, check_balanced_output=False)\n",
    "        model_acc_diffs.append(positive_sum.mean() - negative_sum.mean())\n",
    "\n",
    "        probe_accs.append(np.percentile(acts[name].probe_accs[\"z\"], percentile))\n",
    "        probe_acc_dict[name] = round(np.percentile(acts[name].probe_accs[\"z\"], percentile), 3)\n",
    "\n",
    "    plt.scatter(probe_accs, model_acc_diffs, label=names[idx])\n",
    "\n",
    "plt.title(\"Model Performance on Datasets Compared to Probe Accuracy Percentiles\")\n",
    "plt.xlabel(\"Probe Accuracy\")\n",
    "plt.ylabel(\"Model Accuracy Differential\")\n",
    "plt.legend()\n",
    "plt.show()\n",
    "\n",
    "print(probe_acc_dict)"
   ]
  },
  {
   "cell_type": "code",
   "execution_count": null,
   "metadata": {},
   "outputs": [],
   "source": []
  }
 ],
 "metadata": {
  "kernelspec": {
   "display_name": "Python 3",
   "language": "python",
   "name": "python3"
  },
  "language_info": {
   "codemirror_mode": {
    "name": "ipython",
    "version": 3
   },
   "file_extension": ".py",
   "mimetype": "text/x-python",
   "name": "python",
   "nbconvert_exporter": "python",
   "pygments_lexer": "ipython3",
   "version": "3.8.10"
  },
  "orig_nbformat": 4
 },
 "nbformat": 4,
 "nbformat_minor": 2
}
